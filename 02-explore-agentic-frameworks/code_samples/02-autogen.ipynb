{
 "cells": [
  {
   "cell_type": "markdown",
   "metadata": {},
   "source": [
    "# AutoGen Basic Sample \n",
    "\n",
    "In this code sample, you will use the [AutoGen](https://aka.ms/ai-agents/autogen) AI Framework to create a basic agent. \n",
    "\n",
    "The goal of this sample is to show you the steps that we will later use in the additional code samples when implementing the different agentic patterns. "
   ]
  },
  {
   "cell_type": "markdown",
   "metadata": {},
   "source": [
    "## Import the Needed Python Packages "
   ]
  },
  {
   "cell_type": "code",
   "execution_count": 1,
   "metadata": {},
   "outputs": [],
   "source": [
    "import os\n",
    "from dotenv import load_dotenv\n",
    "\n",
    "from autogen_agentchat.agents import AssistantAgent\n",
    "from autogen_core.models import UserMessage\n",
    "from autogen_ext.models.azure import AzureAIChatCompletionClient\n",
    "from azure.core.credentials import AzureKeyCredential\n",
    "from autogen_core import CancellationToken\n",
    "\n",
    "from autogen_agentchat.messages import TextMessage\n",
    "from autogen_agentchat.ui import Console\n"
   ]
  },
  {
   "cell_type": "markdown",
   "metadata": {},
   "source": [
    "## Create the Client \n",
    "\n",
    "In this sample, we will use [GitHub Models](https://aka.ms/ai-agents-beginners/github-models) for access to the LLM. \n",
    "\n",
    "The `model` is defined as `gpt-4o-mini`. Try changing the model to another model available on the GitHub Models marketplace to see the different results. \n",
    "\n",
    "As a quick test, we will just run a simple prompt - `What is the capital of France`. "
   ]
  },
  {
   "cell_type": "code",
   "execution_count": 2,
   "metadata": {},
   "outputs": [
    {
     "name": "stderr",
     "output_type": "stream",
     "text": [
      "/Users/tchase/Documents/repos/ai-agents-for-beginners/.venv/lib/python3.12/site-packages/autogen_ext/models/azure/_azure_ai_client.py:307: UserWarning: Missing required field 'structured_output' in ModelInfo. This field will be required in a future version of AutoGen.\n",
      "  validate_model_info(config[\"model_info\"])\n"
     ]
    },
    {
     "name": "stdout",
     "output_type": "stream",
     "text": [
      "finish_reason='stop' content='The capital of France is Paris.' usage=RequestUsage(prompt_tokens=14, completion_tokens=8) cached=False logprobs=None thought=None\n"
     ]
    }
   ],
   "source": [
    "load_dotenv()\n",
    "client = AzureAIChatCompletionClient(\n",
    "    model=\"gpt-4o-mini\",\n",
    "    endpoint=\"https://models.inference.ai.azure.com\",\n",
    "    # To authenticate with the model you will need to generate a personal access token (PAT) in your GitHub settings.\n",
    "    # Create your PAT token by following instructions here: https://docs.github.com/en/authentication/keeping-your-account-and-data-secure/managing-your-personal-access-tokens\n",
    "    credential=AzureKeyCredential(os.getenv(\"GITHUB_TOKEN\")),\n",
    "    model_info={\n",
    "        \"json_output\": True,\n",
    "        \"function_calling\": True,\n",
    "        \"vision\": True,\n",
    "        \"family\": \"unknown\",\n",
    "    },\n",
    ")\n",
    "\n",
    "result = await client.create([UserMessage(content=\"What is the capital of France?\", source=\"user\")])\n",
    "print(result)"
   ]
  },
  {
   "cell_type": "markdown",
   "metadata": {},
   "source": [
    "## Defining the Agent \n",
    "\n",
    "Now that we have set up the `client` and confirmed that it is working, let us create an `AssistantAgent`. Each agent can be assigned a: \n",
    "**name** - A short hand name that will be useful in referencing it in multi-agent flows. \n",
    "**model_client** - The client that you created in the earlier step. \n",
    "**tools** - Available tools that the Agent can use to complete a task.\n",
    "**system_message** - The metaprompt that defines the task, behavior and tone of the LLM. \n",
    "\n",
    "You can change the system message to see how the LLM responds. We will cover `tools` in Lesson #4. \n"
   ]
  },
  {
   "cell_type": "code",
   "execution_count": 3,
   "metadata": {},
   "outputs": [],
   "source": [
    "agent = AssistantAgent(\n",
    "    name=\"assistant\",\n",
    "    model_client=client,\n",
    "    tools=[],\n",
    "    system_message=\"You are a travel agent that plans great vacations\",\n",
    ")"
   ]
  },
  {
   "cell_type": "markdown",
   "metadata": {},
   "source": [
    "## Run the Agent \n",
    "\n",
    "The below function will run the agent. We use the the `on_message` method to update the Agent's state with the new message. \n",
    "\n",
    "In this case, we update the state with a new message from the user which is `\"Plan me a great sunny vacation\"`.\n",
    "\n",
    "You can change the message content to see how the LLM responds differently. "
   ]
  },
  {
   "cell_type": "code",
   "execution_count": 4,
   "metadata": {},
   "outputs": [
    {
     "data": {
      "text/html": [
       "<div style='margin-bottom:10px'><div style='font-weight:bold'>User:</div><div style='margin-left:20px'>Plan me a great sunny vacation</div></div><div style='margin-bottom:20px'><div style='font-weight:bold'>Assistant:</div><div style='margin-left:20px; white-space:pre-wrap'>Absolutely! Here's a sunny vacation plan for you that balances relaxation and adventure while soaking in some beautiful sunshine.\n",
       "\n",
       "### Destination: The Maldives\n",
       "\n",
       "#### Duration: 7 Days / 6 Nights\n",
       "\n",
       "**Day 1: Arrival in Malé**\n",
       "- **Flight:** Arrive at Velana International Airport (MLE) and transfer to your luxury resort via a scenic seaplane ride.\n",
       "- **Accommodation:** Check-in at a beachfront villa or an overwater bungalow at one of the top resorts, such as Soneva Fushi, Anantara Veli, or Conrad Maldives Rangali Island.\n",
       "- **Evening:** Enjoy a welcome dinner on the beach under the stars.\n",
       "\n",
       "**Day 2: Relaxation at the Resort**\n",
       "- **Morning:** Have breakfast at the resort, followed by a morning swim in the crystal-clear waters.\n",
       "- **Afternoon:** Treat yourself to a spa day with a traditional Maldivian massage.\n",
       "- **Evening:** Attend a sunset cocktail hour at the beach bar.\n",
       "\n",
       "**Day 3: Snorkeling Adventure**\n",
       "- **Morning to Afternoon:** Join a snorkeling excursion. Explore vibrant coral reefs and meet colorful marine life such as turtles, stingrays, and tropical fish.\n",
       "- **Lunch:** Picnic lunch on a secluded sandbank.\n",
       "- **Evening:** Dinner with a local Maldivian cuisine theme.\n",
       "\n",
       "**Day 4: Explore Local Culture**\n",
       "- **Morning:** Take a guided cultural tour of a nearby local island (like Maafushi or Guraidhoo). Learn about the culture, traditions, and daily life of the Maldivian people.\n",
       "- **Afternoon:** Return to the resort for relaxation; maybe take a yoga class or enjoy some time at the infinity pool.\n",
       "- **Evening:** Experience a traditional Maldivian night with food and music.\n",
       "\n",
       "**Day 5: Water Sports Day**\n",
       "- **Morning:** Enjoy water sports such as kayaking, paddleboarding, or jet skiing.\n",
       "- **Afternoon:** Try diving at one of the nearby dive sites; beginners may opt for a dive lesson.\n",
       "- **Evening:** Have dinner at a specialty restaurant featuring fresh seafood.\n",
       "\n",
       "**Day 6: Private Island Experience**\n",
       "- **All Day:** Charter a private yacht for the day. Explore deserted islands, go picnicking on a sandbank, and swim in secluded lagoons.\n",
       "- **Evening:** Return to the resort for a farewell dinner, perhaps including a beach BBQ or seafood feast.\n",
       "\n",
       "**Day 7: Departure**\n",
       "- **Morning:** Enjoy a leisurely breakfast and spend your last few hours soaking up the sun on the beach or by the pool.\n",
       "- **Afternoon:** Transfer back to Malé for your flight home.\n",
       "\n",
       "### Tips:\n",
       "- **Best Time to Visit:** November to April for the driest weather.\n",
       "- **Packing List:** Swimwear, lightweight clothing, sunblock, a hat, sunglasses, and snorkeling gear (if you have your own).\n",
       "- **Travel Requirements:** Check visa requirements based on your nationality and any health advisories.\n",
       "\n",
       "Let me know if you'd like adjustments or assistance with bookings!</div></div>"
      ],
      "text/plain": [
       "<IPython.core.display.HTML object>"
      ]
     },
     "metadata": {},
     "output_type": "display_data"
    }
   ],
   "source": [
    "from IPython.display import display, HTML\n",
    "\n",
    "\n",
    "async def assistant_run():\n",
    "    # Define the query\n",
    "    user_query = \"Plan me a great sunny vacation\"\n",
    "\n",
    "    # Start building HTML output\n",
    "    html_output = \"<div style='margin-bottom:10px'>\"\n",
    "    html_output += \"<div style='font-weight:bold'>User:</div>\"\n",
    "    html_output += f\"<div style='margin-left:20px'>{user_query}</div>\"\n",
    "    html_output += \"</div>\"\n",
    "\n",
    "    # Execute the agent response\n",
    "    response = await agent.on_messages(\n",
    "        [TextMessage(content=user_query, source=\"user\")],\n",
    "        cancellation_token=CancellationToken(),\n",
    "    )\n",
    "\n",
    "    # Add agent response to HTML\n",
    "    html_output += \"<div style='margin-bottom:20px'>\"\n",
    "    html_output += \"<div style='font-weight:bold'>Assistant:</div>\"\n",
    "    html_output += f\"<div style='margin-left:20px; white-space:pre-wrap'>{response.chat_message.content}</div>\"\n",
    "    html_output += \"</div>\"\n",
    "\n",
    "    # Display formatted HTML\n",
    "    display(HTML(html_output))\n",
    "\n",
    "# Run the function\n",
    "await assistant_run()"
   ]
  },
  {
   "cell_type": "code",
   "execution_count": null,
   "metadata": {},
   "outputs": [],
   "source": []
  }
 ],
 "metadata": {
  "kernelspec": {
   "display_name": "ai-agents-for-beginners",
   "language": "python",
   "name": "python3"
  },
  "language_info": {
   "codemirror_mode": {
    "name": "ipython",
    "version": 3
   },
   "file_extension": ".py",
   "mimetype": "text/x-python",
   "name": "python",
   "nbconvert_exporter": "python",
   "pygments_lexer": "ipython3",
   "version": "3.12.10"
  }
 },
 "nbformat": 4,
 "nbformat_minor": 2
}
