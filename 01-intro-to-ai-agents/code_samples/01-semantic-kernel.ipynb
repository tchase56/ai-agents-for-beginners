{
 "cells": [
  {
   "cell_type": "markdown",
   "metadata": {},
   "source": [
    "# Semantic Kernel \n",
    "\n",
    "In this code sample, you will use the [Semantic Kernel](https://aka.ms/ai-agents-beginners/semantic-kernel) AI Framework to create a basic agent. \n",
    "\n",
    "The goal of this sample is to show you the steps that we will later use in the additional code samples when implementing the different agentic patterns. "
   ]
  },
  {
   "cell_type": "markdown",
   "metadata": {},
   "source": [
    "## Import the Needed Python Packages "
   ]
  },
  {
   "cell_type": "code",
   "execution_count": 1,
   "metadata": {},
   "outputs": [],
   "source": [
    "import os \n",
    "from typing import Annotated\n",
    "from openai import AsyncOpenAI\n",
    "\n",
    "from dotenv import load_dotenv\n",
    "\n",
    "from semantic_kernel.agents import ChatCompletionAgent, ChatHistoryAgentThread\n",
    "from semantic_kernel.connectors.ai.open_ai import OpenAIChatCompletion\n",
    "from semantic_kernel.functions import kernel_function"
   ]
  },
  {
   "cell_type": "markdown",
   "metadata": {},
   "source": [
    "## Creating the Client\n",
    "\n",
    "In this sample, we will use [GitHub Models](https://aka.ms/ai-agents-beginners/github-models) for access to the LLM. \n",
    "\n",
    "The `ai_model_id` is defined as `gpt-4o-mini`. Try changing the model to another model available on the GitHub Models marketplace to see the different results. \n",
    "\n",
    "For us to use the `Azure Inference SDK` that is used for the `base_url` for GitHub Models, we will use the `OpenAIChatCompletion` connector within Semantic Kernel. There are also other [available connectors](https://learn.microsoft.com/semantic-kernel/concepts/ai-services/chat-completion) to use Semantic Kernel for other model providers."
   ]
  },
  {
   "cell_type": "code",
   "execution_count": 2,
   "metadata": {},
   "outputs": [],
   "source": [
    "import random   \n",
    "\n",
    "# Define a sample plugin for the sample\n",
    "\n",
    "class DestinationsPlugin:\n",
    "    \"\"\"A List of Random Destinations for a vacation.\"\"\"\n",
    "\n",
    "    def __init__(self):\n",
    "        # List of vacation destinations\n",
    "        self.destinations = [\n",
    "            \"Barcelona, Spain\",\n",
    "            \"Paris, France\",\n",
    "            \"Berlin, Germany\",\n",
    "            \"Tokyo, Japan\",\n",
    "            \"Sydney, Australia\",\n",
    "            \"New York, USA\",\n",
    "            \"Cairo, Egypt\",\n",
    "            \"Cape Town, South Africa\",\n",
    "            \"Rio de Janeiro, Brazil\",\n",
    "            \"Bali, Indonesia\"\n",
    "        ]\n",
    "        # Track last destination to avoid repeats\n",
    "        self.last_destination = None\n",
    "\n",
    "    @kernel_function(description=\"Provides a random vacation destination.\")\n",
    "    def get_random_destination(self) -> Annotated[str, \"Returns a random vacation destination.\"]:\n",
    "        # Get available destinations (excluding last one if possible)\n",
    "        available_destinations = self.destinations.copy()\n",
    "        if self.last_destination and len(available_destinations) > 1:\n",
    "            available_destinations.remove(self.last_destination)\n",
    "\n",
    "        # Select a random destination\n",
    "        destination = random.choice(available_destinations)\n",
    "\n",
    "        # Update the last destination\n",
    "        self.last_destination = destination\n",
    "\n",
    "        return destination"
   ]
  },
  {
   "cell_type": "code",
   "execution_count": 3,
   "metadata": {},
   "outputs": [],
   "source": [
    "load_dotenv()\n",
    "client = AsyncOpenAI(\n",
    "    api_key=os.environ.get(\"GITHUB_TOKEN\"), \n",
    "    base_url=\"https://models.inference.ai.azure.com/\",\n",
    ")\n",
    "\n",
    "# Create an AI Service that will be used by the `ChatCompletionAgent`\n",
    "chat_completion_service = OpenAIChatCompletion(\n",
    "    ai_model_id=\"gpt-4o-mini\",\n",
    "    async_client=client,\n",
    ")"
   ]
  },
  {
   "cell_type": "markdown",
   "metadata": {},
   "source": [
    "## Creating the Agent \n",
    "\n",
    "Below we create the Agent called `TravelAgent`.\n",
    "\n",
    "For this example, we are using very simple instructions. You can change these instructions to see how the agent responds differently. "
   ]
  },
  {
   "cell_type": "code",
   "execution_count": 4,
   "metadata": {},
   "outputs": [],
   "source": [
    "agent = ChatCompletionAgent(\n",
    "    service=chat_completion_service, \n",
    "    plugins=[DestinationsPlugin()],\n",
    "    name=\"TravelAgent\",\n",
    "    instructions=\"You are a helpful AI Agent that can help plan vacations for customers at random destinations\",\n",
    ")"
   ]
  },
  {
   "cell_type": "markdown",
   "metadata": {},
   "source": [
    "## Running the Agent\n",
    "\n",
    "Now we can run the Agent by defining a thread of type `ChatHistoryAgentThread`.  Any required system messages are provided to the agent's invoke_stream `messages` keyword argument.\n",
    "\n",
    "After these are defined, we create a `user_inputs` that will be what the user is sending to the agent. In this case, we have set this message to `Plan me a sunny vacation`. \n",
    "\n",
    "Feel free to change this message to see how the agent responds differently. "
   ]
  },
  {
   "cell_type": "code",
   "execution_count": 5,
   "metadata": {},
   "outputs": [
    {
     "name": "stdout",
     "output_type": "stream",
     "text": [
      "# User: Plan me a day trip.\n",
      "\n",
      "# TravelAgent: How about a day trip to Tokyo, Japan? Here's a suggested itinerary for an exciting day in this vibrant city:\n",
      "\n",
      "### Morning\n",
      "- **Visit Senso-ji Temple**: Start your day at Tokyo's oldest temple, located in Asakusa. Explore the beautiful grounds and the shopping street of Nakamise-dori leading up to the temple.\n",
      "- **Breakfast at a Local Café**: Enjoy some traditional Japanese breakfast options at a nearby café. Don't miss trying a sweet red bean pastry!\n",
      "\n",
      "### Afternoon\n",
      "- **Explore Akihabara**: Head to Akihabara, the hub of electronics and otaku culture. Browse through the numerous anime and manga shops, and maybe even visit a themed café.\n",
      "- **Lunch at a Maid Café**: Experience a unique dining environment at a Maid Café, where you’ll be served by waitresses dressed in maid costumes.\n",
      "\n",
      "### Late Afternoon\n",
      "- **Stroll through Ueno Park**: Take a leisurely stroll through Ueno Park, where you can see beautiful cherry blossoms if in season, visit museums, or relax by the pond.\n",
      "- **Visit the Tokyo National Museum** if you have time to appreciate some Japanese art and history.\n",
      "\n",
      "### Evening\n",
      "- **Shibuya Crossing**: Head to the iconic Shibuya Crossing and experience the bustling energy of one of the busiest pedestrian crossings in the world.\n",
      "- **Dinner in Shinjuku**: Finish your day with dinner in the vibrant district of Shinjuku. You can find a variety of restaurants offering everything from sushi to ramen.\n",
      "\n",
      "### Night\n",
      "- **Tokyo Skytree or Tokyo Tower**: End your day with breathtaking views of the city's skyline from either Tokyo Skytree or Tokyo Tower, both of which offer stunning night views.\n",
      "\n",
      "### Tips:\n",
      "- Make sure to check transport times and plan your route efficiently.\n",
      "- Purchase a day pass for the metro to save on transportation costs.\n",
      "\n",
      "Enjoy your day trip to Tokyo! Let me know if you need more information or adjustments.\n",
      "# User: I don't like that destination. Plan me another vacation.\n",
      "\n",
      "# TravelAgent: How about a vacation in Sydney, Australia? Here's a suggested itinerary for your trip:\n",
      "\n",
      "### Day 1: Arrival and Exploring the City\n",
      "- **Morning**: Arrive in Sydney. Check into your hotel and freshen up.\n",
      "- **Afternoon**: Visit the iconic **Sydney Opera House**. You can take a guided tour or simply take photos from the outside.\n",
      "- **Evening**: Stroll through the **Royal Botanic Garden** and enjoy the views of the Harbour. Consider dining at one of the many restaurants along Circular Quay.\n",
      "\n",
      "### Day 2: Sydney’s Beaches\n",
      "- **Morning**: Head to **Bondi Beach**. Relax on the beach or grab a coffee at a beachfront café.\n",
      "- **Afternoon**: Take the coastal walk from Bondi to **Coogee**, which offers stunning views of the coastline and several beaches.\n",
      "- **Evening**: Enjoy dinner at a beachside restaurant in Coogee, and watch the sunset over the ocean.\n",
      "\n",
      "### Day 3: Nature and Wildlife\n",
      "- **Morning**: Visit the **Taronga Zoo**, where you can see native Australian wildlife and other exotic animals. Take a ferry to get there for a scenic view of the harbour.\n",
      "- **Afternoon**: Explore the **Blue Mountains**. If time permits, take a guided tour or rent a car to see the stunning landscapes, including the Three Sisters rock formation.\n",
      "- **Evening**: Return to Sydney and have dinner in the **The Rocks** district, known for its historical significance and vibrant atmosphere.\n",
      "\n",
      "### Day 4: Cultural Experience\n",
      "- **Morning**: Visit the **Australian Museum** or **Art Gallery of New South Wales** to immerse yourself in Australian art and culture.\n",
      "- **Afternoon**: Explore the trendy **Newtown** area, known for its eclectic shops, street art, and diverse food scene.\n",
      "- **Evening**: Experience Sydney's nightlife in the areas of Surry Hills or Darling Harbour, with plenty of bars and live music options.\n",
      "\n",
      "### Additional Tips:\n",
      "- Don’t forget to check the ferry schedules for trips across the harbour.\n",
      "- Book any tours or major attractions in advance to avoid long lines.\n",
      "- Consider trying local delicacies like meat pies or fresh seafood.\n",
      "\n",
      "Enjoy your vacation in Sydney! Let me know if you need more details or alternatives.\n"
     ]
    }
   ],
   "source": [
    "async def main():\n",
    "    # Create a new thread for the agent\n",
    "    # If no thread is provided, a new thread will be\n",
    "    # created and returned with the initial response\n",
    "    thread: ChatHistoryAgentThread | None = None\n",
    "\n",
    "    user_inputs = [\n",
    "        \"Plan me a day trip.\",\n",
    "        \"I don't like that destination. Plan me another vacation.\"\n",
    "    ]\n",
    "\n",
    "    for user_input in user_inputs:\n",
    "        print(f\"# User: {user_input}\\n\")\n",
    "        first_chunk = True\n",
    "        async for response in agent.invoke_stream(\n",
    "            messages=user_input, thread=thread,\n",
    "        ):\n",
    "            # 5. Print the response\n",
    "            if first_chunk:\n",
    "                print(f\"# {response.name}: \", end=\"\", flush=True)\n",
    "                first_chunk = False\n",
    "            print(f\"{response}\", end=\"\", flush=True)\n",
    "            thread = response.thread\n",
    "        print()\n",
    "\n",
    "    # Clean up the thread\n",
    "    await thread.delete() if thread else None\n",
    "\n",
    "await main()"
   ]
  },
  {
   "cell_type": "code",
   "execution_count": null,
   "metadata": {},
   "outputs": [],
   "source": []
  }
 ],
 "metadata": {
  "kernelspec": {
   "display_name": "ai-agents-for-beginners",
   "language": "python",
   "name": "python3"
  },
  "language_info": {
   "codemirror_mode": {
    "name": "ipython",
    "version": 3
   },
   "file_extension": ".py",
   "mimetype": "text/x-python",
   "name": "python",
   "nbconvert_exporter": "python",
   "pygments_lexer": "ipython3",
   "version": "3.12.10"
  }
 },
 "nbformat": 4,
 "nbformat_minor": 2
}
