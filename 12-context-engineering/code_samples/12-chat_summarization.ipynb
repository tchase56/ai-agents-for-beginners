{
  "cells": [
    {
      "cell_type": "markdown",
      "metadata": {},
      "source": [
        "# Chat History Reduction with Agent Scratchpad in Semantic Kernel\n",
        "\n",
        "This notebook demonstrates how to use Semantic Kernel's Chat History Reduction feature along with an agent scratchpad for maintaining context across conversations. This is essential for building efficient AI agents that can handle long conversations without exceeding token limits.\n",
        "\n",
        "## What You'll Learn:\n",
        "1. **Chat History Reduction**: How to automatically summarize conversation history to manage token usage\n",
        "2. **Agent Scratchpad**: A persistent memory system for tracking user preferences and completed tasks\n",
        "3. **Token Usage Tracking**: Monitor how token usage changes with and without history reduction\n",
        "\n",
        "## Prerequisites:\n",
        "- Azure OpenAI setup with environment variables configured\n",
        "- Understanding of basic agent concepts from previous lessons"
      ]
    },
    {
      "cell_type": "markdown",
      "metadata": {},
      "source": [
        "## Import Required Packages"
      ]
    },
    {
      "cell_type": "code",
      "execution_count": 1,
      "metadata": {},
      "outputs": [],
      "source": [
        "# Import necessary packages\n",
        "import json\n",
        "import os\n",
        "import asyncio\n",
        "from datetime import datetime\n",
        "from pathlib import Path\n",
        "\n",
        "from dotenv import load_dotenv\n",
        "from IPython.display import display, HTML, Markdown\n",
        "from typing import Annotated, Optional\n",
        "\n",
        "from semantic_kernel.agents import ChatCompletionAgent, ChatHistoryAgentThread\n",
        "from semantic_kernel.connectors.ai.open_ai import AzureChatCompletion\n",
        "from semantic_kernel.connectors.ai.completion_usage import CompletionUsage\n",
        "from semantic_kernel.contents import ChatHistorySummarizationReducer\n",
        "from semantic_kernel.functions import kernel_function"
      ]
    },
    {
      "cell_type": "markdown",
      "metadata": {},
      "source": [
        "## Understanding Agent Scratchpad\n",
        "\n",
        "### What is an Agent Scratchpad?\n",
        "\n",
        "An **Agent Scratchpad** is a persistent memory system that agents use to:\n",
        "- **Track completed tasks**: Record what has been done for the user\n",
        "- **Store user preferences**: Remember likes, dislikes, and requirements\n",
        "- **Maintain context**: Keep important information accessible across conversations\n",
        "- **Reduce redundancy**: Avoid asking the same questions repeatedly\n",
        "\n",
        "### How it Works:\n",
        "1. **Write Operations**: Agent updates the scratchpad after learning new information\n",
        "2. **Read Operations**: Agent consults the scratchpad when making decisions\n",
        "3. **Persistence**: Information survives even when chat history is reduced\n",
        "\n",
        "Think of it as the agent's personal notebook that complements the conversation history."
      ]
    },
    {
      "cell_type": "markdown",
      "metadata": {},
      "source": [
        "## Environment Configuration"
      ]
    },
    {
      "cell_type": "code",
      "execution_count": 2,
      "metadata": {},
      "outputs": [
        {
          "name": "stdout",
          "output_type": "stream",
          "text": [
            "✅ Azure OpenAI service configured\n"
          ]
        }
      ],
      "source": [
        "# Load environment variables\n",
        "load_dotenv()\n",
        "\n",
        "# Create Azure OpenAI service\n",
        "chat_service = AzureChatCompletion(\n",
        "    deployment_name=os.getenv(\"AZURE_OPENAI_CHAT_DEPLOYMENT_NAME\"),\n",
        "    endpoint=os.getenv(\"AZURE_OPENAI_ENDPOINT\"),\n",
        "    api_key=os.getenv(\"AZURE_OPENAI_API_KEY\"),\n",
        ")\n",
        "\n",
        "print(\"✅ Azure OpenAI service configured\")"
      ]
    },
    {
      "cell_type": "markdown",
      "metadata": {},
      "source": [
        "## Create the Agent Scratchpad Plugin\n",
        "\n",
        "This plugin allows the agent to read and write to a persistent scratchpad file."
      ]
    },
    {
      "cell_type": "code",
      "execution_count": 3,
      "metadata": {},
      "outputs": [
        {
          "name": "stdout",
          "output_type": "stream",
          "text": [
            "📝 Scratchpad plugin created\n"
          ]
        }
      ],
      "source": [
        "class ScratchpadPlugin:\n",
        "    \"\"\"Plugin for managing agent scratchpad - a persistent memory for user preferences and completed tasks\"\"\"\n",
        "    \n",
        "    def __init__(self, filepath: str = \"agent_scratchpad.md\"):\n",
        "        self.filepath = Path(filepath)\n",
        "        # Initialize scratchpad if it doesn't exist\n",
        "        if not self.filepath.exists():\n",
        "            self.filepath.write_text(\"# Agent Scratchpad\\n\\n## User Preferences\\n\\n## Completed Tasks\\n\\n\")\n",
        "    \n",
        "    @kernel_function(\n",
        "        description=\"Read the current agent scratchpad to get user's travel preferences and completed tasks\"\n",
        "    )\n",
        "    def read_scratchpad(self) -> Annotated[str, \"The contents of the agent scratchpad\"]:\n",
        "        \"\"\"Read the current scratchpad contents\"\"\"\n",
        "        return self.filepath.read_text()\n",
        "    \n",
        "    @kernel_function(\n",
        "        description=\"Update the agent scratchpad with new user's travel preference or completed tasks\"\n",
        "    )\n",
        "    def update_scratchpad(\n",
        "        self,\n",
        "        category: Annotated[str, \"Category to update: 'preferences' or 'tasks'\"],\n",
        "        content: Annotated[str, \"The new content to add\"]\n",
        "    ) -> Annotated[str, \"Confirmation of the update\"]:\n",
        "        \"\"\"Update the scratchpad with new information\"\"\"\n",
        "        current_content = self.filepath.read_text()\n",
        "        timestamp = datetime.now().strftime(\"%Y-%m-%d %H:%M:%S\")\n",
        "        \n",
        "        if category.lower() == \"preferences\":\n",
        "            # Find the preferences section and append\n",
        "            lines = current_content.split(\"\\n\")\n",
        "            for i, line in enumerate(lines):\n",
        "                if \"## User Preferences\" in line:\n",
        "                    lines.insert(i + 1, f\"\\n- [{timestamp}] {content}\")\n",
        "                    break\n",
        "            current_content = \"\\n\".join(lines)\n",
        "        elif category.lower() == \"tasks\":\n",
        "            # Find the tasks section and append\n",
        "            lines = current_content.split(\"\\n\")\n",
        "            for i, line in enumerate(lines):\n",
        "                if \"## Completed Tasks\" in line:\n",
        "                    lines.insert(i + 1, f\"\\n- [{timestamp}] {content}\")\n",
        "                    break\n",
        "            current_content = \"\\n\".join(lines)\n",
        "        \n",
        "        self.filepath.write_text(current_content)\n",
        "        return f\"✅ Scratchpad updated with {category}: {content}\"\n",
        "\n",
        "# Create the scratchpad plugin\n",
        "scratchpad_plugin = ScratchpadPlugin(\"vacation_agent_scratchpad.md\")\n",
        "print(\"📝 Scratchpad plugin created\")"
      ]
    },
    {
      "cell_type": "markdown",
      "metadata": {},
      "source": [
        "## Initialize Chat History Reducer\n",
        "\n",
        "The ChatHistorySummarizationReducer automatically summarizes conversation history when it exceeds a threshold."
      ]
    },
    {
      "cell_type": "code",
      "execution_count": 4,
      "metadata": {},
      "outputs": [
        {
          "name": "stdout",
          "output_type": "stream",
          "text": [
            "🔄 Chat History Reducer configured:\n",
            "   - Reduction triggered at: 15 messages\n",
            "   - Reduces history to: 5 messages\n"
          ]
        }
      ],
      "source": [
        "# Configure reduction parameters\n",
        "REDUCER_TARGET_COUNT = 5  # Target number of messages to keep after reduction\n",
        "REDUCER_THRESHOLD = 15    # Trigger reduction when message count exceeds this\n",
        "\n",
        "# Create the history summarization reducer\n",
        "history_reducer = ChatHistorySummarizationReducer(\n",
        "    service=chat_service,\n",
        "    target_count=REDUCER_TARGET_COUNT,\n",
        "    threshold_count=REDUCER_THRESHOLD,\n",
        ")\n",
        "\n",
        "print(f\"🔄 Chat History Reducer configured:\")\n",
        "print(f\"   - Reduction triggered at: {REDUCER_THRESHOLD} messages\")\n",
        "print(f\"   - Reduces history to: {REDUCER_TARGET_COUNT} messages\")"
      ]
    },
    {
      "cell_type": "markdown",
      "metadata": {},
      "source": [
        "## Create the Vacation Planning Agent\n",
        "\n",
        "This agent will help users plan vacations while maintaining context through the scratchpad."
      ]
    },
    {
      "cell_type": "code",
      "execution_count": 5,
      "metadata": {},
      "outputs": [
        {
          "name": "stdout",
          "output_type": "stream",
          "text": [
            "🤖 Vacation Planning Agent created with enhanced scratchpad instructions\n"
          ]
        }
      ],
      "source": [
        "# Create the vacation planning agent with detailed instructions\n",
        "agent = ChatCompletionAgent(\n",
        "    service=chat_service,\n",
        "    name=\"VacationPlannerAgent\",\n",
        "    instructions=\"\"\"\n",
        "    You are a helpful vacation planning assistant. Your job is to help users plan their perfect vacation.\n",
        "    \n",
        "    CRITICAL SCRATCHPAD RULES - YOU MUST FOLLOW THESE:\n",
        "    1. FIRST ACTION: When starting ANY conversation, immediately call read_scratchpad() to check existing preferences\n",
        "    2. AFTER LEARNING PREFERENCES: When user mentions ANY preference (destinations, activities, budget, dates), \n",
        "       immediately call update_scratchpad() with category 'preferences'\n",
        "    3. AFTER COMPLETING TASKS: When you finish creating an itinerary or completing any task,\n",
        "       immediately call update_scratchpad() with category 'tasks'\n",
        "    4. BEFORE NEW ITINERARY: Always call read_scratchpad() before creating any itinerary\n",
        "    \n",
        "    EXAMPLES OF WHEN TO UPDATE SCRATCHPAD:\n",
        "    - User says \"I love beaches\" → update_scratchpad('preferences', 'Loves beach destinations')\n",
        "    - User says \"budget is $3000\" → update_scratchpad('preferences', 'Budget: $3000 per person for a week')\n",
        "    - You create an itinerary → update_scratchpad('tasks', 'Created Bali itinerary for beach vacation')\n",
        "    \n",
        "    PLANNING PROCESS:\n",
        "    1. Read scratchpad first\n",
        "    2. Ask about preferences if not found\n",
        "    3. Update scratchpad with new information\n",
        "    4. Create detailed itineraries\n",
        "    5. Update scratchpad with completed tasks\n",
        "    \n",
        "    BE EXPLICIT: Always announce when you're checking or updating the scratchpad.\n",
        "    \"\"\",\n",
        "    plugins=[scratchpad_plugin],\n",
        ")\n",
        "\n",
        "print(\"🤖 Vacation Planning Agent created with enhanced scratchpad instructions\")"
      ]
    },
    {
      "cell_type": "markdown",
      "metadata": {},
      "source": [
        "## Helper Functions for Display and Token Tracking"
      ]
    },
    {
      "cell_type": "code",
      "execution_count": 6,
      "metadata": {},
      "outputs": [
        {
          "name": "stdout",
          "output_type": "stream",
          "text": [
            "📊 Token tracking initialized\n"
          ]
        }
      ],
      "source": [
        "# Token tracking class\n",
        "class TokenTracker:\n",
        "    def __init__(self):\n",
        "        self.history = []\n",
        "        self.total_usage = CompletionUsage()\n",
        "        self.reduction_events = []  # Track when reductions occur\n",
        "\n",
        "    def add_usage(self, usage: CompletionUsage, message_num: int, thread_length: int = None):\n",
        "        if usage:\n",
        "            self.total_usage += usage\n",
        "            entry = {\n",
        "                \"message_num\": message_num,\n",
        "                \"prompt_tokens\": usage.prompt_tokens,\n",
        "                \"completion_tokens\": usage.completion_tokens,\n",
        "                \"total_tokens\": usage.prompt_tokens + usage.completion_tokens,\n",
        "                \"cumulative_tokens\": self.total_usage.prompt_tokens + self.total_usage.completion_tokens,\n",
        "                \"thread_length\": thread_length\n",
        "            }\n",
        "            self.history.append(entry)\n",
        "\n",
        "    def mark_reduction(self, message_num: int):\n",
        "        self.reduction_events.append(message_num)\n",
        "\n",
        "    def display_chart(self):\n",
        "        \"\"\"Display a chart showing token usage per message and the impact of reduction\"\"\"\n",
        "        if not self.history:\n",
        "            return\n",
        "\n",
        "        html = \"<div style='font-family: monospace; background: #2d2d2d; color: #f0f0f0; padding: 15px; border-radius: 8px; border: 1px solid #444;'>\"\n",
        "        html += \"<h4 style='color: #4fc3f7; margin-top: 0;'>📊 Token Usage Analysis</h4>\"\n",
        "        html += \"<pre style='color: #f0f0f0; margin: 0;'>\"\n",
        "\n",
        "        # Show prompt tokens per message to see reduction impact\n",
        "        html += \"<span style='color: #81c784;'>Prompt Tokens per Message (shows conversation context size):</span>\\n\"\n",
        "        max_prompt = max(h[\"prompt_tokens\"] for h in self.history)\n",
        "        scale = 50 / max_prompt if max_prompt > 0 else 1\n",
        "\n",
        "        for i, h in enumerate(self.history):\n",
        "            bar_length = int(h[\"prompt_tokens\"] * scale)\n",
        "            bar = \"█\" * bar_length\n",
        "            reduction_marker = \" <span style='color: #ff6b6b;'>← REDUCTION!</span>\" if h[\n",
        "                \"message_num\"] in self.reduction_events else \"\"\n",
        "            html += f\"<span style='color: #aaa;'>Msg {h['message_num']:2d}:</span> <span style='color: #4fc3f7;'>{bar}</span> <span style='color: #ffd93d;'>{h['prompt_tokens']:,} tokens</span>{reduction_marker}\\n\"\n",
        "\n",
        "        html += \"\\n</pre></div>\"\n",
        "        display(HTML(html))\n",
        "\n",
        "        # Calculate reduction impact\n",
        "        if self.reduction_events:\n",
        "            # Find the message before and after first reduction\n",
        "            first_reduction_msg = self.reduction_events[0]\n",
        "            before_reduction = None\n",
        "            after_reduction = None\n",
        "\n",
        "            for h in self.history:\n",
        "                if h[\"message_num\"] == first_reduction_msg - 1:\n",
        "                    before_reduction = h[\"prompt_tokens\"]\n",
        "                elif h[\"message_num\"] == first_reduction_msg:\n",
        "                    after_reduction = h[\"prompt_tokens\"]\n",
        "\n",
        "            if before_reduction and after_reduction:\n",
        "                reduction_amount = before_reduction - after_reduction\n",
        "                reduction_percent = (reduction_amount / before_reduction * 100)\n",
        "                print(f\"\\n🔄 Actual Reduction Impact:\")\n",
        "                print(f\"Prompt tokens before reduction: {before_reduction:,}\")\n",
        "                print(f\"Prompt tokens after reduction: {after_reduction:,}\")\n",
        "                print(\n",
        "                    f\"Tokens saved: {reduction_amount:,} ({reduction_percent:.1f}%)\")\n",
        "\n",
        "# Display function for clean output\n",
        "\n",
        "\n",
        "def display_message(role: str, content: str, color: str = \"#2E8B57\"):\n",
        "    \"\"\"Display a message with nice formatting that works in both light and dark themes\"\"\"\n",
        "    # Use a semi-transparent background that adapts to the theme\n",
        "    html = f\"\"\"\n",
        "    <div style='\n",
        "        margin: 10px 0; \n",
        "        padding: 12px 15px; \n",
        "        border-left: 4px solid {color}; \n",
        "        background: rgba(128, 128, 128, 0.1); \n",
        "        border-radius: 4px;\n",
        "        color: inherit;\n",
        "    '>\n",
        "        <strong style='color: {color}; font-size: 14px;'>{role}:</strong><br>\n",
        "        <div style='margin-top: 8px; white-space: pre-wrap; color: inherit; font-size: 14px;'>{content}</div>\n",
        "    </div>\n",
        "    \"\"\"\n",
        "    display(HTML(html))\n",
        "\n",
        "\n",
        "# Initialize token tracker\n",
        "token_tracker = TokenTracker()\n",
        "print(\"📊 Token tracking initialized\")"
      ]
    },
    {
      "cell_type": "markdown",
      "metadata": {},
      "source": [
        "## Run the Vacation Planning Conversation\n",
        "\n",
        "Now let's run through a complete conversation demonstrating:\n",
        "1. Initial planning request\n",
        "2. Preference gathering\n",
        "3. Itinerary creation\n",
        "4. Location change\n",
        "5. Chat history reduction\n",
        "6. Scratchpad usage"
      ]
    },
    {
      "cell_type": "code",
      "execution_count": 7,
      "metadata": {},
      "outputs": [
        {
          "name": "stdout",
          "output_type": "stream",
          "text": [
            "🚀 Starting Vacation Planning Session\n",
            "\n"
          ]
        },
        {
          "data": {
            "text/html": [
              "\n",
              "    <div style='\n",
              "        margin: 10px 0; \n",
              "        padding: 12px 15px; \n",
              "        border-left: 4px solid #4fc3f7; \n",
              "        background: rgba(128, 128, 128, 0.1); \n",
              "        border-radius: 4px;\n",
              "        color: inherit;\n",
              "    '>\n",
              "        <strong style='color: #4fc3f7; font-size: 14px;'>User:</strong><br>\n",
              "        <div style='margin-top: 8px; white-space: pre-wrap; color: inherit; font-size: 14px;'>I'm thinking about planning a vacation. Can you help me?</div>\n",
              "    </div>\n",
              "    "
            ],
            "text/plain": [
              "<IPython.core.display.HTML object>"
            ]
          },
          "metadata": {},
          "output_type": "display_data"
        },
        {
          "data": {
            "text/html": [
              "\n",
              "    <div style='\n",
              "        margin: 10px 0; \n",
              "        padding: 12px 15px; \n",
              "        border-left: 4px solid #81c784; \n",
              "        background: rgba(128, 128, 128, 0.1); \n",
              "        border-radius: 4px;\n",
              "        color: inherit;\n",
              "    '>\n",
              "        <strong style='color: #81c784; font-size: 14px;'>VacationPlannerAgent:</strong><br>\n",
              "        <div style='margin-top: 8px; white-space: pre-wrap; color: inherit; font-size: 14px;'>I've checked the scratchpad, and it looks like I don't have any information about your travel preferences yet. To get started, could you share what kind of vacation you're considering? For example, do you have any specific destinations in mind, types of activities you enjoy, or a budget?</div>\n",
              "    </div>\n",
              "    "
            ],
            "text/plain": [
              "<IPython.core.display.HTML object>"
            ]
          },
          "metadata": {},
          "output_type": "display_data"
        },
        {
          "name": "stdout",
          "output_type": "stream",
          "text": [
            "📝 Thread has 4 messages\n",
            "   Message types: ['user', 'assistant', 'tool', 'assistant']\n"
          ]
        },
        {
          "data": {
            "text/html": [
              "\n",
              "    <div style='\n",
              "        margin: 10px 0; \n",
              "        padding: 12px 15px; \n",
              "        border-left: 4px solid #4fc3f7; \n",
              "        background: rgba(128, 128, 128, 0.1); \n",
              "        border-radius: 4px;\n",
              "        color: inherit;\n",
              "    '>\n",
              "        <strong style='color: #4fc3f7; font-size: 14px;'>User:</strong><br>\n",
              "        <div style='margin-top: 8px; white-space: pre-wrap; color: inherit; font-size: 14px;'>I love beach destinations with great food and culture. I enjoy water sports, exploring local markets, and trying authentic cuisine. My budget is around $3000 per person for a week.</div>\n",
              "    </div>\n",
              "    "
            ],
            "text/plain": [
              "<IPython.core.display.HTML object>"
            ]
          },
          "metadata": {},
          "output_type": "display_data"
        },
        {
          "data": {
            "text/html": [
              "\n",
              "    <div style='\n",
              "        margin: 10px 0; \n",
              "        padding: 12px 15px; \n",
              "        border-left: 4px solid #81c784; \n",
              "        background: rgba(128, 128, 128, 0.1); \n",
              "        border-radius: 4px;\n",
              "        color: inherit;\n",
              "    '>\n",
              "        <strong style='color: #81c784; font-size: 14px;'>VacationPlannerAgent:</strong><br>\n",
              "        <div style='margin-top: 8px; white-space: pre-wrap; color: inherit; font-size: 14px;'>I've noted your preferences: you love beach destinations with great food and culture, enjoy water sports, exploring local markets, and trying authentic cuisine. Additionally, your budget is around $3000 per person for a week.\n",
              "\n",
              "Now, let's move on to planning your vacation! Do you have any specific beach destinations in mind, or would you like me to suggest some options for you?</div>\n",
              "    </div>\n",
              "    "
            ],
            "text/plain": [
              "<IPython.core.display.HTML object>"
            ]
          },
          "metadata": {},
          "output_type": "display_data"
        },
        {
          "name": "stdout",
          "output_type": "stream",
          "text": [
            "📝 Thread has 9 messages\n"
          ]
        },
        {
          "data": {
            "text/html": [
              "\n",
              "    <div style='\n",
              "        margin: 10px 0; \n",
              "        padding: 12px 15px; \n",
              "        border-left: 4px solid #4fc3f7; \n",
              "        background: rgba(128, 128, 128, 0.1); \n",
              "        border-radius: 4px;\n",
              "        color: inherit;\n",
              "    '>\n",
              "        <strong style='color: #4fc3f7; font-size: 14px;'>User:</strong><br>\n",
              "        <div style='margin-top: 8px; white-space: pre-wrap; color: inherit; font-size: 14px;'>That sounds perfect! Please create a detailed itinerary for Bali.</div>\n",
              "    </div>\n",
              "    "
            ],
            "text/plain": [
              "<IPython.core.display.HTML object>"
            ]
          },
          "metadata": {},
          "output_type": "display_data"
        },
        {
          "data": {
            "text/html": [
              "\n",
              "    <div style='\n",
              "        margin: 10px 0; \n",
              "        padding: 12px 15px; \n",
              "        border-left: 4px solid #81c784; \n",
              "        background: rgba(128, 128, 128, 0.1); \n",
              "        border-radius: 4px;\n",
              "        color: inherit;\n",
              "    '>\n",
              "        <strong style='color: #81c784; font-size: 14px;'>VacationPlannerAgent:</strong><br>\n",
              "        <div style='margin-top: 8px; white-space: pre-wrap; color: inherit; font-size: 14px;'>Here's a detailed itinerary for your beach vacation in Bali:\n",
              "\n",
              "### Day 1: Arrival in Bali \n",
              "- **Morning:** Arrive at Ngurah Rai International Airport in Denpasar. Check into a beachfront hotel in Seminyak.\n",
              "- **Afternoon:** Relax on Seminyak Beach and enjoy the sunset.\n",
              "- **Evening:** Dinner at a local seafood restaurant known for its fresh catch and authentic Balinese cuisine.\n",
              "\n",
              "### Day 2: Water Sports Adventure\n",
              "- **Morning:** Head to Tanjung Benoa for water sports (jet skiing, parasailing, and banana boat ride).\n",
              "- **Afternoon:** Lunch at a local warung (small family-owned business) by the beach.\n",
              "- **Evening:** Visit Uluwatu Temple for a cultural performance and enjoy the stunning cliffside sunset.\n",
              "\n",
              "### Day 3: Explore Local Markets & Cuisine\n",
              "- **Morning:** Visit the traditional market in Ubud, where you can shop for local crafts and souvenirs.\n",
              "- **Afternoon:** Attend a Balinese cooking class to learn how to make traditional dishes using local ingredients.\n",
              "- **Evening:** Dinner at a restaurant in Ubud or a local night market to try various street foods.\n",
              "\n",
              "### Day 4: Cultural Day Tour\n",
              "- **Morning:** Visit the Tegallalang Rice Terrace and take stunning photos.\n",
              "- **Afternoon:** Explore Tirta Empul, a holy spring water temple, and participate in a water blessing ceremony.\n",
              "- **Evening:** Return to Seminyak and dine at a beachfront restaurant with a fusion menu.\n",
              "\n",
              "### Day 5: Relaxation and Spa Day\n",
              "- **Morning:** Enjoy a leisurely breakfast and then some downtime at the beach or pool.\n",
              "- **Afternoon:** Indulge in a traditional Balinese massage and spa treatment.\n",
              "- **Evening:** Dinner at a rooftop restaurant overlooking the beach with live music.\n",
              "\n",
              "### Day 6: Day Trip to Nusa Penida\n",
              "- **Early Morning:** Take a boat trip to Nusa Penida Island.\n",
              "- **Day Activities:** Snorkeling at Crystal Bay, visiting Kelingking Beach, and exploring Broken Beach.\n",
              "- **Evening:** Return to Bali and relax after a day of adventure.\n",
              "\n",
              "### Day 7: Departure\n",
              "- **Morning:** Last-minute shopping in Seminyak or relax at the beach.\n",
              "- **Afternoon:** Check out of the hotel and head to the airport for your departure.\n",
              "\n",
              "### Estimated Budget Breakdown (per person):\n",
              "- Flights: ~$800 (depends on departure location)\n",
              "- Accommodations: ~$1200 for 6 nights\n",
              "- Food: ~$500\n",
              "- Activities (water sports, tours): ~$600\n",
              "- Transportation: ~$200\n",
              "- Total: Approx. $3000\n",
              "\n",
              "This itinerary balances adventure, relaxation, and cultural immersion while keeping you within your budget for a week-long vacation in Bali. Let me know if you need any adjustments or additional information!</div>\n",
              "    </div>\n",
              "    "
            ],
            "text/plain": [
              "<IPython.core.display.HTML object>"
            ]
          },
          "metadata": {},
          "output_type": "display_data"
        },
        {
          "name": "stdout",
          "output_type": "stream",
          "text": [
            "📝 Thread has 15 messages\n"
          ]
        },
        {
          "data": {
            "text/html": [
              "\n",
              "    <div style='\n",
              "        margin: 10px 0; \n",
              "        padding: 12px 15px; \n",
              "        border-left: 4px solid #4fc3f7; \n",
              "        background: rgba(128, 128, 128, 0.1); \n",
              "        border-radius: 4px;\n",
              "        color: inherit;\n",
              "    '>\n",
              "        <strong style='color: #4fc3f7; font-size: 14px;'>User:</strong><br>\n",
              "        <div style='margin-top: 8px; white-space: pre-wrap; color: inherit; font-size: 14px;'>Actually, I've changed my mind. I'd prefer to go to the Greek islands instead. Can you create a new itinerary?</div>\n",
              "    </div>\n",
              "    "
            ],
            "text/plain": [
              "<IPython.core.display.HTML object>"
            ]
          },
          "metadata": {},
          "output_type": "display_data"
        },
        {
          "data": {
            "text/html": [
              "\n",
              "    <div style='\n",
              "        margin: 10px 0; \n",
              "        padding: 12px 15px; \n",
              "        border-left: 4px solid #81c784; \n",
              "        background: rgba(128, 128, 128, 0.1); \n",
              "        border-radius: 4px;\n",
              "        color: inherit;\n",
              "    '>\n",
              "        <strong style='color: #81c784; font-size: 14px;'>VacationPlannerAgent:</strong><br>\n",
              "        <div style='margin-top: 8px; white-space: pre-wrap; color: inherit; font-size: 14px;'>Here's a detailed itinerary for your beach vacation in the Greek Islands:\n",
              "\n",
              "### Day 1: Arrival in Santorini\n",
              "- **Morning:** Arrive at Santorini Airport. Check into a hotel with caldera views.\n",
              "- **Afternoon:** Explore the charming village of Oia and take in the breathtaking views.\n",
              "- **Evening:** Enjoy dinner at a traditional Greek taverna, trying dishes like moussaka and fresh seafood.\n",
              "\n",
              "### Day 2: Santorini Exploration\n",
              "- **Morning:** Visit the ancient ruins of Akrotiri, a Minoan Bronze Age settlement.\n",
              "- **Afternoon:** Relax at Red Beach or Kamari Beach and take part in water sports (snorkeling, paddleboarding).\n",
              "- **Evening:** Watch the famous Santorini sunset from Oia or your hotel and dine at a cliffside restaurant.\n",
              "\n",
              "### Day 3: Ferry to Mykonos\n",
              "- **Morning:** Take a ferry from Santorini to Mykonos.\n",
              "- **Afternoon:** Check into your hotel and explore Mykonos Town (Chora), visiting the iconic windmills.\n",
              "- **Evening:** Dinner at a seaside tavern and experience Mykonos' vibrant nightlife.\n",
              "\n",
              "### Day 4: Relaxation and Water Activities in Mykonos\n",
              "- **Morning:** Enjoy a relaxing morning at one of the famous beaches like Psarou or Super Paradise Beach.\n",
              "- **Afternoon:** Opt for water activities such as jet skiing or sailing.\n",
              "- **Evening:** Explore the local markets for souvenirs and enjoy dinner at a restaurant known for its local cuisine.\n",
              "\n",
              "### Day 5: Day Trip to Delos\n",
              "- **Morning:** Take a boat trip to the archaeological site of Delos, a UNESCO World Heritage site.\n",
              "- **Afternoon:** Explore the ancient ruins and learn about Greek mythology.\n",
              "- **Evening:** Return to Mykonos and dine at a restaurant with traditional Greek music.\n",
              "\n",
              "### Day 6: Ferry to Naxos\n",
              "- **Morning:** Take a ferry from Mykonos to Naxos.\n",
              "- **Afternoon:** Check into the hotel and explore the ancient Portara (Temple of Apollo).\n",
              "- **Evening:** Enjoy dinner at a local tavern and try Naxian specialties like cheese and potatoes.\n",
              "\n",
              "### Day 7: Departure\n",
              "- **Morning:** Relax on Agios Prokopios Beach or visit the local markets for last-minute shopping.\n",
              "- **Afternoon:** Check out of the hotel and head to the airport for your departure.\n",
              "\n",
              "### Estimated Budget Breakdown (per person):\n",
              "- Flights: ~$800 (depends on departure location)\n",
              "- Accommodations: ~$1200 for 6 nights\n",
              "- Food: ~$500\n",
              "- Activities (ferry, water sports, tours): ~$600\n",
              "- Transportation: ~$200\n",
              "- Total: Approx. $3000\n",
              "\n",
              "This itinerary offers a mix of culture, relaxation, and adventure while allowing you to indulge in the rich cuisine and beautiful scenery of the Greek Islands. Let me know if you'd like to make any changes or need further information!</div>\n",
              "    </div>\n",
              "    "
            ],
            "text/plain": [
              "<IPython.core.display.HTML object>"
            ]
          },
          "metadata": {},
          "output_type": "display_data"
        },
        {
          "name": "stdout",
          "output_type": "stream",
          "text": [
            "📝 Thread has 22 messages\n",
            "   ⚠️ Thread length (22) exceeds threshold (15)\n",
            "\n",
            "🔄 HISTORY REDUCED! Thread now has 8 messages\n",
            "\n"
          ]
        },
        {
          "data": {
            "text/html": [
              "\n",
              "    <div style='\n",
              "        margin: 10px 0; \n",
              "        padding: 12px 15px; \n",
              "        border-left: 4px solid #ff6b6b; \n",
              "        background: rgba(128, 128, 128, 0.1); \n",
              "        border-radius: 4px;\n",
              "        color: inherit;\n",
              "    '>\n",
              "        <strong style='color: #ff6b6b; font-size: 14px;'>System Summary:</strong><br>\n",
              "        <div style='margin-top: 8px; white-space: pre-wrap; color: inherit; font-size: 14px;'>The user expressed a desire to plan a vacation and shared their preference for beach destinations with great food, culture, and activities like water sports and exploring local markets, with a budget of around $3000 per person for a week. The assistant proposed a detailed itinerary for a vacation in Bali, outlining activities such as water sports, cultural exploration, and culinary experiences over a week. The itinerary included specific daily plans, accommodations, and an estimated budget breakdown. The user indicated the itinerary was perfect and did not request any changes. The assistant offered to make adjustments or provide additional information if needed.</div>\n",
              "    </div>\n",
              "    "
            ],
            "text/plain": [
              "<IPython.core.display.HTML object>"
            ]
          },
          "metadata": {},
          "output_type": "display_data"
        },
        {
          "data": {
            "text/html": [
              "\n",
              "    <div style='\n",
              "        margin: 10px 0; \n",
              "        padding: 12px 15px; \n",
              "        border-left: 4px solid #4fc3f7; \n",
              "        background: rgba(128, 128, 128, 0.1); \n",
              "        border-radius: 4px;\n",
              "        color: inherit;\n",
              "    '>\n",
              "        <strong style='color: #4fc3f7; font-size: 14px;'>User:</strong><br>\n",
              "        <div style='margin-top: 8px; white-space: pre-wrap; color: inherit; font-size: 14px;'>What's the weather like there?</div>\n",
              "    </div>\n",
              "    "
            ],
            "text/plain": [
              "<IPython.core.display.HTML object>"
            ]
          },
          "metadata": {},
          "output_type": "display_data"
        },
        {
          "data": {
            "text/html": [
              "\n",
              "    <div style='\n",
              "        margin: 10px 0; \n",
              "        padding: 12px 15px; \n",
              "        border-left: 4px solid #81c784; \n",
              "        background: rgba(128, 128, 128, 0.1); \n",
              "        border-radius: 4px;\n",
              "        color: inherit;\n",
              "    '>\n",
              "        <strong style='color: #81c784; font-size: 14px;'>VacationPlannerAgent:</strong><br>\n",
              "        <div style='margin-top: 8px; white-space: pre-wrap; color: inherit; font-size: 14px;'>The weather in the Greek Islands typically features a Mediterranean climate, which can vary slightly depending on the specific island and season. Here’s a general overview for late spring and early summer (May to June):\n",
              "\n",
              "- **Temperatures:** Expect daytime highs ranging from **25°C to 30°C (77°F to 86°F)**, with cooler evenings around **15°C to 20°C (59°F to 68°F)**.\n",
              "- **Precipitation:** It’s usually dry during this period, with minimal rainfall.\n",
              "- **Sunshine:** Many sunny days, with plenty of opportunities for beach activities and outdoor exploration.\n",
              "- **Wind:** Depending on the location, you might experience the Meltemi winds, which can be stronger in summer, providing a refreshing breeze.\n",
              "\n",
              "This weather makes it an ideal time to enjoy the beautiful beaches and outdoor activities in the Greek Islands. If you need more specific information for a particular island or time frame, feel free to ask!</div>\n",
              "    </div>\n",
              "    "
            ],
            "text/plain": [
              "<IPython.core.display.HTML object>"
            ]
          },
          "metadata": {},
          "output_type": "display_data"
        },
        {
          "name": "stdout",
          "output_type": "stream",
          "text": [
            "📝 Thread has 10 messages\n"
          ]
        },
        {
          "data": {
            "text/html": [
              "\n",
              "    <div style='\n",
              "        margin: 10px 0; \n",
              "        padding: 12px 15px; \n",
              "        border-left: 4px solid #4fc3f7; \n",
              "        background: rgba(128, 128, 128, 0.1); \n",
              "        border-radius: 4px;\n",
              "        color: inherit;\n",
              "    '>\n",
              "        <strong style='color: #4fc3f7; font-size: 14px;'>User:</strong><br>\n",
              "        <div style='margin-top: 8px; white-space: pre-wrap; color: inherit; font-size: 14px;'>What should I pack?</div>\n",
              "    </div>\n",
              "    "
            ],
            "text/plain": [
              "<IPython.core.display.HTML object>"
            ]
          },
          "metadata": {},
          "output_type": "display_data"
        },
        {
          "data": {
            "text/html": [
              "\n",
              "    <div style='\n",
              "        margin: 10px 0; \n",
              "        padding: 12px 15px; \n",
              "        border-left: 4px solid #81c784; \n",
              "        background: rgba(128, 128, 128, 0.1); \n",
              "        border-radius: 4px;\n",
              "        color: inherit;\n",
              "    '>\n",
              "        <strong style='color: #81c784; font-size: 14px;'>VacationPlannerAgent:</strong><br>\n",
              "        <div style='margin-top: 8px; white-space: pre-wrap; color: inherit; font-size: 14px;'>When packing for your trip to the Greek Islands, consider the following essentials to ensure a comfortable and enjoyable vacation:\n",
              "\n",
              "### Clothing:\n",
              "1. **Lightweight Clothing:** Bring breathable, lightweight garments such as t-shirts, tank tops, and shorts for warm days.\n",
              "2. **Swimwear:** Pack at least 2-3 swimsuits for beach days and poolside lounging.\n",
              "3. **Light Jacket or Sweater:** Mornings and evenings can be cooler, so having a light layer is advisable.\n",
              "4. **Comfortable Footwear:** Bring sandals for the beach and comfortable walking shoes for exploring towns and archaeological sites.\n",
              "5. **Sun Protection:** A wide-brimmed hat and a pair of sunglasses to protect against the sun.\n",
              "\n",
              "### Accessories:\n",
              "1. **Beach Gear:** Consider a beach towel, beach bag, and cover-up for your beach days.\n",
              "2. **Reusable Water Bottle:** Stay hydrated while being eco-friendly.\n",
              "3. **Travel Adapter:** Greece uses the European-style two-pin plugs; carry an adapter if needed.\n",
              "\n",
              "### Toiletries:\n",
              "1. **Sunscreen:** A high SPF sunscreen is essential.\n",
              "2. **Insect Repellent:** Useful for any outdoor dining or exploration.\n",
              "3. **Personal Hygiene Products:** Don’t forget your essential toiletries.\n",
              "\n",
              "### Electronics:\n",
              "1. **Camera/Smartphone:** Capture the beautiful scenery.\n",
              "2. **Charger/Power Bank:** Keep your devices charged for an active day out.\n",
              "\n",
              "### Health and Safety:\n",
              "1. **Basic Medications:** Bring a small first-aid kit with essentials like pain relievers, band-aids, and any personal medications.\n",
              "2. **Travel Insurance:** Consider having a small insurance card or information handy.\n",
              "\n",
              "### Miscellaneous:\n",
              "1. **Guidebook or Map:** Handy for navigating the islands and discovering local attractions.\n",
              "\n",
              "This packing list should cover the essentials for your beach vacation in the Greek Islands. Let me know if you need any more specific recommendations or details!</div>\n",
              "    </div>\n",
              "    "
            ],
            "text/plain": [
              "<IPython.core.display.HTML object>"
            ]
          },
          "metadata": {},
          "output_type": "display_data"
        },
        {
          "name": "stdout",
          "output_type": "stream",
          "text": [
            "📝 Thread has 12 messages\n"
          ]
        },
        {
          "data": {
            "text/html": [
              "\n",
              "    <div style='\n",
              "        margin: 10px 0; \n",
              "        padding: 12px 15px; \n",
              "        border-left: 4px solid #4fc3f7; \n",
              "        background: rgba(128, 128, 128, 0.1); \n",
              "        border-radius: 4px;\n",
              "        color: inherit;\n",
              "    '>\n",
              "        <strong style='color: #4fc3f7; font-size: 14px;'>User:</strong><br>\n",
              "        <div style='margin-top: 8px; white-space: pre-wrap; color: inherit; font-size: 14px;'>Are there any cultural customs I should know about?</div>\n",
              "    </div>\n",
              "    "
            ],
            "text/plain": [
              "<IPython.core.display.HTML object>"
            ]
          },
          "metadata": {},
          "output_type": "display_data"
        },
        {
          "data": {
            "text/html": [
              "\n",
              "    <div style='\n",
              "        margin: 10px 0; \n",
              "        padding: 12px 15px; \n",
              "        border-left: 4px solid #81c784; \n",
              "        background: rgba(128, 128, 128, 0.1); \n",
              "        border-radius: 4px;\n",
              "        color: inherit;\n",
              "    '>\n",
              "        <strong style='color: #81c784; font-size: 14px;'>VacationPlannerAgent:</strong><br>\n",
              "        <div style='margin-top: 8px; white-space: pre-wrap; color: inherit; font-size: 14px;'>When visiting the Greek Islands, understanding a few cultural customs can enhance your experience and help you connect with the locals. Here are some important points to keep in mind:\n",
              "\n",
              "### Greetings:\n",
              "- **Politeness is Key:** Greeks are generally warm and welcoming. A friendly greeting goes a long way. Use a handshake for a formal introduction, and for friends or family, a light kiss on both cheeks is common.\n",
              "- **\"Kalimera\":** This means \"Good morning\" and is a nice way to greet locals during the day.\n",
              "\n",
              "### Dining Etiquette:\n",
              "- **Tipping:** It's customary to leave a tip of around 5-10% at restaurants. In cafés, rounding up the bill is appreciated.\n",
              "- **Sharing Food:** If dining with locals, be prepared for communal sharing of dishes. This is a part of the Greek dining experience.\n",
              "- **Wait for the Host:** If invited to a local’s home, wait for your host to start the meal before you begin eating.\n",
              "\n",
              "### Dress Code:\n",
              "- **Modesty Matters:** While beachwear is acceptable on the beach, when visiting religious sites or churches, dress modestly (covered shoulders and knees).\n",
              "\n",
              "### Photography:\n",
              "- **Ask for Permission:** Always ask locals before taking their photos, especially elders, as it shows respect for their privacy.\n",
              "\n",
              "### Punctuality:\n",
              "- **Relaxed Attitude:** Greeks may have a more relaxed approach to time; being slightly late is generally acceptable. However, when it comes to formal appointments, try to be punctual.\n",
              "\n",
              "### Festivals and Traditions:\n",
              "- **Festive Spirit:** If you visit during a local festival (like Easter), join in the celebrations to engage in local culture. These events often include music, dancing, and traditional food.\n",
              "\n",
              "### Gestures:\n",
              "- **Avoid Certain Hand Gestures:** The \"thumbs up\" gesture is positive in many cultures, but in Greece, it can be considered an insult. Be cautious with gestures, as they can have different meanings.\n",
              "\n",
              "These cultural customs will help you navigate your trip to the Greek Islands respectfully and enjoyably. If you have any specific scenarios in mind or need more details, just let me know!</div>\n",
              "    </div>\n",
              "    "
            ],
            "text/plain": [
              "<IPython.core.display.HTML object>"
            ]
          },
          "metadata": {},
          "output_type": "display_data"
        },
        {
          "name": "stdout",
          "output_type": "stream",
          "text": [
            "📝 Thread has 14 messages\n"
          ]
        },
        {
          "data": {
            "text/html": [
              "\n",
              "    <div style='\n",
              "        margin: 10px 0; \n",
              "        padding: 12px 15px; \n",
              "        border-left: 4px solid #4fc3f7; \n",
              "        background: rgba(128, 128, 128, 0.1); \n",
              "        border-radius: 4px;\n",
              "        color: inherit;\n",
              "    '>\n",
              "        <strong style='color: #4fc3f7; font-size: 14px;'>User:</strong><br>\n",
              "        <div style='margin-top: 8px; white-space: pre-wrap; color: inherit; font-size: 14px;'>What's the best way to get around?</div>\n",
              "    </div>\n",
              "    "
            ],
            "text/plain": [
              "<IPython.core.display.HTML object>"
            ]
          },
          "metadata": {},
          "output_type": "display_data"
        },
        {
          "data": {
            "text/html": [
              "\n",
              "    <div style='\n",
              "        margin: 10px 0; \n",
              "        padding: 12px 15px; \n",
              "        border-left: 4px solid #81c784; \n",
              "        background: rgba(128, 128, 128, 0.1); \n",
              "        border-radius: 4px;\n",
              "        color: inherit;\n",
              "    '>\n",
              "        <strong style='color: #81c784; font-size: 14px;'>VacationPlannerAgent:</strong><br>\n",
              "        <div style='margin-top: 8px; white-space: pre-wrap; color: inherit; font-size: 14px;'>The best way to get around the Greek Islands varies depending on the island you are visiting, but here are some common transportation options:\n",
              "\n",
              "### 1. **Walking:**\n",
              "- Many towns and villages on the islands are pedestrian-friendly, especially in areas with narrow streets. Walking is a great way to explore charming local shops, cafes, and historical sites.\n",
              "\n",
              "### 2. **Public Transportation:**\n",
              "- **Buses:** Many islands, including Santorini and Mykonos, have local bus services that connect major towns and attractions. Buses are affordable, and schedules are usually posted at bus stops.\n",
              "- **Ferries:** For island hopping, ferries are the main mode of transport between islands. Companies like Blue Star Ferries and Hellenic Seaways operate frequent connections.\n",
              "\n",
              "### 3. **Car Rental:**\n",
              "- Renting a car offers the most flexibility for exploring islands like Naxos or Santorini, where some beaches and sites might be off the usual tourist path. Ensure you have an international driver’s license and familiarize yourself with local driving rules.\n",
              "\n",
              "### 4. **Scooter or ATV Rentals:**\n",
              "- Many travelers opt to rent scooters or ATVs, especially in smaller towns. This is a popular way to navigate the islands and reach remote beaches in a fun and adventurous manner. Be sure to wear a helmet and drive safely.\n",
              "\n",
              "### 5. **Taxi and Ride Services:**\n",
              "- Taxis are available on most islands, though they can be more expensive. It’s also common to find ride-hailing services like Uber in some areas, although availability may vary.\n",
              "\n",
              "### 6. **Bicycles:**\n",
              "- Renting a bicycle is a great way to explore both towns and nature. Many islands have dedicated bike paths and scenic routes.\n",
              "\n",
              "### 7. **Boat Tours:**\n",
              "- For exploring hidden beaches and coves, consider taking a boat tour. Many organized tours are available that include transportation to less accessible areas and often include fun activities like snorkeling.\n",
              "\n",
              "Choosing the best way to get around will depend on your preferences and schedule. Having a mix of these options can enhance your experience while allowing you to see as much of the beautiful Greek Islands as possible. Let me know if you need more specific recommendations for a particular island!</div>\n",
              "    </div>\n",
              "    "
            ],
            "text/plain": [
              "<IPython.core.display.HTML object>"
            ]
          },
          "metadata": {},
          "output_type": "display_data"
        },
        {
          "name": "stdout",
          "output_type": "stream",
          "text": [
            "📝 Thread has 16 messages\n",
            "   ⚠️ Thread length (16) exceeds threshold (15)\n",
            "\n",
            "--- Token Usage Analysis ---\n"
          ]
        },
        {
          "data": {
            "text/html": [
              "<div style='font-family: monospace; background: #2d2d2d; color: #f0f0f0; padding: 15px; border-radius: 8px; border: 1px solid #444;'><h4 style='color: #4fc3f7; margin-top: 0;'>📊 Token Usage Analysis</h4><pre style='color: #f0f0f0; margin: 0;'><span style='color: #81c784;'>Prompt Tokens per Message (shows conversation context size):</span>\n",
              "<span style='color: #aaa;'>Msg  1:</span> <span style='color: #4fc3f7;'>█████████</span> <span style='color: #ffd93d;'>481 tokens</span>\n",
              "<span style='color: #aaa;'>Msg  2:</span> <span style='color: #4fc3f7;'>██████████████</span> <span style='color: #ffd93d;'>752 tokens</span>\n",
              "<span style='color: #aaa;'>Msg  3:</span> <span style='color: #4fc3f7;'>███████████████████</span> <span style='color: #ffd93d;'>1,019 tokens</span>\n",
              "<span style='color: #aaa;'>Msg  4:</span> <span style='color: #4fc3f7;'>█████████████████████████████████████</span> <span style='color: #ffd93d;'>1,911 tokens</span>\n",
              "<span style='color: #aaa;'>Msg  5:</span> <span style='color: #4fc3f7;'>████████████████████████████</span> <span style='color: #ffd93d;'>1,472 tokens</span> <span style='color: #ff6b6b;'>← REDUCTION!</span>\n",
              "<span style='color: #aaa;'>Msg  6:</span> <span style='color: #4fc3f7;'>████████████████████████████████</span> <span style='color: #ffd93d;'>1,682 tokens</span>\n",
              "<span style='color: #aaa;'>Msg  7:</span> <span style='color: #4fc3f7;'>█████████████████████████████████████████</span> <span style='color: #ffd93d;'>2,097 tokens</span>\n",
              "<span style='color: #aaa;'>Msg  8:</span> <span style='color: #4fc3f7;'>██████████████████████████████████████████████████</span> <span style='color: #ffd93d;'>2,553 tokens</span>\n",
              "\n",
              "</pre></div>"
            ],
            "text/plain": [
              "<IPython.core.display.HTML object>"
            ]
          },
          "metadata": {},
          "output_type": "display_data"
        },
        {
          "name": "stdout",
          "output_type": "stream",
          "text": [
            "\n",
            "🔄 Actual Reduction Impact:\n",
            "Prompt tokens before reduction: 1,911\n",
            "Prompt tokens after reduction: 1,472\n",
            "Tokens saved: 439 (23.0%)\n",
            "\n",
            "--- Final Scratchpad Contents ---\n"
          ]
        },
        {
          "data": {
            "text/markdown": [
              "# Agent Scratchpad\n",
              "\n",
              "## User Preferences\n",
              "\n",
              "- [2025-09-09 16:13:30] Changed destination preference to the Greek islands.\n",
              "\n",
              "- [2025-09-09 16:13:22] Budget: $3000 per person for a week.\n",
              "\n",
              "- [2025-09-09 16:13:22] Loves beach destinations with great food and culture, enjoys water sports, exploring local markets, and trying authentic cuisine.\n",
              "\n",
              "## Completed Tasks\n",
              "\n",
              "- [2025-09-09 16:13:30] Created itinerary for a beach vacation in the Greek islands.\n",
              "\n",
              "- [2025-09-09 16:13:24] Creating detailed itinerary for Bali beach vacation.\n",
              "\n"
            ],
            "text/plain": [
              "<IPython.core.display.Markdown object>"
            ]
          },
          "metadata": {},
          "output_type": "display_data"
        },
        {
          "name": "stdout",
          "output_type": "stream",
          "text": [
            "\n",
            "📊 Total scratchpad operations: 0\n"
          ]
        }
      ],
      "source": [
        "# Define the conversation flow\n",
        "user_inputs = [\n",
        "    \"I'm thinking about planning a vacation. Can you help me?\",\n",
        "    \"I love beach destinations with great food and culture. I enjoy water sports, exploring local markets, and trying authentic cuisine. My budget is around $3000 per person for a week.\",\n",
        "    \"That sounds perfect! Please create a detailed itinerary for Bali.\",\n",
        "    \"Actually, I've changed my mind. I'd prefer to go to the Greek islands instead. Can you create a new itinerary?\",\n",
        "    \"What's the weather like there?\",\n",
        "    \"What should I pack?\",\n",
        "    \"Are there any cultural customs I should know about?\",\n",
        "    \"What's the best way to get around?\"\n",
        "]\n",
        "\n",
        "\n",
        "async def run_vacation_planning():\n",
        "    \"\"\"Run the vacation planning conversation with token tracking and history reduction\"\"\"\n",
        "\n",
        "    # Create thread with history reducer\n",
        "    thread = ChatHistoryAgentThread(chat_history=history_reducer)\n",
        "    message_count = 0\n",
        "    scratchpad_operations = 0  # Track scratchpad usage\n",
        "\n",
        "    print(\"🚀 Starting Vacation Planning Session\\n\")\n",
        "\n",
        "    # Process conversation\n",
        "    for i, user_input in enumerate(user_inputs):\n",
        "        message_count += 1\n",
        "        display_message(\"User\", user_input, \"#4fc3f7\")  # Blue for user\n",
        "\n",
        "        # Get agent response\n",
        "        full_response = \"\"\n",
        "        usage = None\n",
        "        function_calls = []  # Track function calls\n",
        "\n",
        "        async for response in agent.invoke(\n",
        "            messages=user_input,\n",
        "            thread=thread,\n",
        "        ):\n",
        "            if response.content:\n",
        "                full_response += str(response.content)\n",
        "            if response.metadata.get(\"usage\"):\n",
        "                usage = response.metadata[\"usage\"]\n",
        "            thread = response.thread\n",
        "\n",
        "        display_message(f\"{agent.name}\", full_response,\n",
        "                        \"#81c784\")  # Green for agent\n",
        "\n",
        "        # Track tokens with thread length\n",
        "        if usage:\n",
        "            token_tracker.add_usage(usage, message_count, len(thread))\n",
        "\n",
        "        # Check thread status and look for scratchpad operations\n",
        "        print(f\"📝 Thread has {len(thread)} messages\")\n",
        "\n",
        "        # Count scratchpad operations in this turn\n",
        "        turn_scratchpad_ops = 0\n",
        "        async for msg in thread.get_messages():\n",
        "            if hasattr(msg, 'content') and msg.content:\n",
        "                content_str = str(msg.content)\n",
        "                if 'read_scratchpad' in content_str or 'update_scratchpad' in content_str:\n",
        "                    turn_scratchpad_ops += 1\n",
        "\n",
        "        if turn_scratchpad_ops > scratchpad_operations:\n",
        "            print(\n",
        "                f\"   📝 Scratchpad operations detected: {turn_scratchpad_ops - scratchpad_operations} new operations\")\n",
        "            scratchpad_operations = turn_scratchpad_ops\n",
        "\n",
        "        # Show message types for first message\n",
        "        if i == 0:\n",
        "            message_types = []\n",
        "            async for msg in thread.get_messages():\n",
        "                msg_type = msg.role.value if hasattr(\n",
        "                    msg.role, 'value') else str(msg.role)\n",
        "                message_types.append(msg_type)\n",
        "            print(f\"   Message types: {message_types[:10]}...\" if len(\n",
        "                message_types) > 10 else f\"   Message types: {message_types}\")\n",
        "\n",
        "        # Check if reduction should happen\n",
        "        if len(thread) > REDUCER_THRESHOLD:\n",
        "            print(\n",
        "                f\"   ⚠️ Thread length ({len(thread)}) exceeds threshold ({REDUCER_THRESHOLD})\")\n",
        "\n",
        "            # Attempt reduction\n",
        "            is_reduced = await thread.reduce()\n",
        "            if is_reduced:\n",
        "                print(\n",
        "                    f\"\\n🔄 HISTORY REDUCED! Thread now has {len(thread)} messages\\n\")\n",
        "                token_tracker.mark_reduction(message_count + 1)\n",
        "\n",
        "                # Show summary if available\n",
        "                async for msg in thread.get_messages():\n",
        "                    if msg.metadata and msg.metadata.get(\"__summary__\"):\n",
        "                        display_message(\"System Summary\", str(\n",
        "                            msg.content), \"#ff6b6b\")\n",
        "                        break\n",
        "\n",
        "    # Display final token usage chart\n",
        "    print(\"\\n--- Token Usage Analysis ---\")\n",
        "    token_tracker.display_chart()\n",
        "\n",
        "    # Show final scratchpad contents\n",
        "    print(\"\\n--- Final Scratchpad Contents ---\")\n",
        "    scratchpad_contents = scratchpad_plugin.read_scratchpad()\n",
        "    display(Markdown(scratchpad_contents))\n",
        "\n",
        "    print(f\"\\n📊 Total scratchpad operations: {scratchpad_operations}\")\n",
        "\n",
        "    return thread\n",
        "\n",
        "# Run the conversation\n",
        "thread = await run_vacation_planning()"
      ]
    },
    {
      "cell_type": "code",
      "execution_count": null,
      "metadata": {},
      "outputs": [],
      "source": []
    },
    {
      "cell_type": "markdown",
      "metadata": {},
      "source": [
        "## Analyzing the Results\n",
        "\n",
        "Let's analyze what happened during our conversation:"
      ]
    },
    {
      "cell_type": "code",
      "execution_count": 8,
      "metadata": {},
      "outputs": [
        {
          "name": "stdout",
          "output_type": "stream",
          "text": [
            "📊 Total Token Usage Summary\n",
            "\n",
            "Total Prompt Tokens: 11,967\n",
            "Total Completion Tokens: 2,825\n",
            "Total Tokens Used: 14,792\n",
            "\n",
            "💡 Note: The reduction impact is shown in the chart above.\n",
            "Look for the dramatic drop in prompt tokens after the REDUCTION marker.\n",
            "This shows how chat history summarization reduces the context size for future messages.\n"
          ]
        }
      ],
      "source": [
        "# Analyze token usage\n",
        "print(\"📊 Total Token Usage Summary\\n\")\n",
        "print(f\"Total Prompt Tokens: {token_tracker.total_usage.prompt_tokens:,}\")\n",
        "print(\n",
        "    f\"Total Completion Tokens: {token_tracker.total_usage.completion_tokens:,}\")\n",
        "print(\n",
        "    f\"Total Tokens Used: {token_tracker.total_usage.prompt_tokens + token_tracker.total_usage.completion_tokens:,}\")\n",
        "\n",
        "print(\"\\n💡 Note: The reduction impact is shown in the chart above.\")\n",
        "print(\"Look for the dramatic drop in prompt tokens after the REDUCTION marker.\")\n",
        "print(\"This shows how chat history summarization reduces the context size for future messages.\")"
      ]
    },
    {
      "cell_type": "markdown",
      "metadata": {},
      "source": [
        "## Key Takeaways\n",
        "\n",
        "### 1. Chat History Reduction\n",
        "- **Automatic Triggering**: Reduction happens when message count exceeds threshold\n",
        "- **Token Savings**: Significant reduction in token usage after summarization\n",
        "- **Context Preservation**: Important information is retained in summaries\n",
        "\n",
        "### 2. Agent Scratchpad Benefits\n",
        "- **Persistent Memory**: User preferences survive history reduction\n",
        "- **Task Tracking**: Agent maintains record of completed work\n",
        "- **Improved Experience**: No need to repeat preferences\n",
        "\n",
        "### 3. Token Usage Patterns\n",
        "- **Linear Growth**: Tokens increase with each message\n",
        "- **Dramatic Drop**: Reduction significantly decreases token count\n",
        "- **Sustainable Conversations**: Enables longer interactions within limits"
      ]
    },
    {
      "cell_type": "markdown",
      "metadata": {},
      "source": [
        "## Cleanup\n",
        "\n",
        "Clean up the scratchpad file created during this demo:"
      ]
    },
    {
      "cell_type": "code",
      "execution_count": 9,
      "metadata": {},
      "outputs": [
        {
          "name": "stdout",
          "output_type": "stream",
          "text": [
            "✅ Demo complete! The scratchpad file 'vacation_agent_scratchpad.md' has been preserved for your review.\n"
          ]
        }
      ],
      "source": [
        "# Optional: Clean up the scratchpad file\n",
        "# Uncomment the next line to delete the scratchpad\n",
        "# Path(\"vacation_agent_scratchpad.md\").unlink(missing_ok=True)\n",
        "\n",
        "print(\"✅ Demo complete! The scratchpad file 'vacation_agent_scratchpad.md' has been preserved for your review.\")"
      ]
    },
    {
      "cell_type": "markdown",
      "metadata": {},
      "source": [
        "# Summary\n",
        "\n",
        "Congratulations! You've successfully implemented an AI agent with advanced context management capabilities:\n",
        "\n",
        "## What You've Learned:\n",
        "- **Chat History Reduction**: Automatically summarize conversations to manage token limits\n",
        "- **Agent Scratchpad**: Implement persistent memory for user preferences and completed tasks\n",
        "- **Token Management**: Track and optimize token usage in long conversations\n",
        "- **Context Preservation**: Maintain important information across conversation reductions\n",
        "\n",
        "## Real-World Applications:\n",
        "- **Customer Service Bots**: Remember customer preferences across sessions\n",
        "- **Personal Assistants**: Track ongoing projects and user habits\n",
        "- **Educational Tutors**: Maintain student progress and learning preferences\n",
        "- **Healthcare Assistants**: Keep patient history while respecting token limits\n",
        "\n",
        "## Next Steps:\n",
        "- Implement more sophisticated scratchpad schemas\n",
        "- Add database storage for multi-user scenarios\n",
        "- Create custom reduction strategies for domain-specific needs\n",
        "- Combine with vector databases for semantic memory search\n",
        "- Build agents that can resume conversations days later with full context"
      ]
    }
  ],
  "metadata": {
    "kernelspec": {
      "display_name": "ai-agents-for-beginners",
      "language": "python",
      "name": "python3"
    },
    "language_info": {
      "codemirror_mode": {
        "name": "ipython",
        "version": 3
      },
      "file_extension": ".py",
      "mimetype": "text/x-python",
      "name": "python",
      "nbconvert_exporter": "python",
      "pygments_lexer": "ipython3",
      "version": "3.12.10"
    }
  },
  "nbformat": 4,
  "nbformat_minor": 4
}
