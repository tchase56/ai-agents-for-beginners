{
 "cells": [
  {
   "cell_type": "markdown",
   "metadata": {},
   "source": [
    "## **Primeri: Multi-AI agenti za rezervacijo hotela**\n",
    "\n",
    "V današnjem hitrem tempu življenja načrtovanje poslovnega potovanja vključuje več kot le rezervacijo leta in hotelske sobe. Zahteva stopnjo usklajenosti in učinkovitosti, ki jo je pogosto težko doseči. Tukaj nastopijo Multi-AI agenti, ki revolucionarno spreminjajo način upravljanja naših potovalnih potreb.\n",
    "\n",
    "Predstavljajte si ekipo inteligentnih agentov, ki so vam na voljo in skupaj skrbijo za vsak vidik vašega potovanja z natančnostjo in lahkoto. Z našo napredno AI tehnologijo smo ustvarili specializirane agente za rezervacijske storitve in načrtovanje itinerarjev, kar zagotavlja brezhibno in brezstresno potovalno izkušnjo.\n",
    "\n",
    "To je osnovni scenarij. Pri načrtovanju poslovnega potovanja se moramo posvetovati s poslovnim potovalnim agentom, da pridobimo informacije o letalskih vozovnicah, hotelih itd. S pomočjo AI agentov lahko ustvarimo agente za rezervacijske storitve in agente za načrtovanje itinerarjev, ki sodelujejo in izboljšujejo raven inteligence.\n"
   ]
  },
  {
   "cell_type": "markdown",
   "metadata": {},
   "source": [
    "# Inicializirajte storitev Azure AI Agent in pridobite konfiguracijske informacije iz **.env**\n",
    "\n",
    "### **.env**\n",
    "\n",
    "Ustvarite datoteko .env\n",
    "\n",
    "**.env** vsebuje povezovalni niz za storitev Azure AI Agent, model, ki ga uporablja AOAI, ter ustrezne API-je, ENDPOINT za Google API Search storitev itd.\n",
    "\n",
    "- **AZURE_AI_AGENT_MODEL_DEPLOYMENT_NAME** = \"Ime vašega modela za uvajanje storitve Azure AI Agent\"\n",
    "\n",
    "[**NOTE**] Potrebovali boste model s 100.000 omejitvijo hitrosti (žetoni na minuto) in omejitvijo hitrosti 600 (zahtevki na minuto).\n",
    "\n",
    "  Model lahko pridobite v Azure AI Foundry - Model in Endpoint.\n",
    "\n",
    "- **AZURE_AI_AGENT_PROJECT_CONNECTION_STRING** = \"Povezovalni niz vašega projekta za storitev Azure AI Agent\"\n",
    "\n",
    "  Povezovalni niz projekta lahko pridobite v pregledu vašega projekta na zaslonu AI ​​Foundry Portal.\n",
    "\n",
    "- **SERPAPI_SEARCH_API_KEY** = \"Vaš SERPAPI Search API KEY\"\n",
    "- **SERPAPI_SEARCH_ENDPOINT** = \"Vaš SERPAPI Search Endpoint\"\n",
    "\n",
    "Za pridobitev imena modela za uvajanje in povezovalnega niza projekta storitve Azure AI Agent morate ustvariti storitev Azure AI Agent. Priporočljivo je, da uporabite [to predlogo](https://portal.azure.com/#create/Microsoft.Template/uri/https%3A%2F%2Fraw.githubusercontent.com%2Ffosteramanda%2Fazure-agent-quickstart-templates%2Frefs%2Fheads%2Fmaster%2Fquickstarts%2Fmicrosoft.azure-ai-agent-service%2Fstandard-agent%2Fazuredeploy.json) za neposredno ustvarjanje. （***Opomba:*** Storitev Azure AI Agent je trenutno na voljo v omejenih regijah. Priporočljivo je, da se sklicujete na [to povezavo](https://learn.microsoft.com/en-us/azure/ai-services/agents/concepts/model-region-support) za nastavitev regije.)\n",
    "\n",
    "Agent potrebuje dostop do SERPAPI. Priporočljivo je, da se registrirate prek [te povezave](https://serpapi.com/searches). Po registraciji lahko pridobite edinstven API KEY in ENDPOINT.\n"
   ]
  },
  {
   "cell_type": "markdown",
   "metadata": {},
   "source": [
    "# Prijava v Azure\n",
    "\n",
    "Zdaj se morate prijaviti v Azure. Odprite terminal v VScode in zaženite ukaz `az login`.\n"
   ]
  },
  {
   "cell_type": "markdown",
   "metadata": {},
   "source": [
    "# Namestitev\n",
    "\n",
    "Za zagon tega zvezka boste morali namestiti naslednje knjižnice. Tukaj je seznam potrebnih knjižnic in ustreznih ukazov za namestitev prek pip:\n",
    "\n",
    "azure-identity: Za avtentikacijo v Azure.\n",
    "requests: Za izvajanje HTTP zahtev.\n",
    "semantic-kernel: Za okvir semantičnega jedra (če predpostavimo, da gre za prilagojeno ali specifično knjižnico, jo boste morda morali namestiti iz določenega vira ali repozitorija).\n"
   ]
  },
  {
   "cell_type": "code",
   "execution_count": null,
   "metadata": {},
   "outputs": [],
   "source": [
    "!pip install azure-identity\n",
    "!pip install requests\n",
    "!pip install semantic-kernel\n",
    "!pip install --upgrade semantic_kernel\n",
    "!pip install azure-cli"
   ]
  },
  {
   "cell_type": "markdown",
   "metadata": {},
   "source": [
    "# Pojasnilo: \n",
    "import asyncio: To uvozi modul asyncio, ki omogoča podporo za asinhrono programiranje v Pythonu. Omogoča pisanje sočasne kode z uporabo sintakse async in await.\n",
    "from typing: Annotated: To uvozi tip Annotated iz modula typing. Annotated se uporablja za dodajanje metapodatkov k namigom tipov, kar je lahko koristno za različne namene, kot so validacija, dokumentacija ali orodja.\n"
   ]
  },
  {
   "cell_type": "code",
   "execution_count": null,
   "metadata": {
    "dotnet_interactive": {
     "language": "csharp"
    },
    "polyglot_notebook": {
     "kernelName": "csharp"
    }
   },
   "outputs": [],
   "source": [
    "import asyncio,os\n",
    "from typing import Annotated"
   ]
  },
  {
   "cell_type": "markdown",
   "metadata": {},
   "source": [
    "# Pojasnilo:\n",
    "Z uporabo from dotenv import load_dotenv in load_dotenv() lahko preprosto upravljate nastavitve konfiguracije in občutljive informacije (kot so API ključi in URL-ji podatkovnih baz) v datoteki .env. S tem jih ločite od izvorne kode, kar naredi vašo aplikacijo bolj varno in enostavnejšo za konfiguracijo.\n"
   ]
  },
  {
   "cell_type": "code",
   "execution_count": null,
   "metadata": {},
   "outputs": [],
   "source": [
    "import os\n",
    "from dotenv import load_dotenv\n",
    "\n",
    "# Load environment variables from .env file\n",
    "load_dotenv()"
   ]
  },
  {
   "cell_type": "markdown",
   "metadata": {},
   "source": [
    "# Pojasnilo:\n",
    "\n",
    "Izjava o uvozu: from azure.identity.aio import DefaultAzureCredential: Ta izjava uvozi razred DefaultAzureCredential iz modula azure.identity.aio. Del modula z oznako aio nakazuje, da je zasnovan za asinhrone operacije.\n",
    "\n",
    "Namen DefaultAzureCredential: Razred DefaultAzureCredential je del Azure SDK za Python. Ponuja privzeti način za avtentikacijo z Azure storitvami. Poskuša se avtenticirati z več metodami v določenem vrstnem redu, kot so okoljske spremenljivke, upravljana identiteta in Azure CLI poverilnice.\n",
    "\n",
    "Asinhrone operacije: Modul aio nakazuje, da razred DefaultAzureCredential podpira asinhrone operacije. To pomeni, da ga lahko uporabljate z asyncio za izvajanje neblokirajočih avtentikacijskih zahtev.\n"
   ]
  },
  {
   "cell_type": "code",
   "execution_count": null,
   "metadata": {
    "dotnet_interactive": {
     "language": "csharp"
    },
    "polyglot_notebook": {
     "kernelName": "csharp"
    }
   },
   "outputs": [],
   "source": [
    "from azure.identity.aio import DefaultAzureCredential"
   ]
  },
  {
   "cell_type": "markdown",
   "metadata": {},
   "source": [
    "# Razlaga:\n",
    "Uvaža različne module in razrede iz paketa semantic_kernel. Tukaj je razčlenitev vsakega uvoza:\n",
    "\n",
    "AgentGroupChat iz semantic_kernel.agents: Ta razred upravlja funkcionalnosti, povezane s skupinskim klepetom za AI agente. AzureAIAgent in AzureAIAgentSettings iz semantic_kernel.agents.azure_ai\n",
    "\n",
    "AzureAIAgent: Ta razred se uporablja za ustvarjanje in upravljanje AI agentov, ki uporabljajo storitve Azure AI.\n",
    "\n",
    "AzureAIAgentSettings: Ta razred se uporablja za konfiguracijo nastavitev za AzureAIAgent. TerminationStrategy iz semantic_kernel.agents.strategies.termination.termination_strategy:\n",
    "\n",
    "Ta razred definira strategije za prekinitev izvajanja AI agentov pod določenimi pogoji. ChatMessageContent iz semantic_kernel.contents.chat_message_content:\n",
    "\n",
    "Ta razred se uporablja za upravljanje vsebine klepetnih sporočil.\n",
    "AuthorRole iz semantic_kernel.contents.utils.author_role:\n",
    "\n",
    "Ta razred definira različne vloge avtorjev v kontekstu klepetnih sporočil.\n",
    "\n",
    "kernel_function iz semantic_kernel.functions.kernel_function_decorator: Ta dekorator se uporablja za definiranje funkcij jedra, ki jih je mogoče izvajati znotraj okvira semantic kernel.\n",
    "Ti uvozi vzpostavijo potrebne komponente za ustvarjanje in upravljanje AI agentov, ki lahko sodelujejo v okolju skupinskega klepeta, morda za naloge, kot je rezervacija hotelov ali podobne aktivnosti.\n"
   ]
  },
  {
   "cell_type": "code",
   "execution_count": null,
   "metadata": {
    "dotnet_interactive": {
     "language": "csharp"
    },
    "polyglot_notebook": {
     "kernelName": "csharp"
    }
   },
   "outputs": [],
   "source": [
    "from semantic_kernel.agents import AgentGroupChat\n",
    "from semantic_kernel.agents import AzureAIAgent, AzureAIAgentSettings\n",
    "from semantic_kernel.agents.strategies.termination.termination_strategy import TerminationStrategy\n",
    "from semantic_kernel.contents import ChatMessageContent\n",
    "from semantic_kernel.contents import AuthorRole\n",
    "from semantic_kernel.functions.kernel_function_decorator import kernel_function"
   ]
  },
  {
   "cell_type": "markdown",
   "metadata": {},
   "source": [
    "# Pojasnilo:\n",
    "Nato uvozimo razred CodeInterpreterTool iz modula azure.ai.projects.models.\n",
    "\n",
    "CodeInterpreterTool: Ta razred je del Azure AI SDK in se uporablja za interpretacijo ter izvajanje kode v okviru AI projektov. Ponuja funkcionalnosti za izvajanje delčkov kode, analizo kode ali integracijo izvajanja kode znotraj AI delovnih procesov. Ta uvoz pripravi potreben komponent za uporabo CodeInterpreterTool v vašem projektu, kar je lahko koristno za naloge, ki vključujejo dinamično interpretacijo in izvajanje kode.\n"
   ]
  },
  {
   "cell_type": "code",
   "execution_count": null,
   "metadata": {
    "dotnet_interactive": {
     "language": "csharp"
    },
    "polyglot_notebook": {
     "kernelName": "csharp"
    }
   },
   "outputs": [],
   "source": [
    "from azure.ai.projects.models import CodeInterpreterTool"
   ]
  },
  {
   "cell_type": "markdown",
   "metadata": {},
   "source": [
    "# Pojasnilo: \n",
    "Razred ApprovalTerminationStrategy ponuja specifično strategijo za prekinitev delovanja AI agenta. Agent bo prekinil delovanje, če zadnje sporočilo v zgodovini interakcij vsebuje besedo \"shranjeno\". To bi lahko bilo koristno v scenarijih, kjer se naloga agenta šteje za zaključeno, ko prejme potrditev, da je nekaj \"shranjeno\". Določite metodo interakcije. Po tem, ko je načrt rezervacije shranjen, se lahko ustavi ob prejemu signala \"shranjeno\".\n"
   ]
  },
  {
   "cell_type": "code",
   "execution_count": null,
   "metadata": {
    "dotnet_interactive": {
     "language": "csharp"
    },
    "polyglot_notebook": {
     "kernelName": "csharp"
    }
   },
   "outputs": [],
   "source": [
    "class ApprovalTerminationStrategy(TerminationStrategy):\n",
    "    \"\"\"A strategy for determining when an agent should terminate.\"\"\"\n",
    "\n",
    "    async def should_agent_terminate(self, agent, history):\n",
    "        \"\"\"Check if the agent should terminate.\"\"\"\n",
    "        return \"saved\" in history[-1].content.lower()"
   ]
  },
  {
   "cell_type": "markdown",
   "metadata": {},
   "source": [
    "# Pojasnilo:\n",
    "\n",
    "Vrstica kode inicializira objekt AzureAIAgentSettings z privzetimi ali vnaprej določenimi nastavitvami z uporabo metode create(). Ta objekt nastavitev (ai_agent_settings) se nato lahko uporabi za konfiguracijo in upravljanje primerka AzureAIAgent.\n"
   ]
  },
  {
   "cell_type": "code",
   "execution_count": null,
   "metadata": {
    "dotnet_interactive": {
     "language": "csharp"
    },
    "polyglot_notebook": {
     "kernelName": "csharp"
    }
   },
   "outputs": [],
   "source": [
    "ai_agent_settings = AzureAIAgentSettings.create()"
   ]
  },
  {
   "cell_type": "markdown",
   "metadata": {},
   "source": [
    "# Pojasnilo:\n",
    "Z uvozom knjižnice requests lahko preprosto izvajate HTTP zahteve in komunicirate s spletnimi storitvami v svoji Python kodi.\n"
   ]
  },
  {
   "cell_type": "code",
   "execution_count": null,
   "metadata": {
    "dotnet_interactive": {
     "language": "csharp"
    },
    "polyglot_notebook": {
     "kernelName": "csharp"
    }
   },
   "outputs": [],
   "source": [
    "import requests"
   ]
  },
  {
   "cell_type": "markdown",
   "metadata": {},
   "source": [
    "# Pojasnilo:\n",
    "To je spremenljivka, ki shranjuje API ključ za dostop do API storitve SERP (Search Engine Results Page). API ključ je edinstven identifikator, ki se uporablja za preverjanje pristnosti zahtev, povezanih z vašim računom.\n",
    "\n",
    "'GOOGLE_SEARCH_API_KEY': To je nadomestni niz. Nadomestiti morate ''GOOGLE_SEARCH_API_KEY'' s svojim dejanskim API ključem za SERP.\n",
    "\n",
    "Namen: Namen te vrstice je shraniti API ključ v spremenljivko, da se lahko uporabi za preverjanje pristnosti zahtev do API storitve SERP. API ključ je potreben za dostop do storitve in izvajanje iskanj.\n",
    "\n",
    "Kako pridobiti API ključ za SERP: Če želite pridobiti API ključ za SERP, sledite tem splošnim korakom na https://serpapi.com (točni koraki se lahko razlikujejo glede na specifično API storitev SERP, ki jo uporabljate):\n",
    "\n",
    "Izberite API storitev SERP: Na voljo je več API storitev SERP, kot so SerpAPI, Google Custom Search JSON API in druge. Izberite tisto, ki najbolj ustreza vašim potrebam.\n",
    "\n",
    "Registrirajte se za račun:\n",
    "\n",
    "Pojdite na spletno stran izbrane API storitve SERP https://www.serpapi.com in se registrirajte za račun. Morda boste morali vnesti osnovne podatke in potrditi svoj e-poštni naslov.\n",
    "\n",
    "Ustvarite API ključ:\n",
    "\n",
    "Po registraciji se prijavite v svoj račun in pojdite na razdelek API ali nadzorno ploščo. Poiščite možnost za ustvarjanje ali generiranje novega API ključa.\n",
    "Kopirajte API ključ:\n",
    "\n",
    "Ko je API ključ ustvarjen, ga kopirajte. Ta ključ bo uporabljen za preverjanje pristnosti vaših zahtev do API storitve SERP.\n",
    "Zamenjajte nadomestni niz:\n",
    "\n",
    "Nadomestite nadomestni niz v svoji .env datoteki.\n"
   ]
  },
  {
   "cell_type": "code",
   "execution_count": null,
   "metadata": {
    "dotnet_interactive": {
     "language": "csharp"
    },
    "polyglot_notebook": {
     "kernelName": "csharp"
    }
   },
   "outputs": [],
   "source": [
    "SERPAPI_SEARCH_API_KEY=os.getenv('SERPAPI_SEARCH_API_KEY')"
   ]
  },
  {
   "cell_type": "code",
   "execution_count": null,
   "metadata": {
    "dotnet_interactive": {
     "language": "csharp"
    },
    "polyglot_notebook": {
     "kernelName": "csharp"
    }
   },
   "outputs": [],
   "source": [
    "SERPAPI_SEARCH_ENDPOINT = os.getenv('SERPAPI_SEARCH_ENDPOINT')"
   ]
  },
  {
   "cell_type": "markdown",
   "metadata": {},
   "source": [
    "# Pojasnilo:\n",
    "Razred BookingPlugin ponuja metode za rezervacijo hotelov in letov z uporabo Google Search API-ja platforme Serpapi.com. Razred sestavi potrebne parametre, pošlje zahteve API-ju in obdela odgovore, da vrne ustrezne informacije o rezervacijah. Za avtentikacijo in pošiljanje zahtev na Google Search API se uporabljata ključ API (SERPAPI_SEARCH_API_KEY) in končna točka (SERPAPI_SEARCH_ENDPOINT).\n"
   ]
  },
  {
   "cell_type": "code",
   "execution_count": null,
   "metadata": {
    "dotnet_interactive": {
     "language": "csharp"
    },
    "polyglot_notebook": {
     "kernelName": "csharp"
    }
   },
   "outputs": [],
   "source": [
    "# Define Booking Plugin\n",
    "class BookingPlugin:\n",
    "    \"\"\"Booking Plugin for customers\"\"\"\n",
    "    @kernel_function(description=\"booking hotel\")\n",
    "    def booking_hotel(self,query: Annotated[str, \"The name of the city\"], check_in_date: Annotated[str, \"Hotel Check-in Time\"], check_out_date: Annotated[str, \"Hotel Check-in Time\"])-> Annotated[str, \"Return the result of booking hotel infomation\"]:\n",
    "\n",
    "        params = {\n",
    "            \"engine\": \"google_hotels\",\n",
    "            \"q\": query,\n",
    "            \"check_in_date\": check_in_date,\n",
    "            \"check_out_date\": check_out_date,\n",
    "            \"adults\": \"2\",\n",
    "            \"currency\": \"USD\",\n",
    "            \"gl\": \"us\",\n",
    "            \"hl\": \"en\",\n",
    "            \"api_key\": SERPAPI_SEARCH_API_KEY\n",
    "        }\n",
    "\n",
    "        response = requests.get(SERPAPI_SEARCH_ENDPOINT, params=params)\n",
    "        if response.status_code == 200:\n",
    "            response = response.json()\n",
    "            return response[\"properties\"]\n",
    "        else:\n",
    "            return None\n",
    "\n",
    "    \n",
    "    @kernel_function(description=\"booking fight\")\n",
    "    def  booking_fight(self,origin: Annotated[str, \"The name of Departure\"], destination: Annotated[str, \"The name of Destination\"], outbound_date: Annotated[str, \"The date of outbound\"], return_date: Annotated[str, \"The date of Return_date\"])-> Annotated[str, \"Return the result of booking fight infomation\"]:\n",
    "        \n",
    "        go_params = {\n",
    "            \"engine\": \"google_flights\",   \n",
    "            \"departure_id\": origin,\n",
    "            \"arrival_id\": destination,\n",
    "            \"outbound_date\": outbound_date,\n",
    "            \"return_date\": return_date,  \n",
    "            \"currency\": \"USD\",\n",
    "            \"hl\": \"en\",\n",
    "            \"api_key\": SERPAPI_SEARCH_API_KEY  \n",
    "        }\n",
    "\n",
    "        print(go_params)\n",
    "\n",
    "        go_response = requests.get(SERPAPI_SEARCH_ENDPOINT, params=go_params)\n",
    "\n",
    "\n",
    "        result = ''\n",
    "\n",
    "        if go_response.status_code == 200:\n",
    "            response = go_response.json()\n",
    "\n",
    "            result += \"# outbound \\n \" + str(response)\n",
    "        else:\n",
    "            print('error!!!')\n",
    "            # return None\n",
    "\n",
    "        \n",
    "        back_params = {\n",
    "            \"engine\": \"google_flights\",   \n",
    "            \"departure_id\": destination,\n",
    "            \"arrival_id\": origin,\n",
    "            \"outbound_date\": return_date,\n",
    "            \"return_date\": return_date,  \n",
    "            \"currency\": \"USD\",\n",
    "            \"hl\": \"en\",\n",
    "            \"api_key\": SERPAPI_SEARCH_API_KEY  \n",
    "        }\n",
    "\n",
    "\n",
    "        print(back_params)\n",
    "\n",
    "\n",
    "        back_response = requests.get(SERPAPI_SEARCH_ENDPOINT, params=back_params)\n",
    "\n",
    "\n",
    "\n",
    "        if back_response.status_code == 200:\n",
    "            response = back_response.json()\n",
    "\n",
    "            result += \"\\n # return \\n\"  + str(response)\n",
    "\n",
    "        else:\n",
    "            print('error!!!')\n",
    "            # return None\n",
    "        \n",
    "        print(result)\n",
    "\n",
    "        return result\n",
    "\n",
    "        \n"
   ]
  },
  {
   "cell_type": "markdown",
   "metadata": {},
   "source": [
    "# Pojasnilo:\n",
    "Razred SavePlugin ponuja metodo saving_plan za shranjevanje načrtov potovanj z uporabo storitev Azure AI. Nastavi Azure poverilnice, ustvari AI agenta, obdela uporabniške vnose za generiranje in shranjevanje vsebine načrta potovanja ter upravlja shranjevanje datotek in operacije čiščenja. Metoda vrne \"Saved\" ob uspešnem zaključku.\n"
   ]
  },
  {
   "cell_type": "code",
   "execution_count": null,
   "metadata": {
    "dotnet_interactive": {
     "language": "csharp"
    },
    "polyglot_notebook": {
     "kernelName": "csharp"
    }
   },
   "outputs": [],
   "source": [
    "class SavePlugin:\n",
    "    \"\"\"Save Plugin for customers\"\"\"\n",
    "    @kernel_function(description=\"saving plan\")\n",
    "    async def saving_plan(self,tripplan: Annotated[str, \"The content of trip plan\"])-> Annotated[str, \"Return status of save content\"]:\n",
    "\n",
    "        async with (\n",
    "            DefaultAzureCredential() as creds,\n",
    "            AzureAIAgent.create_client(\n",
    "                credential=creds,\n",
    "                conn_str=ai_agent_settings.project_connection_string.get_secret_value(),\n",
    "            ) as client,\n",
    "        ):\n",
    "\n",
    "            code_interpreter = CodeInterpreterTool()\n",
    "            \n",
    "            agent_definition = await client.agents.create_agent(\n",
    "                model=ai_agent_settings.model_deployment_name,\n",
    "                tools=code_interpreter.definitions,\n",
    "                tool_resources=code_interpreter.resources,\n",
    "            )\n",
    "\n",
    "\n",
    "            agent = AzureAIAgent(\n",
    "                client=client,\n",
    "                definition=agent_definition,\n",
    "            )\n",
    "\n",
    "            thread = await client.agents.create_thread()\n",
    "\n",
    "\n",
    "            user_inputs = [\n",
    "                \"\"\"\n",
    "            \n",
    "                        You are my Python programming assistant. Generate code,save \"\"\"+ tripplan +\n",
    "                        \n",
    "                    \"\"\"    \n",
    "                        and execute it according to the following requirements\n",
    "\n",
    "                        1. Save blog content to trip-{YYMMDDHHMMSS}.md\n",
    "\n",
    "                        2. give me the download this file link\n",
    "                    \"\"\"\n",
    "            ]\n",
    "\n",
    "\n",
    "\n",
    "            try:\n",
    "                for user_input in user_inputs:\n",
    "                    # Add the user input as a chat message\n",
    "                    await agent.add_chat_message(\n",
    "                        thread_id=thread.id, message=ChatMessageContent(role=AuthorRole.USER, content=user_input)\n",
    "                    )\n",
    "                    print(f\"# User: '{user_input}'\")\n",
    "                    # Invoke the agent for the specified thread\n",
    "                    async for content in agent.invoke(thread_id=thread.id):\n",
    "                        if content.role != AuthorRole.TOOL:\n",
    "                            print(f\"# Agent: {content.content}\")\n",
    "\n",
    "                    \n",
    "                    messages = await client.agents.list_messages(thread_id=thread.id)\n",
    "\n",
    "                    # OpenAIPageableListOfThreadMessage\n",
    "                    # OpenAIPageableListOfThreadMessage\n",
    "\n",
    "\n",
    "                    for file_path_annotation in messages.file_path_annotations:\n",
    "\n",
    "                            file_name = os.path.basename(file_path_annotation.text)\n",
    "\n",
    "                            await client.agents.save_file(file_id=file_path_annotation.file_path.file_id, file_name=file_name,target_dir=\"./trip\")\n",
    "\n",
    "                    \n",
    "            finally:\n",
    "                await client.agents.delete_thread(thread.id)\n",
    "                await client.agents.delete_agent(agent.id)\n",
    "\n",
    "\n",
    "        return \"Saved\""
   ]
  },
  {
   "cell_type": "markdown",
   "metadata": {},
   "source": [
    "# Pojasnilo:\n",
    "Ta koda nastavi Azure AI agente za upravljanje rezervacij letov in hotelov ter shranjevanje načrtov potovanj na podlagi uporabniških vnosov. Uporablja Azure poverilnice za ustvarjanje in konfiguracijo agentov, obdeluje uporabniške vnose prek skupinskega klepeta ter zagotavlja ustrezno čiščenje po zaključku nalog. Agenti uporabljajo specifične vtičnike (BookingPlugin in SavePlugin) za izvajanje svojih nalog.\n"
   ]
  },
  {
   "cell_type": "code",
   "execution_count": null,
   "metadata": {
    "dotnet_interactive": {
     "language": "csharp"
    },
    "polyglot_notebook": {
     "kernelName": "csharp"
    }
   },
   "outputs": [],
   "source": [
    "async with (\n",
    "    DefaultAzureCredential() as creds,\n",
    "    AzureAIAgent.create_client(\n",
    "        credential=creds,\n",
    "        conn_str=ai_agent_settings.project_connection_string.get_secret_value(),\n",
    "    ) as client,\n",
    "):\n",
    "    BOOKING_AGENT_NAME = \"BookingAgent\"\n",
    "    BOOKING_AGENT_INSTRUCTIONS = \"\"\"\n",
    "    You are a booking agent. Help me book flights or hotels.\n",
    "\n",
    "    Thought: Please understand the user's intention and confirm whether to use the reservation system to complete the task.\n",
    "\n",
    "    Actions:\n",
    "    - For flight bookings, convert the departure and destination names into airport codes.\n",
    "    - Use the appropriate API for hotel or flight bookings. Verify that all necessary parameters are available. If any parameters are missing, ask the user to provide them. If all parameters are complete, call the corresponding function.\n",
    "    - If the task is not related to hotel or flight booking, respond with the final answer only.\n",
    "    - Output the results using a markdown table:\n",
    "      - For flight bookings, output separate outbound and return contents in the order of:\n",
    "        Departure Airport | Airline | Flight Number | Departure Time | Arrival Airport | Arrival Time | Duration | Airplane | Travel Class | Price (USD) | Legroom | Extensions | Carbon Emissions (kg).\n",
    "      - For hotel bookings, output in the order of:\n",
    "        Property Name | Property Description | Check-in Time | Check-out Time | Prices | Nearby Places | Hotel Class | GPS Coordinates.\n",
    "    \"\"\"\n",
    "\n",
    "    SAVE_AGENT_NAME = \"SaveAgent\"\n",
    "    SAVE_AGENT_INSTRUCTIONS = \"\"\"\n",
    "    You are a save tool agent. Help me to save the trip plan.\n",
    "    \"\"\"\n",
    "\n",
    "    # Create agent definition\n",
    "    booking_agent_definition = await client.agents.create_agent(\n",
    "        model=ai_agent_settings.model_deployment_name,\n",
    "        name=BOOKING_AGENT_NAME,\n",
    "        instructions=BOOKING_AGENT_INSTRUCTIONS,\n",
    "    )\n",
    "\n",
    "    # Create the AzureAI Agent\n",
    "    booking_agent = AzureAIAgent(\n",
    "        client=client,\n",
    "        definition=booking_agent_definition,\n",
    "        # Optionally configure polling options\n",
    "        # polling_options=RunPollingOptions(run_polling_interval=timedelta(seconds=1)),\n",
    "    )\n",
    "\n",
    "    # Add the sample plugin to the kernel\n",
    "    booking_agent.kernel.add_plugin(BookingPlugin(), plugin_name=\"booking\")\n",
    "\n",
    "    # Create agent definition\n",
    "    save_agent_definition = await client.agents.create_agent(\n",
    "        model=ai_agent_settings.model_deployment_name,\n",
    "        name=SAVE_AGENT_NAME,\n",
    "        instructions=SAVE_AGENT_INSTRUCTIONS\n",
    "    )\n",
    "\n",
    "    # Create the AzureAI Agent\n",
    "    save_agent = AzureAIAgent(\n",
    "        client=client,\n",
    "        definition=save_agent_definition,\n",
    "    )\n",
    "\n",
    "    save_agent.kernel.add_plugin(SavePlugin(), plugin_name=\"saving\")\n",
    "\n",
    "    user_inputs = [\n",
    "        \"I have a business trip from London to New York in Feb 20 2025 to Feb 27 2025 ,help me to book a hotel and fight tickets and save it\"\n",
    "    ]\n",
    "\n",
    "    chat = AgentGroupChat(\n",
    "        agents=[booking_agent, save_agent],\n",
    "        termination_strategy=ApprovalTerminationStrategy(agents=[save_agent], maximum_iterations=10),\n",
    "    )\n",
    "\n",
    "    try:\n",
    "        for user_input in user_inputs:\n",
    "            # Add the user input as a chat message\n",
    "            await chat.add_chat_message(\n",
    "                ChatMessageContent(role=AuthorRole.USER, content=user_input)\n",
    "            )\n",
    "            print(f\"# User: '{user_input}'\")\n",
    "\n",
    "            async for content in chat.invoke():\n",
    "                print(f\"# {content.role} - {content.name or '*'}: '{content.content}'\")\n",
    "\n",
    "            print(f\"# IS COMPLETE: {chat.is_complete}\")\n",
    "\n",
    "            print(\"*\" * 60)\n",
    "            print(\"Chat History (In Descending Order):\\n\")\n",
    "            async for message in chat.get_chat_messages(agent=save_agent):\n",
    "                print(f\"# {message.role} - {message.name or '*'}: '{message.content}'\")\n",
    "    finally:\n",
    "        await chat.reset()\n",
    "        await client.agents.delete_agent(save_agent.id)\n",
    "        await client.agents.delete_agent(booking_agent.id)\n"
   ]
  },
  {
   "cell_type": "markdown",
   "metadata": {},
   "source": [
    "\n---\n\n**Omejitev odgovornosti**:  \nTa dokument je bil preveden z uporabo storitve za prevajanje z umetno inteligenco [Co-op Translator](https://github.com/Azure/co-op-translator). Čeprav si prizadevamo za natančnost, vas prosimo, da upoštevate, da lahko avtomatizirani prevodi vsebujejo napake ali netočnosti. Izvirni dokument v njegovem maternem jeziku je treba obravnavati kot avtoritativni vir. Za ključne informacije priporočamo profesionalni človeški prevod. Ne prevzemamo odgovornosti za morebitna napačna razumevanja ali napačne interpretacije, ki bi nastale zaradi uporabe tega prevoda.\n"
   ]
  }
 ],
 "metadata": {
  "kernelspec": {
   "display_name": "3.12.1",
   "language": "python",
   "name": "python3"
  },
  "language_info": {
   "codemirror_mode": {
    "name": "ipython",
    "version": 3
   },
   "file_extension": ".py",
   "mimetype": "text/x-python",
   "name": "python",
   "nbconvert_exporter": "python",
   "pygments_lexer": "ipython3",
   "version": "3.12.1"
  },
  "polyglot_notebook": {
   "kernelInfo": {
    "defaultKernelName": "csharp",
    "items": [
     {
      "aliases": [],
      "name": "csharp"
     }
    ]
   }
  },
  "coopTranslator": {
   "original_hash": "1baa60020a95eda27b7e9ecfda99965b",
   "translation_date": "2025-08-30T00:47:26+00:00",
   "source_file": "08-multi-agent/code_samples/08-python_multi_aiagent_bookinghotel.ipynb",
   "language_code": "sl"
  }
 },
 "nbformat": 4,
 "nbformat_minor": 2
}