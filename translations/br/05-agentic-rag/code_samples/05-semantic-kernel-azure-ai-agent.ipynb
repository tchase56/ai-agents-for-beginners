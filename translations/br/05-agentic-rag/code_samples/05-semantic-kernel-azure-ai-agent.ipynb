{
 "cells": [
  {
   "cell_type": "markdown",
   "metadata": {},
   "source": [
    "# RAG Usando o Serviço de Agente do Azure AI e Semantic Kernel\n",
    "\n",
    "Este trecho de código demonstra como criar e gerenciar um agente do Azure AI para geração aumentada por recuperação (RAG) usando o `Serviço de Agente do Azure AI` e o `Semantic Kernel`. O agente processa consultas dos usuários com base no contexto recuperado e fornece respostas precisas de acordo.\n"
   ]
  },
  {
   "cell_type": "markdown",
   "metadata": {},
   "source": []
  },
  {
   "cell_type": "markdown",
   "metadata": {},
   "source": [
    "Correção de Versão do SQLite  \n",
    "Se você encontrar o erro:  \n",
    "```\n",
    "RuntimeError: Your system has an unsupported version of sqlite3. Chroma requires sqlite3 >= 3.35.0\n",
    "```  \n",
    "\n",
    "Descomente este bloco de código no início do seu notebook:  \n"
   ]
  },
  {
   "cell_type": "code",
   "execution_count": null,
   "metadata": {},
   "outputs": [],
   "source": [
    "# %pip install pysqlite3-binary\n",
    "# __import__('pysqlite3')\n",
    "# import sys\n",
    "# sys.modules['sqlite3'] = sys.modules.pop('pysqlite3')"
   ]
  },
  {
   "cell_type": "markdown",
   "metadata": {},
   "source": [
    "### Importando Pacotes\n",
    "O código a seguir importa os pacotes necessários:\n"
   ]
  },
  {
   "cell_type": "code",
   "execution_count": null,
   "metadata": {},
   "outputs": [],
   "source": [
    "# Azure imports for project client and credentials\n",
    "from azure.ai.projects.models import FileSearchTool, OpenAIFile, VectorStore\n",
    "from azure.identity.aio import DefaultAzureCredential\n",
    "\n",
    "# Semantic Kernel imports\n",
    "from semantic_kernel.agents import AzureAIAgent, AzureAIAgentThread"
   ]
  },
  {
   "cell_type": "markdown",
   "metadata": {},
   "source": [
    "# Geração Aumentada por Recuperação com Semantic Kernel & Azure AI Agent Service\n",
    "\n",
    "Este exemplo demonstra como usar o **Azure AI Agent Service** para realizar **Geração Aumentada por Recuperação (RAG)**, combinando um modelo de linguagem com contexto específico de domínio a partir de um documento enviado.\n",
    "\n",
    "### Como Funciona\n",
    "\n",
    "1. **Envio de Documento**: Um arquivo markdown (document.md) contendo informações (política de seguro de viagem da Contoso) é enviado ao serviço de agente.\n",
    "\n",
    "2. **Criação de Armazenamento Vetorial**: O documento é indexado em um armazenamento vetorial para permitir busca semântica sobre seu conteúdo.\n",
    "\n",
    "3. **Configuração do Agente**: Um agente é instanciado usando o modelo `gpt-4o` com as seguintes instruções rigorosas:\n",
    "   - Responder apenas perguntas baseadas no conteúdo recuperado do documento.\n",
    "   - Recusar-se a responder se a pergunta estiver fora do escopo.\n",
    "\n",
    "4. **Integração da Ferramenta de Busca de Arquivos**: A `FileSearchTool` é registrada com o agente, permitindo que o modelo busque e recupere trechos relevantes do documento indexado durante a inferência.\n",
    "\n",
    "5. **Interação com o Usuário**: Os usuários podem fazer perguntas. Se informações relevantes forem encontradas no documento, o agente gera uma resposta fundamentada.  \n",
    "   Caso contrário, o agente responde explicitamente que o documento não contém informações suficientes.\n"
   ]
  },
  {
   "cell_type": "markdown",
   "metadata": {},
   "source": [
    "### Função Principal\n",
    "\n",
    "Esta é a função principal do programa. Ela é responsável por inicializar os componentes e gerenciar o fluxo principal da aplicação.\n",
    "\n",
    "```python\n",
    "def main():\n",
    "    # Inicializa os componentes necessários\n",
    "    initialize_components()\n",
    "\n",
    "    # Executa o fluxo principal\n",
    "    run_main_flow()\n",
    "```\n",
    "\n",
    "### Configuração\n",
    "\n",
    "Certifique-se de configurar corretamente os parâmetros antes de executar o programa. Isso inclui definir variáveis de ambiente e ajustar as configurações no arquivo de configuração.\n",
    "\n",
    "### Dependências\n",
    "\n",
    "Antes de começar, instale todas as dependências necessárias. Você pode fazer isso executando o seguinte comando:\n",
    "\n",
    "```bash\n",
    "pip install -r requirements.txt\n",
    "```\n",
    "\n",
    "### Executando o Programa\n",
    "\n",
    "Para executar o programa, use o seguinte comando:\n",
    "\n",
    "```bash\n",
    "python main.py\n",
    "```\n",
    "\n",
    "[!NOTE] Certifique-se de que todas as dependências foram instaladas antes de executar o programa.\n",
    "\n",
    "### Solução de Problemas\n",
    "\n",
    "Se você encontrar problemas ao executar o programa, verifique os seguintes pontos:\n",
    "\n",
    "1. Certifique-se de que todas as dependências estão instaladas corretamente.\n",
    "2. Verifique se as variáveis de ambiente estão configuradas corretamente.\n",
    "3. Consulte os logs para obter mais informações sobre o erro.\n",
    "\n",
    "[!TIP] Use a flag `--debug` para ativar o modo de depuração e obter mais detalhes durante a execução.\n",
    "\n",
    "### Contribuindo\n",
    "\n",
    "Se você deseja contribuir para este projeto, siga estas etapas:\n",
    "\n",
    "1. Faça um fork do repositório.\n",
    "2. Crie um branch para suas alterações.\n",
    "3. Envie um pull request com uma descrição detalhada das alterações.\n",
    "\n",
    "[!IMPORTANT] Certifique-se de seguir as diretrizes de contribuição antes de enviar seu pull request.\n",
    "\n",
    "### Licença\n",
    "\n",
    "Este projeto está licenciado sob a licença MIT. Consulte o arquivo LICENSE para mais detalhes.\n"
   ]
  },
  {
   "cell_type": "markdown",
   "metadata": {},
   "source": [
    "Certifique-se de executar primeiro `az login` usando o Azure CLI para que o contexto de autenticação adequado seja fornecido ao usar o `DefaultAzureCredential`. O Azure AI Agent Service não utiliza chaves de API.\n"
   ]
  },
  {
   "cell_type": "code",
   "execution_count": null,
   "metadata": {},
   "outputs": [],
   "source": [
    "async def main():\n",
    "    async with (\n",
    "        DefaultAzureCredential() as creds,\n",
    "        AzureAIAgent.create_client(credential=creds) as client,\n",
    "    ):\n",
    "        file: OpenAIFile = await client.agents.upload_file_and_poll(file_path=\"document.md\", purpose=\"assistants\")\n",
    "        vector_store: VectorStore = await client.agents.create_vector_store_and_poll(\n",
    "            file_ids=[file.id], name=\"my_vectorstore\"\n",
    "        )\n",
    "\n",
    "        # Define agent name and instructions tailored for RAG.\n",
    "        AGENT_NAME = \"RAGAgent\"\n",
    "        AGENT_INSTRUCTIONS = \"\"\"\n",
    "        You are an AI assistant designed to answer user questions using only the information retrieved from the provided document(s).\n",
    "\n",
    "        - If a user's question cannot be answered using the retrieved context, **you must clearly respond**: \n",
    "        \"I'm sorry, but the uploaded document does not contain the necessary information to answer that question.\"\n",
    "        - Do not answer from general knowledge or reasoning. Do not make assumptions or generate hypothetical explanations.\n",
    "        - Do not provide definitions, tutorials, or commentary that is not explicitly grounded in the content of the uploaded file(s).\n",
    "        - If a user asks a question like \"What is a Neural Network?\", and this is not discussed in the uploaded document, respond as instructed above.\n",
    "        - For questions that do have relevant content in the document (e.g., Contoso's travel insurance coverage), respond accurately, and cite the document explicitly.\n",
    "\n",
    "        You must behave as if you have no external knowledge beyond what is retrieved from the uploaded document.\n",
    "        \"\"\"\n",
    "\n",
    "        \n",
    "        # Create file search tool with uploaded resources\n",
    "        file_search = FileSearchTool(vector_store_ids=[vector_store.id])\n",
    "\n",
    "        # 3. Create an agent on the Azure AI agent service with the file search tool\n",
    "        agent_definition = await client.agents.create_agent(\n",
    "            model=\"gpt-4o\",  # This model should match your Azure OpenAI deployment.\n",
    "            name=AGENT_NAME,\n",
    "            instructions=AGENT_INSTRUCTIONS,\n",
    "            tools=file_search.definitions,\n",
    "            tool_resources=file_search.resources,\n",
    "        )\n",
    "        \n",
    "        # Create the Azure AI Agent using the client and definition.\n",
    "        agent = AzureAIAgent(\n",
    "            client=client,\n",
    "            definition=agent_definition,\n",
    "        )\n",
    "        \n",
    "        # Create a thread to hold the conversation\n",
    "        # If no thread is provided, a new thread will be\n",
    "        # created and returned with the initial response\n",
    "        thread: AzureAIAgentThread | None = None\n",
    "        \n",
    "        # Example user queries.\n",
    "        user_inputs = [\n",
    "            \"Can you explain Contoso's travel insurance coverage?\",  # Relevant context.\n",
    "            \"What is a Neural Network?\"  # No relevant context from the document. Will not contain a source annotation.\n",
    "        ]\n",
    "        \n",
    "        try:\n",
    "            for user_input in user_inputs:\n",
    "                print(f\"# User: '{user_input}'\")\n",
    "                # Invoke the agent for the specified thread for response\n",
    "                async for response in agent.invoke(messages=user_input, thread=thread):\n",
    "                    print(f\"# {response.name}: {response}\")\n",
    "                    thread = response.thread\n",
    "        finally:\n",
    "            # Clean up resources.\n",
    "            await thread.delete() if thread else None\n",
    "            await client.agents.delete_vector_store(vector_store.id)\n",
    "            await client.agents.delete_file(file.id)\n",
    "            await client.agents.delete_agent(agent.id)\n",
    "            print(\"\\nCleaned up agent, thread, file, and vector store.\")\n",
    "\n",
    "await main()"
   ]
  },
  {
   "cell_type": "markdown",
   "metadata": {},
   "source": [
    "Entendido! Por favor, forneça o conteúdo do arquivo Markdown que você gostaria que eu traduza para o português (Brasil).\n"
   ]
  },
  {
   "cell_type": "markdown",
   "metadata": {},
   "source": [
    "\n---\n\n**Aviso Legal**:  \nEste documento foi traduzido utilizando o serviço de tradução por IA [Co-op Translator](https://github.com/Azure/co-op-translator). Embora nos esforcemos para garantir a precisão, esteja ciente de que traduções automáticas podem conter erros ou imprecisões. O documento original em seu idioma nativo deve ser considerado a fonte oficial. Para informações críticas, recomenda-se a tradução profissional realizada por humanos. Não nos responsabilizamos por quaisquer mal-entendidos ou interpretações equivocadas decorrentes do uso desta tradução.\n"
   ]
  }
 ],
 "metadata": {
  "kernelspec": {
   "display_name": ".venv",
   "language": "python",
   "name": "python3"
  },
  "language_info": {
   "codemirror_mode": {
    "name": "ipython",
    "version": 3
   },
   "file_extension": ".py",
   "mimetype": "text/x-python",
   "name": "python",
   "nbconvert_exporter": "python",
   "pygments_lexer": "ipython3",
   "version": "3.11.11"
  },
  "coopTranslator": {
   "original_hash": "a86c3ddfbe35024993bbf563588aad48",
   "translation_date": "2025-08-29T14:18:21+00:00",
   "source_file": "05-agentic-rag/code_samples/05-semantic-kernel-azure-ai-agent.ipynb",
   "language_code": "br"
  }
 },
 "nbformat": 4,
 "nbformat_minor": 2
}