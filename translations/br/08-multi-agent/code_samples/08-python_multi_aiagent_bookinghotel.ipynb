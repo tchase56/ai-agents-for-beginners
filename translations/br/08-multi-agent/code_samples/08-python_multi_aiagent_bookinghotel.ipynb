{
 "cells": [
  {
   "cell_type": "markdown",
   "metadata": {},
   "source": [
    "## **Exemplos: Multi-Agentes de IA para Reservar Hotel**\n",
    "\n",
    "No mundo acelerado de hoje, planejar uma viagem de negócios envolve mais do que apenas reservar um voo e um quarto de hotel. Exige um nível de coordenação e eficiência que pode ser difícil de alcançar. É aqui que os Multi-Agentes de IA entram em cena, revolucionando a forma como gerenciamos nossas necessidades de viagem.\n",
    "\n",
    "Imagine ter uma equipe de agentes inteligentes à sua disposição, trabalhando juntos para lidar com todos os aspectos da sua viagem com precisão e facilidade. Com nossa tecnologia avançada de IA, criamos agentes especializados para serviços de reserva e organização de itinerários, garantindo uma experiência de viagem tranquila e sem estresse.\n",
    "\n",
    "Este é um cenário básico. Ao planejar uma viagem de negócios, precisamos consultar um agente de viagens corporativas para obter informações sobre passagens aéreas, hotéis, etc. Por meio de Agentes de IA, podemos criar agentes para serviços de reserva e agentes para organização de itinerários que colaboram entre si e aumentam o nível de inteligência.\n"
   ]
  },
  {
   "cell_type": "markdown",
   "metadata": {},
   "source": [
    "# Inicializar o Serviço de Agente de IA do Azure e obter informações de configuração do **.env**\n",
    "\n",
    "### **.env**\n",
    "\n",
    "Crie um arquivo .env\n",
    "\n",
    "O arquivo **.env** contém a string de conexão do Serviço de Agente de IA do Azure, o modelo usado pelo AOAI e o serviço de API de Pesquisa do Google correspondente, ENDPOINT, etc.\n",
    "\n",
    "- **AZURE_AI_AGENT_MODEL_DEPLOYMENT_NAME** = \"Nome de Implantação do Modelo do Serviço de Agente de IA do Azure\"\n",
    "\n",
    "[**NOTE**] Você precisará de um modelo com Limite de Taxa de 100.000 (Tokens por minuto) e Limite de Taxa de 600 (Requisições por minuto).\n",
    "\n",
    "  Você pode obter o modelo no Azure AI Foundry - Model and Endpoint.\n",
    "\n",
    "- **AZURE_AI_AGENT_PROJECT_CONNECTION_STRING** = \"String de Conexão do Projeto do Serviço de Agente de IA do Azure\"\n",
    "\n",
    "  Você pode obter a string de conexão do projeto na visão geral do seu projeto na tela do Portal AI Foundry.\n",
    "\n",
    "- **SERPAPI_SEARCH_API_KEY** = \"Sua API KEY de Pesquisa do SERPAPI\"\n",
    "- **SERPAPI_SEARCH_ENDPOINT** = \"Seu ENDPOINT de Pesquisa do SERPAPI\"\n",
    "\n",
    "Para obter o Nome de Implantação do Modelo e a String de Conexão do Projeto do Serviço de Agente de IA do Azure, você precisa criar o Serviço de Agente de IA do Azure. É recomendado usar [este template](https://portal.azure.com/#create/Microsoft.Template/uri/https%3A%2F%2Fraw.githubusercontent.com%2Ffosteramanda%2Fazure-agent-quickstart-templates%2Frefs%2Fheads%2Fmaster%2Fquickstarts%2Fmicrosoft.azure-ai-agent-service%2Fstandard-agent%2Fazuredeploy.json) para criá-lo diretamente （***Nota:*** O Serviço de Agente de IA do Azure está atualmente configurado em uma região limitada. É recomendado que você consulte [este link](https://learn.microsoft.com/en-us/azure/ai-services/agents/concepts/model-region-support) para configurar a região).\n",
    "\n",
    "O agente precisa acessar o SERPAPI. É recomendado registrar-se usando [este link](https://serpapi.com/searches). Após o registro, você poderá obter uma API KEY e ENDPOINT únicos.\n"
   ]
  },
  {
   "cell_type": "markdown",
   "metadata": {},
   "source": [
    "# Fazer login no Azure\n",
    "\n",
    "Agora você precisa fazer login no Azure. Abra um terminal no VScode e execute o comando `az login`.\n"
   ]
  },
  {
   "cell_type": "markdown",
   "metadata": {},
   "source": [
    "# Configuração\n",
    "\n",
    "Para executar este notebook, você precisará instalar as seguintes bibliotecas. Aqui está uma lista das bibliotecas necessárias e os comandos correspondentes para instalação com pip:\n",
    "\n",
    "azure-identity: Para autenticação no Azure.  \n",
    "requests: Para realizar requisições HTTP.  \n",
    "semantic-kernel: Para o framework de kernel semântico (assumindo que esta seja uma biblioteca personalizada ou específica, pode ser necessário instalá-la de uma fonte ou repositório específico).  \n"
   ]
  },
  {
   "cell_type": "code",
   "execution_count": null,
   "metadata": {},
   "outputs": [],
   "source": [
    "!pip install azure-identity\n",
    "!pip install requests\n",
    "!pip install semantic-kernel\n",
    "!pip install --upgrade semantic_kernel\n",
    "!pip install azure-cli"
   ]
  },
  {
   "cell_type": "markdown",
   "metadata": {},
   "source": [
    "# Explicação: \n",
    "import asyncio: Isso importa o módulo asyncio, que oferece suporte para programação assíncrona em Python. Ele permite que você escreva código concorrente usando a sintaxe async e await.  \n",
    "from typing import Annotated: Isso importa o tipo Annotated do módulo typing. Annotated é usado para adicionar metadados às anotações de tipo, o que pode ser útil para diversos propósitos, como validação, documentação ou ferramentas.  \n"
   ]
  },
  {
   "cell_type": "code",
   "execution_count": null,
   "metadata": {
    "dotnet_interactive": {
     "language": "csharp"
    },
    "polyglot_notebook": {
     "kernelName": "csharp"
    }
   },
   "outputs": [],
   "source": [
    "import asyncio,os\n",
    "from typing import Annotated"
   ]
  },
  {
   "cell_type": "markdown",
   "metadata": {},
   "source": [
    "# Explicação:\n",
    "Ao usar from dotenv import load_dotenv e load_dotenv(), você pode gerenciar facilmente configurações e informações sensíveis (como chaves de API e URLs de banco de dados) em um arquivo .env, mantendo-as separadas do seu código-fonte e tornando sua aplicação mais segura e fácil de configurar.\n"
   ]
  },
  {
   "cell_type": "code",
   "execution_count": null,
   "metadata": {},
   "outputs": [],
   "source": [
    "import os\n",
    "from dotenv import load_dotenv\n",
    "\n",
    "# Load environment variables from .env file\n",
    "load_dotenv()"
   ]
  },
  {
   "cell_type": "markdown",
   "metadata": {},
   "source": [
    "# Explicação:\n",
    "\n",
    "Declaração de Importação: from azure.identity.aio import DefaultAzureCredential: Isso importa a classe DefaultAzureCredential do módulo azure.identity.aio. A parte \"aio\" no nome do módulo indica que ele foi projetado para operações assíncronas.\n",
    "\n",
    "Propósito do DefaultAzureCredential: A classe DefaultAzureCredential faz parte do Azure SDK para Python. Ela fornece uma maneira padrão de autenticar com os serviços do Azure. Ela tenta autenticar usando vários métodos em uma ordem específica, como variáveis de ambiente, identidade gerenciada e credenciais do Azure CLI.\n",
    "\n",
    "Operações Assíncronas: O módulo \"aio\" indica que a classe DefaultAzureCredential suporta operações assíncronas. Isso significa que você pode usá-la com asyncio para realizar solicitações de autenticação sem bloqueio.\n"
   ]
  },
  {
   "cell_type": "code",
   "execution_count": null,
   "metadata": {
    "dotnet_interactive": {
     "language": "csharp"
    },
    "polyglot_notebook": {
     "kernelName": "csharp"
    }
   },
   "outputs": [],
   "source": [
    "from azure.identity.aio import DefaultAzureCredential"
   ]
  },
  {
   "cell_type": "markdown",
   "metadata": {},
   "source": [
    "# Explicação:\n",
    "Importa vários módulos e classes do pacote semantic_kernel. Aqui está um detalhamento de cada importação:\n",
    "\n",
    "AgentGroupChat de semantic_kernel.agents: Esta classe lida com funcionalidades relacionadas ao chat em grupo para agentes de IA. AzureAIAgent e AzureAIAgentSettings de semantic_kernel.agents.azure_ai:\n",
    "\n",
    "AzureAIAgent: Esta classe é usada para criar e gerenciar agentes de IA que utilizam os serviços de IA do Azure.\n",
    "\n",
    "AzureAIAgentSettings: Esta classe é usada para configurar as definições do AzureAIAgent. TerminationStrategy de semantic_kernel.agents.strategies.termination.termination_strategy:\n",
    "\n",
    "Esta classe define estratégias para encerrar a execução de agentes de IA sob certas condições. ChatMessageContent de semantic_kernel.contents.chat_message_content:\n",
    "\n",
    "Esta classe é usada para gerenciar o conteúdo de mensagens de chat.\n",
    "AuthorRole de semantic_kernel.contents.utils.author_role:\n",
    "\n",
    "Esta classe define diferentes papéis para autores no contexto de mensagens de chat.\n",
    "\n",
    "kernel_function de semantic_kernel.functions.kernel_function_decorator: Este decorador é usado para definir funções do kernel, que são funções que podem ser executadas dentro do framework semantic kernel.\n",
    "Essas importações configuram os componentes necessários para criar e gerenciar agentes de IA que podem interagir em um ambiente de chat em grupo, possivelmente para tarefas como reserva de hotéis ou atividades similares.\n"
   ]
  },
  {
   "cell_type": "code",
   "execution_count": null,
   "metadata": {
    "dotnet_interactive": {
     "language": "csharp"
    },
    "polyglot_notebook": {
     "kernelName": "csharp"
    }
   },
   "outputs": [],
   "source": [
    "from semantic_kernel.agents import AgentGroupChat\n",
    "from semantic_kernel.agents import AzureAIAgent, AzureAIAgentSettings\n",
    "from semantic_kernel.agents.strategies.termination.termination_strategy import TerminationStrategy\n",
    "from semantic_kernel.contents import ChatMessageContent\n",
    "from semantic_kernel.contents import AuthorRole\n",
    "from semantic_kernel.functions.kernel_function_decorator import kernel_function"
   ]
  },
  {
   "cell_type": "markdown",
   "metadata": {},
   "source": [
    "# Explicação:\n",
    "Em seguida, importamos a classe CodeInterpreterTool do módulo azure.ai.projects.models.\n",
    "\n",
    "CodeInterpreterTool: Esta classe faz parte do SDK do Azure AI e é usada para interpretar e executar código no contexto de projetos de IA. Ela oferece funcionalidades para executar trechos de código, analisar código ou integrar a execução de código em fluxos de trabalho de IA.  \n",
    "Essa importação configura o componente necessário para utilizar o CodeInterpreterTool no seu projeto, o que pode ser útil para tarefas que envolvam interpretar e executar código de forma dinâmica.\n"
   ]
  },
  {
   "cell_type": "code",
   "execution_count": null,
   "metadata": {
    "dotnet_interactive": {
     "language": "csharp"
    },
    "polyglot_notebook": {
     "kernelName": "csharp"
    }
   },
   "outputs": [],
   "source": [
    "from azure.ai.projects.models import CodeInterpreterTool"
   ]
  },
  {
   "cell_type": "markdown",
   "metadata": {},
   "source": [
    "# Explicação: \n",
    "A classe ApprovalTerminationStrategy fornece uma estratégia específica para encerrar a operação de um agente de IA. O agente será encerrado se a última mensagem em seu histórico de interações contiver a palavra \"salvo\". Isso pode ser útil em cenários onde a tarefa do agente é considerada concluída assim que recebe a confirmação de que algo foi \"salvo\". Defina o método de interação. Após o plano de reserva ser salvo, ele pode ser interrompido ao receber o sinal de salvo.\n"
   ]
  },
  {
   "cell_type": "code",
   "execution_count": null,
   "metadata": {
    "dotnet_interactive": {
     "language": "csharp"
    },
    "polyglot_notebook": {
     "kernelName": "csharp"
    }
   },
   "outputs": [],
   "source": [
    "class ApprovalTerminationStrategy(TerminationStrategy):\n",
    "    \"\"\"A strategy for determining when an agent should terminate.\"\"\"\n",
    "\n",
    "    async def should_agent_terminate(self, agent, history):\n",
    "        \"\"\"Check if the agent should terminate.\"\"\"\n",
    "        return \"saved\" in history[-1].content.lower()"
   ]
  },
  {
   "cell_type": "markdown",
   "metadata": {},
   "source": [
    "# Explicação:\n",
    "\n",
    "A linha de código inicializa um objeto AzureAIAgentSettings com configurações padrão ou predefinidas ao chamar o método create(). Esse objeto de configurações (ai_agent_settings) pode então ser usado para configurar e gerenciar uma instância de AzureAIAgent.\n"
   ]
  },
  {
   "cell_type": "code",
   "execution_count": null,
   "metadata": {
    "dotnet_interactive": {
     "language": "csharp"
    },
    "polyglot_notebook": {
     "kernelName": "csharp"
    }
   },
   "outputs": [],
   "source": [
    "ai_agent_settings = AzureAIAgentSettings.create()"
   ]
  },
  {
   "cell_type": "markdown",
   "metadata": {},
   "source": [
    "# Explicação:\n",
    "Ao importar a biblioteca requests, você pode facilmente fazer requisições HTTP e interagir com serviços web no seu código Python.\n"
   ]
  },
  {
   "cell_type": "code",
   "execution_count": null,
   "metadata": {
    "dotnet_interactive": {
     "language": "csharp"
    },
    "polyglot_notebook": {
     "kernelName": "csharp"
    }
   },
   "outputs": [],
   "source": [
    "import requests"
   ]
  },
  {
   "cell_type": "markdown",
   "metadata": {},
   "source": [
    "# Explicação:\n",
    "Esta é uma variável que armazena a chave de API para acessar um serviço de API de SERP (Search Engine Results Page). Uma chave de API é um identificador único usado para autenticar solicitações associadas à sua conta.\n",
    "\n",
    "'GOOGLE_SEARCH_API_KEY': Este é um texto de exemplo. Você precisa substituir 'GOOGLE_SEARCH_API_KEY' pela sua chave de API real do SERP.\n",
    "\n",
    "Propósito: O propósito desta linha é armazenar a chave de API em uma variável para que ela possa ser usada para autenticar solicitações ao serviço de API de SERP. A chave de API é necessária para acessar o serviço e realizar buscas.\n",
    "\n",
    "Como obter uma chave de API de SERP: Para obter uma chave de API de SERP, siga estas etapas gerais em https://serpapi.com (os passos exatos podem variar dependendo do serviço de API de SERP específico que você está utilizando):\n",
    "\n",
    "Escolha um serviço de API de SERP: Existem vários serviços de API de SERP disponíveis, como SerpAPI, Google Custom Search JSON API, entre outros. Escolha o que melhor atende às suas necessidades.\n",
    "\n",
    "Cadastre-se em uma conta:\n",
    "\n",
    "Acesse o site do serviço de API de SERP escolhido https://www.serpapi.com e cadastre-se em uma conta. Pode ser necessário fornecer algumas informações básicas e verificar seu endereço de e-mail.\n",
    "\n",
    "Crie uma chave de API:\n",
    "\n",
    "Após se cadastrar, faça login na sua conta e navegue até a seção de API ou painel de controle. Procure uma opção para criar ou gerar uma nova chave de API.\n",
    "Copie a chave de API:\n",
    "\n",
    "Depois que a chave de API for gerada, copie-a. Essa chave será usada para autenticar suas solicitações ao serviço de API de SERP.\n",
    "Substitua o texto de exemplo:\n",
    "\n",
    "Substitua o texto de exemplo no seu arquivo .env\n"
   ]
  },
  {
   "cell_type": "code",
   "execution_count": null,
   "metadata": {
    "dotnet_interactive": {
     "language": "csharp"
    },
    "polyglot_notebook": {
     "kernelName": "csharp"
    }
   },
   "outputs": [],
   "source": [
    "SERPAPI_SEARCH_API_KEY=os.getenv('SERPAPI_SEARCH_API_KEY')"
   ]
  },
  {
   "cell_type": "code",
   "execution_count": null,
   "metadata": {
    "dotnet_interactive": {
     "language": "csharp"
    },
    "polyglot_notebook": {
     "kernelName": "csharp"
    }
   },
   "outputs": [],
   "source": [
    "SERPAPI_SEARCH_ENDPOINT = os.getenv('SERPAPI_SEARCH_ENDPOINT')"
   ]
  },
  {
   "cell_type": "markdown",
   "metadata": {},
   "source": [
    "# Explicação:\n",
    "A classe BookingPlugin fornece métodos para reservar hotéis e voos usando a API de Pesquisa do Google da Serpapi.com. Ela constrói os parâmetros necessários, envia solicitações à API e processa as respostas para retornar informações relevantes de reserva. A chave da API (SERPAPI_SEARCH_API_KEY) e o endpoint (SERPAPI_SEARCH_ENDPOINT) são usados para autenticar e enviar solicitações à API de Pesquisa do Google.\n"
   ]
  },
  {
   "cell_type": "code",
   "execution_count": null,
   "metadata": {
    "dotnet_interactive": {
     "language": "csharp"
    },
    "polyglot_notebook": {
     "kernelName": "csharp"
    }
   },
   "outputs": [],
   "source": [
    "# Define Booking Plugin\n",
    "class BookingPlugin:\n",
    "    \"\"\"Booking Plugin for customers\"\"\"\n",
    "    @kernel_function(description=\"booking hotel\")\n",
    "    def booking_hotel(self,query: Annotated[str, \"The name of the city\"], check_in_date: Annotated[str, \"Hotel Check-in Time\"], check_out_date: Annotated[str, \"Hotel Check-in Time\"])-> Annotated[str, \"Return the result of booking hotel infomation\"]:\n",
    "\n",
    "        params = {\n",
    "            \"engine\": \"google_hotels\",\n",
    "            \"q\": query,\n",
    "            \"check_in_date\": check_in_date,\n",
    "            \"check_out_date\": check_out_date,\n",
    "            \"adults\": \"2\",\n",
    "            \"currency\": \"USD\",\n",
    "            \"gl\": \"us\",\n",
    "            \"hl\": \"en\",\n",
    "            \"api_key\": SERPAPI_SEARCH_API_KEY\n",
    "        }\n",
    "\n",
    "        response = requests.get(SERPAPI_SEARCH_ENDPOINT, params=params)\n",
    "        if response.status_code == 200:\n",
    "            response = response.json()\n",
    "            return response[\"properties\"]\n",
    "        else:\n",
    "            return None\n",
    "\n",
    "    \n",
    "    @kernel_function(description=\"booking fight\")\n",
    "    def  booking_fight(self,origin: Annotated[str, \"The name of Departure\"], destination: Annotated[str, \"The name of Destination\"], outbound_date: Annotated[str, \"The date of outbound\"], return_date: Annotated[str, \"The date of Return_date\"])-> Annotated[str, \"Return the result of booking fight infomation\"]:\n",
    "        \n",
    "        go_params = {\n",
    "            \"engine\": \"google_flights\",   \n",
    "            \"departure_id\": origin,\n",
    "            \"arrival_id\": destination,\n",
    "            \"outbound_date\": outbound_date,\n",
    "            \"return_date\": return_date,  \n",
    "            \"currency\": \"USD\",\n",
    "            \"hl\": \"en\",\n",
    "            \"api_key\": SERPAPI_SEARCH_API_KEY  \n",
    "        }\n",
    "\n",
    "        print(go_params)\n",
    "\n",
    "        go_response = requests.get(SERPAPI_SEARCH_ENDPOINT, params=go_params)\n",
    "\n",
    "\n",
    "        result = ''\n",
    "\n",
    "        if go_response.status_code == 200:\n",
    "            response = go_response.json()\n",
    "\n",
    "            result += \"# outbound \\n \" + str(response)\n",
    "        else:\n",
    "            print('error!!!')\n",
    "            # return None\n",
    "\n",
    "        \n",
    "        back_params = {\n",
    "            \"engine\": \"google_flights\",   \n",
    "            \"departure_id\": destination,\n",
    "            \"arrival_id\": origin,\n",
    "            \"outbound_date\": return_date,\n",
    "            \"return_date\": return_date,  \n",
    "            \"currency\": \"USD\",\n",
    "            \"hl\": \"en\",\n",
    "            \"api_key\": SERPAPI_SEARCH_API_KEY  \n",
    "        }\n",
    "\n",
    "\n",
    "        print(back_params)\n",
    "\n",
    "\n",
    "        back_response = requests.get(SERPAPI_SEARCH_ENDPOINT, params=back_params)\n",
    "\n",
    "\n",
    "\n",
    "        if back_response.status_code == 200:\n",
    "            response = back_response.json()\n",
    "\n",
    "            result += \"\\n # return \\n\"  + str(response)\n",
    "\n",
    "        else:\n",
    "            print('error!!!')\n",
    "            # return None\n",
    "        \n",
    "        print(result)\n",
    "\n",
    "        return result\n",
    "\n",
    "        \n"
   ]
  },
  {
   "cell_type": "markdown",
   "metadata": {},
   "source": [
    "# Explicação:\n",
    "A classe SavePlugin fornece um método saving_plan para salvar planos de viagem utilizando os serviços de Azure AI. Ela configura as credenciais do Azure, cria um agente de IA, processa as entradas do usuário para gerar e salvar o conteúdo do plano de viagem, e gerencia as operações de salvamento de arquivos e limpeza. O método retorna \"Saved\" após a conclusão bem-sucedida.\n"
   ]
  },
  {
   "cell_type": "code",
   "execution_count": null,
   "metadata": {
    "dotnet_interactive": {
     "language": "csharp"
    },
    "polyglot_notebook": {
     "kernelName": "csharp"
    }
   },
   "outputs": [],
   "source": [
    "class SavePlugin:\n",
    "    \"\"\"Save Plugin for customers\"\"\"\n",
    "    @kernel_function(description=\"saving plan\")\n",
    "    async def saving_plan(self,tripplan: Annotated[str, \"The content of trip plan\"])-> Annotated[str, \"Return status of save content\"]:\n",
    "\n",
    "        async with (\n",
    "            DefaultAzureCredential() as creds,\n",
    "            AzureAIAgent.create_client(\n",
    "                credential=creds,\n",
    "                conn_str=ai_agent_settings.project_connection_string.get_secret_value(),\n",
    "            ) as client,\n",
    "        ):\n",
    "\n",
    "            code_interpreter = CodeInterpreterTool()\n",
    "            \n",
    "            agent_definition = await client.agents.create_agent(\n",
    "                model=ai_agent_settings.model_deployment_name,\n",
    "                tools=code_interpreter.definitions,\n",
    "                tool_resources=code_interpreter.resources,\n",
    "            )\n",
    "\n",
    "\n",
    "            agent = AzureAIAgent(\n",
    "                client=client,\n",
    "                definition=agent_definition,\n",
    "            )\n",
    "\n",
    "            thread = await client.agents.create_thread()\n",
    "\n",
    "\n",
    "            user_inputs = [\n",
    "                \"\"\"\n",
    "            \n",
    "                        You are my Python programming assistant. Generate code,save \"\"\"+ tripplan +\n",
    "                        \n",
    "                    \"\"\"    \n",
    "                        and execute it according to the following requirements\n",
    "\n",
    "                        1. Save blog content to trip-{YYMMDDHHMMSS}.md\n",
    "\n",
    "                        2. give me the download this file link\n",
    "                    \"\"\"\n",
    "            ]\n",
    "\n",
    "\n",
    "\n",
    "            try:\n",
    "                for user_input in user_inputs:\n",
    "                    # Add the user input as a chat message\n",
    "                    await agent.add_chat_message(\n",
    "                        thread_id=thread.id, message=ChatMessageContent(role=AuthorRole.USER, content=user_input)\n",
    "                    )\n",
    "                    print(f\"# User: '{user_input}'\")\n",
    "                    # Invoke the agent for the specified thread\n",
    "                    async for content in agent.invoke(thread_id=thread.id):\n",
    "                        if content.role != AuthorRole.TOOL:\n",
    "                            print(f\"# Agent: {content.content}\")\n",
    "\n",
    "                    \n",
    "                    messages = await client.agents.list_messages(thread_id=thread.id)\n",
    "\n",
    "                    # OpenAIPageableListOfThreadMessage\n",
    "                    # OpenAIPageableListOfThreadMessage\n",
    "\n",
    "\n",
    "                    for file_path_annotation in messages.file_path_annotations:\n",
    "\n",
    "                            file_name = os.path.basename(file_path_annotation.text)\n",
    "\n",
    "                            await client.agents.save_file(file_id=file_path_annotation.file_path.file_id, file_name=file_name,target_dir=\"./trip\")\n",
    "\n",
    "                    \n",
    "            finally:\n",
    "                await client.agents.delete_thread(thread.id)\n",
    "                await client.agents.delete_agent(agent.id)\n",
    "\n",
    "\n",
    "        return \"Saved\""
   ]
  },
  {
   "cell_type": "markdown",
   "metadata": {},
   "source": [
    "# Explicação:\n",
    "Este código configura agentes de IA do Azure para lidar com reservas de voos e hotéis, além de salvar planos de viagem com base nas entradas dos usuários. Ele utiliza credenciais do Azure para criar e configurar os agentes, processa as entradas dos usuários por meio de um chat em grupo e garante a limpeza adequada após a conclusão das tarefas. Os agentes utilizam plugins específicos (BookingPlugin e SavePlugin) para realizar suas respectivas funções.\n"
   ]
  },
  {
   "cell_type": "code",
   "execution_count": null,
   "metadata": {
    "dotnet_interactive": {
     "language": "csharp"
    },
    "polyglot_notebook": {
     "kernelName": "csharp"
    }
   },
   "outputs": [],
   "source": [
    "async with (\n",
    "    DefaultAzureCredential() as creds,\n",
    "    AzureAIAgent.create_client(\n",
    "        credential=creds,\n",
    "        conn_str=ai_agent_settings.project_connection_string.get_secret_value(),\n",
    "    ) as client,\n",
    "):\n",
    "    BOOKING_AGENT_NAME = \"BookingAgent\"\n",
    "    BOOKING_AGENT_INSTRUCTIONS = \"\"\"\n",
    "    You are a booking agent. Help me book flights or hotels.\n",
    "\n",
    "    Thought: Please understand the user's intention and confirm whether to use the reservation system to complete the task.\n",
    "\n",
    "    Actions:\n",
    "    - For flight bookings, convert the departure and destination names into airport codes.\n",
    "    - Use the appropriate API for hotel or flight bookings. Verify that all necessary parameters are available. If any parameters are missing, ask the user to provide them. If all parameters are complete, call the corresponding function.\n",
    "    - If the task is not related to hotel or flight booking, respond with the final answer only.\n",
    "    - Output the results using a markdown table:\n",
    "      - For flight bookings, output separate outbound and return contents in the order of:\n",
    "        Departure Airport | Airline | Flight Number | Departure Time | Arrival Airport | Arrival Time | Duration | Airplane | Travel Class | Price (USD) | Legroom | Extensions | Carbon Emissions (kg).\n",
    "      - For hotel bookings, output in the order of:\n",
    "        Property Name | Property Description | Check-in Time | Check-out Time | Prices | Nearby Places | Hotel Class | GPS Coordinates.\n",
    "    \"\"\"\n",
    "\n",
    "    SAVE_AGENT_NAME = \"SaveAgent\"\n",
    "    SAVE_AGENT_INSTRUCTIONS = \"\"\"\n",
    "    You are a save tool agent. Help me to save the trip plan.\n",
    "    \"\"\"\n",
    "\n",
    "    # Create agent definition\n",
    "    booking_agent_definition = await client.agents.create_agent(\n",
    "        model=ai_agent_settings.model_deployment_name,\n",
    "        name=BOOKING_AGENT_NAME,\n",
    "        instructions=BOOKING_AGENT_INSTRUCTIONS,\n",
    "    )\n",
    "\n",
    "    # Create the AzureAI Agent\n",
    "    booking_agent = AzureAIAgent(\n",
    "        client=client,\n",
    "        definition=booking_agent_definition,\n",
    "        # Optionally configure polling options\n",
    "        # polling_options=RunPollingOptions(run_polling_interval=timedelta(seconds=1)),\n",
    "    )\n",
    "\n",
    "    # Add the sample plugin to the kernel\n",
    "    booking_agent.kernel.add_plugin(BookingPlugin(), plugin_name=\"booking\")\n",
    "\n",
    "    # Create agent definition\n",
    "    save_agent_definition = await client.agents.create_agent(\n",
    "        model=ai_agent_settings.model_deployment_name,\n",
    "        name=SAVE_AGENT_NAME,\n",
    "        instructions=SAVE_AGENT_INSTRUCTIONS\n",
    "    )\n",
    "\n",
    "    # Create the AzureAI Agent\n",
    "    save_agent = AzureAIAgent(\n",
    "        client=client,\n",
    "        definition=save_agent_definition,\n",
    "    )\n",
    "\n",
    "    save_agent.kernel.add_plugin(SavePlugin(), plugin_name=\"saving\")\n",
    "\n",
    "    user_inputs = [\n",
    "        \"I have a business trip from London to New York in Feb 20 2025 to Feb 27 2025 ,help me to book a hotel and fight tickets and save it\"\n",
    "    ]\n",
    "\n",
    "    chat = AgentGroupChat(\n",
    "        agents=[booking_agent, save_agent],\n",
    "        termination_strategy=ApprovalTerminationStrategy(agents=[save_agent], maximum_iterations=10),\n",
    "    )\n",
    "\n",
    "    try:\n",
    "        for user_input in user_inputs:\n",
    "            # Add the user input as a chat message\n",
    "            await chat.add_chat_message(\n",
    "                ChatMessageContent(role=AuthorRole.USER, content=user_input)\n",
    "            )\n",
    "            print(f\"# User: '{user_input}'\")\n",
    "\n",
    "            async for content in chat.invoke():\n",
    "                print(f\"# {content.role} - {content.name or '*'}: '{content.content}'\")\n",
    "\n",
    "            print(f\"# IS COMPLETE: {chat.is_complete}\")\n",
    "\n",
    "            print(\"*\" * 60)\n",
    "            print(\"Chat History (In Descending Order):\\n\")\n",
    "            async for message in chat.get_chat_messages(agent=save_agent):\n",
    "                print(f\"# {message.role} - {message.name or '*'}: '{message.content}'\")\n",
    "    finally:\n",
    "        await chat.reset()\n",
    "        await client.agents.delete_agent(save_agent.id)\n",
    "        await client.agents.delete_agent(booking_agent.id)\n"
   ]
  },
  {
   "cell_type": "markdown",
   "metadata": {},
   "source": [
    "\n---\n\n**Aviso Legal**:  \nEste documento foi traduzido utilizando o serviço de tradução por IA [Co-op Translator](https://github.com/Azure/co-op-translator). Embora nos esforcemos para garantir a precisão, esteja ciente de que traduções automáticas podem conter erros ou imprecisões. O documento original em seu idioma nativo deve ser considerado a fonte oficial. Para informações críticas, recomenda-se a tradução profissional feita por humanos. Não nos responsabilizamos por quaisquer mal-entendidos ou interpretações incorretas decorrentes do uso desta tradução.\n"
   ]
  }
 ],
 "metadata": {
  "kernelspec": {
   "display_name": "3.12.1",
   "language": "python",
   "name": "python3"
  },
  "language_info": {
   "codemirror_mode": {
    "name": "ipython",
    "version": 3
   },
   "file_extension": ".py",
   "mimetype": "text/x-python",
   "name": "python",
   "nbconvert_exporter": "python",
   "pygments_lexer": "ipython3",
   "version": "3.12.1"
  },
  "polyglot_notebook": {
   "kernelInfo": {
    "defaultKernelName": "csharp",
    "items": [
     {
      "aliases": [],
      "name": "csharp"
     }
    ]
   }
  },
  "coopTranslator": {
   "original_hash": "1baa60020a95eda27b7e9ecfda99965b",
   "translation_date": "2025-08-29T14:01:17+00:00",
   "source_file": "08-multi-agent/code_samples/08-python_multi_aiagent_bookinghotel.ipynb",
   "language_code": "br"
  }
 },
 "nbformat": 4,
 "nbformat_minor": 2
}