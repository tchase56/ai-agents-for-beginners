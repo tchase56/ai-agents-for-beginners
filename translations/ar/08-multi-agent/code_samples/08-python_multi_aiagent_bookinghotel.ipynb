{
 "cells": [
  {
   "cell_type": "markdown",
   "metadata": {},
   "source": [
    "## **نماذج: وكلاء الذكاء الاصطناعي المتعدد لحجز الفنادق**\n",
    "\n",
    "في عالمنا السريع اليوم، يتطلب التخطيط لرحلة عمل أكثر من مجرد حجز رحلة طيران وغرفة فندق. إنه يحتاج إلى مستوى من التنسيق والكفاءة الذي قد يكون من الصعب تحقيقه. هنا يأتي دور وكلاء الذكاء الاصطناعي المتعدد، حيث يحدثون ثورة في الطريقة التي ندير بها احتياجات السفر الخاصة بنا.\n",
    "\n",
    "تخيل أن لديك فريقًا من الوكلاء الذكيين تحت تصرفك، يعملون معًا للتعامل مع كل جانب من جوانب رحلتك بدقة وسهولة. باستخدام تقنيتنا المتقدمة في الذكاء الاصطناعي، قمنا بإنشاء وكلاء متخصصين لخدمات الحجز وترتيب خطط السفر، مما يضمن تجربة سفر سلسة وخالية من الإجهاد.\n",
    "\n",
    "هذا سيناريو أساسي. عند التخطيط لرحلة عمل، نحتاج إلى التشاور مع وكيل سفر الأعمال للحصول على معلومات عن تذاكر الطيران، ومعلومات عن الفنادق، وما إلى ذلك. من خلال وكلاء الذكاء الاصطناعي، يمكننا بناء وكلاء لخدمات الحجز ووكلاء لترتيب خطط السفر للتعاون وتحسين مستوى الذكاء.\n"
   ]
  },
  {
   "cell_type": "markdown",
   "metadata": {},
   "source": [
    "# تهيئة خدمة Azure AI Agent والحصول على معلومات التكوين من **.env**\n",
    "\n",
    "### **.env**\n",
    "\n",
    "قم بإنشاء ملف .env\n",
    "\n",
    "**.env** يحتوي على سلسلة الاتصال الخاصة بخدمة Azure AI Agent، النموذج المستخدم بواسطة AOAI، وخدمة البحث API الخاصة بـ Google، وENDPOINT، وما إلى ذلك.\n",
    "\n",
    "- **AZURE_AI_AGENT_MODEL_DEPLOYMENT_NAME** = \"اسم نشر نموذج خدمة Azure AI Agent الخاص بك\"\n",
    "\n",
    "[**NOTE**] ستحتاج إلى نموذج بمعدل حد أقصى 100,000 (رموز في الدقيقة) وحد أقصى 600 (طلبات في الدقيقة).\n",
    "\n",
    "  يمكنك الحصول على النموذج في Azure AI Foundry - النموذج وENDPOINT.\n",
    "\n",
    "- **AZURE_AI_AGENT_PROJECT_CONNECTION_STRING** = \"سلسلة الاتصال الخاصة بمشروع خدمة Azure AI Agent الخاص بك\"\n",
    "\n",
    "  يمكنك الحصول على سلسلة الاتصال الخاصة بالمشروع من شاشة نظرة عامة على المشروع في بوابة AI Foundry.\n",
    "\n",
    "- **SERPAPI_SEARCH_API_KEY** = \"مفتاح API الخاص بخدمة البحث SERPAPI\"\n",
    "- **SERPAPI_SEARCH_ENDPOINT** = \"نقطة النهاية الخاصة بخدمة البحث SERPAPI\"\n",
    "\n",
    "للحصول على اسم نشر النموذج وسلسلة الاتصال الخاصة بمشروع خدمة Azure AI Agent، تحتاج إلى إنشاء خدمة Azure AI Agent. يُوصى باستخدام [هذا القالب](https://portal.azure.com/#create/Microsoft.Template/uri/https%3A%2F%2Fraw.githubusercontent.com%2Ffosteramanda%2Fazure-agent-quickstart-templates%2Frefs%2Fheads%2Fmaster%2Fquickstarts%2Fmicrosoft.azure-ai-agent-service%2Fstandard-agent%2Fazuredeploy.json) لإنشائها مباشرةً (***ملاحظة:*** خدمة Azure AI Agent حالياً محددة في منطقة محدودة. يُوصى بالرجوع إلى [هذا الرابط](https://learn.microsoft.com/en-us/azure/ai-services/agents/concepts/model-region-support) لتحديد المنطقة).\n",
    "\n",
    "الوكيل يحتاج إلى الوصول إلى SERPAPI. يُوصى بالتسجيل باستخدام [هذا الرابط](https://serpapi.com/searches). بعد التسجيل، يمكنك الحصول على مفتاح API فريد ونقطة نهاية.\n"
   ]
  },
  {
   "cell_type": "markdown",
   "metadata": {},
   "source": [
    "# تسجيل الدخول إلى Azure\n",
    "\n",
    "الآن تحتاج إلى تسجيل الدخول إلى Azure. افتح نافذة طرفية في VScode وقم بتشغيل الأمر `az login`.\n"
   ]
  },
  {
   "cell_type": "markdown",
   "metadata": {},
   "source": [
    "# الإعداد\n",
    "\n",
    "لتشغيل هذا الدفتر، ستحتاج إلى تثبيت المكتبات التالية. إليك قائمة بالمكتبات المطلوبة وأوامر التثبيت باستخدام pip:\n",
    "\n",
    "azure-identity: للمصادقة مع Azure.  \n",
    "requests: لإجراء طلبات HTTP.  \n",
    "semantic-kernel: لإطار العمل الخاص بالنواة الدلالية (بافتراض أن هذه مكتبة مخصصة أو محددة، قد تحتاج إلى تثبيتها من مصدر أو مستودع معين).  \n"
   ]
  },
  {
   "cell_type": "code",
   "execution_count": null,
   "metadata": {},
   "outputs": [],
   "source": [
    "!pip install azure-identity\n",
    "!pip install requests\n",
    "!pip install semantic-kernel\n",
    "!pip install --upgrade semantic_kernel\n",
    "!pip install azure-cli"
   ]
  },
  {
   "cell_type": "markdown",
   "metadata": {},
   "source": [
    "# الشرح:\n",
    "import asyncio: يقوم هذا باستيراد وحدة asyncio، التي توفر دعمًا للبرمجة غير المتزامنة في بايثون. تتيح لك كتابة كود متزامن باستخدام صياغة async و await.\n",
    "from typing import Annotated: يقوم هذا باستيراد النوع Annotated من وحدة typing. يتم استخدام Annotated لإضافة بيانات وصفية إلى تلميحات النوع، والتي يمكن أن تكون مفيدة لأغراض مختلفة مثل التحقق، التوثيق، أو الأدوات.\n"
   ]
  },
  {
   "cell_type": "code",
   "execution_count": null,
   "metadata": {
    "dotnet_interactive": {
     "language": "csharp"
    },
    "polyglot_notebook": {
     "kernelName": "csharp"
    }
   },
   "outputs": [],
   "source": [
    "import asyncio,os\n",
    "from typing import Annotated"
   ]
  },
  {
   "cell_type": "markdown",
   "metadata": {},
   "source": [
    "# شرح:\n",
    "من خلال استخدام from dotenv import load_dotenv و load_dotenv()، يمكنك بسهولة إدارة إعدادات التكوين والمعلومات الحساسة (مثل مفاتيح API وروابط قواعد البيانات) في ملف .env، مما يساعد على فصلها عن شفرة المصدر وجعل تطبيقك أكثر أمانًا وأسهل في التكوين.\n"
   ]
  },
  {
   "cell_type": "code",
   "execution_count": null,
   "metadata": {},
   "outputs": [],
   "source": [
    "import os\n",
    "from dotenv import load_dotenv\n",
    "\n",
    "# Load environment variables from .env file\n",
    "load_dotenv()"
   ]
  },
  {
   "cell_type": "markdown",
   "metadata": {},
   "source": [
    "# شرح:\n",
    "\n",
    "بيان الاستيراد: from azure.identity.aio import DefaultAzureCredential: يقوم هذا باستيراد الفئة DefaultAzureCredential من الوحدة azure.identity.aio. يشير الجزء aio من اسم الوحدة إلى أنها مصممة للعمليات غير المتزامنة.\n",
    "\n",
    "الغرض من DefaultAzureCredential: فئة DefaultAzureCredential هي جزء من Azure SDK لـ Python. توفر طريقة افتراضية للمصادقة مع خدمات Azure. تحاول المصادقة باستخدام طرق متعددة بترتيب محدد، مثل متغيرات البيئة، الهوية المُدارة، وأوراق اعتماد Azure CLI.\n",
    "\n",
    "العمليات غير المتزامنة: يشير الوحدة aio إلى أن الفئة DefaultAzureCredential تدعم العمليات غير المتزامنة. هذا يعني أنه يمكنك استخدامها مع asyncio لتنفيذ طلبات مصادقة غير معيقة.\n"
   ]
  },
  {
   "cell_type": "code",
   "execution_count": null,
   "metadata": {
    "dotnet_interactive": {
     "language": "csharp"
    },
    "polyglot_notebook": {
     "kernelName": "csharp"
    }
   },
   "outputs": [],
   "source": [
    "from azure.identity.aio import DefaultAzureCredential"
   ]
  },
  {
   "cell_type": "markdown",
   "metadata": {},
   "source": [
    "# شرح:\n",
    "يستورد هذا الملف مجموعة من الوحدات والفئات من حزمة semantic_kernel. فيما يلي تفصيل لكل استيراد:\n",
    "\n",
    "AgentGroupChat من semantic_kernel.agents: هذه الفئة تتعامل مع الوظائف المتعلقة بالدردشة الجماعية لوكلاء الذكاء الاصطناعي. AzureAIAgent و AzureAIAgentSettings من semantic_kernel.agents.azure_ai:\n",
    "\n",
    "AzureAIAgent: تُستخدم هذه الفئة لإنشاء وإدارة وكلاء الذكاء الاصطناعي الذين يعتمدون على خدمات Azure AI.\n",
    "\n",
    "AzureAIAgentSettings: تُستخدم هذه الفئة لتكوين الإعدادات الخاصة بـ AzureAIAgent. TerminationStrategy من semantic_kernel.agents.strategies.termination.termination_strategy:\n",
    "\n",
    "تُعرّف هذه الفئة استراتيجيات لإنهاء تنفيذ وكلاء الذكاء الاصطناعي تحت ظروف معينة. ChatMessageContent من semantic_kernel.contents.chat_message_content:\n",
    "\n",
    "تُستخدم هذه الفئة للتعامل مع محتوى رسائل الدردشة.\n",
    "AuthorRole من semantic_kernel.contents.utils.author_role:\n",
    "\n",
    "تُعرّف هذه الفئة أدوارًا مختلفة للمؤلفين في سياق رسائل الدردشة.\n",
    "\n",
    "kernel_function من semantic_kernel.functions.kernel_function_decorator: يُستخدم هذا المُزخرف لتعريف وظائف النواة، وهي وظائف يمكن تنفيذها ضمن إطار عمل النواة الدلالية.\n",
    "تُعد هذه الاستيرادات ضرورية لإعداد المكونات اللازمة لإنشاء وإدارة وكلاء الذكاء الاصطناعي الذين يمكنهم التفاعل في بيئة دردشة جماعية، ربما لأداء مهام مثل حجز الفنادق أو أنشطة مشابهة.\n"
   ]
  },
  {
   "cell_type": "code",
   "execution_count": null,
   "metadata": {
    "dotnet_interactive": {
     "language": "csharp"
    },
    "polyglot_notebook": {
     "kernelName": "csharp"
    }
   },
   "outputs": [],
   "source": [
    "from semantic_kernel.agents import AgentGroupChat\n",
    "from semantic_kernel.agents import AzureAIAgent, AzureAIAgentSettings\n",
    "from semantic_kernel.agents.strategies.termination.termination_strategy import TerminationStrategy\n",
    "from semantic_kernel.contents import ChatMessageContent\n",
    "from semantic_kernel.contents import AuthorRole\n",
    "from semantic_kernel.functions.kernel_function_decorator import kernel_function"
   ]
  },
  {
   "cell_type": "markdown",
   "metadata": {},
   "source": [
    "# شرح:\n",
    "بعد ذلك، نقوم باستيراد فئة CodeInterpreterTool من الوحدة azure.ai.projects.models.\n",
    "\n",
    "CodeInterpreterTool: هذه الفئة هي جزء من Azure AI SDK وتُستخدم لتفسير وتنفيذ التعليمات البرمجية في سياق مشاريع الذكاء الاصطناعي. توفر هذه الفئة وظائف لتشغيل مقتطفات الكود، تحليل الكود، أو دمج تنفيذ الكود داخل سير عمل الذكاء الاصطناعي.  \n",
    "هذا الاستيراد يُعد المكون الضروري لاستخدام CodeInterpreterTool في مشروعك، مما قد يكون مفيدًا للمهام التي تتطلب تفسير وتنفيذ الكود بشكل ديناميكي.\n"
   ]
  },
  {
   "cell_type": "code",
   "execution_count": null,
   "metadata": {
    "dotnet_interactive": {
     "language": "csharp"
    },
    "polyglot_notebook": {
     "kernelName": "csharp"
    }
   },
   "outputs": [],
   "source": [
    "from azure.ai.projects.models import CodeInterpreterTool"
   ]
  },
  {
   "cell_type": "markdown",
   "metadata": {},
   "source": [
    "# شرح:  \n",
    "توفّر فئة ApprovalTerminationStrategy استراتيجية محددة لإنهاء عمل وكيل الذكاء الاصطناعي. سينهي الوكيل عمله إذا احتوت الرسالة الأخيرة في سجل التفاعل الخاص به على كلمة \"saved\". يمكن أن يكون هذا مفيدًا في السيناريوهات التي يُعتبر فيها أن مهمة الوكيل قد اكتملت بمجرد تلقيه تأكيدًا بأن شيئًا ما قد تم \"حفظه\". حدد طريقة التفاعل. بعد حفظ خطة الحجز، يمكن إيقافه عند تلقي إشارة الحفظ.\n"
   ]
  },
  {
   "cell_type": "code",
   "execution_count": null,
   "metadata": {
    "dotnet_interactive": {
     "language": "csharp"
    },
    "polyglot_notebook": {
     "kernelName": "csharp"
    }
   },
   "outputs": [],
   "source": [
    "class ApprovalTerminationStrategy(TerminationStrategy):\n",
    "    \"\"\"A strategy for determining when an agent should terminate.\"\"\"\n",
    "\n",
    "    async def should_agent_terminate(self, agent, history):\n",
    "        \"\"\"Check if the agent should terminate.\"\"\"\n",
    "        return \"saved\" in history[-1].content.lower()"
   ]
  },
  {
   "cell_type": "markdown",
   "metadata": {},
   "source": [
    "# الشرح:\n",
    "\n",
    "يقوم سطر الكود بتهيئة كائن AzureAIAgentSettings باستخدام الإعدادات الافتراضية أو المحددة مسبقًا عن طريق استدعاء الطريقة create(). يمكن بعد ذلك استخدام كائن الإعدادات هذا (ai_agent_settings) لتكوين وإدارة مثيل AzureAIAgent.\n"
   ]
  },
  {
   "cell_type": "code",
   "execution_count": null,
   "metadata": {
    "dotnet_interactive": {
     "language": "csharp"
    },
    "polyglot_notebook": {
     "kernelName": "csharp"
    }
   },
   "outputs": [],
   "source": [
    "ai_agent_settings = AzureAIAgentSettings.create()"
   ]
  },
  {
   "cell_type": "markdown",
   "metadata": {},
   "source": [
    "# الشرح:\n",
    "من خلال استيراد مكتبة requests، يمكنك بسهولة إجراء طلبات HTTP والتفاعل مع خدمات الويب في كود Python الخاص بك.\n"
   ]
  },
  {
   "cell_type": "code",
   "execution_count": null,
   "metadata": {
    "dotnet_interactive": {
     "language": "csharp"
    },
    "polyglot_notebook": {
     "kernelName": "csharp"
    }
   },
   "outputs": [],
   "source": [
    "import requests"
   ]
  },
  {
   "cell_type": "markdown",
   "metadata": {},
   "source": [
    "# شرح:\n",
    "هذه متغير يخزن مفتاح API للوصول إلى خدمة SERP (صفحة نتائج محرك البحث). مفتاح API هو معرف فريد يُستخدم لمصادقة الطلبات المرتبطة بحسابك.\n",
    "\n",
    "'GOOGLE_SEARCH_API_KEY': هذه عبارة عن سلسلة نصية بديلة. تحتاج إلى استبدال 'GOOGLE_SEARCH_API_KEY' بمفتاح API الفعلي الخاص بخدمة SERP.\n",
    "\n",
    "الغرض: الغرض من هذا السطر هو تخزين مفتاح API في متغير بحيث يمكن استخدامه لمصادقة الطلبات إلى خدمة SERP API. مفتاح API مطلوب للوصول إلى الخدمة وإجراء عمليات البحث.\n",
    "\n",
    "كيفية الحصول على مفتاح SERP API: للحصول على مفتاح SERP API، اتبع هذه الخطوات العامة على https://serpapi.com (قد تختلف الخطوات الدقيقة اعتمادًا على خدمة SERP API المحددة التي تستخدمها):\n",
    "\n",
    "اختر خدمة SERP API: هناك العديد من خدمات SERP API المتاحة، مثل SerpAPI، Google Custom Search JSON API، وغيرها. اختر الخدمة التي تناسب احتياجاتك.\n",
    "\n",
    "سجل للحصول على حساب:\n",
    "\n",
    "اذهب إلى موقع الخدمة المختارة https://www.serpapi.com وقم بالتسجيل للحصول على حساب. قد تحتاج إلى تقديم بعض المعلومات الأساسية والتحقق من عنوان بريدك الإلكتروني.\n",
    "\n",
    "إنشاء مفتاح API:\n",
    "\n",
    "بعد التسجيل، قم بتسجيل الدخول إلى حسابك وانتقل إلى قسم API أو لوحة التحكم. ابحث عن خيار لإنشاء أو توليد مفتاح API جديد.\n",
    "انسخ مفتاح API:\n",
    "\n",
    "بمجرد إنشاء مفتاح API، قم بنسخه. سيتم استخدام هذا المفتاح لمصادقة طلباتك إلى خدمة SERP API.\n",
    "استبدل النص البديل:\n",
    "\n",
    "استبدل النص البديل في ملف .env الخاص بك\n"
   ]
  },
  {
   "cell_type": "code",
   "execution_count": null,
   "metadata": {
    "dotnet_interactive": {
     "language": "csharp"
    },
    "polyglot_notebook": {
     "kernelName": "csharp"
    }
   },
   "outputs": [],
   "source": [
    "SERPAPI_SEARCH_API_KEY=os.getenv('SERPAPI_SEARCH_API_KEY')"
   ]
  },
  {
   "cell_type": "code",
   "execution_count": null,
   "metadata": {
    "dotnet_interactive": {
     "language": "csharp"
    },
    "polyglot_notebook": {
     "kernelName": "csharp"
    }
   },
   "outputs": [],
   "source": [
    "SERPAPI_SEARCH_ENDPOINT = os.getenv('SERPAPI_SEARCH_ENDPOINT')"
   ]
  },
  {
   "cell_type": "markdown",
   "metadata": {},
   "source": [
    "# الشرح:\n",
    "تقدم فئة BookingPlugin طرقًا لحجز الفنادق والرحلات الجوية باستخدام واجهة برمجة التطبيقات Google Search API من Serpapi.com. تقوم الفئة بإنشاء المعلمات اللازمة، وإرسال طلبات API، ومعالجة الردود لإرجاع معلومات الحجز ذات الصلة. يتم استخدام مفتاح API (SERPAPI_SEARCH_API_KEY) ونقطة النهاية (SERPAPI_SEARCH_ENDPOINT) للمصادقة وإرسال الطلبات إلى واجهة برمجة التطبيقات الخاصة بـ Google Search.\n"
   ]
  },
  {
   "cell_type": "code",
   "execution_count": null,
   "metadata": {
    "dotnet_interactive": {
     "language": "csharp"
    },
    "polyglot_notebook": {
     "kernelName": "csharp"
    }
   },
   "outputs": [],
   "source": [
    "# Define Booking Plugin\n",
    "class BookingPlugin:\n",
    "    \"\"\"Booking Plugin for customers\"\"\"\n",
    "    @kernel_function(description=\"booking hotel\")\n",
    "    def booking_hotel(self,query: Annotated[str, \"The name of the city\"], check_in_date: Annotated[str, \"Hotel Check-in Time\"], check_out_date: Annotated[str, \"Hotel Check-in Time\"])-> Annotated[str, \"Return the result of booking hotel infomation\"]:\n",
    "\n",
    "        params = {\n",
    "            \"engine\": \"google_hotels\",\n",
    "            \"q\": query,\n",
    "            \"check_in_date\": check_in_date,\n",
    "            \"check_out_date\": check_out_date,\n",
    "            \"adults\": \"2\",\n",
    "            \"currency\": \"USD\",\n",
    "            \"gl\": \"us\",\n",
    "            \"hl\": \"en\",\n",
    "            \"api_key\": SERPAPI_SEARCH_API_KEY\n",
    "        }\n",
    "\n",
    "        response = requests.get(SERPAPI_SEARCH_ENDPOINT, params=params)\n",
    "        if response.status_code == 200:\n",
    "            response = response.json()\n",
    "            return response[\"properties\"]\n",
    "        else:\n",
    "            return None\n",
    "\n",
    "    \n",
    "    @kernel_function(description=\"booking fight\")\n",
    "    def  booking_fight(self,origin: Annotated[str, \"The name of Departure\"], destination: Annotated[str, \"The name of Destination\"], outbound_date: Annotated[str, \"The date of outbound\"], return_date: Annotated[str, \"The date of Return_date\"])-> Annotated[str, \"Return the result of booking fight infomation\"]:\n",
    "        \n",
    "        go_params = {\n",
    "            \"engine\": \"google_flights\",   \n",
    "            \"departure_id\": origin,\n",
    "            \"arrival_id\": destination,\n",
    "            \"outbound_date\": outbound_date,\n",
    "            \"return_date\": return_date,  \n",
    "            \"currency\": \"USD\",\n",
    "            \"hl\": \"en\",\n",
    "            \"api_key\": SERPAPI_SEARCH_API_KEY  \n",
    "        }\n",
    "\n",
    "        print(go_params)\n",
    "\n",
    "        go_response = requests.get(SERPAPI_SEARCH_ENDPOINT, params=go_params)\n",
    "\n",
    "\n",
    "        result = ''\n",
    "\n",
    "        if go_response.status_code == 200:\n",
    "            response = go_response.json()\n",
    "\n",
    "            result += \"# outbound \\n \" + str(response)\n",
    "        else:\n",
    "            print('error!!!')\n",
    "            # return None\n",
    "\n",
    "        \n",
    "        back_params = {\n",
    "            \"engine\": \"google_flights\",   \n",
    "            \"departure_id\": destination,\n",
    "            \"arrival_id\": origin,\n",
    "            \"outbound_date\": return_date,\n",
    "            \"return_date\": return_date,  \n",
    "            \"currency\": \"USD\",\n",
    "            \"hl\": \"en\",\n",
    "            \"api_key\": SERPAPI_SEARCH_API_KEY  \n",
    "        }\n",
    "\n",
    "\n",
    "        print(back_params)\n",
    "\n",
    "\n",
    "        back_response = requests.get(SERPAPI_SEARCH_ENDPOINT, params=back_params)\n",
    "\n",
    "\n",
    "\n",
    "        if back_response.status_code == 200:\n",
    "            response = back_response.json()\n",
    "\n",
    "            result += \"\\n # return \\n\"  + str(response)\n",
    "\n",
    "        else:\n",
    "            print('error!!!')\n",
    "            # return None\n",
    "        \n",
    "        print(result)\n",
    "\n",
    "        return result\n",
    "\n",
    "        \n"
   ]
  },
  {
   "cell_type": "markdown",
   "metadata": {},
   "source": [
    "# الشرح:\n",
    "توفّر فئة SavePlugin طريقة saving_plan لحفظ خطط الرحلات باستخدام خدمات Azure AI. تقوم بإعداد بيانات اعتماد Azure، وإنشاء وكيل ذكاء اصطناعي، ومعالجة مدخلات المستخدم لتوليد محتوى خطة الرحلة وحفظه، بالإضافة إلى التعامل مع عمليات حفظ الملفات وتنظيفها. تُرجع الطريقة \"Saved\" عند إتمام العملية بنجاح.\n"
   ]
  },
  {
   "cell_type": "code",
   "execution_count": null,
   "metadata": {
    "dotnet_interactive": {
     "language": "csharp"
    },
    "polyglot_notebook": {
     "kernelName": "csharp"
    }
   },
   "outputs": [],
   "source": [
    "class SavePlugin:\n",
    "    \"\"\"Save Plugin for customers\"\"\"\n",
    "    @kernel_function(description=\"saving plan\")\n",
    "    async def saving_plan(self,tripplan: Annotated[str, \"The content of trip plan\"])-> Annotated[str, \"Return status of save content\"]:\n",
    "\n",
    "        async with (\n",
    "            DefaultAzureCredential() as creds,\n",
    "            AzureAIAgent.create_client(\n",
    "                credential=creds,\n",
    "                conn_str=ai_agent_settings.project_connection_string.get_secret_value(),\n",
    "            ) as client,\n",
    "        ):\n",
    "\n",
    "            code_interpreter = CodeInterpreterTool()\n",
    "            \n",
    "            agent_definition = await client.agents.create_agent(\n",
    "                model=ai_agent_settings.model_deployment_name,\n",
    "                tools=code_interpreter.definitions,\n",
    "                tool_resources=code_interpreter.resources,\n",
    "            )\n",
    "\n",
    "\n",
    "            agent = AzureAIAgent(\n",
    "                client=client,\n",
    "                definition=agent_definition,\n",
    "            )\n",
    "\n",
    "            thread = await client.agents.create_thread()\n",
    "\n",
    "\n",
    "            user_inputs = [\n",
    "                \"\"\"\n",
    "            \n",
    "                        You are my Python programming assistant. Generate code,save \"\"\"+ tripplan +\n",
    "                        \n",
    "                    \"\"\"    \n",
    "                        and execute it according to the following requirements\n",
    "\n",
    "                        1. Save blog content to trip-{YYMMDDHHMMSS}.md\n",
    "\n",
    "                        2. give me the download this file link\n",
    "                    \"\"\"\n",
    "            ]\n",
    "\n",
    "\n",
    "\n",
    "            try:\n",
    "                for user_input in user_inputs:\n",
    "                    # Add the user input as a chat message\n",
    "                    await agent.add_chat_message(\n",
    "                        thread_id=thread.id, message=ChatMessageContent(role=AuthorRole.USER, content=user_input)\n",
    "                    )\n",
    "                    print(f\"# User: '{user_input}'\")\n",
    "                    # Invoke the agent for the specified thread\n",
    "                    async for content in agent.invoke(thread_id=thread.id):\n",
    "                        if content.role != AuthorRole.TOOL:\n",
    "                            print(f\"# Agent: {content.content}\")\n",
    "\n",
    "                    \n",
    "                    messages = await client.agents.list_messages(thread_id=thread.id)\n",
    "\n",
    "                    # OpenAIPageableListOfThreadMessage\n",
    "                    # OpenAIPageableListOfThreadMessage\n",
    "\n",
    "\n",
    "                    for file_path_annotation in messages.file_path_annotations:\n",
    "\n",
    "                            file_name = os.path.basename(file_path_annotation.text)\n",
    "\n",
    "                            await client.agents.save_file(file_id=file_path_annotation.file_path.file_id, file_name=file_name,target_dir=\"./trip\")\n",
    "\n",
    "                    \n",
    "            finally:\n",
    "                await client.agents.delete_thread(thread.id)\n",
    "                await client.agents.delete_agent(agent.id)\n",
    "\n",
    "\n",
    "        return \"Saved\""
   ]
  },
  {
   "cell_type": "markdown",
   "metadata": {},
   "source": [
    "# الشرح:\n",
    "يقوم هذا الكود بإعداد وكلاء Azure AI للتعامل مع حجز الرحلات الجوية والفنادق، وحفظ خطط السفر بناءً على مدخلات المستخدم. يستخدم بيانات اعتماد Azure لإنشاء الوكلاء وتكوينهم، ومعالجة مدخلات المستخدم من خلال دردشة جماعية، وضمان التنظيف المناسب بعد إتمام المهام. يستخدم الوكلاء إضافات محددة (BookingPlugin وSavePlugin) لتنفيذ مهامهم الخاصة.\n"
   ]
  },
  {
   "cell_type": "code",
   "execution_count": null,
   "metadata": {
    "dotnet_interactive": {
     "language": "csharp"
    },
    "polyglot_notebook": {
     "kernelName": "csharp"
    }
   },
   "outputs": [],
   "source": [
    "async with (\n",
    "    DefaultAzureCredential() as creds,\n",
    "    AzureAIAgent.create_client(\n",
    "        credential=creds,\n",
    "        conn_str=ai_agent_settings.project_connection_string.get_secret_value(),\n",
    "    ) as client,\n",
    "):\n",
    "    BOOKING_AGENT_NAME = \"BookingAgent\"\n",
    "    BOOKING_AGENT_INSTRUCTIONS = \"\"\"\n",
    "    You are a booking agent. Help me book flights or hotels.\n",
    "\n",
    "    Thought: Please understand the user's intention and confirm whether to use the reservation system to complete the task.\n",
    "\n",
    "    Actions:\n",
    "    - For flight bookings, convert the departure and destination names into airport codes.\n",
    "    - Use the appropriate API for hotel or flight bookings. Verify that all necessary parameters are available. If any parameters are missing, ask the user to provide them. If all parameters are complete, call the corresponding function.\n",
    "    - If the task is not related to hotel or flight booking, respond with the final answer only.\n",
    "    - Output the results using a markdown table:\n",
    "      - For flight bookings, output separate outbound and return contents in the order of:\n",
    "        Departure Airport | Airline | Flight Number | Departure Time | Arrival Airport | Arrival Time | Duration | Airplane | Travel Class | Price (USD) | Legroom | Extensions | Carbon Emissions (kg).\n",
    "      - For hotel bookings, output in the order of:\n",
    "        Property Name | Property Description | Check-in Time | Check-out Time | Prices | Nearby Places | Hotel Class | GPS Coordinates.\n",
    "    \"\"\"\n",
    "\n",
    "    SAVE_AGENT_NAME = \"SaveAgent\"\n",
    "    SAVE_AGENT_INSTRUCTIONS = \"\"\"\n",
    "    You are a save tool agent. Help me to save the trip plan.\n",
    "    \"\"\"\n",
    "\n",
    "    # Create agent definition\n",
    "    booking_agent_definition = await client.agents.create_agent(\n",
    "        model=ai_agent_settings.model_deployment_name,\n",
    "        name=BOOKING_AGENT_NAME,\n",
    "        instructions=BOOKING_AGENT_INSTRUCTIONS,\n",
    "    )\n",
    "\n",
    "    # Create the AzureAI Agent\n",
    "    booking_agent = AzureAIAgent(\n",
    "        client=client,\n",
    "        definition=booking_agent_definition,\n",
    "        # Optionally configure polling options\n",
    "        # polling_options=RunPollingOptions(run_polling_interval=timedelta(seconds=1)),\n",
    "    )\n",
    "\n",
    "    # Add the sample plugin to the kernel\n",
    "    booking_agent.kernel.add_plugin(BookingPlugin(), plugin_name=\"booking\")\n",
    "\n",
    "    # Create agent definition\n",
    "    save_agent_definition = await client.agents.create_agent(\n",
    "        model=ai_agent_settings.model_deployment_name,\n",
    "        name=SAVE_AGENT_NAME,\n",
    "        instructions=SAVE_AGENT_INSTRUCTIONS\n",
    "    )\n",
    "\n",
    "    # Create the AzureAI Agent\n",
    "    save_agent = AzureAIAgent(\n",
    "        client=client,\n",
    "        definition=save_agent_definition,\n",
    "    )\n",
    "\n",
    "    save_agent.kernel.add_plugin(SavePlugin(), plugin_name=\"saving\")\n",
    "\n",
    "    user_inputs = [\n",
    "        \"I have a business trip from London to New York in Feb 20 2025 to Feb 27 2025 ,help me to book a hotel and fight tickets and save it\"\n",
    "    ]\n",
    "\n",
    "    chat = AgentGroupChat(\n",
    "        agents=[booking_agent, save_agent],\n",
    "        termination_strategy=ApprovalTerminationStrategy(agents=[save_agent], maximum_iterations=10),\n",
    "    )\n",
    "\n",
    "    try:\n",
    "        for user_input in user_inputs:\n",
    "            # Add the user input as a chat message\n",
    "            await chat.add_chat_message(\n",
    "                ChatMessageContent(role=AuthorRole.USER, content=user_input)\n",
    "            )\n",
    "            print(f\"# User: '{user_input}'\")\n",
    "\n",
    "            async for content in chat.invoke():\n",
    "                print(f\"# {content.role} - {content.name or '*'}: '{content.content}'\")\n",
    "\n",
    "            print(f\"# IS COMPLETE: {chat.is_complete}\")\n",
    "\n",
    "            print(\"*\" * 60)\n",
    "            print(\"Chat History (In Descending Order):\\n\")\n",
    "            async for message in chat.get_chat_messages(agent=save_agent):\n",
    "                print(f\"# {message.role} - {message.name or '*'}: '{message.content}'\")\n",
    "    finally:\n",
    "        await chat.reset()\n",
    "        await client.agents.delete_agent(save_agent.id)\n",
    "        await client.agents.delete_agent(booking_agent.id)\n"
   ]
  },
  {
   "cell_type": "markdown",
   "metadata": {},
   "source": [
    "\n---\n\n**إخلاء المسؤولية**:  \nتم ترجمة هذا المستند باستخدام خدمة الترجمة بالذكاء الاصطناعي [Co-op Translator](https://github.com/Azure/co-op-translator). بينما نسعى لتحقيق الدقة، يرجى العلم أن الترجمات الآلية قد تحتوي على أخطاء أو معلومات غير دقيقة. يجب اعتبار المستند الأصلي بلغته الأصلية هو المصدر الموثوق. للحصول على معلومات حساسة أو هامة، يُوصى بالاستعانة بترجمة بشرية احترافية. نحن غير مسؤولين عن أي سوء فهم أو تفسيرات خاطئة ناتجة عن استخدام هذه الترجمة.\n"
   ]
  }
 ],
 "metadata": {
  "kernelspec": {
   "display_name": "3.12.1",
   "language": "python",
   "name": "python3"
  },
  "language_info": {
   "codemirror_mode": {
    "name": "ipython",
    "version": 3
   },
   "file_extension": ".py",
   "mimetype": "text/x-python",
   "name": "python",
   "nbconvert_exporter": "python",
   "pygments_lexer": "ipython3",
   "version": "3.12.1"
  },
  "polyglot_notebook": {
   "kernelInfo": {
    "defaultKernelName": "csharp",
    "items": [
     {
      "aliases": [],
      "name": "csharp"
     }
    ]
   }
  },
  "coopTranslator": {
   "original_hash": "1baa60020a95eda27b7e9ecfda99965b",
   "translation_date": "2025-08-29T11:28:33+00:00",
   "source_file": "08-multi-agent/code_samples/08-python_multi_aiagent_bookinghotel.ipynb",
   "language_code": "ar"
  }
 },
 "nbformat": 4,
 "nbformat_minor": 2
}