{
 "cells": [
  {
   "cell_type": "markdown",
   "metadata": {},
   "source": [
    "## **Eksempler: Multi-AI-agenter for hotellbestilling**\n",
    "\n",
    "I dagens hektiske verden innebærer planlegging av en forretningsreise mer enn bare å bestille en flybillett og et hotellrom. Det krever en grad av koordinasjon og effektivitet som kan være utfordrende å oppnå. Det er her Multi-AI-agenter kommer inn i bildet og revolusjonerer måten vi håndterer våre reisebehov på.\n",
    "\n",
    "Tenk deg å ha et team av intelligente agenter til din disposisjon, som samarbeider for å håndtere alle aspekter av reisen din med presisjon og enkelhet. Med vår avanserte AI-teknologi har vi utviklet spesialiserte agenter for bestillingstjenester og reiseplanlegging, som sikrer en sømløs og stressfri reiseopplevelse.\n",
    "\n",
    "Dette er et grunnleggende scenario. Når vi planlegger en forretningsreise, må vi konsultere en forretningsreiseagent for å få informasjon om flybilletter, hoteller osv. Gjennom AI-agenter kan vi bygge agenter for bestillingstjenester og agenter for reiseplanlegging som samarbeider og forbedrer intelligensnivået.\n"
   ]
  },
  {
   "cell_type": "markdown",
   "metadata": {},
   "source": [
    "# Initialiser Azure AI Agent Service og hent konfigurasjonsinformasjon fra **.env**\n",
    "\n",
    "### **.env** \n",
    "\n",
    "Opprett en .env-fil \n",
    "\n",
    "**.env** inneholder tilkoblingsstrengen til Azure AI Agent Service, modellen som brukes av AOAI, og den tilsvarende Google API Search-tjenesten API, ENDPOINT, osv.\n",
    "\n",
    "- **AZURE_AI_AGENT_MODEL_DEPLOYMENT_NAME** = \"Navnet på din Azure AI Agent Service Model Deployment\"\n",
    "\n",
    "[**NOTE**] Du vil trenge en modell med 100,000 Rate Limit (Tokens per minutt) og Rate Limit på 600 (Forespørsler per minutt)\n",
    "\n",
    "  Du kan få modellen i Azure AI Foundry - Model og Endpoint. \n",
    "\n",
    "- **AZURE_AI_AGENT_PROJECT_CONNECTION_STRING** = \"Tilkoblingsstrengen til ditt Azure AI Agent Service-prosjekt\"\n",
    "\n",
    "  Du kan finne tilkoblingsstrengen til prosjektet i prosjektoversikten på AI ​​Foundry Portal-skjermen.\n",
    "\n",
    "- **SERPAPI_SEARCH_API_KEY** = \"Din SERPAPI Search API KEY\"\n",
    "- **SERPAPI_SEARCH_ENDPOINT** = \"Din SERPAPI Search Endpoint\"\n",
    "\n",
    "For å få Model Deployment Name og Project Connection String til Azure AI Agent Service, må du opprette Azure AI Agent Service. Det anbefales å bruke [denne malen](https://portal.azure.com/#create/Microsoft.Template/uri/https%3A%2F%2Fraw.githubusercontent.com%2Ffosteramanda%2Fazure-agent-quickstart-templates%2Frefs%2Fheads%2Fmaster%2Fquickstarts%2Fmicrosoft.azure-ai-agent-service%2Fstandard-agent%2Fazuredeploy.json) for å opprette den direkte （***Merk:*** Azure AI Agent Service er for øyeblikket satt til en begrenset region. Det anbefales at du refererer til [denne lenken](https://learn.microsoft.com/en-us/azure/ai-services/agents/concepts/model-region-support) for å sette regionen)\n",
    "\n",
    "Agenten må ha tilgang til SERPAPI. Det anbefales å registrere deg via [denne lenken](https://serpapi.com/searches). Etter registrering kan du få en unik API KEY og ENDPOINT.\n"
   ]
  },
  {
   "cell_type": "markdown",
   "metadata": {},
   "source": [
    "# Logg inn på Azure\n",
    "\n",
    "Du må nå logge inn på Azure. Åpne en terminal i VScode og kjør kommandoen `az login`.\n"
   ]
  },
  {
   "cell_type": "markdown",
   "metadata": {},
   "source": [
    "# Oppsett\n",
    "\n",
    "For å kjøre denne notatboken, må du installere følgende biblioteker. Her er en liste over de nødvendige bibliotekene og de tilsvarende pip install-kommandoene:\n",
    "\n",
    "azure-identity: For autentisering mot Azure.  \n",
    "requests: For å gjøre HTTP-forespørsler.  \n",
    "semantic-kernel: For rammeverket semantic kernel (forutsatt at dette er et tilpasset eller spesifikt bibliotek, kan det hende du må installere det fra en spesifikk kilde eller et spesifikt repository).  \n"
   ]
  },
  {
   "cell_type": "code",
   "execution_count": null,
   "metadata": {},
   "outputs": [],
   "source": [
    "!pip install azure-identity\n",
    "!pip install requests\n",
    "!pip install semantic-kernel\n",
    "!pip install --upgrade semantic_kernel\n",
    "!pip install azure-cli"
   ]
  },
  {
   "cell_type": "markdown",
   "metadata": {},
   "source": [
    "# Forklaring:\n",
    "import asyncio: Dette importerer asyncio-modulen, som gir støtte for asynkron programmering i Python. Det lar deg skrive samtidig kode ved hjelp av async- og await-syntaksen.\n",
    "from typing import Annotated: Dette importerer Annotated-typen fra typing-modulen. Annotated brukes til å legge til metadata til typehint, som kan være nyttig for ulike formål som validering, dokumentasjon eller verktøy.\n"
   ]
  },
  {
   "cell_type": "code",
   "execution_count": null,
   "metadata": {
    "dotnet_interactive": {
     "language": "csharp"
    },
    "polyglot_notebook": {
     "kernelName": "csharp"
    }
   },
   "outputs": [],
   "source": [
    "import asyncio,os\n",
    "from typing import Annotated"
   ]
  },
  {
   "cell_type": "markdown",
   "metadata": {},
   "source": [
    "# Forklaring:\n",
    "Ved å bruke from dotenv import load_dotenv og load_dotenv() kan du enkelt håndtere konfigurasjonsinnstillinger og sensitiv informasjon (som API-nøkler og database-URLer) i en .env-fil. Dette holder dem adskilt fra kildekoden din og gjør applikasjonen din både sikrere og enklere å konfigurere.\n"
   ]
  },
  {
   "cell_type": "code",
   "execution_count": null,
   "metadata": {},
   "outputs": [],
   "source": [
    "import os\n",
    "from dotenv import load_dotenv\n",
    "\n",
    "# Load environment variables from .env file\n",
    "load_dotenv()"
   ]
  },
  {
   "cell_type": "markdown",
   "metadata": {},
   "source": [
    "# Forklaring:\n",
    "\n",
    "Importsetning: from azure.identity.aio import DefaultAzureCredential: Dette importerer klassen DefaultAzureCredential fra modulen azure.identity.aio. Delen aio i modulnavnet indikerer at den er designet for asynkrone operasjoner.\n",
    "\n",
    "Formålet med DefaultAzureCredential: Klassen DefaultAzureCredential er en del av Azure SDK for Python. Den gir en standard måte å autentisere med Azure-tjenester på. Den forsøker å autentisere ved hjelp av flere metoder i en spesifikk rekkefølge, som miljøvariabler, administrert identitet og Azure CLI-legitimasjon.\n",
    "\n",
    "Asynkrone operasjoner: Modulen aio indikerer at klassen DefaultAzureCredential støtter asynkrone operasjoner. Dette betyr at du kan bruke den med asyncio for å utføre ikke-blokkerende autentiseringsforespørsler.\n"
   ]
  },
  {
   "cell_type": "code",
   "execution_count": null,
   "metadata": {
    "dotnet_interactive": {
     "language": "csharp"
    },
    "polyglot_notebook": {
     "kernelName": "csharp"
    }
   },
   "outputs": [],
   "source": [
    "from azure.identity.aio import DefaultAzureCredential"
   ]
  },
  {
   "cell_type": "markdown",
   "metadata": {},
   "source": [
    "# Forklaring:\n",
    "Importerer ulike moduler og klasser fra pakken semantic_kernel. Her er en oversikt over hver import:\n",
    "\n",
    "AgentGroupChat fra semantic_kernel.agents: Denne klassen håndterer funksjonaliteter relatert til gruppechat for AI-agenter. AzureAIAgent og AzureAIAgentSettings fra semantic_kernel.agents.azure_ai\n",
    "\n",
    "AzureAIAgent: Denne klassen brukes til å opprette og administrere AI-agenter som benytter Azure AI-tjenester.\n",
    "\n",
    "AzureAIAgentSettings: Denne klassen brukes til å konfigurere innstillinger for AzureAIAgent. TerminationStrategy fra semantic_kernel.agents.strategies.termination.termination_strategy:\n",
    "\n",
    "Denne klassen definerer strategier for å avslutte utførelsen av AI-agenter under visse betingelser. ChatMessageContent fra semantic_kernel.contents.chat_message_content:\n",
    "\n",
    "Denne klassen brukes til å håndtere innholdet i chatmeldinger.\n",
    "AuthorRole fra semantic_kernel.contents.utils.author_role:\n",
    "\n",
    "Denne klassen definerer ulike roller for forfattere i konteksten av chatmeldinger.\n",
    "\n",
    "kernel_function fra semantic_kernel.functions.kernel_function_decorator: Denne dekoratøren brukes til å definere kernel-funksjoner, som er funksjoner som kan utføres innenfor semantic kernel-rammeverket.\n",
    "Disse importene setter opp de nødvendige komponentene for å opprette og administrere AI-agenter som kan samhandle i et gruppechatmiljø, muligens for oppgaver som å bestille hotell eller lignende aktiviteter.\n"
   ]
  },
  {
   "cell_type": "code",
   "execution_count": null,
   "metadata": {
    "dotnet_interactive": {
     "language": "csharp"
    },
    "polyglot_notebook": {
     "kernelName": "csharp"
    }
   },
   "outputs": [],
   "source": [
    "from semantic_kernel.agents import AgentGroupChat\n",
    "from semantic_kernel.agents import AzureAIAgent, AzureAIAgentSettings\n",
    "from semantic_kernel.agents.strategies.termination.termination_strategy import TerminationStrategy\n",
    "from semantic_kernel.contents import ChatMessageContent\n",
    "from semantic_kernel.contents import AuthorRole\n",
    "from semantic_kernel.functions.kernel_function_decorator import kernel_function"
   ]
  },
  {
   "cell_type": "markdown",
   "metadata": {},
   "source": [
    "# Forklaring:\n",
    "Neste importerer vi klassen CodeInterpreterTool fra modulen azure.ai.projects.models.\n",
    "\n",
    "CodeInterpreterTool: Denne klassen er en del av Azure AI SDK og brukes til å tolke og utføre kode innenfor konteksten av AI-prosjekter. Den tilbyr funksjonaliteter for å kjøre kodebiter, analysere kode eller integrere kodeutførelse i AI-arbeidsflyter. \n",
    "Denne importen setter opp den nødvendige komponenten for å bruke CodeInterpreterTool i prosjektet ditt, noe som kan være nyttig for oppgaver som innebærer dynamisk tolkning og utførelse av kode.\n"
   ]
  },
  {
   "cell_type": "code",
   "execution_count": null,
   "metadata": {
    "dotnet_interactive": {
     "language": "csharp"
    },
    "polyglot_notebook": {
     "kernelName": "csharp"
    }
   },
   "outputs": [],
   "source": [
    "from azure.ai.projects.models import CodeInterpreterTool"
   ]
  },
  {
   "cell_type": "markdown",
   "metadata": {},
   "source": [
    "# Forklaring: \n",
    "ApprovalTerminationStrategy-klassen gir en spesifikk strategi for å avslutte en AI-agents operasjon. Agenten vil avslutte hvis den siste meldingen i interaksjonshistorikken inneholder ordet \"lagret\". Dette kan være nyttig i scenarier der agentens oppgave anses som fullført når den mottar bekreftelse på at noe er \"lagret\". Definer interaksjonsmetoden. Etter at reservasjonsplanen er lagret, kan den stoppes når den mottar signalet om at det er lagret.\n"
   ]
  },
  {
   "cell_type": "code",
   "execution_count": null,
   "metadata": {
    "dotnet_interactive": {
     "language": "csharp"
    },
    "polyglot_notebook": {
     "kernelName": "csharp"
    }
   },
   "outputs": [],
   "source": [
    "class ApprovalTerminationStrategy(TerminationStrategy):\n",
    "    \"\"\"A strategy for determining when an agent should terminate.\"\"\"\n",
    "\n",
    "    async def should_agent_terminate(self, agent, history):\n",
    "        \"\"\"Check if the agent should terminate.\"\"\"\n",
    "        return \"saved\" in history[-1].content.lower()"
   ]
  },
  {
   "cell_type": "markdown",
   "metadata": {},
   "source": [
    "# Forklaring:\n",
    "\n",
    "Linjen med kode initialiserer et AzureAIAgentSettings-objekt med standard- eller forhåndsdefinerte innstillinger ved å kalle create()-metoden. Dette innstillingsobjektet (ai_agent_settings) kan deretter brukes til å konfigurere og administrere en AzureAIAgent-instans.\n"
   ]
  },
  {
   "cell_type": "code",
   "execution_count": null,
   "metadata": {
    "dotnet_interactive": {
     "language": "csharp"
    },
    "polyglot_notebook": {
     "kernelName": "csharp"
    }
   },
   "outputs": [],
   "source": [
    "ai_agent_settings = AzureAIAgentSettings.create()"
   ]
  },
  {
   "cell_type": "markdown",
   "metadata": {},
   "source": [
    "# Forklaring:\n",
    "Ved å importere requests-biblioteket kan du enkelt gjøre HTTP-forespørsler og interagere med webtjenester i Python-koden din.\n"
   ]
  },
  {
   "cell_type": "code",
   "execution_count": null,
   "metadata": {
    "dotnet_interactive": {
     "language": "csharp"
    },
    "polyglot_notebook": {
     "kernelName": "csharp"
    }
   },
   "outputs": [],
   "source": [
    "import requests"
   ]
  },
  {
   "cell_type": "markdown",
   "metadata": {},
   "source": [
    "# Forklaring:\n",
    "Dette er en variabel som lagrer API-nøkkelen for å få tilgang til en SERP (Search Engine Results Page) API-tjeneste. En API-nøkkel er en unik identifikator som brukes til å autentisere forespørsler knyttet til kontoen din.\n",
    "\n",
    "'GOOGLE_SEARCH_API_KEY': Dette er en plassholder-streng. Du må erstatte 'GOOGLE_SEARCH_API_KEY' med din faktiske SERP API-nøkkel.\n",
    "\n",
    "Formål: Formålet med denne linjen er å lagre API-nøkkelen i en variabel slik at den kan brukes til å autentisere forespørsler til SERP API-tjenesten. API-nøkkelen er nødvendig for å få tilgang til tjenesten og utføre søk.\n",
    "\n",
    "Hvordan få en SERP API-nøkkel: For å få en SERP API-nøkkel, følg disse generelle trinnene på https://serpapi.com (de nøyaktige trinnene kan variere avhengig av hvilken SERP API-tjeneste du bruker):\n",
    "\n",
    "Velg en SERP API-tjeneste: Det finnes flere SERP API-tjenester tilgjengelig, som SerpAPI, Google Custom Search JSON API og andre. Velg den som passer best til dine behov.\n",
    "\n",
    "Registrer deg for en konto:\n",
    "\n",
    "Gå til nettsiden til den valgte SERP API-tjenesten https://www.serpapi.com og registrer deg for en konto. Du må kanskje oppgi litt grunnleggende informasjon og bekrefte e-postadressen din.\n",
    "\n",
    "Opprett en API-nøkkel:\n",
    "\n",
    "Etter registrering, logg inn på kontoen din og naviger til API-seksjonen eller dashbordet. Se etter et alternativ for å opprette eller generere en ny API-nøkkel.\n",
    "Kopier API-nøkkelen:\n",
    "\n",
    "Når API-nøkkelen er generert, kopier den. Denne nøkkelen vil bli brukt til å autentisere forespørslene dine til SERP API-tjenesten.\n",
    "Erstatt plassholderen:\n",
    "\n",
    "Erstatt plassholderen i .env-filen din\n"
   ]
  },
  {
   "cell_type": "code",
   "execution_count": null,
   "metadata": {
    "dotnet_interactive": {
     "language": "csharp"
    },
    "polyglot_notebook": {
     "kernelName": "csharp"
    }
   },
   "outputs": [],
   "source": [
    "SERPAPI_SEARCH_API_KEY=os.getenv('SERPAPI_SEARCH_API_KEY')"
   ]
  },
  {
   "cell_type": "code",
   "execution_count": null,
   "metadata": {
    "dotnet_interactive": {
     "language": "csharp"
    },
    "polyglot_notebook": {
     "kernelName": "csharp"
    }
   },
   "outputs": [],
   "source": [
    "SERPAPI_SEARCH_ENDPOINT = os.getenv('SERPAPI_SEARCH_ENDPOINT')"
   ]
  },
  {
   "cell_type": "markdown",
   "metadata": {},
   "source": [
    "# Forklaring:\n",
    "BookingPlugin-klassen tilbyr metoder for å bestille hoteller og flyreiser ved hjelp av Serpapi.com Google Search API. Den konstruerer nødvendige parametere, sender API-forespørsler og behandler svarene for å returnere relevant bestillingsinformasjon. API-nøkkelen (SERPAPI_SEARCH_API_KEY) og endepunktet (SERPAPI_SEARCH_ENDPOINT) brukes til å autentisere og sende forespørsler til Google Search API.\n"
   ]
  },
  {
   "cell_type": "code",
   "execution_count": null,
   "metadata": {
    "dotnet_interactive": {
     "language": "csharp"
    },
    "polyglot_notebook": {
     "kernelName": "csharp"
    }
   },
   "outputs": [],
   "source": [
    "# Define Booking Plugin\n",
    "class BookingPlugin:\n",
    "    \"\"\"Booking Plugin for customers\"\"\"\n",
    "    @kernel_function(description=\"booking hotel\")\n",
    "    def booking_hotel(self,query: Annotated[str, \"The name of the city\"], check_in_date: Annotated[str, \"Hotel Check-in Time\"], check_out_date: Annotated[str, \"Hotel Check-in Time\"])-> Annotated[str, \"Return the result of booking hotel infomation\"]:\n",
    "\n",
    "        params = {\n",
    "            \"engine\": \"google_hotels\",\n",
    "            \"q\": query,\n",
    "            \"check_in_date\": check_in_date,\n",
    "            \"check_out_date\": check_out_date,\n",
    "            \"adults\": \"2\",\n",
    "            \"currency\": \"USD\",\n",
    "            \"gl\": \"us\",\n",
    "            \"hl\": \"en\",\n",
    "            \"api_key\": SERPAPI_SEARCH_API_KEY\n",
    "        }\n",
    "\n",
    "        response = requests.get(SERPAPI_SEARCH_ENDPOINT, params=params)\n",
    "        if response.status_code == 200:\n",
    "            response = response.json()\n",
    "            return response[\"properties\"]\n",
    "        else:\n",
    "            return None\n",
    "\n",
    "    \n",
    "    @kernel_function(description=\"booking fight\")\n",
    "    def  booking_fight(self,origin: Annotated[str, \"The name of Departure\"], destination: Annotated[str, \"The name of Destination\"], outbound_date: Annotated[str, \"The date of outbound\"], return_date: Annotated[str, \"The date of Return_date\"])-> Annotated[str, \"Return the result of booking fight infomation\"]:\n",
    "        \n",
    "        go_params = {\n",
    "            \"engine\": \"google_flights\",   \n",
    "            \"departure_id\": origin,\n",
    "            \"arrival_id\": destination,\n",
    "            \"outbound_date\": outbound_date,\n",
    "            \"return_date\": return_date,  \n",
    "            \"currency\": \"USD\",\n",
    "            \"hl\": \"en\",\n",
    "            \"api_key\": SERPAPI_SEARCH_API_KEY  \n",
    "        }\n",
    "\n",
    "        print(go_params)\n",
    "\n",
    "        go_response = requests.get(SERPAPI_SEARCH_ENDPOINT, params=go_params)\n",
    "\n",
    "\n",
    "        result = ''\n",
    "\n",
    "        if go_response.status_code == 200:\n",
    "            response = go_response.json()\n",
    "\n",
    "            result += \"# outbound \\n \" + str(response)\n",
    "        else:\n",
    "            print('error!!!')\n",
    "            # return None\n",
    "\n",
    "        \n",
    "        back_params = {\n",
    "            \"engine\": \"google_flights\",   \n",
    "            \"departure_id\": destination,\n",
    "            \"arrival_id\": origin,\n",
    "            \"outbound_date\": return_date,\n",
    "            \"return_date\": return_date,  \n",
    "            \"currency\": \"USD\",\n",
    "            \"hl\": \"en\",\n",
    "            \"api_key\": SERPAPI_SEARCH_API_KEY  \n",
    "        }\n",
    "\n",
    "\n",
    "        print(back_params)\n",
    "\n",
    "\n",
    "        back_response = requests.get(SERPAPI_SEARCH_ENDPOINT, params=back_params)\n",
    "\n",
    "\n",
    "\n",
    "        if back_response.status_code == 200:\n",
    "            response = back_response.json()\n",
    "\n",
    "            result += \"\\n # return \\n\"  + str(response)\n",
    "\n",
    "        else:\n",
    "            print('error!!!')\n",
    "            # return None\n",
    "        \n",
    "        print(result)\n",
    "\n",
    "        return result\n",
    "\n",
    "        \n"
   ]
  },
  {
   "cell_type": "markdown",
   "metadata": {},
   "source": [
    "# Forklaring:\n",
    "SavePlugin-klassen tilbyr en metode, saving_plan, for å lagre reiseplaner ved hjelp av Azure AI-tjenester. Den setter opp Azure-legitimasjon, oppretter en AI-agent, behandler brukerinnspill for å generere og lagre innholdet i reiseplanen, og håndterer fil-lagring og oppryddingsoperasjoner. Metoden returnerer \"Saved\" ved vellykket gjennomføring.\n"
   ]
  },
  {
   "cell_type": "code",
   "execution_count": null,
   "metadata": {
    "dotnet_interactive": {
     "language": "csharp"
    },
    "polyglot_notebook": {
     "kernelName": "csharp"
    }
   },
   "outputs": [],
   "source": [
    "class SavePlugin:\n",
    "    \"\"\"Save Plugin for customers\"\"\"\n",
    "    @kernel_function(description=\"saving plan\")\n",
    "    async def saving_plan(self,tripplan: Annotated[str, \"The content of trip plan\"])-> Annotated[str, \"Return status of save content\"]:\n",
    "\n",
    "        async with (\n",
    "            DefaultAzureCredential() as creds,\n",
    "            AzureAIAgent.create_client(\n",
    "                credential=creds,\n",
    "                conn_str=ai_agent_settings.project_connection_string.get_secret_value(),\n",
    "            ) as client,\n",
    "        ):\n",
    "\n",
    "            code_interpreter = CodeInterpreterTool()\n",
    "            \n",
    "            agent_definition = await client.agents.create_agent(\n",
    "                model=ai_agent_settings.model_deployment_name,\n",
    "                tools=code_interpreter.definitions,\n",
    "                tool_resources=code_interpreter.resources,\n",
    "            )\n",
    "\n",
    "\n",
    "            agent = AzureAIAgent(\n",
    "                client=client,\n",
    "                definition=agent_definition,\n",
    "            )\n",
    "\n",
    "            thread = await client.agents.create_thread()\n",
    "\n",
    "\n",
    "            user_inputs = [\n",
    "                \"\"\"\n",
    "            \n",
    "                        You are my Python programming assistant. Generate code,save \"\"\"+ tripplan +\n",
    "                        \n",
    "                    \"\"\"    \n",
    "                        and execute it according to the following requirements\n",
    "\n",
    "                        1. Save blog content to trip-{YYMMDDHHMMSS}.md\n",
    "\n",
    "                        2. give me the download this file link\n",
    "                    \"\"\"\n",
    "            ]\n",
    "\n",
    "\n",
    "\n",
    "            try:\n",
    "                for user_input in user_inputs:\n",
    "                    # Add the user input as a chat message\n",
    "                    await agent.add_chat_message(\n",
    "                        thread_id=thread.id, message=ChatMessageContent(role=AuthorRole.USER, content=user_input)\n",
    "                    )\n",
    "                    print(f\"# User: '{user_input}'\")\n",
    "                    # Invoke the agent for the specified thread\n",
    "                    async for content in agent.invoke(thread_id=thread.id):\n",
    "                        if content.role != AuthorRole.TOOL:\n",
    "                            print(f\"# Agent: {content.content}\")\n",
    "\n",
    "                    \n",
    "                    messages = await client.agents.list_messages(thread_id=thread.id)\n",
    "\n",
    "                    # OpenAIPageableListOfThreadMessage\n",
    "                    # OpenAIPageableListOfThreadMessage\n",
    "\n",
    "\n",
    "                    for file_path_annotation in messages.file_path_annotations:\n",
    "\n",
    "                            file_name = os.path.basename(file_path_annotation.text)\n",
    "\n",
    "                            await client.agents.save_file(file_id=file_path_annotation.file_path.file_id, file_name=file_name,target_dir=\"./trip\")\n",
    "\n",
    "                    \n",
    "            finally:\n",
    "                await client.agents.delete_thread(thread.id)\n",
    "                await client.agents.delete_agent(agent.id)\n",
    "\n",
    "\n",
    "        return \"Saved\""
   ]
  },
  {
   "cell_type": "markdown",
   "metadata": {},
   "source": [
    "# Forklaring:\n",
    "Denne koden setter opp Azure AI-agenter for å håndtere bestilling av fly og hoteller, samt lagring av reiseplaner basert på brukerens input. Den bruker Azure-legitimasjon for å opprette og konfigurere agentene, behandler brukerens input gjennom en gruppechat, og sørger for riktig opprydding etter at oppgavene er fullført. Agentene bruker spesifikke plugins (BookingPlugin og SavePlugin) for å utføre sine respektive oppgaver.\n"
   ]
  },
  {
   "cell_type": "code",
   "execution_count": null,
   "metadata": {
    "dotnet_interactive": {
     "language": "csharp"
    },
    "polyglot_notebook": {
     "kernelName": "csharp"
    }
   },
   "outputs": [],
   "source": [
    "async with (\n",
    "    DefaultAzureCredential() as creds,\n",
    "    AzureAIAgent.create_client(\n",
    "        credential=creds,\n",
    "        conn_str=ai_agent_settings.project_connection_string.get_secret_value(),\n",
    "    ) as client,\n",
    "):\n",
    "    BOOKING_AGENT_NAME = \"BookingAgent\"\n",
    "    BOOKING_AGENT_INSTRUCTIONS = \"\"\"\n",
    "    You are a booking agent. Help me book flights or hotels.\n",
    "\n",
    "    Thought: Please understand the user's intention and confirm whether to use the reservation system to complete the task.\n",
    "\n",
    "    Actions:\n",
    "    - For flight bookings, convert the departure and destination names into airport codes.\n",
    "    - Use the appropriate API for hotel or flight bookings. Verify that all necessary parameters are available. If any parameters are missing, ask the user to provide them. If all parameters are complete, call the corresponding function.\n",
    "    - If the task is not related to hotel or flight booking, respond with the final answer only.\n",
    "    - Output the results using a markdown table:\n",
    "      - For flight bookings, output separate outbound and return contents in the order of:\n",
    "        Departure Airport | Airline | Flight Number | Departure Time | Arrival Airport | Arrival Time | Duration | Airplane | Travel Class | Price (USD) | Legroom | Extensions | Carbon Emissions (kg).\n",
    "      - For hotel bookings, output in the order of:\n",
    "        Property Name | Property Description | Check-in Time | Check-out Time | Prices | Nearby Places | Hotel Class | GPS Coordinates.\n",
    "    \"\"\"\n",
    "\n",
    "    SAVE_AGENT_NAME = \"SaveAgent\"\n",
    "    SAVE_AGENT_INSTRUCTIONS = \"\"\"\n",
    "    You are a save tool agent. Help me to save the trip plan.\n",
    "    \"\"\"\n",
    "\n",
    "    # Create agent definition\n",
    "    booking_agent_definition = await client.agents.create_agent(\n",
    "        model=ai_agent_settings.model_deployment_name,\n",
    "        name=BOOKING_AGENT_NAME,\n",
    "        instructions=BOOKING_AGENT_INSTRUCTIONS,\n",
    "    )\n",
    "\n",
    "    # Create the AzureAI Agent\n",
    "    booking_agent = AzureAIAgent(\n",
    "        client=client,\n",
    "        definition=booking_agent_definition,\n",
    "        # Optionally configure polling options\n",
    "        # polling_options=RunPollingOptions(run_polling_interval=timedelta(seconds=1)),\n",
    "    )\n",
    "\n",
    "    # Add the sample plugin to the kernel\n",
    "    booking_agent.kernel.add_plugin(BookingPlugin(), plugin_name=\"booking\")\n",
    "\n",
    "    # Create agent definition\n",
    "    save_agent_definition = await client.agents.create_agent(\n",
    "        model=ai_agent_settings.model_deployment_name,\n",
    "        name=SAVE_AGENT_NAME,\n",
    "        instructions=SAVE_AGENT_INSTRUCTIONS\n",
    "    )\n",
    "\n",
    "    # Create the AzureAI Agent\n",
    "    save_agent = AzureAIAgent(\n",
    "        client=client,\n",
    "        definition=save_agent_definition,\n",
    "    )\n",
    "\n",
    "    save_agent.kernel.add_plugin(SavePlugin(), plugin_name=\"saving\")\n",
    "\n",
    "    user_inputs = [\n",
    "        \"I have a business trip from London to New York in Feb 20 2025 to Feb 27 2025 ,help me to book a hotel and fight tickets and save it\"\n",
    "    ]\n",
    "\n",
    "    chat = AgentGroupChat(\n",
    "        agents=[booking_agent, save_agent],\n",
    "        termination_strategy=ApprovalTerminationStrategy(agents=[save_agent], maximum_iterations=10),\n",
    "    )\n",
    "\n",
    "    try:\n",
    "        for user_input in user_inputs:\n",
    "            # Add the user input as a chat message\n",
    "            await chat.add_chat_message(\n",
    "                ChatMessageContent(role=AuthorRole.USER, content=user_input)\n",
    "            )\n",
    "            print(f\"# User: '{user_input}'\")\n",
    "\n",
    "            async for content in chat.invoke():\n",
    "                print(f\"# {content.role} - {content.name or '*'}: '{content.content}'\")\n",
    "\n",
    "            print(f\"# IS COMPLETE: {chat.is_complete}\")\n",
    "\n",
    "            print(\"*\" * 60)\n",
    "            print(\"Chat History (In Descending Order):\\n\")\n",
    "            async for message in chat.get_chat_messages(agent=save_agent):\n",
    "                print(f\"# {message.role} - {message.name or '*'}: '{message.content}'\")\n",
    "    finally:\n",
    "        await chat.reset()\n",
    "        await client.agents.delete_agent(save_agent.id)\n",
    "        await client.agents.delete_agent(booking_agent.id)\n"
   ]
  },
  {
   "cell_type": "markdown",
   "metadata": {},
   "source": [
    "\n---\n\n**Ansvarsfraskrivelse**:  \nDette dokumentet er oversatt ved hjelp av AI-oversettelsestjenesten [Co-op Translator](https://github.com/Azure/co-op-translator). Selv om vi streber etter nøyaktighet, vær oppmerksom på at automatiserte oversettelser kan inneholde feil eller unøyaktigheter. Det originale dokumentet på sitt opprinnelige språk bør anses som den autoritative kilden. For kritisk informasjon anbefales profesjonell menneskelig oversettelse. Vi er ikke ansvarlige for misforståelser eller feiltolkninger som oppstår ved bruk av denne oversettelsen.\n"
   ]
  }
 ],
 "metadata": {
  "kernelspec": {
   "display_name": "3.12.1",
   "language": "python",
   "name": "python3"
  },
  "language_info": {
   "codemirror_mode": {
    "name": "ipython",
    "version": 3
   },
   "file_extension": ".py",
   "mimetype": "text/x-python",
   "name": "python",
   "nbconvert_exporter": "python",
   "pygments_lexer": "ipython3",
   "version": "3.12.1"
  },
  "polyglot_notebook": {
   "kernelInfo": {
    "defaultKernelName": "csharp",
    "items": [
     {
      "aliases": [],
      "name": "csharp"
     }
    ]
   }
  },
  "coopTranslator": {
   "original_hash": "1baa60020a95eda27b7e9ecfda99965b",
   "translation_date": "2025-08-29T16:37:43+00:00",
   "source_file": "08-multi-agent/code_samples/08-python_multi_aiagent_bookinghotel.ipynb",
   "language_code": "no"
  }
 },
 "nbformat": 4,
 "nbformat_minor": 2
}