{
 "cells": [
  {
   "cell_type": "markdown",
   "metadata": {},
   "source": [
    "## **サンプル: ホテル予約のためのマルチAIエージェント**\n",
    "\n",
    "現代の忙しい社会では、出張の計画は単にフライトやホテルを予約するだけでは済みません。調整や効率性が求められるため、それを達成するのは容易ではありません。ここでマルチAIエージェントが登場し、私たちの旅行管理の方法を革新します。\n",
    "\n",
    "想像してみてください。あなたの旅行のあらゆる側面を正確かつ簡単に処理するために協力する、知能を持ったエージェントのチームが手元にいるとしたら。私たちの先進的なAI技術を活用し、予約サービスや旅程の手配に特化したエージェントを作成しました。これにより、スムーズでストレスのない旅行体験を実現します。\n",
    "\n",
    "これは基本的なシナリオです。出張を計画する際には、航空券情報やホテル情報を得るためにビジネストラベルエージェントに相談する必要があります。AIエージェントを活用することで、予約サービス用のエージェントや旅程手配用のエージェントを構築し、協力して知能のレベルを向上させることができます。\n"
   ]
  },
  {
   "cell_type": "markdown",
   "metadata": {},
   "source": [
    "# Azure AI Agent Service を初期化し、**.env** から設定情報を取得する\n",
    "\n",
    "### **.env**\n",
    "\n",
    ".env ファイルを作成する\n",
    "\n",
    "**.env** には、Azure AI Agent Service の接続文字列、AOAI が使用するモデル、対応する Google API 検索サービスの API、ENDPOINT などが含まれます。\n",
    "\n",
    "- **AZURE_AI_AGENT_MODEL_DEPLOYMENT_NAME** = \"Azure AI Agent Service モデル展開名\"\n",
    "\n",
    "[**NOTE**] モデルには、100,000 のレート制限（1 分あたりのトークン数）と 600 のレート制限（1 分あたりのリクエスト数）が必要です。\n",
    "\n",
    "  モデルは Azure AI Foundry - Model and Endpoint で取得できます。\n",
    "\n",
    "- **AZURE_AI_AGENT_PROJECT_CONNECTION_STRING** = \"Azure AI Agent Service プロジェクト接続文字列\"\n",
    "\n",
    "  プロジェクト接続文字列は、AI Foundry ポータル画面のプロジェクト概要で取得できます。\n",
    "\n",
    "- **SERPAPI_SEARCH_API_KEY** = \"SERPAPI 検索 API KEY\"\n",
    "- **SERPAPI_SEARCH_ENDPOINT** = \"SERPAPI 検索 ENDPOINT\"\n",
    "\n",
    "Azure AI Agent Service のモデル展開名とプロジェクト接続文字列を取得するには、Azure AI Agent Service を作成する必要があります。以下の [テンプレート](https://portal.azure.com/#create/Microsoft.Template/uri/https%3A%2F%2Fraw.githubusercontent.com%2Ffosteramanda%2Fazure-agent-quickstart-templates%2Frefs%2Fheads%2Fmaster%2Fquickstarts%2Fmicrosoft.azure-ai-agent-service%2Fstandard-agent%2Fazuredeploy.json) を使用して直接作成することを推奨します。（***注意:*** Azure AI Agent Service は現在、限定されたリージョンで設定されています。[このリンク](https://learn.microsoft.com/en-us/azure/ai-services/agents/concepts/model-region-support) を参照してリージョンを設定することを推奨します）\n",
    "\n",
    "Agent は SERPAPI にアクセスする必要があります。[このリンク](https://serpapi.com/searches) を使用して登録することを推奨します。登録後、ユニークな API KEY と ENDPOINT を取得できます。\n"
   ]
  },
  {
   "cell_type": "markdown",
   "metadata": {},
   "source": [
    "# Azure にログインする\n",
    "\n",
    "Azure にログインする必要があります。VScode のターミナルを開き、`az login` コマンドを実行してください。\n"
   ]
  },
  {
   "cell_type": "markdown",
   "metadata": {},
   "source": [
    "# セットアップ\n",
    "\n",
    "このノートブックを実行するには、以下のライブラリをインストールする必要があります。必要なライブラリと対応する pip インストールコマンドのリストは以下の通りです:\n",
    "\n",
    "azure-identity: Azure認証用。  \n",
    "requests: HTTPリクエストを行うため。  \n",
    "semantic-kernel: セマンティックカーネルフレームワーク用（これがカスタムまたは特定のライブラリである場合、特定のソースやリポジトリからインストールする必要があるかもしれません）。  \n"
   ]
  },
  {
   "cell_type": "code",
   "execution_count": null,
   "metadata": {},
   "outputs": [],
   "source": [
    "!pip install azure-identity\n",
    "!pip install requests\n",
    "!pip install semantic-kernel\n",
    "!pip install --upgrade semantic_kernel\n",
    "!pip install azure-cli"
   ]
  },
  {
   "cell_type": "markdown",
   "metadata": {},
   "source": [
    "# 説明:\n",
    "import asyncio: asyncioモジュールをインポートします。このモジュールはPythonで非同期プログラミングをサポートしており、asyncとawait構文を使用して並行処理のコードを書くことができます。\n",
    "from typing import Annotated: typingモジュールからAnnotated型をインポートします。Annotatedは型ヒントにメタデータを追加するために使用され、検証、ドキュメント作成、ツールの利用などさまざまな目的に役立ちます。\n"
   ]
  },
  {
   "cell_type": "code",
   "execution_count": null,
   "metadata": {
    "dotnet_interactive": {
     "language": "csharp"
    },
    "polyglot_notebook": {
     "kernelName": "csharp"
    }
   },
   "outputs": [],
   "source": [
    "import asyncio,os\n",
    "from typing import Annotated"
   ]
  },
  {
   "cell_type": "markdown",
   "metadata": {},
   "source": [
    "# 説明:\n",
    "`from dotenv import load_dotenv` と `load_dotenv()` を使用することで、設定情報や機密情報（例えば、APIキーやデータベースURL）を `.env` ファイルで簡単に管理できます。これにより、ソースコードからそれらを分離し、アプリケーションをより安全かつ設定しやすくすることができます。\n"
   ]
  },
  {
   "cell_type": "code",
   "execution_count": null,
   "metadata": {},
   "outputs": [],
   "source": [
    "import os\n",
    "from dotenv import load_dotenv\n",
    "\n",
    "# Load environment variables from .env file\n",
    "load_dotenv()"
   ]
  },
  {
   "cell_type": "markdown",
   "metadata": {},
   "source": [
    "# 説明:\n",
    "\n",
    "インポート文: from azure.identity.aio import DefaultAzureCredential  \n",
    "この文は、azure.identity.aioモジュールからDefaultAzureCredentialクラスをインポートしています。モジュール名に含まれるaioは、このモジュールが非同期操作向けに設計されていることを示しています。\n",
    "\n",
    "DefaultAzureCredentialの目的:  \n",
    "DefaultAzureCredentialクラスは、Azure SDK for Pythonの一部です。このクラスは、Azureサービスに認証するためのデフォルトの方法を提供します。環境変数、マネージドID、Azure CLI資格情報など、特定の順序で複数の方法を試みて認証を行います。\n",
    "\n",
    "非同期操作:  \n",
    "aioモジュールは、DefaultAzureCredentialクラスが非同期操作をサポートしていることを示しています。これにより、asyncioを使用して非ブロッキングの認証リクエストを実行することが可能です。\n"
   ]
  },
  {
   "cell_type": "code",
   "execution_count": null,
   "metadata": {
    "dotnet_interactive": {
     "language": "csharp"
    },
    "polyglot_notebook": {
     "kernelName": "csharp"
    }
   },
   "outputs": [],
   "source": [
    "from azure.identity.aio import DefaultAzureCredential"
   ]
  },
  {
   "cell_type": "markdown",
   "metadata": {},
   "source": [
    "# 説明:\n",
    "semantic_kernelパッケージからさまざまなモジュールやクラスをインポートしています。以下は各インポートの概要です:\n",
    "\n",
    "semantic_kernel.agentsのAgentGroupChat: このクラスは、AIエージェントのグループチャットに関連する機能を扱います。semantic_kernel.agents.azure_aiのAzureAIAgentとAzureAIAgentSettings:\n",
    "\n",
    "AzureAIAgent: Azure AIサービスを利用するAIエージェントを作成および管理するためのクラスです。\n",
    "\n",
    "AzureAIAgentSettings: AzureAIAgentの設定を構成するためのクラスです。semantic_kernel.agents.strategies.termination.termination_strategyのTerminationStrategy:\n",
    "\n",
    "このクラスは、特定の条件下でAIエージェントの実行を終了するための戦略を定義します。semantic_kernel.contents.chat_message_contentのChatMessageContent:\n",
    "\n",
    "このクラスは、チャットメッセージの内容を扱うために使用されます。\n",
    "semantic_kernel.contents.utils.author_roleのAuthorRole:\n",
    "\n",
    "このクラスは、チャットメッセージの文脈で著者の異なる役割を定義します。\n",
    "\n",
    "semantic_kernel.functions.kernel_function_decoratorのkernel_function: このデコレーターは、semantic kernelフレームワーク内で実行可能なカーネル関数を定義するために使用されます。\n",
    "これらのインポートは、ホテル予約などの活動を含む可能性があるグループチャット環境でAIエージェントを作成および管理するための必要なコンポーネントを設定します。\n"
   ]
  },
  {
   "cell_type": "code",
   "execution_count": null,
   "metadata": {
    "dotnet_interactive": {
     "language": "csharp"
    },
    "polyglot_notebook": {
     "kernelName": "csharp"
    }
   },
   "outputs": [],
   "source": [
    "from semantic_kernel.agents import AgentGroupChat\n",
    "from semantic_kernel.agents import AzureAIAgent, AzureAIAgentSettings\n",
    "from semantic_kernel.agents.strategies.termination.termination_strategy import TerminationStrategy\n",
    "from semantic_kernel.contents import ChatMessageContent\n",
    "from semantic_kernel.contents import AuthorRole\n",
    "from semantic_kernel.functions.kernel_function_decorator import kernel_function"
   ]
  },
  {
   "cell_type": "markdown",
   "metadata": {},
   "source": [
    "# 説明:\n",
    "次に、azure.ai.projects.models モジュールから CodeInterpreterTool クラスをインポートします。\n",
    "\n",
    "CodeInterpreterTool: このクラスは Azure AI SDK の一部であり、AI プロジェクトの文脈でコードを解釈し実行するために使用されます。コードスニペットの実行、コードの分析、または AI ワークフロー内でのコード実行の統合といった機能を提供します。  \n",
    "このインポートにより、プロジェクト内で CodeInterpreterTool を利用するための必要なコンポーネントが設定されます。これは、コードを動的に解釈・実行するタスクに役立つ可能性があります。\n"
   ]
  },
  {
   "cell_type": "code",
   "execution_count": null,
   "metadata": {
    "dotnet_interactive": {
     "language": "csharp"
    },
    "polyglot_notebook": {
     "kernelName": "csharp"
    }
   },
   "outputs": [],
   "source": [
    "from azure.ai.projects.models import CodeInterpreterTool"
   ]
  },
  {
   "cell_type": "markdown",
   "metadata": {},
   "source": [
    "# 説明:\n",
    "ApprovalTerminationStrategyクラスは、AIエージェントの動作を終了させるための特定の戦略を提供します。この戦略では、エージェントの対話履歴の最後のメッセージに「saved」という単語が含まれている場合に終了します。この方法は、何かが「保存」されたという確認を受け取った時点でエージェントのタスクが完了したとみなされるシナリオで役立つ可能性があります。対話方法を定義します。予約プランが保存された後、保存された信号を受け取ることで停止することができます。\n"
   ]
  },
  {
   "cell_type": "code",
   "execution_count": null,
   "metadata": {
    "dotnet_interactive": {
     "language": "csharp"
    },
    "polyglot_notebook": {
     "kernelName": "csharp"
    }
   },
   "outputs": [],
   "source": [
    "class ApprovalTerminationStrategy(TerminationStrategy):\n",
    "    \"\"\"A strategy for determining when an agent should terminate.\"\"\"\n",
    "\n",
    "    async def should_agent_terminate(self, agent, history):\n",
    "        \"\"\"Check if the agent should terminate.\"\"\"\n",
    "        return \"saved\" in history[-1].content.lower()"
   ]
  },
  {
   "cell_type": "markdown",
   "metadata": {},
   "source": [
    "# 説明:\n",
    "\n",
    "このコード行は、create() メソッドを呼び出すことで、デフォルトまたは事前定義された設定を持つ AzureAIAgentSettings オブジェクトを初期化します。この設定オブジェクト (ai_agent_settings) は、その後 AzureAIAgent インスタンスを設定および管理するために使用できます。\n"
   ]
  },
  {
   "cell_type": "code",
   "execution_count": null,
   "metadata": {
    "dotnet_interactive": {
     "language": "csharp"
    },
    "polyglot_notebook": {
     "kernelName": "csharp"
    }
   },
   "outputs": [],
   "source": [
    "ai_agent_settings = AzureAIAgentSettings.create()"
   ]
  },
  {
   "cell_type": "markdown",
   "metadata": {},
   "source": [
    "# 説明:\n",
    "requestsライブラリをインポートすることで、Pythonコード内で簡単にHTTPリクエストを送信し、ウェブサービスとやり取りすることができます。\n"
   ]
  },
  {
   "cell_type": "code",
   "execution_count": null,
   "metadata": {
    "dotnet_interactive": {
     "language": "csharp"
    },
    "polyglot_notebook": {
     "kernelName": "csharp"
    }
   },
   "outputs": [],
   "source": [
    "import requests"
   ]
  },
  {
   "cell_type": "markdown",
   "metadata": {},
   "source": [
    "# 説明:\n",
    "これは、SERP（検索エンジン結果ページ）APIサービスにアクセスするためのAPIキーを格納する変数です。APIキーは、アカウントに関連付けられたリクエストを認証するために使用される一意の識別子です。\n",
    "\n",
    "'GOOGLE_SEARCH_API_KEY': これはプレースホルダー文字列です。'GOOGLE_SEARCH_API_KEY' を実際のSERP APIキーに置き換える必要があります。\n",
    "\n",
    "目的: この行の目的は、APIキーを変数に格納し、SERP APIサービスへのリクエストを認証するために使用できるようにすることです。APIキーは、サービスにアクセスして検索を実行するために必要です。\n",
    "\n",
    "SERP APIキーの取得方法: SERP APIキーを取得するには、以下の一般的な手順に従ってください（使用する特定のSERP APIサービスによって手順が異なる場合があります）:\n",
    "\n",
    "1. SERP APIサービスを選ぶ: SerpAPI、Google Custom Search JSON APIなど、いくつかのSERP APIサービスがあります。自分のニーズに最も合ったものを選んでください。\n",
    "\n",
    "2. アカウントに登録する:\n",
    "\n",
    "選んだSERP APIサービスのウェブサイト（例: https://www.serpapi.com）にアクセスし、アカウントを作成してください。基本的な情報を提供し、メールアドレスを確認する必要がある場合があります。\n",
    "\n",
    "3. APIキーを作成する:\n",
    "\n",
    "登録後、アカウントにログインし、APIセクションまたはダッシュボードに移動します。新しいAPIキーを作成または生成するオプションを探してください。\n",
    "\n",
    "4. APIキーをコピーする:\n",
    "\n",
    "APIキーが生成されたら、それをコピーしてください。このキーは、SERP APIサービスへのリクエストを認証するために使用されます。\n",
    "\n",
    "5. プレースホルダーを置き換える:\n",
    "\n",
    ".envファイル内のプレースホルダーを、コピーしたAPIキーに置き換えてください。\n"
   ]
  },
  {
   "cell_type": "code",
   "execution_count": null,
   "metadata": {
    "dotnet_interactive": {
     "language": "csharp"
    },
    "polyglot_notebook": {
     "kernelName": "csharp"
    }
   },
   "outputs": [],
   "source": [
    "SERPAPI_SEARCH_API_KEY=os.getenv('SERPAPI_SEARCH_API_KEY')"
   ]
  },
  {
   "cell_type": "code",
   "execution_count": null,
   "metadata": {
    "dotnet_interactive": {
     "language": "csharp"
    },
    "polyglot_notebook": {
     "kernelName": "csharp"
    }
   },
   "outputs": [],
   "source": [
    "SERPAPI_SEARCH_ENDPOINT = os.getenv('SERPAPI_SEARCH_ENDPOINT')"
   ]
  },
  {
   "cell_type": "markdown",
   "metadata": {},
   "source": [
    "# 説明:\n",
    "BookingPluginクラスは、Serpapi.comのGoogle Search APIを使用してホテルやフライトを予約するためのメソッドを提供します。このクラスは必要なパラメータを構築し、APIリクエストを送信し、レスポンスを処理して関連する予約情報を返します。APIキー（SERPAPI_SEARCH_API_KEY）とエンドポイント（SERPAPI_SEARCH_ENDPOINT）は、Google Search APIへの認証とリクエスト送信に使用されます。\n"
   ]
  },
  {
   "cell_type": "code",
   "execution_count": null,
   "metadata": {
    "dotnet_interactive": {
     "language": "csharp"
    },
    "polyglot_notebook": {
     "kernelName": "csharp"
    }
   },
   "outputs": [],
   "source": [
    "# Define Booking Plugin\n",
    "class BookingPlugin:\n",
    "    \"\"\"Booking Plugin for customers\"\"\"\n",
    "    @kernel_function(description=\"booking hotel\")\n",
    "    def booking_hotel(self,query: Annotated[str, \"The name of the city\"], check_in_date: Annotated[str, \"Hotel Check-in Time\"], check_out_date: Annotated[str, \"Hotel Check-in Time\"])-> Annotated[str, \"Return the result of booking hotel infomation\"]:\n",
    "\n",
    "        params = {\n",
    "            \"engine\": \"google_hotels\",\n",
    "            \"q\": query,\n",
    "            \"check_in_date\": check_in_date,\n",
    "            \"check_out_date\": check_out_date,\n",
    "            \"adults\": \"2\",\n",
    "            \"currency\": \"USD\",\n",
    "            \"gl\": \"us\",\n",
    "            \"hl\": \"en\",\n",
    "            \"api_key\": SERPAPI_SEARCH_API_KEY\n",
    "        }\n",
    "\n",
    "        response = requests.get(SERPAPI_SEARCH_ENDPOINT, params=params)\n",
    "        if response.status_code == 200:\n",
    "            response = response.json()\n",
    "            return response[\"properties\"]\n",
    "        else:\n",
    "            return None\n",
    "\n",
    "    \n",
    "    @kernel_function(description=\"booking fight\")\n",
    "    def  booking_fight(self,origin: Annotated[str, \"The name of Departure\"], destination: Annotated[str, \"The name of Destination\"], outbound_date: Annotated[str, \"The date of outbound\"], return_date: Annotated[str, \"The date of Return_date\"])-> Annotated[str, \"Return the result of booking fight infomation\"]:\n",
    "        \n",
    "        go_params = {\n",
    "            \"engine\": \"google_flights\",   \n",
    "            \"departure_id\": origin,\n",
    "            \"arrival_id\": destination,\n",
    "            \"outbound_date\": outbound_date,\n",
    "            \"return_date\": return_date,  \n",
    "            \"currency\": \"USD\",\n",
    "            \"hl\": \"en\",\n",
    "            \"api_key\": SERPAPI_SEARCH_API_KEY  \n",
    "        }\n",
    "\n",
    "        print(go_params)\n",
    "\n",
    "        go_response = requests.get(SERPAPI_SEARCH_ENDPOINT, params=go_params)\n",
    "\n",
    "\n",
    "        result = ''\n",
    "\n",
    "        if go_response.status_code == 200:\n",
    "            response = go_response.json()\n",
    "\n",
    "            result += \"# outbound \\n \" + str(response)\n",
    "        else:\n",
    "            print('error!!!')\n",
    "            # return None\n",
    "\n",
    "        \n",
    "        back_params = {\n",
    "            \"engine\": \"google_flights\",   \n",
    "            \"departure_id\": destination,\n",
    "            \"arrival_id\": origin,\n",
    "            \"outbound_date\": return_date,\n",
    "            \"return_date\": return_date,  \n",
    "            \"currency\": \"USD\",\n",
    "            \"hl\": \"en\",\n",
    "            \"api_key\": SERPAPI_SEARCH_API_KEY  \n",
    "        }\n",
    "\n",
    "\n",
    "        print(back_params)\n",
    "\n",
    "\n",
    "        back_response = requests.get(SERPAPI_SEARCH_ENDPOINT, params=back_params)\n",
    "\n",
    "\n",
    "\n",
    "        if back_response.status_code == 200:\n",
    "            response = back_response.json()\n",
    "\n",
    "            result += \"\\n # return \\n\"  + str(response)\n",
    "\n",
    "        else:\n",
    "            print('error!!!')\n",
    "            # return None\n",
    "        \n",
    "        print(result)\n",
    "\n",
    "        return result\n",
    "\n",
    "        \n"
   ]
  },
  {
   "cell_type": "markdown",
   "metadata": {},
   "source": [
    "# 説明:\n",
    "SavePluginクラスは、Azure AIサービスを使用して旅行プランを保存するためのsaving_planメソッドを提供します。このクラスはAzureの認証情報を設定し、AIエージェントを作成し、ユーザー入力を処理して旅行プランの内容を生成・保存し、ファイルの保存やクリーンアップ操作を行います。メソッドは正常に完了すると「Saved」を返します。\n"
   ]
  },
  {
   "cell_type": "code",
   "execution_count": null,
   "metadata": {
    "dotnet_interactive": {
     "language": "csharp"
    },
    "polyglot_notebook": {
     "kernelName": "csharp"
    }
   },
   "outputs": [],
   "source": [
    "class SavePlugin:\n",
    "    \"\"\"Save Plugin for customers\"\"\"\n",
    "    @kernel_function(description=\"saving plan\")\n",
    "    async def saving_plan(self,tripplan: Annotated[str, \"The content of trip plan\"])-> Annotated[str, \"Return status of save content\"]:\n",
    "\n",
    "        async with (\n",
    "            DefaultAzureCredential() as creds,\n",
    "            AzureAIAgent.create_client(\n",
    "                credential=creds,\n",
    "                conn_str=ai_agent_settings.project_connection_string.get_secret_value(),\n",
    "            ) as client,\n",
    "        ):\n",
    "\n",
    "            code_interpreter = CodeInterpreterTool()\n",
    "            \n",
    "            agent_definition = await client.agents.create_agent(\n",
    "                model=ai_agent_settings.model_deployment_name,\n",
    "                tools=code_interpreter.definitions,\n",
    "                tool_resources=code_interpreter.resources,\n",
    "            )\n",
    "\n",
    "\n",
    "            agent = AzureAIAgent(\n",
    "                client=client,\n",
    "                definition=agent_definition,\n",
    "            )\n",
    "\n",
    "            thread = await client.agents.create_thread()\n",
    "\n",
    "\n",
    "            user_inputs = [\n",
    "                \"\"\"\n",
    "            \n",
    "                        You are my Python programming assistant. Generate code,save \"\"\"+ tripplan +\n",
    "                        \n",
    "                    \"\"\"    \n",
    "                        and execute it according to the following requirements\n",
    "\n",
    "                        1. Save blog content to trip-{YYMMDDHHMMSS}.md\n",
    "\n",
    "                        2. give me the download this file link\n",
    "                    \"\"\"\n",
    "            ]\n",
    "\n",
    "\n",
    "\n",
    "            try:\n",
    "                for user_input in user_inputs:\n",
    "                    # Add the user input as a chat message\n",
    "                    await agent.add_chat_message(\n",
    "                        thread_id=thread.id, message=ChatMessageContent(role=AuthorRole.USER, content=user_input)\n",
    "                    )\n",
    "                    print(f\"# User: '{user_input}'\")\n",
    "                    # Invoke the agent for the specified thread\n",
    "                    async for content in agent.invoke(thread_id=thread.id):\n",
    "                        if content.role != AuthorRole.TOOL:\n",
    "                            print(f\"# Agent: {content.content}\")\n",
    "\n",
    "                    \n",
    "                    messages = await client.agents.list_messages(thread_id=thread.id)\n",
    "\n",
    "                    # OpenAIPageableListOfThreadMessage\n",
    "                    # OpenAIPageableListOfThreadMessage\n",
    "\n",
    "\n",
    "                    for file_path_annotation in messages.file_path_annotations:\n",
    "\n",
    "                            file_name = os.path.basename(file_path_annotation.text)\n",
    "\n",
    "                            await client.agents.save_file(file_id=file_path_annotation.file_path.file_id, file_name=file_name,target_dir=\"./trip\")\n",
    "\n",
    "                    \n",
    "            finally:\n",
    "                await client.agents.delete_thread(thread.id)\n",
    "                await client.agents.delete_agent(agent.id)\n",
    "\n",
    "\n",
    "        return \"Saved\""
   ]
  },
  {
   "cell_type": "markdown",
   "metadata": {},
   "source": [
    "# 説明:\n",
    "このコードは、Azure AIエージェントを設定して、ユーザーの入力に基づいてフライトやホテルの予約を行い、旅行プランを保存する機能を提供します。Azureの認証情報を使用してエージェントを作成・設定し、グループチャットを通じてユーザーの入力を処理します。また、タスク完了後に適切なクリーンアップを行うことを保証します。エージェントは、それぞれのタスクを実行するために特定のプラグイン（BookingPluginとSavePlugin）を使用します。\n"
   ]
  },
  {
   "cell_type": "code",
   "execution_count": null,
   "metadata": {
    "dotnet_interactive": {
     "language": "csharp"
    },
    "polyglot_notebook": {
     "kernelName": "csharp"
    }
   },
   "outputs": [],
   "source": [
    "async with (\n",
    "    DefaultAzureCredential() as creds,\n",
    "    AzureAIAgent.create_client(\n",
    "        credential=creds,\n",
    "        conn_str=ai_agent_settings.project_connection_string.get_secret_value(),\n",
    "    ) as client,\n",
    "):\n",
    "    BOOKING_AGENT_NAME = \"BookingAgent\"\n",
    "    BOOKING_AGENT_INSTRUCTIONS = \"\"\"\n",
    "    You are a booking agent. Help me book flights or hotels.\n",
    "\n",
    "    Thought: Please understand the user's intention and confirm whether to use the reservation system to complete the task.\n",
    "\n",
    "    Actions:\n",
    "    - For flight bookings, convert the departure and destination names into airport codes.\n",
    "    - Use the appropriate API for hotel or flight bookings. Verify that all necessary parameters are available. If any parameters are missing, ask the user to provide them. If all parameters are complete, call the corresponding function.\n",
    "    - If the task is not related to hotel or flight booking, respond with the final answer only.\n",
    "    - Output the results using a markdown table:\n",
    "      - For flight bookings, output separate outbound and return contents in the order of:\n",
    "        Departure Airport | Airline | Flight Number | Departure Time | Arrival Airport | Arrival Time | Duration | Airplane | Travel Class | Price (USD) | Legroom | Extensions | Carbon Emissions (kg).\n",
    "      - For hotel bookings, output in the order of:\n",
    "        Property Name | Property Description | Check-in Time | Check-out Time | Prices | Nearby Places | Hotel Class | GPS Coordinates.\n",
    "    \"\"\"\n",
    "\n",
    "    SAVE_AGENT_NAME = \"SaveAgent\"\n",
    "    SAVE_AGENT_INSTRUCTIONS = \"\"\"\n",
    "    You are a save tool agent. Help me to save the trip plan.\n",
    "    \"\"\"\n",
    "\n",
    "    # Create agent definition\n",
    "    booking_agent_definition = await client.agents.create_agent(\n",
    "        model=ai_agent_settings.model_deployment_name,\n",
    "        name=BOOKING_AGENT_NAME,\n",
    "        instructions=BOOKING_AGENT_INSTRUCTIONS,\n",
    "    )\n",
    "\n",
    "    # Create the AzureAI Agent\n",
    "    booking_agent = AzureAIAgent(\n",
    "        client=client,\n",
    "        definition=booking_agent_definition,\n",
    "        # Optionally configure polling options\n",
    "        # polling_options=RunPollingOptions(run_polling_interval=timedelta(seconds=1)),\n",
    "    )\n",
    "\n",
    "    # Add the sample plugin to the kernel\n",
    "    booking_agent.kernel.add_plugin(BookingPlugin(), plugin_name=\"booking\")\n",
    "\n",
    "    # Create agent definition\n",
    "    save_agent_definition = await client.agents.create_agent(\n",
    "        model=ai_agent_settings.model_deployment_name,\n",
    "        name=SAVE_AGENT_NAME,\n",
    "        instructions=SAVE_AGENT_INSTRUCTIONS\n",
    "    )\n",
    "\n",
    "    # Create the AzureAI Agent\n",
    "    save_agent = AzureAIAgent(\n",
    "        client=client,\n",
    "        definition=save_agent_definition,\n",
    "    )\n",
    "\n",
    "    save_agent.kernel.add_plugin(SavePlugin(), plugin_name=\"saving\")\n",
    "\n",
    "    user_inputs = [\n",
    "        \"I have a business trip from London to New York in Feb 20 2025 to Feb 27 2025 ,help me to book a hotel and fight tickets and save it\"\n",
    "    ]\n",
    "\n",
    "    chat = AgentGroupChat(\n",
    "        agents=[booking_agent, save_agent],\n",
    "        termination_strategy=ApprovalTerminationStrategy(agents=[save_agent], maximum_iterations=10),\n",
    "    )\n",
    "\n",
    "    try:\n",
    "        for user_input in user_inputs:\n",
    "            # Add the user input as a chat message\n",
    "            await chat.add_chat_message(\n",
    "                ChatMessageContent(role=AuthorRole.USER, content=user_input)\n",
    "            )\n",
    "            print(f\"# User: '{user_input}'\")\n",
    "\n",
    "            async for content in chat.invoke():\n",
    "                print(f\"# {content.role} - {content.name or '*'}: '{content.content}'\")\n",
    "\n",
    "            print(f\"# IS COMPLETE: {chat.is_complete}\")\n",
    "\n",
    "            print(\"*\" * 60)\n",
    "            print(\"Chat History (In Descending Order):\\n\")\n",
    "            async for message in chat.get_chat_messages(agent=save_agent):\n",
    "                print(f\"# {message.role} - {message.name or '*'}: '{message.content}'\")\n",
    "    finally:\n",
    "        await chat.reset()\n",
    "        await client.agents.delete_agent(save_agent.id)\n",
    "        await client.agents.delete_agent(booking_agent.id)\n"
   ]
  },
  {
   "cell_type": "markdown",
   "metadata": {},
   "source": [
    "\n---\n\n**免責事項**:  \nこの文書は、AI翻訳サービス [Co-op Translator](https://github.com/Azure/co-op-translator) を使用して翻訳されています。正確性を追求しておりますが、自動翻訳には誤りや不正確な部分が含まれる可能性があることをご承知ください。元の言語で記載された文書が正式な情報源とみなされるべきです。重要な情報については、専門の人間による翻訳を推奨します。この翻訳の使用に起因する誤解や誤解釈について、当方は一切の責任を負いません。\n"
   ]
  }
 ],
 "metadata": {
  "kernelspec": {
   "display_name": "3.12.1",
   "language": "python",
   "name": "python3"
  },
  "language_info": {
   "codemirror_mode": {
    "name": "ipython",
    "version": 3
   },
   "file_extension": ".py",
   "mimetype": "text/x-python",
   "name": "python",
   "nbconvert_exporter": "python",
   "pygments_lexer": "ipython3",
   "version": "3.12.1"
  },
  "polyglot_notebook": {
   "kernelInfo": {
    "defaultKernelName": "csharp",
    "items": [
     {
      "aliases": [],
      "name": "csharp"
     }
    ]
   }
  },
  "coopTranslator": {
   "original_hash": "1baa60020a95eda27b7e9ecfda99965b",
   "translation_date": "2025-08-30T00:48:21+00:00",
   "source_file": "08-multi-agent/code_samples/08-python_multi_aiagent_bookinghotel.ipynb",
   "language_code": "ja"
  }
 },
 "nbformat": 4,
 "nbformat_minor": 2
}