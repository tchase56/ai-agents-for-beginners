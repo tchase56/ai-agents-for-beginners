{
 "cells": [
  {
   "cell_type": "markdown",
   "metadata": {},
   "source": [
    "# آٹو جن ٹول استعمال کی مثال\n"
   ]
  },
  {
   "cell_type": "markdown",
   "metadata": {},
   "source": [
    "## ضروری پیکجز درآمد کریں\n"
   ]
  },
  {
   "cell_type": "code",
   "execution_count": null,
   "metadata": {},
   "outputs": [],
   "source": [
    "import os\n",
    "import json\n",
    "\n",
    "import requests\n",
    "from autogen_agentchat.agents import AssistantAgent\n",
    "from autogen_core.models import UserMessage\n",
    "from autogen_ext.models.azure import AzureAIChatCompletionClient\n",
    "from azure.core.credentials import AzureKeyCredential\n",
    "from autogen_core import CancellationToken\n",
    "from autogen_core.tools import FunctionTool\n",
    "from autogen_agentchat.messages import TextMessage\n",
    "from autogen_agentchat.ui import Console\n",
    "from typing import Any, Callable, Set, Dict, List, Optional"
   ]
  },
  {
   "cell_type": "markdown",
   "metadata": {},
   "source": [
    "## کلائنٹ بنانا\n",
    "\n",
    "اس نمونے میں، ہم [GitHub Models](https://aka.ms/ai-agents-beginners/github-models) کا استعمال کریں گے تاکہ LLM تک رسائی حاصل کی جا سکے۔\n",
    "\n",
    "`model` کو `gpt-4o-mini` کے طور پر بیان کیا گیا ہے۔ مختلف نتائج دیکھنے کے لیے ماڈل کو GitHub Models مارکیٹ پلیس میں دستیاب کسی اور ماڈل میں تبدیل کرنے کی کوشش کریں۔\n",
    "\n",
    "ایک فوری ٹیسٹ کے طور پر، ہم ایک سادہ پرامپٹ چلائیں گے - `What is the capital of France`۔\n"
   ]
  },
  {
   "cell_type": "code",
   "execution_count": null,
   "metadata": {},
   "outputs": [],
   "source": [
    "client = AzureAIChatCompletionClient(\n",
    "    model=\"gpt-4o-mini\",\n",
    "    endpoint=\"https://models.inference.ai.azure.com\",\n",
    "    # To authenticate with the model you will need to generate a personal access token (PAT) in your GitHub settings.\n",
    "    # Create your PAT token by following instructions here: https://docs.github.com/en/authentication/keeping-your-account-and-data-secure/managing-your-personal-access-tokens\n",
    "    credential=AzureKeyCredential(os.environ[\"GITHUB_TOKEN\"]),\n",
    "    model_info={\n",
    "        \"json_output\": True,\n",
    "        \"function_calling\": True,\n",
    "        \"vision\": True,\n",
    "        \"family\": \"unknown\",\n",
    "    },\n",
    ")\n",
    "\n",
    "result = await client.create([UserMessage(content=\"What is the capital of France?\", source=\"user\")])\n",
    "print(result)"
   ]
  },
  {
   "cell_type": "markdown",
   "metadata": {},
   "source": [
    "## فنکشنز کی تعریف\n",
    "\n",
    "اس مثال میں، ہم ایجنٹ کو ایک ایسے ٹول تک رسائی دیں گے جو ایک فنکشن ہے جس میں دستیاب چھٹیوں کے مقامات اور ان کی دستیابی کی فہرست موجود ہے۔\n",
    "\n",
    "آپ یہ تصور کر سکتے ہیں کہ یہ ایک ایسا منظر ہوگا جہاں ایک ٹریول ایجنٹ کے پاس، مثال کے طور پر، ایک سفری ڈیٹا بیس تک رسائی ہو سکتی ہے۔\n",
    "\n",
    "جب آپ اس نمونے کو دیکھیں، تو بلا جھجک نئے فنکشنز اور ٹولز کی تعریف کرنے کی کوشش کریں جنہیں ایجنٹ کال کر سکے۔\n"
   ]
  },
  {
   "cell_type": "code",
   "execution_count": null,
   "metadata": {},
   "outputs": [],
   "source": [
    "from typing import Dict, List, Optional\n",
    "\n",
    "\n",
    "def vacation_destinations(city: str) -> tuple[str, str]:\n",
    "    \"\"\"\n",
    "    Checks if a specific vacation destination is available\n",
    "    \n",
    "    Args:\n",
    "        city (str): Name of the city to check\n",
    "        \n",
    "    Returns:\n",
    "        tuple: Contains city name and availability status ('Available' or 'Unavailable')\n",
    "    \"\"\"\n",
    "    destinations = {\n",
    "        \"Barcelona\": \"Available\",\n",
    "        \"Tokyo\": \"Unavailable\",\n",
    "        \"Cape Town\": \"Available\",\n",
    "        \"Vancouver\": \"Available\",\n",
    "        \"Dubai\": \"Unavailable\",\n",
    "    }\n",
    "\n",
    "    if city in destinations:\n",
    "        return city, destinations[city]\n",
    "    else:\n",
    "        return city, \"City not found\"\n",
    "\n",
    "# Example usage:\n",
    "# city, status = vacation_destinations(\"Barcelona\")\n",
    "# print(f\"How about visiting {city}? It's currently {status} there!\")"
   ]
  },
  {
   "cell_type": "markdown",
   "metadata": {},
   "source": [
    "## فنکشن ٹول کی تعریف  \n",
    "ایجنٹ کو `vacation_destinations` کو بطور `FunctionTool` استعمال کرنے کے لیے، ہمیں اسے ایک فنکشن ٹول کے طور پر تعریف کرنا ہوگا۔  \n",
    "\n",
    "ہم اس ٹول کی وضاحت بھی فراہم کریں گے جو ایجنٹ کے لیے یہ سمجھنے میں مددگار ہوگی کہ یہ ٹول صارف کی درخواست کردہ کام کے حوالے سے کس مقصد کے لیے استعمال ہوتا ہے۔  \n"
   ]
  },
  {
   "cell_type": "code",
   "execution_count": null,
   "metadata": {},
   "outputs": [],
   "source": [
    "get_vacations = FunctionTool(\n",
    "    vacation_destinations, description=\"Search for vacation destinations and if they are available or not.\"\n",
    ")"
   ]
  },
  {
   "cell_type": "markdown",
   "metadata": {},
   "source": [
    "## ایجنٹ کی تعریف\n",
    "\n",
    "اب ہم نیچے دیے گئے کوڈ میں ایجنٹ بنا سکتے ہیں۔ ہم `system_message` کو اس لیے متعین کرتے ہیں تاکہ ایجنٹ کو یہ ہدایات دی جا سکیں کہ وہ صارفین کو چھٹیوں کی منزلیں تلاش کرنے میں کیسے مدد کرے۔\n",
    "\n",
    "ہم `reflect_on_tool_use` پیرامیٹر کو بھی true پر سیٹ کرتے ہیں۔ یہ LLM کو اس قابل بناتا ہے کہ وہ ٹول کال کے جواب کو لے اور اسے قدرتی زبان میں بھیجے۔\n",
    "\n",
    "آپ اس پیرامیٹر کو false پر سیٹ کر سکتے ہیں تاکہ فرق دیکھ سکیں۔\n"
   ]
  },
  {
   "cell_type": "code",
   "execution_count": null,
   "metadata": {},
   "outputs": [],
   "source": [
    "agent = AssistantAgent(\n",
    "    name=\"assistant\",\n",
    "    model_client=client,\n",
    "    tools=[get_vacations],\n",
    "    system_message=\"You are a travel agent that helps users find vacation destinations.\",\n",
    "    reflect_on_tool_use=True,\n",
    ")"
   ]
  },
  {
   "cell_type": "markdown",
   "metadata": {},
   "source": [
    "## ایجنٹ کو چلانا\n",
    "\n",
    "اب ہم ایجنٹ کو ابتدائی صارف پیغام کے ساتھ چلا سکتے ہیں جس میں ٹوکیو کا سفر کرنے کی درخواست کی گئی ہے۔\n",
    "\n",
    "آپ اس شہر کی منزل کو تبدیل کر سکتے ہیں تاکہ دیکھ سکیں کہ ایجنٹ شہر کی دستیابی پر کیسے ردعمل دیتا ہے۔\n"
   ]
  },
  {
   "cell_type": "code",
   "execution_count": null,
   "metadata": {},
   "outputs": [],
   "source": [
    "async def assistant_run() -> None:\n",
    "    response = await agent.on_messages(\n",
    "        [TextMessage(content=\"I would like to take a trip to Tokyo\", source=\"user\")],\n",
    "        cancellation_token=CancellationToken(),\n",
    "    )\n",
    "    print(response.inner_messages)\n",
    "    print(response.chat_message)\n",
    "\n",
    "\n",
    "# Use asyncio.run(assistant_run()) when running in a script.\n",
    "await assistant_run()"
   ]
  },
  {
   "cell_type": "markdown",
   "metadata": {},
   "source": [
    "\n---\n\n**ڈسکلیمر**:  \nیہ دستاویز AI ترجمہ سروس [Co-op Translator](https://github.com/Azure/co-op-translator) کا استعمال کرتے ہوئے ترجمہ کی گئی ہے۔ ہم درستگی کے لیے کوشش کرتے ہیں، لیکن براہ کرم آگاہ رہیں کہ خودکار ترجمے میں غلطیاں یا عدم درستگی ہو سکتی ہیں۔ اصل دستاویز، جو اس کی مقامی زبان میں ہے، کو مستند ذریعہ سمجھا جانا چاہیے۔ اہم معلومات کے لیے، پیشہ ور انسانی ترجمہ کی سفارش کی جاتی ہے۔ اس ترجمے کے استعمال سے پیدا ہونے والی کسی بھی غلط فہمی یا غلط تشریح کے لیے ہم ذمہ دار نہیں ہیں۔\n"
   ]
  }
 ],
 "metadata": {
  "kernelspec": {
   "display_name": ".venv",
   "language": "python",
   "name": "python3"
  },
  "language_info": {
   "codemirror_mode": {
    "name": "ipython",
    "version": 3
   },
   "file_extension": ".py",
   "mimetype": "text/x-python",
   "name": "python",
   "nbconvert_exporter": "python",
   "pygments_lexer": "ipython3",
   "version": "3.13.1"
  },
  "coopTranslator": {
   "original_hash": "3ab7ffbff609b601fcdfeb749af44e43",
   "translation_date": "2025-08-29T11:40:25+00:00",
   "source_file": "04-tool-use/code_samples/04-autogen.ipynb",
   "language_code": "ur"
  }
 },
 "nbformat": 4,
 "nbformat_minor": 2
}