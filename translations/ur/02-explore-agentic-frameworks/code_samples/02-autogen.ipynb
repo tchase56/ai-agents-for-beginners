{
 "cells": [
  {
   "cell_type": "markdown",
   "metadata": {},
   "source": [
    "# آٹو جن بنیادی نمونہ\n",
    "\n",
    "اس کوڈ نمونے میں، آپ [AutoGen](https://aka.ms/ai-agents/autogen) AI فریم ورک استعمال کریں گے تاکہ ایک بنیادی ایجنٹ بنایا جا سکے۔\n",
    "\n",
    "اس نمونے کا مقصد آپ کو وہ مراحل دکھانا ہے جو ہم بعد میں اضافی کوڈ نمونوں میں مختلف ایجنٹک پیٹرنز نافذ کرتے وقت استعمال کریں گے۔\n"
   ]
  },
  {
   "cell_type": "markdown",
   "metadata": {},
   "source": [
    "## مطلوبہ پائتھن پیکجز درآمد کریں\n"
   ]
  },
  {
   "cell_type": "code",
   "execution_count": null,
   "metadata": {},
   "outputs": [],
   "source": [
    "import os\n",
    "from dotenv import load_dotenv\n",
    "\n",
    "from autogen_agentchat.agents import AssistantAgent\n",
    "from autogen_core.models import UserMessage\n",
    "from autogen_ext.models.azure import AzureAIChatCompletionClient\n",
    "from azure.core.credentials import AzureKeyCredential\n",
    "from autogen_core import CancellationToken\n",
    "\n",
    "from autogen_agentchat.messages import TextMessage\n",
    "from autogen_agentchat.ui import Console\n"
   ]
  },
  {
   "cell_type": "markdown",
   "metadata": {},
   "source": [
    "## کلائنٹ بنائیں\n",
    "\n",
    "اس نمونے میں، ہم [GitHub Models](https://aka.ms/ai-agents-beginners/github-models) کا استعمال کریں گے تاکہ LLM تک رسائی حاصل کی جا سکے۔\n",
    "\n",
    "`model` کو `gpt-4o-mini` کے طور پر بیان کیا گیا ہے۔ مختلف نتائج دیکھنے کے لیے ماڈل کو GitHub Models مارکیٹ پلیس میں دستیاب کسی دوسرے ماڈل میں تبدیل کرنے کی کوشش کریں۔\n",
    "\n",
    "ایک فوری ٹیسٹ کے طور پر، ہم ایک سادہ پرامپٹ چلائیں گے - `What is the capital of France`.\n"
   ]
  },
  {
   "cell_type": "code",
   "execution_count": null,
   "metadata": {},
   "outputs": [],
   "source": [
    "load_dotenv()\n",
    "client = AzureAIChatCompletionClient(\n",
    "    model=\"gpt-4o-mini\",\n",
    "    endpoint=\"https://models.inference.ai.azure.com\",\n",
    "    # To authenticate with the model you will need to generate a personal access token (PAT) in your GitHub settings.\n",
    "    # Create your PAT token by following instructions here: https://docs.github.com/en/authentication/keeping-your-account-and-data-secure/managing-your-personal-access-tokens\n",
    "    credential=AzureKeyCredential(os.getenv(\"GITHUB_TOKEN\")),\n",
    "    model_info={\n",
    "        \"json_output\": True,\n",
    "        \"function_calling\": True,\n",
    "        \"vision\": True,\n",
    "        \"family\": \"unknown\",\n",
    "    },\n",
    ")\n",
    "\n",
    "result = await client.create([UserMessage(content=\"What is the capital of France?\", source=\"user\")])\n",
    "print(result)"
   ]
  },
  {
   "cell_type": "markdown",
   "metadata": {},
   "source": [
    "## ایجنٹ کی تعریف\n",
    "\n",
    "اب جب کہ ہم نے `client` کو ترتیب دے دیا ہے اور اس کے کام کرنے کی تصدیق کر لی ہے، آئیے ایک `AssistantAgent` بناتے ہیں۔ ہر ایجنٹ کو درج ذیل تفصیلات تفویض کی جا سکتی ہیں:  \n",
    "**name** - ایک مختصر نام جو کثیر ایجنٹ فلو میں اس کا حوالہ دینے کے لیے مفید ہوگا۔  \n",
    "**model_client** - وہ کلائنٹ جو آپ نے پچھلے مرحلے میں بنایا تھا۔  \n",
    "**tools** - دستیاب ٹولز جنہیں ایجنٹ کسی کام کو مکمل کرنے کے لیے استعمال کر سکتا ہے۔  \n",
    "**system_message** - وہ میٹا پرامپٹ جو LLM کے کام، رویے اور لہجے کو بیان کرتا ہے۔  \n",
    "\n",
    "آپ سسٹم میسج کو تبدیل کر کے دیکھ سکتے ہیں کہ LLM کیسے ردعمل دیتا ہے۔ ہم `tools` کو سبق نمبر 4 میں تفصیل سے دیکھیں گے۔\n"
   ]
  },
  {
   "cell_type": "code",
   "execution_count": null,
   "metadata": {},
   "outputs": [],
   "source": [
    "agent = AssistantAgent(\n",
    "    name=\"assistant\",\n",
    "    model_client=client,\n",
    "    tools=[],\n",
    "    system_message=\"You are a travel agent that plans great vacations\",\n",
    ")"
   ]
  },
  {
   "cell_type": "markdown",
   "metadata": {},
   "source": [
    "## ایجنٹ کو چلائیں\n",
    "\n",
    "نیچے دی گئی فنکشن ایجنٹ کو چلائے گی۔ ہم `on_message` میتھڈ استعمال کرتے ہیں تاکہ ایجنٹ کی حالت کو نئے پیغام کے ساتھ اپ ڈیٹ کیا جا سکے۔\n",
    "\n",
    "اس مثال میں، ہم صارف کی طرف سے ایک نئے پیغام کے ساتھ حالت کو اپ ڈیٹ کرتے ہیں، جو کہ ہے: `\"مجھے ایک بہترین دھوپ والی چھٹی کا منصوبہ بنائیں\"`۔\n",
    "\n",
    "آپ پیغام کے مواد کو تبدیل کر سکتے ہیں تاکہ دیکھ سکیں کہ LLM مختلف طریقے سے کیسے جواب دیتا ہے۔\n"
   ]
  },
  {
   "cell_type": "code",
   "execution_count": null,
   "metadata": {},
   "outputs": [],
   "source": [
    "from IPython.display import display, HTML\n",
    "\n",
    "\n",
    "async def assistant_run():\n",
    "    # Define the query\n",
    "    user_query = \"Plan me a great sunny vacation\"\n",
    "\n",
    "    # Start building HTML output\n",
    "    html_output = \"<div style='margin-bottom:10px'>\"\n",
    "    html_output += \"<div style='font-weight:bold'>User:</div>\"\n",
    "    html_output += f\"<div style='margin-left:20px'>{user_query}</div>\"\n",
    "    html_output += \"</div>\"\n",
    "\n",
    "    # Execute the agent response\n",
    "    response = await agent.on_messages(\n",
    "        [TextMessage(content=user_query, source=\"user\")],\n",
    "        cancellation_token=CancellationToken(),\n",
    "    )\n",
    "\n",
    "    # Add agent response to HTML\n",
    "    html_output += \"<div style='margin-bottom:20px'>\"\n",
    "    html_output += \"<div style='font-weight:bold'>Assistant:</div>\"\n",
    "    html_output += f\"<div style='margin-left:20px; white-space:pre-wrap'>{response.chat_message.content}</div>\"\n",
    "    html_output += \"</div>\"\n",
    "\n",
    "    # Display formatted HTML\n",
    "    display(HTML(html_output))\n",
    "\n",
    "# Run the function\n",
    "await assistant_run()"
   ]
  },
  {
   "cell_type": "markdown",
   "metadata": {},
   "source": [
    "\n---\n\n**ڈس کلیمر**:  \nیہ دستاویز AI ترجمہ سروس [Co-op Translator](https://github.com/Azure/co-op-translator) کا استعمال کرتے ہوئے ترجمہ کی گئی ہے۔ ہم درستگی کے لیے کوشش کرتے ہیں، لیکن براہ کرم آگاہ رہیں کہ خودکار ترجمے میں غلطیاں یا عدم درستگی ہو سکتی ہیں۔ اصل دستاویز، جو اس کی مقامی زبان میں ہے، کو مستند ذریعہ سمجھا جانا چاہیے۔ اہم معلومات کے لیے، پیشہ ور انسانی ترجمہ کی سفارش کی جاتی ہے۔ اس ترجمے کے استعمال سے پیدا ہونے والی کسی بھی غلط فہمی یا غلط تشریح کے لیے ہم ذمہ دار نہیں ہیں۔\n"
   ]
  }
 ],
 "metadata": {
  "kernelspec": {
   "display_name": ".venv (3.12.11)",
   "language": "python",
   "name": "python3"
  },
  "language_info": {
   "codemirror_mode": {
    "name": "ipython",
    "version": 3
   },
   "file_extension": ".py",
   "mimetype": "text/x-python",
   "name": "python",
   "nbconvert_exporter": "python",
   "pygments_lexer": "ipython3",
   "version": "3.12.11"
  },
  "coopTranslator": {
   "original_hash": "aef8b2779015ef9099d6ee3cdacbb35d",
   "translation_date": "2025-08-29T11:57:23+00:00",
   "source_file": "02-explore-agentic-frameworks/code_samples/02-autogen.ipynb",
   "language_code": "ur"
  }
 },
 "nbformat": 4,
 "nbformat_minor": 2
}