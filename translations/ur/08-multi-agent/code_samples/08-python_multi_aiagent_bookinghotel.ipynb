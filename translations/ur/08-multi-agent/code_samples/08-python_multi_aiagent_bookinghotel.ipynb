{
 "cells": [
  {
   "cell_type": "markdown",
   "metadata": {},
   "source": [
    "## **نمونے: ہوٹل کی بکنگ کے لیے ملٹی-اے آئی ایجنٹس**\n",
    "\n",
    "آج کی تیز رفتار دنیا میں، کاروباری سفر کی منصوبہ بندی صرف فلائٹ اور ہوٹل کے کمرے کی بکنگ تک محدود نہیں رہتی۔ اس میں ایک خاص سطح کی ہم آہنگی اور کارکردگی کی ضرورت ہوتی ہے، جو حاصل کرنا بعض اوقات مشکل ہو سکتا ہے۔ یہی وہ جگہ ہے جہاں ملٹی-اے آئی ایجنٹس ہماری سفری ضروریات کو منظم کرنے کے طریقے میں انقلاب لاتے ہیں۔\n",
    "\n",
    "ذرا تصور کریں کہ آپ کے پاس ذہین ایجنٹس کی ایک ٹیم موجود ہو، جو آپ کے سفر کے ہر پہلو کو درستگی اور آسانی کے ساتھ سنبھالے۔ ہماری جدید اے آئی ٹیکنالوجی کے ذریعے، ہم نے بکنگ سروسز اور سفری منصوبہ بندی کے لیے خصوصی ایجنٹس تیار کیے ہیں، جو آپ کو ایک ہموار اور بے فکر سفری تجربہ فراہم کرتے ہیں۔\n",
    "\n",
    "یہ ایک بنیادی منظرنامہ ہے۔ جب ہم کاروباری سفر کی منصوبہ بندی کرتے ہیں، تو ہمیں ایک کاروباری سفری ایجنٹ سے مشورہ کرنا پڑتا ہے تاکہ ہوائی ٹکٹ اور ہوٹل کی معلومات حاصل کی جا سکیں۔ اے آئی ایجنٹس کے ذریعے، ہم بکنگ سروسز کے لیے ایجنٹس اور سفری منصوبہ بندی کے لیے ایجنٹس بنا سکتے ہیں، جو مل کر کام کریں اور ذہانت کی سطح کو بہتر بنائیں۔\n"
   ]
  },
  {
   "cell_type": "markdown",
   "metadata": {},
   "source": [
    "# Azure AI ایجنٹ سروس کو شروع کریں اور **.env** سے کنفیگریشن معلومات حاصل کریں\n",
    "\n",
    "### **.env**\n",
    "\n",
    "ایک .env فائل بنائیں\n",
    "\n",
    "**.env** میں Azure AI ایجنٹ سروس کا کنکشن اسٹرنگ، AOAI کے ذریعے استعمال ہونے والا ماڈل، اور متعلقہ Google API سرچ سروس API، ENDPOINT وغیرہ شامل ہیں۔\n",
    "\n",
    "- **AZURE_AI_AGENT_MODEL_DEPLOYMENT_NAME** = \"آپ کے Azure AI ایجنٹ سروس ماڈل ڈیپلائمنٹ کا نام\"\n",
    "\n",
    "[**NOTE**] آپ کو ایک ایسا ماڈل درکار ہوگا جس میں 100,000 ریٹ لمٹ (ٹوکنز فی منٹ) اور 600 ریٹ لمٹ (ریکویسٹ فی منٹ) ہو۔\n",
    "\n",
    "آپ Azure AI Foundry - Model اور Endpoint میں ماڈل حاصل کر سکتے ہیں۔\n",
    "\n",
    "- **AZURE_AI_AGENT_PROJECT_CONNECTION_STRING** = \"آپ کے Azure AI ایجنٹ سروس پروجیکٹ کنکشن اسٹرنگ\"\n",
    "\n",
    "آپ AI Foundry پورٹل اسکرین میں اپنے پروجیکٹ کے جائزے میں پروجیکٹ کنکشن اسٹرنگ حاصل کر سکتے ہیں۔\n",
    "\n",
    "- **SERPAPI_SEARCH_API_KEY** = \"آپ کا SERPAPI سرچ API KEY\"\n",
    "- **SERPAPI_SEARCH_ENDPOINT** = \"آپ کا SERPAPI سرچ ENDPOINT\"\n",
    "\n",
    "Azure AI ایجنٹ سروس کے ماڈل ڈیپلائمنٹ نام اور پروجیکٹ کنکشن اسٹرنگ حاصل کرنے کے لیے، آپ کو Azure AI ایجنٹ سروس بنانی ہوگی۔ یہ تجویز کیا جاتا ہے کہ [اس ٹیمپلیٹ](https://portal.azure.com/#create/Microsoft.Template/uri/https%3A%2F%2Fraw.githubusercontent.com%2Ffosteramanda%2Fazure-agent-quickstart-templates%2Frefs%2Fheads%2Fmaster%2Fquickstarts%2Fmicrosoft.azure-ai-agent-service%2Fstandard-agent%2Fazuredeploy.json) کو استعمال کرتے ہوئے اسے براہ راست بنائیں۔ (***نوٹ:*** Azure AI ایجنٹ سروس فی الحال محدود علاقوں میں دستیاب ہے۔ یہ تجویز کیا جاتا ہے کہ آپ [اس لنک](https://learn.microsoft.com/en-us/azure/ai-services/agents/concepts/model-region-support) کا حوالہ دے کر علاقے کو سیٹ کریں)\n",
    "\n",
    "ایجنٹ کو SERPAPI تک رسائی کی ضرورت ہے۔ یہ تجویز کیا جاتا ہے کہ [اس لنک](https://serpapi.com/searches) کے ذریعے رجسٹریشن کریں۔ رجسٹریشن کے بعد، آپ ایک منفرد API KEY اور ENDPOINT حاصل کر سکتے ہیں۔\n"
   ]
  },
  {
   "cell_type": "markdown",
   "metadata": {},
   "source": [
    "# ایزور میں لاگ ان کریں\n",
    "\n",
    "اب آپ کو ایزور میں لاگ ان کرنے کی ضرورت ہے۔ VScode میں ایک ٹرمینل کھولیں اور `az login` کمانڈ چلائیں۔\n"
   ]
  },
  {
   "cell_type": "markdown",
   "metadata": {},
   "source": [
    "# سیٹ اپ\n",
    "\n",
    "اس نوٹ بک کو چلانے کے لیے، آپ کو درج ذیل لائبریریاں انسٹال کرنے کی ضرورت ہوگی۔ یہاں مطلوبہ لائبریریوں کی فہرست اور ان کے متعلقہ پِپ انسٹال کمانڈز دی گئی ہیں:\n",
    "\n",
    "azure-identity: Azure کی تصدیق کے لیے۔\n",
    "requests: HTTP درخواستیں بھیجنے کے لیے۔\n",
    "semantic-kernel: سیمینٹک کرنل فریم ورک کے لیے (فرض کرتے ہوئے کہ یہ ایک مخصوص یا حسب ضرورت لائبریری ہے، آپ کو اسے کسی مخصوص ذریعہ یا ریپوزٹری سے انسٹال کرنے کی ضرورت ہو سکتی ہے)۔\n"
   ]
  },
  {
   "cell_type": "code",
   "execution_count": null,
   "metadata": {},
   "outputs": [],
   "source": [
    "!pip install azure-identity\n",
    "!pip install requests\n",
    "!pip install semantic-kernel\n",
    "!pip install --upgrade semantic_kernel\n",
    "!pip install azure-cli"
   ]
  },
  {
   "cell_type": "markdown",
   "metadata": {},
   "source": [
    "# وضاحت:\n",
    "import asyncio: یہ asyncio ماڈیول کو درآمد کرتا ہے، جو Python میں غیر ہم وقتی پروگرامنگ کے لیے سپورٹ فراہم کرتا ہے۔ یہ آپ کو async اور await نحو کا استعمال کرتے ہوئے ہم وقتی کوڈ لکھنے کی اجازت دیتا ہے۔\n",
    "from typing import Annotated: یہ typing ماڈیول سے Annotated قسم کو درآمد کرتا ہے۔ Annotated کو قسم کے اشاروں میں میٹا ڈیٹا شامل کرنے کے لیے استعمال کیا جاتا ہے، جو مختلف مقاصد جیسے کہ توثیق، دستاویزات، یا ٹولنگ کے لیے مفید ہو سکتا ہے۔\n"
   ]
  },
  {
   "cell_type": "code",
   "execution_count": null,
   "metadata": {
    "dotnet_interactive": {
     "language": "csharp"
    },
    "polyglot_notebook": {
     "kernelName": "csharp"
    }
   },
   "outputs": [],
   "source": [
    "import asyncio,os\n",
    "from typing import Annotated"
   ]
  },
  {
   "cell_type": "markdown",
   "metadata": {},
   "source": [
    "# وضاحت:\n",
    "dotenv سے import load_dotenv اور load_dotenv() کا استعمال کرتے ہوئے، آپ آسانی سے کنفیگریشن سیٹنگز اور حساس معلومات (جیسے API keys اور database URLs) کو .env فائل میں منظم کر سکتے ہیں، انہیں آپ کے سورس کوڈ سے الگ رکھتے ہوئے۔ اس سے آپ کی ایپلیکیشن زیادہ محفوظ اور کنفیگریشن کے لحاظ سے آسان ہو جاتی ہے۔\n"
   ]
  },
  {
   "cell_type": "code",
   "execution_count": null,
   "metadata": {},
   "outputs": [],
   "source": [
    "import os\n",
    "from dotenv import load_dotenv\n",
    "\n",
    "# Load environment variables from .env file\n",
    "load_dotenv()"
   ]
  },
  {
   "cell_type": "markdown",
   "metadata": {},
   "source": [
    "# وضاحت:\n",
    "\n",
    "Import Statement: from azure.identity.aio import DefaultAzureCredential: یہ azure.identity.aio ماڈیول سے DefaultAzureCredential کلاس کو درآمد کرتا ہے۔ ماڈیول کے نام میں aio اس بات کی نشاندہی کرتا ہے کہ یہ غیر ہم وقتی (asynchronous) آپریشنز کے لیے ڈیزائن کیا گیا ہے۔\n",
    "\n",
    "DefaultAzureCredential کا مقصد: DefaultAzureCredential کلاس Azure SDK for Python کا حصہ ہے۔ یہ Azure سروسز کے ساتھ تصدیق (authentication) کا ایک ڈیفالٹ طریقہ فراہم کرتی ہے۔ یہ مخصوص ترتیب میں متعدد طریقوں سے تصدیق کرنے کی کوشش کرتی ہے، جیسے ماحول کے متغیرات (environment variables)، مینیجڈ آئیڈینٹیٹی، اور Azure CLI کی اسناد (credentials)۔\n",
    "\n",
    "غیر ہم وقتی آپریشنز: aio ماڈیول اس بات کی نشاندہی کرتا ہے کہ DefaultAzureCredential کلاس غیر ہم وقتی آپریشنز کی حمایت کرتی ہے۔ اس کا مطلب ہے کہ آپ اسے asyncio کے ساتھ استعمال کر سکتے ہیں تاکہ غیر مسدود (non-blocking) تصدیقی درخواستیں انجام دی جا سکیں۔\n"
   ]
  },
  {
   "cell_type": "code",
   "execution_count": null,
   "metadata": {
    "dotnet_interactive": {
     "language": "csharp"
    },
    "polyglot_notebook": {
     "kernelName": "csharp"
    }
   },
   "outputs": [],
   "source": [
    "from azure.identity.aio import DefaultAzureCredential"
   ]
  },
  {
   "cell_type": "markdown",
   "metadata": {},
   "source": [
    "# وضاحت:\n",
    "semantic_kernel پیکج سے مختلف ماڈیولز اور کلاسز کو درآمد کرتا ہے۔ یہاں ہر درآمد کی تفصیل دی گئی ہے:\n",
    "\n",
    "AgentGroupChat from semantic_kernel.agents: یہ کلاس AI ایجنٹس کے گروپ چیٹ سے متعلقہ خصوصیات کو سنبھالتی ہے۔ AzureAIAgent اور AzureAIAgentSettings from semantic_kernel.agents.azure_ai\n",
    "\n",
    "AzureAIAgent: یہ کلاس Azure AI سروسز استعمال کرنے والے AI ایجنٹس کو بنانے اور منظم کرنے کے لیے استعمال ہوتی ہے۔\n",
    "\n",
    "AzureAIAgentSettings: یہ کلاس AzureAIAgent کے لیے سیٹنگز کو ترتیب دینے کے لیے استعمال ہوتی ہے۔ TerminationStrategy from semantic_kernel.agents.strategies.termination.termination_strategy:\n",
    "\n",
    "یہ کلاس AI ایجنٹس کی عملدرآمد کو مخصوص حالات میں ختم کرنے کے لیے حکمت عملیوں کی وضاحت کرتی ہے۔ ChatMessageContent from semantic_kernel.contents.chat_message_content:\n",
    "\n",
    "یہ کلاس چیٹ پیغامات کے مواد کو سنبھالنے کے لیے استعمال ہوتی ہے۔\n",
    "AuthorRole from semantic_kernel.contents.utils.author_role:\n",
    "\n",
    "یہ کلاس چیٹ پیغامات کے سیاق و سباق میں مصنفین کے مختلف کرداروں کی وضاحت کرتی ہے۔\n",
    "\n",
    "kernel_function from semantic_kernel.functions.kernel_function_decorator: یہ ڈیکوریٹر kernel فنکشنز کی وضاحت کے لیے استعمال ہوتا ہے، جو semantic kernel فریم ورک کے اندر عملدرآمد کیے جا سکتے ہیں۔\n",
    "یہ درآمدات AI ایجنٹس بنانے اور منظم کرنے کے لیے ضروری اجزاء کو ترتیب دیتی ہیں، جو گروپ چیٹ ماحول میں بات چیت کر سکتے ہیں، ممکنہ طور پر ہوٹل بکنگ یا اسی طرح کی سرگرمیوں کے لیے۔\n"
   ]
  },
  {
   "cell_type": "code",
   "execution_count": null,
   "metadata": {
    "dotnet_interactive": {
     "language": "csharp"
    },
    "polyglot_notebook": {
     "kernelName": "csharp"
    }
   },
   "outputs": [],
   "source": [
    "from semantic_kernel.agents import AgentGroupChat\n",
    "from semantic_kernel.agents import AzureAIAgent, AzureAIAgentSettings\n",
    "from semantic_kernel.agents.strategies.termination.termination_strategy import TerminationStrategy\n",
    "from semantic_kernel.contents import ChatMessageContent\n",
    "from semantic_kernel.contents import AuthorRole\n",
    "from semantic_kernel.functions.kernel_function_decorator import kernel_function"
   ]
  },
  {
   "cell_type": "markdown",
   "metadata": {},
   "source": [
    "# وضاحت:\n",
    "اب ہم azure.ai.projects.models ماڈیول سے CodeInterpreterTool کلاس کو درآمد کرتے ہیں۔\n",
    "\n",
    "CodeInterpreterTool: یہ کلاس Azure AI SDK کا حصہ ہے اور AI پروجیکٹس کے سیاق و سباق میں کوڈ کو سمجھنے اور چلانے کے لیے استعمال ہوتی ہے۔ یہ کوڈ کے ٹکڑوں کو چلانے، کوڈ کا تجزیہ کرنے، یا AI ورک فلو میں کوڈ کے نفاذ کو شامل کرنے کی صلاحیت فراہم کرتی ہے۔  \n",
    "یہ درآمد آپ کے پروجیکٹ میں CodeInterpreterTool کے استعمال کے لیے ضروری جزو کو ترتیب دیتی ہے، جو ان کاموں کے لیے مفید ہو سکتی ہے جن میں کوڈ کو متحرک طور پر سمجھنا اور چلانا شامل ہو۔\n"
   ]
  },
  {
   "cell_type": "code",
   "execution_count": null,
   "metadata": {
    "dotnet_interactive": {
     "language": "csharp"
    },
    "polyglot_notebook": {
     "kernelName": "csharp"
    }
   },
   "outputs": [],
   "source": [
    "from azure.ai.projects.models import CodeInterpreterTool"
   ]
  },
  {
   "cell_type": "markdown",
   "metadata": {},
   "source": [
    "# وضاحت:  \n",
    "ApprovalTerminationStrategy کلاس ایک خاص حکمت عملی فراہم کرتی ہے جو AI ایجنٹ کے عمل کو ختم کرنے کے لیے استعمال ہوتی ہے۔ ایجنٹ اس وقت ختم ہو جائے گا جب اس کی تعامل کی تاریخ میں آخری پیغام میں لفظ \"محفوظ\" شامل ہو۔ یہ ان حالات میں مفید ہو سکتا ہے جہاں ایجنٹ کا کام اس وقت مکمل سمجھا جاتا ہے جب اسے اس بات کی تصدیق مل جائے کہ کچھ \"محفوظ\" ہو چکا ہے۔ تعامل کے طریقہ کار کو متعین کریں۔ جب ریزرویشن پلان محفوظ ہو جائے، تو محفوظ سگنل موصول ہونے پر اسے روکا جا سکتا ہے۔\n"
   ]
  },
  {
   "cell_type": "code",
   "execution_count": null,
   "metadata": {
    "dotnet_interactive": {
     "language": "csharp"
    },
    "polyglot_notebook": {
     "kernelName": "csharp"
    }
   },
   "outputs": [],
   "source": [
    "class ApprovalTerminationStrategy(TerminationStrategy):\n",
    "    \"\"\"A strategy for determining when an agent should terminate.\"\"\"\n",
    "\n",
    "    async def should_agent_terminate(self, agent, history):\n",
    "        \"\"\"Check if the agent should terminate.\"\"\"\n",
    "        return \"saved\" in history[-1].content.lower()"
   ]
  },
  {
   "cell_type": "markdown",
   "metadata": {},
   "source": [
    "# وضاحت:\n",
    "\n",
    "یہ کوڈ لائن AzureAIAgentSettings آبجیکٹ کو ڈیفالٹ یا پہلے سے طے شدہ سیٹنگز کے ساتھ initialize کرتی ہے، جو create() میتھڈ کو کال کرکے حاصل کی جاتی ہیں۔ یہ سیٹنگز آبجیکٹ (ai_agent_settings) بعد میں AzureAIAgent انسٹینس کو ترتیب دینے اور منظم کرنے کے لیے استعمال کیا جا سکتا ہے۔\n"
   ]
  },
  {
   "cell_type": "code",
   "execution_count": null,
   "metadata": {
    "dotnet_interactive": {
     "language": "csharp"
    },
    "polyglot_notebook": {
     "kernelName": "csharp"
    }
   },
   "outputs": [],
   "source": [
    "ai_agent_settings = AzureAIAgentSettings.create()"
   ]
  },
  {
   "cell_type": "markdown",
   "metadata": {},
   "source": [
    "# وضاحت:\n",
    "requests لائبریری کو درآمد کرکے، آپ آسانی سے HTTP درخواستیں بھیج سکتے ہیں اور اپنے Python کوڈ میں ویب سروسز کے ساتھ تعامل کر سکتے ہیں۔\n"
   ]
  },
  {
   "cell_type": "code",
   "execution_count": null,
   "metadata": {
    "dotnet_interactive": {
     "language": "csharp"
    },
    "polyglot_notebook": {
     "kernelName": "csharp"
    }
   },
   "outputs": [],
   "source": [
    "import requests"
   ]
  },
  {
   "cell_type": "markdown",
   "metadata": {},
   "source": [
    "# وضاحت:\n",
    "یہ ایک ویری ایبل ہے جو SERP (سرچ انجن رزلٹس پیج) API سروس تک رسائی کے لیے API کلید کو محفوظ کرتا ہے۔ API کلید ایک منفرد شناختی کوڈ ہے جو آپ کے اکاؤنٹ سے منسلک درخواستوں کی تصدیق کے لیے استعمال ہوتا ہے۔\n",
    "\n",
    "'GOOGLE_SEARCH_API_KEY': یہ ایک پلیس ہولڈر سٹرنگ ہے۔ آپ کو ''GOOGLE_SEARCH_API_KEY'' کو اپنی اصل SERP API کلید سے تبدیل کرنا ہوگا۔\n",
    "\n",
    "مقصد: اس لائن کا مقصد API کلید کو ایک ویری ایبل میں محفوظ کرنا ہے تاکہ اسے SERP API سروس کی درخواستوں کی تصدیق کے لیے استعمال کیا جا سکے۔ اس سروس تک رسائی حاصل کرنے اور تلاش کرنے کے لیے API کلید ضروری ہے۔\n",
    "\n",
    "SERP API کلید کیسے حاصل کریں: SERP API کلید حاصل کرنے کے لیے، https://serpapi.com پر درج ذیل عمومی مراحل پر عمل کریں (مخصوص SERP API سروس کے مطابق مراحل مختلف ہو سکتے ہیں):\n",
    "\n",
    "SERP API سروس کا انتخاب کریں: کئی SERP API سروسز دستیاب ہیں، جیسے SerpAPI، Google Custom Search JSON API، اور دیگر۔ وہ سروس منتخب کریں جو آپ کی ضروریات کے مطابق ہو۔\n",
    "\n",
    "اکاؤنٹ کے لیے سائن اپ کریں:\n",
    "\n",
    "منتخب کردہ SERP API سروس کی ویب سائٹ https://www.serpapi.com پر جائیں اور اکاؤنٹ کے لیے سائن اپ کریں۔ آپ کو کچھ بنیادی معلومات فراہم کرنی پڑ سکتی ہیں اور اپنے ای میل ایڈریس کی تصدیق کرنی ہوگی۔\n",
    "\n",
    "API کلید بنائیں:\n",
    "\n",
    "سائن اپ کرنے کے بعد، اپنے اکاؤنٹ میں لاگ ان کریں اور API سیکشن یا ڈیش بورڈ پر جائیں۔ ایک نیا API کلید بنانے یا جنریٹ کرنے کا آپشن تلاش کریں۔\n",
    "API کلید کو کاپی کریں:\n",
    "\n",
    "ایک بار جب API کلید جنریٹ ہو جائے، تو اسے کاپی کریں۔ یہ کلید SERP API سروس کی درخواستوں کی تصدیق کے لیے استعمال ہوگی۔\n",
    "پلیس ہولڈر کو تبدیل کریں:\n",
    "\n",
    "اپنی .env فائل میں موجود پلیس ہولڈر کو تبدیل کریں۔\n"
   ]
  },
  {
   "cell_type": "code",
   "execution_count": null,
   "metadata": {
    "dotnet_interactive": {
     "language": "csharp"
    },
    "polyglot_notebook": {
     "kernelName": "csharp"
    }
   },
   "outputs": [],
   "source": [
    "SERPAPI_SEARCH_API_KEY=os.getenv('SERPAPI_SEARCH_API_KEY')"
   ]
  },
  {
   "cell_type": "code",
   "execution_count": null,
   "metadata": {
    "dotnet_interactive": {
     "language": "csharp"
    },
    "polyglot_notebook": {
     "kernelName": "csharp"
    }
   },
   "outputs": [],
   "source": [
    "SERPAPI_SEARCH_ENDPOINT = os.getenv('SERPAPI_SEARCH_ENDPOINT')"
   ]
  },
  {
   "cell_type": "markdown",
   "metadata": {},
   "source": [
    "# وضاحت:\n",
    "BookingPlugin کلاس ہوٹلوں اور پروازوں کی بکنگ کے لیے Serpapi.com گوگل سرچ API کا استعمال کرتے ہوئے طریقے فراہم کرتی ہے۔ یہ ضروری پیرامیٹرز تیار کرتی ہے، API درخواستیں بھیجتی ہے، اور جوابات کو پراسیس کرکے متعلقہ بکنگ کی معلومات فراہم کرتی ہے۔ API کلید (SERPAPI_SEARCH_API_KEY) اور اینڈپوائنٹ (SERPAPI_SEARCH_ENDPOINT) گوگل سرچ API کے ساتھ تصدیق اور درخواستیں بھیجنے کے لیے استعمال کیے جاتے ہیں۔\n"
   ]
  },
  {
   "cell_type": "code",
   "execution_count": null,
   "metadata": {
    "dotnet_interactive": {
     "language": "csharp"
    },
    "polyglot_notebook": {
     "kernelName": "csharp"
    }
   },
   "outputs": [],
   "source": [
    "# Define Booking Plugin\n",
    "class BookingPlugin:\n",
    "    \"\"\"Booking Plugin for customers\"\"\"\n",
    "    @kernel_function(description=\"booking hotel\")\n",
    "    def booking_hotel(self,query: Annotated[str, \"The name of the city\"], check_in_date: Annotated[str, \"Hotel Check-in Time\"], check_out_date: Annotated[str, \"Hotel Check-in Time\"])-> Annotated[str, \"Return the result of booking hotel infomation\"]:\n",
    "\n",
    "        params = {\n",
    "            \"engine\": \"google_hotels\",\n",
    "            \"q\": query,\n",
    "            \"check_in_date\": check_in_date,\n",
    "            \"check_out_date\": check_out_date,\n",
    "            \"adults\": \"2\",\n",
    "            \"currency\": \"USD\",\n",
    "            \"gl\": \"us\",\n",
    "            \"hl\": \"en\",\n",
    "            \"api_key\": SERPAPI_SEARCH_API_KEY\n",
    "        }\n",
    "\n",
    "        response = requests.get(SERPAPI_SEARCH_ENDPOINT, params=params)\n",
    "        if response.status_code == 200:\n",
    "            response = response.json()\n",
    "            return response[\"properties\"]\n",
    "        else:\n",
    "            return None\n",
    "\n",
    "    \n",
    "    @kernel_function(description=\"booking fight\")\n",
    "    def  booking_fight(self,origin: Annotated[str, \"The name of Departure\"], destination: Annotated[str, \"The name of Destination\"], outbound_date: Annotated[str, \"The date of outbound\"], return_date: Annotated[str, \"The date of Return_date\"])-> Annotated[str, \"Return the result of booking fight infomation\"]:\n",
    "        \n",
    "        go_params = {\n",
    "            \"engine\": \"google_flights\",   \n",
    "            \"departure_id\": origin,\n",
    "            \"arrival_id\": destination,\n",
    "            \"outbound_date\": outbound_date,\n",
    "            \"return_date\": return_date,  \n",
    "            \"currency\": \"USD\",\n",
    "            \"hl\": \"en\",\n",
    "            \"api_key\": SERPAPI_SEARCH_API_KEY  \n",
    "        }\n",
    "\n",
    "        print(go_params)\n",
    "\n",
    "        go_response = requests.get(SERPAPI_SEARCH_ENDPOINT, params=go_params)\n",
    "\n",
    "\n",
    "        result = ''\n",
    "\n",
    "        if go_response.status_code == 200:\n",
    "            response = go_response.json()\n",
    "\n",
    "            result += \"# outbound \\n \" + str(response)\n",
    "        else:\n",
    "            print('error!!!')\n",
    "            # return None\n",
    "\n",
    "        \n",
    "        back_params = {\n",
    "            \"engine\": \"google_flights\",   \n",
    "            \"departure_id\": destination,\n",
    "            \"arrival_id\": origin,\n",
    "            \"outbound_date\": return_date,\n",
    "            \"return_date\": return_date,  \n",
    "            \"currency\": \"USD\",\n",
    "            \"hl\": \"en\",\n",
    "            \"api_key\": SERPAPI_SEARCH_API_KEY  \n",
    "        }\n",
    "\n",
    "\n",
    "        print(back_params)\n",
    "\n",
    "\n",
    "        back_response = requests.get(SERPAPI_SEARCH_ENDPOINT, params=back_params)\n",
    "\n",
    "\n",
    "\n",
    "        if back_response.status_code == 200:\n",
    "            response = back_response.json()\n",
    "\n",
    "            result += \"\\n # return \\n\"  + str(response)\n",
    "\n",
    "        else:\n",
    "            print('error!!!')\n",
    "            # return None\n",
    "        \n",
    "        print(result)\n",
    "\n",
    "        return result\n",
    "\n",
    "        \n"
   ]
  },
  {
   "cell_type": "markdown",
   "metadata": {},
   "source": [
    "# وضاحت:\n",
    "SavePlugin کلاس ایک طریقہ saving_plan فراہم کرتی ہے جو Azure AI خدمات کا استعمال کرتے ہوئے سفر کے منصوبے محفوظ کرتی ہے۔ یہ Azure کی اسناد ترتیب دیتی ہے، ایک AI ایجنٹ بناتی ہے، صارف کے ان پٹ کو پروسیس کرتی ہے تاکہ سفر کے منصوبے کا مواد تیار اور محفوظ کیا جا سکے، اور فائل کو محفوظ کرنے اور صفائی کے عمل کو سنبھالتی ہے۔ یہ طریقہ کامیاب تکمیل پر \"Saved\" واپس کرتا ہے۔\n"
   ]
  },
  {
   "cell_type": "code",
   "execution_count": null,
   "metadata": {
    "dotnet_interactive": {
     "language": "csharp"
    },
    "polyglot_notebook": {
     "kernelName": "csharp"
    }
   },
   "outputs": [],
   "source": [
    "class SavePlugin:\n",
    "    \"\"\"Save Plugin for customers\"\"\"\n",
    "    @kernel_function(description=\"saving plan\")\n",
    "    async def saving_plan(self,tripplan: Annotated[str, \"The content of trip plan\"])-> Annotated[str, \"Return status of save content\"]:\n",
    "\n",
    "        async with (\n",
    "            DefaultAzureCredential() as creds,\n",
    "            AzureAIAgent.create_client(\n",
    "                credential=creds,\n",
    "                conn_str=ai_agent_settings.project_connection_string.get_secret_value(),\n",
    "            ) as client,\n",
    "        ):\n",
    "\n",
    "            code_interpreter = CodeInterpreterTool()\n",
    "            \n",
    "            agent_definition = await client.agents.create_agent(\n",
    "                model=ai_agent_settings.model_deployment_name,\n",
    "                tools=code_interpreter.definitions,\n",
    "                tool_resources=code_interpreter.resources,\n",
    "            )\n",
    "\n",
    "\n",
    "            agent = AzureAIAgent(\n",
    "                client=client,\n",
    "                definition=agent_definition,\n",
    "            )\n",
    "\n",
    "            thread = await client.agents.create_thread()\n",
    "\n",
    "\n",
    "            user_inputs = [\n",
    "                \"\"\"\n",
    "            \n",
    "                        You are my Python programming assistant. Generate code,save \"\"\"+ tripplan +\n",
    "                        \n",
    "                    \"\"\"    \n",
    "                        and execute it according to the following requirements\n",
    "\n",
    "                        1. Save blog content to trip-{YYMMDDHHMMSS}.md\n",
    "\n",
    "                        2. give me the download this file link\n",
    "                    \"\"\"\n",
    "            ]\n",
    "\n",
    "\n",
    "\n",
    "            try:\n",
    "                for user_input in user_inputs:\n",
    "                    # Add the user input as a chat message\n",
    "                    await agent.add_chat_message(\n",
    "                        thread_id=thread.id, message=ChatMessageContent(role=AuthorRole.USER, content=user_input)\n",
    "                    )\n",
    "                    print(f\"# User: '{user_input}'\")\n",
    "                    # Invoke the agent for the specified thread\n",
    "                    async for content in agent.invoke(thread_id=thread.id):\n",
    "                        if content.role != AuthorRole.TOOL:\n",
    "                            print(f\"# Agent: {content.content}\")\n",
    "\n",
    "                    \n",
    "                    messages = await client.agents.list_messages(thread_id=thread.id)\n",
    "\n",
    "                    # OpenAIPageableListOfThreadMessage\n",
    "                    # OpenAIPageableListOfThreadMessage\n",
    "\n",
    "\n",
    "                    for file_path_annotation in messages.file_path_annotations:\n",
    "\n",
    "                            file_name = os.path.basename(file_path_annotation.text)\n",
    "\n",
    "                            await client.agents.save_file(file_id=file_path_annotation.file_path.file_id, file_name=file_name,target_dir=\"./trip\")\n",
    "\n",
    "                    \n",
    "            finally:\n",
    "                await client.agents.delete_thread(thread.id)\n",
    "                await client.agents.delete_agent(agent.id)\n",
    "\n",
    "\n",
    "        return \"Saved\""
   ]
  },
  {
   "cell_type": "markdown",
   "metadata": {},
   "source": [
    "# وضاحت:\n",
    "یہ کوڈ Azure AI ایجنٹس کو ترتیب دیتا ہے تاکہ وہ فلائٹس اور ہوٹلز کی بکنگ کریں اور صارف کی دی گئی معلومات کی بنیاد پر سفر کے منصوبے محفوظ کریں۔ یہ Azure کی اسناد استعمال کرتا ہے تاکہ ایجنٹس کو تخلیق اور ترتیب دیا جا سکے، صارف کی معلومات کو گروپ چیٹ کے ذریعے پروسیس کرتا ہے، اور کام مکمل ہونے کے بعد مناسب صفائی کو یقینی بناتا ہے۔ ایجنٹس مخصوص پلگ انز (BookingPlugin اور SavePlugin) استعمال کرتے ہیں تاکہ اپنے متعلقہ کام انجام دے سکیں۔\n"
   ]
  },
  {
   "cell_type": "code",
   "execution_count": null,
   "metadata": {
    "dotnet_interactive": {
     "language": "csharp"
    },
    "polyglot_notebook": {
     "kernelName": "csharp"
    }
   },
   "outputs": [],
   "source": [
    "async with (\n",
    "    DefaultAzureCredential() as creds,\n",
    "    AzureAIAgent.create_client(\n",
    "        credential=creds,\n",
    "        conn_str=ai_agent_settings.project_connection_string.get_secret_value(),\n",
    "    ) as client,\n",
    "):\n",
    "    BOOKING_AGENT_NAME = \"BookingAgent\"\n",
    "    BOOKING_AGENT_INSTRUCTIONS = \"\"\"\n",
    "    You are a booking agent. Help me book flights or hotels.\n",
    "\n",
    "    Thought: Please understand the user's intention and confirm whether to use the reservation system to complete the task.\n",
    "\n",
    "    Actions:\n",
    "    - For flight bookings, convert the departure and destination names into airport codes.\n",
    "    - Use the appropriate API for hotel or flight bookings. Verify that all necessary parameters are available. If any parameters are missing, ask the user to provide them. If all parameters are complete, call the corresponding function.\n",
    "    - If the task is not related to hotel or flight booking, respond with the final answer only.\n",
    "    - Output the results using a markdown table:\n",
    "      - For flight bookings, output separate outbound and return contents in the order of:\n",
    "        Departure Airport | Airline | Flight Number | Departure Time | Arrival Airport | Arrival Time | Duration | Airplane | Travel Class | Price (USD) | Legroom | Extensions | Carbon Emissions (kg).\n",
    "      - For hotel bookings, output in the order of:\n",
    "        Property Name | Property Description | Check-in Time | Check-out Time | Prices | Nearby Places | Hotel Class | GPS Coordinates.\n",
    "    \"\"\"\n",
    "\n",
    "    SAVE_AGENT_NAME = \"SaveAgent\"\n",
    "    SAVE_AGENT_INSTRUCTIONS = \"\"\"\n",
    "    You are a save tool agent. Help me to save the trip plan.\n",
    "    \"\"\"\n",
    "\n",
    "    # Create agent definition\n",
    "    booking_agent_definition = await client.agents.create_agent(\n",
    "        model=ai_agent_settings.model_deployment_name,\n",
    "        name=BOOKING_AGENT_NAME,\n",
    "        instructions=BOOKING_AGENT_INSTRUCTIONS,\n",
    "    )\n",
    "\n",
    "    # Create the AzureAI Agent\n",
    "    booking_agent = AzureAIAgent(\n",
    "        client=client,\n",
    "        definition=booking_agent_definition,\n",
    "        # Optionally configure polling options\n",
    "        # polling_options=RunPollingOptions(run_polling_interval=timedelta(seconds=1)),\n",
    "    )\n",
    "\n",
    "    # Add the sample plugin to the kernel\n",
    "    booking_agent.kernel.add_plugin(BookingPlugin(), plugin_name=\"booking\")\n",
    "\n",
    "    # Create agent definition\n",
    "    save_agent_definition = await client.agents.create_agent(\n",
    "        model=ai_agent_settings.model_deployment_name,\n",
    "        name=SAVE_AGENT_NAME,\n",
    "        instructions=SAVE_AGENT_INSTRUCTIONS\n",
    "    )\n",
    "\n",
    "    # Create the AzureAI Agent\n",
    "    save_agent = AzureAIAgent(\n",
    "        client=client,\n",
    "        definition=save_agent_definition,\n",
    "    )\n",
    "\n",
    "    save_agent.kernel.add_plugin(SavePlugin(), plugin_name=\"saving\")\n",
    "\n",
    "    user_inputs = [\n",
    "        \"I have a business trip from London to New York in Feb 20 2025 to Feb 27 2025 ,help me to book a hotel and fight tickets and save it\"\n",
    "    ]\n",
    "\n",
    "    chat = AgentGroupChat(\n",
    "        agents=[booking_agent, save_agent],\n",
    "        termination_strategy=ApprovalTerminationStrategy(agents=[save_agent], maximum_iterations=10),\n",
    "    )\n",
    "\n",
    "    try:\n",
    "        for user_input in user_inputs:\n",
    "            # Add the user input as a chat message\n",
    "            await chat.add_chat_message(\n",
    "                ChatMessageContent(role=AuthorRole.USER, content=user_input)\n",
    "            )\n",
    "            print(f\"# User: '{user_input}'\")\n",
    "\n",
    "            async for content in chat.invoke():\n",
    "                print(f\"# {content.role} - {content.name or '*'}: '{content.content}'\")\n",
    "\n",
    "            print(f\"# IS COMPLETE: {chat.is_complete}\")\n",
    "\n",
    "            print(\"*\" * 60)\n",
    "            print(\"Chat History (In Descending Order):\\n\")\n",
    "            async for message in chat.get_chat_messages(agent=save_agent):\n",
    "                print(f\"# {message.role} - {message.name or '*'}: '{message.content}'\")\n",
    "    finally:\n",
    "        await chat.reset()\n",
    "        await client.agents.delete_agent(save_agent.id)\n",
    "        await client.agents.delete_agent(booking_agent.id)\n"
   ]
  },
  {
   "cell_type": "markdown",
   "metadata": {},
   "source": [
    "\n---\n\n**ڈسکلیمر**:  \nیہ دستاویز AI ترجمہ سروس [Co-op Translator](https://github.com/Azure/co-op-translator) کا استعمال کرتے ہوئے ترجمہ کی گئی ہے۔ ہم درستگی کے لیے کوشش کرتے ہیں، لیکن براہ کرم آگاہ رہیں کہ خودکار ترجمے میں غلطیاں یا غیر درستیاں ہو سکتی ہیں۔ اصل دستاویز کو اس کی اصل زبان میں مستند ذریعہ سمجھا جانا چاہیے۔ اہم معلومات کے لیے، پیشہ ور انسانی ترجمہ کی سفارش کی جاتی ہے۔ ہم اس ترجمے کے استعمال سے پیدا ہونے والی کسی بھی غلط فہمی یا غلط تشریح کے ذمہ دار نہیں ہیں۔\n"
   ]
  }
 ],
 "metadata": {
  "kernelspec": {
   "display_name": "3.12.1",
   "language": "python",
   "name": "python3"
  },
  "language_info": {
   "codemirror_mode": {
    "name": "ipython",
    "version": 3
   },
   "file_extension": ".py",
   "mimetype": "text/x-python",
   "name": "python",
   "nbconvert_exporter": "python",
   "pygments_lexer": "ipython3",
   "version": "3.12.1"
  },
  "polyglot_notebook": {
   "kernelInfo": {
    "defaultKernelName": "csharp",
    "items": [
     {
      "aliases": [],
      "name": "csharp"
     }
    ]
   }
  },
  "coopTranslator": {
   "original_hash": "1baa60020a95eda27b7e9ecfda99965b",
   "translation_date": "2025-08-29T11:29:39+00:00",
   "source_file": "08-multi-agent/code_samples/08-python_multi_aiagent_bookinghotel.ipynb",
   "language_code": "ur"
  }
 },
 "nbformat": 4,
 "nbformat_minor": 2
}