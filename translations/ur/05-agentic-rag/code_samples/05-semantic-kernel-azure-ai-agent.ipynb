{
 "cells": [
  {
   "cell_type": "markdown",
   "metadata": {},
   "source": [
    "# ایزور اے آئی ایجنٹ سروس اور سیمینٹک کرنل کا استعمال کرتے ہوئے RAG\n",
    "\n",
    "یہ کوڈ نمونہ دکھاتا ہے کہ کس طرح `Azure AI Agent Service` اور `Semantic Kernel` کا استعمال کرتے ہوئے ریٹریول-آگمینٹڈ جنریشن (RAG) کے لیے ایک ایزور اے آئی ایجنٹ بنایا اور منظم کیا جا سکتا ہے۔ یہ ایجنٹ صارف کے سوالات کو حاصل کردہ سیاق و سباق کی بنیاد پر پروسیس کرتا ہے اور اس کے مطابق درست جوابات فراہم کرتا ہے۔\n"
   ]
  },
  {
   "cell_type": "markdown",
   "metadata": {},
   "source": []
  },
  {
   "cell_type": "markdown",
   "metadata": {},
   "source": [
    "SQLite ورژن کی درستگی  \n",
    "اگر آپ کو یہ خرابی پیش آئے:  \n",
    "```\n",
    "RuntimeError: Your system has an unsupported version of sqlite3. Chroma requires sqlite3 >= 3.35.0\n",
    "```  \n",
    "\n",
    "اپنے نوٹ بک کے آغاز میں اس کوڈ بلاک کو غیر تبصرہ کریں:  \n"
   ]
  },
  {
   "cell_type": "code",
   "execution_count": null,
   "metadata": {},
   "outputs": [],
   "source": [
    "# %pip install pysqlite3-binary\n",
    "# __import__('pysqlite3')\n",
    "# import sys\n",
    "# sys.modules['sqlite3'] = sys.modules.pop('pysqlite3')"
   ]
  },
  {
   "cell_type": "markdown",
   "metadata": {},
   "source": [
    "### پیکجز درآمد کرنا  \n",
    "مندرجہ ذیل کوڈ ضروری پیکجز کو درآمد کرتا ہے:  \n"
   ]
  },
  {
   "cell_type": "code",
   "execution_count": null,
   "metadata": {},
   "outputs": [],
   "source": [
    "# Azure imports for project client and credentials\n",
    "from azure.ai.projects.models import FileSearchTool, OpenAIFile, VectorStore\n",
    "from azure.identity.aio import DefaultAzureCredential\n",
    "\n",
    "# Semantic Kernel imports\n",
    "from semantic_kernel.agents import AzureAIAgent, AzureAIAgentThread"
   ]
  },
  {
   "cell_type": "markdown",
   "metadata": {},
   "source": [
    "# سیمینٹک کرنل اور ایژر اے آئی ایجنٹ سروس کے ساتھ ریٹریول-اگمینٹڈ جنریشن\n",
    "\n",
    "یہ نمونہ دکھاتا ہے کہ **ایژر اے آئی ایجنٹ سروس** کا استعمال کیسے کیا جائے تاکہ ایک زبان کے ماڈل کو اپلوڈ شدہ دستاویز سے حاصل کردہ ڈومین-اسپیسفک مواد کے ساتھ ملا کر **ریٹریول-اگمینٹڈ جنریشن (RAG)** انجام دی جا سکے۔\n",
    "\n",
    "### یہ کیسے کام کرتا ہے\n",
    "\n",
    "1. **دستاویز اپلوڈ**: ایک مارک ڈاؤن فائل (document.md) جس میں معلومات (کنٹوسو کی سفری انشورنس پالیسی) شامل ہیں، ایجنٹ سروس پر اپلوڈ کی جاتی ہے۔\n",
    "\n",
    "2. **ویکٹر اسٹور کی تخلیق**: دستاویز کو ویکٹر اسٹور میں انڈیکس کیا جاتا ہے تاکہ اس کے مواد پر سیمینٹک سرچ ممکن ہو سکے۔\n",
    "\n",
    "3. **ایجنٹ کی تشکیل**: `gpt-4o` ماڈل کے ساتھ ایک ایجنٹ کو درج ذیل سخت ہدایات کے ساتھ تشکیل دیا جاتا ہے:\n",
    "   - صرف دستاویز سے حاصل کردہ مواد کی بنیاد پر سوالات کے جوابات دے۔\n",
    "   - اگر سوال دائرہ کار سے باہر ہو تو جواب دینے سے انکار کرے۔\n",
    "\n",
    "4. **فائل سرچ ٹول کا انضمام**: `FileSearchTool` کو ایجنٹ کے ساتھ رجسٹر کیا جاتا ہے، جو ماڈل کو انڈیکس شدہ دستاویز سے متعلقہ ٹکڑوں کو تلاش کرنے اور انفرینس کے دوران بازیافت کرنے کے قابل بناتا ہے۔\n",
    "\n",
    "5. **صارف کے ساتھ تعامل**: صارف سوالات پوچھ سکتے ہیں۔ اگر دستاویز میں متعلقہ معلومات موجود ہوں، تو ایجنٹ ایک مستند جواب تیار کرتا ہے۔  \n",
    "   اگر نہیں، تو ایجنٹ واضح طور پر جواب دیتا ہے کہ دستاویز میں کافی معلومات موجود نہیں ہیں۔\n"
   ]
  },
  {
   "cell_type": "markdown",
   "metadata": {},
   "source": [
    "### مرکزی فنکشن\n",
    "\n",
    "یہ سیکشن مرکزی فنکشن کی وضاحت کرتا ہے، جو پروگرام کے آغاز کا نقطہ ہے۔\n",
    "\n",
    "#### کوڈ کی وضاحت\n",
    "\n",
    "مرکزی فنکشن درج ذیل کام انجام دیتا ہے:\n",
    "\n",
    "1. ابتدائی متغیرات کو ترتیب دیتا ہے۔\n",
    "2. صارف کی ان پٹ کو پروسیس کرتا ہے۔\n",
    "3. نتائج کو آؤٹ پٹ کرتا ہے۔\n",
    "\n",
    "#### مثال\n",
    "\n",
    "ذیل میں ایک سادہ مثال دی گئی ہے جو مرکزی فنکشن کے بنیادی استعمال کو ظاہر کرتی ہے:\n",
    "\n",
    "```python\n",
    "def main():\n",
    "    # صارف کو خوش آمدید پیغام دکھائیں\n",
    "    print(\"پروگرام میں خوش آمدید!\")\n",
    "    \n",
    "    # صارف سے ان پٹ لیں\n",
    "    user_input = input(\"براہ کرم ایک عدد درج کریں: \")\n",
    "    \n",
    "    # ان پٹ کو پروسیس کریں\n",
    "    result = process_input(user_input)\n",
    "    \n",
    "    # نتیجہ دکھائیں\n",
    "    print(f\"آپ کا نتیجہ: {result}\")\n",
    "```\n",
    "\n",
    "#### نوٹ\n",
    "\n",
    "- یقینی بنائیں کہ تمام ضروری ماڈیولز کو امپورٹ کیا گیا ہے۔\n",
    "- `process_input` فنکشن کو پہلے سے ڈیفائن کریں تاکہ یہ صحیح طریقے سے کام کرے۔\n"
   ]
  },
  {
   "cell_type": "markdown",
   "metadata": {},
   "source": [
    "یقینی بنائیں کہ Azure CLI کا استعمال کرتے ہوئے پہلے `az login` چلائیں تاکہ `DefaultAzureCredential` استعمال کرتے وقت مناسب تصدیقی سیاق و سباق فراہم کیا جا سکے۔ Azure AI Agent Service API کیز استعمال نہیں کرتا۔\n"
   ]
  },
  {
   "cell_type": "code",
   "execution_count": null,
   "metadata": {},
   "outputs": [],
   "source": [
    "async def main():\n",
    "    async with (\n",
    "        DefaultAzureCredential() as creds,\n",
    "        AzureAIAgent.create_client(credential=creds) as client,\n",
    "    ):\n",
    "        file: OpenAIFile = await client.agents.upload_file_and_poll(file_path=\"document.md\", purpose=\"assistants\")\n",
    "        vector_store: VectorStore = await client.agents.create_vector_store_and_poll(\n",
    "            file_ids=[file.id], name=\"my_vectorstore\"\n",
    "        )\n",
    "\n",
    "        # Define agent name and instructions tailored for RAG.\n",
    "        AGENT_NAME = \"RAGAgent\"\n",
    "        AGENT_INSTRUCTIONS = \"\"\"\n",
    "        You are an AI assistant designed to answer user questions using only the information retrieved from the provided document(s).\n",
    "\n",
    "        - If a user's question cannot be answered using the retrieved context, **you must clearly respond**: \n",
    "        \"I'm sorry, but the uploaded document does not contain the necessary information to answer that question.\"\n",
    "        - Do not answer from general knowledge or reasoning. Do not make assumptions or generate hypothetical explanations.\n",
    "        - Do not provide definitions, tutorials, or commentary that is not explicitly grounded in the content of the uploaded file(s).\n",
    "        - If a user asks a question like \"What is a Neural Network?\", and this is not discussed in the uploaded document, respond as instructed above.\n",
    "        - For questions that do have relevant content in the document (e.g., Contoso's travel insurance coverage), respond accurately, and cite the document explicitly.\n",
    "\n",
    "        You must behave as if you have no external knowledge beyond what is retrieved from the uploaded document.\n",
    "        \"\"\"\n",
    "\n",
    "        \n",
    "        # Create file search tool with uploaded resources\n",
    "        file_search = FileSearchTool(vector_store_ids=[vector_store.id])\n",
    "\n",
    "        # 3. Create an agent on the Azure AI agent service with the file search tool\n",
    "        agent_definition = await client.agents.create_agent(\n",
    "            model=\"gpt-4o\",  # This model should match your Azure OpenAI deployment.\n",
    "            name=AGENT_NAME,\n",
    "            instructions=AGENT_INSTRUCTIONS,\n",
    "            tools=file_search.definitions,\n",
    "            tool_resources=file_search.resources,\n",
    "        )\n",
    "        \n",
    "        # Create the Azure AI Agent using the client and definition.\n",
    "        agent = AzureAIAgent(\n",
    "            client=client,\n",
    "            definition=agent_definition,\n",
    "        )\n",
    "        \n",
    "        # Create a thread to hold the conversation\n",
    "        # If no thread is provided, a new thread will be\n",
    "        # created and returned with the initial response\n",
    "        thread: AzureAIAgentThread | None = None\n",
    "        \n",
    "        # Example user queries.\n",
    "        user_inputs = [\n",
    "            \"Can you explain Contoso's travel insurance coverage?\",  # Relevant context.\n",
    "            \"What is a Neural Network?\"  # No relevant context from the document. Will not contain a source annotation.\n",
    "        ]\n",
    "        \n",
    "        try:\n",
    "            for user_input in user_inputs:\n",
    "                print(f\"# User: '{user_input}'\")\n",
    "                # Invoke the agent for the specified thread for response\n",
    "                async for response in agent.invoke(messages=user_input, thread=thread):\n",
    "                    print(f\"# {response.name}: {response}\")\n",
    "                    thread = response.thread\n",
    "        finally:\n",
    "            # Clean up resources.\n",
    "            await thread.delete() if thread else None\n",
    "            await client.agents.delete_vector_store(vector_store.id)\n",
    "            await client.agents.delete_file(file.id)\n",
    "            await client.agents.delete_agent(agent.id)\n",
    "            print(\"\\nCleaned up agent, thread, file, and vector store.\")\n",
    "\n",
    "await main()"
   ]
  },
  {
   "cell_type": "markdown",
   "metadata": {},
   "source": [
    "ضروری اصول:  \n",
    "1. اس بات کو یقینی بنائیں کہ آپ کے ترجمے میں '''مارک ڈاؤن یا کسی اور ٹیگ کا اضافہ نہ ہو۔  \n",
    "2. ترجمہ بہت زیادہ لفظی نہ لگے۔  \n",
    "3. تبصرے بھی ترجمہ کریں۔  \n",
    "4. یہ فائل مارک ڈاؤن فارمیٹ میں لکھی گئی ہے - اسے XML یا HTML نہ سمجھیں۔  \n",
    "5. درج ذیل کو ترجمہ نہ کریں:  \n",
    "   - [!NOTE], [!WARNING], [!TIP], [!IMPORTANT], [!CAUTION]  \n",
    "   - ویری ایبل کے نام، فنکشن کے نام، کلاس کے نام  \n",
    "   - پلیس ہولڈرز جیسے @@INLINE_CODE_x@@ یا @@CODE_BLOCK_x@@  \n",
    "   - URLs یا راستے  \n",
    "6. تمام اصل مارک ڈاؤن فارمیٹنگ کو برقرار رکھیں۔  \n",
    "7. صرف ترجمہ شدہ مواد واپس کریں، اضافی ٹیگز یا مارک اپ کے بغیر۔  \n",
    "\n",
    "آپ کو نتیجہ کچھ اس طرح نظر آنا چاہیے:  \n",
    "\n",
    "```\n",
    "# User: 'Can you explain Contoso's travel insurance coverage?'\n",
    "# Agent: Contoso's travel insurance coverage includes protection for medical emergencies, trip cancellations, and lost baggage【4:0†document.md】.\n",
    "# User: 'What is a Neural Network?'\n",
    "# Agent: I'm sorry, but the uploaded document does not contain the necessary information to answer that question.\n",
    "\n",
    "Cleaned up agent, thread, file, and vector store.\n",
    "```  \n"
   ]
  },
  {
   "cell_type": "markdown",
   "metadata": {},
   "source": [
    "\n---\n\n**ڈسکلیمر**:  \nیہ دستاویز AI ترجمہ سروس [Co-op Translator](https://github.com/Azure/co-op-translator) کا استعمال کرتے ہوئے ترجمہ کی گئی ہے۔ ہم درستگی کے لیے پوری کوشش کرتے ہیں، لیکن براہ کرم آگاہ رہیں کہ خودکار ترجمے میں غلطیاں یا خامیاں ہو سکتی ہیں۔ اصل دستاویز، جو اس کی اصل زبان میں ہے، کو مستند ذریعہ سمجھا جانا چاہیے۔ اہم معلومات کے لیے، پیشہ ور انسانی ترجمہ تجویز کیا جاتا ہے۔ اس ترجمے کے استعمال سے پیدا ہونے والی کسی بھی غلط فہمی یا غلط تشریح کے لیے ہم ذمہ دار نہیں ہیں۔\n"
   ]
  }
 ],
 "metadata": {
  "kernelspec": {
   "display_name": ".venv",
   "language": "python",
   "name": "python3"
  },
  "language_info": {
   "codemirror_mode": {
    "name": "ipython",
    "version": 3
   },
   "file_extension": ".py",
   "mimetype": "text/x-python",
   "name": "python",
   "nbconvert_exporter": "python",
   "pygments_lexer": "ipython3",
   "version": "3.11.11"
  },
  "coopTranslator": {
   "original_hash": "a86c3ddfbe35024993bbf563588aad48",
   "translation_date": "2025-08-29T11:49:43+00:00",
   "source_file": "05-agentic-rag/code_samples/05-semantic-kernel-azure-ai-agent.ipynb",
   "language_code": "ur"
  }
 },
 "nbformat": 4,
 "nbformat_minor": 2
}