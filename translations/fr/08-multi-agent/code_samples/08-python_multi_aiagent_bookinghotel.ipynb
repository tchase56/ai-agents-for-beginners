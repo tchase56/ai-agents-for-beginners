{
 "cells": [
  {
   "cell_type": "markdown",
   "metadata": {},
   "source": [
    "## **Exemples : Agents Multi-IA pour Réserver un Hôtel**\n",
    "\n",
    "Dans le monde d'aujourd'hui, où tout va à grande vitesse, organiser un voyage d'affaires ne se limite pas à réserver un vol et une chambre d'hôtel. Cela nécessite un niveau de coordination et d'efficacité qui peut être difficile à atteindre. C'est là que les Agents Multi-IA entrent en jeu, révolutionnant la manière dont nous gérons nos besoins en matière de voyage.\n",
    "\n",
    "Imaginez avoir une équipe d'agents intelligents à votre disposition, travaillant ensemble pour gérer chaque aspect de votre voyage avec précision et facilité. Grâce à notre technologie avancée d'intelligence artificielle, nous avons créé des agents spécialisés pour les services de réservation et l'organisation d'itinéraires, garantissant une expérience de voyage fluide et sans stress.\n",
    "\n",
    "Voici un scénario de base. Lors de la planification d'un voyage d'affaires, nous devons consulter un agent de voyage professionnel pour obtenir des informations sur les billets d'avion, les hôtels, etc. Grâce aux Agents IA, nous pouvons créer des agents dédiés aux services de réservation et à l'organisation d'itinéraires, qui collaborent pour améliorer le niveau d'intelligence.\n"
   ]
  },
  {
   "cell_type": "markdown",
   "metadata": {},
   "source": [
    "# Initialiser le service Azure AI Agent et obtenir les informations de configuration depuis **.env**\n",
    "\n",
    "### **.env**\n",
    "\n",
    "Créez un fichier .env\n",
    "\n",
    "Le fichier **.env** contient la chaîne de connexion du service Azure AI Agent, le modèle utilisé par AOAI, ainsi que les informations correspondantes pour le service API de recherche Google, ENDPOINT, etc.\n",
    "\n",
    "- **AZURE_AI_AGENT_MODEL_DEPLOYMENT_NAME** = \"Nom de déploiement de votre modèle Azure AI Agent Service\"\n",
    "\n",
    "[**NOTE**] Vous aurez besoin d'un modèle avec une limite de 100 000 tokens par minute (Rate Limit) et une limite de 600 requêtes par minute (Request per minute).\n",
    "\n",
    "  Vous pouvez obtenir un modèle dans Azure AI Foundry - Model and Endpoint.\n",
    "\n",
    "- **AZURE_AI_AGENT_PROJECT_CONNECTION_STRING** = \"Chaîne de connexion de votre projet Azure AI Agent Service\"\n",
    "\n",
    "  Vous pouvez obtenir la chaîne de connexion du projet dans l'aperçu de votre projet sur l'écran du portail AI Foundry.\n",
    "\n",
    "- **SERPAPI_SEARCH_API_KEY** = \"Votre clé API SERPAPI Search\"\n",
    "- **SERPAPI_SEARCH_ENDPOINT** = \"Votre endpoint SERPAPI Search\"\n",
    "\n",
    "Pour obtenir le nom de déploiement du modèle et la chaîne de connexion du projet pour le service Azure AI Agent, vous devez créer un service Azure AI Agent. Il est recommandé d'utiliser [ce modèle](https://portal.azure.com/#create/Microsoft.Template/uri/https%3A%2F%2Fraw.githubusercontent.com%2Ffosteramanda%2Fazure-agent-quickstart-templates%2Frefs%2Fheads%2Fmaster%2Fquickstarts%2Fmicrosoft.azure-ai-agent-service%2Fstandard-agent%2Fazuredeploy.json) pour le créer directement. (***Remarque :*** Le service Azure AI Agent est actuellement limité à certaines régions. Il est conseillé de consulter [ce lien](https://learn.microsoft.com/en-us/azure/ai-services/agents/concepts/model-region-support) pour définir la région.)\n",
    "\n",
    "L'agent doit accéder à SERPAPI. Il est recommandé de s'inscrire via [ce lien](https://serpapi.com/searches). Après l'inscription, vous pourrez obtenir une clé API unique et un ENDPOINT.\n"
   ]
  },
  {
   "cell_type": "markdown",
   "metadata": {},
   "source": [
    "# Connexion à Azure\n",
    "\n",
    "Vous devez maintenant vous connecter à Azure. Ouvrez un terminal dans VScode et exécutez la commande `az login`.\n"
   ]
  },
  {
   "cell_type": "markdown",
   "metadata": {},
   "source": [
    "# Configuration\n",
    "\n",
    "Pour exécuter ce notebook, vous devrez installer les bibliothèques suivantes. Voici une liste des bibliothèques requises et les commandes pip correspondantes :\n",
    "\n",
    "azure-identity : Pour l'authentification Azure.  \n",
    "requests : Pour effectuer des requêtes HTTP.  \n",
    "semantic-kernel : Pour le framework semantic kernel (en supposant qu'il s'agit d'une bibliothèque personnalisée ou spécifique, vous pourriez devoir l'installer depuis une source ou un dépôt particulier).  \n"
   ]
  },
  {
   "cell_type": "code",
   "execution_count": null,
   "metadata": {},
   "outputs": [],
   "source": [
    "!pip install azure-identity\n",
    "!pip install requests\n",
    "!pip install semantic-kernel\n",
    "!pip install --upgrade semantic_kernel\n",
    "!pip install azure-cli"
   ]
  },
  {
   "cell_type": "markdown",
   "metadata": {},
   "source": [
    "# Explication :  \n",
    "import asyncio : Cela importe le module asyncio, qui offre un support pour la programmation asynchrone en Python. Il permet d'écrire du code concurrent en utilisant la syntaxe async et await.  \n",
    "from typing : Annotated : Cela importe le type Annotated du module typing. Annotated est utilisé pour ajouter des métadonnées aux annotations de type, ce qui peut être utile pour diverses applications comme la validation, la documentation ou les outils.  \n"
   ]
  },
  {
   "cell_type": "code",
   "execution_count": null,
   "metadata": {
    "dotnet_interactive": {
     "language": "csharp"
    },
    "polyglot_notebook": {
     "kernelName": "csharp"
    }
   },
   "outputs": [],
   "source": [
    "import asyncio,os\n",
    "from typing import Annotated"
   ]
  },
  {
   "cell_type": "markdown",
   "metadata": {},
   "source": [
    "# Explication :\n",
    "En utilisant from dotenv import load_dotenv et load_dotenv(), vous pouvez gérer facilement les paramètres de configuration et les informations sensibles (comme les clés API et les URLs de base de données) dans un fichier .env, en les séparant de votre code source. Cela rend votre application plus sécurisée et plus facile à configurer.\n"
   ]
  },
  {
   "cell_type": "code",
   "execution_count": null,
   "metadata": {},
   "outputs": [],
   "source": [
    "import os\n",
    "from dotenv import load_dotenv\n",
    "\n",
    "# Load environment variables from .env file\n",
    "load_dotenv()"
   ]
  },
  {
   "cell_type": "markdown",
   "metadata": {},
   "source": [
    "# Explication :\n",
    "\n",
    "Instruction d'importation : from azure.identity.aio import DefaultAzureCredential : Cette instruction importe la classe DefaultAzureCredential depuis le module azure.identity.aio. La partie aio dans le nom du module indique qu'il est conçu pour des opérations asynchrones.\n",
    "\n",
    "Objectif de DefaultAzureCredential : La classe DefaultAzureCredential fait partie du SDK Azure pour Python. Elle fournit un moyen par défaut pour s'authentifier auprès des services Azure. Elle tente de s'authentifier en utilisant plusieurs méthodes dans un ordre spécifique, comme les variables d'environnement, l'identité managée et les identifiants Azure CLI.\n",
    "\n",
    "Opérations asynchrones : Le module aio indique que la classe DefaultAzureCredential prend en charge les opérations asynchrones. Cela signifie que vous pouvez l'utiliser avec asyncio pour effectuer des requêtes d'authentification non bloquantes.\n"
   ]
  },
  {
   "cell_type": "code",
   "execution_count": null,
   "metadata": {
    "dotnet_interactive": {
     "language": "csharp"
    },
    "polyglot_notebook": {
     "kernelName": "csharp"
    }
   },
   "outputs": [],
   "source": [
    "from azure.identity.aio import DefaultAzureCredential"
   ]
  },
  {
   "cell_type": "markdown",
   "metadata": {},
   "source": [
    "# Explication :\n",
    "Importe divers modules et classes du package semantic_kernel. Voici une explication de chaque importation :\n",
    "\n",
    "AgentGroupChat de semantic_kernel.agents : Cette classe gère les fonctionnalités liées aux discussions de groupe pour les agents d'IA. AzureAIAgent et AzureAIAgentSettings de semantic_kernel.agents.azure_ai :\n",
    "\n",
    "AzureAIAgent : Cette classe est utilisée pour créer et gérer des agents d'IA qui utilisent les services Azure AI.\n",
    "\n",
    "AzureAIAgentSettings : Cette classe est utilisée pour configurer les paramètres de l'AzureAIAgent. TerminationStrategy de semantic_kernel.agents.strategies.termination.termination_strategy :\n",
    "\n",
    "Cette classe définit des stratégies pour mettre fin à l'exécution des agents d'IA dans certaines conditions. ChatMessageContent de semantic_kernel.contents.chat_message_content :\n",
    "\n",
    "Cette classe est utilisée pour gérer le contenu des messages de discussion.\n",
    "AuthorRole de semantic_kernel.contents.utils.author_role :\n",
    "\n",
    "Cette classe définit différents rôles pour les auteurs dans le contexte des messages de discussion.\n",
    "\n",
    "kernel_function de semantic_kernel.functions.kernel_function_decorator : Ce décorateur est utilisé pour définir des fonctions kernel, qui sont des fonctions pouvant être exécutées dans le cadre du framework semantic kernel.\n",
    "Ces importations mettent en place les composants nécessaires pour créer et gérer des agents d'IA capables d'interagir dans un environnement de discussion de groupe, éventuellement pour des tâches telles que la réservation d'hôtels ou des activités similaires.\n"
   ]
  },
  {
   "cell_type": "code",
   "execution_count": null,
   "metadata": {
    "dotnet_interactive": {
     "language": "csharp"
    },
    "polyglot_notebook": {
     "kernelName": "csharp"
    }
   },
   "outputs": [],
   "source": [
    "from semantic_kernel.agents import AgentGroupChat\n",
    "from semantic_kernel.agents import AzureAIAgent, AzureAIAgentSettings\n",
    "from semantic_kernel.agents.strategies.termination.termination_strategy import TerminationStrategy\n",
    "from semantic_kernel.contents import ChatMessageContent\n",
    "from semantic_kernel.contents import AuthorRole\n",
    "from semantic_kernel.functions.kernel_function_decorator import kernel_function"
   ]
  },
  {
   "cell_type": "markdown",
   "metadata": {},
   "source": [
    "# Explication :\n",
    "Ensuite, nous importons la classe CodeInterpreterTool depuis le module azure.ai.projects.models.\n",
    "\n",
    "CodeInterpreterTool : Cette classe fait partie du SDK Azure AI et est utilisée pour interpréter et exécuter du code dans le cadre de projets d'IA. Elle offre des fonctionnalités pour exécuter des extraits de code, analyser du code ou intégrer l'exécution de code dans des flux de travail d'IA.  \n",
    "Cet import configure le composant nécessaire pour utiliser le CodeInterpreterTool dans votre projet, ce qui peut être utile pour des tâches impliquant l'interprétation et l'exécution dynamique de code.\n"
   ]
  },
  {
   "cell_type": "code",
   "execution_count": null,
   "metadata": {
    "dotnet_interactive": {
     "language": "csharp"
    },
    "polyglot_notebook": {
     "kernelName": "csharp"
    }
   },
   "outputs": [],
   "source": [
    "from azure.ai.projects.models import CodeInterpreterTool"
   ]
  },
  {
   "cell_type": "markdown",
   "metadata": {},
   "source": [
    "# Explication :  \n",
    "La classe ApprovalTerminationStrategy offre une stratégie spécifique pour mettre fin à l'opération d'un agent IA. L'agent s'arrêtera si le dernier message dans son historique d'interaction contient le mot \"saved\". Cela peut être utile dans des scénarios où la tâche de l'agent est considérée comme terminée une fois qu'il reçoit la confirmation que quelque chose a été \"saved\". Définir la méthode d'interaction. Après que le plan de réservation a été sauvegardé, il peut être arrêté en recevant le signal \"saved\".\n"
   ]
  },
  {
   "cell_type": "code",
   "execution_count": null,
   "metadata": {
    "dotnet_interactive": {
     "language": "csharp"
    },
    "polyglot_notebook": {
     "kernelName": "csharp"
    }
   },
   "outputs": [],
   "source": [
    "class ApprovalTerminationStrategy(TerminationStrategy):\n",
    "    \"\"\"A strategy for determining when an agent should terminate.\"\"\"\n",
    "\n",
    "    async def should_agent_terminate(self, agent, history):\n",
    "        \"\"\"Check if the agent should terminate.\"\"\"\n",
    "        return \"saved\" in history[-1].content.lower()"
   ]
  },
  {
   "cell_type": "markdown",
   "metadata": {},
   "source": [
    "# Explication :\n",
    "\n",
    "La ligne de code initialise un objet AzureAIAgentSettings avec des paramètres par défaut ou prédéfinis en appelant la méthode create(). Cet objet de configuration (ai_agent_settings) peut ensuite être utilisé pour configurer et gérer une instance d'AzureAIAgent.\n"
   ]
  },
  {
   "cell_type": "code",
   "execution_count": null,
   "metadata": {
    "dotnet_interactive": {
     "language": "csharp"
    },
    "polyglot_notebook": {
     "kernelName": "csharp"
    }
   },
   "outputs": [],
   "source": [
    "ai_agent_settings = AzureAIAgentSettings.create()"
   ]
  },
  {
   "cell_type": "markdown",
   "metadata": {},
   "source": [
    "# Explication :\n",
    "En important la bibliothèque requests, vous pouvez facilement effectuer des requêtes HTTP et interagir avec des services web dans votre code Python.\n"
   ]
  },
  {
   "cell_type": "code",
   "execution_count": null,
   "metadata": {
    "dotnet_interactive": {
     "language": "csharp"
    },
    "polyglot_notebook": {
     "kernelName": "csharp"
    }
   },
   "outputs": [],
   "source": [
    "import requests"
   ]
  },
  {
   "cell_type": "markdown",
   "metadata": {},
   "source": [
    "# Explication :\n",
    "Ceci est une variable qui stocke la clé API permettant d'accéder à un service d'API SERP (Search Engine Results Page). Une clé API est un identifiant unique utilisé pour authentifier les requêtes associées à votre compte.\n",
    "\n",
    "'GOOGLE_SEARCH_API_KEY' : Il s'agit d'une chaîne de caractères de substitution. Vous devez remplacer 'GOOGLE_SEARCH_API_KEY' par votre véritable clé API SERP.\n",
    "\n",
    "Objectif : L'objectif de cette ligne est de stocker la clé API dans une variable afin qu'elle puisse être utilisée pour authentifier les requêtes auprès du service d'API SERP. La clé API est nécessaire pour accéder au service et effectuer des recherches.\n",
    "\n",
    "Comment obtenir une clé API SERP : Pour obtenir une clé API SERP, suivez ces étapes générales sur https://serpapi.com (les étapes exactes peuvent varier en fonction du service d'API SERP spécifique que vous utilisez) :\n",
    "\n",
    "Choisissez un service d'API SERP : Il existe plusieurs services d'API SERP disponibles, tels que SerpAPI, Google Custom Search JSON API, et d'autres. Choisissez celui qui correspond le mieux à vos besoins.\n",
    "\n",
    "Inscrivez-vous pour un compte :\n",
    "\n",
    "Rendez-vous sur le site web du service d'API SERP choisi https://www.serpapi.com et inscrivez-vous pour un compte. Vous devrez peut-être fournir des informations de base et vérifier votre adresse e-mail.\n",
    "\n",
    "Créez une clé API :\n",
    "\n",
    "Après vous être inscrit, connectez-vous à votre compte et accédez à la section API ou au tableau de bord. Recherchez une option pour créer ou générer une nouvelle clé API.\n",
    "Copiez la clé API :\n",
    "\n",
    "Une fois la clé API générée, copiez-la. Cette clé sera utilisée pour authentifier vos requêtes auprès du service d'API SERP.\n",
    "Remplacez la chaîne de substitution :\n",
    "\n",
    "Remplacez la chaîne de substitution dans votre fichier .env\n"
   ]
  },
  {
   "cell_type": "code",
   "execution_count": null,
   "metadata": {
    "dotnet_interactive": {
     "language": "csharp"
    },
    "polyglot_notebook": {
     "kernelName": "csharp"
    }
   },
   "outputs": [],
   "source": [
    "SERPAPI_SEARCH_API_KEY=os.getenv('SERPAPI_SEARCH_API_KEY')"
   ]
  },
  {
   "cell_type": "code",
   "execution_count": null,
   "metadata": {
    "dotnet_interactive": {
     "language": "csharp"
    },
    "polyglot_notebook": {
     "kernelName": "csharp"
    }
   },
   "outputs": [],
   "source": [
    "SERPAPI_SEARCH_ENDPOINT = os.getenv('SERPAPI_SEARCH_ENDPOINT')"
   ]
  },
  {
   "cell_type": "markdown",
   "metadata": {},
   "source": [
    "# Explication :\n",
    "La classe BookingPlugin offre des méthodes pour réserver des hôtels et des vols en utilisant l'API de recherche Google de Serpapi.com. Elle construit les paramètres nécessaires, envoie des requêtes à l'API et traite les réponses pour retourner des informations pertinentes sur les réservations. La clé API (SERPAPI_SEARCH_API_KEY) et le point de terminaison (SERPAPI_SEARCH_ENDPOINT) sont utilisés pour authentifier et envoyer des requêtes à l'API de recherche Google.\n"
   ]
  },
  {
   "cell_type": "code",
   "execution_count": null,
   "metadata": {
    "dotnet_interactive": {
     "language": "csharp"
    },
    "polyglot_notebook": {
     "kernelName": "csharp"
    }
   },
   "outputs": [],
   "source": [
    "# Define Booking Plugin\n",
    "class BookingPlugin:\n",
    "    \"\"\"Booking Plugin for customers\"\"\"\n",
    "    @kernel_function(description=\"booking hotel\")\n",
    "    def booking_hotel(self,query: Annotated[str, \"The name of the city\"], check_in_date: Annotated[str, \"Hotel Check-in Time\"], check_out_date: Annotated[str, \"Hotel Check-in Time\"])-> Annotated[str, \"Return the result of booking hotel infomation\"]:\n",
    "\n",
    "        params = {\n",
    "            \"engine\": \"google_hotels\",\n",
    "            \"q\": query,\n",
    "            \"check_in_date\": check_in_date,\n",
    "            \"check_out_date\": check_out_date,\n",
    "            \"adults\": \"2\",\n",
    "            \"currency\": \"USD\",\n",
    "            \"gl\": \"us\",\n",
    "            \"hl\": \"en\",\n",
    "            \"api_key\": SERPAPI_SEARCH_API_KEY\n",
    "        }\n",
    "\n",
    "        response = requests.get(SERPAPI_SEARCH_ENDPOINT, params=params)\n",
    "        if response.status_code == 200:\n",
    "            response = response.json()\n",
    "            return response[\"properties\"]\n",
    "        else:\n",
    "            return None\n",
    "\n",
    "    \n",
    "    @kernel_function(description=\"booking fight\")\n",
    "    def  booking_fight(self,origin: Annotated[str, \"The name of Departure\"], destination: Annotated[str, \"The name of Destination\"], outbound_date: Annotated[str, \"The date of outbound\"], return_date: Annotated[str, \"The date of Return_date\"])-> Annotated[str, \"Return the result of booking fight infomation\"]:\n",
    "        \n",
    "        go_params = {\n",
    "            \"engine\": \"google_flights\",   \n",
    "            \"departure_id\": origin,\n",
    "            \"arrival_id\": destination,\n",
    "            \"outbound_date\": outbound_date,\n",
    "            \"return_date\": return_date,  \n",
    "            \"currency\": \"USD\",\n",
    "            \"hl\": \"en\",\n",
    "            \"api_key\": SERPAPI_SEARCH_API_KEY  \n",
    "        }\n",
    "\n",
    "        print(go_params)\n",
    "\n",
    "        go_response = requests.get(SERPAPI_SEARCH_ENDPOINT, params=go_params)\n",
    "\n",
    "\n",
    "        result = ''\n",
    "\n",
    "        if go_response.status_code == 200:\n",
    "            response = go_response.json()\n",
    "\n",
    "            result += \"# outbound \\n \" + str(response)\n",
    "        else:\n",
    "            print('error!!!')\n",
    "            # return None\n",
    "\n",
    "        \n",
    "        back_params = {\n",
    "            \"engine\": \"google_flights\",   \n",
    "            \"departure_id\": destination,\n",
    "            \"arrival_id\": origin,\n",
    "            \"outbound_date\": return_date,\n",
    "            \"return_date\": return_date,  \n",
    "            \"currency\": \"USD\",\n",
    "            \"hl\": \"en\",\n",
    "            \"api_key\": SERPAPI_SEARCH_API_KEY  \n",
    "        }\n",
    "\n",
    "\n",
    "        print(back_params)\n",
    "\n",
    "\n",
    "        back_response = requests.get(SERPAPI_SEARCH_ENDPOINT, params=back_params)\n",
    "\n",
    "\n",
    "\n",
    "        if back_response.status_code == 200:\n",
    "            response = back_response.json()\n",
    "\n",
    "            result += \"\\n # return \\n\"  + str(response)\n",
    "\n",
    "        else:\n",
    "            print('error!!!')\n",
    "            # return None\n",
    "        \n",
    "        print(result)\n",
    "\n",
    "        return result\n",
    "\n",
    "        \n"
   ]
  },
  {
   "cell_type": "markdown",
   "metadata": {},
   "source": [
    "# Explication :\n",
    "La classe SavePlugin propose une méthode saving_plan pour sauvegarder des plans de voyage en utilisant les services Azure AI. Elle configure les identifiants Azure, crée un agent AI, traite les entrées utilisateur pour générer et enregistrer le contenu du plan de voyage, et gère les opérations d'enregistrement de fichier ainsi que le nettoyage. La méthode retourne \"Saved\" en cas de réussite.\n"
   ]
  },
  {
   "cell_type": "code",
   "execution_count": null,
   "metadata": {
    "dotnet_interactive": {
     "language": "csharp"
    },
    "polyglot_notebook": {
     "kernelName": "csharp"
    }
   },
   "outputs": [],
   "source": [
    "class SavePlugin:\n",
    "    \"\"\"Save Plugin for customers\"\"\"\n",
    "    @kernel_function(description=\"saving plan\")\n",
    "    async def saving_plan(self,tripplan: Annotated[str, \"The content of trip plan\"])-> Annotated[str, \"Return status of save content\"]:\n",
    "\n",
    "        async with (\n",
    "            DefaultAzureCredential() as creds,\n",
    "            AzureAIAgent.create_client(\n",
    "                credential=creds,\n",
    "                conn_str=ai_agent_settings.project_connection_string.get_secret_value(),\n",
    "            ) as client,\n",
    "        ):\n",
    "\n",
    "            code_interpreter = CodeInterpreterTool()\n",
    "            \n",
    "            agent_definition = await client.agents.create_agent(\n",
    "                model=ai_agent_settings.model_deployment_name,\n",
    "                tools=code_interpreter.definitions,\n",
    "                tool_resources=code_interpreter.resources,\n",
    "            )\n",
    "\n",
    "\n",
    "            agent = AzureAIAgent(\n",
    "                client=client,\n",
    "                definition=agent_definition,\n",
    "            )\n",
    "\n",
    "            thread = await client.agents.create_thread()\n",
    "\n",
    "\n",
    "            user_inputs = [\n",
    "                \"\"\"\n",
    "            \n",
    "                        You are my Python programming assistant. Generate code,save \"\"\"+ tripplan +\n",
    "                        \n",
    "                    \"\"\"    \n",
    "                        and execute it according to the following requirements\n",
    "\n",
    "                        1. Save blog content to trip-{YYMMDDHHMMSS}.md\n",
    "\n",
    "                        2. give me the download this file link\n",
    "                    \"\"\"\n",
    "            ]\n",
    "\n",
    "\n",
    "\n",
    "            try:\n",
    "                for user_input in user_inputs:\n",
    "                    # Add the user input as a chat message\n",
    "                    await agent.add_chat_message(\n",
    "                        thread_id=thread.id, message=ChatMessageContent(role=AuthorRole.USER, content=user_input)\n",
    "                    )\n",
    "                    print(f\"# User: '{user_input}'\")\n",
    "                    # Invoke the agent for the specified thread\n",
    "                    async for content in agent.invoke(thread_id=thread.id):\n",
    "                        if content.role != AuthorRole.TOOL:\n",
    "                            print(f\"# Agent: {content.content}\")\n",
    "\n",
    "                    \n",
    "                    messages = await client.agents.list_messages(thread_id=thread.id)\n",
    "\n",
    "                    # OpenAIPageableListOfThreadMessage\n",
    "                    # OpenAIPageableListOfThreadMessage\n",
    "\n",
    "\n",
    "                    for file_path_annotation in messages.file_path_annotations:\n",
    "\n",
    "                            file_name = os.path.basename(file_path_annotation.text)\n",
    "\n",
    "                            await client.agents.save_file(file_id=file_path_annotation.file_path.file_id, file_name=file_name,target_dir=\"./trip\")\n",
    "\n",
    "                    \n",
    "            finally:\n",
    "                await client.agents.delete_thread(thread.id)\n",
    "                await client.agents.delete_agent(agent.id)\n",
    "\n",
    "\n",
    "        return \"Saved\""
   ]
  },
  {
   "cell_type": "markdown",
   "metadata": {},
   "source": [
    "# Explication :\n",
    "Ce code configure des agents Azure AI pour gérer la réservation de vols et d'hôtels, ainsi que pour sauvegarder des plans de voyage en fonction des entrées utilisateur. Il utilise des identifiants Azure pour créer et configurer les agents, traite les entrées utilisateur via une discussion de groupe, et garantit un nettoyage approprié une fois les tâches terminées. Les agents utilisent des plugins spécifiques (BookingPlugin et SavePlugin) pour effectuer leurs tâches respectives.\n"
   ]
  },
  {
   "cell_type": "code",
   "execution_count": null,
   "metadata": {
    "dotnet_interactive": {
     "language": "csharp"
    },
    "polyglot_notebook": {
     "kernelName": "csharp"
    }
   },
   "outputs": [],
   "source": [
    "async with (\n",
    "    DefaultAzureCredential() as creds,\n",
    "    AzureAIAgent.create_client(\n",
    "        credential=creds,\n",
    "        conn_str=ai_agent_settings.project_connection_string.get_secret_value(),\n",
    "    ) as client,\n",
    "):\n",
    "    BOOKING_AGENT_NAME = \"BookingAgent\"\n",
    "    BOOKING_AGENT_INSTRUCTIONS = \"\"\"\n",
    "    You are a booking agent. Help me book flights or hotels.\n",
    "\n",
    "    Thought: Please understand the user's intention and confirm whether to use the reservation system to complete the task.\n",
    "\n",
    "    Actions:\n",
    "    - For flight bookings, convert the departure and destination names into airport codes.\n",
    "    - Use the appropriate API for hotel or flight bookings. Verify that all necessary parameters are available. If any parameters are missing, ask the user to provide them. If all parameters are complete, call the corresponding function.\n",
    "    - If the task is not related to hotel or flight booking, respond with the final answer only.\n",
    "    - Output the results using a markdown table:\n",
    "      - For flight bookings, output separate outbound and return contents in the order of:\n",
    "        Departure Airport | Airline | Flight Number | Departure Time | Arrival Airport | Arrival Time | Duration | Airplane | Travel Class | Price (USD) | Legroom | Extensions | Carbon Emissions (kg).\n",
    "      - For hotel bookings, output in the order of:\n",
    "        Property Name | Property Description | Check-in Time | Check-out Time | Prices | Nearby Places | Hotel Class | GPS Coordinates.\n",
    "    \"\"\"\n",
    "\n",
    "    SAVE_AGENT_NAME = \"SaveAgent\"\n",
    "    SAVE_AGENT_INSTRUCTIONS = \"\"\"\n",
    "    You are a save tool agent. Help me to save the trip plan.\n",
    "    \"\"\"\n",
    "\n",
    "    # Create agent definition\n",
    "    booking_agent_definition = await client.agents.create_agent(\n",
    "        model=ai_agent_settings.model_deployment_name,\n",
    "        name=BOOKING_AGENT_NAME,\n",
    "        instructions=BOOKING_AGENT_INSTRUCTIONS,\n",
    "    )\n",
    "\n",
    "    # Create the AzureAI Agent\n",
    "    booking_agent = AzureAIAgent(\n",
    "        client=client,\n",
    "        definition=booking_agent_definition,\n",
    "        # Optionally configure polling options\n",
    "        # polling_options=RunPollingOptions(run_polling_interval=timedelta(seconds=1)),\n",
    "    )\n",
    "\n",
    "    # Add the sample plugin to the kernel\n",
    "    booking_agent.kernel.add_plugin(BookingPlugin(), plugin_name=\"booking\")\n",
    "\n",
    "    # Create agent definition\n",
    "    save_agent_definition = await client.agents.create_agent(\n",
    "        model=ai_agent_settings.model_deployment_name,\n",
    "        name=SAVE_AGENT_NAME,\n",
    "        instructions=SAVE_AGENT_INSTRUCTIONS\n",
    "    )\n",
    "\n",
    "    # Create the AzureAI Agent\n",
    "    save_agent = AzureAIAgent(\n",
    "        client=client,\n",
    "        definition=save_agent_definition,\n",
    "    )\n",
    "\n",
    "    save_agent.kernel.add_plugin(SavePlugin(), plugin_name=\"saving\")\n",
    "\n",
    "    user_inputs = [\n",
    "        \"I have a business trip from London to New York in Feb 20 2025 to Feb 27 2025 ,help me to book a hotel and fight tickets and save it\"\n",
    "    ]\n",
    "\n",
    "    chat = AgentGroupChat(\n",
    "        agents=[booking_agent, save_agent],\n",
    "        termination_strategy=ApprovalTerminationStrategy(agents=[save_agent], maximum_iterations=10),\n",
    "    )\n",
    "\n",
    "    try:\n",
    "        for user_input in user_inputs:\n",
    "            # Add the user input as a chat message\n",
    "            await chat.add_chat_message(\n",
    "                ChatMessageContent(role=AuthorRole.USER, content=user_input)\n",
    "            )\n",
    "            print(f\"# User: '{user_input}'\")\n",
    "\n",
    "            async for content in chat.invoke():\n",
    "                print(f\"# {content.role} - {content.name or '*'}: '{content.content}'\")\n",
    "\n",
    "            print(f\"# IS COMPLETE: {chat.is_complete}\")\n",
    "\n",
    "            print(\"*\" * 60)\n",
    "            print(\"Chat History (In Descending Order):\\n\")\n",
    "            async for message in chat.get_chat_messages(agent=save_agent):\n",
    "                print(f\"# {message.role} - {message.name or '*'}: '{message.content}'\")\n",
    "    finally:\n",
    "        await chat.reset()\n",
    "        await client.agents.delete_agent(save_agent.id)\n",
    "        await client.agents.delete_agent(booking_agent.id)\n"
   ]
  },
  {
   "cell_type": "markdown",
   "metadata": {},
   "source": [
    "\n---\n\n**Avertissement** :  \nCe document a été traduit à l'aide du service de traduction automatique [Co-op Translator](https://github.com/Azure/co-op-translator). Bien que nous nous efforcions d'assurer l'exactitude, veuillez noter que les traductions automatisées peuvent contenir des erreurs ou des inexactitudes. Le document original dans sa langue d'origine doit être considéré comme la source faisant autorité. Pour des informations critiques, il est recommandé de recourir à une traduction professionnelle réalisée par un humain. Nous déclinons toute responsabilité en cas de malentendus ou d'interprétations erronées résultant de l'utilisation de cette traduction.\n"
   ]
  }
 ],
 "metadata": {
  "kernelspec": {
   "display_name": "3.12.1",
   "language": "python",
   "name": "python3"
  },
  "language_info": {
   "codemirror_mode": {
    "name": "ipython",
    "version": 3
   },
   "file_extension": ".py",
   "mimetype": "text/x-python",
   "name": "python",
   "nbconvert_exporter": "python",
   "pygments_lexer": "ipython3",
   "version": "3.12.1"
  },
  "polyglot_notebook": {
   "kernelInfo": {
    "defaultKernelName": "csharp",
    "items": [
     {
      "aliases": [],
      "name": "csharp"
     }
    ]
   }
  },
  "coopTranslator": {
   "original_hash": "1baa60020a95eda27b7e9ecfda99965b",
   "translation_date": "2025-08-28T10:17:50+00:00",
   "source_file": "08-multi-agent/code_samples/08-python_multi_aiagent_bookinghotel.ipynb",
   "language_code": "fr"
  }
 },
 "nbformat": 4,
 "nbformat_minor": 2
}