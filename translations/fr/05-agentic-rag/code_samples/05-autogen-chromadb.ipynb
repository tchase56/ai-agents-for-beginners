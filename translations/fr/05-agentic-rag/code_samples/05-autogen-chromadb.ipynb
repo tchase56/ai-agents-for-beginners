{
 "cells": [
  {
   "cell_type": "markdown",
   "metadata": {},
   "source": [
    "# RAG agentique avec Autogen\n",
    "\n",
    "Ce notebook montre comment implémenter la génération augmentée par la recherche (RAG) en utilisant des agents Autogen avec des capacités d'évaluation améliorées.\n"
   ]
  },
  {
   "cell_type": "markdown",
   "metadata": {},
   "source": [
    "Correction de la version SQLite  \n",
    "Si vous rencontrez l'erreur :  \n",
    "```\n",
    "RuntimeError: Your system has an unsupported version of sqlite3. Chroma requires sqlite3 >= 3.35.0\n",
    "```  \n",
    "\n",
    "Décommentez ce bloc de code au début de votre notebook :  \n"
   ]
  },
  {
   "cell_type": "code",
   "execution_count": 2,
   "metadata": {},
   "outputs": [],
   "source": [
    "# %pip install pysqlite3-binary\n",
    "# __import__('pysqlite3')\n",
    "# import sys\n",
    "# sys.modules['sqlite3'] = sys.modules.pop('pysqlite3')"
   ]
  },
  {
   "cell_type": "code",
   "execution_count": 3,
   "metadata": {},
   "outputs": [
    {
     "data": {
      "text/plain": [
       "True"
      ]
     },
     "execution_count": 3,
     "metadata": {},
     "output_type": "execute_result"
    }
   ],
   "source": [
    "import os\n",
    "import time\n",
    "import asyncio\n",
    "from typing import List, Dict\n",
    "from dotenv import load_dotenv\n",
    "\n",
    "from autogen_agentchat.agents import AssistantAgent\n",
    "from autogen_core import CancellationToken\n",
    "from autogen_agentchat.messages import TextMessage\n",
    "from azure.core.credentials import AzureKeyCredential\n",
    "from autogen_ext.models.azure import AzureAIChatCompletionClient\n",
    "\n",
    "import chromadb\n",
    "\n",
    "load_dotenv()"
   ]
  },
  {
   "cell_type": "markdown",
   "metadata": {},
   "source": [
    "## Créer le client\n",
    "\n",
    "Tout d'abord, nous initialisons le client Azure AI Chat Completion. Ce client sera utilisé pour interagir avec le service Azure OpenAI afin de générer des réponses aux requêtes des utilisateurs.\n"
   ]
  },
  {
   "cell_type": "code",
   "execution_count": 4,
   "metadata": {},
   "outputs": [],
   "source": [
    "client = AzureAIChatCompletionClient(\n",
    "    model=\"gpt-4o-mini\",\n",
    "    endpoint=\"https://models.inference.ai.azure.com\",\n",
    "    credential=AzureKeyCredential(os.getenv(\"GITHUB_TOKEN\")),\n",
    "    model_info={\n",
    "        \"json_output\": True,\n",
    "        \"function_calling\": True,\n",
    "        \"vision\": True,\n",
    "        \"family\": \"unknown\",\n",
    "    },\n",
    ")"
   ]
  },
  {
   "cell_type": "markdown",
   "metadata": {},
   "source": [
    "## Initialisation de la base de données vectorielle\n",
    "\n",
    "Nous initialisons ChromaDB avec un stockage persistant et ajoutons des documents d'exemple améliorés. ChromaDB sera utilisé pour stocker et récupérer des documents qui fournissent un contexte permettant de générer des réponses précises.\n"
   ]
  },
  {
   "cell_type": "code",
   "execution_count": 5,
   "metadata": {},
   "outputs": [],
   "source": [
    "# Initialize ChromaDB with persistent storage\n",
    "chroma_client = chromadb.PersistentClient(path=\"./chroma_db\")\n",
    "collection = chroma_client.create_collection(\n",
    "    name=\"travel_documents\",\n",
    "    metadata={\"description\": \"travel_service\"},\n",
    "    get_or_create=True\n",
    ")\n",
    "\n",
    "# Enhanced sample documents\n",
    "documents = [\n",
    "    \"Contoso Travel offers luxury vacation packages to exotic destinations worldwide.\",\n",
    "    \"Our premium travel services include personalized itinerary planning and 24/7 concierge support.\",\n",
    "    \"Contoso's travel insurance covers medical emergencies, trip cancellations, and lost baggage.\",\n",
    "    \"Popular destinations include the Maldives, Swiss Alps, and African safaris.\",\n",
    "    \"Contoso Travel provides exclusive access to boutique hotels and private guided tours.\"\n",
    "]\n",
    "\n",
    "# Add documents with metadata\n",
    "collection.add(\n",
    "    documents=documents,\n",
    "    ids=[f\"doc_{i}\" for i in range(len(documents))],\n",
    "    metadatas=[{\"source\": \"training\", \"type\": \"explanation\"} for _ in documents]\n",
    ")"
   ]
  },
  {
   "cell_type": "markdown",
   "metadata": {},
   "source": [
    "## Implémentation du fournisseur de contexte\n",
    "\n",
    "La classe `ContextProvider` gère la récupération et l'intégration de contexte à partir de plusieurs sources :\n",
    "\n",
    "1. **Récupération depuis une base de données vectorielle** : Utilise ChromaDB pour effectuer une recherche sémantique sur des documents de voyage\n",
    "2. **Informations météorologiques** : Maintient une base de données météorologique simulée pour les grandes villes\n",
    "3. **Contexte unifié** : Combine les données des documents et de la météo pour créer un contexte complet\n",
    "\n",
    "Méthodes clés :\n",
    "- `get_retrieval_context()`: Récupère les documents pertinents en fonction de la requête\n",
    "- `get_weather_data()`: Fournit des informations météorologiques pour les lieux spécifiés\n",
    "- `get_unified_context()`: Combine les contextes des documents et de la météo pour des réponses enrichies\n"
   ]
  },
  {
   "cell_type": "code",
   "execution_count": 6,
   "metadata": {},
   "outputs": [],
   "source": [
    "class ContextProvider:\n",
    "    def __init__(self, collection):\n",
    "        self.collection = collection\n",
    "        # Simulated weather database\n",
    "        self.weather_database = {\n",
    "            \"new york\": {\"temperature\": 72, \"condition\": \"Partly Cloudy\", \"humidity\": 65, \"wind\": \"10 mph\"},\n",
    "            \"london\": {\"temperature\": 60, \"condition\": \"Rainy\", \"humidity\": 80, \"wind\": \"15 mph\"},\n",
    "            \"tokyo\": {\"temperature\": 75, \"condition\": \"Sunny\", \"humidity\": 50, \"wind\": \"5 mph\"},\n",
    "            \"sydney\": {\"temperature\": 80, \"condition\": \"Clear\", \"humidity\": 45, \"wind\": \"12 mph\"},\n",
    "            \"paris\": {\"temperature\": 68, \"condition\": \"Cloudy\", \"humidity\": 70, \"wind\": \"8 mph\"},\n",
    "        }\n",
    "    \n",
    "    def get_retrieval_context(self, query: str) -> str:\n",
    "        \"\"\"Retrieves relevant documents from vector database based on query.\"\"\"\n",
    "        results = self.collection.query(\n",
    "            query_texts=[query],\n",
    "            include=[\"documents\", \"metadatas\"],\n",
    "            n_results=2\n",
    "        )\n",
    "        context_strings = []\n",
    "        if results and results.get(\"documents\") and len(results[\"documents\"][0]) > 0:\n",
    "            for doc, meta in zip(results[\"documents\"][0], results[\"metadatas\"][0]):\n",
    "                context_strings.append(f\"Document: {doc}\\nMetadata: {meta}\")\n",
    "        return \"\\n\\n\".join(context_strings) if context_strings else \"No relevant documents found\"\n",
    "    \n",
    "    def get_weather_data(self, location: str) -> str:\n",
    "        \"\"\"Simulates retrieving weather data for a given location.\"\"\"\n",
    "        if not location:\n",
    "            return \"\"\n",
    "            \n",
    "        location_key = location.lower()\n",
    "        if location_key in self.weather_database:\n",
    "            data = self.weather_database[location_key]\n",
    "            return f\"Weather for {location.title()}:\\n\" \\\n",
    "                   f\"Temperature: {data['temperature']}°F\\n\" \\\n",
    "                   f\"Condition: {data['condition']}\\n\" \\\n",
    "                   f\"Humidity: {data['humidity']}%\\n\" \\\n",
    "                   f\"Wind: {data['wind']}\"\n",
    "        else:\n",
    "            return f\"No weather data available for {location}.\"\n",
    "    \n",
    "    def get_unified_context(self, query: str, location: str = None) -> str:\n",
    "        \"\"\"Returns a unified context combining both document retrieval and weather data.\"\"\"\n",
    "        retrieval_context = self.get_retrieval_context(query)\n",
    "        \n",
    "        weather_context = \"\"\n",
    "        if location:\n",
    "            weather_context = self.get_weather_data(location)\n",
    "            weather_intro = f\"\\nWeather Information for {location}:\\n\"\n",
    "        else:\n",
    "            weather_intro = \"\"\n",
    "        \n",
    "        return f\"Retrieved Context:\\n{retrieval_context}\\n\\n{weather_intro}{weather_context}\""
   ]
  },
  {
   "cell_type": "markdown",
   "metadata": {},
   "source": [
    "## Configuration de l'agent\n",
    "\n",
    "Nous configurons les agents de recherche et d'assistance. L'agent de recherche est spécialisé dans la recherche d'informations pertinentes en utilisant la recherche sémantique, tandis que l'assistant génère des réponses détaillées basées sur les informations récupérées.\n"
   ]
  },
  {
   "cell_type": "code",
   "execution_count": 7,
   "metadata": {},
   "outputs": [],
   "source": [
    "# Create agents with enhanced capabilities\n",
    "assistant = AssistantAgent(\n",
    "    name=\"assistant\",\n",
    "    model_client=client,\n",
    "    system_message=(\n",
    "        \"You are a helpful AI assistant that provides answers using ONLY the provided context. \"\n",
    "        \"Do NOT include any external information. Base your answer entirely on the context given below.\"\n",
    "    ),\n",
    ")"
   ]
  },
  {
   "cell_type": "markdown",
   "metadata": {},
   "source": [
    "## Traitement des requêtes avec RAG\n",
    "\n",
    "Nous définissons la fonction `ask_rag` pour envoyer la requête à l'assistant, traiter la réponse et l'évaluer. Cette fonction gère l'interaction avec l'assistant et utilise l'évaluateur pour mesurer la qualité de la réponse.\n"
   ]
  },
  {
   "cell_type": "code",
   "execution_count": 8,
   "metadata": {},
   "outputs": [],
   "source": [
    "async def ask_rag_agent(query: str, context_provider: ContextProvider, location: str = None):\n",
    "    \"\"\"\n",
    "    Sends a query to the assistant agent with context from the provider.\n",
    "    \n",
    "    Args:\n",
    "        query: The user's question\n",
    "        context_provider: The context provider instance\n",
    "        location: Optional location for weather queries\n",
    "    \"\"\"\n",
    "    try:\n",
    "        # Get unified context\n",
    "        context = context_provider.get_unified_context(query, location)\n",
    "        \n",
    "        # Augment the query with context\n",
    "        augmented_query = (\n",
    "            f\"{context}\\n\\n\"\n",
    "            f\"User Query: {query}\\n\\n\"\n",
    "            \"Based ONLY on the above context, please provide a helpful answer.\"\n",
    "        )\n",
    "\n",
    "        # Send the augmented query to the assistant\n",
    "        start_time = time.time()\n",
    "        response = await assistant.on_messages(\n",
    "            [TextMessage(content=augmented_query, source=\"user\")],\n",
    "            cancellation_token=CancellationToken(),\n",
    "        )\n",
    "        processing_time = time.time() - start_time\n",
    "        \n",
    "        return {\n",
    "            'query': query,\n",
    "            'response': response.chat_message.content,\n",
    "            'processing_time': processing_time,\n",
    "            'location': location\n",
    "        }\n",
    "    except Exception as e:\n",
    "        print(f\"Error processing query: {e}\")\n",
    "        return None"
   ]
  },
  {
   "cell_type": "markdown",
   "metadata": {},
   "source": [
    "# Exemple d'utilisation\n",
    "\n",
    "Nous initialisons l'évaluateur et définissons les requêtes que nous souhaitons traiter et évaluer.\n"
   ]
  },
  {
   "cell_type": "code",
   "execution_count": null,
   "metadata": {},
   "outputs": [],
   "source": [
    "async def main():\n",
    "    # Initialize context provider\n",
    "    context_provider = ContextProvider(collection)\n",
    "    \n",
    "    # Example queries\n",
    "    queries = [\n",
    "        {\"query\": \"What does Contoso's travel insurance cover?\"},\n",
    "        {\"query\": \"What's the weather like in London?\", \"location\": \"london\"},\n",
    "        {\"query\": \"What luxury destinations does Contoso offer and what's the weather in Paris?\", \"location\": \"paris\"},\n",
    "    ]\n",
    "    \n",
    "    print(\"=== Autogen RAG Demo ===\")\n",
    "    for query_data in queries:\n",
    "        query = query_data[\"query\"]\n",
    "        location = query_data.get(\"location\")\n",
    "        \n",
    "        print(f\"\\n\\nQuery: {query}\")\n",
    "        if location:\n",
    "            print(f\"Location: {location}\")\n",
    "        \n",
    "        # Show the context being used\n",
    "        context = context_provider.get_unified_context(query, location)\n",
    "        print(\"\\n--- Context Used ---\")\n",
    "        print(context)\n",
    "        print(\"-------------------\")\n",
    "        \n",
    "        # Get response from the agent\n",
    "        result = await ask_rag_agent(query, context_provider, location)\n",
    "        if result:\n",
    "            print(f\"\\nResponse: {result['response']}\")\n",
    "        print(\"\\n\" + \"=\"*50)"
   ]
  },
  {
   "cell_type": "markdown",
   "metadata": {},
   "source": [
    "## Exécuter le script\n",
    "\n",
    "Nous vérifions si le script s'exécute dans un environnement interactif ou comme un script standard, et nous exécutons la fonction principale en conséquence.\n"
   ]
  },
  {
   "cell_type": "code",
   "execution_count": 12,
   "metadata": {},
   "outputs": [
    {
     "name": "stdout",
     "output_type": "stream",
     "text": [
      "=== Autogen RAG Demo ===\n",
      "\n",
      "\n",
      "Query: What does Contoso's travel insurance cover?\n",
      "\n",
      "--- Context Used ---\n",
      "Retrieved Context:\n",
      "Document: Contoso's travel insurance covers medical emergencies, trip cancellations, and lost baggage.\n",
      "Metadata: {'source': 'training', 'type': 'explanation'}\n",
      "\n",
      "Document: Contoso Travel offers luxury vacation packages to exotic destinations worldwide.\n",
      "Metadata: {'source': 'training', 'type': 'explanation'}\n",
      "\n",
      "\n",
      "-------------------\n",
      "\n",
      "Response: Contoso's travel insurance covers medical emergencies, trip cancellations, and lost baggage.\n",
      "\n",
      "==================================================\n",
      "\n",
      "\n",
      "Query: What's the weather like in London?\n",
      "Location: london\n",
      "\n",
      "--- Context Used ---\n",
      "Retrieved Context:\n",
      "Document: Popular destinations include the Maldives, Swiss Alps, and African safaris.\n",
      "Metadata: {'source': 'training', 'type': 'explanation'}\n",
      "\n",
      "Document: Contoso Travel offers luxury vacation packages to exotic destinations worldwide.\n",
      "Metadata: {'source': 'training', 'type': 'explanation'}\n",
      "\n",
      "\n",
      "Weather Information for london:\n",
      "Weather for London:\n",
      "Temperature: 60°F\n",
      "Condition: Rainy\n",
      "Humidity: 80%\n",
      "Wind: 15 mph\n",
      "-------------------\n",
      "\n",
      "Response: The weather in London is rainy with a temperature of 60°F, 80% humidity, and winds at 15 mph.\n",
      "\n",
      "==================================================\n",
      "\n",
      "\n",
      "Query: What luxury destinations does Contoso offer and what's the weather in Paris?\n",
      "Location: paris\n",
      "\n",
      "--- Context Used ---\n",
      "Retrieved Context:\n",
      "Document: Contoso Travel offers luxury vacation packages to exotic destinations worldwide.\n",
      "Metadata: {'source': 'training', 'type': 'explanation'}\n",
      "\n",
      "Document: Contoso Travel provides exclusive access to boutique hotels and private guided tours.\n",
      "Metadata: {'source': 'training', 'type': 'explanation'}\n",
      "\n",
      "\n",
      "Weather Information for paris:\n",
      "Weather for Paris:\n",
      "Temperature: 68°F\n",
      "Condition: Cloudy\n",
      "Humidity: 70%\n",
      "Wind: 8 mph\n",
      "-------------------\n",
      "\n",
      "Response: Contoso Travel offers luxury vacation packages to exotic destinations worldwide and provides exclusive access to boutique hotels and private guided tours. The weather in Paris is cloudy with a temperature of 68°F, 70% humidity, and winds at 8 mph.\n",
      "\n",
      "==================================================\n"
     ]
    }
   ],
   "source": [
    "if __name__ == \"__main__\":\n",
    "    if asyncio.get_event_loop().is_running():\n",
    "        await main()\n",
    "    else:\n",
    "        asyncio.run(main())"
   ]
  },
  {
   "cell_type": "markdown",
   "metadata": {},
   "source": [
    "\n---\n\n**Avertissement** :  \nCe document a été traduit à l'aide du service de traduction automatique [Co-op Translator](https://github.com/Azure/co-op-translator). Bien que nous nous efforcions d'assurer l'exactitude, veuillez noter que les traductions automatisées peuvent contenir des erreurs ou des inexactitudes. Le document original dans sa langue d'origine doit être considéré comme la source faisant autorité. Pour des informations critiques, il est recommandé de recourir à une traduction professionnelle réalisée par un humain. Nous déclinons toute responsabilité en cas de malentendus ou d'interprétations erronées résultant de l'utilisation de cette traduction.\n"
   ]
  }
 ],
 "metadata": {
  "kernelspec": {
   "display_name": "venv",
   "language": "python",
   "name": "python3"
  },
  "language_info": {
   "codemirror_mode": {
    "name": "ipython",
    "version": 3
   },
   "file_extension": ".py",
   "mimetype": "text/x-python",
   "name": "python",
   "nbconvert_exporter": "python",
   "pygments_lexer": "ipython3",
   "version": "3.12.4"
  },
  "coopTranslator": {
   "original_hash": "a714e0f4483c8856928f93e51a68c799",
   "translation_date": "2025-08-28T10:29:18+00:00",
   "source_file": "05-agentic-rag/code_samples/05-autogen-chromadb.ipynb",
   "language_code": "fr"
  }
 },
 "nbformat": 4,
 "nbformat_minor": 2
}