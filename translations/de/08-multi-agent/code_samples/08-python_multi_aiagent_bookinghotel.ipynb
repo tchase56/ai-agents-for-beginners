{
 "cells": [
  {
   "cell_type": "markdown",
   "metadata": {},
   "source": [
    "## **Beispiele: Multi-AI-Agenten für die Hotelbuchung**\n",
    "\n",
    "In der heutigen schnelllebigen Welt umfasst die Planung einer Geschäftsreise weit mehr als nur das Buchen eines Fluges und eines Hotelzimmers. Es erfordert ein Maß an Koordination und Effizienz, das oft schwer zu erreichen ist. Hier kommen Multi-AI-Agenten ins Spiel, die die Art und Weise, wie wir unsere Reisebedürfnisse organisieren, revolutionieren.\n",
    "\n",
    "Stellen Sie sich vor, Sie hätten ein Team intelligenter Agenten zur Verfügung, die zusammenarbeiten, um jeden Aspekt Ihrer Reise mit Präzision und Leichtigkeit zu bewältigen. Mit unserer fortschrittlichen KI-Technologie haben wir spezialisierte Agenten für Buchungsdienste und Reiseplan-Arrangements entwickelt, die ein nahtloses und stressfreies Reiseerlebnis gewährleisten.\n",
    "\n",
    "Dies ist ein grundlegendes Szenario. Bei der Planung einer Geschäftsreise müssen wir uns mit einem Geschäftsreiseberater abstimmen, um Informationen zu Flugtickets, Hotels usw. zu erhalten. Mithilfe von KI-Agenten können wir Agenten für Buchungsdienste und Agenten für Reiseplan-Arrangements erstellen, die zusammenarbeiten und das Intelligenzniveau verbessern.\n"
   ]
  },
  {
   "cell_type": "markdown",
   "metadata": {},
   "source": [
    "# Initialisieren Sie den Azure AI Agent Service und holen Sie sich Konfigurationsinformationen aus **.env**\n",
    "\n",
    "### **.env**\n",
    "\n",
    "Erstellen Sie eine .env-Datei\n",
    "\n",
    "Die **.env**-Datei enthält die Verbindungszeichenfolge des Azure AI Agent Service, das von AOAI verwendete Modell sowie den entsprechenden Google API Search Service API, ENDPOINT usw.\n",
    "\n",
    "- **AZURE_AI_AGENT_MODEL_DEPLOYMENT_NAME** = \"Ihr Azure AI Agent Service Model Deployment Name\"\n",
    "\n",
    "[**NOTE**] Sie benötigen ein Modell mit einem Rate Limit von 100.000 (Tokens pro Minute) und einem Rate Limit von 600 (Anfragen pro Minute).\n",
    "\n",
    "  Sie können das Modell in Azure AI Foundry - Model and Endpoint erhalten.\n",
    "\n",
    "- **AZURE_AI_AGENT_PROJECT_CONNECTION_STRING** = \"Ihre Azure AI Agent Service Project Connection String\"\n",
    "\n",
    "  Sie können die Verbindungszeichenfolge des Projekts in der Projektübersicht im AI Foundry Portal-Bildschirm abrufen.\n",
    "\n",
    "- **SERPAPI_SEARCH_API_KEY** = \"Ihr SERPAPI Search API KEY\"\n",
    "- **SERPAPI_SEARCH_ENDPOINT** = \"Ihr SERPAPI Search Endpoint\"\n",
    "\n",
    "Um den Model Deployment Name und die Project Connection String des Azure AI Agent Service zu erhalten, müssen Sie den Azure AI Agent Service erstellen. Es wird empfohlen, [diese Vorlage](https://portal.azure.com/#create/Microsoft.Template/uri/https%3A%2F%2Fraw.githubusercontent.com%2Ffosteramanda%2Fazure-agent-quickstart-templates%2Frefs%2Fheads%2Fmaster%2Fquickstarts%2Fmicrosoft.azure-ai-agent-service%2Fstandard-agent%2Fazuredeploy.json) zu verwenden, um ihn direkt zu erstellen. （***Hinweis:*** Der Azure AI Agent Service ist derzeit auf eine begrenzte Region festgelegt. Es wird empfohlen, [diesen Link](https://learn.microsoft.com/en-us/azure/ai-services/agents/concepts/model-region-support) zu konsultieren, um die Region festzulegen.)\n",
    "\n",
    "Der Agent muss auf SERPAPI zugreifen. Es wird empfohlen, sich über [diesen Link](https://serpapi.com/searches) zu registrieren. Nach der Registrierung können Sie einen eindeutigen API KEY und ENDPOINT erhalten.\n"
   ]
  },
  {
   "cell_type": "markdown",
   "metadata": {},
   "source": [
    "# Anmeldung bei Azure\n",
    "\n",
    "Jetzt müssen Sie sich bei Azure anmelden. Öffnen Sie ein Terminal in VScode und führen Sie den Befehl `az login` aus.\n"
   ]
  },
  {
   "cell_type": "markdown",
   "metadata": {},
   "source": [
    "# Einrichtung\n",
    "\n",
    "Um dieses Notebook auszuführen, müssen die folgenden Bibliotheken installiert werden. Hier ist eine Liste der benötigten Bibliotheken und die entsprechenden pip-Installationsbefehle:\n",
    "\n",
    "azure-identity: Für die Azure-Authentifizierung.  \n",
    "requests: Zum Ausführen von HTTP-Anfragen.  \n",
    "semantic-kernel: Für das Semantic-Kernel-Framework (angenommen, dies ist eine benutzerdefinierte oder spezifische Bibliothek, die möglicherweise aus einer bestimmten Quelle oder einem Repository installiert werden muss).  \n"
   ]
  },
  {
   "cell_type": "code",
   "execution_count": null,
   "metadata": {},
   "outputs": [],
   "source": [
    "!pip install azure-identity\n",
    "!pip install requests\n",
    "!pip install semantic-kernel\n",
    "!pip install --upgrade semantic_kernel\n",
    "!pip install azure-cli"
   ]
  },
  {
   "cell_type": "markdown",
   "metadata": {},
   "source": [
    "# Erklärung: \n",
    "import asyncio: Dies importiert das asyncio-Modul, das Unterstützung für asynchrones Programmieren in Python bietet. Es ermöglicht Ihnen, nebenläufigen Code mit der async- und await-Syntax zu schreiben.  \n",
    "from typing import Annotated: Dies importiert den Annotated-Typ aus dem typing-Modul. Annotated wird verwendet, um Metadaten zu Typ-Hinweisen hinzuzufügen, was für verschiedene Zwecke wie Validierung, Dokumentation oder Tools nützlich sein kann.\n"
   ]
  },
  {
   "cell_type": "code",
   "execution_count": null,
   "metadata": {
    "dotnet_interactive": {
     "language": "csharp"
    },
    "polyglot_notebook": {
     "kernelName": "csharp"
    }
   },
   "outputs": [],
   "source": [
    "import asyncio,os\n",
    "from typing import Annotated"
   ]
  },
  {
   "cell_type": "markdown",
   "metadata": {},
   "source": [
    "# Erklärung:\n",
    "Durch die Verwendung von from dotenv import load_dotenv und load_dotenv() kannst du Konfigurationseinstellungen und sensible Informationen (wie API-Schlüssel und Datenbank-URLs) bequem in einer .env-Datei verwalten. Dadurch bleiben sie getrennt vom Quellcode, was deine Anwendung sicherer und einfacher zu konfigurieren macht.\n"
   ]
  },
  {
   "cell_type": "code",
   "execution_count": null,
   "metadata": {},
   "outputs": [],
   "source": [
    "import os\n",
    "from dotenv import load_dotenv\n",
    "\n",
    "# Load environment variables from .env file\n",
    "load_dotenv()"
   ]
  },
  {
   "cell_type": "markdown",
   "metadata": {},
   "source": [
    "# Erklärung:\n",
    "\n",
    "Importanweisung: from azure.identity.aio import DefaultAzureCredential: Diese Anweisung importiert die Klasse DefaultAzureCredential aus dem Modul azure.identity.aio. Der Teil aio im Modulnamen zeigt an, dass es für asynchrone Operationen entwickelt wurde.\n",
    "\n",
    "Zweck von DefaultAzureCredential: Die Klasse DefaultAzureCredential ist Teil des Azure SDK für Python. Sie bietet eine standardisierte Methode zur Authentifizierung bei Azure-Diensten. Sie versucht, sich in einer bestimmten Reihenfolge über verschiedene Methoden zu authentifizieren, wie z. B. Umgebungsvariablen, verwaltete Identitäten und Azure CLI-Anmeldedaten.\n",
    "\n",
    "Asynchrone Operationen: Das Modul aio zeigt an, dass die Klasse DefaultAzureCredential asynchrone Operationen unterstützt. Das bedeutet, dass Sie es mit asyncio verwenden können, um nicht-blockierende Authentifizierungsanfragen durchzuführen.\n"
   ]
  },
  {
   "cell_type": "code",
   "execution_count": null,
   "metadata": {
    "dotnet_interactive": {
     "language": "csharp"
    },
    "polyglot_notebook": {
     "kernelName": "csharp"
    }
   },
   "outputs": [],
   "source": [
    "from azure.identity.aio import DefaultAzureCredential"
   ]
  },
  {
   "cell_type": "markdown",
   "metadata": {},
   "source": [
    "# Erklärung:\n",
    "Importiert verschiedene Module und Klassen aus dem Paket semantic_kernel. Hier ist eine Aufschlüsselung der einzelnen Importe:\n",
    "\n",
    "AgentGroupChat aus semantic_kernel.agents: Diese Klasse verwaltet Funktionen im Zusammenhang mit Gruppenchats für KI-Agenten. AzureAIAgent und AzureAIAgentSettings aus semantic_kernel.agents.azure_ai:\n",
    "\n",
    "AzureAIAgent: Diese Klasse wird verwendet, um KI-Agenten zu erstellen und zu verwalten, die Azure AI-Dienste nutzen.\n",
    "\n",
    "AzureAIAgentSettings: Diese Klasse wird verwendet, um Einstellungen für den AzureAIAgent zu konfigurieren. TerminationStrategy aus semantic_kernel.agents.strategies.termination.termination_strategy:\n",
    "\n",
    "Diese Klasse definiert Strategien, um die Ausführung von KI-Agenten unter bestimmten Bedingungen zu beenden. ChatMessageContent aus semantic_kernel.contents.chat_message_content:\n",
    "\n",
    "Diese Klasse wird verwendet, um den Inhalt von Chatnachrichten zu verwalten.\n",
    "AuthorRole aus semantic_kernel.contents.utils.author_role:\n",
    "\n",
    "Diese Klasse definiert verschiedene Rollen für Autoren im Kontext von Chatnachrichten.\n",
    "\n",
    "kernel_function aus semantic_kernel.functions.kernel_function_decorator: Dieser Dekorator wird verwendet, um Kernel-Funktionen zu definieren, also Funktionen, die innerhalb des semantic kernel-Frameworks ausgeführt werden können.\n",
    "Diese Importe richten die notwendigen Komponenten ein, um KI-Agenten zu erstellen und zu verwalten, die in einer Gruppenchatumgebung interagieren können, möglicherweise für Aufgaben wie das Buchen von Hotels oder ähnliche Aktivitäten.\n"
   ]
  },
  {
   "cell_type": "code",
   "execution_count": null,
   "metadata": {
    "dotnet_interactive": {
     "language": "csharp"
    },
    "polyglot_notebook": {
     "kernelName": "csharp"
    }
   },
   "outputs": [],
   "source": [
    "from semantic_kernel.agents import AgentGroupChat\n",
    "from semantic_kernel.agents import AzureAIAgent, AzureAIAgentSettings\n",
    "from semantic_kernel.agents.strategies.termination.termination_strategy import TerminationStrategy\n",
    "from semantic_kernel.contents import ChatMessageContent\n",
    "from semantic_kernel.contents import AuthorRole\n",
    "from semantic_kernel.functions.kernel_function_decorator import kernel_function"
   ]
  },
  {
   "cell_type": "markdown",
   "metadata": {},
   "source": [
    "# Erklärung:\n",
    "Als Nächstes importieren wir die Klasse CodeInterpreterTool aus dem Modul azure.ai.projects.models.\n",
    "\n",
    "CodeInterpreterTool: Diese Klasse ist Teil des Azure AI SDK und wird verwendet, um Code im Kontext von KI-Projekten zu interpretieren und auszuführen. Sie bietet Funktionen zum Ausführen von Code-Snippets, Analysieren von Code oder zur Integration der Codeausführung in KI-Workflows.  \n",
    "Dieser Import richtet die notwendige Komponente ein, um das CodeInterpreterTool in Ihrem Projekt zu nutzen, was für Aufgaben nützlich sein kann, die das dynamische Interpretieren und Ausführen von Code erfordern.\n"
   ]
  },
  {
   "cell_type": "code",
   "execution_count": null,
   "metadata": {
    "dotnet_interactive": {
     "language": "csharp"
    },
    "polyglot_notebook": {
     "kernelName": "csharp"
    }
   },
   "outputs": [],
   "source": [
    "from azure.ai.projects.models import CodeInterpreterTool"
   ]
  },
  {
   "cell_type": "markdown",
   "metadata": {},
   "source": [
    "# Erklärung: \n",
    "Die Klasse ApprovalTerminationStrategy bietet eine spezifische Strategie zum Beenden der Operation eines KI-Agenten. Der Agent wird beendet, wenn die letzte Nachricht in seiner Interaktionshistorie das Wort \"saved\" enthält. Dies könnte in Szenarien nützlich sein, in denen die Aufgabe des Agenten als abgeschlossen gilt, sobald er eine Bestätigung erhält, dass etwas \"saved\" wurde. Definieren Sie die Interaktionsmethode. Nachdem der Reservierungsplan gespeichert wurde, kann er gestoppt werden, wenn das Signal \"saved\" empfangen wird.\n"
   ]
  },
  {
   "cell_type": "code",
   "execution_count": null,
   "metadata": {
    "dotnet_interactive": {
     "language": "csharp"
    },
    "polyglot_notebook": {
     "kernelName": "csharp"
    }
   },
   "outputs": [],
   "source": [
    "class ApprovalTerminationStrategy(TerminationStrategy):\n",
    "    \"\"\"A strategy for determining when an agent should terminate.\"\"\"\n",
    "\n",
    "    async def should_agent_terminate(self, agent, history):\n",
    "        \"\"\"Check if the agent should terminate.\"\"\"\n",
    "        return \"saved\" in history[-1].content.lower()"
   ]
  },
  {
   "cell_type": "markdown",
   "metadata": {},
   "source": [
    "# Erklärung:\n",
    "\n",
    "Die Codezeile initialisiert ein AzureAIAgentSettings-Objekt mit Standard- oder vordefinierten Einstellungen, indem die create()-Methode aufgerufen wird. Dieses Einstellungsobjekt (ai_agent_settings) kann anschließend verwendet werden, um eine AzureAIAgent-Instanz zu konfigurieren und zu verwalten.\n"
   ]
  },
  {
   "cell_type": "code",
   "execution_count": null,
   "metadata": {
    "dotnet_interactive": {
     "language": "csharp"
    },
    "polyglot_notebook": {
     "kernelName": "csharp"
    }
   },
   "outputs": [],
   "source": [
    "ai_agent_settings = AzureAIAgentSettings.create()"
   ]
  },
  {
   "cell_type": "markdown",
   "metadata": {},
   "source": [
    "# Erklärung:\n",
    "Durch das Importieren der Bibliothek requests können Sie ganz einfach HTTP-Anfragen stellen und mit Webdiensten in Ihrem Python-Code interagieren.\n"
   ]
  },
  {
   "cell_type": "code",
   "execution_count": null,
   "metadata": {
    "dotnet_interactive": {
     "language": "csharp"
    },
    "polyglot_notebook": {
     "kernelName": "csharp"
    }
   },
   "outputs": [],
   "source": [
    "import requests"
   ]
  },
  {
   "cell_type": "markdown",
   "metadata": {},
   "source": [
    "# Erklärung:\n",
    "Dies ist eine Variable, die den API-Schlüssel für den Zugriff auf einen SERP (Search Engine Results Page) API-Dienst speichert. Ein API-Schlüssel ist ein eindeutiger Identifikator, der verwendet wird, um Anfragen zu authentifizieren, die mit Ihrem Konto verknüpft sind.\n",
    "\n",
    "'GOOGLE_SEARCH_API_KEY': Dies ist ein Platzhalter-String. Sie müssen ''GOOGLE_SEARCH_API_KEY' durch Ihren tatsächlichen SERP API-Schlüssel ersetzen.\n",
    "\n",
    "Zweck: Der Zweck dieser Zeile ist es, den API-Schlüssel in einer Variable zu speichern, damit er verwendet werden kann, um Anfragen an den SERP API-Dienst zu authentifizieren. Der API-Schlüssel ist erforderlich, um auf den Dienst zuzugreifen und Suchanfragen durchzuführen.\n",
    "\n",
    "So erhalten Sie einen SERP API-Schlüssel: Um einen SERP API-Schlüssel zu erhalten, folgen Sie diesen allgemeinen Schritten unter https://serpapi.com (die genauen Schritte können je nach dem spezifischen SERP API-Dienst, den Sie verwenden, variieren):\n",
    "\n",
    "Wählen Sie einen SERP API-Dienst: Es gibt mehrere SERP API-Dienste, wie SerpAPI, Google Custom Search JSON API und andere. Wählen Sie denjenigen aus, der am besten zu Ihren Anforderungen passt.\n",
    "\n",
    "Registrieren Sie sich für ein Konto:\n",
    "\n",
    "Gehen Sie auf die Website des gewählten SERP API-Dienstes https://www.serpapi.com und registrieren Sie sich für ein Konto. Möglicherweise müssen Sie einige grundlegende Informationen angeben und Ihre E-Mail-Adresse verifizieren.\n",
    "\n",
    "Erstellen Sie einen API-Schlüssel:\n",
    "\n",
    "Nachdem Sie sich registriert haben, melden Sie sich in Ihrem Konto an und navigieren Sie zum API-Bereich oder Dashboard. Suchen Sie nach einer Option, um einen neuen API-Schlüssel zu erstellen oder zu generieren.\n",
    "Kopieren Sie den API-Schlüssel:\n",
    "\n",
    "Sobald der API-Schlüssel generiert wurde, kopieren Sie ihn. Dieser Schlüssel wird verwendet, um Ihre Anfragen an den SERP API-Dienst zu authentifizieren.\n",
    "Ersetzen Sie den Platzhalter:\n",
    "\n",
    "Ersetzen Sie den Platzhalter in Ihrer .env-Datei.\n"
   ]
  },
  {
   "cell_type": "code",
   "execution_count": null,
   "metadata": {
    "dotnet_interactive": {
     "language": "csharp"
    },
    "polyglot_notebook": {
     "kernelName": "csharp"
    }
   },
   "outputs": [],
   "source": [
    "SERPAPI_SEARCH_API_KEY=os.getenv('SERPAPI_SEARCH_API_KEY')"
   ]
  },
  {
   "cell_type": "code",
   "execution_count": null,
   "metadata": {
    "dotnet_interactive": {
     "language": "csharp"
    },
    "polyglot_notebook": {
     "kernelName": "csharp"
    }
   },
   "outputs": [],
   "source": [
    "SERPAPI_SEARCH_ENDPOINT = os.getenv('SERPAPI_SEARCH_ENDPOINT')"
   ]
  },
  {
   "cell_type": "markdown",
   "metadata": {},
   "source": [
    "# Erklärung:\n",
    "Die BookingPlugin-Klasse bietet Methoden zur Buchung von Hotels und Flügen mithilfe der Serpapi.com Google Search API. Sie erstellt die erforderlichen Parameter, sendet API-Anfragen und verarbeitet die Antworten, um relevante Buchungsinformationen zurückzugeben. Der API-Schlüssel (SERPAPI_SEARCH_API_KEY) und der Endpunkt (SERPAPI_SEARCH_ENDPOINT) werden verwendet, um die Authentifizierung durchzuführen und Anfragen an die Google Search API zu senden.\n"
   ]
  },
  {
   "cell_type": "code",
   "execution_count": null,
   "metadata": {
    "dotnet_interactive": {
     "language": "csharp"
    },
    "polyglot_notebook": {
     "kernelName": "csharp"
    }
   },
   "outputs": [],
   "source": [
    "# Define Booking Plugin\n",
    "class BookingPlugin:\n",
    "    \"\"\"Booking Plugin for customers\"\"\"\n",
    "    @kernel_function(description=\"booking hotel\")\n",
    "    def booking_hotel(self,query: Annotated[str, \"The name of the city\"], check_in_date: Annotated[str, \"Hotel Check-in Time\"], check_out_date: Annotated[str, \"Hotel Check-in Time\"])-> Annotated[str, \"Return the result of booking hotel infomation\"]:\n",
    "\n",
    "        params = {\n",
    "            \"engine\": \"google_hotels\",\n",
    "            \"q\": query,\n",
    "            \"check_in_date\": check_in_date,\n",
    "            \"check_out_date\": check_out_date,\n",
    "            \"adults\": \"2\",\n",
    "            \"currency\": \"USD\",\n",
    "            \"gl\": \"us\",\n",
    "            \"hl\": \"en\",\n",
    "            \"api_key\": SERPAPI_SEARCH_API_KEY\n",
    "        }\n",
    "\n",
    "        response = requests.get(SERPAPI_SEARCH_ENDPOINT, params=params)\n",
    "        if response.status_code == 200:\n",
    "            response = response.json()\n",
    "            return response[\"properties\"]\n",
    "        else:\n",
    "            return None\n",
    "\n",
    "    \n",
    "    @kernel_function(description=\"booking fight\")\n",
    "    def  booking_fight(self,origin: Annotated[str, \"The name of Departure\"], destination: Annotated[str, \"The name of Destination\"], outbound_date: Annotated[str, \"The date of outbound\"], return_date: Annotated[str, \"The date of Return_date\"])-> Annotated[str, \"Return the result of booking fight infomation\"]:\n",
    "        \n",
    "        go_params = {\n",
    "            \"engine\": \"google_flights\",   \n",
    "            \"departure_id\": origin,\n",
    "            \"arrival_id\": destination,\n",
    "            \"outbound_date\": outbound_date,\n",
    "            \"return_date\": return_date,  \n",
    "            \"currency\": \"USD\",\n",
    "            \"hl\": \"en\",\n",
    "            \"api_key\": SERPAPI_SEARCH_API_KEY  \n",
    "        }\n",
    "\n",
    "        print(go_params)\n",
    "\n",
    "        go_response = requests.get(SERPAPI_SEARCH_ENDPOINT, params=go_params)\n",
    "\n",
    "\n",
    "        result = ''\n",
    "\n",
    "        if go_response.status_code == 200:\n",
    "            response = go_response.json()\n",
    "\n",
    "            result += \"# outbound \\n \" + str(response)\n",
    "        else:\n",
    "            print('error!!!')\n",
    "            # return None\n",
    "\n",
    "        \n",
    "        back_params = {\n",
    "            \"engine\": \"google_flights\",   \n",
    "            \"departure_id\": destination,\n",
    "            \"arrival_id\": origin,\n",
    "            \"outbound_date\": return_date,\n",
    "            \"return_date\": return_date,  \n",
    "            \"currency\": \"USD\",\n",
    "            \"hl\": \"en\",\n",
    "            \"api_key\": SERPAPI_SEARCH_API_KEY  \n",
    "        }\n",
    "\n",
    "\n",
    "        print(back_params)\n",
    "\n",
    "\n",
    "        back_response = requests.get(SERPAPI_SEARCH_ENDPOINT, params=back_params)\n",
    "\n",
    "\n",
    "\n",
    "        if back_response.status_code == 200:\n",
    "            response = back_response.json()\n",
    "\n",
    "            result += \"\\n # return \\n\"  + str(response)\n",
    "\n",
    "        else:\n",
    "            print('error!!!')\n",
    "            # return None\n",
    "        \n",
    "        print(result)\n",
    "\n",
    "        return result\n",
    "\n",
    "        \n"
   ]
  },
  {
   "cell_type": "markdown",
   "metadata": {},
   "source": [
    "# Erklärung:\n",
    "Die SavePlugin-Klasse bietet eine Methode namens saving_plan, um Reisepläne mithilfe von Azure AI-Diensten zu speichern. Sie richtet Azure-Anmeldedaten ein, erstellt einen AI-Agenten, verarbeitet Benutzereingaben, um den Inhalt des Reiseplans zu generieren und zu speichern, und kümmert sich um Datei-Speicher- und Bereinigungsoperationen. Die Methode gibt \"Gespeichert\" zurück, wenn sie erfolgreich abgeschlossen wurde.\n"
   ]
  },
  {
   "cell_type": "code",
   "execution_count": null,
   "metadata": {
    "dotnet_interactive": {
     "language": "csharp"
    },
    "polyglot_notebook": {
     "kernelName": "csharp"
    }
   },
   "outputs": [],
   "source": [
    "class SavePlugin:\n",
    "    \"\"\"Save Plugin for customers\"\"\"\n",
    "    @kernel_function(description=\"saving plan\")\n",
    "    async def saving_plan(self,tripplan: Annotated[str, \"The content of trip plan\"])-> Annotated[str, \"Return status of save content\"]:\n",
    "\n",
    "        async with (\n",
    "            DefaultAzureCredential() as creds,\n",
    "            AzureAIAgent.create_client(\n",
    "                credential=creds,\n",
    "                conn_str=ai_agent_settings.project_connection_string.get_secret_value(),\n",
    "            ) as client,\n",
    "        ):\n",
    "\n",
    "            code_interpreter = CodeInterpreterTool()\n",
    "            \n",
    "            agent_definition = await client.agents.create_agent(\n",
    "                model=ai_agent_settings.model_deployment_name,\n",
    "                tools=code_interpreter.definitions,\n",
    "                tool_resources=code_interpreter.resources,\n",
    "            )\n",
    "\n",
    "\n",
    "            agent = AzureAIAgent(\n",
    "                client=client,\n",
    "                definition=agent_definition,\n",
    "            )\n",
    "\n",
    "            thread = await client.agents.create_thread()\n",
    "\n",
    "\n",
    "            user_inputs = [\n",
    "                \"\"\"\n",
    "            \n",
    "                        You are my Python programming assistant. Generate code,save \"\"\"+ tripplan +\n",
    "                        \n",
    "                    \"\"\"    \n",
    "                        and execute it according to the following requirements\n",
    "\n",
    "                        1. Save blog content to trip-{YYMMDDHHMMSS}.md\n",
    "\n",
    "                        2. give me the download this file link\n",
    "                    \"\"\"\n",
    "            ]\n",
    "\n",
    "\n",
    "\n",
    "            try:\n",
    "                for user_input in user_inputs:\n",
    "                    # Add the user input as a chat message\n",
    "                    await agent.add_chat_message(\n",
    "                        thread_id=thread.id, message=ChatMessageContent(role=AuthorRole.USER, content=user_input)\n",
    "                    )\n",
    "                    print(f\"# User: '{user_input}'\")\n",
    "                    # Invoke the agent for the specified thread\n",
    "                    async for content in agent.invoke(thread_id=thread.id):\n",
    "                        if content.role != AuthorRole.TOOL:\n",
    "                            print(f\"# Agent: {content.content}\")\n",
    "\n",
    "                    \n",
    "                    messages = await client.agents.list_messages(thread_id=thread.id)\n",
    "\n",
    "                    # OpenAIPageableListOfThreadMessage\n",
    "                    # OpenAIPageableListOfThreadMessage\n",
    "\n",
    "\n",
    "                    for file_path_annotation in messages.file_path_annotations:\n",
    "\n",
    "                            file_name = os.path.basename(file_path_annotation.text)\n",
    "\n",
    "                            await client.agents.save_file(file_id=file_path_annotation.file_path.file_id, file_name=file_name,target_dir=\"./trip\")\n",
    "\n",
    "                    \n",
    "            finally:\n",
    "                await client.agents.delete_thread(thread.id)\n",
    "                await client.agents.delete_agent(agent.id)\n",
    "\n",
    "\n",
    "        return \"Saved\""
   ]
  },
  {
   "cell_type": "markdown",
   "metadata": {},
   "source": [
    "# Erklärung:\n",
    "Dieser Code richtet Azure AI-Agenten ein, um Flug- und Hotelbuchungen zu bearbeiten und Reisepläne basierend auf Benutzereingaben zu speichern. Er verwendet Azure-Anmeldedaten, um die Agenten zu erstellen und zu konfigurieren, verarbeitet Benutzereingaben über einen Gruppenchat und sorgt für eine ordnungsgemäße Bereinigung, nachdem die Aufgaben abgeschlossen sind. Die Agenten nutzen spezifische Plugins (BookingPlugin und SavePlugin), um ihre jeweiligen Aufgaben auszuführen.\n"
   ]
  },
  {
   "cell_type": "code",
   "execution_count": null,
   "metadata": {
    "dotnet_interactive": {
     "language": "csharp"
    },
    "polyglot_notebook": {
     "kernelName": "csharp"
    }
   },
   "outputs": [],
   "source": [
    "async with (\n",
    "    DefaultAzureCredential() as creds,\n",
    "    AzureAIAgent.create_client(\n",
    "        credential=creds,\n",
    "        conn_str=ai_agent_settings.project_connection_string.get_secret_value(),\n",
    "    ) as client,\n",
    "):\n",
    "    BOOKING_AGENT_NAME = \"BookingAgent\"\n",
    "    BOOKING_AGENT_INSTRUCTIONS = \"\"\"\n",
    "    You are a booking agent. Help me book flights or hotels.\n",
    "\n",
    "    Thought: Please understand the user's intention and confirm whether to use the reservation system to complete the task.\n",
    "\n",
    "    Actions:\n",
    "    - For flight bookings, convert the departure and destination names into airport codes.\n",
    "    - Use the appropriate API for hotel or flight bookings. Verify that all necessary parameters are available. If any parameters are missing, ask the user to provide them. If all parameters are complete, call the corresponding function.\n",
    "    - If the task is not related to hotel or flight booking, respond with the final answer only.\n",
    "    - Output the results using a markdown table:\n",
    "      - For flight bookings, output separate outbound and return contents in the order of:\n",
    "        Departure Airport | Airline | Flight Number | Departure Time | Arrival Airport | Arrival Time | Duration | Airplane | Travel Class | Price (USD) | Legroom | Extensions | Carbon Emissions (kg).\n",
    "      - For hotel bookings, output in the order of:\n",
    "        Property Name | Property Description | Check-in Time | Check-out Time | Prices | Nearby Places | Hotel Class | GPS Coordinates.\n",
    "    \"\"\"\n",
    "\n",
    "    SAVE_AGENT_NAME = \"SaveAgent\"\n",
    "    SAVE_AGENT_INSTRUCTIONS = \"\"\"\n",
    "    You are a save tool agent. Help me to save the trip plan.\n",
    "    \"\"\"\n",
    "\n",
    "    # Create agent definition\n",
    "    booking_agent_definition = await client.agents.create_agent(\n",
    "        model=ai_agent_settings.model_deployment_name,\n",
    "        name=BOOKING_AGENT_NAME,\n",
    "        instructions=BOOKING_AGENT_INSTRUCTIONS,\n",
    "    )\n",
    "\n",
    "    # Create the AzureAI Agent\n",
    "    booking_agent = AzureAIAgent(\n",
    "        client=client,\n",
    "        definition=booking_agent_definition,\n",
    "        # Optionally configure polling options\n",
    "        # polling_options=RunPollingOptions(run_polling_interval=timedelta(seconds=1)),\n",
    "    )\n",
    "\n",
    "    # Add the sample plugin to the kernel\n",
    "    booking_agent.kernel.add_plugin(BookingPlugin(), plugin_name=\"booking\")\n",
    "\n",
    "    # Create agent definition\n",
    "    save_agent_definition = await client.agents.create_agent(\n",
    "        model=ai_agent_settings.model_deployment_name,\n",
    "        name=SAVE_AGENT_NAME,\n",
    "        instructions=SAVE_AGENT_INSTRUCTIONS\n",
    "    )\n",
    "\n",
    "    # Create the AzureAI Agent\n",
    "    save_agent = AzureAIAgent(\n",
    "        client=client,\n",
    "        definition=save_agent_definition,\n",
    "    )\n",
    "\n",
    "    save_agent.kernel.add_plugin(SavePlugin(), plugin_name=\"saving\")\n",
    "\n",
    "    user_inputs = [\n",
    "        \"I have a business trip from London to New York in Feb 20 2025 to Feb 27 2025 ,help me to book a hotel and fight tickets and save it\"\n",
    "    ]\n",
    "\n",
    "    chat = AgentGroupChat(\n",
    "        agents=[booking_agent, save_agent],\n",
    "        termination_strategy=ApprovalTerminationStrategy(agents=[save_agent], maximum_iterations=10),\n",
    "    )\n",
    "\n",
    "    try:\n",
    "        for user_input in user_inputs:\n",
    "            # Add the user input as a chat message\n",
    "            await chat.add_chat_message(\n",
    "                ChatMessageContent(role=AuthorRole.USER, content=user_input)\n",
    "            )\n",
    "            print(f\"# User: '{user_input}'\")\n",
    "\n",
    "            async for content in chat.invoke():\n",
    "                print(f\"# {content.role} - {content.name or '*'}: '{content.content}'\")\n",
    "\n",
    "            print(f\"# IS COMPLETE: {chat.is_complete}\")\n",
    "\n",
    "            print(\"*\" * 60)\n",
    "            print(\"Chat History (In Descending Order):\\n\")\n",
    "            async for message in chat.get_chat_messages(agent=save_agent):\n",
    "                print(f\"# {message.role} - {message.name or '*'}: '{message.content}'\")\n",
    "    finally:\n",
    "        await chat.reset()\n",
    "        await client.agents.delete_agent(save_agent.id)\n",
    "        await client.agents.delete_agent(booking_agent.id)\n"
   ]
  },
  {
   "cell_type": "markdown",
   "metadata": {},
   "source": [
    "\n---\n\n**Haftungsausschluss**:  \nDieses Dokument wurde mit dem KI-Übersetzungsdienst [Co-op Translator](https://github.com/Azure/co-op-translator) übersetzt. Obwohl wir uns um Genauigkeit bemühen, beachten Sie bitte, dass automatisierte Übersetzungen Fehler oder Ungenauigkeiten enthalten können. Das Originaldokument in seiner ursprünglichen Sprache sollte als maßgebliche Quelle betrachtet werden. Für kritische Informationen wird eine professionelle menschliche Übersetzung empfohlen. Wir übernehmen keine Haftung für Missverständnisse oder Fehlinterpretationen, die sich aus der Nutzung dieser Übersetzung ergeben.\n"
   ]
  }
 ],
 "metadata": {
  "kernelspec": {
   "display_name": "3.12.1",
   "language": "python",
   "name": "python3"
  },
  "language_info": {
   "codemirror_mode": {
    "name": "ipython",
    "version": 3
   },
   "file_extension": ".py",
   "mimetype": "text/x-python",
   "name": "python",
   "nbconvert_exporter": "python",
   "pygments_lexer": "ipython3",
   "version": "3.12.1"
  },
  "polyglot_notebook": {
   "kernelInfo": {
    "defaultKernelName": "csharp",
    "items": [
     {
      "aliases": [],
      "name": "csharp"
     }
    ]
   }
  },
  "coopTranslator": {
   "original_hash": "1baa60020a95eda27b7e9ecfda99965b",
   "translation_date": "2025-08-30T15:37:03+00:00",
   "source_file": "08-multi-agent/code_samples/08-python_multi_aiagent_bookinghotel.ipynb",
   "language_code": "de"
  }
 },
 "nbformat": 4,
 "nbformat_minor": 2
}