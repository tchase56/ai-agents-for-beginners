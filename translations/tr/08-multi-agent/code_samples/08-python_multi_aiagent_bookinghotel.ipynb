{
 "cells": [
  {
   "cell_type": "markdown",
   "metadata": {},
   "source": [
    "## **Örnekler: Otel Rezervasyonu için Çoklu AI Ajanları**\n",
    "\n",
    "Bugünün hızlı tempolu dünyasında, bir iş seyahatini planlamak sadece uçak bileti ve otel odası rezervasyonu yapmaktan ibaret değil. Bu, koordinasyon ve verimlilik gerektirir ve bunu başarmak bazen zor olabilir. İşte burada Çoklu AI Ajanları devreye giriyor ve seyahat ihtiyaçlarımızı yönetme şeklimizi kökten değiştiriyor.\n",
    "\n",
    "Hayal edin, seyahatinizin her yönünü hassasiyet ve kolaylıkla ele alan bir grup zeki ajanın hizmetinizde olduğunu. Gelişmiş AI teknolojimizle, rezervasyon hizmetleri ve seyahat planlaması için özel ajanlar oluşturduk, böylece sorunsuz ve stressiz bir seyahat deneyimi sağlıyoruz.\n",
    "\n",
    "Bu temel bir senaryodur. Bir iş seyahatini planlarken, uçak bileti bilgisi, otel bilgisi gibi detayları almak için bir iş seyahati danışmanına danışmamız gerekir. AI Ajanları sayesinde, rezervasyon hizmetleri için ajanlar ve seyahat planlaması için ajanlar oluşturabilir, iş birliği yapabilir ve zeka seviyesini artırabiliriz.\n"
   ]
  },
  {
   "cell_type": "markdown",
   "metadata": {},
   "source": [
    "# Azure AI Agent Hizmetini Başlatın ve **.env** Dosyasından Yapılandırma Bilgilerini Alın\n",
    "\n",
    "### **.env**\n",
    "\n",
    "Bir .env dosyası oluşturun.\n",
    "\n",
    "**.env**, Azure AI Agent Hizmetinin bağlantı dizesini, AOAI tarafından kullanılan modeli ve ilgili Google API Arama hizmeti API'sini, ENDPOINT vb. içerir.\n",
    "\n",
    "- **AZURE_AI_AGENT_MODEL_DEPLOYMENT_NAME** = \"Azure AI Agent Hizmeti Model Dağıtım Adınız\"\n",
    "\n",
    "[**NOT**] Dakikada 100.000 Jeton (Rate Limit) ve dakikada 600 İstek (Rate Limit) kapasitesine sahip bir modele ihtiyacınız olacak.\n",
    "\n",
    "  Modeli Azure AI Foundry - Model ve Endpoint bölümünden edinebilirsiniz.\n",
    "\n",
    "- **AZURE_AI_AGENT_PROJECT_CONNECTION_STRING** = \"Azure AI Agent Hizmeti Proje Bağlantı Dizeniz\"\n",
    "\n",
    "  Proje bağlantı dizesini, AI Foundry Portal Ekranındaki proje genel bakış bölümünden edinebilirsiniz.\n",
    "\n",
    "- **SERPAPI_SEARCH_API_KEY** = \"SERPAPI Arama API Anahtarınız\"\n",
    "- **SERPAPI_SEARCH_ENDPOINT** = \"SERPAPI Arama Endpoint'iniz\"\n",
    "\n",
    "Azure AI Agent Hizmetinin Model Dağıtım Adını ve Proje Bağlantı Dizesini almak için Azure AI Agent Hizmeti oluşturmanız gerekir. [Bu şablonu](https://portal.azure.com/#create/Microsoft.Template/uri/https%3A%2F%2Fraw.githubusercontent.com%2Ffosteramanda%2Fazure-agent-quickstart-templates%2Frefs%2Fheads%2Fmaster%2Fquickstarts%2Fmicrosoft.azure-ai-agent-service%2Fstandard-agent%2Fazuredeploy.json) kullanarak doğrudan oluşturmanız önerilir. （***Not:*** Azure AI Agent Hizmeti şu anda sınırlı bir bölgede ayarlanmıştır. Bölgeyi ayarlamak için [bu bağlantıya](https://learn.microsoft.com/en-us/azure/ai-services/agents/concepts/model-region-support) başvurmanız önerilir.)\n",
    "\n",
    "Agent'in SERPAPI'ye erişmesi gerekir. [Bu bağlantıyı](https://serpapi.com/searches) kullanarak kaydolmanız önerilir. Kayıt olduktan sonra benzersiz bir API ANAHTARI ve ENDPOINT edinebilirsiniz.\n"
   ]
  },
  {
   "cell_type": "markdown",
   "metadata": {},
   "source": [
    "# Azure'a Giriş Yapma\n",
    "\n",
    "Şimdi Azure'a giriş yapmanız gerekiyor. VScode'da bir terminal açın ve `az login` komutunu çalıştırın.\n"
   ]
  },
  {
   "cell_type": "markdown",
   "metadata": {},
   "source": [
    "# Kurulum\n",
    "\n",
    "Bu not defterini çalıştırmak için aşağıdaki kütüphaneleri yüklemeniz gerekecek. İşte gerekli kütüphanelerin listesi ve ilgili pip yükleme komutları:\n",
    "\n",
    "azure-identity: Azure kimlik doğrulama için.  \n",
    "requests: HTTP istekleri yapmak için.  \n",
    "semantic-kernel: Semantik kernel çerçevesi için (bu özel veya belirli bir kütüphane ise, belirli bir kaynaktan veya depodan yüklemeniz gerekebilir).  \n"
   ]
  },
  {
   "cell_type": "code",
   "execution_count": null,
   "metadata": {},
   "outputs": [],
   "source": [
    "!pip install azure-identity\n",
    "!pip install requests\n",
    "!pip install semantic-kernel\n",
    "!pip install --upgrade semantic_kernel\n",
    "!pip install azure-cli"
   ]
  },
  {
   "cell_type": "markdown",
   "metadata": {},
   "source": [
    "# Açıklama:  \n",
    "import asyncio: Bu, Python'da asenkron programlama desteği sağlayan asyncio modülünü içe aktarır. async ve await sözdizimini kullanarak eşzamanlı kod yazmanıza olanak tanır.  \n",
    "from typing import Annotated: Bu, typing modülünden Annotated türünü içe aktarır. Annotated, tür ipuçlarına meta veri eklemek için kullanılır ve doğrulama, dokümantasyon veya araç geliştirme gibi çeşitli amaçlar için faydalı olabilir.  \n"
   ]
  },
  {
   "cell_type": "code",
   "execution_count": null,
   "metadata": {
    "dotnet_interactive": {
     "language": "csharp"
    },
    "polyglot_notebook": {
     "kernelName": "csharp"
    }
   },
   "outputs": [],
   "source": [
    "import asyncio,os\n",
    "from typing import Annotated"
   ]
  },
  {
   "cell_type": "markdown",
   "metadata": {},
   "source": [
    "# Açıklama:\n",
    "dotenv modülünden load_dotenv'i içe aktararak ve load_dotenv() kullanarak, yapılandırma ayarlarını ve hassas bilgileri (örneğin, API anahtarları ve veritabanı URL'leri) bir .env dosyasında kolayca yönetebilirsiniz. Bu, bu bilgileri kaynak kodunuzdan ayrı tutarak uygulamanızı daha güvenli ve yapılandırması daha kolay hale getirir.\n"
   ]
  },
  {
   "cell_type": "code",
   "execution_count": null,
   "metadata": {},
   "outputs": [],
   "source": [
    "import os\n",
    "from dotenv import load_dotenv\n",
    "\n",
    "# Load environment variables from .env file\n",
    "load_dotenv()"
   ]
  },
  {
   "cell_type": "markdown",
   "metadata": {},
   "source": [
    "# Açıklama:\n",
    "\n",
    "Import İfadesi: from azure.identity.aio import DefaultAzureCredential: Bu ifade, azure.identity.aio modülünden DefaultAzureCredential sınıfını içe aktarır. Modül adındaki \"aio\" kısmı, bu sınıfın asenkron işlemler için tasarlandığını gösterir.\n",
    "\n",
    "DefaultAzureCredential'in Amacı: DefaultAzureCredential sınıfı, Azure SDK for Python'un bir parçasıdır. Azure hizmetleriyle kimlik doğrulaması yapmak için varsayılan bir yöntem sağlar. Çevre değişkenleri, yönetilen kimlik ve Azure CLI kimlik bilgileri gibi belirli bir sırayla birden fazla yöntem kullanarak kimlik doğrulamayı dener.\n",
    "\n",
    "Asenkron İşlemler: \"aio\" modülü, DefaultAzureCredential sınıfının asenkron işlemleri desteklediğini gösterir. Bu, kimlik doğrulama isteklerini engellemeden gerçekleştirmek için asyncio ile kullanılabileceği anlamına gelir.\n"
   ]
  },
  {
   "cell_type": "code",
   "execution_count": null,
   "metadata": {
    "dotnet_interactive": {
     "language": "csharp"
    },
    "polyglot_notebook": {
     "kernelName": "csharp"
    }
   },
   "outputs": [],
   "source": [
    "from azure.identity.aio import DefaultAzureCredential"
   ]
  },
  {
   "cell_type": "markdown",
   "metadata": {},
   "source": [
    "# Açıklama:\n",
    "semantic_kernel paketinden çeşitli modüller ve sınıflar içe aktarılır. İşte her bir içe aktarmanın ayrıntılı açıklaması:\n",
    "\n",
    "AgentGroupChat from semantic_kernel.agents: Bu sınıf, AI ajanları için grup sohbetiyle ilgili işlevleri yönetir. AzureAIAgent ve AzureAIAgentSettings from semantic_kernel.agents.azure_ai\n",
    "\n",
    "AzureAIAgent: Bu sınıf, Azure AI hizmetlerini kullanan AI ajanlarını oluşturmak ve yönetmek için kullanılır.\n",
    "\n",
    "AzureAIAgentSettings: Bu sınıf, AzureAIAgent için ayarları yapılandırmak amacıyla kullanılır. TerminationStrategy from semantic_kernel.agents.strategies.termination.termination_strategy:\n",
    "\n",
    "Bu sınıf, belirli koşullar altında AI ajanlarının çalışmasını sonlandırmak için stratejiler tanımlar. ChatMessageContent from semantic_kernel.contents.chat_message_content:\n",
    "\n",
    "Bu sınıf, sohbet mesajlarının içeriğini yönetmek için kullanılır.\n",
    "AuthorRole from semantic_kernel.contents.utils.author_role:\n",
    "\n",
    "Bu sınıf, sohbet mesajları bağlamında yazarlar için farklı rolleri tanımlar.\n",
    "\n",
    "kernel_function from semantic_kernel.functions.kernel_function_decorator: Bu dekoratör, semantic kernel çerçevesi içinde çalıştırılabilecek çekirdek işlevleri tanımlamak için kullanılır.\n",
    "Bu içe aktarmalar, otel rezervasyonu gibi görevler için grup sohbet ortamında etkileşimde bulunabilecek AI ajanlarını oluşturmak ve yönetmek için gerekli bileşenleri hazırlar.\n"
   ]
  },
  {
   "cell_type": "code",
   "execution_count": null,
   "metadata": {
    "dotnet_interactive": {
     "language": "csharp"
    },
    "polyglot_notebook": {
     "kernelName": "csharp"
    }
   },
   "outputs": [],
   "source": [
    "from semantic_kernel.agents import AgentGroupChat\n",
    "from semantic_kernel.agents import AzureAIAgent, AzureAIAgentSettings\n",
    "from semantic_kernel.agents.strategies.termination.termination_strategy import TerminationStrategy\n",
    "from semantic_kernel.contents import ChatMessageContent\n",
    "from semantic_kernel.contents import AuthorRole\n",
    "from semantic_kernel.functions.kernel_function_decorator import kernel_function"
   ]
  },
  {
   "cell_type": "markdown",
   "metadata": {},
   "source": [
    "# Açıklama:\n",
    "Sonraki adımda, azure.ai.projects.models modülünden CodeInterpreterTool sınıfını içe aktarıyoruz.\n",
    "\n",
    "CodeInterpreterTool: Bu sınıf, Azure AI SDK'nın bir parçasıdır ve AI projeleri bağlamında kodu yorumlamak ve çalıştırmak için kullanılır. Kod parçacıklarını çalıştırma, kodu analiz etme veya AI iş akışları içinde kod yürütmeyi entegre etme gibi işlevler sunar. \n",
    "Bu içe aktarma, projenizde CodeInterpreterTool'u kullanmak için gerekli bileşeni ayarlar ve kodu dinamik olarak yorumlama ve çalıştırma gerektiren görevler için faydalı olabilir.\n"
   ]
  },
  {
   "cell_type": "code",
   "execution_count": null,
   "metadata": {
    "dotnet_interactive": {
     "language": "csharp"
    },
    "polyglot_notebook": {
     "kernelName": "csharp"
    }
   },
   "outputs": [],
   "source": [
    "from azure.ai.projects.models import CodeInterpreterTool"
   ]
  },
  {
   "cell_type": "markdown",
   "metadata": {},
   "source": [
    "# Açıklama:  \n",
    "ApprovalTerminationStrategy sınıfı, bir yapay zeka ajanının işlemini sonlandırmak için belirli bir strateji sunar. Ajan, etkileşim geçmişindeki son mesaj \"kaydedildi\" kelimesini içeriyorsa sonlandırılır. Bu, ajan görevini, bir şeyin \"kaydedildiği\" onayını aldığında tamamlanmış sayıldığı senaryolarda faydalı olabilir. Etkileşim yöntemini tanımlayın. Rezervasyon planı kaydedildikten sonra, kaydedildi sinyali alındığında durdurulabilir.\n"
   ]
  },
  {
   "cell_type": "code",
   "execution_count": null,
   "metadata": {
    "dotnet_interactive": {
     "language": "csharp"
    },
    "polyglot_notebook": {
     "kernelName": "csharp"
    }
   },
   "outputs": [],
   "source": [
    "class ApprovalTerminationStrategy(TerminationStrategy):\n",
    "    \"\"\"A strategy for determining when an agent should terminate.\"\"\"\n",
    "\n",
    "    async def should_agent_terminate(self, agent, history):\n",
    "        \"\"\"Check if the agent should terminate.\"\"\"\n",
    "        return \"saved\" in history[-1].content.lower()"
   ]
  },
  {
   "cell_type": "markdown",
   "metadata": {},
   "source": [
    "# Açıklama:\n",
    "\n",
    "Bu kod satırı, create() yöntemini çağırarak varsayılan veya önceden tanımlanmış ayarlarla bir AzureAIAgentSettings nesnesini başlatır. Daha sonra bu ayar nesnesi (ai_agent_settings), bir AzureAIAgent örneğini yapılandırmak ve yönetmek için kullanılabilir.\n"
   ]
  },
  {
   "cell_type": "code",
   "execution_count": null,
   "metadata": {
    "dotnet_interactive": {
     "language": "csharp"
    },
    "polyglot_notebook": {
     "kernelName": "csharp"
    }
   },
   "outputs": [],
   "source": [
    "ai_agent_settings = AzureAIAgentSettings.create()"
   ]
  },
  {
   "cell_type": "markdown",
   "metadata": {},
   "source": [
    "# Açıklama:\n",
    "Requests kütüphanesini içe aktararak, Python kodunuzda HTTP istekleri yapabilir ve web servisleriyle kolayca etkileşim kurabilirsiniz.\n"
   ]
  },
  {
   "cell_type": "code",
   "execution_count": null,
   "metadata": {
    "dotnet_interactive": {
     "language": "csharp"
    },
    "polyglot_notebook": {
     "kernelName": "csharp"
    }
   },
   "outputs": [],
   "source": [
    "import requests"
   ]
  },
  {
   "cell_type": "markdown",
   "metadata": {},
   "source": [
    "# Açıklama:\n",
    "Bu, bir SERP (Arama Motoru Sonuç Sayfası) API hizmetine erişim sağlamak için kullanılan API anahtarını saklayan bir değişkendir. API anahtarı, hesabınıza bağlı istekleri doğrulamak için kullanılan benzersiz bir tanımlayıcıdır.\n",
    "\n",
    "'GOOGLE_SEARCH_API_KEY': Bu, bir yer tutucu (placeholder) metnidir. ''GOOGLE_SEARCH_API_KEY'' ifadesini, gerçek SERP API anahtarınızla değiştirmeniz gerekir.\n",
    "\n",
    "Amaç: Bu satırın amacı, API anahtarını bir değişkende saklamaktır, böylece SERP API hizmetine yapılan istekleri doğrulamak için kullanılabilir. API anahtarı, hizmete erişmek ve arama yapmak için gereklidir.\n",
    "\n",
    "SERP API Anahtarı Nasıl Alınır: Bir SERP API anahtarı almak için, https://serpapi.com adresindeki genel adımları izleyin (kullandığınız belirli SERP API hizmetine bağlı olarak adımlar değişiklik gösterebilir):\n",
    "\n",
    "Bir SERP API Hizmeti Seçin: SerpAPI, Google Custom Search JSON API gibi çeşitli SERP API hizmetleri mevcuttur. İhtiyaçlarınıza en uygun olanı seçin.\n",
    "\n",
    "Bir Hesap Oluşturun:\n",
    "\n",
    "Seçtiğiniz SERP API hizmetinin web sitesine gidin (örneğin, https://www.serpapi.com) ve bir hesap oluşturun. Bazı temel bilgileri sağlamanız ve e-posta adresinizi doğrulamanız gerekebilir.\n",
    "\n",
    "Bir API Anahtarı Oluşturun:\n",
    "\n",
    "Kayıt işlemini tamamladıktan sonra hesabınıza giriş yapın ve API bölümü veya kontrol paneline gidin. Yeni bir API anahtarı oluşturma veya üretme seçeneğini arayın.\n",
    "API Anahtarını Kopyalayın:\n",
    "\n",
    "API anahtarı oluşturulduktan sonra, anahtarı kopyalayın. Bu anahtar, SERP API hizmetine yapılan istekleri doğrulamak için kullanılacaktır.\n",
    "Yer Tutucuyu Değiştirin:\n",
    "\n",
    ".env dosyanızdaki yer tutucuyu değiştirin.\n"
   ]
  },
  {
   "cell_type": "code",
   "execution_count": null,
   "metadata": {
    "dotnet_interactive": {
     "language": "csharp"
    },
    "polyglot_notebook": {
     "kernelName": "csharp"
    }
   },
   "outputs": [],
   "source": [
    "SERPAPI_SEARCH_API_KEY=os.getenv('SERPAPI_SEARCH_API_KEY')"
   ]
  },
  {
   "cell_type": "code",
   "execution_count": null,
   "metadata": {
    "dotnet_interactive": {
     "language": "csharp"
    },
    "polyglot_notebook": {
     "kernelName": "csharp"
    }
   },
   "outputs": [],
   "source": [
    "SERPAPI_SEARCH_ENDPOINT = os.getenv('SERPAPI_SEARCH_ENDPOINT')"
   ]
  },
  {
   "cell_type": "markdown",
   "metadata": {},
   "source": [
    "# Açıklama:\n",
    "BookingPlugin sınıfı, Serpapi.com Google Arama API'sini kullanarak otel ve uçuş rezervasyonu yapmaya yönelik yöntemler sağlar. Gerekli parametreleri oluşturur, API isteklerini gönderir ve yanıtları işleyerek ilgili rezervasyon bilgilerini döndürür. API anahtarı (SERPAPI_SEARCH_API_KEY) ve uç nokta (SERPAPI_SEARCH_ENDPOINT), Google Arama API'sine kimlik doğrulama yapmak ve istek göndermek için kullanılır.\n"
   ]
  },
  {
   "cell_type": "code",
   "execution_count": null,
   "metadata": {
    "dotnet_interactive": {
     "language": "csharp"
    },
    "polyglot_notebook": {
     "kernelName": "csharp"
    }
   },
   "outputs": [],
   "source": [
    "# Define Booking Plugin\n",
    "class BookingPlugin:\n",
    "    \"\"\"Booking Plugin for customers\"\"\"\n",
    "    @kernel_function(description=\"booking hotel\")\n",
    "    def booking_hotel(self,query: Annotated[str, \"The name of the city\"], check_in_date: Annotated[str, \"Hotel Check-in Time\"], check_out_date: Annotated[str, \"Hotel Check-in Time\"])-> Annotated[str, \"Return the result of booking hotel infomation\"]:\n",
    "\n",
    "        params = {\n",
    "            \"engine\": \"google_hotels\",\n",
    "            \"q\": query,\n",
    "            \"check_in_date\": check_in_date,\n",
    "            \"check_out_date\": check_out_date,\n",
    "            \"adults\": \"2\",\n",
    "            \"currency\": \"USD\",\n",
    "            \"gl\": \"us\",\n",
    "            \"hl\": \"en\",\n",
    "            \"api_key\": SERPAPI_SEARCH_API_KEY\n",
    "        }\n",
    "\n",
    "        response = requests.get(SERPAPI_SEARCH_ENDPOINT, params=params)\n",
    "        if response.status_code == 200:\n",
    "            response = response.json()\n",
    "            return response[\"properties\"]\n",
    "        else:\n",
    "            return None\n",
    "\n",
    "    \n",
    "    @kernel_function(description=\"booking fight\")\n",
    "    def  booking_fight(self,origin: Annotated[str, \"The name of Departure\"], destination: Annotated[str, \"The name of Destination\"], outbound_date: Annotated[str, \"The date of outbound\"], return_date: Annotated[str, \"The date of Return_date\"])-> Annotated[str, \"Return the result of booking fight infomation\"]:\n",
    "        \n",
    "        go_params = {\n",
    "            \"engine\": \"google_flights\",   \n",
    "            \"departure_id\": origin,\n",
    "            \"arrival_id\": destination,\n",
    "            \"outbound_date\": outbound_date,\n",
    "            \"return_date\": return_date,  \n",
    "            \"currency\": \"USD\",\n",
    "            \"hl\": \"en\",\n",
    "            \"api_key\": SERPAPI_SEARCH_API_KEY  \n",
    "        }\n",
    "\n",
    "        print(go_params)\n",
    "\n",
    "        go_response = requests.get(SERPAPI_SEARCH_ENDPOINT, params=go_params)\n",
    "\n",
    "\n",
    "        result = ''\n",
    "\n",
    "        if go_response.status_code == 200:\n",
    "            response = go_response.json()\n",
    "\n",
    "            result += \"# outbound \\n \" + str(response)\n",
    "        else:\n",
    "            print('error!!!')\n",
    "            # return None\n",
    "\n",
    "        \n",
    "        back_params = {\n",
    "            \"engine\": \"google_flights\",   \n",
    "            \"departure_id\": destination,\n",
    "            \"arrival_id\": origin,\n",
    "            \"outbound_date\": return_date,\n",
    "            \"return_date\": return_date,  \n",
    "            \"currency\": \"USD\",\n",
    "            \"hl\": \"en\",\n",
    "            \"api_key\": SERPAPI_SEARCH_API_KEY  \n",
    "        }\n",
    "\n",
    "\n",
    "        print(back_params)\n",
    "\n",
    "\n",
    "        back_response = requests.get(SERPAPI_SEARCH_ENDPOINT, params=back_params)\n",
    "\n",
    "\n",
    "\n",
    "        if back_response.status_code == 200:\n",
    "            response = back_response.json()\n",
    "\n",
    "            result += \"\\n # return \\n\"  + str(response)\n",
    "\n",
    "        else:\n",
    "            print('error!!!')\n",
    "            # return None\n",
    "        \n",
    "        print(result)\n",
    "\n",
    "        return result\n",
    "\n",
    "        \n"
   ]
  },
  {
   "cell_type": "markdown",
   "metadata": {},
   "source": [
    "# Açıklama:\n",
    "SavePlugin sınıfı, Azure AI hizmetlerini kullanarak seyahat planlarını kaydetmek için saving_plan adlı bir yöntem sağlar. Bu yöntem, Azure kimlik bilgilerini ayarlar, bir AI ajanı oluşturur, kullanıcı girdilerini işleyerek seyahat planı içeriğini oluşturur ve kaydeder, dosya kaydetme ve temizlik işlemlerini yönetir. Yöntem başarıyla tamamlandığında \"Saved\" döner.\n"
   ]
  },
  {
   "cell_type": "code",
   "execution_count": null,
   "metadata": {
    "dotnet_interactive": {
     "language": "csharp"
    },
    "polyglot_notebook": {
     "kernelName": "csharp"
    }
   },
   "outputs": [],
   "source": [
    "class SavePlugin:\n",
    "    \"\"\"Save Plugin for customers\"\"\"\n",
    "    @kernel_function(description=\"saving plan\")\n",
    "    async def saving_plan(self,tripplan: Annotated[str, \"The content of trip plan\"])-> Annotated[str, \"Return status of save content\"]:\n",
    "\n",
    "        async with (\n",
    "            DefaultAzureCredential() as creds,\n",
    "            AzureAIAgent.create_client(\n",
    "                credential=creds,\n",
    "                conn_str=ai_agent_settings.project_connection_string.get_secret_value(),\n",
    "            ) as client,\n",
    "        ):\n",
    "\n",
    "            code_interpreter = CodeInterpreterTool()\n",
    "            \n",
    "            agent_definition = await client.agents.create_agent(\n",
    "                model=ai_agent_settings.model_deployment_name,\n",
    "                tools=code_interpreter.definitions,\n",
    "                tool_resources=code_interpreter.resources,\n",
    "            )\n",
    "\n",
    "\n",
    "            agent = AzureAIAgent(\n",
    "                client=client,\n",
    "                definition=agent_definition,\n",
    "            )\n",
    "\n",
    "            thread = await client.agents.create_thread()\n",
    "\n",
    "\n",
    "            user_inputs = [\n",
    "                \"\"\"\n",
    "            \n",
    "                        You are my Python programming assistant. Generate code,save \"\"\"+ tripplan +\n",
    "                        \n",
    "                    \"\"\"    \n",
    "                        and execute it according to the following requirements\n",
    "\n",
    "                        1. Save blog content to trip-{YYMMDDHHMMSS}.md\n",
    "\n",
    "                        2. give me the download this file link\n",
    "                    \"\"\"\n",
    "            ]\n",
    "\n",
    "\n",
    "\n",
    "            try:\n",
    "                for user_input in user_inputs:\n",
    "                    # Add the user input as a chat message\n",
    "                    await agent.add_chat_message(\n",
    "                        thread_id=thread.id, message=ChatMessageContent(role=AuthorRole.USER, content=user_input)\n",
    "                    )\n",
    "                    print(f\"# User: '{user_input}'\")\n",
    "                    # Invoke the agent for the specified thread\n",
    "                    async for content in agent.invoke(thread_id=thread.id):\n",
    "                        if content.role != AuthorRole.TOOL:\n",
    "                            print(f\"# Agent: {content.content}\")\n",
    "\n",
    "                    \n",
    "                    messages = await client.agents.list_messages(thread_id=thread.id)\n",
    "\n",
    "                    # OpenAIPageableListOfThreadMessage\n",
    "                    # OpenAIPageableListOfThreadMessage\n",
    "\n",
    "\n",
    "                    for file_path_annotation in messages.file_path_annotations:\n",
    "\n",
    "                            file_name = os.path.basename(file_path_annotation.text)\n",
    "\n",
    "                            await client.agents.save_file(file_id=file_path_annotation.file_path.file_id, file_name=file_name,target_dir=\"./trip\")\n",
    "\n",
    "                    \n",
    "            finally:\n",
    "                await client.agents.delete_thread(thread.id)\n",
    "                await client.agents.delete_agent(agent.id)\n",
    "\n",
    "\n",
    "        return \"Saved\""
   ]
  },
  {
   "cell_type": "markdown",
   "metadata": {},
   "source": [
    "# Açıklama:\n",
    "Bu kod, Azure AI ajanlarını kullanıcı girdilerine dayanarak uçuş ve otel rezervasyonlarını yönetmek ve seyahat planlarını kaydetmek için yapılandırır. Azure kimlik bilgilerini kullanarak ajanları oluşturur ve yapılandırır, kullanıcı girdilerini bir grup sohbeti aracılığıyla işler ve görevler tamamlandıktan sonra düzgün bir şekilde temizlenmesini sağlar. Ajanlar, ilgili görevlerini yerine getirmek için belirli eklentiler (BookingPlugin ve SavePlugin) kullanır.\n"
   ]
  },
  {
   "cell_type": "code",
   "execution_count": null,
   "metadata": {
    "dotnet_interactive": {
     "language": "csharp"
    },
    "polyglot_notebook": {
     "kernelName": "csharp"
    }
   },
   "outputs": [],
   "source": [
    "async with (\n",
    "    DefaultAzureCredential() as creds,\n",
    "    AzureAIAgent.create_client(\n",
    "        credential=creds,\n",
    "        conn_str=ai_agent_settings.project_connection_string.get_secret_value(),\n",
    "    ) as client,\n",
    "):\n",
    "    BOOKING_AGENT_NAME = \"BookingAgent\"\n",
    "    BOOKING_AGENT_INSTRUCTIONS = \"\"\"\n",
    "    You are a booking agent. Help me book flights or hotels.\n",
    "\n",
    "    Thought: Please understand the user's intention and confirm whether to use the reservation system to complete the task.\n",
    "\n",
    "    Actions:\n",
    "    - For flight bookings, convert the departure and destination names into airport codes.\n",
    "    - Use the appropriate API for hotel or flight bookings. Verify that all necessary parameters are available. If any parameters are missing, ask the user to provide them. If all parameters are complete, call the corresponding function.\n",
    "    - If the task is not related to hotel or flight booking, respond with the final answer only.\n",
    "    - Output the results using a markdown table:\n",
    "      - For flight bookings, output separate outbound and return contents in the order of:\n",
    "        Departure Airport | Airline | Flight Number | Departure Time | Arrival Airport | Arrival Time | Duration | Airplane | Travel Class | Price (USD) | Legroom | Extensions | Carbon Emissions (kg).\n",
    "      - For hotel bookings, output in the order of:\n",
    "        Property Name | Property Description | Check-in Time | Check-out Time | Prices | Nearby Places | Hotel Class | GPS Coordinates.\n",
    "    \"\"\"\n",
    "\n",
    "    SAVE_AGENT_NAME = \"SaveAgent\"\n",
    "    SAVE_AGENT_INSTRUCTIONS = \"\"\"\n",
    "    You are a save tool agent. Help me to save the trip plan.\n",
    "    \"\"\"\n",
    "\n",
    "    # Create agent definition\n",
    "    booking_agent_definition = await client.agents.create_agent(\n",
    "        model=ai_agent_settings.model_deployment_name,\n",
    "        name=BOOKING_AGENT_NAME,\n",
    "        instructions=BOOKING_AGENT_INSTRUCTIONS,\n",
    "    )\n",
    "\n",
    "    # Create the AzureAI Agent\n",
    "    booking_agent = AzureAIAgent(\n",
    "        client=client,\n",
    "        definition=booking_agent_definition,\n",
    "        # Optionally configure polling options\n",
    "        # polling_options=RunPollingOptions(run_polling_interval=timedelta(seconds=1)),\n",
    "    )\n",
    "\n",
    "    # Add the sample plugin to the kernel\n",
    "    booking_agent.kernel.add_plugin(BookingPlugin(), plugin_name=\"booking\")\n",
    "\n",
    "    # Create agent definition\n",
    "    save_agent_definition = await client.agents.create_agent(\n",
    "        model=ai_agent_settings.model_deployment_name,\n",
    "        name=SAVE_AGENT_NAME,\n",
    "        instructions=SAVE_AGENT_INSTRUCTIONS\n",
    "    )\n",
    "\n",
    "    # Create the AzureAI Agent\n",
    "    save_agent = AzureAIAgent(\n",
    "        client=client,\n",
    "        definition=save_agent_definition,\n",
    "    )\n",
    "\n",
    "    save_agent.kernel.add_plugin(SavePlugin(), plugin_name=\"saving\")\n",
    "\n",
    "    user_inputs = [\n",
    "        \"I have a business trip from London to New York in Feb 20 2025 to Feb 27 2025 ,help me to book a hotel and fight tickets and save it\"\n",
    "    ]\n",
    "\n",
    "    chat = AgentGroupChat(\n",
    "        agents=[booking_agent, save_agent],\n",
    "        termination_strategy=ApprovalTerminationStrategy(agents=[save_agent], maximum_iterations=10),\n",
    "    )\n",
    "\n",
    "    try:\n",
    "        for user_input in user_inputs:\n",
    "            # Add the user input as a chat message\n",
    "            await chat.add_chat_message(\n",
    "                ChatMessageContent(role=AuthorRole.USER, content=user_input)\n",
    "            )\n",
    "            print(f\"# User: '{user_input}'\")\n",
    "\n",
    "            async for content in chat.invoke():\n",
    "                print(f\"# {content.role} - {content.name or '*'}: '{content.content}'\")\n",
    "\n",
    "            print(f\"# IS COMPLETE: {chat.is_complete}\")\n",
    "\n",
    "            print(\"*\" * 60)\n",
    "            print(\"Chat History (In Descending Order):\\n\")\n",
    "            async for message in chat.get_chat_messages(agent=save_agent):\n",
    "                print(f\"# {message.role} - {message.name or '*'}: '{message.content}'\")\n",
    "    finally:\n",
    "        await chat.reset()\n",
    "        await client.agents.delete_agent(save_agent.id)\n",
    "        await client.agents.delete_agent(booking_agent.id)\n"
   ]
  },
  {
   "cell_type": "markdown",
   "metadata": {},
   "source": [
    "\n---\n\n**Feragatname**:  \nBu belge, AI çeviri hizmeti [Co-op Translator](https://github.com/Azure/co-op-translator) kullanılarak çevrilmiştir. Doğruluk için çaba göstersek de, otomatik çevirilerin hata veya yanlışlıklar içerebileceğini lütfen unutmayın. Belgenin orijinal dili, yetkili kaynak olarak kabul edilmelidir. Kritik bilgiler için profesyonel insan çevirisi önerilir. Bu çevirinin kullanımından kaynaklanan yanlış anlamalar veya yanlış yorumlamalardan sorumlu değiliz.\n"
   ]
  }
 ],
 "metadata": {
  "kernelspec": {
   "display_name": "3.12.1",
   "language": "python",
   "name": "python3"
  },
  "language_info": {
   "codemirror_mode": {
    "name": "ipython",
    "version": 3
   },
   "file_extension": ".py",
   "mimetype": "text/x-python",
   "name": "python",
   "nbconvert_exporter": "python",
   "pygments_lexer": "ipython3",
   "version": "3.12.1"
  },
  "polyglot_notebook": {
   "kernelInfo": {
    "defaultKernelName": "csharp",
    "items": [
     {
      "aliases": [],
      "name": "csharp"
     }
    ]
   }
  },
  "coopTranslator": {
   "original_hash": "1baa60020a95eda27b7e9ecfda99965b",
   "translation_date": "2025-08-29T14:03:40+00:00",
   "source_file": "08-multi-agent/code_samples/08-python_multi_aiagent_bookinghotel.ipynb",
   "language_code": "tr"
  }
 },
 "nbformat": 4,
 "nbformat_minor": 2
}