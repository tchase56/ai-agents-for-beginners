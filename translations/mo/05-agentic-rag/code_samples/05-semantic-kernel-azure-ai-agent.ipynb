{
 "cells": [
  {
   "cell_type": "markdown",
   "metadata": {},
   "source": [
    "# 使用 Azure AI Agent Service 和 Semantic Kernel 進行 RAG\n",
    "\n",
    "此程式碼片段展示如何使用 `Azure AI Agent Service` 和 `Semantic Kernel` 建立及管理一個 Azure AI 代理，用於檢索增強生成 (RAG)。該代理根據檢索到的上下文處理使用者查詢，並提供準確的回應。\n"
   ]
  },
  {
   "cell_type": "markdown",
   "metadata": {},
   "source": []
  },
  {
   "cell_type": "markdown",
   "metadata": {},
   "source": [
    "SQLite 版本修復  \n",
    "如果您遇到以下錯誤：  \n",
    "```\n",
    "RuntimeError: Your system has an unsupported version of sqlite3. Chroma requires sqlite3 >= 3.35.0\n",
    "```  \n",
    "\n",
    "請在您的筆記本開頭取消註解以下程式碼區塊：  \n"
   ]
  },
  {
   "cell_type": "code",
   "execution_count": null,
   "metadata": {},
   "outputs": [],
   "source": [
    "# %pip install pysqlite3-binary\n",
    "# __import__('pysqlite3')\n",
    "# import sys\n",
    "# sys.modules['sqlite3'] = sys.modules.pop('pysqlite3')"
   ]
  },
  {
   "cell_type": "markdown",
   "metadata": {},
   "source": [
    "### 匯入套件\n",
    "以下程式碼匯入所需的套件：\n"
   ]
  },
  {
   "cell_type": "code",
   "execution_count": null,
   "metadata": {},
   "outputs": [],
   "source": [
    "# Azure imports for project client and credentials\n",
    "from azure.ai.projects.models import FileSearchTool, OpenAIFile, VectorStore\n",
    "from azure.identity.aio import DefaultAzureCredential\n",
    "\n",
    "# Semantic Kernel imports\n",
    "from semantic_kernel.agents import AzureAIAgent, AzureAIAgentThread"
   ]
  },
  {
   "cell_type": "markdown",
   "metadata": {},
   "source": [
    "# 使用 Semantic Kernel 和 Azure AI Agent Service 的檢索增強生成\n",
    "\n",
    "此範例展示如何使用 **Azure AI Agent Service**，透過結合語言模型與來自上傳文件的特定領域內容，實現 **檢索增強生成 (RAG)**。\n",
    "\n",
    "### 運作方式\n",
    "\n",
    "1. **文件上傳**：將包含資訊（Contoso 的旅遊保險政策）的 markdown 文件 (document.md) 上傳至代理服務。\n",
    "\n",
    "2. **向量存儲建立**：文件被索引到向量存儲中，以啟用其內容的語義搜尋。\n",
    "\n",
    "3. **代理配置**：使用 `gpt-4o` 模型實例化代理，並設定以下嚴格指令：\n",
    "   - 僅根據從文件檢索的內容回答問題。\n",
    "   - 如果問題超出範圍，則拒絕回答。\n",
    "\n",
    "4. **文件搜尋工具整合**：將 `FileSearchTool` 註冊到代理中，使模型在推理過程中能搜尋並檢索索引文件中的相關片段。\n",
    "\n",
    "5. **用戶互動**：用戶可以提出問題。如果文件中找到相關資訊，代理會生成基於文件內容的答案。  \n",
    "   如果沒有，代理會明確回應文件中沒有足夠的資訊。\n"
   ]
  },
  {
   "cell_type": "markdown",
   "metadata": {},
   "source": [
    "### 主函數\n",
    "\n"
   ]
  },
  {
   "cell_type": "markdown",
   "metadata": {},
   "source": [
    "請確保首先使用 Azure CLI 執行 `az login`，以便在使用 `DefaultAzureCredential` 時提供正確的身份驗證上下文。Azure AI Agent Service 不使用 API 金鑰。\n"
   ]
  },
  {
   "cell_type": "code",
   "execution_count": null,
   "metadata": {},
   "outputs": [],
   "source": [
    "async def main():\n",
    "    async with (\n",
    "        DefaultAzureCredential() as creds,\n",
    "        AzureAIAgent.create_client(credential=creds) as client,\n",
    "    ):\n",
    "        file: OpenAIFile = await client.agents.upload_file_and_poll(file_path=\"document.md\", purpose=\"assistants\")\n",
    "        vector_store: VectorStore = await client.agents.create_vector_store_and_poll(\n",
    "            file_ids=[file.id], name=\"my_vectorstore\"\n",
    "        )\n",
    "\n",
    "        # Define agent name and instructions tailored for RAG.\n",
    "        AGENT_NAME = \"RAGAgent\"\n",
    "        AGENT_INSTRUCTIONS = \"\"\"\n",
    "        You are an AI assistant designed to answer user questions using only the information retrieved from the provided document(s).\n",
    "\n",
    "        - If a user's question cannot be answered using the retrieved context, **you must clearly respond**: \n",
    "        \"I'm sorry, but the uploaded document does not contain the necessary information to answer that question.\"\n",
    "        - Do not answer from general knowledge or reasoning. Do not make assumptions or generate hypothetical explanations.\n",
    "        - Do not provide definitions, tutorials, or commentary that is not explicitly grounded in the content of the uploaded file(s).\n",
    "        - If a user asks a question like \"What is a Neural Network?\", and this is not discussed in the uploaded document, respond as instructed above.\n",
    "        - For questions that do have relevant content in the document (e.g., Contoso's travel insurance coverage), respond accurately, and cite the document explicitly.\n",
    "\n",
    "        You must behave as if you have no external knowledge beyond what is retrieved from the uploaded document.\n",
    "        \"\"\"\n",
    "\n",
    "        \n",
    "        # Create file search tool with uploaded resources\n",
    "        file_search = FileSearchTool(vector_store_ids=[vector_store.id])\n",
    "\n",
    "        # 3. Create an agent on the Azure AI agent service with the file search tool\n",
    "        agent_definition = await client.agents.create_agent(\n",
    "            model=\"gpt-4o\",  # This model should match your Azure OpenAI deployment.\n",
    "            name=AGENT_NAME,\n",
    "            instructions=AGENT_INSTRUCTIONS,\n",
    "            tools=file_search.definitions,\n",
    "            tool_resources=file_search.resources,\n",
    "        )\n",
    "        \n",
    "        # Create the Azure AI Agent using the client and definition.\n",
    "        agent = AzureAIAgent(\n",
    "            client=client,\n",
    "            definition=agent_definition,\n",
    "        )\n",
    "        \n",
    "        # Create a thread to hold the conversation\n",
    "        # If no thread is provided, a new thread will be\n",
    "        # created and returned with the initial response\n",
    "        thread: AzureAIAgentThread | None = None\n",
    "        \n",
    "        # Example user queries.\n",
    "        user_inputs = [\n",
    "            \"Can you explain Contoso's travel insurance coverage?\",  # Relevant context.\n",
    "            \"What is a Neural Network?\"  # No relevant context from the document. Will not contain a source annotation.\n",
    "        ]\n",
    "        \n",
    "        try:\n",
    "            for user_input in user_inputs:\n",
    "                print(f\"# User: '{user_input}'\")\n",
    "                # Invoke the agent for the specified thread for response\n",
    "                async for response in agent.invoke(messages=user_input, thread=thread):\n",
    "                    print(f\"# {response.name}: {response}\")\n",
    "                    thread = response.thread\n",
    "        finally:\n",
    "            # Clean up resources.\n",
    "            await thread.delete() if thread else None\n",
    "            await client.agents.delete_vector_store(vector_store.id)\n",
    "            await client.agents.delete_file(file.id)\n",
    "            await client.agents.delete_agent(agent.id)\n",
    "            print(\"\\nCleaned up agent, thread, file, and vector store.\")\n",
    "\n",
    "await main()"
   ]
  },
  {
   "cell_type": "markdown",
   "metadata": {},
   "source": [
    "```\n",
    "# User: 'Can you explain Contoso's travel insurance coverage?'\n",
    "# Agent: Contoso's travel insurance coverage includes protection for medical emergencies, trip cancellations, and lost baggage【4:0†document.md】.\n",
    "# User: 'What is a Neural Network?'\n",
    "# Agent: I'm sorry, but the uploaded document does not contain the necessary information to answer that question.\n",
    "\n",
    "Cleaned up agent, thread, file, and vector store.\n",
    "```\n",
    "\n",
    "# 重要規則\n",
    "\n",
    "在開始之前，請務必遵守以下規則：\n",
    "\n",
    "1. 確保所有的程式碼片段（如 @@INLINE_CODE_1@@ 或 @@CODE_BLOCK_1@@）保持原樣，並且不要進行翻譯。\n",
    "2. 如果文件中包含任何占位符（例如 @@INLINE_CODE_2@@），請不要更改它們。\n",
    "3. 請勿翻譯以下標籤：[!NOTE]、[!WARNING]、[!TIP]、[!IMPORTANT]、[!CAUTION]。\n",
    "4. 保持所有的 Markdown 格式，例如標題、列表、連結等，與原始文件一致。\n",
    "5. 如果文件中包含任何 URL 或路徑，請保持原樣，不要進行翻譯。\n",
    "\n",
    "---\n",
    "\n",
    "## 範例\n",
    "\n",
    "以下是一個簡單的範例，展示如何正確處理文件中的內容：\n",
    "\n",
    "### 原始內容\n",
    "\n",
    "```markdown\n",
    "[!NOTE]\n",
    "這是一個重要的提示。\n",
    "\n",
    "請參考以下程式碼片段：\n",
    "\n",
    "@@CODE_BLOCK_2@@\n",
    "\n",
    "更多資訊請參考 [官方文件](https://example.com)。\n",
    "```\n",
    "\n",
    "### 翻譯後的內容\n",
    "\n",
    "```markdown\n",
    "[!NOTE]\n",
    "這是一個重要的提示。\n",
    "\n",
    "請參考以下程式碼片段：\n",
    "\n",
    "@@CODE_BLOCK_2@@\n",
    "\n",
    "更多資訊請參考 [官方文件](https://example.com)。\n",
    "```\n",
    "\n",
    "---\n",
    "\n",
    "## 常見問題\n",
    "\n",
    "### 我應該如何處理程式碼片段？\n",
    "\n",
    "請確保所有程式碼片段保持原樣，不要進行任何修改或翻譯。\n",
    "\n",
    "### 如果文件中包含占位符，我應該怎麼辦？\n",
    "\n",
    "占位符（例如 @@INLINE_CODE_3@@ 或 @@CODE_BLOCK_3@@）應保持不變，請勿進行翻譯或修改。\n",
    "\n",
    "---\n",
    "\n",
    "感謝您遵守這些規則！\n"
   ]
  },
  {
   "cell_type": "markdown",
   "metadata": {},
   "source": [
    "\n---\n\n**免責聲明**：  \n本文件使用 AI 翻譯服務 [Co-op Translator](https://github.com/Azure/co-op-translator) 進行翻譯。我們致力於提供準確的翻譯，但請注意，自動翻譯可能包含錯誤或不準確之處。應以原始語言的文件作為權威來源。對於關鍵資訊，建議尋求專業人工翻譯。我們對因使用此翻譯而引起的任何誤解或誤釋不承擔責任。\n"
   ]
  }
 ],
 "metadata": {
  "kernelspec": {
   "display_name": ".venv",
   "language": "python",
   "name": "python3"
  },
  "language_info": {
   "codemirror_mode": {
    "name": "ipython",
    "version": 3
   },
   "file_extension": ".py",
   "mimetype": "text/x-python",
   "name": "python",
   "nbconvert_exporter": "python",
   "pygments_lexer": "ipython3",
   "version": "3.11.11"
  },
  "coopTranslator": {
   "original_hash": "a86c3ddfbe35024993bbf563588aad48",
   "translation_date": "2025-08-29T14:17:58+00:00",
   "source_file": "05-agentic-rag/code_samples/05-semantic-kernel-azure-ai-agent.ipynb",
   "language_code": "mo"
  }
 },
 "nbformat": 4,
 "nbformat_minor": 2
}