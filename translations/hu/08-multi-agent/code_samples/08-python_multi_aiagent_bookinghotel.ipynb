{
 "cells": [
  {
   "cell_type": "markdown",
   "metadata": {},
   "source": [
    "## **Minták: Több-AI Ügynökök szállodafoglaláshoz**\n",
    "\n",
    "A mai rohanó világban egy üzleti út megtervezése nem merül ki csupán a repülőjegy és a szállodai szoba lefoglalásában. Olyan szintű koordinációt és hatékonyságot igényel, amelyet nem mindig könnyű elérni. Itt lépnek színre a Több-AI Ügynökök, forradalmasítva az utazási igényeink kezelését.\n",
    "\n",
    "Képzelje el, hogy egy intelligens ügynökökből álló csapat áll a rendelkezésére, akik együttműködve, precízen és könnyedén kezelik utazásának minden aspektusát. Fejlett AI technológiánkkal olyan specializált ügynököket hoztunk létre, amelyek a foglalási szolgáltatásokért és az útiterv összeállításáért felelnek, biztosítva ezzel a zökkenőmentes és stresszmentes utazási élményt.\n",
    "\n",
    "Ez egy alapvető forgatókönyv. Üzleti út tervezésekor konzultálnunk kell egy üzleti utazási ügynökkel, hogy információt szerezzünk a repülőjegyekről, szállodákról stb. Az AI Ügynökök segítségével létrehozhatunk foglalási szolgáltatásokért felelős ügynököket, valamint útiterv összeállításáért felelős ügynököket, akik együttműködve növelik az intelligencia szintjét.\n"
   ]
  },
  {
   "cell_type": "markdown",
   "metadata": {},
   "source": [
    "# Az Azure AI Agent Service inicializálása és konfigurációs információk lekérése a **.env** fájlból\n",
    "\n",
    "### **.env**\n",
    "\n",
    "Hozz létre egy .env fájlt\n",
    "\n",
    "A **.env** tartalmazza az Azure AI Agent Service kapcsolatláncát, az AOAI által használt modellt, valamint a megfelelő Google API Search szolgáltatás API-ját, ENDPOINT-ját stb.\n",
    "\n",
    "- **AZURE_AI_AGENT_MODEL_DEPLOYMENT_NAME** = \"Az Azure AI Agent Service Model Deployment neve\"\n",
    "\n",
    "[**NOTE**] Szükséged lesz egy modellre, amelynek 100,000-es Rate Limitje van (Tokenek percenként) és 600-as Rate Limitje (Kérések percenként).\n",
    "\n",
    "  Modellt az Azure AI Foundry - Model and Endpoint részben szerezhetsz be.\n",
    "\n",
    "- **AZURE_AI_AGENT_PROJECT_CONNECTION_STRING** = \"Az Azure AI Agent Service Project Connection Stringje\"\n",
    "\n",
    "  A projekt kapcsolatláncát az AI ​​Foundry Portal képernyőjén, a projekt áttekintésében találhatod meg.\n",
    "\n",
    "- **SERPAPI_SEARCH_API_KEY** = \"A SERPAPI Search API KULCSOD\"\n",
    "- **SERPAPI_SEARCH_ENDPOINT** = \"A SERPAPI Search Endpoint-ed\"\n",
    "\n",
    "Az Azure AI Agent Service Model Deployment Name és Project Connection String megszerzéséhez létre kell hoznod az Azure AI Agent Service-t. Ajánlott [ezt a sablont](https://portal.azure.com/#create/Microsoft.Template/uri/https%3A%2F%2Fraw.githubusercontent.com%2Ffosteramanda%2Fazure-agent-quickstart-templates%2Frefs%2Fheads%2Fmaster%2Fquickstarts%2Fmicrosoft.azure-ai-agent-service%2Fstandard-agent%2Fazuredeploy.json) használni a közvetlen létrehozáshoz (***Megjegyzés:*** Az Azure AI Agent Service jelenleg korlátozott régióban érhető el. Ajánlott, hogy [ezt a linket](https://learn.microsoft.com/en-us/azure/ai-services/agents/concepts/model-region-support) tekintsd meg a régió beállításához).\n",
    "\n",
    "Az Agent-nek hozzáférésre van szüksége a SERPAPI-hoz. Ajánlott [ezen a linken](https://serpapi.com/searches) regisztrálni. A regisztráció után egyedi API KULCSOT és ENDPOINT-ot szerezhetsz.\n"
   ]
  },
  {
   "cell_type": "markdown",
   "metadata": {},
   "source": [
    "# Bejelentkezés az Azure-ba\n",
    "\n",
    "Most be kell jelentkezned az Azure-ba. Nyiss meg egy terminált a VScode-ban, és futtasd az `az login` parancsot.\n"
   ]
  },
  {
   "cell_type": "markdown",
   "metadata": {},
   "source": [
    "# Beállítás\n",
    "\n",
    "Ennek a notebooknak a futtatásához telepítened kell a következő könyvtárakat. Itt található a szükséges könyvtárak listája és a hozzájuk tartozó pip telepítési parancsok:\n",
    "\n",
    "azure-identity: Azure hitelesítéshez.  \n",
    "requests: HTTP kérések küldéséhez.  \n",
    "semantic-kernel: A szemantikai kernel keretrendszerhez (feltételezve, hogy ez egy egyedi vagy specifikus könyvtár, lehet, hogy egy adott forrásból vagy tárolóból kell telepíteni).  \n"
   ]
  },
  {
   "cell_type": "code",
   "execution_count": null,
   "metadata": {},
   "outputs": [],
   "source": [
    "!pip install azure-identity\n",
    "!pip install requests\n",
    "!pip install semantic-kernel\n",
    "!pip install --upgrade semantic_kernel\n",
    "!pip install azure-cli"
   ]
  },
  {
   "cell_type": "markdown",
   "metadata": {},
   "source": [
    "# Magyarázat:  \n",
    "import asyncio: Ez importálja az asyncio modult, amely támogatja az aszinkron programozást Pythonban. Lehetővé teszi, hogy párhuzamos kódot írj az async és await szintaxis használatával.  \n",
    "from typing import Annotated: Ez importálja az Annotated típust a typing modulból. Az Annotated arra szolgál, hogy metaadatokat adjunk a típusjelölésekhez, amelyek hasznosak lehetnek különböző célokra, például validációhoz, dokumentációhoz vagy eszközök számára.\n"
   ]
  },
  {
   "cell_type": "code",
   "execution_count": null,
   "metadata": {
    "dotnet_interactive": {
     "language": "csharp"
    },
    "polyglot_notebook": {
     "kernelName": "csharp"
    }
   },
   "outputs": [],
   "source": [
    "import asyncio,os\n",
    "from typing import Annotated"
   ]
  },
  {
   "cell_type": "markdown",
   "metadata": {},
   "source": [
    "# Magyarázat:\n",
    "A from dotenv import load_dotenv és a load_dotenv() használatával könnyedén kezelheted a konfigurációs beállításokat és érzékeny információkat (például API kulcsokat és adatbázis URL-eket) egy .env fájlban, elkülönítve azokat a forráskódtól. Ezáltal az alkalmazásod biztonságosabbá és könnyebben konfigurálhatóvá válik.\n"
   ]
  },
  {
   "cell_type": "code",
   "execution_count": null,
   "metadata": {},
   "outputs": [],
   "source": [
    "import os\n",
    "from dotenv import load_dotenv\n",
    "\n",
    "# Load environment variables from .env file\n",
    "load_dotenv()"
   ]
  },
  {
   "cell_type": "markdown",
   "metadata": {},
   "source": [
    "# Magyarázat:\n",
    "\n",
    "Importálási utasítás: from azure.identity.aio import DefaultAzureCredential: Ez importálja a DefaultAzureCredential osztályt az azure.identity.aio modulból. Az aio a modul nevében azt jelzi, hogy aszinkron műveletekre lett tervezve.\n",
    "\n",
    "A DefaultAzureCredential célja: A DefaultAzureCredential osztály az Azure SDK for Python része. Ez egy alapértelmezett módot biztosít az Azure szolgáltatásokkal való hitelesítéshez. Több módszerrel próbál hitelesíteni egy meghatározott sorrendben, például környezeti változókkal, kezelt identitással és Azure CLI hitelesítő adatokkal.\n",
    "\n",
    "Aszinkron műveletek: Az aio modul azt jelzi, hogy a DefaultAzureCredential osztály támogatja az aszinkron műveleteket. Ez azt jelenti, hogy használhatod az asyncio-val nem blokkoló hitelesítési kérések végrehajtására.\n"
   ]
  },
  {
   "cell_type": "code",
   "execution_count": null,
   "metadata": {
    "dotnet_interactive": {
     "language": "csharp"
    },
    "polyglot_notebook": {
     "kernelName": "csharp"
    }
   },
   "outputs": [],
   "source": [
    "from azure.identity.aio import DefaultAzureCredential"
   ]
  },
  {
   "cell_type": "markdown",
   "metadata": {},
   "source": [
    "# Magyarázat:\n",
    "Különböző modulokat és osztályokat importál a semantic_kernel csomagból. Íme az egyes importok részletes leírása:\n",
    "\n",
    "AgentGroupChat a semantic_kernel.agents-ből: Ez az osztály az AI ügynökök csoportos csevegéséhez kapcsolódó funkciókat kezeli. AzureAIAgent és AzureAIAgentSettings a semantic_kernel.agents.azure_ai-ból:\n",
    "\n",
    "AzureAIAgent: Ez az osztály Azure AI szolgáltatásokat használó AI ügynökök létrehozására és kezelésére szolgál.\n",
    "\n",
    "AzureAIAgentSettings: Ez az osztály az AzureAIAgent beállításainak konfigurálására szolgál. TerminationStrategy a semantic_kernel.agents.strategies.termination.termination_strategy-ból:\n",
    "\n",
    "Ez az osztály stratégiákat határoz meg az AI ügynökök végrehajtásának bizonyos feltételek melletti megszakítására. ChatMessageContent a semantic_kernel.contents.chat_message_content-ból:\n",
    "\n",
    "Ez az osztály a csevegési üzenetek tartalmának kezelésére szolgál.\n",
    "AuthorRole a semantic_kernel.contents.utils.author_role-ból:\n",
    "\n",
    "Ez az osztály különböző szerepeket határoz meg a csevegési üzenetek szerzőinek kontextusában.\n",
    "\n",
    "kernel_function a semantic_kernel.functions.kernel_function_decorator-ból: Ez a dekorátor kernel funkciók definiálására szolgál, amelyek a semantic kernel keretrendszeren belül végrehajthatók.\n",
    "Ezek az importok előkészítik a szükséges komponenseket AI ügynökök létrehozásához és kezeléséhez, amelyek csoportos csevegési környezetben tudnak interakcióba lépni, például szállodafoglalás vagy hasonló tevékenységek céljából.\n"
   ]
  },
  {
   "cell_type": "code",
   "execution_count": null,
   "metadata": {
    "dotnet_interactive": {
     "language": "csharp"
    },
    "polyglot_notebook": {
     "kernelName": "csharp"
    }
   },
   "outputs": [],
   "source": [
    "from semantic_kernel.agents import AgentGroupChat\n",
    "from semantic_kernel.agents import AzureAIAgent, AzureAIAgentSettings\n",
    "from semantic_kernel.agents.strategies.termination.termination_strategy import TerminationStrategy\n",
    "from semantic_kernel.contents import ChatMessageContent\n",
    "from semantic_kernel.contents import AuthorRole\n",
    "from semantic_kernel.functions.kernel_function_decorator import kernel_function"
   ]
  },
  {
   "cell_type": "markdown",
   "metadata": {},
   "source": [
    "# Magyarázat:\n",
    "Ezután importáljuk a CodeInterpreterTool osztályt az azure.ai.projects.models modulból.\n",
    "\n",
    "CodeInterpreterTool: Ez az osztály az Azure AI SDK része, és arra szolgál, hogy kódot értelmezzen és hajtson végre AI projektek keretében. Funkciókat biztosít kódrészletek futtatására, kód elemzésére vagy a kód végrehajtásának integrálására AI munkafolyamatokban.  \n",
    "Ez az importálás előkészíti a szükséges komponenst a CodeInterpreterTool használatához a projektben, amely hasznos lehet olyan feladatokhoz, amelyek dinamikusan értelmezik és hajtják végre a kódot.\n"
   ]
  },
  {
   "cell_type": "code",
   "execution_count": null,
   "metadata": {
    "dotnet_interactive": {
     "language": "csharp"
    },
    "polyglot_notebook": {
     "kernelName": "csharp"
    }
   },
   "outputs": [],
   "source": [
    "from azure.ai.projects.models import CodeInterpreterTool"
   ]
  },
  {
   "cell_type": "markdown",
   "metadata": {},
   "source": [
    "# Magyarázat: \n",
    "Az ApprovalTerminationStrategy osztály egy speciális stratégiát biztosít egy AI ügynök működésének megszüntetésére. Az ügynök akkor áll le, ha az interakciós történetének utolsó üzenete tartalmazza a \"mentve\" szót. Ez hasznos lehet olyan helyzetekben, ahol az ügynök feladata befejezettnek tekinthető, amint megerősítést kap arról, hogy valami \"mentve\" lett. Határozza meg az interakciós módszert. Miután a foglalási terv mentésre került, leállítható, amikor megkapja a mentve jelet.\n"
   ]
  },
  {
   "cell_type": "code",
   "execution_count": null,
   "metadata": {
    "dotnet_interactive": {
     "language": "csharp"
    },
    "polyglot_notebook": {
     "kernelName": "csharp"
    }
   },
   "outputs": [],
   "source": [
    "class ApprovalTerminationStrategy(TerminationStrategy):\n",
    "    \"\"\"A strategy for determining when an agent should terminate.\"\"\"\n",
    "\n",
    "    async def should_agent_terminate(self, agent, history):\n",
    "        \"\"\"Check if the agent should terminate.\"\"\"\n",
    "        return \"saved\" in history[-1].content.lower()"
   ]
  },
  {
   "cell_type": "markdown",
   "metadata": {},
   "source": [
    "# Magyarázat:\n",
    "\n",
    "A kódsor egy AzureAIAgentSettings objektumot inicializál alapértelmezett vagy előre meghatározott beállításokkal a create() metódus meghívásával. Ez a beállításokat tartalmazó objektum (ai_agent_settings) ezután felhasználható egy AzureAIAgent példány konfigurálására és kezelésére.\n"
   ]
  },
  {
   "cell_type": "code",
   "execution_count": null,
   "metadata": {
    "dotnet_interactive": {
     "language": "csharp"
    },
    "polyglot_notebook": {
     "kernelName": "csharp"
    }
   },
   "outputs": [],
   "source": [
    "ai_agent_settings = AzureAIAgentSettings.create()"
   ]
  },
  {
   "cell_type": "markdown",
   "metadata": {},
   "source": [
    "# Magyarázat:\n",
    "A requests könyvtár importálásával egyszerűen végezhet HTTP kéréseket, és kapcsolatba léphet webes szolgáltatásokkal a Python kódjában.\n"
   ]
  },
  {
   "cell_type": "code",
   "execution_count": null,
   "metadata": {
    "dotnet_interactive": {
     "language": "csharp"
    },
    "polyglot_notebook": {
     "kernelName": "csharp"
    }
   },
   "outputs": [],
   "source": [
    "import requests"
   ]
  },
  {
   "cell_type": "markdown",
   "metadata": {},
   "source": [
    "# Magyarázat:\n",
    "Ez egy változó, amely az API-kulcsot tárolja egy SERP (Keresőmotor találati oldal) API szolgáltatás eléréséhez. Az API-kulcs egy egyedi azonosító, amelyet a fiókodhoz kapcsolódó kérések hitelesítésére használnak.\n",
    "\n",
    "'GOOGLE_SEARCH_API_KEY': Ez egy helyőrző szöveg. Cseréld ki a ''GOOGLE_SEARCH_API_KEY'' értéket a tényleges SERP API-kulcsodra.\n",
    "\n",
    "Cél: Ennek a sornak az a célja, hogy az API-kulcsot egy változóban tárolja, amelyet a SERP API szolgáltatás kéréseinek hitelesítésére lehet használni. Az API-kulcs szükséges a szolgáltatás eléréséhez és keresések végrehajtásához.\n",
    "\n",
    "Hogyan szerezhetsz SERP API-kulcsot: Az API-kulcs megszerzéséhez kövesd az alábbi általános lépéseket a https://serpapi.com oldalon (a pontos lépések eltérhetnek az általad használt konkrét SERP API szolgáltatástól):\n",
    "\n",
    "Válassz egy SERP API szolgáltatást: Számos SERP API szolgáltatás érhető el, például a SerpAPI, a Google Custom Search JSON API és mások. Válaszd ki azt, amelyik leginkább megfelel az igényeidnek.\n",
    "\n",
    "Regisztrálj egy fiókot:\n",
    "\n",
    "Látogass el a kiválasztott SERP API szolgáltatás weboldalára, például https://www.serpapi.com, és regisztrálj egy fiókot. Lehet, hogy meg kell adnod néhány alapvető információt, és meg kell erősítened az e-mail címedet.\n",
    "\n",
    "Hozz létre egy API-kulcsot:\n",
    "\n",
    "A regisztráció után jelentkezz be a fiókodba, és navigálj az API szekcióhoz vagy a vezérlőpulthoz. Keresd meg az új API-kulcs létrehozásának vagy generálásának lehetőségét.\n",
    "Másold ki az API-kulcsot:\n",
    "\n",
    "Miután az API-kulcsot létrehoztad, másold ki. Ezt a kulcsot fogod használni a SERP API szolgáltatás kéréseinek hitelesítésére.\n",
    "Cseréld ki a helyőrzőt:\n",
    "\n",
    "Cseréld ki a helyőrzőt a .env fájlodban.\n"
   ]
  },
  {
   "cell_type": "code",
   "execution_count": null,
   "metadata": {
    "dotnet_interactive": {
     "language": "csharp"
    },
    "polyglot_notebook": {
     "kernelName": "csharp"
    }
   },
   "outputs": [],
   "source": [
    "SERPAPI_SEARCH_API_KEY=os.getenv('SERPAPI_SEARCH_API_KEY')"
   ]
  },
  {
   "cell_type": "code",
   "execution_count": null,
   "metadata": {
    "dotnet_interactive": {
     "language": "csharp"
    },
    "polyglot_notebook": {
     "kernelName": "csharp"
    }
   },
   "outputs": [],
   "source": [
    "SERPAPI_SEARCH_ENDPOINT = os.getenv('SERPAPI_SEARCH_ENDPOINT')"
   ]
  },
  {
   "cell_type": "markdown",
   "metadata": {},
   "source": [
    "# Magyarázat:\n",
    "A BookingPlugin osztály olyan módszereket biztosít, amelyek segítségével szállodákat és repülőjáratokat lehet foglalni a Serpapi.com Google Search API használatával. Létrehozza a szükséges paramétereket, API-kéréseket küld, és feldolgozza a válaszokat, hogy releváns foglalási információkat adjon vissza. Az API-kulcs (SERPAPI_SEARCH_API_KEY) és az végpont (SERPAPI_SEARCH_ENDPOINT) azonosításra és a Google Search API-hoz való kérések küldésére szolgál.\n"
   ]
  },
  {
   "cell_type": "code",
   "execution_count": null,
   "metadata": {
    "dotnet_interactive": {
     "language": "csharp"
    },
    "polyglot_notebook": {
     "kernelName": "csharp"
    }
   },
   "outputs": [],
   "source": [
    "# Define Booking Plugin\n",
    "class BookingPlugin:\n",
    "    \"\"\"Booking Plugin for customers\"\"\"\n",
    "    @kernel_function(description=\"booking hotel\")\n",
    "    def booking_hotel(self,query: Annotated[str, \"The name of the city\"], check_in_date: Annotated[str, \"Hotel Check-in Time\"], check_out_date: Annotated[str, \"Hotel Check-in Time\"])-> Annotated[str, \"Return the result of booking hotel infomation\"]:\n",
    "\n",
    "        params = {\n",
    "            \"engine\": \"google_hotels\",\n",
    "            \"q\": query,\n",
    "            \"check_in_date\": check_in_date,\n",
    "            \"check_out_date\": check_out_date,\n",
    "            \"adults\": \"2\",\n",
    "            \"currency\": \"USD\",\n",
    "            \"gl\": \"us\",\n",
    "            \"hl\": \"en\",\n",
    "            \"api_key\": SERPAPI_SEARCH_API_KEY\n",
    "        }\n",
    "\n",
    "        response = requests.get(SERPAPI_SEARCH_ENDPOINT, params=params)\n",
    "        if response.status_code == 200:\n",
    "            response = response.json()\n",
    "            return response[\"properties\"]\n",
    "        else:\n",
    "            return None\n",
    "\n",
    "    \n",
    "    @kernel_function(description=\"booking fight\")\n",
    "    def  booking_fight(self,origin: Annotated[str, \"The name of Departure\"], destination: Annotated[str, \"The name of Destination\"], outbound_date: Annotated[str, \"The date of outbound\"], return_date: Annotated[str, \"The date of Return_date\"])-> Annotated[str, \"Return the result of booking fight infomation\"]:\n",
    "        \n",
    "        go_params = {\n",
    "            \"engine\": \"google_flights\",   \n",
    "            \"departure_id\": origin,\n",
    "            \"arrival_id\": destination,\n",
    "            \"outbound_date\": outbound_date,\n",
    "            \"return_date\": return_date,  \n",
    "            \"currency\": \"USD\",\n",
    "            \"hl\": \"en\",\n",
    "            \"api_key\": SERPAPI_SEARCH_API_KEY  \n",
    "        }\n",
    "\n",
    "        print(go_params)\n",
    "\n",
    "        go_response = requests.get(SERPAPI_SEARCH_ENDPOINT, params=go_params)\n",
    "\n",
    "\n",
    "        result = ''\n",
    "\n",
    "        if go_response.status_code == 200:\n",
    "            response = go_response.json()\n",
    "\n",
    "            result += \"# outbound \\n \" + str(response)\n",
    "        else:\n",
    "            print('error!!!')\n",
    "            # return None\n",
    "\n",
    "        \n",
    "        back_params = {\n",
    "            \"engine\": \"google_flights\",   \n",
    "            \"departure_id\": destination,\n",
    "            \"arrival_id\": origin,\n",
    "            \"outbound_date\": return_date,\n",
    "            \"return_date\": return_date,  \n",
    "            \"currency\": \"USD\",\n",
    "            \"hl\": \"en\",\n",
    "            \"api_key\": SERPAPI_SEARCH_API_KEY  \n",
    "        }\n",
    "\n",
    "\n",
    "        print(back_params)\n",
    "\n",
    "\n",
    "        back_response = requests.get(SERPAPI_SEARCH_ENDPOINT, params=back_params)\n",
    "\n",
    "\n",
    "\n",
    "        if back_response.status_code == 200:\n",
    "            response = back_response.json()\n",
    "\n",
    "            result += \"\\n # return \\n\"  + str(response)\n",
    "\n",
    "        else:\n",
    "            print('error!!!')\n",
    "            # return None\n",
    "        \n",
    "        print(result)\n",
    "\n",
    "        return result\n",
    "\n",
    "        \n"
   ]
  },
  {
   "cell_type": "markdown",
   "metadata": {},
   "source": [
    "# Magyarázat:\n",
    "A SavePlugin osztály egy saving_plan nevű metódust biztosít, amely lehetővé teszi az utazási tervek mentését az Azure AI szolgáltatások segítségével. Beállítja az Azure hitelesítő adatokat, létrehoz egy AI ügynököt, feldolgozza a felhasználói bemeneteket az utazási terv tartalmának létrehozásához és mentéséhez, valamint kezeli a fájlmentési és tisztítási műveleteket. A metódus sikeres befejezés esetén \"Saved\" értéket ad vissza.\n"
   ]
  },
  {
   "cell_type": "code",
   "execution_count": null,
   "metadata": {
    "dotnet_interactive": {
     "language": "csharp"
    },
    "polyglot_notebook": {
     "kernelName": "csharp"
    }
   },
   "outputs": [],
   "source": [
    "class SavePlugin:\n",
    "    \"\"\"Save Plugin for customers\"\"\"\n",
    "    @kernel_function(description=\"saving plan\")\n",
    "    async def saving_plan(self,tripplan: Annotated[str, \"The content of trip plan\"])-> Annotated[str, \"Return status of save content\"]:\n",
    "\n",
    "        async with (\n",
    "            DefaultAzureCredential() as creds,\n",
    "            AzureAIAgent.create_client(\n",
    "                credential=creds,\n",
    "                conn_str=ai_agent_settings.project_connection_string.get_secret_value(),\n",
    "            ) as client,\n",
    "        ):\n",
    "\n",
    "            code_interpreter = CodeInterpreterTool()\n",
    "            \n",
    "            agent_definition = await client.agents.create_agent(\n",
    "                model=ai_agent_settings.model_deployment_name,\n",
    "                tools=code_interpreter.definitions,\n",
    "                tool_resources=code_interpreter.resources,\n",
    "            )\n",
    "\n",
    "\n",
    "            agent = AzureAIAgent(\n",
    "                client=client,\n",
    "                definition=agent_definition,\n",
    "            )\n",
    "\n",
    "            thread = await client.agents.create_thread()\n",
    "\n",
    "\n",
    "            user_inputs = [\n",
    "                \"\"\"\n",
    "            \n",
    "                        You are my Python programming assistant. Generate code,save \"\"\"+ tripplan +\n",
    "                        \n",
    "                    \"\"\"    \n",
    "                        and execute it according to the following requirements\n",
    "\n",
    "                        1. Save blog content to trip-{YYMMDDHHMMSS}.md\n",
    "\n",
    "                        2. give me the download this file link\n",
    "                    \"\"\"\n",
    "            ]\n",
    "\n",
    "\n",
    "\n",
    "            try:\n",
    "                for user_input in user_inputs:\n",
    "                    # Add the user input as a chat message\n",
    "                    await agent.add_chat_message(\n",
    "                        thread_id=thread.id, message=ChatMessageContent(role=AuthorRole.USER, content=user_input)\n",
    "                    )\n",
    "                    print(f\"# User: '{user_input}'\")\n",
    "                    # Invoke the agent for the specified thread\n",
    "                    async for content in agent.invoke(thread_id=thread.id):\n",
    "                        if content.role != AuthorRole.TOOL:\n",
    "                            print(f\"# Agent: {content.content}\")\n",
    "\n",
    "                    \n",
    "                    messages = await client.agents.list_messages(thread_id=thread.id)\n",
    "\n",
    "                    # OpenAIPageableListOfThreadMessage\n",
    "                    # OpenAIPageableListOfThreadMessage\n",
    "\n",
    "\n",
    "                    for file_path_annotation in messages.file_path_annotations:\n",
    "\n",
    "                            file_name = os.path.basename(file_path_annotation.text)\n",
    "\n",
    "                            await client.agents.save_file(file_id=file_path_annotation.file_path.file_id, file_name=file_name,target_dir=\"./trip\")\n",
    "\n",
    "                    \n",
    "            finally:\n",
    "                await client.agents.delete_thread(thread.id)\n",
    "                await client.agents.delete_agent(agent.id)\n",
    "\n",
    "\n",
    "        return \"Saved\""
   ]
  },
  {
   "cell_type": "markdown",
   "metadata": {},
   "source": [
    "# Magyarázat:\n",
    "Ez a kód Azure AI ügynököket állít be repülőjegyek és szállodák foglalására, valamint utazási tervek mentésére a felhasználói bemenetek alapján. Azure hitelesítő adatokat használ az ügynökök létrehozásához és konfigurálásához, a felhasználói bemeneteket egy csoportos csevegésen keresztül dolgozza fel, és biztosítja a megfelelő takarítást a feladatok befejezése után. Az ügynökök speciális bővítményeket (BookingPlugin és SavePlugin) használnak a saját feladataik elvégzéséhez.\n"
   ]
  },
  {
   "cell_type": "code",
   "execution_count": null,
   "metadata": {
    "dotnet_interactive": {
     "language": "csharp"
    },
    "polyglot_notebook": {
     "kernelName": "csharp"
    }
   },
   "outputs": [],
   "source": [
    "async with (\n",
    "    DefaultAzureCredential() as creds,\n",
    "    AzureAIAgent.create_client(\n",
    "        credential=creds,\n",
    "        conn_str=ai_agent_settings.project_connection_string.get_secret_value(),\n",
    "    ) as client,\n",
    "):\n",
    "    BOOKING_AGENT_NAME = \"BookingAgent\"\n",
    "    BOOKING_AGENT_INSTRUCTIONS = \"\"\"\n",
    "    You are a booking agent. Help me book flights or hotels.\n",
    "\n",
    "    Thought: Please understand the user's intention and confirm whether to use the reservation system to complete the task.\n",
    "\n",
    "    Actions:\n",
    "    - For flight bookings, convert the departure and destination names into airport codes.\n",
    "    - Use the appropriate API for hotel or flight bookings. Verify that all necessary parameters are available. If any parameters are missing, ask the user to provide them. If all parameters are complete, call the corresponding function.\n",
    "    - If the task is not related to hotel or flight booking, respond with the final answer only.\n",
    "    - Output the results using a markdown table:\n",
    "      - For flight bookings, output separate outbound and return contents in the order of:\n",
    "        Departure Airport | Airline | Flight Number | Departure Time | Arrival Airport | Arrival Time | Duration | Airplane | Travel Class | Price (USD) | Legroom | Extensions | Carbon Emissions (kg).\n",
    "      - For hotel bookings, output in the order of:\n",
    "        Property Name | Property Description | Check-in Time | Check-out Time | Prices | Nearby Places | Hotel Class | GPS Coordinates.\n",
    "    \"\"\"\n",
    "\n",
    "    SAVE_AGENT_NAME = \"SaveAgent\"\n",
    "    SAVE_AGENT_INSTRUCTIONS = \"\"\"\n",
    "    You are a save tool agent. Help me to save the trip plan.\n",
    "    \"\"\"\n",
    "\n",
    "    # Create agent definition\n",
    "    booking_agent_definition = await client.agents.create_agent(\n",
    "        model=ai_agent_settings.model_deployment_name,\n",
    "        name=BOOKING_AGENT_NAME,\n",
    "        instructions=BOOKING_AGENT_INSTRUCTIONS,\n",
    "    )\n",
    "\n",
    "    # Create the AzureAI Agent\n",
    "    booking_agent = AzureAIAgent(\n",
    "        client=client,\n",
    "        definition=booking_agent_definition,\n",
    "        # Optionally configure polling options\n",
    "        # polling_options=RunPollingOptions(run_polling_interval=timedelta(seconds=1)),\n",
    "    )\n",
    "\n",
    "    # Add the sample plugin to the kernel\n",
    "    booking_agent.kernel.add_plugin(BookingPlugin(), plugin_name=\"booking\")\n",
    "\n",
    "    # Create agent definition\n",
    "    save_agent_definition = await client.agents.create_agent(\n",
    "        model=ai_agent_settings.model_deployment_name,\n",
    "        name=SAVE_AGENT_NAME,\n",
    "        instructions=SAVE_AGENT_INSTRUCTIONS\n",
    "    )\n",
    "\n",
    "    # Create the AzureAI Agent\n",
    "    save_agent = AzureAIAgent(\n",
    "        client=client,\n",
    "        definition=save_agent_definition,\n",
    "    )\n",
    "\n",
    "    save_agent.kernel.add_plugin(SavePlugin(), plugin_name=\"saving\")\n",
    "\n",
    "    user_inputs = [\n",
    "        \"I have a business trip from London to New York in Feb 20 2025 to Feb 27 2025 ,help me to book a hotel and fight tickets and save it\"\n",
    "    ]\n",
    "\n",
    "    chat = AgentGroupChat(\n",
    "        agents=[booking_agent, save_agent],\n",
    "        termination_strategy=ApprovalTerminationStrategy(agents=[save_agent], maximum_iterations=10),\n",
    "    )\n",
    "\n",
    "    try:\n",
    "        for user_input in user_inputs:\n",
    "            # Add the user input as a chat message\n",
    "            await chat.add_chat_message(\n",
    "                ChatMessageContent(role=AuthorRole.USER, content=user_input)\n",
    "            )\n",
    "            print(f\"# User: '{user_input}'\")\n",
    "\n",
    "            async for content in chat.invoke():\n",
    "                print(f\"# {content.role} - {content.name or '*'}: '{content.content}'\")\n",
    "\n",
    "            print(f\"# IS COMPLETE: {chat.is_complete}\")\n",
    "\n",
    "            print(\"*\" * 60)\n",
    "            print(\"Chat History (In Descending Order):\\n\")\n",
    "            async for message in chat.get_chat_messages(agent=save_agent):\n",
    "                print(f\"# {message.role} - {message.name or '*'}: '{message.content}'\")\n",
    "    finally:\n",
    "        await chat.reset()\n",
    "        await client.agents.delete_agent(save_agent.id)\n",
    "        await client.agents.delete_agent(booking_agent.id)\n"
   ]
  },
  {
   "cell_type": "markdown",
   "metadata": {},
   "source": [
    "\n---\n\n**Felelősség kizárása**:  \nEz a dokumentum az AI fordítási szolgáltatás, a [Co-op Translator](https://github.com/Azure/co-op-translator) segítségével lett lefordítva. Bár törekszünk a pontosságra, kérjük, vegye figyelembe, hogy az automatikus fordítások hibákat vagy pontatlanságokat tartalmazhatnak. Az eredeti dokumentum az eredeti nyelvén tekintendő hiteles forrásnak. Kritikus információk esetén javasolt professzionális emberi fordítást igénybe venni. Nem vállalunk felelősséget semmilyen félreértésért vagy téves értelmezésért, amely a fordítás használatából eredhet.\n"
   ]
  }
 ],
 "metadata": {
  "kernelspec": {
   "display_name": "3.12.1",
   "language": "python",
   "name": "python3"
  },
  "language_info": {
   "codemirror_mode": {
    "name": "ipython",
    "version": 3
   },
   "file_extension": ".py",
   "mimetype": "text/x-python",
   "name": "python",
   "nbconvert_exporter": "python",
   "pygments_lexer": "ipython3",
   "version": "3.12.1"
  },
  "polyglot_notebook": {
   "kernelInfo": {
    "defaultKernelName": "csharp",
    "items": [
     {
      "aliases": [],
      "name": "csharp"
     }
    ]
   }
  },
  "coopTranslator": {
   "original_hash": "1baa60020a95eda27b7e9ecfda99965b",
   "translation_date": "2025-08-29T21:48:36+00:00",
   "source_file": "08-multi-agent/code_samples/08-python_multi_aiagent_bookinghotel.ipynb",
   "language_code": "hu"
  }
 },
 "nbformat": 4,
 "nbformat_minor": 2
}