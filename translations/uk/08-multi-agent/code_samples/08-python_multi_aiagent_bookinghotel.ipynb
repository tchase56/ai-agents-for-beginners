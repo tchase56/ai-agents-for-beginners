{
 "cells": [
  {
   "cell_type": "markdown",
   "metadata": {},
   "source": [
    "## **Зразки: Багато-АІ Агенти для бронювання готелів**\n",
    "\n",
    "У сучасному стрімкому світі планування ділової поїздки включає більше, ніж просто бронювання авіаквитка та номера в готелі. Це вимагає рівня координації та ефективності, досягти якого може бути непросто. Саме тут на допомогу приходять Багато-АІ Агенти, які змінюють підхід до управління нашими потребами в подорожах.\n",
    "\n",
    "Уявіть, що у вас є команда інтелектуальних агентів, які працюють разом, щоб з легкістю та точністю впоратися з кожним аспектом вашої поїздки. Завдяки нашій передовій технології штучного інтелекту ми створили спеціалізованих агентів для бронювання послуг та організації маршрутів, забезпечуючи безперебійну та безстресову подорож.\n",
    "\n",
    "Це базовий сценарій. Під час планування ділової поїздки нам потрібно проконсультуватися з агентом з ділових подорожей, щоб отримати інформацію про авіаквитки, готелі тощо. Завдяки АІ Агентам ми можемо створити агентів для бронювання послуг та агентів для організації маршрутів, які співпрацюватимуть і підвищуватимуть рівень інтелектуальності.\n"
   ]
  },
  {
   "cell_type": "markdown",
   "metadata": {},
   "source": [
    "# Ініціалізація служби Azure AI Agent та отримання інформації про конфігурацію з **.env**\n",
    "\n",
    "### **.env**\n",
    "\n",
    "Створіть файл .env\n",
    "\n",
    "**.env** містить рядок підключення до служби Azure AI Agent, модель, яку використовує AOAI, а також відповідний API Google Search, ENDPOINT тощо.\n",
    "\n",
    "- **AZURE_AI_AGENT_MODEL_DEPLOYMENT_NAME** = \"Назва розгортання моделі вашої служби Azure AI Agent\"\n",
    "\n",
    "[**NOTE**] Вам знадобиться модель із лімітом 100,000 токенів за хвилину та лімітом 600 запитів за хвилину.\n",
    "\n",
    "  Ви можете отримати модель у розділі Azure AI Foundry - Model and Endpoint.\n",
    "\n",
    "- **AZURE_AI_AGENT_PROJECT_CONNECTION_STRING** = \"Рядок підключення до проекту вашої служби Azure AI Agent\"\n",
    "\n",
    "  Ви можете отримати рядок підключення до проекту в огляді вашого проекту на екрані порталу AI Foundry.\n",
    "\n",
    "- **SERPAPI_SEARCH_API_KEY** = \"Ваш ключ API для SERPAPI Search\"\n",
    "- **SERPAPI_SEARCH_ENDPOINT** = \"Ваш ENDPOINT для SERPAPI Search\"\n",
    "\n",
    "Щоб отримати назву розгортання моделі та рядок підключення до проекту служби Azure AI Agent, необхідно створити службу Azure AI Agent. Рекомендується використовувати [цей шаблон](https://portal.azure.com/#create/Microsoft.Template/uri/https%3A%2F%2Fraw.githubusercontent.com%2Ffosteramanda%2Fazure-agent-quickstart-templates%2Frefs%2Fheads%2Fmaster%2Fquickstarts%2Fmicrosoft.azure-ai-agent-service%2Fstandard-agent%2Fazuredeploy.json) для прямого створення. (***Примітка:*** Служба Azure AI Agent наразі доступна лише в обмежених регіонах. Рекомендується ознайомитися з [цим посиланням](https://learn.microsoft.com/en-us/azure/ai-services/agents/concepts/model-region-support) для налаштування регіону.)\n",
    "\n",
    "Агенту необхідно отримати доступ до SERPAPI. Рекомендується зареєструватися за [цим посиланням](https://serpapi.com/searches). Після реєстрації ви зможете отримати унікальний ключ API та ENDPOINT.\n"
   ]
  },
  {
   "cell_type": "markdown",
   "metadata": {},
   "source": [
    "# Вхід до Azure\n",
    "\n",
    "Тепер вам потрібно увійти до Azure. Відкрийте термінал у VScode і виконайте команду `az login`.\n"
   ]
  },
  {
   "cell_type": "markdown",
   "metadata": {},
   "source": [
    "# Налаштування\n",
    "\n",
    "Щоб запустити цей блокнот, вам потрібно встановити наступні бібліотеки. Ось список необхідних бібліотек та відповідні команди для їх встановлення через pip:\n",
    "\n",
    "azure-identity: Для автентифікації в Azure.  \n",
    "requests: Для виконання HTTP-запитів.  \n",
    "semantic-kernel: Для фреймворку семантичного ядра (якщо це спеціальна або кастомна бібліотека, можливо, її потрібно встановити з конкретного джерела або репозиторію).  \n"
   ]
  },
  {
   "cell_type": "code",
   "execution_count": null,
   "metadata": {},
   "outputs": [],
   "source": [
    "!pip install azure-identity\n",
    "!pip install requests\n",
    "!pip install semantic-kernel\n",
    "!pip install --upgrade semantic_kernel\n",
    "!pip install azure-cli"
   ]
  },
  {
   "cell_type": "markdown",
   "metadata": {},
   "source": [
    "# Пояснення: \n",
    "import asyncio: Це імпортує модуль asyncio, який забезпечує підтримку асинхронного програмування в Python. Він дозволяє писати паралельний код, використовуючи синтаксис async та await.\n",
    "from typing import Annotated: Це імпортує тип Annotated з модуля typing. Annotated використовується для додавання метаданих до типових підказок, що може бути корисним для різних цілей, таких як валідація, документація або інструменти.\n"
   ]
  },
  {
   "cell_type": "code",
   "execution_count": null,
   "metadata": {
    "dotnet_interactive": {
     "language": "csharp"
    },
    "polyglot_notebook": {
     "kernelName": "csharp"
    }
   },
   "outputs": [],
   "source": [
    "import asyncio,os\n",
    "from typing import Annotated"
   ]
  },
  {
   "cell_type": "markdown",
   "metadata": {},
   "source": [
    "# Пояснення:\n",
    "Використовуючи from dotenv import load_dotenv і load_dotenv(), ви можете легко керувати налаштуваннями конфігурації та чутливою інформацією (наприклад, API-ключами та URL-адресами баз даних) у файлі .env, зберігаючи їх окремо від вашого вихідного коду. Це робить ваш додаток більш безпечним і простішим у налаштуванні.\n"
   ]
  },
  {
   "cell_type": "code",
   "execution_count": null,
   "metadata": {},
   "outputs": [],
   "source": [
    "import os\n",
    "from dotenv import load_dotenv\n",
    "\n",
    "# Load environment variables from .env file\n",
    "load_dotenv()"
   ]
  },
  {
   "cell_type": "markdown",
   "metadata": {},
   "source": [
    "# Пояснення:\n",
    "\n",
    "Імпорт: from azure.identity.aio import DefaultAzureCredential: Цей рядок імпортує клас DefaultAzureCredential з модуля azure.identity.aio. Частина \"aio\" у назві модуля вказує на те, що він призначений для асинхронних операцій.\n",
    "\n",
    "Призначення DefaultAzureCredential: Клас DefaultAzureCredential є частиною Azure SDK для Python. Він забезпечує стандартний спосіб автентифікації з сервісами Azure. Клас намагається виконати автентифікацію за допомогою кількох методів у певному порядку, таких як змінні середовища, керована ідентичність і облікові дані Azure CLI.\n",
    "\n",
    "Асинхронні операції: Модуль aio вказує на те, що клас DefaultAzureCredential підтримує асинхронні операції. Це означає, що його можна використовувати з asyncio для виконання запитів автентифікації без блокування.\n"
   ]
  },
  {
   "cell_type": "code",
   "execution_count": null,
   "metadata": {
    "dotnet_interactive": {
     "language": "csharp"
    },
    "polyglot_notebook": {
     "kernelName": "csharp"
    }
   },
   "outputs": [],
   "source": [
    "from azure.identity.aio import DefaultAzureCredential"
   ]
  },
  {
   "cell_type": "markdown",
   "metadata": {},
   "source": [
    "# Пояснення:\n",
    "Імпортуються різні модулі та класи з пакету semantic_kernel. Ось розбір кожного імпорту:\n",
    "\n",
    "AgentGroupChat з semantic_kernel.agents: Цей клас відповідає за функціонал групового чату для AI-агентів. AzureAIAgent та AzureAIAgentSettings з semantic_kernel.agents.azure_ai\n",
    "\n",
    "AzureAIAgent: Цей клас використовується для створення та управління AI-агентами, які використовують сервіси Azure AI.\n",
    "\n",
    "AzureAIAgentSettings: Цей клас використовується для налаштування параметрів AzureAIAgent. TerminationStrategy з semantic_kernel.agents.strategies.termination.termination_strategy:\n",
    "\n",
    "Цей клас визначає стратегії завершення виконання AI-агентів за певних умов. ChatMessageContent з semantic_kernel.contents.chat_message_content:\n",
    "\n",
    "Цей клас використовується для роботи з вмістом повідомлень у чаті.\n",
    "AuthorRole з semantic_kernel.contents.utils.author_role:\n",
    "\n",
    "Цей клас визначає різні ролі авторів у контексті повідомлень у чаті.\n",
    "\n",
    "kernel_function з semantic_kernel.functions.kernel_function_decorator: Цей декоратор використовується для визначення функцій ядра, які можуть виконуватися в рамках семантичного ядра.\n",
    "Ці імпорти налаштовують необхідні компоненти для створення та управління AI-агентами, які можуть взаємодіяти в середовищі групового чату, можливо, для виконання завдань, таких як бронювання готелів або подібні активності.\n"
   ]
  },
  {
   "cell_type": "code",
   "execution_count": null,
   "metadata": {
    "dotnet_interactive": {
     "language": "csharp"
    },
    "polyglot_notebook": {
     "kernelName": "csharp"
    }
   },
   "outputs": [],
   "source": [
    "from semantic_kernel.agents import AgentGroupChat\n",
    "from semantic_kernel.agents import AzureAIAgent, AzureAIAgentSettings\n",
    "from semantic_kernel.agents.strategies.termination.termination_strategy import TerminationStrategy\n",
    "from semantic_kernel.contents import ChatMessageContent\n",
    "from semantic_kernel.contents import AuthorRole\n",
    "from semantic_kernel.functions.kernel_function_decorator import kernel_function"
   ]
  },
  {
   "cell_type": "markdown",
   "metadata": {},
   "source": [
    "# Пояснення:\n",
    "Далі ми імпортуємо клас CodeInterpreterTool з модуля azure.ai.projects.models.\n",
    "\n",
    "CodeInterpreterTool: Цей клас є частиною SDK Azure AI і використовується для інтерпретації та виконання коду в контексті AI-проєктів. Він забезпечує функціонал для запуску фрагментів коду, аналізу коду або інтеграції виконання коду в AI-робочі процеси. Цей імпорт налаштовує необхідний компонент для використання CodeInterpreterTool у вашому проєкті, що може бути корисним для завдань, пов’язаних з динамічною інтерпретацією та виконанням коду.\n"
   ]
  },
  {
   "cell_type": "code",
   "execution_count": null,
   "metadata": {
    "dotnet_interactive": {
     "language": "csharp"
    },
    "polyglot_notebook": {
     "kernelName": "csharp"
    }
   },
   "outputs": [],
   "source": [
    "from azure.ai.projects.models import CodeInterpreterTool"
   ]
  },
  {
   "cell_type": "markdown",
   "metadata": {},
   "source": [
    "# Пояснення:  \n",
    "Клас ApprovalTerminationStrategy надає конкретну стратегію для завершення роботи AI-агента. Агент завершить свою роботу, якщо останнє повідомлення в його історії взаємодії містить слово \"збережено\". Це може бути корисним у сценаріях, коли завдання агента вважається виконаним після отримання підтвердження, що щось було \"збережено\". Визначте метод взаємодії. Після того, як план резервування збережено, його можна зупинити при отриманні сигналу \"збережено\".\n"
   ]
  },
  {
   "cell_type": "code",
   "execution_count": null,
   "metadata": {
    "dotnet_interactive": {
     "language": "csharp"
    },
    "polyglot_notebook": {
     "kernelName": "csharp"
    }
   },
   "outputs": [],
   "source": [
    "class ApprovalTerminationStrategy(TerminationStrategy):\n",
    "    \"\"\"A strategy for determining when an agent should terminate.\"\"\"\n",
    "\n",
    "    async def should_agent_terminate(self, agent, history):\n",
    "        \"\"\"Check if the agent should terminate.\"\"\"\n",
    "        return \"saved\" in history[-1].content.lower()"
   ]
  },
  {
   "cell_type": "markdown",
   "metadata": {},
   "source": [
    "# Пояснення:\n",
    "\n",
    "Цей рядок коду ініціалізує об'єкт AzureAIAgentSettings із типовими або заздалегідь визначеними налаштуваннями, викликаючи метод create(). Цей об'єкт налаштувань (ai_agent_settings) потім можна використовувати для налаштування та управління екземпляром AzureAIAgent.\n"
   ]
  },
  {
   "cell_type": "code",
   "execution_count": null,
   "metadata": {
    "dotnet_interactive": {
     "language": "csharp"
    },
    "polyglot_notebook": {
     "kernelName": "csharp"
    }
   },
   "outputs": [],
   "source": [
    "ai_agent_settings = AzureAIAgentSettings.create()"
   ]
  },
  {
   "cell_type": "markdown",
   "metadata": {},
   "source": [
    "# Пояснення:\n",
    "Імпортуючи бібліотеку requests, ви можете легко виконувати HTTP-запити та взаємодіяти з веб-сервісами у вашому коді Python.\n"
   ]
  },
  {
   "cell_type": "code",
   "execution_count": null,
   "metadata": {
    "dotnet_interactive": {
     "language": "csharp"
    },
    "polyglot_notebook": {
     "kernelName": "csharp"
    }
   },
   "outputs": [],
   "source": [
    "import requests"
   ]
  },
  {
   "cell_type": "markdown",
   "metadata": {},
   "source": [
    "# Пояснення:\n",
    "Це змінна, яка зберігає ключ API для доступу до сервісу API пошукової сторінки (SERP). Ключ API — це унікальний ідентифікатор, який використовується для автентифікації запитів, пов'язаних із вашим обліковим записом.\n",
    "\n",
    "'GOOGLE_SEARCH_API_KEY': Це рядок-заглушка. Вам потрібно замінити ''GOOGLE_SEARCH_API_KEY' на ваш фактичний ключ API для SERP.\n",
    "\n",
    "Призначення: Мета цього рядка — зберігати ключ API у змінній, щоб його можна було використовувати для автентифікації запитів до сервісу SERP API. Ключ API необхідний для доступу до сервісу та виконання пошукових запитів.\n",
    "\n",
    "Як отримати ключ API для SERP: Щоб отримати ключ API для SERP, виконайте наступні загальні кроки на https://serpapi.com (точні кроки можуть відрізнятися залежно від конкретного сервісу SERP API, який ви використовуєте):\n",
    "\n",
    "Виберіть сервіс SERP API: Існує кілька доступних сервісів SERP API, таких як SerpAPI, Google Custom Search JSON API та інші. Виберіть той, який найкраще відповідає вашим потребам.\n",
    "\n",
    "Зареєструйте обліковий запис:\n",
    "\n",
    "Перейдіть на вебсайт обраного сервісу SERP API https://www.serpapi.com і зареєструйте обліковий запис. Можливо, вам доведеться надати базову інформацію та підтвердити свою електронну адресу.\n",
    "\n",
    "Створіть ключ API:\n",
    "\n",
    "Після реєстрації увійдіть до свого облікового запису та перейдіть до розділу API або панелі керування. Знайдіть опцію для створення або генерації нового ключа API.\n",
    "Скопіюйте ключ API:\n",
    "\n",
    "Після генерації ключа API скопіюйте його. Цей ключ буде використовуватися для автентифікації ваших запитів до сервісу SERP API.\n",
    "Замініть заглушку:\n",
    "\n",
    "Замініть заглушку у вашому файлі .env\n"
   ]
  },
  {
   "cell_type": "code",
   "execution_count": null,
   "metadata": {
    "dotnet_interactive": {
     "language": "csharp"
    },
    "polyglot_notebook": {
     "kernelName": "csharp"
    }
   },
   "outputs": [],
   "source": [
    "SERPAPI_SEARCH_API_KEY=os.getenv('SERPAPI_SEARCH_API_KEY')"
   ]
  },
  {
   "cell_type": "code",
   "execution_count": null,
   "metadata": {
    "dotnet_interactive": {
     "language": "csharp"
    },
    "polyglot_notebook": {
     "kernelName": "csharp"
    }
   },
   "outputs": [],
   "source": [
    "SERPAPI_SEARCH_ENDPOINT = os.getenv('SERPAPI_SEARCH_ENDPOINT')"
   ]
  },
  {
   "cell_type": "markdown",
   "metadata": {},
   "source": [
    "# Пояснення:\n",
    "Клас BookingPlugin надає методи для бронювання готелів і авіарейсів за допомогою Google Search API від Serpapi.com. Він формує необхідні параметри, надсилає запити до API та обробляє відповіді, щоб повернути відповідну інформацію про бронювання. API-ключ (SERPAPI_SEARCH_API_KEY) і кінцева точка (SERPAPI_SEARCH_ENDPOINT) використовуються для автентифікації та надсилання запитів до Google Search API.\n"
   ]
  },
  {
   "cell_type": "code",
   "execution_count": null,
   "metadata": {
    "dotnet_interactive": {
     "language": "csharp"
    },
    "polyglot_notebook": {
     "kernelName": "csharp"
    }
   },
   "outputs": [],
   "source": [
    "# Define Booking Plugin\n",
    "class BookingPlugin:\n",
    "    \"\"\"Booking Plugin for customers\"\"\"\n",
    "    @kernel_function(description=\"booking hotel\")\n",
    "    def booking_hotel(self,query: Annotated[str, \"The name of the city\"], check_in_date: Annotated[str, \"Hotel Check-in Time\"], check_out_date: Annotated[str, \"Hotel Check-in Time\"])-> Annotated[str, \"Return the result of booking hotel infomation\"]:\n",
    "\n",
    "        params = {\n",
    "            \"engine\": \"google_hotels\",\n",
    "            \"q\": query,\n",
    "            \"check_in_date\": check_in_date,\n",
    "            \"check_out_date\": check_out_date,\n",
    "            \"adults\": \"2\",\n",
    "            \"currency\": \"USD\",\n",
    "            \"gl\": \"us\",\n",
    "            \"hl\": \"en\",\n",
    "            \"api_key\": SERPAPI_SEARCH_API_KEY\n",
    "        }\n",
    "\n",
    "        response = requests.get(SERPAPI_SEARCH_ENDPOINT, params=params)\n",
    "        if response.status_code == 200:\n",
    "            response = response.json()\n",
    "            return response[\"properties\"]\n",
    "        else:\n",
    "            return None\n",
    "\n",
    "    \n",
    "    @kernel_function(description=\"booking fight\")\n",
    "    def  booking_fight(self,origin: Annotated[str, \"The name of Departure\"], destination: Annotated[str, \"The name of Destination\"], outbound_date: Annotated[str, \"The date of outbound\"], return_date: Annotated[str, \"The date of Return_date\"])-> Annotated[str, \"Return the result of booking fight infomation\"]:\n",
    "        \n",
    "        go_params = {\n",
    "            \"engine\": \"google_flights\",   \n",
    "            \"departure_id\": origin,\n",
    "            \"arrival_id\": destination,\n",
    "            \"outbound_date\": outbound_date,\n",
    "            \"return_date\": return_date,  \n",
    "            \"currency\": \"USD\",\n",
    "            \"hl\": \"en\",\n",
    "            \"api_key\": SERPAPI_SEARCH_API_KEY  \n",
    "        }\n",
    "\n",
    "        print(go_params)\n",
    "\n",
    "        go_response = requests.get(SERPAPI_SEARCH_ENDPOINT, params=go_params)\n",
    "\n",
    "\n",
    "        result = ''\n",
    "\n",
    "        if go_response.status_code == 200:\n",
    "            response = go_response.json()\n",
    "\n",
    "            result += \"# outbound \\n \" + str(response)\n",
    "        else:\n",
    "            print('error!!!')\n",
    "            # return None\n",
    "\n",
    "        \n",
    "        back_params = {\n",
    "            \"engine\": \"google_flights\",   \n",
    "            \"departure_id\": destination,\n",
    "            \"arrival_id\": origin,\n",
    "            \"outbound_date\": return_date,\n",
    "            \"return_date\": return_date,  \n",
    "            \"currency\": \"USD\",\n",
    "            \"hl\": \"en\",\n",
    "            \"api_key\": SERPAPI_SEARCH_API_KEY  \n",
    "        }\n",
    "\n",
    "\n",
    "        print(back_params)\n",
    "\n",
    "\n",
    "        back_response = requests.get(SERPAPI_SEARCH_ENDPOINT, params=back_params)\n",
    "\n",
    "\n",
    "\n",
    "        if back_response.status_code == 200:\n",
    "            response = back_response.json()\n",
    "\n",
    "            result += \"\\n # return \\n\"  + str(response)\n",
    "\n",
    "        else:\n",
    "            print('error!!!')\n",
    "            # return None\n",
    "        \n",
    "        print(result)\n",
    "\n",
    "        return result\n",
    "\n",
    "        \n"
   ]
  },
  {
   "cell_type": "markdown",
   "metadata": {},
   "source": [
    "# Пояснення:\n",
    "Клас SavePlugin надає метод saving_plan для збереження планів подорожей за допомогою сервісів Azure AI. Він налаштовує облікові дані Azure, створює AI-агента, обробляє введені користувачем дані для створення та збереження змісту плану подорожі, а також виконує операції збереження файлів і очищення. Метод повертає \"Saved\" після успішного завершення.\n"
   ]
  },
  {
   "cell_type": "code",
   "execution_count": null,
   "metadata": {
    "dotnet_interactive": {
     "language": "csharp"
    },
    "polyglot_notebook": {
     "kernelName": "csharp"
    }
   },
   "outputs": [],
   "source": [
    "class SavePlugin:\n",
    "    \"\"\"Save Plugin for customers\"\"\"\n",
    "    @kernel_function(description=\"saving plan\")\n",
    "    async def saving_plan(self,tripplan: Annotated[str, \"The content of trip plan\"])-> Annotated[str, \"Return status of save content\"]:\n",
    "\n",
    "        async with (\n",
    "            DefaultAzureCredential() as creds,\n",
    "            AzureAIAgent.create_client(\n",
    "                credential=creds,\n",
    "                conn_str=ai_agent_settings.project_connection_string.get_secret_value(),\n",
    "            ) as client,\n",
    "        ):\n",
    "\n",
    "            code_interpreter = CodeInterpreterTool()\n",
    "            \n",
    "            agent_definition = await client.agents.create_agent(\n",
    "                model=ai_agent_settings.model_deployment_name,\n",
    "                tools=code_interpreter.definitions,\n",
    "                tool_resources=code_interpreter.resources,\n",
    "            )\n",
    "\n",
    "\n",
    "            agent = AzureAIAgent(\n",
    "                client=client,\n",
    "                definition=agent_definition,\n",
    "            )\n",
    "\n",
    "            thread = await client.agents.create_thread()\n",
    "\n",
    "\n",
    "            user_inputs = [\n",
    "                \"\"\"\n",
    "            \n",
    "                        You are my Python programming assistant. Generate code,save \"\"\"+ tripplan +\n",
    "                        \n",
    "                    \"\"\"    \n",
    "                        and execute it according to the following requirements\n",
    "\n",
    "                        1. Save blog content to trip-{YYMMDDHHMMSS}.md\n",
    "\n",
    "                        2. give me the download this file link\n",
    "                    \"\"\"\n",
    "            ]\n",
    "\n",
    "\n",
    "\n",
    "            try:\n",
    "                for user_input in user_inputs:\n",
    "                    # Add the user input as a chat message\n",
    "                    await agent.add_chat_message(\n",
    "                        thread_id=thread.id, message=ChatMessageContent(role=AuthorRole.USER, content=user_input)\n",
    "                    )\n",
    "                    print(f\"# User: '{user_input}'\")\n",
    "                    # Invoke the agent for the specified thread\n",
    "                    async for content in agent.invoke(thread_id=thread.id):\n",
    "                        if content.role != AuthorRole.TOOL:\n",
    "                            print(f\"# Agent: {content.content}\")\n",
    "\n",
    "                    \n",
    "                    messages = await client.agents.list_messages(thread_id=thread.id)\n",
    "\n",
    "                    # OpenAIPageableListOfThreadMessage\n",
    "                    # OpenAIPageableListOfThreadMessage\n",
    "\n",
    "\n",
    "                    for file_path_annotation in messages.file_path_annotations:\n",
    "\n",
    "                            file_name = os.path.basename(file_path_annotation.text)\n",
    "\n",
    "                            await client.agents.save_file(file_id=file_path_annotation.file_path.file_id, file_name=file_name,target_dir=\"./trip\")\n",
    "\n",
    "                    \n",
    "            finally:\n",
    "                await client.agents.delete_thread(thread.id)\n",
    "                await client.agents.delete_agent(agent.id)\n",
    "\n",
    "\n",
    "        return \"Saved\""
   ]
  },
  {
   "cell_type": "markdown",
   "metadata": {},
   "source": [
    "# Пояснення:\n",
    "Цей код налаштовує агентів Azure AI для бронювання авіаквитків і готелів, а також збереження планів подорожей на основі введених користувачем даних. Він використовує облікові дані Azure для створення та налаштування агентів, обробляє введення користувача через груповий чат і забезпечує належне очищення після завершення завдань. Агенти використовують певні плагіни (BookingPlugin і SavePlugin) для виконання своїх відповідних завдань.\n"
   ]
  },
  {
   "cell_type": "code",
   "execution_count": null,
   "metadata": {
    "dotnet_interactive": {
     "language": "csharp"
    },
    "polyglot_notebook": {
     "kernelName": "csharp"
    }
   },
   "outputs": [],
   "source": [
    "async with (\n",
    "    DefaultAzureCredential() as creds,\n",
    "    AzureAIAgent.create_client(\n",
    "        credential=creds,\n",
    "        conn_str=ai_agent_settings.project_connection_string.get_secret_value(),\n",
    "    ) as client,\n",
    "):\n",
    "    BOOKING_AGENT_NAME = \"BookingAgent\"\n",
    "    BOOKING_AGENT_INSTRUCTIONS = \"\"\"\n",
    "    You are a booking agent. Help me book flights or hotels.\n",
    "\n",
    "    Thought: Please understand the user's intention and confirm whether to use the reservation system to complete the task.\n",
    "\n",
    "    Actions:\n",
    "    - For flight bookings, convert the departure and destination names into airport codes.\n",
    "    - Use the appropriate API for hotel or flight bookings. Verify that all necessary parameters are available. If any parameters are missing, ask the user to provide them. If all parameters are complete, call the corresponding function.\n",
    "    - If the task is not related to hotel or flight booking, respond with the final answer only.\n",
    "    - Output the results using a markdown table:\n",
    "      - For flight bookings, output separate outbound and return contents in the order of:\n",
    "        Departure Airport | Airline | Flight Number | Departure Time | Arrival Airport | Arrival Time | Duration | Airplane | Travel Class | Price (USD) | Legroom | Extensions | Carbon Emissions (kg).\n",
    "      - For hotel bookings, output in the order of:\n",
    "        Property Name | Property Description | Check-in Time | Check-out Time | Prices | Nearby Places | Hotel Class | GPS Coordinates.\n",
    "    \"\"\"\n",
    "\n",
    "    SAVE_AGENT_NAME = \"SaveAgent\"\n",
    "    SAVE_AGENT_INSTRUCTIONS = \"\"\"\n",
    "    You are a save tool agent. Help me to save the trip plan.\n",
    "    \"\"\"\n",
    "\n",
    "    # Create agent definition\n",
    "    booking_agent_definition = await client.agents.create_agent(\n",
    "        model=ai_agent_settings.model_deployment_name,\n",
    "        name=BOOKING_AGENT_NAME,\n",
    "        instructions=BOOKING_AGENT_INSTRUCTIONS,\n",
    "    )\n",
    "\n",
    "    # Create the AzureAI Agent\n",
    "    booking_agent = AzureAIAgent(\n",
    "        client=client,\n",
    "        definition=booking_agent_definition,\n",
    "        # Optionally configure polling options\n",
    "        # polling_options=RunPollingOptions(run_polling_interval=timedelta(seconds=1)),\n",
    "    )\n",
    "\n",
    "    # Add the sample plugin to the kernel\n",
    "    booking_agent.kernel.add_plugin(BookingPlugin(), plugin_name=\"booking\")\n",
    "\n",
    "    # Create agent definition\n",
    "    save_agent_definition = await client.agents.create_agent(\n",
    "        model=ai_agent_settings.model_deployment_name,\n",
    "        name=SAVE_AGENT_NAME,\n",
    "        instructions=SAVE_AGENT_INSTRUCTIONS\n",
    "    )\n",
    "\n",
    "    # Create the AzureAI Agent\n",
    "    save_agent = AzureAIAgent(\n",
    "        client=client,\n",
    "        definition=save_agent_definition,\n",
    "    )\n",
    "\n",
    "    save_agent.kernel.add_plugin(SavePlugin(), plugin_name=\"saving\")\n",
    "\n",
    "    user_inputs = [\n",
    "        \"I have a business trip from London to New York in Feb 20 2025 to Feb 27 2025 ,help me to book a hotel and fight tickets and save it\"\n",
    "    ]\n",
    "\n",
    "    chat = AgentGroupChat(\n",
    "        agents=[booking_agent, save_agent],\n",
    "        termination_strategy=ApprovalTerminationStrategy(agents=[save_agent], maximum_iterations=10),\n",
    "    )\n",
    "\n",
    "    try:\n",
    "        for user_input in user_inputs:\n",
    "            # Add the user input as a chat message\n",
    "            await chat.add_chat_message(\n",
    "                ChatMessageContent(role=AuthorRole.USER, content=user_input)\n",
    "            )\n",
    "            print(f\"# User: '{user_input}'\")\n",
    "\n",
    "            async for content in chat.invoke():\n",
    "                print(f\"# {content.role} - {content.name or '*'}: '{content.content}'\")\n",
    "\n",
    "            print(f\"# IS COMPLETE: {chat.is_complete}\")\n",
    "\n",
    "            print(\"*\" * 60)\n",
    "            print(\"Chat History (In Descending Order):\\n\")\n",
    "            async for message in chat.get_chat_messages(agent=save_agent):\n",
    "                print(f\"# {message.role} - {message.name or '*'}: '{message.content}'\")\n",
    "    finally:\n",
    "        await chat.reset()\n",
    "        await client.agents.delete_agent(save_agent.id)\n",
    "        await client.agents.delete_agent(booking_agent.id)\n"
   ]
  },
  {
   "cell_type": "markdown",
   "metadata": {},
   "source": [
    "\n---\n\n**Відмова від відповідальності**:  \nЦей документ був перекладений за допомогою сервісу автоматичного перекладу [Co-op Translator](https://github.com/Azure/co-op-translator). Хоча ми прагнемо до точності, будь ласка, майте на увазі, що автоматичні переклади можуть містити помилки або неточності. Оригінальний документ на його рідній мові слід вважати авторитетним джерелом. Для критичної інформації рекомендується професійний людський переклад. Ми не несемо відповідальності за будь-які непорозуміння або неправильні тлумачення, що виникають внаслідок використання цього перекладу.\n"
   ]
  }
 ],
 "metadata": {
  "kernelspec": {
   "display_name": "3.12.1",
   "language": "python",
   "name": "python3"
  },
  "language_info": {
   "codemirror_mode": {
    "name": "ipython",
    "version": 3
   },
   "file_extension": ".py",
   "mimetype": "text/x-python",
   "name": "python",
   "nbconvert_exporter": "python",
   "pygments_lexer": "ipython3",
   "version": "3.12.1"
  },
  "polyglot_notebook": {
   "kernelInfo": {
    "defaultKernelName": "csharp",
    "items": [
     {
      "aliases": [],
      "name": "csharp"
     }
    ]
   }
  },
  "coopTranslator": {
   "original_hash": "1baa60020a95eda27b7e9ecfda99965b",
   "translation_date": "2025-08-30T00:49:19+00:00",
   "source_file": "08-multi-agent/code_samples/08-python_multi_aiagent_bookinghotel.ipynb",
   "language_code": "uk"
  }
 },
 "nbformat": 4,
 "nbformat_minor": 2
}