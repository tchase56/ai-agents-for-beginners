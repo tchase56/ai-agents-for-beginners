{
 "cells": [
  {
   "cell_type": "markdown",
   "metadata": {},
   "source": [
    "# RAG Menggunakan Layanan Agen Azure AI & Semantic Kernel\n",
    "\n",
    "Cuplikan kode ini menunjukkan cara membuat dan mengelola agen Azure AI untuk retrieval-augmented generation (RAG) menggunakan `Azure AI Agent Service` dan `Semantic Kernel`. Agen ini memproses pertanyaan pengguna berdasarkan konteks yang diambil dan memberikan respons yang akurat sesuai.\n"
   ]
  },
  {
   "cell_type": "markdown",
   "metadata": {},
   "source": []
  },
  {
   "cell_type": "markdown",
   "metadata": {},
   "source": [
    "Perbaikan Versi SQLite  \n",
    "Jika Anda mengalami kesalahan:  \n",
    "```\n",
    "RuntimeError: Your system has an unsupported version of sqlite3. Chroma requires sqlite3 >= 3.35.0\n",
    "```  \n",
    "\n",
    "Hapus komentar pada blok kode ini di awal notebook Anda:  \n"
   ]
  },
  {
   "cell_type": "code",
   "execution_count": null,
   "metadata": {},
   "outputs": [],
   "source": [
    "# %pip install pysqlite3-binary\n",
    "# __import__('pysqlite3')\n",
    "# import sys\n",
    "# sys.modules['sqlite3'] = sys.modules.pop('pysqlite3')"
   ]
  },
  {
   "cell_type": "markdown",
   "metadata": {},
   "source": [
    "### Mengimpor Paket\n",
    "Kode berikut mengimpor paket-paket yang diperlukan:\n"
   ]
  },
  {
   "cell_type": "code",
   "execution_count": null,
   "metadata": {},
   "outputs": [],
   "source": [
    "# Azure imports for project client and credentials\n",
    "from azure.ai.projects.models import FileSearchTool, OpenAIFile, VectorStore\n",
    "from azure.identity.aio import DefaultAzureCredential\n",
    "\n",
    "# Semantic Kernel imports\n",
    "from semantic_kernel.agents import AzureAIAgent, AzureAIAgentThread"
   ]
  },
  {
   "cell_type": "markdown",
   "metadata": {},
   "source": [
    "# Retrieval-Augmented Generation dengan Semantic Kernel & Azure AI Agent Service\n",
    "\n",
    "Contoh ini menunjukkan cara menggunakan **Azure AI Agent Service** untuk melakukan **Retrieval-Augmented Generation (RAG)** dengan menggabungkan model bahasa dengan konteks spesifik domain dari dokumen yang diunggah.\n",
    "\n",
    "### Cara Kerjanya\n",
    "\n",
    "1. **Unggah Dokumen**: File markdown (document.md) yang berisi informasi (kebijakan asuransi perjalanan Contoso) diunggah ke layanan agen.\n",
    "\n",
    "2. **Pembuatan Vector Store**: Dokumen diindeks ke dalam vector store untuk memungkinkan pencarian semantik atas isinya.\n",
    "\n",
    "3. **Konfigurasi Agen**: Agen dibuat menggunakan model `gpt-4o` dengan instruksi ketat berikut:\n",
    "   - Hanya menjawab pertanyaan berdasarkan konten yang diambil dari dokumen.\n",
    "   - Menolak menjawab jika pertanyaan berada di luar cakupan.\n",
    "\n",
    "4. **Integrasi File Search Tool**: `FileSearchTool` didaftarkan ke agen, memungkinkan model untuk mencari dan mengambil cuplikan relevan dari dokumen yang diindeks selama inferensi.\n",
    "\n",
    "5. **Interaksi Pengguna**: Pengguna dapat mengajukan pertanyaan. Jika informasi relevan ditemukan dalam dokumen, agen menghasilkan jawaban yang terarah.  \n",
    "   Jika tidak, agen secara eksplisit menjawab bahwa dokumen tidak mengandung informasi yang cukup.\n"
   ]
  },
  {
   "cell_type": "markdown",
   "metadata": {},
   "source": [
    "### Fungsi Utama\n",
    "\n",
    "Fungsi utama dalam program ini bertanggung jawab untuk mengatur alur eksekusi. Pastikan untuk memahami setiap langkah sebelum melakukan modifikasi.\n",
    "\n",
    "```python\n",
    "def main():\n",
    "    # Inisialisasi variabel dan pengaturan awal\n",
    "    initialize_settings()\n",
    "\n",
    "    # Memulai proses utama\n",
    "    start_process()\n",
    "\n",
    "    # Menangani hasil akhir\n",
    "    handle_results()\n",
    "```\n",
    "\n",
    "### Langkah-Langkah\n",
    "\n",
    "1. **Inisialisasi**  \n",
    "   Pastikan semua pengaturan awal sudah benar sebelum melanjutkan. Ini termasuk memuat konfigurasi dan memeriksa dependensi.\n",
    "\n",
    "2. **Proses Utama**  \n",
    "   Jalankan logika utama program di sini. Pastikan untuk menangani semua kemungkinan skenario.\n",
    "\n",
    "3. **Hasil Akhir**  \n",
    "   Setelah proses selesai, pastikan untuk memproses hasil dengan benar, seperti menyimpan data atau memberikan output kepada pengguna.\n",
    "\n",
    "### Catatan Tambahan\n",
    "\n",
    "- Jangan lupa untuk menambahkan log di setiap langkah penting agar mudah untuk debugging.\n",
    "- Jika terjadi kesalahan, pastikan untuk menangani exception dengan baik agar program tidak berhenti secara tiba-tiba.\n"
   ]
  },
  {
   "cell_type": "markdown",
   "metadata": {},
   "source": [
    "Pastikan untuk terlebih dahulu menjalankan `az login` menggunakan Azure CLI sehingga konteks autentikasi yang tepat disediakan saat menggunakan `DefaultAzureCredential`. Azure AI Agent Service tidak menggunakan kunci API.\n"
   ]
  },
  {
   "cell_type": "code",
   "execution_count": null,
   "metadata": {},
   "outputs": [],
   "source": [
    "async def main():\n",
    "    async with (\n",
    "        DefaultAzureCredential() as creds,\n",
    "        AzureAIAgent.create_client(credential=creds) as client,\n",
    "    ):\n",
    "        file: OpenAIFile = await client.agents.upload_file_and_poll(file_path=\"document.md\", purpose=\"assistants\")\n",
    "        vector_store: VectorStore = await client.agents.create_vector_store_and_poll(\n",
    "            file_ids=[file.id], name=\"my_vectorstore\"\n",
    "        )\n",
    "\n",
    "        # Define agent name and instructions tailored for RAG.\n",
    "        AGENT_NAME = \"RAGAgent\"\n",
    "        AGENT_INSTRUCTIONS = \"\"\"\n",
    "        You are an AI assistant designed to answer user questions using only the information retrieved from the provided document(s).\n",
    "\n",
    "        - If a user's question cannot be answered using the retrieved context, **you must clearly respond**: \n",
    "        \"I'm sorry, but the uploaded document does not contain the necessary information to answer that question.\"\n",
    "        - Do not answer from general knowledge or reasoning. Do not make assumptions or generate hypothetical explanations.\n",
    "        - Do not provide definitions, tutorials, or commentary that is not explicitly grounded in the content of the uploaded file(s).\n",
    "        - If a user asks a question like \"What is a Neural Network?\", and this is not discussed in the uploaded document, respond as instructed above.\n",
    "        - For questions that do have relevant content in the document (e.g., Contoso's travel insurance coverage), respond accurately, and cite the document explicitly.\n",
    "\n",
    "        You must behave as if you have no external knowledge beyond what is retrieved from the uploaded document.\n",
    "        \"\"\"\n",
    "\n",
    "        \n",
    "        # Create file search tool with uploaded resources\n",
    "        file_search = FileSearchTool(vector_store_ids=[vector_store.id])\n",
    "\n",
    "        # 3. Create an agent on the Azure AI agent service with the file search tool\n",
    "        agent_definition = await client.agents.create_agent(\n",
    "            model=\"gpt-4o\",  # This model should match your Azure OpenAI deployment.\n",
    "            name=AGENT_NAME,\n",
    "            instructions=AGENT_INSTRUCTIONS,\n",
    "            tools=file_search.definitions,\n",
    "            tool_resources=file_search.resources,\n",
    "        )\n",
    "        \n",
    "        # Create the Azure AI Agent using the client and definition.\n",
    "        agent = AzureAIAgent(\n",
    "            client=client,\n",
    "            definition=agent_definition,\n",
    "        )\n",
    "        \n",
    "        # Create a thread to hold the conversation\n",
    "        # If no thread is provided, a new thread will be\n",
    "        # created and returned with the initial response\n",
    "        thread: AzureAIAgentThread | None = None\n",
    "        \n",
    "        # Example user queries.\n",
    "        user_inputs = [\n",
    "            \"Can you explain Contoso's travel insurance coverage?\",  # Relevant context.\n",
    "            \"What is a Neural Network?\"  # No relevant context from the document. Will not contain a source annotation.\n",
    "        ]\n",
    "        \n",
    "        try:\n",
    "            for user_input in user_inputs:\n",
    "                print(f\"# User: '{user_input}'\")\n",
    "                # Invoke the agent for the specified thread for response\n",
    "                async for response in agent.invoke(messages=user_input, thread=thread):\n",
    "                    print(f\"# {response.name}: {response}\")\n",
    "                    thread = response.thread\n",
    "        finally:\n",
    "            # Clean up resources.\n",
    "            await thread.delete() if thread else None\n",
    "            await client.agents.delete_vector_store(vector_store.id)\n",
    "            await client.agents.delete_file(file.id)\n",
    "            await client.agents.delete_agent(agent.id)\n",
    "            print(\"\\nCleaned up agent, thread, file, and vector store.\")\n",
    "\n",
    "await main()"
   ]
  },
  {
   "cell_type": "markdown",
   "metadata": {},
   "source": [
    "Silakan berikan file markdown yang ingin diterjemahkan, dan saya akan menerjemahkannya sesuai dengan aturan yang telah Anda tetapkan.\n"
   ]
  },
  {
   "cell_type": "markdown",
   "metadata": {},
   "source": [
    "\n---\n\n**Penafian**:  \nDokumen ini telah diterjemahkan menggunakan layanan penerjemahan AI [Co-op Translator](https://github.com/Azure/co-op-translator). Meskipun kami berusaha untuk memberikan hasil yang akurat, harap diketahui bahwa terjemahan otomatis mungkin mengandung kesalahan atau ketidakakuratan. Dokumen asli dalam bahasa aslinya harus dianggap sebagai sumber yang otoritatif. Untuk informasi yang bersifat kritis, disarankan menggunakan jasa penerjemahan profesional oleh manusia. Kami tidak bertanggung jawab atas kesalahpahaman atau penafsiran yang keliru yang timbul dari penggunaan terjemahan ini.\n"
   ]
  }
 ],
 "metadata": {
  "kernelspec": {
   "display_name": ".venv",
   "language": "python",
   "name": "python3"
  },
  "language_info": {
   "codemirror_mode": {
    "name": "ipython",
    "version": 3
   },
   "file_extension": ".py",
   "mimetype": "text/x-python",
   "name": "python",
   "nbconvert_exporter": "python",
   "pygments_lexer": "ipython3",
   "version": "3.11.11"
  },
  "coopTranslator": {
   "original_hash": "a86c3ddfbe35024993bbf563588aad48",
   "translation_date": "2025-08-29T19:19:42+00:00",
   "source_file": "05-agentic-rag/code_samples/05-semantic-kernel-azure-ai-agent.ipynb",
   "language_code": "id"
  }
 },
 "nbformat": 4,
 "nbformat_minor": 2
}