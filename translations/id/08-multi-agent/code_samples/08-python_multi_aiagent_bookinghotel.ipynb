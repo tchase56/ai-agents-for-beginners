{
 "cells": [
  {
   "cell_type": "markdown",
   "metadata": {},
   "source": [
    "## **Contoh: Multi-AI Agen untuk Pemesanan Hotel**\n",
    "\n",
    "Di dunia yang serba cepat saat ini, merencanakan perjalanan bisnis melibatkan lebih dari sekadar memesan tiket pesawat dan kamar hotel. Dibutuhkan tingkat koordinasi dan efisiensi yang sering kali sulit dicapai. Di sinilah Multi-AI Agen berperan, mengubah cara kita mengelola kebutuhan perjalanan.\n",
    "\n",
    "Bayangkan memiliki tim agen pintar yang siap membantu Anda, bekerja sama untuk menangani setiap aspek perjalanan Anda dengan presisi dan kemudahan. Dengan teknologi AI canggih kami, kami telah menciptakan agen khusus untuk layanan pemesanan dan pengaturan jadwal perjalanan, memastikan pengalaman perjalanan yang lancar dan bebas stres.\n",
    "\n",
    "Ini adalah skenario dasar. Saat merencanakan perjalanan bisnis, kita perlu berkonsultasi dengan agen perjalanan bisnis untuk mendapatkan informasi tiket pesawat, informasi hotel, dan sebagainya. Melalui AI Agen, kita dapat membangun agen untuk layanan pemesanan dan agen untuk pengaturan jadwal perjalanan agar dapat berkolaborasi dan meningkatkan tingkat kecerdasan.\n"
   ]
  },
  {
   "cell_type": "markdown",
   "metadata": {},
   "source": [
    "# Inisialisasi Layanan Azure AI Agent dan Mendapatkan Informasi Konfigurasi dari **.env**\n",
    "\n",
    "### **.env**\n",
    "\n",
    "Buat file .env\n",
    "\n",
    "**.env** berisi string koneksi untuk Layanan Azure AI Agent, model yang digunakan oleh AOAI, serta API, ENDPOINT, dan layanan Google API Search terkait lainnya.\n",
    "\n",
    "- **AZURE_AI_AGENT_MODEL_DEPLOYMENT_NAME** = \"Nama Deployment Model Layanan Azure AI Agent Anda\"\n",
    "\n",
    "[**NOTE**] Anda memerlukan model dengan Batas Laju 100.000 (Token per menit) dan Batas Laju 600 (Permintaan per menit).\n",
    "\n",
    "  Anda dapat memperoleh model di Azure AI Foundry - Model dan Endpoint.\n",
    "\n",
    "- **AZURE_AI_AGENT_PROJECT_CONNECTION_STRING** = \"String Koneksi Proyek Layanan Azure AI Agent Anda\"\n",
    "\n",
    "  Anda dapat menemukan string koneksi proyek di bagian ikhtisar proyek Anda di Layar Portal AI Foundry.\n",
    "\n",
    "- **SERPAPI_SEARCH_API_KEY** = \"Kunci API Pencarian SERPAPI Anda\"\n",
    "- **SERPAPI_SEARCH_ENDPOINT** = \"Endpoint Pencarian SERPAPI Anda\"\n",
    "\n",
    "Untuk mendapatkan Nama Deployment Model dan String Koneksi Proyek dari Layanan Azure AI Agent, Anda perlu membuat Layanan Azure AI Agent. Disarankan untuk menggunakan [template ini](https://portal.azure.com/#create/Microsoft.Template/uri/https%3A%2F%2Fraw.githubusercontent.com%2Ffosteramanda%2Fazure-agent-quickstart-templates%2Frefs%2Fheads%2Fmaster%2Fquickstarts%2Fmicrosoft.azure-ai-agent-service%2Fstandard-agent%2Fazuredeploy.json) untuk membuatnya secara langsung (***Catatan:*** Layanan Azure AI Agent saat ini hanya tersedia di wilayah tertentu. Disarankan untuk merujuk pada [tautan ini](https://learn.microsoft.com/en-us/azure/ai-services/agents/concepts/model-region-support) untuk mengatur wilayahnya).\n",
    "\n",
    "Agen perlu mengakses SERPAPI. Disarankan untuk mendaftar menggunakan [tautan ini](https://serpapi.com/searches). Setelah mendaftar, Anda dapat memperoleh API KEY dan ENDPOINT unik.\n"
   ]
  },
  {
   "cell_type": "markdown",
   "metadata": {},
   "source": [
    "# Masuk ke Azure\n",
    "\n",
    "Sekarang Anda perlu masuk ke Azure. Buka terminal di VScode dan jalankan perintah `az login`.\n"
   ]
  },
  {
   "cell_type": "markdown",
   "metadata": {},
   "source": [
    "# Pengaturan\n",
    "\n",
    "Untuk menjalankan notebook ini, Anda perlu menginstal pustaka-pustaka berikut. Berikut adalah daftar pustaka yang diperlukan dan perintah pip install yang sesuai:\n",
    "\n",
    "azure-identity: Untuk autentikasi Azure.  \n",
    "requests: Untuk membuat permintaan HTTP.  \n",
    "semantic-kernel: Untuk kerangka kerja semantic kernel (dengan asumsi ini adalah pustaka khusus atau spesifik, Anda mungkin perlu menginstalnya dari sumber atau repositori tertentu).  \n"
   ]
  },
  {
   "cell_type": "code",
   "execution_count": null,
   "metadata": {},
   "outputs": [],
   "source": [
    "!pip install azure-identity\n",
    "!pip install requests\n",
    "!pip install semantic-kernel\n",
    "!pip install --upgrade semantic_kernel\n",
    "!pip install azure-cli"
   ]
  },
  {
   "cell_type": "markdown",
   "metadata": {},
   "source": [
    "# Penjelasan:\n",
    "import asyncio: Ini mengimpor modul asyncio, yang menyediakan dukungan untuk pemrograman asinkron di Python. Modul ini memungkinkan Anda menulis kode secara bersamaan menggunakan sintaks async dan await.\n",
    "from typing import Annotated: Ini mengimpor tipe Annotated dari modul typing. Annotated digunakan untuk menambahkan metadata pada petunjuk tipe, yang dapat berguna untuk berbagai tujuan seperti validasi, dokumentasi, atau alat bantu.\n"
   ]
  },
  {
   "cell_type": "code",
   "execution_count": null,
   "metadata": {
    "dotnet_interactive": {
     "language": "csharp"
    },
    "polyglot_notebook": {
     "kernelName": "csharp"
    }
   },
   "outputs": [],
   "source": [
    "import asyncio,os\n",
    "from typing import Annotated"
   ]
  },
  {
   "cell_type": "markdown",
   "metadata": {},
   "source": [
    "# Penjelasan:\n",
    "Dengan menggunakan from dotenv import load_dotenv dan load_dotenv(), Anda dapat dengan mudah mengelola pengaturan konfigurasi dan informasi sensitif (seperti kunci API dan URL database) dalam file .env, menjaga agar informasi tersebut terpisah dari kode sumber Anda, serta membuat aplikasi Anda lebih aman dan lebih mudah untuk dikonfigurasi.\n"
   ]
  },
  {
   "cell_type": "code",
   "execution_count": null,
   "metadata": {},
   "outputs": [],
   "source": [
    "import os\n",
    "from dotenv import load_dotenv\n",
    "\n",
    "# Load environment variables from .env file\n",
    "load_dotenv()"
   ]
  },
  {
   "cell_type": "markdown",
   "metadata": {},
   "source": [
    "# Penjelasan:\n",
    "\n",
    "Pernyataan Impor: from azure.identity.aio import DefaultAzureCredential: Pernyataan ini mengimpor kelas DefaultAzureCredential dari modul azure.identity.aio. Bagian aio pada nama modul menunjukkan bahwa modul ini dirancang untuk operasi asinkron.\n",
    "\n",
    "Tujuan DefaultAzureCredential: Kelas DefaultAzureCredential adalah bagian dari Azure SDK untuk Python. Kelas ini menyediakan cara bawaan untuk melakukan autentikasi dengan layanan Azure. DefaultAzureCredential mencoba melakukan autentikasi menggunakan beberapa metode dalam urutan tertentu, seperti variabel lingkungan, managed identity, dan kredensial Azure CLI.\n",
    "\n",
    "Operasi Asinkron: Modul aio menunjukkan bahwa kelas DefaultAzureCredential mendukung operasi asinkron. Ini berarti Anda dapat menggunakannya dengan asyncio untuk melakukan permintaan autentikasi tanpa memblokir.\n"
   ]
  },
  {
   "cell_type": "code",
   "execution_count": null,
   "metadata": {
    "dotnet_interactive": {
     "language": "csharp"
    },
    "polyglot_notebook": {
     "kernelName": "csharp"
    }
   },
   "outputs": [],
   "source": [
    "from azure.identity.aio import DefaultAzureCredential"
   ]
  },
  {
   "cell_type": "markdown",
   "metadata": {},
   "source": [
    "# Penjelasan:\n",
    "Mengimpor berbagai modul dan kelas dari paket semantic_kernel. Berikut adalah rincian dari setiap impor:\n",
    "\n",
    "AgentGroupChat dari semantic_kernel.agents: Kelas ini menangani fungsi terkait obrolan grup untuk agen AI. AzureAIAgent dan AzureAIAgentSettings dari semantic_kernel.agents.azure_ai\n",
    "\n",
    "AzureAIAgent: Kelas ini digunakan untuk membuat dan mengelola agen AI yang memanfaatkan layanan Azure AI.\n",
    "\n",
    "AzureAIAgentSettings: Kelas ini digunakan untuk mengatur konfigurasi untuk AzureAIAgent. TerminationStrategy dari semantic_kernel.agents.strategies.termination.termination_strategy:\n",
    "\n",
    "Kelas ini mendefinisikan strategi untuk menghentikan eksekusi agen AI di bawah kondisi tertentu. ChatMessageContent dari semantic_kernel.contents.chat_message_content:\n",
    "\n",
    "Kelas ini digunakan untuk menangani konten pesan obrolan.\n",
    "AuthorRole dari semantic_kernel.contents.utils.author_role:\n",
    "\n",
    "Kelas ini mendefinisikan berbagai peran untuk penulis dalam konteks pesan obrolan.\n",
    "\n",
    "kernel_function dari semantic_kernel.functions.kernel_function_decorator: Dekorator ini digunakan untuk mendefinisikan fungsi kernel, yaitu fungsi yang dapat dijalankan dalam kerangka kerja semantic kernel.\n",
    "Impor ini menyiapkan komponen yang diperlukan untuk membuat dan mengelola agen AI yang dapat berinteraksi dalam lingkungan obrolan grup, kemungkinan untuk tugas seperti memesan hotel atau aktivitas serupa.\n"
   ]
  },
  {
   "cell_type": "code",
   "execution_count": null,
   "metadata": {
    "dotnet_interactive": {
     "language": "csharp"
    },
    "polyglot_notebook": {
     "kernelName": "csharp"
    }
   },
   "outputs": [],
   "source": [
    "from semantic_kernel.agents import AgentGroupChat\n",
    "from semantic_kernel.agents import AzureAIAgent, AzureAIAgentSettings\n",
    "from semantic_kernel.agents.strategies.termination.termination_strategy import TerminationStrategy\n",
    "from semantic_kernel.contents import ChatMessageContent\n",
    "from semantic_kernel.contents import AuthorRole\n",
    "from semantic_kernel.functions.kernel_function_decorator import kernel_function"
   ]
  },
  {
   "cell_type": "markdown",
   "metadata": {},
   "source": [
    "# Penjelasan:\n",
    "Selanjutnya, kita mengimpor kelas CodeInterpreterTool dari modul azure.ai.projects.models.\n",
    "\n",
    "CodeInterpreterTool: Kelas ini adalah bagian dari Azure AI SDK dan digunakan untuk menginterpretasikan serta mengeksekusi kode dalam konteks proyek AI. Kelas ini menyediakan fungsi untuk menjalankan potongan kode, menganalisis kode, atau mengintegrasikan eksekusi kode dalam alur kerja AI.  \n",
    "Impor ini menyiapkan komponen yang diperlukan untuk menggunakan CodeInterpreterTool dalam proyek Anda, yang dapat berguna untuk tugas-tugas yang melibatkan interpretasi dan eksekusi kode secara dinamis.\n"
   ]
  },
  {
   "cell_type": "code",
   "execution_count": null,
   "metadata": {
    "dotnet_interactive": {
     "language": "csharp"
    },
    "polyglot_notebook": {
     "kernelName": "csharp"
    }
   },
   "outputs": [],
   "source": [
    "from azure.ai.projects.models import CodeInterpreterTool"
   ]
  },
  {
   "cell_type": "markdown",
   "metadata": {},
   "source": [
    "# Penjelasan: \n",
    "Kelas ApprovalTerminationStrategy menyediakan strategi khusus untuk menghentikan operasi agen AI. Agen akan berhenti jika pesan terakhir dalam riwayat interaksinya mengandung kata \"saved\". Ini bisa berguna dalam skenario di mana tugas agen dianggap selesai setelah menerima konfirmasi bahwa sesuatu telah \"saved\". Tentukan metode interaksi. Setelah rencana reservasi disimpan, agen dapat dihentikan ketika menerima sinyal \"saved\".\n"
   ]
  },
  {
   "cell_type": "code",
   "execution_count": null,
   "metadata": {
    "dotnet_interactive": {
     "language": "csharp"
    },
    "polyglot_notebook": {
     "kernelName": "csharp"
    }
   },
   "outputs": [],
   "source": [
    "class ApprovalTerminationStrategy(TerminationStrategy):\n",
    "    \"\"\"A strategy for determining when an agent should terminate.\"\"\"\n",
    "\n",
    "    async def should_agent_terminate(self, agent, history):\n",
    "        \"\"\"Check if the agent should terminate.\"\"\"\n",
    "        return \"saved\" in history[-1].content.lower()"
   ]
  },
  {
   "cell_type": "markdown",
   "metadata": {},
   "source": [
    "# Penjelasan:\n",
    "\n",
    "Baris kode tersebut menginisialisasi objek AzureAIAgentSettings dengan pengaturan default atau yang telah ditentukan sebelumnya dengan memanggil metode create(). Objek pengaturan ini (ai_agent_settings) kemudian dapat digunakan untuk mengonfigurasi dan mengelola instance AzureAIAgent.\n"
   ]
  },
  {
   "cell_type": "code",
   "execution_count": null,
   "metadata": {
    "dotnet_interactive": {
     "language": "csharp"
    },
    "polyglot_notebook": {
     "kernelName": "csharp"
    }
   },
   "outputs": [],
   "source": [
    "ai_agent_settings = AzureAIAgentSettings.create()"
   ]
  },
  {
   "cell_type": "markdown",
   "metadata": {},
   "source": [
    "# Penjelasan:\n",
    "Dengan mengimpor pustaka requests, Anda dapat dengan mudah membuat permintaan HTTP dan berinteraksi dengan layanan web dalam kode Python Anda.\n"
   ]
  },
  {
   "cell_type": "code",
   "execution_count": null,
   "metadata": {
    "dotnet_interactive": {
     "language": "csharp"
    },
    "polyglot_notebook": {
     "kernelName": "csharp"
    }
   },
   "outputs": [],
   "source": [
    "import requests"
   ]
  },
  {
   "cell_type": "markdown",
   "metadata": {},
   "source": [
    "# Penjelasan:\n",
    "Ini adalah variabel yang menyimpan kunci API untuk mengakses layanan API SERP (Search Engine Results Page). Kunci API adalah pengenal unik yang digunakan untuk mengautentikasi permintaan yang terkait dengan akun Anda.\n",
    "\n",
    "'GOOGLE_SEARCH_API_KEY': Ini adalah string placeholder. Anda perlu mengganti 'GOOGLE_SEARCH_API_KEY' dengan kunci API SERP Anda yang sebenarnya.\n",
    "\n",
    "Tujuan: Tujuan dari baris ini adalah untuk menyimpan kunci API dalam sebuah variabel sehingga dapat digunakan untuk mengautentikasi permintaan ke layanan API SERP. Kunci API diperlukan untuk mengakses layanan dan melakukan pencarian.\n",
    "\n",
    "Cara Mendapatkan Kunci API SERP: Untuk mendapatkan kunci API SERP, ikuti langkah-langkah umum berikut di https://serpapi.com (langkah-langkah spesifik mungkin berbeda tergantung pada layanan API SERP yang Anda gunakan):\n",
    "\n",
    "Pilih Layanan API SERP: Ada beberapa layanan API SERP yang tersedia, seperti SerpAPI, Google Custom Search JSON API, dan lainnya. Pilih yang paling sesuai dengan kebutuhan Anda.\n",
    "\n",
    "Daftar untuk Akun:\n",
    "\n",
    "Kunjungi situs web layanan API SERP yang dipilih https://www.serpapi.com dan daftar untuk sebuah akun. Anda mungkin perlu memberikan beberapa informasi dasar dan memverifikasi alamat email Anda.\n",
    "\n",
    "Buat Kunci API:\n",
    "\n",
    "Setelah mendaftar, masuk ke akun Anda dan navigasikan ke bagian API atau dashboard. Cari opsi untuk membuat atau menghasilkan kunci API baru.\n",
    "Salin Kunci API:\n",
    "\n",
    "Setelah kunci API dihasilkan, salin kunci tersebut. Kunci ini akan digunakan untuk mengautentikasi permintaan Anda ke layanan API SERP.\n",
    "Ganti Placeholder:\n",
    "\n",
    "Ganti placeholder di file .env Anda.\n"
   ]
  },
  {
   "cell_type": "code",
   "execution_count": null,
   "metadata": {
    "dotnet_interactive": {
     "language": "csharp"
    },
    "polyglot_notebook": {
     "kernelName": "csharp"
    }
   },
   "outputs": [],
   "source": [
    "SERPAPI_SEARCH_API_KEY=os.getenv('SERPAPI_SEARCH_API_KEY')"
   ]
  },
  {
   "cell_type": "code",
   "execution_count": null,
   "metadata": {
    "dotnet_interactive": {
     "language": "csharp"
    },
    "polyglot_notebook": {
     "kernelName": "csharp"
    }
   },
   "outputs": [],
   "source": [
    "SERPAPI_SEARCH_ENDPOINT = os.getenv('SERPAPI_SEARCH_ENDPOINT')"
   ]
  },
  {
   "cell_type": "markdown",
   "metadata": {},
   "source": [
    "# Penjelasan:\n",
    "Kelas BookingPlugin menyediakan metode untuk memesan hotel dan penerbangan menggunakan Serpapi.com Google Search API. Kelas ini membangun parameter yang diperlukan, mengirim permintaan API, dan memproses respons untuk mengembalikan informasi pemesanan yang relevan. Kunci API (SERPAPI_SEARCH_API_KEY) dan endpoint (SERPAPI_SEARCH_ENDPOINT) digunakan untuk mengautentikasi dan mengirim permintaan ke Google Search API.\n"
   ]
  },
  {
   "cell_type": "code",
   "execution_count": null,
   "metadata": {
    "dotnet_interactive": {
     "language": "csharp"
    },
    "polyglot_notebook": {
     "kernelName": "csharp"
    }
   },
   "outputs": [],
   "source": [
    "# Define Booking Plugin\n",
    "class BookingPlugin:\n",
    "    \"\"\"Booking Plugin for customers\"\"\"\n",
    "    @kernel_function(description=\"booking hotel\")\n",
    "    def booking_hotel(self,query: Annotated[str, \"The name of the city\"], check_in_date: Annotated[str, \"Hotel Check-in Time\"], check_out_date: Annotated[str, \"Hotel Check-in Time\"])-> Annotated[str, \"Return the result of booking hotel infomation\"]:\n",
    "\n",
    "        params = {\n",
    "            \"engine\": \"google_hotels\",\n",
    "            \"q\": query,\n",
    "            \"check_in_date\": check_in_date,\n",
    "            \"check_out_date\": check_out_date,\n",
    "            \"adults\": \"2\",\n",
    "            \"currency\": \"USD\",\n",
    "            \"gl\": \"us\",\n",
    "            \"hl\": \"en\",\n",
    "            \"api_key\": SERPAPI_SEARCH_API_KEY\n",
    "        }\n",
    "\n",
    "        response = requests.get(SERPAPI_SEARCH_ENDPOINT, params=params)\n",
    "        if response.status_code == 200:\n",
    "            response = response.json()\n",
    "            return response[\"properties\"]\n",
    "        else:\n",
    "            return None\n",
    "\n",
    "    \n",
    "    @kernel_function(description=\"booking fight\")\n",
    "    def  booking_fight(self,origin: Annotated[str, \"The name of Departure\"], destination: Annotated[str, \"The name of Destination\"], outbound_date: Annotated[str, \"The date of outbound\"], return_date: Annotated[str, \"The date of Return_date\"])-> Annotated[str, \"Return the result of booking fight infomation\"]:\n",
    "        \n",
    "        go_params = {\n",
    "            \"engine\": \"google_flights\",   \n",
    "            \"departure_id\": origin,\n",
    "            \"arrival_id\": destination,\n",
    "            \"outbound_date\": outbound_date,\n",
    "            \"return_date\": return_date,  \n",
    "            \"currency\": \"USD\",\n",
    "            \"hl\": \"en\",\n",
    "            \"api_key\": SERPAPI_SEARCH_API_KEY  \n",
    "        }\n",
    "\n",
    "        print(go_params)\n",
    "\n",
    "        go_response = requests.get(SERPAPI_SEARCH_ENDPOINT, params=go_params)\n",
    "\n",
    "\n",
    "        result = ''\n",
    "\n",
    "        if go_response.status_code == 200:\n",
    "            response = go_response.json()\n",
    "\n",
    "            result += \"# outbound \\n \" + str(response)\n",
    "        else:\n",
    "            print('error!!!')\n",
    "            # return None\n",
    "\n",
    "        \n",
    "        back_params = {\n",
    "            \"engine\": \"google_flights\",   \n",
    "            \"departure_id\": destination,\n",
    "            \"arrival_id\": origin,\n",
    "            \"outbound_date\": return_date,\n",
    "            \"return_date\": return_date,  \n",
    "            \"currency\": \"USD\",\n",
    "            \"hl\": \"en\",\n",
    "            \"api_key\": SERPAPI_SEARCH_API_KEY  \n",
    "        }\n",
    "\n",
    "\n",
    "        print(back_params)\n",
    "\n",
    "\n",
    "        back_response = requests.get(SERPAPI_SEARCH_ENDPOINT, params=back_params)\n",
    "\n",
    "\n",
    "\n",
    "        if back_response.status_code == 200:\n",
    "            response = back_response.json()\n",
    "\n",
    "            result += \"\\n # return \\n\"  + str(response)\n",
    "\n",
    "        else:\n",
    "            print('error!!!')\n",
    "            # return None\n",
    "        \n",
    "        print(result)\n",
    "\n",
    "        return result\n",
    "\n",
    "        \n"
   ]
  },
  {
   "cell_type": "markdown",
   "metadata": {},
   "source": [
    "# Penjelasan:\n",
    "Kelas SavePlugin menyediakan metode saving_plan untuk menyimpan rencana perjalanan menggunakan layanan Azure AI. Kelas ini mengatur kredensial Azure, membuat agen AI, memproses masukan pengguna untuk menghasilkan dan menyimpan konten rencana perjalanan, serta menangani operasi penyimpanan file dan pembersihan. Metode ini mengembalikan \"Saved\" setelah berhasil diselesaikan.\n"
   ]
  },
  {
   "cell_type": "code",
   "execution_count": null,
   "metadata": {
    "dotnet_interactive": {
     "language": "csharp"
    },
    "polyglot_notebook": {
     "kernelName": "csharp"
    }
   },
   "outputs": [],
   "source": [
    "class SavePlugin:\n",
    "    \"\"\"Save Plugin for customers\"\"\"\n",
    "    @kernel_function(description=\"saving plan\")\n",
    "    async def saving_plan(self,tripplan: Annotated[str, \"The content of trip plan\"])-> Annotated[str, \"Return status of save content\"]:\n",
    "\n",
    "        async with (\n",
    "            DefaultAzureCredential() as creds,\n",
    "            AzureAIAgent.create_client(\n",
    "                credential=creds,\n",
    "                conn_str=ai_agent_settings.project_connection_string.get_secret_value(),\n",
    "            ) as client,\n",
    "        ):\n",
    "\n",
    "            code_interpreter = CodeInterpreterTool()\n",
    "            \n",
    "            agent_definition = await client.agents.create_agent(\n",
    "                model=ai_agent_settings.model_deployment_name,\n",
    "                tools=code_interpreter.definitions,\n",
    "                tool_resources=code_interpreter.resources,\n",
    "            )\n",
    "\n",
    "\n",
    "            agent = AzureAIAgent(\n",
    "                client=client,\n",
    "                definition=agent_definition,\n",
    "            )\n",
    "\n",
    "            thread = await client.agents.create_thread()\n",
    "\n",
    "\n",
    "            user_inputs = [\n",
    "                \"\"\"\n",
    "            \n",
    "                        You are my Python programming assistant. Generate code,save \"\"\"+ tripplan +\n",
    "                        \n",
    "                    \"\"\"    \n",
    "                        and execute it according to the following requirements\n",
    "\n",
    "                        1. Save blog content to trip-{YYMMDDHHMMSS}.md\n",
    "\n",
    "                        2. give me the download this file link\n",
    "                    \"\"\"\n",
    "            ]\n",
    "\n",
    "\n",
    "\n",
    "            try:\n",
    "                for user_input in user_inputs:\n",
    "                    # Add the user input as a chat message\n",
    "                    await agent.add_chat_message(\n",
    "                        thread_id=thread.id, message=ChatMessageContent(role=AuthorRole.USER, content=user_input)\n",
    "                    )\n",
    "                    print(f\"# User: '{user_input}'\")\n",
    "                    # Invoke the agent for the specified thread\n",
    "                    async for content in agent.invoke(thread_id=thread.id):\n",
    "                        if content.role != AuthorRole.TOOL:\n",
    "                            print(f\"# Agent: {content.content}\")\n",
    "\n",
    "                    \n",
    "                    messages = await client.agents.list_messages(thread_id=thread.id)\n",
    "\n",
    "                    # OpenAIPageableListOfThreadMessage\n",
    "                    # OpenAIPageableListOfThreadMessage\n",
    "\n",
    "\n",
    "                    for file_path_annotation in messages.file_path_annotations:\n",
    "\n",
    "                            file_name = os.path.basename(file_path_annotation.text)\n",
    "\n",
    "                            await client.agents.save_file(file_id=file_path_annotation.file_path.file_id, file_name=file_name,target_dir=\"./trip\")\n",
    "\n",
    "                    \n",
    "            finally:\n",
    "                await client.agents.delete_thread(thread.id)\n",
    "                await client.agents.delete_agent(agent.id)\n",
    "\n",
    "\n",
    "        return \"Saved\""
   ]
  },
  {
   "cell_type": "markdown",
   "metadata": {},
   "source": [
    "# Penjelasan:\n",
    "Kode ini mengatur agen Azure AI untuk menangani pemesanan penerbangan dan hotel, serta menyimpan rencana perjalanan berdasarkan masukan pengguna. Kode ini menggunakan kredensial Azure untuk membuat dan mengonfigurasi agen, memproses masukan pengguna melalui obrolan grup, dan memastikan pembersihan yang tepat setelah tugas selesai. Agen-agen ini menggunakan plugin tertentu (BookingPlugin dan SavePlugin) untuk melaksanakan tugas masing-masing.\n"
   ]
  },
  {
   "cell_type": "code",
   "execution_count": null,
   "metadata": {
    "dotnet_interactive": {
     "language": "csharp"
    },
    "polyglot_notebook": {
     "kernelName": "csharp"
    }
   },
   "outputs": [],
   "source": [
    "async with (\n",
    "    DefaultAzureCredential() as creds,\n",
    "    AzureAIAgent.create_client(\n",
    "        credential=creds,\n",
    "        conn_str=ai_agent_settings.project_connection_string.get_secret_value(),\n",
    "    ) as client,\n",
    "):\n",
    "    BOOKING_AGENT_NAME = \"BookingAgent\"\n",
    "    BOOKING_AGENT_INSTRUCTIONS = \"\"\"\n",
    "    You are a booking agent. Help me book flights or hotels.\n",
    "\n",
    "    Thought: Please understand the user's intention and confirm whether to use the reservation system to complete the task.\n",
    "\n",
    "    Actions:\n",
    "    - For flight bookings, convert the departure and destination names into airport codes.\n",
    "    - Use the appropriate API for hotel or flight bookings. Verify that all necessary parameters are available. If any parameters are missing, ask the user to provide them. If all parameters are complete, call the corresponding function.\n",
    "    - If the task is not related to hotel or flight booking, respond with the final answer only.\n",
    "    - Output the results using a markdown table:\n",
    "      - For flight bookings, output separate outbound and return contents in the order of:\n",
    "        Departure Airport | Airline | Flight Number | Departure Time | Arrival Airport | Arrival Time | Duration | Airplane | Travel Class | Price (USD) | Legroom | Extensions | Carbon Emissions (kg).\n",
    "      - For hotel bookings, output in the order of:\n",
    "        Property Name | Property Description | Check-in Time | Check-out Time | Prices | Nearby Places | Hotel Class | GPS Coordinates.\n",
    "    \"\"\"\n",
    "\n",
    "    SAVE_AGENT_NAME = \"SaveAgent\"\n",
    "    SAVE_AGENT_INSTRUCTIONS = \"\"\"\n",
    "    You are a save tool agent. Help me to save the trip plan.\n",
    "    \"\"\"\n",
    "\n",
    "    # Create agent definition\n",
    "    booking_agent_definition = await client.agents.create_agent(\n",
    "        model=ai_agent_settings.model_deployment_name,\n",
    "        name=BOOKING_AGENT_NAME,\n",
    "        instructions=BOOKING_AGENT_INSTRUCTIONS,\n",
    "    )\n",
    "\n",
    "    # Create the AzureAI Agent\n",
    "    booking_agent = AzureAIAgent(\n",
    "        client=client,\n",
    "        definition=booking_agent_definition,\n",
    "        # Optionally configure polling options\n",
    "        # polling_options=RunPollingOptions(run_polling_interval=timedelta(seconds=1)),\n",
    "    )\n",
    "\n",
    "    # Add the sample plugin to the kernel\n",
    "    booking_agent.kernel.add_plugin(BookingPlugin(), plugin_name=\"booking\")\n",
    "\n",
    "    # Create agent definition\n",
    "    save_agent_definition = await client.agents.create_agent(\n",
    "        model=ai_agent_settings.model_deployment_name,\n",
    "        name=SAVE_AGENT_NAME,\n",
    "        instructions=SAVE_AGENT_INSTRUCTIONS\n",
    "    )\n",
    "\n",
    "    # Create the AzureAI Agent\n",
    "    save_agent = AzureAIAgent(\n",
    "        client=client,\n",
    "        definition=save_agent_definition,\n",
    "    )\n",
    "\n",
    "    save_agent.kernel.add_plugin(SavePlugin(), plugin_name=\"saving\")\n",
    "\n",
    "    user_inputs = [\n",
    "        \"I have a business trip from London to New York in Feb 20 2025 to Feb 27 2025 ,help me to book a hotel and fight tickets and save it\"\n",
    "    ]\n",
    "\n",
    "    chat = AgentGroupChat(\n",
    "        agents=[booking_agent, save_agent],\n",
    "        termination_strategy=ApprovalTerminationStrategy(agents=[save_agent], maximum_iterations=10),\n",
    "    )\n",
    "\n",
    "    try:\n",
    "        for user_input in user_inputs:\n",
    "            # Add the user input as a chat message\n",
    "            await chat.add_chat_message(\n",
    "                ChatMessageContent(role=AuthorRole.USER, content=user_input)\n",
    "            )\n",
    "            print(f\"# User: '{user_input}'\")\n",
    "\n",
    "            async for content in chat.invoke():\n",
    "                print(f\"# {content.role} - {content.name or '*'}: '{content.content}'\")\n",
    "\n",
    "            print(f\"# IS COMPLETE: {chat.is_complete}\")\n",
    "\n",
    "            print(\"*\" * 60)\n",
    "            print(\"Chat History (In Descending Order):\\n\")\n",
    "            async for message in chat.get_chat_messages(agent=save_agent):\n",
    "                print(f\"# {message.role} - {message.name or '*'}: '{message.content}'\")\n",
    "    finally:\n",
    "        await chat.reset()\n",
    "        await client.agents.delete_agent(save_agent.id)\n",
    "        await client.agents.delete_agent(booking_agent.id)\n"
   ]
  },
  {
   "cell_type": "markdown",
   "metadata": {},
   "source": [
    "\n---\n\n**Penafian**:  \nDokumen ini telah diterjemahkan menggunakan layanan penerjemahan AI [Co-op Translator](https://github.com/Azure/co-op-translator). Meskipun kami berusaha untuk memberikan hasil yang akurat, harap diketahui bahwa terjemahan otomatis mungkin mengandung kesalahan atau ketidakakuratan. Dokumen asli dalam bahasa aslinya harus dianggap sebagai sumber yang otoritatif. Untuk informasi yang bersifat kritis, disarankan menggunakan jasa penerjemahan profesional oleh manusia. Kami tidak bertanggung jawab atas kesalahpahaman atau penafsiran yang keliru yang timbul dari penggunaan terjemahan ini.\n"
   ]
  }
 ],
 "metadata": {
  "kernelspec": {
   "display_name": "3.12.1",
   "language": "python",
   "name": "python3"
  },
  "language_info": {
   "codemirror_mode": {
    "name": "ipython",
    "version": 3
   },
   "file_extension": ".py",
   "mimetype": "text/x-python",
   "name": "python",
   "nbconvert_exporter": "python",
   "pygments_lexer": "ipython3",
   "version": "3.12.1"
  },
  "polyglot_notebook": {
   "kernelInfo": {
    "defaultKernelName": "csharp",
    "items": [
     {
      "aliases": [],
      "name": "csharp"
     }
    ]
   }
  },
  "coopTranslator": {
   "original_hash": "1baa60020a95eda27b7e9ecfda99965b",
   "translation_date": "2025-08-29T19:04:44+00:00",
   "source_file": "08-multi-agent/code_samples/08-python_multi_aiagent_bookinghotel.ipynb",
   "language_code": "id"
  }
 },
 "nbformat": 4,
 "nbformat_minor": 2
}