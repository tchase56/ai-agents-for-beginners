{
 "cells": [
  {
   "cell_type": "markdown",
   "metadata": {},
   "source": [
    "## **Voorbeelden: Multi-AI Agents voor het boeken van hotels**\n",
    "\n",
    "In de hedendaagse snelle wereld omvat het plannen van een zakenreis meer dan alleen het boeken van een vlucht en een hotelkamer. Het vereist een mate van coördinatie en efficiëntie die soms lastig te realiseren is. Hier komen Multi-AI Agents in beeld, die de manier waarop we onze reisbehoeften beheren, revolutioneren.\n",
    "\n",
    "Stel je voor dat je een team van intelligente agents tot je beschikking hebt, die samenwerken om elk aspect van je reis met precisie en gemak te regelen. Met onze geavanceerde AI-technologie hebben we gespecialiseerde agents ontwikkeld voor boekingsdiensten en het samenstellen van reisplanningen, zodat je een naadloze en stressvrije reiservaring hebt.\n",
    "\n",
    "Dit is een eenvoudig scenario. Bij het plannen van een zakenreis moeten we overleggen met een zakenreisagent om informatie over vliegtickets, hotels, enzovoort te verkrijgen. Met behulp van AI Agents kunnen we agents bouwen voor boekingsdiensten en agents voor het samenstellen van reisplanningen, zodat ze kunnen samenwerken en het intelligentieniveau kunnen verhogen.\n"
   ]
  },
  {
   "cell_type": "markdown",
   "metadata": {},
   "source": [
    "# Initialiseer de Azure AI Agent Service en verkrijg configuratie-informatie uit **.env**\n",
    "\n",
    "### **.env** \n",
    "\n",
    "Maak een .env-bestand aan \n",
    "\n",
    "**.env** bevat de verbindingsreeks van Azure AI Agent Service, het model dat door AOAI wordt gebruikt, en de bijbehorende Google API Search-service API, ENDPOINT, enz.\n",
    "\n",
    "- **AZURE_AI_AGENT_MODEL_DEPLOYMENT_NAME** = \"Naam van jouw Azure AI Agent Service Model Deployment\"\n",
    "\n",
    "[**NOTE**] Je hebt een model nodig met een Rate Limit van 100.000 (Tokens per minuut) en een Rate Limit van 600 (Verzoeken per minuut).\n",
    "\n",
    "  Je kunt een model verkrijgen in Azure AI Foundry - Model en Endpoint. \n",
    "\n",
    "- **AZURE_AI_AGENT_PROJECT_CONNECTION_STRING** = \"Verbindingsreeks van jouw Azure AI Agent Service Project\"\n",
    "\n",
    "  Je kunt de projectverbindingsreeks vinden in het projectoverzicht op het AI ​​Foundry Portal-scherm.\n",
    "\n",
    "- **SERPAPI_SEARCH_API_KEY** = \"Jouw SERPAPI Search API KEY\"\n",
    "- **SERPAPI_SEARCH_ENDPOINT** = \"Jouw SERPAPI Search Endpoint\"\n",
    "\n",
    "Om de Model Deployment Name en Project Connection String van Azure AI Agent Service te verkrijgen, moet je Azure AI Agent Service aanmaken. Het wordt aanbevolen om [deze template](https://portal.azure.com/#create/Microsoft.Template/uri/https%3A%2F%2Fraw.githubusercontent.com%2Ffosteramanda%2Fazure-agent-quickstart-templates%2Frefs%2Fheads%2Fmaster%2Fquickstarts%2Fmicrosoft.azure-ai-agent-service%2Fstandard-agent%2Fazuredeploy.json) te gebruiken om het direct aan te maken (***Opmerking:*** Azure AI Agent Service is momenteel ingesteld in een beperkt aantal regio's. Het wordt aanbevolen om [deze link](https://learn.microsoft.com/en-us/azure/ai-services/agents/concepts/model-region-support) te raadplegen om de regio in te stellen).\n",
    "\n",
    "De agent moet toegang hebben tot SERPAPI. Het wordt aanbevolen om je te registreren via [deze link](https://serpapi.com/searches). Na registratie kun je een unieke API KEY en ENDPOINT verkrijgen.\n"
   ]
  },
  {
   "cell_type": "markdown",
   "metadata": {},
   "source": [
    "# Inloggen bij Azure\n",
    "\n",
    "Je moet nu inloggen bij Azure. Open een terminal in VScode en voer het commando `az login` uit.\n"
   ]
  },
  {
   "cell_type": "markdown",
   "metadata": {},
   "source": [
    "# Installatie\n",
    "\n",
    "Om deze notebook te draaien, moet je de volgende bibliotheken installeren. Hier is een lijst van de benodigde bibliotheken en de bijbehorende pip-installatiecommando's:\n",
    "\n",
    "azure-identity: Voor Azure-authenticatie.  \n",
    "requests: Voor het maken van HTTP-verzoeken.  \n",
    "semantic-kernel: Voor het semantische kernel-framework (ervan uitgaande dat dit een aangepaste of specifieke bibliotheek is, moet je deze mogelijk installeren vanuit een specifieke bron of repository).  \n"
   ]
  },
  {
   "cell_type": "code",
   "execution_count": null,
   "metadata": {},
   "outputs": [],
   "source": [
    "!pip install azure-identity\n",
    "!pip install requests\n",
    "!pip install semantic-kernel\n",
    "!pip install --upgrade semantic_kernel\n",
    "!pip install azure-cli"
   ]
  },
  {
   "cell_type": "markdown",
   "metadata": {},
   "source": [
    "# Uitleg: \n",
    "import asyncio: Dit importeert de asyncio-module, die ondersteuning biedt voor asynchrone programmering in Python. Hiermee kun je gelijktijdige code schrijven met behulp van de async- en await-syntaxis.\n",
    "from typing import Annotated: Dit importeert het Annotated-type uit de typing-module. Annotated wordt gebruikt om metadata toe te voegen aan type hints, wat nuttig kan zijn voor verschillende doeleinden zoals validatie, documentatie of tooling.\n"
   ]
  },
  {
   "cell_type": "code",
   "execution_count": null,
   "metadata": {
    "dotnet_interactive": {
     "language": "csharp"
    },
    "polyglot_notebook": {
     "kernelName": "csharp"
    }
   },
   "outputs": [],
   "source": [
    "import asyncio,os\n",
    "from typing import Annotated"
   ]
  },
  {
   "cell_type": "markdown",
   "metadata": {},
   "source": [
    "# Uitleg:\n",
    "Door gebruik te maken van from dotenv import load_dotenv en load_dotenv(), kun je eenvoudig configuratie-instellingen en gevoelige informatie (zoals API-sleutels en database-URL's) beheren in een .env-bestand. Hiermee houd je deze gescheiden van je broncode, waardoor je applicatie veiliger en gemakkelijker te configureren is.\n"
   ]
  },
  {
   "cell_type": "code",
   "execution_count": null,
   "metadata": {},
   "outputs": [],
   "source": [
    "import os\n",
    "from dotenv import load_dotenv\n",
    "\n",
    "# Load environment variables from .env file\n",
    "load_dotenv()"
   ]
  },
  {
   "cell_type": "markdown",
   "metadata": {},
   "source": [
    "# Uitleg:\n",
    "\n",
    "Import Statement: from azure.identity.aio import DefaultAzureCredential: Dit importeert de DefaultAzureCredential-klasse uit de azure.identity.aio-module. Het aio-gedeelte van de modulenaam geeft aan dat het is ontworpen voor asynchrone operaties.\n",
    "\n",
    "Doel van DefaultAzureCredential: De DefaultAzureCredential-klasse maakt deel uit van de Azure SDK voor Python. Het biedt een standaardmanier om te authenticeren bij Azure-services. Het probeert te authenticeren met meerdere methoden in een specifieke volgorde, zoals omgevingsvariabelen, managed identity en Azure CLI-referenties.\n",
    "\n",
    "Asynchrone Operaties: De aio-module geeft aan dat de DefaultAzureCredential-klasse asynchrone operaties ondersteunt. Dit betekent dat je het kunt gebruiken met asyncio om niet-blokkerende authenticatieverzoeken uit te voeren.\n"
   ]
  },
  {
   "cell_type": "code",
   "execution_count": null,
   "metadata": {
    "dotnet_interactive": {
     "language": "csharp"
    },
    "polyglot_notebook": {
     "kernelName": "csharp"
    }
   },
   "outputs": [],
   "source": [
    "from azure.identity.aio import DefaultAzureCredential"
   ]
  },
  {
   "cell_type": "markdown",
   "metadata": {},
   "source": [
    "# Uitleg:\n",
    "Importeert verschillende modules en klassen uit het semantic_kernel-pakket. Hier is een overzicht van elke import:\n",
    "\n",
    "AgentGroupChat uit semantic_kernel.agents: Deze klasse beheert functionaliteiten met betrekking tot groepschats voor AI-agenten. AzureAIAgent en AzureAIAgentSettings uit semantic_kernel.agents.azure_ai:\n",
    "\n",
    "AzureAIAgent: Deze klasse wordt gebruikt om AI-agenten te maken en te beheren die gebruikmaken van Azure AI-diensten.\n",
    "\n",
    "AzureAIAgentSettings: Deze klasse wordt gebruikt om instellingen te configureren voor de AzureAIAgent. TerminationStrategy uit semantic_kernel.agents.strategies.termination.termination_strategy:\n",
    "\n",
    "Deze klasse definieert strategieën voor het beëindigen van de uitvoering van AI-agenten onder bepaalde voorwaarden. ChatMessageContent uit semantic_kernel.contents.chat_message_content:\n",
    "\n",
    "Deze klasse wordt gebruikt om de inhoud van chatberichten te beheren.\n",
    "AuthorRole uit semantic_kernel.contents.utils.author_role:\n",
    "\n",
    "Deze klasse definieert verschillende rollen voor auteurs in de context van chatberichten.\n",
    "\n",
    "kernel_function uit semantic_kernel.functions.kernel_function_decorator: Deze decorator wordt gebruikt om kernfuncties te definiëren, dit zijn functies die kunnen worden uitgevoerd binnen het semantic kernel-framework.\n",
    "Deze imports stellen de benodigde componenten in om AI-agenten te creëren en te beheren die kunnen communiceren in een groepschatomgeving, mogelijk voor taken zoals het boeken van hotels of soortgelijke activiteiten.\n"
   ]
  },
  {
   "cell_type": "code",
   "execution_count": null,
   "metadata": {
    "dotnet_interactive": {
     "language": "csharp"
    },
    "polyglot_notebook": {
     "kernelName": "csharp"
    }
   },
   "outputs": [],
   "source": [
    "from semantic_kernel.agents import AgentGroupChat\n",
    "from semantic_kernel.agents import AzureAIAgent, AzureAIAgentSettings\n",
    "from semantic_kernel.agents.strategies.termination.termination_strategy import TerminationStrategy\n",
    "from semantic_kernel.contents import ChatMessageContent\n",
    "from semantic_kernel.contents import AuthorRole\n",
    "from semantic_kernel.functions.kernel_function_decorator import kernel_function"
   ]
  },
  {
   "cell_type": "markdown",
   "metadata": {},
   "source": [
    "# Uitleg:\n",
    "Vervolgens importeren we de CodeInterpreterTool-klasse uit de azure.ai.projects.models-module.\n",
    "\n",
    "CodeInterpreterTool: Deze klasse maakt deel uit van de Azure AI SDK en wordt gebruikt om code te interpreteren en uit te voeren binnen de context van AI-projecten. Het biedt functionaliteiten voor het uitvoeren van codefragmenten, het analyseren van code of het integreren van code-uitvoering binnen AI-workflows.  \n",
    "Deze import stelt de benodigde component in om de CodeInterpreterTool in je project te gebruiken, wat handig kan zijn voor taken die dynamisch interpreteren en uitvoeren van code vereisen.\n"
   ]
  },
  {
   "cell_type": "code",
   "execution_count": null,
   "metadata": {
    "dotnet_interactive": {
     "language": "csharp"
    },
    "polyglot_notebook": {
     "kernelName": "csharp"
    }
   },
   "outputs": [],
   "source": [
    "from azure.ai.projects.models import CodeInterpreterTool"
   ]
  },
  {
   "cell_type": "markdown",
   "metadata": {},
   "source": [
    "# Uitleg:  \n",
    "De ApprovalTerminationStrategy-klasse biedt een specifieke strategie voor het beëindigen van de werking van een AI-agent. De agent stopt met werken als het laatste bericht in zijn interactiegeschiedenis het woord \"opgeslagen\" bevat. Dit kan nuttig zijn in situaties waarin de taak van de agent als voltooid wordt beschouwd zodra er een bevestiging is ontvangen dat iets is \"opgeslagen\". Definieer de interactiemethode. Nadat het reserveringsplan is opgeslagen, kan het worden gestopt bij het ontvangen van het opgeslagen signaal.\n"
   ]
  },
  {
   "cell_type": "code",
   "execution_count": null,
   "metadata": {
    "dotnet_interactive": {
     "language": "csharp"
    },
    "polyglot_notebook": {
     "kernelName": "csharp"
    }
   },
   "outputs": [],
   "source": [
    "class ApprovalTerminationStrategy(TerminationStrategy):\n",
    "    \"\"\"A strategy for determining when an agent should terminate.\"\"\"\n",
    "\n",
    "    async def should_agent_terminate(self, agent, history):\n",
    "        \"\"\"Check if the agent should terminate.\"\"\"\n",
    "        return \"saved\" in history[-1].content.lower()"
   ]
  },
  {
   "cell_type": "markdown",
   "metadata": {},
   "source": [
    "# Uitleg:\n",
    "\n",
    "De regel code initialiseert een AzureAIAgentSettings-object met standaard- of vooraf gedefinieerde instellingen door de create()-methode aan te roepen. Dit instellingenobject (ai_agent_settings) kan vervolgens worden gebruikt om een AzureAIAgent-instance te configureren en beheren.\n"
   ]
  },
  {
   "cell_type": "code",
   "execution_count": null,
   "metadata": {
    "dotnet_interactive": {
     "language": "csharp"
    },
    "polyglot_notebook": {
     "kernelName": "csharp"
    }
   },
   "outputs": [],
   "source": [
    "ai_agent_settings = AzureAIAgentSettings.create()"
   ]
  },
  {
   "cell_type": "markdown",
   "metadata": {},
   "source": [
    "# Uitleg:\n",
    "Door de requests-bibliotheek te importeren, kun je eenvoudig HTTP-verzoeken uitvoeren en communiceren met webservices in je Python-code.\n"
   ]
  },
  {
   "cell_type": "code",
   "execution_count": null,
   "metadata": {
    "dotnet_interactive": {
     "language": "csharp"
    },
    "polyglot_notebook": {
     "kernelName": "csharp"
    }
   },
   "outputs": [],
   "source": [
    "import requests"
   ]
  },
  {
   "cell_type": "markdown",
   "metadata": {},
   "source": [
    "# Uitleg:\n",
    "Dit is een variabele die de API-sleutel opslaat voor toegang tot een SERP (Search Engine Results Page) API-service. Een API-sleutel is een unieke identificatie die wordt gebruikt om verzoeken te verifiëren die aan jouw account zijn gekoppeld.\n",
    "\n",
    "'GOOGLE_SEARCH_API_KEY': Dit is een tijdelijke aanduiding. Je moet ''GOOGLE_SEARCH_API_KEY' vervangen door je daadwerkelijke SERP API-sleutel.\n",
    "\n",
    "Doel: Het doel van deze regel is om de API-sleutel in een variabele op te slaan, zodat deze kan worden gebruikt om verzoeken aan de SERP API-service te verifiëren. De API-sleutel is vereist om toegang te krijgen tot de service en zoekopdrachten uit te voeren.\n",
    "\n",
    "Hoe krijg je een SERP API-sleutel: Volg deze algemene stappen op https://serpapi.com om een SERP API-sleutel te verkrijgen (de exacte stappen kunnen variëren afhankelijk van de specifieke SERP API-service die je gebruikt):\n",
    "\n",
    "Kies een SERP API-service: Er zijn verschillende SERP API-services beschikbaar, zoals SerpAPI, Google Custom Search JSON API, en anderen. Kies degene die het beste bij jouw behoeften past.\n",
    "\n",
    "Registreer een account:\n",
    "\n",
    "Ga naar de website van de gekozen SERP API-service https://www.serpapi.com en registreer een account. Je moet mogelijk wat basisinformatie verstrekken en je e-mailadres verifiëren.\n",
    "\n",
    "Maak een API-sleutel aan:\n",
    "\n",
    "Na registratie, log in op je account en navigeer naar de API-sectie of het dashboard. Zoek naar een optie om een nieuwe API-sleutel aan te maken of te genereren.\n",
    "Kopieer de API-sleutel:\n",
    "\n",
    "Zodra de API-sleutel is gegenereerd, kopieer je deze. Deze sleutel wordt gebruikt om je verzoeken aan de SERP API-service te verifiëren.\n",
    "Vervang de tijdelijke aanduiding:\n",
    "\n",
    "Vervang de tijdelijke aanduiding in je .env-bestand.\n"
   ]
  },
  {
   "cell_type": "code",
   "execution_count": null,
   "metadata": {
    "dotnet_interactive": {
     "language": "csharp"
    },
    "polyglot_notebook": {
     "kernelName": "csharp"
    }
   },
   "outputs": [],
   "source": [
    "SERPAPI_SEARCH_API_KEY=os.getenv('SERPAPI_SEARCH_API_KEY')"
   ]
  },
  {
   "cell_type": "code",
   "execution_count": null,
   "metadata": {
    "dotnet_interactive": {
     "language": "csharp"
    },
    "polyglot_notebook": {
     "kernelName": "csharp"
    }
   },
   "outputs": [],
   "source": [
    "SERPAPI_SEARCH_ENDPOINT = os.getenv('SERPAPI_SEARCH_ENDPOINT')"
   ]
  },
  {
   "cell_type": "markdown",
   "metadata": {},
   "source": [
    "# Uitleg:\n",
    "De BookingPlugin-klasse biedt methoden voor het boeken van hotels en vluchten met behulp van de Google Search API van Serpapi.com. Het stelt de benodigde parameters samen, verstuurt API-verzoeken en verwerkt de antwoorden om relevante boekingsinformatie terug te geven. De API-sleutel (SERPAPI_SEARCH_API_KEY) en endpoint (SERPAPI_SEARCH_ENDPOINT) worden gebruikt om te authenticeren en verzoeken te versturen naar de Google Search API.\n"
   ]
  },
  {
   "cell_type": "code",
   "execution_count": null,
   "metadata": {
    "dotnet_interactive": {
     "language": "csharp"
    },
    "polyglot_notebook": {
     "kernelName": "csharp"
    }
   },
   "outputs": [],
   "source": [
    "# Define Booking Plugin\n",
    "class BookingPlugin:\n",
    "    \"\"\"Booking Plugin for customers\"\"\"\n",
    "    @kernel_function(description=\"booking hotel\")\n",
    "    def booking_hotel(self,query: Annotated[str, \"The name of the city\"], check_in_date: Annotated[str, \"Hotel Check-in Time\"], check_out_date: Annotated[str, \"Hotel Check-in Time\"])-> Annotated[str, \"Return the result of booking hotel infomation\"]:\n",
    "\n",
    "        params = {\n",
    "            \"engine\": \"google_hotels\",\n",
    "            \"q\": query,\n",
    "            \"check_in_date\": check_in_date,\n",
    "            \"check_out_date\": check_out_date,\n",
    "            \"adults\": \"2\",\n",
    "            \"currency\": \"USD\",\n",
    "            \"gl\": \"us\",\n",
    "            \"hl\": \"en\",\n",
    "            \"api_key\": SERPAPI_SEARCH_API_KEY\n",
    "        }\n",
    "\n",
    "        response = requests.get(SERPAPI_SEARCH_ENDPOINT, params=params)\n",
    "        if response.status_code == 200:\n",
    "            response = response.json()\n",
    "            return response[\"properties\"]\n",
    "        else:\n",
    "            return None\n",
    "\n",
    "    \n",
    "    @kernel_function(description=\"booking fight\")\n",
    "    def  booking_fight(self,origin: Annotated[str, \"The name of Departure\"], destination: Annotated[str, \"The name of Destination\"], outbound_date: Annotated[str, \"The date of outbound\"], return_date: Annotated[str, \"The date of Return_date\"])-> Annotated[str, \"Return the result of booking fight infomation\"]:\n",
    "        \n",
    "        go_params = {\n",
    "            \"engine\": \"google_flights\",   \n",
    "            \"departure_id\": origin,\n",
    "            \"arrival_id\": destination,\n",
    "            \"outbound_date\": outbound_date,\n",
    "            \"return_date\": return_date,  \n",
    "            \"currency\": \"USD\",\n",
    "            \"hl\": \"en\",\n",
    "            \"api_key\": SERPAPI_SEARCH_API_KEY  \n",
    "        }\n",
    "\n",
    "        print(go_params)\n",
    "\n",
    "        go_response = requests.get(SERPAPI_SEARCH_ENDPOINT, params=go_params)\n",
    "\n",
    "\n",
    "        result = ''\n",
    "\n",
    "        if go_response.status_code == 200:\n",
    "            response = go_response.json()\n",
    "\n",
    "            result += \"# outbound \\n \" + str(response)\n",
    "        else:\n",
    "            print('error!!!')\n",
    "            # return None\n",
    "\n",
    "        \n",
    "        back_params = {\n",
    "            \"engine\": \"google_flights\",   \n",
    "            \"departure_id\": destination,\n",
    "            \"arrival_id\": origin,\n",
    "            \"outbound_date\": return_date,\n",
    "            \"return_date\": return_date,  \n",
    "            \"currency\": \"USD\",\n",
    "            \"hl\": \"en\",\n",
    "            \"api_key\": SERPAPI_SEARCH_API_KEY  \n",
    "        }\n",
    "\n",
    "\n",
    "        print(back_params)\n",
    "\n",
    "\n",
    "        back_response = requests.get(SERPAPI_SEARCH_ENDPOINT, params=back_params)\n",
    "\n",
    "\n",
    "\n",
    "        if back_response.status_code == 200:\n",
    "            response = back_response.json()\n",
    "\n",
    "            result += \"\\n # return \\n\"  + str(response)\n",
    "\n",
    "        else:\n",
    "            print('error!!!')\n",
    "            # return None\n",
    "        \n",
    "        print(result)\n",
    "\n",
    "        return result\n",
    "\n",
    "        \n"
   ]
  },
  {
   "cell_type": "markdown",
   "metadata": {},
   "source": [
    "# Uitleg:\n",
    "De SavePlugin-klasse biedt een methode saving_plan om reisplannen op te slaan met behulp van Azure AI-diensten. Het stelt Azure-referenties in, creëert een AI-agent, verwerkt gebruikersinvoer om de inhoud van het reisplan te genereren en op te slaan, en handelt het opslaan van bestanden en opruimwerkzaamheden af. De methode retourneert \"Opgeslagen\" bij succesvolle voltooiing.\n"
   ]
  },
  {
   "cell_type": "code",
   "execution_count": null,
   "metadata": {
    "dotnet_interactive": {
     "language": "csharp"
    },
    "polyglot_notebook": {
     "kernelName": "csharp"
    }
   },
   "outputs": [],
   "source": [
    "class SavePlugin:\n",
    "    \"\"\"Save Plugin for customers\"\"\"\n",
    "    @kernel_function(description=\"saving plan\")\n",
    "    async def saving_plan(self,tripplan: Annotated[str, \"The content of trip plan\"])-> Annotated[str, \"Return status of save content\"]:\n",
    "\n",
    "        async with (\n",
    "            DefaultAzureCredential() as creds,\n",
    "            AzureAIAgent.create_client(\n",
    "                credential=creds,\n",
    "                conn_str=ai_agent_settings.project_connection_string.get_secret_value(),\n",
    "            ) as client,\n",
    "        ):\n",
    "\n",
    "            code_interpreter = CodeInterpreterTool()\n",
    "            \n",
    "            agent_definition = await client.agents.create_agent(\n",
    "                model=ai_agent_settings.model_deployment_name,\n",
    "                tools=code_interpreter.definitions,\n",
    "                tool_resources=code_interpreter.resources,\n",
    "            )\n",
    "\n",
    "\n",
    "            agent = AzureAIAgent(\n",
    "                client=client,\n",
    "                definition=agent_definition,\n",
    "            )\n",
    "\n",
    "            thread = await client.agents.create_thread()\n",
    "\n",
    "\n",
    "            user_inputs = [\n",
    "                \"\"\"\n",
    "            \n",
    "                        You are my Python programming assistant. Generate code,save \"\"\"+ tripplan +\n",
    "                        \n",
    "                    \"\"\"    \n",
    "                        and execute it according to the following requirements\n",
    "\n",
    "                        1. Save blog content to trip-{YYMMDDHHMMSS}.md\n",
    "\n",
    "                        2. give me the download this file link\n",
    "                    \"\"\"\n",
    "            ]\n",
    "\n",
    "\n",
    "\n",
    "            try:\n",
    "                for user_input in user_inputs:\n",
    "                    # Add the user input as a chat message\n",
    "                    await agent.add_chat_message(\n",
    "                        thread_id=thread.id, message=ChatMessageContent(role=AuthorRole.USER, content=user_input)\n",
    "                    )\n",
    "                    print(f\"# User: '{user_input}'\")\n",
    "                    # Invoke the agent for the specified thread\n",
    "                    async for content in agent.invoke(thread_id=thread.id):\n",
    "                        if content.role != AuthorRole.TOOL:\n",
    "                            print(f\"# Agent: {content.content}\")\n",
    "\n",
    "                    \n",
    "                    messages = await client.agents.list_messages(thread_id=thread.id)\n",
    "\n",
    "                    # OpenAIPageableListOfThreadMessage\n",
    "                    # OpenAIPageableListOfThreadMessage\n",
    "\n",
    "\n",
    "                    for file_path_annotation in messages.file_path_annotations:\n",
    "\n",
    "                            file_name = os.path.basename(file_path_annotation.text)\n",
    "\n",
    "                            await client.agents.save_file(file_id=file_path_annotation.file_path.file_id, file_name=file_name,target_dir=\"./trip\")\n",
    "\n",
    "                    \n",
    "            finally:\n",
    "                await client.agents.delete_thread(thread.id)\n",
    "                await client.agents.delete_agent(agent.id)\n",
    "\n",
    "\n",
    "        return \"Saved\""
   ]
  },
  {
   "cell_type": "markdown",
   "metadata": {},
   "source": [
    "# Uitleg:\n",
    "Deze code stelt Azure AI-agenten in om vluchten en hotels te boeken en reisplannen op te slaan op basis van gebruikersinvoer. Het maakt gebruik van Azure-referenties om de agenten te creëren en configureren, verwerkt gebruikersinvoer via een groepschat, en zorgt voor een correcte opruiming nadat de taken zijn voltooid. De agenten gebruiken specifieke plug-ins (BookingPlugin en SavePlugin) om hun respectieve taken uit te voeren.\n"
   ]
  },
  {
   "cell_type": "code",
   "execution_count": null,
   "metadata": {
    "dotnet_interactive": {
     "language": "csharp"
    },
    "polyglot_notebook": {
     "kernelName": "csharp"
    }
   },
   "outputs": [],
   "source": [
    "async with (\n",
    "    DefaultAzureCredential() as creds,\n",
    "    AzureAIAgent.create_client(\n",
    "        credential=creds,\n",
    "        conn_str=ai_agent_settings.project_connection_string.get_secret_value(),\n",
    "    ) as client,\n",
    "):\n",
    "    BOOKING_AGENT_NAME = \"BookingAgent\"\n",
    "    BOOKING_AGENT_INSTRUCTIONS = \"\"\"\n",
    "    You are a booking agent. Help me book flights or hotels.\n",
    "\n",
    "    Thought: Please understand the user's intention and confirm whether to use the reservation system to complete the task.\n",
    "\n",
    "    Actions:\n",
    "    - For flight bookings, convert the departure and destination names into airport codes.\n",
    "    - Use the appropriate API for hotel or flight bookings. Verify that all necessary parameters are available. If any parameters are missing, ask the user to provide them. If all parameters are complete, call the corresponding function.\n",
    "    - If the task is not related to hotel or flight booking, respond with the final answer only.\n",
    "    - Output the results using a markdown table:\n",
    "      - For flight bookings, output separate outbound and return contents in the order of:\n",
    "        Departure Airport | Airline | Flight Number | Departure Time | Arrival Airport | Arrival Time | Duration | Airplane | Travel Class | Price (USD) | Legroom | Extensions | Carbon Emissions (kg).\n",
    "      - For hotel bookings, output in the order of:\n",
    "        Property Name | Property Description | Check-in Time | Check-out Time | Prices | Nearby Places | Hotel Class | GPS Coordinates.\n",
    "    \"\"\"\n",
    "\n",
    "    SAVE_AGENT_NAME = \"SaveAgent\"\n",
    "    SAVE_AGENT_INSTRUCTIONS = \"\"\"\n",
    "    You are a save tool agent. Help me to save the trip plan.\n",
    "    \"\"\"\n",
    "\n",
    "    # Create agent definition\n",
    "    booking_agent_definition = await client.agents.create_agent(\n",
    "        model=ai_agent_settings.model_deployment_name,\n",
    "        name=BOOKING_AGENT_NAME,\n",
    "        instructions=BOOKING_AGENT_INSTRUCTIONS,\n",
    "    )\n",
    "\n",
    "    # Create the AzureAI Agent\n",
    "    booking_agent = AzureAIAgent(\n",
    "        client=client,\n",
    "        definition=booking_agent_definition,\n",
    "        # Optionally configure polling options\n",
    "        # polling_options=RunPollingOptions(run_polling_interval=timedelta(seconds=1)),\n",
    "    )\n",
    "\n",
    "    # Add the sample plugin to the kernel\n",
    "    booking_agent.kernel.add_plugin(BookingPlugin(), plugin_name=\"booking\")\n",
    "\n",
    "    # Create agent definition\n",
    "    save_agent_definition = await client.agents.create_agent(\n",
    "        model=ai_agent_settings.model_deployment_name,\n",
    "        name=SAVE_AGENT_NAME,\n",
    "        instructions=SAVE_AGENT_INSTRUCTIONS\n",
    "    )\n",
    "\n",
    "    # Create the AzureAI Agent\n",
    "    save_agent = AzureAIAgent(\n",
    "        client=client,\n",
    "        definition=save_agent_definition,\n",
    "    )\n",
    "\n",
    "    save_agent.kernel.add_plugin(SavePlugin(), plugin_name=\"saving\")\n",
    "\n",
    "    user_inputs = [\n",
    "        \"I have a business trip from London to New York in Feb 20 2025 to Feb 27 2025 ,help me to book a hotel and fight tickets and save it\"\n",
    "    ]\n",
    "\n",
    "    chat = AgentGroupChat(\n",
    "        agents=[booking_agent, save_agent],\n",
    "        termination_strategy=ApprovalTerminationStrategy(agents=[save_agent], maximum_iterations=10),\n",
    "    )\n",
    "\n",
    "    try:\n",
    "        for user_input in user_inputs:\n",
    "            # Add the user input as a chat message\n",
    "            await chat.add_chat_message(\n",
    "                ChatMessageContent(role=AuthorRole.USER, content=user_input)\n",
    "            )\n",
    "            print(f\"# User: '{user_input}'\")\n",
    "\n",
    "            async for content in chat.invoke():\n",
    "                print(f\"# {content.role} - {content.name or '*'}: '{content.content}'\")\n",
    "\n",
    "            print(f\"# IS COMPLETE: {chat.is_complete}\")\n",
    "\n",
    "            print(\"*\" * 60)\n",
    "            print(\"Chat History (In Descending Order):\\n\")\n",
    "            async for message in chat.get_chat_messages(agent=save_agent):\n",
    "                print(f\"# {message.role} - {message.name or '*'}: '{message.content}'\")\n",
    "    finally:\n",
    "        await chat.reset()\n",
    "        await client.agents.delete_agent(save_agent.id)\n",
    "        await client.agents.delete_agent(booking_agent.id)\n"
   ]
  },
  {
   "cell_type": "markdown",
   "metadata": {},
   "source": [
    "\n---\n\n**Disclaimer**:  \nDit document is vertaald met behulp van de AI-vertalingsservice [Co-op Translator](https://github.com/Azure/co-op-translator). Hoewel we ons best doen voor nauwkeurigheid, dient u zich ervan bewust te zijn dat geautomatiseerde vertalingen fouten of onnauwkeurigheden kunnen bevatten. Het originele document in zijn oorspronkelijke taal moet worden beschouwd als de gezaghebbende bron. Voor cruciale informatie wordt professionele menselijke vertaling aanbevolen. Wij zijn niet aansprakelijk voor misverstanden of verkeerde interpretaties die voortvloeien uit het gebruik van deze vertaling.\n"
   ]
  }
 ],
 "metadata": {
  "kernelspec": {
   "display_name": "3.12.1",
   "language": "python",
   "name": "python3"
  },
  "language_info": {
   "codemirror_mode": {
    "name": "ipython",
    "version": 3
   },
   "file_extension": ".py",
   "mimetype": "text/x-python",
   "name": "python",
   "nbconvert_exporter": "python",
   "pygments_lexer": "ipython3",
   "version": "3.12.1"
  },
  "polyglot_notebook": {
   "kernelInfo": {
    "defaultKernelName": "csharp",
    "items": [
     {
      "aliases": [],
      "name": "csharp"
     }
    ]
   }
  },
  "coopTranslator": {
   "original_hash": "1baa60020a95eda27b7e9ecfda99965b",
   "translation_date": "2025-08-29T19:01:48+00:00",
   "source_file": "08-multi-agent/code_samples/08-python_multi_aiagent_bookinghotel.ipynb",
   "language_code": "nl"
  }
 },
 "nbformat": 4,
 "nbformat_minor": 2
}