{
 "cells": [
  {
   "cell_type": "markdown",
   "metadata": {},
   "source": [
    "# RAG met Azure AI Agent Service & Semantic Kernel\n",
    "\n",
    "Deze codevoorbeeld laat zien hoe je een Azure AI-agent kunt maken en beheren voor retrieval-augmented generation (RAG) met behulp van de `Azure AI Agent Service` en `Semantic Kernel`. De agent verwerkt gebruikersvragen op basis van de opgehaalde context en geeft dienovereenkomstig nauwkeurige antwoorden.\n"
   ]
  },
  {
   "cell_type": "markdown",
   "metadata": {},
   "source": []
  },
  {
   "cell_type": "markdown",
   "metadata": {},
   "source": [
    "SQLite-versie oplossen  \n",
    "Als je de foutmelding tegenkomt:  \n",
    "```\n",
    "RuntimeError: Your system has an unsupported version of sqlite3. Chroma requires sqlite3 >= 3.35.0\n",
    "```  \n",
    "\n",
    "Haal dit codeblok aan het begin van je notebook uit commentaar:  \n"
   ]
  },
  {
   "cell_type": "code",
   "execution_count": null,
   "metadata": {},
   "outputs": [],
   "source": [
    "# %pip install pysqlite3-binary\n",
    "# __import__('pysqlite3')\n",
    "# import sys\n",
    "# sys.modules['sqlite3'] = sys.modules.pop('pysqlite3')"
   ]
  },
  {
   "cell_type": "markdown",
   "metadata": {},
   "source": [
    "### Pakketten importeren\n",
    "De volgende code importeert de benodigde pakketten:\n"
   ]
  },
  {
   "cell_type": "code",
   "execution_count": null,
   "metadata": {},
   "outputs": [],
   "source": [
    "# Azure imports for project client and credentials\n",
    "from azure.ai.projects.models import FileSearchTool, OpenAIFile, VectorStore\n",
    "from azure.identity.aio import DefaultAzureCredential\n",
    "\n",
    "# Semantic Kernel imports\n",
    "from semantic_kernel.agents import AzureAIAgent, AzureAIAgentThread"
   ]
  },
  {
   "cell_type": "markdown",
   "metadata": {},
   "source": [
    "# Retrieval-Augmented Generation met Semantic Kernel & Azure AI Agent Service\n",
    "\n",
    "Dit voorbeeld laat zien hoe je de **Azure AI Agent Service** kunt gebruiken om **Retrieval-Augmented Generation (RAG)** uit te voeren door een taalmodel te combineren met domeinspecifieke context uit een geüpload document.\n",
    "\n",
    "### Hoe Het Werkt\n",
    "\n",
    "1. **Document Upload**: Een markdown-bestand (document.md) met informatie (Contoso's reisverzekeringsbeleid) wordt geüpload naar de agent service.\n",
    "\n",
    "2. **Vector Store Creatie**: Het document wordt geïndexeerd in een vector store om semantisch zoeken in de inhoud mogelijk te maken.\n",
    "\n",
    "3. **Agent Configuratie**: Een agent wordt ingesteld met het `gpt-4o` model en de volgende strikte instructies:\n",
    "   - Beantwoord alleen vragen op basis van opgehaalde inhoud uit het document.\n",
    "   - Weiger te antwoorden als de vraag buiten de scope valt.\n",
    "\n",
    "4. **File Search Tool Integratie**: De `FileSearchTool` wordt geregistreerd bij de agent, waardoor het model relevante fragmenten uit het geïndexeerde document kan zoeken en ophalen tijdens inferentie.\n",
    "\n",
    "5. **Gebruikersinteractie**: Gebruikers kunnen vragen stellen. Als relevante informatie in het document wordt gevonden, genereert de agent een onderbouwd antwoord.  \n",
    "   Als dat niet het geval is, geeft de agent expliciet aan dat het document niet voldoende informatie bevat.\n"
   ]
  },
  {
   "cell_type": "markdown",
   "metadata": {},
   "source": [
    "### Hoofdfunctie\n",
    "\n",
    "```python\n",
    "# Dit is de hoofdfunctie van het programma\n",
    "def main():\n",
    "    print(\"Welkom bij het programma!\")  # Begroet de gebruiker\n",
    "    resultaat = bereken_som(5, 10)  # Roept de functie aan om een som te berekenen\n",
    "    print(f\"De som is: {resultaat}\")  # Toont het resultaat aan de gebruiker\n",
    "```\n",
    "\n",
    "### Bereken Som\n",
    "\n",
    "```python\n",
    "# Deze functie berekent de som van twee getallen\n",
    "def bereken_som(a, b):\n",
    "    return a + b  # Geeft de som van a en b terug\n",
    "```\n",
    "\n",
    "### Uitvoeren van het Programma\n",
    "\n",
    "```python\n",
    "# Controleert of dit script direct wordt uitgevoerd\n",
    "if __name__ == \"__main__\":\n",
    "    main()  # Voert de hoofdfunctie uit\n",
    "```\n"
   ]
  },
  {
   "cell_type": "markdown",
   "metadata": {},
   "source": [
    "Zorg ervoor dat u eerst `az login` uitvoert met behulp van de Azure CLI, zodat de juiste authenticatiecontext wordt geboden bij het gebruik van de `DefaultAzureCredential`. De Azure AI Agent Service maakt geen gebruik van API-sleutels.\n"
   ]
  },
  {
   "cell_type": "code",
   "execution_count": null,
   "metadata": {},
   "outputs": [],
   "source": [
    "async def main():\n",
    "    async with (\n",
    "        DefaultAzureCredential() as creds,\n",
    "        AzureAIAgent.create_client(credential=creds) as client,\n",
    "    ):\n",
    "        file: OpenAIFile = await client.agents.upload_file_and_poll(file_path=\"document.md\", purpose=\"assistants\")\n",
    "        vector_store: VectorStore = await client.agents.create_vector_store_and_poll(\n",
    "            file_ids=[file.id], name=\"my_vectorstore\"\n",
    "        )\n",
    "\n",
    "        # Define agent name and instructions tailored for RAG.\n",
    "        AGENT_NAME = \"RAGAgent\"\n",
    "        AGENT_INSTRUCTIONS = \"\"\"\n",
    "        You are an AI assistant designed to answer user questions using only the information retrieved from the provided document(s).\n",
    "\n",
    "        - If a user's question cannot be answered using the retrieved context, **you must clearly respond**: \n",
    "        \"I'm sorry, but the uploaded document does not contain the necessary information to answer that question.\"\n",
    "        - Do not answer from general knowledge or reasoning. Do not make assumptions or generate hypothetical explanations.\n",
    "        - Do not provide definitions, tutorials, or commentary that is not explicitly grounded in the content of the uploaded file(s).\n",
    "        - If a user asks a question like \"What is a Neural Network?\", and this is not discussed in the uploaded document, respond as instructed above.\n",
    "        - For questions that do have relevant content in the document (e.g., Contoso's travel insurance coverage), respond accurately, and cite the document explicitly.\n",
    "\n",
    "        You must behave as if you have no external knowledge beyond what is retrieved from the uploaded document.\n",
    "        \"\"\"\n",
    "\n",
    "        \n",
    "        # Create file search tool with uploaded resources\n",
    "        file_search = FileSearchTool(vector_store_ids=[vector_store.id])\n",
    "\n",
    "        # 3. Create an agent on the Azure AI agent service with the file search tool\n",
    "        agent_definition = await client.agents.create_agent(\n",
    "            model=\"gpt-4o\",  # This model should match your Azure OpenAI deployment.\n",
    "            name=AGENT_NAME,\n",
    "            instructions=AGENT_INSTRUCTIONS,\n",
    "            tools=file_search.definitions,\n",
    "            tool_resources=file_search.resources,\n",
    "        )\n",
    "        \n",
    "        # Create the Azure AI Agent using the client and definition.\n",
    "        agent = AzureAIAgent(\n",
    "            client=client,\n",
    "            definition=agent_definition,\n",
    "        )\n",
    "        \n",
    "        # Create a thread to hold the conversation\n",
    "        # If no thread is provided, a new thread will be\n",
    "        # created and returned with the initial response\n",
    "        thread: AzureAIAgentThread | None = None\n",
    "        \n",
    "        # Example user queries.\n",
    "        user_inputs = [\n",
    "            \"Can you explain Contoso's travel insurance coverage?\",  # Relevant context.\n",
    "            \"What is a Neural Network?\"  # No relevant context from the document. Will not contain a source annotation.\n",
    "        ]\n",
    "        \n",
    "        try:\n",
    "            for user_input in user_inputs:\n",
    "                print(f\"# User: '{user_input}'\")\n",
    "                # Invoke the agent for the specified thread for response\n",
    "                async for response in agent.invoke(messages=user_input, thread=thread):\n",
    "                    print(f\"# {response.name}: {response}\")\n",
    "                    thread = response.thread\n",
    "        finally:\n",
    "            # Clean up resources.\n",
    "            await thread.delete() if thread else None\n",
    "            await client.agents.delete_vector_store(vector_store.id)\n",
    "            await client.agents.delete_file(file.id)\n",
    "            await client.agents.delete_agent(agent.id)\n",
    "            print(\"\\nCleaned up agent, thread, file, and vector store.\")\n",
    "\n",
    "await main()"
   ]
  },
  {
   "cell_type": "markdown",
   "metadata": {},
   "source": [
    "Got it! Please provide the markdown file you'd like me to translate.\n"
   ]
  },
  {
   "cell_type": "markdown",
   "metadata": {},
   "source": [
    "\n---\n\n**Disclaimer**:  \nDit document is vertaald met behulp van de AI-vertalingsservice [Co-op Translator](https://github.com/Azure/co-op-translator). Hoewel we streven naar nauwkeurigheid, dient u zich ervan bewust te zijn dat geautomatiseerde vertalingen fouten of onnauwkeurigheden kunnen bevatten. Het originele document in zijn oorspronkelijke taal moet worden beschouwd als de gezaghebbende bron. Voor cruciale informatie wordt professionele menselijke vertaling aanbevolen. Wij zijn niet aansprakelijk voor eventuele misverstanden of verkeerde interpretaties die voortvloeien uit het gebruik van deze vertaling.\n"
   ]
  }
 ],
 "metadata": {
  "kernelspec": {
   "display_name": ".venv",
   "language": "python",
   "name": "python3"
  },
  "language_info": {
   "codemirror_mode": {
    "name": "ipython",
    "version": 3
   },
   "file_extension": ".py",
   "mimetype": "text/x-python",
   "name": "python",
   "nbconvert_exporter": "python",
   "pygments_lexer": "ipython3",
   "version": "3.11.11"
  },
  "coopTranslator": {
   "original_hash": "a86c3ddfbe35024993bbf563588aad48",
   "translation_date": "2025-08-29T19:18:40+00:00",
   "source_file": "05-agentic-rag/code_samples/05-semantic-kernel-azure-ai-agent.ipynb",
   "language_code": "nl"
  }
 },
 "nbformat": 4,
 "nbformat_minor": 2
}