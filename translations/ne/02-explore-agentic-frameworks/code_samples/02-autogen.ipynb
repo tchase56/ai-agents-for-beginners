{
 "cells": [
  {
   "cell_type": "markdown",
   "metadata": {},
   "source": [
    "# AutoGen आधारभूत नमूना\n",
    "\n",
    "यस कोड नमूनामा, तपाईं [AutoGen](https://aka.ms/ai-agents/autogen) AI Framework प्रयोग गरेर एउटा आधारभूत एजेन्ट सिर्जना गर्नुहुनेछ।\n",
    "\n",
    "यस नमूनाको उद्देश्य विभिन्न एजेन्टिक ढाँचाहरू कार्यान्वयन गर्दा पछि प्रयोग गरिने चरणहरू देखाउनु हो।\n"
   ]
  },
  {
   "cell_type": "markdown",
   "metadata": {},
   "source": [
    "आवश्यक पाइथन प्याकेजहरू आयात गर्नुहोस्\n"
   ]
  },
  {
   "cell_type": "code",
   "execution_count": null,
   "metadata": {},
   "outputs": [],
   "source": [
    "import os\n",
    "from dotenv import load_dotenv\n",
    "\n",
    "from autogen_agentchat.agents import AssistantAgent\n",
    "from autogen_core.models import UserMessage\n",
    "from autogen_ext.models.azure import AzureAIChatCompletionClient\n",
    "from azure.core.credentials import AzureKeyCredential\n",
    "from autogen_core import CancellationToken\n",
    "\n",
    "from autogen_agentchat.messages import TextMessage\n",
    "from autogen_agentchat.ui import Console\n"
   ]
  },
  {
   "cell_type": "markdown",
   "metadata": {},
   "source": [
    "## क्लाइन्ट बनाउनुहोस्\n",
    "\n",
    "यस नमुनामा, हामी [GitHub Models](https://aka.ms/ai-agents-beginners/github-models) प्रयोग गर्नेछौं LLM पहुँचका लागि।\n",
    "\n",
    "`model` लाई `gpt-4o-mini` भनेर परिभाषित गरिएको छ। GitHub Models बजारमा उपलब्ध अर्को मोडेलमा परिवर्तन गरेर फरक नतिजाहरू हेर्न प्रयास गर्नुहोस्।\n",
    "\n",
    "छिटो परीक्षणको रूपमा, हामी केवल एउटा साधारण प्रश्न चलाउनेछौं - `What is the capital of France`।\n"
   ]
  },
  {
   "cell_type": "code",
   "execution_count": null,
   "metadata": {},
   "outputs": [],
   "source": [
    "load_dotenv()\n",
    "client = AzureAIChatCompletionClient(\n",
    "    model=\"gpt-4o-mini\",\n",
    "    endpoint=\"https://models.inference.ai.azure.com\",\n",
    "    # To authenticate with the model you will need to generate a personal access token (PAT) in your GitHub settings.\n",
    "    # Create your PAT token by following instructions here: https://docs.github.com/en/authentication/keeping-your-account-and-data-secure/managing-your-personal-access-tokens\n",
    "    credential=AzureKeyCredential(os.getenv(\"GITHUB_TOKEN\")),\n",
    "    model_info={\n",
    "        \"json_output\": True,\n",
    "        \"function_calling\": True,\n",
    "        \"vision\": True,\n",
    "        \"family\": \"unknown\",\n",
    "    },\n",
    ")\n",
    "\n",
    "result = await client.create([UserMessage(content=\"What is the capital of France?\", source=\"user\")])\n",
    "print(result)"
   ]
  },
  {
   "cell_type": "markdown",
   "metadata": {},
   "source": [
    "## एजेन्ट परिभाषित गर्दै \n",
    "\n",
    "अब हामीले `client` सेटअप गरिसकेपछि र यसको काम गर्ने पुष्टि गरेपछि, अब `AssistantAgent` सिर्जना गरौं। प्रत्येक एजेन्टलाई निम्न प्रकारका विशेषताहरू प्रदान गर्न सकिन्छ:  \n",
    "**name** - छोटो नाम जसले बहु-एजेन्ट प्रवाहहरूमा यसलाई सन्दर्भ गर्न उपयोगी बनाउँछ।  \n",
    "**model_client** - तपाईंले अघिल्लो चरणमा सिर्जना गरेको क्लाइन्ट।  \n",
    "**tools** - एजेन्टले कुनै कार्य पूरा गर्न प्रयोग गर्न सक्ने उपलब्ध उपकरणहरू।  \n",
    "**system_message** - मेटाप्रम्प्ट जसले LLM को कार्य, व्यवहार र स्वर परिभाषित गर्दछ।  \n",
    "\n",
    "तपाईंले सिस्टम सन्देश परिवर्तन गरेर LLM कसरी प्रतिक्रिया दिन्छ हेर्न सक्नुहुन्छ। हामी `tools` को बारेमा पाठ #4 मा छलफल गर्नेछौं।\n"
   ]
  },
  {
   "cell_type": "code",
   "execution_count": null,
   "metadata": {},
   "outputs": [],
   "source": [
    "agent = AssistantAgent(\n",
    "    name=\"assistant\",\n",
    "    model_client=client,\n",
    "    tools=[],\n",
    "    system_message=\"You are a travel agent that plans great vacations\",\n",
    ")"
   ]
  },
  {
   "cell_type": "markdown",
   "metadata": {},
   "source": [
    "## एजेन्ट चलाउनुहोस्\n",
    "\n",
    "तलको फङ्सनले एजेन्ट चलाउनेछ। हामी `on_message` मेथड प्रयोग गरेर नयाँ सन्देशसँग एजेन्टको अवस्था अपडेट गर्छौं।\n",
    "\n",
    "यस अवस्थामा, हामी प्रयोगकर्ताबाट आएको नयाँ सन्देश `\"Plan me a great sunny vacation\"` द्वारा अवस्था अपडेट गर्छौं।\n",
    "\n",
    "तपाईं सन्देशको सामग्री परिवर्तन गरेर LLM ले कसरी फरक प्रतिक्रिया दिन्छ हेर्न सक्नुहुन्छ।\n"
   ]
  },
  {
   "cell_type": "code",
   "execution_count": null,
   "metadata": {},
   "outputs": [],
   "source": [
    "from IPython.display import display, HTML\n",
    "\n",
    "\n",
    "async def assistant_run():\n",
    "    # Define the query\n",
    "    user_query = \"Plan me a great sunny vacation\"\n",
    "\n",
    "    # Start building HTML output\n",
    "    html_output = \"<div style='margin-bottom:10px'>\"\n",
    "    html_output += \"<div style='font-weight:bold'>User:</div>\"\n",
    "    html_output += f\"<div style='margin-left:20px'>{user_query}</div>\"\n",
    "    html_output += \"</div>\"\n",
    "\n",
    "    # Execute the agent response\n",
    "    response = await agent.on_messages(\n",
    "        [TextMessage(content=user_query, source=\"user\")],\n",
    "        cancellation_token=CancellationToken(),\n",
    "    )\n",
    "\n",
    "    # Add agent response to HTML\n",
    "    html_output += \"<div style='margin-bottom:20px'>\"\n",
    "    html_output += \"<div style='font-weight:bold'>Assistant:</div>\"\n",
    "    html_output += f\"<div style='margin-left:20px; white-space:pre-wrap'>{response.chat_message.content}</div>\"\n",
    "    html_output += \"</div>\"\n",
    "\n",
    "    # Display formatted HTML\n",
    "    display(HTML(html_output))\n",
    "\n",
    "# Run the function\n",
    "await assistant_run()"
   ]
  },
  {
   "cell_type": "markdown",
   "metadata": {},
   "source": [
    "\n---\n\n**अस्वीकरण**:  \nयो दस्तावेज़ AI अनुवाद सेवा [Co-op Translator](https://github.com/Azure/co-op-translator) प्रयोग गरी अनुवाद गरिएको हो। हामी यथासम्भव सटीकता सुनिश्चित गर्न प्रयास गर्छौं, तर कृपया ध्यान दिनुहोस् कि स्वचालित अनुवादहरूमा त्रुटिहरू वा अशुद्धताहरू हुन सक्छन्। यसको मूल भाषामा रहेको मूल दस्तावेज़लाई आधिकारिक स्रोत मानिनुपर्छ। महत्त्वपूर्ण जानकारीका लागि, व्यावसायिक मानव अनुवाद सिफारिस गरिन्छ। यस अनुवादको प्रयोगबाट उत्पन्न हुने कुनै पनि गलतफहमी वा गलत व्याख्याका लागि हामी जिम्मेवार हुने छैनौं।  \n"
   ]
  }
 ],
 "metadata": {
  "kernelspec": {
   "display_name": ".venv (3.12.11)",
   "language": "python",
   "name": "python3"
  },
  "language_info": {
   "codemirror_mode": {
    "name": "ipython",
    "version": 3
   },
   "file_extension": ".py",
   "mimetype": "text/x-python",
   "name": "python",
   "nbconvert_exporter": "python",
   "pygments_lexer": "ipython3",
   "version": "3.12.11"
  },
  "coopTranslator": {
   "original_hash": "aef8b2779015ef9099d6ee3cdacbb35d",
   "translation_date": "2025-08-29T11:58:12+00:00",
   "source_file": "02-explore-agentic-frameworks/code_samples/02-autogen.ipynb",
   "language_code": "ne"
  }
 },
 "nbformat": 4,
 "nbformat_minor": 2
}