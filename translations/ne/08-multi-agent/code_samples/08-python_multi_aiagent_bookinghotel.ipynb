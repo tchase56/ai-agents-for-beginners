{
 "cells": [
  {
   "cell_type": "markdown",
   "metadata": {},
   "source": [
    "## **नमूना: होटल बुकिङका लागि बहु-एआई एजेन्टहरू**\n",
    "\n",
    "आजको तीव्र गतिमा चल्ने संसारमा, व्यापार यात्रा योजना बनाउनु भनेको केवल उडान र होटल कोठा बुकिङ गर्नु मात्र होइन। यसले समन्वय र दक्षताको स्तर माग गर्दछ, जुन हासिल गर्न चुनौतीपूर्ण हुन सक्छ। यहीँ बहु-एआई एजेन्टहरू उपयोगी हुन्छन्, जसले हाम्रो यात्रा आवश्यकताहरू व्यवस्थापन गर्ने तरिकामा क्रान्ति ल्याउँछन्।\n",
    "\n",
    "कल्पना गर्नुहोस् कि तपाईंको साथमा एक टोली छ, जसले तपाईंको यात्राको प्रत्येक पक्षलाई सहजता र सटीकताका साथ व्यवस्थापन गर्छ। हाम्रो उन्नत एआई प्रविधिको साथ, हामीले बुकिङ सेवाहरू र यात्रा तालिका व्यवस्थापनका लागि विशेष एजेन्टहरू निर्माण गरेका छौं, जसले तपाईंलाई तनावमुक्त र सहज यात्रा अनुभव सुनिश्चित गर्दछ।\n",
    "\n",
    "यो एउटा आधारभूत परिदृश्य हो। व्यापार यात्रा योजना बनाउँदा, हामीलाई व्यापार यात्रा एजेन्टसँग परामर्श गर्न आवश्यक हुन्छ ताकि हवाई टिकट जानकारी, होटल जानकारी आदि प्राप्त गर्न सकियोस्। एआई एजेन्टहरूको माध्यमबाट, हामी बुकिङ सेवाहरूका लागि एजेन्टहरू र यात्रा तालिका व्यवस्थापनका लागि एजेन्टहरू निर्माण गर्न सक्छौं, जसले समन्वय र बुद्धिमत्ताको स्तर सुधार गर्दछ।\n"
   ]
  },
  {
   "cell_type": "markdown",
   "metadata": {},
   "source": [
    "# Azure AI Agent सेवा आरम्भ गर्नुहोस् र **.env** बाट कन्फिगरेसन जानकारी प्राप्त गर्नुहोस्\n",
    "\n",
    "### **.env**\n",
    "\n",
    "एक .env फाइल बनाउनुहोस्\n",
    "\n",
    "**.env** मा Azure AI Agent सेवा को कनेक्शन स्ट्रिङ, AOAI द्वारा प्रयोग गरिएको मोडल, र सम्बन्धित Google API Search सेवा API, ENDPOINT आदि समावेश हुन्छ।\n",
    "\n",
    "- **AZURE_AI_AGENT_MODEL_DEPLOYMENT_NAME** = \"तपाईंको Azure AI Agent सेवा मोडल डिप्लोयमेन्ट नाम\"\n",
    "\n",
    "[**NOTE**] तपाईंलाई 100,000 Rate Limit (प्रति मिनेट टोकन्स) र 600 Rate Limit (प्रति मिनेट अनुरोध) भएको मोडल आवश्यक पर्छ।\n",
    "\n",
    "  तपाईं Azure AI Foundry - Model and Endpoint मा मोडल प्राप्त गर्न सक्नुहुन्छ।\n",
    "\n",
    "- **AZURE_AI_AGENT_PROJECT_CONNECTION_STRING** = \"तपाईंको Azure AI Agent सेवा प्रोजेक्ट कनेक्शन स्ट्रिङ\"\n",
    "\n",
    "  तपाईं AI Foundry Portal Screen मा आफ्नो प्रोजेक्टको ओभरभ्यूमा प्रोजेक्ट कनेक्शन स्ट्रिङ प्राप्त गर्न सक्नुहुन्छ।\n",
    "\n",
    "- **SERPAPI_SEARCH_API_KEY** = \"तपाईंको SERPAPI Search API KEY\"\n",
    "- **SERPAPI_SEARCH_ENDPOINT** = \"तपाईंको SERPAPI Search Endpoint\"\n",
    "\n",
    "Azure AI Agent सेवा को मोडल डिप्लोयमेन्ट नाम र प्रोजेक्ट कनेक्शन स्ट्रिङ प्राप्त गर्न, तपाईंले Azure AI Agent सेवा सिर्जना गर्नुपर्नेछ। यो सिधै सिर्जना गर्न [यो टेम्प्लेट](https://portal.azure.com/#create/Microsoft.Template/uri/https%3A%2F%2Fraw.githubusercontent.com%2Ffosteramanda%2Fazure-agent-quickstart-templates%2Frefs%2Fheads%2Fmaster%2Fquickstarts%2Fmicrosoft.azure-ai-agent-service%2Fstandard-agent%2Fazuredeploy.json) प्रयोग गर्न सिफारिस गरिन्छ। （***Note:*** Azure AI Agent सेवा हाल सीमित क्षेत्रहरूमा सेट गरिएको छ। क्षेत्र सेट गर्न [यो लिंक](https://learn.microsoft.com/en-us/azure/ai-services/agents/concepts/model-region-support) हेर्न सिफारिस गरिन्छ।)\n",
    "\n",
    "Agent ले SERPAPI पहुँच गर्न आवश्यक छ। [यो लिंक](https://serpapi.com/searches) प्रयोग गरेर दर्ता गर्न सिफारिस गरिन्छ। दर्ता गरेपछि, तपाईंले एक अद्वितीय API KEY र ENDPOINT प्राप्त गर्न सक्नुहुन्छ।\n"
   ]
  },
  {
   "cell_type": "markdown",
   "metadata": {},
   "source": [
    "# Azure मा लगइन गर्नुहोस्\n",
    "\n",
    "अब तपाईंलाई Azure मा लगइन गर्न आवश्यक छ। VScode मा टर्मिनल खोल्नुहोस् र `az login` कमाण्ड चलाउनुहोस्।\n"
   ]
  },
  {
   "cell_type": "markdown",
   "metadata": {},
   "source": [
    "# सेटअप\n",
    "\n",
    "यो नोटबुक चलाउनको लागि, तपाईंले निम्न पुस्तकालयहरू स्थापना गर्न आवश्यक छ। यहाँ आवश्यक पुस्तकालयहरूको सूची र तिनीहरू स्थापना गर्नका लागि सम्बन्धित पिप कमाण्डहरू छन्:\n",
    "\n",
    "azure-identity: Azure प्रमाणीकरणको लागि।  \n",
    "requests: HTTP अनुरोधहरू बनाउनको लागि।  \n",
    "semantic-kernel: सेम्यान्टिक कर्नेल फ्रेमवर्कको लागि (यो कस्टम वा विशेष पुस्तकालय हो भन्ने मान्दै, तपाईंले यसलाई विशेष स्रोत वा रिपोजिटरीबाट स्थापना गर्न आवश्यक हुन सक्छ)।  \n"
   ]
  },
  {
   "cell_type": "code",
   "execution_count": null,
   "metadata": {},
   "outputs": [],
   "source": [
    "!pip install azure-identity\n",
    "!pip install requests\n",
    "!pip install semantic-kernel\n",
    "!pip install --upgrade semantic_kernel\n",
    "!pip install azure-cli"
   ]
  },
  {
   "cell_type": "markdown",
   "metadata": {},
   "source": [
    "# व्याख्या:\n",
    "import asyncio: यसले asyncio मोड्युल आयात गर्दछ, जसले पायथनमा असिंक्रोनस प्रोग्रामिङको लागि समर्थन प्रदान गर्दछ। यसले तपाईंलाई async र await सिन्ट्याक्स प्रयोग गरेर समवर्ती कोड लेख्न अनुमति दिन्छ।\n",
    "from typing: Annotated: यसले typing मोड्युलबाट Annotated प्रकार आयात गर्दछ। Annotated प्रकार संकेतहरूमा मेटाडाटा थप्न प्रयोग गरिन्छ, जुन मान्यता, दस्तावेजीकरण, वा उपकरण जस्ता विभिन्न उद्देश्यहरूको लागि उपयोगी हुन सक्छ।\n"
   ]
  },
  {
   "cell_type": "code",
   "execution_count": null,
   "metadata": {
    "dotnet_interactive": {
     "language": "csharp"
    },
    "polyglot_notebook": {
     "kernelName": "csharp"
    }
   },
   "outputs": [],
   "source": [
    "import asyncio,os\n",
    "from typing import Annotated"
   ]
  },
  {
   "cell_type": "markdown",
   "metadata": {},
   "source": [
    "# व्याख्या:\n",
    "`from dotenv import load_dotenv` र `load_dotenv()` प्रयोग गरेर, तपाईंले .env फाइलमा कन्फिगरेसन सेटिङहरू र संवेदनशील जानकारी (जस्तै API कुञ्जीहरू र डाटाबेस URLहरू) सजिलै व्यवस्थापन गर्न सक्नुहुन्छ। यसले तिनीहरूलाई तपाईंको स्रोत कोडबाट अलग राख्छ, जसले तपाईंको एप्लिकेसनलाई अझ सुरक्षित र कन्फिगर गर्न सजिलो बनाउँछ।\n"
   ]
  },
  {
   "cell_type": "code",
   "execution_count": null,
   "metadata": {},
   "outputs": [],
   "source": [
    "import os\n",
    "from dotenv import load_dotenv\n",
    "\n",
    "# Load environment variables from .env file\n",
    "load_dotenv()"
   ]
  },
  {
   "cell_type": "markdown",
   "metadata": {},
   "source": [
    "# व्याख्या:\n",
    "\n",
    "Import Statement: from azure.identity.aio import DefaultAzureCredential: यो azure.identity.aio मोड्युलबाट DefaultAzureCredential क्लास आयात गर्दछ। मोड्युल नामको aio भागले यो असिंक्रोनस अपरेसनहरूको लागि डिजाइन गरिएको छ भन्ने संकेत गर्दछ।\n",
    "\n",
    "DefaultAzureCredential को उद्देश्य: DefaultAzureCredential क्लास Azure SDK for Python को हिस्सा हो। यसले Azure सेवाहरूसँग प्रमाणिकरण गर्नको लागि डिफल्ट तरिका प्रदान गर्दछ। यसले वातावरणीय भेरिएबलहरू, म्यानेज्ड आइडेन्टिटी, र Azure CLI क्रेडेन्सियलहरू जस्ता विभिन्न विधिहरू प्रयोग गरेर प्रमाणिकरण प्रयास गर्दछ।\n",
    "\n",
    "असिंक्रोनस अपरेसनहरू: aio मोड्युलले DefaultAzureCredential क्लासले असिंक्रोनस अपरेसनहरूलाई समर्थन गर्दछ भन्ने संकेत गर्दछ। यसको मतलब तपाईं यसलाई asyncio सँग प्रयोग गरेर गैर-अवरोधक प्रमाणिकरण अनुरोधहरू गर्न सक्नुहुन्छ।\n"
   ]
  },
  {
   "cell_type": "code",
   "execution_count": null,
   "metadata": {
    "dotnet_interactive": {
     "language": "csharp"
    },
    "polyglot_notebook": {
     "kernelName": "csharp"
    }
   },
   "outputs": [],
   "source": [
    "from azure.identity.aio import DefaultAzureCredential"
   ]
  },
  {
   "cell_type": "markdown",
   "metadata": {},
   "source": [
    "# व्याख्या:\n",
    "`semantic_kernel` प्याकेजबाट विभिन्न मोड्युल र क्लासहरू आयात गर्दछ। यहाँ प्रत्येक आयातको विवरण दिइएको छ:\n",
    "\n",
    "`AgentGroupChat` `semantic_kernel.agents` बाट: यो क्लासले AI एजेन्टहरूको समूह च्याटसँग सम्बन्धित कार्यक्षमताहरूलाई व्यवस्थापन गर्छ।  \n",
    "`AzureAIAgent` र `AzureAIAgentSettings` `semantic_kernel.agents.azure_ai` बाट:  \n",
    "\n",
    "- `AzureAIAgent`: यो क्लास Azure AI सेवाहरू प्रयोग गर्ने AI एजेन्टहरू सिर्जना र व्यवस्थापन गर्न प्रयोग गरिन्छ।  \n",
    "- `AzureAIAgentSettings`: यो क्लास `AzureAIAgent` का लागि सेटिङहरू कन्फिगर गर्न प्रयोग गरिन्छ।  \n",
    "\n",
    "`TerminationStrategy` `semantic_kernel.agents.strategies.termination.termination_strategy` बाट:  \n",
    "यो क्लासले AI एजेन्टहरूको कार्यान्वयनलाई निश्चित सर्तहरूमा रोक्ने रणनीतिहरू परिभाषित गर्छ।  \n",
    "\n",
    "`ChatMessageContent` `semantic_kernel.contents.chat_message_content` बाट:  \n",
    "यो क्लास च्याट सन्देशहरूको सामग्रीलाई व्यवस्थापन गर्न प्रयोग गरिन्छ।  \n",
    "\n",
    "`AuthorRole` `semantic_kernel.contents.utils.author_role` बाट:  \n",
    "यो क्लास च्याट सन्देशहरूको सन्दर्भमा लेखकहरूको विभिन्न भूमिकाहरू परिभाषित गर्छ।  \n",
    "\n",
    "`kernel_function` `semantic_kernel.functions.kernel_function_decorator` बाट:  \n",
    "यो डेकोरेटर `semantic kernel` फ्रेमवर्कभित्र कार्यान्वयन गर्न सकिने `kernel functions` परिभाषित गर्न प्रयोग गरिन्छ।  \n",
    "\n",
    "यी आयातहरूले AI एजेन्टहरू सिर्जना र व्यवस्थापन गर्न आवश्यक कम्पोनेन्टहरू तयार गर्छन्, जसले समूह च्याट वातावरणमा अन्तरक्रिया गर्न सक्छन्, सम्भवतः होटल बुकिङ वा यस्तै गतिविधिहरूका लागि।  \n"
   ]
  },
  {
   "cell_type": "code",
   "execution_count": null,
   "metadata": {
    "dotnet_interactive": {
     "language": "csharp"
    },
    "polyglot_notebook": {
     "kernelName": "csharp"
    }
   },
   "outputs": [],
   "source": [
    "from semantic_kernel.agents import AgentGroupChat\n",
    "from semantic_kernel.agents import AzureAIAgent, AzureAIAgentSettings\n",
    "from semantic_kernel.agents.strategies.termination.termination_strategy import TerminationStrategy\n",
    "from semantic_kernel.contents import ChatMessageContent\n",
    "from semantic_kernel.contents import AuthorRole\n",
    "from semantic_kernel.functions.kernel_function_decorator import kernel_function"
   ]
  },
  {
   "cell_type": "markdown",
   "metadata": {},
   "source": [
    "# व्याख्या:\n",
    "अब हामी azure.ai.projects.models मोड्युलबाट CodeInterpreterTool क्लास आयात गर्छौं।\n",
    "\n",
    "CodeInterpreterTool: यो क्लास Azure AI SDK को हिस्सा हो र AI प्रोजेक्टहरूको सन्दर्भमा कोड व्याख्या र कार्यान्वयन गर्न प्रयोग गरिन्छ। यसले कोड स्निपेटहरू चलाउने, कोड विश्लेषण गर्ने, वा AI वर्कफ्लोहरूमा कोड कार्यान्वयनलाई एकीकृत गर्ने कार्यक्षमताहरू प्रदान गर्दछ।  \n",
    "यो आयातले तपाईंको प्रोजेक्टमा CodeInterpreterTool प्रयोग गर्न आवश्यक कम्पोनेन्ट सेटअप गर्दछ, जुन गतिशील रूपमा कोड व्याख्या र कार्यान्वयन गर्ने कार्यहरूका लागि उपयोगी हुन सक्छ।\n"
   ]
  },
  {
   "cell_type": "code",
   "execution_count": null,
   "metadata": {
    "dotnet_interactive": {
     "language": "csharp"
    },
    "polyglot_notebook": {
     "kernelName": "csharp"
    }
   },
   "outputs": [],
   "source": [
    "from azure.ai.projects.models import CodeInterpreterTool"
   ]
  },
  {
   "cell_type": "markdown",
   "metadata": {},
   "source": [
    "# व्याख्या: \n",
    "ApprovalTerminationStrategy वर्गले AI एजेन्टको सञ्चालन समाप्त गर्नको लागि एक विशिष्ट रणनीति प्रदान गर्दछ। एजेन्टको अन्तर्क्रिया इतिहासको अन्तिम सन्देशमा \"saved\" शब्द समावेश भएमा एजेन्ट समाप्त हुनेछ। यो त्यस्ता परिस्थितिहरूमा उपयोगी हुन सक्छ जहाँ एजेन्टको कार्य \"saved\" भएको पुष्टि प्राप्त भएपछि पूरा भएको मानिन्छ। अन्तर्क्रिया विधि परिभाषित गर्नुहोस्। आरक्षण योजना \"saved\" भएपछि, \"saved\" संकेत प्राप्त गर्दा यसलाई रोक्न सकिन्छ।\n"
   ]
  },
  {
   "cell_type": "code",
   "execution_count": null,
   "metadata": {
    "dotnet_interactive": {
     "language": "csharp"
    },
    "polyglot_notebook": {
     "kernelName": "csharp"
    }
   },
   "outputs": [],
   "source": [
    "class ApprovalTerminationStrategy(TerminationStrategy):\n",
    "    \"\"\"A strategy for determining when an agent should terminate.\"\"\"\n",
    "\n",
    "    async def should_agent_terminate(self, agent, history):\n",
    "        \"\"\"Check if the agent should terminate.\"\"\"\n",
    "        return \"saved\" in history[-1].content.lower()"
   ]
  },
  {
   "cell_type": "markdown",
   "metadata": {},
   "source": [
    "# व्याख्या:\n",
    "\n",
    "यो कोडले AzureAIAgentSettings वस्तुलाई पूर्वनिर्धारित वा डिफल्ट सेटिङ्सको साथ initialize गर्न create() मेथडलाई कल गर्दछ। यो सेटिङ्स वस्तु (ai_agent_settings) त्यसपछि AzureAIAgent इन्स्ट्यान्सलाई कन्फिगर र व्यवस्थापन गर्न प्रयोग गर्न सकिन्छ।\n"
   ]
  },
  {
   "cell_type": "code",
   "execution_count": null,
   "metadata": {
    "dotnet_interactive": {
     "language": "csharp"
    },
    "polyglot_notebook": {
     "kernelName": "csharp"
    }
   },
   "outputs": [],
   "source": [
    "ai_agent_settings = AzureAIAgentSettings.create()"
   ]
  },
  {
   "cell_type": "markdown",
   "metadata": {},
   "source": [
    "# व्याख्या:\n",
    "requests लाइब्रेरी आयात गरेर, तपाईं आफ्नो Python कोडमा सजिलै HTTP अनुरोधहरू गर्न र वेब सेवाहरूसँग अन्तरक्रिया गर्न सक्नुहुन्छ।\n"
   ]
  },
  {
   "cell_type": "code",
   "execution_count": null,
   "metadata": {
    "dotnet_interactive": {
     "language": "csharp"
    },
    "polyglot_notebook": {
     "kernelName": "csharp"
    }
   },
   "outputs": [],
   "source": [
    "import requests"
   ]
  },
  {
   "cell_type": "markdown",
   "metadata": {},
   "source": [
    "# व्याख्या:\n",
    "यो एक भेरिएबल हो जसले SERP (सर्च इन्जिन रिजल्ट्स पेज) API सेवा पहुँच गर्नको लागि API कुञ्जी भण्डारण गर्दछ। API कुञ्जी एक अद्वितीय पहिचानकर्ता हो जुन तपाईंको खातासँग सम्बन्धित अनुरोधहरू प्रमाणित गर्न प्रयोग गरिन्छ।\n",
    "\n",
    "'GOOGLE_SEARCH_API_KEY': यो एक प्लेसहोल्डर स्ट्रिङ हो। तपाईंले ''GOOGLE_SEARCH_API_KEY' लाई आफ्नो वास्तविक SERP API कुञ्जीसँग प्रतिस्थापन गर्न आवश्यक छ।\n",
    "\n",
    "उद्देश्य: यो लाइनको उद्देश्य API कुञ्जीलाई भेरिएबलमा भण्डारण गर्नु हो ताकि यसलाई SERP API सेवामा अनुरोध प्रमाणित गर्न प्रयोग गर्न सकियोस्। सेवा पहुँच गर्न र खोजी गर्न API कुञ्जी आवश्यक छ।\n",
    "\n",
    "SERP API कुञ्जी कसरी प्राप्त गर्ने: SERP API कुञ्जी प्राप्त गर्न, https://serpapi.com मा निम्न सामान्य चरणहरू पालना गर्नुहोस् (विशिष्ट SERP API सेवाको आधारमा चरणहरू फरक हुन सक्छ):\n",
    "\n",
    "SERP API सेवा चयन गर्नुहोस्: धेरै SERP API सेवाहरू उपलब्ध छन्, जस्तै SerpAPI, Google Custom Search JSON API, र अन्य। तपाईंको आवश्यकताहरूलाई सबैभन्दा राम्रोसँग मिल्ने सेवा चयन गर्नुहोस्।\n",
    "\n",
    "खाता सिर्जना गर्नुहोस्:\n",
    "\n",
    "चयन गरिएको SERP API सेवाको वेबसाइटमा जानुहोस् https://www.serpapi.com र खाता सिर्जना गर्नुहोस्। तपाईंले केही आधारभूत जानकारी प्रदान गर्न र आफ्नो इमेल ठेगाना प्रमाणित गर्न आवश्यक हुन सक्छ।\n",
    "\n",
    "API कुञ्जी सिर्जना गर्नुहोस्:\n",
    "\n",
    "साइन अप गरेपछि, आफ्नो खातामा लगइन गर्नुहोस् र API सेक्सन वा ड्यासबोर्डमा जानुहोस्। नयाँ API कुञ्जी सिर्जना वा उत्पन्न गर्ने विकल्प खोज्नुहोस्।\n",
    "API कुञ्जी प्रतिलिपि गर्नुहोस्:\n",
    "\n",
    "API कुञ्जी उत्पन्न भएपछि, यसलाई प्रतिलिपि गर्नुहोस्। यो कुञ्जी SERP API सेवामा तपाईंको अनुरोध प्रमाणित गर्न प्रयोग गरिनेछ।\n",
    "प्लेसहोल्डर प्रतिस्थापन गर्नुहोस्:\n",
    "\n",
    "तपाईंको .env फाइलमा प्लेसहोल्डर प्रतिस्थापन गर्नुहोस्।\n"
   ]
  },
  {
   "cell_type": "code",
   "execution_count": null,
   "metadata": {
    "dotnet_interactive": {
     "language": "csharp"
    },
    "polyglot_notebook": {
     "kernelName": "csharp"
    }
   },
   "outputs": [],
   "source": [
    "SERPAPI_SEARCH_API_KEY=os.getenv('SERPAPI_SEARCH_API_KEY')"
   ]
  },
  {
   "cell_type": "code",
   "execution_count": null,
   "metadata": {
    "dotnet_interactive": {
     "language": "csharp"
    },
    "polyglot_notebook": {
     "kernelName": "csharp"
    }
   },
   "outputs": [],
   "source": [
    "SERPAPI_SEARCH_ENDPOINT = os.getenv('SERPAPI_SEARCH_ENDPOINT')"
   ]
  },
  {
   "cell_type": "markdown",
   "metadata": {},
   "source": [
    "# व्याख्या:\n",
    "BookingPlugin वर्गले Serpapi.com Google Search API प्रयोग गरेर होटल र फ्लाइट बुक गर्नका लागि विधिहरू प्रदान गर्दछ। यसले आवश्यक प्यारामिटरहरू तयार गर्छ, API अनुरोधहरू पठाउँछ, र प्रतिक्रियाहरू प्रशोधन गरेर सम्बन्धित बुकिङ जानकारी फिर्ता दिन्छ। API कुञ्जी (SERPAPI_SEARCH_API_KEY) र अन्तबिन्दु (SERPAPI_SEARCH_ENDPOINT) लाई Google Search API मा प्रमाणिकरण गर्न र अनुरोधहरू पठाउन प्रयोग गरिन्छ।\n"
   ]
  },
  {
   "cell_type": "code",
   "execution_count": null,
   "metadata": {
    "dotnet_interactive": {
     "language": "csharp"
    },
    "polyglot_notebook": {
     "kernelName": "csharp"
    }
   },
   "outputs": [],
   "source": [
    "# Define Booking Plugin\n",
    "class BookingPlugin:\n",
    "    \"\"\"Booking Plugin for customers\"\"\"\n",
    "    @kernel_function(description=\"booking hotel\")\n",
    "    def booking_hotel(self,query: Annotated[str, \"The name of the city\"], check_in_date: Annotated[str, \"Hotel Check-in Time\"], check_out_date: Annotated[str, \"Hotel Check-in Time\"])-> Annotated[str, \"Return the result of booking hotel infomation\"]:\n",
    "\n",
    "        params = {\n",
    "            \"engine\": \"google_hotels\",\n",
    "            \"q\": query,\n",
    "            \"check_in_date\": check_in_date,\n",
    "            \"check_out_date\": check_out_date,\n",
    "            \"adults\": \"2\",\n",
    "            \"currency\": \"USD\",\n",
    "            \"gl\": \"us\",\n",
    "            \"hl\": \"en\",\n",
    "            \"api_key\": SERPAPI_SEARCH_API_KEY\n",
    "        }\n",
    "\n",
    "        response = requests.get(SERPAPI_SEARCH_ENDPOINT, params=params)\n",
    "        if response.status_code == 200:\n",
    "            response = response.json()\n",
    "            return response[\"properties\"]\n",
    "        else:\n",
    "            return None\n",
    "\n",
    "    \n",
    "    @kernel_function(description=\"booking fight\")\n",
    "    def  booking_fight(self,origin: Annotated[str, \"The name of Departure\"], destination: Annotated[str, \"The name of Destination\"], outbound_date: Annotated[str, \"The date of outbound\"], return_date: Annotated[str, \"The date of Return_date\"])-> Annotated[str, \"Return the result of booking fight infomation\"]:\n",
    "        \n",
    "        go_params = {\n",
    "            \"engine\": \"google_flights\",   \n",
    "            \"departure_id\": origin,\n",
    "            \"arrival_id\": destination,\n",
    "            \"outbound_date\": outbound_date,\n",
    "            \"return_date\": return_date,  \n",
    "            \"currency\": \"USD\",\n",
    "            \"hl\": \"en\",\n",
    "            \"api_key\": SERPAPI_SEARCH_API_KEY  \n",
    "        }\n",
    "\n",
    "        print(go_params)\n",
    "\n",
    "        go_response = requests.get(SERPAPI_SEARCH_ENDPOINT, params=go_params)\n",
    "\n",
    "\n",
    "        result = ''\n",
    "\n",
    "        if go_response.status_code == 200:\n",
    "            response = go_response.json()\n",
    "\n",
    "            result += \"# outbound \\n \" + str(response)\n",
    "        else:\n",
    "            print('error!!!')\n",
    "            # return None\n",
    "\n",
    "        \n",
    "        back_params = {\n",
    "            \"engine\": \"google_flights\",   \n",
    "            \"departure_id\": destination,\n",
    "            \"arrival_id\": origin,\n",
    "            \"outbound_date\": return_date,\n",
    "            \"return_date\": return_date,  \n",
    "            \"currency\": \"USD\",\n",
    "            \"hl\": \"en\",\n",
    "            \"api_key\": SERPAPI_SEARCH_API_KEY  \n",
    "        }\n",
    "\n",
    "\n",
    "        print(back_params)\n",
    "\n",
    "\n",
    "        back_response = requests.get(SERPAPI_SEARCH_ENDPOINT, params=back_params)\n",
    "\n",
    "\n",
    "\n",
    "        if back_response.status_code == 200:\n",
    "            response = back_response.json()\n",
    "\n",
    "            result += \"\\n # return \\n\"  + str(response)\n",
    "\n",
    "        else:\n",
    "            print('error!!!')\n",
    "            # return None\n",
    "        \n",
    "        print(result)\n",
    "\n",
    "        return result\n",
    "\n",
    "        \n"
   ]
  },
  {
   "cell_type": "markdown",
   "metadata": {},
   "source": [
    "# व्याख्या:\n",
    "SavePlugin वर्गले Azure AI सेवाहरू प्रयोग गरेर यात्रा योजना सुरक्षित गर्नको लागि saving_plan नामक विधि प्रदान गर्दछ। यसले Azure प्रमाणपत्र सेटअप गर्दछ, AI एजेन्ट सिर्जना गर्दछ, प्रयोगकर्ताको इनपुटलाई प्रक्रिया गरेर यात्रा योजना सामग्री सिर्जना र सुरक्षित गर्दछ, र फाइल सुरक्षित गर्ने तथा सफाइ कार्यहरू व्यवस्थापन गर्दछ। विधि सफलतापूर्वक पूरा भएपछि \"Saved\" फर्काउँछ।\n"
   ]
  },
  {
   "cell_type": "code",
   "execution_count": null,
   "metadata": {
    "dotnet_interactive": {
     "language": "csharp"
    },
    "polyglot_notebook": {
     "kernelName": "csharp"
    }
   },
   "outputs": [],
   "source": [
    "class SavePlugin:\n",
    "    \"\"\"Save Plugin for customers\"\"\"\n",
    "    @kernel_function(description=\"saving plan\")\n",
    "    async def saving_plan(self,tripplan: Annotated[str, \"The content of trip plan\"])-> Annotated[str, \"Return status of save content\"]:\n",
    "\n",
    "        async with (\n",
    "            DefaultAzureCredential() as creds,\n",
    "            AzureAIAgent.create_client(\n",
    "                credential=creds,\n",
    "                conn_str=ai_agent_settings.project_connection_string.get_secret_value(),\n",
    "            ) as client,\n",
    "        ):\n",
    "\n",
    "            code_interpreter = CodeInterpreterTool()\n",
    "            \n",
    "            agent_definition = await client.agents.create_agent(\n",
    "                model=ai_agent_settings.model_deployment_name,\n",
    "                tools=code_interpreter.definitions,\n",
    "                tool_resources=code_interpreter.resources,\n",
    "            )\n",
    "\n",
    "\n",
    "            agent = AzureAIAgent(\n",
    "                client=client,\n",
    "                definition=agent_definition,\n",
    "            )\n",
    "\n",
    "            thread = await client.agents.create_thread()\n",
    "\n",
    "\n",
    "            user_inputs = [\n",
    "                \"\"\"\n",
    "            \n",
    "                        You are my Python programming assistant. Generate code,save \"\"\"+ tripplan +\n",
    "                        \n",
    "                    \"\"\"    \n",
    "                        and execute it according to the following requirements\n",
    "\n",
    "                        1. Save blog content to trip-{YYMMDDHHMMSS}.md\n",
    "\n",
    "                        2. give me the download this file link\n",
    "                    \"\"\"\n",
    "            ]\n",
    "\n",
    "\n",
    "\n",
    "            try:\n",
    "                for user_input in user_inputs:\n",
    "                    # Add the user input as a chat message\n",
    "                    await agent.add_chat_message(\n",
    "                        thread_id=thread.id, message=ChatMessageContent(role=AuthorRole.USER, content=user_input)\n",
    "                    )\n",
    "                    print(f\"# User: '{user_input}'\")\n",
    "                    # Invoke the agent for the specified thread\n",
    "                    async for content in agent.invoke(thread_id=thread.id):\n",
    "                        if content.role != AuthorRole.TOOL:\n",
    "                            print(f\"# Agent: {content.content}\")\n",
    "\n",
    "                    \n",
    "                    messages = await client.agents.list_messages(thread_id=thread.id)\n",
    "\n",
    "                    # OpenAIPageableListOfThreadMessage\n",
    "                    # OpenAIPageableListOfThreadMessage\n",
    "\n",
    "\n",
    "                    for file_path_annotation in messages.file_path_annotations:\n",
    "\n",
    "                            file_name = os.path.basename(file_path_annotation.text)\n",
    "\n",
    "                            await client.agents.save_file(file_id=file_path_annotation.file_path.file_id, file_name=file_name,target_dir=\"./trip\")\n",
    "\n",
    "                    \n",
    "            finally:\n",
    "                await client.agents.delete_thread(thread.id)\n",
    "                await client.agents.delete_agent(agent.id)\n",
    "\n",
    "\n",
    "        return \"Saved\""
   ]
  },
  {
   "cell_type": "markdown",
   "metadata": {},
   "source": [
    "# व्याख्या:\n",
    "यो कोडले Azure AI एजेन्टहरूलाई उडान र होटल बुक गर्न, र प्रयोगकर्ताको इनपुटको आधारमा यात्रा योजनाहरू सुरक्षित गर्न सेटअप गर्दछ। यसले Azure प्रमाणपत्रहरू प्रयोग गरेर एजेन्टहरू सिर्जना र कन्फिगर गर्दछ, प्रयोगकर्ताको इनपुटलाई समूह च्याट मार्फत प्रक्रिया गर्दछ, र कार्यहरू पूरा भएपछि उचित सफाइ सुनिश्चित गर्दछ। एजेन्टहरूले आफ्नो-आफ्नो कार्यहरू गर्न विशेष प्लगइनहरू (BookingPlugin र SavePlugin) प्रयोग गर्छन्।\n"
   ]
  },
  {
   "cell_type": "code",
   "execution_count": null,
   "metadata": {
    "dotnet_interactive": {
     "language": "csharp"
    },
    "polyglot_notebook": {
     "kernelName": "csharp"
    }
   },
   "outputs": [],
   "source": [
    "async with (\n",
    "    DefaultAzureCredential() as creds,\n",
    "    AzureAIAgent.create_client(\n",
    "        credential=creds,\n",
    "        conn_str=ai_agent_settings.project_connection_string.get_secret_value(),\n",
    "    ) as client,\n",
    "):\n",
    "    BOOKING_AGENT_NAME = \"BookingAgent\"\n",
    "    BOOKING_AGENT_INSTRUCTIONS = \"\"\"\n",
    "    You are a booking agent. Help me book flights or hotels.\n",
    "\n",
    "    Thought: Please understand the user's intention and confirm whether to use the reservation system to complete the task.\n",
    "\n",
    "    Actions:\n",
    "    - For flight bookings, convert the departure and destination names into airport codes.\n",
    "    - Use the appropriate API for hotel or flight bookings. Verify that all necessary parameters are available. If any parameters are missing, ask the user to provide them. If all parameters are complete, call the corresponding function.\n",
    "    - If the task is not related to hotel or flight booking, respond with the final answer only.\n",
    "    - Output the results using a markdown table:\n",
    "      - For flight bookings, output separate outbound and return contents in the order of:\n",
    "        Departure Airport | Airline | Flight Number | Departure Time | Arrival Airport | Arrival Time | Duration | Airplane | Travel Class | Price (USD) | Legroom | Extensions | Carbon Emissions (kg).\n",
    "      - For hotel bookings, output in the order of:\n",
    "        Property Name | Property Description | Check-in Time | Check-out Time | Prices | Nearby Places | Hotel Class | GPS Coordinates.\n",
    "    \"\"\"\n",
    "\n",
    "    SAVE_AGENT_NAME = \"SaveAgent\"\n",
    "    SAVE_AGENT_INSTRUCTIONS = \"\"\"\n",
    "    You are a save tool agent. Help me to save the trip plan.\n",
    "    \"\"\"\n",
    "\n",
    "    # Create agent definition\n",
    "    booking_agent_definition = await client.agents.create_agent(\n",
    "        model=ai_agent_settings.model_deployment_name,\n",
    "        name=BOOKING_AGENT_NAME,\n",
    "        instructions=BOOKING_AGENT_INSTRUCTIONS,\n",
    "    )\n",
    "\n",
    "    # Create the AzureAI Agent\n",
    "    booking_agent = AzureAIAgent(\n",
    "        client=client,\n",
    "        definition=booking_agent_definition,\n",
    "        # Optionally configure polling options\n",
    "        # polling_options=RunPollingOptions(run_polling_interval=timedelta(seconds=1)),\n",
    "    )\n",
    "\n",
    "    # Add the sample plugin to the kernel\n",
    "    booking_agent.kernel.add_plugin(BookingPlugin(), plugin_name=\"booking\")\n",
    "\n",
    "    # Create agent definition\n",
    "    save_agent_definition = await client.agents.create_agent(\n",
    "        model=ai_agent_settings.model_deployment_name,\n",
    "        name=SAVE_AGENT_NAME,\n",
    "        instructions=SAVE_AGENT_INSTRUCTIONS\n",
    "    )\n",
    "\n",
    "    # Create the AzureAI Agent\n",
    "    save_agent = AzureAIAgent(\n",
    "        client=client,\n",
    "        definition=save_agent_definition,\n",
    "    )\n",
    "\n",
    "    save_agent.kernel.add_plugin(SavePlugin(), plugin_name=\"saving\")\n",
    "\n",
    "    user_inputs = [\n",
    "        \"I have a business trip from London to New York in Feb 20 2025 to Feb 27 2025 ,help me to book a hotel and fight tickets and save it\"\n",
    "    ]\n",
    "\n",
    "    chat = AgentGroupChat(\n",
    "        agents=[booking_agent, save_agent],\n",
    "        termination_strategy=ApprovalTerminationStrategy(agents=[save_agent], maximum_iterations=10),\n",
    "    )\n",
    "\n",
    "    try:\n",
    "        for user_input in user_inputs:\n",
    "            # Add the user input as a chat message\n",
    "            await chat.add_chat_message(\n",
    "                ChatMessageContent(role=AuthorRole.USER, content=user_input)\n",
    "            )\n",
    "            print(f\"# User: '{user_input}'\")\n",
    "\n",
    "            async for content in chat.invoke():\n",
    "                print(f\"# {content.role} - {content.name or '*'}: '{content.content}'\")\n",
    "\n",
    "            print(f\"# IS COMPLETE: {chat.is_complete}\")\n",
    "\n",
    "            print(\"*\" * 60)\n",
    "            print(\"Chat History (In Descending Order):\\n\")\n",
    "            async for message in chat.get_chat_messages(agent=save_agent):\n",
    "                print(f\"# {message.role} - {message.name or '*'}: '{message.content}'\")\n",
    "    finally:\n",
    "        await chat.reset()\n",
    "        await client.agents.delete_agent(save_agent.id)\n",
    "        await client.agents.delete_agent(booking_agent.id)\n"
   ]
  },
  {
   "cell_type": "markdown",
   "metadata": {},
   "source": [
    "\n---\n\n**अस्वीकरण**:  \nयो दस्तावेज़ AI अनुवाद सेवा [Co-op Translator](https://github.com/Azure/co-op-translator) प्रयोग गरी अनुवाद गरिएको हो। हामी यथासम्भव सटीकता सुनिश्चित गर्न प्रयास गर्छौं, तर कृपया ध्यान दिनुहोस् कि स्वचालित अनुवादहरूमा त्रुटि वा अशुद्धता हुन सक्छ। यसको मूल भाषामा रहेको मूल दस्तावेज़लाई आधिकारिक स्रोत मानिनुपर्छ। महत्त्वपूर्ण जानकारीका लागि, व्यावसायिक मानव अनुवाद सिफारिस गरिन्छ। यस अनुवादको प्रयोगबाट उत्पन्न हुने कुनै पनि गलतफहमी वा गलत व्याख्याका लागि हामी जिम्मेवार हुने छैनौं।  \n"
   ]
  }
 ],
 "metadata": {
  "kernelspec": {
   "display_name": "3.12.1",
   "language": "python",
   "name": "python3"
  },
  "language_info": {
   "codemirror_mode": {
    "name": "ipython",
    "version": 3
   },
   "file_extension": ".py",
   "mimetype": "text/x-python",
   "name": "python",
   "nbconvert_exporter": "python",
   "pygments_lexer": "ipython3",
   "version": "3.12.1"
  },
  "polyglot_notebook": {
   "kernelInfo": {
    "defaultKernelName": "csharp",
    "items": [
     {
      "aliases": [],
      "name": "csharp"
     }
    ]
   }
  },
  "coopTranslator": {
   "original_hash": "1baa60020a95eda27b7e9ecfda99965b",
   "translation_date": "2025-08-29T11:32:52+00:00",
   "source_file": "08-multi-agent/code_samples/08-python_multi_aiagent_bookinghotel.ipynb",
   "language_code": "ne"
  }
 },
 "nbformat": 4,
 "nbformat_minor": 2
}