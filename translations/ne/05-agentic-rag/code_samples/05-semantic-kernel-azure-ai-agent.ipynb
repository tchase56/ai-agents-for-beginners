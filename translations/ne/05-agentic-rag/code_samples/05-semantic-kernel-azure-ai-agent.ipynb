{
 "cells": [
  {
   "cell_type": "markdown",
   "metadata": {},
   "source": [
    "# Azure AI Agent सेवा र सेम्यान्टिक कर्नेल प्रयोग गरेर RAG\n",
    "\n",
    "यो कोड स्निपेटले `Azure AI Agent Service` र `Semantic Kernel` प्रयोग गरेर पुनःप्राप्ति-संवर्धित उत्पादन (RAG) को लागि Azure AI एजेन्ट सिर्जना र व्यवस्थापन गर्ने तरिका देखाउँछ। एजेन्टले पुनःप्राप्त गरिएको सन्दर्भको आधारमा प्रयोगकर्ताको प्रश्नहरू प्रक्रिया गर्छ र त्यस अनुसार सही उत्तर प्रदान गर्छ।\n"
   ]
  },
  {
   "cell_type": "markdown",
   "metadata": {},
   "source": []
  },
  {
   "cell_type": "markdown",
   "metadata": {},
   "source": [
    "SQLite संस्करण समस्या समाधान  \n",
    "यदि तपाईंले यो त्रुटि सामना गर्नुभयो:  \n",
    "```\n",
    "RuntimeError: Your system has an unsupported version of sqlite3. Chroma requires sqlite3 >= 3.35.0\n",
    "```  \n",
    "\n",
    "आफ्नो नोटबुकको सुरुमा यो कोड ब्लक अनकमेण्ट गर्नुहोस्:  \n"
   ]
  },
  {
   "cell_type": "code",
   "execution_count": null,
   "metadata": {},
   "outputs": [],
   "source": [
    "# %pip install pysqlite3-binary\n",
    "# __import__('pysqlite3')\n",
    "# import sys\n",
    "# sys.modules['sqlite3'] = sys.modules.pop('pysqlite3')"
   ]
  },
  {
   "cell_type": "markdown",
   "metadata": {},
   "source": [
    "### प्याकेजहरू आयात गर्दै  \n",
    "तलको कोडले आवश्यक प्याकेजहरू आयात गर्दछ:\n"
   ]
  },
  {
   "cell_type": "code",
   "execution_count": null,
   "metadata": {},
   "outputs": [],
   "source": [
    "# Azure imports for project client and credentials\n",
    "from azure.ai.projects.models import FileSearchTool, OpenAIFile, VectorStore\n",
    "from azure.identity.aio import DefaultAzureCredential\n",
    "\n",
    "# Semantic Kernel imports\n",
    "from semantic_kernel.agents import AzureAIAgent, AzureAIAgentThread"
   ]
  },
  {
   "cell_type": "markdown",
   "metadata": {},
   "source": [
    "# सेम्यान्टिक कर्नेल र Azure AI एजेन्ट सेवा प्रयोग गरेर रिट्रिभल-अग्मेन्टेड जेनेरेसन\n",
    "\n",
    "यो नमुनाले **Azure AI एजेन्ट सेवा** प्रयोग गरेर **रिट्रिभल-अग्मेन्टेड जेनेरेसन (RAG)** कसरी गर्ने भनेर देखाउँछ, जसमा भाषा मोडेललाई अपलोड गरिएको कागजातबाट प्राप्त डोमेन-विशिष्ट सन्दर्भसँग संयोजन गरिन्छ।\n",
    "\n",
    "### यो कसरी काम गर्छ\n",
    "\n",
    "1. **कागजात अपलोड**: एक markdown फाइल (document.md) जसमा जानकारी (Contoso को यात्रा बीमा नीति) समावेश छ, एजेन्ट सेवामा अपलोड गरिन्छ।\n",
    "\n",
    "2. **भेक्टर स्टोर सिर्जना**: कागजातलाई भेक्टर स्टोरमा अनुक्रमणिका गरिन्छ ताकि यसको सामग्रीमा सेम्यान्टिक खोज सम्भव होस्।\n",
    "\n",
    "3. **एजेन्ट कन्फिगरेसन**: `gpt-4o` मोडेल प्रयोग गरेर एजेन्टलाई निम्न कडा निर्देशनसहित सुरु गरिन्छ:\n",
    "   - केवल कागजातबाट प्राप्त सामग्रीमा आधारित प्रश्नहरूको उत्तर दिनुहोस्।\n",
    "   - यदि प्रश्न दायराबाहिर छ भने उत्तर दिन अस्वीकार गर्नुहोस्।\n",
    "\n",
    "4. **फाइल सर्च टूल एकीकरण**: `FileSearchTool` लाई एजेन्टसँग दर्ता गरिन्छ, जसले मोडेललाई अनुक्रमणिका गरिएको कागजातबाट प्रासंगिक अंशहरू खोज्न र पुनःप्राप्त गर्न सक्षम बनाउँछ।\n",
    "\n",
    "5. **प्रयोगकर्ता अन्तरक्रिया**: प्रयोगकर्ताहरूले प्रश्न सोध्न सक्छन्। यदि कागजातमा प्रासंगिक जानकारी भेटिन्छ भने, एजेन्टले आधारभूत उत्तर उत्पन्न गर्छ।  \n",
    "   यदि जानकारी पर्याप्त छैन भने, एजेन्टले स्पष्ट रूपमा कागजातमा पर्याप्त जानकारी नभएको जवाफ दिन्छ।\n"
   ]
  },
  {
   "cell_type": "markdown",
   "metadata": {},
   "source": [
    "### मुख्य कार्य\n",
    "\n",
    "```python\n",
    "def main():\n",
    "    # यो मुख्य कार्य हो जसले कार्यक्रम सुरु गर्छ\n",
    "    print(\"कार्यक्रम सुरु हुँदैछ...\")\n",
    "    result = perform_calculation(5, 10)\n",
    "    print(f\"परिणाम: {result}\")\n",
    "```\n",
    "\n",
    "### Helper Function\n",
    "\n",
    "```python\n",
    "def perform_calculation(a, b):\n",
    "    # दुई संख्याको योगफल गणना गर्ने सहायक कार्य\n",
    "    return a + b\n",
    "```\n",
    "\n",
    "### Instructions\n",
    "\n",
    "1. माथिको कोडलाई आफ्नो परियोजनामा समावेश गर्नुहोस्।\n",
    "2. `main()` कार्यलाई चलाउनुहोस्।\n",
    "3. सुनिश्चित गर्नुहोस् कि `perform_calculation` ले सही परिणाम फर्काउँछ। \n",
    "\n",
    "[!NOTE] यो कोड केवल उदाहरणको लागि हो। उत्पादन वातावरणमा प्रयोग गर्नु अघि परीक्षण गर्नुहोस्।\n"
   ]
  },
  {
   "cell_type": "markdown",
   "metadata": {},
   "source": [
    "Azure CLI प्रयोग गरेर `az login` पहिले चलाउनुहोस् ताकि `DefaultAzureCredential` प्रयोग गर्दा उचित प्रमाणीकरण सन्दर्भ प्रदान गरियोस्। Azure AI Agent Service ले API कुञ्जीहरू प्रयोग गर्दैन।\n"
   ]
  },
  {
   "cell_type": "code",
   "execution_count": null,
   "metadata": {},
   "outputs": [],
   "source": [
    "async def main():\n",
    "    async with (\n",
    "        DefaultAzureCredential() as creds,\n",
    "        AzureAIAgent.create_client(credential=creds) as client,\n",
    "    ):\n",
    "        file: OpenAIFile = await client.agents.upload_file_and_poll(file_path=\"document.md\", purpose=\"assistants\")\n",
    "        vector_store: VectorStore = await client.agents.create_vector_store_and_poll(\n",
    "            file_ids=[file.id], name=\"my_vectorstore\"\n",
    "        )\n",
    "\n",
    "        # Define agent name and instructions tailored for RAG.\n",
    "        AGENT_NAME = \"RAGAgent\"\n",
    "        AGENT_INSTRUCTIONS = \"\"\"\n",
    "        You are an AI assistant designed to answer user questions using only the information retrieved from the provided document(s).\n",
    "\n",
    "        - If a user's question cannot be answered using the retrieved context, **you must clearly respond**: \n",
    "        \"I'm sorry, but the uploaded document does not contain the necessary information to answer that question.\"\n",
    "        - Do not answer from general knowledge or reasoning. Do not make assumptions or generate hypothetical explanations.\n",
    "        - Do not provide definitions, tutorials, or commentary that is not explicitly grounded in the content of the uploaded file(s).\n",
    "        - If a user asks a question like \"What is a Neural Network?\", and this is not discussed in the uploaded document, respond as instructed above.\n",
    "        - For questions that do have relevant content in the document (e.g., Contoso's travel insurance coverage), respond accurately, and cite the document explicitly.\n",
    "\n",
    "        You must behave as if you have no external knowledge beyond what is retrieved from the uploaded document.\n",
    "        \"\"\"\n",
    "\n",
    "        \n",
    "        # Create file search tool with uploaded resources\n",
    "        file_search = FileSearchTool(vector_store_ids=[vector_store.id])\n",
    "\n",
    "        # 3. Create an agent on the Azure AI agent service with the file search tool\n",
    "        agent_definition = await client.agents.create_agent(\n",
    "            model=\"gpt-4o\",  # This model should match your Azure OpenAI deployment.\n",
    "            name=AGENT_NAME,\n",
    "            instructions=AGENT_INSTRUCTIONS,\n",
    "            tools=file_search.definitions,\n",
    "            tool_resources=file_search.resources,\n",
    "        )\n",
    "        \n",
    "        # Create the Azure AI Agent using the client and definition.\n",
    "        agent = AzureAIAgent(\n",
    "            client=client,\n",
    "            definition=agent_definition,\n",
    "        )\n",
    "        \n",
    "        # Create a thread to hold the conversation\n",
    "        # If no thread is provided, a new thread will be\n",
    "        # created and returned with the initial response\n",
    "        thread: AzureAIAgentThread | None = None\n",
    "        \n",
    "        # Example user queries.\n",
    "        user_inputs = [\n",
    "            \"Can you explain Contoso's travel insurance coverage?\",  # Relevant context.\n",
    "            \"What is a Neural Network?\"  # No relevant context from the document. Will not contain a source annotation.\n",
    "        ]\n",
    "        \n",
    "        try:\n",
    "            for user_input in user_inputs:\n",
    "                print(f\"# User: '{user_input}'\")\n",
    "                # Invoke the agent for the specified thread for response\n",
    "                async for response in agent.invoke(messages=user_input, thread=thread):\n",
    "                    print(f\"# {response.name}: {response}\")\n",
    "                    thread = response.thread\n",
    "        finally:\n",
    "            # Clean up resources.\n",
    "            await thread.delete() if thread else None\n",
    "            await client.agents.delete_vector_store(vector_store.id)\n",
    "            await client.agents.delete_file(file.id)\n",
    "            await client.agents.delete_agent(agent.id)\n",
    "            print(\"\\nCleaned up agent, thread, file, and vector store.\")\n",
    "\n",
    "await main()"
   ]
  },
  {
   "cell_type": "markdown",
   "metadata": {},
   "source": [
    "ठीक छ, कृपया मलाई अनुवाद गर्नका लागि Markdown फाइल प्रदान गर्नुहोस्।\n"
   ]
  },
  {
   "cell_type": "markdown",
   "metadata": {},
   "source": [
    "\n---\n\n**अस्वीकरण**:  \nयो दस्तावेज़ AI अनुवाद सेवा [Co-op Translator](https://github.com/Azure/co-op-translator) प्रयोग गरी अनुवाद गरिएको हो। हामी यथासम्भव सटीकता सुनिश्चित गर्न प्रयास गर्छौं, तर कृपया ध्यान दिनुहोस् कि स्वचालित अनुवादहरूमा त्रुटि वा अशुद्धता हुन सक्छ। यसको मूल भाषामा रहेको मूल दस्तावेज़लाई आधिकारिक स्रोत मानिनुपर्छ। महत्त्वपूर्ण जानकारीका लागि, व्यावसायिक मानव अनुवाद सिफारिस गरिन्छ। यस अनुवादको प्रयोगबाट उत्पन्न हुने कुनै पनि गलतफहमी वा गलत व्याख्याको लागि हामी जिम्मेवार हुने छैनौं।\n"
   ]
  }
 ],
 "metadata": {
  "kernelspec": {
   "display_name": ".venv",
   "language": "python",
   "name": "python3"
  },
  "language_info": {
   "codemirror_mode": {
    "name": "ipython",
    "version": 3
   },
   "file_extension": ".py",
   "mimetype": "text/x-python",
   "name": "python",
   "nbconvert_exporter": "python",
   "pygments_lexer": "ipython3",
   "version": "3.11.11"
  },
  "coopTranslator": {
   "original_hash": "a86c3ddfbe35024993bbf563588aad48",
   "translation_date": "2025-08-29T11:50:56+00:00",
   "source_file": "05-agentic-rag/code_samples/05-semantic-kernel-azure-ai-agent.ipynb",
   "language_code": "ne"
  }
 },
 "nbformat": 4,
 "nbformat_minor": 2
}