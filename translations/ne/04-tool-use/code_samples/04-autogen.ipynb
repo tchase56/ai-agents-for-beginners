{
 "cells": [
  {
   "cell_type": "markdown",
   "metadata": {},
   "source": []
  },
  {
   "cell_type": "markdown",
   "metadata": {},
   "source": []
  },
  {
   "cell_type": "code",
   "execution_count": null,
   "metadata": {},
   "outputs": [],
   "source": [
    "import os\n",
    "import json\n",
    "\n",
    "import requests\n",
    "from autogen_agentchat.agents import AssistantAgent\n",
    "from autogen_core.models import UserMessage\n",
    "from autogen_ext.models.azure import AzureAIChatCompletionClient\n",
    "from azure.core.credentials import AzureKeyCredential\n",
    "from autogen_core import CancellationToken\n",
    "from autogen_core.tools import FunctionTool\n",
    "from autogen_agentchat.messages import TextMessage\n",
    "from autogen_agentchat.ui import Console\n",
    "from typing import Any, Callable, Set, Dict, List, Optional"
   ]
  },
  {
   "cell_type": "markdown",
   "metadata": {},
   "source": [
    "## क्लाइन्ट बनाउँदै \n",
    "\n",
    "यस नमुनामा, हामी [GitHub Models](https://aka.ms/ai-agents-beginners/github-models) प्रयोग गर्नेछौं LLM पहुँचका लागि। \n",
    "\n",
    "`model` लाई `gpt-4o-mini` भनेर परिभाषित गरिएको छ। GitHub Models बजारमा उपलब्ध अर्को मोडेलमा परिवर्तन गरेर फरक नतिजाहरू हेर्न प्रयास गर्नुहोस्। \n",
    "\n",
    "छिटो परीक्षणको लागि, हामी केवल एउटा साधारण प्रम्प्ट चलाउनेछौं - `What is the capital of France`।\n"
   ]
  },
  {
   "cell_type": "code",
   "execution_count": null,
   "metadata": {},
   "outputs": [],
   "source": [
    "client = AzureAIChatCompletionClient(\n",
    "    model=\"gpt-4o-mini\",\n",
    "    endpoint=\"https://models.inference.ai.azure.com\",\n",
    "    # To authenticate with the model you will need to generate a personal access token (PAT) in your GitHub settings.\n",
    "    # Create your PAT token by following instructions here: https://docs.github.com/en/authentication/keeping-your-account-and-data-secure/managing-your-personal-access-tokens\n",
    "    credential=AzureKeyCredential(os.environ[\"GITHUB_TOKEN\"]),\n",
    "    model_info={\n",
    "        \"json_output\": True,\n",
    "        \"function_calling\": True,\n",
    "        \"vision\": True,\n",
    "        \"family\": \"unknown\",\n",
    "    },\n",
    ")\n",
    "\n",
    "result = await client.create([UserMessage(content=\"What is the capital of France?\", source=\"user\")])\n",
    "print(result)"
   ]
  },
  {
   "cell_type": "markdown",
   "metadata": {},
   "source": [
    "## कार्यहरू परिभाषित गर्दै \n",
    "\n",
    "यस उदाहरणमा, हामी एजेन्टलाई एउटा उपकरणको पहुँच दिनेछौं, जुन उपलब्ध छुट्टी गन्तव्यहरूको सूची र तिनीहरूको उपलब्धता भएको कार्य हो। \n",
    "\n",
    "तपाईं यसलाई यस्तो परिदृश्यको रूपमा सोच्न सक्नुहुन्छ जहाँ यात्रा एजेन्टसँग, उदाहरणका लागि, यात्रा डेटाबेसको पहुँच हुन सक्छ। \n",
    "\n",
    "यस नमूना अध्ययन गर्दा, एजेन्टले कल गर्न सक्ने नयाँ कार्यहरू र उपकरणहरू परिभाषित गर्न प्रयास गर्न स्वतन्त्र महसुस गर्नुहोस्।\n"
   ]
  },
  {
   "cell_type": "code",
   "execution_count": null,
   "metadata": {},
   "outputs": [],
   "source": [
    "from typing import Dict, List, Optional\n",
    "\n",
    "\n",
    "def vacation_destinations(city: str) -> tuple[str, str]:\n",
    "    \"\"\"\n",
    "    Checks if a specific vacation destination is available\n",
    "    \n",
    "    Args:\n",
    "        city (str): Name of the city to check\n",
    "        \n",
    "    Returns:\n",
    "        tuple: Contains city name and availability status ('Available' or 'Unavailable')\n",
    "    \"\"\"\n",
    "    destinations = {\n",
    "        \"Barcelona\": \"Available\",\n",
    "        \"Tokyo\": \"Unavailable\",\n",
    "        \"Cape Town\": \"Available\",\n",
    "        \"Vancouver\": \"Available\",\n",
    "        \"Dubai\": \"Unavailable\",\n",
    "    }\n",
    "\n",
    "    if city in destinations:\n",
    "        return city, destinations[city]\n",
    "    else:\n",
    "        return city, \"City not found\"\n",
    "\n",
    "# Example usage:\n",
    "# city, status = vacation_destinations(\"Barcelona\")\n",
    "# print(f\"How about visiting {city}? It's currently {status} there!\")"
   ]
  },
  {
   "cell_type": "markdown",
   "metadata": {},
   "source": [
    "## फङ्सन टुल परिभाषित गर्दै  \n",
    "एजेन्टले `vacation_destinations` लाई `FunctionTool` को रूपमा प्रयोग गर्नको लागि, हामीले यसलाई त्यसरी नै परिभाषित गर्नुपर्छ।  \n",
    "\n",
    "हामी टुलको विवरण पनि प्रदान गर्नेछौं, जसले एजेन्टलाई प्रयोगकर्ताले अनुरोध गरेको कार्यसँग सम्बन्धित रूपमा उक्त टुल केका लागि प्रयोग गरिन्छ भनेर पहिचान गर्न मद्दत गर्दछ।  \n"
   ]
  },
  {
   "cell_type": "code",
   "execution_count": null,
   "metadata": {},
   "outputs": [],
   "source": [
    "get_vacations = FunctionTool(\n",
    "    vacation_destinations, description=\"Search for vacation destinations and if they are available or not.\"\n",
    ")"
   ]
  },
  {
   "cell_type": "markdown",
   "metadata": {},
   "source": [
    "## एजेन्ट परिभाषित गर्दै \n",
    "\n",
    "अब हामी तलको कोडमा एजेन्ट बनाउन सक्छौं। हामी `system_message` परिभाषित गर्छौं ताकि एजेन्टले प्रयोगकर्ताहरूलाई छुट्टी गन्तव्यहरू खोज्न सहयोग गर्ने निर्देशन दिन सकोस्। \n",
    "\n",
    "हामीले `reflect_on_tool_use` पैरामीटरलाई true मा सेट गर्छौं। यसले LLM लाई टूल कलको प्रतिक्रिया लिन र प्राकृतिक भाषामा प्रतिक्रिया पठाउन अनुमति दिन्छ। \n",
    "\n",
    "तपाईंले यो पैरामीटरलाई false मा सेट गरेर फरक देख्न सक्नुहुन्छ।\n"
   ]
  },
  {
   "cell_type": "code",
   "execution_count": null,
   "metadata": {},
   "outputs": [],
   "source": [
    "agent = AssistantAgent(\n",
    "    name=\"assistant\",\n",
    "    model_client=client,\n",
    "    tools=[get_vacations],\n",
    "    system_message=\"You are a travel agent that helps users find vacation destinations.\",\n",
    "    reflect_on_tool_use=True,\n",
    ")"
   ]
  },
  {
   "cell_type": "markdown",
   "metadata": {},
   "source": [
    "## एजेन्ट चलाउने \n",
    "\n",
    "अब हामी एजेन्टलाई सुरुमा प्रयोगकर्ताको सन्देशसँग चलाउन सक्छौं, जसले टोकियोको यात्राको लागि सोधिरहेको छ। \n",
    "\n",
    "तपाईं यो सहरको गन्तव्य परिवर्तन गरेर हेर्न सक्नुहुन्छ कि एजेन्टले सहरको उपलब्धतामा कसरी प्रतिक्रिया दिन्छ।\n"
   ]
  },
  {
   "cell_type": "code",
   "execution_count": null,
   "metadata": {},
   "outputs": [],
   "source": [
    "async def assistant_run() -> None:\n",
    "    response = await agent.on_messages(\n",
    "        [TextMessage(content=\"I would like to take a trip to Tokyo\", source=\"user\")],\n",
    "        cancellation_token=CancellationToken(),\n",
    "    )\n",
    "    print(response.inner_messages)\n",
    "    print(response.chat_message)\n",
    "\n",
    "\n",
    "# Use asyncio.run(assistant_run()) when running in a script.\n",
    "await assistant_run()"
   ]
  },
  {
   "cell_type": "markdown",
   "metadata": {},
   "source": [
    "\n---\n\n**अस्वीकरण**:  \nयो दस्तावेज़ AI अनुवाद सेवा [Co-op Translator](https://github.com/Azure/co-op-translator) प्रयोग गरी अनुवाद गरिएको हो। हामी यथासम्भव सटीकता सुनिश्चित गर्न प्रयास गर्छौं, तर कृपया ध्यान दिनुहोस् कि स्वचालित अनुवादहरूमा त्रुटि वा अशुद्धता हुन सक्छ। यसको मूल भाषामा रहेको मूल दस्तावेज़लाई आधिकारिक स्रोत मानिनुपर्छ। महत्त्वपूर्ण जानकारीका लागि, व्यावसायिक मानव अनुवाद सिफारिस गरिन्छ। यस अनुवादको प्रयोगबाट उत्पन्न हुने कुनै पनि गलतफहमी वा गलत व्याख्याका लागि हामी जिम्मेवार हुने छैनौं।\n"
   ]
  }
 ],
 "metadata": {
  "kernelspec": {
   "display_name": ".venv",
   "language": "python",
   "name": "python3"
  },
  "language_info": {
   "codemirror_mode": {
    "name": "ipython",
    "version": 3
   },
   "file_extension": ".py",
   "mimetype": "text/x-python",
   "name": "python",
   "nbconvert_exporter": "python",
   "pygments_lexer": "ipython3",
   "version": "3.13.1"
  },
  "coopTranslator": {
   "original_hash": "3ab7ffbff609b601fcdfeb749af44e43",
   "translation_date": "2025-08-29T11:41:27+00:00",
   "source_file": "04-tool-use/code_samples/04-autogen.ipynb",
   "language_code": "ne"
  }
 },
 "nbformat": 4,
 "nbformat_minor": 2
}