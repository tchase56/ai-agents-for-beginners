{
 "cells": [
  {
   "cell_type": "markdown",
   "metadata": {},
   "source": [
    "## **Contoh: Ejen Multi-AI untuk Tempahan Hotel**\n",
    "\n",
    "Dalam dunia yang serba pantas hari ini, merancang perjalanan perniagaan melibatkan lebih daripada sekadar menempah penerbangan dan bilik hotel. Ia memerlukan tahap koordinasi dan kecekapan yang kadangkala sukar dicapai. Di sinilah Ejen Multi-AI memainkan peranan, merevolusikan cara kita mengurus keperluan perjalanan.\n",
    "\n",
    "Bayangkan mempunyai pasukan ejen pintar yang tersedia, bekerjasama untuk mengurus setiap aspek perjalanan anda dengan ketepatan dan kemudahan. Dengan teknologi AI canggih kami, kami telah mencipta ejen khusus untuk perkhidmatan tempahan dan pengaturan jadual perjalanan, memastikan pengalaman perjalanan yang lancar dan bebas tekanan.\n",
    "\n",
    "Ini adalah senario asas. Apabila merancang perjalanan perniagaan, kita perlu berunding dengan ejen perjalanan perniagaan untuk mendapatkan maklumat tiket penerbangan, maklumat hotel, dan sebagainya. Melalui Ejen AI, kita boleh membina ejen untuk perkhidmatan tempahan dan ejen untuk pengaturan jadual perjalanan supaya dapat bekerjasama dan meningkatkan tahap kecerdasan.\n"
   ]
  },
  {
   "cell_type": "markdown",
   "metadata": {},
   "source": [
    "# Memulakan Perkhidmatan Azure AI Agent dan mendapatkan maklumat konfigurasi daripada **.env**\n",
    "\n",
    "### **.env**\n",
    "\n",
    "Buat fail .env\n",
    "\n",
    "**.env** mengandungi string sambungan Perkhidmatan Azure AI Agent, model yang digunakan oleh AOAI, dan perkhidmatan API Carian Google yang berkaitan, ENDPOINT, dan lain-lain.\n",
    "\n",
    "- **AZURE_AI_AGENT_MODEL_DEPLOYMENT_NAME** = \"Nama Penggunaan Model Perkhidmatan Azure AI Agent Anda\"\n",
    "\n",
    "[**NOTE**] Anda memerlukan model dengan Had Kadar 100,000 (Token per minit) dan Had Kadar 600 (Permintaan per minit).\n",
    "\n",
    "  Anda boleh mendapatkan model di Azure AI Foundry - Model dan Endpoint.\n",
    "\n",
    "- **AZURE_AI_AGENT_PROJECT_CONNECTION_STRING** = \"String Sambungan Projek Perkhidmatan Azure AI Agent Anda\"\n",
    "\n",
    "  Anda boleh mendapatkan string sambungan projek di paparan keseluruhan projek anda di Skrin Portal AI Foundry.\n",
    "\n",
    "- **SERPAPI_SEARCH_API_KEY** = \"Kunci API Carian SERPAPI Anda\"\n",
    "- **SERPAPI_SEARCH_ENDPOINT** = \"Endpoint Carian SERPAPI Anda\"\n",
    "\n",
    "Untuk mendapatkan Nama Penggunaan Model dan String Sambungan Projek Perkhidmatan Azure AI Agent, anda perlu mencipta Perkhidmatan Azure AI Agent. Adalah disarankan untuk menggunakan [templat ini](https://portal.azure.com/#create/Microsoft.Template/uri/https%3A%2F%2Fraw.githubusercontent.com%2Ffosteramanda%2Fazure-agent-quickstart-templates%2Frefs%2Fheads%2Fmaster%2Fquickstarts%2Fmicrosoft.azure-ai-agent-service%2Fstandard-agent%2Fazuredeploy.json) untuk menciptanya secara langsung (***Nota:*** Perkhidmatan Azure AI Agent kini ditetapkan di kawasan terhad. Adalah disarankan agar anda merujuk kepada [pautan ini](https://learn.microsoft.com/en-us/azure/ai-services/agents/concepts/model-region-support) untuk menetapkan kawasan).\n",
    "\n",
    "Ejen perlu mengakses SERPAPI. Adalah disarankan untuk mendaftar menggunakan [pautan ini](https://serpapi.com/searches). Selepas pendaftaran, anda boleh mendapatkan API KEY dan ENDPOINT unik.\n"
   ]
  },
  {
   "cell_type": "markdown",
   "metadata": {},
   "source": [
    "# Log Masuk ke Azure\n",
    "\n",
    "Anda kini perlu log masuk ke Azure. Buka terminal dalam VScode dan jalankan arahan `az login`.\n"
   ]
  },
  {
   "cell_type": "markdown",
   "metadata": {},
   "source": [
    "# Persediaan\n",
    "\n",
    "Untuk menjalankan notebook ini, anda perlu memasang perpustakaan berikut. Berikut adalah senarai perpustakaan yang diperlukan dan arahan pemasangan pip yang berkaitan:\n",
    "\n",
    "azure-identity: Untuk pengesahan Azure.  \n",
    "requests: Untuk membuat permintaan HTTP.  \n",
    "semantic-kernel: Untuk rangka kerja kernel semantik (mengandaikan ini adalah perpustakaan khusus atau spesifik, anda mungkin perlu memasangnya dari sumber atau repositori tertentu).  \n"
   ]
  },
  {
   "cell_type": "code",
   "execution_count": null,
   "metadata": {},
   "outputs": [],
   "source": [
    "!pip install azure-identity\n",
    "!pip install requests\n",
    "!pip install semantic-kernel\n",
    "!pip install --upgrade semantic_kernel\n",
    "!pip install azure-cli"
   ]
  },
  {
   "cell_type": "markdown",
   "metadata": {},
   "source": [
    "# Penjelasan:\n",
    "import asyncio: Ini mengimport modul asyncio, yang menyediakan sokongan untuk pengaturcaraan tak segerak dalam Python. Ia membolehkan anda menulis kod serentak menggunakan sintaks async dan await.  \n",
    "from typing: Annotated: Ini mengimport jenis Annotated daripada modul typing. Annotated digunakan untuk menambah metadata kepada petunjuk jenis, yang boleh berguna untuk pelbagai tujuan seperti pengesahan, dokumentasi, atau alat bantu.\n"
   ]
  },
  {
   "cell_type": "code",
   "execution_count": null,
   "metadata": {
    "dotnet_interactive": {
     "language": "csharp"
    },
    "polyglot_notebook": {
     "kernelName": "csharp"
    }
   },
   "outputs": [],
   "source": [
    "import asyncio,os\n",
    "from typing import Annotated"
   ]
  },
  {
   "cell_type": "markdown",
   "metadata": {},
   "source": [
    "# Penjelasan:\n",
    "Dengan menggunakan from dotenv import load_dotenv dan load_dotenv(), anda boleh menguruskan tetapan konfigurasi dan maklumat sensitif (seperti kunci API dan URL pangkalan data) dengan mudah dalam fail .env, memastikan ia terpisah daripada kod sumber anda dan menjadikan aplikasi anda lebih selamat serta lebih mudah untuk dikonfigurasi.\n"
   ]
  },
  {
   "cell_type": "code",
   "execution_count": null,
   "metadata": {},
   "outputs": [],
   "source": [
    "import os\n",
    "from dotenv import load_dotenv\n",
    "\n",
    "# Load environment variables from .env file\n",
    "load_dotenv()"
   ]
  },
  {
   "cell_type": "markdown",
   "metadata": {},
   "source": [
    "# Penjelasan:\n",
    "\n",
    "Pernyataan Import: from azure.identity.aio import DefaultAzureCredential: Ini mengimport kelas DefaultAzureCredential dari modul azure.identity.aio. Bahagian aio dalam nama modul menunjukkan bahawa ia direka untuk operasi asinkron.\n",
    "\n",
    "Tujuan DefaultAzureCredential: Kelas DefaultAzureCredential adalah sebahagian daripada Azure SDK untuk Python. Ia menyediakan cara lalai untuk mengesahkan dengan perkhidmatan Azure. Ia cuba mengesahkan menggunakan pelbagai kaedah dalam urutan tertentu, seperti pembolehubah persekitaran, identiti terurus, dan kelayakan Azure CLI.\n",
    "\n",
    "Operasi Asinkron: Modul aio menunjukkan bahawa kelas DefaultAzureCredential menyokong operasi asinkron. Ini bermaksud anda boleh menggunakannya dengan asyncio untuk melakukan permintaan pengesahan tanpa menyekat.\n"
   ]
  },
  {
   "cell_type": "code",
   "execution_count": null,
   "metadata": {
    "dotnet_interactive": {
     "language": "csharp"
    },
    "polyglot_notebook": {
     "kernelName": "csharp"
    }
   },
   "outputs": [],
   "source": [
    "from azure.identity.aio import DefaultAzureCredential"
   ]
  },
  {
   "cell_type": "markdown",
   "metadata": {},
   "source": [
    "# Penjelasan:\n",
    "Mengimport pelbagai modul dan kelas daripada pakej semantic_kernel. Berikut adalah perincian setiap import:\n",
    "\n",
    "AgentGroupChat daripada semantic_kernel.agents: Kelas ini mengendalikan fungsi berkaitan sembang kumpulan untuk ejen AI. AzureAIAgent dan AzureAIAgentSettings daripada semantic_kernel.agents.azure_ai\n",
    "\n",
    "AzureAIAgent: Kelas ini digunakan untuk mencipta dan mengurus ejen AI yang menggunakan perkhidmatan Azure AI.\n",
    "\n",
    "AzureAIAgentSettings: Kelas ini digunakan untuk mengkonfigurasi tetapan bagi AzureAIAgent. TerminationStrategy daripada semantic_kernel.agents.strategies.termination.termination_strategy:\n",
    "\n",
    "Kelas ini mentakrifkan strategi untuk menamatkan pelaksanaan ejen AI di bawah keadaan tertentu. ChatMessageContent daripada semantic_kernel.contents.chat_message_content:\n",
    "\n",
    "Kelas ini digunakan untuk mengendalikan kandungan mesej sembang.\n",
    "AuthorRole daripada semantic_kernel.contents.utils.author_role:\n",
    "\n",
    "Kelas ini mentakrifkan peranan yang berbeza untuk pengarang dalam konteks mesej sembang.\n",
    "\n",
    "kernel_function daripada semantic_kernel.functions.kernel_function_decorator: Penghias ini digunakan untuk mentakrifkan fungsi kernel, iaitu fungsi yang boleh dilaksanakan dalam rangka kerja semantic kernel.\n",
    "Import-import ini menyediakan komponen yang diperlukan untuk mencipta dan mengurus ejen AI yang boleh berinteraksi dalam persekitaran sembang kumpulan, mungkin untuk tugas seperti menempah hotel atau aktiviti serupa.\n"
   ]
  },
  {
   "cell_type": "code",
   "execution_count": null,
   "metadata": {
    "dotnet_interactive": {
     "language": "csharp"
    },
    "polyglot_notebook": {
     "kernelName": "csharp"
    }
   },
   "outputs": [],
   "source": [
    "from semantic_kernel.agents import AgentGroupChat\n",
    "from semantic_kernel.agents import AzureAIAgent, AzureAIAgentSettings\n",
    "from semantic_kernel.agents.strategies.termination.termination_strategy import TerminationStrategy\n",
    "from semantic_kernel.contents import ChatMessageContent\n",
    "from semantic_kernel.contents import AuthorRole\n",
    "from semantic_kernel.functions.kernel_function_decorator import kernel_function"
   ]
  },
  {
   "cell_type": "markdown",
   "metadata": {},
   "source": [
    "# Penjelasan:\n",
    "Seterusnya, kita mengimport kelas CodeInterpreterTool daripada modul azure.ai.projects.models.\n",
    "\n",
    "CodeInterpreterTool: Kelas ini adalah sebahagian daripada Azure AI SDK dan digunakan untuk mentafsir serta melaksanakan kod dalam konteks projek AI. Ia menyediakan fungsi untuk menjalankan potongan kod, menganalisis kod, atau mengintegrasikan pelaksanaan kod dalam aliran kerja AI. \n",
    "Import ini menyediakan komponen yang diperlukan untuk menggunakan CodeInterpreterTool dalam projek anda, yang boleh berguna untuk tugas-tugas yang melibatkan tafsiran dan pelaksanaan kod secara dinamik.\n"
   ]
  },
  {
   "cell_type": "code",
   "execution_count": null,
   "metadata": {
    "dotnet_interactive": {
     "language": "csharp"
    },
    "polyglot_notebook": {
     "kernelName": "csharp"
    }
   },
   "outputs": [],
   "source": [
    "from azure.ai.projects.models import CodeInterpreterTool"
   ]
  },
  {
   "cell_type": "markdown",
   "metadata": {},
   "source": [
    "# Penjelasan: \n",
    "Kelas ApprovalTerminationStrategy menyediakan strategi khusus untuk menghentikan operasi ejen AI. Ejen tersebut akan berhenti jika mesej terakhir dalam sejarah interaksinya mengandungi perkataan \"saved\". Ini boleh berguna dalam situasi di mana tugas ejen dianggap selesai setelah ia menerima pengesahan bahawa sesuatu telah \"saved\". Tetapkan kaedah interaksi. Selepas pelan tempahan disimpan, ia boleh dihentikan apabila menerima isyarat saved.\n"
   ]
  },
  {
   "cell_type": "code",
   "execution_count": null,
   "metadata": {
    "dotnet_interactive": {
     "language": "csharp"
    },
    "polyglot_notebook": {
     "kernelName": "csharp"
    }
   },
   "outputs": [],
   "source": [
    "class ApprovalTerminationStrategy(TerminationStrategy):\n",
    "    \"\"\"A strategy for determining when an agent should terminate.\"\"\"\n",
    "\n",
    "    async def should_agent_terminate(self, agent, history):\n",
    "        \"\"\"Check if the agent should terminate.\"\"\"\n",
    "        return \"saved\" in history[-1].content.lower()"
   ]
  },
  {
   "cell_type": "markdown",
   "metadata": {},
   "source": [
    "# Penjelasan:\n",
    "\n",
    "Baris kod ini memulakan objek AzureAIAgentSettings dengan tetapan lalai atau yang telah ditentukan dengan memanggil kaedah create(). Objek tetapan ini (ai_agent_settings) kemudian boleh digunakan untuk mengkonfigurasi dan menguruskan instans AzureAIAgent.\n"
   ]
  },
  {
   "cell_type": "code",
   "execution_count": null,
   "metadata": {
    "dotnet_interactive": {
     "language": "csharp"
    },
    "polyglot_notebook": {
     "kernelName": "csharp"
    }
   },
   "outputs": [],
   "source": [
    "ai_agent_settings = AzureAIAgentSettings.create()"
   ]
  },
  {
   "cell_type": "markdown",
   "metadata": {},
   "source": [
    "# Penjelasan:\n",
    "Dengan mengimport perpustakaan requests, anda boleh membuat permintaan HTTP dengan mudah dan berinteraksi dengan perkhidmatan web dalam kod Python anda.\n"
   ]
  },
  {
   "cell_type": "code",
   "execution_count": null,
   "metadata": {
    "dotnet_interactive": {
     "language": "csharp"
    },
    "polyglot_notebook": {
     "kernelName": "csharp"
    }
   },
   "outputs": [],
   "source": [
    "import requests"
   ]
  },
  {
   "cell_type": "markdown",
   "metadata": {},
   "source": [
    "# Penjelasan:\n",
    "Ini adalah pemboleh ubah yang menyimpan kunci API untuk mengakses perkhidmatan API SERP (Search Engine Results Page). Kunci API adalah pengenal unik yang digunakan untuk mengesahkan permintaan yang dikaitkan dengan akaun anda.\n",
    "\n",
    "'GOOGLE_SEARCH_API_KEY': Ini adalah rentetan pengganti. Anda perlu menggantikan 'GOOGLE_SEARCH_API_KEY' dengan kunci API SERP sebenar anda.\n",
    "\n",
    "Tujuan: Tujuan baris ini adalah untuk menyimpan kunci API dalam pemboleh ubah supaya ia boleh digunakan untuk mengesahkan permintaan kepada perkhidmatan API SERP. Kunci API diperlukan untuk mengakses perkhidmatan dan melakukan carian.\n",
    "\n",
    "Cara Mendapatkan Kunci API SERP: Untuk mendapatkan kunci API SERP, ikuti langkah-langkah umum berikut di https://serpapi.com (langkah-langkah tepat mungkin berbeza bergantung pada perkhidmatan API SERP yang anda gunakan):\n",
    "\n",
    "Pilih Perkhidmatan API SERP: Terdapat beberapa perkhidmatan API SERP yang tersedia, seperti SerpAPI, Google Custom Search JSON API, dan lain-lain. Pilih yang paling sesuai dengan keperluan anda.\n",
    "\n",
    "Daftar Akaun:\n",
    "\n",
    "Pergi ke laman web perkhidmatan API SERP yang dipilih https://www.serpapi.com dan daftar akaun. Anda mungkin perlu memberikan beberapa maklumat asas dan mengesahkan alamat e-mel anda.\n",
    "\n",
    "Cipta Kunci API:\n",
    "\n",
    "Selepas mendaftar, log masuk ke akaun anda dan navigasi ke bahagian API atau papan pemuka. Cari pilihan untuk mencipta atau menjana kunci API baharu.\n",
    "Salin Kunci API:\n",
    "\n",
    "Setelah kunci API dijana, salin kunci tersebut. Kunci ini akan digunakan untuk mengesahkan permintaan anda kepada perkhidmatan API SERP.\n",
    "Gantikan Pengganti:\n",
    "\n",
    "Gantikan pengganti dalam fail .env anda.\n"
   ]
  },
  {
   "cell_type": "code",
   "execution_count": null,
   "metadata": {
    "dotnet_interactive": {
     "language": "csharp"
    },
    "polyglot_notebook": {
     "kernelName": "csharp"
    }
   },
   "outputs": [],
   "source": [
    "SERPAPI_SEARCH_API_KEY=os.getenv('SERPAPI_SEARCH_API_KEY')"
   ]
  },
  {
   "cell_type": "code",
   "execution_count": null,
   "metadata": {
    "dotnet_interactive": {
     "language": "csharp"
    },
    "polyglot_notebook": {
     "kernelName": "csharp"
    }
   },
   "outputs": [],
   "source": [
    "SERPAPI_SEARCH_ENDPOINT = os.getenv('SERPAPI_SEARCH_ENDPOINT')"
   ]
  },
  {
   "cell_type": "markdown",
   "metadata": {},
   "source": [
    "# Penjelasan:\n",
    "Kelas BookingPlugin menyediakan kaedah untuk menempah hotel dan penerbangan menggunakan API Carian Google dari Serpapi.com. Ia membina parameter yang diperlukan, menghantar permintaan API, dan memproses respons untuk mengembalikan maklumat tempahan yang berkaitan. Kunci API (SERPAPI_SEARCH_API_KEY) dan titik akhir (SERPAPI_SEARCH_ENDPOINT) digunakan untuk mengesahkan dan menghantar permintaan ke API Carian Google.\n"
   ]
  },
  {
   "cell_type": "code",
   "execution_count": null,
   "metadata": {
    "dotnet_interactive": {
     "language": "csharp"
    },
    "polyglot_notebook": {
     "kernelName": "csharp"
    }
   },
   "outputs": [],
   "source": [
    "# Define Booking Plugin\n",
    "class BookingPlugin:\n",
    "    \"\"\"Booking Plugin for customers\"\"\"\n",
    "    @kernel_function(description=\"booking hotel\")\n",
    "    def booking_hotel(self,query: Annotated[str, \"The name of the city\"], check_in_date: Annotated[str, \"Hotel Check-in Time\"], check_out_date: Annotated[str, \"Hotel Check-in Time\"])-> Annotated[str, \"Return the result of booking hotel infomation\"]:\n",
    "\n",
    "        params = {\n",
    "            \"engine\": \"google_hotels\",\n",
    "            \"q\": query,\n",
    "            \"check_in_date\": check_in_date,\n",
    "            \"check_out_date\": check_out_date,\n",
    "            \"adults\": \"2\",\n",
    "            \"currency\": \"USD\",\n",
    "            \"gl\": \"us\",\n",
    "            \"hl\": \"en\",\n",
    "            \"api_key\": SERPAPI_SEARCH_API_KEY\n",
    "        }\n",
    "\n",
    "        response = requests.get(SERPAPI_SEARCH_ENDPOINT, params=params)\n",
    "        if response.status_code == 200:\n",
    "            response = response.json()\n",
    "            return response[\"properties\"]\n",
    "        else:\n",
    "            return None\n",
    "\n",
    "    \n",
    "    @kernel_function(description=\"booking fight\")\n",
    "    def  booking_fight(self,origin: Annotated[str, \"The name of Departure\"], destination: Annotated[str, \"The name of Destination\"], outbound_date: Annotated[str, \"The date of outbound\"], return_date: Annotated[str, \"The date of Return_date\"])-> Annotated[str, \"Return the result of booking fight infomation\"]:\n",
    "        \n",
    "        go_params = {\n",
    "            \"engine\": \"google_flights\",   \n",
    "            \"departure_id\": origin,\n",
    "            \"arrival_id\": destination,\n",
    "            \"outbound_date\": outbound_date,\n",
    "            \"return_date\": return_date,  \n",
    "            \"currency\": \"USD\",\n",
    "            \"hl\": \"en\",\n",
    "            \"api_key\": SERPAPI_SEARCH_API_KEY  \n",
    "        }\n",
    "\n",
    "        print(go_params)\n",
    "\n",
    "        go_response = requests.get(SERPAPI_SEARCH_ENDPOINT, params=go_params)\n",
    "\n",
    "\n",
    "        result = ''\n",
    "\n",
    "        if go_response.status_code == 200:\n",
    "            response = go_response.json()\n",
    "\n",
    "            result += \"# outbound \\n \" + str(response)\n",
    "        else:\n",
    "            print('error!!!')\n",
    "            # return None\n",
    "\n",
    "        \n",
    "        back_params = {\n",
    "            \"engine\": \"google_flights\",   \n",
    "            \"departure_id\": destination,\n",
    "            \"arrival_id\": origin,\n",
    "            \"outbound_date\": return_date,\n",
    "            \"return_date\": return_date,  \n",
    "            \"currency\": \"USD\",\n",
    "            \"hl\": \"en\",\n",
    "            \"api_key\": SERPAPI_SEARCH_API_KEY  \n",
    "        }\n",
    "\n",
    "\n",
    "        print(back_params)\n",
    "\n",
    "\n",
    "        back_response = requests.get(SERPAPI_SEARCH_ENDPOINT, params=back_params)\n",
    "\n",
    "\n",
    "\n",
    "        if back_response.status_code == 200:\n",
    "            response = back_response.json()\n",
    "\n",
    "            result += \"\\n # return \\n\"  + str(response)\n",
    "\n",
    "        else:\n",
    "            print('error!!!')\n",
    "            # return None\n",
    "        \n",
    "        print(result)\n",
    "\n",
    "        return result\n",
    "\n",
    "        \n"
   ]
  },
  {
   "cell_type": "markdown",
   "metadata": {},
   "source": [
    "# Penjelasan:\n",
    "Kelas SavePlugin menyediakan kaedah saving_plan untuk menyimpan rancangan perjalanan menggunakan perkhidmatan Azure AI. Ia menyediakan kelayakan Azure, mencipta ejen AI, memproses input pengguna untuk menghasilkan dan menyimpan kandungan rancangan perjalanan, serta mengurus operasi penyimpanan fail dan pembersihan. Kaedah ini mengembalikan \"Saved\" apabila selesai dengan jayanya.\n"
   ]
  },
  {
   "cell_type": "code",
   "execution_count": null,
   "metadata": {
    "dotnet_interactive": {
     "language": "csharp"
    },
    "polyglot_notebook": {
     "kernelName": "csharp"
    }
   },
   "outputs": [],
   "source": [
    "class SavePlugin:\n",
    "    \"\"\"Save Plugin for customers\"\"\"\n",
    "    @kernel_function(description=\"saving plan\")\n",
    "    async def saving_plan(self,tripplan: Annotated[str, \"The content of trip plan\"])-> Annotated[str, \"Return status of save content\"]:\n",
    "\n",
    "        async with (\n",
    "            DefaultAzureCredential() as creds,\n",
    "            AzureAIAgent.create_client(\n",
    "                credential=creds,\n",
    "                conn_str=ai_agent_settings.project_connection_string.get_secret_value(),\n",
    "            ) as client,\n",
    "        ):\n",
    "\n",
    "            code_interpreter = CodeInterpreterTool()\n",
    "            \n",
    "            agent_definition = await client.agents.create_agent(\n",
    "                model=ai_agent_settings.model_deployment_name,\n",
    "                tools=code_interpreter.definitions,\n",
    "                tool_resources=code_interpreter.resources,\n",
    "            )\n",
    "\n",
    "\n",
    "            agent = AzureAIAgent(\n",
    "                client=client,\n",
    "                definition=agent_definition,\n",
    "            )\n",
    "\n",
    "            thread = await client.agents.create_thread()\n",
    "\n",
    "\n",
    "            user_inputs = [\n",
    "                \"\"\"\n",
    "            \n",
    "                        You are my Python programming assistant. Generate code,save \"\"\"+ tripplan +\n",
    "                        \n",
    "                    \"\"\"    \n",
    "                        and execute it according to the following requirements\n",
    "\n",
    "                        1. Save blog content to trip-{YYMMDDHHMMSS}.md\n",
    "\n",
    "                        2. give me the download this file link\n",
    "                    \"\"\"\n",
    "            ]\n",
    "\n",
    "\n",
    "\n",
    "            try:\n",
    "                for user_input in user_inputs:\n",
    "                    # Add the user input as a chat message\n",
    "                    await agent.add_chat_message(\n",
    "                        thread_id=thread.id, message=ChatMessageContent(role=AuthorRole.USER, content=user_input)\n",
    "                    )\n",
    "                    print(f\"# User: '{user_input}'\")\n",
    "                    # Invoke the agent for the specified thread\n",
    "                    async for content in agent.invoke(thread_id=thread.id):\n",
    "                        if content.role != AuthorRole.TOOL:\n",
    "                            print(f\"# Agent: {content.content}\")\n",
    "\n",
    "                    \n",
    "                    messages = await client.agents.list_messages(thread_id=thread.id)\n",
    "\n",
    "                    # OpenAIPageableListOfThreadMessage\n",
    "                    # OpenAIPageableListOfThreadMessage\n",
    "\n",
    "\n",
    "                    for file_path_annotation in messages.file_path_annotations:\n",
    "\n",
    "                            file_name = os.path.basename(file_path_annotation.text)\n",
    "\n",
    "                            await client.agents.save_file(file_id=file_path_annotation.file_path.file_id, file_name=file_name,target_dir=\"./trip\")\n",
    "\n",
    "                    \n",
    "            finally:\n",
    "                await client.agents.delete_thread(thread.id)\n",
    "                await client.agents.delete_agent(agent.id)\n",
    "\n",
    "\n",
    "        return \"Saved\""
   ]
  },
  {
   "cell_type": "markdown",
   "metadata": {},
   "source": [
    "# Penjelasan:\n",
    "Kod ini menyediakan ejen Azure AI untuk menguruskan tempahan penerbangan dan hotel, serta menyimpan rancangan perjalanan berdasarkan input pengguna. Ia menggunakan kelayakan Azure untuk mencipta dan mengkonfigurasi ejen, memproses input pengguna melalui sembang kumpulan, dan memastikan pembersihan yang betul selepas tugas diselesaikan. Ejen-ejen ini menggunakan plugin tertentu (BookingPlugin dan SavePlugin) untuk melaksanakan tugas masing-masing.\n"
   ]
  },
  {
   "cell_type": "code",
   "execution_count": null,
   "metadata": {
    "dotnet_interactive": {
     "language": "csharp"
    },
    "polyglot_notebook": {
     "kernelName": "csharp"
    }
   },
   "outputs": [],
   "source": [
    "async with (\n",
    "    DefaultAzureCredential() as creds,\n",
    "    AzureAIAgent.create_client(\n",
    "        credential=creds,\n",
    "        conn_str=ai_agent_settings.project_connection_string.get_secret_value(),\n",
    "    ) as client,\n",
    "):\n",
    "    BOOKING_AGENT_NAME = \"BookingAgent\"\n",
    "    BOOKING_AGENT_INSTRUCTIONS = \"\"\"\n",
    "    You are a booking agent. Help me book flights or hotels.\n",
    "\n",
    "    Thought: Please understand the user's intention and confirm whether to use the reservation system to complete the task.\n",
    "\n",
    "    Actions:\n",
    "    - For flight bookings, convert the departure and destination names into airport codes.\n",
    "    - Use the appropriate API for hotel or flight bookings. Verify that all necessary parameters are available. If any parameters are missing, ask the user to provide them. If all parameters are complete, call the corresponding function.\n",
    "    - If the task is not related to hotel or flight booking, respond with the final answer only.\n",
    "    - Output the results using a markdown table:\n",
    "      - For flight bookings, output separate outbound and return contents in the order of:\n",
    "        Departure Airport | Airline | Flight Number | Departure Time | Arrival Airport | Arrival Time | Duration | Airplane | Travel Class | Price (USD) | Legroom | Extensions | Carbon Emissions (kg).\n",
    "      - For hotel bookings, output in the order of:\n",
    "        Property Name | Property Description | Check-in Time | Check-out Time | Prices | Nearby Places | Hotel Class | GPS Coordinates.\n",
    "    \"\"\"\n",
    "\n",
    "    SAVE_AGENT_NAME = \"SaveAgent\"\n",
    "    SAVE_AGENT_INSTRUCTIONS = \"\"\"\n",
    "    You are a save tool agent. Help me to save the trip plan.\n",
    "    \"\"\"\n",
    "\n",
    "    # Create agent definition\n",
    "    booking_agent_definition = await client.agents.create_agent(\n",
    "        model=ai_agent_settings.model_deployment_name,\n",
    "        name=BOOKING_AGENT_NAME,\n",
    "        instructions=BOOKING_AGENT_INSTRUCTIONS,\n",
    "    )\n",
    "\n",
    "    # Create the AzureAI Agent\n",
    "    booking_agent = AzureAIAgent(\n",
    "        client=client,\n",
    "        definition=booking_agent_definition,\n",
    "        # Optionally configure polling options\n",
    "        # polling_options=RunPollingOptions(run_polling_interval=timedelta(seconds=1)),\n",
    "    )\n",
    "\n",
    "    # Add the sample plugin to the kernel\n",
    "    booking_agent.kernel.add_plugin(BookingPlugin(), plugin_name=\"booking\")\n",
    "\n",
    "    # Create agent definition\n",
    "    save_agent_definition = await client.agents.create_agent(\n",
    "        model=ai_agent_settings.model_deployment_name,\n",
    "        name=SAVE_AGENT_NAME,\n",
    "        instructions=SAVE_AGENT_INSTRUCTIONS\n",
    "    )\n",
    "\n",
    "    # Create the AzureAI Agent\n",
    "    save_agent = AzureAIAgent(\n",
    "        client=client,\n",
    "        definition=save_agent_definition,\n",
    "    )\n",
    "\n",
    "    save_agent.kernel.add_plugin(SavePlugin(), plugin_name=\"saving\")\n",
    "\n",
    "    user_inputs = [\n",
    "        \"I have a business trip from London to New York in Feb 20 2025 to Feb 27 2025 ,help me to book a hotel and fight tickets and save it\"\n",
    "    ]\n",
    "\n",
    "    chat = AgentGroupChat(\n",
    "        agents=[booking_agent, save_agent],\n",
    "        termination_strategy=ApprovalTerminationStrategy(agents=[save_agent], maximum_iterations=10),\n",
    "    )\n",
    "\n",
    "    try:\n",
    "        for user_input in user_inputs:\n",
    "            # Add the user input as a chat message\n",
    "            await chat.add_chat_message(\n",
    "                ChatMessageContent(role=AuthorRole.USER, content=user_input)\n",
    "            )\n",
    "            print(f\"# User: '{user_input}'\")\n",
    "\n",
    "            async for content in chat.invoke():\n",
    "                print(f\"# {content.role} - {content.name or '*'}: '{content.content}'\")\n",
    "\n",
    "            print(f\"# IS COMPLETE: {chat.is_complete}\")\n",
    "\n",
    "            print(\"*\" * 60)\n",
    "            print(\"Chat History (In Descending Order):\\n\")\n",
    "            async for message in chat.get_chat_messages(agent=save_agent):\n",
    "                print(f\"# {message.role} - {message.name or '*'}: '{message.content}'\")\n",
    "    finally:\n",
    "        await chat.reset()\n",
    "        await client.agents.delete_agent(save_agent.id)\n",
    "        await client.agents.delete_agent(booking_agent.id)\n"
   ]
  },
  {
   "cell_type": "markdown",
   "metadata": {},
   "source": [
    "\n---\n\n**Penafian**:  \nDokumen ini telah diterjemahkan menggunakan perkhidmatan terjemahan AI [Co-op Translator](https://github.com/Azure/co-op-translator). Walaupun kami berusaha untuk memastikan ketepatan, sila ambil perhatian bahawa terjemahan automatik mungkin mengandungi kesilapan atau ketidaktepatan. Dokumen asal dalam bahasa asalnya harus dianggap sebagai sumber yang berwibawa. Untuk maklumat yang kritikal, terjemahan manusia profesional adalah disyorkan. Kami tidak bertanggungjawab atas sebarang salah faham atau salah tafsir yang timbul daripada penggunaan terjemahan ini.\n"
   ]
  }
 ],
 "metadata": {
  "kernelspec": {
   "display_name": "3.12.1",
   "language": "python",
   "name": "python3"
  },
  "language_info": {
   "codemirror_mode": {
    "name": "ipython",
    "version": 3
   },
   "file_extension": ".py",
   "mimetype": "text/x-python",
   "name": "python",
   "nbconvert_exporter": "python",
   "pygments_lexer": "ipython3",
   "version": "3.12.1"
  },
  "polyglot_notebook": {
   "kernelInfo": {
    "defaultKernelName": "csharp",
    "items": [
     {
      "aliases": [],
      "name": "csharp"
     }
    ]
   }
  },
  "coopTranslator": {
   "original_hash": "1baa60020a95eda27b7e9ecfda99965b",
   "translation_date": "2025-08-29T19:05:45+00:00",
   "source_file": "08-multi-agent/code_samples/08-python_multi_aiagent_bookinghotel.ipynb",
   "language_code": "ms"
  }
 },
 "nbformat": 4,
 "nbformat_minor": 2
}