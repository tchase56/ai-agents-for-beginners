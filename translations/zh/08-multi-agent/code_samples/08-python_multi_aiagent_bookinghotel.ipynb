{
 "cells": [
  {
   "cell_type": "markdown",
   "metadata": {},
   "source": [
    "## **示例：多智能体协作预订酒店**\n",
    "\n",
    "在当今快节奏的世界中，规划商务旅行不仅仅是预订机票和酒店房间。它需要一种高度协调和高效的方式，而这往往很难实现。这正是多智能体系统发挥作用的地方，它彻底改变了我们管理旅行需求的方式。\n",
    "\n",
    "想象一下，有一组智能代理随时为您服务，它们协同工作，以精准和轻松的方式处理您旅行的每个环节。借助我们先进的人工智能技术，我们创建了专门用于预订服务和行程安排的智能代理，确保您拥有无缝且无压力的旅行体验。\n",
    "\n",
    "这是一个基本场景。在规划商务旅行时，我们需要与商务旅行代理商沟通，以获取机票信息、酒店信息等。通过AI智能体，我们可以构建用于预订服务的代理和用于行程安排的代理，让它们协作，从而提升智能化水平。\n"
   ]
  },
  {
   "cell_type": "markdown",
   "metadata": {},
   "source": [
    "# 初始化 Azure AI Agent 服务并从 **.env** 获取配置信息\n",
    "\n",
    "### **.env**\n",
    "\n",
    "创建一个 .env 文件\n",
    "\n",
    "**.env** 文件包含 Azure AI Agent 服务的连接字符串、AOAI 使用的模型，以及对应的 Google API 搜索服务 API、ENDPOINT 等信息。\n",
    "\n",
    "- **AZURE_AI_AGENT_MODEL_DEPLOYMENT_NAME** = \"您的 Azure AI Agent 服务模型部署名称\"\n",
    "\n",
    "[!NOTE] 您需要一个具有 100,000 速率限制（每分钟令牌数）和 600 速率限制（每分钟请求数）的模型。\n",
    "\n",
    "  您可以在 Azure AI Foundry 的模型和端点中获取模型。\n",
    "\n",
    "- **AZURE_AI_AGENT_PROJECT_CONNECTION_STRING** = \"您的 Azure AI Agent 服务项目连接字符串\"\n",
    "\n",
    "  您可以在 AI Foundry 门户屏幕的项目概览中获取项目连接字符串。\n",
    "\n",
    "- **SERPAPI_SEARCH_API_KEY** = \"您的 SERPAPI 搜索 API 密钥\"\n",
    "- **SERPAPI_SEARCH_ENDPOINT** = \"您的 SERPAPI 搜索端点\"\n",
    "\n",
    "要获取 Azure AI Agent 服务的模型部署名称和项目连接字符串，您需要创建 Azure AI Agent 服务。建议直接使用[此模板](https://portal.azure.com/#create/Microsoft.Template/uri/https%3A%2F%2Fraw.githubusercontent.com%2Ffosteramanda%2Fazure-agent-quickstart-templates%2Frefs%2Fheads%2Fmaster%2Fquickstarts%2Fmicrosoft.azure-ai-agent-service%2Fstandard-agent%2Fazuredeploy.json)进行创建。（***注意：*** Azure AI Agent 服务目前仅在有限的区域设置。建议参考[此链接](https://learn.microsoft.com/en-us/azure/ai-services/agents/concepts/model-region-support)设置区域）\n",
    "\n",
    "Agent 需要访问 SERPAPI。建议通过[此链接](https://serpapi.com/searches)注册。注册后，您可以获得唯一的 API 密钥和 ENDPOINT。\n"
   ]
  },
  {
   "cell_type": "markdown",
   "metadata": {},
   "source": [
    "# 登录到 Azure\n",
    "\n",
    "现在您需要登录到 Azure。请在 VScode 中打开终端并运行 `az login` 命令。\n"
   ]
  },
  {
   "cell_type": "markdown",
   "metadata": {},
   "source": [
    "# 设置\n",
    "\n",
    "要运行此笔记本，您需要安装以下库。以下是所需库及其对应的 pip 安装命令列表：\n",
    "\n",
    "azure-identity：用于 Azure 身份验证。  \n",
    "requests：用于发送 HTTP 请求。  \n",
    "semantic-kernel：用于语义内核框架（假设这是一个自定义或特定的库，您可能需要从特定来源或存储库安装它）。  \n"
   ]
  },
  {
   "cell_type": "code",
   "execution_count": null,
   "metadata": {},
   "outputs": [],
   "source": [
    "!pip install azure-identity\n",
    "!pip install requests\n",
    "!pip install semantic-kernel\n",
    "!pip install --upgrade semantic_kernel\n",
    "!pip install azure-cli"
   ]
  },
  {
   "cell_type": "markdown",
   "metadata": {},
   "source": [
    "# 解释：\n",
    "import asyncio：导入 asyncio 模块，该模块为 Python 提供异步编程支持。它允许你使用 async 和 await 语法编写并发代码。\n",
    "from typing import Annotated：从 typing 模块导入 Annotated 类型。Annotated 用于为类型提示添加元数据，这在验证、文档或工具等方面可能非常有用。\n"
   ]
  },
  {
   "cell_type": "code",
   "execution_count": null,
   "metadata": {
    "dotnet_interactive": {
     "language": "csharp"
    },
    "polyglot_notebook": {
     "kernelName": "csharp"
    }
   },
   "outputs": [],
   "source": [
    "import asyncio,os\n",
    "from typing import Annotated"
   ]
  },
  {
   "cell_type": "markdown",
   "metadata": {},
   "source": [
    "# 说明：\n",
    "通过使用 `from dotenv import load_dotenv` 和 `load_dotenv()`，你可以轻松地在 `.env` 文件中管理配置设置和敏感信息（例如 API 密钥和数据库 URL），将它们与源代码分离。这不仅提升了应用程序的安全性，还使其更易于配置。\n"
   ]
  },
  {
   "cell_type": "code",
   "execution_count": null,
   "metadata": {},
   "outputs": [],
   "source": [
    "import os\n",
    "from dotenv import load_dotenv\n",
    "\n",
    "# Load environment variables from .env file\n",
    "load_dotenv()"
   ]
  },
  {
   "cell_type": "markdown",
   "metadata": {},
   "source": [
    "# 解释：\n",
    "\n",
    "导入语句：from azure.identity.aio import DefaultAzureCredential：这行代码从 azure.identity.aio 模块中导入了 DefaultAzureCredential 类。模块名中的 aio 表明它是为异步操作设计的。\n",
    "\n",
    "DefaultAzureCredential 的用途：DefaultAzureCredential 类是 Azure SDK for Python 的一部分。它提供了一种默认的方式来对 Azure 服务进行身份验证。它会按照特定的顺序尝试多种身份验证方法，例如环境变量、托管身份和 Azure CLI 凭据。\n",
    "\n",
    "异步操作：aio 模块表明 DefaultAzureCredential 类支持异步操作。这意味着你可以结合 asyncio 使用它来执行非阻塞的身份验证请求。\n"
   ]
  },
  {
   "cell_type": "code",
   "execution_count": null,
   "metadata": {
    "dotnet_interactive": {
     "language": "csharp"
    },
    "polyglot_notebook": {
     "kernelName": "csharp"
    }
   },
   "outputs": [],
   "source": [
    "from azure.identity.aio import DefaultAzureCredential"
   ]
  },
  {
   "cell_type": "markdown",
   "metadata": {},
   "source": [
    "# 说明：\n",
    "从 semantic_kernel 包中导入了各种模块和类。以下是每个导入项的详细说明：\n",
    "\n",
    "AgentGroupChat 来自 semantic_kernel.agents：此类负责处理与 AI 代理组聊天相关的功能。AzureAIAgent 和 AzureAIAgentSettings 来自 semantic_kernel.agents.azure_ai：\n",
    "\n",
    "- AzureAIAgent：此类用于创建和管理利用 Azure AI 服务的 AI 代理。\n",
    "- AzureAIAgentSettings：此类用于配置 AzureAIAgent 的相关设置。\n",
    "\n",
    "TerminationStrategy 来自 semantic_kernel.agents.strategies.termination.termination_strategy：\n",
    "\n",
    "- 此类定义了在特定条件下终止 AI 代理执行的策略。\n",
    "\n",
    "ChatMessageContent 来自 semantic_kernel.contents.chat_message_content：\n",
    "\n",
    "- 此类用于处理聊天消息的内容。\n",
    "\n",
    "AuthorRole 来自 semantic_kernel.contents.utils.author_role：\n",
    "\n",
    "- 此类定义了聊天消息中作者的不同角色。\n",
    "\n",
    "kernel_function 来自 semantic_kernel.functions.kernel_function_decorator：\n",
    "\n",
    "- 此装饰器用于定义内核函数，这些函数可以在 semantic kernel 框架中执行。\n",
    "\n",
    "这些导入项为创建和管理能够在群聊环境中交互的 AI 代理提供了必要的组件，这些代理可能用于完成诸如预订酒店等任务。\n"
   ]
  },
  {
   "cell_type": "code",
   "execution_count": null,
   "metadata": {
    "dotnet_interactive": {
     "language": "csharp"
    },
    "polyglot_notebook": {
     "kernelName": "csharp"
    }
   },
   "outputs": [],
   "source": [
    "from semantic_kernel.agents import AgentGroupChat\n",
    "from semantic_kernel.agents import AzureAIAgent, AzureAIAgentSettings\n",
    "from semantic_kernel.agents.strategies.termination.termination_strategy import TerminationStrategy\n",
    "from semantic_kernel.contents import ChatMessageContent\n",
    "from semantic_kernel.contents import AuthorRole\n",
    "from semantic_kernel.functions.kernel_function_decorator import kernel_function"
   ]
  },
  {
   "cell_type": "markdown",
   "metadata": {},
   "source": [
    "# 说明：\n",
    "接下来，我们从 azure.ai.projects.models 模块中导入 CodeInterpreterTool 类。\n",
    "\n",
    "CodeInterpreterTool：这是 Azure AI SDK 的一部分，用于在 AI 项目中解释和执行代码。它提供了运行代码片段、分析代码或将代码执行集成到 AI 工作流中的功能。  \n",
    "这个导入为在项目中使用 CodeInterpreterTool 设置了必要的组件，这对于涉及动态解释和执行代码的任务可能非常有用。\n"
   ]
  },
  {
   "cell_type": "code",
   "execution_count": null,
   "metadata": {
    "dotnet_interactive": {
     "language": "csharp"
    },
    "polyglot_notebook": {
     "kernelName": "csharp"
    }
   },
   "outputs": [],
   "source": [
    "from azure.ai.projects.models import CodeInterpreterTool"
   ]
  },
  {
   "cell_type": "markdown",
   "metadata": {},
   "source": [
    "# 说明：\n",
    "ApprovalTerminationStrategy 类提供了一种终止 AI 代理操作的特定策略。如果其交互历史中的最后一条消息包含“saved”这个词，代理将终止运行。这在某些场景中非常有用，例如当代理的任务在收到某项内容已“保存”的确认后被认为完成时。定义交互方法。当预订计划保存后，接收到保存信号时可以停止运行。\n"
   ]
  },
  {
   "cell_type": "code",
   "execution_count": null,
   "metadata": {
    "dotnet_interactive": {
     "language": "csharp"
    },
    "polyglot_notebook": {
     "kernelName": "csharp"
    }
   },
   "outputs": [],
   "source": [
    "class ApprovalTerminationStrategy(TerminationStrategy):\n",
    "    \"\"\"A strategy for determining when an agent should terminate.\"\"\"\n",
    "\n",
    "    async def should_agent_terminate(self, agent, history):\n",
    "        \"\"\"Check if the agent should terminate.\"\"\"\n",
    "        return \"saved\" in history[-1].content.lower()"
   ]
  },
  {
   "cell_type": "markdown",
   "metadata": {},
   "source": [
    "# 说明：\n",
    "\n",
    "这行代码通过调用 create() 方法初始化一个 AzureAIAgentSettings 对象，使用默认或预定义的设置。这个设置对象 (ai_agent_settings) 随后可以用于配置和管理一个 AzureAIAgent 实例。\n"
   ]
  },
  {
   "cell_type": "code",
   "execution_count": null,
   "metadata": {
    "dotnet_interactive": {
     "language": "csharp"
    },
    "polyglot_notebook": {
     "kernelName": "csharp"
    }
   },
   "outputs": [],
   "source": [
    "ai_agent_settings = AzureAIAgentSettings.create()"
   ]
  },
  {
   "cell_type": "markdown",
   "metadata": {},
   "source": [
    "# 说明：\n",
    "通过导入 requests 库，您可以轻松在 Python 代码中发起 HTTP 请求并与网络服务进行交互。\n"
   ]
  },
  {
   "cell_type": "code",
   "execution_count": null,
   "metadata": {
    "dotnet_interactive": {
     "language": "csharp"
    },
    "polyglot_notebook": {
     "kernelName": "csharp"
    }
   },
   "outputs": [],
   "source": [
    "import requests"
   ]
  },
  {
   "cell_type": "markdown",
   "metadata": {},
   "source": [
    "# 说明：\n",
    "这是一个用于存储 API 密钥的变量，该密钥用于访问 SERP（搜索引擎结果页面）API 服务。API 密钥是一个用于验证与您账户相关的请求的唯一标识符。\n",
    "\n",
    "'GOOGLE_SEARCH_API_KEY'：这是一个占位符字符串。您需要将 'GOOGLE_SEARCH_API_KEY' 替换为您的实际 SERP API 密钥。\n",
    "\n",
    "目的：这行代码的目的是将 API 密钥存储在一个变量中，以便用于验证对 SERP API 服务的请求。访问该服务并执行搜索需要 API 密钥。\n",
    "\n",
    "如何获取 SERP API 密钥：要获取 SERP API 密钥，请按照以下一般步骤操作：https://serpapi.com（具体步骤可能因您使用的 SERP API 服务而异）：\n",
    "\n",
    "选择一个 SERP API 服务：有多种 SERP API 服务可供选择，例如 SerpAPI、Google Custom Search JSON API 等。选择最适合您需求的服务。\n",
    "\n",
    "注册账户：\n",
    "\n",
    "访问所选 SERP API 服务的网站 https://www.serpapi.com 并注册一个账户。您可能需要提供一些基本信息并验证您的电子邮件地址。\n",
    "\n",
    "创建 API 密钥：\n",
    "\n",
    "注册后，登录您的账户并导航到 API 部分或仪表板。寻找创建或生成新 API 密钥的选项。\n",
    "复制 API 密钥：\n",
    "\n",
    "一旦生成了 API 密钥，请将其复制下来。此密钥将用于验证您对 SERP API 服务的请求。\n",
    "替换占位符：\n",
    "\n",
    "将 .env 文件中的占位符替换掉。\n"
   ]
  },
  {
   "cell_type": "code",
   "execution_count": null,
   "metadata": {
    "dotnet_interactive": {
     "language": "csharp"
    },
    "polyglot_notebook": {
     "kernelName": "csharp"
    }
   },
   "outputs": [],
   "source": [
    "SERPAPI_SEARCH_API_KEY=os.getenv('SERPAPI_SEARCH_API_KEY')"
   ]
  },
  {
   "cell_type": "code",
   "execution_count": null,
   "metadata": {
    "dotnet_interactive": {
     "language": "csharp"
    },
    "polyglot_notebook": {
     "kernelName": "csharp"
    }
   },
   "outputs": [],
   "source": [
    "SERPAPI_SEARCH_ENDPOINT = os.getenv('SERPAPI_SEARCH_ENDPOINT')"
   ]
  },
  {
   "cell_type": "markdown",
   "metadata": {},
   "source": [
    "# 说明：\n",
    "BookingPlugin 类提供了使用 Serpapi.com 的 Google 搜索 API 预订酒店和航班的方法。它构建必要的参数，发送 API 请求，并处理响应以返回相关的预订信息。API 密钥 (SERPAPI_SEARCH_API_KEY) 和端点 (SERPAPI_SEARCH_ENDPOINT) 用于验证身份并向 Google 搜索 API 发送请求。\n"
   ]
  },
  {
   "cell_type": "code",
   "execution_count": null,
   "metadata": {
    "dotnet_interactive": {
     "language": "csharp"
    },
    "polyglot_notebook": {
     "kernelName": "csharp"
    }
   },
   "outputs": [],
   "source": [
    "# Define Booking Plugin\n",
    "class BookingPlugin:\n",
    "    \"\"\"Booking Plugin for customers\"\"\"\n",
    "    @kernel_function(description=\"booking hotel\")\n",
    "    def booking_hotel(self,query: Annotated[str, \"The name of the city\"], check_in_date: Annotated[str, \"Hotel Check-in Time\"], check_out_date: Annotated[str, \"Hotel Check-in Time\"])-> Annotated[str, \"Return the result of booking hotel infomation\"]:\n",
    "\n",
    "        params = {\n",
    "            \"engine\": \"google_hotels\",\n",
    "            \"q\": query,\n",
    "            \"check_in_date\": check_in_date,\n",
    "            \"check_out_date\": check_out_date,\n",
    "            \"adults\": \"2\",\n",
    "            \"currency\": \"USD\",\n",
    "            \"gl\": \"us\",\n",
    "            \"hl\": \"en\",\n",
    "            \"api_key\": SERPAPI_SEARCH_API_KEY\n",
    "        }\n",
    "\n",
    "        response = requests.get(SERPAPI_SEARCH_ENDPOINT, params=params)\n",
    "        if response.status_code == 200:\n",
    "            response = response.json()\n",
    "            return response[\"properties\"]\n",
    "        else:\n",
    "            return None\n",
    "\n",
    "    \n",
    "    @kernel_function(description=\"booking fight\")\n",
    "    def  booking_fight(self,origin: Annotated[str, \"The name of Departure\"], destination: Annotated[str, \"The name of Destination\"], outbound_date: Annotated[str, \"The date of outbound\"], return_date: Annotated[str, \"The date of Return_date\"])-> Annotated[str, \"Return the result of booking fight infomation\"]:\n",
    "        \n",
    "        go_params = {\n",
    "            \"engine\": \"google_flights\",   \n",
    "            \"departure_id\": origin,\n",
    "            \"arrival_id\": destination,\n",
    "            \"outbound_date\": outbound_date,\n",
    "            \"return_date\": return_date,  \n",
    "            \"currency\": \"USD\",\n",
    "            \"hl\": \"en\",\n",
    "            \"api_key\": SERPAPI_SEARCH_API_KEY  \n",
    "        }\n",
    "\n",
    "        print(go_params)\n",
    "\n",
    "        go_response = requests.get(SERPAPI_SEARCH_ENDPOINT, params=go_params)\n",
    "\n",
    "\n",
    "        result = ''\n",
    "\n",
    "        if go_response.status_code == 200:\n",
    "            response = go_response.json()\n",
    "\n",
    "            result += \"# outbound \\n \" + str(response)\n",
    "        else:\n",
    "            print('error!!!')\n",
    "            # return None\n",
    "\n",
    "        \n",
    "        back_params = {\n",
    "            \"engine\": \"google_flights\",   \n",
    "            \"departure_id\": destination,\n",
    "            \"arrival_id\": origin,\n",
    "            \"outbound_date\": return_date,\n",
    "            \"return_date\": return_date,  \n",
    "            \"currency\": \"USD\",\n",
    "            \"hl\": \"en\",\n",
    "            \"api_key\": SERPAPI_SEARCH_API_KEY  \n",
    "        }\n",
    "\n",
    "\n",
    "        print(back_params)\n",
    "\n",
    "\n",
    "        back_response = requests.get(SERPAPI_SEARCH_ENDPOINT, params=back_params)\n",
    "\n",
    "\n",
    "\n",
    "        if back_response.status_code == 200:\n",
    "            response = back_response.json()\n",
    "\n",
    "            result += \"\\n # return \\n\"  + str(response)\n",
    "\n",
    "        else:\n",
    "            print('error!!!')\n",
    "            # return None\n",
    "        \n",
    "        print(result)\n",
    "\n",
    "        return result\n",
    "\n",
    "        \n"
   ]
  },
  {
   "cell_type": "markdown",
   "metadata": {},
   "source": [
    "# 说明：\n",
    "SavePlugin 类提供了一个名为 saving_plan 的方法，用于使用 Azure AI 服务保存旅行计划。它设置了 Azure 凭据，创建了一个 AI 代理，处理用户输入以生成并保存旅行计划内容，并负责文件保存和清理操作。方法成功完成后会返回 \"Saved\"。\n"
   ]
  },
  {
   "cell_type": "code",
   "execution_count": null,
   "metadata": {
    "dotnet_interactive": {
     "language": "csharp"
    },
    "polyglot_notebook": {
     "kernelName": "csharp"
    }
   },
   "outputs": [],
   "source": [
    "class SavePlugin:\n",
    "    \"\"\"Save Plugin for customers\"\"\"\n",
    "    @kernel_function(description=\"saving plan\")\n",
    "    async def saving_plan(self,tripplan: Annotated[str, \"The content of trip plan\"])-> Annotated[str, \"Return status of save content\"]:\n",
    "\n",
    "        async with (\n",
    "            DefaultAzureCredential() as creds,\n",
    "            AzureAIAgent.create_client(\n",
    "                credential=creds,\n",
    "                conn_str=ai_agent_settings.project_connection_string.get_secret_value(),\n",
    "            ) as client,\n",
    "        ):\n",
    "\n",
    "            code_interpreter = CodeInterpreterTool()\n",
    "            \n",
    "            agent_definition = await client.agents.create_agent(\n",
    "                model=ai_agent_settings.model_deployment_name,\n",
    "                tools=code_interpreter.definitions,\n",
    "                tool_resources=code_interpreter.resources,\n",
    "            )\n",
    "\n",
    "\n",
    "            agent = AzureAIAgent(\n",
    "                client=client,\n",
    "                definition=agent_definition,\n",
    "            )\n",
    "\n",
    "            thread = await client.agents.create_thread()\n",
    "\n",
    "\n",
    "            user_inputs = [\n",
    "                \"\"\"\n",
    "            \n",
    "                        You are my Python programming assistant. Generate code,save \"\"\"+ tripplan +\n",
    "                        \n",
    "                    \"\"\"    \n",
    "                        and execute it according to the following requirements\n",
    "\n",
    "                        1. Save blog content to trip-{YYMMDDHHMMSS}.md\n",
    "\n",
    "                        2. give me the download this file link\n",
    "                    \"\"\"\n",
    "            ]\n",
    "\n",
    "\n",
    "\n",
    "            try:\n",
    "                for user_input in user_inputs:\n",
    "                    # Add the user input as a chat message\n",
    "                    await agent.add_chat_message(\n",
    "                        thread_id=thread.id, message=ChatMessageContent(role=AuthorRole.USER, content=user_input)\n",
    "                    )\n",
    "                    print(f\"# User: '{user_input}'\")\n",
    "                    # Invoke the agent for the specified thread\n",
    "                    async for content in agent.invoke(thread_id=thread.id):\n",
    "                        if content.role != AuthorRole.TOOL:\n",
    "                            print(f\"# Agent: {content.content}\")\n",
    "\n",
    "                    \n",
    "                    messages = await client.agents.list_messages(thread_id=thread.id)\n",
    "\n",
    "                    # OpenAIPageableListOfThreadMessage\n",
    "                    # OpenAIPageableListOfThreadMessage\n",
    "\n",
    "\n",
    "                    for file_path_annotation in messages.file_path_annotations:\n",
    "\n",
    "                            file_name = os.path.basename(file_path_annotation.text)\n",
    "\n",
    "                            await client.agents.save_file(file_id=file_path_annotation.file_path.file_id, file_name=file_name,target_dir=\"./trip\")\n",
    "\n",
    "                    \n",
    "            finally:\n",
    "                await client.agents.delete_thread(thread.id)\n",
    "                await client.agents.delete_agent(agent.id)\n",
    "\n",
    "\n",
    "        return \"Saved\""
   ]
  },
  {
   "cell_type": "markdown",
   "metadata": {},
   "source": [
    "# 说明：\n",
    "此代码设置了 Azure AI 代理，用于处理预订航班和酒店，并根据用户输入保存旅行计划。它使用 Azure 凭据来创建和配置代理，通过群聊处理用户输入，并确保在任务完成后进行适当的清理。代理使用特定的插件（BookingPlugin 和 SavePlugin）来执行各自的任务。\n"
   ]
  },
  {
   "cell_type": "code",
   "execution_count": null,
   "metadata": {
    "dotnet_interactive": {
     "language": "csharp"
    },
    "polyglot_notebook": {
     "kernelName": "csharp"
    }
   },
   "outputs": [],
   "source": [
    "async with (\n",
    "    DefaultAzureCredential() as creds,\n",
    "    AzureAIAgent.create_client(\n",
    "        credential=creds,\n",
    "        conn_str=ai_agent_settings.project_connection_string.get_secret_value(),\n",
    "    ) as client,\n",
    "):\n",
    "    BOOKING_AGENT_NAME = \"BookingAgent\"\n",
    "    BOOKING_AGENT_INSTRUCTIONS = \"\"\"\n",
    "    You are a booking agent. Help me book flights or hotels.\n",
    "\n",
    "    Thought: Please understand the user's intention and confirm whether to use the reservation system to complete the task.\n",
    "\n",
    "    Actions:\n",
    "    - For flight bookings, convert the departure and destination names into airport codes.\n",
    "    - Use the appropriate API for hotel or flight bookings. Verify that all necessary parameters are available. If any parameters are missing, ask the user to provide them. If all parameters are complete, call the corresponding function.\n",
    "    - If the task is not related to hotel or flight booking, respond with the final answer only.\n",
    "    - Output the results using a markdown table:\n",
    "      - For flight bookings, output separate outbound and return contents in the order of:\n",
    "        Departure Airport | Airline | Flight Number | Departure Time | Arrival Airport | Arrival Time | Duration | Airplane | Travel Class | Price (USD) | Legroom | Extensions | Carbon Emissions (kg).\n",
    "      - For hotel bookings, output in the order of:\n",
    "        Property Name | Property Description | Check-in Time | Check-out Time | Prices | Nearby Places | Hotel Class | GPS Coordinates.\n",
    "    \"\"\"\n",
    "\n",
    "    SAVE_AGENT_NAME = \"SaveAgent\"\n",
    "    SAVE_AGENT_INSTRUCTIONS = \"\"\"\n",
    "    You are a save tool agent. Help me to save the trip plan.\n",
    "    \"\"\"\n",
    "\n",
    "    # Create agent definition\n",
    "    booking_agent_definition = await client.agents.create_agent(\n",
    "        model=ai_agent_settings.model_deployment_name,\n",
    "        name=BOOKING_AGENT_NAME,\n",
    "        instructions=BOOKING_AGENT_INSTRUCTIONS,\n",
    "    )\n",
    "\n",
    "    # Create the AzureAI Agent\n",
    "    booking_agent = AzureAIAgent(\n",
    "        client=client,\n",
    "        definition=booking_agent_definition,\n",
    "        # Optionally configure polling options\n",
    "        # polling_options=RunPollingOptions(run_polling_interval=timedelta(seconds=1)),\n",
    "    )\n",
    "\n",
    "    # Add the sample plugin to the kernel\n",
    "    booking_agent.kernel.add_plugin(BookingPlugin(), plugin_name=\"booking\")\n",
    "\n",
    "    # Create agent definition\n",
    "    save_agent_definition = await client.agents.create_agent(\n",
    "        model=ai_agent_settings.model_deployment_name,\n",
    "        name=SAVE_AGENT_NAME,\n",
    "        instructions=SAVE_AGENT_INSTRUCTIONS\n",
    "    )\n",
    "\n",
    "    # Create the AzureAI Agent\n",
    "    save_agent = AzureAIAgent(\n",
    "        client=client,\n",
    "        definition=save_agent_definition,\n",
    "    )\n",
    "\n",
    "    save_agent.kernel.add_plugin(SavePlugin(), plugin_name=\"saving\")\n",
    "\n",
    "    user_inputs = [\n",
    "        \"I have a business trip from London to New York in Feb 20 2025 to Feb 27 2025 ,help me to book a hotel and fight tickets and save it\"\n",
    "    ]\n",
    "\n",
    "    chat = AgentGroupChat(\n",
    "        agents=[booking_agent, save_agent],\n",
    "        termination_strategy=ApprovalTerminationStrategy(agents=[save_agent], maximum_iterations=10),\n",
    "    )\n",
    "\n",
    "    try:\n",
    "        for user_input in user_inputs:\n",
    "            # Add the user input as a chat message\n",
    "            await chat.add_chat_message(\n",
    "                ChatMessageContent(role=AuthorRole.USER, content=user_input)\n",
    "            )\n",
    "            print(f\"# User: '{user_input}'\")\n",
    "\n",
    "            async for content in chat.invoke():\n",
    "                print(f\"# {content.role} - {content.name or '*'}: '{content.content}'\")\n",
    "\n",
    "            print(f\"# IS COMPLETE: {chat.is_complete}\")\n",
    "\n",
    "            print(\"*\" * 60)\n",
    "            print(\"Chat History (In Descending Order):\\n\")\n",
    "            async for message in chat.get_chat_messages(agent=save_agent):\n",
    "                print(f\"# {message.role} - {message.name or '*'}: '{message.content}'\")\n",
    "    finally:\n",
    "        await chat.reset()\n",
    "        await client.agents.delete_agent(save_agent.id)\n",
    "        await client.agents.delete_agent(booking_agent.id)\n"
   ]
  },
  {
   "cell_type": "markdown",
   "metadata": {},
   "source": [
    "\n---\n\n**免责声明**：  \n本文档使用AI翻译服务[Co-op Translator](https://github.com/Azure/co-op-translator)进行翻译。尽管我们努力确保翻译的准确性，但请注意，自动翻译可能包含错误或不准确之处。应以原始语言的文档作为权威来源。对于关键信息，建议使用专业人工翻译。我们不对因使用此翻译而产生的任何误解或误读承担责任。\n"
   ]
  }
 ],
 "metadata": {
  "kernelspec": {
   "display_name": "3.12.1",
   "language": "python",
   "name": "python3"
  },
  "language_info": {
   "codemirror_mode": {
    "name": "ipython",
    "version": 3
   },
   "file_extension": ".py",
   "mimetype": "text/x-python",
   "name": "python",
   "nbconvert_exporter": "python",
   "pygments_lexer": "ipython3",
   "version": "3.12.1"
  },
  "polyglot_notebook": {
   "kernelInfo": {
    "defaultKernelName": "csharp",
    "items": [
     {
      "aliases": [],
      "name": "csharp"
     }
    ]
   }
  },
  "coopTranslator": {
   "original_hash": "1baa60020a95eda27b7e9ecfda99965b",
   "translation_date": "2025-08-28T10:14:09+00:00",
   "source_file": "08-multi-agent/code_samples/08-python_multi_aiagent_bookinghotel.ipynb",
   "language_code": "zh"
  }
 },
 "nbformat": 4,
 "nbformat_minor": 2
}