{
 "cells": [
  {
   "cell_type": "markdown",
   "metadata": {},
   "source": [
    "# 使用 Azure AI Agent 服务和 Semantic Kernel 实现 RAG\n",
    "\n",
    "此代码片段展示了如何使用 `Azure AI Agent Service` 和 `Semantic Kernel` 创建和管理一个用于检索增强生成（RAG）的 Azure AI 代理。该代理根据检索到的上下文处理用户查询，并相应地提供准确的响应。\n"
   ]
  },
  {
   "cell_type": "markdown",
   "metadata": {},
   "source": []
  },
  {
   "cell_type": "markdown",
   "metadata": {},
   "source": [
    "SQLite版本修复  \n",
    "如果您遇到以下错误：  \n",
    "```\n",
    "RuntimeError: Your system has an unsupported version of sqlite3. Chroma requires sqlite3 >= 3.35.0\n",
    "```  \n",
    "\n",
    "请在笔记本开头取消注释以下代码块：  \n"
   ]
  },
  {
   "cell_type": "code",
   "execution_count": null,
   "metadata": {},
   "outputs": [],
   "source": [
    "# %pip install pysqlite3-binary\n",
    "# __import__('pysqlite3')\n",
    "# import sys\n",
    "# sys.modules['sqlite3'] = sys.modules.pop('pysqlite3')"
   ]
  },
  {
   "cell_type": "markdown",
   "metadata": {},
   "source": [
    "### 导入包\n",
    "以下代码导入了必要的包：\n"
   ]
  },
  {
   "cell_type": "code",
   "execution_count": null,
   "metadata": {},
   "outputs": [],
   "source": [
    "# Azure imports for project client and credentials\n",
    "from azure.ai.projects.models import FileSearchTool, OpenAIFile, VectorStore\n",
    "from azure.identity.aio import DefaultAzureCredential\n",
    "\n",
    "# Semantic Kernel imports\n",
    "from semantic_kernel.agents import AzureAIAgent, AzureAIAgentThread"
   ]
  },
  {
   "cell_type": "markdown",
   "metadata": {},
   "source": [
    "# 使用语义内核和 Azure AI Agent Service 实现检索增强生成\n",
    "\n",
    "本示例演示如何使用 **Azure AI Agent Service**，通过结合语言模型和上传文档中的领域特定上下文，执行 **检索增强生成 (RAG)**。\n",
    "\n",
    "### 工作原理\n",
    "\n",
    "1. **文档上传**：将包含信息（Contoso 的旅行保险政策）的 markdown 文件（document.md）上传到代理服务。\n",
    "\n",
    "2. **向量存储创建**：将文档索引到向量存储中，以便对其内容进行语义搜索。\n",
    "\n",
    "3. **代理配置**：使用 `gpt-4o` 模型实例化代理，并设置以下严格指令：\n",
    "   - 仅基于从文档中检索的内容回答问题。\n",
    "   - 如果问题超出范围，则拒绝回答。\n",
    "\n",
    "4. **文件搜索工具集成**：将 `FileSearchTool` 注册到代理中，使模型在推理过程中能够搜索并检索索引文档中的相关片段。\n",
    "\n",
    "5. **用户交互**：用户可以提问。如果在文档中找到相关信息，代理会生成一个有依据的回答。  \n",
    "   如果没有，代理会明确回应文档中没有足够的信息。\n"
   ]
  },
  {
   "cell_type": "markdown",
   "metadata": {},
   "source": [
    "### 主函数\n",
    "\n",
    "```python\n",
    "def main():\n",
    "    # 初始化程序\n",
    "    initialize_program()\n",
    "\n",
    "    # 检查用户输入\n",
    "    user_input = get_user_input()\n",
    "    if not validate_input(user_input):\n",
    "        print(\"输入无效，请重试。\")\n",
    "        return\n",
    "\n",
    "    # 处理数据\n",
    "    processed_data = process_data(user_input)\n",
    "\n",
    "    # 显示结果\n",
    "    display_results(processed_data)\n",
    "```\n",
    "\n",
    "### 功能概述\n",
    "\n",
    "- `initialize_program()`: 设置程序的初始状态。\n",
    "- `get_user_input()`: 获取用户输入。\n",
    "- `validate_input(input)`: 验证输入是否符合要求。\n",
    "- `process_data(data)`: 处理用户提供的数据。\n",
    "- `display_results(data)`: 显示处理后的结果。\n",
    "\n",
    "### 注意事项\n",
    "\n",
    "[!NOTE] 确保用户输入符合预期格式。\n",
    "\n",
    "[!WARNING] 如果输入数据过大，可能会导致性能问题。\n",
    "\n",
    "[!TIP] 使用示例数据进行测试以确保程序正常运行。\n",
    "\n",
    "[!IMPORTANT] 在修改代码时，请确保所有依赖项已更新。\n",
    "\n",
    "[!CAUTION] 不要在生产环境中使用未经测试的代码。\n",
    "\n",
    "### 示例代码\n",
    "\n",
    "以下是一个简单的示例，展示如何调用主函数：\n",
    "\n",
    "```python\n",
    "if __name__ == \"__main__\":\n",
    "    main()\n",
    "```\n",
    "\n",
    "### 常见问题\n",
    "\n",
    "#### 为什么我的输入被认为是无效的？\n",
    "- 确保输入符合预期格式，例如数字或字符串。\n",
    "- 检查是否有多余的空格或特殊字符。\n",
    "\n",
    "#### 如何提高数据处理的速度？\n",
    "- 优化算法以减少复杂度。\n",
    "- 使用更高效的数据结构，例如字典或集合。\n",
    "\n",
    "#### 程序是否支持多语言？\n",
    "- 当前版本仅支持英文，但可以通过修改代码添加多语言支持。\n",
    "\n",
    "### 结论\n",
    "\n",
    "通过遵循上述步骤和注意事项，您可以确保程序运行顺利并获得预期结果。如果遇到问题，请参考常见问题部分或联系开发团队。\n"
   ]
  },
  {
   "cell_type": "markdown",
   "metadata": {},
   "source": [
    "确保首先使用 Azure CLI 运行 `az login`，以便在使用 `DefaultAzureCredential` 时提供正确的身份验证上下文。Azure AI Agent Service 不使用 API 密钥。\n"
   ]
  },
  {
   "cell_type": "code",
   "execution_count": null,
   "metadata": {},
   "outputs": [],
   "source": [
    "async def main():\n",
    "    async with (\n",
    "        DefaultAzureCredential() as creds,\n",
    "        AzureAIAgent.create_client(credential=creds) as client,\n",
    "    ):\n",
    "        file: OpenAIFile = await client.agents.upload_file_and_poll(file_path=\"document.md\", purpose=\"assistants\")\n",
    "        vector_store: VectorStore = await client.agents.create_vector_store_and_poll(\n",
    "            file_ids=[file.id], name=\"my_vectorstore\"\n",
    "        )\n",
    "\n",
    "        # Define agent name and instructions tailored for RAG.\n",
    "        AGENT_NAME = \"RAGAgent\"\n",
    "        AGENT_INSTRUCTIONS = \"\"\"\n",
    "        You are an AI assistant designed to answer user questions using only the information retrieved from the provided document(s).\n",
    "\n",
    "        - If a user's question cannot be answered using the retrieved context, **you must clearly respond**: \n",
    "        \"I'm sorry, but the uploaded document does not contain the necessary information to answer that question.\"\n",
    "        - Do not answer from general knowledge or reasoning. Do not make assumptions or generate hypothetical explanations.\n",
    "        - Do not provide definitions, tutorials, or commentary that is not explicitly grounded in the content of the uploaded file(s).\n",
    "        - If a user asks a question like \"What is a Neural Network?\", and this is not discussed in the uploaded document, respond as instructed above.\n",
    "        - For questions that do have relevant content in the document (e.g., Contoso's travel insurance coverage), respond accurately, and cite the document explicitly.\n",
    "\n",
    "        You must behave as if you have no external knowledge beyond what is retrieved from the uploaded document.\n",
    "        \"\"\"\n",
    "\n",
    "        \n",
    "        # Create file search tool with uploaded resources\n",
    "        file_search = FileSearchTool(vector_store_ids=[vector_store.id])\n",
    "\n",
    "        # 3. Create an agent on the Azure AI agent service with the file search tool\n",
    "        agent_definition = await client.agents.create_agent(\n",
    "            model=\"gpt-4o\",  # This model should match your Azure OpenAI deployment.\n",
    "            name=AGENT_NAME,\n",
    "            instructions=AGENT_INSTRUCTIONS,\n",
    "            tools=file_search.definitions,\n",
    "            tool_resources=file_search.resources,\n",
    "        )\n",
    "        \n",
    "        # Create the Azure AI Agent using the client and definition.\n",
    "        agent = AzureAIAgent(\n",
    "            client=client,\n",
    "            definition=agent_definition,\n",
    "        )\n",
    "        \n",
    "        # Create a thread to hold the conversation\n",
    "        # If no thread is provided, a new thread will be\n",
    "        # created and returned with the initial response\n",
    "        thread: AzureAIAgentThread | None = None\n",
    "        \n",
    "        # Example user queries.\n",
    "        user_inputs = [\n",
    "            \"Can you explain Contoso's travel insurance coverage?\",  # Relevant context.\n",
    "            \"What is a Neural Network?\"  # No relevant context from the document. Will not contain a source annotation.\n",
    "        ]\n",
    "        \n",
    "        try:\n",
    "            for user_input in user_inputs:\n",
    "                print(f\"# User: '{user_input}'\")\n",
    "                # Invoke the agent for the specified thread for response\n",
    "                async for response in agent.invoke(messages=user_input, thread=thread):\n",
    "                    print(f\"# {response.name}: {response}\")\n",
    "                    thread = response.thread\n",
    "        finally:\n",
    "            # Clean up resources.\n",
    "            await thread.delete() if thread else None\n",
    "            await client.agents.delete_vector_store(vector_store.id)\n",
    "            await client.agents.delete_file(file.id)\n",
    "            await client.agents.delete_agent(agent.id)\n",
    "            print(\"\\nCleaned up agent, thread, file, and vector store.\")\n",
    "\n",
    "await main()"
   ]
  },
  {
   "cell_type": "markdown",
   "metadata": {},
   "source": [
    "好的，请提供需要翻译的 Markdown 文件内容，我将按照规则进行翻译。\n"
   ]
  },
  {
   "cell_type": "markdown",
   "metadata": {},
   "source": [
    "\n---\n\n**免责声明**：  \n本文档使用AI翻译服务 [Co-op Translator](https://github.com/Azure/co-op-translator) 进行翻译。尽管我们努力确保翻译的准确性，但请注意，自动翻译可能包含错误或不准确之处。原始语言的文档应被视为权威来源。对于重要信息，建议使用专业人工翻译。我们不对因使用此翻译而产生的任何误解或误读承担责任。\n"
   ]
  }
 ],
 "metadata": {
  "kernelspec": {
   "display_name": ".venv",
   "language": "python",
   "name": "python3"
  },
  "language_info": {
   "codemirror_mode": {
    "name": "ipython",
    "version": 3
   },
   "file_extension": ".py",
   "mimetype": "text/x-python",
   "name": "python",
   "nbconvert_exporter": "python",
   "pygments_lexer": "ipython3",
   "version": "3.11.11"
  },
  "coopTranslator": {
   "original_hash": "a86c3ddfbe35024993bbf563588aad48",
   "translation_date": "2025-08-28T10:26:34+00:00",
   "source_file": "05-agentic-rag/code_samples/05-semantic-kernel-azure-ai-agent.ipynb",
   "language_code": "zh"
  }
 },
 "nbformat": 4,
 "nbformat_minor": 2
}