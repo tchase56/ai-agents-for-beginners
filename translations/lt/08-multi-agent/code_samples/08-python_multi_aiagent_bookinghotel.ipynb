{
 "cells": [
  {
   "cell_type": "markdown",
   "metadata": {},
   "source": [
    "## **Pavyzdžiai: Daugiapakopiai AI agentai viešbučių rezervavimui**\n",
    "\n",
    "Šiandieniniame sparčiai besikeičiančiame pasaulyje verslo kelionės planavimas apima ne tik skrydžio ir viešbučio kambario rezervavimą. Tai reikalauja koordinacijos ir efektyvumo lygio, kurį pasiekti gali būti sudėtinga. Čia į pagalbą ateina daugiapakopiai AI agentai, kurie keičia mūsų kelionių poreikių valdymo būdą.\n",
    "\n",
    "Įsivaizduokite, kad turite komandą išmaniųjų agentų, kurie dirba kartu, kad tiksliai ir lengvai pasirūpintų kiekvienu jūsų kelionės aspektu. Naudodami pažangią AI technologiją, sukūrėme specializuotus agentus rezervavimo paslaugoms ir maršruto planavimui, užtikrindami sklandžią ir be streso kelionės patirtį.\n",
    "\n",
    "Tai yra pagrindinis scenarijus. Planuojant verslo kelionę, reikia pasikonsultuoti su verslo kelionių agentu, kad gautumėte informaciją apie lėktuvo bilietus, viešbučius ir pan. Naudodami AI agentus, galime sukurti agentus rezervavimo paslaugoms ir maršruto planavimui, kurie bendradarbiautų ir padidintų intelektualumo lygį.\n"
   ]
  },
  {
   "cell_type": "markdown",
   "metadata": {},
   "source": [
    "# Inicializuokite Azure AI Agent Service ir gaukite konfigūracijos informaciją iš **.env**\n",
    "\n",
    "### **.env**\n",
    "\n",
    "Sukurkite .env failą\n",
    "\n",
    "**.env** faile yra Azure AI Agent Service prisijungimo eilutė, AOAI naudojamas modelis ir atitinkama Google API paieškos paslaugos API, ENDPOINT ir kt.\n",
    "\n",
    "- **AZURE_AI_AGENT_MODEL_DEPLOYMENT_NAME** = \"Jūsų Azure AI Agent Service modelio diegimo pavadinimas\"\n",
    "\n",
    "[**NOTE**] Jums reikės modelio su 100,000 Rate Limit (žetonų per minutę) ir 600 Rate Limit (užklausų per minutę).\n",
    "\n",
    "  Modelį galite gauti Azure AI Foundry - Model and Endpoint.\n",
    "\n",
    "- **AZURE_AI_AGENT_PROJECT_CONNECTION_STRING** = \"Jūsų Azure AI Agent Service projekto prisijungimo eilutė\"\n",
    "\n",
    "  Projekto prisijungimo eilutę galite rasti savo projekto apžvalgoje AI ​​Foundry Portal ekrane.\n",
    "\n",
    "- **SERPAPI_SEARCH_API_KEY** = \"Jūsų SERPAPI paieškos API raktas\"\n",
    "- **SERPAPI_SEARCH_ENDPOINT** = \"Jūsų SERPAPI paieškos ENDPOINT\"\n",
    "\n",
    "Norėdami gauti Azure AI Agent Service modelio diegimo pavadinimą ir projekto prisijungimo eilutę, turite sukurti Azure AI Agent Service. Rekomenduojama naudoti [šį šabloną](https://portal.azure.com/#create/Microsoft.Template/uri/https%3A%2F%2Fraw.githubusercontent.com%2Ffosteramanda%2Fazure-agent-quickstart-templates%2Frefs%2Fheads%2Fmaster%2Fquickstarts%2Fmicrosoft.azure-ai-agent-service%2Fstandard-agent%2Fazuredeploy.json), kad sukurtumėte jį tiesiogiai (***Pastaba:*** Azure AI Agent Service šiuo metu nustatytas ribotame regione. Rekomenduojama pasitikrinti [šioje nuorodoje](https://learn.microsoft.com/en-us/azure/ai-services/agents/concepts/model-region-support), kaip nustatyti regioną).\n",
    "\n",
    "Agentui reikia prieigos prie SERPAPI. Rekomenduojama registruotis naudojant [šią nuorodą](https://serpapi.com/searches). Po registracijos galite gauti unikalų API raktą ir ENDPOINT.\n"
   ]
  },
  {
   "cell_type": "markdown",
   "metadata": {},
   "source": [
    "# Prisijungimas prie Azure\n",
    "\n",
    "Dabar reikia prisijungti prie Azure. Atidarykite terminalą VScode ir paleiskite komandą `az login`.\n"
   ]
  },
  {
   "cell_type": "markdown",
   "metadata": {},
   "source": [
    "# Nustatymas\n",
    "\n",
    "Norint paleisti šį užrašų knygelę, reikės įdiegti šias bibliotekas. Štai sąrašas reikalingų bibliotekų ir atitinkamos pip diegimo komandos:\n",
    "\n",
    "azure-identity: Azure autentifikacijai.  \n",
    "requests: HTTP užklausų vykdymui.  \n",
    "semantic-kernel: Semantinio branduolio struktūrai (jei tai yra pritaikyta ar specifinė biblioteka, gali reikėti ją įdiegti iš konkretaus šaltinio ar saugyklos).  \n"
   ]
  },
  {
   "cell_type": "code",
   "execution_count": null,
   "metadata": {},
   "outputs": [],
   "source": [
    "!pip install azure-identity\n",
    "!pip install requests\n",
    "!pip install semantic-kernel\n",
    "!pip install --upgrade semantic_kernel\n",
    "!pip install azure-cli"
   ]
  },
  {
   "cell_type": "markdown",
   "metadata": {},
   "source": [
    "# Paaiškinimas:  \n",
    "import asyncio: Tai importuoja asyncio modulį, kuris suteikia palaikymą asinchroniniam programavimui Python kalboje. Jis leidžia rašyti lygiagretų kodą naudojant async ir await sintaksę.  \n",
    "from typing: Annotated: Tai importuoja Annotated tipą iš typing modulio. Annotated naudojamas pridėti metaduomenis prie tipų užuominų, kurie gali būti naudingi įvairiems tikslams, tokiems kaip validacija, dokumentacija ar įrankių kūrimas.  \n"
   ]
  },
  {
   "cell_type": "code",
   "execution_count": null,
   "metadata": {
    "dotnet_interactive": {
     "language": "csharp"
    },
    "polyglot_notebook": {
     "kernelName": "csharp"
    }
   },
   "outputs": [],
   "source": [
    "import asyncio,os\n",
    "from typing import Annotated"
   ]
  },
  {
   "cell_type": "markdown",
   "metadata": {},
   "source": [
    "# Paaiškinimas:\n",
    "Naudodami from dotenv import load_dotenv ir load_dotenv(), galite lengvai valdyti konfigūracijos nustatymus ir jautrią informaciją (pvz., API raktus ir duomenų bazės URL) .env faile, laikydami juos atskirai nuo savo šaltinio kodo. Tai padaro jūsų programą saugesnę ir lengviau konfigūruojamą.\n"
   ]
  },
  {
   "cell_type": "code",
   "execution_count": null,
   "metadata": {},
   "outputs": [],
   "source": [
    "import os\n",
    "from dotenv import load_dotenv\n",
    "\n",
    "# Load environment variables from .env file\n",
    "load_dotenv()"
   ]
  },
  {
   "cell_type": "markdown",
   "metadata": {},
   "source": [
    "# Paaiškinimas:\n",
    "\n",
    "Importavimo sakinys: from azure.identity.aio import DefaultAzureCredential: Šis sakinys importuoja `DefaultAzureCredential` klasę iš `azure.identity.aio` modulio. Modulio pavadinime esantis `aio` nurodo, kad jis skirtas asinchroninėms operacijoms.\n",
    "\n",
    "`DefaultAzureCredential` paskirtis: `DefaultAzureCredential` klasė yra „Azure SDK for Python“ dalis. Ji suteikia numatytą būdą autentifikuotis naudojant „Azure“ paslaugas. Klasė bando autentifikuotis naudodama kelis metodus tam tikra tvarka, pavyzdžiui, aplinkos kintamuosius, valdomą tapatybę ir „Azure CLI“ kredencialus.\n",
    "\n",
    "Asinchroninės operacijos: `aio` modulis nurodo, kad `DefaultAzureCredential` klasė palaiko asinchronines operacijas. Tai reiškia, kad ją galima naudoti su `asyncio`, norint atlikti neblokuojančius autentifikacijos užklausimus.\n"
   ]
  },
  {
   "cell_type": "code",
   "execution_count": null,
   "metadata": {
    "dotnet_interactive": {
     "language": "csharp"
    },
    "polyglot_notebook": {
     "kernelName": "csharp"
    }
   },
   "outputs": [],
   "source": [
    "from azure.identity.aio import DefaultAzureCredential"
   ]
  },
  {
   "cell_type": "markdown",
   "metadata": {},
   "source": [
    "# Paaiškinimas:\n",
    "Importuojami įvairūs moduliai ir klasės iš semantinio branduolio paketo. Štai kiekvieno importo aprašymas:\n",
    "\n",
    "AgentGroupChat iš semantic_kernel.agents: Ši klasė tvarko funkcijas, susijusias su grupiniu pokalbiu AI agentams. AzureAIAgent ir AzureAIAgentSettings iš semantic_kernel.agents.azure_ai\n",
    "\n",
    "AzureAIAgent: Ši klasė naudojama kurti ir valdyti AI agentus, kurie naudoja Azure AI paslaugas.\n",
    "\n",
    "AzureAIAgentSettings: Ši klasė naudojama konfigūruoti nustatymus AzureAIAgent. TerminationStrategy iš semantic_kernel.agents.strategies.termination.termination_strategy:\n",
    "\n",
    "Ši klasė apibrėžia strategijas, kaip nutraukti AI agentų vykdymą tam tikromis sąlygomis. ChatMessageContent iš semantic_kernel.contents.chat_message_content:\n",
    "\n",
    "Ši klasė naudojama tvarkyti pokalbių žinučių turinį.\n",
    "AuthorRole iš semantic_kernel.contents.utils.author_role:\n",
    "\n",
    "Ši klasė apibrėžia skirtingus autorių vaidmenis pokalbių žinučių kontekste.\n",
    "\n",
    "kernel_function iš semantic_kernel.functions.kernel_function_decorator: Šis dekoratorius naudojamas apibrėžti branduolio funkcijas, kurios gali būti vykdomos semantinio branduolio sistemoje.\n",
    "Šie importai paruošia reikalingus komponentus AI agentų kūrimui ir valdymui, kurie gali sąveikauti grupinio pokalbio aplinkoje, galbūt atliekant užduotis, tokias kaip viešbučių rezervavimas ar panašios veiklos.\n"
   ]
  },
  {
   "cell_type": "code",
   "execution_count": null,
   "metadata": {
    "dotnet_interactive": {
     "language": "csharp"
    },
    "polyglot_notebook": {
     "kernelName": "csharp"
    }
   },
   "outputs": [],
   "source": [
    "from semantic_kernel.agents import AgentGroupChat\n",
    "from semantic_kernel.agents import AzureAIAgent, AzureAIAgentSettings\n",
    "from semantic_kernel.agents.strategies.termination.termination_strategy import TerminationStrategy\n",
    "from semantic_kernel.contents import ChatMessageContent\n",
    "from semantic_kernel.contents import AuthorRole\n",
    "from semantic_kernel.functions.kernel_function_decorator import kernel_function"
   ]
  },
  {
   "cell_type": "markdown",
   "metadata": {},
   "source": [
    "# Paaiškinimas:\n",
    "Toliau importuojame klasę CodeInterpreterTool iš modulio azure.ai.projects.models.\n",
    "\n",
    "CodeInterpreterTool: Ši klasė yra Azure AI SDK dalis ir naudojama kodui interpretuoti bei vykdyti AI projektų kontekste. Ji suteikia funkcijas, leidžiančias vykdyti kodo fragmentus, analizuoti kodą arba integruoti kodo vykdymą į AI darbo eigas. Šis importavimas paruošia būtiną komponentą, kad galėtumėte naudoti CodeInterpreterTool savo projekte, kuris gali būti naudingas užduotims, susijusioms su dinamišku kodo interpretavimu ir vykdymu.\n"
   ]
  },
  {
   "cell_type": "code",
   "execution_count": null,
   "metadata": {
    "dotnet_interactive": {
     "language": "csharp"
    },
    "polyglot_notebook": {
     "kernelName": "csharp"
    }
   },
   "outputs": [],
   "source": [
    "from azure.ai.projects.models import CodeInterpreterTool"
   ]
  },
  {
   "cell_type": "markdown",
   "metadata": {},
   "source": [
    "# Paaiškinimas:  \n",
    "ApprovalTerminationStrategy klasė pateikia specifinę strategiją, kaip nutraukti dirbtinio intelekto agento veikimą. Agentas bus sustabdytas, jei paskutinė žinutė jo sąveikos istorijoje turės žodį „išsaugota“. Tai gali būti naudinga situacijose, kai agento užduotis laikoma baigta, kai gaunamas patvirtinimas, kad kažkas buvo „išsaugota“. Apibrėžkite sąveikos metodą. Kai rezervacijos planas yra išsaugotas, galima sustabdyti gavus „išsaugota“ signalą.\n"
   ]
  },
  {
   "cell_type": "code",
   "execution_count": null,
   "metadata": {
    "dotnet_interactive": {
     "language": "csharp"
    },
    "polyglot_notebook": {
     "kernelName": "csharp"
    }
   },
   "outputs": [],
   "source": [
    "class ApprovalTerminationStrategy(TerminationStrategy):\n",
    "    \"\"\"A strategy for determining when an agent should terminate.\"\"\"\n",
    "\n",
    "    async def should_agent_terminate(self, agent, history):\n",
    "        \"\"\"Check if the agent should terminate.\"\"\"\n",
    "        return \"saved\" in history[-1].content.lower()"
   ]
  },
  {
   "cell_type": "markdown",
   "metadata": {},
   "source": [
    "# Paaiškinimas:\n",
    "\n",
    "Ši kodo eilutė inicijuoja AzureAIAgentSettings objektą su numatytaisiais arba iš anksto nustatytais nustatymais, iškviesdama create() metodą. Šis nustatymų objektas (ai_agent_settings) vėliau gali būti naudojamas AzureAIAgent egzemplioriui konfigūruoti ir valdyti.\n"
   ]
  },
  {
   "cell_type": "code",
   "execution_count": null,
   "metadata": {
    "dotnet_interactive": {
     "language": "csharp"
    },
    "polyglot_notebook": {
     "kernelName": "csharp"
    }
   },
   "outputs": [],
   "source": [
    "ai_agent_settings = AzureAIAgentSettings.create()"
   ]
  },
  {
   "cell_type": "markdown",
   "metadata": {},
   "source": [
    "# Paaiškinimas:\n",
    "Importavus requests biblioteką, galite lengvai atlikti HTTP užklausas ir sąveikauti su interneto paslaugomis savo Python kode.\n"
   ]
  },
  {
   "cell_type": "code",
   "execution_count": null,
   "metadata": {
    "dotnet_interactive": {
     "language": "csharp"
    },
    "polyglot_notebook": {
     "kernelName": "csharp"
    }
   },
   "outputs": [],
   "source": [
    "import requests"
   ]
  },
  {
   "cell_type": "markdown",
   "metadata": {},
   "source": [
    "# Paaiškinimas:\n",
    "Tai yra kintamasis, kuris saugo API raktą, reikalingą pasiekti SERP (Paieškos variklio rezultatų puslapio) API paslaugą. API raktas yra unikalus identifikatorius, naudojamas autentifikuoti užklausas, susijusias su jūsų paskyra.\n",
    "\n",
    "'GOOGLE_SEARCH_API_KEY': Tai yra vietos rezervavimo eilutė. Ją reikia pakeisti tikruoju SERP API raktu.\n",
    "\n",
    "Paskirtis: Šios eilutės paskirtis yra saugoti API raktą kintamajame, kad jis galėtų būti naudojamas autentifikuoti užklausas į SERP API paslaugą. API raktas yra būtinas norint pasiekti paslaugą ir atlikti paieškas.\n",
    "\n",
    "Kaip gauti SERP API raktą: Norėdami gauti SERP API raktą, atlikite šiuos bendruosius veiksmus adresu https://serpapi.com (tikslūs veiksmai gali skirtis priklausomai nuo naudojamos SERP API paslaugos):\n",
    "\n",
    "Pasirinkite SERP API paslaugą: Yra keletas SERP API paslaugų, tokių kaip SerpAPI, Google Custom Search JSON API ir kitos. Pasirinkite tą, kuri geriausiai atitinka jūsų poreikius.\n",
    "\n",
    "Užsiregistruokite paskyrai:\n",
    "\n",
    "Eikite į pasirinktos SERP API paslaugos svetainę https://www.serpapi.com ir užsiregistruokite paskyrai. Jums gali reikėti pateikti pagrindinę informaciją ir patvirtinti savo el. pašto adresą.\n",
    "\n",
    "Sukurkite API raktą:\n",
    "\n",
    "Po registracijos prisijunkite prie savo paskyros ir eikite į API skyrių arba valdymo skydelį. Ieškokite parinkties sukurti arba generuoti naują API raktą.\n",
    "Nukopijuokite API raktą:\n",
    "\n",
    "Kai API raktas bus sugeneruotas, nukopijuokite jį. Šis raktas bus naudojamas autentifikuoti jūsų užklausas į SERP API paslaugą.\n",
    "Pakeiskite vietos rezervavimo eilutę:\n",
    "\n",
    "Pakeiskite vietos rezervavimo eilutę savo .env faile.\n"
   ]
  },
  {
   "cell_type": "code",
   "execution_count": null,
   "metadata": {
    "dotnet_interactive": {
     "language": "csharp"
    },
    "polyglot_notebook": {
     "kernelName": "csharp"
    }
   },
   "outputs": [],
   "source": [
    "SERPAPI_SEARCH_API_KEY=os.getenv('SERPAPI_SEARCH_API_KEY')"
   ]
  },
  {
   "cell_type": "code",
   "execution_count": null,
   "metadata": {
    "dotnet_interactive": {
     "language": "csharp"
    },
    "polyglot_notebook": {
     "kernelName": "csharp"
    }
   },
   "outputs": [],
   "source": [
    "SERPAPI_SEARCH_ENDPOINT = os.getenv('SERPAPI_SEARCH_ENDPOINT')"
   ]
  },
  {
   "cell_type": "markdown",
   "metadata": {},
   "source": [
    "# Paaiškinimas:\n",
    "„BookingPlugin“ klasė suteikia metodus viešbučių ir skrydžių rezervavimui naudojant „Serpapi.com“ Google paieškos API. Ji sukuria reikalingus parametrus, siunčia API užklausas ir apdoroja atsakymus, kad pateiktų aktualią rezervavimo informaciją. API raktas (SERPAPI_SEARCH_API_KEY) ir galinis taškas (SERPAPI_SEARCH_ENDPOINT) naudojami autentifikacijai ir užklausų siuntimui į Google paieškos API.\n"
   ]
  },
  {
   "cell_type": "code",
   "execution_count": null,
   "metadata": {
    "dotnet_interactive": {
     "language": "csharp"
    },
    "polyglot_notebook": {
     "kernelName": "csharp"
    }
   },
   "outputs": [],
   "source": [
    "# Define Booking Plugin\n",
    "class BookingPlugin:\n",
    "    \"\"\"Booking Plugin for customers\"\"\"\n",
    "    @kernel_function(description=\"booking hotel\")\n",
    "    def booking_hotel(self,query: Annotated[str, \"The name of the city\"], check_in_date: Annotated[str, \"Hotel Check-in Time\"], check_out_date: Annotated[str, \"Hotel Check-in Time\"])-> Annotated[str, \"Return the result of booking hotel infomation\"]:\n",
    "\n",
    "        params = {\n",
    "            \"engine\": \"google_hotels\",\n",
    "            \"q\": query,\n",
    "            \"check_in_date\": check_in_date,\n",
    "            \"check_out_date\": check_out_date,\n",
    "            \"adults\": \"2\",\n",
    "            \"currency\": \"USD\",\n",
    "            \"gl\": \"us\",\n",
    "            \"hl\": \"en\",\n",
    "            \"api_key\": SERPAPI_SEARCH_API_KEY\n",
    "        }\n",
    "\n",
    "        response = requests.get(SERPAPI_SEARCH_ENDPOINT, params=params)\n",
    "        if response.status_code == 200:\n",
    "            response = response.json()\n",
    "            return response[\"properties\"]\n",
    "        else:\n",
    "            return None\n",
    "\n",
    "    \n",
    "    @kernel_function(description=\"booking fight\")\n",
    "    def  booking_fight(self,origin: Annotated[str, \"The name of Departure\"], destination: Annotated[str, \"The name of Destination\"], outbound_date: Annotated[str, \"The date of outbound\"], return_date: Annotated[str, \"The date of Return_date\"])-> Annotated[str, \"Return the result of booking fight infomation\"]:\n",
    "        \n",
    "        go_params = {\n",
    "            \"engine\": \"google_flights\",   \n",
    "            \"departure_id\": origin,\n",
    "            \"arrival_id\": destination,\n",
    "            \"outbound_date\": outbound_date,\n",
    "            \"return_date\": return_date,  \n",
    "            \"currency\": \"USD\",\n",
    "            \"hl\": \"en\",\n",
    "            \"api_key\": SERPAPI_SEARCH_API_KEY  \n",
    "        }\n",
    "\n",
    "        print(go_params)\n",
    "\n",
    "        go_response = requests.get(SERPAPI_SEARCH_ENDPOINT, params=go_params)\n",
    "\n",
    "\n",
    "        result = ''\n",
    "\n",
    "        if go_response.status_code == 200:\n",
    "            response = go_response.json()\n",
    "\n",
    "            result += \"# outbound \\n \" + str(response)\n",
    "        else:\n",
    "            print('error!!!')\n",
    "            # return None\n",
    "\n",
    "        \n",
    "        back_params = {\n",
    "            \"engine\": \"google_flights\",   \n",
    "            \"departure_id\": destination,\n",
    "            \"arrival_id\": origin,\n",
    "            \"outbound_date\": return_date,\n",
    "            \"return_date\": return_date,  \n",
    "            \"currency\": \"USD\",\n",
    "            \"hl\": \"en\",\n",
    "            \"api_key\": SERPAPI_SEARCH_API_KEY  \n",
    "        }\n",
    "\n",
    "\n",
    "        print(back_params)\n",
    "\n",
    "\n",
    "        back_response = requests.get(SERPAPI_SEARCH_ENDPOINT, params=back_params)\n",
    "\n",
    "\n",
    "\n",
    "        if back_response.status_code == 200:\n",
    "            response = back_response.json()\n",
    "\n",
    "            result += \"\\n # return \\n\"  + str(response)\n",
    "\n",
    "        else:\n",
    "            print('error!!!')\n",
    "            # return None\n",
    "        \n",
    "        print(result)\n",
    "\n",
    "        return result\n",
    "\n",
    "        \n"
   ]
  },
  {
   "cell_type": "markdown",
   "metadata": {},
   "source": [
    "# Paaiškinimas:\n",
    "SavePlugin klasė suteikia metodą saving_plan, kuris leidžia išsaugoti kelionių planus naudojant Azure AI paslaugas. Ji nustato Azure kredencialus, sukuria AI agentą, apdoroja vartotojo įvestis, kad sugeneruotų ir išsaugotų kelionės plano turinį, bei atlieka failų išsaugojimo ir valymo operacijas. Metodas grąžina \"Išsaugota\" sėkmingo užbaigimo atveju.\n"
   ]
  },
  {
   "cell_type": "code",
   "execution_count": null,
   "metadata": {
    "dotnet_interactive": {
     "language": "csharp"
    },
    "polyglot_notebook": {
     "kernelName": "csharp"
    }
   },
   "outputs": [],
   "source": [
    "class SavePlugin:\n",
    "    \"\"\"Save Plugin for customers\"\"\"\n",
    "    @kernel_function(description=\"saving plan\")\n",
    "    async def saving_plan(self,tripplan: Annotated[str, \"The content of trip plan\"])-> Annotated[str, \"Return status of save content\"]:\n",
    "\n",
    "        async with (\n",
    "            DefaultAzureCredential() as creds,\n",
    "            AzureAIAgent.create_client(\n",
    "                credential=creds,\n",
    "                conn_str=ai_agent_settings.project_connection_string.get_secret_value(),\n",
    "            ) as client,\n",
    "        ):\n",
    "\n",
    "            code_interpreter = CodeInterpreterTool()\n",
    "            \n",
    "            agent_definition = await client.agents.create_agent(\n",
    "                model=ai_agent_settings.model_deployment_name,\n",
    "                tools=code_interpreter.definitions,\n",
    "                tool_resources=code_interpreter.resources,\n",
    "            )\n",
    "\n",
    "\n",
    "            agent = AzureAIAgent(\n",
    "                client=client,\n",
    "                definition=agent_definition,\n",
    "            )\n",
    "\n",
    "            thread = await client.agents.create_thread()\n",
    "\n",
    "\n",
    "            user_inputs = [\n",
    "                \"\"\"\n",
    "            \n",
    "                        You are my Python programming assistant. Generate code,save \"\"\"+ tripplan +\n",
    "                        \n",
    "                    \"\"\"    \n",
    "                        and execute it according to the following requirements\n",
    "\n",
    "                        1. Save blog content to trip-{YYMMDDHHMMSS}.md\n",
    "\n",
    "                        2. give me the download this file link\n",
    "                    \"\"\"\n",
    "            ]\n",
    "\n",
    "\n",
    "\n",
    "            try:\n",
    "                for user_input in user_inputs:\n",
    "                    # Add the user input as a chat message\n",
    "                    await agent.add_chat_message(\n",
    "                        thread_id=thread.id, message=ChatMessageContent(role=AuthorRole.USER, content=user_input)\n",
    "                    )\n",
    "                    print(f\"# User: '{user_input}'\")\n",
    "                    # Invoke the agent for the specified thread\n",
    "                    async for content in agent.invoke(thread_id=thread.id):\n",
    "                        if content.role != AuthorRole.TOOL:\n",
    "                            print(f\"# Agent: {content.content}\")\n",
    "\n",
    "                    \n",
    "                    messages = await client.agents.list_messages(thread_id=thread.id)\n",
    "\n",
    "                    # OpenAIPageableListOfThreadMessage\n",
    "                    # OpenAIPageableListOfThreadMessage\n",
    "\n",
    "\n",
    "                    for file_path_annotation in messages.file_path_annotations:\n",
    "\n",
    "                            file_name = os.path.basename(file_path_annotation.text)\n",
    "\n",
    "                            await client.agents.save_file(file_id=file_path_annotation.file_path.file_id, file_name=file_name,target_dir=\"./trip\")\n",
    "\n",
    "                    \n",
    "            finally:\n",
    "                await client.agents.delete_thread(thread.id)\n",
    "                await client.agents.delete_agent(agent.id)\n",
    "\n",
    "\n",
    "        return \"Saved\""
   ]
  },
  {
   "cell_type": "markdown",
   "metadata": {},
   "source": [
    "# Paaiškinimas:\n",
    "Šis kodas sukuria Azure AI agentus, kurie tvarko skrydžių ir viešbučių rezervacijas bei išsaugo kelionių planus pagal vartotojo įvestis. Jis naudoja Azure prisijungimo duomenis agentams sukurti ir konfigūruoti, apdoroja vartotojo įvestis per grupinį pokalbį ir užtikrina tinkamą išteklių išvalymą po užduočių atlikimo. Agentai naudoja specifinius papildinius (BookingPlugin ir SavePlugin), kad atliktų savo užduotis.\n"
   ]
  },
  {
   "cell_type": "code",
   "execution_count": null,
   "metadata": {
    "dotnet_interactive": {
     "language": "csharp"
    },
    "polyglot_notebook": {
     "kernelName": "csharp"
    }
   },
   "outputs": [],
   "source": [
    "async with (\n",
    "    DefaultAzureCredential() as creds,\n",
    "    AzureAIAgent.create_client(\n",
    "        credential=creds,\n",
    "        conn_str=ai_agent_settings.project_connection_string.get_secret_value(),\n",
    "    ) as client,\n",
    "):\n",
    "    BOOKING_AGENT_NAME = \"BookingAgent\"\n",
    "    BOOKING_AGENT_INSTRUCTIONS = \"\"\"\n",
    "    You are a booking agent. Help me book flights or hotels.\n",
    "\n",
    "    Thought: Please understand the user's intention and confirm whether to use the reservation system to complete the task.\n",
    "\n",
    "    Actions:\n",
    "    - For flight bookings, convert the departure and destination names into airport codes.\n",
    "    - Use the appropriate API for hotel or flight bookings. Verify that all necessary parameters are available. If any parameters are missing, ask the user to provide them. If all parameters are complete, call the corresponding function.\n",
    "    - If the task is not related to hotel or flight booking, respond with the final answer only.\n",
    "    - Output the results using a markdown table:\n",
    "      - For flight bookings, output separate outbound and return contents in the order of:\n",
    "        Departure Airport | Airline | Flight Number | Departure Time | Arrival Airport | Arrival Time | Duration | Airplane | Travel Class | Price (USD) | Legroom | Extensions | Carbon Emissions (kg).\n",
    "      - For hotel bookings, output in the order of:\n",
    "        Property Name | Property Description | Check-in Time | Check-out Time | Prices | Nearby Places | Hotel Class | GPS Coordinates.\n",
    "    \"\"\"\n",
    "\n",
    "    SAVE_AGENT_NAME = \"SaveAgent\"\n",
    "    SAVE_AGENT_INSTRUCTIONS = \"\"\"\n",
    "    You are a save tool agent. Help me to save the trip plan.\n",
    "    \"\"\"\n",
    "\n",
    "    # Create agent definition\n",
    "    booking_agent_definition = await client.agents.create_agent(\n",
    "        model=ai_agent_settings.model_deployment_name,\n",
    "        name=BOOKING_AGENT_NAME,\n",
    "        instructions=BOOKING_AGENT_INSTRUCTIONS,\n",
    "    )\n",
    "\n",
    "    # Create the AzureAI Agent\n",
    "    booking_agent = AzureAIAgent(\n",
    "        client=client,\n",
    "        definition=booking_agent_definition,\n",
    "        # Optionally configure polling options\n",
    "        # polling_options=RunPollingOptions(run_polling_interval=timedelta(seconds=1)),\n",
    "    )\n",
    "\n",
    "    # Add the sample plugin to the kernel\n",
    "    booking_agent.kernel.add_plugin(BookingPlugin(), plugin_name=\"booking\")\n",
    "\n",
    "    # Create agent definition\n",
    "    save_agent_definition = await client.agents.create_agent(\n",
    "        model=ai_agent_settings.model_deployment_name,\n",
    "        name=SAVE_AGENT_NAME,\n",
    "        instructions=SAVE_AGENT_INSTRUCTIONS\n",
    "    )\n",
    "\n",
    "    # Create the AzureAI Agent\n",
    "    save_agent = AzureAIAgent(\n",
    "        client=client,\n",
    "        definition=save_agent_definition,\n",
    "    )\n",
    "\n",
    "    save_agent.kernel.add_plugin(SavePlugin(), plugin_name=\"saving\")\n",
    "\n",
    "    user_inputs = [\n",
    "        \"I have a business trip from London to New York in Feb 20 2025 to Feb 27 2025 ,help me to book a hotel and fight tickets and save it\"\n",
    "    ]\n",
    "\n",
    "    chat = AgentGroupChat(\n",
    "        agents=[booking_agent, save_agent],\n",
    "        termination_strategy=ApprovalTerminationStrategy(agents=[save_agent], maximum_iterations=10),\n",
    "    )\n",
    "\n",
    "    try:\n",
    "        for user_input in user_inputs:\n",
    "            # Add the user input as a chat message\n",
    "            await chat.add_chat_message(\n",
    "                ChatMessageContent(role=AuthorRole.USER, content=user_input)\n",
    "            )\n",
    "            print(f\"# User: '{user_input}'\")\n",
    "\n",
    "            async for content in chat.invoke():\n",
    "                print(f\"# {content.role} - {content.name or '*'}: '{content.content}'\")\n",
    "\n",
    "            print(f\"# IS COMPLETE: {chat.is_complete}\")\n",
    "\n",
    "            print(\"*\" * 60)\n",
    "            print(\"Chat History (In Descending Order):\\n\")\n",
    "            async for message in chat.get_chat_messages(agent=save_agent):\n",
    "                print(f\"# {message.role} - {message.name or '*'}: '{message.content}'\")\n",
    "    finally:\n",
    "        await chat.reset()\n",
    "        await client.agents.delete_agent(save_agent.id)\n",
    "        await client.agents.delete_agent(booking_agent.id)\n"
   ]
  },
  {
   "cell_type": "markdown",
   "metadata": {},
   "source": [
    "\n---\n\n**Atsakomybės apribojimas**:  \nŠis dokumentas buvo išverstas naudojant AI vertimo paslaugą [Co-op Translator](https://github.com/Azure/co-op-translator). Nors siekiame tikslumo, prašome atkreipti dėmesį, kad automatiniai vertimai gali turėti klaidų ar netikslumų. Originalus dokumentas jo gimtąja kalba turėtų būti laikomas autoritetingu šaltiniu. Kritinei informacijai rekomenduojama naudoti profesionalų žmogaus vertimą. Mes neprisiimame atsakomybės už nesusipratimus ar klaidingus interpretavimus, atsiradusius dėl šio vertimo naudojimo.\n"
   ]
  }
 ],
 "metadata": {
  "kernelspec": {
   "display_name": "3.12.1",
   "language": "python",
   "name": "python3"
  },
  "language_info": {
   "codemirror_mode": {
    "name": "ipython",
    "version": 3
   },
   "file_extension": ".py",
   "mimetype": "text/x-python",
   "name": "python",
   "nbconvert_exporter": "python",
   "pygments_lexer": "ipython3",
   "version": "3.12.1"
  },
  "polyglot_notebook": {
   "kernelInfo": {
    "defaultKernelName": "csharp",
    "items": [
     {
      "aliases": [],
      "name": "csharp"
     }
    ]
   }
  },
  "coopTranslator": {
   "original_hash": "1baa60020a95eda27b7e9ecfda99965b",
   "translation_date": "2025-08-30T15:42:20+00:00",
   "source_file": "08-multi-agent/code_samples/08-python_multi_aiagent_bookinghotel.ipynb",
   "language_code": "lt"
  }
 },
 "nbformat": 4,
 "nbformat_minor": 2
}