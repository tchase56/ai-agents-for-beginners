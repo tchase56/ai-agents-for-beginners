{
 "cells": [
  {
   "cell_type": "markdown",
   "metadata": {},
   "source": [
    "# RAG utilizând Azure AI Agent Service și Semantic Kernel\n",
    "\n",
    "Acest fragment de cod demonstrează cum să creezi și să gestionezi un agent Azure AI pentru generarea augmentată prin recuperare (RAG) folosind `Azure AI Agent Service` și `Semantic Kernel`. Agentul procesează interogările utilizatorului pe baza contextului recuperat și oferă răspunsuri precise în consecință.\n"
   ]
  },
  {
   "cell_type": "markdown",
   "metadata": {},
   "source": []
  },
  {
   "cell_type": "markdown",
   "metadata": {},
   "source": [
    "Corecție pentru versiunea SQLite  \n",
    "Dacă întâmpinați eroarea:  \n",
    "```\n",
    "RuntimeError: Your system has an unsupported version of sqlite3. Chroma requires sqlite3 >= 3.35.0\n",
    "```  \n",
    "\n",
    "Debifați acest bloc de cod la începutul notebook-ului:  \n"
   ]
  },
  {
   "cell_type": "code",
   "execution_count": null,
   "metadata": {},
   "outputs": [],
   "source": [
    "# %pip install pysqlite3-binary\n",
    "# __import__('pysqlite3')\n",
    "# import sys\n",
    "# sys.modules['sqlite3'] = sys.modules.pop('pysqlite3')"
   ]
  },
  {
   "cell_type": "markdown",
   "metadata": {},
   "source": [
    "### Importarea Pachetelor\n",
    "Codul următor importă pachetele necesare:\n"
   ]
  },
  {
   "cell_type": "code",
   "execution_count": null,
   "metadata": {},
   "outputs": [],
   "source": [
    "# Azure imports for project client and credentials\n",
    "from azure.ai.projects.models import FileSearchTool, OpenAIFile, VectorStore\n",
    "from azure.identity.aio import DefaultAzureCredential\n",
    "\n",
    "# Semantic Kernel imports\n",
    "from semantic_kernel.agents import AzureAIAgent, AzureAIAgentThread"
   ]
  },
  {
   "cell_type": "markdown",
   "metadata": {},
   "source": [
    "# Generare Augmentată prin Recuperare cu Semantic Kernel & Azure AI Agent Service\n",
    "\n",
    "Acest exemplu demonstrează cum să utilizați **Azure AI Agent Service** pentru a realiza **Generare Augmentată prin Recuperare (RAG)** prin combinarea unui model lingvistic cu context specific domeniului dintr-un document încărcat.\n",
    "\n",
    "### Cum Funcționează\n",
    "\n",
    "1. **Încărcarea Documentului**: Un fișier markdown (document.md) care conține informații (politica de asigurare de călătorie a Contoso) este încărcat în serviciul agentului.\n",
    "\n",
    "2. **Crearea Magazinului de Vectori**: Documentul este indexat într-un magazin de vectori pentru a permite căutarea semantică în conținutul său.\n",
    "\n",
    "3. **Configurarea Agentului**: Un agent este instanțiat utilizând modelul `gpt-4o` cu următoarele instrucțiuni stricte:\n",
    "   - Să răspundă doar la întrebări bazate pe conținutul recuperat din document.\n",
    "   - Să refuze să răspundă dacă întrebarea este în afara domeniului de aplicare.\n",
    "\n",
    "4. **Integrarea Instrumentului de Căutare în Fișiere**: `FileSearchTool` este înregistrat cu agentul, permițând modelului să caute și să recupereze fragmente relevante din documentul indexat în timpul inferenței.\n",
    "\n",
    "5. **Interacțiunea cu Utilizatorul**: Utilizatorii pot pune întrebări. Dacă se găsesc informații relevante în document, agentul generează un răspuns fundamentat.  \n",
    "   Dacă nu, agentul răspunde explicit că documentul nu conține informații suficiente.\n"
   ]
  },
  {
   "cell_type": "markdown",
   "metadata": {},
   "source": [
    "### Funcția Principală\n",
    "\n",
    "Aceasta este funcția principală a aplicației. Asigură-te că toate variabilele sunt inițializate corect înainte de a o apela.\n",
    "\n",
    "```python\n",
    "def main():\n",
    "    # Inițializarea aplicației\n",
    "    initialize_app()\n",
    "\n",
    "    # Executarea funcției principale\n",
    "    run_main_process()\n",
    "```\n",
    "\n",
    "### Configurare\n",
    "\n",
    "Această secțiune explică cum să configurezi aplicația înainte de rulare.\n",
    "\n",
    "1. Deschide fișierul de configurare.\n",
    "2. Modifică valorile necesare.\n",
    "3. Salvează modificările.\n",
    "\n",
    "### Erori Comune\n",
    "\n",
    "#### Eroare de inițializare\n",
    "Această eroare apare atunci când aplicația nu este configurată corect. Verifică fișierul de configurare pentru a te asigura că toate valorile sunt setate corect.\n",
    "\n",
    "#### Eroare de rulare\n",
    "Această eroare apare dacă funcția principală întâmpină o problemă. Verifică logurile pentru mai multe detalii.\n",
    "\n",
    "### Sfaturi\n",
    "\n",
    "- Folosește funcția `log_error` pentru a înregistra erorile.\n",
    "- Testează aplicația pe un mediu de dezvoltare înainte de a o lansa în producție.\n"
   ]
  },
  {
   "cell_type": "markdown",
   "metadata": {},
   "source": [
    "Asigurați-vă că rulați mai întâi `az login` folosind Azure CLI pentru ca contextul de autentificare corespunzător să fie furnizat în timp ce utilizați `DefaultAzureCredential`. Serviciul Azure AI Agent nu utilizează chei API.\n"
   ]
  },
  {
   "cell_type": "code",
   "execution_count": null,
   "metadata": {},
   "outputs": [],
   "source": [
    "async def main():\n",
    "    async with (\n",
    "        DefaultAzureCredential() as creds,\n",
    "        AzureAIAgent.create_client(credential=creds) as client,\n",
    "    ):\n",
    "        file: OpenAIFile = await client.agents.upload_file_and_poll(file_path=\"document.md\", purpose=\"assistants\")\n",
    "        vector_store: VectorStore = await client.agents.create_vector_store_and_poll(\n",
    "            file_ids=[file.id], name=\"my_vectorstore\"\n",
    "        )\n",
    "\n",
    "        # Define agent name and instructions tailored for RAG.\n",
    "        AGENT_NAME = \"RAGAgent\"\n",
    "        AGENT_INSTRUCTIONS = \"\"\"\n",
    "        You are an AI assistant designed to answer user questions using only the information retrieved from the provided document(s).\n",
    "\n",
    "        - If a user's question cannot be answered using the retrieved context, **you must clearly respond**: \n",
    "        \"I'm sorry, but the uploaded document does not contain the necessary information to answer that question.\"\n",
    "        - Do not answer from general knowledge or reasoning. Do not make assumptions or generate hypothetical explanations.\n",
    "        - Do not provide definitions, tutorials, or commentary that is not explicitly grounded in the content of the uploaded file(s).\n",
    "        - If a user asks a question like \"What is a Neural Network?\", and this is not discussed in the uploaded document, respond as instructed above.\n",
    "        - For questions that do have relevant content in the document (e.g., Contoso's travel insurance coverage), respond accurately, and cite the document explicitly.\n",
    "\n",
    "        You must behave as if you have no external knowledge beyond what is retrieved from the uploaded document.\n",
    "        \"\"\"\n",
    "\n",
    "        \n",
    "        # Create file search tool with uploaded resources\n",
    "        file_search = FileSearchTool(vector_store_ids=[vector_store.id])\n",
    "\n",
    "        # 3. Create an agent on the Azure AI agent service with the file search tool\n",
    "        agent_definition = await client.agents.create_agent(\n",
    "            model=\"gpt-4o\",  # This model should match your Azure OpenAI deployment.\n",
    "            name=AGENT_NAME,\n",
    "            instructions=AGENT_INSTRUCTIONS,\n",
    "            tools=file_search.definitions,\n",
    "            tool_resources=file_search.resources,\n",
    "        )\n",
    "        \n",
    "        # Create the Azure AI Agent using the client and definition.\n",
    "        agent = AzureAIAgent(\n",
    "            client=client,\n",
    "            definition=agent_definition,\n",
    "        )\n",
    "        \n",
    "        # Create a thread to hold the conversation\n",
    "        # If no thread is provided, a new thread will be\n",
    "        # created and returned with the initial response\n",
    "        thread: AzureAIAgentThread | None = None\n",
    "        \n",
    "        # Example user queries.\n",
    "        user_inputs = [\n",
    "            \"Can you explain Contoso's travel insurance coverage?\",  # Relevant context.\n",
    "            \"What is a Neural Network?\"  # No relevant context from the document. Will not contain a source annotation.\n",
    "        ]\n",
    "        \n",
    "        try:\n",
    "            for user_input in user_inputs:\n",
    "                print(f\"# User: '{user_input}'\")\n",
    "                # Invoke the agent for the specified thread for response\n",
    "                async for response in agent.invoke(messages=user_input, thread=thread):\n",
    "                    print(f\"# {response.name}: {response}\")\n",
    "                    thread = response.thread\n",
    "        finally:\n",
    "            # Clean up resources.\n",
    "            await thread.delete() if thread else None\n",
    "            await client.agents.delete_vector_store(vector_store.id)\n",
    "            await client.agents.delete_file(file.id)\n",
    "            await client.agents.delete_agent(agent.id)\n",
    "            print(\"\\nCleaned up agent, thread, file, and vector store.\")\n",
    "\n",
    "await main()"
   ]
  },
  {
   "cell_type": "markdown",
   "metadata": {},
   "source": [
    "Desigur! Te rog să îmi furnizezi fișierul Markdown pe care dorești să-l traduc.\n"
   ]
  },
  {
   "cell_type": "markdown",
   "metadata": {},
   "source": [
    "\n---\n\n**Declinare de responsabilitate**:  \nAcest document a fost tradus folosind serviciul de traducere AI [Co-op Translator](https://github.com/Azure/co-op-translator). Deși ne străduim să asigurăm acuratețea, vă rugăm să fiți conștienți că traducerile automate pot conține erori sau inexactități. Documentul original, în limba sa natală, ar trebui considerat sursa autoritară. Pentru informații critice, se recomandă traducerea profesională realizată de oameni. Nu ne asumăm responsabilitatea pentru eventualele neînțelegeri sau interpretări greșite care pot apărea din utilizarea acestei traduceri.\n"
   ]
  }
 ],
 "metadata": {
  "kernelspec": {
   "display_name": ".venv",
   "language": "python",
   "name": "python3"
  },
  "language_info": {
   "codemirror_mode": {
    "name": "ipython",
    "version": 3
   },
   "file_extension": ".py",
   "mimetype": "text/x-python",
   "name": "python",
   "nbconvert_exporter": "python",
   "pygments_lexer": "ipython3",
   "version": "3.11.11"
  },
  "coopTranslator": {
   "original_hash": "a86c3ddfbe35024993bbf563588aad48",
   "translation_date": "2025-08-29T22:06:27+00:00",
   "source_file": "05-agentic-rag/code_samples/05-semantic-kernel-azure-ai-agent.ipynb",
   "language_code": "ro"
  }
 },
 "nbformat": 4,
 "nbformat_minor": 2
}