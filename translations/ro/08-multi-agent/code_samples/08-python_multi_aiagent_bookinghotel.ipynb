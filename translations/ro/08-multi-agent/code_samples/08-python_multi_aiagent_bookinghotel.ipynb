{
 "cells": [
  {
   "cell_type": "markdown",
   "metadata": {},
   "source": [
    "## **Exemple: Agenți Multi-AI pentru rezervarea hotelurilor**\n",
    "\n",
    "În lumea agitată de astăzi, planificarea unei călătorii de afaceri implică mai mult decât simpla rezervare a unui zbor și a unei camere de hotel. Este nevoie de un nivel de coordonare și eficiență care poate fi dificil de atins. Aici intervin Agenții Multi-AI, revoluționând modul în care ne gestionăm nevoile de călătorie.\n",
    "\n",
    "Imaginează-ți că ai la dispoziție o echipă de agenți inteligenți, lucrând împreună pentru a gestiona fiecare aspect al călătoriei tale cu precizie și ușurință. Cu tehnologia noastră avansată de inteligență artificială, am creat agenți specializați pentru servicii de rezervare și organizarea itinerariului, asigurând o experiență de călătorie fără probleme și fără stres.\n",
    "\n",
    "Acesta este un scenariu de bază. Atunci când planificăm o călătorie de afaceri, trebuie să consultăm un agent de călătorii de afaceri pentru a obține informații despre biletele de avion, informații despre hoteluri etc. Prin intermediul Agenților AI, putem construi agenți pentru servicii de rezervare și agenți pentru organizarea itinerariului, care să colaboreze și să îmbunătățească nivelul de inteligență.\n"
   ]
  },
  {
   "cell_type": "markdown",
   "metadata": {},
   "source": [
    "# Inițializați Serviciul Azure AI Agent și obțineți informații de configurare din **.env**\n",
    "\n",
    "### **.env** \n",
    "\n",
    "Creați un fișier .env \n",
    "\n",
    "**.env** conține șirul de conexiune al Serviciului Azure AI Agent, modelul utilizat de AOAI și serviciul corespunzător Google API Search, ENDPOINT, etc.\n",
    "\n",
    "- **AZURE_AI_AGENT_MODEL_DEPLOYMENT_NAME** = \"Numele implementării modelului Serviciului Azure AI Agent\"\n",
    "\n",
    "[**NOTE**] Veți avea nevoie de un model cu o limită de 100.000 de rate (Tokeni pe minut) și o limită de 600 (Cereri pe minut).\n",
    "\n",
    "  Puteți obține modelul în Azure AI Foundry - Model și Endpoint. \n",
    "\n",
    "- **AZURE_AI_AGENT_PROJECT_CONNECTION_STRING** = \"Șirul de conexiune al proiectului Serviciului Azure AI Agent\"\n",
    "\n",
    "  Puteți obține șirul de conexiune al proiectului în ecranul de prezentare generală al proiectului din portalul AI ​​Foundry.\n",
    "\n",
    "- **SERPAPI_SEARCH_API_KEY** = \"Cheia API de căutare SERPAPI\"\n",
    "- **SERPAPI_SEARCH_ENDPOINT** = \"Endpoint-ul de căutare SERPAPI\"\n",
    "\n",
    "Pentru a obține Numele implementării modelului și Șirul de conexiune al proiectului Serviciului Azure AI Agent, trebuie să creați Serviciul Azure AI Agent. Este recomandat să utilizați [acest șablon](https://portal.azure.com/#create/Microsoft.Template/uri/https%3A%2F%2Fraw.githubusercontent.com%2Ffosteramanda%2Fazure-agent-quickstart-templates%2Frefs%2Fheads%2Fmaster%2Fquickstarts%2Fmicrosoft.azure-ai-agent-service%2Fstandard-agent%2Fazuredeploy.json) pentru a-l crea direct (***Notă:*** Serviciul Azure AI Agent este în prezent disponibil într-o regiune limitată. Este recomandat să consultați [acest link](https://learn.microsoft.com/en-us/azure/ai-services/agents/concepts/model-region-support) pentru a seta regiunea).\n",
    "\n",
    "Agentul trebuie să acceseze SERPAPI. Este recomandat să vă înregistrați folosind [acest link](https://serpapi.com/searches). După înregistrare, puteți obține o cheie API și un ENDPOINT unic.\n"
   ]
  },
  {
   "cell_type": "markdown",
   "metadata": {},
   "source": [
    "# Autentificare în Azure\n",
    "\n",
    "Acum trebuie să te autentifici în Azure. Deschide un terminal în VScode și rulează comanda `az login`.\n"
   ]
  },
  {
   "cell_type": "markdown",
   "metadata": {},
   "source": [
    "# Configurare\n",
    "\n",
    "Pentru a rula acest notebook, va trebui să instalați următoarele biblioteci. Iată o listă cu bibliotecile necesare și comenzile corespunzătoare pentru instalare cu pip:\n",
    "\n",
    "azure-identity: Pentru autentificarea Azure.  \n",
    "requests: Pentru efectuarea de cereri HTTP.  \n",
    "semantic-kernel: Pentru cadrul semantic kernel (presupunând că aceasta este o bibliotecă personalizată sau specifică, este posibil să fie nevoie să o instalați dintr-o sursă sau un depozit specific).  \n"
   ]
  },
  {
   "cell_type": "code",
   "execution_count": null,
   "metadata": {},
   "outputs": [],
   "source": [
    "!pip install azure-identity\n",
    "!pip install requests\n",
    "!pip install semantic-kernel\n",
    "!pip install --upgrade semantic_kernel\n",
    "!pip install azure-cli"
   ]
  },
  {
   "cell_type": "markdown",
   "metadata": {},
   "source": [
    "# Explicație: \n",
    "import asyncio: Acesta importă modulul asyncio, care oferă suport pentru programarea asincronă în Python. Permite scrierea de cod concurent folosind sintaxa async și await.  \n",
    "from typing import Annotated: Acesta importă tipul Annotated din modulul typing. Annotated este utilizat pentru a adăuga metadate la sugestiile de tip, ceea ce poate fi util pentru diverse scopuri, cum ar fi validarea, documentarea sau uneltele auxiliare.  \n"
   ]
  },
  {
   "cell_type": "code",
   "execution_count": null,
   "metadata": {
    "dotnet_interactive": {
     "language": "csharp"
    },
    "polyglot_notebook": {
     "kernelName": "csharp"
    }
   },
   "outputs": [],
   "source": [
    "import asyncio,os\n",
    "from typing import Annotated"
   ]
  },
  {
   "cell_type": "markdown",
   "metadata": {},
   "source": [
    "# Explicație:\n",
    "Prin utilizarea from dotenv import load_dotenv și load_dotenv(), poți gestiona cu ușurință setările de configurare și informațiile sensibile (cum ar fi cheile API și URL-urile bazei de date) într-un fișier .env, păstrându-le separate de codul sursă și făcând aplicația ta mai sigură și mai ușor de configurat.\n"
   ]
  },
  {
   "cell_type": "code",
   "execution_count": null,
   "metadata": {},
   "outputs": [],
   "source": [
    "import os\n",
    "from dotenv import load_dotenv\n",
    "\n",
    "# Load environment variables from .env file\n",
    "load_dotenv()"
   ]
  },
  {
   "cell_type": "markdown",
   "metadata": {},
   "source": [
    "# Explicație:\n",
    "\n",
    "Instrucțiune de import: from azure.identity.aio import DefaultAzureCredential: Aceasta importă clasa DefaultAzureCredential din modulul azure.identity.aio. Partea aio din numele modulului indică faptul că este conceput pentru operațiuni asincrone.\n",
    "\n",
    "Scopul DefaultAzureCredential: Clasa DefaultAzureCredential face parte din Azure SDK pentru Python. Oferă o metodă implicită pentru autentificarea cu serviciile Azure. Aceasta încearcă să se autentifice utilizând mai multe metode într-o ordine specifică, cum ar fi variabilele de mediu, identitatea gestionată și acreditivele Azure CLI.\n",
    "\n",
    "Operațiuni asincrone: Modulul aio indică faptul că clasa DefaultAzureCredential suportă operațiuni asincrone. Aceasta înseamnă că poate fi utilizată cu asyncio pentru a efectua cereri de autentificare fără blocare.\n"
   ]
  },
  {
   "cell_type": "code",
   "execution_count": null,
   "metadata": {
    "dotnet_interactive": {
     "language": "csharp"
    },
    "polyglot_notebook": {
     "kernelName": "csharp"
    }
   },
   "outputs": [],
   "source": [
    "from azure.identity.aio import DefaultAzureCredential"
   ]
  },
  {
   "cell_type": "markdown",
   "metadata": {},
   "source": [
    "# Explicație:\n",
    "Importă diverse module și clase din pachetul semantic_kernel. Iată o descriere detaliată a fiecărui import:\n",
    "\n",
    "AgentGroupChat din semantic_kernel.agents: Această clasă gestionează funcționalitățile legate de chat-ul de grup pentru agenții AI. AzureAIAgent și AzureAIAgentSettings din semantic_kernel.agents.azure_ai\n",
    "\n",
    "AzureAIAgent: Această clasă este utilizată pentru a crea și administra agenți AI care folosesc serviciile Azure AI.\n",
    "\n",
    "AzureAIAgentSettings: Această clasă este utilizată pentru a configura setările pentru AzureAIAgent. TerminationStrategy din semantic_kernel.agents.strategies.termination.termination_strategy:\n",
    "\n",
    "Această clasă definește strategii pentru oprirea execuției agenților AI în anumite condiții. ChatMessageContent din semantic_kernel.contents.chat_message_content:\n",
    "\n",
    "Această clasă este utilizată pentru a gestiona conținutul mesajelor din chat.\n",
    "AuthorRole din semantic_kernel.contents.utils.author_role:\n",
    "\n",
    "Această clasă definește diferite roluri pentru autori în contextul mesajelor din chat.\n",
    "\n",
    "kernel_function din semantic_kernel.functions.kernel_function_decorator: Acest decorator este utilizat pentru a defini funcții kernel, care sunt funcții ce pot fi executate în cadrul framework-ului semantic kernel.\n",
    "Aceste importuri configurează componentele necesare pentru crearea și gestionarea agenților AI care pot interacționa într-un mediu de chat de grup, posibil pentru sarcini precum rezervarea hotelurilor sau activități similare.\n"
   ]
  },
  {
   "cell_type": "code",
   "execution_count": null,
   "metadata": {
    "dotnet_interactive": {
     "language": "csharp"
    },
    "polyglot_notebook": {
     "kernelName": "csharp"
    }
   },
   "outputs": [],
   "source": [
    "from semantic_kernel.agents import AgentGroupChat\n",
    "from semantic_kernel.agents import AzureAIAgent, AzureAIAgentSettings\n",
    "from semantic_kernel.agents.strategies.termination.termination_strategy import TerminationStrategy\n",
    "from semantic_kernel.contents import ChatMessageContent\n",
    "from semantic_kernel.contents import AuthorRole\n",
    "from semantic_kernel.functions.kernel_function_decorator import kernel_function"
   ]
  },
  {
   "cell_type": "markdown",
   "metadata": {},
   "source": [
    "# Explicație:\n",
    "În continuare, importăm clasa CodeInterpreterTool din modulul azure.ai.projects.models.\n",
    "\n",
    "CodeInterpreterTool: Această clasă face parte din SDK-ul Azure AI și este utilizată pentru a interpreta și executa cod în contextul proiectelor AI. Oferă funcționalități pentru rularea fragmentelor de cod, analizarea codului sau integrarea execuției codului în fluxurile de lucru AI.  \n",
    "Acest import configurează componenta necesară pentru utilizarea CodeInterpreterTool în proiectul tău, ceea ce poate fi util pentru sarcini care implică interpretarea și execuția dinamică a codului.\n"
   ]
  },
  {
   "cell_type": "code",
   "execution_count": null,
   "metadata": {
    "dotnet_interactive": {
     "language": "csharp"
    },
    "polyglot_notebook": {
     "kernelName": "csharp"
    }
   },
   "outputs": [],
   "source": [
    "from azure.ai.projects.models import CodeInterpreterTool"
   ]
  },
  {
   "cell_type": "markdown",
   "metadata": {},
   "source": [
    "# Explicație: \n",
    "Clasa ApprovalTerminationStrategy oferă o strategie specifică pentru oprirea funcționării unui agent AI. Agentul se va opri dacă ultimul mesaj din istoricul său de interacțiune conține cuvântul „salvat”. Acest lucru poate fi util în scenarii în care sarcina agentului este considerată finalizată odată ce primește confirmarea că ceva a fost „salvat”. Definește metoda de interacțiune. După ce planul de rezervare este salvat, acesta poate fi oprit la primirea semnalului „salvat”.\n"
   ]
  },
  {
   "cell_type": "code",
   "execution_count": null,
   "metadata": {
    "dotnet_interactive": {
     "language": "csharp"
    },
    "polyglot_notebook": {
     "kernelName": "csharp"
    }
   },
   "outputs": [],
   "source": [
    "class ApprovalTerminationStrategy(TerminationStrategy):\n",
    "    \"\"\"A strategy for determining when an agent should terminate.\"\"\"\n",
    "\n",
    "    async def should_agent_terminate(self, agent, history):\n",
    "        \"\"\"Check if the agent should terminate.\"\"\"\n",
    "        return \"saved\" in history[-1].content.lower()"
   ]
  },
  {
   "cell_type": "markdown",
   "metadata": {},
   "source": [
    "# Explicație:\n",
    "\n",
    "Linia de cod inițializează un obiect AzureAIAgentSettings cu setări implicite sau predefinite prin apelarea metodei create(). Acest obiect de setări (ai_agent_settings) poate fi utilizat ulterior pentru a configura și gestiona o instanță AzureAIAgent.\n"
   ]
  },
  {
   "cell_type": "code",
   "execution_count": null,
   "metadata": {
    "dotnet_interactive": {
     "language": "csharp"
    },
    "polyglot_notebook": {
     "kernelName": "csharp"
    }
   },
   "outputs": [],
   "source": [
    "ai_agent_settings = AzureAIAgentSettings.create()"
   ]
  },
  {
   "cell_type": "markdown",
   "metadata": {},
   "source": [
    "# Explicație:\n",
    "Prin importarea bibliotecii requests, poți face cu ușurință cereri HTTP și interacționa cu servicii web în codul tău Python.\n"
   ]
  },
  {
   "cell_type": "code",
   "execution_count": null,
   "metadata": {
    "dotnet_interactive": {
     "language": "csharp"
    },
    "polyglot_notebook": {
     "kernelName": "csharp"
    }
   },
   "outputs": [],
   "source": [
    "import requests"
   ]
  },
  {
   "cell_type": "markdown",
   "metadata": {},
   "source": [
    "# Explicație:\n",
    "Aceasta este o variabilă care stochează cheia API pentru accesarea unui serviciu API SERP (Search Engine Results Page). O cheie API este un identificator unic utilizat pentru autentificarea cererilor asociate contului tău.\n",
    "\n",
    "'GOOGLE_SEARCH_API_KEY': Acesta este un șir de caractere de tip placeholder. Trebuie să înlocuiești ''GOOGLE_SEARCH_API_KEY' cu cheia ta reală de API SERP.\n",
    "\n",
    "Scop: Scopul acestei linii este de a stoca cheia API într-o variabilă, astfel încât să poată fi utilizată pentru autentificarea cererilor către serviciul API SERP. Cheia API este necesară pentru a accesa serviciul și a efectua căutări.\n",
    "\n",
    "Cum să obții o cheie API SERP: Pentru a obține o cheie API SERP, urmează acești pași generali la https://serpapi.com (pașii exacti pot varia în funcție de serviciul API SERP specific pe care îl utilizezi):\n",
    "\n",
    "Alege un serviciu API SERP: Există mai multe servicii API SERP disponibile, cum ar fi SerpAPI, Google Custom Search JSON API și altele. Alege-l pe cel care se potrivește cel mai bine nevoilor tale.\n",
    "\n",
    "Înregistrează-te pentru un cont:\n",
    "\n",
    "Accesează site-ul serviciului API SERP ales https://www.serpapi.com și înregistrează-te pentru un cont. Este posibil să fie necesar să furnizezi câteva informații de bază și să îți verifici adresa de email.\n",
    "\n",
    "Creează o cheie API:\n",
    "\n",
    "După ce te-ai înregistrat, conectează-te la contul tău și navighează la secțiunea API sau la tabloul de bord. Caută o opțiune pentru a crea sau genera o nouă cheie API.\n",
    "Copiază cheia API:\n",
    "\n",
    "După ce cheia API este generată, copiaz-o. Această cheie va fi utilizată pentru autentificarea cererilor către serviciul API SERP.\n",
    "Înlocuiește placeholder-ul:\n",
    "\n",
    "Înlocuiește placeholder-ul din fișierul tău .env\n"
   ]
  },
  {
   "cell_type": "code",
   "execution_count": null,
   "metadata": {
    "dotnet_interactive": {
     "language": "csharp"
    },
    "polyglot_notebook": {
     "kernelName": "csharp"
    }
   },
   "outputs": [],
   "source": [
    "SERPAPI_SEARCH_API_KEY=os.getenv('SERPAPI_SEARCH_API_KEY')"
   ]
  },
  {
   "cell_type": "code",
   "execution_count": null,
   "metadata": {
    "dotnet_interactive": {
     "language": "csharp"
    },
    "polyglot_notebook": {
     "kernelName": "csharp"
    }
   },
   "outputs": [],
   "source": [
    "SERPAPI_SEARCH_ENDPOINT = os.getenv('SERPAPI_SEARCH_ENDPOINT')"
   ]
  },
  {
   "cell_type": "markdown",
   "metadata": {},
   "source": [
    "# Explicație:\n",
    "Clasa BookingPlugin oferă metode pentru rezervarea hotelurilor și zborurilor utilizând API-ul de Căutare Google de la Serpapi.com. Aceasta construiește parametrii necesari, trimite cereri API și procesează răspunsurile pentru a returna informații relevante despre rezervări. Cheia API (SERPAPI_SEARCH_API_KEY) și endpoint-ul (SERPAPI_SEARCH_ENDPOINT) sunt utilizate pentru autentificare și trimiterea cererilor către API-ul de Căutare Google.\n"
   ]
  },
  {
   "cell_type": "code",
   "execution_count": null,
   "metadata": {
    "dotnet_interactive": {
     "language": "csharp"
    },
    "polyglot_notebook": {
     "kernelName": "csharp"
    }
   },
   "outputs": [],
   "source": [
    "# Define Booking Plugin\n",
    "class BookingPlugin:\n",
    "    \"\"\"Booking Plugin for customers\"\"\"\n",
    "    @kernel_function(description=\"booking hotel\")\n",
    "    def booking_hotel(self,query: Annotated[str, \"The name of the city\"], check_in_date: Annotated[str, \"Hotel Check-in Time\"], check_out_date: Annotated[str, \"Hotel Check-in Time\"])-> Annotated[str, \"Return the result of booking hotel infomation\"]:\n",
    "\n",
    "        params = {\n",
    "            \"engine\": \"google_hotels\",\n",
    "            \"q\": query,\n",
    "            \"check_in_date\": check_in_date,\n",
    "            \"check_out_date\": check_out_date,\n",
    "            \"adults\": \"2\",\n",
    "            \"currency\": \"USD\",\n",
    "            \"gl\": \"us\",\n",
    "            \"hl\": \"en\",\n",
    "            \"api_key\": SERPAPI_SEARCH_API_KEY\n",
    "        }\n",
    "\n",
    "        response = requests.get(SERPAPI_SEARCH_ENDPOINT, params=params)\n",
    "        if response.status_code == 200:\n",
    "            response = response.json()\n",
    "            return response[\"properties\"]\n",
    "        else:\n",
    "            return None\n",
    "\n",
    "    \n",
    "    @kernel_function(description=\"booking fight\")\n",
    "    def  booking_fight(self,origin: Annotated[str, \"The name of Departure\"], destination: Annotated[str, \"The name of Destination\"], outbound_date: Annotated[str, \"The date of outbound\"], return_date: Annotated[str, \"The date of Return_date\"])-> Annotated[str, \"Return the result of booking fight infomation\"]:\n",
    "        \n",
    "        go_params = {\n",
    "            \"engine\": \"google_flights\",   \n",
    "            \"departure_id\": origin,\n",
    "            \"arrival_id\": destination,\n",
    "            \"outbound_date\": outbound_date,\n",
    "            \"return_date\": return_date,  \n",
    "            \"currency\": \"USD\",\n",
    "            \"hl\": \"en\",\n",
    "            \"api_key\": SERPAPI_SEARCH_API_KEY  \n",
    "        }\n",
    "\n",
    "        print(go_params)\n",
    "\n",
    "        go_response = requests.get(SERPAPI_SEARCH_ENDPOINT, params=go_params)\n",
    "\n",
    "\n",
    "        result = ''\n",
    "\n",
    "        if go_response.status_code == 200:\n",
    "            response = go_response.json()\n",
    "\n",
    "            result += \"# outbound \\n \" + str(response)\n",
    "        else:\n",
    "            print('error!!!')\n",
    "            # return None\n",
    "\n",
    "        \n",
    "        back_params = {\n",
    "            \"engine\": \"google_flights\",   \n",
    "            \"departure_id\": destination,\n",
    "            \"arrival_id\": origin,\n",
    "            \"outbound_date\": return_date,\n",
    "            \"return_date\": return_date,  \n",
    "            \"currency\": \"USD\",\n",
    "            \"hl\": \"en\",\n",
    "            \"api_key\": SERPAPI_SEARCH_API_KEY  \n",
    "        }\n",
    "\n",
    "\n",
    "        print(back_params)\n",
    "\n",
    "\n",
    "        back_response = requests.get(SERPAPI_SEARCH_ENDPOINT, params=back_params)\n",
    "\n",
    "\n",
    "\n",
    "        if back_response.status_code == 200:\n",
    "            response = back_response.json()\n",
    "\n",
    "            result += \"\\n # return \\n\"  + str(response)\n",
    "\n",
    "        else:\n",
    "            print('error!!!')\n",
    "            # return None\n",
    "        \n",
    "        print(result)\n",
    "\n",
    "        return result\n",
    "\n",
    "        \n"
   ]
  },
  {
   "cell_type": "markdown",
   "metadata": {},
   "source": [
    "# Explicație:\n",
    "Clasa SavePlugin oferă o metodă, saving_plan, pentru a salva planuri de călătorie utilizând serviciile Azure AI. Aceasta configurează acreditivele Azure, creează un agent AI, procesează intrările utilizatorului pentru a genera și salva conținutul planului de călătorie și gestionează operațiunile de salvare a fișierelor și curățare. Metoda returnează \"Saved\" la finalizarea cu succes.\n"
   ]
  },
  {
   "cell_type": "code",
   "execution_count": null,
   "metadata": {
    "dotnet_interactive": {
     "language": "csharp"
    },
    "polyglot_notebook": {
     "kernelName": "csharp"
    }
   },
   "outputs": [],
   "source": [
    "class SavePlugin:\n",
    "    \"\"\"Save Plugin for customers\"\"\"\n",
    "    @kernel_function(description=\"saving plan\")\n",
    "    async def saving_plan(self,tripplan: Annotated[str, \"The content of trip plan\"])-> Annotated[str, \"Return status of save content\"]:\n",
    "\n",
    "        async with (\n",
    "            DefaultAzureCredential() as creds,\n",
    "            AzureAIAgent.create_client(\n",
    "                credential=creds,\n",
    "                conn_str=ai_agent_settings.project_connection_string.get_secret_value(),\n",
    "            ) as client,\n",
    "        ):\n",
    "\n",
    "            code_interpreter = CodeInterpreterTool()\n",
    "            \n",
    "            agent_definition = await client.agents.create_agent(\n",
    "                model=ai_agent_settings.model_deployment_name,\n",
    "                tools=code_interpreter.definitions,\n",
    "                tool_resources=code_interpreter.resources,\n",
    "            )\n",
    "\n",
    "\n",
    "            agent = AzureAIAgent(\n",
    "                client=client,\n",
    "                definition=agent_definition,\n",
    "            )\n",
    "\n",
    "            thread = await client.agents.create_thread()\n",
    "\n",
    "\n",
    "            user_inputs = [\n",
    "                \"\"\"\n",
    "            \n",
    "                        You are my Python programming assistant. Generate code,save \"\"\"+ tripplan +\n",
    "                        \n",
    "                    \"\"\"    \n",
    "                        and execute it according to the following requirements\n",
    "\n",
    "                        1. Save blog content to trip-{YYMMDDHHMMSS}.md\n",
    "\n",
    "                        2. give me the download this file link\n",
    "                    \"\"\"\n",
    "            ]\n",
    "\n",
    "\n",
    "\n",
    "            try:\n",
    "                for user_input in user_inputs:\n",
    "                    # Add the user input as a chat message\n",
    "                    await agent.add_chat_message(\n",
    "                        thread_id=thread.id, message=ChatMessageContent(role=AuthorRole.USER, content=user_input)\n",
    "                    )\n",
    "                    print(f\"# User: '{user_input}'\")\n",
    "                    # Invoke the agent for the specified thread\n",
    "                    async for content in agent.invoke(thread_id=thread.id):\n",
    "                        if content.role != AuthorRole.TOOL:\n",
    "                            print(f\"# Agent: {content.content}\")\n",
    "\n",
    "                    \n",
    "                    messages = await client.agents.list_messages(thread_id=thread.id)\n",
    "\n",
    "                    # OpenAIPageableListOfThreadMessage\n",
    "                    # OpenAIPageableListOfThreadMessage\n",
    "\n",
    "\n",
    "                    for file_path_annotation in messages.file_path_annotations:\n",
    "\n",
    "                            file_name = os.path.basename(file_path_annotation.text)\n",
    "\n",
    "                            await client.agents.save_file(file_id=file_path_annotation.file_path.file_id, file_name=file_name,target_dir=\"./trip\")\n",
    "\n",
    "                    \n",
    "            finally:\n",
    "                await client.agents.delete_thread(thread.id)\n",
    "                await client.agents.delete_agent(agent.id)\n",
    "\n",
    "\n",
    "        return \"Saved\""
   ]
  },
  {
   "cell_type": "markdown",
   "metadata": {},
   "source": [
    "# Explicație:\n",
    "Acest cod configurează agenți Azure AI pentru a gestiona rezervarea de zboruri și hoteluri, precum și salvarea planurilor de călătorie pe baza inputurilor utilizatorului. Folosește acreditivele Azure pentru a crea și configura agenții, procesează inputurile utilizatorului printr-un chat de grup și asigură curățarea corespunzătoare după finalizarea sarcinilor. Agenții utilizează pluginuri specifice (BookingPlugin și SavePlugin) pentru a îndeplini sarcinile respective.\n"
   ]
  },
  {
   "cell_type": "code",
   "execution_count": null,
   "metadata": {
    "dotnet_interactive": {
     "language": "csharp"
    },
    "polyglot_notebook": {
     "kernelName": "csharp"
    }
   },
   "outputs": [],
   "source": [
    "async with (\n",
    "    DefaultAzureCredential() as creds,\n",
    "    AzureAIAgent.create_client(\n",
    "        credential=creds,\n",
    "        conn_str=ai_agent_settings.project_connection_string.get_secret_value(),\n",
    "    ) as client,\n",
    "):\n",
    "    BOOKING_AGENT_NAME = \"BookingAgent\"\n",
    "    BOOKING_AGENT_INSTRUCTIONS = \"\"\"\n",
    "    You are a booking agent. Help me book flights or hotels.\n",
    "\n",
    "    Thought: Please understand the user's intention and confirm whether to use the reservation system to complete the task.\n",
    "\n",
    "    Actions:\n",
    "    - For flight bookings, convert the departure and destination names into airport codes.\n",
    "    - Use the appropriate API for hotel or flight bookings. Verify that all necessary parameters are available. If any parameters are missing, ask the user to provide them. If all parameters are complete, call the corresponding function.\n",
    "    - If the task is not related to hotel or flight booking, respond with the final answer only.\n",
    "    - Output the results using a markdown table:\n",
    "      - For flight bookings, output separate outbound and return contents in the order of:\n",
    "        Departure Airport | Airline | Flight Number | Departure Time | Arrival Airport | Arrival Time | Duration | Airplane | Travel Class | Price (USD) | Legroom | Extensions | Carbon Emissions (kg).\n",
    "      - For hotel bookings, output in the order of:\n",
    "        Property Name | Property Description | Check-in Time | Check-out Time | Prices | Nearby Places | Hotel Class | GPS Coordinates.\n",
    "    \"\"\"\n",
    "\n",
    "    SAVE_AGENT_NAME = \"SaveAgent\"\n",
    "    SAVE_AGENT_INSTRUCTIONS = \"\"\"\n",
    "    You are a save tool agent. Help me to save the trip plan.\n",
    "    \"\"\"\n",
    "\n",
    "    # Create agent definition\n",
    "    booking_agent_definition = await client.agents.create_agent(\n",
    "        model=ai_agent_settings.model_deployment_name,\n",
    "        name=BOOKING_AGENT_NAME,\n",
    "        instructions=BOOKING_AGENT_INSTRUCTIONS,\n",
    "    )\n",
    "\n",
    "    # Create the AzureAI Agent\n",
    "    booking_agent = AzureAIAgent(\n",
    "        client=client,\n",
    "        definition=booking_agent_definition,\n",
    "        # Optionally configure polling options\n",
    "        # polling_options=RunPollingOptions(run_polling_interval=timedelta(seconds=1)),\n",
    "    )\n",
    "\n",
    "    # Add the sample plugin to the kernel\n",
    "    booking_agent.kernel.add_plugin(BookingPlugin(), plugin_name=\"booking\")\n",
    "\n",
    "    # Create agent definition\n",
    "    save_agent_definition = await client.agents.create_agent(\n",
    "        model=ai_agent_settings.model_deployment_name,\n",
    "        name=SAVE_AGENT_NAME,\n",
    "        instructions=SAVE_AGENT_INSTRUCTIONS\n",
    "    )\n",
    "\n",
    "    # Create the AzureAI Agent\n",
    "    save_agent = AzureAIAgent(\n",
    "        client=client,\n",
    "        definition=save_agent_definition,\n",
    "    )\n",
    "\n",
    "    save_agent.kernel.add_plugin(SavePlugin(), plugin_name=\"saving\")\n",
    "\n",
    "    user_inputs = [\n",
    "        \"I have a business trip from London to New York in Feb 20 2025 to Feb 27 2025 ,help me to book a hotel and fight tickets and save it\"\n",
    "    ]\n",
    "\n",
    "    chat = AgentGroupChat(\n",
    "        agents=[booking_agent, save_agent],\n",
    "        termination_strategy=ApprovalTerminationStrategy(agents=[save_agent], maximum_iterations=10),\n",
    "    )\n",
    "\n",
    "    try:\n",
    "        for user_input in user_inputs:\n",
    "            # Add the user input as a chat message\n",
    "            await chat.add_chat_message(\n",
    "                ChatMessageContent(role=AuthorRole.USER, content=user_input)\n",
    "            )\n",
    "            print(f\"# User: '{user_input}'\")\n",
    "\n",
    "            async for content in chat.invoke():\n",
    "                print(f\"# {content.role} - {content.name or '*'}: '{content.content}'\")\n",
    "\n",
    "            print(f\"# IS COMPLETE: {chat.is_complete}\")\n",
    "\n",
    "            print(\"*\" * 60)\n",
    "            print(\"Chat History (In Descending Order):\\n\")\n",
    "            async for message in chat.get_chat_messages(agent=save_agent):\n",
    "                print(f\"# {message.role} - {message.name or '*'}: '{message.content}'\")\n",
    "    finally:\n",
    "        await chat.reset()\n",
    "        await client.agents.delete_agent(save_agent.id)\n",
    "        await client.agents.delete_agent(booking_agent.id)\n"
   ]
  },
  {
   "cell_type": "markdown",
   "metadata": {},
   "source": [
    "\n---\n\n**Declinare de responsabilitate**:  \nAcest document a fost tradus folosind serviciul de traducere AI [Co-op Translator](https://github.com/Azure/co-op-translator). Deși ne străduim să asigurăm acuratețea, vă rugăm să fiți conștienți că traducerile automate pot conține erori sau inexactități. Documentul original în limba sa natală ar trebui considerat sursa autoritară. Pentru informații critice, se recomandă traducerea profesională realizată de un specialist uman. Nu ne asumăm responsabilitatea pentru eventualele neînțelegeri sau interpretări greșite care pot apărea din utilizarea acestei traduceri.\n"
   ]
  }
 ],
 "metadata": {
  "kernelspec": {
   "display_name": "3.12.1",
   "language": "python",
   "name": "python3"
  },
  "language_info": {
   "codemirror_mode": {
    "name": "ipython",
    "version": 3
   },
   "file_extension": ".py",
   "mimetype": "text/x-python",
   "name": "python",
   "nbconvert_exporter": "python",
   "pygments_lexer": "ipython3",
   "version": "3.12.1"
  },
  "polyglot_notebook": {
   "kernelInfo": {
    "defaultKernelName": "csharp",
    "items": [
     {
      "aliases": [],
      "name": "csharp"
     }
    ]
   }
  },
  "coopTranslator": {
   "original_hash": "1baa60020a95eda27b7e9ecfda99965b",
   "translation_date": "2025-08-29T21:51:24+00:00",
   "source_file": "08-multi-agent/code_samples/08-python_multi_aiagent_bookinghotel.ipynb",
   "language_code": "ro"
  }
 },
 "nbformat": 4,
 "nbformat_minor": 2
}