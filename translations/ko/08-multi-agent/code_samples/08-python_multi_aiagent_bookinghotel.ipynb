{
 "cells": [
  {
   "cell_type": "markdown",
   "metadata": {},
   "source": [
    "## **샘플: 호텔 예약을 위한 다중 AI 에이전트**\n",
    "\n",
    "오늘날 빠르게 변화하는 세상에서, 출장 계획은 단순히 항공편과 호텔 객실을 예약하는 것 이상을 요구합니다. 이는 높은 수준의 조율과 효율성을 필요로 하며, 이를 달성하는 데 어려움이 따를 수 있습니다. 바로 여기서 다중 AI 에이전트가 등장하여 우리의 여행 관리 방식을 혁신합니다.\n",
    "\n",
    "지능적인 에이전트 팀이 여러분의 손끝에서 협력하며, 여행의 모든 측면을 정밀하고 간편하게 처리한다고 상상해 보세요. 우리의 첨단 AI 기술을 통해 예약 서비스와 일정 조정을 전문으로 하는 에이전트를 만들어, 매끄럽고 스트레스 없는 여행 경험을 제공합니다.\n",
    "\n",
    "이것은 기본적인 시나리오입니다. 출장 계획을 세울 때, 항공권 정보와 호텔 정보를 얻기 위해 비즈니스 여행 에이전트와 상담해야 합니다. AI 에이전트를 통해 예약 서비스를 위한 에이전트와 일정 조정을 위한 에이전트를 구축하여 협력하고 지능 수준을 향상시킬 수 있습니다.\n"
   ]
  },
  {
   "cell_type": "markdown",
   "metadata": {},
   "source": [
    "# Azure AI Agent Service 초기화 및 **.env** 파일에서 구성 정보 가져오기\n",
    "\n",
    "### **.env**\n",
    "\n",
    ".env 파일 생성하기\n",
    "\n",
    "**.env** 파일에는 Azure AI Agent Service의 연결 문자열, AOAI에서 사용하는 모델, 그리고 관련된 Google API Search 서비스 API, ENDPOINT 등이 포함됩니다.\n",
    "\n",
    "- **AZURE_AI_AGENT_MODEL_DEPLOYMENT_NAME** = \"Azure AI Agent Service 모델 배포 이름\"\n",
    "\n",
    "[**NOTE**] 분당 100,000 토큰 처리 한도와 분당 600 요청 한도를 가진 모델이 필요합니다.\n",
    "\n",
    "  모델은 Azure AI Foundry의 Model and Endpoint에서 얻을 수 있습니다.\n",
    "\n",
    "- **AZURE_AI_AGENT_PROJECT_CONNECTION_STRING** = \"Azure AI Agent Service 프로젝트 연결 문자열\"\n",
    "\n",
    "  프로젝트 연결 문자열은 AI Foundry 포털 화면의 프로젝트 개요에서 확인할 수 있습니다.\n",
    "\n",
    "- **SERPAPI_SEARCH_API_KEY** = \"SERPAPI 검색 API KEY\"\n",
    "- **SERPAPI_SEARCH_ENDPOINT** = \"SERPAPI 검색 ENDPOINT\"\n",
    "\n",
    "Azure AI Agent Service의 모델 배포 이름과 프로젝트 연결 문자열을 얻으려면 Azure AI Agent Service를 생성해야 합니다. [이 템플릿](https://portal.azure.com/#create/Microsoft.Template/uri/https%3A%2F%2Fraw.githubusercontent.com%2Ffosteramanda%2Fazure-agent-quickstart-templates%2Frefs%2Fheads%2Fmaster%2Fquickstarts%2Fmicrosoft.azure-ai-agent-service%2Fstandard-agent%2Fazuredeploy.json)을 사용하여 직접 생성하는 것을 권장합니다. （***참고:*** Azure AI Agent Service는 현재 제한된 지역에서만 설정 가능합니다. [이 링크](https://learn.microsoft.com/en-us/azure/ai-services/agents/concepts/model-region-support)를 참고하여 지역을 설정하는 것을 권장합니다.)\n",
    "\n",
    "Agent는 SERPAPI에 접근해야 합니다. [이 링크](https://serpapi.com/searches)를 통해 등록하는 것을 권장합니다. 등록 후, 고유한 API KEY와 ENDPOINT를 얻을 수 있습니다.\n"
   ]
  },
  {
   "cell_type": "markdown",
   "metadata": {},
   "source": [
    "# Azure 로그인\n",
    "\n",
    "이제 Azure에 로그인해야 합니다. VScode에서 터미널을 열고 `az login` 명령어를 실행하세요.\n"
   ]
  },
  {
   "cell_type": "markdown",
   "metadata": {},
   "source": [
    "# 설정\n",
    "\n",
    "이 노트북을 실행하려면 다음 라이브러리들을 설치해야 합니다. 아래는 필요한 라이브러리와 해당 pip 설치 명령어 목록입니다:\n",
    "\n",
    "azure-identity: Azure 인증을 위해 사용됩니다.  \n",
    "requests: HTTP 요청을 수행하기 위해 사용됩니다.  \n",
    "semantic-kernel: 시맨틱 커널 프레임워크를 위해 사용됩니다 (이 라이브러리가 커스텀 또는 특정 라이브러리라면, 특정 소스나 저장소에서 설치해야 할 수도 있습니다).  \n"
   ]
  },
  {
   "cell_type": "code",
   "execution_count": null,
   "metadata": {},
   "outputs": [],
   "source": [
    "!pip install azure-identity\n",
    "!pip install requests\n",
    "!pip install semantic-kernel\n",
    "!pip install --upgrade semantic_kernel\n",
    "!pip install azure-cli"
   ]
  },
  {
   "cell_type": "markdown",
   "metadata": {},
   "source": [
    "# 설명:\n",
    "import asyncio: 이 코드는 asyncio 모듈을 가져옵니다. asyncio는 Python에서 비동기 프로그래밍을 지원하며, async와 await 구문을 사용하여 동시 실행 코드를 작성할 수 있게 해줍니다.  \n",
    "from typing import Annotated: 이 코드는 typing 모듈에서 Annotated 타입을 가져옵니다. Annotated는 타입 힌트에 메타데이터를 추가하는 데 사용되며, 검증, 문서화, 도구 지원 등 다양한 목적으로 유용하게 활용될 수 있습니다.  \n"
   ]
  },
  {
   "cell_type": "code",
   "execution_count": null,
   "metadata": {
    "dotnet_interactive": {
     "language": "csharp"
    },
    "polyglot_notebook": {
     "kernelName": "csharp"
    }
   },
   "outputs": [],
   "source": [
    "import asyncio,os\n",
    "from typing import Annotated"
   ]
  },
  {
   "cell_type": "markdown",
   "metadata": {},
   "source": [
    "# 설명:\n",
    "`from dotenv import load_dotenv`와 `load_dotenv()`를 사용하면 .env 파일에서 설정값과 민감한 정보를 쉽게 관리할 수 있습니다(예: API 키와 데이터베이스 URL). 이를 통해 이러한 정보를 소스 코드와 분리하여 애플리케이션을 더 안전하고 설정하기 쉽게 만들 수 있습니다.\n"
   ]
  },
  {
   "cell_type": "code",
   "execution_count": null,
   "metadata": {},
   "outputs": [],
   "source": [
    "import os\n",
    "from dotenv import load_dotenv\n",
    "\n",
    "# Load environment variables from .env file\n",
    "load_dotenv()"
   ]
  },
  {
   "cell_type": "markdown",
   "metadata": {},
   "source": [
    "# 설명:\n",
    "\n",
    "Import Statement: from azure.identity.aio import DefaultAzureCredential: 이 코드는 azure.identity.aio 모듈에서 DefaultAzureCredential 클래스를 가져옵니다. 모듈 이름에 포함된 aio는 비동기 작업을 위해 설계되었음을 나타냅니다.\n",
    "\n",
    "DefaultAzureCredential의 목적: DefaultAzureCredential 클래스는 Azure SDK for Python의 일부입니다. 이 클래스는 Azure 서비스와 인증을 수행하는 기본적인 방법을 제공합니다. 환경 변수, 관리 ID, Azure CLI 자격 증명 등 특정 순서로 여러 방법을 시도하여 인증을 수행합니다.\n",
    "\n",
    "비동기 작업: aio 모듈은 DefaultAzureCredential 클래스가 비동기 작업을 지원함을 나타냅니다. 이를 통해 asyncio를 사용하여 비차단 인증 요청을 수행할 수 있습니다.\n"
   ]
  },
  {
   "cell_type": "code",
   "execution_count": null,
   "metadata": {
    "dotnet_interactive": {
     "language": "csharp"
    },
    "polyglot_notebook": {
     "kernelName": "csharp"
    }
   },
   "outputs": [],
   "source": [
    "from azure.identity.aio import DefaultAzureCredential"
   ]
  },
  {
   "cell_type": "markdown",
   "metadata": {},
   "source": [
    "# 설명:\n",
    "`semantic_kernel` 패키지에서 다양한 모듈과 클래스를 가져옵니다. 각 가져오기 항목에 대한 설명은 다음과 같습니다:\n",
    "\n",
    "`semantic_kernel.agents`에서 `AgentGroupChat`: 이 클래스는 AI 에이전트의 그룹 채팅과 관련된 기능을 처리합니다.  \n",
    "`semantic_kernel.agents.azure_ai`에서 `AzureAIAgent` 및 `AzureAIAgentSettings`:\n",
    "\n",
    "- `AzureAIAgent`: Azure AI 서비스를 활용하는 AI 에이전트를 생성하고 관리하는 데 사용됩니다.  \n",
    "- `AzureAIAgentSettings`: `AzureAIAgent`의 설정을 구성하는 데 사용됩니다.  \n",
    "\n",
    "`semantic_kernel.agents.strategies.termination.termination_strategy`에서 `TerminationStrategy`:  \n",
    "이 클래스는 특정 조건에서 AI 에이전트의 실행을 종료하는 전략을 정의합니다.  \n",
    "\n",
    "`semantic_kernel.contents.chat_message_content`에서 `ChatMessageContent`:  \n",
    "이 클래스는 채팅 메시지의 내용을 처리하는 데 사용됩니다.  \n",
    "\n",
    "`semantic_kernel.contents.utils.author_role`에서 `AuthorRole`:  \n",
    "이 클래스는 채팅 메시지의 작성자와 관련된 다양한 역할을 정의합니다.  \n",
    "\n",
    "`semantic_kernel.functions.kernel_function_decorator`에서 `kernel_function`:  \n",
    "이 데코레이터는 `semantic kernel` 프레임워크 내에서 실행될 수 있는 커널 함수를 정의하는 데 사용됩니다.  \n",
    "\n",
    "이러한 가져오기는 AI 에이전트를 생성하고 관리하며, 그룹 채팅 환경에서 상호작용할 수 있는 필수 구성 요소를 설정합니다. 예를 들어, 호텔 예약과 같은 작업을 수행하는 데 활용될 수 있습니다.  \n"
   ]
  },
  {
   "cell_type": "code",
   "execution_count": null,
   "metadata": {
    "dotnet_interactive": {
     "language": "csharp"
    },
    "polyglot_notebook": {
     "kernelName": "csharp"
    }
   },
   "outputs": [],
   "source": [
    "from semantic_kernel.agents import AgentGroupChat\n",
    "from semantic_kernel.agents import AzureAIAgent, AzureAIAgentSettings\n",
    "from semantic_kernel.agents.strategies.termination.termination_strategy import TerminationStrategy\n",
    "from semantic_kernel.contents import ChatMessageContent\n",
    "from semantic_kernel.contents import AuthorRole\n",
    "from semantic_kernel.functions.kernel_function_decorator import kernel_function"
   ]
  },
  {
   "cell_type": "markdown",
   "metadata": {},
   "source": [
    "# 설명:\n",
    "다음으로, azure.ai.projects.models 모듈에서 CodeInterpreterTool 클래스를 가져옵니다.\n",
    "\n",
    "CodeInterpreterTool: 이 클래스는 Azure AI SDK의 일부로, AI 프로젝트의 맥락에서 코드를 해석하고 실행하는 데 사용됩니다. 이 클래스는 코드 스니펫 실행, 코드 분석, 또는 AI 워크플로우 내에서 코드 실행을 통합하는 기능을 제공합니다.  \n",
    "이 가져오기는 프로젝트에서 CodeInterpreterTool을 활용하기 위한 필수 구성 요소를 설정하며, 동적으로 코드를 해석하고 실행하는 작업에 유용할 수 있습니다.\n"
   ]
  },
  {
   "cell_type": "code",
   "execution_count": null,
   "metadata": {
    "dotnet_interactive": {
     "language": "csharp"
    },
    "polyglot_notebook": {
     "kernelName": "csharp"
    }
   },
   "outputs": [],
   "source": [
    "from azure.ai.projects.models import CodeInterpreterTool"
   ]
  },
  {
   "cell_type": "markdown",
   "metadata": {},
   "source": [
    "# 설명:  \n",
    "ApprovalTerminationStrategy 클래스는 AI 에이전트의 작동을 종료하는 특정 전략을 제공합니다. 에이전트는 상호작용 기록의 마지막 메시지에 \"saved\"라는 단어가 포함되어 있으면 종료됩니다. 이는 에이전트의 작업이 \"saved\"라는 확인을 받으면 완료된 것으로 간주되는 상황에서 유용할 수 있습니다. 상호작용 방법을 정의하세요. 예약 계획이 저장된 후, 저장 신호를 받을 때 중지할 수 있습니다.\n"
   ]
  },
  {
   "cell_type": "code",
   "execution_count": null,
   "metadata": {
    "dotnet_interactive": {
     "language": "csharp"
    },
    "polyglot_notebook": {
     "kernelName": "csharp"
    }
   },
   "outputs": [],
   "source": [
    "class ApprovalTerminationStrategy(TerminationStrategy):\n",
    "    \"\"\"A strategy for determining when an agent should terminate.\"\"\"\n",
    "\n",
    "    async def should_agent_terminate(self, agent, history):\n",
    "        \"\"\"Check if the agent should terminate.\"\"\"\n",
    "        return \"saved\" in history[-1].content.lower()"
   ]
  },
  {
   "cell_type": "markdown",
   "metadata": {},
   "source": [
    "# 설명:\n",
    "\n",
    "이 코드 줄은 create() 메서드를 호출하여 기본 또는 사전 정의된 설정으로 AzureAIAgentSettings 객체를 초기화합니다. 이 설정 객체(ai_agent_settings)는 이후 AzureAIAgent 인스턴스를 구성하고 관리하는 데 사용될 수 있습니다.\n"
   ]
  },
  {
   "cell_type": "code",
   "execution_count": null,
   "metadata": {
    "dotnet_interactive": {
     "language": "csharp"
    },
    "polyglot_notebook": {
     "kernelName": "csharp"
    }
   },
   "outputs": [],
   "source": [
    "ai_agent_settings = AzureAIAgentSettings.create()"
   ]
  },
  {
   "cell_type": "markdown",
   "metadata": {},
   "source": [
    "# 설명:\n",
    "requests 라이브러리를 가져오면 Python 코드에서 HTTP 요청을 쉽게 수행하고 웹 서비스와 상호작용할 수 있습니다.\n"
   ]
  },
  {
   "cell_type": "code",
   "execution_count": null,
   "metadata": {
    "dotnet_interactive": {
     "language": "csharp"
    },
    "polyglot_notebook": {
     "kernelName": "csharp"
    }
   },
   "outputs": [],
   "source": [
    "import requests"
   ]
  },
  {
   "cell_type": "markdown",
   "metadata": {},
   "source": [
    "# 설명:\n",
    "이 변수는 SERP(검색 엔진 결과 페이지) API 서비스를 이용하기 위한 API 키를 저장합니다. API 키는 계정과 연관된 요청을 인증하는 데 사용되는 고유 식별자입니다.\n",
    "\n",
    "'GOOGLE_SEARCH_API_KEY': 이 문자열은 자리 표시자입니다. 'GOOGLE_SEARCH_API_KEY'를 실제 SERP API 키로 교체해야 합니다.\n",
    "\n",
    "목적: 이 줄의 목적은 API 키를 변수에 저장하여 SERP API 서비스에 요청을 인증하는 데 사용하는 것입니다. API 키는 서비스를 이용하고 검색을 수행하기 위해 반드시 필요합니다.\n",
    "\n",
    "SERP API 키를 얻는 방법: SERP API 키를 얻으려면 https://serpapi.com에서 다음 일반적인 단계를 따르세요(사용 중인 특정 SERP API 서비스에 따라 정확한 단계는 다를 수 있습니다):\n",
    "\n",
    "1. SERP API 서비스 선택:\n",
    "\n",
    "SerpAPI, Google Custom Search JSON API 등 여러 SERP API 서비스가 있습니다. 자신의 필요에 가장 적합한 서비스를 선택하세요.\n",
    "\n",
    "2. 계정 등록:\n",
    "\n",
    "선택한 SERP API 서비스의 웹사이트(예: https://www.serpapi.com)로 이동하여 계정을 등록하세요. 기본 정보를 제공하고 이메일 주소를 인증해야 할 수도 있습니다.\n",
    "\n",
    "3. API 키 생성:\n",
    "\n",
    "등록 후 계정에 로그인하여 API 섹션 또는 대시보드로 이동하세요. 새 API 키를 생성하거나 만들 수 있는 옵션을 찾으세요.\n",
    "\n",
    "4. API 키 복사:\n",
    "\n",
    "API 키가 생성되면 이를 복사하세요. 이 키는 SERP API 서비스에 요청을 인증하는 데 사용됩니다.\n",
    "\n",
    "5. 자리 표시자 교체:\n",
    "\n",
    ".env 파일에서 자리 표시자를 실제 API 키로 교체하세요.\n"
   ]
  },
  {
   "cell_type": "code",
   "execution_count": null,
   "metadata": {
    "dotnet_interactive": {
     "language": "csharp"
    },
    "polyglot_notebook": {
     "kernelName": "csharp"
    }
   },
   "outputs": [],
   "source": [
    "SERPAPI_SEARCH_API_KEY=os.getenv('SERPAPI_SEARCH_API_KEY')"
   ]
  },
  {
   "cell_type": "code",
   "execution_count": null,
   "metadata": {
    "dotnet_interactive": {
     "language": "csharp"
    },
    "polyglot_notebook": {
     "kernelName": "csharp"
    }
   },
   "outputs": [],
   "source": [
    "SERPAPI_SEARCH_ENDPOINT = os.getenv('SERPAPI_SEARCH_ENDPOINT')"
   ]
  },
  {
   "cell_type": "markdown",
   "metadata": {},
   "source": [
    "# 설명:\n",
    "BookingPlugin 클래스는 Serpapi.com의 Google Search API를 사용하여 호텔과 항공편을 예약하는 메서드를 제공합니다. 이 클래스는 필요한 매개변수를 구성하고, API 요청을 보내며, 응답을 처리하여 관련 예약 정보를 반환합니다. API 키(SERPAPI_SEARCH_API_KEY)와 엔드포인트(SERPAPI_SEARCH_ENDPOINT)는 Google Search API에 인증하고 요청을 보내는 데 사용됩니다.\n"
   ]
  },
  {
   "cell_type": "code",
   "execution_count": null,
   "metadata": {
    "dotnet_interactive": {
     "language": "csharp"
    },
    "polyglot_notebook": {
     "kernelName": "csharp"
    }
   },
   "outputs": [],
   "source": [
    "# Define Booking Plugin\n",
    "class BookingPlugin:\n",
    "    \"\"\"Booking Plugin for customers\"\"\"\n",
    "    @kernel_function(description=\"booking hotel\")\n",
    "    def booking_hotel(self,query: Annotated[str, \"The name of the city\"], check_in_date: Annotated[str, \"Hotel Check-in Time\"], check_out_date: Annotated[str, \"Hotel Check-in Time\"])-> Annotated[str, \"Return the result of booking hotel infomation\"]:\n",
    "\n",
    "        params = {\n",
    "            \"engine\": \"google_hotels\",\n",
    "            \"q\": query,\n",
    "            \"check_in_date\": check_in_date,\n",
    "            \"check_out_date\": check_out_date,\n",
    "            \"adults\": \"2\",\n",
    "            \"currency\": \"USD\",\n",
    "            \"gl\": \"us\",\n",
    "            \"hl\": \"en\",\n",
    "            \"api_key\": SERPAPI_SEARCH_API_KEY\n",
    "        }\n",
    "\n",
    "        response = requests.get(SERPAPI_SEARCH_ENDPOINT, params=params)\n",
    "        if response.status_code == 200:\n",
    "            response = response.json()\n",
    "            return response[\"properties\"]\n",
    "        else:\n",
    "            return None\n",
    "\n",
    "    \n",
    "    @kernel_function(description=\"booking fight\")\n",
    "    def  booking_fight(self,origin: Annotated[str, \"The name of Departure\"], destination: Annotated[str, \"The name of Destination\"], outbound_date: Annotated[str, \"The date of outbound\"], return_date: Annotated[str, \"The date of Return_date\"])-> Annotated[str, \"Return the result of booking fight infomation\"]:\n",
    "        \n",
    "        go_params = {\n",
    "            \"engine\": \"google_flights\",   \n",
    "            \"departure_id\": origin,\n",
    "            \"arrival_id\": destination,\n",
    "            \"outbound_date\": outbound_date,\n",
    "            \"return_date\": return_date,  \n",
    "            \"currency\": \"USD\",\n",
    "            \"hl\": \"en\",\n",
    "            \"api_key\": SERPAPI_SEARCH_API_KEY  \n",
    "        }\n",
    "\n",
    "        print(go_params)\n",
    "\n",
    "        go_response = requests.get(SERPAPI_SEARCH_ENDPOINT, params=go_params)\n",
    "\n",
    "\n",
    "        result = ''\n",
    "\n",
    "        if go_response.status_code == 200:\n",
    "            response = go_response.json()\n",
    "\n",
    "            result += \"# outbound \\n \" + str(response)\n",
    "        else:\n",
    "            print('error!!!')\n",
    "            # return None\n",
    "\n",
    "        \n",
    "        back_params = {\n",
    "            \"engine\": \"google_flights\",   \n",
    "            \"departure_id\": destination,\n",
    "            \"arrival_id\": origin,\n",
    "            \"outbound_date\": return_date,\n",
    "            \"return_date\": return_date,  \n",
    "            \"currency\": \"USD\",\n",
    "            \"hl\": \"en\",\n",
    "            \"api_key\": SERPAPI_SEARCH_API_KEY  \n",
    "        }\n",
    "\n",
    "\n",
    "        print(back_params)\n",
    "\n",
    "\n",
    "        back_response = requests.get(SERPAPI_SEARCH_ENDPOINT, params=back_params)\n",
    "\n",
    "\n",
    "\n",
    "        if back_response.status_code == 200:\n",
    "            response = back_response.json()\n",
    "\n",
    "            result += \"\\n # return \\n\"  + str(response)\n",
    "\n",
    "        else:\n",
    "            print('error!!!')\n",
    "            # return None\n",
    "        \n",
    "        print(result)\n",
    "\n",
    "        return result\n",
    "\n",
    "        \n"
   ]
  },
  {
   "cell_type": "markdown",
   "metadata": {},
   "source": [
    "# 설명:\n",
    "SavePlugin 클래스는 Azure AI 서비스를 사용하여 여행 계획을 저장하는 saving_plan 메서드를 제공합니다. 이 메서드는 Azure 자격 증명을 설정하고, AI 에이전트를 생성하며, 사용자 입력을 처리하여 여행 계획 내용을 생성 및 저장하고, 파일 저장 및 정리 작업을 처리합니다. 메서드는 성공적으로 완료되면 \"Saved\"를 반환합니다.\n"
   ]
  },
  {
   "cell_type": "code",
   "execution_count": null,
   "metadata": {
    "dotnet_interactive": {
     "language": "csharp"
    },
    "polyglot_notebook": {
     "kernelName": "csharp"
    }
   },
   "outputs": [],
   "source": [
    "class SavePlugin:\n",
    "    \"\"\"Save Plugin for customers\"\"\"\n",
    "    @kernel_function(description=\"saving plan\")\n",
    "    async def saving_plan(self,tripplan: Annotated[str, \"The content of trip plan\"])-> Annotated[str, \"Return status of save content\"]:\n",
    "\n",
    "        async with (\n",
    "            DefaultAzureCredential() as creds,\n",
    "            AzureAIAgent.create_client(\n",
    "                credential=creds,\n",
    "                conn_str=ai_agent_settings.project_connection_string.get_secret_value(),\n",
    "            ) as client,\n",
    "        ):\n",
    "\n",
    "            code_interpreter = CodeInterpreterTool()\n",
    "            \n",
    "            agent_definition = await client.agents.create_agent(\n",
    "                model=ai_agent_settings.model_deployment_name,\n",
    "                tools=code_interpreter.definitions,\n",
    "                tool_resources=code_interpreter.resources,\n",
    "            )\n",
    "\n",
    "\n",
    "            agent = AzureAIAgent(\n",
    "                client=client,\n",
    "                definition=agent_definition,\n",
    "            )\n",
    "\n",
    "            thread = await client.agents.create_thread()\n",
    "\n",
    "\n",
    "            user_inputs = [\n",
    "                \"\"\"\n",
    "            \n",
    "                        You are my Python programming assistant. Generate code,save \"\"\"+ tripplan +\n",
    "                        \n",
    "                    \"\"\"    \n",
    "                        and execute it according to the following requirements\n",
    "\n",
    "                        1. Save blog content to trip-{YYMMDDHHMMSS}.md\n",
    "\n",
    "                        2. give me the download this file link\n",
    "                    \"\"\"\n",
    "            ]\n",
    "\n",
    "\n",
    "\n",
    "            try:\n",
    "                for user_input in user_inputs:\n",
    "                    # Add the user input as a chat message\n",
    "                    await agent.add_chat_message(\n",
    "                        thread_id=thread.id, message=ChatMessageContent(role=AuthorRole.USER, content=user_input)\n",
    "                    )\n",
    "                    print(f\"# User: '{user_input}'\")\n",
    "                    # Invoke the agent for the specified thread\n",
    "                    async for content in agent.invoke(thread_id=thread.id):\n",
    "                        if content.role != AuthorRole.TOOL:\n",
    "                            print(f\"# Agent: {content.content}\")\n",
    "\n",
    "                    \n",
    "                    messages = await client.agents.list_messages(thread_id=thread.id)\n",
    "\n",
    "                    # OpenAIPageableListOfThreadMessage\n",
    "                    # OpenAIPageableListOfThreadMessage\n",
    "\n",
    "\n",
    "                    for file_path_annotation in messages.file_path_annotations:\n",
    "\n",
    "                            file_name = os.path.basename(file_path_annotation.text)\n",
    "\n",
    "                            await client.agents.save_file(file_id=file_path_annotation.file_path.file_id, file_name=file_name,target_dir=\"./trip\")\n",
    "\n",
    "                    \n",
    "            finally:\n",
    "                await client.agents.delete_thread(thread.id)\n",
    "                await client.agents.delete_agent(agent.id)\n",
    "\n",
    "\n",
    "        return \"Saved\""
   ]
  },
  {
   "cell_type": "markdown",
   "metadata": {},
   "source": [
    "# 설명:\n",
    "이 코드는 Azure AI 에이전트를 설정하여 사용자 입력을 기반으로 항공편 및 호텔 예약을 처리하고 여행 계획을 저장합니다. Azure 자격 증명을 사용하여 에이전트를 생성하고 구성하며, 그룹 채팅을 통해 사용자 입력을 처리하고 작업 완료 후 적절한 정리를 보장합니다. 에이전트는 각각의 작업을 수행하기 위해 특정 플러그인(BookingPlugin 및 SavePlugin)을 사용합니다.\n"
   ]
  },
  {
   "cell_type": "code",
   "execution_count": null,
   "metadata": {
    "dotnet_interactive": {
     "language": "csharp"
    },
    "polyglot_notebook": {
     "kernelName": "csharp"
    }
   },
   "outputs": [],
   "source": [
    "async with (\n",
    "    DefaultAzureCredential() as creds,\n",
    "    AzureAIAgent.create_client(\n",
    "        credential=creds,\n",
    "        conn_str=ai_agent_settings.project_connection_string.get_secret_value(),\n",
    "    ) as client,\n",
    "):\n",
    "    BOOKING_AGENT_NAME = \"BookingAgent\"\n",
    "    BOOKING_AGENT_INSTRUCTIONS = \"\"\"\n",
    "    You are a booking agent. Help me book flights or hotels.\n",
    "\n",
    "    Thought: Please understand the user's intention and confirm whether to use the reservation system to complete the task.\n",
    "\n",
    "    Actions:\n",
    "    - For flight bookings, convert the departure and destination names into airport codes.\n",
    "    - Use the appropriate API for hotel or flight bookings. Verify that all necessary parameters are available. If any parameters are missing, ask the user to provide them. If all parameters are complete, call the corresponding function.\n",
    "    - If the task is not related to hotel or flight booking, respond with the final answer only.\n",
    "    - Output the results using a markdown table:\n",
    "      - For flight bookings, output separate outbound and return contents in the order of:\n",
    "        Departure Airport | Airline | Flight Number | Departure Time | Arrival Airport | Arrival Time | Duration | Airplane | Travel Class | Price (USD) | Legroom | Extensions | Carbon Emissions (kg).\n",
    "      - For hotel bookings, output in the order of:\n",
    "        Property Name | Property Description | Check-in Time | Check-out Time | Prices | Nearby Places | Hotel Class | GPS Coordinates.\n",
    "    \"\"\"\n",
    "\n",
    "    SAVE_AGENT_NAME = \"SaveAgent\"\n",
    "    SAVE_AGENT_INSTRUCTIONS = \"\"\"\n",
    "    You are a save tool agent. Help me to save the trip plan.\n",
    "    \"\"\"\n",
    "\n",
    "    # Create agent definition\n",
    "    booking_agent_definition = await client.agents.create_agent(\n",
    "        model=ai_agent_settings.model_deployment_name,\n",
    "        name=BOOKING_AGENT_NAME,\n",
    "        instructions=BOOKING_AGENT_INSTRUCTIONS,\n",
    "    )\n",
    "\n",
    "    # Create the AzureAI Agent\n",
    "    booking_agent = AzureAIAgent(\n",
    "        client=client,\n",
    "        definition=booking_agent_definition,\n",
    "        # Optionally configure polling options\n",
    "        # polling_options=RunPollingOptions(run_polling_interval=timedelta(seconds=1)),\n",
    "    )\n",
    "\n",
    "    # Add the sample plugin to the kernel\n",
    "    booking_agent.kernel.add_plugin(BookingPlugin(), plugin_name=\"booking\")\n",
    "\n",
    "    # Create agent definition\n",
    "    save_agent_definition = await client.agents.create_agent(\n",
    "        model=ai_agent_settings.model_deployment_name,\n",
    "        name=SAVE_AGENT_NAME,\n",
    "        instructions=SAVE_AGENT_INSTRUCTIONS\n",
    "    )\n",
    "\n",
    "    # Create the AzureAI Agent\n",
    "    save_agent = AzureAIAgent(\n",
    "        client=client,\n",
    "        definition=save_agent_definition,\n",
    "    )\n",
    "\n",
    "    save_agent.kernel.add_plugin(SavePlugin(), plugin_name=\"saving\")\n",
    "\n",
    "    user_inputs = [\n",
    "        \"I have a business trip from London to New York in Feb 20 2025 to Feb 27 2025 ,help me to book a hotel and fight tickets and save it\"\n",
    "    ]\n",
    "\n",
    "    chat = AgentGroupChat(\n",
    "        agents=[booking_agent, save_agent],\n",
    "        termination_strategy=ApprovalTerminationStrategy(agents=[save_agent], maximum_iterations=10),\n",
    "    )\n",
    "\n",
    "    try:\n",
    "        for user_input in user_inputs:\n",
    "            # Add the user input as a chat message\n",
    "            await chat.add_chat_message(\n",
    "                ChatMessageContent(role=AuthorRole.USER, content=user_input)\n",
    "            )\n",
    "            print(f\"# User: '{user_input}'\")\n",
    "\n",
    "            async for content in chat.invoke():\n",
    "                print(f\"# {content.role} - {content.name or '*'}: '{content.content}'\")\n",
    "\n",
    "            print(f\"# IS COMPLETE: {chat.is_complete}\")\n",
    "\n",
    "            print(\"*\" * 60)\n",
    "            print(\"Chat History (In Descending Order):\\n\")\n",
    "            async for message in chat.get_chat_messages(agent=save_agent):\n",
    "                print(f\"# {message.role} - {message.name or '*'}: '{message.content}'\")\n",
    "    finally:\n",
    "        await chat.reset()\n",
    "        await client.agents.delete_agent(save_agent.id)\n",
    "        await client.agents.delete_agent(booking_agent.id)\n"
   ]
  },
  {
   "cell_type": "markdown",
   "metadata": {},
   "source": [
    "\n---\n\n**면책 조항**:  \n이 문서는 AI 번역 서비스 [Co-op Translator](https://github.com/Azure/co-op-translator)를 사용하여 번역되었습니다. 정확성을 위해 최선을 다하고 있으나, 자동 번역에는 오류나 부정확성이 포함될 수 있습니다. 원본 문서의 원어 버전을 권위 있는 출처로 간주해야 합니다. 중요한 정보의 경우, 전문적인 인간 번역을 권장합니다. 이 번역 사용으로 인해 발생하는 오해나 잘못된 해석에 대해 책임을 지지 않습니다.\n"
   ]
  }
 ],
 "metadata": {
  "kernelspec": {
   "display_name": "3.12.1",
   "language": "python",
   "name": "python3"
  },
  "language_info": {
   "codemirror_mode": {
    "name": "ipython",
    "version": 3
   },
   "file_extension": ".py",
   "mimetype": "text/x-python",
   "name": "python",
   "nbconvert_exporter": "python",
   "pygments_lexer": "ipython3",
   "version": "3.12.1"
  },
  "polyglot_notebook": {
   "kernelInfo": {
    "defaultKernelName": "csharp",
    "items": [
     {
      "aliases": [],
      "name": "csharp"
     }
    ]
   }
  },
  "coopTranslator": {
   "original_hash": "1baa60020a95eda27b7e9ecfda99965b",
   "translation_date": "2025-08-30T15:38:47+00:00",
   "source_file": "08-multi-agent/code_samples/08-python_multi_aiagent_bookinghotel.ipynb",
   "language_code": "ko"
  }
 },
 "nbformat": 4,
 "nbformat_minor": 2
}