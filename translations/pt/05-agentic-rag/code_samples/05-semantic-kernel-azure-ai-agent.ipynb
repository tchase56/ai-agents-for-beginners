{
 "cells": [
  {
   "cell_type": "markdown",
   "metadata": {},
   "source": [
    "# RAG Usando o Serviço de Agente Azure AI e o Semantic Kernel\n",
    "\n",
    "Este exemplo de código demonstra como criar e gerir um agente Azure AI para geração aumentada por recuperação (RAG) utilizando o `Serviço de Agente Azure AI` e o `Semantic Kernel`. O agente processa as consultas dos utilizadores com base no contexto recuperado e fornece respostas precisas em conformidade.\n"
   ]
  },
  {
   "cell_type": "markdown",
   "metadata": {},
   "source": []
  },
  {
   "cell_type": "markdown",
   "metadata": {},
   "source": [
    "Correção da Versão do SQLite  \n",
    "Se encontrar o erro:  \n",
    "```\n",
    "RuntimeError: Your system has an unsupported version of sqlite3. Chroma requires sqlite3 >= 3.35.0\n",
    "```  \n",
    "\n",
    "Descomente este bloco de código no início do seu notebook:  \n"
   ]
  },
  {
   "cell_type": "code",
   "execution_count": null,
   "metadata": {},
   "outputs": [],
   "source": [
    "# %pip install pysqlite3-binary\n",
    "# __import__('pysqlite3')\n",
    "# import sys\n",
    "# sys.modules['sqlite3'] = sys.modules.pop('pysqlite3')"
   ]
  },
  {
   "cell_type": "markdown",
   "metadata": {},
   "source": [
    "### Importar Pacotes\n",
    "O código abaixo importa os pacotes necessários:\n"
   ]
  },
  {
   "cell_type": "code",
   "execution_count": null,
   "metadata": {},
   "outputs": [],
   "source": [
    "# Azure imports for project client and credentials\n",
    "from azure.ai.projects.models import FileSearchTool, OpenAIFile, VectorStore\n",
    "from azure.identity.aio import DefaultAzureCredential\n",
    "\n",
    "# Semantic Kernel imports\n",
    "from semantic_kernel.agents import AzureAIAgent, AzureAIAgentThread"
   ]
  },
  {
   "cell_type": "markdown",
   "metadata": {},
   "source": [
    "# Geração Aumentada por Recuperação com Semantic Kernel & Azure AI Agent Service\n",
    "\n",
    "Este exemplo demonstra como utilizar o **Azure AI Agent Service** para realizar **Geração Aumentada por Recuperação (RAG)**, combinando um modelo de linguagem com contexto específico de domínio proveniente de um documento carregado.\n",
    "\n",
    "### Como Funciona\n",
    "\n",
    "1. **Carregamento de Documento**: Um ficheiro markdown (document.md) contendo informações (política de seguro de viagem da Contoso) é carregado para o serviço de agente.\n",
    "\n",
    "2. **Criação de Armazenamento Vetorial**: O documento é indexado num armazenamento vetorial para permitir pesquisa semântica sobre o seu conteúdo.\n",
    "\n",
    "3. **Configuração do Agente**: Um agente é instanciado utilizando o modelo `gpt-4o` com as seguintes instruções rigorosas:\n",
    "   - Responder apenas a perguntas com base no conteúdo recuperado do documento.\n",
    "   - Recusar-se a responder caso a pergunta esteja fora do âmbito.\n",
    "\n",
    "4. **Integração da Ferramenta de Pesquisa de Ficheiros**: A `FileSearchTool` é registada com o agente, permitindo que o modelo procure e recupere trechos relevantes do documento indexado durante a inferência.\n",
    "\n",
    "5. **Interação com o Utilizador**: Os utilizadores podem fazer perguntas. Se forem encontradas informações relevantes no documento, o agente gera uma resposta fundamentada.  \n",
    "   Caso contrário, o agente responde explicitamente que o documento não contém informações suficientes.\n"
   ]
  },
  {
   "cell_type": "markdown",
   "metadata": {},
   "source": [
    "### Função Principal\n",
    "\n",
    "Esta secção descreve a função principal do programa e como ela é utilizada.\n",
    "\n",
    "#### Descrição\n",
    "\n",
    "A função principal é o ponto de entrada do programa. É aqui que a execução começa e onde as principais operações são coordenadas.\n",
    "\n",
    "#### Parâmetros\n",
    "\n",
    "- `inputData`: Os dados de entrada que a função principal processará.\n",
    "- `configOptions`: As opções de configuração que determinam o comportamento da função.\n",
    "\n",
    "#### Retorno\n",
    "\n",
    "A função principal devolve um objeto que contém os resultados do processamento. Certifique-se de verificar o formato do retorno antes de utilizá-lo.\n",
    "\n",
    "#### Exemplo de Utilização\n",
    "\n",
    "```python\n",
    "result = mainFunction(inputData, configOptions)\n",
    "print(result)\n",
    "```\n",
    "\n",
    "#### Comentários\n",
    "\n",
    "- Certifique-se de que os dados de entrada estão no formato correto antes de chamar a função.\n",
    "- Utilize as opções de configuração para personalizar o comportamento da função conforme necessário.\n",
    "\n",
    "#### Erros Comuns\n",
    "\n",
    "- Passar dados de entrada inválidos pode causar erros inesperados.\n",
    "- Não configurar corretamente as opções pode levar a resultados indesejados.\n",
    "\n",
    "#### Notas Adicionais\n",
    "\n",
    "- Esta função foi projetada para ser modular e reutilizável em diferentes partes do programa.\n",
    "- Para mais informações sobre os parâmetros e retorno, consulte a documentação detalhada.\n"
   ]
  },
  {
   "cell_type": "markdown",
   "metadata": {},
   "source": [
    "Certifique-se de executar primeiro `az login` usando o Azure CLI para que o contexto de autenticação adequado seja fornecido ao usar o `DefaultAzureCredential`. O Azure AI Agent Service não utiliza chaves de API.\n"
   ]
  },
  {
   "cell_type": "code",
   "execution_count": null,
   "metadata": {},
   "outputs": [],
   "source": [
    "async def main():\n",
    "    async with (\n",
    "        DefaultAzureCredential() as creds,\n",
    "        AzureAIAgent.create_client(credential=creds) as client,\n",
    "    ):\n",
    "        file: OpenAIFile = await client.agents.upload_file_and_poll(file_path=\"document.md\", purpose=\"assistants\")\n",
    "        vector_store: VectorStore = await client.agents.create_vector_store_and_poll(\n",
    "            file_ids=[file.id], name=\"my_vectorstore\"\n",
    "        )\n",
    "\n",
    "        # Define agent name and instructions tailored for RAG.\n",
    "        AGENT_NAME = \"RAGAgent\"\n",
    "        AGENT_INSTRUCTIONS = \"\"\"\n",
    "        You are an AI assistant designed to answer user questions using only the information retrieved from the provided document(s).\n",
    "\n",
    "        - If a user's question cannot be answered using the retrieved context, **you must clearly respond**: \n",
    "        \"I'm sorry, but the uploaded document does not contain the necessary information to answer that question.\"\n",
    "        - Do not answer from general knowledge or reasoning. Do not make assumptions or generate hypothetical explanations.\n",
    "        - Do not provide definitions, tutorials, or commentary that is not explicitly grounded in the content of the uploaded file(s).\n",
    "        - If a user asks a question like \"What is a Neural Network?\", and this is not discussed in the uploaded document, respond as instructed above.\n",
    "        - For questions that do have relevant content in the document (e.g., Contoso's travel insurance coverage), respond accurately, and cite the document explicitly.\n",
    "\n",
    "        You must behave as if you have no external knowledge beyond what is retrieved from the uploaded document.\n",
    "        \"\"\"\n",
    "\n",
    "        \n",
    "        # Create file search tool with uploaded resources\n",
    "        file_search = FileSearchTool(vector_store_ids=[vector_store.id])\n",
    "\n",
    "        # 3. Create an agent on the Azure AI agent service with the file search tool\n",
    "        agent_definition = await client.agents.create_agent(\n",
    "            model=\"gpt-4o\",  # This model should match your Azure OpenAI deployment.\n",
    "            name=AGENT_NAME,\n",
    "            instructions=AGENT_INSTRUCTIONS,\n",
    "            tools=file_search.definitions,\n",
    "            tool_resources=file_search.resources,\n",
    "        )\n",
    "        \n",
    "        # Create the Azure AI Agent using the client and definition.\n",
    "        agent = AzureAIAgent(\n",
    "            client=client,\n",
    "            definition=agent_definition,\n",
    "        )\n",
    "        \n",
    "        # Create a thread to hold the conversation\n",
    "        # If no thread is provided, a new thread will be\n",
    "        # created and returned with the initial response\n",
    "        thread: AzureAIAgentThread | None = None\n",
    "        \n",
    "        # Example user queries.\n",
    "        user_inputs = [\n",
    "            \"Can you explain Contoso's travel insurance coverage?\",  # Relevant context.\n",
    "            \"What is a Neural Network?\"  # No relevant context from the document. Will not contain a source annotation.\n",
    "        ]\n",
    "        \n",
    "        try:\n",
    "            for user_input in user_inputs:\n",
    "                print(f\"# User: '{user_input}'\")\n",
    "                # Invoke the agent for the specified thread for response\n",
    "                async for response in agent.invoke(messages=user_input, thread=thread):\n",
    "                    print(f\"# {response.name}: {response}\")\n",
    "                    thread = response.thread\n",
    "        finally:\n",
    "            # Clean up resources.\n",
    "            await thread.delete() if thread else None\n",
    "            await client.agents.delete_vector_store(vector_store.id)\n",
    "            await client.agents.delete_file(file.id)\n",
    "            await client.agents.delete_agent(agent.id)\n",
    "            print(\"\\nCleaned up agent, thread, file, and vector store.\")\n",
    "\n",
    "await main()"
   ]
  },
  {
   "cell_type": "markdown",
   "metadata": {},
   "source": [
    "Por favor, forneça o conteúdo do ficheiro Markdown que deseja traduzir, e eu farei a tradução seguindo as regras que indicou.\n"
   ]
  },
  {
   "cell_type": "markdown",
   "metadata": {},
   "source": [
    "\n---\n\n**Aviso Legal**:  \nEste documento foi traduzido utilizando o serviço de tradução por IA [Co-op Translator](https://github.com/Azure/co-op-translator). Embora nos esforcemos para garantir a precisão, é importante notar que traduções automáticas podem conter erros ou imprecisões. O documento original na sua língua nativa deve ser considerado a fonte autoritária. Para informações críticas, recomenda-se a tradução profissional realizada por humanos. Não nos responsabilizamos por quaisquer mal-entendidos ou interpretações incorretas decorrentes do uso desta tradução.\n"
   ]
  }
 ],
 "metadata": {
  "kernelspec": {
   "display_name": ".venv",
   "language": "python",
   "name": "python3"
  },
  "language_info": {
   "codemirror_mode": {
    "name": "ipython",
    "version": 3
   },
   "file_extension": ".py",
   "mimetype": "text/x-python",
   "name": "python",
   "nbconvert_exporter": "python",
   "pygments_lexer": "ipython3",
   "version": "3.11.11"
  },
  "coopTranslator": {
   "original_hash": "a86c3ddfbe35024993bbf563588aad48",
   "translation_date": "2025-08-30T16:01:57+00:00",
   "source_file": "05-agentic-rag/code_samples/05-semantic-kernel-azure-ai-agent.ipynb",
   "language_code": "pt"
  }
 },
 "nbformat": 4,
 "nbformat_minor": 2
}