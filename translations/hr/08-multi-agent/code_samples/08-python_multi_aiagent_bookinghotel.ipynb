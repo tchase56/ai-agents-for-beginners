{
 "cells": [
  {
   "cell_type": "markdown",
   "metadata": {},
   "source": [
    "## **Primjeri: Multi-AI agenti za rezervaciju hotela**\n",
    "\n",
    "U današnjem užurbanom svijetu, planiranje poslovnog putovanja uključuje više od samo rezervacije leta i hotelske sobe. Potrebna je razina koordinacije i učinkovitosti koja može biti izazovna za postići. Tu na scenu stupaju Multi-AI agenti, revolucionirajući način na koji upravljamo našim potrebama za putovanjem.\n",
    "\n",
    "Zamislite da imate tim inteligentnih agenata na raspolaganju, koji zajedno rade kako bi s preciznošću i lakoćom upravljali svakim aspektom vašeg putovanja. Uz našu naprednu AI tehnologiju, stvorili smo specijalizirane agente za usluge rezervacija i organizaciju itinerara, osiguravajući besprijekorno i bezstresno iskustvo putovanja.\n",
    "\n",
    "Ovo je osnovni scenarij. Kada planiramo poslovno putovanje, trebamo se konzultirati s poslovnim putničkim agentom kako bismo dobili informacije o avionskim kartama, hotelima itd. Kroz AI agente, možemo izgraditi agente za usluge rezervacija i agente za organizaciju itinerara koji će surađivati i unaprijediti razinu inteligencije.\n"
   ]
  },
  {
   "cell_type": "markdown",
   "metadata": {},
   "source": [
    "# Inicijalizirajte Azure AI Agent Service i preuzmite informacije o konfiguraciji iz **.env**\n",
    "\n",
    "### **.env**\n",
    "\n",
    "Kreirajte .env datoteku\n",
    "\n",
    "**.env** sadrži connection string za Azure AI Agent Service, model koji koristi AOAI, te odgovarajući Google API Search servis API, ENDPOINT, itd.\n",
    "\n",
    "- **AZURE_AI_AGENT_MODEL_DEPLOYMENT_NAME** = \"Naziv implementacije modela za Azure AI Agent Service\"\n",
    "\n",
    "[**NOTE**] Trebat će vam model s ograničenjem od 100.000 tokena po minuti (Rate Limit) i ograničenjem od 600 zahtjeva po minuti (Request per minute).\n",
    "\n",
    "  Model možete dobiti u Azure AI Foundry - Model and Endpoint.\n",
    "\n",
    "- **AZURE_AI_AGENT_PROJECT_CONNECTION_STRING** = \"Connection string vašeg projekta za Azure AI Agent Service\"\n",
    "\n",
    "  Connection string projekta možete pronaći u pregledu vašeg projekta na AI ​​Foundry Portal ekranu.\n",
    "\n",
    "- **SERPAPI_SEARCH_API_KEY** = \"Vaš SERPAPI Search API KEY\"\n",
    "- **SERPAPI_SEARCH_ENDPOINT** = \"Vaš SERPAPI Search Endpoint\"\n",
    "\n",
    "Da biste dobili naziv implementacije modela i connection string projekta za Azure AI Agent Service, potrebno je kreirati Azure AI Agent Service. Preporučuje se koristiti [ovaj predložak](https://portal.azure.com/#create/Microsoft.Template/uri/https%3A%2F%2Fraw.githubusercontent.com%2Ffosteramanda%2Fazure-agent-quickstart-templates%2Frefs%2Fheads%2Fmaster%2Fquickstarts%2Fmicrosoft.azure-ai-agent-service%2Fstandard-agent%2Fazuredeploy.json) za direktno kreiranje. (***Napomena:*** Azure AI Agent Service trenutno je dostupan u ograničenim regijama. Preporučuje se da se konzultirate s [ovim linkom](https://learn.microsoft.com/en-us/azure/ai-services/agents/concepts/model-region-support) kako biste postavili regiju.)\n",
    "\n",
    "Agent treba pristupiti SERPAPI. Preporučuje se registracija putem [ovog linka](https://serpapi.com/searches). Nakon registracije, možete dobiti jedinstveni API KEY i ENDPOINT.\n"
   ]
  },
  {
   "cell_type": "markdown",
   "metadata": {},
   "source": [
    "# Prijava na Azure\n",
    "\n",
    "Sada se trebate prijaviti na Azure. Otvorite terminal u VScode-u i pokrenite naredbu `az login`.\n"
   ]
  },
  {
   "cell_type": "markdown",
   "metadata": {},
   "source": [
    "# Postavljanje\n",
    "\n",
    "Za pokretanje ove bilježnice, trebat ćete instalirati sljedeće biblioteke. Evo popisa potrebnih biblioteka i odgovarajućih pip install naredbi:\n",
    "\n",
    "azure-identity: Za autentifikaciju na Azureu.  \n",
    "requests: Za slanje HTTP zahtjeva.  \n",
    "semantic-kernel: Za okvir semantičkog kernela (pretpostavlja se da je ovo prilagođena ili specifična biblioteka, možda ćete je trebati instalirati iz određenog izvora ili repozitorija).  \n"
   ]
  },
  {
   "cell_type": "code",
   "execution_count": null,
   "metadata": {},
   "outputs": [],
   "source": [
    "!pip install azure-identity\n",
    "!pip install requests\n",
    "!pip install semantic-kernel\n",
    "!pip install --upgrade semantic_kernel\n",
    "!pip install azure-cli"
   ]
  },
  {
   "cell_type": "markdown",
   "metadata": {},
   "source": [
    "# Objašnjenje:  \n",
    "import asyncio: Ovo uvozi modul asyncio, koji pruža podršku za asinkrono programiranje u Pythonu. Omogućuje vam pisanje konkurentnog koda koristeći sintaksu async i await.  \n",
    "from typing import Annotated: Ovo uvozi tip Annotated iz modula typing. Annotated se koristi za dodavanje metapodataka na tipove u naznakama, što može biti korisno za razne svrhe poput validacije, dokumentacije ili alata.  \n"
   ]
  },
  {
   "cell_type": "code",
   "execution_count": null,
   "metadata": {
    "dotnet_interactive": {
     "language": "csharp"
    },
    "polyglot_notebook": {
     "kernelName": "csharp"
    }
   },
   "outputs": [],
   "source": [
    "import asyncio,os\n",
    "from typing import Annotated"
   ]
  },
  {
   "cell_type": "markdown",
   "metadata": {},
   "source": [
    "# Objašnjenje:\n",
    "Korištenjem `from dotenv import load_dotenv` i `load_dotenv()`, možete jednostavno upravljati postavkama konfiguracije i osjetljivim informacijama (poput API ključeva i URL-ova baze podataka) u `.env` datoteci, držeći ih odvojenima od izvornog koda i čineći vašu aplikaciju sigurnijom i lakšom za konfiguriranje.\n"
   ]
  },
  {
   "cell_type": "code",
   "execution_count": null,
   "metadata": {},
   "outputs": [],
   "source": [
    "import os\n",
    "from dotenv import load_dotenv\n",
    "\n",
    "# Load environment variables from .env file\n",
    "load_dotenv()"
   ]
  },
  {
   "cell_type": "markdown",
   "metadata": {},
   "source": [
    "# Objašnjenje:\n",
    "\n",
    "Import Statement: from azure.identity.aio import DefaultAzureCredential: Ova naredba uvozi klasu DefaultAzureCredential iz modula azure.identity.aio. Dio naziva modula \"aio\" označava da je dizajniran za asinkrone operacije.\n",
    "\n",
    "Svrha DefaultAzureCredential: Klasa DefaultAzureCredential dio je Azure SDK-a za Python. Ona pruža zadani način autentifikacije s Azure uslugama. Pokušava se autentificirati koristeći više metoda u određenom redoslijedu, kao što su varijable okruženja, upravljani identitet i Azure CLI vjerodajnice.\n",
    "\n",
    "Asinkrone operacije: Modul \"aio\" označava da klasa DefaultAzureCredential podržava asinkrone operacije. To znači da je možete koristiti s asyncio za izvođenje zahtjeva za autentifikaciju bez blokiranja.\n"
   ]
  },
  {
   "cell_type": "code",
   "execution_count": null,
   "metadata": {
    "dotnet_interactive": {
     "language": "csharp"
    },
    "polyglot_notebook": {
     "kernelName": "csharp"
    }
   },
   "outputs": [],
   "source": [
    "from azure.identity.aio import DefaultAzureCredential"
   ]
  },
  {
   "cell_type": "markdown",
   "metadata": {},
   "source": [
    "# Objašnjenje:\n",
    "Uvozi razne module i klase iz paketa semantic_kernel. Evo detaljnog pregleda svakog uvoza:\n",
    "\n",
    "AgentGroupChat iz semantic_kernel.agents: Ova klasa upravlja funkcionalnostima vezanim za grupni chat AI agenata. AzureAIAgent i AzureAIAgentSettings iz semantic_kernel.agents.azure_ai\n",
    "\n",
    "AzureAIAgent: Ova klasa se koristi za kreiranje i upravljanje AI agentima koji koriste Azure AI usluge.\n",
    "\n",
    "AzureAIAgentSettings: Ova klasa se koristi za konfiguriranje postavki za AzureAIAgent. TerminationStrategy iz semantic_kernel.agents.strategies.termination.termination_strategy:\n",
    "\n",
    "Ova klasa definira strategije za prekidanje izvršavanja AI agenata pod određenim uvjetima. ChatMessageContent iz semantic_kernel.contents.chat_message_content:\n",
    "\n",
    "Ova klasa se koristi za upravljanje sadržajem chat poruka.\n",
    "AuthorRole iz semantic_kernel.contents.utils.author_role:\n",
    "\n",
    "Ova klasa definira različite uloge autora u kontekstu chat poruka.\n",
    "\n",
    "kernel_function iz semantic_kernel.functions.kernel_function_decorator: Ovaj dekorator se koristi za definiranje kernel funkcija, koje su funkcije koje se mogu izvršavati unutar okvira semantic kernel.\n",
    "Ovi uvozi postavljaju potrebne komponente za kreiranje i upravljanje AI agentima koji mogu komunicirati u okruženju grupnog chata, moguće za zadatke poput rezervacije hotela ili sličnih aktivnosti.\n"
   ]
  },
  {
   "cell_type": "code",
   "execution_count": null,
   "metadata": {
    "dotnet_interactive": {
     "language": "csharp"
    },
    "polyglot_notebook": {
     "kernelName": "csharp"
    }
   },
   "outputs": [],
   "source": [
    "from semantic_kernel.agents import AgentGroupChat\n",
    "from semantic_kernel.agents import AzureAIAgent, AzureAIAgentSettings\n",
    "from semantic_kernel.agents.strategies.termination.termination_strategy import TerminationStrategy\n",
    "from semantic_kernel.contents import ChatMessageContent\n",
    "from semantic_kernel.contents import AuthorRole\n",
    "from semantic_kernel.functions.kernel_function_decorator import kernel_function"
   ]
  },
  {
   "cell_type": "markdown",
   "metadata": {},
   "source": [
    "# Objašnjenje:\n",
    "Zatim uvozimo klasu CodeInterpreterTool iz modula azure.ai.projects.models.\n",
    "\n",
    "CodeInterpreterTool: Ova klasa je dio Azure AI SDK-a i koristi se za interpretaciju i izvršavanje koda u kontekstu AI projekata. Pruža funkcionalnosti za pokretanje isječaka koda, analizu koda ili integraciju izvršavanja koda unutar AI tijekova rada. \n",
    "Ovaj uvoz postavlja potrebnu komponentu za korištenje CodeInterpreterTool-a u vašem projektu, što može biti korisno za zadatke koji uključuju dinamičku interpretaciju i izvršavanje koda.\n"
   ]
  },
  {
   "cell_type": "code",
   "execution_count": null,
   "metadata": {
    "dotnet_interactive": {
     "language": "csharp"
    },
    "polyglot_notebook": {
     "kernelName": "csharp"
    }
   },
   "outputs": [],
   "source": [
    "from azure.ai.projects.models import CodeInterpreterTool"
   ]
  },
  {
   "cell_type": "markdown",
   "metadata": {},
   "source": [
    "# Objašnjenje: \n",
    "Klasa ApprovalTerminationStrategy pruža specifičnu strategiju za prekid rada AI agenta. Agent će prekinuti rad ako posljednja poruka u njegovoj povijesti interakcija sadrži riječ \"spremljeno\". Ovo može biti korisno u situacijama gdje se zadatak agenta smatra dovršenim nakon što primi potvrdu da je nešto \"spremljeno\". Definirajte metodu interakcije. Nakon što je plan rezervacije spremljen, može se zaustaviti kada primi signal \"spremljeno\".\n"
   ]
  },
  {
   "cell_type": "code",
   "execution_count": null,
   "metadata": {
    "dotnet_interactive": {
     "language": "csharp"
    },
    "polyglot_notebook": {
     "kernelName": "csharp"
    }
   },
   "outputs": [],
   "source": [
    "class ApprovalTerminationStrategy(TerminationStrategy):\n",
    "    \"\"\"A strategy for determining when an agent should terminate.\"\"\"\n",
    "\n",
    "    async def should_agent_terminate(self, agent, history):\n",
    "        \"\"\"Check if the agent should terminate.\"\"\"\n",
    "        return \"saved\" in history[-1].content.lower()"
   ]
  },
  {
   "cell_type": "markdown",
   "metadata": {},
   "source": [
    "# Objašnjenje:\n",
    "\n",
    "Ova linija koda inicijalizira objekt AzureAIAgentSettings s zadanim ili unaprijed definiranim postavkama pozivom metode create(). Ovaj objekt postavki (ai_agent_settings) zatim se može koristiti za konfiguriranje i upravljanje instancom AzureAIAgent.\n"
   ]
  },
  {
   "cell_type": "code",
   "execution_count": null,
   "metadata": {
    "dotnet_interactive": {
     "language": "csharp"
    },
    "polyglot_notebook": {
     "kernelName": "csharp"
    }
   },
   "outputs": [],
   "source": [
    "ai_agent_settings = AzureAIAgentSettings.create()"
   ]
  },
  {
   "cell_type": "markdown",
   "metadata": {},
   "source": [
    "# Objašnjenje:\n",
    "Korištenjem biblioteke requests, možete jednostavno slati HTTP zahtjeve i komunicirati s web servisima u vašem Python kodu.\n"
   ]
  },
  {
   "cell_type": "code",
   "execution_count": null,
   "metadata": {
    "dotnet_interactive": {
     "language": "csharp"
    },
    "polyglot_notebook": {
     "kernelName": "csharp"
    }
   },
   "outputs": [],
   "source": [
    "import requests"
   ]
  },
  {
   "cell_type": "markdown",
   "metadata": {},
   "source": [
    "# Objašnjenje:\n",
    "Ovo je varijabla koja pohranjuje API ključ za pristup SERP (Search Engine Results Page) API usluzi. API ključ je jedinstveni identifikator koji se koristi za autentifikaciju zahtjeva povezanih s vašim računom.\n",
    "\n",
    "'GOOGLE_SEARCH_API_KEY': Ovo je rezervirani niz. Trebate zamijeniti 'GOOGLE_SEARCH_API_KEY' s vašim stvarnim SERP API ključem.\n",
    "\n",
    "Svrha: Svrha ovog retka je pohraniti API ključ u varijablu kako bi se mogao koristiti za autentifikaciju zahtjeva prema SERP API usluzi. API ključ je potreban za pristup usluzi i obavljanje pretraga.\n",
    "\n",
    "Kako dobiti SERP API ključ: Da biste dobili SERP API ključ, slijedite ove opće korake na https://serpapi.com (točni koraci mogu varirati ovisno o specifičnoj SERP API usluzi koju koristite):\n",
    "\n",
    "Odaberite SERP API uslugu: Postoji nekoliko dostupnih SERP API usluga, poput SerpAPI, Google Custom Search JSON API i drugih. Odaberite onu koja najbolje odgovara vašim potrebama.\n",
    "\n",
    "Registrirajte se za račun:\n",
    "\n",
    "Idite na web stranicu odabrane SERP API usluge https://www.serpapi.com i registrirajte se za račun. Možda ćete morati pružiti osnovne informacije i potvrditi svoju email adresu.\n",
    "\n",
    "Kreirajte API ključ:\n",
    "\n",
    "Nakon registracije, prijavite se na svoj račun i idite na odjeljak za API ili nadzornu ploču. Potražite opciju za kreiranje ili generiranje novog API ključa.\n",
    "Kopirajte API ključ:\n",
    "\n",
    "Kada se API ključ generira, kopirajte ga. Ovaj ključ će se koristiti za autentifikaciju vaših zahtjeva prema SERP API usluzi.\n",
    "Zamijenite rezervirani niz:\n",
    "\n",
    "Zamijenite rezervirani niz u vašoj .env datoteci.\n"
   ]
  },
  {
   "cell_type": "code",
   "execution_count": null,
   "metadata": {
    "dotnet_interactive": {
     "language": "csharp"
    },
    "polyglot_notebook": {
     "kernelName": "csharp"
    }
   },
   "outputs": [],
   "source": [
    "SERPAPI_SEARCH_API_KEY=os.getenv('SERPAPI_SEARCH_API_KEY')"
   ]
  },
  {
   "cell_type": "code",
   "execution_count": null,
   "metadata": {
    "dotnet_interactive": {
     "language": "csharp"
    },
    "polyglot_notebook": {
     "kernelName": "csharp"
    }
   },
   "outputs": [],
   "source": [
    "SERPAPI_SEARCH_ENDPOINT = os.getenv('SERPAPI_SEARCH_ENDPOINT')"
   ]
  },
  {
   "cell_type": "markdown",
   "metadata": {},
   "source": [
    "# Objašnjenje:\n",
    "Klasa BookingPlugin pruža metode za rezervaciju hotela i letova koristeći Serpapi.com Google Search API. Konstruira potrebne parametre, šalje API zahtjeve i obrađuje odgovore kako bi vratila relevantne informacije o rezervacijama. API ključ (SERPAPI_SEARCH_API_KEY) i krajnja točka (SERPAPI_SEARCH_ENDPOINT) koriste se za autentifikaciju i slanje zahtjeva Google Search API-ju.\n"
   ]
  },
  {
   "cell_type": "code",
   "execution_count": null,
   "metadata": {
    "dotnet_interactive": {
     "language": "csharp"
    },
    "polyglot_notebook": {
     "kernelName": "csharp"
    }
   },
   "outputs": [],
   "source": [
    "# Define Booking Plugin\n",
    "class BookingPlugin:\n",
    "    \"\"\"Booking Plugin for customers\"\"\"\n",
    "    @kernel_function(description=\"booking hotel\")\n",
    "    def booking_hotel(self,query: Annotated[str, \"The name of the city\"], check_in_date: Annotated[str, \"Hotel Check-in Time\"], check_out_date: Annotated[str, \"Hotel Check-in Time\"])-> Annotated[str, \"Return the result of booking hotel infomation\"]:\n",
    "\n",
    "        params = {\n",
    "            \"engine\": \"google_hotels\",\n",
    "            \"q\": query,\n",
    "            \"check_in_date\": check_in_date,\n",
    "            \"check_out_date\": check_out_date,\n",
    "            \"adults\": \"2\",\n",
    "            \"currency\": \"USD\",\n",
    "            \"gl\": \"us\",\n",
    "            \"hl\": \"en\",\n",
    "            \"api_key\": SERPAPI_SEARCH_API_KEY\n",
    "        }\n",
    "\n",
    "        response = requests.get(SERPAPI_SEARCH_ENDPOINT, params=params)\n",
    "        if response.status_code == 200:\n",
    "            response = response.json()\n",
    "            return response[\"properties\"]\n",
    "        else:\n",
    "            return None\n",
    "\n",
    "    \n",
    "    @kernel_function(description=\"booking fight\")\n",
    "    def  booking_fight(self,origin: Annotated[str, \"The name of Departure\"], destination: Annotated[str, \"The name of Destination\"], outbound_date: Annotated[str, \"The date of outbound\"], return_date: Annotated[str, \"The date of Return_date\"])-> Annotated[str, \"Return the result of booking fight infomation\"]:\n",
    "        \n",
    "        go_params = {\n",
    "            \"engine\": \"google_flights\",   \n",
    "            \"departure_id\": origin,\n",
    "            \"arrival_id\": destination,\n",
    "            \"outbound_date\": outbound_date,\n",
    "            \"return_date\": return_date,  \n",
    "            \"currency\": \"USD\",\n",
    "            \"hl\": \"en\",\n",
    "            \"api_key\": SERPAPI_SEARCH_API_KEY  \n",
    "        }\n",
    "\n",
    "        print(go_params)\n",
    "\n",
    "        go_response = requests.get(SERPAPI_SEARCH_ENDPOINT, params=go_params)\n",
    "\n",
    "\n",
    "        result = ''\n",
    "\n",
    "        if go_response.status_code == 200:\n",
    "            response = go_response.json()\n",
    "\n",
    "            result += \"# outbound \\n \" + str(response)\n",
    "        else:\n",
    "            print('error!!!')\n",
    "            # return None\n",
    "\n",
    "        \n",
    "        back_params = {\n",
    "            \"engine\": \"google_flights\",   \n",
    "            \"departure_id\": destination,\n",
    "            \"arrival_id\": origin,\n",
    "            \"outbound_date\": return_date,\n",
    "            \"return_date\": return_date,  \n",
    "            \"currency\": \"USD\",\n",
    "            \"hl\": \"en\",\n",
    "            \"api_key\": SERPAPI_SEARCH_API_KEY  \n",
    "        }\n",
    "\n",
    "\n",
    "        print(back_params)\n",
    "\n",
    "\n",
    "        back_response = requests.get(SERPAPI_SEARCH_ENDPOINT, params=back_params)\n",
    "\n",
    "\n",
    "\n",
    "        if back_response.status_code == 200:\n",
    "            response = back_response.json()\n",
    "\n",
    "            result += \"\\n # return \\n\"  + str(response)\n",
    "\n",
    "        else:\n",
    "            print('error!!!')\n",
    "            # return None\n",
    "        \n",
    "        print(result)\n",
    "\n",
    "        return result\n",
    "\n",
    "        \n"
   ]
  },
  {
   "cell_type": "markdown",
   "metadata": {},
   "source": [
    "# Objašnjenje:\n",
    "Klasa SavePlugin pruža metodu saving_plan za spremanje planova putovanja koristeći Azure AI usluge. Postavlja Azure vjerodajnice, kreira AI agenta, obrađuje korisničke unose za generiranje i spremanje sadržaja plana putovanja te upravlja operacijama spremanja datoteka i čišćenja. Metoda vraća \"Saved\" nakon uspješnog završetka.\n"
   ]
  },
  {
   "cell_type": "code",
   "execution_count": null,
   "metadata": {
    "dotnet_interactive": {
     "language": "csharp"
    },
    "polyglot_notebook": {
     "kernelName": "csharp"
    }
   },
   "outputs": [],
   "source": [
    "class SavePlugin:\n",
    "    \"\"\"Save Plugin for customers\"\"\"\n",
    "    @kernel_function(description=\"saving plan\")\n",
    "    async def saving_plan(self,tripplan: Annotated[str, \"The content of trip plan\"])-> Annotated[str, \"Return status of save content\"]:\n",
    "\n",
    "        async with (\n",
    "            DefaultAzureCredential() as creds,\n",
    "            AzureAIAgent.create_client(\n",
    "                credential=creds,\n",
    "                conn_str=ai_agent_settings.project_connection_string.get_secret_value(),\n",
    "            ) as client,\n",
    "        ):\n",
    "\n",
    "            code_interpreter = CodeInterpreterTool()\n",
    "            \n",
    "            agent_definition = await client.agents.create_agent(\n",
    "                model=ai_agent_settings.model_deployment_name,\n",
    "                tools=code_interpreter.definitions,\n",
    "                tool_resources=code_interpreter.resources,\n",
    "            )\n",
    "\n",
    "\n",
    "            agent = AzureAIAgent(\n",
    "                client=client,\n",
    "                definition=agent_definition,\n",
    "            )\n",
    "\n",
    "            thread = await client.agents.create_thread()\n",
    "\n",
    "\n",
    "            user_inputs = [\n",
    "                \"\"\"\n",
    "            \n",
    "                        You are my Python programming assistant. Generate code,save \"\"\"+ tripplan +\n",
    "                        \n",
    "                    \"\"\"    \n",
    "                        and execute it according to the following requirements\n",
    "\n",
    "                        1. Save blog content to trip-{YYMMDDHHMMSS}.md\n",
    "\n",
    "                        2. give me the download this file link\n",
    "                    \"\"\"\n",
    "            ]\n",
    "\n",
    "\n",
    "\n",
    "            try:\n",
    "                for user_input in user_inputs:\n",
    "                    # Add the user input as a chat message\n",
    "                    await agent.add_chat_message(\n",
    "                        thread_id=thread.id, message=ChatMessageContent(role=AuthorRole.USER, content=user_input)\n",
    "                    )\n",
    "                    print(f\"# User: '{user_input}'\")\n",
    "                    # Invoke the agent for the specified thread\n",
    "                    async for content in agent.invoke(thread_id=thread.id):\n",
    "                        if content.role != AuthorRole.TOOL:\n",
    "                            print(f\"# Agent: {content.content}\")\n",
    "\n",
    "                    \n",
    "                    messages = await client.agents.list_messages(thread_id=thread.id)\n",
    "\n",
    "                    # OpenAIPageableListOfThreadMessage\n",
    "                    # OpenAIPageableListOfThreadMessage\n",
    "\n",
    "\n",
    "                    for file_path_annotation in messages.file_path_annotations:\n",
    "\n",
    "                            file_name = os.path.basename(file_path_annotation.text)\n",
    "\n",
    "                            await client.agents.save_file(file_id=file_path_annotation.file_path.file_id, file_name=file_name,target_dir=\"./trip\")\n",
    "\n",
    "                    \n",
    "            finally:\n",
    "                await client.agents.delete_thread(thread.id)\n",
    "                await client.agents.delete_agent(agent.id)\n",
    "\n",
    "\n",
    "        return \"Saved\""
   ]
  },
  {
   "cell_type": "markdown",
   "metadata": {},
   "source": [
    "# Objašnjenje:\n",
    "Ovaj kod postavlja Azure AI agente za upravljanje rezervacijama letova i hotela te spremanje planova putovanja na temelju korisničkih unosa. Koristi Azure vjerodajnice za kreiranje i konfiguriranje agenata, obrađuje korisničke unose putem grupnog chata i osigurava pravilno čišćenje nakon dovršetka zadataka. Agenti koriste specifične dodatke (BookingPlugin i SavePlugin) za obavljanje svojih odgovarajućih zadataka.\n"
   ]
  },
  {
   "cell_type": "code",
   "execution_count": null,
   "metadata": {
    "dotnet_interactive": {
     "language": "csharp"
    },
    "polyglot_notebook": {
     "kernelName": "csharp"
    }
   },
   "outputs": [],
   "source": [
    "async with (\n",
    "    DefaultAzureCredential() as creds,\n",
    "    AzureAIAgent.create_client(\n",
    "        credential=creds,\n",
    "        conn_str=ai_agent_settings.project_connection_string.get_secret_value(),\n",
    "    ) as client,\n",
    "):\n",
    "    BOOKING_AGENT_NAME = \"BookingAgent\"\n",
    "    BOOKING_AGENT_INSTRUCTIONS = \"\"\"\n",
    "    You are a booking agent. Help me book flights or hotels.\n",
    "\n",
    "    Thought: Please understand the user's intention and confirm whether to use the reservation system to complete the task.\n",
    "\n",
    "    Actions:\n",
    "    - For flight bookings, convert the departure and destination names into airport codes.\n",
    "    - Use the appropriate API for hotel or flight bookings. Verify that all necessary parameters are available. If any parameters are missing, ask the user to provide them. If all parameters are complete, call the corresponding function.\n",
    "    - If the task is not related to hotel or flight booking, respond with the final answer only.\n",
    "    - Output the results using a markdown table:\n",
    "      - For flight bookings, output separate outbound and return contents in the order of:\n",
    "        Departure Airport | Airline | Flight Number | Departure Time | Arrival Airport | Arrival Time | Duration | Airplane | Travel Class | Price (USD) | Legroom | Extensions | Carbon Emissions (kg).\n",
    "      - For hotel bookings, output in the order of:\n",
    "        Property Name | Property Description | Check-in Time | Check-out Time | Prices | Nearby Places | Hotel Class | GPS Coordinates.\n",
    "    \"\"\"\n",
    "\n",
    "    SAVE_AGENT_NAME = \"SaveAgent\"\n",
    "    SAVE_AGENT_INSTRUCTIONS = \"\"\"\n",
    "    You are a save tool agent. Help me to save the trip plan.\n",
    "    \"\"\"\n",
    "\n",
    "    # Create agent definition\n",
    "    booking_agent_definition = await client.agents.create_agent(\n",
    "        model=ai_agent_settings.model_deployment_name,\n",
    "        name=BOOKING_AGENT_NAME,\n",
    "        instructions=BOOKING_AGENT_INSTRUCTIONS,\n",
    "    )\n",
    "\n",
    "    # Create the AzureAI Agent\n",
    "    booking_agent = AzureAIAgent(\n",
    "        client=client,\n",
    "        definition=booking_agent_definition,\n",
    "        # Optionally configure polling options\n",
    "        # polling_options=RunPollingOptions(run_polling_interval=timedelta(seconds=1)),\n",
    "    )\n",
    "\n",
    "    # Add the sample plugin to the kernel\n",
    "    booking_agent.kernel.add_plugin(BookingPlugin(), plugin_name=\"booking\")\n",
    "\n",
    "    # Create agent definition\n",
    "    save_agent_definition = await client.agents.create_agent(\n",
    "        model=ai_agent_settings.model_deployment_name,\n",
    "        name=SAVE_AGENT_NAME,\n",
    "        instructions=SAVE_AGENT_INSTRUCTIONS\n",
    "    )\n",
    "\n",
    "    # Create the AzureAI Agent\n",
    "    save_agent = AzureAIAgent(\n",
    "        client=client,\n",
    "        definition=save_agent_definition,\n",
    "    )\n",
    "\n",
    "    save_agent.kernel.add_plugin(SavePlugin(), plugin_name=\"saving\")\n",
    "\n",
    "    user_inputs = [\n",
    "        \"I have a business trip from London to New York in Feb 20 2025 to Feb 27 2025 ,help me to book a hotel and fight tickets and save it\"\n",
    "    ]\n",
    "\n",
    "    chat = AgentGroupChat(\n",
    "        agents=[booking_agent, save_agent],\n",
    "        termination_strategy=ApprovalTerminationStrategy(agents=[save_agent], maximum_iterations=10),\n",
    "    )\n",
    "\n",
    "    try:\n",
    "        for user_input in user_inputs:\n",
    "            # Add the user input as a chat message\n",
    "            await chat.add_chat_message(\n",
    "                ChatMessageContent(role=AuthorRole.USER, content=user_input)\n",
    "            )\n",
    "            print(f\"# User: '{user_input}'\")\n",
    "\n",
    "            async for content in chat.invoke():\n",
    "                print(f\"# {content.role} - {content.name or '*'}: '{content.content}'\")\n",
    "\n",
    "            print(f\"# IS COMPLETE: {chat.is_complete}\")\n",
    "\n",
    "            print(\"*\" * 60)\n",
    "            print(\"Chat History (In Descending Order):\\n\")\n",
    "            async for message in chat.get_chat_messages(agent=save_agent):\n",
    "                print(f\"# {message.role} - {message.name or '*'}: '{message.content}'\")\n",
    "    finally:\n",
    "        await chat.reset()\n",
    "        await client.agents.delete_agent(save_agent.id)\n",
    "        await client.agents.delete_agent(booking_agent.id)\n"
   ]
  },
  {
   "cell_type": "markdown",
   "metadata": {},
   "source": [
    "\n---\n\n**Odricanje od odgovornosti**:  \nOvaj dokument je preveden pomoću AI usluge za prevođenje [Co-op Translator](https://github.com/Azure/co-op-translator). Iako nastojimo osigurati točnost, imajte na umu da automatski prijevodi mogu sadržavati pogreške ili netočnosti. Izvorni dokument na izvornom jeziku treba smatrati autoritativnim izvorom. Za ključne informacije preporučuje se profesionalni prijevod od strane ljudskog prevoditelja. Ne preuzimamo odgovornost za bilo kakve nesporazume ili pogrešne interpretacije koje proizlaze iz korištenja ovog prijevoda.\n"
   ]
  }
 ],
 "metadata": {
  "kernelspec": {
   "display_name": "3.12.1",
   "language": "python",
   "name": "python3"
  },
  "language_info": {
   "codemirror_mode": {
    "name": "ipython",
    "version": 3
   },
   "file_extension": ".py",
   "mimetype": "text/x-python",
   "name": "python",
   "nbconvert_exporter": "python",
   "pygments_lexer": "ipython3",
   "version": "3.12.1"
  },
  "polyglot_notebook": {
   "kernelInfo": {
    "defaultKernelName": "csharp",
    "items": [
     {
      "aliases": [],
      "name": "csharp"
     }
    ]
   }
  },
  "coopTranslator": {
   "original_hash": "1baa60020a95eda27b7e9ecfda99965b",
   "translation_date": "2025-08-30T00:46:32+00:00",
   "source_file": "08-multi-agent/code_samples/08-python_multi_aiagent_bookinghotel.ipynb",
   "language_code": "hr"
  }
 },
 "nbformat": 4,
 "nbformat_minor": 2
}