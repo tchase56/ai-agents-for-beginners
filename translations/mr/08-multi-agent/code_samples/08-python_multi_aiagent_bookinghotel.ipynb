{
 "cells": [
  {
   "cell_type": "markdown",
   "metadata": {},
   "source": [
    "## **नमुने: हॉटेल बुकिंगसाठी मल्टी-एआय एजंट्स**\n",
    "\n",
    "आजच्या वेगवान जगात, व्यावसायिक प्रवासाचे नियोजन केवळ विमान आणि हॉटेल रूम बुकिंगपुरते मर्यादित नसते. यासाठी समन्वय आणि कार्यक्षमता आवश्यक असते, जी साध्य करणे कधी कधी कठीण होऊ शकते. याच ठिकाणी मल्टी-एआय एजंट्स महत्त्वाची भूमिका बजावतात, ज्यामुळे आपल्या प्रवासाच्या गरजा व्यवस्थापित करण्याची पद्धत पूर्णपणे बदलून जाते.\n",
    "\n",
    "कल्पना करा की तुमच्याकडे बुद्धिमान एजंट्सची एक टीम आहे, जी तुमच्या प्रवासाच्या प्रत्येक पैलूला अचूकतेने आणि सुलभतेने हाताळण्यासाठी एकत्र काम करत आहे. आमच्या प्रगत एआय तंत्रज्ञानाच्या मदतीने, आम्ही बुकिंग सेवा आणि प्रवासाच्या नियोजनासाठी विशेष एजंट्स तयार केले आहेत, जे तुमचा प्रवास सहज आणि तणावमुक्त बनवतात.\n",
    "\n",
    "हा एक मूलभूत परिदृश्य आहे. व्यावसायिक प्रवासाचे नियोजन करताना, आपल्याला विमान तिकीट माहिती, हॉटेल माहिती इत्यादी मिळवण्यासाठी व्यावसायिक प्रवास एजंटशी सल्लामसलत करावी लागते. एआय एजंट्सच्या माध्यमातून, आपण बुकिंग सेवांसाठी एजंट्स आणि प्रवास नियोजनासाठी एजंट्स तयार करू शकतो, जे एकत्रितपणे काम करून बुद्धिमत्तेची पातळी सुधारू शकतात.\n"
   ]
  },
  {
   "cell_type": "markdown",
   "metadata": {},
   "source": [
    "# Azure AI Agent सेवा प्रारंभ करा आणि **.env** मधून कॉन्फिगरेशन माहिती मिळवा\n",
    "\n",
    "### **.env**\n",
    "\n",
    "एक .env फाइल तयार करा\n",
    "\n",
    "**.env** मध्ये Azure AI Agent सेवेचा कनेक्शन स्ट्रिंग, AOAI ने वापरलेला मॉडेल, आणि संबंधित Google API Search सेवा API, ENDPOINT इत्यादींची माहिती असते.\n",
    "\n",
    "- **AZURE_AI_AGENT_MODEL_DEPLOYMENT_NAME** = \"तुमच्या Azure AI Agent सेवेच्या मॉडेल डिप्लॉयमेंटचे नाव\"\n",
    "\n",
    "[**NOTE**] तुम्हाला 100,000 रेट लिमिट (प्रति मिनिट टोकन्स) आणि 600 रेट लिमिट (प्रति मिनिट विनंत्या) असलेले मॉडेल आवश्यक आहे.\n",
    "\n",
    "  तुम्ही Azure AI Foundry - Model आणि Endpoint मध्ये मॉडेल मिळवू शकता.\n",
    "\n",
    "- **AZURE_AI_AGENT_PROJECT_CONNECTION_STRING** = \"तुमच्या Azure AI Agent सेवेच्या प्रोजेक्ट कनेक्शन स्ट्रिंग\"\n",
    "\n",
    "  तुम्ही AI Foundry पोर्टल स्क्रीनमधील प्रोजेक्ट ओव्हरव्ह्यूमध्ये प्रोजेक्ट कनेक्शन स्ट्रिंग मिळवू शकता.\n",
    "\n",
    "- **SERPAPI_SEARCH_API_KEY** = \"तुमचा SERPAPI सर्च API KEY\"\n",
    "- **SERPAPI_SEARCH_ENDPOINT** = \"तुमचा SERPAPI सर्च ENDPOINT\"\n",
    "\n",
    "Azure AI Agent सेवेचे मॉडेल डिप्लॉयमेंट नाव आणि प्रोजेक्ट कनेक्शन स्ट्रिंग मिळवण्यासाठी, तुम्हाला Azure AI Agent सेवा तयार करावी लागेल. [या टेम्पलेटचा](https://portal.azure.com/#create/Microsoft.Template/uri/https%3A%2F%2Fraw.githubusercontent.com%2Ffosteramanda%2Fazure-agent-quickstart-templates%2Frefs%2Fheads%2Fmaster%2Fquickstarts%2Fmicrosoft.azure-ai-agent-service%2Fstandard-agent%2Fazuredeploy.json) वापर करून थेट तयार करणे शिफारसीय आहे. （***टीप:*** Azure AI Agent सेवा सध्या मर्यादित प्रदेशात सेट केली आहे. प्रदेश सेट करण्यासाठी [या लिंकचा](https://learn.microsoft.com/en-us/azure/ai-services/agents/concepts/model-region-support) संदर्भ घ्या.)\n",
    "\n",
    "एजंटला SERPAPI वर प्रवेश आवश्यक आहे. [या लिंकचा](https://serpapi.com/searches) वापर करून नोंदणी करणे शिफारसीय आहे. नोंदणी केल्यानंतर, तुम्ही एक अद्वितीय API KEY आणि ENDPOINT मिळवू शकता.\n"
   ]
  },
  {
   "cell_type": "markdown",
   "metadata": {},
   "source": [
    "# Azure मध्ये लॉगिन करा\n",
    "\n",
    "आता तुम्हाला Azure मध्ये लॉगिन करायचे आहे. VScode मध्ये टर्मिनल उघडा आणि `az login` कमांड चालवा.\n"
   ]
  },
  {
   "cell_type": "markdown",
   "metadata": {},
   "source": [
    "# सेटअप\n",
    "\n",
    "हे नोटबुक चालवण्यासाठी तुम्हाला खालील लायब्ररी इंस्टॉल कराव्या लागतील. आवश्यक लायब्ररी आणि त्यासाठी लागणाऱ्या pip install कमांड्सची यादी खाली दिली आहे:\n",
    "\n",
    "azure-identity: Azure प्रमाणीकरणासाठी.  \n",
    "requests: HTTP विनंत्या करण्यासाठी.  \n",
    "semantic-kernel: सिमॅंटिक कर्नल फ्रेमवर्कसाठी (जर ही कस्टम किंवा विशिष्ट लायब्ररी असेल, तर तुम्हाला ती विशिष्ट स्रोत किंवा रिपॉझिटरीमधून इंस्टॉल करावी लागेल).  \n"
   ]
  },
  {
   "cell_type": "code",
   "execution_count": null,
   "metadata": {},
   "outputs": [],
   "source": [
    "!pip install azure-identity\n",
    "!pip install requests\n",
    "!pip install semantic-kernel\n",
    "!pip install --upgrade semantic_kernel\n",
    "!pip install azure-cli"
   ]
  },
  {
   "cell_type": "markdown",
   "metadata": {},
   "source": [
    "# स्पष्टीकरण:  \n",
    "import asyncio: हे asyncio मॉड्यूल आयात करते, जे पायथॉनमध्ये असिंक्रोनस प्रोग्रामिंगसाठी समर्थन प्रदान करते. यामुळे तुम्हाला async आणि await सिंटॅक्स वापरून समांतर कोड लिहिण्याची परवानगी मिळते.  \n",
    "from typing: Annotated: हे typing मॉड्यूलमधून Annotated प्रकार आयात करते. Annotated प्रकार टाइप हिंट्समध्ये मेटाडेटा जोडण्यासाठी वापरले जाते, जे वैधता तपासणी, दस्तऐवजीकरण किंवा टूलिंग यांसारख्या विविध उद्दिष्टांसाठी उपयुक्त ठरू शकते.  \n"
   ]
  },
  {
   "cell_type": "code",
   "execution_count": null,
   "metadata": {
    "dotnet_interactive": {
     "language": "csharp"
    },
    "polyglot_notebook": {
     "kernelName": "csharp"
    }
   },
   "outputs": [],
   "source": [
    "import asyncio,os\n",
    "from typing import Annotated"
   ]
  },
  {
   "cell_type": "markdown",
   "metadata": {},
   "source": [
    "# स्पष्टीकरण:\n",
    "`from dotenv import load_dotenv` आणि `load_dotenv()` वापरून, तुम्ही .env फाइलमध्ये कॉन्फिगरेशन सेटिंग्ज आणि संवेदनशील माहिती (जसे की API कीज आणि डेटाबेस URLs) सहजपणे व्यवस्थापित करू शकता. यामुळे ती तुमच्या सोर्स कोडपासून वेगळी ठेवली जाते आणि तुमचे ॲप्लिकेशन अधिक सुरक्षित आणि कॉन्फिगर करणे सोपे होते.\n"
   ]
  },
  {
   "cell_type": "code",
   "execution_count": null,
   "metadata": {},
   "outputs": [],
   "source": [
    "import os\n",
    "from dotenv import load_dotenv\n",
    "\n",
    "# Load environment variables from .env file\n",
    "load_dotenv()"
   ]
  },
  {
   "cell_type": "markdown",
   "metadata": {},
   "source": [
    "# स्पष्टीकरण:\n",
    "\n",
    "Import Statement: from azure.identity.aio import DefaultAzureCredential: हा वाक्यांश azure.identity.aio मॉड्यूलमधून DefaultAzureCredential वर्ग आयात करतो. मॉड्यूलच्या नावातील `aio` हे सूचित करते की हे असिंक्रोनस ऑपरेशन्ससाठी डिझाइन केलेले आहे.\n",
    "\n",
    "DefaultAzureCredential चा उद्देश: DefaultAzureCredential वर्ग हा Azure SDK for Python चा एक भाग आहे. तो Azure सेवांसोबत प्रमाणीकरण करण्याचा एक डिफॉल्ट मार्ग प्रदान करतो. तो विशिष्ट क्रमाने अनेक पद्धतींचा वापर करून प्रमाणीकरण करण्याचा प्रयत्न करतो, जसे की पर्यावरणीय चल (environment variables), व्यवस्थापित ओळख (managed identity), आणि Azure CLI क्रेडेन्शियल्स.\n",
    "\n",
    "असिंक्रोनस ऑपरेशन्स: `aio` मॉड्यूल सूचित करते की DefaultAzureCredential वर्ग असिंक्रोनस ऑपरेशन्सना समर्थन देतो. याचा अर्थ असा की तुम्ही `asyncio` चा वापर करून नॉन-ब्लॉकिंग प्रमाणीकरण विनंत्या करू शकता.\n"
   ]
  },
  {
   "cell_type": "code",
   "execution_count": null,
   "metadata": {
    "dotnet_interactive": {
     "language": "csharp"
    },
    "polyglot_notebook": {
     "kernelName": "csharp"
    }
   },
   "outputs": [],
   "source": [
    "from azure.identity.aio import DefaultAzureCredential"
   ]
  },
  {
   "cell_type": "markdown",
   "metadata": {},
   "source": [
    "# स्पष्टीकरण:\n",
    "semantic_kernel पॅकेजमधील विविध मॉड्यूल्स आणि क्लासेस आयात केले जात आहेत. प्रत्येक आयात केलेल्या घटकाचे स्पष्टीकरण खाली दिले आहे:\n",
    "\n",
    "semantic_kernel.agents मधील AgentGroupChat: हा क्लास AI एजंट्ससाठी ग्रुप चॅटशी संबंधित कार्ये हाताळतो. semantic_kernel.agents.azure_ai मधील AzureAIAgent आणि AzureAIAgentSettings:\n",
    "\n",
    "AzureAIAgent: हा क्लास Azure AI सेवांचा उपयोग करणारे AI एजंट्स तयार करण्यासाठी आणि व्यवस्थापित करण्यासाठी वापरला जातो.\n",
    "\n",
    "AzureAIAgentSettings: हा क्लास AzureAIAgent साठी सेटिंग्ज कॉन्फिगर करण्यासाठी वापरला जातो. semantic_kernel.agents.strategies.termination.termination_strategy मधील TerminationStrategy:\n",
    "\n",
    "हा क्लास AI एजंट्सची अंमलबजावणी विशिष्ट परिस्थितीत थांबवण्यासाठी रणनीती परिभाषित करतो. semantic_kernel.contents.chat_message_content मधील ChatMessageContent:\n",
    "\n",
    "हा क्लास चॅट संदेशांच्या सामग्रीचे व्यवस्थापन करण्यासाठी वापरला जातो.\n",
    "semantic_kernel.contents.utils.author_role मधील AuthorRole:\n",
    "\n",
    "हा क्लास चॅट संदेशांच्या संदर्भात लेखकांसाठी विविध भूमिका परिभाषित करतो.\n",
    "\n",
    "semantic_kernel.functions.kernel_function_decorator मधील kernel_function: हा डेकोरेटर semantic kernel फ्रेमवर्कमध्ये अंमलात आणता येणाऱ्या फंक्शन्स परिभाषित करण्यासाठी वापरला जातो.\n",
    "या आयात केलेल्या घटकांमुळे AI एजंट्स तयार करण्यासाठी आणि व्यवस्थापित करण्यासाठी आवश्यक घटक सेटअप केले जातात, जे ग्रुप चॅट वातावरणात संवाद साधू शकतात, जसे की हॉटेल बुकिंग किंवा तत्सम कार्ये.\n"
   ]
  },
  {
   "cell_type": "code",
   "execution_count": null,
   "metadata": {
    "dotnet_interactive": {
     "language": "csharp"
    },
    "polyglot_notebook": {
     "kernelName": "csharp"
    }
   },
   "outputs": [],
   "source": [
    "from semantic_kernel.agents import AgentGroupChat\n",
    "from semantic_kernel.agents import AzureAIAgent, AzureAIAgentSettings\n",
    "from semantic_kernel.agents.strategies.termination.termination_strategy import TerminationStrategy\n",
    "from semantic_kernel.contents import ChatMessageContent\n",
    "from semantic_kernel.contents import AuthorRole\n",
    "from semantic_kernel.functions.kernel_function_decorator import kernel_function"
   ]
  },
  {
   "cell_type": "markdown",
   "metadata": {},
   "source": [
    "# स्पष्टीकरण:\n",
    "पुढे आपण azure.ai.projects.models मॉड्यूलमधून CodeInterpreterTool वर्ग आयात करतो.\n",
    "\n",
    "CodeInterpreterTool: हा वर्ग Azure AI SDK चा भाग आहे आणि AI प्रकल्पांच्या संदर्भात कोडची व्याख्या आणि अंमलबजावणी करण्यासाठी वापरला जातो. हा कोड स्निपेट्स चालवणे, कोडचे विश्लेषण करणे किंवा AI वर्कफ्लोमध्ये कोड अंमलबजावणी समाकलित करण्यासाठी कार्यक्षमता प्रदान करतो. \n",
    "हा आयात तुमच्या प्रकल्पात CodeInterpreterTool वापरण्यासाठी आवश्यक घटक सेट करतो, जो गतिशीलपणे कोडची व्याख्या आणि अंमलबजावणी करण्याशी संबंधित कार्यांसाठी उपयुक्त ठरू शकतो.\n"
   ]
  },
  {
   "cell_type": "code",
   "execution_count": null,
   "metadata": {
    "dotnet_interactive": {
     "language": "csharp"
    },
    "polyglot_notebook": {
     "kernelName": "csharp"
    }
   },
   "outputs": [],
   "source": [
    "from azure.ai.projects.models import CodeInterpreterTool"
   ]
  },
  {
   "cell_type": "markdown",
   "metadata": {},
   "source": [
    "# स्पष्टीकरण: \n",
    "ApprovalTerminationStrategy वर्ग एखाद्या AI एजंटच्या ऑपरेशनला थांबवण्यासाठी एक विशिष्ट रणनीती प्रदान करतो. एजंट त्याच्या संवाद इतिहासातील शेवटच्या संदेशामध्ये \"saved\" हा शब्द असल्यास थांबेल. हे अशा परिस्थितीत उपयुक्त ठरू शकते जिथे एजंटचे कार्य पूर्ण मानले जाते जेव्हा त्याला काहीतरी \"saved\" असल्याची पुष्टी मिळते. संवाद पद्धत परिभाषित करा. आरक्षण योजना सेव्ह झाल्यानंतर, सेव्ह सिग्नल प्राप्त झाल्यावर थांबवले जाऊ शकते.\n"
   ]
  },
  {
   "cell_type": "code",
   "execution_count": null,
   "metadata": {
    "dotnet_interactive": {
     "language": "csharp"
    },
    "polyglot_notebook": {
     "kernelName": "csharp"
    }
   },
   "outputs": [],
   "source": [
    "class ApprovalTerminationStrategy(TerminationStrategy):\n",
    "    \"\"\"A strategy for determining when an agent should terminate.\"\"\"\n",
    "\n",
    "    async def should_agent_terminate(self, agent, history):\n",
    "        \"\"\"Check if the agent should terminate.\"\"\"\n",
    "        return \"saved\" in history[-1].content.lower()"
   ]
  },
  {
   "cell_type": "markdown",
   "metadata": {},
   "source": [
    "# स्पष्टीकरण:\n",
    "\n",
    "हा कोड AzureAIAgentSettings ऑब्जेक्टला डीफॉल्ट किंवा पूर्वनिर्धारित सेटिंग्जसह प्रारंभ करतो, create() मेथड कॉल करून. हा सेटिंग्ज ऑब्जेक्ट (ai_agent_settings) नंतर AzureAIAgent इंस्टन्स कॉन्फिगर आणि व्यवस्थापित करण्यासाठी वापरला जाऊ शकतो.\n"
   ]
  },
  {
   "cell_type": "code",
   "execution_count": null,
   "metadata": {
    "dotnet_interactive": {
     "language": "csharp"
    },
    "polyglot_notebook": {
     "kernelName": "csharp"
    }
   },
   "outputs": [],
   "source": [
    "ai_agent_settings = AzureAIAgentSettings.create()"
   ]
  },
  {
   "cell_type": "markdown",
   "metadata": {},
   "source": [
    "# स्पष्टीकरण:\n",
    "requests लायब्ररी आयात करून, तुम्ही तुमच्या Python कोडमध्ये HTTP विनंत्या सहजपणे करू शकता आणि वेब सेवांशी संवाद साधू शकता.\n"
   ]
  },
  {
   "cell_type": "code",
   "execution_count": null,
   "metadata": {
    "dotnet_interactive": {
     "language": "csharp"
    },
    "polyglot_notebook": {
     "kernelName": "csharp"
    }
   },
   "outputs": [],
   "source": [
    "import requests"
   ]
  },
  {
   "cell_type": "markdown",
   "metadata": {},
   "source": [
    "# स्पष्टीकरण:\n",
    "ही एक व्हेरिएबल आहे जी SERP (सर्च इंजिन रिझल्ट्स पेज) API सेवेसाठी API की साठवते. API की ही एक अद्वितीय ओळख आहे जी तुमच्या खात्याशी संबंधित विनंत्या प्रमाणित करण्यासाठी वापरली जाते.\n",
    "\n",
    "'GOOGLE_SEARCH_API_KEY': हा एक प्लेसहोल्डर स्ट्रिंग आहे. तुम्हाला ''GOOGLE_SEARCH_API_KEY'' च्या जागी तुमची वास्तविक SERP API की टाकावी लागेल.\n",
    "\n",
    "उद्दिष्ट: या ओळीचा उद्देश API की एका व्हेरिएबलमध्ये साठवणे आहे, जेणेकरून ती SERP API सेवेसाठी विनंत्या प्रमाणित करण्यासाठी वापरली जाऊ शकेल. ही API की सेवा वापरण्यासाठी आणि शोध करण्यासाठी आवश्यक आहे.\n",
    "\n",
    "SERP API की कशी मिळवायची: SERP API की मिळवण्यासाठी, https://serpapi.com येथे खालील सामान्य पायऱ्या पूर्ण करा (तुम्ही वापरत असलेल्या विशिष्ट SERP API सेवेनुसार अचूक पायऱ्या वेगळ्या असू शकतात):\n",
    "\n",
    "SERP API सेवा निवडा: अनेक SERP API सेवा उपलब्ध आहेत, जसे की SerpAPI, Google Custom Search JSON API, आणि इतर. तुमच्या गरजेनुसार योग्य सेवा निवडा.\n",
    "\n",
    "खाते तयार करा:\n",
    "\n",
    "निवडलेल्या SERP API सेवेसाठीच्या वेबसाइटला https://www.serpapi.com भेट द्या आणि खाते तयार करा. तुम्हाला काही मूलभूत माहिती द्यावी लागेल आणि तुमचा ईमेल पत्ता सत्यापित करावा लागेल.\n",
    "\n",
    "API की तयार करा:\n",
    "\n",
    "साइन अप केल्यानंतर, तुमच्या खात्यात लॉग इन करा आणि API विभाग किंवा डॅशबोर्डमध्ये जा. नवीन API की तयार करण्याचा किंवा निर्माण करण्याचा पर्याय शोधा.\n",
    "API की कॉपी करा:\n",
    "\n",
    "API की तयार झाल्यावर, ती कॉपी करा. ही की SERP API सेवेसाठी तुमच्या विनंत्या प्रमाणित करण्यासाठी वापरली जाईल.\n",
    "प्लेसहोल्डर बदला:\n",
    "\n",
    "तुमच्या .env फाइलमधील प्लेसहोल्डर बदला.\n"
   ]
  },
  {
   "cell_type": "code",
   "execution_count": null,
   "metadata": {
    "dotnet_interactive": {
     "language": "csharp"
    },
    "polyglot_notebook": {
     "kernelName": "csharp"
    }
   },
   "outputs": [],
   "source": [
    "SERPAPI_SEARCH_API_KEY=os.getenv('SERPAPI_SEARCH_API_KEY')"
   ]
  },
  {
   "cell_type": "code",
   "execution_count": null,
   "metadata": {
    "dotnet_interactive": {
     "language": "csharp"
    },
    "polyglot_notebook": {
     "kernelName": "csharp"
    }
   },
   "outputs": [],
   "source": [
    "SERPAPI_SEARCH_ENDPOINT = os.getenv('SERPAPI_SEARCH_ENDPOINT')"
   ]
  },
  {
   "cell_type": "markdown",
   "metadata": {},
   "source": [
    "# स्पष्टीकरण:\n",
    "BookingPlugin वर्ग Serpapi.com Google Search API वापरून हॉटेल्स आणि फ्लाइट्स बुक करण्यासाठी पद्धती प्रदान करतो. हा वर्ग आवश्यक पॅरामीटर्स तयार करतो, API विनंत्या पाठवतो, आणि प्रतिसाद प्रक्रिया करून संबंधित बुकिंग माहिती परत करतो. API की (SERPAPI_SEARCH_API_KEY) आणि एंडपॉइंट (SERPAPI_SEARCH_ENDPOINT) Google Search API शी प्रमाणीकरण आणि विनंत्या पाठवण्यासाठी वापरले जातात.\n"
   ]
  },
  {
   "cell_type": "code",
   "execution_count": null,
   "metadata": {
    "dotnet_interactive": {
     "language": "csharp"
    },
    "polyglot_notebook": {
     "kernelName": "csharp"
    }
   },
   "outputs": [],
   "source": [
    "# Define Booking Plugin\n",
    "class BookingPlugin:\n",
    "    \"\"\"Booking Plugin for customers\"\"\"\n",
    "    @kernel_function(description=\"booking hotel\")\n",
    "    def booking_hotel(self,query: Annotated[str, \"The name of the city\"], check_in_date: Annotated[str, \"Hotel Check-in Time\"], check_out_date: Annotated[str, \"Hotel Check-in Time\"])-> Annotated[str, \"Return the result of booking hotel infomation\"]:\n",
    "\n",
    "        params = {\n",
    "            \"engine\": \"google_hotels\",\n",
    "            \"q\": query,\n",
    "            \"check_in_date\": check_in_date,\n",
    "            \"check_out_date\": check_out_date,\n",
    "            \"adults\": \"2\",\n",
    "            \"currency\": \"USD\",\n",
    "            \"gl\": \"us\",\n",
    "            \"hl\": \"en\",\n",
    "            \"api_key\": SERPAPI_SEARCH_API_KEY\n",
    "        }\n",
    "\n",
    "        response = requests.get(SERPAPI_SEARCH_ENDPOINT, params=params)\n",
    "        if response.status_code == 200:\n",
    "            response = response.json()\n",
    "            return response[\"properties\"]\n",
    "        else:\n",
    "            return None\n",
    "\n",
    "    \n",
    "    @kernel_function(description=\"booking fight\")\n",
    "    def  booking_fight(self,origin: Annotated[str, \"The name of Departure\"], destination: Annotated[str, \"The name of Destination\"], outbound_date: Annotated[str, \"The date of outbound\"], return_date: Annotated[str, \"The date of Return_date\"])-> Annotated[str, \"Return the result of booking fight infomation\"]:\n",
    "        \n",
    "        go_params = {\n",
    "            \"engine\": \"google_flights\",   \n",
    "            \"departure_id\": origin,\n",
    "            \"arrival_id\": destination,\n",
    "            \"outbound_date\": outbound_date,\n",
    "            \"return_date\": return_date,  \n",
    "            \"currency\": \"USD\",\n",
    "            \"hl\": \"en\",\n",
    "            \"api_key\": SERPAPI_SEARCH_API_KEY  \n",
    "        }\n",
    "\n",
    "        print(go_params)\n",
    "\n",
    "        go_response = requests.get(SERPAPI_SEARCH_ENDPOINT, params=go_params)\n",
    "\n",
    "\n",
    "        result = ''\n",
    "\n",
    "        if go_response.status_code == 200:\n",
    "            response = go_response.json()\n",
    "\n",
    "            result += \"# outbound \\n \" + str(response)\n",
    "        else:\n",
    "            print('error!!!')\n",
    "            # return None\n",
    "\n",
    "        \n",
    "        back_params = {\n",
    "            \"engine\": \"google_flights\",   \n",
    "            \"departure_id\": destination,\n",
    "            \"arrival_id\": origin,\n",
    "            \"outbound_date\": return_date,\n",
    "            \"return_date\": return_date,  \n",
    "            \"currency\": \"USD\",\n",
    "            \"hl\": \"en\",\n",
    "            \"api_key\": SERPAPI_SEARCH_API_KEY  \n",
    "        }\n",
    "\n",
    "\n",
    "        print(back_params)\n",
    "\n",
    "\n",
    "        back_response = requests.get(SERPAPI_SEARCH_ENDPOINT, params=back_params)\n",
    "\n",
    "\n",
    "\n",
    "        if back_response.status_code == 200:\n",
    "            response = back_response.json()\n",
    "\n",
    "            result += \"\\n # return \\n\"  + str(response)\n",
    "\n",
    "        else:\n",
    "            print('error!!!')\n",
    "            # return None\n",
    "        \n",
    "        print(result)\n",
    "\n",
    "        return result\n",
    "\n",
    "        \n"
   ]
  },
  {
   "cell_type": "markdown",
   "metadata": {},
   "source": [
    "# स्पष्टीकरण:  \n",
    "SavePlugin वर्ग एक पद्धत प्रदान करतो, saving_plan, जी Azure AI सेवांचा वापर करून प्रवासाच्या योजना जतन करण्यासाठी वापरली जाते. हा वर्ग Azure क्रेडेन्शियल्स सेट करतो, एक AI एजंट तयार करतो, वापरकर्त्याच्या इनपुट्सवर प्रक्रिया करून प्रवास योजनेची सामग्री तयार करतो आणि जतन करतो, तसेच फाइल जतन करणे आणि साफसफाईची कामे हाताळतो. ही पद्धत यशस्वीरीत्या पूर्ण झाल्यावर \"Saved\" परत करते.  \n"
   ]
  },
  {
   "cell_type": "code",
   "execution_count": null,
   "metadata": {
    "dotnet_interactive": {
     "language": "csharp"
    },
    "polyglot_notebook": {
     "kernelName": "csharp"
    }
   },
   "outputs": [],
   "source": [
    "class SavePlugin:\n",
    "    \"\"\"Save Plugin for customers\"\"\"\n",
    "    @kernel_function(description=\"saving plan\")\n",
    "    async def saving_plan(self,tripplan: Annotated[str, \"The content of trip plan\"])-> Annotated[str, \"Return status of save content\"]:\n",
    "\n",
    "        async with (\n",
    "            DefaultAzureCredential() as creds,\n",
    "            AzureAIAgent.create_client(\n",
    "                credential=creds,\n",
    "                conn_str=ai_agent_settings.project_connection_string.get_secret_value(),\n",
    "            ) as client,\n",
    "        ):\n",
    "\n",
    "            code_interpreter = CodeInterpreterTool()\n",
    "            \n",
    "            agent_definition = await client.agents.create_agent(\n",
    "                model=ai_agent_settings.model_deployment_name,\n",
    "                tools=code_interpreter.definitions,\n",
    "                tool_resources=code_interpreter.resources,\n",
    "            )\n",
    "\n",
    "\n",
    "            agent = AzureAIAgent(\n",
    "                client=client,\n",
    "                definition=agent_definition,\n",
    "            )\n",
    "\n",
    "            thread = await client.agents.create_thread()\n",
    "\n",
    "\n",
    "            user_inputs = [\n",
    "                \"\"\"\n",
    "            \n",
    "                        You are my Python programming assistant. Generate code,save \"\"\"+ tripplan +\n",
    "                        \n",
    "                    \"\"\"    \n",
    "                        and execute it according to the following requirements\n",
    "\n",
    "                        1. Save blog content to trip-{YYMMDDHHMMSS}.md\n",
    "\n",
    "                        2. give me the download this file link\n",
    "                    \"\"\"\n",
    "            ]\n",
    "\n",
    "\n",
    "\n",
    "            try:\n",
    "                for user_input in user_inputs:\n",
    "                    # Add the user input as a chat message\n",
    "                    await agent.add_chat_message(\n",
    "                        thread_id=thread.id, message=ChatMessageContent(role=AuthorRole.USER, content=user_input)\n",
    "                    )\n",
    "                    print(f\"# User: '{user_input}'\")\n",
    "                    # Invoke the agent for the specified thread\n",
    "                    async for content in agent.invoke(thread_id=thread.id):\n",
    "                        if content.role != AuthorRole.TOOL:\n",
    "                            print(f\"# Agent: {content.content}\")\n",
    "\n",
    "                    \n",
    "                    messages = await client.agents.list_messages(thread_id=thread.id)\n",
    "\n",
    "                    # OpenAIPageableListOfThreadMessage\n",
    "                    # OpenAIPageableListOfThreadMessage\n",
    "\n",
    "\n",
    "                    for file_path_annotation in messages.file_path_annotations:\n",
    "\n",
    "                            file_name = os.path.basename(file_path_annotation.text)\n",
    "\n",
    "                            await client.agents.save_file(file_id=file_path_annotation.file_path.file_id, file_name=file_name,target_dir=\"./trip\")\n",
    "\n",
    "                    \n",
    "            finally:\n",
    "                await client.agents.delete_thread(thread.id)\n",
    "                await client.agents.delete_agent(agent.id)\n",
    "\n",
    "\n",
    "        return \"Saved\""
   ]
  },
  {
   "cell_type": "markdown",
   "metadata": {},
   "source": [
    "# स्पष्टीकरण:\n",
    "हा कोड Azure AI एजंट्स सेटअप करतो जे वापरकर्त्याच्या इनपुट्सच्या आधारे फ्लाइट्स आणि हॉटेल्स बुक करण्याचे तसेच प्रवासाच्या योजना जतन करण्याचे काम करतात. तो Azure क्रेडेन्शियल्सचा वापर करून एजंट्स तयार आणि कॉन्फिगर करतो, गट चॅटद्वारे वापरकर्त्याचे इनपुट प्रक्रिया करतो, आणि कार्य पूर्ण झाल्यानंतर योग्य प्रकारे साफसफाई सुनिश्चित करतो. हे एजंट्स त्यांच्या संबंधित कार्यांसाठी विशिष्ट प्लगिन्स (BookingPlugin आणि SavePlugin) वापरतात.\n"
   ]
  },
  {
   "cell_type": "code",
   "execution_count": null,
   "metadata": {
    "dotnet_interactive": {
     "language": "csharp"
    },
    "polyglot_notebook": {
     "kernelName": "csharp"
    }
   },
   "outputs": [],
   "source": [
    "async with (\n",
    "    DefaultAzureCredential() as creds,\n",
    "    AzureAIAgent.create_client(\n",
    "        credential=creds,\n",
    "        conn_str=ai_agent_settings.project_connection_string.get_secret_value(),\n",
    "    ) as client,\n",
    "):\n",
    "    BOOKING_AGENT_NAME = \"BookingAgent\"\n",
    "    BOOKING_AGENT_INSTRUCTIONS = \"\"\"\n",
    "    You are a booking agent. Help me book flights or hotels.\n",
    "\n",
    "    Thought: Please understand the user's intention and confirm whether to use the reservation system to complete the task.\n",
    "\n",
    "    Actions:\n",
    "    - For flight bookings, convert the departure and destination names into airport codes.\n",
    "    - Use the appropriate API for hotel or flight bookings. Verify that all necessary parameters are available. If any parameters are missing, ask the user to provide them. If all parameters are complete, call the corresponding function.\n",
    "    - If the task is not related to hotel or flight booking, respond with the final answer only.\n",
    "    - Output the results using a markdown table:\n",
    "      - For flight bookings, output separate outbound and return contents in the order of:\n",
    "        Departure Airport | Airline | Flight Number | Departure Time | Arrival Airport | Arrival Time | Duration | Airplane | Travel Class | Price (USD) | Legroom | Extensions | Carbon Emissions (kg).\n",
    "      - For hotel bookings, output in the order of:\n",
    "        Property Name | Property Description | Check-in Time | Check-out Time | Prices | Nearby Places | Hotel Class | GPS Coordinates.\n",
    "    \"\"\"\n",
    "\n",
    "    SAVE_AGENT_NAME = \"SaveAgent\"\n",
    "    SAVE_AGENT_INSTRUCTIONS = \"\"\"\n",
    "    You are a save tool agent. Help me to save the trip plan.\n",
    "    \"\"\"\n",
    "\n",
    "    # Create agent definition\n",
    "    booking_agent_definition = await client.agents.create_agent(\n",
    "        model=ai_agent_settings.model_deployment_name,\n",
    "        name=BOOKING_AGENT_NAME,\n",
    "        instructions=BOOKING_AGENT_INSTRUCTIONS,\n",
    "    )\n",
    "\n",
    "    # Create the AzureAI Agent\n",
    "    booking_agent = AzureAIAgent(\n",
    "        client=client,\n",
    "        definition=booking_agent_definition,\n",
    "        # Optionally configure polling options\n",
    "        # polling_options=RunPollingOptions(run_polling_interval=timedelta(seconds=1)),\n",
    "    )\n",
    "\n",
    "    # Add the sample plugin to the kernel\n",
    "    booking_agent.kernel.add_plugin(BookingPlugin(), plugin_name=\"booking\")\n",
    "\n",
    "    # Create agent definition\n",
    "    save_agent_definition = await client.agents.create_agent(\n",
    "        model=ai_agent_settings.model_deployment_name,\n",
    "        name=SAVE_AGENT_NAME,\n",
    "        instructions=SAVE_AGENT_INSTRUCTIONS\n",
    "    )\n",
    "\n",
    "    # Create the AzureAI Agent\n",
    "    save_agent = AzureAIAgent(\n",
    "        client=client,\n",
    "        definition=save_agent_definition,\n",
    "    )\n",
    "\n",
    "    save_agent.kernel.add_plugin(SavePlugin(), plugin_name=\"saving\")\n",
    "\n",
    "    user_inputs = [\n",
    "        \"I have a business trip from London to New York in Feb 20 2025 to Feb 27 2025 ,help me to book a hotel and fight tickets and save it\"\n",
    "    ]\n",
    "\n",
    "    chat = AgentGroupChat(\n",
    "        agents=[booking_agent, save_agent],\n",
    "        termination_strategy=ApprovalTerminationStrategy(agents=[save_agent], maximum_iterations=10),\n",
    "    )\n",
    "\n",
    "    try:\n",
    "        for user_input in user_inputs:\n",
    "            # Add the user input as a chat message\n",
    "            await chat.add_chat_message(\n",
    "                ChatMessageContent(role=AuthorRole.USER, content=user_input)\n",
    "            )\n",
    "            print(f\"# User: '{user_input}'\")\n",
    "\n",
    "            async for content in chat.invoke():\n",
    "                print(f\"# {content.role} - {content.name or '*'}: '{content.content}'\")\n",
    "\n",
    "            print(f\"# IS COMPLETE: {chat.is_complete}\")\n",
    "\n",
    "            print(\"*\" * 60)\n",
    "            print(\"Chat History (In Descending Order):\\n\")\n",
    "            async for message in chat.get_chat_messages(agent=save_agent):\n",
    "                print(f\"# {message.role} - {message.name or '*'}: '{message.content}'\")\n",
    "    finally:\n",
    "        await chat.reset()\n",
    "        await client.agents.delete_agent(save_agent.id)\n",
    "        await client.agents.delete_agent(booking_agent.id)\n"
   ]
  },
  {
   "cell_type": "markdown",
   "metadata": {},
   "source": [
    "\n---\n\n**अस्वीकरण**:  \nहा दस्तऐवज AI भाषांतर सेवा [Co-op Translator](https://github.com/Azure/co-op-translator) चा वापर करून भाषांतरित करण्यात आला आहे. आम्ही अचूकतेसाठी प्रयत्नशील असलो तरी, कृपया लक्षात घ्या की स्वयंचलित भाषांतरांमध्ये त्रुटी किंवा अचूकतेचा अभाव असू शकतो. मूळ भाषेतील दस्तऐवज हा अधिकृत स्रोत मानला जावा. महत्त्वाच्या माहितीसाठी व्यावसायिक मानवी भाषांतराची शिफारस केली जाते. या भाषांतराचा वापर केल्यामुळे उद्भवणाऱ्या कोणत्याही गैरसमज किंवा चुकीच्या अर्थासाठी आम्ही जबाबदार राहणार नाही.\n"
   ]
  }
 ],
 "metadata": {
  "kernelspec": {
   "display_name": "3.12.1",
   "language": "python",
   "name": "python3"
  },
  "language_info": {
   "codemirror_mode": {
    "name": "ipython",
    "version": 3
   },
   "file_extension": ".py",
   "mimetype": "text/x-python",
   "name": "python",
   "nbconvert_exporter": "python",
   "pygments_lexer": "ipython3",
   "version": "3.12.1"
  },
  "polyglot_notebook": {
   "kernelInfo": {
    "defaultKernelName": "csharp",
    "items": [
     {
      "aliases": [],
      "name": "csharp"
     }
    ]
   }
  },
  "coopTranslator": {
   "original_hash": "1baa60020a95eda27b7e9ecfda99965b",
   "translation_date": "2025-08-29T11:31:47+00:00",
   "source_file": "08-multi-agent/code_samples/08-python_multi_aiagent_bookinghotel.ipynb",
   "language_code": "mr"
  }
 },
 "nbformat": 4,
 "nbformat_minor": 2
}