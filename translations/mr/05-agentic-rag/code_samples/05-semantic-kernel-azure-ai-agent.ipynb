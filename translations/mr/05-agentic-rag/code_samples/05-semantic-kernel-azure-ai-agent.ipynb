{
 "cells": [
  {
   "cell_type": "markdown",
   "metadata": {},
   "source": [
    "# Azure AI Agent Service आणि Semantic Kernel वापरून RAG\n",
    "\n",
    "हा कोड स्निपेट `Azure AI Agent Service` आणि `Semantic Kernel` वापरून retrieval-augmented generation (RAG) साठी Azure AI एजंट तयार करण्याची आणि व्यवस्थापित करण्याची प्रक्रिया दाखवतो. हा एजंट वापरकर्त्याच्या प्रश्नांवर आधारित संदर्भ शोधतो आणि त्यानुसार अचूक उत्तर प्रदान करतो.\n"
   ]
  },
  {
   "cell_type": "markdown",
   "metadata": {},
   "source": []
  },
  {
   "cell_type": "markdown",
   "metadata": {},
   "source": [
    "SQLite आवृत्ती दुरुस्ती  \n",
    "जर तुम्हाला खालील त्रुटी आली:  \n",
    "```\n",
    "RuntimeError: Your system has an unsupported version of sqlite3. Chroma requires sqlite3 >= 3.35.0\n",
    "```  \n",
    "\n",
    "तुमच्या नोटबुकच्या सुरुवातीला हा कोड ब्लॉक अनकॉमेंट करा:  \n"
   ]
  },
  {
   "cell_type": "code",
   "execution_count": null,
   "metadata": {},
   "outputs": [],
   "source": [
    "# %pip install pysqlite3-binary\n",
    "# __import__('pysqlite3')\n",
    "# import sys\n",
    "# sys.modules['sqlite3'] = sys.modules.pop('pysqlite3')"
   ]
  },
  {
   "cell_type": "markdown",
   "metadata": {},
   "source": [
    "### पॅकेजेस आयात करणे\n",
    "खालील कोड आवश्यक पॅकेजेस आयात करतो:\n"
   ]
  },
  {
   "cell_type": "code",
   "execution_count": null,
   "metadata": {},
   "outputs": [],
   "source": [
    "# Azure imports for project client and credentials\n",
    "from azure.ai.projects.models import FileSearchTool, OpenAIFile, VectorStore\n",
    "from azure.identity.aio import DefaultAzureCredential\n",
    "\n",
    "# Semantic Kernel imports\n",
    "from semantic_kernel.agents import AzureAIAgent, AzureAIAgentThread"
   ]
  },
  {
   "cell_type": "markdown",
   "metadata": {},
   "source": [
    "# सेमॅंटिक कर्नल आणि Azure AI Agent Service सह Retrieval-Augmented Generation\n",
    "\n",
    "हे उदाहरण दाखवते की **Azure AI Agent Service** वापरून **Retrieval-Augmented Generation (RAG)** कसे करायचे, ज्यामध्ये भाषा मॉडेलला अपलोड केलेल्या दस्तऐवजातील डोमेन-विशिष्ट संदर्भासह एकत्रित केले जाते.\n",
    "\n",
    "### कसे कार्य करते\n",
    "\n",
    "1. **दस्तऐवज अपलोड**: एक markdown फाइल (document.md) ज्यामध्ये माहिती (Contoso च्या प्रवास विमा धोरणाबद्दल) आहे, ती एजंट सेवेमध्ये अपलोड केली जाते.\n",
    "\n",
    "2. **व्हेक्टर स्टोअर निर्मिती**: दस्तऐवजाचे अनुक्रमणिका तयार करून त्याच्या सामग्रीवर सेमॅंटिक शोध सक्षम केला जातो.\n",
    "\n",
    "3. **एजंट कॉन्फिगरेशन**: `gpt-4o` मॉडेल वापरून एजंट तयार केला जातो, ज्यामध्ये खालील कठोर सूचना दिल्या जातात:\n",
    "   - फक्त दस्तऐवजातून मिळालेल्या सामग्रीवर आधारित प्रश्नांची उत्तरे द्या.\n",
    "   - जर प्रश्नाचा विषय मर्यादेबाहेर असेल तर उत्तर देण्यास नकार द्या.\n",
    "\n",
    "4. **फाइल शोध साधन समाकलन**: `FileSearchTool` एजंटसोबत नोंदणीकृत केले जाते, ज्यामुळे मॉडेलला अनुमानादरम्यान अनुक्रमित दस्तऐवजातून संबंधित तुकडे शोधणे आणि पुनर्प्राप्त करणे शक्य होते.\n",
    "\n",
    "5. **वापरकर्ता संवाद**: वापरकर्ते प्रश्न विचारू शकतात. जर दस्तऐवजामध्ये संबंधित माहिती सापडली, तर एजंट एक आधारभूत उत्तर तयार करतो.  \n",
    "   जर नाही, तर एजंट स्पष्टपणे उत्तर देतो की दस्तऐवजामध्ये पुरेशी माहिती उपलब्ध नाही.\n"
   ]
  },
  {
   "cell_type": "markdown",
   "metadata": {},
   "source": [
    "### मुख्य फंक्शन\n",
    "\n"
   ]
  },
  {
   "cell_type": "markdown",
   "metadata": {},
   "source": [
    "सुनिश्चित करा की `DefaultAzureCredential` वापरताना योग्य प्रमाणीकरण संदर्भ प्रदान करण्यासाठी Azure CLI वापरून प्रथम `az login` चालवा. Azure AI Agent Service API कीज वापरत नाही.\n"
   ]
  },
  {
   "cell_type": "code",
   "execution_count": null,
   "metadata": {},
   "outputs": [],
   "source": [
    "async def main():\n",
    "    async with (\n",
    "        DefaultAzureCredential() as creds,\n",
    "        AzureAIAgent.create_client(credential=creds) as client,\n",
    "    ):\n",
    "        file: OpenAIFile = await client.agents.upload_file_and_poll(file_path=\"document.md\", purpose=\"assistants\")\n",
    "        vector_store: VectorStore = await client.agents.create_vector_store_and_poll(\n",
    "            file_ids=[file.id], name=\"my_vectorstore\"\n",
    "        )\n",
    "\n",
    "        # Define agent name and instructions tailored for RAG.\n",
    "        AGENT_NAME = \"RAGAgent\"\n",
    "        AGENT_INSTRUCTIONS = \"\"\"\n",
    "        You are an AI assistant designed to answer user questions using only the information retrieved from the provided document(s).\n",
    "\n",
    "        - If a user's question cannot be answered using the retrieved context, **you must clearly respond**: \n",
    "        \"I'm sorry, but the uploaded document does not contain the necessary information to answer that question.\"\n",
    "        - Do not answer from general knowledge or reasoning. Do not make assumptions or generate hypothetical explanations.\n",
    "        - Do not provide definitions, tutorials, or commentary that is not explicitly grounded in the content of the uploaded file(s).\n",
    "        - If a user asks a question like \"What is a Neural Network?\", and this is not discussed in the uploaded document, respond as instructed above.\n",
    "        - For questions that do have relevant content in the document (e.g., Contoso's travel insurance coverage), respond accurately, and cite the document explicitly.\n",
    "\n",
    "        You must behave as if you have no external knowledge beyond what is retrieved from the uploaded document.\n",
    "        \"\"\"\n",
    "\n",
    "        \n",
    "        # Create file search tool with uploaded resources\n",
    "        file_search = FileSearchTool(vector_store_ids=[vector_store.id])\n",
    "\n",
    "        # 3. Create an agent on the Azure AI agent service with the file search tool\n",
    "        agent_definition = await client.agents.create_agent(\n",
    "            model=\"gpt-4o\",  # This model should match your Azure OpenAI deployment.\n",
    "            name=AGENT_NAME,\n",
    "            instructions=AGENT_INSTRUCTIONS,\n",
    "            tools=file_search.definitions,\n",
    "            tool_resources=file_search.resources,\n",
    "        )\n",
    "        \n",
    "        # Create the Azure AI Agent using the client and definition.\n",
    "        agent = AzureAIAgent(\n",
    "            client=client,\n",
    "            definition=agent_definition,\n",
    "        )\n",
    "        \n",
    "        # Create a thread to hold the conversation\n",
    "        # If no thread is provided, a new thread will be\n",
    "        # created and returned with the initial response\n",
    "        thread: AzureAIAgentThread | None = None\n",
    "        \n",
    "        # Example user queries.\n",
    "        user_inputs = [\n",
    "            \"Can you explain Contoso's travel insurance coverage?\",  # Relevant context.\n",
    "            \"What is a Neural Network?\"  # No relevant context from the document. Will not contain a source annotation.\n",
    "        ]\n",
    "        \n",
    "        try:\n",
    "            for user_input in user_inputs:\n",
    "                print(f\"# User: '{user_input}'\")\n",
    "                # Invoke the agent for the specified thread for response\n",
    "                async for response in agent.invoke(messages=user_input, thread=thread):\n",
    "                    print(f\"# {response.name}: {response}\")\n",
    "                    thread = response.thread\n",
    "        finally:\n",
    "            # Clean up resources.\n",
    "            await thread.delete() if thread else None\n",
    "            await client.agents.delete_vector_store(vector_store.id)\n",
    "            await client.agents.delete_file(file.id)\n",
    "            await client.agents.delete_agent(agent.id)\n",
    "            print(\"\\nCleaned up agent, thread, file, and vector store.\")\n",
    "\n",
    "await main()"
   ]
  },
  {
   "cell_type": "markdown",
   "metadata": {},
   "source": [
    "ठीक आहे, कृपया तुमचा Markdown फाइल मजकूर द्या, मी त्याचा मराठीत अनुवाद करतो.\n"
   ]
  },
  {
   "cell_type": "markdown",
   "metadata": {},
   "source": [
    "\n---\n\n**अस्वीकरण**:  \nहा दस्तऐवज AI भाषांतर सेवा [Co-op Translator](https://github.com/Azure/co-op-translator) चा वापर करून भाषांतरित करण्यात आला आहे. आम्ही अचूकतेसाठी प्रयत्नशील असलो तरी, कृपया लक्षात घ्या की स्वयंचलित भाषांतरांमध्ये त्रुटी किंवा अचूकतेचा अभाव असू शकतो. मूळ भाषेतील दस्तऐवज हा अधिकृत स्रोत मानला जावा. महत्त्वाच्या माहितीसाठी व्यावसायिक मानवी भाषांतराची शिफारस केली जाते. या भाषांतराचा वापर केल्यामुळे उद्भवणाऱ्या कोणत्याही गैरसमज किंवा चुकीच्या अर्थासाठी आम्ही जबाबदार राहणार नाही.\n"
   ]
  }
 ],
 "metadata": {
  "kernelspec": {
   "display_name": ".venv",
   "language": "python",
   "name": "python3"
  },
  "language_info": {
   "codemirror_mode": {
    "name": "ipython",
    "version": 3
   },
   "file_extension": ".py",
   "mimetype": "text/x-python",
   "name": "python",
   "nbconvert_exporter": "python",
   "pygments_lexer": "ipython3",
   "version": "3.11.11"
  },
  "coopTranslator": {
   "original_hash": "a86c3ddfbe35024993bbf563588aad48",
   "translation_date": "2025-08-29T11:50:31+00:00",
   "source_file": "05-agentic-rag/code_samples/05-semantic-kernel-azure-ai-agent.ipynb",
   "language_code": "mr"
  }
 },
 "nbformat": 4,
 "nbformat_minor": 2
}