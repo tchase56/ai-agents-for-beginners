{
 "cells": [
  {
   "cell_type": "markdown",
   "metadata": {},
   "source": [
    "# AutoGen मूलभूत नमुना\n",
    "\n",
    "या कोड नमुन्यात, तुम्ही [AutoGen](https://aka.ms/ai-agents/autogen) AI फ्रेमवर्कचा वापर करून एक मूलभूत एजंट तयार कराल.\n",
    "\n",
    "या नमुन्याचा उद्देश तुम्हाला त्या पायऱ्या दाखवणे आहे ज्या आपण नंतरच्या कोड नमुन्यांमध्ये वेगवेगळ्या एजंटिक पद्धती अंमलात आणताना वापरणार आहोत.\n"
   ]
  },
  {
   "cell_type": "markdown",
   "metadata": {},
   "source": []
  },
  {
   "cell_type": "code",
   "execution_count": null,
   "metadata": {},
   "outputs": [],
   "source": [
    "import os\n",
    "from dotenv import load_dotenv\n",
    "\n",
    "from autogen_agentchat.agents import AssistantAgent\n",
    "from autogen_core.models import UserMessage\n",
    "from autogen_ext.models.azure import AzureAIChatCompletionClient\n",
    "from azure.core.credentials import AzureKeyCredential\n",
    "from autogen_core import CancellationToken\n",
    "\n",
    "from autogen_agentchat.messages import TextMessage\n",
    "from autogen_agentchat.ui import Console\n"
   ]
  },
  {
   "cell_type": "markdown",
   "metadata": {},
   "source": [
    "## क्लायंट तयार करा\n",
    "\n",
    "या नमुन्यात, आम्ही [GitHub Models](https://aka.ms/ai-agents-beginners/github-models) वापरून LLM साठी प्रवेश मिळवणार आहोत.\n",
    "\n",
    "`model` म्हणून `gpt-4o-mini` परिभाषित केले आहे. GitHub Models मार्केटप्लेसमध्ये उपलब्ध असलेल्या दुसऱ्या मॉडेलमध्ये बदल करून वेगवेगळे परिणाम पाहण्याचा प्रयत्न करा.\n",
    "\n",
    "एक जलद चाचणी म्हणून, आपण एक साधा प्रॉम्प्ट चालवणार आहोत - `What is the capital of France`.\n"
   ]
  },
  {
   "cell_type": "code",
   "execution_count": null,
   "metadata": {},
   "outputs": [],
   "source": [
    "load_dotenv()\n",
    "client = AzureAIChatCompletionClient(\n",
    "    model=\"gpt-4o-mini\",\n",
    "    endpoint=\"https://models.inference.ai.azure.com\",\n",
    "    # To authenticate with the model you will need to generate a personal access token (PAT) in your GitHub settings.\n",
    "    # Create your PAT token by following instructions here: https://docs.github.com/en/authentication/keeping-your-account-and-data-secure/managing-your-personal-access-tokens\n",
    "    credential=AzureKeyCredential(os.getenv(\"GITHUB_TOKEN\")),\n",
    "    model_info={\n",
    "        \"json_output\": True,\n",
    "        \"function_calling\": True,\n",
    "        \"vision\": True,\n",
    "        \"family\": \"unknown\",\n",
    "    },\n",
    ")\n",
    "\n",
    "result = await client.create([UserMessage(content=\"What is the capital of France?\", source=\"user\")])\n",
    "print(result)"
   ]
  },
  {
   "cell_type": "markdown",
   "metadata": {},
   "source": [
    "## एजंटची व्याख्या\n",
    "\n",
    "आता आपण `client` सेटअप केला आहे आणि तो कार्यरत असल्याची पुष्टी केली आहे, चला `AssistantAgent` तयार करूया. प्रत्येक एजंटला खालील गोष्टी नियुक्त करता येतात:\n",
    "**name** - एक संक्षिप्त नाव जे मल्टी-एजंट फ्लोमध्ये संदर्भासाठी उपयुक्त ठरेल.\n",
    "**model_client** - तुम्ही मागील टप्प्यात तयार केलेला क्लायंट.\n",
    "**tools** - एजंटला एखादे कार्य पूर्ण करण्यासाठी वापरता येणारी उपलब्ध साधने.\n",
    "**system_message** - LLM चा कार्य, वर्तन आणि टोन परिभाषित करणारा मेटाप्रॉम्प्ट.\n",
    "\n",
    "तुम्ही system message बदलू शकता आणि पाहू शकता की LLM कसा प्रतिसाद देतो. आपण `tools` बद्दल चौथ्या धड्यात चर्चा करू.\n"
   ]
  },
  {
   "cell_type": "code",
   "execution_count": null,
   "metadata": {},
   "outputs": [],
   "source": [
    "agent = AssistantAgent(\n",
    "    name=\"assistant\",\n",
    "    model_client=client,\n",
    "    tools=[],\n",
    "    system_message=\"You are a travel agent that plans great vacations\",\n",
    ")"
   ]
  },
  {
   "cell_type": "markdown",
   "metadata": {},
   "source": [
    "## एजंट चालवा\n",
    "\n",
    "खालील फंक्शन एजंट चालवेल. आम्ही `on_message` पद्धत वापरतो जेणेकरून नवीन संदेशासह एजंटची स्थिती अपडेट करता येईल.\n",
    "\n",
    "या प्रकरणात, आम्ही वापरकर्त्याचा नवीन संदेश `\"Plan me a great sunny vacation\"` सह स्थिती अपडेट करतो.\n",
    "\n",
    "तुम्ही संदेशाची सामग्री बदलू शकता आणि पाहू शकता की LLM वेगवेगळ्या प्रकारे कसा प्रतिसाद देतो.\n"
   ]
  },
  {
   "cell_type": "code",
   "execution_count": null,
   "metadata": {},
   "outputs": [],
   "source": [
    "from IPython.display import display, HTML\n",
    "\n",
    "\n",
    "async def assistant_run():\n",
    "    # Define the query\n",
    "    user_query = \"Plan me a great sunny vacation\"\n",
    "\n",
    "    # Start building HTML output\n",
    "    html_output = \"<div style='margin-bottom:10px'>\"\n",
    "    html_output += \"<div style='font-weight:bold'>User:</div>\"\n",
    "    html_output += f\"<div style='margin-left:20px'>{user_query}</div>\"\n",
    "    html_output += \"</div>\"\n",
    "\n",
    "    # Execute the agent response\n",
    "    response = await agent.on_messages(\n",
    "        [TextMessage(content=user_query, source=\"user\")],\n",
    "        cancellation_token=CancellationToken(),\n",
    "    )\n",
    "\n",
    "    # Add agent response to HTML\n",
    "    html_output += \"<div style='margin-bottom:20px'>\"\n",
    "    html_output += \"<div style='font-weight:bold'>Assistant:</div>\"\n",
    "    html_output += f\"<div style='margin-left:20px; white-space:pre-wrap'>{response.chat_message.content}</div>\"\n",
    "    html_output += \"</div>\"\n",
    "\n",
    "    # Display formatted HTML\n",
    "    display(HTML(html_output))\n",
    "\n",
    "# Run the function\n",
    "await assistant_run()"
   ]
  },
  {
   "cell_type": "markdown",
   "metadata": {},
   "source": [
    "\n---\n\n**अस्वीकरण**:  \nहा दस्तऐवज AI भाषांतर सेवा [Co-op Translator](https://github.com/Azure/co-op-translator) चा वापर करून भाषांतरित करण्यात आला आहे. आम्ही अचूकतेसाठी प्रयत्नशील असलो तरी, कृपया लक्षात घ्या की स्वयंचलित भाषांतरांमध्ये त्रुटी किंवा अचूकतेचा अभाव असू शकतो. मूळ भाषेतील मूळ दस्तऐवज हा अधिकृत स्रोत मानला जावा. महत्त्वाच्या माहितीसाठी व्यावसायिक मानवी भाषांतराची शिफारस केली जाते. या भाषांतराचा वापर केल्यामुळे उद्भवणाऱ्या कोणत्याही गैरसमज किंवा चुकीच्या अर्थासाठी आम्ही जबाबदार राहणार नाही.\n"
   ]
  }
 ],
 "metadata": {
  "kernelspec": {
   "display_name": ".venv (3.12.11)",
   "language": "python",
   "name": "python3"
  },
  "language_info": {
   "codemirror_mode": {
    "name": "ipython",
    "version": 3
   },
   "file_extension": ".py",
   "mimetype": "text/x-python",
   "name": "python",
   "nbconvert_exporter": "python",
   "pygments_lexer": "ipython3",
   "version": "3.12.11"
  },
  "coopTranslator": {
   "original_hash": "aef8b2779015ef9099d6ee3cdacbb35d",
   "translation_date": "2025-08-29T11:57:56+00:00",
   "source_file": "02-explore-agentic-frameworks/code_samples/02-autogen.ipynb",
   "language_code": "mr"
  }
 },
 "nbformat": 4,
 "nbformat_minor": 2
}