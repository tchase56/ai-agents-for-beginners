{
 "cells": [
  {
   "cell_type": "markdown",
   "metadata": {},
   "source": [
    "# Βασικό Παράδειγμα AutoGen\n",
    "\n",
    "Σε αυτό το δείγμα κώδικα, θα χρησιμοποιήσετε το [AutoGen](https://aka.ms/ai-agents/autogen) AI Framework για να δημιουργήσετε έναν βασικό πράκτορα.\n",
    "\n",
    "Ο στόχος αυτού του δείγματος είναι να σας δείξει τα βήματα που θα χρησιμοποιήσουμε αργότερα στα επιπλέον δείγματα κώδικα κατά την υλοποίηση των διαφορετικών μοτίβων πρακτόρων.\n"
   ]
  },
  {
   "cell_type": "markdown",
   "metadata": {},
   "source": [
    "## Εισαγωγή των Απαραίτητων Πακέτων Python\n"
   ]
  },
  {
   "cell_type": "code",
   "execution_count": null,
   "metadata": {},
   "outputs": [],
   "source": [
    "import os\n",
    "from dotenv import load_dotenv\n",
    "\n",
    "from autogen_agentchat.agents import AssistantAgent\n",
    "from autogen_core.models import UserMessage\n",
    "from autogen_ext.models.azure import AzureAIChatCompletionClient\n",
    "from azure.core.credentials import AzureKeyCredential\n",
    "from autogen_core import CancellationToken\n",
    "\n",
    "from autogen_agentchat.messages import TextMessage\n",
    "from autogen_agentchat.ui import Console\n"
   ]
  },
  {
   "cell_type": "markdown",
   "metadata": {},
   "source": [
    "## Δημιουργία του Πελάτη\n",
    "\n",
    "Σε αυτό το παράδειγμα, θα χρησιμοποιήσουμε τα [GitHub Models](https://aka.ms/ai-agents-beginners/github-models) για πρόσβαση στο LLM.\n",
    "\n",
    "Το `model` ορίζεται ως `gpt-4o-mini`. Δοκιμάστε να αλλάξετε το μοντέλο σε κάποιο άλλο διαθέσιμο στην αγορά του GitHub Models για να δείτε διαφορετικά αποτελέσματα.\n",
    "\n",
    "Ως μια γρήγορη δοκιμή, θα εκτελέσουμε απλώς μια απλή ερώτηση - `Ποια είναι η πρωτεύουσα της Γαλλίας`.\n"
   ]
  },
  {
   "cell_type": "code",
   "execution_count": null,
   "metadata": {},
   "outputs": [],
   "source": [
    "load_dotenv()\n",
    "client = AzureAIChatCompletionClient(\n",
    "    model=\"gpt-4o-mini\",\n",
    "    endpoint=\"https://models.inference.ai.azure.com\",\n",
    "    # To authenticate with the model you will need to generate a personal access token (PAT) in your GitHub settings.\n",
    "    # Create your PAT token by following instructions here: https://docs.github.com/en/authentication/keeping-your-account-and-data-secure/managing-your-personal-access-tokens\n",
    "    credential=AzureKeyCredential(os.getenv(\"GITHUB_TOKEN\")),\n",
    "    model_info={\n",
    "        \"json_output\": True,\n",
    "        \"function_calling\": True,\n",
    "        \"vision\": True,\n",
    "        \"family\": \"unknown\",\n",
    "    },\n",
    ")\n",
    "\n",
    "result = await client.create([UserMessage(content=\"What is the capital of France?\", source=\"user\")])\n",
    "print(result)"
   ]
  },
  {
   "cell_type": "markdown",
   "metadata": {},
   "source": [
    "## Ορισμός του Πράκτορα\n",
    "\n",
    "Τώρα που έχουμε ρυθμίσει τον `client` και επιβεβαιώσαμε ότι λειτουργεί, ας δημιουργήσουμε έναν `AssistantAgent`. Κάθε πράκτορας μπορεί να έχει:  \n",
    "**name** - Ένα σύντομο όνομα που θα είναι χρήσιμο για την αναφορά του σε ροές πολλαπλών πρακτόρων.  \n",
    "**model_client** - Ο client που δημιουργήσατε στο προηγούμενο βήμα.  \n",
    "**tools** - Διαθέσιμα εργαλεία που ο Πράκτορας μπορεί να χρησιμοποιήσει για να ολοκληρώσει μια εργασία.  \n",
    "**system_message** - Το metaprompt που ορίζει την εργασία, τη συμπεριφορά και τον τόνο του LLM.  \n",
    "\n",
    "Μπορείτε να αλλάξετε το system message για να δείτε πώς ανταποκρίνεται το LLM. Θα καλύψουμε τα `tools` στο Μάθημα #4.\n"
   ]
  },
  {
   "cell_type": "code",
   "execution_count": null,
   "metadata": {},
   "outputs": [],
   "source": [
    "agent = AssistantAgent(\n",
    "    name=\"assistant\",\n",
    "    model_client=client,\n",
    "    tools=[],\n",
    "    system_message=\"You are a travel agent that plans great vacations\",\n",
    ")"
   ]
  },
  {
   "cell_type": "markdown",
   "metadata": {},
   "source": [
    "## Εκτέλεση του Πράκτορα\n",
    "\n",
    "Η παρακάτω συνάρτηση θα εκτελέσει τον πράκτορα. Χρησιμοποιούμε τη μέθοδο `on_message` για να ενημερώσουμε την κατάσταση του Πράκτορα με το νέο μήνυμα.\n",
    "\n",
    "Σε αυτή την περίπτωση, ενημερώνουμε την κατάσταση με ένα νέο μήνυμα από τον χρήστη, το οποίο είναι `\"Σχεδίασέ μου μια υπέροχη ηλιόλουστη διακοπή\"`.\n",
    "\n",
    "Μπορείτε να αλλάξετε το περιεχόμενο του μηνύματος για να δείτε πώς ανταποκρίνεται διαφορετικά το LLM.\n"
   ]
  },
  {
   "cell_type": "code",
   "execution_count": null,
   "metadata": {},
   "outputs": [],
   "source": [
    "from IPython.display import display, HTML\n",
    "\n",
    "\n",
    "async def assistant_run():\n",
    "    # Define the query\n",
    "    user_query = \"Plan me a great sunny vacation\"\n",
    "\n",
    "    # Start building HTML output\n",
    "    html_output = \"<div style='margin-bottom:10px'>\"\n",
    "    html_output += \"<div style='font-weight:bold'>User:</div>\"\n",
    "    html_output += f\"<div style='margin-left:20px'>{user_query}</div>\"\n",
    "    html_output += \"</div>\"\n",
    "\n",
    "    # Execute the agent response\n",
    "    response = await agent.on_messages(\n",
    "        [TextMessage(content=user_query, source=\"user\")],\n",
    "        cancellation_token=CancellationToken(),\n",
    "    )\n",
    "\n",
    "    # Add agent response to HTML\n",
    "    html_output += \"<div style='margin-bottom:20px'>\"\n",
    "    html_output += \"<div style='font-weight:bold'>Assistant:</div>\"\n",
    "    html_output += f\"<div style='margin-left:20px; white-space:pre-wrap'>{response.chat_message.content}</div>\"\n",
    "    html_output += \"</div>\"\n",
    "\n",
    "    # Display formatted HTML\n",
    "    display(HTML(html_output))\n",
    "\n",
    "# Run the function\n",
    "await assistant_run()"
   ]
  },
  {
   "cell_type": "markdown",
   "metadata": {},
   "source": [
    "\n---\n\n**Αποποίηση ευθύνης**:  \nΑυτό το έγγραφο έχει μεταφραστεί χρησιμοποιώντας την υπηρεσία αυτόματης μετάφρασης [Co-op Translator](https://github.com/Azure/co-op-translator). Παρόλο που καταβάλλουμε προσπάθειες για ακρίβεια, παρακαλούμε να έχετε υπόψη ότι οι αυτοματοποιημένες μεταφράσεις ενδέχεται να περιέχουν σφάλματα ή ανακρίβειες. Το πρωτότυπο έγγραφο στη μητρική του γλώσσα θα πρέπει να θεωρείται η αυθεντική πηγή. Για κρίσιμες πληροφορίες, συνιστάται επαγγελματική ανθρώπινη μετάφραση. Δεν φέρουμε ευθύνη για τυχόν παρεξηγήσεις ή εσφαλμένες ερμηνείες που προκύπτουν από τη χρήση αυτής της μετάφρασης.\n"
   ]
  }
 ],
 "metadata": {
  "kernelspec": {
   "display_name": ".venv (3.12.11)",
   "language": "python",
   "name": "python3"
  },
  "language_info": {
   "codemirror_mode": {
    "name": "ipython",
    "version": 3
   },
   "file_extension": ".py",
   "mimetype": "text/x-python",
   "name": "python",
   "nbconvert_exporter": "python",
   "pygments_lexer": "ipython3",
   "version": "3.12.11"
  },
  "coopTranslator": {
   "original_hash": "aef8b2779015ef9099d6ee3cdacbb35d",
   "translation_date": "2025-08-29T16:55:02+00:00",
   "source_file": "02-explore-agentic-frameworks/code_samples/02-autogen.ipynb",
   "language_code": "el"
  }
 },
 "nbformat": 4,
 "nbformat_minor": 2
}