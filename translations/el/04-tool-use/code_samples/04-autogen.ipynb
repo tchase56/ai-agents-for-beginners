{
 "cells": [
  {
   "cell_type": "markdown",
   "metadata": {},
   "source": [
    "# Παράδειγμα Χρήσης Εργαλείου AutoGen\n"
   ]
  },
  {
   "cell_type": "markdown",
   "metadata": {},
   "source": [
    "## Εισαγωγή των Απαραίτητων Πακέτων\n"
   ]
  },
  {
   "cell_type": "code",
   "execution_count": null,
   "metadata": {},
   "outputs": [],
   "source": [
    "import os\n",
    "import json\n",
    "\n",
    "import requests\n",
    "from autogen_agentchat.agents import AssistantAgent\n",
    "from autogen_core.models import UserMessage\n",
    "from autogen_ext.models.azure import AzureAIChatCompletionClient\n",
    "from azure.core.credentials import AzureKeyCredential\n",
    "from autogen_core import CancellationToken\n",
    "from autogen_core.tools import FunctionTool\n",
    "from autogen_agentchat.messages import TextMessage\n",
    "from autogen_agentchat.ui import Console\n",
    "from typing import Any, Callable, Set, Dict, List, Optional"
   ]
  },
  {
   "cell_type": "markdown",
   "metadata": {},
   "source": [
    "## Δημιουργία του Client\n",
    "\n",
    "Σε αυτό το παράδειγμα, θα χρησιμοποιήσουμε [GitHub Models](https://aka.ms/ai-agents-beginners/github-models) για πρόσβαση στο LLM.\n",
    "\n",
    "Το `model` ορίζεται ως `gpt-4o-mini`. Δοκιμάστε να αλλάξετε το μοντέλο σε κάποιο άλλο διαθέσιμο στην αγορά του GitHub Models για να δείτε διαφορετικά αποτελέσματα.\n",
    "\n",
    "Ως μια γρήγορη δοκιμή, θα εκτελέσουμε απλώς ένα απλό prompt - `Ποια είναι η πρωτεύουσα της Γαλλίας`.\n"
   ]
  },
  {
   "cell_type": "code",
   "execution_count": null,
   "metadata": {},
   "outputs": [],
   "source": [
    "client = AzureAIChatCompletionClient(\n",
    "    model=\"gpt-4o-mini\",\n",
    "    endpoint=\"https://models.inference.ai.azure.com\",\n",
    "    # To authenticate with the model you will need to generate a personal access token (PAT) in your GitHub settings.\n",
    "    # Create your PAT token by following instructions here: https://docs.github.com/en/authentication/keeping-your-account-and-data-secure/managing-your-personal-access-tokens\n",
    "    credential=AzureKeyCredential(os.environ[\"GITHUB_TOKEN\"]),\n",
    "    model_info={\n",
    "        \"json_output\": True,\n",
    "        \"function_calling\": True,\n",
    "        \"vision\": True,\n",
    "        \"family\": \"unknown\",\n",
    "    },\n",
    ")\n",
    "\n",
    "result = await client.create([UserMessage(content=\"What is the capital of France?\", source=\"user\")])\n",
    "print(result)"
   ]
  },
  {
   "cell_type": "markdown",
   "metadata": {},
   "source": [
    "## Ορισμός των Συναρτήσεων\n",
    "\n",
    "Σε αυτό το παράδειγμα, θα δώσουμε στον πράκτορα πρόσβαση σε ένα εργαλείο που είναι μια συνάρτηση με μια λίστα διαθέσιμων προορισμών διακοπών και τη διαθεσιμότητά τους.\n",
    "\n",
    "Μπορείτε να σκεφτείτε ότι αυτό θα ήταν ένα σενάριο όπου ένας ταξιδιωτικός πράκτορας θα μπορούσε να έχει πρόσβαση σε μια ταξιδιωτική βάση δεδομένων, για παράδειγμα.\n",
    "\n",
    "Καθώς προχωράτε σε αυτό το δείγμα, μη διστάσετε να δοκιμάσετε να ορίσετε νέες συναρτήσεις και εργαλεία που μπορεί να καλέσει ο πράκτορας.\n"
   ]
  },
  {
   "cell_type": "code",
   "execution_count": null,
   "metadata": {},
   "outputs": [],
   "source": [
    "from typing import Dict, List, Optional\n",
    "\n",
    "\n",
    "def vacation_destinations(city: str) -> tuple[str, str]:\n",
    "    \"\"\"\n",
    "    Checks if a specific vacation destination is available\n",
    "    \n",
    "    Args:\n",
    "        city (str): Name of the city to check\n",
    "        \n",
    "    Returns:\n",
    "        tuple: Contains city name and availability status ('Available' or 'Unavailable')\n",
    "    \"\"\"\n",
    "    destinations = {\n",
    "        \"Barcelona\": \"Available\",\n",
    "        \"Tokyo\": \"Unavailable\",\n",
    "        \"Cape Town\": \"Available\",\n",
    "        \"Vancouver\": \"Available\",\n",
    "        \"Dubai\": \"Unavailable\",\n",
    "    }\n",
    "\n",
    "    if city in destinations:\n",
    "        return city, destinations[city]\n",
    "    else:\n",
    "        return city, \"City not found\"\n",
    "\n",
    "# Example usage:\n",
    "# city, status = vacation_destinations(\"Barcelona\")\n",
    "# print(f\"How about visiting {city}? It's currently {status} there!\")"
   ]
  },
  {
   "cell_type": "markdown",
   "metadata": {},
   "source": [
    "## Ορισμός του Εργαλείου Συνάρτησης \n",
    "Για να χρησιμοποιήσει ο πράκτορας το `vacation_destinations` ως `FunctionTool`, πρέπει να το ορίσουμε ως τέτοιο. \n",
    "\n",
    "Θα παρέχουμε επίσης μια περιγραφή του εργαλείου, η οποία είναι χρήσιμη για τον πράκτορα ώστε να κατανοήσει για ποιο σκοπό χρησιμοποιείται το εργαλείο σε σχέση με την εργασία που έχει ζητήσει ο χρήστης.\n"
   ]
  },
  {
   "cell_type": "code",
   "execution_count": null,
   "metadata": {},
   "outputs": [],
   "source": [
    "get_vacations = FunctionTool(\n",
    "    vacation_destinations, description=\"Search for vacation destinations and if they are available or not.\"\n",
    ")"
   ]
  },
  {
   "cell_type": "markdown",
   "metadata": {},
   "source": [
    "## Ορισμός του agent\n",
    "\n",
    "Τώρα μπορούμε να δημιουργήσουμε τον agent στον παρακάτω κώδικα. Ορίζουμε το `system_message` για να δώσουμε οδηγίες στον agent σχετικά με το πώς να βοηθά τους χρήστες να βρίσκουν προορισμούς διακοπών.\n",
    "\n",
    "Επίσης, ορίζουμε την παράμετρο `reflect_on_tool_use` σε true. Αυτό επιτρέπει τη χρήση του LLM για να λαμβάνει την απόκριση από την κλήση του εργαλείου και να στέλνει την απάντηση χρησιμοποιώντας φυσική γλώσσα.\n",
    "\n",
    "Μπορείτε να ορίσετε την παράμετρο σε false για να δείτε τη διαφορά.\n"
   ]
  },
  {
   "cell_type": "code",
   "execution_count": null,
   "metadata": {},
   "outputs": [],
   "source": [
    "agent = AssistantAgent(\n",
    "    name=\"assistant\",\n",
    "    model_client=client,\n",
    "    tools=[get_vacations],\n",
    "    system_message=\"You are a travel agent that helps users find vacation destinations.\",\n",
    "    reflect_on_tool_use=True,\n",
    ")"
   ]
  },
  {
   "cell_type": "markdown",
   "metadata": {},
   "source": [
    "## Εκτέλεση του Agent\n",
    "\n",
    "Τώρα μπορούμε να εκτελέσουμε τον agent με το αρχικό μήνυμα χρήστη που ζητά να κάνει ένα ταξίδι στο Τόκιο.\n",
    "\n",
    "Μπορείτε να αλλάξετε αυτόν τον προορισμό πόλης για να δείτε πώς ο agent ανταποκρίνεται στη διαθεσιμότητα της πόλης.\n"
   ]
  },
  {
   "cell_type": "code",
   "execution_count": null,
   "metadata": {},
   "outputs": [],
   "source": [
    "async def assistant_run() -> None:\n",
    "    response = await agent.on_messages(\n",
    "        [TextMessage(content=\"I would like to take a trip to Tokyo\", source=\"user\")],\n",
    "        cancellation_token=CancellationToken(),\n",
    "    )\n",
    "    print(response.inner_messages)\n",
    "    print(response.chat_message)\n",
    "\n",
    "\n",
    "# Use asyncio.run(assistant_run()) when running in a script.\n",
    "await assistant_run()"
   ]
  },
  {
   "cell_type": "markdown",
   "metadata": {},
   "source": [
    "\n---\n\n**Αποποίηση ευθύνης**:  \nΑυτό το έγγραφο έχει μεταφραστεί χρησιμοποιώντας την υπηρεσία αυτόματης μετάφρασης [Co-op Translator](https://github.com/Azure/co-op-translator). Παρόλο που καταβάλλουμε προσπάθειες για ακρίβεια, παρακαλούμε να έχετε υπόψη ότι οι αυτοματοποιημένες μεταφράσεις ενδέχεται να περιέχουν λάθη ή ανακρίβειες. Το πρωτότυπο έγγραφο στη μητρική του γλώσσα θα πρέπει να θεωρείται η αυθεντική πηγή. Για κρίσιμες πληροφορίες, συνιστάται επαγγελματική ανθρώπινη μετάφραση. Δεν φέρουμε ευθύνη για τυχόν παρεξηγήσεις ή εσφαλμένες ερμηνείες που προκύπτουν από τη χρήση αυτής της μετάφρασης.\n"
   ]
  }
 ],
 "metadata": {
  "kernelspec": {
   "display_name": ".venv",
   "language": "python",
   "name": "python3"
  },
  "language_info": {
   "codemirror_mode": {
    "name": "ipython",
    "version": 3
   },
   "file_extension": ".py",
   "mimetype": "text/x-python",
   "name": "python",
   "nbconvert_exporter": "python",
   "pygments_lexer": "ipython3",
   "version": "3.13.1"
  },
  "coopTranslator": {
   "original_hash": "3ab7ffbff609b601fcdfeb749af44e43",
   "translation_date": "2025-08-29T16:42:43+00:00",
   "source_file": "04-tool-use/code_samples/04-autogen.ipynb",
   "language_code": "el"
  }
 },
 "nbformat": 4,
 "nbformat_minor": 2
}