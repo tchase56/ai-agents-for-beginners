{
 "cells": [
  {
   "cell_type": "markdown",
   "metadata": {},
   "source": [
    "## **Δείγματα: Πολλαπλοί Πράκτορες AI για Κράτηση Ξενοδοχείου**\n",
    "\n",
    "Στον σημερινό γρήγορο ρυθμό ζωής, ο προγραμματισμός ενός επαγγελματικού ταξιδιού περιλαμβάνει πολύ περισσότερα από την κράτηση μιας πτήσης και ενός δωματίου ξενοδοχείου. Απαιτεί ένα επίπεδο συντονισμού και αποτελεσματικότητας που μπορεί να είναι δύσκολο να επιτευχθεί. Εδώ είναι που οι Πολλαπλοί Πράκτορες AI κάνουν τη διαφορά, φέρνοντας επανάσταση στον τρόπο που διαχειριζόμαστε τις ταξιδιωτικές μας ανάγκες.\n",
    "\n",
    "Φανταστείτε να έχετε μια ομάδα έξυπνων πρακτόρων στη διάθεσή σας, που συνεργάζονται για να διαχειριστούν κάθε πτυχή του ταξιδιού σας με ακρίβεια και ευκολία. Με την προηγμένη τεχνολογία AI μας, έχουμε δημιουργήσει εξειδικευμένους πράκτορες για υπηρεσίες κρατήσεων και οργάνωση δρομολογίων, εξασφαλίζοντας μια ομαλή και χωρίς άγχος ταξιδιωτική εμπειρία.\n",
    "\n",
    "Αυτό είναι ένα βασικό σενάριο. Όταν σχεδιάζουμε ένα επαγγελματικό ταξίδι, χρειάζεται να συμβουλευτούμε έναν πράκτορα επαγγελματικών ταξιδιών για να λάβουμε πληροφορίες για αεροπορικά εισιτήρια, ξενοδοχεία κ.λπ. Μέσω των Πρακτόρων AI, μπορούμε να δημιουργήσουμε πράκτορες για υπηρεσίες κρατήσεων και πράκτορες για οργάνωση δρομολογίων, ώστε να συνεργάζονται και να βελτιώνουν το επίπεδο ευφυΐας.\n"
   ]
  },
  {
   "cell_type": "markdown",
   "metadata": {},
   "source": [
    "# Αρχικοποίηση της Υπηρεσίας Azure AI Agent και λήψη πληροφοριών διαμόρφωσης από το **.env**\n",
    "\n",
    "### **.env** \n",
    "\n",
    "Δημιουργήστε ένα αρχείο .env \n",
    "\n",
    "Το **.env** περιέχει τη συμβολοσειρά σύνδεσης της Υπηρεσίας Azure AI Agent, το μοντέλο που χρησιμοποιείται από το AOAI, καθώς και την αντίστοιχη υπηρεσία Google API Search, το ENDPOINT, κ.λπ.\n",
    "\n",
    "- **AZURE_AI_AGENT_MODEL_DEPLOYMENT_NAME** = \"Το Όνομα Ανάπτυξης Μοντέλου της Υπηρεσίας Azure AI Agent\"\n",
    "\n",
    "[**NOTE**] Θα χρειαστείτε ένα μοντέλο με Όριο Ρυθμού 100,000 (Tokens ανά λεπτό) και Όριο Ρυθμού 600 (Αιτήματα ανά λεπτό).\n",
    "\n",
    "  Μπορείτε να αποκτήσετε μοντέλο στο Azure AI Foundry - Model and Endpoint. \n",
    "\n",
    "- **AZURE_AI_AGENT_PROJECT_CONNECTION_STRING** = \"Η Συμβολοσειρά Σύνδεσης Έργου της Υπηρεσίας Azure AI Agent\"\n",
    "\n",
    "  Μπορείτε να βρείτε τη συμβολοσειρά σύνδεσης έργου στην επισκόπηση του έργου σας στην οθόνη AI ​​Foundry Portal.\n",
    "\n",
    "- **SERPAPI_SEARCH_API_KEY** = \"Το SERPAPI Search API KEY σας\"\n",
    "- **SERPAPI_SEARCH_ENDPOINT** = \"Το SERPAPI Search Endpoint σας\"\n",
    "\n",
    "Για να αποκτήσετε το Όνομα Ανάπτυξης Μοντέλου και τη Συμβολοσειρά Σύνδεσης Έργου της Υπηρεσίας Azure AI Agent, πρέπει να δημιουργήσετε την Υπηρεσία Azure AI Agent. Συνιστάται να χρησιμοποιήσετε [αυτό το πρότυπο](https://portal.azure.com/#create/Microsoft.Template/uri/https%3A%2F%2Fraw.githubusercontent.com%2Ffosteramanda%2Fazure-agent-quickstart-templates%2Frefs%2Fheads%2Fmaster%2Fquickstarts%2Fmicrosoft.azure-ai-agent-service%2Fstandard-agent%2Fazuredeploy.json) για να τη δημιουργήσετε απευθείας (***Σημείωση:*** Η Υπηρεσία Azure AI Agent είναι προς το παρόν διαθέσιμη σε περιορισμένες περιοχές. Συνιστάται να ανατρέξετε [σε αυτόν τον σύνδεσμο](https://learn.microsoft.com/en-us/azure/ai-services/agents/concepts/model-region-support) για να ορίσετε την περιοχή).\n",
    "\n",
    "Ο Agent χρειάζεται πρόσβαση στο SERPAPI. Συνιστάται να εγγραφείτε χρησιμοποιώντας [αυτόν τον σύνδεσμο](https://serpapi.com/searches). Μετά την εγγραφή, μπορείτε να αποκτήσετε ένα μοναδικό API KEY και ENDPOINT.\n"
   ]
  },
  {
   "cell_type": "markdown",
   "metadata": {},
   "source": [
    "# Σύνδεση στο Azure\n",
    "\n",
    "Τώρα πρέπει να συνδεθείτε στο Azure. Ανοίξτε ένα τερματικό στο VScode και εκτελέστε την εντολή `az login`.\n"
   ]
  },
  {
   "cell_type": "markdown",
   "metadata": {},
   "source": [
    "# Ρύθμιση\n",
    "\n",
    "Για να εκτελέσετε αυτό το notebook, θα χρειαστεί να εγκαταστήσετε τις παρακάτω βιβλιοθήκες. Ακολουθεί μια λίστα με τις απαιτούμενες βιβλιοθήκες και τις αντίστοιχες εντολές εγκατάστασης pip:\n",
    "\n",
    "azure-identity: Για αυθεντικοποίηση στο Azure.  \n",
    "requests: Για την εκτέλεση HTTP αιτημάτων.  \n",
    "semantic-kernel: Για το πλαίσιο semantic kernel (υποθέτοντας ότι πρόκειται για μια προσαρμοσμένη ή συγκεκριμένη βιβλιοθήκη, ίσως χρειαστεί να την εγκαταστήσετε από συγκεκριμένη πηγή ή αποθετήριο).  \n"
   ]
  },
  {
   "cell_type": "code",
   "execution_count": null,
   "metadata": {},
   "outputs": [],
   "source": [
    "!pip install azure-identity\n",
    "!pip install requests\n",
    "!pip install semantic-kernel\n",
    "!pip install --upgrade semantic_kernel\n",
    "!pip install azure-cli"
   ]
  },
  {
   "cell_type": "markdown",
   "metadata": {},
   "source": [
    "# Επεξήγηση: \n",
    "import asyncio: Αυτό εισάγει τη μονάδα asyncio, η οποία παρέχει υποστήριξη για ασύγχρονο προγραμματισμό στην Python. Σας επιτρέπει να γράφετε ταυτόχρονο κώδικα χρησιμοποιώντας τη σύνταξη async και await.\n",
    "from typing: Annotated: Αυτό εισάγει τον τύπο Annotated από τη μονάδα typing. Το Annotated χρησιμοποιείται για να προσθέσει μεταδεδομένα στις υποδείξεις τύπου, κάτι που μπορεί να είναι χρήσιμο για διάφορους σκοπούς όπως η επικύρωση, η τεκμηρίωση ή τα εργαλεία.\n"
   ]
  },
  {
   "cell_type": "code",
   "execution_count": null,
   "metadata": {
    "dotnet_interactive": {
     "language": "csharp"
    },
    "polyglot_notebook": {
     "kernelName": "csharp"
    }
   },
   "outputs": [],
   "source": [
    "import asyncio,os\n",
    "from typing import Annotated"
   ]
  },
  {
   "cell_type": "markdown",
   "metadata": {},
   "source": [
    "# Επεξήγηση:\n",
    "Χρησιμοποιώντας from dotenv import load_dotenv και load_dotenv(), μπορείτε να διαχειριστείτε εύκολα τις ρυθμίσεις διαμόρφωσης και ευαίσθητες πληροφορίες (όπως κλειδιά API και URLs βάσεων δεδομένων) σε ένα αρχείο .env, διατηρώντας τα ξεχωριστά από τον πηγαίο κώδικά σας και κάνοντας την εφαρμογή σας πιο ασφαλή και ευκολότερη στη διαμόρφωση.\n"
   ]
  },
  {
   "cell_type": "code",
   "execution_count": null,
   "metadata": {},
   "outputs": [],
   "source": [
    "import os\n",
    "from dotenv import load_dotenv\n",
    "\n",
    "# Load environment variables from .env file\n",
    "load_dotenv()"
   ]
  },
  {
   "cell_type": "markdown",
   "metadata": {},
   "source": [
    "# Επεξήγηση:\n",
    "\n",
    "Δήλωση Εισαγωγής: from azure.identity.aio import DefaultAzureCredential: Αυτή η δήλωση εισάγει την κλάση DefaultAzureCredential από το module azure.identity.aio. Το μέρος aio στο όνομα του module υποδεικνύει ότι είναι σχεδιασμένο για ασύγχρονες λειτουργίες.\n",
    "\n",
    "Σκοπός του DefaultAzureCredential: Η κλάση DefaultAzureCredential είναι μέρος του Azure SDK για Python. Παρέχει έναν προεπιλεγμένο τρόπο αυθεντικοποίησης με τις υπηρεσίες Azure. Προσπαθεί να αυθεντικοποιηθεί χρησιμοποιώντας πολλαπλές μεθόδους με συγκεκριμένη σειρά, όπως μεταβλητές περιβάλλοντος, διαχειριζόμενη ταυτότητα και διαπιστευτήρια Azure CLI.\n",
    "\n",
    "Ασύγχρονες Λειτουργίες: Το module aio υποδεικνύει ότι η κλάση DefaultAzureCredential υποστηρίζει ασύγχρονες λειτουργίες. Αυτό σημαίνει ότι μπορείτε να τη χρησιμοποιήσετε με το asyncio για να εκτελέσετε αιτήματα αυθεντικοποίησης χωρίς αποκλεισμό.\n"
   ]
  },
  {
   "cell_type": "code",
   "execution_count": null,
   "metadata": {
    "dotnet_interactive": {
     "language": "csharp"
    },
    "polyglot_notebook": {
     "kernelName": "csharp"
    }
   },
   "outputs": [],
   "source": [
    "from azure.identity.aio import DefaultAzureCredential"
   ]
  },
  {
   "cell_type": "markdown",
   "metadata": {},
   "source": [
    "# Επεξήγηση:\n",
    "Γίνεται εισαγωγή διαφόρων μονάδων και κλάσεων από το πακέτο semantic_kernel. Ακολουθεί μια ανάλυση κάθε εισαγωγής:\n",
    "\n",
    "AgentGroupChat από το semantic_kernel.agents: Αυτή η κλάση διαχειρίζεται λειτουργίες που σχετίζονται με ομαδικές συνομιλίες για AI agents. AzureAIAgent και AzureAIAgentSettings από το semantic_kernel.agents.azure_ai:\n",
    "\n",
    "AzureAIAgent: Αυτή η κλάση χρησιμοποιείται για τη δημιουργία και διαχείριση AI agents που αξιοποιούν τις υπηρεσίες Azure AI.\n",
    "\n",
    "AzureAIAgentSettings: Αυτή η κλάση χρησιμοποιείται για τη ρύθμιση παραμέτρων του AzureAIAgent. TerminationStrategy από το semantic_kernel.agents.strategies.termination.termination_strategy:\n",
    "\n",
    "Αυτή η κλάση ορίζει στρατηγικές για τον τερματισμό της εκτέλεσης AI agents υπό συγκεκριμένες συνθήκες. ChatMessageContent από το semantic_kernel.contents.chat_message_content:\n",
    "\n",
    "Αυτή η κλάση χρησιμοποιείται για τη διαχείριση του περιεχομένου των μηνυμάτων συνομιλίας.\n",
    "AuthorRole από το semantic_kernel.contents.utils.author_role:\n",
    "\n",
    "Αυτή η κλάση ορίζει διαφορετικούς ρόλους για τους συγγραφείς στο πλαίσιο των μηνυμάτων συνομιλίας.\n",
    "\n",
    "kernel_function από το semantic_kernel.functions.kernel_function_decorator: Αυτός ο διακοσμητής χρησιμοποιείται για τον ορισμό kernel functions, δηλαδή συναρτήσεων που μπορούν να εκτελεστούν στο πλαίσιο του semantic kernel.\n",
    "Αυτές οι εισαγωγές προετοιμάζουν τα απαραίτητα στοιχεία για τη δημιουργία και διαχείριση AI agents που μπορούν να αλληλεπιδρούν σε περιβάλλον ομαδικής συνομιλίας, πιθανώς για εργασίες όπως η κράτηση ξενοδοχείων ή παρόμοιες δραστηριότητες.\n"
   ]
  },
  {
   "cell_type": "code",
   "execution_count": null,
   "metadata": {
    "dotnet_interactive": {
     "language": "csharp"
    },
    "polyglot_notebook": {
     "kernelName": "csharp"
    }
   },
   "outputs": [],
   "source": [
    "from semantic_kernel.agents import AgentGroupChat\n",
    "from semantic_kernel.agents import AzureAIAgent, AzureAIAgentSettings\n",
    "from semantic_kernel.agents.strategies.termination.termination_strategy import TerminationStrategy\n",
    "from semantic_kernel.contents import ChatMessageContent\n",
    "from semantic_kernel.contents import AuthorRole\n",
    "from semantic_kernel.functions.kernel_function_decorator import kernel_function"
   ]
  },
  {
   "cell_type": "markdown",
   "metadata": {},
   "source": [
    "# Επεξήγηση:\n",
    "Στη συνέχεια εισάγουμε την κλάση CodeInterpreterTool από τη μονάδα azure.ai.projects.models.\n",
    "\n",
    "CodeInterpreterTool: Αυτή η κλάση αποτελεί μέρος του Azure AI SDK και χρησιμοποιείται για την ερμηνεία και εκτέλεση κώδικα στο πλαίσιο έργων AI. Παρέχει λειτουργίες για την εκτέλεση αποσπασμάτων κώδικα, την ανάλυση κώδικα ή την ενσωμάτωση της εκτέλεσης κώδικα σε ροές εργασίας AI. \n",
    "Αυτή η εισαγωγή ρυθμίζει το απαραίτητο στοιχείο για τη χρήση του CodeInterpreterTool στο έργο σας, το οποίο μπορεί να είναι χρήσιμο για εργασίες που περιλαμβάνουν δυναμική ερμηνεία και εκτέλεση κώδικα.\n"
   ]
  },
  {
   "cell_type": "code",
   "execution_count": null,
   "metadata": {
    "dotnet_interactive": {
     "language": "csharp"
    },
    "polyglot_notebook": {
     "kernelName": "csharp"
    }
   },
   "outputs": [],
   "source": [
    "from azure.ai.projects.models import CodeInterpreterTool"
   ]
  },
  {
   "cell_type": "markdown",
   "metadata": {},
   "source": [
    "# Επεξήγηση: \n",
    "Η κλάση ApprovalTerminationStrategy παρέχει μια συγκεκριμένη στρατηγική για τον τερματισμό της λειτουργίας ενός AI agent. Ο agent θα τερματίσει εάν το τελευταίο μήνυμα στο ιστορικό αλληλεπίδρασής του περιέχει τη λέξη \"saved\". Αυτό μπορεί να είναι χρήσιμο σε σενάρια όπου η εργασία του agent θεωρείται ολοκληρωμένη μόλις λάβει επιβεβαίωση ότι κάτι έχει \"αποθηκευτεί\". Ορίστε τη μέθοδο αλληλεπίδρασης. Μετά την αποθήκευση του σχεδίου κράτησης, μπορεί να σταματήσει όταν λάβει το σήμα \"saved\".\n"
   ]
  },
  {
   "cell_type": "code",
   "execution_count": null,
   "metadata": {
    "dotnet_interactive": {
     "language": "csharp"
    },
    "polyglot_notebook": {
     "kernelName": "csharp"
    }
   },
   "outputs": [],
   "source": [
    "class ApprovalTerminationStrategy(TerminationStrategy):\n",
    "    \"\"\"A strategy for determining when an agent should terminate.\"\"\"\n",
    "\n",
    "    async def should_agent_terminate(self, agent, history):\n",
    "        \"\"\"Check if the agent should terminate.\"\"\"\n",
    "        return \"saved\" in history[-1].content.lower()"
   ]
  },
  {
   "cell_type": "markdown",
   "metadata": {},
   "source": [
    "# Επεξήγηση:\n",
    "\n",
    "Η γραμμή κώδικα αρχικοποιεί ένα αντικείμενο AzureAIAgentSettings με προεπιλεγμένες ή προκαθορισμένες ρυθμίσεις, καλώντας τη μέθοδο create(). Αυτό το αντικείμενο ρυθμίσεων (ai_agent_settings) μπορεί στη συνέχεια να χρησιμοποιηθεί για τη διαμόρφωση και τη διαχείριση μιας παρουσίας AzureAIAgent.\n"
   ]
  },
  {
   "cell_type": "code",
   "execution_count": null,
   "metadata": {
    "dotnet_interactive": {
     "language": "csharp"
    },
    "polyglot_notebook": {
     "kernelName": "csharp"
    }
   },
   "outputs": [],
   "source": [
    "ai_agent_settings = AzureAIAgentSettings.create()"
   ]
  },
  {
   "cell_type": "markdown",
   "metadata": {},
   "source": [
    "# Εξήγηση:\n",
    "Με την εισαγωγή της βιβλιοθήκης requests, μπορείτε εύκολα να κάνετε αιτήματα HTTP και να αλληλεπιδράσετε με υπηρεσίες ιστού στον κώδικα Python σας.\n"
   ]
  },
  {
   "cell_type": "code",
   "execution_count": null,
   "metadata": {
    "dotnet_interactive": {
     "language": "csharp"
    },
    "polyglot_notebook": {
     "kernelName": "csharp"
    }
   },
   "outputs": [],
   "source": [
    "import requests"
   ]
  },
  {
   "cell_type": "markdown",
   "metadata": {},
   "source": [
    "# Επεξήγηση:\n",
    "Αυτή είναι μια μεταβλητή που αποθηκεύει το API key για την πρόσβαση σε μια υπηρεσία SERP (Search Engine Results Page). Ένα API key είναι ένας μοναδικός αναγνωριστικός κωδικός που χρησιμοποιείται για την αυθεντικοποίηση αιτημάτων που σχετίζονται με τον λογαριασμό σας.\n",
    "\n",
    "'GOOGLE_SEARCH_API_KEY': Αυτό είναι ένα placeholder string. Πρέπει να αντικαταστήσετε το ''GOOGLE_SEARCH_API_KEY'' με το πραγματικό σας SERP API key.\n",
    "\n",
    "Σκοπός: Ο σκοπός αυτής της γραμμής είναι να αποθηκεύσει το API key σε μια μεταβλητή, ώστε να μπορεί να χρησιμοποιηθεί για την αυθεντικοποίηση αιτημάτων προς την υπηρεσία SERP API. Το API key είναι απαραίτητο για την πρόσβαση στην υπηρεσία και την εκτέλεση αναζητήσεων.\n",
    "\n",
    "Πώς να αποκτήσετε ένα SERP API Key: Για να αποκτήσετε ένα SERP API key, ακολουθήστε αυτά τα γενικά βήματα στη διεύθυνση https://serpapi.com (τα ακριβή βήματα μπορεί να διαφέρουν ανάλογα με την υπηρεσία SERP API που χρησιμοποιείτε):\n",
    "\n",
    "Επιλέξτε μια Υπηρεσία SERP API: Υπάρχουν διάφορες διαθέσιμες υπηρεσίες SERP API, όπως το SerpAPI, το Google Custom Search JSON API και άλλες. Επιλέξτε αυτή που ταιριάζει καλύτερα στις ανάγκες σας.\n",
    "\n",
    "Εγγραφείτε για Λογαριασμό:\n",
    "\n",
    "Μεταβείτε στον ιστότοπο της επιλεγμένης υπηρεσίας SERP API https://www.serpapi.com και εγγραφείτε για έναν λογαριασμό. Ίσως χρειαστεί να παρέχετε κάποιες βασικές πληροφορίες και να επαληθεύσετε τη διεύθυνση email σας.\n",
    "\n",
    "Δημιουργήστε ένα API Key:\n",
    "\n",
    "Αφού εγγραφείτε, συνδεθείτε στον λογαριασμό σας και μεταβείτε στην ενότητα API ή στον πίνακα ελέγχου. Αναζητήστε μια επιλογή για δημιουργία ή παραγωγή ενός νέου API key.\n",
    "Αντιγράψτε το API Key:\n",
    "\n",
    "Μόλις δημιουργηθεί το API key, αντιγράψτε το. Αυτό το key θα χρησιμοποιηθεί για την αυθεντικοποίηση των αιτημάτων σας προς την υπηρεσία SERP API.\n",
    "Αντικαταστήστε το Placeholder:\n",
    "\n",
    "Αντικαταστήστε το placeholder στο αρχείο .env σας.\n"
   ]
  },
  {
   "cell_type": "code",
   "execution_count": null,
   "metadata": {
    "dotnet_interactive": {
     "language": "csharp"
    },
    "polyglot_notebook": {
     "kernelName": "csharp"
    }
   },
   "outputs": [],
   "source": [
    "SERPAPI_SEARCH_API_KEY=os.getenv('SERPAPI_SEARCH_API_KEY')"
   ]
  },
  {
   "cell_type": "code",
   "execution_count": null,
   "metadata": {
    "dotnet_interactive": {
     "language": "csharp"
    },
    "polyglot_notebook": {
     "kernelName": "csharp"
    }
   },
   "outputs": [],
   "source": [
    "SERPAPI_SEARCH_ENDPOINT = os.getenv('SERPAPI_SEARCH_ENDPOINT')"
   ]
  },
  {
   "cell_type": "markdown",
   "metadata": {},
   "source": [
    "# Επεξήγηση:\n",
    "Η κλάση BookingPlugin παρέχει μεθόδους για την κράτηση ξενοδοχείων και πτήσεων χρησιμοποιώντας το Serpapi.com Google Search API. Δημιουργεί τις απαραίτητες παραμέτρους, στέλνει αιτήματα API και επεξεργάζεται τις απαντήσεις για να επιστρέψει σχετικές πληροφορίες κρατήσεων. Το κλειδί API (SERPAPI_SEARCH_API_KEY) και το endpoint (SERPAPI_SEARCH_ENDPOINT) χρησιμοποιούνται για την αυθεντικοποίηση και την αποστολή αιτημάτων στο Google Search API.\n"
   ]
  },
  {
   "cell_type": "code",
   "execution_count": null,
   "metadata": {
    "dotnet_interactive": {
     "language": "csharp"
    },
    "polyglot_notebook": {
     "kernelName": "csharp"
    }
   },
   "outputs": [],
   "source": [
    "# Define Booking Plugin\n",
    "class BookingPlugin:\n",
    "    \"\"\"Booking Plugin for customers\"\"\"\n",
    "    @kernel_function(description=\"booking hotel\")\n",
    "    def booking_hotel(self,query: Annotated[str, \"The name of the city\"], check_in_date: Annotated[str, \"Hotel Check-in Time\"], check_out_date: Annotated[str, \"Hotel Check-in Time\"])-> Annotated[str, \"Return the result of booking hotel infomation\"]:\n",
    "\n",
    "        params = {\n",
    "            \"engine\": \"google_hotels\",\n",
    "            \"q\": query,\n",
    "            \"check_in_date\": check_in_date,\n",
    "            \"check_out_date\": check_out_date,\n",
    "            \"adults\": \"2\",\n",
    "            \"currency\": \"USD\",\n",
    "            \"gl\": \"us\",\n",
    "            \"hl\": \"en\",\n",
    "            \"api_key\": SERPAPI_SEARCH_API_KEY\n",
    "        }\n",
    "\n",
    "        response = requests.get(SERPAPI_SEARCH_ENDPOINT, params=params)\n",
    "        if response.status_code == 200:\n",
    "            response = response.json()\n",
    "            return response[\"properties\"]\n",
    "        else:\n",
    "            return None\n",
    "\n",
    "    \n",
    "    @kernel_function(description=\"booking fight\")\n",
    "    def  booking_fight(self,origin: Annotated[str, \"The name of Departure\"], destination: Annotated[str, \"The name of Destination\"], outbound_date: Annotated[str, \"The date of outbound\"], return_date: Annotated[str, \"The date of Return_date\"])-> Annotated[str, \"Return the result of booking fight infomation\"]:\n",
    "        \n",
    "        go_params = {\n",
    "            \"engine\": \"google_flights\",   \n",
    "            \"departure_id\": origin,\n",
    "            \"arrival_id\": destination,\n",
    "            \"outbound_date\": outbound_date,\n",
    "            \"return_date\": return_date,  \n",
    "            \"currency\": \"USD\",\n",
    "            \"hl\": \"en\",\n",
    "            \"api_key\": SERPAPI_SEARCH_API_KEY  \n",
    "        }\n",
    "\n",
    "        print(go_params)\n",
    "\n",
    "        go_response = requests.get(SERPAPI_SEARCH_ENDPOINT, params=go_params)\n",
    "\n",
    "\n",
    "        result = ''\n",
    "\n",
    "        if go_response.status_code == 200:\n",
    "            response = go_response.json()\n",
    "\n",
    "            result += \"# outbound \\n \" + str(response)\n",
    "        else:\n",
    "            print('error!!!')\n",
    "            # return None\n",
    "\n",
    "        \n",
    "        back_params = {\n",
    "            \"engine\": \"google_flights\",   \n",
    "            \"departure_id\": destination,\n",
    "            \"arrival_id\": origin,\n",
    "            \"outbound_date\": return_date,\n",
    "            \"return_date\": return_date,  \n",
    "            \"currency\": \"USD\",\n",
    "            \"hl\": \"en\",\n",
    "            \"api_key\": SERPAPI_SEARCH_API_KEY  \n",
    "        }\n",
    "\n",
    "\n",
    "        print(back_params)\n",
    "\n",
    "\n",
    "        back_response = requests.get(SERPAPI_SEARCH_ENDPOINT, params=back_params)\n",
    "\n",
    "\n",
    "\n",
    "        if back_response.status_code == 200:\n",
    "            response = back_response.json()\n",
    "\n",
    "            result += \"\\n # return \\n\"  + str(response)\n",
    "\n",
    "        else:\n",
    "            print('error!!!')\n",
    "            # return None\n",
    "        \n",
    "        print(result)\n",
    "\n",
    "        return result\n",
    "\n",
    "        \n"
   ]
  },
  {
   "cell_type": "markdown",
   "metadata": {},
   "source": [
    "# Επεξήγηση:\n",
    "Η κλάση SavePlugin παρέχει μια μέθοδο saving_plan για την αποθήκευση σχεδίων ταξιδιού χρησιμοποιώντας τις υπηρεσίες Azure AI. Ρυθμίζει τα διαπιστευτήρια του Azure, δημιουργεί έναν AI agent, επεξεργάζεται τις εισόδους του χρήστη για να δημιουργήσει και να αποθηκεύσει το περιεχόμενο του σχεδίου ταξιδιού, και διαχειρίζεται τις λειτουργίες αποθήκευσης αρχείων και καθαρισμού. Η μέθοδος επιστρέφει \"Saved\" μετά την επιτυχή ολοκλήρωση.\n"
   ]
  },
  {
   "cell_type": "code",
   "execution_count": null,
   "metadata": {
    "dotnet_interactive": {
     "language": "csharp"
    },
    "polyglot_notebook": {
     "kernelName": "csharp"
    }
   },
   "outputs": [],
   "source": [
    "class SavePlugin:\n",
    "    \"\"\"Save Plugin for customers\"\"\"\n",
    "    @kernel_function(description=\"saving plan\")\n",
    "    async def saving_plan(self,tripplan: Annotated[str, \"The content of trip plan\"])-> Annotated[str, \"Return status of save content\"]:\n",
    "\n",
    "        async with (\n",
    "            DefaultAzureCredential() as creds,\n",
    "            AzureAIAgent.create_client(\n",
    "                credential=creds,\n",
    "                conn_str=ai_agent_settings.project_connection_string.get_secret_value(),\n",
    "            ) as client,\n",
    "        ):\n",
    "\n",
    "            code_interpreter = CodeInterpreterTool()\n",
    "            \n",
    "            agent_definition = await client.agents.create_agent(\n",
    "                model=ai_agent_settings.model_deployment_name,\n",
    "                tools=code_interpreter.definitions,\n",
    "                tool_resources=code_interpreter.resources,\n",
    "            )\n",
    "\n",
    "\n",
    "            agent = AzureAIAgent(\n",
    "                client=client,\n",
    "                definition=agent_definition,\n",
    "            )\n",
    "\n",
    "            thread = await client.agents.create_thread()\n",
    "\n",
    "\n",
    "            user_inputs = [\n",
    "                \"\"\"\n",
    "            \n",
    "                        You are my Python programming assistant. Generate code,save \"\"\"+ tripplan +\n",
    "                        \n",
    "                    \"\"\"    \n",
    "                        and execute it according to the following requirements\n",
    "\n",
    "                        1. Save blog content to trip-{YYMMDDHHMMSS}.md\n",
    "\n",
    "                        2. give me the download this file link\n",
    "                    \"\"\"\n",
    "            ]\n",
    "\n",
    "\n",
    "\n",
    "            try:\n",
    "                for user_input in user_inputs:\n",
    "                    # Add the user input as a chat message\n",
    "                    await agent.add_chat_message(\n",
    "                        thread_id=thread.id, message=ChatMessageContent(role=AuthorRole.USER, content=user_input)\n",
    "                    )\n",
    "                    print(f\"# User: '{user_input}'\")\n",
    "                    # Invoke the agent for the specified thread\n",
    "                    async for content in agent.invoke(thread_id=thread.id):\n",
    "                        if content.role != AuthorRole.TOOL:\n",
    "                            print(f\"# Agent: {content.content}\")\n",
    "\n",
    "                    \n",
    "                    messages = await client.agents.list_messages(thread_id=thread.id)\n",
    "\n",
    "                    # OpenAIPageableListOfThreadMessage\n",
    "                    # OpenAIPageableListOfThreadMessage\n",
    "\n",
    "\n",
    "                    for file_path_annotation in messages.file_path_annotations:\n",
    "\n",
    "                            file_name = os.path.basename(file_path_annotation.text)\n",
    "\n",
    "                            await client.agents.save_file(file_id=file_path_annotation.file_path.file_id, file_name=file_name,target_dir=\"./trip\")\n",
    "\n",
    "                    \n",
    "            finally:\n",
    "                await client.agents.delete_thread(thread.id)\n",
    "                await client.agents.delete_agent(agent.id)\n",
    "\n",
    "\n",
    "        return \"Saved\""
   ]
  },
  {
   "cell_type": "markdown",
   "metadata": {},
   "source": [
    "# Επεξήγηση:\n",
    "Αυτός ο κώδικας ρυθμίζει πράκτορες Azure AI για να διαχειρίζονται κρατήσεις πτήσεων και ξενοδοχείων, καθώς και για να αποθηκεύουν σχέδια ταξιδιών με βάση τις εισόδους των χρηστών. Χρησιμοποιεί διαπιστευτήρια Azure για να δημιουργήσει και να διαμορφώσει τους πράκτορες, επεξεργάζεται τις εισόδους των χρηστών μέσω μιας ομαδικής συνομιλίας και διασφαλίζει τη σωστή εκκαθάριση μετά την ολοκλήρωση των εργασιών. Οι πράκτορες χρησιμοποιούν συγκεκριμένα πρόσθετα (BookingPlugin και SavePlugin) για να εκτελέσουν τις αντίστοιχες εργασίες τους.\n"
   ]
  },
  {
   "cell_type": "code",
   "execution_count": null,
   "metadata": {
    "dotnet_interactive": {
     "language": "csharp"
    },
    "polyglot_notebook": {
     "kernelName": "csharp"
    }
   },
   "outputs": [],
   "source": [
    "async with (\n",
    "    DefaultAzureCredential() as creds,\n",
    "    AzureAIAgent.create_client(\n",
    "        credential=creds,\n",
    "        conn_str=ai_agent_settings.project_connection_string.get_secret_value(),\n",
    "    ) as client,\n",
    "):\n",
    "    BOOKING_AGENT_NAME = \"BookingAgent\"\n",
    "    BOOKING_AGENT_INSTRUCTIONS = \"\"\"\n",
    "    You are a booking agent. Help me book flights or hotels.\n",
    "\n",
    "    Thought: Please understand the user's intention and confirm whether to use the reservation system to complete the task.\n",
    "\n",
    "    Actions:\n",
    "    - For flight bookings, convert the departure and destination names into airport codes.\n",
    "    - Use the appropriate API for hotel or flight bookings. Verify that all necessary parameters are available. If any parameters are missing, ask the user to provide them. If all parameters are complete, call the corresponding function.\n",
    "    - If the task is not related to hotel or flight booking, respond with the final answer only.\n",
    "    - Output the results using a markdown table:\n",
    "      - For flight bookings, output separate outbound and return contents in the order of:\n",
    "        Departure Airport | Airline | Flight Number | Departure Time | Arrival Airport | Arrival Time | Duration | Airplane | Travel Class | Price (USD) | Legroom | Extensions | Carbon Emissions (kg).\n",
    "      - For hotel bookings, output in the order of:\n",
    "        Property Name | Property Description | Check-in Time | Check-out Time | Prices | Nearby Places | Hotel Class | GPS Coordinates.\n",
    "    \"\"\"\n",
    "\n",
    "    SAVE_AGENT_NAME = \"SaveAgent\"\n",
    "    SAVE_AGENT_INSTRUCTIONS = \"\"\"\n",
    "    You are a save tool agent. Help me to save the trip plan.\n",
    "    \"\"\"\n",
    "\n",
    "    # Create agent definition\n",
    "    booking_agent_definition = await client.agents.create_agent(\n",
    "        model=ai_agent_settings.model_deployment_name,\n",
    "        name=BOOKING_AGENT_NAME,\n",
    "        instructions=BOOKING_AGENT_INSTRUCTIONS,\n",
    "    )\n",
    "\n",
    "    # Create the AzureAI Agent\n",
    "    booking_agent = AzureAIAgent(\n",
    "        client=client,\n",
    "        definition=booking_agent_definition,\n",
    "        # Optionally configure polling options\n",
    "        # polling_options=RunPollingOptions(run_polling_interval=timedelta(seconds=1)),\n",
    "    )\n",
    "\n",
    "    # Add the sample plugin to the kernel\n",
    "    booking_agent.kernel.add_plugin(BookingPlugin(), plugin_name=\"booking\")\n",
    "\n",
    "    # Create agent definition\n",
    "    save_agent_definition = await client.agents.create_agent(\n",
    "        model=ai_agent_settings.model_deployment_name,\n",
    "        name=SAVE_AGENT_NAME,\n",
    "        instructions=SAVE_AGENT_INSTRUCTIONS\n",
    "    )\n",
    "\n",
    "    # Create the AzureAI Agent\n",
    "    save_agent = AzureAIAgent(\n",
    "        client=client,\n",
    "        definition=save_agent_definition,\n",
    "    )\n",
    "\n",
    "    save_agent.kernel.add_plugin(SavePlugin(), plugin_name=\"saving\")\n",
    "\n",
    "    user_inputs = [\n",
    "        \"I have a business trip from London to New York in Feb 20 2025 to Feb 27 2025 ,help me to book a hotel and fight tickets and save it\"\n",
    "    ]\n",
    "\n",
    "    chat = AgentGroupChat(\n",
    "        agents=[booking_agent, save_agent],\n",
    "        termination_strategy=ApprovalTerminationStrategy(agents=[save_agent], maximum_iterations=10),\n",
    "    )\n",
    "\n",
    "    try:\n",
    "        for user_input in user_inputs:\n",
    "            # Add the user input as a chat message\n",
    "            await chat.add_chat_message(\n",
    "                ChatMessageContent(role=AuthorRole.USER, content=user_input)\n",
    "            )\n",
    "            print(f\"# User: '{user_input}'\")\n",
    "\n",
    "            async for content in chat.invoke():\n",
    "                print(f\"# {content.role} - {content.name or '*'}: '{content.content}'\")\n",
    "\n",
    "            print(f\"# IS COMPLETE: {chat.is_complete}\")\n",
    "\n",
    "            print(\"*\" * 60)\n",
    "            print(\"Chat History (In Descending Order):\\n\")\n",
    "            async for message in chat.get_chat_messages(agent=save_agent):\n",
    "                print(f\"# {message.role} - {message.name or '*'}: '{message.content}'\")\n",
    "    finally:\n",
    "        await chat.reset()\n",
    "        await client.agents.delete_agent(save_agent.id)\n",
    "        await client.agents.delete_agent(booking_agent.id)\n"
   ]
  },
  {
   "cell_type": "markdown",
   "metadata": {},
   "source": [
    "\n---\n\n**Αποποίηση ευθύνης**:  \nΑυτό το έγγραφο έχει μεταφραστεί χρησιμοποιώντας την υπηρεσία αυτόματης μετάφρασης [Co-op Translator](https://github.com/Azure/co-op-translator). Παρόλο που καταβάλλουμε προσπάθειες για ακρίβεια, παρακαλούμε να έχετε υπόψη ότι οι αυτοματοποιημένες μεταφράσεις ενδέχεται να περιέχουν λάθη ή ανακρίβειες. Το πρωτότυπο έγγραφο στη μητρική του γλώσσα θα πρέπει να θεωρείται η αυθεντική πηγή. Για κρίσιμες πληροφορίες, συνιστάται επαγγελματική ανθρώπινη μετάφραση. Δεν φέρουμε ευθύνη για τυχόν παρεξηγήσεις ή εσφαλμένες ερμηνείες που προκύπτουν από τη χρήση αυτής της μετάφρασης.\n"
   ]
  }
 ],
 "metadata": {
  "kernelspec": {
   "display_name": "3.12.1",
   "language": "python",
   "name": "python3"
  },
  "language_info": {
   "codemirror_mode": {
    "name": "ipython",
    "version": 3
   },
   "file_extension": ".py",
   "mimetype": "text/x-python",
   "name": "python",
   "nbconvert_exporter": "python",
   "pygments_lexer": "ipython3",
   "version": "3.12.1"
  },
  "polyglot_notebook": {
   "kernelInfo": {
    "defaultKernelName": "csharp",
    "items": [
     {
      "aliases": [],
      "name": "csharp"
     }
    ]
   }
  },
  "coopTranslator": {
   "original_hash": "1baa60020a95eda27b7e9ecfda99965b",
   "translation_date": "2025-08-29T16:33:33+00:00",
   "source_file": "08-multi-agent/code_samples/08-python_multi_aiagent_bookinghotel.ipynb",
   "language_code": "el"
  }
 },
 "nbformat": 4,
 "nbformat_minor": 2
}