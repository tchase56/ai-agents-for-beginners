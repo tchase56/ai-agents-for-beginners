{
 "cells": [
  {
   "cell_type": "markdown",
   "metadata": {},
   "source": [
    "## **Mẫu: Nhiều AI Agents cho việc Đặt phòng khách sạn**\n",
    "\n",
    "Trong thế giới hiện đại ngày nay, việc lên kế hoạch cho một chuyến công tác không chỉ dừng lại ở việc đặt vé máy bay và phòng khách sạn. Nó đòi hỏi một mức độ phối hợp và hiệu quả mà đôi khi rất khó để đạt được. Đây chính là lúc Nhiều AI Agents phát huy vai trò, cách mạng hóa cách chúng ta quản lý nhu cầu du lịch.\n",
    "\n",
    "Hãy tưởng tượng bạn có một đội ngũ các agent thông minh sẵn sàng hỗ trợ, cùng nhau xử lý mọi khía cạnh của chuyến đi của bạn một cách chính xác và dễ dàng. Với công nghệ AI tiên tiến của chúng tôi, chúng tôi đã tạo ra các agent chuyên biệt cho dịch vụ đặt chỗ và sắp xếp hành trình, đảm bảo một trải nghiệm du lịch liền mạch và không căng thẳng.\n",
    "\n",
    "Đây là một kịch bản cơ bản. Khi lên kế hoạch cho một chuyến công tác, chúng ta cần tham khảo ý kiến của một đại lý du lịch công tác để lấy thông tin vé máy bay, thông tin khách sạn, v.v. Thông qua AI Agents, chúng ta có thể xây dựng các agent cho dịch vụ đặt chỗ và các agent cho sắp xếp hành trình để hợp tác và nâng cao mức độ thông minh.\n"
   ]
  },
  {
   "cell_type": "markdown",
   "metadata": {},
   "source": [
    "# Khởi tạo Dịch vụ Azure AI Agent và lấy thông tin cấu hình từ **.env**\n",
    "\n",
    "### **.env** \n",
    "\n",
    "Tạo một tệp .env \n",
    "\n",
    "**.env** chứa chuỗi kết nối của Dịch vụ Azure AI Agent, mô hình được AOAI sử dụng, và dịch vụ API Tìm kiếm của Google tương ứng, ENDPOINT, v.v.\n",
    "\n",
    "- **AZURE_AI_AGENT_MODEL_DEPLOYMENT_NAME** = \"Tên Triển khai Mô hình Dịch vụ Azure AI Agent của bạn\"\n",
    "\n",
    "[**NOTE**] Bạn sẽ cần một mô hình với giới hạn tốc độ 100,000 (Tokens mỗi phút) và giới hạn tốc độ 600 (Yêu cầu mỗi phút).\n",
    "\n",
    "  Bạn có thể lấy mô hình trong Azure AI Foundry - Model và Endpoint. \n",
    "\n",
    "- **AZURE_AI_AGENT_PROJECT_CONNECTION_STRING** = \"Chuỗi Kết nối Dự án Dịch vụ Azure AI Agent của bạn\"\n",
    "\n",
    "  Bạn có thể lấy chuỗi kết nối dự án trong phần tổng quan dự án trên màn hình Cổng AI Foundry.\n",
    "\n",
    "- **SERPAPI_SEARCH_API_KEY** = \"SERPAPI Search API KEY của bạn\"\n",
    "- **SERPAPI_SEARCH_ENDPOINT** = \"SERPAPI Search Endpoint của bạn\"\n",
    "\n",
    "Để lấy Tên Triển khai Mô hình và Chuỗi Kết nối Dự án của Dịch vụ Azure AI Agent, bạn cần tạo Dịch vụ Azure AI Agent. Khuyến nghị sử dụng [mẫu này](https://portal.azure.com/#create/Microsoft.Template/uri/https%3A%2F%2Fraw.githubusercontent.com%2Ffosteramanda%2Fazure-agent-quickstart-templates%2Frefs%2Fheads%2Fmaster%2Fquickstarts%2Fmicrosoft.azure-ai-agent-service%2Fstandard-agent%2Fazuredeploy.json) để tạo trực tiếp (***Lưu ý:*** Dịch vụ Azure AI Agent hiện được thiết lập trong một số vùng giới hạn. Khuyến nghị bạn tham khảo [liên kết này](https://learn.microsoft.com/en-us/azure/ai-services/agents/concepts/model-region-support) để thiết lập vùng).\n",
    "\n",
    "Agent cần truy cập SERPAPI. Khuyến nghị đăng ký sử dụng [liên kết này](https://serpapi.com/searches). Sau khi đăng ký, bạn có thể lấy API KEY và ENDPOINT duy nhất.\n"
   ]
  },
  {
   "cell_type": "markdown",
   "metadata": {},
   "source": [
    "# Đăng nhập vào Azure\n",
    "\n",
    "Bây giờ bạn cần đăng nhập vào Azure. Mở một terminal trong VScode và chạy lệnh `az login`.\n"
   ]
  },
  {
   "cell_type": "markdown",
   "metadata": {},
   "source": [
    "# Cài đặt\n",
    "\n",
    "Để chạy notebook này, bạn sẽ cần cài đặt các thư viện sau. Dưới đây là danh sách các thư viện cần thiết và các lệnh pip tương ứng để cài đặt:\n",
    "\n",
    "azure-identity: Dùng để xác thực Azure.  \n",
    "requests: Dùng để thực hiện các yêu cầu HTTP.  \n",
    "semantic-kernel: Dành cho framework semantic kernel (giả sử đây là một thư viện tùy chỉnh hoặc cụ thể, bạn có thể cần cài đặt nó từ một nguồn hoặc kho lưu trữ cụ thể).  \n"
   ]
  },
  {
   "cell_type": "code",
   "execution_count": null,
   "metadata": {},
   "outputs": [],
   "source": [
    "!pip install azure-identity\n",
    "!pip install requests\n",
    "!pip install semantic-kernel\n",
    "!pip install --upgrade semantic_kernel\n",
    "!pip install azure-cli"
   ]
  },
  {
   "cell_type": "markdown",
   "metadata": {},
   "source": [
    "# Giải thích: \n",
    "import asyncio: Lệnh này nhập mô-đun asyncio, cung cấp hỗ trợ cho lập trình bất đồng bộ trong Python. Nó cho phép bạn viết mã đồng thời bằng cách sử dụng cú pháp async và await.  \n",
    "from typing: Annotated: Lệnh này nhập kiểu Annotated từ mô-đun typing. Annotated được sử dụng để thêm siêu dữ liệu vào gợi ý kiểu, điều này có thể hữu ích cho nhiều mục đích như xác thực, tài liệu, hoặc công cụ.  \n"
   ]
  },
  {
   "cell_type": "code",
   "execution_count": null,
   "metadata": {
    "dotnet_interactive": {
     "language": "csharp"
    },
    "polyglot_notebook": {
     "kernelName": "csharp"
    }
   },
   "outputs": [],
   "source": [
    "import asyncio,os\n",
    "from typing import Annotated"
   ]
  },
  {
   "cell_type": "markdown",
   "metadata": {},
   "source": [
    "# Giải thích:\n",
    "Bằng cách sử dụng `from dotenv import load_dotenv` và `load_dotenv()`, bạn có thể dễ dàng quản lý các thiết lập cấu hình và thông tin nhạy cảm (như khóa API và URL cơ sở dữ liệu) trong tệp `.env`, giữ chúng tách biệt khỏi mã nguồn của bạn, giúp ứng dụng của bạn an toàn hơn và dễ dàng cấu hình hơn.\n"
   ]
  },
  {
   "cell_type": "code",
   "execution_count": null,
   "metadata": {},
   "outputs": [],
   "source": [
    "import os\n",
    "from dotenv import load_dotenv\n",
    "\n",
    "# Load environment variables from .env file\n",
    "load_dotenv()"
   ]
  },
  {
   "cell_type": "markdown",
   "metadata": {},
   "source": [
    "# Giải thích:\n",
    "\n",
    "Câu lệnh Import: from azure.identity.aio import DefaultAzureCredential: Câu lệnh này nhập lớp DefaultAzureCredential từ module azure.identity.aio. Phần \"aio\" trong tên module cho biết rằng nó được thiết kế cho các hoạt động bất đồng bộ.\n",
    "\n",
    "Mục đích của DefaultAzureCredential: Lớp DefaultAzureCredential là một phần của Azure SDK cho Python. Nó cung cấp một cách mặc định để xác thực với các dịch vụ Azure. Lớp này cố gắng xác thực bằng nhiều phương pháp theo một thứ tự cụ thể, chẳng hạn như biến môi trường, danh tính được quản lý, và thông tin xác thực từ Azure CLI.\n",
    "\n",
    "Hoạt động bất đồng bộ: Module \"aio\" cho biết rằng lớp DefaultAzureCredential hỗ trợ các hoạt động bất đồng bộ. Điều này có nghĩa là bạn có thể sử dụng nó với asyncio để thực hiện các yêu cầu xác thực không chặn.\n"
   ]
  },
  {
   "cell_type": "code",
   "execution_count": null,
   "metadata": {
    "dotnet_interactive": {
     "language": "csharp"
    },
    "polyglot_notebook": {
     "kernelName": "csharp"
    }
   },
   "outputs": [],
   "source": [
    "from azure.identity.aio import DefaultAzureCredential"
   ]
  },
  {
   "cell_type": "markdown",
   "metadata": {},
   "source": [
    "# Giải thích:\n",
    "Nhập các mô-đun và lớp khác nhau từ gói semantic_kernel. Dưới đây là phân tích chi tiết về từng mục nhập:\n",
    "\n",
    "AgentGroupChat từ semantic_kernel.agents: Lớp này xử lý các chức năng liên quan đến trò chuyện nhóm cho các tác nhân AI. AzureAIAgent và AzureAIAgentSettings từ semantic_kernel.agents.azure_ai\n",
    "\n",
    "AzureAIAgent: Lớp này được sử dụng để tạo và quản lý các tác nhân AI sử dụng dịch vụ Azure AI.\n",
    "\n",
    "AzureAIAgentSettings: Lớp này được sử dụng để cấu hình các thiết lập cho AzureAIAgent. TerminationStrategy từ semantic_kernel.agents.strategies.termination.termination_strategy:\n",
    "\n",
    "Lớp này định nghĩa các chiến lược để kết thúc việc thực thi các tác nhân AI trong một số điều kiện nhất định. ChatMessageContent từ semantic_kernel.contents.chat_message_content:\n",
    "\n",
    "Lớp này được sử dụng để xử lý nội dung của các tin nhắn trò chuyện.\n",
    "AuthorRole từ semantic_kernel.contents.utils.author_role:\n",
    "\n",
    "Lớp này định nghĩa các vai trò khác nhau cho tác giả trong bối cảnh các tin nhắn trò chuyện.\n",
    "\n",
    "kernel_function từ semantic_kernel.functions.kernel_function_decorator: Trình trang trí này được sử dụng để định nghĩa các hàm kernel, là các hàm có thể được thực thi trong khung semantic kernel.\n",
    "Các mục nhập này thiết lập các thành phần cần thiết để tạo và quản lý các tác nhân AI có thể tương tác trong môi trường trò chuyện nhóm, có thể cho các nhiệm vụ như đặt phòng khách sạn hoặc các hoạt động tương tự.\n"
   ]
  },
  {
   "cell_type": "code",
   "execution_count": null,
   "metadata": {
    "dotnet_interactive": {
     "language": "csharp"
    },
    "polyglot_notebook": {
     "kernelName": "csharp"
    }
   },
   "outputs": [],
   "source": [
    "from semantic_kernel.agents import AgentGroupChat\n",
    "from semantic_kernel.agents import AzureAIAgent, AzureAIAgentSettings\n",
    "from semantic_kernel.agents.strategies.termination.termination_strategy import TerminationStrategy\n",
    "from semantic_kernel.contents import ChatMessageContent\n",
    "from semantic_kernel.contents import AuthorRole\n",
    "from semantic_kernel.functions.kernel_function_decorator import kernel_function"
   ]
  },
  {
   "cell_type": "markdown",
   "metadata": {},
   "source": [
    "# Giải thích:\n",
    "Tiếp theo, chúng ta nhập lớp CodeInterpreterTool từ module azure.ai.projects.models.\n",
    "\n",
    "CodeInterpreterTool: Lớp này là một phần của Azure AI SDK và được sử dụng để diễn giải và thực thi mã trong bối cảnh các dự án AI. Nó cung cấp các chức năng để chạy các đoạn mã, phân tích mã, hoặc tích hợp việc thực thi mã vào các quy trình làm việc AI. Việc nhập này thiết lập thành phần cần thiết để sử dụng CodeInterpreterTool trong dự án của bạn, điều này có thể hữu ích cho các nhiệm vụ liên quan đến việc diễn giải và thực thi mã một cách linh hoạt.\n"
   ]
  },
  {
   "cell_type": "code",
   "execution_count": null,
   "metadata": {
    "dotnet_interactive": {
     "language": "csharp"
    },
    "polyglot_notebook": {
     "kernelName": "csharp"
    }
   },
   "outputs": [],
   "source": [
    "from azure.ai.projects.models import CodeInterpreterTool"
   ]
  },
  {
   "cell_type": "markdown",
   "metadata": {},
   "source": [
    "# Giải thích: \n",
    "Lớp ApprovalTerminationStrategy cung cấp một chiến lược cụ thể để kết thúc hoạt động của một tác nhân AI. Tác nhân sẽ dừng hoạt động nếu tin nhắn cuối cùng trong lịch sử tương tác của nó chứa từ \"saved\". Điều này có thể hữu ích trong các tình huống mà nhiệm vụ của tác nhân được coi là hoàn thành khi nó nhận được xác nhận rằng một điều gì đó đã được \"saved\". Xác định phương thức tương tác. Sau khi kế hoạch đặt chỗ được lưu, nó có thể dừng lại khi nhận được tín hiệu \"saved\".\n"
   ]
  },
  {
   "cell_type": "code",
   "execution_count": null,
   "metadata": {
    "dotnet_interactive": {
     "language": "csharp"
    },
    "polyglot_notebook": {
     "kernelName": "csharp"
    }
   },
   "outputs": [],
   "source": [
    "class ApprovalTerminationStrategy(TerminationStrategy):\n",
    "    \"\"\"A strategy for determining when an agent should terminate.\"\"\"\n",
    "\n",
    "    async def should_agent_terminate(self, agent, history):\n",
    "        \"\"\"Check if the agent should terminate.\"\"\"\n",
    "        return \"saved\" in history[-1].content.lower()"
   ]
  },
  {
   "cell_type": "markdown",
   "metadata": {},
   "source": [
    "# Giải thích:\n",
    "\n",
    "Dòng mã khởi tạo một đối tượng AzureAIAgentSettings với các thiết lập mặc định hoặc được định nghĩa trước bằng cách gọi phương thức create(). Đối tượng thiết lập này (ai_agent_settings) sau đó có thể được sử dụng để cấu hình và quản lý một phiên bản AzureAIAgent.\n"
   ]
  },
  {
   "cell_type": "code",
   "execution_count": null,
   "metadata": {
    "dotnet_interactive": {
     "language": "csharp"
    },
    "polyglot_notebook": {
     "kernelName": "csharp"
    }
   },
   "outputs": [],
   "source": [
    "ai_agent_settings = AzureAIAgentSettings.create()"
   ]
  },
  {
   "cell_type": "markdown",
   "metadata": {},
   "source": [
    "# Giải thích:\n",
    "Bằng cách nhập thư viện requests, bạn có thể dễ dàng thực hiện các yêu cầu HTTP và tương tác với các dịch vụ web trong mã Python của mình.\n"
   ]
  },
  {
   "cell_type": "code",
   "execution_count": null,
   "metadata": {
    "dotnet_interactive": {
     "language": "csharp"
    },
    "polyglot_notebook": {
     "kernelName": "csharp"
    }
   },
   "outputs": [],
   "source": [
    "import requests"
   ]
  },
  {
   "cell_type": "markdown",
   "metadata": {},
   "source": [
    "# Giải thích:\n",
    "Đây là một biến lưu trữ khóa API để truy cập dịch vụ API SERP (Search Engine Results Page). Khóa API là một định danh duy nhất được sử dụng để xác thực các yêu cầu liên quan đến tài khoản của bạn.\n",
    "\n",
    "'GOOGLE_SEARCH_API_KEY': Đây là một chuỗi giữ chỗ. Bạn cần thay thế 'GOOGLE_SEARCH_API_KEY' bằng khóa API SERP thực tế của bạn.\n",
    "\n",
    "Mục đích: Mục đích của dòng này là lưu trữ khóa API trong một biến để có thể sử dụng nó để xác thực các yêu cầu tới dịch vụ API SERP. Khóa API là bắt buộc để truy cập dịch vụ và thực hiện tìm kiếm.\n",
    "\n",
    "Cách lấy khóa API SERP: Để lấy khóa API SERP, hãy làm theo các bước chung sau tại https://serpapi.com (các bước cụ thể có thể khác nhau tùy thuộc vào dịch vụ API SERP bạn đang sử dụng):\n",
    "\n",
    "Chọn một dịch vụ API SERP: Có nhiều dịch vụ API SERP khác nhau, chẳng hạn như SerpAPI, Google Custom Search JSON API, và các dịch vụ khác. Chọn dịch vụ phù hợp nhất với nhu cầu của bạn.\n",
    "\n",
    "Đăng ký tài khoản:\n",
    "\n",
    "Truy cập trang web của dịch vụ API SERP đã chọn tại https://www.serpapi.com và đăng ký tài khoản. Bạn có thể cần cung cấp một số thông tin cơ bản và xác minh địa chỉ email của mình.\n",
    "\n",
    "Tạo khóa API:\n",
    "\n",
    "Sau khi đăng ký, đăng nhập vào tài khoản của bạn và điều hướng đến phần API hoặc bảng điều khiển. Tìm tùy chọn để tạo hoặc tạo mới một khóa API.\n",
    "Sao chép khóa API:\n",
    "\n",
    "Khi khóa API được tạo, hãy sao chép nó. Khóa này sẽ được sử dụng để xác thực các yêu cầu của bạn tới dịch vụ API SERP.\n",
    "Thay thế chuỗi giữ chỗ:\n",
    "\n",
    "Thay thế chuỗi giữ chỗ trong tệp .env của bạn.\n"
   ]
  },
  {
   "cell_type": "code",
   "execution_count": null,
   "metadata": {
    "dotnet_interactive": {
     "language": "csharp"
    },
    "polyglot_notebook": {
     "kernelName": "csharp"
    }
   },
   "outputs": [],
   "source": [
    "SERPAPI_SEARCH_API_KEY=os.getenv('SERPAPI_SEARCH_API_KEY')"
   ]
  },
  {
   "cell_type": "code",
   "execution_count": null,
   "metadata": {
    "dotnet_interactive": {
     "language": "csharp"
    },
    "polyglot_notebook": {
     "kernelName": "csharp"
    }
   },
   "outputs": [],
   "source": [
    "SERPAPI_SEARCH_ENDPOINT = os.getenv('SERPAPI_SEARCH_ENDPOINT')"
   ]
  },
  {
   "cell_type": "markdown",
   "metadata": {},
   "source": [
    "# Giải thích:\n",
    "Lớp BookingPlugin cung cấp các phương thức để đặt phòng khách sạn và chuyến bay bằng cách sử dụng Google Search API của Serpapi.com. Nó xây dựng các tham số cần thiết, gửi yêu cầu API, và xử lý phản hồi để trả về thông tin đặt phòng liên quan. Khóa API (SERPAPI_SEARCH_API_KEY) và điểm cuối (SERPAPI_SEARCH_ENDPOINT) được sử dụng để xác thực và gửi yêu cầu đến Google Search API.\n"
   ]
  },
  {
   "cell_type": "code",
   "execution_count": null,
   "metadata": {
    "dotnet_interactive": {
     "language": "csharp"
    },
    "polyglot_notebook": {
     "kernelName": "csharp"
    }
   },
   "outputs": [],
   "source": [
    "# Define Booking Plugin\n",
    "class BookingPlugin:\n",
    "    \"\"\"Booking Plugin for customers\"\"\"\n",
    "    @kernel_function(description=\"booking hotel\")\n",
    "    def booking_hotel(self,query: Annotated[str, \"The name of the city\"], check_in_date: Annotated[str, \"Hotel Check-in Time\"], check_out_date: Annotated[str, \"Hotel Check-in Time\"])-> Annotated[str, \"Return the result of booking hotel infomation\"]:\n",
    "\n",
    "        params = {\n",
    "            \"engine\": \"google_hotels\",\n",
    "            \"q\": query,\n",
    "            \"check_in_date\": check_in_date,\n",
    "            \"check_out_date\": check_out_date,\n",
    "            \"adults\": \"2\",\n",
    "            \"currency\": \"USD\",\n",
    "            \"gl\": \"us\",\n",
    "            \"hl\": \"en\",\n",
    "            \"api_key\": SERPAPI_SEARCH_API_KEY\n",
    "        }\n",
    "\n",
    "        response = requests.get(SERPAPI_SEARCH_ENDPOINT, params=params)\n",
    "        if response.status_code == 200:\n",
    "            response = response.json()\n",
    "            return response[\"properties\"]\n",
    "        else:\n",
    "            return None\n",
    "\n",
    "    \n",
    "    @kernel_function(description=\"booking fight\")\n",
    "    def  booking_fight(self,origin: Annotated[str, \"The name of Departure\"], destination: Annotated[str, \"The name of Destination\"], outbound_date: Annotated[str, \"The date of outbound\"], return_date: Annotated[str, \"The date of Return_date\"])-> Annotated[str, \"Return the result of booking fight infomation\"]:\n",
    "        \n",
    "        go_params = {\n",
    "            \"engine\": \"google_flights\",   \n",
    "            \"departure_id\": origin,\n",
    "            \"arrival_id\": destination,\n",
    "            \"outbound_date\": outbound_date,\n",
    "            \"return_date\": return_date,  \n",
    "            \"currency\": \"USD\",\n",
    "            \"hl\": \"en\",\n",
    "            \"api_key\": SERPAPI_SEARCH_API_KEY  \n",
    "        }\n",
    "\n",
    "        print(go_params)\n",
    "\n",
    "        go_response = requests.get(SERPAPI_SEARCH_ENDPOINT, params=go_params)\n",
    "\n",
    "\n",
    "        result = ''\n",
    "\n",
    "        if go_response.status_code == 200:\n",
    "            response = go_response.json()\n",
    "\n",
    "            result += \"# outbound \\n \" + str(response)\n",
    "        else:\n",
    "            print('error!!!')\n",
    "            # return None\n",
    "\n",
    "        \n",
    "        back_params = {\n",
    "            \"engine\": \"google_flights\",   \n",
    "            \"departure_id\": destination,\n",
    "            \"arrival_id\": origin,\n",
    "            \"outbound_date\": return_date,\n",
    "            \"return_date\": return_date,  \n",
    "            \"currency\": \"USD\",\n",
    "            \"hl\": \"en\",\n",
    "            \"api_key\": SERPAPI_SEARCH_API_KEY  \n",
    "        }\n",
    "\n",
    "\n",
    "        print(back_params)\n",
    "\n",
    "\n",
    "        back_response = requests.get(SERPAPI_SEARCH_ENDPOINT, params=back_params)\n",
    "\n",
    "\n",
    "\n",
    "        if back_response.status_code == 200:\n",
    "            response = back_response.json()\n",
    "\n",
    "            result += \"\\n # return \\n\"  + str(response)\n",
    "\n",
    "        else:\n",
    "            print('error!!!')\n",
    "            # return None\n",
    "        \n",
    "        print(result)\n",
    "\n",
    "        return result\n",
    "\n",
    "        \n"
   ]
  },
  {
   "cell_type": "markdown",
   "metadata": {},
   "source": [
    "# Giải thích:\n",
    "Lớp SavePlugin cung cấp một phương thức saving_plan để lưu kế hoạch chuyến đi bằng cách sử dụng các dịch vụ Azure AI. Nó thiết lập thông tin xác thực Azure, tạo một tác nhân AI, xử lý đầu vào của người dùng để tạo và lưu nội dung kế hoạch chuyến đi, đồng thời thực hiện các thao tác lưu tệp và dọn dẹp. Phương thức sẽ trả về \"Đã lưu\" khi hoàn thành thành công.\n"
   ]
  },
  {
   "cell_type": "code",
   "execution_count": null,
   "metadata": {
    "dotnet_interactive": {
     "language": "csharp"
    },
    "polyglot_notebook": {
     "kernelName": "csharp"
    }
   },
   "outputs": [],
   "source": [
    "class SavePlugin:\n",
    "    \"\"\"Save Plugin for customers\"\"\"\n",
    "    @kernel_function(description=\"saving plan\")\n",
    "    async def saving_plan(self,tripplan: Annotated[str, \"The content of trip plan\"])-> Annotated[str, \"Return status of save content\"]:\n",
    "\n",
    "        async with (\n",
    "            DefaultAzureCredential() as creds,\n",
    "            AzureAIAgent.create_client(\n",
    "                credential=creds,\n",
    "                conn_str=ai_agent_settings.project_connection_string.get_secret_value(),\n",
    "            ) as client,\n",
    "        ):\n",
    "\n",
    "            code_interpreter = CodeInterpreterTool()\n",
    "            \n",
    "            agent_definition = await client.agents.create_agent(\n",
    "                model=ai_agent_settings.model_deployment_name,\n",
    "                tools=code_interpreter.definitions,\n",
    "                tool_resources=code_interpreter.resources,\n",
    "            )\n",
    "\n",
    "\n",
    "            agent = AzureAIAgent(\n",
    "                client=client,\n",
    "                definition=agent_definition,\n",
    "            )\n",
    "\n",
    "            thread = await client.agents.create_thread()\n",
    "\n",
    "\n",
    "            user_inputs = [\n",
    "                \"\"\"\n",
    "            \n",
    "                        You are my Python programming assistant. Generate code,save \"\"\"+ tripplan +\n",
    "                        \n",
    "                    \"\"\"    \n",
    "                        and execute it according to the following requirements\n",
    "\n",
    "                        1. Save blog content to trip-{YYMMDDHHMMSS}.md\n",
    "\n",
    "                        2. give me the download this file link\n",
    "                    \"\"\"\n",
    "            ]\n",
    "\n",
    "\n",
    "\n",
    "            try:\n",
    "                for user_input in user_inputs:\n",
    "                    # Add the user input as a chat message\n",
    "                    await agent.add_chat_message(\n",
    "                        thread_id=thread.id, message=ChatMessageContent(role=AuthorRole.USER, content=user_input)\n",
    "                    )\n",
    "                    print(f\"# User: '{user_input}'\")\n",
    "                    # Invoke the agent for the specified thread\n",
    "                    async for content in agent.invoke(thread_id=thread.id):\n",
    "                        if content.role != AuthorRole.TOOL:\n",
    "                            print(f\"# Agent: {content.content}\")\n",
    "\n",
    "                    \n",
    "                    messages = await client.agents.list_messages(thread_id=thread.id)\n",
    "\n",
    "                    # OpenAIPageableListOfThreadMessage\n",
    "                    # OpenAIPageableListOfThreadMessage\n",
    "\n",
    "\n",
    "                    for file_path_annotation in messages.file_path_annotations:\n",
    "\n",
    "                            file_name = os.path.basename(file_path_annotation.text)\n",
    "\n",
    "                            await client.agents.save_file(file_id=file_path_annotation.file_path.file_id, file_name=file_name,target_dir=\"./trip\")\n",
    "\n",
    "                    \n",
    "            finally:\n",
    "                await client.agents.delete_thread(thread.id)\n",
    "                await client.agents.delete_agent(agent.id)\n",
    "\n",
    "\n",
    "        return \"Saved\""
   ]
  },
  {
   "cell_type": "markdown",
   "metadata": {},
   "source": [
    "# Giải thích:\n",
    "Đoạn mã này thiết lập các tác nhân Azure AI để xử lý việc đặt vé máy bay và khách sạn, cũng như lưu kế hoạch chuyến đi dựa trên đầu vào của người dùng. Nó sử dụng thông tin xác thực Azure để tạo và cấu hình các tác nhân, xử lý đầu vào của người dùng thông qua một nhóm trò chuyện, và đảm bảo dọn dẹp đúng cách sau khi các nhiệm vụ được hoàn thành. Các tác nhân sử dụng các plugin cụ thể (BookingPlugin và SavePlugin) để thực hiện các nhiệm vụ tương ứng của mình.\n"
   ]
  },
  {
   "cell_type": "code",
   "execution_count": null,
   "metadata": {
    "dotnet_interactive": {
     "language": "csharp"
    },
    "polyglot_notebook": {
     "kernelName": "csharp"
    }
   },
   "outputs": [],
   "source": [
    "async with (\n",
    "    DefaultAzureCredential() as creds,\n",
    "    AzureAIAgent.create_client(\n",
    "        credential=creds,\n",
    "        conn_str=ai_agent_settings.project_connection_string.get_secret_value(),\n",
    "    ) as client,\n",
    "):\n",
    "    BOOKING_AGENT_NAME = \"BookingAgent\"\n",
    "    BOOKING_AGENT_INSTRUCTIONS = \"\"\"\n",
    "    You are a booking agent. Help me book flights or hotels.\n",
    "\n",
    "    Thought: Please understand the user's intention and confirm whether to use the reservation system to complete the task.\n",
    "\n",
    "    Actions:\n",
    "    - For flight bookings, convert the departure and destination names into airport codes.\n",
    "    - Use the appropriate API for hotel or flight bookings. Verify that all necessary parameters are available. If any parameters are missing, ask the user to provide them. If all parameters are complete, call the corresponding function.\n",
    "    - If the task is not related to hotel or flight booking, respond with the final answer only.\n",
    "    - Output the results using a markdown table:\n",
    "      - For flight bookings, output separate outbound and return contents in the order of:\n",
    "        Departure Airport | Airline | Flight Number | Departure Time | Arrival Airport | Arrival Time | Duration | Airplane | Travel Class | Price (USD) | Legroom | Extensions | Carbon Emissions (kg).\n",
    "      - For hotel bookings, output in the order of:\n",
    "        Property Name | Property Description | Check-in Time | Check-out Time | Prices | Nearby Places | Hotel Class | GPS Coordinates.\n",
    "    \"\"\"\n",
    "\n",
    "    SAVE_AGENT_NAME = \"SaveAgent\"\n",
    "    SAVE_AGENT_INSTRUCTIONS = \"\"\"\n",
    "    You are a save tool agent. Help me to save the trip plan.\n",
    "    \"\"\"\n",
    "\n",
    "    # Create agent definition\n",
    "    booking_agent_definition = await client.agents.create_agent(\n",
    "        model=ai_agent_settings.model_deployment_name,\n",
    "        name=BOOKING_AGENT_NAME,\n",
    "        instructions=BOOKING_AGENT_INSTRUCTIONS,\n",
    "    )\n",
    "\n",
    "    # Create the AzureAI Agent\n",
    "    booking_agent = AzureAIAgent(\n",
    "        client=client,\n",
    "        definition=booking_agent_definition,\n",
    "        # Optionally configure polling options\n",
    "        # polling_options=RunPollingOptions(run_polling_interval=timedelta(seconds=1)),\n",
    "    )\n",
    "\n",
    "    # Add the sample plugin to the kernel\n",
    "    booking_agent.kernel.add_plugin(BookingPlugin(), plugin_name=\"booking\")\n",
    "\n",
    "    # Create agent definition\n",
    "    save_agent_definition = await client.agents.create_agent(\n",
    "        model=ai_agent_settings.model_deployment_name,\n",
    "        name=SAVE_AGENT_NAME,\n",
    "        instructions=SAVE_AGENT_INSTRUCTIONS\n",
    "    )\n",
    "\n",
    "    # Create the AzureAI Agent\n",
    "    save_agent = AzureAIAgent(\n",
    "        client=client,\n",
    "        definition=save_agent_definition,\n",
    "    )\n",
    "\n",
    "    save_agent.kernel.add_plugin(SavePlugin(), plugin_name=\"saving\")\n",
    "\n",
    "    user_inputs = [\n",
    "        \"I have a business trip from London to New York in Feb 20 2025 to Feb 27 2025 ,help me to book a hotel and fight tickets and save it\"\n",
    "    ]\n",
    "\n",
    "    chat = AgentGroupChat(\n",
    "        agents=[booking_agent, save_agent],\n",
    "        termination_strategy=ApprovalTerminationStrategy(agents=[save_agent], maximum_iterations=10),\n",
    "    )\n",
    "\n",
    "    try:\n",
    "        for user_input in user_inputs:\n",
    "            # Add the user input as a chat message\n",
    "            await chat.add_chat_message(\n",
    "                ChatMessageContent(role=AuthorRole.USER, content=user_input)\n",
    "            )\n",
    "            print(f\"# User: '{user_input}'\")\n",
    "\n",
    "            async for content in chat.invoke():\n",
    "                print(f\"# {content.role} - {content.name or '*'}: '{content.content}'\")\n",
    "\n",
    "            print(f\"# IS COMPLETE: {chat.is_complete}\")\n",
    "\n",
    "            print(\"*\" * 60)\n",
    "            print(\"Chat History (In Descending Order):\\n\")\n",
    "            async for message in chat.get_chat_messages(agent=save_agent):\n",
    "                print(f\"# {message.role} - {message.name or '*'}: '{message.content}'\")\n",
    "    finally:\n",
    "        await chat.reset()\n",
    "        await client.agents.delete_agent(save_agent.id)\n",
    "        await client.agents.delete_agent(booking_agent.id)\n"
   ]
  },
  {
   "cell_type": "markdown",
   "metadata": {},
   "source": [
    "\n---\n\n**Tuyên bố miễn trừ trách nhiệm**:  \nTài liệu này đã được dịch bằng dịch vụ dịch thuật AI [Co-op Translator](https://github.com/Azure/co-op-translator). Mặc dù chúng tôi cố gắng đảm bảo độ chính xác, xin lưu ý rằng các bản dịch tự động có thể chứa lỗi hoặc không chính xác. Tài liệu gốc bằng ngôn ngữ bản địa nên được coi là nguồn thông tin chính thức. Đối với các thông tin quan trọng, khuyến nghị sử dụng dịch vụ dịch thuật chuyên nghiệp bởi con người. Chúng tôi không chịu trách nhiệm cho bất kỳ sự hiểu lầm hoặc diễn giải sai nào phát sinh từ việc sử dụng bản dịch này.\n"
   ]
  }
 ],
 "metadata": {
  "kernelspec": {
   "display_name": "3.12.1",
   "language": "python",
   "name": "python3"
  },
  "language_info": {
   "codemirror_mode": {
    "name": "ipython",
    "version": 3
   },
   "file_extension": ".py",
   "mimetype": "text/x-python",
   "name": "python",
   "nbconvert_exporter": "python",
   "pygments_lexer": "ipython3",
   "version": "3.12.1"
  },
  "polyglot_notebook": {
   "kernelInfo": {
    "defaultKernelName": "csharp",
    "items": [
     {
      "aliases": [],
      "name": "csharp"
     }
    ]
   }
  },
  "coopTranslator": {
   "original_hash": "1baa60020a95eda27b7e9ecfda99965b",
   "translation_date": "2025-08-29T19:03:49+00:00",
   "source_file": "08-multi-agent/code_samples/08-python_multi_aiagent_bookinghotel.ipynb",
   "language_code": "vi"
  }
 },
 "nbformat": 4,
 "nbformat_minor": 2
}