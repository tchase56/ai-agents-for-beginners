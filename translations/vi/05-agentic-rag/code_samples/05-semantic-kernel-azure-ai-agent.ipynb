{
 "cells": [
  {
   "cell_type": "markdown",
   "metadata": {},
   "source": [
    "# RAG Sử Dụng Dịch Vụ Azure AI Agent & Semantic Kernel\n",
    "\n",
    "Đoạn mã này minh họa cách tạo và quản lý một agent Azure AI cho việc tạo nội dung tăng cường truy xuất (RAG) bằng cách sử dụng `Azure AI Agent Service` và `Semantic Kernel`. Agent xử lý các truy vấn của người dùng dựa trên ngữ cảnh được truy xuất và cung cấp các phản hồi chính xác tương ứng.\n"
   ]
  },
  {
   "cell_type": "markdown",
   "metadata": {},
   "source": []
  },
  {
   "cell_type": "markdown",
   "metadata": {},
   "source": [
    "Sửa lỗi phiên bản SQLite  \n",
    "Nếu bạn gặp lỗi:  \n",
    "```\n",
    "RuntimeError: Your system has an unsupported version of sqlite3. Chroma requires sqlite3 >= 3.35.0\n",
    "```  \n",
    "\n",
    "Hãy bỏ chú thích khối mã này ở đầu notebook của bạn:  \n"
   ]
  },
  {
   "cell_type": "code",
   "execution_count": null,
   "metadata": {},
   "outputs": [],
   "source": [
    "# %pip install pysqlite3-binary\n",
    "# __import__('pysqlite3')\n",
    "# import sys\n",
    "# sys.modules['sqlite3'] = sys.modules.pop('pysqlite3')"
   ]
  },
  {
   "cell_type": "markdown",
   "metadata": {},
   "source": [
    "### Nhập Gói\n",
    "Đoạn mã sau đây nhập các gói cần thiết:\n"
   ]
  },
  {
   "cell_type": "code",
   "execution_count": null,
   "metadata": {},
   "outputs": [],
   "source": [
    "# Azure imports for project client and credentials\n",
    "from azure.ai.projects.models import FileSearchTool, OpenAIFile, VectorStore\n",
    "from azure.identity.aio import DefaultAzureCredential\n",
    "\n",
    "# Semantic Kernel imports\n",
    "from semantic_kernel.agents import AzureAIAgent, AzureAIAgentThread"
   ]
  },
  {
   "cell_type": "markdown",
   "metadata": {},
   "source": [
    "# Tạo Nội Dung Tăng Cường Truy Xuất với Semantic Kernel & Azure AI Agent Service\n",
    "\n",
    "Ví dụ này minh họa cách sử dụng **Azure AI Agent Service** để thực hiện **Tạo Nội Dung Tăng Cường Truy Xuất (RAG)** bằng cách kết hợp mô hình ngôn ngữ với ngữ cảnh cụ thể từ một tài liệu được tải lên.\n",
    "\n",
    "### Cách Hoạt Động\n",
    "\n",
    "1. **Tải Tài Liệu**: Một tệp markdown (document.md) chứa thông tin (chính sách bảo hiểm du lịch của Contoso) được tải lên dịch vụ agent.\n",
    "\n",
    "2. **Tạo Kho Vector**: Tài liệu được lập chỉ mục vào một kho vector để cho phép tìm kiếm ngữ nghĩa trên nội dung của nó.\n",
    "\n",
    "3. **Cấu Hình Agent**: Một agent được khởi tạo sử dụng mô hình `gpt-4o` với các hướng dẫn nghiêm ngặt sau:\n",
    "   - Chỉ trả lời các câu hỏi dựa trên nội dung được truy xuất từ tài liệu.\n",
    "   - Từ chối trả lời nếu câu hỏi nằm ngoài phạm vi.\n",
    "\n",
    "4. **Tích Hợp Công Cụ Tìm Kiếm Tệp**: `FileSearchTool` được đăng ký với agent, cho phép mô hình tìm kiếm và truy xuất các đoạn thông tin liên quan từ tài liệu đã được lập chỉ mục trong quá trình suy luận.\n",
    "\n",
    "5. **Tương Tác Người Dùng**: Người dùng có thể đặt câu hỏi. Nếu tìm thấy thông tin liên quan trong tài liệu, agent sẽ tạo câu trả lời có căn cứ.  \n",
    "   Nếu không, agent sẽ phản hồi rõ ràng rằng tài liệu không chứa đủ thông tin.\n"
   ]
  },
  {
   "cell_type": "markdown",
   "metadata": {},
   "source": [
    "### Hàm Chính\n",
    "\n"
   ]
  },
  {
   "cell_type": "markdown",
   "metadata": {},
   "source": [
    "Hãy đảm bảo chạy lệnh `az login` bằng Azure CLI trước để cung cấp ngữ cảnh xác thực phù hợp khi sử dụng `DefaultAzureCredential`. Dịch vụ Azure AI Agent không sử dụng khóa API.\n"
   ]
  },
  {
   "cell_type": "code",
   "execution_count": null,
   "metadata": {},
   "outputs": [],
   "source": [
    "async def main():\n",
    "    async with (\n",
    "        DefaultAzureCredential() as creds,\n",
    "        AzureAIAgent.create_client(credential=creds) as client,\n",
    "    ):\n",
    "        file: OpenAIFile = await client.agents.upload_file_and_poll(file_path=\"document.md\", purpose=\"assistants\")\n",
    "        vector_store: VectorStore = await client.agents.create_vector_store_and_poll(\n",
    "            file_ids=[file.id], name=\"my_vectorstore\"\n",
    "        )\n",
    "\n",
    "        # Define agent name and instructions tailored for RAG.\n",
    "        AGENT_NAME = \"RAGAgent\"\n",
    "        AGENT_INSTRUCTIONS = \"\"\"\n",
    "        You are an AI assistant designed to answer user questions using only the information retrieved from the provided document(s).\n",
    "\n",
    "        - If a user's question cannot be answered using the retrieved context, **you must clearly respond**: \n",
    "        \"I'm sorry, but the uploaded document does not contain the necessary information to answer that question.\"\n",
    "        - Do not answer from general knowledge or reasoning. Do not make assumptions or generate hypothetical explanations.\n",
    "        - Do not provide definitions, tutorials, or commentary that is not explicitly grounded in the content of the uploaded file(s).\n",
    "        - If a user asks a question like \"What is a Neural Network?\", and this is not discussed in the uploaded document, respond as instructed above.\n",
    "        - For questions that do have relevant content in the document (e.g., Contoso's travel insurance coverage), respond accurately, and cite the document explicitly.\n",
    "\n",
    "        You must behave as if you have no external knowledge beyond what is retrieved from the uploaded document.\n",
    "        \"\"\"\n",
    "\n",
    "        \n",
    "        # Create file search tool with uploaded resources\n",
    "        file_search = FileSearchTool(vector_store_ids=[vector_store.id])\n",
    "\n",
    "        # 3. Create an agent on the Azure AI agent service with the file search tool\n",
    "        agent_definition = await client.agents.create_agent(\n",
    "            model=\"gpt-4o\",  # This model should match your Azure OpenAI deployment.\n",
    "            name=AGENT_NAME,\n",
    "            instructions=AGENT_INSTRUCTIONS,\n",
    "            tools=file_search.definitions,\n",
    "            tool_resources=file_search.resources,\n",
    "        )\n",
    "        \n",
    "        # Create the Azure AI Agent using the client and definition.\n",
    "        agent = AzureAIAgent(\n",
    "            client=client,\n",
    "            definition=agent_definition,\n",
    "        )\n",
    "        \n",
    "        # Create a thread to hold the conversation\n",
    "        # If no thread is provided, a new thread will be\n",
    "        # created and returned with the initial response\n",
    "        thread: AzureAIAgentThread | None = None\n",
    "        \n",
    "        # Example user queries.\n",
    "        user_inputs = [\n",
    "            \"Can you explain Contoso's travel insurance coverage?\",  # Relevant context.\n",
    "            \"What is a Neural Network?\"  # No relevant context from the document. Will not contain a source annotation.\n",
    "        ]\n",
    "        \n",
    "        try:\n",
    "            for user_input in user_inputs:\n",
    "                print(f\"# User: '{user_input}'\")\n",
    "                # Invoke the agent for the specified thread for response\n",
    "                async for response in agent.invoke(messages=user_input, thread=thread):\n",
    "                    print(f\"# {response.name}: {response}\")\n",
    "                    thread = response.thread\n",
    "        finally:\n",
    "            # Clean up resources.\n",
    "            await thread.delete() if thread else None\n",
    "            await client.agents.delete_vector_store(vector_store.id)\n",
    "            await client.agents.delete_file(file.id)\n",
    "            await client.agents.delete_agent(agent.id)\n",
    "            print(\"\\nCleaned up agent, thread, file, and vector store.\")\n",
    "\n",
    "await main()"
   ]
  },
  {
   "cell_type": "markdown",
   "metadata": {},
   "source": [
    "```\n",
    "# User: 'Can you explain Contoso's travel insurance coverage?'\n",
    "# Agent: Contoso's travel insurance coverage includes protection for medical emergencies, trip cancellations, and lost baggage【4:0†document.md】.\n",
    "# User: 'What is a Neural Network?'\n",
    "# Agent: I'm sorry, but the uploaded document does not contain the necessary information to answer that question.\n",
    "\n",
    "Cleaned up agent, thread, file, and vector store.\n",
    "```\n",
    "\n",
    "# Giới thiệu\n",
    "\n",
    "Chào mừng bạn đến với tài liệu này! Trong hướng dẫn này, chúng tôi sẽ cung cấp cho bạn thông tin cần thiết để bắt đầu.\n",
    "\n",
    "## Mục tiêu\n",
    "\n",
    "- Hiểu rõ các khái niệm cơ bản.\n",
    "- Làm quen với các công cụ và tài nguyên.\n",
    "- Xây dựng nền tảng vững chắc để tiến xa hơn.\n",
    "\n",
    "## Yêu cầu\n",
    "\n",
    "Trước khi bắt đầu, hãy đảm bảo rằng bạn đã:\n",
    "\n",
    "1. Cài đặt tất cả các phần mềm cần thiết.\n",
    "2. Đọc qua tài liệu giới thiệu.\n",
    "3. Có kiến thức cơ bản về chủ đề này.\n",
    "\n",
    "[!NOTE] Đây là một ghi chú quan trọng cần lưu ý.\n",
    "\n",
    "---\n",
    "\n",
    "## Bắt đầu\n",
    "\n",
    "### Bước 1: Thiết lập môi trường\n",
    "\n",
    "Để bắt đầu, hãy làm theo các bước sau:\n",
    "\n",
    "1. Tải xuống và cài đặt phần mềm từ @@INLINE_CODE_0@@.\n",
    "2. Cấu hình các biến môi trường như được mô tả trong @@INLINE_CODE_1@@.\n",
    "3. Kiểm tra cài đặt bằng cách chạy lệnh @@INLINE_CODE_2@@.\n",
    "\n",
    "[!TIP] Nếu gặp vấn đề, hãy tham khảo phần Câu hỏi thường gặp.\n",
    "\n",
    "### Bước 2: Chạy ứng dụng mẫu\n",
    "\n",
    "Sau khi thiết lập xong, bạn có thể chạy ứng dụng mẫu bằng cách:\n",
    "\n",
    "1. Điều hướng đến thư mục dự án.\n",
    "2. Chạy lệnh @@INLINE_CODE_3@@.\n",
    "3. Kiểm tra đầu ra để đảm bảo mọi thứ hoạt động chính xác.\n",
    "\n",
    "[!IMPORTANT] Đừng quên kiểm tra các quyền truy cập cần thiết.\n",
    "\n",
    "---\n",
    "\n",
    "## Kết luận\n",
    "\n",
    "Chúng tôi hy vọng rằng tài liệu này đã giúp bạn bắt đầu một cách dễ dàng. Nếu bạn có bất kỳ câu hỏi nào, đừng ngần ngại liên hệ với chúng tôi.\n",
    "\n",
    "Chúc bạn thành công!\n"
   ]
  },
  {
   "cell_type": "markdown",
   "metadata": {},
   "source": [
    "\n---\n\n**Tuyên bố miễn trừ trách nhiệm**:  \nTài liệu này đã được dịch bằng dịch vụ dịch thuật AI [Co-op Translator](https://github.com/Azure/co-op-translator). Mặc dù chúng tôi cố gắng đảm bảo độ chính xác, xin lưu ý rằng các bản dịch tự động có thể chứa lỗi hoặc không chính xác. Tài liệu gốc bằng ngôn ngữ bản địa nên được coi là nguồn thông tin chính thức. Đối với các thông tin quan trọng, khuyến nghị sử dụng dịch vụ dịch thuật chuyên nghiệp bởi con người. Chúng tôi không chịu trách nhiệm cho bất kỳ sự hiểu lầm hoặc diễn giải sai nào phát sinh từ việc sử dụng bản dịch này.\n"
   ]
  }
 ],
 "metadata": {
  "kernelspec": {
   "display_name": ".venv",
   "language": "python",
   "name": "python3"
  },
  "language_info": {
   "codemirror_mode": {
    "name": "ipython",
    "version": 3
   },
   "file_extension": ".py",
   "mimetype": "text/x-python",
   "name": "python",
   "nbconvert_exporter": "python",
   "pygments_lexer": "ipython3",
   "version": "3.11.11"
  },
  "coopTranslator": {
   "original_hash": "a86c3ddfbe35024993bbf563588aad48",
   "translation_date": "2025-08-29T19:19:22+00:00",
   "source_file": "05-agentic-rag/code_samples/05-semantic-kernel-azure-ai-agent.ipynb",
   "language_code": "vi"
  }
 },
 "nbformat": 4,
 "nbformat_minor": 2
}