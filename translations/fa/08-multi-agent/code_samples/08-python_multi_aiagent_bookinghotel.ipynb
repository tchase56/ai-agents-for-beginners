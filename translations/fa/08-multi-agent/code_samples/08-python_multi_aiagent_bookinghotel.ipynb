{
 "cells": [
  {
   "cell_type": "markdown",
   "metadata": {},
   "source": [
    "## **نمونه‌ها: عوامل چندگانه هوش مصنوعی برای رزرو هتل**\n",
    "\n",
    "در دنیای پرشتاب امروز، برنامه‌ریزی یک سفر کاری تنها به رزرو پرواز و اتاق هتل محدود نمی‌شود. این کار نیازمند هماهنگی و کارایی است که دستیابی به آن می‌تواند چالش‌برانگیز باشد. اینجاست که عوامل چندگانه هوش مصنوعی وارد عمل می‌شوند و نحوه مدیریت نیازهای سفر ما را متحول می‌کنند.\n",
    "\n",
    "تصور کنید تیمی از عوامل هوشمند در اختیار دارید که با دقت و سهولت، تمام جنبه‌های سفر شما را مدیریت می‌کنند. با استفاده از فناوری پیشرفته هوش مصنوعی ما، عوامل تخصصی برای خدمات رزرو و تنظیم برنامه سفر ایجاد کرده‌ایم تا تجربه‌ای بی‌دغدغه و بدون استرس را برای شما فراهم کنیم.\n",
    "\n",
    "این یک سناریوی پایه است. هنگام برنامه‌ریزی یک سفر کاری، نیاز داریم با یک کارگزار سفر کاری مشورت کنیم تا اطلاعات مربوط به بلیت هواپیما، اطلاعات هتل و غیره را به دست آوریم. از طریق عوامل هوش مصنوعی، می‌توانیم عواملی برای خدمات رزرو و عواملی برای تنظیم برنامه سفر ایجاد کنیم تا با همکاری یکدیگر سطح هوشمندی را ارتقا دهند.\n"
   ]
  },
  {
   "cell_type": "markdown",
   "metadata": {},
   "source": [
    "# راه‌اندازی سرویس Azure AI Agent و دریافت اطلاعات پیکربندی از **.env**\n",
    "\n",
    "### **.env**\n",
    "\n",
    "یک فایل .env ایجاد کنید\n",
    "\n",
    "**.env** شامل رشته اتصال سرویس Azure AI Agent، مدل مورد استفاده توسط AOAI، و سرویس جستجوی API گوگل، ENDPOINT و غیره است.\n",
    "\n",
    "- **AZURE_AI_AGENT_MODEL_DEPLOYMENT_NAME** = \"نام استقرار مدل سرویس Azure AI Agent شما\"\n",
    "\n",
    "[**NOTE**] شما به مدلی با محدودیت نرخ 100,000 (تعداد توکن‌ها در دقیقه) و محدودیت نرخ 600 (تعداد درخواست‌ها در دقیقه) نیاز دارید.\n",
    "\n",
    "  می‌توانید مدل را در Azure AI Foundry - Model and Endpoint دریافت کنید.\n",
    "\n",
    "- **AZURE_AI_AGENT_PROJECT_CONNECTION_STRING** = \"رشته اتصال پروژه سرویس Azure AI Agent شما\"\n",
    "\n",
    "  شما می‌توانید رشته اتصال پروژه را در نمای کلی پروژه خود در صفحه پورتال AI Foundry دریافت کنید.\n",
    "\n",
    "- **SERPAPI_SEARCH_API_KEY** = \"کلید API جستجوی SERPAPI شما\"\n",
    "- **SERPAPI_SEARCH_ENDPOINT** = \"پایانه جستجوی SERPAPI شما\"\n",
    "\n",
    "برای دریافت نام استقرار مدل و رشته اتصال پروژه سرویس Azure AI Agent، باید سرویس Azure AI Agent را ایجاد کنید. توصیه می‌شود از [این قالب](https://portal.azure.com/#create/Microsoft.Template/uri/https%3A%2F%2Fraw.githubusercontent.com%2Ffosteramanda%2Fazure-agent-quickstart-templates%2Frefs%2Fheads%2Fmaster%2Fquickstarts%2Fmicrosoft.azure-ai-agent-service%2Fstandard-agent%2Fazuredeploy.json) برای ایجاد مستقیم آن استفاده کنید. (***توجه:*** سرویس Azure AI Agent در حال حاضر در منطقه‌های محدودی تنظیم شده است. توصیه می‌شود به [این لینک](https://learn.microsoft.com/en-us/azure/ai-services/agents/concepts/model-region-support) مراجعه کنید تا منطقه را تنظیم کنید.)\n",
    "\n",
    "Agent نیاز به دسترسی به SERPAPI دارد. توصیه می‌شود با استفاده از [این لینک](https://serpapi.com/searches) ثبت‌نام کنید. پس از ثبت‌نام، می‌توانید یک کلید API و ENDPOINT منحصر به فرد دریافت کنید.\n"
   ]
  },
  {
   "cell_type": "markdown",
   "metadata": {},
   "source": [
    "# ورود به Azure\n",
    "\n",
    "اکنون باید وارد Azure شوید. یک ترمینال در VScode باز کنید و دستور `az login` را اجرا کنید.\n"
   ]
  },
  {
   "cell_type": "markdown",
   "metadata": {},
   "source": [
    "# تنظیمات\n",
    "\n",
    "برای اجرای این نوت‌بوک، نیاز دارید که کتابخانه‌های زیر را نصب کنید. در اینجا لیستی از کتابخانه‌های مورد نیاز و دستورات نصب مربوطه آورده شده است:\n",
    "\n",
    "azure-identity: برای احراز هویت Azure.  \n",
    "requests: برای ارسال درخواست‌های HTTP.  \n",
    "semantic-kernel: برای چارچوب هسته معنایی (فرض بر این است که این یک کتابخانه سفارشی یا خاص است و ممکن است نیاز باشد آن را از منبع یا مخزن خاصی نصب کنید).  \n"
   ]
  },
  {
   "cell_type": "code",
   "execution_count": null,
   "metadata": {},
   "outputs": [],
   "source": [
    "!pip install azure-identity\n",
    "!pip install requests\n",
    "!pip install semantic-kernel\n",
    "!pip install --upgrade semantic_kernel\n",
    "!pip install azure-cli"
   ]
  },
  {
   "cell_type": "markdown",
   "metadata": {},
   "source": [
    "# توضیح:\n",
    "import asyncio: این دستور ماژول asyncio را وارد می‌کند که از برنامه‌نویسی غیرهمزمان در پایتون پشتیبانی می‌کند. این ماژول به شما اجازه می‌دهد تا با استفاده از سینتکس async و await کدهای همزمان بنویسید.\n",
    "from typing: Annotated: این دستور نوع Annotated را از ماژول typing وارد می‌کند. Annotated برای افزودن متادیتا به نوع‌های اشاره‌شده استفاده می‌شود که می‌تواند برای اهداف مختلفی مانند اعتبارسنجی، مستندسازی یا ابزارسازی مفید باشد.\n"
   ]
  },
  {
   "cell_type": "code",
   "execution_count": null,
   "metadata": {
    "dotnet_interactive": {
     "language": "csharp"
    },
    "polyglot_notebook": {
     "kernelName": "csharp"
    }
   },
   "outputs": [],
   "source": [
    "import asyncio,os\n",
    "from typing import Annotated"
   ]
  },
  {
   "cell_type": "markdown",
   "metadata": {},
   "source": [
    "# توضیح:\n",
    "با استفاده از `from dotenv import load_dotenv` و `load_dotenv()`، می‌توانید به‌راحتی تنظیمات پیکربندی و اطلاعات حساس (مانند کلیدهای API و آدرس‌های URL پایگاه داده) را در یک فایل `.env` مدیریت کنید. این کار باعث می‌شود این اطلاعات از کد منبع شما جدا شوند و برنامه شما امن‌تر و پیکربندی آن ساده‌تر شود.\n"
   ]
  },
  {
   "cell_type": "code",
   "execution_count": null,
   "metadata": {},
   "outputs": [],
   "source": [
    "import os\n",
    "from dotenv import load_dotenv\n",
    "\n",
    "# Load environment variables from .env file\n",
    "load_dotenv()"
   ]
  },
  {
   "cell_type": "markdown",
   "metadata": {},
   "source": [
    "# توضیحات:\n",
    "\n",
    "عبارت Import: از azure.identity.aio وارد کردن DefaultAzureCredential: این عبارت کلاس DefaultAzureCredential را از ماژول azure.identity.aio وارد می‌کند. بخش aio در نام ماژول نشان‌دهنده این است که برای عملیات‌های غیرهمزمان طراحی شده است.\n",
    "\n",
    "هدف از DefaultAzureCredential: کلاس DefaultAzureCredential بخشی از Azure SDK برای پایتون است. این کلاس یک روش پیش‌فرض برای احراز هویت با سرویس‌های Azure فراهم می‌کند. این کلاس تلاش می‌کند با استفاده از چندین روش به ترتیب مشخصی احراز هویت کند، مانند متغیرهای محیطی، هویت مدیریت‌شده و اعتبارنامه‌های Azure CLI.\n",
    "\n",
    "عملیات‌های غیرهمزمان: ماژول aio نشان می‌دهد که کلاس DefaultAzureCredential از عملیات‌های غیرهمزمان پشتیبانی می‌کند. این به این معناست که می‌توانید از آن همراه با asyncio برای انجام درخواست‌های احراز هویت غیرمسدودکننده استفاده کنید.\n"
   ]
  },
  {
   "cell_type": "code",
   "execution_count": null,
   "metadata": {
    "dotnet_interactive": {
     "language": "csharp"
    },
    "polyglot_notebook": {
     "kernelName": "csharp"
    }
   },
   "outputs": [],
   "source": [
    "from azure.identity.aio import DefaultAzureCredential"
   ]
  },
  {
   "cell_type": "markdown",
   "metadata": {},
   "source": [
    "# توضیح:\n",
    "ماژول‌ها و کلاس‌های مختلفی از بسته‌ی semantic_kernel وارد می‌شوند. در اینجا توضیحی درباره‌ی هر یک از این واردات ارائه شده است:\n",
    "\n",
    "AgentGroupChat از semantic_kernel.agents: این کلاس وظایف مربوط به چت گروهی برای عوامل هوش مصنوعی را مدیریت می‌کند. AzureAIAgent و AzureAIAgentSettings از semantic_kernel.agents.azure_ai:\n",
    "\n",
    "AzureAIAgent: این کلاس برای ایجاد و مدیریت عوامل هوش مصنوعی که از خدمات Azure AI استفاده می‌کنند، به کار می‌رود.\n",
    "\n",
    "AzureAIAgentSettings: این کلاس برای پیکربندی تنظیمات مربوط به AzureAIAgent استفاده می‌شود. TerminationStrategy از semantic_kernel.agents.strategies.termination.termination_strategy:\n",
    "\n",
    "این کلاس استراتژی‌هایی را برای خاتمه دادن به اجرای عوامل هوش مصنوعی تحت شرایط خاص تعریف می‌کند. ChatMessageContent از semantic_kernel.contents.chat_message_content:\n",
    "\n",
    "این کلاس برای مدیریت محتوای پیام‌های چت استفاده می‌شود.\n",
    "AuthorRole از semantic_kernel.contents.utils.author_role:\n",
    "\n",
    "این کلاس نقش‌های مختلف نویسندگان را در زمینه‌ی پیام‌های چت تعریف می‌کند.\n",
    "\n",
    "kernel_function از semantic_kernel.functions.kernel_function_decorator: این دکوریتور برای تعریف توابع هسته‌ای استفاده می‌شود، که توابعی هستند که می‌توانند در چارچوب semantic kernel اجرا شوند.\n",
    "این واردات اجزای لازم را برای ایجاد و مدیریت عوامل هوش مصنوعی که می‌توانند در محیط چت گروهی تعامل داشته باشند، فراهم می‌کنند، احتمالاً برای وظایفی مانند رزرو هتل یا فعالیت‌های مشابه.\n"
   ]
  },
  {
   "cell_type": "code",
   "execution_count": null,
   "metadata": {
    "dotnet_interactive": {
     "language": "csharp"
    },
    "polyglot_notebook": {
     "kernelName": "csharp"
    }
   },
   "outputs": [],
   "source": [
    "from semantic_kernel.agents import AgentGroupChat\n",
    "from semantic_kernel.agents import AzureAIAgent, AzureAIAgentSettings\n",
    "from semantic_kernel.agents.strategies.termination.termination_strategy import TerminationStrategy\n",
    "from semantic_kernel.contents import ChatMessageContent\n",
    "from semantic_kernel.contents import AuthorRole\n",
    "from semantic_kernel.functions.kernel_function_decorator import kernel_function"
   ]
  },
  {
   "cell_type": "markdown",
   "metadata": {},
   "source": [
    "# توضیح:\n",
    "در مرحله بعد کلاس CodeInterpreterTool را از ماژول azure.ai.projects.models وارد می‌کنیم.\n",
    "\n",
    "CodeInterpreterTool: این کلاس بخشی از Azure AI SDK است و برای تفسیر و اجرای کد در زمینه پروژه‌های هوش مصنوعی استفاده می‌شود. این کلاس امکاناتی برای اجرای قطعات کد، تحلیل کد یا یکپارچه‌سازی اجرای کد در جریان‌های کاری هوش مصنوعی فراهم می‌کند.  \n",
    "این وارد کردن، مؤلفه لازم برای استفاده از CodeInterpreterTool در پروژه شما را تنظیم می‌کند، که می‌تواند برای وظایفی که شامل تفسیر و اجرای کد به صورت پویا هستند مفید باشد.\n"
   ]
  },
  {
   "cell_type": "code",
   "execution_count": null,
   "metadata": {
    "dotnet_interactive": {
     "language": "csharp"
    },
    "polyglot_notebook": {
     "kernelName": "csharp"
    }
   },
   "outputs": [],
   "source": [
    "from azure.ai.projects.models import CodeInterpreterTool"
   ]
  },
  {
   "cell_type": "markdown",
   "metadata": {},
   "source": [
    "# توضیح:  \n",
    "کلاس ApprovalTerminationStrategy یک استراتژی خاص برای متوقف کردن عملیات یک عامل هوش مصنوعی ارائه می‌دهد. این عامل زمانی متوقف می‌شود که آخرین پیام در تاریخچه تعاملاتش شامل کلمه \"ذخیره شد\" باشد. این می‌تواند در سناریوهایی مفید باشد که وظیفه عامل پس از دریافت تأییدیه‌ای مبنی بر اینکه چیزی \"ذخیره شده است\"، کامل در نظر گرفته می‌شود. روش تعامل را تعریف کنید. پس از ذخیره شدن برنامه رزرو، می‌توان آن را هنگام دریافت سیگنال ذخیره شده متوقف کرد.\n"
   ]
  },
  {
   "cell_type": "code",
   "execution_count": null,
   "metadata": {
    "dotnet_interactive": {
     "language": "csharp"
    },
    "polyglot_notebook": {
     "kernelName": "csharp"
    }
   },
   "outputs": [],
   "source": [
    "class ApprovalTerminationStrategy(TerminationStrategy):\n",
    "    \"\"\"A strategy for determining when an agent should terminate.\"\"\"\n",
    "\n",
    "    async def should_agent_terminate(self, agent, history):\n",
    "        \"\"\"Check if the agent should terminate.\"\"\"\n",
    "        return \"saved\" in history[-1].content.lower()"
   ]
  },
  {
   "cell_type": "markdown",
   "metadata": {},
   "source": [
    "# توضیح:\n",
    "\n",
    "این خط کد یک شیء AzureAIAgentSettings را با تنظیمات پیش‌فرض یا از پیش تعریف‌شده با فراخوانی متد create() مقداردهی اولیه می‌کند. این شیء تنظیمات (ai_agent_settings) سپس می‌تواند برای پیکربندی و مدیریت یک نمونه AzureAIAgent استفاده شود.\n"
   ]
  },
  {
   "cell_type": "code",
   "execution_count": null,
   "metadata": {
    "dotnet_interactive": {
     "language": "csharp"
    },
    "polyglot_notebook": {
     "kernelName": "csharp"
    }
   },
   "outputs": [],
   "source": [
    "ai_agent_settings = AzureAIAgentSettings.create()"
   ]
  },
  {
   "cell_type": "markdown",
   "metadata": {},
   "source": [
    "# توضیح:\n",
    "با وارد کردن کتابخانه requests، می‌توانید به‌راحتی درخواست‌های HTTP ارسال کنید و با سرویس‌های وب در کد پایتون خود تعامل داشته باشید.\n"
   ]
  },
  {
   "cell_type": "code",
   "execution_count": null,
   "metadata": {
    "dotnet_interactive": {
     "language": "csharp"
    },
    "polyglot_notebook": {
     "kernelName": "csharp"
    }
   },
   "outputs": [],
   "source": [
    "import requests"
   ]
  },
  {
   "cell_type": "markdown",
   "metadata": {},
   "source": [
    "# توضیحات:\n",
    "این یک متغیر است که کلید API را برای دسترسی به سرویس API صفحه نتایج موتور جستجو (SERP) ذخیره می‌کند. کلید API یک شناسه منحصر به فرد است که برای احراز هویت درخواست‌های مرتبط با حساب شما استفاده می‌شود.\n",
    "\n",
    "'GOOGLE_SEARCH_API_KEY': این یک رشته جایگزین است. شما باید ''GOOGLE_SEARCH_API_KEY' را با کلید واقعی SERP API خود جایگزین کنید.\n",
    "\n",
    "هدف: هدف این خط ذخیره کلید API در یک متغیر است تا بتوان از آن برای احراز هویت درخواست‌ها به سرویس SERP API استفاده کرد. کلید API برای دسترسی به سرویس و انجام جستجوها ضروری است.\n",
    "\n",
    "چگونه یک کلید SERP API دریافت کنیم: برای دریافت یک کلید SERP API، مراحل کلی زیر را در https://serpapi.com دنبال کنید (مراحل دقیق ممکن است بسته به سرویس خاص SERP API که استفاده می‌کنید متفاوت باشد):\n",
    "\n",
    "انتخاب یک سرویس SERP API: چندین سرویس SERP API موجود است، مانند SerpAPI، Google Custom Search JSON API و دیگران. سرویسی را انتخاب کنید که بهترین نیازهای شما را برآورده کند.\n",
    "\n",
    "ثبت‌نام برای یک حساب کاربری:\n",
    "\n",
    "به وب‌سایت سرویس SERP API انتخابی خود بروید https://www.serpapi.com و برای یک حساب کاربری ثبت‌نام کنید. ممکن است نیاز باشد اطلاعات اولیه‌ای ارائه دهید و آدرس ایمیل خود را تأیید کنید.\n",
    "\n",
    "ایجاد یک کلید API:\n",
    "\n",
    "پس از ثبت‌نام، وارد حساب کاربری خود شوید و به بخش API یا داشبورد بروید. گزینه‌ای برای ایجاد یا تولید یک کلید API جدید پیدا کنید.\n",
    "کپی کردن کلید API:\n",
    "\n",
    "پس از تولید کلید API، آن را کپی کنید. این کلید برای احراز هویت درخواست‌های شما به سرویس SERP API استفاده خواهد شد.\n",
    "جایگزینی رشته جایگزین:\n",
    "\n",
    "رشته جایگزین را در فایل .env خود جایگزین کنید.\n"
   ]
  },
  {
   "cell_type": "code",
   "execution_count": null,
   "metadata": {
    "dotnet_interactive": {
     "language": "csharp"
    },
    "polyglot_notebook": {
     "kernelName": "csharp"
    }
   },
   "outputs": [],
   "source": [
    "SERPAPI_SEARCH_API_KEY=os.getenv('SERPAPI_SEARCH_API_KEY')"
   ]
  },
  {
   "cell_type": "code",
   "execution_count": null,
   "metadata": {
    "dotnet_interactive": {
     "language": "csharp"
    },
    "polyglot_notebook": {
     "kernelName": "csharp"
    }
   },
   "outputs": [],
   "source": [
    "SERPAPI_SEARCH_ENDPOINT = os.getenv('SERPAPI_SEARCH_ENDPOINT')"
   ]
  },
  {
   "cell_type": "markdown",
   "metadata": {},
   "source": [
    "# توضیح:\n",
    "کلاس BookingPlugin روش‌هایی برای رزرو هتل‌ها و پروازها با استفاده از Google Search API از Serpapi.com ارائه می‌دهد. این کلاس پارامترهای لازم را می‌سازد، درخواست‌های API را ارسال می‌کند و پاسخ‌ها را پردازش می‌کند تا اطلاعات مرتبط با رزرو را بازگرداند. کلید API (SERPAPI_SEARCH_API_KEY) و نقطه پایانی (SERPAPI_SEARCH_ENDPOINT) برای احراز هویت و ارسال درخواست‌ها به Google Search API استفاده می‌شوند.\n"
   ]
  },
  {
   "cell_type": "code",
   "execution_count": null,
   "metadata": {
    "dotnet_interactive": {
     "language": "csharp"
    },
    "polyglot_notebook": {
     "kernelName": "csharp"
    }
   },
   "outputs": [],
   "source": [
    "# Define Booking Plugin\n",
    "class BookingPlugin:\n",
    "    \"\"\"Booking Plugin for customers\"\"\"\n",
    "    @kernel_function(description=\"booking hotel\")\n",
    "    def booking_hotel(self,query: Annotated[str, \"The name of the city\"], check_in_date: Annotated[str, \"Hotel Check-in Time\"], check_out_date: Annotated[str, \"Hotel Check-in Time\"])-> Annotated[str, \"Return the result of booking hotel infomation\"]:\n",
    "\n",
    "        params = {\n",
    "            \"engine\": \"google_hotels\",\n",
    "            \"q\": query,\n",
    "            \"check_in_date\": check_in_date,\n",
    "            \"check_out_date\": check_out_date,\n",
    "            \"adults\": \"2\",\n",
    "            \"currency\": \"USD\",\n",
    "            \"gl\": \"us\",\n",
    "            \"hl\": \"en\",\n",
    "            \"api_key\": SERPAPI_SEARCH_API_KEY\n",
    "        }\n",
    "\n",
    "        response = requests.get(SERPAPI_SEARCH_ENDPOINT, params=params)\n",
    "        if response.status_code == 200:\n",
    "            response = response.json()\n",
    "            return response[\"properties\"]\n",
    "        else:\n",
    "            return None\n",
    "\n",
    "    \n",
    "    @kernel_function(description=\"booking fight\")\n",
    "    def  booking_fight(self,origin: Annotated[str, \"The name of Departure\"], destination: Annotated[str, \"The name of Destination\"], outbound_date: Annotated[str, \"The date of outbound\"], return_date: Annotated[str, \"The date of Return_date\"])-> Annotated[str, \"Return the result of booking fight infomation\"]:\n",
    "        \n",
    "        go_params = {\n",
    "            \"engine\": \"google_flights\",   \n",
    "            \"departure_id\": origin,\n",
    "            \"arrival_id\": destination,\n",
    "            \"outbound_date\": outbound_date,\n",
    "            \"return_date\": return_date,  \n",
    "            \"currency\": \"USD\",\n",
    "            \"hl\": \"en\",\n",
    "            \"api_key\": SERPAPI_SEARCH_API_KEY  \n",
    "        }\n",
    "\n",
    "        print(go_params)\n",
    "\n",
    "        go_response = requests.get(SERPAPI_SEARCH_ENDPOINT, params=go_params)\n",
    "\n",
    "\n",
    "        result = ''\n",
    "\n",
    "        if go_response.status_code == 200:\n",
    "            response = go_response.json()\n",
    "\n",
    "            result += \"# outbound \\n \" + str(response)\n",
    "        else:\n",
    "            print('error!!!')\n",
    "            # return None\n",
    "\n",
    "        \n",
    "        back_params = {\n",
    "            \"engine\": \"google_flights\",   \n",
    "            \"departure_id\": destination,\n",
    "            \"arrival_id\": origin,\n",
    "            \"outbound_date\": return_date,\n",
    "            \"return_date\": return_date,  \n",
    "            \"currency\": \"USD\",\n",
    "            \"hl\": \"en\",\n",
    "            \"api_key\": SERPAPI_SEARCH_API_KEY  \n",
    "        }\n",
    "\n",
    "\n",
    "        print(back_params)\n",
    "\n",
    "\n",
    "        back_response = requests.get(SERPAPI_SEARCH_ENDPOINT, params=back_params)\n",
    "\n",
    "\n",
    "\n",
    "        if back_response.status_code == 200:\n",
    "            response = back_response.json()\n",
    "\n",
    "            result += \"\\n # return \\n\"  + str(response)\n",
    "\n",
    "        else:\n",
    "            print('error!!!')\n",
    "            # return None\n",
    "        \n",
    "        print(result)\n",
    "\n",
    "        return result\n",
    "\n",
    "        \n"
   ]
  },
  {
   "cell_type": "markdown",
   "metadata": {},
   "source": [
    "کلاس SavePlugin یک متد به نام saving_plan ارائه می‌دهد که برای ذخیره برنامه‌های سفر با استفاده از خدمات هوش مصنوعی Azure طراحی شده است. این کلاس اعتبارنامه‌های Azure را تنظیم می‌کند، یک عامل هوش مصنوعی ایجاد می‌کند، ورودی‌های کاربر را پردازش می‌کند تا محتوای برنامه سفر را تولید و ذخیره کند، و عملیات ذخیره‌سازی فایل و پاکسازی را مدیریت می‌کند. این متد در صورت تکمیل موفقیت‌آمیز \"Saved\" را برمی‌گرداند.\n"
   ]
  },
  {
   "cell_type": "code",
   "execution_count": null,
   "metadata": {
    "dotnet_interactive": {
     "language": "csharp"
    },
    "polyglot_notebook": {
     "kernelName": "csharp"
    }
   },
   "outputs": [],
   "source": [
    "class SavePlugin:\n",
    "    \"\"\"Save Plugin for customers\"\"\"\n",
    "    @kernel_function(description=\"saving plan\")\n",
    "    async def saving_plan(self,tripplan: Annotated[str, \"The content of trip plan\"])-> Annotated[str, \"Return status of save content\"]:\n",
    "\n",
    "        async with (\n",
    "            DefaultAzureCredential() as creds,\n",
    "            AzureAIAgent.create_client(\n",
    "                credential=creds,\n",
    "                conn_str=ai_agent_settings.project_connection_string.get_secret_value(),\n",
    "            ) as client,\n",
    "        ):\n",
    "\n",
    "            code_interpreter = CodeInterpreterTool()\n",
    "            \n",
    "            agent_definition = await client.agents.create_agent(\n",
    "                model=ai_agent_settings.model_deployment_name,\n",
    "                tools=code_interpreter.definitions,\n",
    "                tool_resources=code_interpreter.resources,\n",
    "            )\n",
    "\n",
    "\n",
    "            agent = AzureAIAgent(\n",
    "                client=client,\n",
    "                definition=agent_definition,\n",
    "            )\n",
    "\n",
    "            thread = await client.agents.create_thread()\n",
    "\n",
    "\n",
    "            user_inputs = [\n",
    "                \"\"\"\n",
    "            \n",
    "                        You are my Python programming assistant. Generate code,save \"\"\"+ tripplan +\n",
    "                        \n",
    "                    \"\"\"    \n",
    "                        and execute it according to the following requirements\n",
    "\n",
    "                        1. Save blog content to trip-{YYMMDDHHMMSS}.md\n",
    "\n",
    "                        2. give me the download this file link\n",
    "                    \"\"\"\n",
    "            ]\n",
    "\n",
    "\n",
    "\n",
    "            try:\n",
    "                for user_input in user_inputs:\n",
    "                    # Add the user input as a chat message\n",
    "                    await agent.add_chat_message(\n",
    "                        thread_id=thread.id, message=ChatMessageContent(role=AuthorRole.USER, content=user_input)\n",
    "                    )\n",
    "                    print(f\"# User: '{user_input}'\")\n",
    "                    # Invoke the agent for the specified thread\n",
    "                    async for content in agent.invoke(thread_id=thread.id):\n",
    "                        if content.role != AuthorRole.TOOL:\n",
    "                            print(f\"# Agent: {content.content}\")\n",
    "\n",
    "                    \n",
    "                    messages = await client.agents.list_messages(thread_id=thread.id)\n",
    "\n",
    "                    # OpenAIPageableListOfThreadMessage\n",
    "                    # OpenAIPageableListOfThreadMessage\n",
    "\n",
    "\n",
    "                    for file_path_annotation in messages.file_path_annotations:\n",
    "\n",
    "                            file_name = os.path.basename(file_path_annotation.text)\n",
    "\n",
    "                            await client.agents.save_file(file_id=file_path_annotation.file_path.file_id, file_name=file_name,target_dir=\"./trip\")\n",
    "\n",
    "                    \n",
    "            finally:\n",
    "                await client.agents.delete_thread(thread.id)\n",
    "                await client.agents.delete_agent(agent.id)\n",
    "\n",
    "\n",
    "        return \"Saved\""
   ]
  },
  {
   "cell_type": "markdown",
   "metadata": {},
   "source": [
    "# توضیحات:\n",
    "این کد عوامل هوش مصنوعی Azure را برای رزرو پروازها و هتل‌ها و ذخیره برنامه‌های سفر بر اساس ورودی‌های کاربران تنظیم می‌کند. این کد از اعتبارنامه‌های Azure برای ایجاد و پیکربندی عوامل استفاده می‌کند، ورودی‌های کاربران را از طریق یک چت گروهی پردازش می‌کند و پس از اتمام وظایف، پاکسازی مناسب را تضمین می‌کند. عوامل از افزونه‌های خاص (BookingPlugin و SavePlugin) برای انجام وظایف مربوطه خود استفاده می‌کنند.\n"
   ]
  },
  {
   "cell_type": "code",
   "execution_count": null,
   "metadata": {
    "dotnet_interactive": {
     "language": "csharp"
    },
    "polyglot_notebook": {
     "kernelName": "csharp"
    }
   },
   "outputs": [],
   "source": [
    "async with (\n",
    "    DefaultAzureCredential() as creds,\n",
    "    AzureAIAgent.create_client(\n",
    "        credential=creds,\n",
    "        conn_str=ai_agent_settings.project_connection_string.get_secret_value(),\n",
    "    ) as client,\n",
    "):\n",
    "    BOOKING_AGENT_NAME = \"BookingAgent\"\n",
    "    BOOKING_AGENT_INSTRUCTIONS = \"\"\"\n",
    "    You are a booking agent. Help me book flights or hotels.\n",
    "\n",
    "    Thought: Please understand the user's intention and confirm whether to use the reservation system to complete the task.\n",
    "\n",
    "    Actions:\n",
    "    - For flight bookings, convert the departure and destination names into airport codes.\n",
    "    - Use the appropriate API for hotel or flight bookings. Verify that all necessary parameters are available. If any parameters are missing, ask the user to provide them. If all parameters are complete, call the corresponding function.\n",
    "    - If the task is not related to hotel or flight booking, respond with the final answer only.\n",
    "    - Output the results using a markdown table:\n",
    "      - For flight bookings, output separate outbound and return contents in the order of:\n",
    "        Departure Airport | Airline | Flight Number | Departure Time | Arrival Airport | Arrival Time | Duration | Airplane | Travel Class | Price (USD) | Legroom | Extensions | Carbon Emissions (kg).\n",
    "      - For hotel bookings, output in the order of:\n",
    "        Property Name | Property Description | Check-in Time | Check-out Time | Prices | Nearby Places | Hotel Class | GPS Coordinates.\n",
    "    \"\"\"\n",
    "\n",
    "    SAVE_AGENT_NAME = \"SaveAgent\"\n",
    "    SAVE_AGENT_INSTRUCTIONS = \"\"\"\n",
    "    You are a save tool agent. Help me to save the trip plan.\n",
    "    \"\"\"\n",
    "\n",
    "    # Create agent definition\n",
    "    booking_agent_definition = await client.agents.create_agent(\n",
    "        model=ai_agent_settings.model_deployment_name,\n",
    "        name=BOOKING_AGENT_NAME,\n",
    "        instructions=BOOKING_AGENT_INSTRUCTIONS,\n",
    "    )\n",
    "\n",
    "    # Create the AzureAI Agent\n",
    "    booking_agent = AzureAIAgent(\n",
    "        client=client,\n",
    "        definition=booking_agent_definition,\n",
    "        # Optionally configure polling options\n",
    "        # polling_options=RunPollingOptions(run_polling_interval=timedelta(seconds=1)),\n",
    "    )\n",
    "\n",
    "    # Add the sample plugin to the kernel\n",
    "    booking_agent.kernel.add_plugin(BookingPlugin(), plugin_name=\"booking\")\n",
    "\n",
    "    # Create agent definition\n",
    "    save_agent_definition = await client.agents.create_agent(\n",
    "        model=ai_agent_settings.model_deployment_name,\n",
    "        name=SAVE_AGENT_NAME,\n",
    "        instructions=SAVE_AGENT_INSTRUCTIONS\n",
    "    )\n",
    "\n",
    "    # Create the AzureAI Agent\n",
    "    save_agent = AzureAIAgent(\n",
    "        client=client,\n",
    "        definition=save_agent_definition,\n",
    "    )\n",
    "\n",
    "    save_agent.kernel.add_plugin(SavePlugin(), plugin_name=\"saving\")\n",
    "\n",
    "    user_inputs = [\n",
    "        \"I have a business trip from London to New York in Feb 20 2025 to Feb 27 2025 ,help me to book a hotel and fight tickets and save it\"\n",
    "    ]\n",
    "\n",
    "    chat = AgentGroupChat(\n",
    "        agents=[booking_agent, save_agent],\n",
    "        termination_strategy=ApprovalTerminationStrategy(agents=[save_agent], maximum_iterations=10),\n",
    "    )\n",
    "\n",
    "    try:\n",
    "        for user_input in user_inputs:\n",
    "            # Add the user input as a chat message\n",
    "            await chat.add_chat_message(\n",
    "                ChatMessageContent(role=AuthorRole.USER, content=user_input)\n",
    "            )\n",
    "            print(f\"# User: '{user_input}'\")\n",
    "\n",
    "            async for content in chat.invoke():\n",
    "                print(f\"# {content.role} - {content.name or '*'}: '{content.content}'\")\n",
    "\n",
    "            print(f\"# IS COMPLETE: {chat.is_complete}\")\n",
    "\n",
    "            print(\"*\" * 60)\n",
    "            print(\"Chat History (In Descending Order):\\n\")\n",
    "            async for message in chat.get_chat_messages(agent=save_agent):\n",
    "                print(f\"# {message.role} - {message.name or '*'}: '{message.content}'\")\n",
    "    finally:\n",
    "        await chat.reset()\n",
    "        await client.agents.delete_agent(save_agent.id)\n",
    "        await client.agents.delete_agent(booking_agent.id)\n"
   ]
  },
  {
   "cell_type": "markdown",
   "metadata": {},
   "source": [
    "\n---\n\n**سلب مسئولیت**:  \nاین سند با استفاده از سرویس ترجمه هوش مصنوعی [Co-op Translator](https://github.com/Azure/co-op-translator) ترجمه شده است. در حالی که ما تلاش می‌کنیم دقت را حفظ کنیم، لطفاً توجه داشته باشید که ترجمه‌های خودکار ممکن است شامل خطاها یا نادرستی‌ها باشند. سند اصلی به زبان اصلی آن باید به عنوان منبع معتبر در نظر گرفته شود. برای اطلاعات حساس، توصیه می‌شود از ترجمه حرفه‌ای انسانی استفاده کنید. ما مسئولیتی در قبال سوء تفاهم‌ها یا تفسیرهای نادرست ناشی از استفاده از این ترجمه نداریم.\n"
   ]
  }
 ],
 "metadata": {
  "kernelspec": {
   "display_name": "3.12.1",
   "language": "python",
   "name": "python3"
  },
  "language_info": {
   "codemirror_mode": {
    "name": "ipython",
    "version": 3
   },
   "file_extension": ".py",
   "mimetype": "text/x-python",
   "name": "python",
   "nbconvert_exporter": "python",
   "pygments_lexer": "ipython3",
   "version": "3.12.1"
  },
  "polyglot_notebook": {
   "kernelInfo": {
    "defaultKernelName": "csharp",
    "items": [
     {
      "aliases": [],
      "name": "csharp"
     }
    ]
   }
  },
  "coopTranslator": {
   "original_hash": "1baa60020a95eda27b7e9ecfda99965b",
   "translation_date": "2025-08-30T15:37:55+00:00",
   "source_file": "08-multi-agent/code_samples/08-python_multi_aiagent_bookinghotel.ipynb",
   "language_code": "fa"
  }
 },
 "nbformat": 4,
 "nbformat_minor": 2
}