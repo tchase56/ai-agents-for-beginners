{
 "cells": [
  {
   "cell_type": "markdown",
   "metadata": {},
   "source": [
    "# استفاده از RAG با سرویس عامل Azure AI و Semantic Kernel\n",
    "\n",
    "این قطعه کد نشان می‌دهد که چگونه می‌توان یک عامل Azure AI برای تولید تقویت‌شده با بازیابی (RAG) با استفاده از `Azure AI Agent Service` و `Semantic Kernel` ایجاد و مدیریت کرد. این عامل پرسش‌های کاربران را بر اساس زمینه بازیابی‌شده پردازش کرده و پاسخ‌های دقیقی ارائه می‌دهد.\n"
   ]
  },
  {
   "cell_type": "markdown",
   "metadata": {},
   "source": []
  },
  {
   "cell_type": "markdown",
   "metadata": {},
   "source": [
    "رفع مشکل نسخه SQLite  \n",
    "اگر با خطای زیر مواجه شدید:  \n",
    "```\n",
    "RuntimeError: Your system has an unsupported version of sqlite3. Chroma requires sqlite3 >= 3.35.0\n",
    "```  \n",
    "\n",
    "این بخش کد را در ابتدای دفترچه یادداشت خود از حالت کامنت خارج کنید:  \n"
   ]
  },
  {
   "cell_type": "code",
   "execution_count": null,
   "metadata": {},
   "outputs": [],
   "source": [
    "# %pip install pysqlite3-binary\n",
    "# __import__('pysqlite3')\n",
    "# import sys\n",
    "# sys.modules['sqlite3'] = sys.modules.pop('pysqlite3')"
   ]
  },
  {
   "cell_type": "markdown",
   "metadata": {},
   "source": [
    "### وارد کردن بسته‌ها  \n",
    "کد زیر بسته‌های مورد نیاز را وارد می‌کند:  \n"
   ]
  },
  {
   "cell_type": "code",
   "execution_count": null,
   "metadata": {},
   "outputs": [],
   "source": [
    "# Azure imports for project client and credentials\n",
    "from azure.ai.projects.models import FileSearchTool, OpenAIFile, VectorStore\n",
    "from azure.identity.aio import DefaultAzureCredential\n",
    "\n",
    "# Semantic Kernel imports\n",
    "from semantic_kernel.agents import AzureAIAgent, AzureAIAgentThread"
   ]
  },
  {
   "cell_type": "markdown",
   "metadata": {},
   "source": [
    "# تولید مبتنی بر بازیابی با Semantic Kernel و سرویس عامل Azure AI\n",
    "\n",
    "این نمونه نشان می‌دهد که چگونه می‌توان از **سرویس عامل Azure AI** برای انجام **تولید مبتنی بر بازیابی (RAG)** با ترکیب یک مدل زبانی و زمینه خاص دامنه از یک سند آپلود شده استفاده کرد.\n",
    "\n",
    "### نحوه عملکرد\n",
    "\n",
    "1. **آپلود سند**: یک فایل مارک‌داون (document.md) که حاوی اطلاعاتی (سیاست بیمه سفر Contoso) است، به سرویس عامل آپلود می‌شود.\n",
    "\n",
    "2. **ایجاد ذخیره‌سازی برداری**: سند به یک ذخیره‌سازی برداری شاخص‌گذاری می‌شود تا امکان جستجوی معنایی در محتوای آن فراهم شود.\n",
    "\n",
    "3. **پیکربندی عامل**: یک عامل با استفاده از مدل `gpt-4o` با دستورالعمل‌های سختگیرانه زیر ایجاد می‌شود:\n",
    "   - فقط به سوالاتی پاسخ دهد که بر اساس محتوای بازیابی شده از سند هستند.\n",
    "   - اگر سوال خارج از محدوده باشد، از پاسخ دادن خودداری کند.\n",
    "\n",
    "4. **ادغام ابزار جستجوی فایل**: ابزار `FileSearchTool` با عامل ثبت می‌شود، که به مدل امکان جستجو و بازیابی قطعات مرتبط از سند شاخص‌گذاری شده در طول استنتاج را می‌دهد.\n",
    "\n",
    "5. **تعامل کاربر**: کاربران می‌توانند سوالاتی بپرسند. اگر اطلاعات مرتبط در سند یافت شود، عامل پاسخی مبتنی بر سند تولید می‌کند.  \n",
    "   اگر اطلاعات کافی در سند موجود نباشد، عامل به صراحت پاسخ می‌دهد که سند اطلاعات کافی را در بر ندارد.\n"
   ]
  },
  {
   "cell_type": "markdown",
   "metadata": {},
   "source": [
    "### تابع اصلی\n",
    "\n",
    "تابع اصلی نقطه شروع برنامه است. این تابع معمولاً مسئول مقداردهی اولیه و اجرای منطق اصلی برنامه است.\n",
    "\n",
    "#### نحوه استفاده\n",
    "برای استفاده از تابع اصلی، کافی است آن را فراخوانی کنید. در اینجا یک مثال ساده آورده شده است:\n",
    "\n",
    "```python\n",
    "def main():\n",
    "    print(\"برنامه شروع شد!\")\n",
    "```\n",
    "\n",
    "#### نکات مهم\n",
    "[!NOTE] تابع اصلی باید همیشه در انتهای فایل تعریف شود تا خوانایی کد حفظ شود.\n",
    "\n",
    "#### هشدارها\n",
    "[!WARNING] اطمینان حاصل کنید که تمام متغیرها و منابع قبل از خروج از تابع اصلی آزاد شده‌اند.\n",
    "\n",
    "#### نکات مفید\n",
    "[!TIP] از دستور `if __name__ == \"__main__\":` برای اجرای مستقیم فایل استفاده کنید.\n",
    "\n",
    "#### اهمیت\n",
    "[!IMPORTANT] تابع اصلی باید ساده و قابل فهم باشد تا نگهداری کد آسان‌تر شود.\n",
    "\n",
    "#### احتیاط\n",
    "[!CAUTION] از اجرای عملیات سنگین در تابع اصلی خودداری کنید. این کار می‌تواند عملکرد برنامه را تحت تأثیر قرار دهد.\n"
   ]
  },
  {
   "cell_type": "markdown",
   "metadata": {},
   "source": [
    "اطمینان حاصل کنید که ابتدا با استفاده از Azure CLI فرمان `az login` را اجرا کنید تا زمینه احراز هویت مناسب هنگام استفاده از `DefaultAzureCredential` فراهم شود. سرویس Azure AI Agent از کلیدهای API استفاده نمی‌کند.\n"
   ]
  },
  {
   "cell_type": "code",
   "execution_count": null,
   "metadata": {},
   "outputs": [],
   "source": [
    "async def main():\n",
    "    async with (\n",
    "        DefaultAzureCredential() as creds,\n",
    "        AzureAIAgent.create_client(credential=creds) as client,\n",
    "    ):\n",
    "        file: OpenAIFile = await client.agents.upload_file_and_poll(file_path=\"document.md\", purpose=\"assistants\")\n",
    "        vector_store: VectorStore = await client.agents.create_vector_store_and_poll(\n",
    "            file_ids=[file.id], name=\"my_vectorstore\"\n",
    "        )\n",
    "\n",
    "        # Define agent name and instructions tailored for RAG.\n",
    "        AGENT_NAME = \"RAGAgent\"\n",
    "        AGENT_INSTRUCTIONS = \"\"\"\n",
    "        You are an AI assistant designed to answer user questions using only the information retrieved from the provided document(s).\n",
    "\n",
    "        - If a user's question cannot be answered using the retrieved context, **you must clearly respond**: \n",
    "        \"I'm sorry, but the uploaded document does not contain the necessary information to answer that question.\"\n",
    "        - Do not answer from general knowledge or reasoning. Do not make assumptions or generate hypothetical explanations.\n",
    "        - Do not provide definitions, tutorials, or commentary that is not explicitly grounded in the content of the uploaded file(s).\n",
    "        - If a user asks a question like \"What is a Neural Network?\", and this is not discussed in the uploaded document, respond as instructed above.\n",
    "        - For questions that do have relevant content in the document (e.g., Contoso's travel insurance coverage), respond accurately, and cite the document explicitly.\n",
    "\n",
    "        You must behave as if you have no external knowledge beyond what is retrieved from the uploaded document.\n",
    "        \"\"\"\n",
    "\n",
    "        \n",
    "        # Create file search tool with uploaded resources\n",
    "        file_search = FileSearchTool(vector_store_ids=[vector_store.id])\n",
    "\n",
    "        # 3. Create an agent on the Azure AI agent service with the file search tool\n",
    "        agent_definition = await client.agents.create_agent(\n",
    "            model=\"gpt-4o\",  # This model should match your Azure OpenAI deployment.\n",
    "            name=AGENT_NAME,\n",
    "            instructions=AGENT_INSTRUCTIONS,\n",
    "            tools=file_search.definitions,\n",
    "            tool_resources=file_search.resources,\n",
    "        )\n",
    "        \n",
    "        # Create the Azure AI Agent using the client and definition.\n",
    "        agent = AzureAIAgent(\n",
    "            client=client,\n",
    "            definition=agent_definition,\n",
    "        )\n",
    "        \n",
    "        # Create a thread to hold the conversation\n",
    "        # If no thread is provided, a new thread will be\n",
    "        # created and returned with the initial response\n",
    "        thread: AzureAIAgentThread | None = None\n",
    "        \n",
    "        # Example user queries.\n",
    "        user_inputs = [\n",
    "            \"Can you explain Contoso's travel insurance coverage?\",  # Relevant context.\n",
    "            \"What is a Neural Network?\"  # No relevant context from the document. Will not contain a source annotation.\n",
    "        ]\n",
    "        \n",
    "        try:\n",
    "            for user_input in user_inputs:\n",
    "                print(f\"# User: '{user_input}'\")\n",
    "                # Invoke the agent for the specified thread for response\n",
    "                async for response in agent.invoke(messages=user_input, thread=thread):\n",
    "                    print(f\"# {response.name}: {response}\")\n",
    "                    thread = response.thread\n",
    "        finally:\n",
    "            # Clean up resources.\n",
    "            await thread.delete() if thread else None\n",
    "            await client.agents.delete_vector_store(vector_store.id)\n",
    "            await client.agents.delete_file(file.id)\n",
    "            await client.agents.delete_agent(agent.id)\n",
    "            print(\"\\nCleaned up agent, thread, file, and vector store.\")\n",
    "\n",
    "await main()"
   ]
  },
  {
   "cell_type": "markdown",
   "metadata": {},
   "source": [
    "متن مورد نظر را برای ترجمه ارائه دهید تا بتوانم آن را به فارسی ترجمه کنم.\n"
   ]
  },
  {
   "cell_type": "markdown",
   "metadata": {},
   "source": [
    "\n---\n\n**سلب مسئولیت**:  \nاین سند با استفاده از سرویس ترجمه هوش مصنوعی [Co-op Translator](https://github.com/Azure/co-op-translator) ترجمه شده است. در حالی که ما برای دقت تلاش می‌کنیم، لطفاً توجه داشته باشید که ترجمه‌های خودکار ممکن است شامل خطاها یا نادقتی‌هایی باشند. سند اصلی به زبان اصلی آن باید به عنوان منبع معتبر در نظر گرفته شود. برای اطلاعات حساس، ترجمه حرفه‌ای انسانی توصیه می‌شود. ما هیچ مسئولیتی در قبال سوءتفاهم‌ها یا تفسیرهای نادرست ناشی از استفاده از این ترجمه نداریم.\n"
   ]
  }
 ],
 "metadata": {
  "kernelspec": {
   "display_name": ".venv",
   "language": "python",
   "name": "python3"
  },
  "language_info": {
   "codemirror_mode": {
    "name": "ipython",
    "version": 3
   },
   "file_extension": ".py",
   "mimetype": "text/x-python",
   "name": "python",
   "nbconvert_exporter": "python",
   "pygments_lexer": "ipython3",
   "version": "3.11.11"
  },
  "coopTranslator": {
   "original_hash": "a86c3ddfbe35024993bbf563588aad48",
   "translation_date": "2025-08-30T16:00:51+00:00",
   "source_file": "05-agentic-rag/code_samples/05-semantic-kernel-azure-ai-agent.ipynb",
   "language_code": "fa"
  }
 },
 "nbformat": 4,
 "nbformat_minor": 2
}