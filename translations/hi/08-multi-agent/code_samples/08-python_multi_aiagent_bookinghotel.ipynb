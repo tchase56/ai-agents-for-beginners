{
 "cells": [
  {
   "cell_type": "markdown",
   "metadata": {},
   "source": [
    "## **नमूने: होटल बुकिंग के लिए मल्टी-एआई एजेंट्स**\n",
    "\n",
    "आज की तेज़-तर्रार दुनिया में, एक व्यवसायिक यात्रा की योजना बनाना केवल फ्लाइट और होटल रूम बुक करने तक सीमित नहीं है। इसमें एक ऐसा समन्वय और दक्षता की आवश्यकता होती है जिसे हासिल करना चुनौतीपूर्ण हो सकता है। यहीं पर मल्टी-एआई एजेंट्स हमारी यात्रा की ज़रूरतों को प्रबंधित करने के तरीके में क्रांति लाते हैं।\n",
    "\n",
    "कल्पना कीजिए कि आपके पास एक टीम है जो बुद्धिमान एजेंट्स से बनी है, जो आपकी यात्रा के हर पहलू को सटीकता और आसानी से संभालने के लिए मिलकर काम करती है। हमारी उन्नत एआई तकनीक के साथ, हमने बुकिंग सेवाओं और यात्रा कार्यक्रम की व्यवस्था के लिए विशेष एजेंट्स बनाए हैं, जो एक सहज और तनाव-मुक्त यात्रा अनुभव सुनिश्चित करते हैं।\n",
    "\n",
    "यह एक बुनियादी परिदृश्य है। जब व्यवसायिक यात्रा की योजना बनाई जाती है, तो हमें एयर टिकट की जानकारी, होटल की जानकारी आदि प्राप्त करने के लिए एक व्यवसायिक यात्रा एजेंट से परामर्श करना पड़ता है। एआई एजेंट्स के माध्यम से, हम बुकिंग सेवाओं के लिए एजेंट्स और यात्रा कार्यक्रम की व्यवस्था के लिए एजेंट्स बना सकते हैं, जो मिलकर काम करते हैं और बुद्धिमत्ता के स्तर को बढ़ाते हैं।\n"
   ]
  },
  {
   "cell_type": "markdown",
   "metadata": {},
   "source": [
    "# Azure AI एजेंट सेवा को प्रारंभ करें और **.env** से कॉन्फ़िगरेशन जानकारी प्राप्त करें\n",
    "\n",
    "### **.env**\n",
    "\n",
    "एक .env फ़ाइल बनाएं\n",
    "\n",
    "**.env** में Azure AI एजेंट सेवा का कनेक्शन स्ट्रिंग, AOAI द्वारा उपयोग किया गया मॉडल, और संबंधित Google API सर्च सेवा API, ENDPOINT आदि शामिल हैं।\n",
    "\n",
    "- **AZURE_AI_AGENT_MODEL_DEPLOYMENT_NAME** = \"आपके Azure AI एजेंट सेवा मॉडल का डिप्लॉयमेंट नाम\"\n",
    "\n",
    "[**NOTE**] आपको 100,000 रेट लिमिट (प्रति मिनट टोकन) और 600 रेट लिमिट (प्रति मिनट अनुरोध) वाले मॉडल की आवश्यकता होगी।\n",
    "\n",
    "  आप Azure AI Foundry - Model और Endpoint में मॉडल प्राप्त कर सकते हैं।\n",
    "\n",
    "- **AZURE_AI_AGENT_PROJECT_CONNECTION_STRING** = \"आपके Azure AI एजेंट सेवा प्रोजेक्ट का कनेक्शन स्ट्रिंग\"\n",
    "\n",
    "  आप AI Foundry पोर्टल स्क्रीन में अपने प्रोजेक्ट के ओवरव्यू में प्रोजेक्ट कनेक्शन स्ट्रिंग प्राप्त कर सकते हैं।\n",
    "\n",
    "- **SERPAPI_SEARCH_API_KEY** = \"आपका SERPAPI सर्च API KEY\"\n",
    "- **SERPAPI_SEARCH_ENDPOINT** = \"आपका SERPAPI सर्च ENDPOINT\"\n",
    "\n",
    "Azure AI एजेंट सेवा के मॉडल डिप्लॉयमेंट नाम और प्रोजेक्ट कनेक्शन स्ट्रिंग प्राप्त करने के लिए, आपको Azure AI एजेंट सेवा बनानी होगी। इसे सीधे बनाने के लिए [इस टेम्पलेट](https://portal.azure.com/#create/Microsoft.Template/uri/https%3A%2F%2Fraw.githubusercontent.com%2Ffosteramanda%2Fazure-agent-quickstart-templates%2Frefs%2Fheads%2Fmaster%2Fquickstarts%2Fmicrosoft.azure-ai-agent-service%2Fstandard-agent%2Fazuredeploy.json) का उपयोग करने की सिफारिश की जाती है। （***नोट:*** Azure AI एजेंट सेवा वर्तमान में सीमित क्षेत्र में सेट है। यह अनुशंसा की जाती है कि आप क्षेत्र सेट करने के लिए [इस लिंक](https://learn.microsoft.com/en-us/azure/ai-services/agents/concepts/model-region-support) का संदर्भ लें।)\n",
    "\n",
    "एजेंट को SERPAPI तक पहुंचने की आवश्यकता होती है। [इस लिंक](https://serpapi.com/searches) का उपयोग करके पंजीकरण करने की सिफारिश की जाती है। पंजीकरण के बाद, आप एक अद्वितीय API KEY और ENDPOINT प्राप्त कर सकते हैं।\n"
   ]
  },
  {
   "cell_type": "markdown",
   "metadata": {},
   "source": [
    "# Azure में लॉगिन करें\n",
    "\n",
    "अब आपको Azure में लॉगिन करना होगा। VScode में एक टर्मिनल खोलें और `az login` कमांड चलाएं।\n"
   ]
  },
  {
   "cell_type": "markdown",
   "metadata": {},
   "source": [
    "# सेटअप\n",
    "\n",
    "इस नोटबुक को चलाने के लिए, आपको निम्नलिखित लाइब्रेरीज़ इंस्टॉल करनी होंगी। यहाँ आवश्यक लाइब्रेरीज़ और उनके संबंधित pip इंस्टॉल कमांड की सूची दी गई है:\n",
    "\n",
    "azure-identity: Azure प्रमाणीकरण के लिए।  \n",
    "requests: HTTP अनुरोध करने के लिए।  \n",
    "semantic-kernel: सेमांटिक कर्नेल फ्रेमवर्क के लिए (मानते हुए कि यह एक कस्टम या विशिष्ट लाइब्रेरी है, आपको इसे किसी विशेष स्रोत या रिपॉजिटरी से इंस्टॉल करना पड़ सकता है)।  \n"
   ]
  },
  {
   "cell_type": "code",
   "execution_count": null,
   "metadata": {},
   "outputs": [],
   "source": [
    "!pip install azure-identity\n",
    "!pip install requests\n",
    "!pip install semantic-kernel\n",
    "!pip install --upgrade semantic_kernel\n",
    "!pip install azure-cli"
   ]
  },
  {
   "cell_type": "markdown",
   "metadata": {},
   "source": [
    "# व्याख्या:  \n",
    "import asyncio: यह asyncio मॉड्यूल को इम्पोर्ट करता है, जो पायथन में असिंक्रोनस प्रोग्रामिंग के लिए सपोर्ट प्रदान करता है। यह आपको async और await सिंटैक्स का उपयोग करके समवर्ती कोड लिखने की अनुमति देता है।  \n",
    "from typing import Annotated: यह typing मॉड्यूल से Annotated टाइप को इम्पोर्ट करता है। Annotated का उपयोग टाइप हिंट्स में मेटाडेटा जोड़ने के लिए किया जाता है, जो विभिन्न उद्देश्यों जैसे कि वैलिडेशन, डॉक्यूमेंटेशन, या टूलिंग के लिए उपयोगी हो सकता है।  \n"
   ]
  },
  {
   "cell_type": "code",
   "execution_count": null,
   "metadata": {
    "dotnet_interactive": {
     "language": "csharp"
    },
    "polyglot_notebook": {
     "kernelName": "csharp"
    }
   },
   "outputs": [],
   "source": [
    "import asyncio,os\n",
    "from typing import Annotated"
   ]
  },
  {
   "cell_type": "markdown",
   "metadata": {},
   "source": [
    "# व्याख्या:\n",
    "from dotenv import load_dotenv और load_dotenv() का उपयोग करके, आप .env फ़ाइल में कॉन्फ़िगरेशन सेटिंग्स और संवेदनशील जानकारी (जैसे API कुंजी और डेटाबेस URLs) को आसानी से प्रबंधित कर सकते हैं। यह जानकारी आपके सोर्स कोड से अलग रहती है, जिससे आपका एप्लिकेशन अधिक सुरक्षित और कॉन्फ़िगर करने में आसान बनता है।\n"
   ]
  },
  {
   "cell_type": "code",
   "execution_count": null,
   "metadata": {},
   "outputs": [],
   "source": [
    "import os\n",
    "from dotenv import load_dotenv\n",
    "\n",
    "# Load environment variables from .env file\n",
    "load_dotenv()"
   ]
  },
  {
   "cell_type": "markdown",
   "metadata": {},
   "source": [
    "# व्याख्या:\n",
    "\n",
    "Import Statement: from azure.identity.aio import DefaultAzureCredential: यह azure.identity.aio मॉड्यूल से DefaultAzureCredential क्लास को इम्पोर्ट करता है। मॉड्यूल नाम में \"aio\" यह दर्शाता है कि इसे असिंक्रोनस ऑपरेशन्स के लिए डिज़ाइन किया गया है।\n",
    "\n",
    "DefaultAzureCredential का उद्देश्य: DefaultAzureCredential क्लास Azure SDK for Python का हिस्सा है। यह Azure सेवाओं के साथ प्रमाणित (authenticate) करने का एक डिफ़ॉल्ट तरीका प्रदान करता है। यह एक विशिष्ट क्रम में कई तरीकों का उपयोग करके प्रमाणित करने का प्रयास करता है, जैसे पर्यावरण वेरिएबल्स (environment variables), मैनेज्ड आइडेंटिटी (managed identity), और Azure CLI क्रेडेंशियल्स।\n",
    "\n",
    "असिंक्रोनस ऑपरेशन्स: \"aio\" मॉड्यूल यह दर्शाता है कि DefaultAzureCredential क्लास असिंक्रोनस ऑपरेशन्स को सपोर्ट करता है। इसका मतलब है कि आप इसे asyncio के साथ उपयोग कर सकते हैं ताकि नॉन-ब्लॉकिंग प्रमाणन अनुरोध (authentication requests) किए जा सकें।\n"
   ]
  },
  {
   "cell_type": "code",
   "execution_count": null,
   "metadata": {
    "dotnet_interactive": {
     "language": "csharp"
    },
    "polyglot_notebook": {
     "kernelName": "csharp"
    }
   },
   "outputs": [],
   "source": [
    "from azure.identity.aio import DefaultAzureCredential"
   ]
  },
  {
   "cell_type": "markdown",
   "metadata": {},
   "source": [
    "# व्याख्या:\n",
    "`semantic_kernel` पैकेज से विभिन्न मॉड्यूल और क्लासेस को इम्पोर्ट करता है। यहाँ प्रत्येक इम्पोर्ट का विवरण दिया गया है:\n",
    "\n",
    "`AgentGroupChat` (`semantic_kernel.agents` से): यह क्लास AI एजेंट्स के लिए ग्रुप चैट से संबंधित कार्यक्षमताओं को संभालती है।  \n",
    "`AzureAIAgent` और `AzureAIAgentSettings` (`semantic_kernel.agents.azure_ai` से):  \n",
    "- `AzureAIAgent`: यह क्लास Azure AI सेवाओं का उपयोग करने वाले AI एजेंट्स को बनाने और प्रबंधित करने के लिए उपयोग की जाती है।  \n",
    "- `AzureAIAgentSettings`: यह क्लास `AzureAIAgent` के लिए सेटिंग्स को कॉन्फ़िगर करने के लिए उपयोग की जाती है।  \n",
    "\n",
    "`TerminationStrategy` (`semantic_kernel.agents.strategies.termination.termination_strategy` से):  \n",
    "यह क्लास AI एजेंट्स के निष्पादन को कुछ विशेष परिस्थितियों में समाप्त करने की रणनीतियों को परिभाषित करती है।  \n",
    "\n",
    "`ChatMessageContent` (`semantic_kernel.contents.chat_message_content` से):  \n",
    "यह क्लास चैट संदेशों की सामग्री को संभालने के लिए उपयोग की जाती है।  \n",
    "\n",
    "`AuthorRole` (`semantic_kernel.contents.utils.author_role` से):  \n",
    "यह क्लास चैट संदेशों के संदर्भ में लेखकों के विभिन्न भूमिकाओं को परिभाषित करती है।  \n",
    "\n",
    "`kernel_function` (`semantic_kernel.functions.kernel_function_decorator` से):  \n",
    "यह डेकोरेटर कर्नेल फंक्शन्स को परिभाषित करने के लिए उपयोग किया जाता है, जो `semantic_kernel` फ्रेमवर्क के भीतर निष्पादित किए जा सकते हैं।  \n",
    "\n",
    "ये इम्पोर्ट्स AI एजेंट्स को बनाने और प्रबंधित करने के लिए आवश्यक घटकों को सेटअप करते हैं, जो ग्रुप चैट वातावरण में बातचीत कर सकते हैं। संभवतः ये एजेंट्स होटल बुकिंग या इसी तरह की गतिविधियों के लिए उपयोग किए जा सकते हैं।\n"
   ]
  },
  {
   "cell_type": "code",
   "execution_count": null,
   "metadata": {
    "dotnet_interactive": {
     "language": "csharp"
    },
    "polyglot_notebook": {
     "kernelName": "csharp"
    }
   },
   "outputs": [],
   "source": [
    "from semantic_kernel.agents import AgentGroupChat\n",
    "from semantic_kernel.agents import AzureAIAgent, AzureAIAgentSettings\n",
    "from semantic_kernel.agents.strategies.termination.termination_strategy import TerminationStrategy\n",
    "from semantic_kernel.contents import ChatMessageContent\n",
    "from semantic_kernel.contents import AuthorRole\n",
    "from semantic_kernel.functions.kernel_function_decorator import kernel_function"
   ]
  },
  {
   "cell_type": "markdown",
   "metadata": {},
   "source": [
    "# व्याख्या:\n",
    "अब हम azure.ai.projects.models मॉड्यूल से CodeInterpreterTool क्लास को इंपोर्ट करते हैं।\n",
    "\n",
    "CodeInterpreterTool: यह क्लास Azure AI SDK का हिस्सा है और इसे AI प्रोजेक्ट्स के संदर्भ में कोड को समझने और निष्पादित करने के लिए उपयोग किया जाता है। यह कोड स्निपेट्स चलाने, कोड का विश्लेषण करने, या AI वर्कफ़्लो में कोड निष्पादन को एकीकृत करने की सुविधाएँ प्रदान करता है।  \n",
    "यह इंपोर्ट आपके प्रोजेक्ट में CodeInterpreterTool का उपयोग करने के लिए आवश्यक घटक को सेट करता है, जो उन कार्यों के लिए उपयोगी हो सकता है जिनमें कोड को डायनामिक रूप से समझना और निष्पादित करना शामिल है।\n"
   ]
  },
  {
   "cell_type": "code",
   "execution_count": null,
   "metadata": {
    "dotnet_interactive": {
     "language": "csharp"
    },
    "polyglot_notebook": {
     "kernelName": "csharp"
    }
   },
   "outputs": [],
   "source": [
    "from azure.ai.projects.models import CodeInterpreterTool"
   ]
  },
  {
   "cell_type": "markdown",
   "metadata": {},
   "source": [
    "# व्याख्या: \n",
    "ApprovalTerminationStrategy क्लास एक विशेष रणनीति प्रदान करता है जो AI एजेंट के संचालन को समाप्त करने के लिए उपयोग की जाती है। एजेंट तब समाप्त होगा जब उसकी इंटरैक्शन हिस्ट्री में अंतिम संदेश में \"saved\" शब्द शामिल होगा। यह उन परिस्थितियों में उपयोगी हो सकता है जहां एजेंट का कार्य पूरा माना जाता है जब उसे पुष्टि मिलती है कि कुछ \"saved\" हो गया है। इंटरैक्शन विधि को परिभाषित करें। जब आरक्षण योजना को सेव कर लिया जाता है, तो इसे सेव सिग्नल प्राप्त होने पर रोका जा सकता है।\n"
   ]
  },
  {
   "cell_type": "code",
   "execution_count": null,
   "metadata": {
    "dotnet_interactive": {
     "language": "csharp"
    },
    "polyglot_notebook": {
     "kernelName": "csharp"
    }
   },
   "outputs": [],
   "source": [
    "class ApprovalTerminationStrategy(TerminationStrategy):\n",
    "    \"\"\"A strategy for determining when an agent should terminate.\"\"\"\n",
    "\n",
    "    async def should_agent_terminate(self, agent, history):\n",
    "        \"\"\"Check if the agent should terminate.\"\"\"\n",
    "        return \"saved\" in history[-1].content.lower()"
   ]
  },
  {
   "cell_type": "markdown",
   "metadata": {},
   "source": [
    "# व्याख्या:\n",
    "\n",
    "यह कोड लाइन AzureAIAgentSettings ऑब्जेक्ट को डिफ़ॉल्ट या पूर्वनिर्धारित सेटिंग्स के साथ प्रारंभ करती है, जिसे create() मेथड को कॉल करके किया जाता है। यह सेटिंग्स ऑब्जेक्ट (ai_agent_settings) बाद में AzureAIAgent इंस्टेंस को कॉन्फ़िगर और प्रबंधित करने के लिए उपयोग किया जा सकता है।\n"
   ]
  },
  {
   "cell_type": "code",
   "execution_count": null,
   "metadata": {
    "dotnet_interactive": {
     "language": "csharp"
    },
    "polyglot_notebook": {
     "kernelName": "csharp"
    }
   },
   "outputs": [],
   "source": [
    "ai_agent_settings = AzureAIAgentSettings.create()"
   ]
  },
  {
   "cell_type": "markdown",
   "metadata": {},
   "source": [
    "# व्याख्या:\n",
    "requests लाइब्रेरी को आयात करके, आप आसानी से HTTP अनुरोध कर सकते हैं और अपने Python कोड में वेब सेवाओं के साथ इंटरैक्ट कर सकते हैं।\n"
   ]
  },
  {
   "cell_type": "code",
   "execution_count": null,
   "metadata": {
    "dotnet_interactive": {
     "language": "csharp"
    },
    "polyglot_notebook": {
     "kernelName": "csharp"
    }
   },
   "outputs": [],
   "source": [
    "import requests"
   ]
  },
  {
   "cell_type": "markdown",
   "metadata": {},
   "source": [
    "# व्याख्या:\n",
    "यह एक वेरिएबल है जो SERP (सर्च इंजन रिजल्ट पेज) API सेवा तक पहुंचने के लिए API कुंजी को संग्रहीत करता है। API कुंजी एक अद्वितीय पहचानकर्ता है जिसका उपयोग आपके खाते से संबंधित अनुरोधों को प्रमाणित करने के लिए किया जाता है।\n",
    "\n",
    "'GOOGLE_SEARCH_API_KEY': यह एक प्लेसहोल्डर स्ट्रिंग है। आपको ''GOOGLE_SEARCH_API_KEY'' को अपनी वास्तविक SERP API कुंजी से बदलना होगा।\n",
    "\n",
    "उद्देश्य: इस लाइन का उद्देश्य API कुंजी को एक वेरिएबल में संग्रहीत करना है ताकि इसे SERP API सेवा के अनुरोधों को प्रमाणित करने के लिए उपयोग किया जा सके। सेवा तक पहुंचने और खोज करने के लिए API कुंजी आवश्यक है।\n",
    "\n",
    "SERP API कुंजी कैसे प्राप्त करें: SERP API कुंजी प्राप्त करने के लिए, https://serpapi.com पर निम्नलिखित सामान्य चरणों का पालन करें (विशिष्ट SERP API सेवा के आधार पर चरण भिन्न हो सकते हैं):\n",
    "\n",
    "SERP API सेवा चुनें: कई SERP API सेवाएं उपलब्ध हैं, जैसे SerpAPI, Google Custom Search JSON API, और अन्य। अपनी आवश्यकताओं के अनुसार सबसे उपयुक्त सेवा चुनें।\n",
    "\n",
    "खाते के लिए साइन अप करें:\n",
    "\n",
    "चुनी गई SERP API सेवा की वेबसाइट https://www.serpapi.com पर जाएं और एक खाते के लिए साइन अप करें। आपको कुछ बुनियादी जानकारी प्रदान करनी पड़ सकती है और अपना ईमेल पता सत्यापित करना पड़ सकता है।\n",
    "\n",
    "API कुंजी बनाएं:\n",
    "\n",
    "साइन अप करने के बाद, अपने खाते में लॉग इन करें और API सेक्शन या डैशबोर्ड पर जाएं। एक नई API कुंजी बनाने या उत्पन्न करने का विकल्प खोजें।\n",
    "API कुंजी कॉपी करें:\n",
    "\n",
    "एक बार API कुंजी उत्पन्न हो जाने के बाद, इसे कॉपी करें। इस कुंजी का उपयोग SERP API सेवा के अनुरोधों को प्रमाणित करने के लिए किया जाएगा।\n",
    "प्लेसहोल्डर बदलें:\n",
    "\n",
    "अपने .env फ़ाइल में प्लेसहोल्डर को बदलें।\n"
   ]
  },
  {
   "cell_type": "code",
   "execution_count": null,
   "metadata": {
    "dotnet_interactive": {
     "language": "csharp"
    },
    "polyglot_notebook": {
     "kernelName": "csharp"
    }
   },
   "outputs": [],
   "source": [
    "SERPAPI_SEARCH_API_KEY=os.getenv('SERPAPI_SEARCH_API_KEY')"
   ]
  },
  {
   "cell_type": "code",
   "execution_count": null,
   "metadata": {
    "dotnet_interactive": {
     "language": "csharp"
    },
    "polyglot_notebook": {
     "kernelName": "csharp"
    }
   },
   "outputs": [],
   "source": [
    "SERPAPI_SEARCH_ENDPOINT = os.getenv('SERPAPI_SEARCH_ENDPOINT')"
   ]
  },
  {
   "cell_type": "markdown",
   "metadata": {},
   "source": [
    "# व्याख्या:\n",
    "BookingPlugin क्लास होटल और फ्लाइट बुक करने के लिए Serpapi.com Google Search API का उपयोग करने वाले तरीकों को प्रदान करता है। यह आवश्यक पैरामीटर तैयार करता है, API अनुरोध भेजता है, और प्रतिक्रियाओं को संसाधित करके संबंधित बुकिंग जानकारी लौटाता है। API कुंजी (SERPAPI_SEARCH_API_KEY) और एंडपॉइंट (SERPAPI_SEARCH_ENDPOINT) का उपयोग Google Search API के साथ प्रमाणित करने और अनुरोध भेजने के लिए किया जाता है।\n"
   ]
  },
  {
   "cell_type": "code",
   "execution_count": null,
   "metadata": {
    "dotnet_interactive": {
     "language": "csharp"
    },
    "polyglot_notebook": {
     "kernelName": "csharp"
    }
   },
   "outputs": [],
   "source": [
    "# Define Booking Plugin\n",
    "class BookingPlugin:\n",
    "    \"\"\"Booking Plugin for customers\"\"\"\n",
    "    @kernel_function(description=\"booking hotel\")\n",
    "    def booking_hotel(self,query: Annotated[str, \"The name of the city\"], check_in_date: Annotated[str, \"Hotel Check-in Time\"], check_out_date: Annotated[str, \"Hotel Check-in Time\"])-> Annotated[str, \"Return the result of booking hotel infomation\"]:\n",
    "\n",
    "        params = {\n",
    "            \"engine\": \"google_hotels\",\n",
    "            \"q\": query,\n",
    "            \"check_in_date\": check_in_date,\n",
    "            \"check_out_date\": check_out_date,\n",
    "            \"adults\": \"2\",\n",
    "            \"currency\": \"USD\",\n",
    "            \"gl\": \"us\",\n",
    "            \"hl\": \"en\",\n",
    "            \"api_key\": SERPAPI_SEARCH_API_KEY\n",
    "        }\n",
    "\n",
    "        response = requests.get(SERPAPI_SEARCH_ENDPOINT, params=params)\n",
    "        if response.status_code == 200:\n",
    "            response = response.json()\n",
    "            return response[\"properties\"]\n",
    "        else:\n",
    "            return None\n",
    "\n",
    "    \n",
    "    @kernel_function(description=\"booking fight\")\n",
    "    def  booking_fight(self,origin: Annotated[str, \"The name of Departure\"], destination: Annotated[str, \"The name of Destination\"], outbound_date: Annotated[str, \"The date of outbound\"], return_date: Annotated[str, \"The date of Return_date\"])-> Annotated[str, \"Return the result of booking fight infomation\"]:\n",
    "        \n",
    "        go_params = {\n",
    "            \"engine\": \"google_flights\",   \n",
    "            \"departure_id\": origin,\n",
    "            \"arrival_id\": destination,\n",
    "            \"outbound_date\": outbound_date,\n",
    "            \"return_date\": return_date,  \n",
    "            \"currency\": \"USD\",\n",
    "            \"hl\": \"en\",\n",
    "            \"api_key\": SERPAPI_SEARCH_API_KEY  \n",
    "        }\n",
    "\n",
    "        print(go_params)\n",
    "\n",
    "        go_response = requests.get(SERPAPI_SEARCH_ENDPOINT, params=go_params)\n",
    "\n",
    "\n",
    "        result = ''\n",
    "\n",
    "        if go_response.status_code == 200:\n",
    "            response = go_response.json()\n",
    "\n",
    "            result += \"# outbound \\n \" + str(response)\n",
    "        else:\n",
    "            print('error!!!')\n",
    "            # return None\n",
    "\n",
    "        \n",
    "        back_params = {\n",
    "            \"engine\": \"google_flights\",   \n",
    "            \"departure_id\": destination,\n",
    "            \"arrival_id\": origin,\n",
    "            \"outbound_date\": return_date,\n",
    "            \"return_date\": return_date,  \n",
    "            \"currency\": \"USD\",\n",
    "            \"hl\": \"en\",\n",
    "            \"api_key\": SERPAPI_SEARCH_API_KEY  \n",
    "        }\n",
    "\n",
    "\n",
    "        print(back_params)\n",
    "\n",
    "\n",
    "        back_response = requests.get(SERPAPI_SEARCH_ENDPOINT, params=back_params)\n",
    "\n",
    "\n",
    "\n",
    "        if back_response.status_code == 200:\n",
    "            response = back_response.json()\n",
    "\n",
    "            result += \"\\n # return \\n\"  + str(response)\n",
    "\n",
    "        else:\n",
    "            print('error!!!')\n",
    "            # return None\n",
    "        \n",
    "        print(result)\n",
    "\n",
    "        return result\n",
    "\n",
    "        \n"
   ]
  },
  {
   "cell_type": "markdown",
   "metadata": {},
   "source": [
    "# व्याख्या:\n",
    "SavePlugin क्लास एक विधि saving_plan प्रदान करता है जो Azure AI सेवाओं का उपयोग करके यात्रा योजनाओं को सहेजता है। यह Azure क्रेडेंशियल्स सेट करता है, एक AI एजेंट बनाता है, उपयोगकर्ता इनपुट को संसाधित करता है ताकि यात्रा योजना की सामग्री उत्पन्न और सहेजी जा सके, और फाइल सहेजने और सफाई संचालन को संभालता है। विधि सफलतापूर्वक पूरा होने पर \"Saved\" लौटाती है।\n"
   ]
  },
  {
   "cell_type": "code",
   "execution_count": null,
   "metadata": {
    "dotnet_interactive": {
     "language": "csharp"
    },
    "polyglot_notebook": {
     "kernelName": "csharp"
    }
   },
   "outputs": [],
   "source": [
    "class SavePlugin:\n",
    "    \"\"\"Save Plugin for customers\"\"\"\n",
    "    @kernel_function(description=\"saving plan\")\n",
    "    async def saving_plan(self,tripplan: Annotated[str, \"The content of trip plan\"])-> Annotated[str, \"Return status of save content\"]:\n",
    "\n",
    "        async with (\n",
    "            DefaultAzureCredential() as creds,\n",
    "            AzureAIAgent.create_client(\n",
    "                credential=creds,\n",
    "                conn_str=ai_agent_settings.project_connection_string.get_secret_value(),\n",
    "            ) as client,\n",
    "        ):\n",
    "\n",
    "            code_interpreter = CodeInterpreterTool()\n",
    "            \n",
    "            agent_definition = await client.agents.create_agent(\n",
    "                model=ai_agent_settings.model_deployment_name,\n",
    "                tools=code_interpreter.definitions,\n",
    "                tool_resources=code_interpreter.resources,\n",
    "            )\n",
    "\n",
    "\n",
    "            agent = AzureAIAgent(\n",
    "                client=client,\n",
    "                definition=agent_definition,\n",
    "            )\n",
    "\n",
    "            thread = await client.agents.create_thread()\n",
    "\n",
    "\n",
    "            user_inputs = [\n",
    "                \"\"\"\n",
    "            \n",
    "                        You are my Python programming assistant. Generate code,save \"\"\"+ tripplan +\n",
    "                        \n",
    "                    \"\"\"    \n",
    "                        and execute it according to the following requirements\n",
    "\n",
    "                        1. Save blog content to trip-{YYMMDDHHMMSS}.md\n",
    "\n",
    "                        2. give me the download this file link\n",
    "                    \"\"\"\n",
    "            ]\n",
    "\n",
    "\n",
    "\n",
    "            try:\n",
    "                for user_input in user_inputs:\n",
    "                    # Add the user input as a chat message\n",
    "                    await agent.add_chat_message(\n",
    "                        thread_id=thread.id, message=ChatMessageContent(role=AuthorRole.USER, content=user_input)\n",
    "                    )\n",
    "                    print(f\"# User: '{user_input}'\")\n",
    "                    # Invoke the agent for the specified thread\n",
    "                    async for content in agent.invoke(thread_id=thread.id):\n",
    "                        if content.role != AuthorRole.TOOL:\n",
    "                            print(f\"# Agent: {content.content}\")\n",
    "\n",
    "                    \n",
    "                    messages = await client.agents.list_messages(thread_id=thread.id)\n",
    "\n",
    "                    # OpenAIPageableListOfThreadMessage\n",
    "                    # OpenAIPageableListOfThreadMessage\n",
    "\n",
    "\n",
    "                    for file_path_annotation in messages.file_path_annotations:\n",
    "\n",
    "                            file_name = os.path.basename(file_path_annotation.text)\n",
    "\n",
    "                            await client.agents.save_file(file_id=file_path_annotation.file_path.file_id, file_name=file_name,target_dir=\"./trip\")\n",
    "\n",
    "                    \n",
    "            finally:\n",
    "                await client.agents.delete_thread(thread.id)\n",
    "                await client.agents.delete_agent(agent.id)\n",
    "\n",
    "\n",
    "        return \"Saved\""
   ]
  },
  {
   "cell_type": "markdown",
   "metadata": {},
   "source": [
    "# व्याख्या:\n",
    "यह कोड Azure AI एजेंट्स को सेट करता है ताकि वे उड़ानों और होटलों की बुकिंग संभाल सकें और उपयोगकर्ता इनपुट के आधार पर यात्रा योजनाओं को सहेज सकें। यह Azure क्रेडेंशियल्स का उपयोग करके एजेंट्स को बनाने और कॉन्फ़िगर करने का काम करता है, उपयोगकर्ता इनपुट को एक ग्रुप चैट के माध्यम से प्रोसेस करता है, और कार्य पूरे होने के बाद उचित सफाई सुनिश्चित करता है। एजेंट्स अपने-अपने कार्यों को पूरा करने के लिए विशिष्ट प्लगइन्स (BookingPlugin और SavePlugin) का उपयोग करते हैं।\n"
   ]
  },
  {
   "cell_type": "code",
   "execution_count": null,
   "metadata": {
    "dotnet_interactive": {
     "language": "csharp"
    },
    "polyglot_notebook": {
     "kernelName": "csharp"
    }
   },
   "outputs": [],
   "source": [
    "async with (\n",
    "    DefaultAzureCredential() as creds,\n",
    "    AzureAIAgent.create_client(\n",
    "        credential=creds,\n",
    "        conn_str=ai_agent_settings.project_connection_string.get_secret_value(),\n",
    "    ) as client,\n",
    "):\n",
    "    BOOKING_AGENT_NAME = \"BookingAgent\"\n",
    "    BOOKING_AGENT_INSTRUCTIONS = \"\"\"\n",
    "    You are a booking agent. Help me book flights or hotels.\n",
    "\n",
    "    Thought: Please understand the user's intention and confirm whether to use the reservation system to complete the task.\n",
    "\n",
    "    Actions:\n",
    "    - For flight bookings, convert the departure and destination names into airport codes.\n",
    "    - Use the appropriate API for hotel or flight bookings. Verify that all necessary parameters are available. If any parameters are missing, ask the user to provide them. If all parameters are complete, call the corresponding function.\n",
    "    - If the task is not related to hotel or flight booking, respond with the final answer only.\n",
    "    - Output the results using a markdown table:\n",
    "      - For flight bookings, output separate outbound and return contents in the order of:\n",
    "        Departure Airport | Airline | Flight Number | Departure Time | Arrival Airport | Arrival Time | Duration | Airplane | Travel Class | Price (USD) | Legroom | Extensions | Carbon Emissions (kg).\n",
    "      - For hotel bookings, output in the order of:\n",
    "        Property Name | Property Description | Check-in Time | Check-out Time | Prices | Nearby Places | Hotel Class | GPS Coordinates.\n",
    "    \"\"\"\n",
    "\n",
    "    SAVE_AGENT_NAME = \"SaveAgent\"\n",
    "    SAVE_AGENT_INSTRUCTIONS = \"\"\"\n",
    "    You are a save tool agent. Help me to save the trip plan.\n",
    "    \"\"\"\n",
    "\n",
    "    # Create agent definition\n",
    "    booking_agent_definition = await client.agents.create_agent(\n",
    "        model=ai_agent_settings.model_deployment_name,\n",
    "        name=BOOKING_AGENT_NAME,\n",
    "        instructions=BOOKING_AGENT_INSTRUCTIONS,\n",
    "    )\n",
    "\n",
    "    # Create the AzureAI Agent\n",
    "    booking_agent = AzureAIAgent(\n",
    "        client=client,\n",
    "        definition=booking_agent_definition,\n",
    "        # Optionally configure polling options\n",
    "        # polling_options=RunPollingOptions(run_polling_interval=timedelta(seconds=1)),\n",
    "    )\n",
    "\n",
    "    # Add the sample plugin to the kernel\n",
    "    booking_agent.kernel.add_plugin(BookingPlugin(), plugin_name=\"booking\")\n",
    "\n",
    "    # Create agent definition\n",
    "    save_agent_definition = await client.agents.create_agent(\n",
    "        model=ai_agent_settings.model_deployment_name,\n",
    "        name=SAVE_AGENT_NAME,\n",
    "        instructions=SAVE_AGENT_INSTRUCTIONS\n",
    "    )\n",
    "\n",
    "    # Create the AzureAI Agent\n",
    "    save_agent = AzureAIAgent(\n",
    "        client=client,\n",
    "        definition=save_agent_definition,\n",
    "    )\n",
    "\n",
    "    save_agent.kernel.add_plugin(SavePlugin(), plugin_name=\"saving\")\n",
    "\n",
    "    user_inputs = [\n",
    "        \"I have a business trip from London to New York in Feb 20 2025 to Feb 27 2025 ,help me to book a hotel and fight tickets and save it\"\n",
    "    ]\n",
    "\n",
    "    chat = AgentGroupChat(\n",
    "        agents=[booking_agent, save_agent],\n",
    "        termination_strategy=ApprovalTerminationStrategy(agents=[save_agent], maximum_iterations=10),\n",
    "    )\n",
    "\n",
    "    try:\n",
    "        for user_input in user_inputs:\n",
    "            # Add the user input as a chat message\n",
    "            await chat.add_chat_message(\n",
    "                ChatMessageContent(role=AuthorRole.USER, content=user_input)\n",
    "            )\n",
    "            print(f\"# User: '{user_input}'\")\n",
    "\n",
    "            async for content in chat.invoke():\n",
    "                print(f\"# {content.role} - {content.name or '*'}: '{content.content}'\")\n",
    "\n",
    "            print(f\"# IS COMPLETE: {chat.is_complete}\")\n",
    "\n",
    "            print(\"*\" * 60)\n",
    "            print(\"Chat History (In Descending Order):\\n\")\n",
    "            async for message in chat.get_chat_messages(agent=save_agent):\n",
    "                print(f\"# {message.role} - {message.name or '*'}: '{message.content}'\")\n",
    "    finally:\n",
    "        await chat.reset()\n",
    "        await client.agents.delete_agent(save_agent.id)\n",
    "        await client.agents.delete_agent(booking_agent.id)\n"
   ]
  },
  {
   "cell_type": "markdown",
   "metadata": {},
   "source": [
    "\n---\n\n**अस्वीकरण**:  \nयह दस्तावेज़ AI अनुवाद सेवा [Co-op Translator](https://github.com/Azure/co-op-translator) का उपयोग करके अनुवादित किया गया है। जबकि हम सटीकता सुनिश्चित करने का प्रयास करते हैं, कृपया ध्यान दें कि स्वचालित अनुवाद में त्रुटियां या अशुद्धियां हो सकती हैं। मूल भाषा में उपलब्ध मूल दस्तावेज़ को प्रामाणिक स्रोत माना जाना चाहिए। महत्वपूर्ण जानकारी के लिए, पेशेवर मानव अनुवाद की सिफारिश की जाती है। इस अनुवाद के उपयोग से उत्पन्न किसी भी गलतफहमी या गलत व्याख्या के लिए हम जिम्मेदार नहीं हैं।\n"
   ]
  }
 ],
 "metadata": {
  "kernelspec": {
   "display_name": "3.12.1",
   "language": "python",
   "name": "python3"
  },
  "language_info": {
   "codemirror_mode": {
    "name": "ipython",
    "version": 3
   },
   "file_extension": ".py",
   "mimetype": "text/x-python",
   "name": "python",
   "nbconvert_exporter": "python",
   "pygments_lexer": "ipython3",
   "version": "3.12.1"
  },
  "polyglot_notebook": {
   "kernelInfo": {
    "defaultKernelName": "csharp",
    "items": [
     {
      "aliases": [],
      "name": "csharp"
     }
    ]
   }
  },
  "coopTranslator": {
   "original_hash": "1baa60020a95eda27b7e9ecfda99965b",
   "translation_date": "2025-08-30T15:39:42+00:00",
   "source_file": "08-multi-agent/code_samples/08-python_multi_aiagent_bookinghotel.ipynb",
   "language_code": "hi"
  }
 },
 "nbformat": 4,
 "nbformat_minor": 2
}