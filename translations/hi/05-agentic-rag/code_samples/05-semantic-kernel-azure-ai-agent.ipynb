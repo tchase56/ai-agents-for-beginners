{
 "cells": [
  {
   "cell_type": "markdown",
   "metadata": {},
   "source": [
    "# Azure AI एजेंट सेवा और सेमांटिक कोर का उपयोग करके RAG\n",
    "\n",
    "यह कोड स्निपेट दिखाता है कि `Azure AI एजेंट सेवा` और `सेमांटिक कोर` का उपयोग करके रिट्रीवल-ऑगमेंटेड जनरेशन (RAG) के लिए एक Azure AI एजेंट कैसे बनाया और प्रबंधित किया जाए। यह एजेंट प्राप्त संदर्भ के आधार पर उपयोगकर्ता के प्रश्नों को प्रोसेस करता है और तदनुसार सटीक उत्तर प्रदान करता है।\n"
   ]
  },
  {
   "cell_type": "markdown",
   "metadata": {},
   "source": []
  },
  {
   "cell_type": "markdown",
   "metadata": {},
   "source": [
    "SQLite संस्करण सुधार  \n",
    "यदि आपको यह त्रुटि मिले:  \n",
    "```\n",
    "RuntimeError: Your system has an unsupported version of sqlite3. Chroma requires sqlite3 >= 3.35.0\n",
    "```  \n",
    "\n",
    "अपने नोटबुक की शुरुआत में इस कोड ब्लॉक को अनकमेंट करें:  \n"
   ]
  },
  {
   "cell_type": "code",
   "execution_count": null,
   "metadata": {},
   "outputs": [],
   "source": [
    "# %pip install pysqlite3-binary\n",
    "# __import__('pysqlite3')\n",
    "# import sys\n",
    "# sys.modules['sqlite3'] = sys.modules.pop('pysqlite3')"
   ]
  },
  {
   "cell_type": "markdown",
   "metadata": {},
   "source": [
    "### पैकेज आयात करना  \n",
    "निम्नलिखित कोड आवश्यक पैकेज आयात करता है:  \n"
   ]
  },
  {
   "cell_type": "code",
   "execution_count": null,
   "metadata": {},
   "outputs": [],
   "source": [
    "# Azure imports for project client and credentials\n",
    "from azure.ai.projects.models import FileSearchTool, OpenAIFile, VectorStore\n",
    "from azure.identity.aio import DefaultAzureCredential\n",
    "\n",
    "# Semantic Kernel imports\n",
    "from semantic_kernel.agents import AzureAIAgent, AzureAIAgentThread"
   ]
  },
  {
   "cell_type": "markdown",
   "metadata": {},
   "source": [
    "# सेमांटिक कर्नेल और Azure AI एजेंट सेवा के साथ रिट्रीवल-अग्मेंटेड जनरेशन\n",
    "\n",
    "यह उदाहरण दिखाता है कि **Azure AI एजेंट सेवा** का उपयोग करके **रिट्रीवल-अग्मेंटेड जनरेशन (RAG)** कैसे किया जा सकता है, जिसमें एक भाषा मॉडल को अपलोड किए गए दस्तावेज़ से डोमेन-विशिष्ट संदर्भ के साथ जोड़ा जाता है।\n",
    "\n",
    "### यह कैसे काम करता है\n",
    "\n",
    "1. **दस्तावेज़ अपलोड**: एक मार्कडाउन फ़ाइल (document.md) जिसमें जानकारी (Contoso की यात्रा बीमा नीति) होती है, एजेंट सेवा में अपलोड की जाती है।\n",
    "\n",
    "2. **वेक्टर स्टोर निर्माण**: दस्तावेज़ को वेक्टर स्टोर में इंडेक्स किया जाता है ताकि उसकी सामग्री पर सेमांटिक सर्च की जा सके।\n",
    "\n",
    "3. **एजेंट कॉन्फ़िगरेशन**: `gpt-4o` मॉडल का उपयोग करके एक एजेंट को निम्नलिखित सख्त निर्देशों के साथ कॉन्फ़िगर किया जाता है:\n",
    "   - केवल दस्तावेज़ से प्राप्त सामग्री के आधार पर प्रश्नों का उत्तर दें।\n",
    "   - यदि प्रश्न दायरे से बाहर है, तो उत्तर देने से मना कर दें।\n",
    "\n",
    "4. **फ़ाइल सर्च टूल इंटीग्रेशन**: `FileSearchTool` को एजेंट के साथ पंजीकृत किया जाता है, जिससे मॉडल को इनफेरेंस के दौरान इंडेक्स किए गए दस्तावेज़ से प्रासंगिक अंश खोजने और पुनः प्राप्त करने की क्षमता मिलती है।\n",
    "\n",
    "5. **उपयोगकर्ता इंटरैक्शन**: उपयोगकर्ता प्रश्न पूछ सकते हैं। यदि दस्तावेज़ में प्रासंगिक जानकारी मिलती है, तो एजेंट एक आधारित उत्तर उत्पन्न करता है।  \n",
    "   यदि नहीं, तो एजेंट स्पष्ट रूप से जवाब देता है कि दस्तावेज़ में पर्याप्त जानकारी उपलब्ध नहीं है।\n"
   ]
  },
  {
   "cell_type": "markdown",
   "metadata": {},
   "source": [
    "### मुख्य फ़ंक्शन\n",
    "\n",
    "यह मुख्य फ़ंक्शन प्रोग्राम का प्रवेश बिंदु है। यह सुनिश्चित करता है कि सभी आवश्यक घटक सही तरीके से प्रारंभ किए गए हैं।\n",
    "\n",
    "```python\n",
    "def main():\n",
    "    initialize_components()  # सभी घटकों को प्रारंभ करें\n",
    "    run_application()        # एप्लिकेशन चलाएं\n",
    "```\n",
    "\n",
    "### घटकों को प्रारंभ करना\n",
    "\n",
    "यह फ़ंक्शन सभी आवश्यक घटकों को सेटअप करता है ताकि प्रोग्राम सुचारू रूप से चल सके।\n",
    "\n",
    "```python\n",
    "def initialize_components():\n",
    "    load_configuration()  # कॉन्फ़िगरेशन लोड करें\n",
    "    setup_logging()       # लॉगिंग सेटअप करें\n",
    "```\n",
    "\n",
    "### एप्लिकेशन चलाना\n",
    "\n",
    "यह मुख्य एप्लिकेशन को चलाने के लिए जिम्मेदार है।\n",
    "\n",
    "```python\n",
    "def run_application():\n",
    "    while True:\n",
    "        process_user_input()  # उपयोगकर्ता इनपुट को प्रोसेस करें\n",
    "        update_ui()           # यूआई अपडेट करें\n",
    "```\n",
    "\n",
    "### कॉन्फ़िगरेशन लोड करना\n",
    "\n",
    "यह फ़ंक्शन आवश्यक सेटिंग्स और कॉन्फ़िगरेशन को लोड करता है।\n",
    "\n",
    "```python\n",
    "def load_configuration():\n",
    "    config = read_config_file()  # कॉन्फ़िगरेशन फ़ाइल पढ़ें\n",
    "    apply_settings(config)       # सेटिंग्स लागू करें\n",
    "```\n",
    "\n",
    "### लॉगिंग सेटअप करना\n",
    "\n",
    "यह फ़ंक्शन लॉगिंग सिस्टम को प्रारंभ करता है।\n",
    "\n",
    "```python\n",
    "def setup_logging():\n",
    "    initialize_logger()  # लॉगर को प्रारंभ करें\n",
    "    set_log_level(\"DEBUG\")  # लॉग स्तर सेट करें\n",
    "```\n",
    "\n",
    "### उपयोगकर्ता इनपुट को प्रोसेस करना\n",
    "\n",
    "यह फ़ंक्शन उपयोगकर्ता द्वारा प्रदान किए गए इनपुट को संभालता है।\n",
    "\n",
    "```python\n",
    "def process_user_input():\n",
    "    input_data = get_user_input()  # उपयोगकर्ता इनपुट प्राप्त करें\n",
    "    handle_input(input_data)       # इनपुट को संभालें\n",
    "```\n",
    "\n",
    "### यूआई अपडेट करना\n",
    "\n",
    "यह फ़ंक्शन उपयोगकर्ता इंटरफ़ेस को अपडेट करता है।\n",
    "\n",
    "```python\n",
    "def update_ui():\n",
    "    refresh_screen()  # स्क्रीन को रिफ्रेश करें\n",
    "    display_notifications()  # सूचनाएं दिखाएं\n",
    "```\n"
   ]
  },
  {
   "cell_type": "markdown",
   "metadata": {},
   "source": [
    "यह सुनिश्चित करें कि `DefaultAzureCredential` का उपयोग करते समय उचित प्रमाणीकरण संदर्भ प्रदान करने के लिए पहले Azure CLI का उपयोग करके `az login` चलाएँ। Azure AI एजेंट सेवा API कुंजियों का उपयोग नहीं करती है।\n"
   ]
  },
  {
   "cell_type": "code",
   "execution_count": null,
   "metadata": {},
   "outputs": [],
   "source": [
    "async def main():\n",
    "    async with (\n",
    "        DefaultAzureCredential() as creds,\n",
    "        AzureAIAgent.create_client(credential=creds) as client,\n",
    "    ):\n",
    "        file: OpenAIFile = await client.agents.upload_file_and_poll(file_path=\"document.md\", purpose=\"assistants\")\n",
    "        vector_store: VectorStore = await client.agents.create_vector_store_and_poll(\n",
    "            file_ids=[file.id], name=\"my_vectorstore\"\n",
    "        )\n",
    "\n",
    "        # Define agent name and instructions tailored for RAG.\n",
    "        AGENT_NAME = \"RAGAgent\"\n",
    "        AGENT_INSTRUCTIONS = \"\"\"\n",
    "        You are an AI assistant designed to answer user questions using only the information retrieved from the provided document(s).\n",
    "\n",
    "        - If a user's question cannot be answered using the retrieved context, **you must clearly respond**: \n",
    "        \"I'm sorry, but the uploaded document does not contain the necessary information to answer that question.\"\n",
    "        - Do not answer from general knowledge or reasoning. Do not make assumptions or generate hypothetical explanations.\n",
    "        - Do not provide definitions, tutorials, or commentary that is not explicitly grounded in the content of the uploaded file(s).\n",
    "        - If a user asks a question like \"What is a Neural Network?\", and this is not discussed in the uploaded document, respond as instructed above.\n",
    "        - For questions that do have relevant content in the document (e.g., Contoso's travel insurance coverage), respond accurately, and cite the document explicitly.\n",
    "\n",
    "        You must behave as if you have no external knowledge beyond what is retrieved from the uploaded document.\n",
    "        \"\"\"\n",
    "\n",
    "        \n",
    "        # Create file search tool with uploaded resources\n",
    "        file_search = FileSearchTool(vector_store_ids=[vector_store.id])\n",
    "\n",
    "        # 3. Create an agent on the Azure AI agent service with the file search tool\n",
    "        agent_definition = await client.agents.create_agent(\n",
    "            model=\"gpt-4o\",  # This model should match your Azure OpenAI deployment.\n",
    "            name=AGENT_NAME,\n",
    "            instructions=AGENT_INSTRUCTIONS,\n",
    "            tools=file_search.definitions,\n",
    "            tool_resources=file_search.resources,\n",
    "        )\n",
    "        \n",
    "        # Create the Azure AI Agent using the client and definition.\n",
    "        agent = AzureAIAgent(\n",
    "            client=client,\n",
    "            definition=agent_definition,\n",
    "        )\n",
    "        \n",
    "        # Create a thread to hold the conversation\n",
    "        # If no thread is provided, a new thread will be\n",
    "        # created and returned with the initial response\n",
    "        thread: AzureAIAgentThread | None = None\n",
    "        \n",
    "        # Example user queries.\n",
    "        user_inputs = [\n",
    "            \"Can you explain Contoso's travel insurance coverage?\",  # Relevant context.\n",
    "            \"What is a Neural Network?\"  # No relevant context from the document. Will not contain a source annotation.\n",
    "        ]\n",
    "        \n",
    "        try:\n",
    "            for user_input in user_inputs:\n",
    "                print(f\"# User: '{user_input}'\")\n",
    "                # Invoke the agent for the specified thread for response\n",
    "                async for response in agent.invoke(messages=user_input, thread=thread):\n",
    "                    print(f\"# {response.name}: {response}\")\n",
    "                    thread = response.thread\n",
    "        finally:\n",
    "            # Clean up resources.\n",
    "            await thread.delete() if thread else None\n",
    "            await client.agents.delete_vector_store(vector_store.id)\n",
    "            await client.agents.delete_file(file.id)\n",
    "            await client.agents.delete_agent(agent.id)\n",
    "            print(\"\\nCleaned up agent, thread, file, and vector store.\")\n",
    "\n",
    "await main()"
   ]
  },
  {
   "cell_type": "markdown",
   "metadata": {},
   "source": [
    "आपने जो निर्देश दिए हैं, कृपया उस Markdown फ़ाइल को साझा करें जिसे आप अनुवादित करना चाहते हैं।\n"
   ]
  },
  {
   "cell_type": "markdown",
   "metadata": {},
   "source": [
    "\n---\n\n**अस्वीकरण**:  \nयह दस्तावेज़ AI अनुवाद सेवा [Co-op Translator](https://github.com/Azure/co-op-translator) का उपयोग करके अनुवादित किया गया है। जबकि हम सटीकता सुनिश्चित करने का प्रयास करते हैं, कृपया ध्यान दें कि स्वचालित अनुवाद में त्रुटियां या अशुद्धियां हो सकती हैं। मूल भाषा में उपलब्ध मूल दस्तावेज़ को प्रामाणिक स्रोत माना जाना चाहिए। महत्वपूर्ण जानकारी के लिए, पेशेवर मानव अनुवाद की सिफारिश की जाती है। इस अनुवाद के उपयोग से उत्पन्न किसी भी गलतफहमी या गलत व्याख्या के लिए हम उत्तरदायी नहीं हैं।\n"
   ]
  }
 ],
 "metadata": {
  "kernelspec": {
   "display_name": ".venv",
   "language": "python",
   "name": "python3"
  },
  "language_info": {
   "codemirror_mode": {
    "name": "ipython",
    "version": 3
   },
   "file_extension": ".py",
   "mimetype": "text/x-python",
   "name": "python",
   "nbconvert_exporter": "python",
   "pygments_lexer": "ipython3",
   "version": "3.11.11"
  },
  "coopTranslator": {
   "original_hash": "a86c3ddfbe35024993bbf563588aad48",
   "translation_date": "2025-08-30T16:01:36+00:00",
   "source_file": "05-agentic-rag/code_samples/05-semantic-kernel-azure-ai-agent.ipynb",
   "language_code": "hi"
  }
 },
 "nbformat": 4,
 "nbformat_minor": 2
}