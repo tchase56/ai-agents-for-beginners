{
 "cells": [
  {
   "cell_type": "markdown",
   "metadata": {},
   "source": [
    "# खर्च दावा विश्लेषण\n",
    "\n",
    "यह नोटबुक दिखाती है कि प्लगइन्स का उपयोग करके एजेंट्स कैसे बनाए जाते हैं, जो स्थानीय रसीद छवियों से यात्रा खर्चों को प्रोसेस करते हैं, एक खर्च दावा ईमेल तैयार करते हैं, और पाई चार्ट का उपयोग करके खर्च डेटा को विज़ुअलाइज़ करते हैं। एजेंट्स कार्य के संदर्भ के आधार पर डायनामिक रूप से फंक्शन्स का चयन करते हैं।\n",
    "\n",
    "चरण:\n",
    "1. OCR एजेंट स्थानीय रसीद छवि को प्रोसेस करता है और यात्रा खर्च डेटा को निकालता है।\n",
    "2. ईमेल एजेंट एक खर्च दावा ईमेल तैयार करता है।\n",
    "\n",
    "### यात्रा खर्च परिदृश्य का उदाहरण:\n",
    "कल्पना करें कि आप एक कर्मचारी हैं जो किसी अन्य शहर में एक व्यावसायिक बैठक के लिए यात्रा कर रहे हैं। आपकी कंपनी की नीति है कि सभी उचित यात्रा-संबंधित खर्चों की प्रतिपूर्ति की जाएगी। यहां संभावित यात्रा खर्चों का विवरण दिया गया है:\n",
    "- परिवहन:\n",
    "आपके घर के शहर से गंतव्य शहर तक राउंड ट्रिप के लिए हवाई किराया।\n",
    "हवाई अड्डे तक और वहां से टैक्सी या राइड-हेलिंग सेवाएं।\n",
    "गंतव्य शहर में स्थानीय परिवहन (जैसे सार्वजनिक परिवहन, किराए की कारें, या टैक्सी)।\n",
    "\n",
    "- आवास:\n",
    "बैठक स्थल के पास एक मिड-रेंज बिजनेस होटल में तीन रातों का ठहराव।\n",
    "\n",
    "- भोजन:\n",
    "कंपनी की दैनिक भत्ता नीति के आधार पर नाश्ता, दोपहर का भोजन, और रात के खाने के लिए दैनिक भोजन भत्ता।\n",
    "\n",
    "- विविध खर्च:\n",
    "हवाई अड्डे पर पार्किंग शुल्क।\n",
    "होटल में इंटरनेट एक्सेस शुल्क।\n",
    "टिप्स या छोटे सेवा शुल्क।\n",
    "\n",
    "- दस्तावेज़ीकरण:\n",
    "आप प्रतिपूर्ति के लिए सभी रसीदें (फ्लाइट्स, टैक्सी, होटल, भोजन आदि) और एक पूरा किया हुआ खर्च रिपोर्ट जमा करते हैं।\n"
   ]
  },
  {
   "cell_type": "markdown",
   "metadata": {},
   "source": [
    "## आवश्यक लाइब्रेरी आयात करें\n",
    "\n",
    "नोटबुक के लिए आवश्यक लाइब्रेरी और मॉड्यूल आयात करें।\n"
   ]
  },
  {
   "cell_type": "code",
   "execution_count": 1,
   "metadata": {},
   "outputs": [
    {
     "data": {
      "text/plain": [
       "True"
      ]
     },
     "execution_count": 1,
     "metadata": {},
     "output_type": "execute_result"
    }
   ],
   "source": [
    "import os\n",
    "from dotenv import load_dotenv\n",
    "from azure.ai.inference import ChatCompletionsClient\n",
    "from azure.core.credentials import AzureKeyCredential\n",
    "from semantic_kernel.kernel import Kernel\n",
    "from semantic_kernel.agents import AgentGroupChat\n",
    "from openai import AsyncOpenAI\n",
    "from semantic_kernel.agents import ChatCompletionAgent, AgentGroupChat\n",
    "\n",
    "\n",
    "from semantic_kernel.contents.utils.author_role import AuthorRole\n",
    "from semantic_kernel.agents.strategies import SequentialSelectionStrategy, DefaultTerminationStrategy\n",
    "from semantic_kernel.contents.chat_message_content import ChatMessageContent\n",
    "from semantic_kernel.contents import ImageContent, TextContent\n",
    "from semantic_kernel.connectors.ai.open_ai import OpenAIChatCompletion, OpenAIChatPromptExecutionSettings\n",
    "\n",
    "from semantic_kernel.functions import kernel_function, KernelArguments\n",
    "from pydantic import BaseModel, Field\n",
    "from typing import List\n",
    "from azure.ai.inference.models import SystemMessage, UserMessage, TextContentItem, ImageContentItem, ImageUrl, ImageDetailLevel\n",
    "\n",
    "load_dotenv()"
   ]
  },
  {
   "cell_type": "code",
   "execution_count": 2,
   "metadata": {},
   "outputs": [],
   "source": [
    "def _create_kernel_with_chat_completion(service_id: str) -> Kernel:\n",
    "    kernel = Kernel()\n",
    "   \n",
    "    client = AsyncOpenAI(\n",
    "    api_key=os.environ[\"GITHUB_TOKEN\"], base_url=\"https://models.inference.ai.azure.com/\")\n",
    "    kernel.add_service(\n",
    "        OpenAIChatCompletion(\n",
    "            ai_model_id=\"gpt-4o-mini\",\n",
    "            async_client=client,\n",
    "            service_id=\"open_ai\"\n",
    "        )\n",
    "    )\n",
    "\n",
    "    kernel.add_service(\n",
    "        OpenAIChatCompletion(\n",
    "            ai_model_id=\"gpt-4o\",\n",
    "            async_client=client,\n",
    "            service_id=\"gpt-4o\"\n",
    "        )\n",
    "    )\n",
    "\n",
    "    return kernel"
   ]
  },
  {
   "cell_type": "markdown",
   "metadata": {},
   "source": [
    "## खर्च मॉडल परिभाषित करें\n",
    "\n",
    " व्यक्तिगत खर्चों के लिए एक Pydantic मॉडल बनाएं और एक ExpenseFormatter क्लास तैयार करें जो उपयोगकर्ता की क्वेरी को संरचित खर्च डेटा में बदल सके।\n",
    "\n",
    " प्रत्येक खर्च को निम्नलिखित प्रारूप में प्रस्तुत किया जाएगा:\n",
    " `{'date': '07-Mar-2025', 'description': 'गंतव्य के लिए उड़ान', 'amount': 675.99, 'category': 'Transportation'}`\n"
   ]
  },
  {
   "cell_type": "code",
   "execution_count": 3,
   "metadata": {},
   "outputs": [],
   "source": [
    "class Expense(BaseModel):\n",
    "    date: str = Field(..., description=\"Date of expense in dd-MMM-yyyy format\")\n",
    "    description: str = Field(..., description=\"Expense description\")\n",
    "    amount: float = Field(..., description=\"Expense amount\")\n",
    "    category: str = Field(..., description=\"Expense category (e.g., Transportation, Meals, Accommodation, Miscellaneous)\")\n",
    "\n",
    "class ExpenseFormatter(BaseModel):\n",
    "    raw_query: str = Field(..., description=\"Raw query input containing expense details\")\n",
    "    \n",
    "    def parse_expenses(self) -> List[Expense]:\n",
    "        \"\"\"\n",
    "        Parses the raw query into a list of Expense objects.\n",
    "        Expected format: \"date|description|amount|category\" separated by semicolons.\n",
    "        \"\"\"\n",
    "        expense_list = []\n",
    "        for expense_str in self.raw_query.split(\";\"):\n",
    "            if expense_str.strip():\n",
    "                parts = expense_str.strip().split(\"|\")\n",
    "                if len(parts) == 4:\n",
    "                    date, description, amount, category = parts\n",
    "                    try:\n",
    "                        expense = Expense(\n",
    "                            date=date.strip(),\n",
    "                            description=description.strip(),\n",
    "                            amount=float(amount.strip()),\n",
    "                            category=category.strip()\n",
    "                        )\n",
    "                        expense_list.append(expense)\n",
    "                    except ValueError as e:\n",
    "                        print(f\"[LOG] Parse Error: Invalid data in '{expense_str}': {e}\")\n",
    "        return expense_list"
   ]
  },
  {
   "cell_type": "markdown",
   "metadata": {},
   "source": [
    "## एजेंट्स को परिभाषित करना - ईमेल तैयार करना\n",
    "\n",
    "एक एजेंट क्लास बनाएं जो खर्चा दावा सबमिट करने के लिए एक ईमेल तैयार करे।  \n",
    "- यह एजेंट `kernel_function` डेकोरेटर का उपयोग करता है ताकि एक ऐसा फंक्शन परिभाषित किया जा सके जो खर्चा दावा सबमिट करने के लिए ईमेल तैयार करे।  \n",
    "- यह खर्चों की कुल राशि की गणना करता है और विवरण को ईमेल बॉडी में स्वरूपित करता है।  \n"
   ]
  },
  {
   "cell_type": "code",
   "execution_count": 4,
   "metadata": {},
   "outputs": [],
   "source": [
    "class ExpenseEmailAgent:\n",
    "\n",
    "    @kernel_function(description=\"Generate an email to submit an expense claim to the Finance Team\")\n",
    "    async def generate_expense_email(expenses):\n",
    "        total_amount = sum(expense['amount'] for expense in expenses)\n",
    "        email_body = \"Dear Finance Team,\\n\\n\"\n",
    "        email_body += \"Please find below the details of my expense claim:\\n\\n\"\n",
    "        for expense in expenses:\n",
    "            email_body += f\"- {expense['description']}: ${expense['amount']}\\n\"\n",
    "        email_body += f\"\\nTotal Amount: ${total_amount}\\n\\n\"\n",
    "        email_body += \"Receipts for all expenses are attached for your reference.\\n\\n\"\n",
    "        email_body += \"Thank you,\\n[Your Name]\"\n",
    "        return email_body"
   ]
  },
  {
   "cell_type": "markdown",
   "metadata": {},
   "source": [
    "# रसीद छवियों से यात्रा खर्च निकालने के लिए एजेंट\n",
    "\n",
    "रसीद छवियों से यात्रा खर्च निकालने के लिए एक एजेंट क्लास बनाएं।  \n",
    "- यह एजेंट यात्रा खर्च निकालने के लिए एक फ़ंक्शन को परिभाषित करने के लिए `kernel_function` डेकोरेटर का उपयोग करता है।  \n",
    "- रसीद छवि को OCR (ऑप्टिकल कैरेक्टर रिकग्निशन) का उपयोग करके टेक्स्ट में बदलें और प्रासंगिक जानकारी जैसे तारीख, विवरण, राशि, और श्रेणी को निकालें।  \n"
   ]
  },
  {
   "cell_type": "code",
   "execution_count": 5,
   "metadata": {},
   "outputs": [],
   "source": [
    "class OCRAgentPlugin:\n",
    "    def __init__(self):\n",
    "        self.client = ChatCompletionsClient(\n",
    "            endpoint=\"https://models.inference.ai.azure.com/\",\n",
    "            credential=AzureKeyCredential(os.environ.get(\"GITHUB_TOKEN\")),\n",
    "        )\n",
    "        self.model_name = \"gpt-4o\"\n",
    "\n",
    "    @kernel_function(description=\"Extract structured travel expense data from receipt.jpg using gpt-4o-model\")\n",
    "    def extract_text(self, image_path: str = \"receipt.jpg\") -> str:\n",
    "        try:\n",
    "            image_url_str = str(ImageUrl.load(image_file=image_path, image_format=\"jpg\", detail=ImageDetailLevel.HIGH))\n",
    "\n",
    "            prompt = (\n",
    "                \"You are an expert OCR assistant specialized in extracting structured data from receipt images. \"\n",
    "                \"Analyze the provided receipt image and extract travel-related expense details in the format: \"\n",
    "                \"'date|description|amount|category' separated by semicolons. \"\n",
    "                \"Follow these rules: \"\n",
    "                \"- Date: Convert dates (e.g., '4/4/22') to 'dd-MMM-yyyy' (e.g., '04-Apr-2022'). \"\n",
    "                \"- Description: Extract item names (e.g., 'Carlson's Drylawn', 'Peigs transaction Probiotics'). \"\n",
    "                \"- Amount: Use numeric values (e.g., '4.50' from '$4.50' or '4.50 dollars'). \"\n",
    "                \"- Category: Infer from context (e.g., 'Meals' for food, 'Transportation' for travel, 'Accommodation' for lodging, 'Miscellaneous' otherwise). \"\n",
    "                \"Ignore totals, subtotals, or service charges unless they are itemized expenses. \"\n",
    "                \"If no expenses are found, return 'No expenses detected'. \"\n",
    "                \"Return only the structured data, no additional text.\"\n",
    "            )\n",
    "            response = self.client.complete(\n",
    "                messages=[\n",
    "                    SystemMessage(content=prompt),\n",
    "                    UserMessage(content=[\n",
    "                        TextContentItem(text=\"Extract travel expenses from this receipt image.\"),\n",
    "                        ImageContentItem(image_url=ImageUrl(url=image_url_str))\n",
    "                    ])\n",
    "                ],\n",
    "                model=self.model_name,\n",
    "                temperature=0.1,\n",
    "                max_tokens=2048\n",
    "            )\n",
    "            extracted_text = response.choices[0].message.content\n",
    "            return extracted_text\n",
    "        except Exception as e:\n",
    "            error_msg = f\"[LOG] OCR Plugin: Error processing image: {str(e)}\"\n",
    "            print(error_msg)\n",
    "            return error_msg"
   ]
  },
  {
   "cell_type": "markdown",
   "metadata": {},
   "source": [
    "## खर्चों को संसाधित करना\n",
    "\n",
    "खर्चों को संसाधित करने के लिए एक असिंक्रोनस फ़ंक्शन परिभाषित करें, जो आवश्यक एजेंटों को बनाकर और पंजीकृत करके उन्हें सक्रिय करता है।  \n",
    "- यह फ़ंक्शन खर्चों को संसाधित करता है, पर्यावरण वेरिएबल्स को लोड करके, आवश्यक एजेंटों को बनाकर और उन्हें प्लगइन्स के रूप में पंजीकृत करके।  \n",
    "- यह दो एजेंटों के साथ एक ग्रुप चैट बनाता है और खर्चों के डेटा के आधार पर ईमेल और पाई चार्ट बनाने के लिए एक प्रॉम्प्ट संदेश भेजता है।  \n",
    "- यह चैट को सक्रिय करने के दौरान होने वाली किसी भी त्रुटि को संभालता है और एजेंटों की उचित सफाई सुनिश्चित करता है।  \n"
   ]
  },
  {
   "cell_type": "code",
   "execution_count": 6,
   "metadata": {},
   "outputs": [],
   "source": [
    "async def process_expenses():\n",
    "    load_dotenv()\n",
    "    settings_slm = OpenAIChatPromptExecutionSettings(service_id=\"gpt-4o\")\n",
    "    settings_llm = OpenAIChatPromptExecutionSettings(service_id=\"open_ai\")  # Fixed typo in service_id\n",
    "    \n",
    "    ocr_agent = ChatCompletionAgent(\n",
    "        kernel=_create_kernel_with_chat_completion(\"ocrAgent\"),\n",
    "        name=\"ocr_agent\",\n",
    "        instructions=\"Extract travel expense data from the receipt image in the prompt using the 'extract_text' function from the 'ocrAgent' plugin. Return the data in the format 'date|description|amount|category' separated by semicolons.\",\n",
    "        arguments=KernelArguments(settings=settings_slm)\n",
    "    )\n",
    "    \n",
    "       \n",
    "    email_agent = ChatCompletionAgent(\n",
    "            kernel=_create_kernel_with_chat_completion(\"expenseEmailAgent\"),\n",
    "            name=\"email_agent\",\n",
    "            instructions=\"Take the travel expense data from the previous agent and generate a professional expense claim email using the 'generate_expense_email' function from the 'expenseEmailAgent' plugin, then pass the data forward.\",\n",
    "            arguments=KernelArguments(\n",
    "                settings=settings_llm)\n",
    "        )\n",
    "\n",
    "\n",
    "    kernel = Kernel()\n",
    "\n",
    "    # Use fixed path to receipt.jpg in the same folder\n",
    "    image_path = \"./receipt.jpg\"\n",
    "    \n",
    "    # Create a structured message with text and image content for OCR processing\n",
    "    image_url_str = f\"file://{image_path}\"\n",
    "    \n",
    "    # Using the correct format for multi-modal content\n",
    "    user_message = ChatMessageContent(\n",
    "        role=AuthorRole.USER,\n",
    "        items=[\n",
    "            TextContent(text=\"\"\"\n",
    "            Please extract the raw text from this receipt image, focusing on travel expenses like dates, descriptions, amounts, and categories (e.g., Transportation, Accommodation, Meals, Miscellaneous).\n",
    "            Then generate a professional expense claim email.\n",
    "                        \"\"\"),\n",
    "            ImageContent.from_image_file(path=image_path)\n",
    "        ]\n",
    "    )\n",
    "\n",
    "    # Register plugins with the kernel\n",
    "    kernel.add_plugin(OCRAgentPlugin(), plugin_name=\"ocrAgent\")\n",
    "    kernel.add_plugin(ExpenseEmailAgent(), plugin_name=\"expenseEmailAgent\")\n",
    "\n",
    "    # Create group chat\n",
    "    chat = AgentGroupChat(\n",
    "        agents=[ocr_agent, email_agent],\n",
    "        selection_strategy=SequentialSelectionStrategy(initial_agent=ocr_agent),\n",
    "        termination_strategy=DefaultTerminationStrategy(maximum_iterations=1)\n",
    "    )\n",
    "\n",
    "    # Add user message with prompt\n",
    "    await chat.add_chat_message(user_message)\n",
    "    print(f\"# User message added to chat with receipt image\")\n",
    "\n",
    "    async for content in chat.invoke():\n",
    "        print(f\"# Agent - {content.name or '*'}: '{content.content}'\")\n"
   ]
  },
  {
   "cell_type": "markdown",
   "metadata": {},
   "source": [
    "## मुख्य फ़ंक्शन\n",
    "\n",
    "मुख्य फ़ंक्शन को परिभाषित करें ताकि कंसोल साफ़ किया जा सके और `process_expenses` फ़ंक्शन को असिंक्रोनस रूप से चलाया जा सके।\n"
   ]
  },
  {
   "cell_type": "code",
   "execution_count": 9,
   "metadata": {},
   "outputs": [
    {
     "name": "stdout",
     "output_type": "stream",
     "text": [
      "# User message added to chat with receipt image\n",
      "# Agent - ocr_agent: 'The receipt primarily seems to capture costs for meals and beverages. Below is the extracted travel expense data:\n",
      "\n",
      "**Travel Expense Data:**  \n",
      "`2 May '22|Meals at restaurant|75.15|Meals`\n",
      "\n",
      "---\n",
      "\n",
      "**Professional Expense Claim Email Draft:**  \n",
      "\n",
      "**Subject:** Expense Claim for Meals – 2 May 2022  \n",
      "\n",
      "Dear [Recipient's Name],  \n",
      "\n",
      "I am submitting an expense claim for a meal incurred during a business-related trip. Below are the details:  \n",
      "\n",
      "- **Date:** 2 May 2022  \n",
      "- **Expense Description:** Meals at a restaurant  \n",
      "- **Amount:** $75.15  \n",
      "- **Category:** Meals  \n",
      "\n",
      "Please find the attached receipt for your reference. Kindly process the reimbursement at your earliest convenience. Let me know if you require additional information.  \n",
      "\n",
      "Thank you for your assistance.  \n",
      "\n",
      "Best regards,  \n",
      "[Your Name]  \n",
      "[Your Contact Information]  \n",
      "\n",
      "Let me know if you need further revisions or additional details!'\n"
     ]
    }
   ],
   "source": [
    "async def main():\n",
    "    # Clear the console\n",
    "    os.system('cls' if os.name=='nt' else 'clear')\n",
    "\n",
    "    # Run the async agent code\n",
    "    await process_expenses()\n",
    "\n",
    "await main()"
   ]
  },
  {
   "cell_type": "code",
   "execution_count": null,
   "metadata": {},
   "outputs": [],
   "source": []
  },
  {
   "cell_type": "markdown",
   "metadata": {},
   "source": [
    "\n---\n\n**अस्वीकरण**:  \nयह दस्तावेज़ AI अनुवाद सेवा [Co-op Translator](https://github.com/Azure/co-op-translator) का उपयोग करके अनुवादित किया गया है। जबकि हम सटीकता सुनिश्चित करने का प्रयास करते हैं, कृपया ध्यान दें कि स्वचालित अनुवाद में त्रुटियां या अशुद्धियां हो सकती हैं। मूल दस्तावेज़, जो इसकी मूल भाषा में है, को प्रामाणिक स्रोत माना जाना चाहिए। महत्वपूर्ण जानकारी के लिए, पेशेवर मानव अनुवाद की सिफारिश की जाती है। इस अनुवाद के उपयोग से उत्पन्न किसी भी गलतफहमी या गलत व्याख्या के लिए हम उत्तरदायी नहीं हैं।\n"
   ]
  }
 ],
 "metadata": {
  "kernelspec": {
   "display_name": "venv",
   "language": "python",
   "name": "python3"
  },
  "language_info": {
   "codemirror_mode": {
    "name": "ipython",
    "version": 3
   },
   "file_extension": ".py",
   "mimetype": "text/x-python",
   "name": "python",
   "nbconvert_exporter": "python",
   "pygments_lexer": "ipython3",
   "version": "3.12.4"
  },
  "coopTranslator": {
   "original_hash": "6ffd20126d1786605b28cf9ca22ed62b",
   "translation_date": "2025-08-30T15:14:16+00:00",
   "source_file": "10-ai-agents-production/code_samples/10-expense_claim-demo.ipynb",
   "language_code": "hi"
  }
 },
 "nbformat": 4,
 "nbformat_minor": 2
}