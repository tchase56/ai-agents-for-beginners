{
 "cells": [
  {
   "cell_type": "markdown",
   "metadata": {},
   "source": [
    "## **Примери: Мулти-AI агенти за резервация на хотел**\n",
    "\n",
    "В днешния забързан свят планирането на бизнес пътуване включва много повече от просто резервиране на полет и хотелска стая. То изисква ниво на координация и ефективност, което може да бъде трудно за постигане. Тук на помощ идват Мулти-AI агентите, които революционизират начина, по който управляваме нашите нужди при пътуване.\n",
    "\n",
    "Представете си, че разполагате с екип от интелигентни агенти, които работят заедно, за да се погрижат за всеки аспект на вашето пътуване с прецизност и лекота. С нашата усъвършенствана AI технология създадохме специализирани агенти за резервационни услуги и организиране на маршрути, които гарантират безпроблемно и безстресово пътуване.\n",
    "\n",
    "Това е основен сценарий. Когато планираме бизнес пътуване, трябва да се консултираме с агент за бизнес пътувания, за да получим информация за самолетни билети, хотели и други. Чрез AI агенти можем да създадем агенти за резервационни услуги и агенти за организиране на маршрути, които да си сътрудничат и да повишат нивото на интелигентност.\n"
   ]
  },
  {
   "cell_type": "markdown",
   "metadata": {},
   "source": [
    "# Инициализиране на услугата Azure AI Agent и получаване на информация за конфигурацията от **.env**\n",
    "\n",
    "### **.env**\n",
    "\n",
    "Създайте файл .env\n",
    "\n",
    "**.env** съдържа низ за връзка към услугата Azure AI Agent, модела, използван от AOAI, както и съответната Google API Search услуга, ENDPOINT и други.\n",
    "\n",
    "- **AZURE_AI_AGENT_MODEL_DEPLOYMENT_NAME** = \"Името на вашия модел за разгръщане в услугата Azure AI Agent\"\n",
    "\n",
    "[**NOTE**] Ще ви е необходим модел с лимит от 100,000 токена на минута и лимит от 600 заявки на минута.\n",
    "\n",
    "  Можете да получите модел в Azure AI Foundry - Model and Endpoint.\n",
    "\n",
    "- **AZURE_AI_AGENT_PROJECT_CONNECTION_STRING** = \"Низ за връзка към вашия проект в услугата Azure AI Agent\"\n",
    "\n",
    "  Можете да получите низа за връзка към проекта в прегледа на проекта в AI Foundry Portal Screen.\n",
    "\n",
    "- **SERPAPI_SEARCH_API_KEY** = \"Вашият SERPAPI Search API KEY\"\n",
    "- **SERPAPI_SEARCH_ENDPOINT** = \"Вашият SERPAPI Search Endpoint\"\n",
    "\n",
    "За да получите името на модела за разгръщане и низа за връзка към проекта в услугата Azure AI Agent, трябва да създадете Azure AI Agent Service. Препоръчително е да използвате [този шаблон](https://portal.azure.com/#create/Microsoft.Template/uri/https%3A%2F%2Fraw.githubusercontent.com%2Ffosteramanda%2Fazure-agent-quickstart-templates%2Frefs%2Fheads%2Fmaster%2Fquickstarts%2Fmicrosoft.azure-ai-agent-service%2Fstandard-agent%2Fazuredeploy.json), за да го създадете директно. (***Забележка:*** Услугата Azure AI Agent в момента е налична само в ограничени региони. Препоръчително е да се консултирате с [този линк](https://learn.microsoft.com/en-us/azure/ai-services/agents/concepts/model-region-support), за да зададете региона.)\n",
    "\n",
    "Агентът трябва да има достъп до SERPAPI. Препоръчително е да се регистрирате чрез [този линк](https://serpapi.com/searches). След регистрация можете да получите уникален API KEY и ENDPOINT.\n"
   ]
  },
  {
   "cell_type": "markdown",
   "metadata": {},
   "source": [
    "# Вход в Azure\n",
    "\n",
    "Сега трябва да влезете в Azure. Отворете терминал в VScode и изпълнете командата `az login`.\n"
   ]
  },
  {
   "cell_type": "markdown",
   "metadata": {},
   "source": [
    "# Настройка\n",
    "\n",
    "За да стартирате този ноутбук, ще трябва да инсталирате следните библиотеки. Ето списък с необходимите библиотеки и съответните команди за инсталиране с pip:\n",
    "\n",
    "azure-identity: За удостоверяване в Azure.  \n",
    "requests: За изпълнение на HTTP заявки.  \n",
    "semantic-kernel: За рамката semantic kernel (ако това е персонализирана или специфична библиотека, може да се наложи да я инсталирате от конкретен източник или хранилище).  \n"
   ]
  },
  {
   "cell_type": "code",
   "execution_count": null,
   "metadata": {},
   "outputs": [],
   "source": [
    "!pip install azure-identity\n",
    "!pip install requests\n",
    "!pip install semantic-kernel\n",
    "!pip install --upgrade semantic_kernel\n",
    "!pip install azure-cli"
   ]
  },
  {
   "cell_type": "markdown",
   "metadata": {},
   "source": [
    "# Обяснение:  \n",
    "import asyncio: Това импортира модула asyncio, който предоставя поддръжка за асинхронно програмиране в Python. Той ви позволява да пишете конкурентен код, използвайки синтаксиса async и await.  \n",
    "from typing: Annotated: Това импортира типа Annotated от модула typing. Annotated се използва за добавяне на метаданни към типови подсказки, което може да бъде полезно за различни цели като валидация, документация или инструменти.  \n"
   ]
  },
  {
   "cell_type": "code",
   "execution_count": null,
   "metadata": {
    "dotnet_interactive": {
     "language": "csharp"
    },
    "polyglot_notebook": {
     "kernelName": "csharp"
    }
   },
   "outputs": [],
   "source": [
    "import asyncio,os\n",
    "from typing import Annotated"
   ]
  },
  {
   "cell_type": "markdown",
   "metadata": {},
   "source": [
    "# Обяснение:\n",
    "С използването на from dotenv import load_dotenv и load_dotenv() можете лесно да управлявате конфигурационни настройки и чувствителна информация (като API ключове и URL адреси на бази данни) в .env файл, като ги държите отделно от вашия изходен код. Това прави вашето приложение по-сигурно и по-лесно за конфигуриране.\n"
   ]
  },
  {
   "cell_type": "code",
   "execution_count": null,
   "metadata": {},
   "outputs": [],
   "source": [
    "import os\n",
    "from dotenv import load_dotenv\n",
    "\n",
    "# Load environment variables from .env file\n",
    "load_dotenv()"
   ]
  },
  {
   "cell_type": "markdown",
   "metadata": {},
   "source": [
    "# Обяснение:\n",
    "\n",
    "Import Statement: from azure.identity.aio import DefaultAzureCredential: Това импортира класа DefaultAzureCredential от модула azure.identity.aio. Частта \"aio\" в името на модула показва, че е предназначен за асинхронни операции.\n",
    "\n",
    "Цел на DefaultAzureCredential: Класът DefaultAzureCredential е част от Azure SDK за Python. Той предоставя стандартен начин за удостоверяване с Azure услуги. Опитва се да се удостоверява чрез множество методи в определен ред, като например променливи на средата, управлявана идентичност и идентификационни данни от Azure CLI.\n",
    "\n",
    "Асинхронни операции: Модулът \"aio\" показва, че класът DefaultAzureCredential поддържа асинхронни операции. Това означава, че можете да го използвате с asyncio за извършване на заявки за удостоверяване без блокиране.\n"
   ]
  },
  {
   "cell_type": "code",
   "execution_count": null,
   "metadata": {
    "dotnet_interactive": {
     "language": "csharp"
    },
    "polyglot_notebook": {
     "kernelName": "csharp"
    }
   },
   "outputs": [],
   "source": [
    "from azure.identity.aio import DefaultAzureCredential"
   ]
  },
  {
   "cell_type": "markdown",
   "metadata": {},
   "source": [
    "# Обяснение:\n",
    "Импортира различни модули и класове от пакета semantic_kernel. Ето разбивка на всеки импорт:\n",
    "\n",
    "AgentGroupChat от semantic_kernel.agents: Този клас се занимава с функционалности, свързани с групов чат за AI агенти. AzureAIAgent и AzureAIAgentSettings от semantic_kernel.agents.azure_ai\n",
    "\n",
    "AzureAIAgent: Този клас се използва за създаване и управление на AI агенти, които използват услугите на Azure AI.\n",
    "\n",
    "AzureAIAgentSettings: Този клас се използва за конфигуриране на настройки за AzureAIAgent. TerminationStrategy от semantic_kernel.agents.strategies.termination.termination_strategy:\n",
    "\n",
    "Този клас определя стратегии за прекратяване на изпълнението на AI агенти при определени условия. ChatMessageContent от semantic_kernel.contents.chat_message_content:\n",
    "\n",
    "Този клас се използва за управление на съдържанието на съобщения в чат. AuthorRole от semantic_kernel.contents.utils.author_role:\n",
    "\n",
    "Този клас дефинира различни роли за автори в контекста на съобщения в чат.\n",
    "\n",
    "kernel_function от semantic_kernel.functions.kernel_function_decorator: Този декоратор се използва за дефиниране на kernel функции, които могат да бъдат изпълнявани в рамките на semantic kernel. \n",
    "Тези импорти настройват необходимите компоненти за създаване и управление на AI агенти, които могат да взаимодействат в групова чат среда, вероятно за задачи като резервиране на хотели или подобни дейности.\n"
   ]
  },
  {
   "cell_type": "code",
   "execution_count": null,
   "metadata": {
    "dotnet_interactive": {
     "language": "csharp"
    },
    "polyglot_notebook": {
     "kernelName": "csharp"
    }
   },
   "outputs": [],
   "source": [
    "from semantic_kernel.agents import AgentGroupChat\n",
    "from semantic_kernel.agents import AzureAIAgent, AzureAIAgentSettings\n",
    "from semantic_kernel.agents.strategies.termination.termination_strategy import TerminationStrategy\n",
    "from semantic_kernel.contents import ChatMessageContent\n",
    "from semantic_kernel.contents import AuthorRole\n",
    "from semantic_kernel.functions.kernel_function_decorator import kernel_function"
   ]
  },
  {
   "cell_type": "markdown",
   "metadata": {},
   "source": [
    "# Обяснение:\n",
    "След това импортираме класа CodeInterpreterTool от модула azure.ai.projects.models.\n",
    "\n",
    "CodeInterpreterTool: Този клас е част от Azure AI SDK и се използва за интерпретиране и изпълнение на код в контекста на AI проекти. Той предоставя функционалности за изпълнение на кодови фрагменти, анализ на код или интегриране на изпълнението на код в AI работни процеси.  \n",
    "Този импорт настройва необходимия компонент за използване на CodeInterpreterTool във вашия проект, което може да бъде полезно за задачи, свързани с динамично интерпретиране и изпълнение на код.\n"
   ]
  },
  {
   "cell_type": "code",
   "execution_count": null,
   "metadata": {
    "dotnet_interactive": {
     "language": "csharp"
    },
    "polyglot_notebook": {
     "kernelName": "csharp"
    }
   },
   "outputs": [],
   "source": [
    "from azure.ai.projects.models import CodeInterpreterTool"
   ]
  },
  {
   "cell_type": "markdown",
   "metadata": {},
   "source": [
    "# Обяснение: \n",
    "Класът ApprovalTerminationStrategy предоставя специфична стратегия за прекратяване на работата на AI агент. Агентът ще прекрати работа, ако последното съобщение в историята на взаимодействията му съдържа думата \"запазено\". Това може да бъде полезно в ситуации, където задачата на агента се счита за завършена, след като получи потвърждение, че нещо е \"запазено\". Определете метода на взаимодействие. След като планът за резервация бъде запазен, може да бъде спрян при получаване на сигнал за запазване.\n"
   ]
  },
  {
   "cell_type": "code",
   "execution_count": null,
   "metadata": {
    "dotnet_interactive": {
     "language": "csharp"
    },
    "polyglot_notebook": {
     "kernelName": "csharp"
    }
   },
   "outputs": [],
   "source": [
    "class ApprovalTerminationStrategy(TerminationStrategy):\n",
    "    \"\"\"A strategy for determining when an agent should terminate.\"\"\"\n",
    "\n",
    "    async def should_agent_terminate(self, agent, history):\n",
    "        \"\"\"Check if the agent should terminate.\"\"\"\n",
    "        return \"saved\" in history[-1].content.lower()"
   ]
  },
  {
   "cell_type": "markdown",
   "metadata": {},
   "source": [
    "# Обяснение:\n",
    "\n",
    "Редът код инициализира обект AzureAIAgentSettings с настройки по подразбиране или предварително зададени настройки, като извиква метода create(). Този обект с настройки (ai_agent_settings) може след това да се използва за конфигуриране и управление на екземпляр на AzureAIAgent.\n"
   ]
  },
  {
   "cell_type": "code",
   "execution_count": null,
   "metadata": {
    "dotnet_interactive": {
     "language": "csharp"
    },
    "polyglot_notebook": {
     "kernelName": "csharp"
    }
   },
   "outputs": [],
   "source": [
    "ai_agent_settings = AzureAIAgentSettings.create()"
   ]
  },
  {
   "cell_type": "markdown",
   "metadata": {},
   "source": [
    "# Обяснение:\n",
    "С помощта на библиотеката requests можете лесно да правите HTTP заявки и да взаимодействате с уеб услуги във вашия Python код.\n"
   ]
  },
  {
   "cell_type": "code",
   "execution_count": null,
   "metadata": {
    "dotnet_interactive": {
     "language": "csharp"
    },
    "polyglot_notebook": {
     "kernelName": "csharp"
    }
   },
   "outputs": [],
   "source": [
    "import requests"
   ]
  },
  {
   "cell_type": "markdown",
   "metadata": {},
   "source": [
    "# Обяснение:\n",
    "Това е променлива, която съхранява API ключ за достъп до услуга за SERP (Search Engine Results Page). API ключът е уникален идентификатор, използван за удостоверяване на заявки, свързани с вашия акаунт.\n",
    "\n",
    "'GOOGLE_SEARCH_API_KEY': Това е низ заместител. Трябва да замените 'GOOGLE_SEARCH_API_KEY' с вашия реален SERP API ключ.\n",
    "\n",
    "Цел: Целта на този ред е да съхрани API ключа в променлива, за да може да се използва за удостоверяване на заявки към услугата SERP API. API ключът е необходим за достъп до услугата и извършване на търсения.\n",
    "\n",
    "Как да получите SERP API ключ: За да получите SERP API ключ, следвайте тези общи стъпки на https://serpapi.com (точните стъпки може да варират в зависимост от конкретната услуга SERP API, която използвате):\n",
    "\n",
    "Изберете услуга за SERP API: Има няколко налични услуги за SERP API, като SerpAPI, Google Custom Search JSON API и други. Изберете тази, която най-добре отговаря на вашите нужди.\n",
    "\n",
    "Регистрирайте се за акаунт:\n",
    "\n",
    "Отидете на уебсайта на избраната услуга SERP API https://www.serpapi.com и се регистрирайте за акаунт. Може да се наложи да предоставите основна информация и да потвърдите имейл адреса си.\n",
    "\n",
    "Създайте API ключ:\n",
    "\n",
    "След като се регистрирате, влезте в акаунта си и отидете в секцията за API или таблото за управление. Потърсете опция за създаване или генериране на нов API ключ.\n",
    "Копирайте API ключа:\n",
    "\n",
    "След като API ключът бъде генериран, го копирайте. Този ключ ще се използва за удостоверяване на вашите заявки към услугата SERP API.\n",
    "Заменете заместителя:\n",
    "\n",
    "Заменете заместителя във вашия .env файл\n"
   ]
  },
  {
   "cell_type": "code",
   "execution_count": null,
   "metadata": {
    "dotnet_interactive": {
     "language": "csharp"
    },
    "polyglot_notebook": {
     "kernelName": "csharp"
    }
   },
   "outputs": [],
   "source": [
    "SERPAPI_SEARCH_API_KEY=os.getenv('SERPAPI_SEARCH_API_KEY')"
   ]
  },
  {
   "cell_type": "code",
   "execution_count": null,
   "metadata": {
    "dotnet_interactive": {
     "language": "csharp"
    },
    "polyglot_notebook": {
     "kernelName": "csharp"
    }
   },
   "outputs": [],
   "source": [
    "SERPAPI_SEARCH_ENDPOINT = os.getenv('SERPAPI_SEARCH_ENDPOINT')"
   ]
  },
  {
   "cell_type": "markdown",
   "metadata": {},
   "source": [
    "# Обяснение:\n",
    "Класът BookingPlugin предоставя методи за резервиране на хотели и полети чрез Google Search API на Serpapi.com. Той създава необходимите параметри, изпраща API заявки и обработва отговорите, за да върне съответната информация за резервации. API ключът (SERPAPI_SEARCH_API_KEY) и крайният адрес (SERPAPI_SEARCH_ENDPOINT) се използват за удостоверяване и изпращане на заявки към Google Search API.\n"
   ]
  },
  {
   "cell_type": "code",
   "execution_count": null,
   "metadata": {
    "dotnet_interactive": {
     "language": "csharp"
    },
    "polyglot_notebook": {
     "kernelName": "csharp"
    }
   },
   "outputs": [],
   "source": [
    "# Define Booking Plugin\n",
    "class BookingPlugin:\n",
    "    \"\"\"Booking Plugin for customers\"\"\"\n",
    "    @kernel_function(description=\"booking hotel\")\n",
    "    def booking_hotel(self,query: Annotated[str, \"The name of the city\"], check_in_date: Annotated[str, \"Hotel Check-in Time\"], check_out_date: Annotated[str, \"Hotel Check-in Time\"])-> Annotated[str, \"Return the result of booking hotel infomation\"]:\n",
    "\n",
    "        params = {\n",
    "            \"engine\": \"google_hotels\",\n",
    "            \"q\": query,\n",
    "            \"check_in_date\": check_in_date,\n",
    "            \"check_out_date\": check_out_date,\n",
    "            \"adults\": \"2\",\n",
    "            \"currency\": \"USD\",\n",
    "            \"gl\": \"us\",\n",
    "            \"hl\": \"en\",\n",
    "            \"api_key\": SERPAPI_SEARCH_API_KEY\n",
    "        }\n",
    "\n",
    "        response = requests.get(SERPAPI_SEARCH_ENDPOINT, params=params)\n",
    "        if response.status_code == 200:\n",
    "            response = response.json()\n",
    "            return response[\"properties\"]\n",
    "        else:\n",
    "            return None\n",
    "\n",
    "    \n",
    "    @kernel_function(description=\"booking fight\")\n",
    "    def  booking_fight(self,origin: Annotated[str, \"The name of Departure\"], destination: Annotated[str, \"The name of Destination\"], outbound_date: Annotated[str, \"The date of outbound\"], return_date: Annotated[str, \"The date of Return_date\"])-> Annotated[str, \"Return the result of booking fight infomation\"]:\n",
    "        \n",
    "        go_params = {\n",
    "            \"engine\": \"google_flights\",   \n",
    "            \"departure_id\": origin,\n",
    "            \"arrival_id\": destination,\n",
    "            \"outbound_date\": outbound_date,\n",
    "            \"return_date\": return_date,  \n",
    "            \"currency\": \"USD\",\n",
    "            \"hl\": \"en\",\n",
    "            \"api_key\": SERPAPI_SEARCH_API_KEY  \n",
    "        }\n",
    "\n",
    "        print(go_params)\n",
    "\n",
    "        go_response = requests.get(SERPAPI_SEARCH_ENDPOINT, params=go_params)\n",
    "\n",
    "\n",
    "        result = ''\n",
    "\n",
    "        if go_response.status_code == 200:\n",
    "            response = go_response.json()\n",
    "\n",
    "            result += \"# outbound \\n \" + str(response)\n",
    "        else:\n",
    "            print('error!!!')\n",
    "            # return None\n",
    "\n",
    "        \n",
    "        back_params = {\n",
    "            \"engine\": \"google_flights\",   \n",
    "            \"departure_id\": destination,\n",
    "            \"arrival_id\": origin,\n",
    "            \"outbound_date\": return_date,\n",
    "            \"return_date\": return_date,  \n",
    "            \"currency\": \"USD\",\n",
    "            \"hl\": \"en\",\n",
    "            \"api_key\": SERPAPI_SEARCH_API_KEY  \n",
    "        }\n",
    "\n",
    "\n",
    "        print(back_params)\n",
    "\n",
    "\n",
    "        back_response = requests.get(SERPAPI_SEARCH_ENDPOINT, params=back_params)\n",
    "\n",
    "\n",
    "\n",
    "        if back_response.status_code == 200:\n",
    "            response = back_response.json()\n",
    "\n",
    "            result += \"\\n # return \\n\"  + str(response)\n",
    "\n",
    "        else:\n",
    "            print('error!!!')\n",
    "            # return None\n",
    "        \n",
    "        print(result)\n",
    "\n",
    "        return result\n",
    "\n",
    "        \n"
   ]
  },
  {
   "cell_type": "markdown",
   "metadata": {},
   "source": [
    "# Обяснение:\n",
    "Класът SavePlugin предоставя метод saving_plan за запазване на планове за пътуване с помощта на Azure AI услуги. Той настройва Azure идентификационни данни, създава AI агент, обработва потребителските входни данни за генериране и запазване на съдържанието на плана за пътуване, и управлява операции по запазване на файлове и почистване. Методът връща \"Запазено\" при успешно завършване.\n"
   ]
  },
  {
   "cell_type": "code",
   "execution_count": null,
   "metadata": {
    "dotnet_interactive": {
     "language": "csharp"
    },
    "polyglot_notebook": {
     "kernelName": "csharp"
    }
   },
   "outputs": [],
   "source": [
    "class SavePlugin:\n",
    "    \"\"\"Save Plugin for customers\"\"\"\n",
    "    @kernel_function(description=\"saving plan\")\n",
    "    async def saving_plan(self,tripplan: Annotated[str, \"The content of trip plan\"])-> Annotated[str, \"Return status of save content\"]:\n",
    "\n",
    "        async with (\n",
    "            DefaultAzureCredential() as creds,\n",
    "            AzureAIAgent.create_client(\n",
    "                credential=creds,\n",
    "                conn_str=ai_agent_settings.project_connection_string.get_secret_value(),\n",
    "            ) as client,\n",
    "        ):\n",
    "\n",
    "            code_interpreter = CodeInterpreterTool()\n",
    "            \n",
    "            agent_definition = await client.agents.create_agent(\n",
    "                model=ai_agent_settings.model_deployment_name,\n",
    "                tools=code_interpreter.definitions,\n",
    "                tool_resources=code_interpreter.resources,\n",
    "            )\n",
    "\n",
    "\n",
    "            agent = AzureAIAgent(\n",
    "                client=client,\n",
    "                definition=agent_definition,\n",
    "            )\n",
    "\n",
    "            thread = await client.agents.create_thread()\n",
    "\n",
    "\n",
    "            user_inputs = [\n",
    "                \"\"\"\n",
    "            \n",
    "                        You are my Python programming assistant. Generate code,save \"\"\"+ tripplan +\n",
    "                        \n",
    "                    \"\"\"    \n",
    "                        and execute it according to the following requirements\n",
    "\n",
    "                        1. Save blog content to trip-{YYMMDDHHMMSS}.md\n",
    "\n",
    "                        2. give me the download this file link\n",
    "                    \"\"\"\n",
    "            ]\n",
    "\n",
    "\n",
    "\n",
    "            try:\n",
    "                for user_input in user_inputs:\n",
    "                    # Add the user input as a chat message\n",
    "                    await agent.add_chat_message(\n",
    "                        thread_id=thread.id, message=ChatMessageContent(role=AuthorRole.USER, content=user_input)\n",
    "                    )\n",
    "                    print(f\"# User: '{user_input}'\")\n",
    "                    # Invoke the agent for the specified thread\n",
    "                    async for content in agent.invoke(thread_id=thread.id):\n",
    "                        if content.role != AuthorRole.TOOL:\n",
    "                            print(f\"# Agent: {content.content}\")\n",
    "\n",
    "                    \n",
    "                    messages = await client.agents.list_messages(thread_id=thread.id)\n",
    "\n",
    "                    # OpenAIPageableListOfThreadMessage\n",
    "                    # OpenAIPageableListOfThreadMessage\n",
    "\n",
    "\n",
    "                    for file_path_annotation in messages.file_path_annotations:\n",
    "\n",
    "                            file_name = os.path.basename(file_path_annotation.text)\n",
    "\n",
    "                            await client.agents.save_file(file_id=file_path_annotation.file_path.file_id, file_name=file_name,target_dir=\"./trip\")\n",
    "\n",
    "                    \n",
    "            finally:\n",
    "                await client.agents.delete_thread(thread.id)\n",
    "                await client.agents.delete_agent(agent.id)\n",
    "\n",
    "\n",
    "        return \"Saved\""
   ]
  },
  {
   "cell_type": "markdown",
   "metadata": {},
   "source": [
    "# Обяснение:\n",
    "Този код настройва Azure AI агенти за управление на резервации на полети и хотели, както и за запазване на планове за пътуване въз основа на потребителски входни данни. Той използва Azure идентификационни данни за създаване и конфигуриране на агентите, обработва потребителските входни данни чрез групов чат и гарантира правилното почистване след завършване на задачите. Агенти използват специфични плъгини (BookingPlugin и SavePlugin), за да изпълняват съответните си задачи.\n"
   ]
  },
  {
   "cell_type": "code",
   "execution_count": null,
   "metadata": {
    "dotnet_interactive": {
     "language": "csharp"
    },
    "polyglot_notebook": {
     "kernelName": "csharp"
    }
   },
   "outputs": [],
   "source": [
    "async with (\n",
    "    DefaultAzureCredential() as creds,\n",
    "    AzureAIAgent.create_client(\n",
    "        credential=creds,\n",
    "        conn_str=ai_agent_settings.project_connection_string.get_secret_value(),\n",
    "    ) as client,\n",
    "):\n",
    "    BOOKING_AGENT_NAME = \"BookingAgent\"\n",
    "    BOOKING_AGENT_INSTRUCTIONS = \"\"\"\n",
    "    You are a booking agent. Help me book flights or hotels.\n",
    "\n",
    "    Thought: Please understand the user's intention and confirm whether to use the reservation system to complete the task.\n",
    "\n",
    "    Actions:\n",
    "    - For flight bookings, convert the departure and destination names into airport codes.\n",
    "    - Use the appropriate API for hotel or flight bookings. Verify that all necessary parameters are available. If any parameters are missing, ask the user to provide them. If all parameters are complete, call the corresponding function.\n",
    "    - If the task is not related to hotel or flight booking, respond with the final answer only.\n",
    "    - Output the results using a markdown table:\n",
    "      - For flight bookings, output separate outbound and return contents in the order of:\n",
    "        Departure Airport | Airline | Flight Number | Departure Time | Arrival Airport | Arrival Time | Duration | Airplane | Travel Class | Price (USD) | Legroom | Extensions | Carbon Emissions (kg).\n",
    "      - For hotel bookings, output in the order of:\n",
    "        Property Name | Property Description | Check-in Time | Check-out Time | Prices | Nearby Places | Hotel Class | GPS Coordinates.\n",
    "    \"\"\"\n",
    "\n",
    "    SAVE_AGENT_NAME = \"SaveAgent\"\n",
    "    SAVE_AGENT_INSTRUCTIONS = \"\"\"\n",
    "    You are a save tool agent. Help me to save the trip plan.\n",
    "    \"\"\"\n",
    "\n",
    "    # Create agent definition\n",
    "    booking_agent_definition = await client.agents.create_agent(\n",
    "        model=ai_agent_settings.model_deployment_name,\n",
    "        name=BOOKING_AGENT_NAME,\n",
    "        instructions=BOOKING_AGENT_INSTRUCTIONS,\n",
    "    )\n",
    "\n",
    "    # Create the AzureAI Agent\n",
    "    booking_agent = AzureAIAgent(\n",
    "        client=client,\n",
    "        definition=booking_agent_definition,\n",
    "        # Optionally configure polling options\n",
    "        # polling_options=RunPollingOptions(run_polling_interval=timedelta(seconds=1)),\n",
    "    )\n",
    "\n",
    "    # Add the sample plugin to the kernel\n",
    "    booking_agent.kernel.add_plugin(BookingPlugin(), plugin_name=\"booking\")\n",
    "\n",
    "    # Create agent definition\n",
    "    save_agent_definition = await client.agents.create_agent(\n",
    "        model=ai_agent_settings.model_deployment_name,\n",
    "        name=SAVE_AGENT_NAME,\n",
    "        instructions=SAVE_AGENT_INSTRUCTIONS\n",
    "    )\n",
    "\n",
    "    # Create the AzureAI Agent\n",
    "    save_agent = AzureAIAgent(\n",
    "        client=client,\n",
    "        definition=save_agent_definition,\n",
    "    )\n",
    "\n",
    "    save_agent.kernel.add_plugin(SavePlugin(), plugin_name=\"saving\")\n",
    "\n",
    "    user_inputs = [\n",
    "        \"I have a business trip from London to New York in Feb 20 2025 to Feb 27 2025 ,help me to book a hotel and fight tickets and save it\"\n",
    "    ]\n",
    "\n",
    "    chat = AgentGroupChat(\n",
    "        agents=[booking_agent, save_agent],\n",
    "        termination_strategy=ApprovalTerminationStrategy(agents=[save_agent], maximum_iterations=10),\n",
    "    )\n",
    "\n",
    "    try:\n",
    "        for user_input in user_inputs:\n",
    "            # Add the user input as a chat message\n",
    "            await chat.add_chat_message(\n",
    "                ChatMessageContent(role=AuthorRole.USER, content=user_input)\n",
    "            )\n",
    "            print(f\"# User: '{user_input}'\")\n",
    "\n",
    "            async for content in chat.invoke():\n",
    "                print(f\"# {content.role} - {content.name or '*'}: '{content.content}'\")\n",
    "\n",
    "            print(f\"# IS COMPLETE: {chat.is_complete}\")\n",
    "\n",
    "            print(\"*\" * 60)\n",
    "            print(\"Chat History (In Descending Order):\\n\")\n",
    "            async for message in chat.get_chat_messages(agent=save_agent):\n",
    "                print(f\"# {message.role} - {message.name or '*'}: '{message.content}'\")\n",
    "    finally:\n",
    "        await chat.reset()\n",
    "        await client.agents.delete_agent(save_agent.id)\n",
    "        await client.agents.delete_agent(booking_agent.id)\n"
   ]
  },
  {
   "cell_type": "markdown",
   "metadata": {},
   "source": [
    "\n---\n\n**Отказ от отговорност**:  \nТози документ е преведен с помощта на AI услуга за превод [Co-op Translator](https://github.com/Azure/co-op-translator). Въпреки че се стремим към точност, моля, имайте предвид, че автоматизираните преводи може да съдържат грешки или неточности. Оригиналният документ на неговия роден език трябва да се счита за авторитетен източник. За критична информация се препоръчва професионален човешки превод. Ние не носим отговорност за каквито и да е недоразумения или погрешни интерпретации, произтичащи от използването на този превод.\n"
   ]
  }
 ],
 "metadata": {
  "kernelspec": {
   "display_name": "3.12.1",
   "language": "python",
   "name": "python3"
  },
  "language_info": {
   "codemirror_mode": {
    "name": "ipython",
    "version": 3
   },
   "file_extension": ".py",
   "mimetype": "text/x-python",
   "name": "python",
   "nbconvert_exporter": "python",
   "pygments_lexer": "ipython3",
   "version": "3.12.1"
  },
  "polyglot_notebook": {
   "kernelInfo": {
    "defaultKernelName": "csharp",
    "items": [
     {
      "aliases": [],
      "name": "csharp"
     }
    ]
   }
  },
  "coopTranslator": {
   "original_hash": "1baa60020a95eda27b7e9ecfda99965b",
   "translation_date": "2025-08-29T21:52:20+00:00",
   "source_file": "08-multi-agent/code_samples/08-python_multi_aiagent_bookinghotel.ipynb",
   "language_code": "bg"
  }
 },
 "nbformat": 4,
 "nbformat_minor": 2
}