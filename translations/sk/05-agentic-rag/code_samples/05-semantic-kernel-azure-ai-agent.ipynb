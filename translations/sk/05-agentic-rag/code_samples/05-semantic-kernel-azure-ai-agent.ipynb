{
 "cells": [
  {
   "cell_type": "markdown",
   "metadata": {},
   "source": [
    "# RAG pomocou služby Azure AI Agent a Semantic Kernel\n",
    "\n",
    "Tento úryvok kódu ukazuje, ako vytvoriť a spravovať Azure AI agenta pre generovanie s podporou vyhľadávania (RAG) pomocou `Azure AI Agent Service` a `Semantic Kernel`. Agent spracováva používateľské otázky na základe získaného kontextu a poskytuje presné odpovede.\n"
   ]
  },
  {
   "cell_type": "markdown",
   "metadata": {},
   "source": []
  },
  {
   "cell_type": "markdown",
   "metadata": {},
   "source": [
    "Oprava verzie SQLite  \n",
    "Ak narazíte na chybu:  \n",
    "```\n",
    "RuntimeError: Your system has an unsupported version of sqlite3. Chroma requires sqlite3 >= 3.35.0\n",
    "```  \n",
    "\n",
    "Odkomentujte tento blok kódu na začiatku vášho notebooku:  \n"
   ]
  },
  {
   "cell_type": "code",
   "execution_count": null,
   "metadata": {},
   "outputs": [],
   "source": [
    "# %pip install pysqlite3-binary\n",
    "# __import__('pysqlite3')\n",
    "# import sys\n",
    "# sys.modules['sqlite3'] = sys.modules.pop('pysqlite3')"
   ]
  },
  {
   "cell_type": "markdown",
   "metadata": {},
   "source": [
    "### Importovanie balíkov\n",
    "Nasledujúci kód importuje potrebné balíky:\n"
   ]
  },
  {
   "cell_type": "code",
   "execution_count": null,
   "metadata": {},
   "outputs": [],
   "source": [
    "# Azure imports for project client and credentials\n",
    "from azure.ai.projects.models import FileSearchTool, OpenAIFile, VectorStore\n",
    "from azure.identity.aio import DefaultAzureCredential\n",
    "\n",
    "# Semantic Kernel imports\n",
    "from semantic_kernel.agents import AzureAIAgent, AzureAIAgentThread"
   ]
  },
  {
   "cell_type": "markdown",
   "metadata": {},
   "source": [
    "# Generovanie s podporou vyhľadávania pomocou Semantic Kernel a Azure AI Agent Service\n",
    "\n",
    "Táto ukážka demonštruje, ako použiť **Azure AI Agent Service** na vykonávanie **generovania s podporou vyhľadávania (RAG)** kombináciou jazykového modelu s kontextom špecifickým pre danú oblasť z nahraného dokumentu.\n",
    "\n",
    "### Ako to funguje\n",
    "\n",
    "1. **Nahranie dokumentu**: Markdown súbor (document.md) obsahujúci informácie (poistná politika cestovného poistenia spoločnosti Contoso) je nahraný do agentovej služby.\n",
    "\n",
    "2. **Vytvorenie vektorového úložiska**: Dokument je indexovaný do vektorového úložiska, aby sa umožnilo sémantické vyhľadávanie jeho obsahu.\n",
    "\n",
    "3. **Konfigurácia agenta**: Agent je inicializovaný pomocou modelu `gpt-4o` s nasledujúcimi prísnymi pokynmi:\n",
    "   - Odpovedať iba na otázky na základe získaného obsahu z dokumentu.\n",
    "   - Odmietnuť odpovedať, ak je otázka mimo rozsahu.\n",
    "\n",
    "4. **Integrácia nástroja na vyhľadávanie v súboroch**: `FileSearchTool` je zaregistrovaný u agenta, čo umožňuje modelu počas inferencie vyhľadávať a získavať relevantné úryvky z indexovaného dokumentu.\n",
    "\n",
    "5. **Interakcia s používateľom**: Používatelia môžu klásť otázky. Ak sa v dokumente nájdu relevantné informácie, agent vygeneruje odpoveď založenú na faktoch.  \n",
    "   Ak nie, agent výslovne odpovie, že dokument neobsahuje dostatočné informácie.\n"
   ]
  },
  {
   "cell_type": "markdown",
   "metadata": {},
   "source": [
    "### Hlavná funkcia\n",
    "\n"
   ]
  },
  {
   "cell_type": "markdown",
   "metadata": {},
   "source": [
    "Uistite sa, že najskôr spustíte `az login` pomocou Azure CLI, aby bol poskytnutý správny autentifikačný kontext pri používaní `DefaultAzureCredential`. Služba Azure AI Agent Service nepoužíva API kľúče.\n"
   ]
  },
  {
   "cell_type": "code",
   "execution_count": null,
   "metadata": {},
   "outputs": [],
   "source": [
    "async def main():\n",
    "    async with (\n",
    "        DefaultAzureCredential() as creds,\n",
    "        AzureAIAgent.create_client(credential=creds) as client,\n",
    "    ):\n",
    "        file: OpenAIFile = await client.agents.upload_file_and_poll(file_path=\"document.md\", purpose=\"assistants\")\n",
    "        vector_store: VectorStore = await client.agents.create_vector_store_and_poll(\n",
    "            file_ids=[file.id], name=\"my_vectorstore\"\n",
    "        )\n",
    "\n",
    "        # Define agent name and instructions tailored for RAG.\n",
    "        AGENT_NAME = \"RAGAgent\"\n",
    "        AGENT_INSTRUCTIONS = \"\"\"\n",
    "        You are an AI assistant designed to answer user questions using only the information retrieved from the provided document(s).\n",
    "\n",
    "        - If a user's question cannot be answered using the retrieved context, **you must clearly respond**: \n",
    "        \"I'm sorry, but the uploaded document does not contain the necessary information to answer that question.\"\n",
    "        - Do not answer from general knowledge or reasoning. Do not make assumptions or generate hypothetical explanations.\n",
    "        - Do not provide definitions, tutorials, or commentary that is not explicitly grounded in the content of the uploaded file(s).\n",
    "        - If a user asks a question like \"What is a Neural Network?\", and this is not discussed in the uploaded document, respond as instructed above.\n",
    "        - For questions that do have relevant content in the document (e.g., Contoso's travel insurance coverage), respond accurately, and cite the document explicitly.\n",
    "\n",
    "        You must behave as if you have no external knowledge beyond what is retrieved from the uploaded document.\n",
    "        \"\"\"\n",
    "\n",
    "        \n",
    "        # Create file search tool with uploaded resources\n",
    "        file_search = FileSearchTool(vector_store_ids=[vector_store.id])\n",
    "\n",
    "        # 3. Create an agent on the Azure AI agent service with the file search tool\n",
    "        agent_definition = await client.agents.create_agent(\n",
    "            model=\"gpt-4o\",  # This model should match your Azure OpenAI deployment.\n",
    "            name=AGENT_NAME,\n",
    "            instructions=AGENT_INSTRUCTIONS,\n",
    "            tools=file_search.definitions,\n",
    "            tool_resources=file_search.resources,\n",
    "        )\n",
    "        \n",
    "        # Create the Azure AI Agent using the client and definition.\n",
    "        agent = AzureAIAgent(\n",
    "            client=client,\n",
    "            definition=agent_definition,\n",
    "        )\n",
    "        \n",
    "        # Create a thread to hold the conversation\n",
    "        # If no thread is provided, a new thread will be\n",
    "        # created and returned with the initial response\n",
    "        thread: AzureAIAgentThread | None = None\n",
    "        \n",
    "        # Example user queries.\n",
    "        user_inputs = [\n",
    "            \"Can you explain Contoso's travel insurance coverage?\",  # Relevant context.\n",
    "            \"What is a Neural Network?\"  # No relevant context from the document. Will not contain a source annotation.\n",
    "        ]\n",
    "        \n",
    "        try:\n",
    "            for user_input in user_inputs:\n",
    "                print(f\"# User: '{user_input}'\")\n",
    "                # Invoke the agent for the specified thread for response\n",
    "                async for response in agent.invoke(messages=user_input, thread=thread):\n",
    "                    print(f\"# {response.name}: {response}\")\n",
    "                    thread = response.thread\n",
    "        finally:\n",
    "            # Clean up resources.\n",
    "            await thread.delete() if thread else None\n",
    "            await client.agents.delete_vector_store(vector_store.id)\n",
    "            await client.agents.delete_file(file.id)\n",
    "            await client.agents.delete_agent(agent.id)\n",
    "            print(\"\\nCleaned up agent, thread, file, and vector store.\")\n",
    "\n",
    "await main()"
   ]
  },
  {
   "cell_type": "markdown",
   "metadata": {},
   "source": [
    "# Úvod\n",
    "\n",
    "Tento dokument poskytuje prehľad o tom, ako používať @@INLINE_CODE_0@@ na dosiahnutie optimálnych výsledkov. \n",
    "\n",
    "## Predpoklady\n",
    "\n",
    "Pred začatím sa uistite, že máte nainštalované nasledujúce:\n",
    "\n",
    "- @@INLINE_CODE_1@@\n",
    "- @@INLINE_CODE_2@@\n",
    "\n",
    "## Inštalácia\n",
    "\n",
    "Ak chcete nainštalovať @@INLINE_CODE_3@@, postupujte podľa týchto krokov:\n",
    "\n",
    "1. Otvorte terminál.\n",
    "2. Spustite príkaz:\n",
    "\n",
    "   ```\n",
    "# User: 'Can you explain Contoso's travel insurance coverage?'\n",
    "# Agent: Contoso's travel insurance coverage includes protection for medical emergencies, trip cancellations, and lost baggage【4:0†document.md】.\n",
    "# User: 'What is a Neural Network?'\n",
    "# Agent: I'm sorry, but the uploaded document does not contain the necessary information to answer that question.\n",
    "\n",
    "Cleaned up agent, thread, file, and vector store.\n",
    "```\n",
    "\n",
    "3. Overte inštaláciu pomocou:\n",
    "\n",
    "   @@CODE_BLOCK_1@@\n",
    "\n",
    "## Použitie\n",
    "\n",
    "### Základné použitie\n",
    "\n",
    "Na spustenie základnej operácie použite:\n",
    "\n",
    "@@CODE_BLOCK_2@@\n",
    "\n",
    "### Pokročilé možnosti\n",
    "\n",
    "Pre pokročilé možnosti môžete pridať nasledujúce parametre:\n",
    "\n",
    "@@CODE_BLOCK_3@@\n",
    "\n",
    "[!TIP] Pre najlepšie výsledky sa odporúča používať najnovšiu verziu @@INLINE_CODE_4@@.\n",
    "\n",
    "## Riešenie problémov\n",
    "\n",
    "Ak narazíte na chyby, skúste:\n",
    "\n",
    "1. Skontrolovať, či sú všetky závislosti správne nainštalované.\n",
    "2. Spustiť diagnostický príkaz:\n",
    "\n",
    "   @@CODE_BLOCK_4@@\n",
    "\n",
    "3. Pozrieť si dokumentáciu na @@INLINE_CODE_5@@.\n",
    "\n",
    "[!NOTE] Ak problém pretrváva, kontaktujte podporu na @@INLINE_CODE_6@@.\n",
    "\n",
    "## Záver\n",
    "\n",
    "Dodržiavaním vyššie uvedených krokov by ste mali byť schopní úspešne používať @@INLINE_CODE_7@@. Pre ďalšie informácie navštívte @@INLINE_CODE_8@@.\n"
   ]
  },
  {
   "cell_type": "markdown",
   "metadata": {},
   "source": [
    "\n---\n\n**Upozornenie**:  \nTento dokument bol preložený pomocou služby AI prekladu [Co-op Translator](https://github.com/Azure/co-op-translator). Hoci sa snažíme o presnosť, prosím, berte na vedomie, že automatizované preklady môžu obsahovať chyby alebo nepresnosti. Pôvodný dokument v jeho rodnom jazyku by mal byť považovaný za autoritatívny zdroj. Pre kritické informácie sa odporúča profesionálny ľudský preklad. Nie sme zodpovední za akékoľvek nedorozumenia alebo nesprávne interpretácie vyplývajúce z použitia tohto prekladu.\n"
   ]
  }
 ],
 "metadata": {
  "kernelspec": {
   "display_name": ".venv",
   "language": "python",
   "name": "python3"
  },
  "language_info": {
   "codemirror_mode": {
    "name": "ipython",
    "version": 3
   },
   "file_extension": ".py",
   "mimetype": "text/x-python",
   "name": "python",
   "nbconvert_exporter": "python",
   "pygments_lexer": "ipython3",
   "version": "3.11.11"
  },
  "coopTranslator": {
   "original_hash": "a86c3ddfbe35024993bbf563588aad48",
   "translation_date": "2025-08-29T22:06:06+00:00",
   "source_file": "05-agentic-rag/code_samples/05-semantic-kernel-azure-ai-agent.ipynb",
   "language_code": "sk"
  }
 },
 "nbformat": 4,
 "nbformat_minor": 2
}