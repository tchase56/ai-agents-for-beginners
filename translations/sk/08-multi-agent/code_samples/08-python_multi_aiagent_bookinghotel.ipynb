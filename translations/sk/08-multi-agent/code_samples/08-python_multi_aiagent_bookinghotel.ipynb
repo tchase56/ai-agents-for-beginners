{
 "cells": [
  {
   "cell_type": "markdown",
   "metadata": {},
   "source": [
    "## **Príklady: Multi-AI agenti na rezerváciu hotelov**\n",
    "\n",
    "V dnešnom rýchlom svete plánovanie pracovnej cesty zahŕňa viac než len rezerváciu letu a hotelovej izby. Vyžaduje si úroveň koordinácie a efektivity, ktorú môže byť náročné dosiahnuť. Tu prichádzajú na scénu Multi-AI agenti, ktorí revolučne menia spôsob, akým spravujeme naše cestovné potreby.\n",
    "\n",
    "Predstavte si tím inteligentných agentov, ktorí sú vám k dispozícii a spolupracujú na tom, aby zvládli každý aspekt vašej cesty s presnosťou a ľahkosťou. Vďaka našej pokročilej AI technológii sme vytvorili špecializovaných agentov na rezerváciu služieb a plánovanie itinerára, čím zabezpečujeme plynulý a bezstresový zážitok z cestovania.\n",
    "\n",
    "Toto je základný scenár. Pri plánovaní pracovnej cesty je potrebné konzultovať s agentom pre pracovné cesty, aby sme získali informácie o letenkách, hoteloch a podobne. Prostredníctvom AI agentov môžeme vytvoriť agentov na rezerváciu služieb a agentov na plánovanie itinerára, ktorí spolupracujú a zvyšujú úroveň inteligencie.\n"
   ]
  },
  {
   "cell_type": "markdown",
   "metadata": {},
   "source": [
    "# Inicializácia služby Azure AI Agent a získanie konfiguračných informácií z **.env**\n",
    "\n",
    "### **.env** \n",
    "\n",
    "Vytvorte súbor .env \n",
    "\n",
    "**.env** obsahuje reťazec pripojenia služby Azure AI Agent, model používaný AOAI a zodpovedajúcu službu Google API Search, ENDPOINT, atď.\n",
    "\n",
    "- **AZURE_AI_AGENT_MODEL_DEPLOYMENT_NAME** = \"Názov nasadenia modelu služby Azure AI Agent\"\n",
    "\n",
    "[**NOTE**] Budete potrebovať model s limitom 100 000 (tokeny za minútu) a limitom 600 (požiadavky za minútu).\n",
    "\n",
    "  Model môžete získať v Azure AI Foundry - Model a Endpoint. \n",
    "\n",
    "- **AZURE_AI_AGENT_PROJECT_CONNECTION_STRING** = \"Reťazec pripojenia projektu služby Azure AI Agent\"\n",
    "\n",
    "  Reťazec pripojenia projektu môžete získať v prehľade projektu na obrazovke AI ​​Foundry Portálu.\n",
    "\n",
    "- **SERPAPI_SEARCH_API_KEY** = \"Váš SERPAPI Search API KEY\"\n",
    "- **SERPAPI_SEARCH_ENDPOINT** = \"Váš SERPAPI Search Endpoint\"\n",
    "\n",
    "Na získanie názvu nasadenia modelu a reťazca pripojenia projektu služby Azure AI Agent je potrebné vytvoriť službu Azure AI Agent. Odporúča sa použiť [túto šablónu](https://portal.azure.com/#create/Microsoft.Template/uri/https%3A%2F%2Fraw.githubusercontent.com%2Ffosteramanda%2Fazure-agent-quickstart-templates%2Frefs%2Fheads%2Fmaster%2Fquickstarts%2Fmicrosoft.azure-ai-agent-service%2Fstandard-agent%2Fazuredeploy.json) na jej priame vytvorenie (***Poznámka:*** Služba Azure AI Agent je momentálne dostupná len v obmedzených regiónoch. Odporúča sa, aby ste si pozreli [tento odkaz](https://learn.microsoft.com/en-us/azure/ai-services/agents/concepts/model-region-support) na nastavenie regiónu).\n",
    "\n",
    "Agent potrebuje prístup k SERPAPI. Odporúča sa zaregistrovať sa pomocou [tohto odkazu](https://serpapi.com/searches). Po registrácii môžete získať unikátny API KEY a ENDPOINT.\n"
   ]
  },
  {
   "cell_type": "markdown",
   "metadata": {},
   "source": [
    "# Prihlásenie do Azure\n",
    "\n",
    "Teraz sa musíte prihlásiť do Azure. Otvorte terminál vo VScode a spustite príkaz `az login`.\n"
   ]
  },
  {
   "cell_type": "markdown",
   "metadata": {},
   "source": [
    "# Nastavenie\n",
    "\n",
    "Na spustenie tohto notebooku budete potrebovať nainštalovať nasledujúce knižnice. Tu je zoznam potrebných knižníc a zodpovedajúcich príkazov na inštaláciu pomocou pip:\n",
    "\n",
    "azure-identity: Na autentifikáciu v Azure.  \n",
    "requests: Na vykonávanie HTTP požiadaviek.  \n",
    "semantic-kernel: Pre rámec semantic kernel (za predpokladu, že ide o vlastnú alebo špecifickú knižnicu, možno ju budete musieť nainštalovať zo špecifického zdroja alebo repozitára).  \n"
   ]
  },
  {
   "cell_type": "code",
   "execution_count": null,
   "metadata": {},
   "outputs": [],
   "source": [
    "!pip install azure-identity\n",
    "!pip install requests\n",
    "!pip install semantic-kernel\n",
    "!pip install --upgrade semantic_kernel\n",
    "!pip install azure-cli"
   ]
  },
  {
   "cell_type": "markdown",
   "metadata": {},
   "source": [
    "# Vysvetlenie: \n",
    "import asyncio: Týmto sa importuje modul asyncio, ktorý poskytuje podporu pre asynchrónne programovanie v Pythone. Umožňuje písať súbežný kód pomocou syntaxe async a await.\n",
    "from typing import Annotated: Týmto sa importuje typ Annotated z modulu typing. Annotated sa používa na pridanie metaúdajov k typovým anotáciám, čo môže byť užitočné na rôzne účely, ako napríklad validácia, dokumentácia alebo nástroje.\n"
   ]
  },
  {
   "cell_type": "code",
   "execution_count": null,
   "metadata": {
    "dotnet_interactive": {
     "language": "csharp"
    },
    "polyglot_notebook": {
     "kernelName": "csharp"
    }
   },
   "outputs": [],
   "source": [
    "import asyncio,os\n",
    "from typing import Annotated"
   ]
  },
  {
   "cell_type": "markdown",
   "metadata": {},
   "source": [
    "# Vysvetlenie:\n",
    "Použitím from dotenv import load_dotenv a load_dotenv() môžete jednoducho spravovať konfiguračné nastavenia a citlivé informácie (ako API kľúče a URL databáz) v súbore .env, čím ich oddelíte od zdrojového kódu. Týmto spôsobom spravíte svoju aplikáciu bezpečnejšou a jednoduchšou na konfiguráciu.\n"
   ]
  },
  {
   "cell_type": "code",
   "execution_count": null,
   "metadata": {},
   "outputs": [],
   "source": [
    "import os\n",
    "from dotenv import load_dotenv\n",
    "\n",
    "# Load environment variables from .env file\n",
    "load_dotenv()"
   ]
  },
  {
   "cell_type": "markdown",
   "metadata": {},
   "source": [
    "# Vysvetlenie:\n",
    "\n",
    "Importovanie: from azure.identity.aio import DefaultAzureCredential: Tento príkaz importuje triedu DefaultAzureCredential z modulu azure.identity.aio. Časť názvu modulu \"aio\" naznačuje, že je určený pre asynchrónne operácie.\n",
    "\n",
    "Účel DefaultAzureCredential: Trieda DefaultAzureCredential je súčasťou Azure SDK pre Python. Poskytuje predvolený spôsob autentifikácie s Azure službami. Pokúša sa autentifikovať pomocou viacerých metód v konkrétnom poradí, ako sú environmentálne premenné, spravovaná identita a Azure CLI poverenia.\n",
    "\n",
    "Asynchrónne operácie: Modul \"aio\" naznačuje, že trieda DefaultAzureCredential podporuje asynchrónne operácie. To znamená, že ju môžete použiť s asyncio na vykonávanie neblokujúcich autentifikačných požiadaviek.\n"
   ]
  },
  {
   "cell_type": "code",
   "execution_count": null,
   "metadata": {
    "dotnet_interactive": {
     "language": "csharp"
    },
    "polyglot_notebook": {
     "kernelName": "csharp"
    }
   },
   "outputs": [],
   "source": [
    "from azure.identity.aio import DefaultAzureCredential"
   ]
  },
  {
   "cell_type": "markdown",
   "metadata": {},
   "source": [
    "# Vysvetlenie:\n",
    "Importuje rôzne moduly a triedy z balíka semantic_kernel. Tu je rozpis jednotlivých importov:\n",
    "\n",
    "AgentGroupChat zo semantic_kernel.agents: Táto trieda spracováva funkcie súvisiace so skupinovým chatom pre AI agentov. AzureAIAgent a AzureAIAgentSettings zo semantic_kernel.agents.azure_ai\n",
    "\n",
    "AzureAIAgent: Táto trieda sa používa na vytváranie a správu AI agentov, ktorí využívajú služby Azure AI.\n",
    "\n",
    "AzureAIAgentSettings: Táto trieda slúži na konfiguráciu nastavení pre AzureAIAgent. TerminationStrategy zo semantic_kernel.agents.strategies.termination.termination_strategy:\n",
    "\n",
    "Táto trieda definuje stratégie na ukončenie vykonávania AI agentov za určitých podmienok. ChatMessageContent zo semantic_kernel.contents.chat_message_content:\n",
    "\n",
    "Táto trieda sa používa na spracovanie obsahu chatových správ.\n",
    "AuthorRole zo semantic_kernel.contents.utils.author_role:\n",
    "\n",
    "Táto trieda definuje rôzne roly autorov v kontexte chatových správ. \n",
    "\n",
    "kernel_function zo semantic_kernel.functions.kernel_function_decorator: Tento dekorátor sa používa na definovanie kernel funkcií, čo sú funkcie, ktoré môžu byť vykonávané v rámci frameworku semantic kernel.\n",
    "Tieto importy nastavujú potrebné komponenty na vytváranie a správu AI agentov, ktorí môžu interagovať v prostredí skupinového chatu, pravdepodobne na úlohy ako rezervácia hotelov alebo podobné aktivity.\n"
   ]
  },
  {
   "cell_type": "code",
   "execution_count": null,
   "metadata": {
    "dotnet_interactive": {
     "language": "csharp"
    },
    "polyglot_notebook": {
     "kernelName": "csharp"
    }
   },
   "outputs": [],
   "source": [
    "from semantic_kernel.agents import AgentGroupChat\n",
    "from semantic_kernel.agents import AzureAIAgent, AzureAIAgentSettings\n",
    "from semantic_kernel.agents.strategies.termination.termination_strategy import TerminationStrategy\n",
    "from semantic_kernel.contents import ChatMessageContent\n",
    "from semantic_kernel.contents import AuthorRole\n",
    "from semantic_kernel.functions.kernel_function_decorator import kernel_function"
   ]
  },
  {
   "cell_type": "markdown",
   "metadata": {},
   "source": [
    "# Vysvetlenie:\n",
    "Ďalej importujeme triedu CodeInterpreterTool z modulu azure.ai.projects.models.\n",
    "\n",
    "CodeInterpreterTool: Táto trieda je súčasťou Azure AI SDK a slúži na interpretáciu a vykonávanie kódu v rámci AI projektov. Poskytuje funkcie na spúšťanie útržkov kódu, analýzu kódu alebo integráciu vykonávania kódu do AI pracovných postupov. Tento import nastavuje potrebnú súčasť na využitie CodeInterpreterTool vo vašom projekte, čo môže byť užitočné pre úlohy zahŕňajúce dynamickú interpretáciu a vykonávanie kódu.\n"
   ]
  },
  {
   "cell_type": "code",
   "execution_count": null,
   "metadata": {
    "dotnet_interactive": {
     "language": "csharp"
    },
    "polyglot_notebook": {
     "kernelName": "csharp"
    }
   },
   "outputs": [],
   "source": [
    "from azure.ai.projects.models import CodeInterpreterTool"
   ]
  },
  {
   "cell_type": "markdown",
   "metadata": {},
   "source": [
    "# Vysvetlenie: \n",
    "Trieda ApprovalTerminationStrategy poskytuje konkrétnu stratégiu na ukončenie operácie AI agenta. Agent sa ukončí, ak posledná správa v jeho histórii interakcií obsahuje slovo \"uložené\". To môže byť užitočné v situáciách, kde sa úloha agenta považuje za dokončenú, keď dostane potvrdenie, že niečo bolo \"uložené\". Definujte metódu interakcie. Po uložení plánu rezervácie môže byť zastavený pri prijatí signálu \"uložené\".\n"
   ]
  },
  {
   "cell_type": "code",
   "execution_count": null,
   "metadata": {
    "dotnet_interactive": {
     "language": "csharp"
    },
    "polyglot_notebook": {
     "kernelName": "csharp"
    }
   },
   "outputs": [],
   "source": [
    "class ApprovalTerminationStrategy(TerminationStrategy):\n",
    "    \"\"\"A strategy for determining when an agent should terminate.\"\"\"\n",
    "\n",
    "    async def should_agent_terminate(self, agent, history):\n",
    "        \"\"\"Check if the agent should terminate.\"\"\"\n",
    "        return \"saved\" in history[-1].content.lower()"
   ]
  },
  {
   "cell_type": "markdown",
   "metadata": {},
   "source": [
    "# Vysvetlenie:\n",
    "\n",
    "Tento riadok kódu inicializuje objekt AzureAIAgentSettings s predvolenými alebo vopred definovanými nastaveniami pomocou metódy create(). Tento objekt nastavení (ai_agent_settings) môže byť následne použitý na konfiguráciu a správu inštancie AzureAIAgent.\n"
   ]
  },
  {
   "cell_type": "code",
   "execution_count": null,
   "metadata": {
    "dotnet_interactive": {
     "language": "csharp"
    },
    "polyglot_notebook": {
     "kernelName": "csharp"
    }
   },
   "outputs": [],
   "source": [
    "ai_agent_settings = AzureAIAgentSettings.create()"
   ]
  },
  {
   "cell_type": "markdown",
   "metadata": {},
   "source": [
    "# Vysvetlenie:\n",
    "Importovaním knižnice requests môžete jednoducho vykonávať HTTP požiadavky a pracovať s webovými službami vo vašom Python kóde.\n"
   ]
  },
  {
   "cell_type": "code",
   "execution_count": null,
   "metadata": {
    "dotnet_interactive": {
     "language": "csharp"
    },
    "polyglot_notebook": {
     "kernelName": "csharp"
    }
   },
   "outputs": [],
   "source": [
    "import requests"
   ]
  },
  {
   "cell_type": "markdown",
   "metadata": {},
   "source": [
    "# Vysvetlenie:\n",
    "Toto je premenná, ktorá ukladá API kľúč na prístup k službe SERP (Search Engine Results Page). API kľúč je jedinečný identifikátor používaný na autentifikáciu požiadaviek spojených s vaším účtom.\n",
    "\n",
    "'GOOGLE_SEARCH_API_KEY': Toto je zástupný reťazec. Musíte nahradiť 'GOOGLE_SEARCH_API_KEY' vaším skutočným API kľúčom pre SERP.\n",
    "\n",
    "Účel: Účelom tohto riadku je uložiť API kľúč do premennej, aby sa mohol použiť na autentifikáciu požiadaviek na službu SERP API. API kľúč je potrebný na prístup k službe a vykonávanie vyhľadávaní.\n",
    "\n",
    "Ako získať API kľúč pre SERP: Ak chcete získať API kľúč pre SERP, postupujte podľa týchto všeobecných krokov na https://serpapi.com (presné kroky sa môžu líšiť v závislosti od konkrétnej služby SERP API, ktorú používate):\n",
    "\n",
    "Vyberte si službu SERP API: Existuje niekoľko služieb SERP API, ako napríklad SerpAPI, Google Custom Search JSON API a ďalšie. Vyberte si tú, ktorá najlepšie vyhovuje vašim potrebám.\n",
    "\n",
    "Zaregistrujte si účet:\n",
    "\n",
    "Prejdite na webovú stránku vybranej služby SERP API https://www.serpapi.com a zaregistrujte si účet. Možno budete musieť poskytnúť základné informácie a overiť svoju e-mailovú adresu.\n",
    "\n",
    "Vytvorte API kľúč:\n",
    "\n",
    "Po registrácii sa prihláste do svojho účtu a prejdite do sekcie API alebo na ovládací panel. Hľadajte možnosť vytvoriť alebo vygenerovať nový API kľúč.\n",
    "Skopírujte API kľúč:\n",
    "\n",
    "Keď je API kľúč vygenerovaný, skopírujte ho. Tento kľúč sa bude používať na autentifikáciu vašich požiadaviek na službu SERP API.\n",
    "Nahraďte zástupný reťazec:\n",
    "\n",
    "Nahraďte zástupný reťazec vo vašom súbore .env.\n"
   ]
  },
  {
   "cell_type": "code",
   "execution_count": null,
   "metadata": {
    "dotnet_interactive": {
     "language": "csharp"
    },
    "polyglot_notebook": {
     "kernelName": "csharp"
    }
   },
   "outputs": [],
   "source": [
    "SERPAPI_SEARCH_API_KEY=os.getenv('SERPAPI_SEARCH_API_KEY')"
   ]
  },
  {
   "cell_type": "code",
   "execution_count": null,
   "metadata": {
    "dotnet_interactive": {
     "language": "csharp"
    },
    "polyglot_notebook": {
     "kernelName": "csharp"
    }
   },
   "outputs": [],
   "source": [
    "SERPAPI_SEARCH_ENDPOINT = os.getenv('SERPAPI_SEARCH_ENDPOINT')"
   ]
  },
  {
   "cell_type": "markdown",
   "metadata": {},
   "source": [
    "# Vysvetlenie:\n",
    "Trieda BookingPlugin poskytuje metódy na rezerváciu hotelov a letov pomocou Google Search API od Serpapi.com. Vytvára potrebné parametre, odosiela požiadavky na API a spracováva odpovede, aby vrátila relevantné informácie o rezerváciách. API kľúč (SERPAPI_SEARCH_API_KEY) a endpoint (SERPAPI_SEARCH_ENDPOINT) sa používajú na autentifikáciu a odosielanie požiadaviek na Google Search API.\n"
   ]
  },
  {
   "cell_type": "code",
   "execution_count": null,
   "metadata": {
    "dotnet_interactive": {
     "language": "csharp"
    },
    "polyglot_notebook": {
     "kernelName": "csharp"
    }
   },
   "outputs": [],
   "source": [
    "# Define Booking Plugin\n",
    "class BookingPlugin:\n",
    "    \"\"\"Booking Plugin for customers\"\"\"\n",
    "    @kernel_function(description=\"booking hotel\")\n",
    "    def booking_hotel(self,query: Annotated[str, \"The name of the city\"], check_in_date: Annotated[str, \"Hotel Check-in Time\"], check_out_date: Annotated[str, \"Hotel Check-in Time\"])-> Annotated[str, \"Return the result of booking hotel infomation\"]:\n",
    "\n",
    "        params = {\n",
    "            \"engine\": \"google_hotels\",\n",
    "            \"q\": query,\n",
    "            \"check_in_date\": check_in_date,\n",
    "            \"check_out_date\": check_out_date,\n",
    "            \"adults\": \"2\",\n",
    "            \"currency\": \"USD\",\n",
    "            \"gl\": \"us\",\n",
    "            \"hl\": \"en\",\n",
    "            \"api_key\": SERPAPI_SEARCH_API_KEY\n",
    "        }\n",
    "\n",
    "        response = requests.get(SERPAPI_SEARCH_ENDPOINT, params=params)\n",
    "        if response.status_code == 200:\n",
    "            response = response.json()\n",
    "            return response[\"properties\"]\n",
    "        else:\n",
    "            return None\n",
    "\n",
    "    \n",
    "    @kernel_function(description=\"booking fight\")\n",
    "    def  booking_fight(self,origin: Annotated[str, \"The name of Departure\"], destination: Annotated[str, \"The name of Destination\"], outbound_date: Annotated[str, \"The date of outbound\"], return_date: Annotated[str, \"The date of Return_date\"])-> Annotated[str, \"Return the result of booking fight infomation\"]:\n",
    "        \n",
    "        go_params = {\n",
    "            \"engine\": \"google_flights\",   \n",
    "            \"departure_id\": origin,\n",
    "            \"arrival_id\": destination,\n",
    "            \"outbound_date\": outbound_date,\n",
    "            \"return_date\": return_date,  \n",
    "            \"currency\": \"USD\",\n",
    "            \"hl\": \"en\",\n",
    "            \"api_key\": SERPAPI_SEARCH_API_KEY  \n",
    "        }\n",
    "\n",
    "        print(go_params)\n",
    "\n",
    "        go_response = requests.get(SERPAPI_SEARCH_ENDPOINT, params=go_params)\n",
    "\n",
    "\n",
    "        result = ''\n",
    "\n",
    "        if go_response.status_code == 200:\n",
    "            response = go_response.json()\n",
    "\n",
    "            result += \"# outbound \\n \" + str(response)\n",
    "        else:\n",
    "            print('error!!!')\n",
    "            # return None\n",
    "\n",
    "        \n",
    "        back_params = {\n",
    "            \"engine\": \"google_flights\",   \n",
    "            \"departure_id\": destination,\n",
    "            \"arrival_id\": origin,\n",
    "            \"outbound_date\": return_date,\n",
    "            \"return_date\": return_date,  \n",
    "            \"currency\": \"USD\",\n",
    "            \"hl\": \"en\",\n",
    "            \"api_key\": SERPAPI_SEARCH_API_KEY  \n",
    "        }\n",
    "\n",
    "\n",
    "        print(back_params)\n",
    "\n",
    "\n",
    "        back_response = requests.get(SERPAPI_SEARCH_ENDPOINT, params=back_params)\n",
    "\n",
    "\n",
    "\n",
    "        if back_response.status_code == 200:\n",
    "            response = back_response.json()\n",
    "\n",
    "            result += \"\\n # return \\n\"  + str(response)\n",
    "\n",
    "        else:\n",
    "            print('error!!!')\n",
    "            # return None\n",
    "        \n",
    "        print(result)\n",
    "\n",
    "        return result\n",
    "\n",
    "        \n"
   ]
  },
  {
   "cell_type": "markdown",
   "metadata": {},
   "source": [
    "# Vysvetlenie:\n",
    "Trieda SavePlugin poskytuje metódu saving_plan na uloženie plánov ciest pomocou služieb Azure AI. Nastavuje Azure poverenia, vytvára AI agenta, spracováva vstupy používateľa na generovanie a uloženie obsahu plánu cesty a zabezpečuje operácie ukladania súborov a čistenia. Metóda vráti \"Saved\" po úspešnom dokončení.\n"
   ]
  },
  {
   "cell_type": "code",
   "execution_count": null,
   "metadata": {
    "dotnet_interactive": {
     "language": "csharp"
    },
    "polyglot_notebook": {
     "kernelName": "csharp"
    }
   },
   "outputs": [],
   "source": [
    "class SavePlugin:\n",
    "    \"\"\"Save Plugin for customers\"\"\"\n",
    "    @kernel_function(description=\"saving plan\")\n",
    "    async def saving_plan(self,tripplan: Annotated[str, \"The content of trip plan\"])-> Annotated[str, \"Return status of save content\"]:\n",
    "\n",
    "        async with (\n",
    "            DefaultAzureCredential() as creds,\n",
    "            AzureAIAgent.create_client(\n",
    "                credential=creds,\n",
    "                conn_str=ai_agent_settings.project_connection_string.get_secret_value(),\n",
    "            ) as client,\n",
    "        ):\n",
    "\n",
    "            code_interpreter = CodeInterpreterTool()\n",
    "            \n",
    "            agent_definition = await client.agents.create_agent(\n",
    "                model=ai_agent_settings.model_deployment_name,\n",
    "                tools=code_interpreter.definitions,\n",
    "                tool_resources=code_interpreter.resources,\n",
    "            )\n",
    "\n",
    "\n",
    "            agent = AzureAIAgent(\n",
    "                client=client,\n",
    "                definition=agent_definition,\n",
    "            )\n",
    "\n",
    "            thread = await client.agents.create_thread()\n",
    "\n",
    "\n",
    "            user_inputs = [\n",
    "                \"\"\"\n",
    "            \n",
    "                        You are my Python programming assistant. Generate code,save \"\"\"+ tripplan +\n",
    "                        \n",
    "                    \"\"\"    \n",
    "                        and execute it according to the following requirements\n",
    "\n",
    "                        1. Save blog content to trip-{YYMMDDHHMMSS}.md\n",
    "\n",
    "                        2. give me the download this file link\n",
    "                    \"\"\"\n",
    "            ]\n",
    "\n",
    "\n",
    "\n",
    "            try:\n",
    "                for user_input in user_inputs:\n",
    "                    # Add the user input as a chat message\n",
    "                    await agent.add_chat_message(\n",
    "                        thread_id=thread.id, message=ChatMessageContent(role=AuthorRole.USER, content=user_input)\n",
    "                    )\n",
    "                    print(f\"# User: '{user_input}'\")\n",
    "                    # Invoke the agent for the specified thread\n",
    "                    async for content in agent.invoke(thread_id=thread.id):\n",
    "                        if content.role != AuthorRole.TOOL:\n",
    "                            print(f\"# Agent: {content.content}\")\n",
    "\n",
    "                    \n",
    "                    messages = await client.agents.list_messages(thread_id=thread.id)\n",
    "\n",
    "                    # OpenAIPageableListOfThreadMessage\n",
    "                    # OpenAIPageableListOfThreadMessage\n",
    "\n",
    "\n",
    "                    for file_path_annotation in messages.file_path_annotations:\n",
    "\n",
    "                            file_name = os.path.basename(file_path_annotation.text)\n",
    "\n",
    "                            await client.agents.save_file(file_id=file_path_annotation.file_path.file_id, file_name=file_name,target_dir=\"./trip\")\n",
    "\n",
    "                    \n",
    "            finally:\n",
    "                await client.agents.delete_thread(thread.id)\n",
    "                await client.agents.delete_agent(agent.id)\n",
    "\n",
    "\n",
    "        return \"Saved\""
   ]
  },
  {
   "cell_type": "markdown",
   "metadata": {},
   "source": [
    "# Vysvetlenie:\n",
    "Tento kód nastavuje agentov Azure AI na spracovanie rezervácií letov a hotelov a ukladanie plánov ciest na základe vstupov od používateľov. Používa Azure poverenia na vytvorenie a konfiguráciu agentov, spracováva vstupy používateľov prostredníctvom skupinového chatu a zabezpečuje správne vyčistenie po dokončení úloh. Agenti používajú špecifické pluginy (BookingPlugin a SavePlugin) na vykonávanie svojich príslušných úloh.\n"
   ]
  },
  {
   "cell_type": "code",
   "execution_count": null,
   "metadata": {
    "dotnet_interactive": {
     "language": "csharp"
    },
    "polyglot_notebook": {
     "kernelName": "csharp"
    }
   },
   "outputs": [],
   "source": [
    "async with (\n",
    "    DefaultAzureCredential() as creds,\n",
    "    AzureAIAgent.create_client(\n",
    "        credential=creds,\n",
    "        conn_str=ai_agent_settings.project_connection_string.get_secret_value(),\n",
    "    ) as client,\n",
    "):\n",
    "    BOOKING_AGENT_NAME = \"BookingAgent\"\n",
    "    BOOKING_AGENT_INSTRUCTIONS = \"\"\"\n",
    "    You are a booking agent. Help me book flights or hotels.\n",
    "\n",
    "    Thought: Please understand the user's intention and confirm whether to use the reservation system to complete the task.\n",
    "\n",
    "    Actions:\n",
    "    - For flight bookings, convert the departure and destination names into airport codes.\n",
    "    - Use the appropriate API for hotel or flight bookings. Verify that all necessary parameters are available. If any parameters are missing, ask the user to provide them. If all parameters are complete, call the corresponding function.\n",
    "    - If the task is not related to hotel or flight booking, respond with the final answer only.\n",
    "    - Output the results using a markdown table:\n",
    "      - For flight bookings, output separate outbound and return contents in the order of:\n",
    "        Departure Airport | Airline | Flight Number | Departure Time | Arrival Airport | Arrival Time | Duration | Airplane | Travel Class | Price (USD) | Legroom | Extensions | Carbon Emissions (kg).\n",
    "      - For hotel bookings, output in the order of:\n",
    "        Property Name | Property Description | Check-in Time | Check-out Time | Prices | Nearby Places | Hotel Class | GPS Coordinates.\n",
    "    \"\"\"\n",
    "\n",
    "    SAVE_AGENT_NAME = \"SaveAgent\"\n",
    "    SAVE_AGENT_INSTRUCTIONS = \"\"\"\n",
    "    You are a save tool agent. Help me to save the trip plan.\n",
    "    \"\"\"\n",
    "\n",
    "    # Create agent definition\n",
    "    booking_agent_definition = await client.agents.create_agent(\n",
    "        model=ai_agent_settings.model_deployment_name,\n",
    "        name=BOOKING_AGENT_NAME,\n",
    "        instructions=BOOKING_AGENT_INSTRUCTIONS,\n",
    "    )\n",
    "\n",
    "    # Create the AzureAI Agent\n",
    "    booking_agent = AzureAIAgent(\n",
    "        client=client,\n",
    "        definition=booking_agent_definition,\n",
    "        # Optionally configure polling options\n",
    "        # polling_options=RunPollingOptions(run_polling_interval=timedelta(seconds=1)),\n",
    "    )\n",
    "\n",
    "    # Add the sample plugin to the kernel\n",
    "    booking_agent.kernel.add_plugin(BookingPlugin(), plugin_name=\"booking\")\n",
    "\n",
    "    # Create agent definition\n",
    "    save_agent_definition = await client.agents.create_agent(\n",
    "        model=ai_agent_settings.model_deployment_name,\n",
    "        name=SAVE_AGENT_NAME,\n",
    "        instructions=SAVE_AGENT_INSTRUCTIONS\n",
    "    )\n",
    "\n",
    "    # Create the AzureAI Agent\n",
    "    save_agent = AzureAIAgent(\n",
    "        client=client,\n",
    "        definition=save_agent_definition,\n",
    "    )\n",
    "\n",
    "    save_agent.kernel.add_plugin(SavePlugin(), plugin_name=\"saving\")\n",
    "\n",
    "    user_inputs = [\n",
    "        \"I have a business trip from London to New York in Feb 20 2025 to Feb 27 2025 ,help me to book a hotel and fight tickets and save it\"\n",
    "    ]\n",
    "\n",
    "    chat = AgentGroupChat(\n",
    "        agents=[booking_agent, save_agent],\n",
    "        termination_strategy=ApprovalTerminationStrategy(agents=[save_agent], maximum_iterations=10),\n",
    "    )\n",
    "\n",
    "    try:\n",
    "        for user_input in user_inputs:\n",
    "            # Add the user input as a chat message\n",
    "            await chat.add_chat_message(\n",
    "                ChatMessageContent(role=AuthorRole.USER, content=user_input)\n",
    "            )\n",
    "            print(f\"# User: '{user_input}'\")\n",
    "\n",
    "            async for content in chat.invoke():\n",
    "                print(f\"# {content.role} - {content.name or '*'}: '{content.content}'\")\n",
    "\n",
    "            print(f\"# IS COMPLETE: {chat.is_complete}\")\n",
    "\n",
    "            print(\"*\" * 60)\n",
    "            print(\"Chat History (In Descending Order):\\n\")\n",
    "            async for message in chat.get_chat_messages(agent=save_agent):\n",
    "                print(f\"# {message.role} - {message.name or '*'}: '{message.content}'\")\n",
    "    finally:\n",
    "        await chat.reset()\n",
    "        await client.agents.delete_agent(save_agent.id)\n",
    "        await client.agents.delete_agent(booking_agent.id)\n"
   ]
  },
  {
   "cell_type": "markdown",
   "metadata": {},
   "source": [
    "\n---\n\n**Upozornenie**:  \nTento dokument bol preložený pomocou služby AI prekladu [Co-op Translator](https://github.com/Azure/co-op-translator). Hoci sa snažíme o presnosť, prosím, berte na vedomie, že automatizované preklady môžu obsahovať chyby alebo nepresnosti. Pôvodný dokument v jeho pôvodnom jazyku by mal byť považovaný za autoritatívny zdroj. Pre kritické informácie sa odporúča profesionálny ľudský preklad. Nie sme zodpovední za akékoľvek nedorozumenia alebo nesprávne interpretácie vyplývajúce z použitia tohto prekladu.\n"
   ]
  }
 ],
 "metadata": {
  "kernelspec": {
   "display_name": "3.12.1",
   "language": "python",
   "name": "python3"
  },
  "language_info": {
   "codemirror_mode": {
    "name": "ipython",
    "version": 3
   },
   "file_extension": ".py",
   "mimetype": "text/x-python",
   "name": "python",
   "nbconvert_exporter": "python",
   "pygments_lexer": "ipython3",
   "version": "3.12.1"
  },
  "polyglot_notebook": {
   "kernelInfo": {
    "defaultKernelName": "csharp",
    "items": [
     {
      "aliases": [],
      "name": "csharp"
     }
    ]
   }
  },
  "coopTranslator": {
   "original_hash": "1baa60020a95eda27b7e9ecfda99965b",
   "translation_date": "2025-08-29T21:50:30+00:00",
   "source_file": "08-multi-agent/code_samples/08-python_multi_aiagent_bookinghotel.ipynb",
   "language_code": "sk"
  }
 },
 "nbformat": 4,
 "nbformat_minor": 2
}