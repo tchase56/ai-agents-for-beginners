{
 "cells": [
  {
   "cell_type": "markdown",
   "metadata": {},
   "source": [
    "## **Ukázky: Multi-AI agenti pro rezervaci hotelu**\n",
    "\n",
    "V dnešním uspěchaném světě plánování služební cesty zahrnuje víc než jen rezervaci letu a hotelového pokoje. Vyžaduje úroveň koordinace a efektivity, kterou může být obtížné dosáhnout. Právě zde přicházejí na scénu Multi-AI agenti, kteří revolučním způsobem mění způsob, jakým spravujeme naše cestovní potřeby.\n",
    "\n",
    "Představte si tým inteligentních agentů, kteří jsou vám k dispozici a společně se starají o každý aspekt vaší cesty s přesností a lehkostí. Díky naší pokročilé AI technologii jsme vytvořili specializované agenty pro rezervace služeb a plánování itineráře, což zajišťuje bezproblémový a bezstresový cestovní zážitek.\n",
    "\n",
    "Toto je základní scénář. Při plánování služební cesty je potřeba konzultovat s cestovním agentem informace o letenkách, hotelech atd. Prostřednictvím AI agentů můžeme vytvořit agenty pro rezervace služeb a agenty pro plánování itineráře, kteří spolupracují a zvyšují úroveň inteligence.\n"
   ]
  },
  {
   "cell_type": "markdown",
   "metadata": {},
   "source": [
    "# Inicializace služby Azure AI Agent a získání konfiguračních informací z **.env**\n",
    "\n",
    "### **.env** \n",
    "\n",
    "Vytvořte soubor .env \n",
    "\n",
    "Soubor **.env** obsahuje připojovací řetězec služby Azure AI Agent, model používaný AOAI a odpovídající API služby Google API Search, ENDPOINT atd.\n",
    "\n",
    "- **AZURE_AI_AGENT_MODEL_DEPLOYMENT_NAME** = \"Název nasazení modelu služby Azure AI Agent\"\n",
    "\n",
    "[**NOTE**] Budete potřebovat model s limitem 100 000 tokenů za minutu (Rate Limit) a limitem 600 požadavků za minutu (Request per minute).\n",
    "\n",
    "  Model můžete získat v Azure AI Foundry - Model and Endpoint. \n",
    "\n",
    "- **AZURE_AI_AGENT_PROJECT_CONNECTION_STRING** = \"Připojovací řetězec projektu služby Azure AI Agent\"\n",
    "\n",
    "  Připojovací řetězec projektu najdete v přehledu projektu na obrazovce AI ​​Foundry Portal.\n",
    "\n",
    "- **SERPAPI_SEARCH_API_KEY** = \"Váš SERPAPI Search API KEY\"\n",
    "- **SERPAPI_SEARCH_ENDPOINT** = \"Váš SERPAPI Search Endpoint\"\n",
    "\n",
    "Pro získání názvu nasazení modelu a připojovacího řetězce projektu služby Azure AI Agent je nutné vytvořit službu Azure AI Agent. Doporučuje se použít [tuto šablonu](https://portal.azure.com/#create/Microsoft.Template/uri/https%3A%2F%2Fraw.githubusercontent.com%2Ffosteramanda%2Fazure-agent-quickstart-templates%2Frefs%2Fheads%2Fmaster%2Fquickstarts%2Fmicrosoft.azure-ai-agent-service%2Fstandard-agent%2Fazuredeploy.json) pro přímé vytvoření. (***Poznámka:*** Služba Azure AI Agent je aktuálně nastavena v omezených regionech. Doporučuje se odkazovat na [tento odkaz](https://learn.microsoft.com/en-us/azure/ai-services/agents/concepts/model-region-support) pro nastavení regionu.)\n",
    "\n",
    "Agent potřebuje přístup k SERPAPI. Doporučuje se zaregistrovat pomocí [tohoto odkazu](https://serpapi.com/searches). Po registraci můžete získat jedinečný API KEY a ENDPOINT.\n"
   ]
  },
  {
   "cell_type": "markdown",
   "metadata": {},
   "source": [
    "# Přihlášení do Azure\n",
    "\n",
    "Nyní se musíte přihlásit do Azure. Otevřete terminál ve VScode a spusťte příkaz `az login`.\n"
   ]
  },
  {
   "cell_type": "markdown",
   "metadata": {},
   "source": [
    "# Nastavení\n",
    "\n",
    "Pro spuštění tohoto notebooku budete potřebovat nainstalovat následující knihovny. Zde je seznam požadovaných knihoven a odpovídající příkazy pro instalaci pomocí pip:\n",
    "\n",
    "azure-identity: Pro autentizaci Azure.\n",
    "requests: Pro provádění HTTP požadavků.\n",
    "semantic-kernel: Pro framework semantic kernel (pokud se jedná o vlastní nebo specifickou knihovnu, možná ji budete muset nainstalovat z konkrétního zdroje nebo repozitáře).\n"
   ]
  },
  {
   "cell_type": "code",
   "execution_count": null,
   "metadata": {},
   "outputs": [],
   "source": [
    "!pip install azure-identity\n",
    "!pip install requests\n",
    "!pip install semantic-kernel\n",
    "!pip install --upgrade semantic_kernel\n",
    "!pip install azure-cli"
   ]
  },
  {
   "cell_type": "markdown",
   "metadata": {},
   "source": [
    "# Vysvětlení: \n",
    "import asyncio: Tímto se importuje modul asyncio, který poskytuje podporu pro asynchronní programování v Pythonu. Umožňuje psát souběžný kód pomocí syntaxe async a await.\n",
    "from typing: Annotated: Tímto se importuje typ Annotated z modulu typing. Annotated se používá k přidání metadata k typovým anotacím, což může být užitečné pro různé účely, jako je validace, dokumentace nebo nástroje.\n"
   ]
  },
  {
   "cell_type": "code",
   "execution_count": null,
   "metadata": {
    "dotnet_interactive": {
     "language": "csharp"
    },
    "polyglot_notebook": {
     "kernelName": "csharp"
    }
   },
   "outputs": [],
   "source": [
    "import asyncio,os\n",
    "from typing import Annotated"
   ]
  },
  {
   "cell_type": "markdown",
   "metadata": {},
   "source": [
    "# Vysvětlení:\n",
    "Použitím from dotenv import load_dotenv a load_dotenv() můžete snadno spravovat nastavení konfigurace a citlivé informace (jako API klíče a URL adresy databází) v souboru .env, čímž je oddělíte od zdrojového kódu. To zvyšuje bezpečnost vaší aplikace a usnadňuje její konfiguraci.\n"
   ]
  },
  {
   "cell_type": "code",
   "execution_count": null,
   "metadata": {},
   "outputs": [],
   "source": [
    "import os\n",
    "from dotenv import load_dotenv\n",
    "\n",
    "# Load environment variables from .env file\n",
    "load_dotenv()"
   ]
  },
  {
   "cell_type": "markdown",
   "metadata": {},
   "source": [
    "# Vysvětlení:\n",
    "\n",
    "Import příkazu: from azure.identity.aio import DefaultAzureCredential: Tento příkaz importuje třídu DefaultAzureCredential z modulu azure.identity.aio. Část názvu modulu \"aio\" naznačuje, že je navržen pro asynchronní operace.\n",
    "\n",
    "Účel DefaultAzureCredential: Třída DefaultAzureCredential je součástí Azure SDK pro Python. Poskytuje výchozí způsob autentizace s Azure službami. Pokouší se autentizovat pomocí několika metod ve specifickém pořadí, jako jsou proměnné prostředí, spravovaná identita a přihlašovací údaje Azure CLI.\n",
    "\n",
    "Asynchronní operace: Modul \"aio\" naznačuje, že třída DefaultAzureCredential podporuje asynchronní operace. To znamená, že ji můžete použít s asyncio pro provádění neblokujících autentizačních požadavků.\n"
   ]
  },
  {
   "cell_type": "code",
   "execution_count": null,
   "metadata": {
    "dotnet_interactive": {
     "language": "csharp"
    },
    "polyglot_notebook": {
     "kernelName": "csharp"
    }
   },
   "outputs": [],
   "source": [
    "from azure.identity.aio import DefaultAzureCredential"
   ]
  },
  {
   "cell_type": "markdown",
   "metadata": {},
   "source": [
    "# Vysvětlení:\n",
    "Importuje různé moduly a třídy z balíčku semantic_kernel. Zde je rozbor jednotlivých importů:\n",
    "\n",
    "AgentGroupChat z semantic_kernel.agents: Tato třída zajišťuje funkce související se skupinovým chatem pro AI agenty. AzureAIAgent a AzureAIAgentSettings z semantic_kernel.agents.azure_ai\n",
    "\n",
    "AzureAIAgent: Tato třída slouží k vytváření a správě AI agentů, kteří využívají služby Azure AI.\n",
    "\n",
    "AzureAIAgentSettings: Tato třída slouží ke konfiguraci nastavení pro AzureAIAgent. TerminationStrategy z semantic_kernel.agents.strategies.termination.termination_strategy:\n",
    "\n",
    "Tato třída definuje strategie pro ukončení činnosti AI agentů za určitých podmínek. ChatMessageContent z semantic_kernel.contents.chat_message_content:\n",
    "\n",
    "Tato třída slouží ke zpracování obsahu chatových zpráv.\n",
    "AuthorRole z semantic_kernel.contents.utils.author_role:\n",
    "\n",
    "Tato třída definuje různé role autorů v kontextu chatových zpráv.\n",
    "\n",
    "kernel_function z semantic_kernel.functions.kernel_function_decorator: Tento dekorátor se používá k definování kernel funkcí, což jsou funkce, které lze spustit v rámci frameworku semantic kernel.\n",
    "Tyto importy nastavují potřebné komponenty pro vytváření a správu AI agentů, kteří mohou komunikovat ve skupinovém chatu, například pro úkoly jako rezervace hotelů nebo podobné aktivity.\n"
   ]
  },
  {
   "cell_type": "code",
   "execution_count": null,
   "metadata": {
    "dotnet_interactive": {
     "language": "csharp"
    },
    "polyglot_notebook": {
     "kernelName": "csharp"
    }
   },
   "outputs": [],
   "source": [
    "from semantic_kernel.agents import AgentGroupChat\n",
    "from semantic_kernel.agents import AzureAIAgent, AzureAIAgentSettings\n",
    "from semantic_kernel.agents.strategies.termination.termination_strategy import TerminationStrategy\n",
    "from semantic_kernel.contents import ChatMessageContent\n",
    "from semantic_kernel.contents import AuthorRole\n",
    "from semantic_kernel.functions.kernel_function_decorator import kernel_function"
   ]
  },
  {
   "cell_type": "markdown",
   "metadata": {},
   "source": [
    "# Vysvětlení:\n",
    "Dále importujeme třídu CodeInterpreterTool z modulu azure.ai.projects.models.\n",
    "\n",
    "CodeInterpreterTool: Tato třída je součástí Azure AI SDK a slouží k interpretaci a provádění kódu v rámci AI projektů. Poskytuje funkce pro spuštění úryvků kódu, analýzu kódu nebo integraci provádění kódu do AI pracovních postupů. Tento import nastavuje potřebnou komponentu pro využití CodeInterpreterTool ve vašem projektu, což může být užitečné pro úkoly zahrnující dynamickou interpretaci a provádění kódu.\n"
   ]
  },
  {
   "cell_type": "code",
   "execution_count": null,
   "metadata": {
    "dotnet_interactive": {
     "language": "csharp"
    },
    "polyglot_notebook": {
     "kernelName": "csharp"
    }
   },
   "outputs": [],
   "source": [
    "from azure.ai.projects.models import CodeInterpreterTool"
   ]
  },
  {
   "cell_type": "markdown",
   "metadata": {},
   "source": [
    "# Vysvětlení:  \n",
    "Třída ApprovalTerminationStrategy poskytuje specifickou strategii pro ukončení činnosti AI agenta. Agent ukončí svou činnost, pokud poslední zpráva v jeho historii interakcí obsahuje slovo „uloženo“. To může být užitečné ve scénářích, kdy je úkol agenta považován za dokončený, jakmile obdrží potvrzení, že něco bylo „uloženo“. Definujte metodu interakce. Po uložení plánu rezervace může být činnost ukončena při přijetí signálu „uloženo“.\n"
   ]
  },
  {
   "cell_type": "code",
   "execution_count": null,
   "metadata": {
    "dotnet_interactive": {
     "language": "csharp"
    },
    "polyglot_notebook": {
     "kernelName": "csharp"
    }
   },
   "outputs": [],
   "source": [
    "class ApprovalTerminationStrategy(TerminationStrategy):\n",
    "    \"\"\"A strategy for determining when an agent should terminate.\"\"\"\n",
    "\n",
    "    async def should_agent_terminate(self, agent, history):\n",
    "        \"\"\"Check if the agent should terminate.\"\"\"\n",
    "        return \"saved\" in history[-1].content.lower()"
   ]
  },
  {
   "cell_type": "markdown",
   "metadata": {},
   "source": [
    "# Vysvětlení:\n",
    "\n",
    "Řádek kódu inicializuje objekt AzureAIAgentSettings s výchozím nebo předem definovaným nastavením pomocí metody create(). Tento objekt nastavení (ai_agent_settings) může být následně použit k konfiguraci a správě instance AzureAIAgent.\n"
   ]
  },
  {
   "cell_type": "code",
   "execution_count": null,
   "metadata": {
    "dotnet_interactive": {
     "language": "csharp"
    },
    "polyglot_notebook": {
     "kernelName": "csharp"
    }
   },
   "outputs": [],
   "source": [
    "ai_agent_settings = AzureAIAgentSettings.create()"
   ]
  },
  {
   "cell_type": "markdown",
   "metadata": {},
   "source": [
    "# Vysvětlení:\n",
    "Importováním knihovny requests můžete snadno provádět HTTP požadavky a komunikovat s webovými službami ve vašem Python kódu.\n"
   ]
  },
  {
   "cell_type": "code",
   "execution_count": null,
   "metadata": {
    "dotnet_interactive": {
     "language": "csharp"
    },
    "polyglot_notebook": {
     "kernelName": "csharp"
    }
   },
   "outputs": [],
   "source": [
    "import requests"
   ]
  },
  {
   "cell_type": "markdown",
   "metadata": {},
   "source": [
    "# Vysvětlení:\n",
    "Toto je proměnná, která ukládá API klíč pro přístup k API službě SERP (Search Engine Results Page). API klíč je jedinečný identifikátor používaný k ověření požadavků spojených s vaším účtem.\n",
    "\n",
    "'GOOGLE_SEARCH_API_KEY': Toto je zástupný řetězec. Musíte nahradit ''GOOGLE_SEARCH_API_KEY'' vaším skutečným API klíčem pro SERP.\n",
    "\n",
    "Účel: Účelem tohoto řádku je uložit API klíč do proměnné, aby mohl být použit k ověření požadavků na API službu SERP. API klíč je nezbytný pro přístup ke službě a provádění vyhledávání.\n",
    "\n",
    "Jak získat API klíč pro SERP: Chcete-li získat API klíč pro SERP, postupujte podle těchto obecných kroků na https://serpapi.com (konkrétní kroky se mohou lišit v závislosti na používané službě SERP API):\n",
    "\n",
    "Vyberte si službu SERP API: Existuje několik dostupných služeb SERP API, jako například SerpAPI, Google Custom Search JSON API a další. Vyberte si tu, která nejlépe vyhovuje vašim potřebám.\n",
    "\n",
    "Zaregistrujte si účet:\n",
    "\n",
    "Přejděte na web vybrané služby SERP API https://www.serpapi.com a zaregistrujte si účet. Možná budete muset poskytnout základní informace a ověřit svou e-mailovou adresu.\n",
    "\n",
    "Vytvořte API klíč:\n",
    "\n",
    "Po registraci se přihlaste ke svému účtu a přejděte do sekce API nebo na ovládací panel. Hledejte možnost vytvořit nebo vygenerovat nový API klíč.\n",
    "Zkopírujte API klíč:\n",
    "\n",
    "Jakmile je API klíč vygenerován, zkopírujte jej. Tento klíč bude použit k ověření vašich požadavků na službu SERP API.\n",
    "Nahraďte zástupný řetězec:\n",
    "\n",
    "Nahraďte zástupný řetězec ve vašem souboru .env.\n"
   ]
  },
  {
   "cell_type": "code",
   "execution_count": null,
   "metadata": {
    "dotnet_interactive": {
     "language": "csharp"
    },
    "polyglot_notebook": {
     "kernelName": "csharp"
    }
   },
   "outputs": [],
   "source": [
    "SERPAPI_SEARCH_API_KEY=os.getenv('SERPAPI_SEARCH_API_KEY')"
   ]
  },
  {
   "cell_type": "code",
   "execution_count": null,
   "metadata": {
    "dotnet_interactive": {
     "language": "csharp"
    },
    "polyglot_notebook": {
     "kernelName": "csharp"
    }
   },
   "outputs": [],
   "source": [
    "SERPAPI_SEARCH_ENDPOINT = os.getenv('SERPAPI_SEARCH_ENDPOINT')"
   ]
  },
  {
   "cell_type": "markdown",
   "metadata": {},
   "source": [
    "# Vysvětlení:\n",
    "Třída BookingPlugin poskytuje metody pro rezervaci hotelů a letů pomocí Google Search API od Serpapi.com. Sestavuje potřebné parametry, odesílá požadavky na API a zpracovává odpovědi, aby vrátila relevantní informace o rezervacích. API klíč (SERPAPI_SEARCH_API_KEY) a endpoint (SERPAPI_SEARCH_ENDPOINT) se používají k autentizaci a odesílání požadavků na Google Search API.\n"
   ]
  },
  {
   "cell_type": "code",
   "execution_count": null,
   "metadata": {
    "dotnet_interactive": {
     "language": "csharp"
    },
    "polyglot_notebook": {
     "kernelName": "csharp"
    }
   },
   "outputs": [],
   "source": [
    "# Define Booking Plugin\n",
    "class BookingPlugin:\n",
    "    \"\"\"Booking Plugin for customers\"\"\"\n",
    "    @kernel_function(description=\"booking hotel\")\n",
    "    def booking_hotel(self,query: Annotated[str, \"The name of the city\"], check_in_date: Annotated[str, \"Hotel Check-in Time\"], check_out_date: Annotated[str, \"Hotel Check-in Time\"])-> Annotated[str, \"Return the result of booking hotel infomation\"]:\n",
    "\n",
    "        params = {\n",
    "            \"engine\": \"google_hotels\",\n",
    "            \"q\": query,\n",
    "            \"check_in_date\": check_in_date,\n",
    "            \"check_out_date\": check_out_date,\n",
    "            \"adults\": \"2\",\n",
    "            \"currency\": \"USD\",\n",
    "            \"gl\": \"us\",\n",
    "            \"hl\": \"en\",\n",
    "            \"api_key\": SERPAPI_SEARCH_API_KEY\n",
    "        }\n",
    "\n",
    "        response = requests.get(SERPAPI_SEARCH_ENDPOINT, params=params)\n",
    "        if response.status_code == 200:\n",
    "            response = response.json()\n",
    "            return response[\"properties\"]\n",
    "        else:\n",
    "            return None\n",
    "\n",
    "    \n",
    "    @kernel_function(description=\"booking fight\")\n",
    "    def  booking_fight(self,origin: Annotated[str, \"The name of Departure\"], destination: Annotated[str, \"The name of Destination\"], outbound_date: Annotated[str, \"The date of outbound\"], return_date: Annotated[str, \"The date of Return_date\"])-> Annotated[str, \"Return the result of booking fight infomation\"]:\n",
    "        \n",
    "        go_params = {\n",
    "            \"engine\": \"google_flights\",   \n",
    "            \"departure_id\": origin,\n",
    "            \"arrival_id\": destination,\n",
    "            \"outbound_date\": outbound_date,\n",
    "            \"return_date\": return_date,  \n",
    "            \"currency\": \"USD\",\n",
    "            \"hl\": \"en\",\n",
    "            \"api_key\": SERPAPI_SEARCH_API_KEY  \n",
    "        }\n",
    "\n",
    "        print(go_params)\n",
    "\n",
    "        go_response = requests.get(SERPAPI_SEARCH_ENDPOINT, params=go_params)\n",
    "\n",
    "\n",
    "        result = ''\n",
    "\n",
    "        if go_response.status_code == 200:\n",
    "            response = go_response.json()\n",
    "\n",
    "            result += \"# outbound \\n \" + str(response)\n",
    "        else:\n",
    "            print('error!!!')\n",
    "            # return None\n",
    "\n",
    "        \n",
    "        back_params = {\n",
    "            \"engine\": \"google_flights\",   \n",
    "            \"departure_id\": destination,\n",
    "            \"arrival_id\": origin,\n",
    "            \"outbound_date\": return_date,\n",
    "            \"return_date\": return_date,  \n",
    "            \"currency\": \"USD\",\n",
    "            \"hl\": \"en\",\n",
    "            \"api_key\": SERPAPI_SEARCH_API_KEY  \n",
    "        }\n",
    "\n",
    "\n",
    "        print(back_params)\n",
    "\n",
    "\n",
    "        back_response = requests.get(SERPAPI_SEARCH_ENDPOINT, params=back_params)\n",
    "\n",
    "\n",
    "\n",
    "        if back_response.status_code == 200:\n",
    "            response = back_response.json()\n",
    "\n",
    "            result += \"\\n # return \\n\"  + str(response)\n",
    "\n",
    "        else:\n",
    "            print('error!!!')\n",
    "            # return None\n",
    "        \n",
    "        print(result)\n",
    "\n",
    "        return result\n",
    "\n",
    "        \n"
   ]
  },
  {
   "cell_type": "markdown",
   "metadata": {},
   "source": [
    "# Vysvětlení:\n",
    "Třída SavePlugin poskytuje metodu saving_plan pro ukládání plánů cest pomocí služeb Azure AI. Nastavuje Azure přihlašovací údaje, vytváří AI agenta, zpracovává vstupy uživatele pro vytvoření a uložení obsahu plánu cesty a zajišťuje operace ukládání souborů a jejich vyčištění. Metoda vrací \"Uloženo\" po úspěšném dokončení.\n"
   ]
  },
  {
   "cell_type": "code",
   "execution_count": null,
   "metadata": {
    "dotnet_interactive": {
     "language": "csharp"
    },
    "polyglot_notebook": {
     "kernelName": "csharp"
    }
   },
   "outputs": [],
   "source": [
    "class SavePlugin:\n",
    "    \"\"\"Save Plugin for customers\"\"\"\n",
    "    @kernel_function(description=\"saving plan\")\n",
    "    async def saving_plan(self,tripplan: Annotated[str, \"The content of trip plan\"])-> Annotated[str, \"Return status of save content\"]:\n",
    "\n",
    "        async with (\n",
    "            DefaultAzureCredential() as creds,\n",
    "            AzureAIAgent.create_client(\n",
    "                credential=creds,\n",
    "                conn_str=ai_agent_settings.project_connection_string.get_secret_value(),\n",
    "            ) as client,\n",
    "        ):\n",
    "\n",
    "            code_interpreter = CodeInterpreterTool()\n",
    "            \n",
    "            agent_definition = await client.agents.create_agent(\n",
    "                model=ai_agent_settings.model_deployment_name,\n",
    "                tools=code_interpreter.definitions,\n",
    "                tool_resources=code_interpreter.resources,\n",
    "            )\n",
    "\n",
    "\n",
    "            agent = AzureAIAgent(\n",
    "                client=client,\n",
    "                definition=agent_definition,\n",
    "            )\n",
    "\n",
    "            thread = await client.agents.create_thread()\n",
    "\n",
    "\n",
    "            user_inputs = [\n",
    "                \"\"\"\n",
    "            \n",
    "                        You are my Python programming assistant. Generate code,save \"\"\"+ tripplan +\n",
    "                        \n",
    "                    \"\"\"    \n",
    "                        and execute it according to the following requirements\n",
    "\n",
    "                        1. Save blog content to trip-{YYMMDDHHMMSS}.md\n",
    "\n",
    "                        2. give me the download this file link\n",
    "                    \"\"\"\n",
    "            ]\n",
    "\n",
    "\n",
    "\n",
    "            try:\n",
    "                for user_input in user_inputs:\n",
    "                    # Add the user input as a chat message\n",
    "                    await agent.add_chat_message(\n",
    "                        thread_id=thread.id, message=ChatMessageContent(role=AuthorRole.USER, content=user_input)\n",
    "                    )\n",
    "                    print(f\"# User: '{user_input}'\")\n",
    "                    # Invoke the agent for the specified thread\n",
    "                    async for content in agent.invoke(thread_id=thread.id):\n",
    "                        if content.role != AuthorRole.TOOL:\n",
    "                            print(f\"# Agent: {content.content}\")\n",
    "\n",
    "                    \n",
    "                    messages = await client.agents.list_messages(thread_id=thread.id)\n",
    "\n",
    "                    # OpenAIPageableListOfThreadMessage\n",
    "                    # OpenAIPageableListOfThreadMessage\n",
    "\n",
    "\n",
    "                    for file_path_annotation in messages.file_path_annotations:\n",
    "\n",
    "                            file_name = os.path.basename(file_path_annotation.text)\n",
    "\n",
    "                            await client.agents.save_file(file_id=file_path_annotation.file_path.file_id, file_name=file_name,target_dir=\"./trip\")\n",
    "\n",
    "                    \n",
    "            finally:\n",
    "                await client.agents.delete_thread(thread.id)\n",
    "                await client.agents.delete_agent(agent.id)\n",
    "\n",
    "\n",
    "        return \"Saved\""
   ]
  },
  {
   "cell_type": "markdown",
   "metadata": {},
   "source": [
    "# Vysvětlení:\n",
    "Tento kód nastavuje agenty Azure AI pro zajištění rezervace letů a hotelů a ukládání plánů cest na základě vstupů od uživatelů. Používá přihlašovací údaje Azure k vytvoření a konfiguraci agentů, zpracovává vstupy uživatelů prostřednictvím skupinového chatu a zajišťuje správné vyčištění po dokončení úkolů. Agenti používají specifické pluginy (BookingPlugin a SavePlugin) k provádění svých příslušných úkolů.\n"
   ]
  },
  {
   "cell_type": "code",
   "execution_count": null,
   "metadata": {
    "dotnet_interactive": {
     "language": "csharp"
    },
    "polyglot_notebook": {
     "kernelName": "csharp"
    }
   },
   "outputs": [],
   "source": [
    "async with (\n",
    "    DefaultAzureCredential() as creds,\n",
    "    AzureAIAgent.create_client(\n",
    "        credential=creds,\n",
    "        conn_str=ai_agent_settings.project_connection_string.get_secret_value(),\n",
    "    ) as client,\n",
    "):\n",
    "    BOOKING_AGENT_NAME = \"BookingAgent\"\n",
    "    BOOKING_AGENT_INSTRUCTIONS = \"\"\"\n",
    "    You are a booking agent. Help me book flights or hotels.\n",
    "\n",
    "    Thought: Please understand the user's intention and confirm whether to use the reservation system to complete the task.\n",
    "\n",
    "    Actions:\n",
    "    - For flight bookings, convert the departure and destination names into airport codes.\n",
    "    - Use the appropriate API for hotel or flight bookings. Verify that all necessary parameters are available. If any parameters are missing, ask the user to provide them. If all parameters are complete, call the corresponding function.\n",
    "    - If the task is not related to hotel or flight booking, respond with the final answer only.\n",
    "    - Output the results using a markdown table:\n",
    "      - For flight bookings, output separate outbound and return contents in the order of:\n",
    "        Departure Airport | Airline | Flight Number | Departure Time | Arrival Airport | Arrival Time | Duration | Airplane | Travel Class | Price (USD) | Legroom | Extensions | Carbon Emissions (kg).\n",
    "      - For hotel bookings, output in the order of:\n",
    "        Property Name | Property Description | Check-in Time | Check-out Time | Prices | Nearby Places | Hotel Class | GPS Coordinates.\n",
    "    \"\"\"\n",
    "\n",
    "    SAVE_AGENT_NAME = \"SaveAgent\"\n",
    "    SAVE_AGENT_INSTRUCTIONS = \"\"\"\n",
    "    You are a save tool agent. Help me to save the trip plan.\n",
    "    \"\"\"\n",
    "\n",
    "    # Create agent definition\n",
    "    booking_agent_definition = await client.agents.create_agent(\n",
    "        model=ai_agent_settings.model_deployment_name,\n",
    "        name=BOOKING_AGENT_NAME,\n",
    "        instructions=BOOKING_AGENT_INSTRUCTIONS,\n",
    "    )\n",
    "\n",
    "    # Create the AzureAI Agent\n",
    "    booking_agent = AzureAIAgent(\n",
    "        client=client,\n",
    "        definition=booking_agent_definition,\n",
    "        # Optionally configure polling options\n",
    "        # polling_options=RunPollingOptions(run_polling_interval=timedelta(seconds=1)),\n",
    "    )\n",
    "\n",
    "    # Add the sample plugin to the kernel\n",
    "    booking_agent.kernel.add_plugin(BookingPlugin(), plugin_name=\"booking\")\n",
    "\n",
    "    # Create agent definition\n",
    "    save_agent_definition = await client.agents.create_agent(\n",
    "        model=ai_agent_settings.model_deployment_name,\n",
    "        name=SAVE_AGENT_NAME,\n",
    "        instructions=SAVE_AGENT_INSTRUCTIONS\n",
    "    )\n",
    "\n",
    "    # Create the AzureAI Agent\n",
    "    save_agent = AzureAIAgent(\n",
    "        client=client,\n",
    "        definition=save_agent_definition,\n",
    "    )\n",
    "\n",
    "    save_agent.kernel.add_plugin(SavePlugin(), plugin_name=\"saving\")\n",
    "\n",
    "    user_inputs = [\n",
    "        \"I have a business trip from London to New York in Feb 20 2025 to Feb 27 2025 ,help me to book a hotel and fight tickets and save it\"\n",
    "    ]\n",
    "\n",
    "    chat = AgentGroupChat(\n",
    "        agents=[booking_agent, save_agent],\n",
    "        termination_strategy=ApprovalTerminationStrategy(agents=[save_agent], maximum_iterations=10),\n",
    "    )\n",
    "\n",
    "    try:\n",
    "        for user_input in user_inputs:\n",
    "            # Add the user input as a chat message\n",
    "            await chat.add_chat_message(\n",
    "                ChatMessageContent(role=AuthorRole.USER, content=user_input)\n",
    "            )\n",
    "            print(f\"# User: '{user_input}'\")\n",
    "\n",
    "            async for content in chat.invoke():\n",
    "                print(f\"# {content.role} - {content.name or '*'}: '{content.content}'\")\n",
    "\n",
    "            print(f\"# IS COMPLETE: {chat.is_complete}\")\n",
    "\n",
    "            print(\"*\" * 60)\n",
    "            print(\"Chat History (In Descending Order):\\n\")\n",
    "            async for message in chat.get_chat_messages(agent=save_agent):\n",
    "                print(f\"# {message.role} - {message.name or '*'}: '{message.content}'\")\n",
    "    finally:\n",
    "        await chat.reset()\n",
    "        await client.agents.delete_agent(save_agent.id)\n",
    "        await client.agents.delete_agent(booking_agent.id)\n"
   ]
  },
  {
   "cell_type": "markdown",
   "metadata": {},
   "source": [
    "\n---\n\n**Prohlášení**:  \nTento dokument byl přeložen pomocí služby AI pro překlady [Co-op Translator](https://github.com/Azure/co-op-translator). Ačkoli se snažíme o přesnost, mějte prosím na paměti, že automatizované překlady mohou obsahovat chyby nebo nepřesnosti. Původní dokument v jeho původním jazyce by měl být považován za autoritativní zdroj. Pro důležité informace se doporučuje profesionální lidský překlad. Nenese odpovědnost za žádná nedorozumění nebo nesprávné interpretace vyplývající z použití tohoto překladu.\n"
   ]
  }
 ],
 "metadata": {
  "kernelspec": {
   "display_name": "3.12.1",
   "language": "python",
   "name": "python3"
  },
  "language_info": {
   "codemirror_mode": {
    "name": "ipython",
    "version": 3
   },
   "file_extension": ".py",
   "mimetype": "text/x-python",
   "name": "python",
   "nbconvert_exporter": "python",
   "pygments_lexer": "ipython3",
   "version": "3.12.1"
  },
  "polyglot_notebook": {
   "kernelInfo": {
    "defaultKernelName": "csharp",
    "items": [
     {
      "aliases": [],
      "name": "csharp"
     }
    ]
   }
  },
  "coopTranslator": {
   "original_hash": "1baa60020a95eda27b7e9ecfda99965b",
   "translation_date": "2025-08-29T21:49:34+00:00",
   "source_file": "08-multi-agent/code_samples/08-python_multi_aiagent_bookinghotel.ipynb",
   "language_code": "cs"
  }
 },
 "nbformat": 4,
 "nbformat_minor": 2
}