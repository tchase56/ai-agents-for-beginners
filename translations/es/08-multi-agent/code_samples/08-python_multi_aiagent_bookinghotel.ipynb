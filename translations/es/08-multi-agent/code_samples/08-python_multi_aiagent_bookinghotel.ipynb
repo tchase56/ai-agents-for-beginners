{
 "cells": [
  {
   "cell_type": "markdown",
   "metadata": {},
   "source": [
    "## **Ejemplos: Agentes Multi-AI para Reservar Hoteles**\n",
    "\n",
    "En el mundo acelerado de hoy, planificar un viaje de negocios implica mucho más que simplemente reservar un vuelo y una habitación de hotel. Requiere un nivel de coordinación y eficiencia que puede ser difícil de alcanzar. Aquí es donde entran en juego los Agentes Multi-AI, revolucionando la forma en que gestionamos nuestras necesidades de viaje.\n",
    "\n",
    "Imagina tener un equipo de agentes inteligentes a tu disposición, trabajando juntos para manejar cada aspecto de tu viaje con precisión y facilidad. Con nuestra avanzada tecnología de IA, hemos creado agentes especializados para servicios de reserva y organización de itinerarios, garantizando una experiencia de viaje fluida y sin estrés.\n",
    "\n",
    "Este es un escenario básico. Al planificar un viaje de negocios, necesitamos consultar con un agente de viajes corporativos para obtener información sobre boletos de avión, hoteles, etc. A través de los Agentes de IA, podemos construir agentes para servicios de reserva y agentes para la organización de itinerarios que colaboren y mejoren el nivel de inteligencia.\n"
   ]
  },
  {
   "cell_type": "markdown",
   "metadata": {},
   "source": [
    "# Inicializar el Servicio de Agente de Azure AI y obtener información de configuración desde **.env**\n",
    "\n",
    "### **.env** \n",
    "\n",
    "Crea un archivo .env \n",
    "\n",
    "**.env** contiene la cadena de conexión del Servicio de Agente de Azure AI, el modelo utilizado por AOAI y el servicio correspondiente de API de Búsqueda de Google, ENDPOINT, etc.\n",
    "\n",
    "- **AZURE_AI_AGENT_MODEL_DEPLOYMENT_NAME** = \"El nombre de implementación de tu modelo del Servicio de Agente de Azure AI\"\n",
    "\n",
    "[**NOTE**] Necesitarás un modelo con un límite de tasa de 100,000 (Tokens por minuto) y un límite de tasa de 600 (Solicitudes por minuto).\n",
    "\n",
    "  Puedes obtener el modelo en Azure AI Foundry - Model and Endpoint. \n",
    "\n",
    "- **AZURE_AI_AGENT_PROJECT_CONNECTION_STRING** = \"La cadena de conexión de tu proyecto del Servicio de Agente de Azure AI\"\n",
    "\n",
    "  Puedes obtener la cadena de conexión del proyecto en la vista general de tu proyecto en la pantalla del portal de AI Foundry.\n",
    "\n",
    "- **SERPAPI_SEARCH_API_KEY** = \"Tu clave API de búsqueda de SERPAPI\"\n",
    "- **SERPAPI_SEARCH_ENDPOINT** = \"Tu endpoint de búsqueda de SERPAPI\"\n",
    "\n",
    "Para obtener el Nombre de Implementación del Modelo y la Cadena de Conexión del Proyecto del Servicio de Agente de Azure AI, necesitas crear el Servicio de Agente de Azure AI. Se recomienda usar [esta plantilla](https://portal.azure.com/#create/Microsoft.Template/uri/https%3A%2F%2Fraw.githubusercontent.com%2Ffosteramanda%2Fazure-agent-quickstart-templates%2Frefs%2Fheads%2Fmaster%2Fquickstarts%2Fmicrosoft.azure-ai-agent-service%2Fstandard-agent%2Fazuredeploy.json) para crearlo directamente （***Nota:*** El Servicio de Agente de Azure AI está actualmente configurado en una región limitada. Se recomienda que consultes [este enlace](https://learn.microsoft.com/en-us/azure/ai-services/agents/concepts/model-region-support) para configurar la región).\n",
    "\n",
    "El agente necesita acceder a SERPAPI. Se recomienda registrarse usando [este enlace](https://serpapi.com/searches). Después de registrarte, puedes obtener una clave API y un ENDPOINT únicos.\n"
   ]
  },
  {
   "cell_type": "markdown",
   "metadata": {},
   "source": [
    "# Iniciar sesión en Azure\n",
    "\n",
    "Ahora necesitas iniciar sesión en Azure. Abre un terminal en VScode y ejecuta el comando `az login`.\n"
   ]
  },
  {
   "cell_type": "markdown",
   "metadata": {},
   "source": [
    "# Configuración\n",
    "\n",
    "Para ejecutar este cuaderno, necesitarás instalar las siguientes bibliotecas. Aquí tienes una lista de las bibliotecas requeridas y los comandos correspondientes para instalarlas con pip:\n",
    "\n",
    "azure-identity: Para la autenticación en Azure.  \n",
    "requests: Para realizar solicitudes HTTP.  \n",
    "semantic-kernel: Para el marco de trabajo del kernel semántico (suponiendo que esta sea una biblioteca personalizada o específica, es posible que necesites instalarla desde una fuente o repositorio específico).  \n"
   ]
  },
  {
   "cell_type": "code",
   "execution_count": null,
   "metadata": {},
   "outputs": [],
   "source": [
    "!pip install azure-identity\n",
    "!pip install requests\n",
    "!pip install semantic-kernel\n",
    "!pip install --upgrade semantic_kernel\n",
    "!pip install azure-cli"
   ]
  },
  {
   "cell_type": "markdown",
   "metadata": {},
   "source": [
    "# Explicación: \n",
    "import asyncio: Esto importa el módulo asyncio, que proporciona soporte para la programación asincrónica en Python. Permite escribir código concurrente utilizando la sintaxis async y await.  \n",
    "from typing: Annotated: Esto importa el tipo Annotated del módulo typing. Annotated se utiliza para agregar metadatos a las anotaciones de tipo, lo cual puede ser útil para diversos propósitos como validación, documentación o herramientas.  \n"
   ]
  },
  {
   "cell_type": "code",
   "execution_count": null,
   "metadata": {
    "dotnet_interactive": {
     "language": "csharp"
    },
    "polyglot_notebook": {
     "kernelName": "csharp"
    }
   },
   "outputs": [],
   "source": [
    "import asyncio,os\n",
    "from typing import Annotated"
   ]
  },
  {
   "cell_type": "markdown",
   "metadata": {},
   "source": [
    "# Explicación:\n",
    "Al usar from dotenv import load_dotenv y load_dotenv(), puedes gestionar fácilmente configuraciones y información sensible (como claves de API y URLs de bases de datos) en un archivo .env, manteniéndolas separadas de tu código fuente y haciendo que tu aplicación sea más segura y fácil de configurar.\n"
   ]
  },
  {
   "cell_type": "code",
   "execution_count": null,
   "metadata": {},
   "outputs": [],
   "source": [
    "import os\n",
    "from dotenv import load_dotenv\n",
    "\n",
    "# Load environment variables from .env file\n",
    "load_dotenv()"
   ]
  },
  {
   "cell_type": "markdown",
   "metadata": {},
   "source": [
    "# Explicación:\n",
    "\n",
    "Declaración de importación: from azure.identity.aio import DefaultAzureCredential: Esto importa la clase DefaultAzureCredential del módulo azure.identity.aio. La parte \"aio\" en el nombre del módulo indica que está diseñado para operaciones asincrónicas.\n",
    "\n",
    "Propósito de DefaultAzureCredential: La clase DefaultAzureCredential es parte del SDK de Azure para Python. Proporciona una forma predeterminada de autenticarse con los servicios de Azure. Intenta autenticarse utilizando múltiples métodos en un orden específico, como variables de entorno, identidad administrada y credenciales de Azure CLI.\n",
    "\n",
    "Operaciones asincrónicas: El módulo \"aio\" indica que la clase DefaultAzureCredential admite operaciones asincrónicas. Esto significa que puedes usarla con asyncio para realizar solicitudes de autenticación sin bloqueo.\n"
   ]
  },
  {
   "cell_type": "code",
   "execution_count": null,
   "metadata": {
    "dotnet_interactive": {
     "language": "csharp"
    },
    "polyglot_notebook": {
     "kernelName": "csharp"
    }
   },
   "outputs": [],
   "source": [
    "from azure.identity.aio import DefaultAzureCredential"
   ]
  },
  {
   "cell_type": "markdown",
   "metadata": {},
   "source": [
    "# Explicación:\n",
    "Importa varios módulos y clases del paquete semantic_kernel. Aquí tienes un desglose de cada importación:\n",
    "\n",
    "AgentGroupChat de semantic_kernel.agents: Esta clase maneja funcionalidades relacionadas con el chat grupal para agentes de IA. AzureAIAgent y AzureAIAgentSettings de semantic_kernel.agents.azure_ai\n",
    "\n",
    "AzureAIAgent: Esta clase se utiliza para crear y gestionar agentes de IA que emplean servicios de Azure AI.\n",
    "\n",
    "AzureAIAgentSettings: Esta clase se utiliza para configurar los ajustes del AzureAIAgent. TerminationStrategy de semantic_kernel.agents.strategies.termination.termination_strategy:\n",
    "\n",
    "Esta clase define estrategias para terminar la ejecución de agentes de IA bajo ciertas condiciones. ChatMessageContent de semantic_kernel.contents.chat_message_content:\n",
    "\n",
    "Esta clase se utiliza para manejar el contenido de los mensajes de chat.\n",
    "AuthorRole de semantic_kernel.contents.utils.author_role:\n",
    "\n",
    "Esta clase define diferentes roles para los autores en el contexto de mensajes de chat.\n",
    "\n",
    "kernel_function de semantic_kernel.functions.kernel_function_decorator: Este decorador se utiliza para definir funciones kernel, que son funciones que pueden ejecutarse dentro del marco de trabajo de semantic kernel.\n",
    "Estas importaciones configuran los componentes necesarios para crear y gestionar agentes de IA que puedan interactuar en un entorno de chat grupal, posiblemente para tareas como reservar hoteles o actividades similares.\n"
   ]
  },
  {
   "cell_type": "code",
   "execution_count": null,
   "metadata": {
    "dotnet_interactive": {
     "language": "csharp"
    },
    "polyglot_notebook": {
     "kernelName": "csharp"
    }
   },
   "outputs": [],
   "source": [
    "from semantic_kernel.agents import AgentGroupChat\n",
    "from semantic_kernel.agents import AzureAIAgent, AzureAIAgentSettings\n",
    "from semantic_kernel.agents.strategies.termination.termination_strategy import TerminationStrategy\n",
    "from semantic_kernel.contents import ChatMessageContent\n",
    "from semantic_kernel.contents import AuthorRole\n",
    "from semantic_kernel.functions.kernel_function_decorator import kernel_function"
   ]
  },
  {
   "cell_type": "markdown",
   "metadata": {},
   "source": [
    "# Explicación:\n",
    "A continuación, importamos la clase CodeInterpreterTool del módulo azure.ai.projects.models.\n",
    "\n",
    "CodeInterpreterTool: Esta clase forma parte del SDK de Azure AI y se utiliza para interpretar y ejecutar código en el contexto de proyectos de inteligencia artificial. Proporciona funcionalidades para ejecutar fragmentos de código, analizar código o integrar la ejecución de código dentro de flujos de trabajo de IA.  \n",
    "Esta importación configura el componente necesario para utilizar CodeInterpreterTool en tu proyecto, lo cual puede ser útil para tareas que impliquen interpretar y ejecutar código de manera dinámica.\n"
   ]
  },
  {
   "cell_type": "code",
   "execution_count": null,
   "metadata": {
    "dotnet_interactive": {
     "language": "csharp"
    },
    "polyglot_notebook": {
     "kernelName": "csharp"
    }
   },
   "outputs": [],
   "source": [
    "from azure.ai.projects.models import CodeInterpreterTool"
   ]
  },
  {
   "cell_type": "markdown",
   "metadata": {},
   "source": [
    "# Explicación:  \n",
    "La clase ApprovalTerminationStrategy proporciona una estrategia específica para finalizar la operación de un agente de IA. El agente se detendrá si el último mensaje en su historial de interacción contiene la palabra \"guardado\". Esto podría ser útil en escenarios donde se considera que la tarea del agente está completa una vez que recibe la confirmación de que algo ha sido \"guardado\". Define el método de interacción. Después de que el plan de reserva sea guardado, puede detenerse al recibir la señal de guardado.\n"
   ]
  },
  {
   "cell_type": "code",
   "execution_count": null,
   "metadata": {
    "dotnet_interactive": {
     "language": "csharp"
    },
    "polyglot_notebook": {
     "kernelName": "csharp"
    }
   },
   "outputs": [],
   "source": [
    "class ApprovalTerminationStrategy(TerminationStrategy):\n",
    "    \"\"\"A strategy for determining when an agent should terminate.\"\"\"\n",
    "\n",
    "    async def should_agent_terminate(self, agent, history):\n",
    "        \"\"\"Check if the agent should terminate.\"\"\"\n",
    "        return \"saved\" in history[-1].content.lower()"
   ]
  },
  {
   "cell_type": "markdown",
   "metadata": {},
   "source": [
    "# Explicación:\n",
    "\n",
    "La línea de código inicializa un objeto AzureAIAgentSettings con configuraciones predeterminadas o predefinidas llamando al método create(). Este objeto de configuración (ai_agent_settings) puede luego ser utilizado para configurar y gestionar una instancia de AzureAIAgent.\n"
   ]
  },
  {
   "cell_type": "code",
   "execution_count": null,
   "metadata": {
    "dotnet_interactive": {
     "language": "csharp"
    },
    "polyglot_notebook": {
     "kernelName": "csharp"
    }
   },
   "outputs": [],
   "source": [
    "ai_agent_settings = AzureAIAgentSettings.create()"
   ]
  },
  {
   "cell_type": "markdown",
   "metadata": {},
   "source": [
    "# Explicación:\n",
    "Al importar la biblioteca requests, puedes realizar solicitudes HTTP fácilmente e interactuar con servicios web en tu código Python.\n"
   ]
  },
  {
   "cell_type": "code",
   "execution_count": null,
   "metadata": {
    "dotnet_interactive": {
     "language": "csharp"
    },
    "polyglot_notebook": {
     "kernelName": "csharp"
    }
   },
   "outputs": [],
   "source": [
    "import requests"
   ]
  },
  {
   "cell_type": "markdown",
   "metadata": {},
   "source": [
    "# Explicación:\n",
    "Esta es una variable que almacena la clave de API para acceder a un servicio de API de SERP (Página de Resultados del Motor de Búsqueda). Una clave de API es un identificador único que se utiliza para autenticar las solicitudes asociadas con tu cuenta.\n",
    "\n",
    "'GOOGLE_SEARCH_API_KEY': Este es un texto de marcador de posición. Necesitas reemplazar 'GOOGLE_SEARCH_API_KEY' con tu clave de API de SERP real.\n",
    "\n",
    "Propósito: El propósito de esta línea es almacenar la clave de API en una variable para que pueda ser utilizada para autenticar solicitudes al servicio de API de SERP. La clave de API es necesaria para acceder al servicio y realizar búsquedas.\n",
    "\n",
    "Cómo obtener una clave de API de SERP: Para obtener una clave de API de SERP, sigue estos pasos generales en https://serpapi.com (los pasos exactos pueden variar dependiendo del servicio de API de SERP específico que estés utilizando):\n",
    "\n",
    "Elige un servicio de API de SERP: Hay varios servicios de API de SERP disponibles, como SerpAPI, Google Custom Search JSON API, entre otros. Elige el que mejor se adapte a tus necesidades.\n",
    "\n",
    "Regístrate para obtener una cuenta:\n",
    "\n",
    "Ve al sitio web del servicio de API de SERP elegido https://www.serpapi.com y regístrate para obtener una cuenta. Es posible que necesites proporcionar información básica y verificar tu dirección de correo electrónico.\n",
    "\n",
    "Crea una clave de API:\n",
    "\n",
    "Después de registrarte, inicia sesión en tu cuenta y navega a la sección de API o al panel de control. Busca una opción para crear o generar una nueva clave de API.\n",
    "Copia la clave de API:\n",
    "\n",
    "Una vez que se genere la clave de API, cópiala. Esta clave se utilizará para autenticar tus solicitudes al servicio de API de SERP.\n",
    "Reemplaza el marcador de posición:\n",
    "\n",
    "Reemplaza el marcador de posición en tu archivo .env\n"
   ]
  },
  {
   "cell_type": "code",
   "execution_count": null,
   "metadata": {
    "dotnet_interactive": {
     "language": "csharp"
    },
    "polyglot_notebook": {
     "kernelName": "csharp"
    }
   },
   "outputs": [],
   "source": [
    "SERPAPI_SEARCH_API_KEY=os.getenv('SERPAPI_SEARCH_API_KEY')"
   ]
  },
  {
   "cell_type": "code",
   "execution_count": null,
   "metadata": {
    "dotnet_interactive": {
     "language": "csharp"
    },
    "polyglot_notebook": {
     "kernelName": "csharp"
    }
   },
   "outputs": [],
   "source": [
    "SERPAPI_SEARCH_ENDPOINT = os.getenv('SERPAPI_SEARCH_ENDPOINT')"
   ]
  },
  {
   "cell_type": "markdown",
   "metadata": {},
   "source": [
    "# Explicación:\n",
    "La clase BookingPlugin ofrece métodos para reservar hoteles y vuelos utilizando la API de búsqueda de Google de Serpapi.com. Construye los parámetros necesarios, envía solicitudes a la API y procesa las respuestas para devolver información relevante sobre las reservas. La clave de la API (SERPAPI_SEARCH_API_KEY) y el endpoint (SERPAPI_SEARCH_ENDPOINT) se utilizan para autenticar y enviar solicitudes a la API de búsqueda de Google.\n"
   ]
  },
  {
   "cell_type": "code",
   "execution_count": null,
   "metadata": {
    "dotnet_interactive": {
     "language": "csharp"
    },
    "polyglot_notebook": {
     "kernelName": "csharp"
    }
   },
   "outputs": [],
   "source": [
    "# Define Booking Plugin\n",
    "class BookingPlugin:\n",
    "    \"\"\"Booking Plugin for customers\"\"\"\n",
    "    @kernel_function(description=\"booking hotel\")\n",
    "    def booking_hotel(self,query: Annotated[str, \"The name of the city\"], check_in_date: Annotated[str, \"Hotel Check-in Time\"], check_out_date: Annotated[str, \"Hotel Check-in Time\"])-> Annotated[str, \"Return the result of booking hotel infomation\"]:\n",
    "\n",
    "        params = {\n",
    "            \"engine\": \"google_hotels\",\n",
    "            \"q\": query,\n",
    "            \"check_in_date\": check_in_date,\n",
    "            \"check_out_date\": check_out_date,\n",
    "            \"adults\": \"2\",\n",
    "            \"currency\": \"USD\",\n",
    "            \"gl\": \"us\",\n",
    "            \"hl\": \"en\",\n",
    "            \"api_key\": SERPAPI_SEARCH_API_KEY\n",
    "        }\n",
    "\n",
    "        response = requests.get(SERPAPI_SEARCH_ENDPOINT, params=params)\n",
    "        if response.status_code == 200:\n",
    "            response = response.json()\n",
    "            return response[\"properties\"]\n",
    "        else:\n",
    "            return None\n",
    "\n",
    "    \n",
    "    @kernel_function(description=\"booking fight\")\n",
    "    def  booking_fight(self,origin: Annotated[str, \"The name of Departure\"], destination: Annotated[str, \"The name of Destination\"], outbound_date: Annotated[str, \"The date of outbound\"], return_date: Annotated[str, \"The date of Return_date\"])-> Annotated[str, \"Return the result of booking fight infomation\"]:\n",
    "        \n",
    "        go_params = {\n",
    "            \"engine\": \"google_flights\",   \n",
    "            \"departure_id\": origin,\n",
    "            \"arrival_id\": destination,\n",
    "            \"outbound_date\": outbound_date,\n",
    "            \"return_date\": return_date,  \n",
    "            \"currency\": \"USD\",\n",
    "            \"hl\": \"en\",\n",
    "            \"api_key\": SERPAPI_SEARCH_API_KEY  \n",
    "        }\n",
    "\n",
    "        print(go_params)\n",
    "\n",
    "        go_response = requests.get(SERPAPI_SEARCH_ENDPOINT, params=go_params)\n",
    "\n",
    "\n",
    "        result = ''\n",
    "\n",
    "        if go_response.status_code == 200:\n",
    "            response = go_response.json()\n",
    "\n",
    "            result += \"# outbound \\n \" + str(response)\n",
    "        else:\n",
    "            print('error!!!')\n",
    "            # return None\n",
    "\n",
    "        \n",
    "        back_params = {\n",
    "            \"engine\": \"google_flights\",   \n",
    "            \"departure_id\": destination,\n",
    "            \"arrival_id\": origin,\n",
    "            \"outbound_date\": return_date,\n",
    "            \"return_date\": return_date,  \n",
    "            \"currency\": \"USD\",\n",
    "            \"hl\": \"en\",\n",
    "            \"api_key\": SERPAPI_SEARCH_API_KEY  \n",
    "        }\n",
    "\n",
    "\n",
    "        print(back_params)\n",
    "\n",
    "\n",
    "        back_response = requests.get(SERPAPI_SEARCH_ENDPOINT, params=back_params)\n",
    "\n",
    "\n",
    "\n",
    "        if back_response.status_code == 200:\n",
    "            response = back_response.json()\n",
    "\n",
    "            result += \"\\n # return \\n\"  + str(response)\n",
    "\n",
    "        else:\n",
    "            print('error!!!')\n",
    "            # return None\n",
    "        \n",
    "        print(result)\n",
    "\n",
    "        return result\n",
    "\n",
    "        \n"
   ]
  },
  {
   "cell_type": "markdown",
   "metadata": {},
   "source": [
    "# Explicación:\n",
    "La clase SavePlugin proporciona un método saving_plan para guardar planes de viaje utilizando servicios de Azure AI. Configura las credenciales de Azure, crea un agente de inteligencia artificial, procesa las entradas del usuario para generar y guardar el contenido del plan de viaje, y maneja las operaciones de guardado de archivos y limpieza. El método devuelve \"Guardado\" tras completarse exitosamente.\n"
   ]
  },
  {
   "cell_type": "code",
   "execution_count": null,
   "metadata": {
    "dotnet_interactive": {
     "language": "csharp"
    },
    "polyglot_notebook": {
     "kernelName": "csharp"
    }
   },
   "outputs": [],
   "source": [
    "class SavePlugin:\n",
    "    \"\"\"Save Plugin for customers\"\"\"\n",
    "    @kernel_function(description=\"saving plan\")\n",
    "    async def saving_plan(self,tripplan: Annotated[str, \"The content of trip plan\"])-> Annotated[str, \"Return status of save content\"]:\n",
    "\n",
    "        async with (\n",
    "            DefaultAzureCredential() as creds,\n",
    "            AzureAIAgent.create_client(\n",
    "                credential=creds,\n",
    "                conn_str=ai_agent_settings.project_connection_string.get_secret_value(),\n",
    "            ) as client,\n",
    "        ):\n",
    "\n",
    "            code_interpreter = CodeInterpreterTool()\n",
    "            \n",
    "            agent_definition = await client.agents.create_agent(\n",
    "                model=ai_agent_settings.model_deployment_name,\n",
    "                tools=code_interpreter.definitions,\n",
    "                tool_resources=code_interpreter.resources,\n",
    "            )\n",
    "\n",
    "\n",
    "            agent = AzureAIAgent(\n",
    "                client=client,\n",
    "                definition=agent_definition,\n",
    "            )\n",
    "\n",
    "            thread = await client.agents.create_thread()\n",
    "\n",
    "\n",
    "            user_inputs = [\n",
    "                \"\"\"\n",
    "            \n",
    "                        You are my Python programming assistant. Generate code,save \"\"\"+ tripplan +\n",
    "                        \n",
    "                    \"\"\"    \n",
    "                        and execute it according to the following requirements\n",
    "\n",
    "                        1. Save blog content to trip-{YYMMDDHHMMSS}.md\n",
    "\n",
    "                        2. give me the download this file link\n",
    "                    \"\"\"\n",
    "            ]\n",
    "\n",
    "\n",
    "\n",
    "            try:\n",
    "                for user_input in user_inputs:\n",
    "                    # Add the user input as a chat message\n",
    "                    await agent.add_chat_message(\n",
    "                        thread_id=thread.id, message=ChatMessageContent(role=AuthorRole.USER, content=user_input)\n",
    "                    )\n",
    "                    print(f\"# User: '{user_input}'\")\n",
    "                    # Invoke the agent for the specified thread\n",
    "                    async for content in agent.invoke(thread_id=thread.id):\n",
    "                        if content.role != AuthorRole.TOOL:\n",
    "                            print(f\"# Agent: {content.content}\")\n",
    "\n",
    "                    \n",
    "                    messages = await client.agents.list_messages(thread_id=thread.id)\n",
    "\n",
    "                    # OpenAIPageableListOfThreadMessage\n",
    "                    # OpenAIPageableListOfThreadMessage\n",
    "\n",
    "\n",
    "                    for file_path_annotation in messages.file_path_annotations:\n",
    "\n",
    "                            file_name = os.path.basename(file_path_annotation.text)\n",
    "\n",
    "                            await client.agents.save_file(file_id=file_path_annotation.file_path.file_id, file_name=file_name,target_dir=\"./trip\")\n",
    "\n",
    "                    \n",
    "            finally:\n",
    "                await client.agents.delete_thread(thread.id)\n",
    "                await client.agents.delete_agent(agent.id)\n",
    "\n",
    "\n",
    "        return \"Saved\""
   ]
  },
  {
   "cell_type": "markdown",
   "metadata": {},
   "source": [
    "# Explicación:\n",
    "Este código configura agentes de Azure AI para gestionar la reserva de vuelos y hoteles, y guardar planes de viaje basándose en las entradas del usuario. Utiliza credenciales de Azure para crear y configurar los agentes, procesa las entradas del usuario a través de un chat grupal, y asegura una limpieza adecuada después de completar las tareas. Los agentes utilizan plugins específicos (BookingPlugin y SavePlugin) para realizar sus respectivas tareas.\n"
   ]
  },
  {
   "cell_type": "code",
   "execution_count": null,
   "metadata": {
    "dotnet_interactive": {
     "language": "csharp"
    },
    "polyglot_notebook": {
     "kernelName": "csharp"
    }
   },
   "outputs": [],
   "source": [
    "async with (\n",
    "    DefaultAzureCredential() as creds,\n",
    "    AzureAIAgent.create_client(\n",
    "        credential=creds,\n",
    "        conn_str=ai_agent_settings.project_connection_string.get_secret_value(),\n",
    "    ) as client,\n",
    "):\n",
    "    BOOKING_AGENT_NAME = \"BookingAgent\"\n",
    "    BOOKING_AGENT_INSTRUCTIONS = \"\"\"\n",
    "    You are a booking agent. Help me book flights or hotels.\n",
    "\n",
    "    Thought: Please understand the user's intention and confirm whether to use the reservation system to complete the task.\n",
    "\n",
    "    Actions:\n",
    "    - For flight bookings, convert the departure and destination names into airport codes.\n",
    "    - Use the appropriate API for hotel or flight bookings. Verify that all necessary parameters are available. If any parameters are missing, ask the user to provide them. If all parameters are complete, call the corresponding function.\n",
    "    - If the task is not related to hotel or flight booking, respond with the final answer only.\n",
    "    - Output the results using a markdown table:\n",
    "      - For flight bookings, output separate outbound and return contents in the order of:\n",
    "        Departure Airport | Airline | Flight Number | Departure Time | Arrival Airport | Arrival Time | Duration | Airplane | Travel Class | Price (USD) | Legroom | Extensions | Carbon Emissions (kg).\n",
    "      - For hotel bookings, output in the order of:\n",
    "        Property Name | Property Description | Check-in Time | Check-out Time | Prices | Nearby Places | Hotel Class | GPS Coordinates.\n",
    "    \"\"\"\n",
    "\n",
    "    SAVE_AGENT_NAME = \"SaveAgent\"\n",
    "    SAVE_AGENT_INSTRUCTIONS = \"\"\"\n",
    "    You are a save tool agent. Help me to save the trip plan.\n",
    "    \"\"\"\n",
    "\n",
    "    # Create agent definition\n",
    "    booking_agent_definition = await client.agents.create_agent(\n",
    "        model=ai_agent_settings.model_deployment_name,\n",
    "        name=BOOKING_AGENT_NAME,\n",
    "        instructions=BOOKING_AGENT_INSTRUCTIONS,\n",
    "    )\n",
    "\n",
    "    # Create the AzureAI Agent\n",
    "    booking_agent = AzureAIAgent(\n",
    "        client=client,\n",
    "        definition=booking_agent_definition,\n",
    "        # Optionally configure polling options\n",
    "        # polling_options=RunPollingOptions(run_polling_interval=timedelta(seconds=1)),\n",
    "    )\n",
    "\n",
    "    # Add the sample plugin to the kernel\n",
    "    booking_agent.kernel.add_plugin(BookingPlugin(), plugin_name=\"booking\")\n",
    "\n",
    "    # Create agent definition\n",
    "    save_agent_definition = await client.agents.create_agent(\n",
    "        model=ai_agent_settings.model_deployment_name,\n",
    "        name=SAVE_AGENT_NAME,\n",
    "        instructions=SAVE_AGENT_INSTRUCTIONS\n",
    "    )\n",
    "\n",
    "    # Create the AzureAI Agent\n",
    "    save_agent = AzureAIAgent(\n",
    "        client=client,\n",
    "        definition=save_agent_definition,\n",
    "    )\n",
    "\n",
    "    save_agent.kernel.add_plugin(SavePlugin(), plugin_name=\"saving\")\n",
    "\n",
    "    user_inputs = [\n",
    "        \"I have a business trip from London to New York in Feb 20 2025 to Feb 27 2025 ,help me to book a hotel and fight tickets and save it\"\n",
    "    ]\n",
    "\n",
    "    chat = AgentGroupChat(\n",
    "        agents=[booking_agent, save_agent],\n",
    "        termination_strategy=ApprovalTerminationStrategy(agents=[save_agent], maximum_iterations=10),\n",
    "    )\n",
    "\n",
    "    try:\n",
    "        for user_input in user_inputs:\n",
    "            # Add the user input as a chat message\n",
    "            await chat.add_chat_message(\n",
    "                ChatMessageContent(role=AuthorRole.USER, content=user_input)\n",
    "            )\n",
    "            print(f\"# User: '{user_input}'\")\n",
    "\n",
    "            async for content in chat.invoke():\n",
    "                print(f\"# {content.role} - {content.name or '*'}: '{content.content}'\")\n",
    "\n",
    "            print(f\"# IS COMPLETE: {chat.is_complete}\")\n",
    "\n",
    "            print(\"*\" * 60)\n",
    "            print(\"Chat History (In Descending Order):\\n\")\n",
    "            async for message in chat.get_chat_messages(agent=save_agent):\n",
    "                print(f\"# {message.role} - {message.name or '*'}: '{message.content}'\")\n",
    "    finally:\n",
    "        await chat.reset()\n",
    "        await client.agents.delete_agent(save_agent.id)\n",
    "        await client.agents.delete_agent(booking_agent.id)\n"
   ]
  },
  {
   "cell_type": "markdown",
   "metadata": {},
   "source": [
    "\n---\n\n**Descargo de responsabilidad**:  \nEste documento ha sido traducido utilizando el servicio de traducción automática [Co-op Translator](https://github.com/Azure/co-op-translator). Si bien nos esforzamos por garantizar la precisión, tenga en cuenta que las traducciones automatizadas pueden contener errores o imprecisiones. El documento original en su idioma nativo debe considerarse la fuente autorizada. Para información crítica, se recomienda una traducción profesional realizada por humanos. No nos hacemos responsables de malentendidos o interpretaciones erróneas que puedan surgir del uso de esta traducción.\n"
   ]
  }
 ],
 "metadata": {
  "kernelspec": {
   "display_name": "3.12.1",
   "language": "python",
   "name": "python3"
  },
  "language_info": {
   "codemirror_mode": {
    "name": "ipython",
    "version": 3
   },
   "file_extension": ".py",
   "mimetype": "text/x-python",
   "name": "python",
   "nbconvert_exporter": "python",
   "pygments_lexer": "ipython3",
   "version": "3.12.1"
  },
  "polyglot_notebook": {
   "kernelInfo": {
    "defaultKernelName": "csharp",
    "items": [
     {
      "aliases": [],
      "name": "csharp"
     }
    ]
   }
  },
  "coopTranslator": {
   "original_hash": "1baa60020a95eda27b7e9ecfda99965b",
   "translation_date": "2025-08-30T15:36:12+00:00",
   "source_file": "08-multi-agent/code_samples/08-python_multi_aiagent_bookinghotel.ipynb",
   "language_code": "es"
  }
 },
 "nbformat": 4,
 "nbformat_minor": 2
}