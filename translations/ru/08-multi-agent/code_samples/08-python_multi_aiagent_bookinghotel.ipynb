{
 "cells": [
  {
   "cell_type": "markdown",
   "metadata": {},
   "source": [
    "## **Примеры: Мульти-AI агенты для бронирования отелей**\n",
    "\n",
    "В современном стремительном мире планирование деловой поездки включает в себя гораздо больше, чем просто бронирование авиабилета и номера в отеле. Это требует уровня координации и эффективности, который может быть сложно достичь. Именно здесь на помощь приходят Мульти-AI агенты, меняя подход к управлению нашими потребностями в путешествиях.\n",
    "\n",
    "Представьте, что у вас есть команда интеллектуальных агентов, готовых взять на себя каждый аспект вашей поездки с точностью и легкостью. Благодаря нашей передовой технологии искусственного интеллекта мы создали специализированных агентов для бронирования услуг и составления маршрутов, обеспечивая беспроблемное и комфортное путешествие.\n",
    "\n",
    "Это базовый сценарий. При планировании деловой поездки необходимо проконсультироваться с агентом по деловым путешествиям, чтобы получить информацию о авиабилетах, отелях и т.д. С помощью AI агентов мы можем создать агентов для бронирования услуг и агентов для составления маршрутов, которые будут сотрудничать и повышать уровень интеллекта.\n"
   ]
  },
  {
   "cell_type": "markdown",
   "metadata": {},
   "source": [
    "# Инициализация службы Azure AI Agent и получение информации о конфигурации из **.env**\n",
    "\n",
    "### **.env**\n",
    "\n",
    "Создайте файл .env\n",
    "\n",
    "Файл **.env** содержит строку подключения к службе Azure AI Agent, модель, используемую AOAI, а также соответствующий API Google API Search, ENDPOINT и т.д.\n",
    "\n",
    "- **AZURE_AI_AGENT_MODEL_DEPLOYMENT_NAME** = \"Имя развертывания модели вашей службы Azure AI Agent\"\n",
    "\n",
    "[**NOTE**] Вам потребуется модель с лимитом 100,000 токенов в минуту и лимитом 600 запросов в минуту.\n",
    "\n",
    "  Вы можете получить модель в Azure AI Foundry - Model and Endpoint.\n",
    "\n",
    "- **AZURE_AI_AGENT_PROJECT_CONNECTION_STRING** = \"Строка подключения к проекту вашей службы Azure AI Agent\"\n",
    "\n",
    "  Вы можете получить строку подключения к проекту на экране обзора проекта в портале AI Foundry.\n",
    "\n",
    "- **SERPAPI_SEARCH_API_KEY** = \"Ваш ключ API для SERPAPI Search\"\n",
    "- **SERPAPI_SEARCH_ENDPOINT** = \"Ваш ENDPOINT для SERPAPI Search\"\n",
    "\n",
    "Чтобы получить имя развертывания модели и строку подключения к проекту службы Azure AI Agent, необходимо создать службу Azure AI Agent. Рекомендуется использовать [этот шаблон](https://portal.azure.com/#create/Microsoft.Template/uri/https%3A%2F%2Fraw.githubusercontent.com%2Ffosteramanda%2Fazure-agent-quickstart-templates%2Frefs%2Fheads%2Fmaster%2Fquickstarts%2Fmicrosoft.azure-ai-agent-service%2Fstandard-agent%2Fazuredeploy.json) для прямого создания. (***Примечание:*** Служба Azure AI Agent в настоящее время доступна только в ограниченных регионах. Рекомендуется ознакомиться с [этой ссылкой](https://learn.microsoft.com/en-us/azure/ai-services/agents/concepts/model-region-support) для настройки региона.)\n",
    "\n",
    "Агенту требуется доступ к SERPAPI. Рекомендуется зарегистрироваться, используя [эту ссылку](https://serpapi.com/searches). После регистрации вы сможете получить уникальный ключ API и ENDPOINT.\n"
   ]
  },
  {
   "cell_type": "markdown",
   "metadata": {},
   "source": [
    "# Вход в Azure\n",
    "\n",
    "Теперь вам нужно войти в Azure. Откройте терминал в VScode и выполните команду `az login`.\n"
   ]
  },
  {
   "cell_type": "markdown",
   "metadata": {},
   "source": [
    "# Настройка\n",
    "\n",
    "Чтобы запустить этот ноутбук, вам нужно установить следующие библиотеки. Вот список необходимых библиотек и соответствующих команд для их установки через pip:\n",
    "\n",
    "azure-identity: Для аутентификации в Azure.  \n",
    "requests: Для выполнения HTTP-запросов.  \n",
    "semantic-kernel: Для работы с фреймворком semantic kernel (если это пользовательская или специфическая библиотека, возможно, её нужно установить из определённого источника или репозитория).  \n"
   ]
  },
  {
   "cell_type": "code",
   "execution_count": null,
   "metadata": {},
   "outputs": [],
   "source": [
    "!pip install azure-identity\n",
    "!pip install requests\n",
    "!pip install semantic-kernel\n",
    "!pip install --upgrade semantic_kernel\n",
    "!pip install azure-cli"
   ]
  },
  {
   "cell_type": "markdown",
   "metadata": {},
   "source": [
    "# Объяснение:  \n",
    "import asyncio: Этот модуль импортирует asyncio, который предоставляет поддержку асинхронного программирования в Python. Он позволяет писать конкурентный код, используя синтаксис async и await.  \n",
    "from typing: Annotated: Этот модуль импортирует тип Annotated из библиотеки typing. Annotated используется для добавления метаданных к аннотациям типов, что может быть полезно для различных целей, таких как валидация, документация или инструменты.  \n"
   ]
  },
  {
   "cell_type": "code",
   "execution_count": null,
   "metadata": {
    "dotnet_interactive": {
     "language": "csharp"
    },
    "polyglot_notebook": {
     "kernelName": "csharp"
    }
   },
   "outputs": [],
   "source": [
    "import asyncio,os\n",
    "from typing import Annotated"
   ]
  },
  {
   "cell_type": "markdown",
   "metadata": {},
   "source": [
    "# Объяснение:\n",
    "Используя from dotenv import load_dotenv и load_dotenv(), вы можете легко управлять настройками конфигурации и конфиденциальной информацией (например, ключами API и URL-адресами базы данных) в файле .env, отделяя их от исходного кода. Это делает ваше приложение более безопасным и удобным для настройки.\n"
   ]
  },
  {
   "cell_type": "code",
   "execution_count": null,
   "metadata": {},
   "outputs": [],
   "source": [
    "import os\n",
    "from dotenv import load_dotenv\n",
    "\n",
    "# Load environment variables from .env file\n",
    "load_dotenv()"
   ]
  },
  {
   "cell_type": "markdown",
   "metadata": {},
   "source": [
    "# Объяснение:\n",
    "\n",
    "Импорт оператора: from azure.identity.aio import DefaultAzureCredential: Этот оператор импортирует класс DefaultAzureCredential из модуля azure.identity.aio. Часть aio в названии модуля указывает на то, что он предназначен для асинхронных операций.\n",
    "\n",
    "Назначение DefaultAzureCredential: Класс DefaultAzureCredential является частью Azure SDK для Python. Он предоставляет стандартный способ аутентификации с сервисами Azure. Класс пытается выполнить аутентификацию, используя несколько методов в определённом порядке, таких как переменные окружения, управляемая идентичность и учетные данные Azure CLI.\n",
    "\n",
    "Асинхронные операции: Модуль aio указывает на то, что класс DefaultAzureCredential поддерживает асинхронные операции. Это означает, что вы можете использовать его с asyncio для выполнения неблокирующих запросов на аутентификацию.\n"
   ]
  },
  {
   "cell_type": "code",
   "execution_count": null,
   "metadata": {
    "dotnet_interactive": {
     "language": "csharp"
    },
    "polyglot_notebook": {
     "kernelName": "csharp"
    }
   },
   "outputs": [],
   "source": [
    "from azure.identity.aio import DefaultAzureCredential"
   ]
  },
  {
   "cell_type": "markdown",
   "metadata": {},
   "source": [
    "# Объяснение:\n",
    "Импортируются различные модули и классы из пакета semantic_kernel. Вот подробное описание каждого импорта:\n",
    "\n",
    "AgentGroupChat из semantic_kernel.agents: Этот класс отвечает за функционал, связанный с групповым чатом для AI-агентов. AzureAIAgent и AzureAIAgentSettings из semantic_kernel.agents.azure_ai:\n",
    "\n",
    "AzureAIAgent: Этот класс используется для создания и управления AI-агентами, которые используют сервисы Azure AI.\n",
    "\n",
    "AzureAIAgentSettings: Этот класс используется для настройки параметров AzureAIAgent. TerminationStrategy из semantic_kernel.agents.strategies.termination.termination_strategy:\n",
    "\n",
    "Этот класс определяет стратегии завершения работы AI-агентов при определенных условиях. ChatMessageContent из semantic_kernel.contents.chat_message_content:\n",
    "\n",
    "Этот класс используется для работы с содержимым сообщений чата.\n",
    "AuthorRole из semantic_kernel.contents.utils.author_role:\n",
    "\n",
    "Этот класс определяет различные роли авторов в контексте сообщений чата.\n",
    "\n",
    "kernel_function из semantic_kernel.functions.kernel_function_decorator: Этот декоратор используется для определения функций ядра, которые могут выполняться в рамках семантического ядра.\n",
    "Эти импорты настраивают необходимые компоненты для создания и управления AI-агентами, которые могут взаимодействовать в среде группового чата, возможно, для выполнения задач, таких как бронирование отелей или аналогичные действия.\n"
   ]
  },
  {
   "cell_type": "code",
   "execution_count": null,
   "metadata": {
    "dotnet_interactive": {
     "language": "csharp"
    },
    "polyglot_notebook": {
     "kernelName": "csharp"
    }
   },
   "outputs": [],
   "source": [
    "from semantic_kernel.agents import AgentGroupChat\n",
    "from semantic_kernel.agents import AzureAIAgent, AzureAIAgentSettings\n",
    "from semantic_kernel.agents.strategies.termination.termination_strategy import TerminationStrategy\n",
    "from semantic_kernel.contents import ChatMessageContent\n",
    "from semantic_kernel.contents import AuthorRole\n",
    "from semantic_kernel.functions.kernel_function_decorator import kernel_function"
   ]
  },
  {
   "cell_type": "markdown",
   "metadata": {},
   "source": [
    "# Объяснение:\n",
    "Далее мы импортируем класс CodeInterpreterTool из модуля azure.ai.projects.models.\n",
    "\n",
    "CodeInterpreterTool: Этот класс является частью SDK Azure AI и используется для интерпретации и выполнения кода в контексте AI-проектов. Он предоставляет функции для запуска фрагментов кода, анализа кода или интеграции выполнения кода в рабочие процессы AI.  \n",
    "Этот импорт настраивает необходимый компонент для использования CodeInterpreterTool в вашем проекте, что может быть полезно для задач, связанных с динамической интерпретацией и выполнением кода.\n"
   ]
  },
  {
   "cell_type": "code",
   "execution_count": null,
   "metadata": {
    "dotnet_interactive": {
     "language": "csharp"
    },
    "polyglot_notebook": {
     "kernelName": "csharp"
    }
   },
   "outputs": [],
   "source": [
    "from azure.ai.projects.models import CodeInterpreterTool"
   ]
  },
  {
   "cell_type": "markdown",
   "metadata": {},
   "source": [
    "# Объяснение:  \n",
    "Класс ApprovalTerminationStrategy предоставляет определенную стратегию завершения работы AI-агента. Агент завершит работу, если последнее сообщение в его истории взаимодействий содержит слово \"saved\". Это может быть полезно в ситуациях, когда задача агента считается выполненной после получения подтверждения, что что-то было \"сохранено\". Определите метод взаимодействия. После того как план бронирования сохранен, агент может быть остановлен при получении сигнала \"saved\".\n"
   ]
  },
  {
   "cell_type": "code",
   "execution_count": null,
   "metadata": {
    "dotnet_interactive": {
     "language": "csharp"
    },
    "polyglot_notebook": {
     "kernelName": "csharp"
    }
   },
   "outputs": [],
   "source": [
    "class ApprovalTerminationStrategy(TerminationStrategy):\n",
    "    \"\"\"A strategy for determining when an agent should terminate.\"\"\"\n",
    "\n",
    "    async def should_agent_terminate(self, agent, history):\n",
    "        \"\"\"Check if the agent should terminate.\"\"\"\n",
    "        return \"saved\" in history[-1].content.lower()"
   ]
  },
  {
   "cell_type": "markdown",
   "metadata": {},
   "source": [
    "# Объяснение:\n",
    "\n",
    "Строка кода инициализирует объект AzureAIAgentSettings с настройками по умолчанию или заранее определенными параметрами, вызывая метод create(). Этот объект настроек (ai_agent_settings) затем можно использовать для настройки и управления экземпляром AzureAIAgent.\n"
   ]
  },
  {
   "cell_type": "code",
   "execution_count": null,
   "metadata": {
    "dotnet_interactive": {
     "language": "csharp"
    },
    "polyglot_notebook": {
     "kernelName": "csharp"
    }
   },
   "outputs": [],
   "source": [
    "ai_agent_settings = AzureAIAgentSettings.create()"
   ]
  },
  {
   "cell_type": "markdown",
   "metadata": {},
   "source": [
    "# Объяснение:\n",
    "Импортируя библиотеку requests, вы можете легко выполнять HTTP-запросы и взаимодействовать с веб-сервисами в вашем коде на Python.\n"
   ]
  },
  {
   "cell_type": "code",
   "execution_count": null,
   "metadata": {
    "dotnet_interactive": {
     "language": "csharp"
    },
    "polyglot_notebook": {
     "kernelName": "csharp"
    }
   },
   "outputs": [],
   "source": [
    "import requests"
   ]
  },
  {
   "cell_type": "markdown",
   "metadata": {},
   "source": [
    "# Объяснение:\n",
    "Это переменная, которая хранит API-ключ для доступа к сервису SERP (страница результатов поисковой системы). API-ключ — это уникальный идентификатор, используемый для аутентификации запросов, связанных с вашей учетной записью.\n",
    "\n",
    "'GOOGLE_SEARCH_API_KEY': Это строка-заглушка. Вам нужно заменить 'GOOGLE_SEARCH_API_KEY' на ваш реальный API-ключ для SERP.\n",
    "\n",
    "Цель: Цель этой строки — сохранить API-ключ в переменной, чтобы его можно было использовать для аутентификации запросов к сервису SERP. API-ключ необходим для доступа к сервису и выполнения поисковых запросов.\n",
    "\n",
    "Как получить API-ключ для SERP: Чтобы получить API-ключ для SERP, выполните следующие общие шаги на сайте https://serpapi.com (точные шаги могут отличаться в зависимости от конкретного сервиса SERP API, который вы используете):\n",
    "\n",
    "Выберите сервис SERP API: Существует несколько доступных сервисов SERP API, таких как SerpAPI, Google Custom Search JSON API и другие. Выберите тот, который лучше всего соответствует вашим потребностям.\n",
    "\n",
    "Зарегистрируйтесь:\n",
    "\n",
    "Перейдите на сайт выбранного сервиса SERP API https://www.serpapi.com и зарегистрируйтесь. Возможно, вам потребуется предоставить базовую информацию и подтвердить адрес электронной почты.\n",
    "\n",
    "Создайте API-ключ:\n",
    "\n",
    "После регистрации войдите в свою учетную запись и перейдите в раздел API или на панель управления. Найдите опцию для создания или генерации нового API-ключа.\n",
    "Скопируйте API-ключ:\n",
    "\n",
    "После генерации API-ключа скопируйте его. Этот ключ будет использоваться для аутентификации ваших запросов к сервису SERP API.\n",
    "Замените заглушку:\n",
    "\n",
    "Замените строку-заглушку в вашем .env файле.\n"
   ]
  },
  {
   "cell_type": "code",
   "execution_count": null,
   "metadata": {
    "dotnet_interactive": {
     "language": "csharp"
    },
    "polyglot_notebook": {
     "kernelName": "csharp"
    }
   },
   "outputs": [],
   "source": [
    "SERPAPI_SEARCH_API_KEY=os.getenv('SERPAPI_SEARCH_API_KEY')"
   ]
  },
  {
   "cell_type": "code",
   "execution_count": null,
   "metadata": {
    "dotnet_interactive": {
     "language": "csharp"
    },
    "polyglot_notebook": {
     "kernelName": "csharp"
    }
   },
   "outputs": [],
   "source": [
    "SERPAPI_SEARCH_ENDPOINT = os.getenv('SERPAPI_SEARCH_ENDPOINT')"
   ]
  },
  {
   "cell_type": "markdown",
   "metadata": {},
   "source": [
    "# Объяснение:\n",
    "Класс BookingPlugin предоставляет методы для бронирования отелей и авиабилетов с использованием Google Search API от Serpapi.com. Он формирует необходимые параметры, отправляет запросы к API и обрабатывает ответы, чтобы вернуть соответствующую информацию о бронировании. API-ключ (SERPAPI_SEARCH_API_KEY) и конечная точка (SERPAPI_SEARCH_ENDPOINT) используются для аутентификации и отправки запросов к Google Search API.\n"
   ]
  },
  {
   "cell_type": "code",
   "execution_count": null,
   "metadata": {
    "dotnet_interactive": {
     "language": "csharp"
    },
    "polyglot_notebook": {
     "kernelName": "csharp"
    }
   },
   "outputs": [],
   "source": [
    "# Define Booking Plugin\n",
    "class BookingPlugin:\n",
    "    \"\"\"Booking Plugin for customers\"\"\"\n",
    "    @kernel_function(description=\"booking hotel\")\n",
    "    def booking_hotel(self,query: Annotated[str, \"The name of the city\"], check_in_date: Annotated[str, \"Hotel Check-in Time\"], check_out_date: Annotated[str, \"Hotel Check-in Time\"])-> Annotated[str, \"Return the result of booking hotel infomation\"]:\n",
    "\n",
    "        params = {\n",
    "            \"engine\": \"google_hotels\",\n",
    "            \"q\": query,\n",
    "            \"check_in_date\": check_in_date,\n",
    "            \"check_out_date\": check_out_date,\n",
    "            \"adults\": \"2\",\n",
    "            \"currency\": \"USD\",\n",
    "            \"gl\": \"us\",\n",
    "            \"hl\": \"en\",\n",
    "            \"api_key\": SERPAPI_SEARCH_API_KEY\n",
    "        }\n",
    "\n",
    "        response = requests.get(SERPAPI_SEARCH_ENDPOINT, params=params)\n",
    "        if response.status_code == 200:\n",
    "            response = response.json()\n",
    "            return response[\"properties\"]\n",
    "        else:\n",
    "            return None\n",
    "\n",
    "    \n",
    "    @kernel_function(description=\"booking fight\")\n",
    "    def  booking_fight(self,origin: Annotated[str, \"The name of Departure\"], destination: Annotated[str, \"The name of Destination\"], outbound_date: Annotated[str, \"The date of outbound\"], return_date: Annotated[str, \"The date of Return_date\"])-> Annotated[str, \"Return the result of booking fight infomation\"]:\n",
    "        \n",
    "        go_params = {\n",
    "            \"engine\": \"google_flights\",   \n",
    "            \"departure_id\": origin,\n",
    "            \"arrival_id\": destination,\n",
    "            \"outbound_date\": outbound_date,\n",
    "            \"return_date\": return_date,  \n",
    "            \"currency\": \"USD\",\n",
    "            \"hl\": \"en\",\n",
    "            \"api_key\": SERPAPI_SEARCH_API_KEY  \n",
    "        }\n",
    "\n",
    "        print(go_params)\n",
    "\n",
    "        go_response = requests.get(SERPAPI_SEARCH_ENDPOINT, params=go_params)\n",
    "\n",
    "\n",
    "        result = ''\n",
    "\n",
    "        if go_response.status_code == 200:\n",
    "            response = go_response.json()\n",
    "\n",
    "            result += \"# outbound \\n \" + str(response)\n",
    "        else:\n",
    "            print('error!!!')\n",
    "            # return None\n",
    "\n",
    "        \n",
    "        back_params = {\n",
    "            \"engine\": \"google_flights\",   \n",
    "            \"departure_id\": destination,\n",
    "            \"arrival_id\": origin,\n",
    "            \"outbound_date\": return_date,\n",
    "            \"return_date\": return_date,  \n",
    "            \"currency\": \"USD\",\n",
    "            \"hl\": \"en\",\n",
    "            \"api_key\": SERPAPI_SEARCH_API_KEY  \n",
    "        }\n",
    "\n",
    "\n",
    "        print(back_params)\n",
    "\n",
    "\n",
    "        back_response = requests.get(SERPAPI_SEARCH_ENDPOINT, params=back_params)\n",
    "\n",
    "\n",
    "\n",
    "        if back_response.status_code == 200:\n",
    "            response = back_response.json()\n",
    "\n",
    "            result += \"\\n # return \\n\"  + str(response)\n",
    "\n",
    "        else:\n",
    "            print('error!!!')\n",
    "            # return None\n",
    "        \n",
    "        print(result)\n",
    "\n",
    "        return result\n",
    "\n",
    "        \n"
   ]
  },
  {
   "cell_type": "markdown",
   "metadata": {},
   "source": [
    "# Объяснение:\n",
    "Класс SavePlugin предоставляет метод saving_plan для сохранения планов поездок с использованием сервисов Azure AI. Он настраивает учетные данные Azure, создает AI-агента, обрабатывает пользовательские вводы для генерации и сохранения содержимого плана поездки, а также выполняет операции сохранения файла и очистки. Метод возвращает \"Saved\" после успешного завершения.\n"
   ]
  },
  {
   "cell_type": "code",
   "execution_count": null,
   "metadata": {
    "dotnet_interactive": {
     "language": "csharp"
    },
    "polyglot_notebook": {
     "kernelName": "csharp"
    }
   },
   "outputs": [],
   "source": [
    "class SavePlugin:\n",
    "    \"\"\"Save Plugin for customers\"\"\"\n",
    "    @kernel_function(description=\"saving plan\")\n",
    "    async def saving_plan(self,tripplan: Annotated[str, \"The content of trip plan\"])-> Annotated[str, \"Return status of save content\"]:\n",
    "\n",
    "        async with (\n",
    "            DefaultAzureCredential() as creds,\n",
    "            AzureAIAgent.create_client(\n",
    "                credential=creds,\n",
    "                conn_str=ai_agent_settings.project_connection_string.get_secret_value(),\n",
    "            ) as client,\n",
    "        ):\n",
    "\n",
    "            code_interpreter = CodeInterpreterTool()\n",
    "            \n",
    "            agent_definition = await client.agents.create_agent(\n",
    "                model=ai_agent_settings.model_deployment_name,\n",
    "                tools=code_interpreter.definitions,\n",
    "                tool_resources=code_interpreter.resources,\n",
    "            )\n",
    "\n",
    "\n",
    "            agent = AzureAIAgent(\n",
    "                client=client,\n",
    "                definition=agent_definition,\n",
    "            )\n",
    "\n",
    "            thread = await client.agents.create_thread()\n",
    "\n",
    "\n",
    "            user_inputs = [\n",
    "                \"\"\"\n",
    "            \n",
    "                        You are my Python programming assistant. Generate code,save \"\"\"+ tripplan +\n",
    "                        \n",
    "                    \"\"\"    \n",
    "                        and execute it according to the following requirements\n",
    "\n",
    "                        1. Save blog content to trip-{YYMMDDHHMMSS}.md\n",
    "\n",
    "                        2. give me the download this file link\n",
    "                    \"\"\"\n",
    "            ]\n",
    "\n",
    "\n",
    "\n",
    "            try:\n",
    "                for user_input in user_inputs:\n",
    "                    # Add the user input as a chat message\n",
    "                    await agent.add_chat_message(\n",
    "                        thread_id=thread.id, message=ChatMessageContent(role=AuthorRole.USER, content=user_input)\n",
    "                    )\n",
    "                    print(f\"# User: '{user_input}'\")\n",
    "                    # Invoke the agent for the specified thread\n",
    "                    async for content in agent.invoke(thread_id=thread.id):\n",
    "                        if content.role != AuthorRole.TOOL:\n",
    "                            print(f\"# Agent: {content.content}\")\n",
    "\n",
    "                    \n",
    "                    messages = await client.agents.list_messages(thread_id=thread.id)\n",
    "\n",
    "                    # OpenAIPageableListOfThreadMessage\n",
    "                    # OpenAIPageableListOfThreadMessage\n",
    "\n",
    "\n",
    "                    for file_path_annotation in messages.file_path_annotations:\n",
    "\n",
    "                            file_name = os.path.basename(file_path_annotation.text)\n",
    "\n",
    "                            await client.agents.save_file(file_id=file_path_annotation.file_path.file_id, file_name=file_name,target_dir=\"./trip\")\n",
    "\n",
    "                    \n",
    "            finally:\n",
    "                await client.agents.delete_thread(thread.id)\n",
    "                await client.agents.delete_agent(agent.id)\n",
    "\n",
    "\n",
    "        return \"Saved\""
   ]
  },
  {
   "cell_type": "markdown",
   "metadata": {},
   "source": [
    "# Объяснение:\n",
    "Этот код настраивает агентов Azure AI для бронирования авиабилетов и отелей, а также сохранения планов поездок на основе ввода пользователя. Он использует учетные данные Azure для создания и настройки агентов, обрабатывает ввод пользователя через групповой чат и обеспечивает правильное завершение работы после выполнения задач. Агенты используют определенные плагины (BookingPlugin и SavePlugin) для выполнения своих задач.\n"
   ]
  },
  {
   "cell_type": "code",
   "execution_count": null,
   "metadata": {
    "dotnet_interactive": {
     "language": "csharp"
    },
    "polyglot_notebook": {
     "kernelName": "csharp"
    }
   },
   "outputs": [],
   "source": [
    "async with (\n",
    "    DefaultAzureCredential() as creds,\n",
    "    AzureAIAgent.create_client(\n",
    "        credential=creds,\n",
    "        conn_str=ai_agent_settings.project_connection_string.get_secret_value(),\n",
    "    ) as client,\n",
    "):\n",
    "    BOOKING_AGENT_NAME = \"BookingAgent\"\n",
    "    BOOKING_AGENT_INSTRUCTIONS = \"\"\"\n",
    "    You are a booking agent. Help me book flights or hotels.\n",
    "\n",
    "    Thought: Please understand the user's intention and confirm whether to use the reservation system to complete the task.\n",
    "\n",
    "    Actions:\n",
    "    - For flight bookings, convert the departure and destination names into airport codes.\n",
    "    - Use the appropriate API for hotel or flight bookings. Verify that all necessary parameters are available. If any parameters are missing, ask the user to provide them. If all parameters are complete, call the corresponding function.\n",
    "    - If the task is not related to hotel or flight booking, respond with the final answer only.\n",
    "    - Output the results using a markdown table:\n",
    "      - For flight bookings, output separate outbound and return contents in the order of:\n",
    "        Departure Airport | Airline | Flight Number | Departure Time | Arrival Airport | Arrival Time | Duration | Airplane | Travel Class | Price (USD) | Legroom | Extensions | Carbon Emissions (kg).\n",
    "      - For hotel bookings, output in the order of:\n",
    "        Property Name | Property Description | Check-in Time | Check-out Time | Prices | Nearby Places | Hotel Class | GPS Coordinates.\n",
    "    \"\"\"\n",
    "\n",
    "    SAVE_AGENT_NAME = \"SaveAgent\"\n",
    "    SAVE_AGENT_INSTRUCTIONS = \"\"\"\n",
    "    You are a save tool agent. Help me to save the trip plan.\n",
    "    \"\"\"\n",
    "\n",
    "    # Create agent definition\n",
    "    booking_agent_definition = await client.agents.create_agent(\n",
    "        model=ai_agent_settings.model_deployment_name,\n",
    "        name=BOOKING_AGENT_NAME,\n",
    "        instructions=BOOKING_AGENT_INSTRUCTIONS,\n",
    "    )\n",
    "\n",
    "    # Create the AzureAI Agent\n",
    "    booking_agent = AzureAIAgent(\n",
    "        client=client,\n",
    "        definition=booking_agent_definition,\n",
    "        # Optionally configure polling options\n",
    "        # polling_options=RunPollingOptions(run_polling_interval=timedelta(seconds=1)),\n",
    "    )\n",
    "\n",
    "    # Add the sample plugin to the kernel\n",
    "    booking_agent.kernel.add_plugin(BookingPlugin(), plugin_name=\"booking\")\n",
    "\n",
    "    # Create agent definition\n",
    "    save_agent_definition = await client.agents.create_agent(\n",
    "        model=ai_agent_settings.model_deployment_name,\n",
    "        name=SAVE_AGENT_NAME,\n",
    "        instructions=SAVE_AGENT_INSTRUCTIONS\n",
    "    )\n",
    "\n",
    "    # Create the AzureAI Agent\n",
    "    save_agent = AzureAIAgent(\n",
    "        client=client,\n",
    "        definition=save_agent_definition,\n",
    "    )\n",
    "\n",
    "    save_agent.kernel.add_plugin(SavePlugin(), plugin_name=\"saving\")\n",
    "\n",
    "    user_inputs = [\n",
    "        \"I have a business trip from London to New York in Feb 20 2025 to Feb 27 2025 ,help me to book a hotel and fight tickets and save it\"\n",
    "    ]\n",
    "\n",
    "    chat = AgentGroupChat(\n",
    "        agents=[booking_agent, save_agent],\n",
    "        termination_strategy=ApprovalTerminationStrategy(agents=[save_agent], maximum_iterations=10),\n",
    "    )\n",
    "\n",
    "    try:\n",
    "        for user_input in user_inputs:\n",
    "            # Add the user input as a chat message\n",
    "            await chat.add_chat_message(\n",
    "                ChatMessageContent(role=AuthorRole.USER, content=user_input)\n",
    "            )\n",
    "            print(f\"# User: '{user_input}'\")\n",
    "\n",
    "            async for content in chat.invoke():\n",
    "                print(f\"# {content.role} - {content.name or '*'}: '{content.content}'\")\n",
    "\n",
    "            print(f\"# IS COMPLETE: {chat.is_complete}\")\n",
    "\n",
    "            print(\"*\" * 60)\n",
    "            print(\"Chat History (In Descending Order):\\n\")\n",
    "            async for message in chat.get_chat_messages(agent=save_agent):\n",
    "                print(f\"# {message.role} - {message.name or '*'}: '{message.content}'\")\n",
    "    finally:\n",
    "        await chat.reset()\n",
    "        await client.agents.delete_agent(save_agent.id)\n",
    "        await client.agents.delete_agent(booking_agent.id)\n"
   ]
  },
  {
   "cell_type": "markdown",
   "metadata": {},
   "source": [
    "\n---\n\n**Отказ от ответственности**:  \nЭтот документ был переведен с использованием сервиса автоматического перевода [Co-op Translator](https://github.com/Azure/co-op-translator). Несмотря на наши усилия обеспечить точность, автоматические переводы могут содержать ошибки или неточности. Оригинальный документ на его исходном языке следует считать авторитетным источником. Для получения критически важной информации рекомендуется профессиональный перевод человеком. Мы не несем ответственности за любые недоразумения или неправильные толкования, возникшие в результате использования данного перевода.\n"
   ]
  }
 ],
 "metadata": {
  "kernelspec": {
   "display_name": "3.12.1",
   "language": "python",
   "name": "python3"
  },
  "language_info": {
   "codemirror_mode": {
    "name": "ipython",
    "version": 3
   },
   "file_extension": ".py",
   "mimetype": "text/x-python",
   "name": "python",
   "nbconvert_exporter": "python",
   "pygments_lexer": "ipython3",
   "version": "3.12.1"
  },
  "polyglot_notebook": {
   "kernelInfo": {
    "defaultKernelName": "csharp",
    "items": [
     {
      "aliases": [],
      "name": "csharp"
     }
    ]
   }
  },
  "coopTranslator": {
   "original_hash": "1baa60020a95eda27b7e9ecfda99965b",
   "translation_date": "2025-08-29T13:59:23+00:00",
   "source_file": "08-multi-agent/code_samples/08-python_multi_aiagent_bookinghotel.ipynb",
   "language_code": "ru"
  }
 },
 "nbformat": 4,
 "nbformat_minor": 2
}