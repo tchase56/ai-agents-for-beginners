{
 "cells": [
  {
   "cell_type": "markdown",
   "metadata": {},
   "source": [
    "# Использование RAG с помощью Azure AI Agent Service и Semantic Kernel\n",
    "\n",
    "Этот пример кода демонстрирует, как создать и управлять агентом Azure AI для генерации с дополнением извлеченной информации (RAG) с использованием `Azure AI Agent Service` и `Semantic Kernel`. Агент обрабатывает запросы пользователей на основе извлеченного контекста и предоставляет точные ответы соответственно.\n"
   ]
  },
  {
   "cell_type": "markdown",
   "metadata": {},
   "source": []
  },
  {
   "cell_type": "markdown",
   "metadata": {},
   "source": [
    "Исправление версии SQLite  \n",
    "Если вы столкнулись с ошибкой:  \n",
    "```\n",
    "RuntimeError: Your system has an unsupported version of sqlite3. Chroma requires sqlite3 >= 3.35.0\n",
    "```  \n",
    "\n",
    "Раскомментируйте этот блок кода в начале вашего ноутбука:  \n"
   ]
  },
  {
   "cell_type": "code",
   "execution_count": null,
   "metadata": {},
   "outputs": [],
   "source": [
    "# %pip install pysqlite3-binary\n",
    "# __import__('pysqlite3')\n",
    "# import sys\n",
    "# sys.modules['sqlite3'] = sys.modules.pop('pysqlite3')"
   ]
  },
  {
   "cell_type": "markdown",
   "metadata": {},
   "source": [
    "### Импорт пакетов\n",
    "Следующий код импортирует необходимые пакеты:\n"
   ]
  },
  {
   "cell_type": "code",
   "execution_count": null,
   "metadata": {},
   "outputs": [],
   "source": [
    "# Azure imports for project client and credentials\n",
    "from azure.ai.projects.models import FileSearchTool, OpenAIFile, VectorStore\n",
    "from azure.identity.aio import DefaultAzureCredential\n",
    "\n",
    "# Semantic Kernel imports\n",
    "from semantic_kernel.agents import AzureAIAgent, AzureAIAgentThread"
   ]
  },
  {
   "cell_type": "markdown",
   "metadata": {},
   "source": [
    "# Генерация с использованием поиска с помощью Semantic Kernel и Azure AI Agent Service\n",
    "\n",
    "Этот пример демонстрирует, как использовать **Azure AI Agent Service** для выполнения **генерации с использованием поиска (RAG)**, объединяя языковую модель с контекстом, специфичным для области, из загруженного документа.\n",
    "\n",
    "### Как это работает\n",
    "\n",
    "1. **Загрузка документа**: В агент-сервис загружается файл в формате markdown (document.md), содержащий информацию (страховая политика Contoso для путешествий).\n",
    "\n",
    "2. **Создание векторного хранилища**: Документ индексируется в векторное хранилище, чтобы обеспечить семантический поиск по его содержимому.\n",
    "\n",
    "3. **Настройка агента**: Агент создается с использованием модели `gpt-4o` с следующими строгими инструкциями:\n",
    "   - Отвечать на вопросы только на основе извлеченного содержимого из документа.\n",
    "   - Отказываться отвечать, если вопрос выходит за рамки доступной информации.\n",
    "\n",
    "4. **Интеграция инструмента поиска файлов**: `FileSearchTool` регистрируется в агенте, позволяя модели искать и извлекать релевантные фрагменты из индексированного документа во время выполнения запроса.\n",
    "\n",
    "5. **Взаимодействие с пользователем**: Пользователи могут задавать вопросы. Если в документе найдена релевантная информация, агент генерирует обоснованный ответ.  \n",
    "   Если информации недостаточно, агент явно сообщает, что документ не содержит достаточных данных.\n"
   ]
  },
  {
   "cell_type": "markdown",
   "metadata": {},
   "source": [
    "### Основная функция\n",
    "\n"
   ]
  },
  {
   "cell_type": "markdown",
   "metadata": {},
   "source": [
    "Убедитесь, что сначала выполнена команда `az login` с использованием Azure CLI, чтобы обеспечить правильный контекст аутентификации при использовании `DefaultAzureCredential`. Служба Azure AI Agent не использует ключи API.\n"
   ]
  },
  {
   "cell_type": "code",
   "execution_count": null,
   "metadata": {},
   "outputs": [],
   "source": [
    "async def main():\n",
    "    async with (\n",
    "        DefaultAzureCredential() as creds,\n",
    "        AzureAIAgent.create_client(credential=creds) as client,\n",
    "    ):\n",
    "        file: OpenAIFile = await client.agents.upload_file_and_poll(file_path=\"document.md\", purpose=\"assistants\")\n",
    "        vector_store: VectorStore = await client.agents.create_vector_store_and_poll(\n",
    "            file_ids=[file.id], name=\"my_vectorstore\"\n",
    "        )\n",
    "\n",
    "        # Define agent name and instructions tailored for RAG.\n",
    "        AGENT_NAME = \"RAGAgent\"\n",
    "        AGENT_INSTRUCTIONS = \"\"\"\n",
    "        You are an AI assistant designed to answer user questions using only the information retrieved from the provided document(s).\n",
    "\n",
    "        - If a user's question cannot be answered using the retrieved context, **you must clearly respond**: \n",
    "        \"I'm sorry, but the uploaded document does not contain the necessary information to answer that question.\"\n",
    "        - Do not answer from general knowledge or reasoning. Do not make assumptions or generate hypothetical explanations.\n",
    "        - Do not provide definitions, tutorials, or commentary that is not explicitly grounded in the content of the uploaded file(s).\n",
    "        - If a user asks a question like \"What is a Neural Network?\", and this is not discussed in the uploaded document, respond as instructed above.\n",
    "        - For questions that do have relevant content in the document (e.g., Contoso's travel insurance coverage), respond accurately, and cite the document explicitly.\n",
    "\n",
    "        You must behave as if you have no external knowledge beyond what is retrieved from the uploaded document.\n",
    "        \"\"\"\n",
    "\n",
    "        \n",
    "        # Create file search tool with uploaded resources\n",
    "        file_search = FileSearchTool(vector_store_ids=[vector_store.id])\n",
    "\n",
    "        # 3. Create an agent on the Azure AI agent service with the file search tool\n",
    "        agent_definition = await client.agents.create_agent(\n",
    "            model=\"gpt-4o\",  # This model should match your Azure OpenAI deployment.\n",
    "            name=AGENT_NAME,\n",
    "            instructions=AGENT_INSTRUCTIONS,\n",
    "            tools=file_search.definitions,\n",
    "            tool_resources=file_search.resources,\n",
    "        )\n",
    "        \n",
    "        # Create the Azure AI Agent using the client and definition.\n",
    "        agent = AzureAIAgent(\n",
    "            client=client,\n",
    "            definition=agent_definition,\n",
    "        )\n",
    "        \n",
    "        # Create a thread to hold the conversation\n",
    "        # If no thread is provided, a new thread will be\n",
    "        # created and returned with the initial response\n",
    "        thread: AzureAIAgentThread | None = None\n",
    "        \n",
    "        # Example user queries.\n",
    "        user_inputs = [\n",
    "            \"Can you explain Contoso's travel insurance coverage?\",  # Relevant context.\n",
    "            \"What is a Neural Network?\"  # No relevant context from the document. Will not contain a source annotation.\n",
    "        ]\n",
    "        \n",
    "        try:\n",
    "            for user_input in user_inputs:\n",
    "                print(f\"# User: '{user_input}'\")\n",
    "                # Invoke the agent for the specified thread for response\n",
    "                async for response in agent.invoke(messages=user_input, thread=thread):\n",
    "                    print(f\"# {response.name}: {response}\")\n",
    "                    thread = response.thread\n",
    "        finally:\n",
    "            # Clean up resources.\n",
    "            await thread.delete() if thread else None\n",
    "            await client.agents.delete_vector_store(vector_store.id)\n",
    "            await client.agents.delete_file(file.id)\n",
    "            await client.agents.delete_agent(agent.id)\n",
    "            print(\"\\nCleaned up agent, thread, file, and vector store.\")\n",
    "\n",
    "await main()"
   ]
  },
  {
   "cell_type": "markdown",
   "metadata": {},
   "source": [
    "Пожалуйста, предоставьте текст файла Markdown, который нужно перевести.\n"
   ]
  },
  {
   "cell_type": "markdown",
   "metadata": {},
   "source": [
    "\n---\n\n**Отказ от ответственности**:  \nЭтот документ был переведен с помощью сервиса автоматического перевода [Co-op Translator](https://github.com/Azure/co-op-translator). Хотя мы стремимся к точности, пожалуйста, учитывайте, что автоматические переводы могут содержать ошибки или неточности. Оригинальный документ на его родном языке следует считать авторитетным источником. Для получения критически важной информации рекомендуется профессиональный перевод человеком. Мы не несем ответственности за любые недоразумения или неправильные интерпретации, возникающие в результате использования данного перевода.\n"
   ]
  }
 ],
 "metadata": {
  "kernelspec": {
   "display_name": ".venv",
   "language": "python",
   "name": "python3"
  },
  "language_info": {
   "codemirror_mode": {
    "name": "ipython",
    "version": 3
   },
   "file_extension": ".py",
   "mimetype": "text/x-python",
   "name": "python",
   "nbconvert_exporter": "python",
   "pygments_lexer": "ipython3",
   "version": "3.11.11"
  },
  "coopTranslator": {
   "original_hash": "a86c3ddfbe35024993bbf563588aad48",
   "translation_date": "2025-08-29T14:17:33+00:00",
   "source_file": "05-agentic-rag/code_samples/05-semantic-kernel-azure-ai-agent.ipynb",
   "language_code": "ru"
  }
 },
 "nbformat": 4,
 "nbformat_minor": 2
}