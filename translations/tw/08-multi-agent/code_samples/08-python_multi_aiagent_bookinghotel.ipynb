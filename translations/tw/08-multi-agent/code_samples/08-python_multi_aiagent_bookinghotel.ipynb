{
 "cells": [
  {
   "cell_type": "markdown",
   "metadata": {},
   "source": [
    "## **範例：多重 AI 代理人協助預訂酒店**\n",
    "\n",
    "在現今快節奏的世界中，規劃商務旅行不僅僅是預訂機票和酒店房間。它需要一種協調和效率的水平，而這往往是很難達到的。這時，多重 AI 代理人就能派上用場，徹底改變我們管理旅行需求的方式。\n",
    "\n",
    "想像一下，有一個由智能代理人組成的團隊隨時為您服務，協同處理旅行的每個細節，精準且輕鬆。憑藉我們的先進 AI 技術，我們創建了專門的代理人來負責預訂服務和行程安排，確保您擁有無縫且無壓力的旅行體驗。\n",
    "\n",
    "這是一個基本場景。在規劃商務旅行時，我們需要與商務旅行代理人協商以獲取機票信息、酒店信息等。通過 AI 代理人，我們可以建立負責預訂服務的代理人以及負責行程安排的代理人，讓它們協同合作並提升智能化水平。\n"
   ]
  },
  {
   "cell_type": "markdown",
   "metadata": {},
   "source": [
    "# 初始化 Azure AI Agent Service 並從 **.env** 獲取配置信息\n",
    "\n",
    "### **.env**\n",
    "\n",
    "建立一個 .env 文件\n",
    "\n",
    "**.env** 包含 Azure AI Agent Service 的連接字串、AOAI 使用的模型，以及對應的 Google API 搜索服務 API、ENDPOINT 等。\n",
    "\n",
    "- **AZURE_AI_AGENT_MODEL_DEPLOYMENT_NAME** = \"您的 Azure AI Agent Service 模型部署名稱\"\n",
    "\n",
    "[**NOTE**] 您需要一個具有 100,000 速率限制（每分鐘的 Token 數）和 600 速率限制（每分鐘請求數）的模型。\n",
    "\n",
    "  您可以在 Azure AI Foundry 的模型與端點中獲取模型。\n",
    "\n",
    "- **AZURE_AI_AGENT_PROJECT_CONNECTION_STRING** = \"您的 Azure AI Agent Service 專案連接字串\"\n",
    "\n",
    "  您可以在 AI Foundry Portal 的專案概覽頁面中獲取專案連接字串。\n",
    "\n",
    "- **SERPAPI_SEARCH_API_KEY** = \"您的 SERPAPI 搜索 API KEY\"\n",
    "- **SERPAPI_SEARCH_ENDPOINT** = \"您的 SERPAPI 搜索 ENDPOINT\"\n",
    "\n",
    "要獲取 Azure AI Agent Service 的模型部署名稱和專案連接字串，您需要創建 Azure AI Agent Service。建議直接使用[此模板](https://portal.azure.com/#create/Microsoft.Template/uri/https%3A%2F%2Fraw.githubusercontent.com%2Ffosteramanda%2Fazure-agent-quickstart-templates%2Frefs%2Fheads%2Fmaster%2Fquickstarts%2Fmicrosoft.azure-ai-agent-service%2Fstandard-agent%2Fazuredeploy.json)來創建。（***注意：*** Azure AI Agent Service 目前僅限於特定區域。建議參考[此連結](https://learn.microsoft.com/en-us/azure/ai-services/agents/concepts/model-region-support)來設置區域）\n",
    "\n",
    "Agent 需要訪問 SERPAPI。建議使用[此連結](https://serpapi.com/searches)進行註冊。註冊後，您可以獲取唯一的 API KEY 和 ENDPOINT。\n"
   ]
  },
  {
   "cell_type": "markdown",
   "metadata": {},
   "source": [
    "# 登錄 Azure\n",
    "\n",
    "您現在需要登錄到 Azure。請在 VScode 中打開終端並執行 `az login` 命令。\n"
   ]
  },
  {
   "cell_type": "markdown",
   "metadata": {},
   "source": [
    "# 設置\n",
    "\n",
    "要執行此筆記本，您需要安裝以下庫。以下是所需庫及其對應的 pip 安裝命令清單：\n",
    "\n",
    "azure-identity：用於 Azure 身份驗證。  \n",
    "requests：用於發送 HTTP 請求。  \n",
    "semantic-kernel：用於語義核心框架（假設這是一個自定義或特定的庫，您可能需要從特定來源或存儲庫安裝它）。  \n"
   ]
  },
  {
   "cell_type": "code",
   "execution_count": null,
   "metadata": {},
   "outputs": [],
   "source": [
    "!pip install azure-identity\n",
    "!pip install requests\n",
    "!pip install semantic-kernel\n",
    "!pip install --upgrade semantic_kernel\n",
    "!pip install azure-cli"
   ]
  },
  {
   "cell_type": "markdown",
   "metadata": {},
   "source": [
    "# 解釋：\n",
    "import asyncio：這是匯入 asyncio 模組，該模組提供了 Python 中的非同步程式設計支援。它允許你使用 async 和 await 語法撰寫並行程式碼。\n",
    "from typing import Annotated：這是從 typing 模組匯入 Annotated 類型。Annotated 用於為型別提示添加元數據，這在驗證、文件或工具等多種用途中可能非常有用。\n"
   ]
  },
  {
   "cell_type": "code",
   "execution_count": null,
   "metadata": {
    "dotnet_interactive": {
     "language": "csharp"
    },
    "polyglot_notebook": {
     "kernelName": "csharp"
    }
   },
   "outputs": [],
   "source": [
    "import asyncio,os\n",
    "from typing import Annotated"
   ]
  },
  {
   "cell_type": "markdown",
   "metadata": {},
   "source": [
    "# 說明：\n",
    "透過使用 `from dotenv import load_dotenv` 和 `load_dotenv()`，您可以輕鬆地在 `.env` 文件中管理配置設定和敏感資訊（例如 API 金鑰和資料庫 URL），將它們與源代碼分離，從而使您的應用程式更安全且更易於配置。\n"
   ]
  },
  {
   "cell_type": "code",
   "execution_count": null,
   "metadata": {},
   "outputs": [],
   "source": [
    "import os\n",
    "from dotenv import load_dotenv\n",
    "\n",
    "# Load environment variables from .env file\n",
    "load_dotenv()"
   ]
  },
  {
   "cell_type": "markdown",
   "metadata": {},
   "source": [
    "# 說明：\n",
    "\n",
    "匯入語句：from azure.identity.aio import DefaultAzureCredential：這是從 azure.identity.aio 模組中匯入 DefaultAzureCredential 類別。模組名稱中的 aio 表示它是為非同步操作設計的。\n",
    "\n",
    "DefaultAzureCredential 的用途：DefaultAzureCredential 類別是 Azure SDK for Python 的一部分。它提供了一種預設的方式來驗證 Azure 服務。它會按照特定順序嘗試使用多種方法進行驗證，例如環境變數、受管理的身分識別以及 Azure CLI 憑證。\n",
    "\n",
    "非同步操作：aio 模組表示 DefaultAzureCredential 類別支援非同步操作。這意味著您可以使用 asyncio 來執行非阻塞的驗證請求。\n"
   ]
  },
  {
   "cell_type": "code",
   "execution_count": null,
   "metadata": {
    "dotnet_interactive": {
     "language": "csharp"
    },
    "polyglot_notebook": {
     "kernelName": "csharp"
    }
   },
   "outputs": [],
   "source": [
    "from azure.identity.aio import DefaultAzureCredential"
   ]
  },
  {
   "cell_type": "markdown",
   "metadata": {},
   "source": [
    "# 說明：\n",
    "從 `semantic_kernel` 套件中匯入各種模組和類別。以下是每個匯入項目的詳細說明：\n",
    "\n",
    "AgentGroupChat 從 `semantic_kernel.agents` 匯入：  \n",
    "此類別負責處理與 AI 代理相關的群組聊天功能。\n",
    "\n",
    "AzureAIAgent 和 AzureAIAgentSettings 從 `semantic_kernel.agents.azure_ai` 匯入：  \n",
    "- **AzureAIAgent**：此類別用於建立和管理利用 Azure AI 服務的 AI 代理。  \n",
    "- **AzureAIAgentSettings**：此類別用於配置 AzureAIAgent 的設定。\n",
    "\n",
    "TerminationStrategy 從 `semantic_kernel.agents.strategies.termination.termination_strategy` 匯入：  \n",
    "此類別定義了在特定條件下終止 AI 代理執行的策略。\n",
    "\n",
    "ChatMessageContent 從 `semantic_kernel.contents.chat_message_content` 匯入：  \n",
    "此類別用於處理聊天訊息的內容。\n",
    "\n",
    "AuthorRole 從 `semantic_kernel.contents.utils.author_role` 匯入：  \n",
    "此類別定義了在聊天訊息上下文中作者的不同角色。\n",
    "\n",
    "kernel_function 從 `semantic_kernel.functions.kernel_function_decorator` 匯入：  \n",
    "此裝飾器用於定義核心函數，這些函數可以在 `semantic_kernel` 框架內執行。\n",
    "\n",
    "這些匯入項目設置了必要的組件，用於建立和管理能夠在群組聊天環境中互動的 AI 代理，可能用於像預訂酒店等任務。\n"
   ]
  },
  {
   "cell_type": "code",
   "execution_count": null,
   "metadata": {
    "dotnet_interactive": {
     "language": "csharp"
    },
    "polyglot_notebook": {
     "kernelName": "csharp"
    }
   },
   "outputs": [],
   "source": [
    "from semantic_kernel.agents import AgentGroupChat\n",
    "from semantic_kernel.agents import AzureAIAgent, AzureAIAgentSettings\n",
    "from semantic_kernel.agents.strategies.termination.termination_strategy import TerminationStrategy\n",
    "from semantic_kernel.contents import ChatMessageContent\n",
    "from semantic_kernel.contents import AuthorRole\n",
    "from semantic_kernel.functions.kernel_function_decorator import kernel_function"
   ]
  },
  {
   "cell_type": "markdown",
   "metadata": {},
   "source": [
    "# 說明：\n",
    "接下來，我們從 azure.ai.projects.models 模組中匯入 CodeInterpreterTool 類別。\n",
    "\n",
    "CodeInterpreterTool：此類別是 Azure AI SDK 的一部分，用於在 AI 專案的上下文中解釋和執行程式碼。它提供了執行程式碼片段、分析程式碼或將程式碼執行整合到 AI 工作流程中的功能。\n",
    "此匯入設定了使用 CodeInterpreterTool 的必要元件，這在需要動態解釋和執行程式碼的任務中可能非常有用。\n"
   ]
  },
  {
   "cell_type": "code",
   "execution_count": null,
   "metadata": {
    "dotnet_interactive": {
     "language": "csharp"
    },
    "polyglot_notebook": {
     "kernelName": "csharp"
    }
   },
   "outputs": [],
   "source": [
    "from azure.ai.projects.models import CodeInterpreterTool"
   ]
  },
  {
   "cell_type": "markdown",
   "metadata": {},
   "source": [
    "# 說明：\n",
    "ApprovalTerminationStrategy 類別提供了一種特定策略，用於終止 AI 代理的運作。如果其互動歷史中的最後一則訊息包含「saved」這個詞，代理就會終止運作。在某些情境中，這可能非常有用，例如當代理的任務在收到某項已「保存」的確認後被視為完成時。定義互動方法。當預約計劃保存後，接收到保存信號時即可停止。\n"
   ]
  },
  {
   "cell_type": "code",
   "execution_count": null,
   "metadata": {
    "dotnet_interactive": {
     "language": "csharp"
    },
    "polyglot_notebook": {
     "kernelName": "csharp"
    }
   },
   "outputs": [],
   "source": [
    "class ApprovalTerminationStrategy(TerminationStrategy):\n",
    "    \"\"\"A strategy for determining when an agent should terminate.\"\"\"\n",
    "\n",
    "    async def should_agent_terminate(self, agent, history):\n",
    "        \"\"\"Check if the agent should terminate.\"\"\"\n",
    "        return \"saved\" in history[-1].content.lower()"
   ]
  },
  {
   "cell_type": "markdown",
   "metadata": {},
   "source": [
    "# 說明：\n",
    "\n",
    "這行程式碼透過呼叫 create() 方法，初始化一個 AzureAIAgentSettings 物件，並使用預設或預先定義的設定。此設定物件 (ai_agent_settings) 隨後可用於配置和管理 AzureAIAgent 實例。\n"
   ]
  },
  {
   "cell_type": "code",
   "execution_count": null,
   "metadata": {
    "dotnet_interactive": {
     "language": "csharp"
    },
    "polyglot_notebook": {
     "kernelName": "csharp"
    }
   },
   "outputs": [],
   "source": [
    "ai_agent_settings = AzureAIAgentSettings.create()"
   ]
  },
  {
   "cell_type": "markdown",
   "metadata": {},
   "source": [
    "# 說明：\n",
    "透過匯入 requests 函式庫，您可以輕鬆地在 Python 程式碼中發送 HTTP 請求並與網路服務進行互動。\n"
   ]
  },
  {
   "cell_type": "code",
   "execution_count": null,
   "metadata": {
    "dotnet_interactive": {
     "language": "csharp"
    },
    "polyglot_notebook": {
     "kernelName": "csharp"
    }
   },
   "outputs": [],
   "source": [
    "import requests"
   ]
  },
  {
   "cell_type": "markdown",
   "metadata": {},
   "source": [
    "# 說明：\n",
    "這是一個用來存儲 API 金鑰的變數，該金鑰用於訪問 SERP（搜尋引擎結果頁面）API 服務。API 金鑰是一個用於驗證與您帳戶相關的請求的唯一識別碼。\n",
    "\n",
    "'GOOGLE_SEARCH_API_KEY'：這是一個佔位符字串。您需要將 'GOOGLE_SEARCH_API_KEY' 替換為您的實際 SERP API 金鑰。\n",
    "\n",
    "目的：這行的目的是將 API 金鑰存儲在變數中，以便用於驗證對 SERP API 服務的請求。API 金鑰是訪問服務並執行搜尋所必需的。\n",
    "\n",
    "如何獲取 SERP API 金鑰：要獲取 SERP API 金鑰，請按照以下一般步驟操作：https://serpapi.com（具體步驟可能因您使用的 SERP API 服務而有所不同）：\n",
    "\n",
    "選擇一個 SERP API 服務：目前有多種 SERP API 服務可供選擇，例如 SerpAPI、Google Custom Search JSON API 等。選擇最符合您需求的服務。\n",
    "\n",
    "註冊帳戶：\n",
    "\n",
    "前往所選 SERP API 服務的網站 https://www.serpapi.com，註冊一個帳戶。您可能需要提供一些基本信息並驗證您的電子郵件地址。\n",
    "\n",
    "創建 API 金鑰：\n",
    "\n",
    "註冊完成後，登錄您的帳戶並導航到 API 區域或儀表板。尋找創建或生成新 API 金鑰的選項。\n",
    "複製 API 金鑰：\n",
    "\n",
    "API 金鑰生成後，請複製它。此金鑰將用於驗證您對 SERP API 服務的請求。\n",
    "替換佔位符：\n",
    "\n",
    "將佔位符替換到您的 .env 文件中。\n"
   ]
  },
  {
   "cell_type": "code",
   "execution_count": null,
   "metadata": {
    "dotnet_interactive": {
     "language": "csharp"
    },
    "polyglot_notebook": {
     "kernelName": "csharp"
    }
   },
   "outputs": [],
   "source": [
    "SERPAPI_SEARCH_API_KEY=os.getenv('SERPAPI_SEARCH_API_KEY')"
   ]
  },
  {
   "cell_type": "code",
   "execution_count": null,
   "metadata": {
    "dotnet_interactive": {
     "language": "csharp"
    },
    "polyglot_notebook": {
     "kernelName": "csharp"
    }
   },
   "outputs": [],
   "source": [
    "SERPAPI_SEARCH_ENDPOINT = os.getenv('SERPAPI_SEARCH_ENDPOINT')"
   ]
  },
  {
   "cell_type": "markdown",
   "metadata": {},
   "source": [
    "# 說明：\n",
    "BookingPlugin 類別提供使用 Serpapi.com 的 Google 搜尋 API 來預訂酒店和航班的方法。它負責構建必要的參數、發送 API 請求，並處理回應以返回相關的預訂資訊。API 金鑰 (SERPAPI_SEARCH_API_KEY) 和端點 (SERPAPI_SEARCH_ENDPOINT) 用於驗證並向 Google 搜尋 API 發送請求。\n"
   ]
  },
  {
   "cell_type": "code",
   "execution_count": null,
   "metadata": {
    "dotnet_interactive": {
     "language": "csharp"
    },
    "polyglot_notebook": {
     "kernelName": "csharp"
    }
   },
   "outputs": [],
   "source": [
    "# Define Booking Plugin\n",
    "class BookingPlugin:\n",
    "    \"\"\"Booking Plugin for customers\"\"\"\n",
    "    @kernel_function(description=\"booking hotel\")\n",
    "    def booking_hotel(self,query: Annotated[str, \"The name of the city\"], check_in_date: Annotated[str, \"Hotel Check-in Time\"], check_out_date: Annotated[str, \"Hotel Check-in Time\"])-> Annotated[str, \"Return the result of booking hotel infomation\"]:\n",
    "\n",
    "        params = {\n",
    "            \"engine\": \"google_hotels\",\n",
    "            \"q\": query,\n",
    "            \"check_in_date\": check_in_date,\n",
    "            \"check_out_date\": check_out_date,\n",
    "            \"adults\": \"2\",\n",
    "            \"currency\": \"USD\",\n",
    "            \"gl\": \"us\",\n",
    "            \"hl\": \"en\",\n",
    "            \"api_key\": SERPAPI_SEARCH_API_KEY\n",
    "        }\n",
    "\n",
    "        response = requests.get(SERPAPI_SEARCH_ENDPOINT, params=params)\n",
    "        if response.status_code == 200:\n",
    "            response = response.json()\n",
    "            return response[\"properties\"]\n",
    "        else:\n",
    "            return None\n",
    "\n",
    "    \n",
    "    @kernel_function(description=\"booking fight\")\n",
    "    def  booking_fight(self,origin: Annotated[str, \"The name of Departure\"], destination: Annotated[str, \"The name of Destination\"], outbound_date: Annotated[str, \"The date of outbound\"], return_date: Annotated[str, \"The date of Return_date\"])-> Annotated[str, \"Return the result of booking fight infomation\"]:\n",
    "        \n",
    "        go_params = {\n",
    "            \"engine\": \"google_flights\",   \n",
    "            \"departure_id\": origin,\n",
    "            \"arrival_id\": destination,\n",
    "            \"outbound_date\": outbound_date,\n",
    "            \"return_date\": return_date,  \n",
    "            \"currency\": \"USD\",\n",
    "            \"hl\": \"en\",\n",
    "            \"api_key\": SERPAPI_SEARCH_API_KEY  \n",
    "        }\n",
    "\n",
    "        print(go_params)\n",
    "\n",
    "        go_response = requests.get(SERPAPI_SEARCH_ENDPOINT, params=go_params)\n",
    "\n",
    "\n",
    "        result = ''\n",
    "\n",
    "        if go_response.status_code == 200:\n",
    "            response = go_response.json()\n",
    "\n",
    "            result += \"# outbound \\n \" + str(response)\n",
    "        else:\n",
    "            print('error!!!')\n",
    "            # return None\n",
    "\n",
    "        \n",
    "        back_params = {\n",
    "            \"engine\": \"google_flights\",   \n",
    "            \"departure_id\": destination,\n",
    "            \"arrival_id\": origin,\n",
    "            \"outbound_date\": return_date,\n",
    "            \"return_date\": return_date,  \n",
    "            \"currency\": \"USD\",\n",
    "            \"hl\": \"en\",\n",
    "            \"api_key\": SERPAPI_SEARCH_API_KEY  \n",
    "        }\n",
    "\n",
    "\n",
    "        print(back_params)\n",
    "\n",
    "\n",
    "        back_response = requests.get(SERPAPI_SEARCH_ENDPOINT, params=back_params)\n",
    "\n",
    "\n",
    "\n",
    "        if back_response.status_code == 200:\n",
    "            response = back_response.json()\n",
    "\n",
    "            result += \"\\n # return \\n\"  + str(response)\n",
    "\n",
    "        else:\n",
    "            print('error!!!')\n",
    "            # return None\n",
    "        \n",
    "        print(result)\n",
    "\n",
    "        return result\n",
    "\n",
    "        \n"
   ]
  },
  {
   "cell_type": "markdown",
   "metadata": {},
   "source": [
    "# 說明：\n",
    "SavePlugin 類別提供了一個名為 saving_plan 的方法，用於使用 Azure AI 服務保存旅行計劃。它設置了 Azure 憑據，創建了一個 AI 代理，處理用戶輸入以生成並保存旅行計劃內容，並負責文件保存和清理操作。該方法在成功完成後返回 \"Saved\"。\n"
   ]
  },
  {
   "cell_type": "code",
   "execution_count": null,
   "metadata": {
    "dotnet_interactive": {
     "language": "csharp"
    },
    "polyglot_notebook": {
     "kernelName": "csharp"
    }
   },
   "outputs": [],
   "source": [
    "class SavePlugin:\n",
    "    \"\"\"Save Plugin for customers\"\"\"\n",
    "    @kernel_function(description=\"saving plan\")\n",
    "    async def saving_plan(self,tripplan: Annotated[str, \"The content of trip plan\"])-> Annotated[str, \"Return status of save content\"]:\n",
    "\n",
    "        async with (\n",
    "            DefaultAzureCredential() as creds,\n",
    "            AzureAIAgent.create_client(\n",
    "                credential=creds,\n",
    "                conn_str=ai_agent_settings.project_connection_string.get_secret_value(),\n",
    "            ) as client,\n",
    "        ):\n",
    "\n",
    "            code_interpreter = CodeInterpreterTool()\n",
    "            \n",
    "            agent_definition = await client.agents.create_agent(\n",
    "                model=ai_agent_settings.model_deployment_name,\n",
    "                tools=code_interpreter.definitions,\n",
    "                tool_resources=code_interpreter.resources,\n",
    "            )\n",
    "\n",
    "\n",
    "            agent = AzureAIAgent(\n",
    "                client=client,\n",
    "                definition=agent_definition,\n",
    "            )\n",
    "\n",
    "            thread = await client.agents.create_thread()\n",
    "\n",
    "\n",
    "            user_inputs = [\n",
    "                \"\"\"\n",
    "            \n",
    "                        You are my Python programming assistant. Generate code,save \"\"\"+ tripplan +\n",
    "                        \n",
    "                    \"\"\"    \n",
    "                        and execute it according to the following requirements\n",
    "\n",
    "                        1. Save blog content to trip-{YYMMDDHHMMSS}.md\n",
    "\n",
    "                        2. give me the download this file link\n",
    "                    \"\"\"\n",
    "            ]\n",
    "\n",
    "\n",
    "\n",
    "            try:\n",
    "                for user_input in user_inputs:\n",
    "                    # Add the user input as a chat message\n",
    "                    await agent.add_chat_message(\n",
    "                        thread_id=thread.id, message=ChatMessageContent(role=AuthorRole.USER, content=user_input)\n",
    "                    )\n",
    "                    print(f\"# User: '{user_input}'\")\n",
    "                    # Invoke the agent for the specified thread\n",
    "                    async for content in agent.invoke(thread_id=thread.id):\n",
    "                        if content.role != AuthorRole.TOOL:\n",
    "                            print(f\"# Agent: {content.content}\")\n",
    "\n",
    "                    \n",
    "                    messages = await client.agents.list_messages(thread_id=thread.id)\n",
    "\n",
    "                    # OpenAIPageableListOfThreadMessage\n",
    "                    # OpenAIPageableListOfThreadMessage\n",
    "\n",
    "\n",
    "                    for file_path_annotation in messages.file_path_annotations:\n",
    "\n",
    "                            file_name = os.path.basename(file_path_annotation.text)\n",
    "\n",
    "                            await client.agents.save_file(file_id=file_path_annotation.file_path.file_id, file_name=file_name,target_dir=\"./trip\")\n",
    "\n",
    "                    \n",
    "            finally:\n",
    "                await client.agents.delete_thread(thread.id)\n",
    "                await client.agents.delete_agent(agent.id)\n",
    "\n",
    "\n",
    "        return \"Saved\""
   ]
  },
  {
   "cell_type": "markdown",
   "metadata": {},
   "source": [
    "# 說明：\n",
    "此程式碼設置了 Azure AI 代理，用於根據使用者輸入處理預訂航班和酒店，並保存旅行計劃。它使用 Azure 憑據來創建和配置代理，通過群組聊天處理使用者輸入，並確保在任務完成後進行適當的清理。這些代理使用特定的插件（BookingPlugin 和 SavePlugin）來執行各自的任務。\n"
   ]
  },
  {
   "cell_type": "code",
   "execution_count": null,
   "metadata": {
    "dotnet_interactive": {
     "language": "csharp"
    },
    "polyglot_notebook": {
     "kernelName": "csharp"
    }
   },
   "outputs": [],
   "source": [
    "async with (\n",
    "    DefaultAzureCredential() as creds,\n",
    "    AzureAIAgent.create_client(\n",
    "        credential=creds,\n",
    "        conn_str=ai_agent_settings.project_connection_string.get_secret_value(),\n",
    "    ) as client,\n",
    "):\n",
    "    BOOKING_AGENT_NAME = \"BookingAgent\"\n",
    "    BOOKING_AGENT_INSTRUCTIONS = \"\"\"\n",
    "    You are a booking agent. Help me book flights or hotels.\n",
    "\n",
    "    Thought: Please understand the user's intention and confirm whether to use the reservation system to complete the task.\n",
    "\n",
    "    Actions:\n",
    "    - For flight bookings, convert the departure and destination names into airport codes.\n",
    "    - Use the appropriate API for hotel or flight bookings. Verify that all necessary parameters are available. If any parameters are missing, ask the user to provide them. If all parameters are complete, call the corresponding function.\n",
    "    - If the task is not related to hotel or flight booking, respond with the final answer only.\n",
    "    - Output the results using a markdown table:\n",
    "      - For flight bookings, output separate outbound and return contents in the order of:\n",
    "        Departure Airport | Airline | Flight Number | Departure Time | Arrival Airport | Arrival Time | Duration | Airplane | Travel Class | Price (USD) | Legroom | Extensions | Carbon Emissions (kg).\n",
    "      - For hotel bookings, output in the order of:\n",
    "        Property Name | Property Description | Check-in Time | Check-out Time | Prices | Nearby Places | Hotel Class | GPS Coordinates.\n",
    "    \"\"\"\n",
    "\n",
    "    SAVE_AGENT_NAME = \"SaveAgent\"\n",
    "    SAVE_AGENT_INSTRUCTIONS = \"\"\"\n",
    "    You are a save tool agent. Help me to save the trip plan.\n",
    "    \"\"\"\n",
    "\n",
    "    # Create agent definition\n",
    "    booking_agent_definition = await client.agents.create_agent(\n",
    "        model=ai_agent_settings.model_deployment_name,\n",
    "        name=BOOKING_AGENT_NAME,\n",
    "        instructions=BOOKING_AGENT_INSTRUCTIONS,\n",
    "    )\n",
    "\n",
    "    # Create the AzureAI Agent\n",
    "    booking_agent = AzureAIAgent(\n",
    "        client=client,\n",
    "        definition=booking_agent_definition,\n",
    "        # Optionally configure polling options\n",
    "        # polling_options=RunPollingOptions(run_polling_interval=timedelta(seconds=1)),\n",
    "    )\n",
    "\n",
    "    # Add the sample plugin to the kernel\n",
    "    booking_agent.kernel.add_plugin(BookingPlugin(), plugin_name=\"booking\")\n",
    "\n",
    "    # Create agent definition\n",
    "    save_agent_definition = await client.agents.create_agent(\n",
    "        model=ai_agent_settings.model_deployment_name,\n",
    "        name=SAVE_AGENT_NAME,\n",
    "        instructions=SAVE_AGENT_INSTRUCTIONS\n",
    "    )\n",
    "\n",
    "    # Create the AzureAI Agent\n",
    "    save_agent = AzureAIAgent(\n",
    "        client=client,\n",
    "        definition=save_agent_definition,\n",
    "    )\n",
    "\n",
    "    save_agent.kernel.add_plugin(SavePlugin(), plugin_name=\"saving\")\n",
    "\n",
    "    user_inputs = [\n",
    "        \"I have a business trip from London to New York in Feb 20 2025 to Feb 27 2025 ,help me to book a hotel and fight tickets and save it\"\n",
    "    ]\n",
    "\n",
    "    chat = AgentGroupChat(\n",
    "        agents=[booking_agent, save_agent],\n",
    "        termination_strategy=ApprovalTerminationStrategy(agents=[save_agent], maximum_iterations=10),\n",
    "    )\n",
    "\n",
    "    try:\n",
    "        for user_input in user_inputs:\n",
    "            # Add the user input as a chat message\n",
    "            await chat.add_chat_message(\n",
    "                ChatMessageContent(role=AuthorRole.USER, content=user_input)\n",
    "            )\n",
    "            print(f\"# User: '{user_input}'\")\n",
    "\n",
    "            async for content in chat.invoke():\n",
    "                print(f\"# {content.role} - {content.name or '*'}: '{content.content}'\")\n",
    "\n",
    "            print(f\"# IS COMPLETE: {chat.is_complete}\")\n",
    "\n",
    "            print(\"*\" * 60)\n",
    "            print(\"Chat History (In Descending Order):\\n\")\n",
    "            async for message in chat.get_chat_messages(agent=save_agent):\n",
    "                print(f\"# {message.role} - {message.name or '*'}: '{message.content}'\")\n",
    "    finally:\n",
    "        await chat.reset()\n",
    "        await client.agents.delete_agent(save_agent.id)\n",
    "        await client.agents.delete_agent(booking_agent.id)\n"
   ]
  },
  {
   "cell_type": "markdown",
   "metadata": {},
   "source": [
    "\n---\n\n**免責聲明**：  \n本文件已使用 AI 翻譯服務 [Co-op Translator](https://github.com/Azure/co-op-translator) 進行翻譯。儘管我們努力確保翻譯的準確性，但請注意，自動翻譯可能包含錯誤或不準確之處。原始文件的母語版本應被視為權威來源。對於關鍵資訊，建議使用專業人工翻譯。我們對因使用此翻譯而引起的任何誤解或錯誤解釋不承擔責任。\n"
   ]
  }
 ],
 "metadata": {
  "kernelspec": {
   "display_name": "3.12.1",
   "language": "python",
   "name": "python3"
  },
  "language_info": {
   "codemirror_mode": {
    "name": "ipython",
    "version": 3
   },
   "file_extension": ".py",
   "mimetype": "text/x-python",
   "name": "python",
   "nbconvert_exporter": "python",
   "pygments_lexer": "ipython3",
   "version": "3.12.1"
  },
  "polyglot_notebook": {
   "kernelInfo": {
    "defaultKernelName": "csharp",
    "items": [
     {
      "aliases": [],
      "name": "csharp"
     }
    ]
   }
  },
  "coopTranslator": {
   "original_hash": "1baa60020a95eda27b7e9ecfda99965b",
   "translation_date": "2025-08-28T10:15:26+00:00",
   "source_file": "08-multi-agent/code_samples/08-python_multi_aiagent_bookinghotel.ipynb",
   "language_code": "tw"
  }
 },
 "nbformat": 4,
 "nbformat_minor": 2
}