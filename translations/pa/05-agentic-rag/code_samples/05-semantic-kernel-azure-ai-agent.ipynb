{
 "cells": [
  {
   "cell_type": "markdown",
   "metadata": {},
   "source": [
    "# RAG ਵਰਤ ਕੇ Azure AI Agent Service ਅਤੇ Semantic Kernel\n",
    "\n",
    "ਇਹ ਕੋਡ ਟੁਕੜਾ ਦਿਖਾਉਂਦਾ ਹੈ ਕਿ ਕਿਵੇਂ `Azure AI Agent Service` ਅਤੇ `Semantic Kernel` ਦੀ ਵਰਤੋਂ ਕਰਕੇ ਰਿਟਰੀਵਲ-ਅਗਮੈਂਟਡ ਜਨਰੇਸ਼ਨ (RAG) ਲਈ ਇੱਕ Azure AI ਏਜੰਟ ਬਣਾਇਆ ਅਤੇ ਪ੍ਰਬੰਧਿਤ ਕੀਤਾ ਜਾ ਸਕਦਾ ਹੈ। ਏਜੰਟ ਵਰਤੋਂਕਾਰ ਦੇ ਪ੍ਰਸ਼ਨਾਂ ਨੂੰ ਪ੍ਰਾਪਤ ਕੀਤੇ ਸੰਦਰਭ ਦੇ ਆਧਾਰ 'ਤੇ ਪ੍ਰਕਿਰਿਆ ਕਰਦਾ ਹੈ ਅਤੇ ਇਸ ਦੇ ਅਨੁਸਾਰ ਸਹੀ ਜਵਾਬ ਪ੍ਰਦਾਨ ਕਰਦਾ ਹੈ।\n"
   ]
  },
  {
   "cell_type": "markdown",
   "metadata": {},
   "source": []
  },
  {
   "cell_type": "markdown",
   "metadata": {},
   "source": [
    "ਸਕਲਾਈਟ ਵਰਜਨ ਫਿਕਸ  \n",
    "ਜੇਕਰ ਤੁਹਾਨੂੰ ਇਹ ਗਲਤੀ ਆਉਂਦੀ ਹੈ:  \n",
    "```\n",
    "RuntimeError: Your system has an unsupported version of sqlite3. Chroma requires sqlite3 >= 3.35.0\n",
    "```  \n",
    "\n",
    "ਆਪਣੇ ਨੋਟਬੁੱਕ ਦੇ ਸ਼ੁਰੂ ਵਿੱਚ ਇਸ ਕੋਡ ਬਲਾਕ ਨੂੰ ਅਨਕਮੈਂਟ ਕਰੋ:  \n"
   ]
  },
  {
   "cell_type": "code",
   "execution_count": null,
   "metadata": {},
   "outputs": [],
   "source": [
    "# %pip install pysqlite3-binary\n",
    "# __import__('pysqlite3')\n",
    "# import sys\n",
    "# sys.modules['sqlite3'] = sys.modules.pop('pysqlite3')"
   ]
  },
  {
   "cell_type": "markdown",
   "metadata": {},
   "source": [
    "### ਪੈਕੇਜਾਂ ਇੰਪੋਰਟ ਕਰਨਾ  \n",
    "ਹੇਠਾਂ ਦਿੱਤਾ ਕੋਡ ਲੋੜੀਂਦੇ ਪੈਕੇਜਾਂ ਨੂੰ ਇੰਪੋਰਟ ਕਰਦਾ ਹੈ:  \n"
   ]
  },
  {
   "cell_type": "code",
   "execution_count": null,
   "metadata": {},
   "outputs": [],
   "source": [
    "# Azure imports for project client and credentials\n",
    "from azure.ai.projects.models import FileSearchTool, OpenAIFile, VectorStore\n",
    "from azure.identity.aio import DefaultAzureCredential\n",
    "\n",
    "# Semantic Kernel imports\n",
    "from semantic_kernel.agents import AzureAIAgent, AzureAIAgentThread"
   ]
  },
  {
   "cell_type": "markdown",
   "metadata": {},
   "source": [
    "# ਸੇਮਾਂਟਿਕ ਕਰਨਲ ਅਤੇ ਐਜ਼ਰ ਏਆਈ ਏਜੰਟ ਸੇਵਾ ਨਾਲ ਰੀਟਰੀਵਲ-ਅਗਮੈਂਟੇਡ ਜਨਰੇਸ਼ਨ\n",
    "\n",
    "ਇਹ ਨਮੂਨਾ ਦਿਖਾਉਂਦਾ ਹੈ ਕਿ **ਐਜ਼ਰ ਏਆਈ ਏਜੰਟ ਸੇਵਾ** ਦੀ ਵਰਤੋਂ ਕਰਕੇ **ਰੀਟਰੀਵਲ-ਅਗਮੈਂਟੇਡ ਜਨਰੇਸ਼ਨ (RAG)** ਕਿਵੇਂ ਕੀਤੀ ਜਾ ਸਕਦੀ ਹੈ, ਜਿਸ ਵਿੱਚ ਭਾਸ਼ਾ ਮਾਡਲ ਨੂੰ ਅਪਲੋਡ ਕੀਤੇ ਗਏ ਦਸਤਾਵੇਜ਼ ਤੋਂ ਡੋਮੇਨ-ਵਿਸ਼ੇਸ਼ ਸੰਦਰਭ ਨਾਲ ਜੋੜਿਆ ਜਾਂਦਾ ਹੈ।\n",
    "\n",
    "### ਇਹ ਕਿਵੇਂ ਕੰਮ ਕਰਦਾ ਹੈ\n",
    "\n",
    "1. **ਦਸਤਾਵੇਜ਼ ਅਪਲੋਡ**: ਇੱਕ ਮਾਰਕਡਾਊਨ ਫਾਈਲ (document.md) ਜਿਸ ਵਿੱਚ ਜਾਣਕਾਰੀ (ਕੋਂਟੋਸੋ ਦੀ ਯਾਤਰਾ ਬੀਮਾ ਨੀਤੀ) ਸ਼ਾਮਲ ਹੈ, ਏਜੰਟ ਸੇਵਾ ਵਿੱਚ ਅਪਲੋਡ ਕੀਤੀ ਜਾਂਦੀ ਹੈ।\n",
    "\n",
    "2. **ਵੈਕਟਰ ਸਟੋਰ ਬਣਾਉਣਾ**: ਦਸਤਾਵੇਜ਼ ਨੂੰ ਵੈਕਟਰ ਸਟੋਰ ਵਿੱਚ ਇੰਡੈਕਸ ਕੀਤਾ ਜਾਂਦਾ ਹੈ ਤਾਂ ਜੋ ਇਸਦੇ ਸਮੱਗਰੀ 'ਤੇ ਸੇਮਾਂਟਿਕ ਖੋਜ ਕੀਤੀ ਜਾ ਸਕੇ।\n",
    "\n",
    "3. **ਏਜੰਟ ਸੰਰਚਨਾ**: `gpt-4o` ਮਾਡਲ ਦੀ ਵਰਤੋਂ ਕਰਕੇ ਇੱਕ ਏਜੰਟ ਬਣਾਇਆ ਜਾਂਦਾ ਹੈ ਜਿਸ ਵਿੱਚ ਹੇਠਾਂ ਦਿੱਤੀਆਂ ਸਖਤ ਹਦਾਇਤਾਂ ਸ਼ਾਮਲ ਹਨ:\n",
    "   - ਸਿਰਫ਼ ਦਸਤਾਵੇਜ਼ ਤੋਂ ਪ੍ਰਾਪਤ ਕੀਤੀ ਸਮੱਗਰੀ ਦੇ ਆਧਾਰ 'ਤੇ ਸਵਾਲਾਂ ਦੇ ਜਵਾਬ ਦਿਓ।\n",
    "   - ਜੇਕਰ ਸਵਾਲ ਵਿਸ਼ੇ ਤੋਂ ਬਾਹਰ ਹੋਵੇ ਤਾਂ ਜਵਾਬ ਦੇਣ ਤੋਂ ਇਨਕਾਰ ਕਰੋ।\n",
    "\n",
    "4. **ਫਾਈਲ ਖੋਜ ਟੂਲ ਇੰਟੀਗ੍ਰੇਸ਼ਨ**: `FileSearchTool` ਨੂੰ ਏਜੰਟ ਨਾਲ ਰਜਿਸਟਰ ਕੀਤਾ ਜਾਂਦਾ ਹੈ, ਜਿਸ ਨਾਲ ਮਾਡਲ ਨੂੰ ਅਨੁਮਾਨ ਦੌਰਾਨ ਇੰਡੈਕਸ ਕੀਤੇ ਦਸਤਾਵੇਜ਼ ਤੋਂ ਸਬੰਧਤ ਟੁਕੜੇ ਖੋਜਣ ਅਤੇ ਪ੍ਰਾਪਤ ਕਰਨ ਦੀ ਸਹੂਲਤ ਮਿਲਦੀ ਹੈ।\n",
    "\n",
    "5. **ਉਪਭੋਗਤਾ ਅੰਤਰਕਿਰਿਆ**: ਉਪਭੋਗਤਾ ਸਵਾਲ ਪੁੱਛ ਸਕਦੇ ਹਨ। ਜੇਕਰ ਦਸਤਾਵੇਜ਼ ਵਿੱਚ ਸਬੰਧਤ ਜਾਣਕਾਰੀ ਮਿਲਦੀ ਹੈ, ਤਾਂ ਏਜੰਟ ਇੱਕ ਮਜ਼ਬੂਤ ਜਵਾਬ ਤਿਆਰ ਕਰਦਾ ਹੈ।  \n",
    "   ਜੇਕਰ ਨਹੀਂ, ਤਾਂ ਏਜੰਟ ਸਪਸ਼ਟ ਤੌਰ 'ਤੇ ਜਵਾਬ ਦਿੰਦਾ ਹੈ ਕਿ ਦਸਤਾਵੇਜ਼ ਵਿੱਚ ਕਾਫ਼ੀ ਜਾਣਕਾਰੀ ਨਹੀਂ ਹੈ।\n"
   ]
  },
  {
   "cell_type": "markdown",
   "metadata": {},
   "source": [
    "### ਮੁੱਖ ਫੰਕਸ਼ਨ\n",
    "\n"
   ]
  },
  {
   "cell_type": "markdown",
   "metadata": {},
   "source": [
    "ਪੱਕਾ ਕਰ ਲਵੋ ਕਿ `az login` ਨੂੰ Azure CLI ਦੀ ਵਰਤੋਂ ਕਰਕੇ ਪਹਿਲਾਂ ਚਲਾਇਆ ਗਿਆ ਹੈ ਤਾਂ ਜੋ `DefaultAzureCredential` ਦੀ ਵਰਤੋਂ ਕਰਦੇ ਸਮੇਂ ਸਹੀ ਪ੍ਰਮਾਣਿਕਤਾ ਸੰਦਰਭ ਪ੍ਰਦਾਨ ਕੀਤਾ ਜਾ ਸਕੇ। Azure AI ਏਜੰਟ ਸੇਵਾ API ਕੁੰਜੀਆਂ ਦੀ ਵਰਤੋਂ ਨਹੀਂ ਕਰਦੀ।\n"
   ]
  },
  {
   "cell_type": "code",
   "execution_count": null,
   "metadata": {},
   "outputs": [],
   "source": [
    "async def main():\n",
    "    async with (\n",
    "        DefaultAzureCredential() as creds,\n",
    "        AzureAIAgent.create_client(credential=creds) as client,\n",
    "    ):\n",
    "        file: OpenAIFile = await client.agents.upload_file_and_poll(file_path=\"document.md\", purpose=\"assistants\")\n",
    "        vector_store: VectorStore = await client.agents.create_vector_store_and_poll(\n",
    "            file_ids=[file.id], name=\"my_vectorstore\"\n",
    "        )\n",
    "\n",
    "        # Define agent name and instructions tailored for RAG.\n",
    "        AGENT_NAME = \"RAGAgent\"\n",
    "        AGENT_INSTRUCTIONS = \"\"\"\n",
    "        You are an AI assistant designed to answer user questions using only the information retrieved from the provided document(s).\n",
    "\n",
    "        - If a user's question cannot be answered using the retrieved context, **you must clearly respond**: \n",
    "        \"I'm sorry, but the uploaded document does not contain the necessary information to answer that question.\"\n",
    "        - Do not answer from general knowledge or reasoning. Do not make assumptions or generate hypothetical explanations.\n",
    "        - Do not provide definitions, tutorials, or commentary that is not explicitly grounded in the content of the uploaded file(s).\n",
    "        - If a user asks a question like \"What is a Neural Network?\", and this is not discussed in the uploaded document, respond as instructed above.\n",
    "        - For questions that do have relevant content in the document (e.g., Contoso's travel insurance coverage), respond accurately, and cite the document explicitly.\n",
    "\n",
    "        You must behave as if you have no external knowledge beyond what is retrieved from the uploaded document.\n",
    "        \"\"\"\n",
    "\n",
    "        \n",
    "        # Create file search tool with uploaded resources\n",
    "        file_search = FileSearchTool(vector_store_ids=[vector_store.id])\n",
    "\n",
    "        # 3. Create an agent on the Azure AI agent service with the file search tool\n",
    "        agent_definition = await client.agents.create_agent(\n",
    "            model=\"gpt-4o\",  # This model should match your Azure OpenAI deployment.\n",
    "            name=AGENT_NAME,\n",
    "            instructions=AGENT_INSTRUCTIONS,\n",
    "            tools=file_search.definitions,\n",
    "            tool_resources=file_search.resources,\n",
    "        )\n",
    "        \n",
    "        # Create the Azure AI Agent using the client and definition.\n",
    "        agent = AzureAIAgent(\n",
    "            client=client,\n",
    "            definition=agent_definition,\n",
    "        )\n",
    "        \n",
    "        # Create a thread to hold the conversation\n",
    "        # If no thread is provided, a new thread will be\n",
    "        # created and returned with the initial response\n",
    "        thread: AzureAIAgentThread | None = None\n",
    "        \n",
    "        # Example user queries.\n",
    "        user_inputs = [\n",
    "            \"Can you explain Contoso's travel insurance coverage?\",  # Relevant context.\n",
    "            \"What is a Neural Network?\"  # No relevant context from the document. Will not contain a source annotation.\n",
    "        ]\n",
    "        \n",
    "        try:\n",
    "            for user_input in user_inputs:\n",
    "                print(f\"# User: '{user_input}'\")\n",
    "                # Invoke the agent for the specified thread for response\n",
    "                async for response in agent.invoke(messages=user_input, thread=thread):\n",
    "                    print(f\"# {response.name}: {response}\")\n",
    "                    thread = response.thread\n",
    "        finally:\n",
    "            # Clean up resources.\n",
    "            await thread.delete() if thread else None\n",
    "            await client.agents.delete_vector_store(vector_store.id)\n",
    "            await client.agents.delete_file(file.id)\n",
    "            await client.agents.delete_agent(agent.id)\n",
    "            print(\"\\nCleaned up agent, thread, file, and vector store.\")\n",
    "\n",
    "await main()"
   ]
  },
  {
   "cell_type": "markdown",
   "metadata": {},
   "source": [
    "ਸੋਧਣ ਲਈ ਕਿਰਪਾ ਕਰਕੇ ਮੈਨੂੰ ਉਹ ਮੂਲ ਟੈਕਸਟ ਦਿਓ ਜੋ ਤੁਸੀਂ ਪੰਜਾਬੀ ਵਿੱਚ ਅਨੁਵਾਦ ਕਰਵਾਉਣਾ ਚਾਹੁੰਦੇ ਹੋ।\n"
   ]
  },
  {
   "cell_type": "markdown",
   "metadata": {},
   "source": [
    "\n---\n\n**ਅਸਵੀਕਰਤੀ**:  \nਇਹ ਦਸਤਾਵੇਜ਼ AI ਅਨੁਵਾਦ ਸੇਵਾ [Co-op Translator](https://github.com/Azure/co-op-translator) ਦੀ ਵਰਤੋਂ ਕਰਕੇ ਅਨੁਵਾਦ ਕੀਤਾ ਗਿਆ ਹੈ। ਜਦੋਂ ਕਿ ਅਸੀਂ ਸਹੀ ਹੋਣ ਦਾ ਯਤਨ ਕਰਦੇ ਹਾਂ, ਕਿਰਪਾ ਕਰਕੇ ਧਿਆਨ ਦਿਓ ਕਿ ਸਵੈਚਾਲਿਤ ਅਨੁਵਾਦਾਂ ਵਿੱਚ ਗਲਤੀਆਂ ਜਾਂ ਅਸੁੱਤੀਆਂ ਹੋ ਸਕਦੀਆਂ ਹਨ। ਇਸ ਦੀ ਮੂਲ ਭਾਸ਼ਾ ਵਿੱਚ ਮੌਜੂਦ ਮੂਲ ਦਸਤਾਵੇਜ਼ ਨੂੰ ਪ੍ਰਮਾਣਿਕ ਸਰੋਤ ਮੰਨਿਆ ਜਾਣਾ ਚਾਹੀਦਾ ਹੈ। ਮਹੱਤਵਪੂਰਨ ਜਾਣਕਾਰੀ ਲਈ, ਪੇਸ਼ੇਵਰ ਮਨੁੱਖੀ ਅਨੁਵਾਦ ਦੀ ਸਿਫਾਰਸ਼ ਕੀਤੀ ਜਾਂਦੀ ਹੈ। ਇਸ ਅਨੁਵਾਦ ਦੀ ਵਰਤੋਂ ਤੋਂ ਪੈਦਾ ਹੋਣ ਵਾਲੇ ਕਿਸੇ ਵੀ ਗਲਤਫਹਿਮੀ ਜਾਂ ਗਲਤ ਵਿਆਖਿਆ ਲਈ ਅਸੀਂ ਜ਼ਿੰਮੇਵਾਰ ਨਹੀਂ ਹਾਂ।  \n"
   ]
  }
 ],
 "metadata": {
  "kernelspec": {
   "display_name": ".venv",
   "language": "python",
   "name": "python3"
  },
  "language_info": {
   "codemirror_mode": {
    "name": "ipython",
    "version": 3
   },
   "file_extension": ".py",
   "mimetype": "text/x-python",
   "name": "python",
   "nbconvert_exporter": "python",
   "pygments_lexer": "ipython3",
   "version": "3.11.11"
  },
  "coopTranslator": {
   "original_hash": "a86c3ddfbe35024993bbf563588aad48",
   "translation_date": "2025-08-29T11:51:34+00:00",
   "source_file": "05-agentic-rag/code_samples/05-semantic-kernel-azure-ai-agent.ipynb",
   "language_code": "pa"
  }
 },
 "nbformat": 4,
 "nbformat_minor": 2
}