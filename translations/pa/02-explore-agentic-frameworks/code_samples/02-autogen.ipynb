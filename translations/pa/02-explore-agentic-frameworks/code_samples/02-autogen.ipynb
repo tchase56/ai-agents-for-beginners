{
 "cells": [
  {
   "cell_type": "markdown",
   "metadata": {},
   "source": [
    "# ਆਟੋਜਨ ਬੇਸਿਕ ਸੈਂਪਲ\n",
    "\n",
    "ਇਸ ਕੋਡ ਸੈਂਪਲ ਵਿੱਚ, ਤੁਸੀਂ [AutoGen](https://aka.ms/ai-agents/autogen) AI ਫਰੇਮਵਰਕ ਦੀ ਵਰਤੋਂ ਕਰਕੇ ਇੱਕ ਬੇਸਿਕ ਏਜੰਟ ਬਣਾਉਗੇ।\n",
    "\n",
    "ਇਸ ਸੈਂਪਲ ਦਾ ਮਕਸਦ ਤੁਹਾਨੂੰ ਉਹ ਕਦਮ ਦਿਖਾਉਣਾ ਹੈ ਜੋ ਅਸੀਂ ਵੱਖ-ਵੱਖ ਏਜੰਟਿਕ ਪੈਟਰਨ ਨੂੰ ਲਾਗੂ ਕਰਦੇ ਸਮੇਂ ਅਗਲੇ ਕੋਡ ਸੈਂਪਲ ਵਿੱਚ ਵਰਤਾਂਗੇ।\n"
   ]
  },
  {
   "cell_type": "markdown",
   "metadata": {},
   "source": [
    "## ਲੋੜੀਂਦੇ ਪਾਇਥਨ ਪੈਕੇਜਾਂ ਨੂੰ ਇੰਪੋਰਟ ਕਰੋ\n"
   ]
  },
  {
   "cell_type": "code",
   "execution_count": null,
   "metadata": {},
   "outputs": [],
   "source": [
    "import os\n",
    "from dotenv import load_dotenv\n",
    "\n",
    "from autogen_agentchat.agents import AssistantAgent\n",
    "from autogen_core.models import UserMessage\n",
    "from autogen_ext.models.azure import AzureAIChatCompletionClient\n",
    "from azure.core.credentials import AzureKeyCredential\n",
    "from autogen_core import CancellationToken\n",
    "\n",
    "from autogen_agentchat.messages import TextMessage\n",
    "from autogen_agentchat.ui import Console\n"
   ]
  },
  {
   "cell_type": "markdown",
   "metadata": {},
   "source": [
    "## ਕਲਾਇੰਟ ਬਣਾਓ\n",
    "\n",
    "ਇਸ ਉਦਾਹਰਨ ਵਿੱਚ, ਅਸੀਂ [GitHub Models](https://aka.ms/ai-agents-beginners/github-models) ਦੀ ਵਰਤੋਂ ਕਰਾਂਗੇ LLM ਤੱਕ ਪਹੁੰਚ ਲਈ।\n",
    "\n",
    "`model` ਨੂੰ `gpt-4o-mini` ਵਜੋਂ ਪਰਿਭਾਸ਼ਿਤ ਕੀਤਾ ਗਿਆ ਹੈ। GitHub Models ਮਾਰਕੀਟਪਲੇਸ ਵਿੱਚ ਉਪਲਬਧ ਕਿਸੇ ਹੋਰ ਮਾਡਲ ਨਾਲ ਮਾਡਲ ਬਦਲਣ ਦੀ ਕੋਸ਼ਿਸ਼ ਕਰੋ ਤਾਂ ਜੋ ਵੱਖ-ਵੱਖ ਨਤੀਜੇ ਵੇਖੇ ਜਾ ਸਕਣ।\n",
    "\n",
    "ਇੱਕ ਤੇਜ਼ ਟੈਸਟ ਵਜੋਂ, ਅਸੀਂ ਸਿਰਫ ਇੱਕ ਸਧਾਰਨ ਪ੍ਰੰਪਟ ਚਲਾਵਾਂਗੇ - `ਫਰਾਂਸ ਦੀ ਰਾਜਧਾਨੀ ਕੀ ਹੈ`।\n"
   ]
  },
  {
   "cell_type": "code",
   "execution_count": null,
   "metadata": {},
   "outputs": [],
   "source": [
    "load_dotenv()\n",
    "client = AzureAIChatCompletionClient(\n",
    "    model=\"gpt-4o-mini\",\n",
    "    endpoint=\"https://models.inference.ai.azure.com\",\n",
    "    # To authenticate with the model you will need to generate a personal access token (PAT) in your GitHub settings.\n",
    "    # Create your PAT token by following instructions here: https://docs.github.com/en/authentication/keeping-your-account-and-data-secure/managing-your-personal-access-tokens\n",
    "    credential=AzureKeyCredential(os.getenv(\"GITHUB_TOKEN\")),\n",
    "    model_info={\n",
    "        \"json_output\": True,\n",
    "        \"function_calling\": True,\n",
    "        \"vision\": True,\n",
    "        \"family\": \"unknown\",\n",
    "    },\n",
    ")\n",
    "\n",
    "result = await client.create([UserMessage(content=\"What is the capital of France?\", source=\"user\")])\n",
    "print(result)"
   ]
  },
  {
   "cell_type": "markdown",
   "metadata": {},
   "source": [
    "## ਏਜੰਟ ਦੀ ਪਰਿਭਾਸ਼ਾ\n",
    "\n",
    "ਹੁਣ ਜਦੋਂ ਅਸੀਂ `client` ਸੈਟਅੱਪ ਕਰ ਲਿਆ ਹੈ ਅਤੇ ਇਸਦੀ ਕਾਰਗੁਜ਼ਾਰੀ ਦੀ ਪੁਸ਼ਟੀ ਕਰ ਲਈ ਹੈ, ਆਓ ਇੱਕ `AssistantAgent` ਬਣਾਈਏ। ਹਰ ਏਜੰਟ ਨੂੰ ਇਹ ਦਿੱਤਾ ਜਾ ਸਕਦਾ ਹੈ:  \n",
    "**name** - ਇੱਕ ਛੋਟਾ ਨਾਮ ਜੋ ਇਸਨੂੰ ਬਹੁ-ਏਜੰਟ ਪ੍ਰਕਿਰਿਆਵਾਂ ਵਿੱਚ ਰਿਫਰ ਕਰਨ ਲਈ ਸਹਾਇਕ ਹੋਵੇਗਾ।  \n",
    "**model_client** - ਉਹ ਕਲਾਇੰਟ ਜੋ ਤੁਸੀਂ ਪਹਿਲੇ ਕਦਮ ਵਿੱਚ ਬਣਾਇਆ ਸੀ।  \n",
    "**tools** - ਉਹ ਸਾਧਨ ਜੋ ਏਜੰਟ ਕਿਸੇ ਕੰਮ ਨੂੰ ਪੂਰਾ ਕਰਨ ਲਈ ਵਰਤ ਸਕਦਾ ਹੈ।  \n",
    "**system_message** - ਮੈਟਾਪ੍ਰਾਂਪਟ ਜੋ LLM ਦੇ ਕੰਮ, ਵਿਵਹਾਰ ਅਤੇ ਲਹਿਜ਼ੇ ਨੂੰ ਪਰਿਭਾਸ਼ਿਤ ਕਰਦਾ ਹੈ।  \n",
    "\n",
    "ਤੁਸੀਂ ਸਿਸਟਮ ਸੁਨੇਹਾ ਬਦਲ ਸਕਦੇ ਹੋ ਤਾਂ ਜੋ ਵੇਖ ਸਕੋ ਕਿ LLM ਕਿਵੇਂ ਪ੍ਰਤੀਕਿਰਿਆ ਕਰਦਾ ਹੈ। ਅਸੀਂ `tools` ਨੂੰ ਪਾਠ #4 ਵਿੱਚ ਕਵਰ ਕਰਾਂਗੇ।  \n"
   ]
  },
  {
   "cell_type": "code",
   "execution_count": null,
   "metadata": {},
   "outputs": [],
   "source": [
    "agent = AssistantAgent(\n",
    "    name=\"assistant\",\n",
    "    model_client=client,\n",
    "    tools=[],\n",
    "    system_message=\"You are a travel agent that plans great vacations\",\n",
    ")"
   ]
  },
  {
   "cell_type": "markdown",
   "metadata": {},
   "source": [
    "## ਏਜੰਟ ਚਲਾਓ\n",
    "\n",
    "ਹੇਠਾਂ ਦਿੱਤੀ ਫੰਕਸ਼ਨ ਏਜੰਟ ਨੂੰ ਚਲਾਏਗੀ। ਅਸੀਂ `on_message` ਵਿਧੀ ਦੀ ਵਰਤੋਂ ਕਰਦੇ ਹਾਂ ਤਾਂ ਜੋ ਨਵੇਂ ਸੁਨੇਹੇ ਨਾਲ ਏਜੰਟ ਦੀ ਸਥਿਤੀ ਨੂੰ ਅਪਡੇਟ ਕੀਤਾ ਜਾ ਸਕੇ।\n",
    "\n",
    "ਇਸ ਮਾਮਲੇ ਵਿੱਚ, ਅਸੀਂ ਯੂਜ਼ਰ ਵੱਲੋਂ ਆਏ ਨਵੇਂ ਸੁਨੇਹੇ ਨਾਲ ਸਥਿਤੀ ਨੂੰ ਅਪਡੇਟ ਕਰਦੇ ਹਾਂ, ਜੋ ਕਿ ਹੈ `\"Plan me a great sunny vacation\"`।\n",
    "\n",
    "ਤੁਸੀਂ ਸੁਨੇਹੇ ਦੀ ਸਮੱਗਰੀ ਨੂੰ ਬਦਲ ਸਕਦੇ ਹੋ ਤਾਂ ਜੋ ਵੇਖ ਸਕੋ ਕਿ LLM ਕਿਵੇਂ ਵੱਖ-ਵੱਖ ਤਰੀਕਿਆਂ ਨਾਲ ਜਵਾਬ ਦਿੰਦਾ ਹੈ।\n"
   ]
  },
  {
   "cell_type": "code",
   "execution_count": null,
   "metadata": {},
   "outputs": [],
   "source": [
    "from IPython.display import display, HTML\n",
    "\n",
    "\n",
    "async def assistant_run():\n",
    "    # Define the query\n",
    "    user_query = \"Plan me a great sunny vacation\"\n",
    "\n",
    "    # Start building HTML output\n",
    "    html_output = \"<div style='margin-bottom:10px'>\"\n",
    "    html_output += \"<div style='font-weight:bold'>User:</div>\"\n",
    "    html_output += f\"<div style='margin-left:20px'>{user_query}</div>\"\n",
    "    html_output += \"</div>\"\n",
    "\n",
    "    # Execute the agent response\n",
    "    response = await agent.on_messages(\n",
    "        [TextMessage(content=user_query, source=\"user\")],\n",
    "        cancellation_token=CancellationToken(),\n",
    "    )\n",
    "\n",
    "    # Add agent response to HTML\n",
    "    html_output += \"<div style='margin-bottom:20px'>\"\n",
    "    html_output += \"<div style='font-weight:bold'>Assistant:</div>\"\n",
    "    html_output += f\"<div style='margin-left:20px; white-space:pre-wrap'>{response.chat_message.content}</div>\"\n",
    "    html_output += \"</div>\"\n",
    "\n",
    "    # Display formatted HTML\n",
    "    display(HTML(html_output))\n",
    "\n",
    "# Run the function\n",
    "await assistant_run()"
   ]
  },
  {
   "cell_type": "markdown",
   "metadata": {},
   "source": [
    "\n---\n\n**ਅਸਵੀਕਰਤੀ**:  \nਇਹ ਦਸਤਾਵੇਜ਼ AI ਅਨੁਵਾਦ ਸੇਵਾ [Co-op Translator](https://github.com/Azure/co-op-translator) ਦੀ ਵਰਤੋਂ ਕਰਕੇ ਅਨੁਵਾਦ ਕੀਤਾ ਗਿਆ ਹੈ। ਜਦੋਂ ਕਿ ਅਸੀਂ ਸਹੀ ਹੋਣ ਦਾ ਯਤਨ ਕਰਦੇ ਹਾਂ, ਕਿਰਪਾ ਕਰਕੇ ਧਿਆਨ ਦਿਓ ਕਿ ਸਵੈਚਾਲਿਤ ਅਨੁਵਾਦਾਂ ਵਿੱਚ ਗਲਤੀਆਂ ਜਾਂ ਅਸੁੱਤੀਆਂ ਹੋ ਸਕਦੀਆਂ ਹਨ। ਇਸ ਦੀ ਮੂਲ ਭਾਸ਼ਾ ਵਿੱਚ ਮੌਜੂਦ ਮੂਲ ਦਸਤਾਵੇਜ਼ ਨੂੰ ਅਧਿਕਾਰਤ ਸਰੋਤ ਮੰਨਿਆ ਜਾਣਾ ਚਾਹੀਦਾ ਹੈ। ਮਹੱਤਵਪੂਰਨ ਜਾਣਕਾਰੀ ਲਈ, ਪੇਸ਼ੇਵਰ ਮਨੁੱਖੀ ਅਨੁਵਾਦ ਦੀ ਸਿਫਾਰਸ਼ ਕੀਤੀ ਜਾਂਦੀ ਹੈ। ਇਸ ਅਨੁਵਾਦ ਦੇ ਪ੍ਰਯੋਗ ਤੋਂ ਪੈਦਾ ਹੋਣ ਵਾਲੇ ਕਿਸੇ ਵੀ ਗਲਤਫਹਮੀਆਂ ਜਾਂ ਗਲਤ ਵਿਆਖਿਆਵਾਂ ਲਈ ਅਸੀਂ ਜ਼ਿੰਮੇਵਾਰ ਨਹੀਂ ਹਾਂ।  \n"
   ]
  }
 ],
 "metadata": {
  "kernelspec": {
   "display_name": ".venv (3.12.11)",
   "language": "python",
   "name": "python3"
  },
  "language_info": {
   "codemirror_mode": {
    "name": "ipython",
    "version": 3
   },
   "file_extension": ".py",
   "mimetype": "text/x-python",
   "name": "python",
   "nbconvert_exporter": "python",
   "pygments_lexer": "ipython3",
   "version": "3.12.11"
  },
  "coopTranslator": {
   "original_hash": "aef8b2779015ef9099d6ee3cdacbb35d",
   "translation_date": "2025-08-29T11:58:35+00:00",
   "source_file": "02-explore-agentic-frameworks/code_samples/02-autogen.ipynb",
   "language_code": "pa"
  }
 },
 "nbformat": 4,
 "nbformat_minor": 2
}