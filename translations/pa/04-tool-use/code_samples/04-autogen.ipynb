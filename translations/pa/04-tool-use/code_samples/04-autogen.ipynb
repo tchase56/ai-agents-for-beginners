{
 "cells": [
  {
   "cell_type": "markdown",
   "metadata": {},
   "source": [
    "ਆਟੋਜਨ ਟੂਲ ਵਰਤੋਂ ਉਦਾਹਰਨ\n"
   ]
  },
  {
   "cell_type": "markdown",
   "metadata": {},
   "source": [
    "## ਲੋੜੀਂਦੇ ਪੈਕੇਜਾਂ ਨੂੰ ਇੰਪੋਰਟ ਕਰੋ\n"
   ]
  },
  {
   "cell_type": "code",
   "execution_count": null,
   "metadata": {},
   "outputs": [],
   "source": [
    "import os\n",
    "import json\n",
    "\n",
    "import requests\n",
    "from autogen_agentchat.agents import AssistantAgent\n",
    "from autogen_core.models import UserMessage\n",
    "from autogen_ext.models.azure import AzureAIChatCompletionClient\n",
    "from azure.core.credentials import AzureKeyCredential\n",
    "from autogen_core import CancellationToken\n",
    "from autogen_core.tools import FunctionTool\n",
    "from autogen_agentchat.messages import TextMessage\n",
    "from autogen_agentchat.ui import Console\n",
    "from typing import Any, Callable, Set, Dict, List, Optional"
   ]
  },
  {
   "cell_type": "markdown",
   "metadata": {},
   "source": [
    "## ਕਲਾਇੰਟ ਬਣਾਉਣਾ\n",
    "\n",
    "ਇਸ ਉਦਾਹਰਨ ਵਿੱਚ, ਅਸੀਂ [GitHub Models](https://aka.ms/ai-agents-beginners/github-models) ਦੀ ਵਰਤੋਂ ਕਰਾਂਗੇ LLM ਤੱਕ ਪਹੁੰਚ ਲਈ।\n",
    "\n",
    "`model` ਨੂੰ `gpt-4o-mini` ਵਜੋਂ ਪਰਿਭਾਸ਼ਿਤ ਕੀਤਾ ਗਿਆ ਹੈ। GitHub Models ਮਾਰਕੀਟਪਲੇਸ ਵਿੱਚ ਉਪਲਬਧ ਕਿਸੇ ਹੋਰ ਮਾਡਲ ਨਾਲ ਮਾਡਲ ਬਦਲਣ ਦੀ ਕੋਸ਼ਿਸ਼ ਕਰੋ ਤਾਂ ਜੋ ਵੱਖ-ਵੱਖ ਨਤੀਜੇ ਵੇਖੇ ਜਾ ਸਕਣ।\n",
    "\n",
    "ਇੱਕ ਤੇਜ਼ ਟੈਸਟ ਵਜੋਂ, ਅਸੀਂ ਸਿਰਫ ਇੱਕ ਸਧਾਰਨ ਪ੍ਰੰਪਟ ਚਲਾਵਾਂਗੇ - `ਫਰਾਂਸ ਦੀ ਰਾਜਧਾਨੀ ਕੀ ਹੈ`।\n"
   ]
  },
  {
   "cell_type": "code",
   "execution_count": null,
   "metadata": {},
   "outputs": [],
   "source": [
    "client = AzureAIChatCompletionClient(\n",
    "    model=\"gpt-4o-mini\",\n",
    "    endpoint=\"https://models.inference.ai.azure.com\",\n",
    "    # To authenticate with the model you will need to generate a personal access token (PAT) in your GitHub settings.\n",
    "    # Create your PAT token by following instructions here: https://docs.github.com/en/authentication/keeping-your-account-and-data-secure/managing-your-personal-access-tokens\n",
    "    credential=AzureKeyCredential(os.environ[\"GITHUB_TOKEN\"]),\n",
    "    model_info={\n",
    "        \"json_output\": True,\n",
    "        \"function_calling\": True,\n",
    "        \"vision\": True,\n",
    "        \"family\": \"unknown\",\n",
    "    },\n",
    ")\n",
    "\n",
    "result = await client.create([UserMessage(content=\"What is the capital of France?\", source=\"user\")])\n",
    "print(result)"
   ]
  },
  {
   "cell_type": "markdown",
   "metadata": {},
   "source": [
    "## ਫੰਕਸ਼ਨਾਂ ਦੀ ਪਰਿਭਾਸ਼ਾ\n",
    "\n",
    "ਇਸ ਉਦਾਹਰਨ ਵਿੱਚ, ਅਸੀਂ ਏਜੰਟ ਨੂੰ ਇੱਕ ਟੂਲ ਤੱਕ ਪਹੁੰਚ ਦੇਵਾਂਗੇ ਜੋ ਇੱਕ ਫੰਕਸ਼ਨ ਹੈ ਜਿਸ ਵਿੱਚ ਉਪਲਬਧ ਛੁੱਟੀਆਂ ਦੇ ਗੰਤਵਿਆਂ ਦੀ ਸੂਚੀ ਅਤੇ ਉਨ੍ਹਾਂ ਦੀ ਉਪਲਬਧਤਾ ਹੈ।\n",
    "\n",
    "ਤੁਸੀਂ ਇਹ ਸੋਚ ਸਕਦੇ ਹੋ ਕਿ ਇਹ ਉਹ ਸਥਿਤੀ ਹੋਵੇਗੀ ਜਿੱਥੇ ਇੱਕ ਟ੍ਰੈਵਲ ਏਜੰਟ, ਉਦਾਹਰਣ ਵਜੋਂ, ਇੱਕ ਟ੍ਰੈਵਲ ਡੇਟਾਬੇਸ ਤੱਕ ਪਹੁੰਚ ਰੱਖ ਸਕਦਾ ਹੈ।\n",
    "\n",
    "ਜਦੋਂ ਤੁਸੀਂ ਇਸ ਨਮੂਨੇ ਵਿੱਚੋਂ ਗੁਜ਼ਰਦੇ ਹੋ, ਤਾਂ ਨਵੀਆਂ ਫੰਕਸ਼ਨਾਂ ਅਤੇ ਟੂਲਾਂ ਨੂੰ ਪਰਿਭਾਸ਼ਿਤ ਕਰਨ ਦੀ ਕੋਸ਼ਿਸ਼ ਕਰਨ ਲਈ ਖੁਦ ਨੂੰ ਆਜ਼ਾਦ ਮਹਿਸੂਸ ਕਰੋ, ਜਿਨ੍ਹਾਂ ਨੂੰ ਏਜੰਟ ਕਾਲ ਕਰ ਸਕਦਾ ਹੈ।\n"
   ]
  },
  {
   "cell_type": "code",
   "execution_count": null,
   "metadata": {},
   "outputs": [],
   "source": [
    "from typing import Dict, List, Optional\n",
    "\n",
    "\n",
    "def vacation_destinations(city: str) -> tuple[str, str]:\n",
    "    \"\"\"\n",
    "    Checks if a specific vacation destination is available\n",
    "    \n",
    "    Args:\n",
    "        city (str): Name of the city to check\n",
    "        \n",
    "    Returns:\n",
    "        tuple: Contains city name and availability status ('Available' or 'Unavailable')\n",
    "    \"\"\"\n",
    "    destinations = {\n",
    "        \"Barcelona\": \"Available\",\n",
    "        \"Tokyo\": \"Unavailable\",\n",
    "        \"Cape Town\": \"Available\",\n",
    "        \"Vancouver\": \"Available\",\n",
    "        \"Dubai\": \"Unavailable\",\n",
    "    }\n",
    "\n",
    "    if city in destinations:\n",
    "        return city, destinations[city]\n",
    "    else:\n",
    "        return city, \"City not found\"\n",
    "\n",
    "# Example usage:\n",
    "# city, status = vacation_destinations(\"Barcelona\")\n",
    "# print(f\"How about visiting {city}? It's currently {status} there!\")"
   ]
  },
  {
   "cell_type": "markdown",
   "metadata": {},
   "source": [
    "## ਫੰਕਸ਼ਨ ਟੂਲ ਦੀ ਪਰਿਭਾਸ਼ਾ  \n",
    "ਏਜੰਟ ਨੂੰ `vacation_destinations` ਨੂੰ ਇੱਕ `FunctionTool` ਵਜੋਂ ਵਰਤਣ ਲਈ, ਸਾਨੂੰ ਇਸਨੂੰ ਇੱਕ ਟੂਲ ਵਜੋਂ ਪਰਿਭਾਸ਼ਿਤ ਕਰਨਾ ਪਵੇਗਾ।  \n",
    "\n",
    "ਅਸੀਂ ਟੂਲ ਦੀ ਇੱਕ ਵਰਣਨਾ ਵੀ ਪ੍ਰਦਾਨ ਕਰਾਂਗੇ ਜੋ ਏਜੰਟ ਨੂੰ ਇਹ ਪਛਾਣ ਕਰਨ ਵਿੱਚ ਮਦਦ ਕਰਦੀ ਹੈ ਕਿ ਇਸ ਟੂਲ ਨੂੰ ਉਪਭੋਗਤਾ ਦੁਆਰਾ ਕੀਤੇ ਗਏ ਕੰਮ ਦੇ ਸੰਦਰਭ ਵਿੱਚ ਕਿਵੇਂ ਵਰਤਿਆ ਜਾ ਸਕਦਾ ਹੈ।  \n"
   ]
  },
  {
   "cell_type": "code",
   "execution_count": null,
   "metadata": {},
   "outputs": [],
   "source": [
    "get_vacations = FunctionTool(\n",
    "    vacation_destinations, description=\"Search for vacation destinations and if they are available or not.\"\n",
    ")"
   ]
  },
  {
   "cell_type": "markdown",
   "metadata": {},
   "source": [
    "## ਏਜੰਟ ਨੂੰ ਪਰਿਭਾਸ਼ਿਤ ਕਰਨਾ\n",
    "\n",
    "ਹੁਣ ਅਸੀਂ ਹੇਠਾਂ ਦਿੱਤੇ ਕੋਡ ਵਿੱਚ ਏਜੰਟ ਬਣਾਉਣ ਜਾ ਰਹੇ ਹਾਂ। ਅਸੀਂ `system_message` ਨੂੰ ਪਰਿਭਾਸ਼ਿਤ ਕਰਦੇ ਹਾਂ ਤਾਂ ਜੋ ਏਜੰਟ ਨੂੰ ਯੂਜ਼ਰਾਂ ਦੀ ਮਦਦ ਕਰਨ ਲਈ ਹਦਾਇਤਾਂ ਦਿੱਤੀਆਂ ਜਾ ਸਕਣ ਕਿ ਉਹ ਛੁੱਟੀਆਂ ਦੇ ਗੰਤਵਿਆਂ ਨੂੰ ਕਿਵੇਂ ਲੱਭ ਸਕਦੇ ਹਨ।\n",
    "\n",
    "ਅਸੀਂ `reflect_on_tool_use` ਪੈਰਾਮੀਟਰ ਨੂੰ true 'ਤੇ ਸੈਟ ਕਰਦੇ ਹਾਂ। ਇਹ LLM ਨੂੰ ਟੂਲ ਕਾਲ ਦੇ ਜਵਾਬ ਨੂੰ ਲੈਣ ਅਤੇ ਕੁਦਰਤੀ ਭਾਸ਼ਾ ਵਿੱਚ ਜਵਾਬ ਭੇਜਣ ਦੀ ਆਗਿਆ ਦਿੰਦਾ ਹੈ।\n",
    "\n",
    "ਤੁਸੀਂ ਇਸ ਪੈਰਾਮੀਟਰ ਨੂੰ false 'ਤੇ ਸੈਟ ਕਰ ਸਕਦੇ ਹੋ ਤਾਂ ਜੋ ਅੰਤਰ ਵੇਖ ਸਕੋ।\n"
   ]
  },
  {
   "cell_type": "code",
   "execution_count": null,
   "metadata": {},
   "outputs": [],
   "source": [
    "agent = AssistantAgent(\n",
    "    name=\"assistant\",\n",
    "    model_client=client,\n",
    "    tools=[get_vacations],\n",
    "    system_message=\"You are a travel agent that helps users find vacation destinations.\",\n",
    "    reflect_on_tool_use=True,\n",
    ")"
   ]
  },
  {
   "cell_type": "markdown",
   "metadata": {},
   "source": [
    "## ਏਜੰਟ ਚਲਾਉਣਾ\n",
    "\n",
    "ਹੁਣ ਅਸੀਂ ਸ਼ੁਰੂਆਤੀ ਯੂਜ਼ਰ ਸੁਨੇਹੇ ਨਾਲ ਏਜੰਟ ਚਲਾ ਸਕਦੇ ਹਾਂ, ਜਿਸ ਵਿੱਚ ਟੋਕੀਓ ਦੀ ਯਾਤਰਾ ਕਰਨ ਦੀ ਗੱਲ ਕੀਤੀ ਗਈ ਹੈ।\n",
    "\n",
    "ਤੁਸੀਂ ਇਸ ਸ਼ਹਿਰ ਦੇ ਗੰਤੀਸਥਾਨ ਨੂੰ ਬਦਲ ਸਕਦੇ ਹੋ ਤਾਂ ਜੋ ਦੇਖ ਸਕੋ ਕਿ ਸ਼ਹਿਰ ਦੀ ਉਪਲਬਧਤਾ ਲਈ ਏਜੰਟ ਕਿਵੇਂ ਪ੍ਰਤੀਕਿਰਿਆ ਕਰਦਾ ਹੈ।\n"
   ]
  },
  {
   "cell_type": "code",
   "execution_count": null,
   "metadata": {},
   "outputs": [],
   "source": [
    "async def assistant_run() -> None:\n",
    "    response = await agent.on_messages(\n",
    "        [TextMessage(content=\"I would like to take a trip to Tokyo\", source=\"user\")],\n",
    "        cancellation_token=CancellationToken(),\n",
    "    )\n",
    "    print(response.inner_messages)\n",
    "    print(response.chat_message)\n",
    "\n",
    "\n",
    "# Use asyncio.run(assistant_run()) when running in a script.\n",
    "await assistant_run()"
   ]
  },
  {
   "cell_type": "markdown",
   "metadata": {},
   "source": [
    "\n---\n\n**ਅਸਵੀਕਰਤੀ**:  \nਇਹ ਦਸਤਾਵੇਜ਼ AI ਅਨੁਵਾਦ ਸੇਵਾ [Co-op Translator](https://github.com/Azure/co-op-translator) ਦੀ ਵਰਤੋਂ ਕਰਕੇ ਅਨੁਵਾਦ ਕੀਤਾ ਗਿਆ ਹੈ। ਜਦੋਂ ਕਿ ਅਸੀਂ ਸਹੀ ਹੋਣ ਦਾ ਯਤਨ ਕਰਦੇ ਹਾਂ, ਕਿਰਪਾ ਕਰਕੇ ਧਿਆਨ ਦਿਓ ਕਿ ਸਵੈਚਾਲਿਤ ਅਨੁਵਾਦਾਂ ਵਿੱਚ ਗਲਤੀਆਂ ਜਾਂ ਅਸੁਣਭਵਤਾਵਾਂ ਹੋ ਸਕਦੀਆਂ ਹਨ। ਇਸ ਦੀ ਮੂਲ ਭਾਸ਼ਾ ਵਿੱਚ ਮੌਜੂਦ ਮੂਲ ਦਸਤਾਵੇਜ਼ ਨੂੰ ਪ੍ਰਮਾਣਿਕ ਸਰੋਤ ਮੰਨਿਆ ਜਾਣਾ ਚਾਹੀਦਾ ਹੈ। ਮਹੱਤਵਪੂਰਨ ਜਾਣਕਾਰੀ ਲਈ, ਪੇਸ਼ੇਵਰ ਮਨੁੱਖੀ ਅਨੁਵਾਦ ਦੀ ਸਿਫਾਰਸ਼ ਕੀਤੀ ਜਾਂਦੀ ਹੈ। ਇਸ ਅਨੁਵਾਦ ਦੇ ਪ੍ਰਯੋਗ ਤੋਂ ਪੈਦਾ ਹੋਣ ਵਾਲੇ ਕਿਸੇ ਵੀ ਗਲਤਫਹਮੀਆਂ ਜਾਂ ਗਲਤ ਵਿਆਖਿਆਵਾਂ ਲਈ ਅਸੀਂ ਜ਼ਿੰਮੇਵਾਰ ਨਹੀਂ ਹਾਂ।  \n"
   ]
  }
 ],
 "metadata": {
  "kernelspec": {
   "display_name": ".venv",
   "language": "python",
   "name": "python3"
  },
  "language_info": {
   "codemirror_mode": {
    "name": "ipython",
    "version": 3
   },
   "file_extension": ".py",
   "mimetype": "text/x-python",
   "name": "python",
   "nbconvert_exporter": "python",
   "pygments_lexer": "ipython3",
   "version": "3.13.1"
  },
  "coopTranslator": {
   "original_hash": "3ab7ffbff609b601fcdfeb749af44e43",
   "translation_date": "2025-08-29T11:41:51+00:00",
   "source_file": "04-tool-use/code_samples/04-autogen.ipynb",
   "language_code": "pa"
  }
 },
 "nbformat": 4,
 "nbformat_minor": 2
}