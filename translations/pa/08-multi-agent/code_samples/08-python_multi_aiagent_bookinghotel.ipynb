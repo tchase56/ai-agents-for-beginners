{
 "cells": [
  {
   "cell_type": "markdown",
   "metadata": {},
   "source": [
    "## **ਨਮੂਨੇ: ਹੋਟਲ ਬੁਕਿੰਗ ਲਈ ਮਲਟੀ-ਏਆਈ ਏਜੰਟਸ**\n",
    "\n",
    "ਅੱਜ ਦੇ ਤੇਜ਼ ਰਫ਼ਤਾਰ ਵਾਲੇ ਦੁਨੀਆ ਵਿੱਚ, ਇੱਕ ਕਾਰੋਬਾਰੀ ਯਾਤਰਾ ਦੀ ਯੋਜਨਾ ਬਣਾਉਣਾ ਸਿਰਫ਼ ਇੱਕ ਉਡਾਣ ਅਤੇ ਹੋਟਲ ਕਮਰੇ ਦੀ ਬੁਕਿੰਗ ਤੱਕ ਸੀਮਿਤ ਨਹੀਂ ਹੁੰਦਾ। ਇਹ ਇੱਕ ਐਸੀ ਸਹਿਯੋਗ ਅਤੇ ਕੁਸ਼ਲਤਾ ਦੀ ਲੋੜ ਪਾਉਂਦਾ ਹੈ ਜੋ ਕਈ ਵਾਰ ਹਾਸਲ ਕਰਨਾ ਮੁਸ਼ਕਲ ਹੋ ਸਕਦਾ ਹੈ। ਇੱਥੇ ਹੀ ਮਲਟੀ-ਏਆਈ ਏਜੰਟਸ ਮਦਦਗਾਰ ਸਾਬਤ ਹੁੰਦੇ ਹਨ, ਜੋ ਸਾਡੇ ਯਾਤਰਾ ਦੀਆਂ ਜ਼ਰੂਰਤਾਂ ਨੂੰ ਸੰਭਾਲਣ ਦੇ ਤਰੀਕੇ ਵਿੱਚ ਕ੍ਰਾਂਤੀ ਲਿਆਉਂਦੇ ਹਨ।\n",
    "\n",
    "ਕਲਪਨਾ ਕਰੋ ਕਿ ਤੁਹਾਡੇ ਕੋਲ ਬੁੱਧੀਮਾਨ ਏਜੰਟਸ ਦੀ ਇੱਕ ਟੀਮ ਹੈ, ਜੋ ਤੁਹਾਡੀ ਯਾਤਰਾ ਦੇ ਹਰ ਪੱਖ ਨੂੰ ਸਹੀ ਅਤੇ ਆਸਾਨੀ ਨਾਲ ਸੰਭਾਲਣ ਲਈ ਇਕੱਠੇ ਕੰਮ ਕਰ ਰਹੀ ਹੈ। ਸਾਡੀ ਤਕਨੀਕੀ ਤਰੱਕੀਸ਼ੀਲ ਏਆਈ ਤਕਨੀਕ ਨਾਲ, ਅਸੀਂ ਬੁਕਿੰਗ ਸੇਵਾਵਾਂ ਅਤੇ ਯਾਤਰਾ ਦੀ ਯੋਜਨਾ ਬਣਾਉਣ ਲਈ ਵਿਸ਼ੇਸ਼ ਏਜੰਟਸ ਤਿਆਰ ਕੀਤੇ ਹਨ, ਜੋ ਤੁਹਾਨੂੰ ਇੱਕ ਬਿਨਾ ਤਣਾਅ ਅਤੇ ਸੁਗਮ ਯਾਤਰਾ ਦਾ ਅਨੁਭਵ ਦਿੰਦੇ ਹਨ।\n",
    "\n",
    "ਇਹ ਇੱਕ ਆਮ ਸਥਿਤੀ ਹੈ। ਜਦੋਂ ਇੱਕ ਕਾਰੋਬਾਰੀ ਯਾਤਰਾ ਦੀ ਯੋਜਨਾ ਬਣਾਈ ਜਾਂਦੀ ਹੈ, ਤਾਂ ਸਾਨੂੰ ਹਵਾਈ ਟਿਕਟ ਜਾਣਕਾਰੀ, ਹੋਟਲ ਜਾਣਕਾਰੀ ਆਦਿ ਪ੍ਰਾਪਤ ਕਰਨ ਲਈ ਇੱਕ ਕਾਰੋਬਾਰੀ ਯਾਤਰਾ ਏਜੰਟ ਨਾਲ ਸਲਾਹ ਕਰਨ ਦੀ ਲੋੜ ਹੁੰਦੀ ਹੈ। ਏਆਈ ਏਜੰਟਸ ਦੇ ਜ਼ਰੀਏ, ਅਸੀਂ ਬੁਕਿੰਗ ਸੇਵਾਵਾਂ ਲਈ ਏਜੰਟਸ ਅਤੇ ਯਾਤਰਾ ਦੀ ਯੋਜਨਾ ਬਣਾਉਣ ਵਾਲੇ ਏਜੰਟਸ ਤਿਆਰ ਕਰ ਸਕਦੇ ਹਾਂ, ਜੋ ਸਹਿਯੋਗ ਕਰਦੇ ਹਨ ਅਤੇ ਬੁੱਧੀਮਾਨੀ ਦੇ ਪੱਧਰ ਨੂੰ ਬੇਹਤਰ ਬਣਾਉਂਦੇ ਹਨ।\n"
   ]
  },
  {
   "cell_type": "markdown",
   "metadata": {},
   "source": [
    "# ਐਜ਼ਰ ਏਆਈ ਏਜੰਟ ਸੇਵਾ ਸ਼ੁਰੂ ਕਰੋ ਅਤੇ **.env** ਤੋਂ ਕਨਫਿਗਰੇਸ਼ਨ ਜਾਣਕਾਰੀ ਪ੍ਰਾਪਤ ਕਰੋ\n",
    "\n",
    "### **.env**\n",
    "\n",
    "ਇੱਕ .env ਫਾਈਲ ਬਣਾਓ\n",
    "\n",
    "**.env** ਵਿੱਚ ਐਜ਼ਰ ਏਆਈ ਏਜੰਟ ਸੇਵਾ ਦੀ ਕਨੈਕਸ਼ਨ ਸਟਰਿੰਗ, AOAI ਦੁਆਰਾ ਵਰਤਿਆ ਗਿਆ ਮਾਡਲ, ਅਤੇ ਸੰਬੰਧਿਤ ਗੂਗਲ API ਸਰਚ ਸੇਵਾ API, ENDPOINT ਆਦਿ ਸ਼ਾਮਲ ਹੁੰਦੇ ਹਨ।\n",
    "\n",
    "- **AZURE_AI_AGENT_MODEL_DEPLOYMENT_NAME** = \"ਤੁਹਾਡੇ ਐਜ਼ਰ ਏਆਈ ਏਜੰਟ ਸੇਵਾ ਮਾਡਲ ਡਿਪਲੌਇਮੈਂਟ ਦਾ ਨਾਮ\"\n",
    "\n",
    "[**NOTE**] ਤੁਹਾਨੂੰ 100,000 ਰੇਟ ਲਿਮਿਟ (ਟੋਕਨ ਪ੍ਰਤੀ ਮਿੰਟ) ਅਤੇ 600 ਰੇਟ ਲਿਮਿਟ (ਰਿਕਵੈਸਟ ਪ੍ਰਤੀ ਮਿੰਟ) ਵਾਲਾ ਮਾਡਲ ਲੋੜੀਂਦਾ ਹੋਵੇਗਾ।\n",
    "\n",
    "  ਤੁਸੀਂ ਐਜ਼ਰ ਏਆਈ ਫਾਊਂਡਰੀ - ਮਾਡਲ ਅਤੇ ਐਂਡਪੌਇੰਟ ਵਿੱਚ ਮਾਡਲ ਪ੍ਰਾਪਤ ਕਰ ਸਕਦੇ ਹੋ।\n",
    "\n",
    "- **AZURE_AI_AGENT_PROJECT_CONNECTION_STRING** = \"ਤੁਹਾਡੇ ਐਜ਼ਰ ਏਆਈ ਏਜੰਟ ਸੇਵਾ ਪ੍ਰੋਜੈਕਟ ਦੀ ਕਨੈਕਸ਼ਨ ਸਟਰਿੰਗ\"\n",
    "\n",
    "  ਤੁਸੀਂ ਆਪਣੇ ਪ੍ਰੋਜੈਕਟ ਓਵਰਵਿਊ ਵਿੱਚ AI ਫਾਊਂਡਰੀ ਪੋਰਟਲ ਸਕ੍ਰੀਨ ਤੋਂ ਪ੍ਰੋਜੈਕਟ ਕਨੈਕਸ਼ਨ ਸਟਰਿੰਗ ਪ੍ਰਾਪਤ ਕਰ ਸਕਦੇ ਹੋ।\n",
    "\n",
    "- **SERPAPI_SEARCH_API_KEY** = \"ਤੁਹਾਡਾ SERPAPI ਸਰਚ API KEY\"\n",
    "- **SERPAPI_SEARCH_ENDPOINT** = \"ਤੁਹਾਡਾ SERPAPI ਸਰਚ ਐਂਡਪੌਇੰਟ\"\n",
    "\n",
    "ਐਜ਼ਰ ਏਆਈ ਏਜੰਟ ਸੇਵਾ ਦੇ ਮਾਡਲ ਡਿਪਲੌਇਮੈਂਟ ਨਾਮ ਅਤੇ ਪ੍ਰੋਜੈਕਟ ਕਨੈਕਸ਼ਨ ਸਟਰਿੰਗ ਪ੍ਰਾਪਤ ਕਰਨ ਲਈ, ਤੁਹਾਨੂੰ ਐਜ਼ਰ ਏਆਈ ਏਜੰਟ ਸੇਵਾ ਬਣਾਉਣੀ ਪਵੇਗੀ। ਇਹ ਸਿਫਾਰਸ਼ ਕੀਤੀ ਜਾਂਦੀ ਹੈ ਕਿ ਤੁਸੀਂ ਇਸਨੂੰ ਸਿੱਧੇ ਬਣਾਉਣ ਲਈ [ਇਸ ਟੈਂਪਲੇਟ](https://portal.azure.com/#create/Microsoft.Template/uri/https%3A%2F%2Fraw.githubusercontent.com%2Ffosteramanda%2Fazure-agent-quickstart-templates%2Frefs%2Fheads%2Fmaster%2Fquickstarts%2Fmicrosoft.azure-ai-agent-service%2Fstandard-agent%2Fazuredeploy.json) ਦੀ ਵਰਤੋਂ ਕਰੋ। （***ਨੋਟ:*** ਐਜ਼ਰ ਏਆਈ ਏਜੰਟ ਸੇਵਾ ਵਰਤਮਾਨ ਵਿੱਚ ਸੀਮਿਤ ਖੇਤਰ ਵਿੱਚ ਸੈੱਟ ਕੀਤੀ ਗਈ ਹੈ। ਇਹ ਸਿਫਾਰਸ਼ ਕੀਤੀ ਜਾਂਦੀ ਹੈ ਕਿ ਤੁਸੀਂ ਖੇਤਰ ਸੈੱਟ ਕਰਨ ਲਈ [ਇਸ ਲਿੰਕ](https://learn.microsoft.com/en-us/azure/ai-services/agents/concepts/model-region-support) ਨੂੰ ਵੇਖੋ।)\n",
    "\n",
    "ਏਜੰਟ ਨੂੰ SERPAPI ਤੱਕ ਪਹੁੰਚ ਦੀ ਲੋੜ ਹੈ। ਇਹ ਸਿਫਾਰਸ਼ ਕੀਤੀ ਜਾਂਦੀ ਹੈ ਕਿ ਤੁਸੀਂ [ਇਸ ਲਿੰਕ](https://serpapi.com/searches) ਦੀ ਵਰਤੋਂ ਕਰਕੇ ਰਜਿਸਟਰ ਕਰੋ। ਰਜਿਸਟ੍ਰੇਸ਼ਨ ਤੋਂ ਬਾਅਦ, ਤੁਸੀਂ ਇੱਕ ਵਿਲੱਖਣ API KEY ਅਤੇ ENDPOINT ਪ੍ਰਾਪਤ ਕਰ ਸਕਦੇ ਹੋ।\n"
   ]
  },
  {
   "cell_type": "markdown",
   "metadata": {},
   "source": [
    "# ਐਜ਼ਰ ਵਿੱਚ ਲੌਗਇਨ ਕਰੋ\n",
    "\n",
    "ਤੁਹਾਨੂੰ ਹੁਣ ਐਜ਼ਰ ਵਿੱਚ ਲੌਗਇਨ ਕਰਨ ਦੀ ਲੋੜ ਹੈ। VScode ਵਿੱਚ ਇੱਕ ਟਰਮੀਨਲ ਖੋਲ੍ਹੋ ਅਤੇ `az login` ਕਮਾਂਡ ਚਲਾਓ।\n"
   ]
  },
  {
   "cell_type": "markdown",
   "metadata": {},
   "source": [
    "# ਸੈਟਅੱਪ\n",
    "\n",
    "ਇਸ ਨੋਟਬੁੱਕ ਨੂੰ ਚਲਾਉਣ ਲਈ, ਤੁਹਾਨੂੰ ਹੇਠਾਂ ਦਿੱਤੀਆਂ ਲਾਇਬ੍ਰੇਰੀਆਂ ਇੰਸਟਾਲ ਕਰਨ ਦੀ ਲੋੜ ਹੋਵੇਗੀ। ਇੱਥੇ ਲੋੜੀਂਦੀਆਂ ਲਾਇਬ੍ਰੇਰੀਆਂ ਅਤੇ ਉਨ੍ਹਾਂ ਦੇ ਸੰਬੰਧਿਤ ਪਿਪ ਇੰਸਟਾਲ ਕਮਾਂਡਾਂ ਦੀ ਸੂਚੀ ਹੈ:\n",
    "\n",
    "azure-identity: Azure ਪ੍ਰਮਾਣਿਕਤਾ ਲਈ।  \n",
    "requests: HTTP ਰਿਕਵੈਸਟ ਭੇਜਣ ਲਈ।  \n",
    "semantic-kernel: ਸੈਮੈਂਟਿਕ ਕਰਨਲ ਫਰੇਮਵਰਕ ਲਈ (ਮੰਨਿਆ ਜਾ ਰਿਹਾ ਹੈ ਕਿ ਇਹ ਇੱਕ ਕਸਟਮ ਜਾਂ ਵਿਸ਼ੇਸ਼ ਲਾਇਬ੍ਰੇਰੀ ਹੈ, ਤੁਹਾਨੂੰ ਇਹ ਕਿਸੇ ਵਿਸ਼ੇਸ਼ ਸਰੋਤ ਜਾਂ ਰਿਪੋਜ਼ਿਟਰੀ ਤੋਂ ਇੰਸਟਾਲ ਕਰਨੀ ਪੈ ਸਕਦੀ ਹੈ)।  \n"
   ]
  },
  {
   "cell_type": "code",
   "execution_count": null,
   "metadata": {},
   "outputs": [],
   "source": [
    "!pip install azure-identity\n",
    "!pip install requests\n",
    "!pip install semantic-kernel\n",
    "!pip install --upgrade semantic_kernel\n",
    "!pip install azure-cli"
   ]
  },
  {
   "cell_type": "markdown",
   "metadata": {},
   "source": [
    "# ਵਿਆਖਿਆ:  \n",
    "import asyncio: ਇਹ asyncio ਮੋਡੀਊਲ ਨੂੰ ਇੰਪੋਰਟ ਕਰਦਾ ਹੈ, ਜੋ ਪਾਈਥਨ ਵਿੱਚ ਅਸਿੰਕ੍ਰੋਨਸ ਪ੍ਰੋਗਰਾਮਿੰਗ ਲਈ ਸਹਾਇਤਾ ਪ੍ਰਦਾਨ ਕਰਦਾ ਹੈ। ਇਹ ਤੁਹਾਨੂੰ async ਅਤੇ await ਸਿੰਟੈਕਸ ਦੀ ਵਰਤੋਂ ਕਰਕੇ ਸਮਕਾਲੀ ਕੋਡ ਲਿਖਣ ਦੀ ਆਗਿਆ ਦਿੰਦਾ ਹੈ।  \n",
    "from typing: Annotated: ਇਹ typing ਮੋਡੀਊਲ ਤੋਂ Annotated ਟਾਈਪ ਨੂੰ ਇੰਪੋਰਟ ਕਰਦਾ ਹੈ। Annotated ਨੂੰ ਟਾਈਪ ਹਿੰਟਸ ਵਿੱਚ ਮੈਟਾ ਡੇਟਾ ਸ਼ਾਮਲ ਕਰਨ ਲਈ ਵਰਤਿਆ ਜਾਂਦਾ ਹੈ, ਜੋ ਵੈਰੀਫਿਕੇਸ਼ਨ, ਡੌਕਯੂਮੈਂਟੇਸ਼ਨ ਜਾਂ ਟੂਲਿੰਗ ਵਰਗੇ ਵੱਖ-ਵੱਖ ਮਕਸਦਾਂ ਲਈ ਲਾਭਦਾਇਕ ਹੋ ਸਕਦਾ ਹੈ।  \n"
   ]
  },
  {
   "cell_type": "code",
   "execution_count": null,
   "metadata": {
    "dotnet_interactive": {
     "language": "csharp"
    },
    "polyglot_notebook": {
     "kernelName": "csharp"
    }
   },
   "outputs": [],
   "source": [
    "import asyncio,os\n",
    "from typing import Annotated"
   ]
  },
  {
   "cell_type": "markdown",
   "metadata": {},
   "source": [
    "# ਵਿਆਖਿਆ:\n",
    "from dotenv import load_dotenv ਅਤੇ load_dotenv() ਦੀ ਵਰਤੋਂ ਕਰਕੇ, ਤੁਸੀਂ ਆਸਾਨੀ ਨਾਲ ਸੰਰਚਨਾ ਸੈਟਿੰਗਾਂ ਅਤੇ ਸੰਵੇਦਨਸ਼ੀਲ ਜਾਣਕਾਰੀ (ਜਿਵੇਂ API ਕੁੰਜੀਆਂ ਅਤੇ ਡਾਟਾਬੇਸ URLs) ਨੂੰ ਇੱਕ .env ਫਾਇਲ ਵਿੱਚ ਪ੍ਰਬੰਧਿਤ ਕਰ ਸਕਦੇ ਹੋ। ਇਸ ਤਰ੍ਹਾਂ, ਇਹ ਜਾਣਕਾਰੀ ਤੁਹਾਡੇ ਸਰੋਤ ਕੋਡ ਤੋਂ ਵੱਖ ਰਹਿੰਦੀ ਹੈ, ਜੋ ਤੁਹਾਡੇ ਐਪਲੀਕੇਸ਼ਨ ਨੂੰ ਜ਼ਿਆਦਾ ਸੁਰੱਖਿਅਤ ਅਤੇ ਕਨਫਿਗਰ ਕਰਨ ਵਿੱਚ ਆਸਾਨ ਬਣਾਉਂਦੀ ਹੈ।\n"
   ]
  },
  {
   "cell_type": "code",
   "execution_count": null,
   "metadata": {},
   "outputs": [],
   "source": [
    "import os\n",
    "from dotenv import load_dotenv\n",
    "\n",
    "# Load environment variables from .env file\n",
    "load_dotenv()"
   ]
  },
  {
   "cell_type": "markdown",
   "metadata": {},
   "source": [
    "# ਵਿਆਖਿਆ:\n",
    "\n",
    "Import Statement: from azure.identity.aio import DefaultAzureCredential: ਇਹ azure.identity.aio ਮੋਡੀਊਲ ਤੋਂ DefaultAzureCredential ਕਲਾਸ ਨੂੰ ਇੰਪੋਰਟ ਕਰਦਾ ਹੈ। ਮੋਡੀਊਲ ਦੇ ਨਾਮ ਵਿੱਚ aio ਦਾ ਮਤਲਬ ਹੈ ਕਿ ਇਹ ਅਸਿੰਕ੍ਰੋਨਸ ਓਪਰੇਸ਼ਨ ਲਈ ਤਿਆਰ ਕੀਤਾ ਗਿਆ ਹੈ।\n",
    "\n",
    "DefaultAzureCredential ਦਾ ਉਦੇਸ਼: DefaultAzureCredential ਕਲਾਸ Azure SDK for Python ਦਾ ਹਿੱਸਾ ਹੈ। ਇਹ Azure ਸੇਵਾਵਾਂ ਨਾਲ ਪ੍ਰਮਾਣਿਕਤਾ ਪ੍ਰਾਪਤ ਕਰਨ ਦਾ ਇੱਕ ਡਿਫਾਲਟ ਤਰੀਕਾ ਪ੍ਰਦਾਨ ਕਰਦੀ ਹੈ। ਇਹ ਖਾਸ ਕ੍ਰਮ ਵਿੱਚ ਕਈ ਤਰੀਕਿਆਂ ਨਾਲ ਪ੍ਰਮਾਣਿਕਤਾ ਕਰਨ ਦੀ ਕੋਸ਼ਿਸ਼ ਕਰਦੀ ਹੈ, ਜਿਵੇਂ ਕਿ environment variables, managed identity, ਅਤੇ Azure CLI credentials।\n",
    "\n",
    "ਅਸਿੰਕ੍ਰੋਨਸ ਓਪਰੇਸ਼ਨ: aio ਮੋਡੀਊਲ ਦਰਸਾਉਂਦਾ ਹੈ ਕਿ DefaultAzureCredential ਕਲਾਸ ਅਸਿੰਕ੍ਰੋਨਸ ਓਪਰੇਸ਼ਨ ਦਾ ਸਮਰਥਨ ਕਰਦੀ ਹੈ। ਇਸਦਾ ਮਤਲਬ ਹੈ ਕਿ ਤੁਸੀਂ ਇਸਨੂੰ asyncio ਦੇ ਨਾਲ ਵਰਤ ਕੇ non-blocking authentication requests ਕਰ ਸਕਦੇ ਹੋ।\n"
   ]
  },
  {
   "cell_type": "code",
   "execution_count": null,
   "metadata": {
    "dotnet_interactive": {
     "language": "csharp"
    },
    "polyglot_notebook": {
     "kernelName": "csharp"
    }
   },
   "outputs": [],
   "source": [
    "from azure.identity.aio import DefaultAzureCredential"
   ]
  },
  {
   "cell_type": "markdown",
   "metadata": {},
   "source": [
    "# ਵਿਆਖਿਆ:\n",
    "semantic_kernel ਪੈਕੇਜ ਤੋਂ ਵੱਖ-ਵੱਖ ਮੋਡੀਊਲ ਅਤੇ ਕਲਾਸਾਂ ਨੂੰ ਇੰਪੋਰਟ ਕਰਦਾ ਹੈ। ਹੇਠਾਂ ਹਰ ਇੰਪੋਰਟ ਦੀ ਵਿਸਥਾਰ ਦਿੱਤੀ ਗਈ ਹੈ:\n",
    "\n",
    "semantic_kernel.agents ਤੋਂ AgentGroupChat: ਇਹ ਕਲਾਸ AI ਏਜੰਟਾਂ ਲਈ ਗਰੁੱਪ ਚੈਟ ਨਾਲ ਸੰਬੰਧਿਤ ਫੰਕਸ਼ਨਲਿਟੀ ਨੂੰ ਸੰਭਾਲਦੀ ਹੈ। AzureAIAgent ਅਤੇ AzureAIAgentSettings semantic_kernel.agents.azure_ai ਤੋਂ:\n",
    "\n",
    "AzureAIAgent: ਇਹ ਕਲਾਸ Azure AI ਸੇਵਾਵਾਂ ਦੀ ਵਰਤੋਂ ਕਰਨ ਵਾਲੇ AI ਏਜੰਟਾਂ ਨੂੰ ਬਣਾਉਣ ਅਤੇ ਪ੍ਰਬੰਧਿਤ ਕਰਨ ਲਈ ਵਰਤੀ ਜਾਂਦੀ ਹੈ।\n",
    "\n",
    "AzureAIAgentSettings: ਇਹ ਕਲਾਸ AzureAIAgent ਲਈ ਸੈਟਿੰਗਾਂ ਨੂੰ ਕਨਫਿਗਰ ਕਰਨ ਲਈ ਵਰਤੀ ਜਾਂਦੀ ਹੈ। TerminationStrategy semantic_kernel.agents.strategies.termination.termination_strategy ਤੋਂ:\n",
    "\n",
    "ਇਹ ਕਲਾਸ ਕੁਝ ਹਾਲਾਤਾਂ ਦੇ ਤਹਿਤ AI ਏਜੰਟਾਂ ਦੀ ਐਕਜ਼ਿਕਿਊਸ਼ਨ ਨੂੰ ਰੋਕਣ ਲਈ ਰਣਨੀਤੀਆਂ ਨੂੰ ਪਰਿਭਾਸ਼ਿਤ ਕਰਦੀ ਹੈ। ChatMessageContent semantic_kernel.contents.chat_message_content ਤੋਂ:\n",
    "\n",
    "ਇਹ ਕਲਾਸ ਚੈਟ ਸੁਨੇਹਿਆਂ ਦੀ ਸਮੱਗਰੀ ਨੂੰ ਸੰਭਾਲਣ ਲਈ ਵਰਤੀ ਜਾਂਦੀ ਹੈ।\n",
    "AuthorRole semantic_kernel.contents.utils.author_role ਤੋਂ:\n",
    "\n",
    "ਇਹ ਕਲਾਸ ਚੈਟ ਸੁਨੇਹਿਆਂ ਦੇ ਸੰਦਰਭ ਵਿੱਚ ਲੇਖਕਾਂ ਲਈ ਵੱਖ-ਵੱਖ ਭੂਮਿਕਾਵਾਂ ਨੂੰ ਪਰਿਭਾਸ਼ਿਤ ਕਰਦੀ ਹੈ। \n",
    "\n",
    "semantic_kernel.functions.kernel_function_decorator ਤੋਂ kernel_function: ਇਹ ਡੈਕੋਰੇਟਰ kernel functions ਨੂੰ ਪਰਿਭਾਸ਼ਿਤ ਕਰਨ ਲਈ ਵਰਤਿਆ ਜਾਂਦਾ ਹੈ, ਜੋ semantic kernel ਫਰੇਮਵਰਕ ਦੇ ਅੰਦਰ ਐਕਜ਼ਿਕਿਊਟ ਕੀਤੇ ਜਾ ਸਕਦੇ ਹਨ।\n",
    "ਇਹ ਇੰਪੋਰਟ AI ਏਜੰਟਾਂ ਨੂੰ ਬਣਾਉਣ ਅਤੇ ਪ੍ਰਬੰਧਿਤ ਕਰਨ ਲਈ ਜ਼ਰੂਰੀ ਘਟਕਾਂ ਨੂੰ ਸੈਟਅਪ ਕਰਦੇ ਹਨ, ਜੋ ਗਰੁੱਪ ਚੈਟ ਵਾਤਾਵਰਣ ਵਿੱਚ ਸੰਚਾਰ ਕਰ ਸਕਦੇ ਹਨ, ਸੰਭਵਤ: ਹੋਟਲ ਬੁਕਿੰਗ ਜਾਂ ਇਸ ਤਰ੍ਹਾਂ ਦੀਆਂ ਗਤੀਵਿਧੀਆਂ ਲਈ।\n"
   ]
  },
  {
   "cell_type": "code",
   "execution_count": null,
   "metadata": {
    "dotnet_interactive": {
     "language": "csharp"
    },
    "polyglot_notebook": {
     "kernelName": "csharp"
    }
   },
   "outputs": [],
   "source": [
    "from semantic_kernel.agents import AgentGroupChat\n",
    "from semantic_kernel.agents import AzureAIAgent, AzureAIAgentSettings\n",
    "from semantic_kernel.agents.strategies.termination.termination_strategy import TerminationStrategy\n",
    "from semantic_kernel.contents import ChatMessageContent\n",
    "from semantic_kernel.contents import AuthorRole\n",
    "from semantic_kernel.functions.kernel_function_decorator import kernel_function"
   ]
  },
  {
   "cell_type": "markdown",
   "metadata": {},
   "source": [
    "# ਵਿਆਖਿਆ:\n",
    "\n",
    "ਅਗਲੇ ਕਦਮ ਵਿੱਚ ਅਸੀਂ azure.ai.projects.models ਮੋਡਿਊਲ ਤੋਂ CodeInterpreterTool ਕਲਾਸ ਨੂੰ ਇਮਪੋਰਟ ਕਰਦੇ ਹਾਂ।\n",
    "\n",
    "CodeInterpreterTool: ਇਹ ਕਲਾਸ Azure AI SDK ਦਾ ਹਿੱਸਾ ਹੈ ਅਤੇ AI ਪ੍ਰੋਜੈਕਟਾਂ ਦੇ ਸੰਦਰਭ ਵਿੱਚ ਕੋਡ ਨੂੰ ਸਮਝਣ ਅਤੇ ਚਲਾਉਣ ਲਈ ਵਰਤੀ ਜਾਂਦੀ ਹੈ। ਇਹ ਕੋਡ ਸਨਿੱਪਟ ਚਲਾਉਣ, ਕੋਡ ਦਾ ਵਿਸ਼ਲੇਸ਼ਣ ਕਰਨ ਜਾਂ AI ਵਰਕਫਲੋਜ਼ ਵਿੱਚ ਕੋਡ ਐਗਜ਼ਿਕਿਊਸ਼ਨ ਨੂੰ ਇੰਟੀਗ੍ਰੇਟ ਕਰਨ ਲਈ ਸਹੂਲਤਾਂ ਪ੍ਰਦਾਨ ਕਰਦੀ ਹੈ।  \n",
    "ਇਹ ਇਮਪੋਰਟ ਤੁਹਾਡੇ ਪ੍ਰੋਜੈਕਟ ਵਿੱਚ CodeInterpreterTool ਦੀ ਵਰਤੋਂ ਲਈ ਜ਼ਰੂਰੀ ਕੰਪੋਨੈਂਟ ਸੈਟਅਪ ਕਰਦਾ ਹੈ, ਜੋ ਕਿ ਉਹਨਾਂ ਕੰਮਾਂ ਲਈ ਲਾਭਦਾਇਕ ਹੋ ਸਕਦਾ ਹੈ ਜਿਨ੍ਹਾਂ ਵਿੱਚ ਕੋਡ ਨੂੰ ਗਤੀਸ਼ੀਲ ਤੌਰ 'ਤੇ ਸਮਝਣਾ ਅਤੇ ਚਲਾਉਣਾ ਸ਼ਾਮਲ ਹੈ।\n"
   ]
  },
  {
   "cell_type": "code",
   "execution_count": null,
   "metadata": {
    "dotnet_interactive": {
     "language": "csharp"
    },
    "polyglot_notebook": {
     "kernelName": "csharp"
    }
   },
   "outputs": [],
   "source": [
    "from azure.ai.projects.models import CodeInterpreterTool"
   ]
  },
  {
   "cell_type": "markdown",
   "metadata": {},
   "source": [
    "# ਵਿਆਖਿਆ:\n",
    "ApprovalTerminationStrategy ਕਲਾਸ AI ਏਜੰਟ ਦੇ ਕੰਮ ਨੂੰ ਖਤਮ ਕਰਨ ਲਈ ਇੱਕ ਵਿਸ਼ੇਸ਼ ਰਣਨੀਤੀ ਪ੍ਰਦਾਨ ਕਰਦੀ ਹੈ। ਏਜੰਟ ਖਤਮ ਹੋ ਜਾਵੇਗਾ ਜੇਕਰ ਇਸਦੇ ਇੰਟਰੈਕਸ਼ਨ ਇਤਿਹਾਸ ਵਿੱਚ ਆਖਰੀ ਸੁਨੇਹੇ ਵਿੱਚ \"saved\" ਸ਼ਬਦ ਸ਼ਾਮਲ ਹੋਵੇ। ਇਹ ਉਹਨਾਂ ਸਥਿਤੀਆਂ ਵਿੱਚ ਲਾਭਦਾਇਕ ਹੋ ਸਕਦਾ ਹੈ ਜਿੱਥੇ ਏਜੰਟ ਦਾ ਕੰਮ ਪੂਰਾ ਮੰਨਿਆ ਜਾਂਦਾ ਹੈ ਜਦੋਂ ਇਸਨੂੰ ਪੁਸ਼ਟੀ ਮਿਲਦੀ ਹੈ ਕਿ ਕੁਝ \"saved\" ਹੋ ਗਿਆ ਹੈ। ਇੰਟਰੈਕਸ਼ਨ ਵਿਧੀ ਨੂੰ ਪਰਿਭਾਸ਼ਿਤ ਕਰੋ। ਜਮ੍ਹਾ ਕਰਨ ਦੀ ਯੋਜਨਾ ਸੇਵ ਹੋਣ ਤੋਂ ਬਾਅਦ, ਸੇਵ ਸਿਗਨਲ ਪ੍ਰਾਪਤ ਹੋਣ 'ਤੇ ਇਸਨੂੰ ਰੋਕਿਆ ਜਾ ਸਕਦਾ ਹੈ।\n"
   ]
  },
  {
   "cell_type": "code",
   "execution_count": null,
   "metadata": {
    "dotnet_interactive": {
     "language": "csharp"
    },
    "polyglot_notebook": {
     "kernelName": "csharp"
    }
   },
   "outputs": [],
   "source": [
    "class ApprovalTerminationStrategy(TerminationStrategy):\n",
    "    \"\"\"A strategy for determining when an agent should terminate.\"\"\"\n",
    "\n",
    "    async def should_agent_terminate(self, agent, history):\n",
    "        \"\"\"Check if the agent should terminate.\"\"\"\n",
    "        return \"saved\" in history[-1].content.lower()"
   ]
  },
  {
   "cell_type": "markdown",
   "metadata": {},
   "source": [
    "# ਵਿਆਖਿਆ:\n",
    "\n",
    "ਇਹ ਕੋਡ ਦੀ ਲਾਈਨ create() ਮੈਥਡ ਨੂੰ ਕਾਲ ਕਰਕੇ ਇੱਕ AzureAIAgentSettings ਆਬਜੈਕਟ ਨੂੰ ਡਿਫਾਲਟ ਜਾਂ ਪਹਿਲੋਂ ਤੋਂ ਪਰਿਭਾਸ਼ਿਤ ਸੈਟਿੰਗਾਂ ਨਾਲ ਸ਼ੁਰੂ ਕਰਦੀ ਹੈ। ਇਹ ਸੈਟਿੰਗਾਂ ਵਾਲਾ ਆਬਜੈਕਟ (ai_agent_settings) ਫਿਰ ਇੱਕ AzureAIAgent ਇੰਸਟੈਂਸ ਨੂੰ ਕਨਫਿਗਰ ਅਤੇ ਪ੍ਰਬੰਧਿਤ ਕਰਨ ਲਈ ਵਰਤਿਆ ਜਾ ਸਕਦਾ ਹੈ।\n"
   ]
  },
  {
   "cell_type": "code",
   "execution_count": null,
   "metadata": {
    "dotnet_interactive": {
     "language": "csharp"
    },
    "polyglot_notebook": {
     "kernelName": "csharp"
    }
   },
   "outputs": [],
   "source": [
    "ai_agent_settings = AzureAIAgentSettings.create()"
   ]
  },
  {
   "cell_type": "markdown",
   "metadata": {},
   "source": [
    "# ਵਿਆਖਿਆ:\n",
    "requests ਲਾਇਬ੍ਰੇਰੀ ਨੂੰ ਇੰਪੋਰਟ ਕਰਕੇ, ਤੁਸੀਂ ਆਪਣੇ Python ਕੋਡ ਵਿੱਚ ਆਸਾਨੀ ਨਾਲ HTTP ਰਿਕਵੈਸਟ ਭੇਜ ਸਕਦੇ ਹੋ ਅਤੇ ਵੈੱਬ ਸੇਵਾਵਾਂ ਨਾਲ ਇੰਟਰੈਕਟ ਕਰ ਸਕਦੇ ਹੋ।\n"
   ]
  },
  {
   "cell_type": "code",
   "execution_count": null,
   "metadata": {
    "dotnet_interactive": {
     "language": "csharp"
    },
    "polyglot_notebook": {
     "kernelName": "csharp"
    }
   },
   "outputs": [],
   "source": [
    "import requests"
   ]
  },
  {
   "cell_type": "markdown",
   "metadata": {},
   "source": [
    "# ਵਿਆਖਿਆ:\n",
    "ਇਹ ਇੱਕ ਵੈਰੀਏਬਲ ਹੈ ਜੋ SERP (ਸਰਚ ਇੰਜਨ ਰਿਜਲਟਸ ਪੇਜ) API ਸੇਵਾ ਤੱਕ ਪਹੁੰਚ ਕਰਨ ਲਈ API ਕੁੰਜੀ ਸਟੋਰ ਕਰਦਾ ਹੈ। API ਕੁੰਜੀ ਇੱਕ ਵਿਲੱਖਣ ਪਛਾਣਕਰਤਾ ਹੁੰਦੀ ਹੈ ਜੋ ਤੁਹਾਡੇ ਖਾਤੇ ਨਾਲ ਜੁੜੀਆਂ ਬੇਨਤੀਆਂ ਦੀ ਪ੍ਰਮਾਣਿਕਤਾ ਲਈ ਵਰਤੀ ਜਾਂਦੀ ਹੈ।\n",
    "\n",
    "'GOOGLE_SEARCH_API_KEY': ਇਹ ਇੱਕ ਪਲੇਸਹੋਲਡਰ ਸਟ੍ਰਿੰਗ ਹੈ। ਤੁਹਾਨੂੰ ''GOOGLE_SEARCH_API_KEY'' ਨੂੰ ਆਪਣੀ ਅਸਲ SERP API ਕੁੰਜੀ ਨਾਲ ਬਦਲਣਾ ਹੋਵੇਗਾ।\n",
    "\n",
    "ਉਦੇਸ਼: ਇਸ ਲਾਈਨ ਦਾ ਉਦੇਸ਼ API ਕੁੰਜੀ ਨੂੰ ਇੱਕ ਵੈਰੀਏਬਲ ਵਿੱਚ ਸਟੋਰ ਕਰਨਾ ਹੈ ਤਾਂ ਜੋ ਇਸਨੂੰ SERP API ਸੇਵਾ ਲਈ ਬੇਨਤੀਆਂ ਦੀ ਪ੍ਰਮਾਣਿਕਤਾ ਲਈ ਵਰਤਿਆ ਜਾ ਸਕੇ। ਸੇਵਾ ਤੱਕ ਪਹੁੰਚ ਕਰਨ ਅਤੇ ਖੋਜਾਂ ਕਰਨ ਲਈ API ਕੁੰਜੀ ਦੀ ਲੋੜ ਹੁੰਦੀ ਹੈ।\n",
    "\n",
    "SERP API ਕੁੰਜੀ ਕਿਵੇਂ ਪ੍ਰਾਪਤ ਕਰਨੀ ਹੈ: SERP API ਕੁੰਜੀ ਪ੍ਰਾਪਤ ਕਰਨ ਲਈ, https://serpapi.com 'ਤੇ ਹੇਠਾਂ ਦਿੱਤੇ ਆਮ ਕਦਮਾਂ ਦੀ ਪਾਲਣਾ ਕਰੋ (ਸਪੱਸ਼ਟ ਕਦਮ ਤੁਹਾਡੇ ਦੁਆਰਾ ਵਰਤੇ ਜਾ ਰਹੇ ਖਾਸ SERP API ਸੇਵਾ 'ਤੇ ਨਿਰਭਰ ਕਰ ਸਕਦੇ ਹਨ):\n",
    "\n",
    "SERP API ਸੇਵਾ ਚੁਣੋ: ਕਈ SERP API ਸੇਵਾਵਾਂ ਉਪਲਬਧ ਹਨ, ਜਿਵੇਂ ਕਿ SerpAPI, Google Custom Search JSON API, ਅਤੇ ਹੋਰ। ਉਹ ਸੇਵਾ ਚੁਣੋ ਜੋ ਤੁਹਾਡੀਆਂ ਲੋੜਾਂ ਨੂੰ ਸਭ ਤੋਂ ਵਧੀਆ ਤਰੀਕੇ ਨਾਲ ਪੂਰਾ ਕਰਦੀ ਹੈ।\n",
    "\n",
    "ਖਾਤੇ ਲਈ ਸਾਈਨ ਅੱਪ ਕਰੋ:\n",
    "\n",
    "ਚੁਣੀ ਗਈ SERP API ਸੇਵਾ ਦੀ ਵੈਬਸਾਈਟ 'ਤੇ ਜਾਓ https://www.serpapi.com ਅਤੇ ਖਾਤੇ ਲਈ ਸਾਈਨ ਅੱਪ ਕਰੋ। ਤੁਹਾਨੂੰ ਕੁਝ ਮੁੱਢਲੀ ਜਾਣਕਾਰੀ ਦੇਣੀ ਪੈ ਸਕਦੀ ਹੈ ਅਤੇ ਆਪਣਾ ਈਮੇਲ ਪਤਾ ਪ੍ਰਮਾਣਿਤ ਕਰਨਾ ਪੈ ਸਕਦਾ ਹੈ।\n",
    "\n",
    "API ਕੁੰਜੀ ਬਣਾਓ:\n",
    "\n",
    "ਸਾਈਨ ਅੱਪ ਕਰਨ ਤੋਂ ਬਾਅਦ, ਆਪਣੇ ਖਾਤੇ ਵਿੱਚ ਲੌਗਇਨ ਕਰੋ ਅਤੇ API ਸੈਕਸ਼ਨ ਜਾਂ ਡੈਸ਼ਬੋਰਡ 'ਤੇ ਜਾਓ। ਨਵੀਂ API ਕੁੰਜੀ ਬਣਾਉਣ ਜਾਂ ਜਨਰੇਟ ਕਰਨ ਦਾ ਵਿਕਲਪ ਲੱਭੋ।\n",
    "API ਕੁੰਜੀ ਕਾਪੀ ਕਰੋ:\n",
    "\n",
    "ਜਦੋਂ API ਕੁੰਜੀ ਜਨਰੇਟ ਹੋ ਜਾਵੇ, ਇਸਨੂੰ ਕਾਪੀ ਕਰੋ। ਇਹ ਕੁੰਜੀ SERP API ਸੇਵਾ ਲਈ ਤੁਹਾਡੀਆਂ ਬੇਨਤੀਆਂ ਦੀ ਪ੍ਰਮਾਣਿਕਤਾ ਲਈ ਵਰਤੀ ਜਾਵੇਗੀ।\n",
    "ਪਲੇਸਹੋਲਡਰ ਬਦਲੋ:\n",
    "\n",
    "ਆਪਣੀ .env ਫਾਈਲ ਵਿੱਚ ਪਲੇਸਹੋਲਡਰ ਨੂੰ ਬਦਲੋ।\n"
   ]
  },
  {
   "cell_type": "code",
   "execution_count": null,
   "metadata": {
    "dotnet_interactive": {
     "language": "csharp"
    },
    "polyglot_notebook": {
     "kernelName": "csharp"
    }
   },
   "outputs": [],
   "source": [
    "SERPAPI_SEARCH_API_KEY=os.getenv('SERPAPI_SEARCH_API_KEY')"
   ]
  },
  {
   "cell_type": "code",
   "execution_count": null,
   "metadata": {
    "dotnet_interactive": {
     "language": "csharp"
    },
    "polyglot_notebook": {
     "kernelName": "csharp"
    }
   },
   "outputs": [],
   "source": [
    "SERPAPI_SEARCH_ENDPOINT = os.getenv('SERPAPI_SEARCH_ENDPOINT')"
   ]
  },
  {
   "cell_type": "markdown",
   "metadata": {},
   "source": [
    "# ਵਿਆਖਿਆ:\n",
    "\n",
    "BookingPlugin ਕਲਾਸ ਹੋਟਲ ਅਤੇ ਫਲਾਈਟਾਂ ਦੀ ਬੁਕਿੰਗ ਕਰਨ ਲਈ Serpapi.com ਗੂਗਲ ਸਰਚ API ਦੀ ਵਰਤੋਂ ਕਰਦੇ ਹੋਏ ਵਿਧੀਆਂ ਪ੍ਰਦਾਨ ਕਰਦੀ ਹੈ। ਇਹ ਲੋੜੀਂਦੇ ਪੈਰਾਮੀਟਰ ਬਣਾਉਂਦੀ ਹੈ, API ਬੇਨਤੀਆਂ ਭੇਜਦੀ ਹੈ, ਅਤੇ ਜਵਾਬਾਂ ਨੂੰ ਪ੍ਰਕਿਰਿਆ ਕਰਕੇ ਸਬੰਧਤ ਬੁਕਿੰਗ ਜਾਣਕਾਰੀ ਮੁਹੱਈਆ ਕਰਵਾਉਂਦੀ ਹੈ। API ਕੁੰਜੀ (SERPAPI_SEARCH_API_KEY) ਅਤੇ ਐਂਡਪੌਇੰਟ (SERPAPI_SEARCH_ENDPOINT) ਗੂਗਲ ਸਰਚ API ਨਾਲ ਪ੍ਰਮਾਣਿਕਤਾ ਅਤੇ ਬੇਨਤੀਆਂ ਭੇਜਣ ਲਈ ਵਰਤੇ ਜਾਂਦੇ ਹਨ।\n"
   ]
  },
  {
   "cell_type": "code",
   "execution_count": null,
   "metadata": {
    "dotnet_interactive": {
     "language": "csharp"
    },
    "polyglot_notebook": {
     "kernelName": "csharp"
    }
   },
   "outputs": [],
   "source": [
    "# Define Booking Plugin\n",
    "class BookingPlugin:\n",
    "    \"\"\"Booking Plugin for customers\"\"\"\n",
    "    @kernel_function(description=\"booking hotel\")\n",
    "    def booking_hotel(self,query: Annotated[str, \"The name of the city\"], check_in_date: Annotated[str, \"Hotel Check-in Time\"], check_out_date: Annotated[str, \"Hotel Check-in Time\"])-> Annotated[str, \"Return the result of booking hotel infomation\"]:\n",
    "\n",
    "        params = {\n",
    "            \"engine\": \"google_hotels\",\n",
    "            \"q\": query,\n",
    "            \"check_in_date\": check_in_date,\n",
    "            \"check_out_date\": check_out_date,\n",
    "            \"adults\": \"2\",\n",
    "            \"currency\": \"USD\",\n",
    "            \"gl\": \"us\",\n",
    "            \"hl\": \"en\",\n",
    "            \"api_key\": SERPAPI_SEARCH_API_KEY\n",
    "        }\n",
    "\n",
    "        response = requests.get(SERPAPI_SEARCH_ENDPOINT, params=params)\n",
    "        if response.status_code == 200:\n",
    "            response = response.json()\n",
    "            return response[\"properties\"]\n",
    "        else:\n",
    "            return None\n",
    "\n",
    "    \n",
    "    @kernel_function(description=\"booking fight\")\n",
    "    def  booking_fight(self,origin: Annotated[str, \"The name of Departure\"], destination: Annotated[str, \"The name of Destination\"], outbound_date: Annotated[str, \"The date of outbound\"], return_date: Annotated[str, \"The date of Return_date\"])-> Annotated[str, \"Return the result of booking fight infomation\"]:\n",
    "        \n",
    "        go_params = {\n",
    "            \"engine\": \"google_flights\",   \n",
    "            \"departure_id\": origin,\n",
    "            \"arrival_id\": destination,\n",
    "            \"outbound_date\": outbound_date,\n",
    "            \"return_date\": return_date,  \n",
    "            \"currency\": \"USD\",\n",
    "            \"hl\": \"en\",\n",
    "            \"api_key\": SERPAPI_SEARCH_API_KEY  \n",
    "        }\n",
    "\n",
    "        print(go_params)\n",
    "\n",
    "        go_response = requests.get(SERPAPI_SEARCH_ENDPOINT, params=go_params)\n",
    "\n",
    "\n",
    "        result = ''\n",
    "\n",
    "        if go_response.status_code == 200:\n",
    "            response = go_response.json()\n",
    "\n",
    "            result += \"# outbound \\n \" + str(response)\n",
    "        else:\n",
    "            print('error!!!')\n",
    "            # return None\n",
    "\n",
    "        \n",
    "        back_params = {\n",
    "            \"engine\": \"google_flights\",   \n",
    "            \"departure_id\": destination,\n",
    "            \"arrival_id\": origin,\n",
    "            \"outbound_date\": return_date,\n",
    "            \"return_date\": return_date,  \n",
    "            \"currency\": \"USD\",\n",
    "            \"hl\": \"en\",\n",
    "            \"api_key\": SERPAPI_SEARCH_API_KEY  \n",
    "        }\n",
    "\n",
    "\n",
    "        print(back_params)\n",
    "\n",
    "\n",
    "        back_response = requests.get(SERPAPI_SEARCH_ENDPOINT, params=back_params)\n",
    "\n",
    "\n",
    "\n",
    "        if back_response.status_code == 200:\n",
    "            response = back_response.json()\n",
    "\n",
    "            result += \"\\n # return \\n\"  + str(response)\n",
    "\n",
    "        else:\n",
    "            print('error!!!')\n",
    "            # return None\n",
    "        \n",
    "        print(result)\n",
    "\n",
    "        return result\n",
    "\n",
    "        \n"
   ]
  },
  {
   "cell_type": "markdown",
   "metadata": {},
   "source": [
    "# ਵਿਆਖਿਆ:\n",
    "SavePlugin ਕਲਾਸ ਇੱਕ ਮੈਥਡ saving_plan ਪ੍ਰਦਾਨ ਕਰਦੀ ਹੈ ਜੋ Azure AI ਸੇਵਾਵਾਂ ਦੀ ਵਰਤੋਂ ਕਰਕੇ ਯਾਤਰਾ ਯੋਜਨਾਵਾਂ ਨੂੰ ਸੇਵ ਕਰਦੀ ਹੈ। ਇਹ Azure ਪ੍ਰਮਾਣ ਪੱਤਰ ਸੈੱਟ ਕਰਦੀ ਹੈ, ਇੱਕ AI ਏਜੰਟ ਬਣਾਉਂਦੀ ਹੈ, ਯੂਜ਼ਰ ਇਨਪੁਟ ਨੂੰ ਪ੍ਰਕਿਰਿਆ ਕਰਦੀ ਹੈ ਤਾਂ ਜੋ ਯਾਤਰਾ ਯੋਜਨਾ ਦੀ ਸਮੱਗਰੀ ਤਿਆਰ ਅਤੇ ਸੇਵ ਕੀਤੀ ਜਾ ਸਕੇ, ਅਤੇ ਫਾਈਲ ਸੇਵ ਕਰਨ ਅਤੇ ਸਾਫ਼-ਸੁਥਰਾ ਕਰਨ ਦੇ ਕੰਮਾਂ ਨੂੰ ਸੰਭਾਲਦੀ ਹੈ। ਮੈਥਡ ਸਫਲਤਾਪੂਰਵਕ ਪੂਰਾ ਹੋਣ 'ਤੇ \"Saved\" ਵਾਪਸ ਕਰਦੀ ਹੈ।\n"
   ]
  },
  {
   "cell_type": "code",
   "execution_count": null,
   "metadata": {
    "dotnet_interactive": {
     "language": "csharp"
    },
    "polyglot_notebook": {
     "kernelName": "csharp"
    }
   },
   "outputs": [],
   "source": [
    "class SavePlugin:\n",
    "    \"\"\"Save Plugin for customers\"\"\"\n",
    "    @kernel_function(description=\"saving plan\")\n",
    "    async def saving_plan(self,tripplan: Annotated[str, \"The content of trip plan\"])-> Annotated[str, \"Return status of save content\"]:\n",
    "\n",
    "        async with (\n",
    "            DefaultAzureCredential() as creds,\n",
    "            AzureAIAgent.create_client(\n",
    "                credential=creds,\n",
    "                conn_str=ai_agent_settings.project_connection_string.get_secret_value(),\n",
    "            ) as client,\n",
    "        ):\n",
    "\n",
    "            code_interpreter = CodeInterpreterTool()\n",
    "            \n",
    "            agent_definition = await client.agents.create_agent(\n",
    "                model=ai_agent_settings.model_deployment_name,\n",
    "                tools=code_interpreter.definitions,\n",
    "                tool_resources=code_interpreter.resources,\n",
    "            )\n",
    "\n",
    "\n",
    "            agent = AzureAIAgent(\n",
    "                client=client,\n",
    "                definition=agent_definition,\n",
    "            )\n",
    "\n",
    "            thread = await client.agents.create_thread()\n",
    "\n",
    "\n",
    "            user_inputs = [\n",
    "                \"\"\"\n",
    "            \n",
    "                        You are my Python programming assistant. Generate code,save \"\"\"+ tripplan +\n",
    "                        \n",
    "                    \"\"\"    \n",
    "                        and execute it according to the following requirements\n",
    "\n",
    "                        1. Save blog content to trip-{YYMMDDHHMMSS}.md\n",
    "\n",
    "                        2. give me the download this file link\n",
    "                    \"\"\"\n",
    "            ]\n",
    "\n",
    "\n",
    "\n",
    "            try:\n",
    "                for user_input in user_inputs:\n",
    "                    # Add the user input as a chat message\n",
    "                    await agent.add_chat_message(\n",
    "                        thread_id=thread.id, message=ChatMessageContent(role=AuthorRole.USER, content=user_input)\n",
    "                    )\n",
    "                    print(f\"# User: '{user_input}'\")\n",
    "                    # Invoke the agent for the specified thread\n",
    "                    async for content in agent.invoke(thread_id=thread.id):\n",
    "                        if content.role != AuthorRole.TOOL:\n",
    "                            print(f\"# Agent: {content.content}\")\n",
    "\n",
    "                    \n",
    "                    messages = await client.agents.list_messages(thread_id=thread.id)\n",
    "\n",
    "                    # OpenAIPageableListOfThreadMessage\n",
    "                    # OpenAIPageableListOfThreadMessage\n",
    "\n",
    "\n",
    "                    for file_path_annotation in messages.file_path_annotations:\n",
    "\n",
    "                            file_name = os.path.basename(file_path_annotation.text)\n",
    "\n",
    "                            await client.agents.save_file(file_id=file_path_annotation.file_path.file_id, file_name=file_name,target_dir=\"./trip\")\n",
    "\n",
    "                    \n",
    "            finally:\n",
    "                await client.agents.delete_thread(thread.id)\n",
    "                await client.agents.delete_agent(agent.id)\n",
    "\n",
    "\n",
    "        return \"Saved\""
   ]
  },
  {
   "cell_type": "markdown",
   "metadata": {},
   "source": [
    "# ਵਿਆਖਿਆ:\n",
    "ਇਹ ਕੋਡ Azure AI ਏਜੰਟਾਂ ਨੂੰ ਉਡਾਨਾਂ ਅਤੇ ਹੋਟਲਾਂ ਦੀ ਬੁਕਿੰਗ ਕਰਨ ਅਤੇ ਯਾਤਰਾ ਯੋਜਨਾਵਾਂ ਨੂੰ ਯੂਜ਼ਰ ਦੀਆਂ ਇਨਪੁਟਾਂ ਦੇ ਆਧਾਰ 'ਤੇ ਸੇਵ ਕਰਨ ਲਈ ਸੈਟਅੱਪ ਕਰਦਾ ਹੈ। ਇਹ Azure ਦੀਆਂ ਸਨਦਾਂ ਦੀ ਵਰਤੋਂ ਕਰਕੇ ਏਜੰਟਾਂ ਨੂੰ ਬਣਾਉਂਦਾ ਅਤੇ ਸੰਰਚਿਤ ਕਰਦਾ ਹੈ, ਯੂਜ਼ਰ ਦੀਆਂ ਇਨਪੁਟਾਂ ਨੂੰ ਇੱਕ ਗਰੁੱਪ ਚੈਟ ਰਾਹੀਂ ਪ੍ਰਕਿਰਿਆ ਕਰਦਾ ਹੈ, ਅਤੇ ਕੰਮ ਮੁਕੰਮਲ ਹੋਣ ਤੋਂ ਬਾਅਦ ਸਹੀ ਤਰੀਕੇ ਨਾਲ ਸਾਫ਼ਸੁਥਰਾ ਕਰਨਾ ਯਕੀਨੀ ਬਣਾਉਂਦਾ ਹੈ। ਏਜੰਟ ਆਪਣੇ-ਆਪਣੇ ਕੰਮ ਕਰਨ ਲਈ ਖਾਸ ਪਲੱਗਇਨ (BookingPlugin ਅਤੇ SavePlugin) ਦੀ ਵਰਤੋਂ ਕਰਦੇ ਹਨ।\n"
   ]
  },
  {
   "cell_type": "code",
   "execution_count": null,
   "metadata": {
    "dotnet_interactive": {
     "language": "csharp"
    },
    "polyglot_notebook": {
     "kernelName": "csharp"
    }
   },
   "outputs": [],
   "source": [
    "async with (\n",
    "    DefaultAzureCredential() as creds,\n",
    "    AzureAIAgent.create_client(\n",
    "        credential=creds,\n",
    "        conn_str=ai_agent_settings.project_connection_string.get_secret_value(),\n",
    "    ) as client,\n",
    "):\n",
    "    BOOKING_AGENT_NAME = \"BookingAgent\"\n",
    "    BOOKING_AGENT_INSTRUCTIONS = \"\"\"\n",
    "    You are a booking agent. Help me book flights or hotels.\n",
    "\n",
    "    Thought: Please understand the user's intention and confirm whether to use the reservation system to complete the task.\n",
    "\n",
    "    Actions:\n",
    "    - For flight bookings, convert the departure and destination names into airport codes.\n",
    "    - Use the appropriate API for hotel or flight bookings. Verify that all necessary parameters are available. If any parameters are missing, ask the user to provide them. If all parameters are complete, call the corresponding function.\n",
    "    - If the task is not related to hotel or flight booking, respond with the final answer only.\n",
    "    - Output the results using a markdown table:\n",
    "      - For flight bookings, output separate outbound and return contents in the order of:\n",
    "        Departure Airport | Airline | Flight Number | Departure Time | Arrival Airport | Arrival Time | Duration | Airplane | Travel Class | Price (USD) | Legroom | Extensions | Carbon Emissions (kg).\n",
    "      - For hotel bookings, output in the order of:\n",
    "        Property Name | Property Description | Check-in Time | Check-out Time | Prices | Nearby Places | Hotel Class | GPS Coordinates.\n",
    "    \"\"\"\n",
    "\n",
    "    SAVE_AGENT_NAME = \"SaveAgent\"\n",
    "    SAVE_AGENT_INSTRUCTIONS = \"\"\"\n",
    "    You are a save tool agent. Help me to save the trip plan.\n",
    "    \"\"\"\n",
    "\n",
    "    # Create agent definition\n",
    "    booking_agent_definition = await client.agents.create_agent(\n",
    "        model=ai_agent_settings.model_deployment_name,\n",
    "        name=BOOKING_AGENT_NAME,\n",
    "        instructions=BOOKING_AGENT_INSTRUCTIONS,\n",
    "    )\n",
    "\n",
    "    # Create the AzureAI Agent\n",
    "    booking_agent = AzureAIAgent(\n",
    "        client=client,\n",
    "        definition=booking_agent_definition,\n",
    "        # Optionally configure polling options\n",
    "        # polling_options=RunPollingOptions(run_polling_interval=timedelta(seconds=1)),\n",
    "    )\n",
    "\n",
    "    # Add the sample plugin to the kernel\n",
    "    booking_agent.kernel.add_plugin(BookingPlugin(), plugin_name=\"booking\")\n",
    "\n",
    "    # Create agent definition\n",
    "    save_agent_definition = await client.agents.create_agent(\n",
    "        model=ai_agent_settings.model_deployment_name,\n",
    "        name=SAVE_AGENT_NAME,\n",
    "        instructions=SAVE_AGENT_INSTRUCTIONS\n",
    "    )\n",
    "\n",
    "    # Create the AzureAI Agent\n",
    "    save_agent = AzureAIAgent(\n",
    "        client=client,\n",
    "        definition=save_agent_definition,\n",
    "    )\n",
    "\n",
    "    save_agent.kernel.add_plugin(SavePlugin(), plugin_name=\"saving\")\n",
    "\n",
    "    user_inputs = [\n",
    "        \"I have a business trip from London to New York in Feb 20 2025 to Feb 27 2025 ,help me to book a hotel and fight tickets and save it\"\n",
    "    ]\n",
    "\n",
    "    chat = AgentGroupChat(\n",
    "        agents=[booking_agent, save_agent],\n",
    "        termination_strategy=ApprovalTerminationStrategy(agents=[save_agent], maximum_iterations=10),\n",
    "    )\n",
    "\n",
    "    try:\n",
    "        for user_input in user_inputs:\n",
    "            # Add the user input as a chat message\n",
    "            await chat.add_chat_message(\n",
    "                ChatMessageContent(role=AuthorRole.USER, content=user_input)\n",
    "            )\n",
    "            print(f\"# User: '{user_input}'\")\n",
    "\n",
    "            async for content in chat.invoke():\n",
    "                print(f\"# {content.role} - {content.name or '*'}: '{content.content}'\")\n",
    "\n",
    "            print(f\"# IS COMPLETE: {chat.is_complete}\")\n",
    "\n",
    "            print(\"*\" * 60)\n",
    "            print(\"Chat History (In Descending Order):\\n\")\n",
    "            async for message in chat.get_chat_messages(agent=save_agent):\n",
    "                print(f\"# {message.role} - {message.name or '*'}: '{message.content}'\")\n",
    "    finally:\n",
    "        await chat.reset()\n",
    "        await client.agents.delete_agent(save_agent.id)\n",
    "        await client.agents.delete_agent(booking_agent.id)\n"
   ]
  },
  {
   "cell_type": "markdown",
   "metadata": {},
   "source": [
    "\n---\n\n**ਅਸਵੀਕਰਤੀ**:  \nਇਹ ਦਸਤਾਵੇਜ਼ AI ਅਨੁਵਾਦ ਸੇਵਾ [Co-op Translator](https://github.com/Azure/co-op-translator) ਦੀ ਵਰਤੋਂ ਕਰਕੇ ਅਨੁਵਾਦ ਕੀਤਾ ਗਿਆ ਹੈ। ਜਦੋਂ ਕਿ ਅਸੀਂ ਸਹੀ ਹੋਣ ਦਾ ਯਤਨ ਕਰਦੇ ਹਾਂ, ਕਿਰਪਾ ਕਰਕੇ ਧਿਆਨ ਦਿਓ ਕਿ ਸਵੈਚਾਲਿਤ ਅਨੁਵਾਦਾਂ ਵਿੱਚ ਗਲਤੀਆਂ ਜਾਂ ਅਸੁੱਛਤਾਵਾਂ ਹੋ ਸਕਦੀਆਂ ਹਨ। ਇਸ ਦੀ ਮੂਲ ਭਾਸ਼ਾ ਵਿੱਚ ਮੌਜੂਦ ਮੂਲ ਦਸਤਾਵੇਜ਼ ਨੂੰ ਪ੍ਰਮਾਣਿਕ ਸਰੋਤ ਮੰਨਿਆ ਜਾਣਾ ਚਾਹੀਦਾ ਹੈ। ਮਹੱਤਵਪੂਰਨ ਜਾਣਕਾਰੀ ਲਈ, ਪੇਸ਼ੇਵਰ ਮਨੁੱਖੀ ਅਨੁਵਾਦ ਦੀ ਸਿਫਾਰਸ਼ ਕੀਤੀ ਜਾਂਦੀ ਹੈ। ਇਸ ਅਨੁਵਾਦ ਦੇ ਪ੍ਰਯੋਗ ਤੋਂ ਪੈਦਾ ਹੋਣ ਵਾਲੇ ਕਿਸੇ ਵੀ ਗਲਤਫਹਿਮੀ ਜਾਂ ਗਲਤ ਵਿਆਖਿਆ ਲਈ ਅਸੀਂ ਜ਼ਿੰਮੇਵਾਰ ਨਹੀਂ ਹਾਂ।  \n"
   ]
  }
 ],
 "metadata": {
  "kernelspec": {
   "display_name": "3.12.1",
   "language": "python",
   "name": "python3"
  },
  "language_info": {
   "codemirror_mode": {
    "name": "ipython",
    "version": 3
   },
   "file_extension": ".py",
   "mimetype": "text/x-python",
   "name": "python",
   "nbconvert_exporter": "python",
   "pygments_lexer": "ipython3",
   "version": "3.12.1"
  },
  "polyglot_notebook": {
   "kernelInfo": {
    "defaultKernelName": "csharp",
    "items": [
     {
      "aliases": [],
      "name": "csharp"
     }
    ]
   }
  },
  "coopTranslator": {
   "original_hash": "1baa60020a95eda27b7e9ecfda99965b",
   "translation_date": "2025-08-29T11:34:12+00:00",
   "source_file": "08-multi-agent/code_samples/08-python_multi_aiagent_bookinghotel.ipynb",
   "language_code": "pa"
  }
 },
 "nbformat": 4,
 "nbformat_minor": 2
}