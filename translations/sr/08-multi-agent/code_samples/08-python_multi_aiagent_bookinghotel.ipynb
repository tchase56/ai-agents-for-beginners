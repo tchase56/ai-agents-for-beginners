{
 "cells": [
  {
   "cell_type": "markdown",
   "metadata": {},
   "source": [
    "## **Примери: Више-АИ агенти за резервацију хотела**\n",
    "\n",
    "У данашњем брзом свету, планирање пословног путовања подразумева више од само резервације лета и хотелске собе. Потребан је ниво координације и ефикасности који може бити изазовно постићи. Овде на сцену ступају Више-АИ агенти, који револуционишу начин на који управљамо нашим путовањима.\n",
    "\n",
    "Замислите тим интелигентних агената на вашем располагању, који заједно раде на томе да сваки аспект вашег путовања буде обрађен са прецизношћу и лакоћом. Уз нашу напредну АИ технологију, креирали смо специјализоване агенте за услуге резервације и организацију итинерера, обезбеђујући беспрекорно и без стреса искуство путовања.\n",
    "\n",
    "Ово је основни сценарио. Када планирамо пословно путовање, потребно је да се консултујемо са агентом за пословна путовања како бисмо добили информације о авионским картама, хотелима и слично. Кроз АИ агенте, можемо изградити агенте за услуге резервације и агенте за организацију итинерера који ће сарађивати и побољшати ниво интелигенције.\n"
   ]
  },
  {
   "cell_type": "markdown",
   "metadata": {},
   "source": [
    "# Иницијализација Azure AI Agent Service и добијање информација о конфигурацији из **.env**\n",
    "\n",
    "### **.env**\n",
    "\n",
    "Креирајте .env датотеку\n",
    "\n",
    "**.env** садржи стринг за повезивање са Azure AI Agent Service, модел који користи AOAI, као и одговарајући Google API Search сервис API, ENDPOINT, итд.\n",
    "\n",
    "- **AZURE_AI_AGENT_MODEL_DEPLOYMENT_NAME** = \"Назив вашег Azure AI Agent Service модела за распоређивање\"\n",
    "\n",
    "[**NOTE**] Биће вам потребан модел са ограничењем од 100,000 токена у минути (Rate Limit) и ограничењем од 600 захтева у минути (Request per minute).\n",
    "\n",
    "  Модел можете добити у Azure AI Foundry - Model and Endpoint.\n",
    "\n",
    "- **AZURE_AI_AGENT_PROJECT_CONNECTION_STRING** = \"Стринг за повезивање вашег Azure AI Agent Service пројекта\"\n",
    "\n",
    "  Стринг за повезивање пројекта можете добити у прегледу вашег пројекта на AI Foundry Portal екрану.\n",
    "\n",
    "- **SERPAPI_SEARCH_API_KEY** = \"Ваш SERPAPI Search API КЉУЧ\"\n",
    "- **SERPAPI_SEARCH_ENDPOINT** = \"Ваш SERPAPI Search Endpoint\"\n",
    "\n",
    "Да бисте добили Назив модела за распоређивање и Стринг за повезивање пројекта Azure AI Agent Service, потребно је да креирате Azure AI Agent Service. Препоручује се коришћење [овог шаблона](https://portal.azure.com/#create/Microsoft.Template/uri/https%3A%2F%2Fraw.githubusercontent.com%2Ffosteramanda%2Fazure-agent-quickstart-templates%2Frefs%2Fheads%2Fmaster%2Fquickstarts%2Fmicrosoft.azure-ai-agent-service%2Fstandard-agent%2Fazuredeploy.json) за директно креирање. (***Напомена:*** Azure AI Agent Service је тренутно доступан у ограниченим регионима. Препоручује се да се консултујете са [овим линком](https://learn.microsoft.com/en-us/azure/ai-services/agents/concepts/model-region-support) за подешавање региона.)\n",
    "\n",
    "Агенту је потребан приступ SERPAPI. Препоручује се регистрација путем [овог линка](https://serpapi.com/searches). Након регистрације, можете добити јединствени API КЉУЧ и ENDPOINT.\n"
   ]
  },
  {
   "cell_type": "markdown",
   "metadata": {},
   "source": [
    "# Пријављивање на Azure\n",
    "\n",
    "Сада треба да се пријавите на Azure. Отворите терминал у VScode и покрените команду `az login`.\n"
   ]
  },
  {
   "cell_type": "markdown",
   "metadata": {},
   "source": [
    "# Подешавање\n",
    "\n",
    "Да бисте покренули овај нотебук, потребно је да инсталирате следеће библиотеке. Ево списка потребних библиотека и одговарајућих команди за инсталацију помоћу pip-а:\n",
    "\n",
    "azure-identity: За Azure аутентификацију.  \n",
    "requests: За слање HTTP захтева.  \n",
    "semantic-kernel: За оквир семантичког језгра (под претпоставком да је ово прилагођена или специфична библиотека, можда ћете морати да је инсталирате са одређеног извора или репозиторијума).  \n"
   ]
  },
  {
   "cell_type": "code",
   "execution_count": null,
   "metadata": {},
   "outputs": [],
   "source": [
    "!pip install azure-identity\n",
    "!pip install requests\n",
    "!pip install semantic-kernel\n",
    "!pip install --upgrade semantic_kernel\n",
    "!pip install azure-cli"
   ]
  },
  {
   "cell_type": "markdown",
   "metadata": {},
   "source": [
    "# Објашњење:  \n",
    "import asyncio: Ово увози модул asyncio, који пружа подршку за асинхроно програмирање у Пајтону. Омогућава вам да пишете конкурентни код користећи синтаксу async и await.  \n",
    "from typing: Annotated: Ово увози тип Annotated из модула typing. Annotated се користи за додавање метаподатака у типске назнаке, што може бити корисно за различите сврхе као што су валидација, документација или алати.  \n"
   ]
  },
  {
   "cell_type": "code",
   "execution_count": null,
   "metadata": {
    "dotnet_interactive": {
     "language": "csharp"
    },
    "polyglot_notebook": {
     "kernelName": "csharp"
    }
   },
   "outputs": [],
   "source": [
    "import asyncio,os\n",
    "from typing import Annotated"
   ]
  },
  {
   "cell_type": "markdown",
   "metadata": {},
   "source": [
    "# Објашњење:\n",
    "Коришћењем `from dotenv import load_dotenv` и `load_dotenv()`, можете лако управљати подешавањима конфигурације и осетљивим информацијама (као што су API кључеви и URL-ови база података) у `.env` датотеци, држећи их одвојено од изворног кода и чинећи вашу апликацију безбеднијом и једноставнијом за конфигурисање.\n"
   ]
  },
  {
   "cell_type": "code",
   "execution_count": null,
   "metadata": {},
   "outputs": [],
   "source": [
    "import os\n",
    "from dotenv import load_dotenv\n",
    "\n",
    "# Load environment variables from .env file\n",
    "load_dotenv()"
   ]
  },
  {
   "cell_type": "markdown",
   "metadata": {},
   "source": [
    "# Објашњење:\n",
    "\n",
    "Изјава за увоз: from azure.identity.aio import DefaultAzureCredential: Овим се увози класа DefaultAzureCredential из модула azure.identity.aio. Део \"aio\" у имену модула указује на то да је дизајниран за асинхроне операције.\n",
    "\n",
    "Сврха DefaultAzureCredential: Класа DefaultAzureCredential је део Azure SDK за Python. Она пружа подразумевани начин за аутентификацију са Azure услугама. Покушава да се аутентификује користећи више метода у одређеном редоследу, као што су променљиве окружења, управљани идентитет и Azure CLI акредитиви.\n",
    "\n",
    "Асинхроне операције: Модул \"aio\" указује на то да класа DefaultAzureCredential подржава асинхроне операције. То значи да можете да је користите са asyncio за извршавање захтева за аутентификацију без блокирања.\n"
   ]
  },
  {
   "cell_type": "code",
   "execution_count": null,
   "metadata": {
    "dotnet_interactive": {
     "language": "csharp"
    },
    "polyglot_notebook": {
     "kernelName": "csharp"
    }
   },
   "outputs": [],
   "source": [
    "from azure.identity.aio import DefaultAzureCredential"
   ]
  },
  {
   "cell_type": "markdown",
   "metadata": {},
   "source": [
    "# Објашњење:\n",
    "Увоз различитих модула и класа из пакета semantic_kernel. Ево детаљног прегледа сваког увоза:\n",
    "\n",
    "AgentGroupChat из semantic_kernel.agents: Ова класа управља функционалностима везаним за групни чет за AI агенте. AzureAIAgent и AzureAIAgentSettings из semantic_kernel.agents.azure_ai\n",
    "\n",
    "AzureAIAgent: Ова класа се користи за креирање и управљање AI агентима који користе Azure AI услуге.\n",
    "\n",
    "AzureAIAgentSettings: Ова класа се користи за конфигурисање подешавања за AzureAIAgent. TerminationStrategy из semantic_kernel.agents.strategies.termination.termination_strategy:\n",
    "\n",
    "Ова класа дефинише стратегије за прекид извршавања AI агената под одређеним условима. ChatMessageContent из semantic_kernel.contents.chat_message_content:\n",
    "\n",
    "Ова класа се користи за управљање садржајем чет порука.\n",
    "AuthorRole из semantic_kernel.contents.utils.author_role:\n",
    "\n",
    "Ова класа дефинише различите улоге аутора у контексту чет порука.\n",
    "\n",
    "kernel_function из semantic_kernel.functions.kernel_function_decorator: Овај декоратор се користи за дефинисање kernel функција, које су функције које се могу извршавати у оквиру semantic kernel оквира.\n",
    "Ови увози постављају неопходне компоненте за креирање и управљање AI агентима који могу да комуницирају у окружењу групног чета, могуће за задатке као што је резервација хотела или сличне активности.\n"
   ]
  },
  {
   "cell_type": "code",
   "execution_count": null,
   "metadata": {
    "dotnet_interactive": {
     "language": "csharp"
    },
    "polyglot_notebook": {
     "kernelName": "csharp"
    }
   },
   "outputs": [],
   "source": [
    "from semantic_kernel.agents import AgentGroupChat\n",
    "from semantic_kernel.agents import AzureAIAgent, AzureAIAgentSettings\n",
    "from semantic_kernel.agents.strategies.termination.termination_strategy import TerminationStrategy\n",
    "from semantic_kernel.contents import ChatMessageContent\n",
    "from semantic_kernel.contents import AuthorRole\n",
    "from semantic_kernel.functions.kernel_function_decorator import kernel_function"
   ]
  },
  {
   "cell_type": "markdown",
   "metadata": {},
   "source": [
    "# Објашњење:\n",
    "Следеће увозимо класу CodeInterpreterTool из модула azure.ai.projects.models.\n",
    "\n",
    "CodeInterpreterTool: Ова класа је део Azure AI SDK-а и користи се за интерпретацију и извршавање кода у контексту AI пројеката. Пружа функционалности за покретање делова кода, анализу кода или интеграцију извршавања кода у оквиру AI радних токова.  \n",
    "Овај увоз поставља неопходну компоненту за коришћење CodeInterpreterTool-а у вашем пројекту, што може бити корисно за задатке који укључују динамичку интерпретацију и извршавање кода.\n"
   ]
  },
  {
   "cell_type": "code",
   "execution_count": null,
   "metadata": {
    "dotnet_interactive": {
     "language": "csharp"
    },
    "polyglot_notebook": {
     "kernelName": "csharp"
    }
   },
   "outputs": [],
   "source": [
    "from azure.ai.projects.models import CodeInterpreterTool"
   ]
  },
  {
   "cell_type": "markdown",
   "metadata": {},
   "source": [
    "# Објашњење: \n",
    "Класа ApprovalTerminationStrategy пружа специфичну стратегију за прекид рада AI агента. Агент ће прекинути рад ако последња порука у историји интеракције садржи реч \"saved\". Ово може бити корисно у ситуацијама где се задатак агента сматра завршеним када добије потврду да је нешто \"saved\". Дефинишите метод интеракције. Након што је план резервације сачуван, може се зауставити када прими сигнал \"saved\".\n"
   ]
  },
  {
   "cell_type": "code",
   "execution_count": null,
   "metadata": {
    "dotnet_interactive": {
     "language": "csharp"
    },
    "polyglot_notebook": {
     "kernelName": "csharp"
    }
   },
   "outputs": [],
   "source": [
    "class ApprovalTerminationStrategy(TerminationStrategy):\n",
    "    \"\"\"A strategy for determining when an agent should terminate.\"\"\"\n",
    "\n",
    "    async def should_agent_terminate(self, agent, history):\n",
    "        \"\"\"Check if the agent should terminate.\"\"\"\n",
    "        return \"saved\" in history[-1].content.lower()"
   ]
  },
  {
   "cell_type": "markdown",
   "metadata": {},
   "source": [
    "# Објашњење:\n",
    "\n",
    "Овај ред кода иницијализује објекат AzureAIAgentSettings са подразумеваним или унапред дефинисаним подешавањима позивањем методе create(). Овај објекат подешавања (ai_agent_settings) затим се може користити за конфигурисање и управљање AzureAIAgent инстанцом.\n"
   ]
  },
  {
   "cell_type": "code",
   "execution_count": null,
   "metadata": {
    "dotnet_interactive": {
     "language": "csharp"
    },
    "polyglot_notebook": {
     "kernelName": "csharp"
    }
   },
   "outputs": [],
   "source": [
    "ai_agent_settings = AzureAIAgentSettings.create()"
   ]
  },
  {
   "cell_type": "markdown",
   "metadata": {},
   "source": [
    "# Објашњење:\n",
    "Увозом библиотеке requests, можете лако правити HTTP захтеве и комуницирати са веб сервисима у вашем Python коду.\n"
   ]
  },
  {
   "cell_type": "code",
   "execution_count": null,
   "metadata": {
    "dotnet_interactive": {
     "language": "csharp"
    },
    "polyglot_notebook": {
     "kernelName": "csharp"
    }
   },
   "outputs": [],
   "source": [
    "import requests"
   ]
  },
  {
   "cell_type": "markdown",
   "metadata": {},
   "source": [
    "# Објашњење:\n",
    "Ово је променљива која чува API кључ за приступ SERP (страница резултата претраживача) API услузи. API кључ је јединствени идентификатор који се користи за аутентификацију захтева повезаних са вашим налогом.\n",
    "\n",
    "'GOOGLE_SEARCH_API_KEY': Ово је привремени текст. Потребно је да замените ''GOOGLE_SEARCH_API_KEY' са вашим стварним SERP API кључем.\n",
    "\n",
    "Сврха: Сврха ове линије је да се API кључ сачува у променљивој како би се могао користити за аутентификацију захтева ка SERP API услузи. API кључ је неопходан за приступ услузи и извршавање претрага.\n",
    "\n",
    "Како добити SERP API кључ: Да бисте добили SERP API кључ, следите ове опште кораке на https://serpapi.com (тачни кораци могу варирати у зависности од специфичне SERP API услуге коју користите):\n",
    "\n",
    "Изаберите SERP API услугу: Постоји неколико доступних SERP API услуга, као што су SerpAPI, Google Custom Search JSON API и друге. Изаберите ону која најбоље одговара вашим потребама.\n",
    "\n",
    "Региструјте се за налог:\n",
    "\n",
    "Идите на веб-сајт изабране SERP API услуге https://www.serpapi.com и региструјте се за налог. Можда ће бити потребно да пружите основне информације и потврдите своју имејл адресу.\n",
    "\n",
    "Креирајте API кључ:\n",
    "\n",
    "Након регистрације, пријавите се на свој налог и идите на секцију API или контролни панел. Потражите опцију за креирање или генерисање новог API кључа.\n",
    "Копирајте API кључ:\n",
    "\n",
    "Када се API кључ генерише, копирајте га. Овај кључ ће се користити за аутентификацију ваших захтева ка SERP API услузи.\n",
    "Замените привремени текст:\n",
    "\n",
    "Замените привремени текст у вашем .env фајлу.\n"
   ]
  },
  {
   "cell_type": "code",
   "execution_count": null,
   "metadata": {
    "dotnet_interactive": {
     "language": "csharp"
    },
    "polyglot_notebook": {
     "kernelName": "csharp"
    }
   },
   "outputs": [],
   "source": [
    "SERPAPI_SEARCH_API_KEY=os.getenv('SERPAPI_SEARCH_API_KEY')"
   ]
  },
  {
   "cell_type": "code",
   "execution_count": null,
   "metadata": {
    "dotnet_interactive": {
     "language": "csharp"
    },
    "polyglot_notebook": {
     "kernelName": "csharp"
    }
   },
   "outputs": [],
   "source": [
    "SERPAPI_SEARCH_ENDPOINT = os.getenv('SERPAPI_SEARCH_ENDPOINT')"
   ]
  },
  {
   "cell_type": "markdown",
   "metadata": {},
   "source": [
    "# Објашњење:\n",
    "Класа BookingPlugin пружа методе за резервацију хотела и летова користећи Serpapi.com Google Search API. Она конструише неопходне параметре, шаље API захтеве и обрађује одговоре како би вратила релевантне информације о резервацијама. API кључ (SERPAPI_SEARCH_API_KEY) и крајња тачка (SERPAPI_SEARCH_ENDPOINT) се користе за аутентификацију и слање захтева Google Search API-ју.\n"
   ]
  },
  {
   "cell_type": "code",
   "execution_count": null,
   "metadata": {
    "dotnet_interactive": {
     "language": "csharp"
    },
    "polyglot_notebook": {
     "kernelName": "csharp"
    }
   },
   "outputs": [],
   "source": [
    "# Define Booking Plugin\n",
    "class BookingPlugin:\n",
    "    \"\"\"Booking Plugin for customers\"\"\"\n",
    "    @kernel_function(description=\"booking hotel\")\n",
    "    def booking_hotel(self,query: Annotated[str, \"The name of the city\"], check_in_date: Annotated[str, \"Hotel Check-in Time\"], check_out_date: Annotated[str, \"Hotel Check-in Time\"])-> Annotated[str, \"Return the result of booking hotel infomation\"]:\n",
    "\n",
    "        params = {\n",
    "            \"engine\": \"google_hotels\",\n",
    "            \"q\": query,\n",
    "            \"check_in_date\": check_in_date,\n",
    "            \"check_out_date\": check_out_date,\n",
    "            \"adults\": \"2\",\n",
    "            \"currency\": \"USD\",\n",
    "            \"gl\": \"us\",\n",
    "            \"hl\": \"en\",\n",
    "            \"api_key\": SERPAPI_SEARCH_API_KEY\n",
    "        }\n",
    "\n",
    "        response = requests.get(SERPAPI_SEARCH_ENDPOINT, params=params)\n",
    "        if response.status_code == 200:\n",
    "            response = response.json()\n",
    "            return response[\"properties\"]\n",
    "        else:\n",
    "            return None\n",
    "\n",
    "    \n",
    "    @kernel_function(description=\"booking fight\")\n",
    "    def  booking_fight(self,origin: Annotated[str, \"The name of Departure\"], destination: Annotated[str, \"The name of Destination\"], outbound_date: Annotated[str, \"The date of outbound\"], return_date: Annotated[str, \"The date of Return_date\"])-> Annotated[str, \"Return the result of booking fight infomation\"]:\n",
    "        \n",
    "        go_params = {\n",
    "            \"engine\": \"google_flights\",   \n",
    "            \"departure_id\": origin,\n",
    "            \"arrival_id\": destination,\n",
    "            \"outbound_date\": outbound_date,\n",
    "            \"return_date\": return_date,  \n",
    "            \"currency\": \"USD\",\n",
    "            \"hl\": \"en\",\n",
    "            \"api_key\": SERPAPI_SEARCH_API_KEY  \n",
    "        }\n",
    "\n",
    "        print(go_params)\n",
    "\n",
    "        go_response = requests.get(SERPAPI_SEARCH_ENDPOINT, params=go_params)\n",
    "\n",
    "\n",
    "        result = ''\n",
    "\n",
    "        if go_response.status_code == 200:\n",
    "            response = go_response.json()\n",
    "\n",
    "            result += \"# outbound \\n \" + str(response)\n",
    "        else:\n",
    "            print('error!!!')\n",
    "            # return None\n",
    "\n",
    "        \n",
    "        back_params = {\n",
    "            \"engine\": \"google_flights\",   \n",
    "            \"departure_id\": destination,\n",
    "            \"arrival_id\": origin,\n",
    "            \"outbound_date\": return_date,\n",
    "            \"return_date\": return_date,  \n",
    "            \"currency\": \"USD\",\n",
    "            \"hl\": \"en\",\n",
    "            \"api_key\": SERPAPI_SEARCH_API_KEY  \n",
    "        }\n",
    "\n",
    "\n",
    "        print(back_params)\n",
    "\n",
    "\n",
    "        back_response = requests.get(SERPAPI_SEARCH_ENDPOINT, params=back_params)\n",
    "\n",
    "\n",
    "\n",
    "        if back_response.status_code == 200:\n",
    "            response = back_response.json()\n",
    "\n",
    "            result += \"\\n # return \\n\"  + str(response)\n",
    "\n",
    "        else:\n",
    "            print('error!!!')\n",
    "            # return None\n",
    "        \n",
    "        print(result)\n",
    "\n",
    "        return result\n",
    "\n",
    "        \n"
   ]
  },
  {
   "cell_type": "markdown",
   "metadata": {},
   "source": [
    "# Објашњење:\n",
    "Класа SavePlugin пружа метод saving_plan за чување планова путовања користећи Azure AI услуге. Поставља Azure акредитиве, креира AI агента, обрађује корисничке уносе за генерисање и чување садржаја плана путовања, и управља операцијама чувања датотека и чишћења. Метод враћа \"Saved\" након успешног завршетка.\n"
   ]
  },
  {
   "cell_type": "code",
   "execution_count": null,
   "metadata": {
    "dotnet_interactive": {
     "language": "csharp"
    },
    "polyglot_notebook": {
     "kernelName": "csharp"
    }
   },
   "outputs": [],
   "source": [
    "class SavePlugin:\n",
    "    \"\"\"Save Plugin for customers\"\"\"\n",
    "    @kernel_function(description=\"saving plan\")\n",
    "    async def saving_plan(self,tripplan: Annotated[str, \"The content of trip plan\"])-> Annotated[str, \"Return status of save content\"]:\n",
    "\n",
    "        async with (\n",
    "            DefaultAzureCredential() as creds,\n",
    "            AzureAIAgent.create_client(\n",
    "                credential=creds,\n",
    "                conn_str=ai_agent_settings.project_connection_string.get_secret_value(),\n",
    "            ) as client,\n",
    "        ):\n",
    "\n",
    "            code_interpreter = CodeInterpreterTool()\n",
    "            \n",
    "            agent_definition = await client.agents.create_agent(\n",
    "                model=ai_agent_settings.model_deployment_name,\n",
    "                tools=code_interpreter.definitions,\n",
    "                tool_resources=code_interpreter.resources,\n",
    "            )\n",
    "\n",
    "\n",
    "            agent = AzureAIAgent(\n",
    "                client=client,\n",
    "                definition=agent_definition,\n",
    "            )\n",
    "\n",
    "            thread = await client.agents.create_thread()\n",
    "\n",
    "\n",
    "            user_inputs = [\n",
    "                \"\"\"\n",
    "            \n",
    "                        You are my Python programming assistant. Generate code,save \"\"\"+ tripplan +\n",
    "                        \n",
    "                    \"\"\"    \n",
    "                        and execute it according to the following requirements\n",
    "\n",
    "                        1. Save blog content to trip-{YYMMDDHHMMSS}.md\n",
    "\n",
    "                        2. give me the download this file link\n",
    "                    \"\"\"\n",
    "            ]\n",
    "\n",
    "\n",
    "\n",
    "            try:\n",
    "                for user_input in user_inputs:\n",
    "                    # Add the user input as a chat message\n",
    "                    await agent.add_chat_message(\n",
    "                        thread_id=thread.id, message=ChatMessageContent(role=AuthorRole.USER, content=user_input)\n",
    "                    )\n",
    "                    print(f\"# User: '{user_input}'\")\n",
    "                    # Invoke the agent for the specified thread\n",
    "                    async for content in agent.invoke(thread_id=thread.id):\n",
    "                        if content.role != AuthorRole.TOOL:\n",
    "                            print(f\"# Agent: {content.content}\")\n",
    "\n",
    "                    \n",
    "                    messages = await client.agents.list_messages(thread_id=thread.id)\n",
    "\n",
    "                    # OpenAIPageableListOfThreadMessage\n",
    "                    # OpenAIPageableListOfThreadMessage\n",
    "\n",
    "\n",
    "                    for file_path_annotation in messages.file_path_annotations:\n",
    "\n",
    "                            file_name = os.path.basename(file_path_annotation.text)\n",
    "\n",
    "                            await client.agents.save_file(file_id=file_path_annotation.file_path.file_id, file_name=file_name,target_dir=\"./trip\")\n",
    "\n",
    "                    \n",
    "            finally:\n",
    "                await client.agents.delete_thread(thread.id)\n",
    "                await client.agents.delete_agent(agent.id)\n",
    "\n",
    "\n",
    "        return \"Saved\""
   ]
  },
  {
   "cell_type": "markdown",
   "metadata": {},
   "source": [
    "# Објашњење:\n",
    "Овај код поставља Azure AI агенте за управљање резервацијама летова и хотела, као и за чување планова путовања на основу уноса корисника. Користи Azure креденцијале за креирање и конфигурисање агената, обрађује уносе корисника кроз групни чет и обезбеђује правилно чишћење након завршетка задатака. Агенти користе специфичне додатке (BookingPlugin и SavePlugin) за извршавање својих одговарајућих задатака.\n"
   ]
  },
  {
   "cell_type": "code",
   "execution_count": null,
   "metadata": {
    "dotnet_interactive": {
     "language": "csharp"
    },
    "polyglot_notebook": {
     "kernelName": "csharp"
    }
   },
   "outputs": [],
   "source": [
    "async with (\n",
    "    DefaultAzureCredential() as creds,\n",
    "    AzureAIAgent.create_client(\n",
    "        credential=creds,\n",
    "        conn_str=ai_agent_settings.project_connection_string.get_secret_value(),\n",
    "    ) as client,\n",
    "):\n",
    "    BOOKING_AGENT_NAME = \"BookingAgent\"\n",
    "    BOOKING_AGENT_INSTRUCTIONS = \"\"\"\n",
    "    You are a booking agent. Help me book flights or hotels.\n",
    "\n",
    "    Thought: Please understand the user's intention and confirm whether to use the reservation system to complete the task.\n",
    "\n",
    "    Actions:\n",
    "    - For flight bookings, convert the departure and destination names into airport codes.\n",
    "    - Use the appropriate API for hotel or flight bookings. Verify that all necessary parameters are available. If any parameters are missing, ask the user to provide them. If all parameters are complete, call the corresponding function.\n",
    "    - If the task is not related to hotel or flight booking, respond with the final answer only.\n",
    "    - Output the results using a markdown table:\n",
    "      - For flight bookings, output separate outbound and return contents in the order of:\n",
    "        Departure Airport | Airline | Flight Number | Departure Time | Arrival Airport | Arrival Time | Duration | Airplane | Travel Class | Price (USD) | Legroom | Extensions | Carbon Emissions (kg).\n",
    "      - For hotel bookings, output in the order of:\n",
    "        Property Name | Property Description | Check-in Time | Check-out Time | Prices | Nearby Places | Hotel Class | GPS Coordinates.\n",
    "    \"\"\"\n",
    "\n",
    "    SAVE_AGENT_NAME = \"SaveAgent\"\n",
    "    SAVE_AGENT_INSTRUCTIONS = \"\"\"\n",
    "    You are a save tool agent. Help me to save the trip plan.\n",
    "    \"\"\"\n",
    "\n",
    "    # Create agent definition\n",
    "    booking_agent_definition = await client.agents.create_agent(\n",
    "        model=ai_agent_settings.model_deployment_name,\n",
    "        name=BOOKING_AGENT_NAME,\n",
    "        instructions=BOOKING_AGENT_INSTRUCTIONS,\n",
    "    )\n",
    "\n",
    "    # Create the AzureAI Agent\n",
    "    booking_agent = AzureAIAgent(\n",
    "        client=client,\n",
    "        definition=booking_agent_definition,\n",
    "        # Optionally configure polling options\n",
    "        # polling_options=RunPollingOptions(run_polling_interval=timedelta(seconds=1)),\n",
    "    )\n",
    "\n",
    "    # Add the sample plugin to the kernel\n",
    "    booking_agent.kernel.add_plugin(BookingPlugin(), plugin_name=\"booking\")\n",
    "\n",
    "    # Create agent definition\n",
    "    save_agent_definition = await client.agents.create_agent(\n",
    "        model=ai_agent_settings.model_deployment_name,\n",
    "        name=SAVE_AGENT_NAME,\n",
    "        instructions=SAVE_AGENT_INSTRUCTIONS\n",
    "    )\n",
    "\n",
    "    # Create the AzureAI Agent\n",
    "    save_agent = AzureAIAgent(\n",
    "        client=client,\n",
    "        definition=save_agent_definition,\n",
    "    )\n",
    "\n",
    "    save_agent.kernel.add_plugin(SavePlugin(), plugin_name=\"saving\")\n",
    "\n",
    "    user_inputs = [\n",
    "        \"I have a business trip from London to New York in Feb 20 2025 to Feb 27 2025 ,help me to book a hotel and fight tickets and save it\"\n",
    "    ]\n",
    "\n",
    "    chat = AgentGroupChat(\n",
    "        agents=[booking_agent, save_agent],\n",
    "        termination_strategy=ApprovalTerminationStrategy(agents=[save_agent], maximum_iterations=10),\n",
    "    )\n",
    "\n",
    "    try:\n",
    "        for user_input in user_inputs:\n",
    "            # Add the user input as a chat message\n",
    "            await chat.add_chat_message(\n",
    "                ChatMessageContent(role=AuthorRole.USER, content=user_input)\n",
    "            )\n",
    "            print(f\"# User: '{user_input}'\")\n",
    "\n",
    "            async for content in chat.invoke():\n",
    "                print(f\"# {content.role} - {content.name or '*'}: '{content.content}'\")\n",
    "\n",
    "            print(f\"# IS COMPLETE: {chat.is_complete}\")\n",
    "\n",
    "            print(\"*\" * 60)\n",
    "            print(\"Chat History (In Descending Order):\\n\")\n",
    "            async for message in chat.get_chat_messages(agent=save_agent):\n",
    "                print(f\"# {message.role} - {message.name or '*'}: '{message.content}'\")\n",
    "    finally:\n",
    "        await chat.reset()\n",
    "        await client.agents.delete_agent(save_agent.id)\n",
    "        await client.agents.delete_agent(booking_agent.id)\n"
   ]
  },
  {
   "cell_type": "markdown",
   "metadata": {},
   "source": [
    "\n---\n\n**Одрицање од одговорности**:  \nОвај документ је преведен коришћењем услуге за превођење помоћу вештачке интелигенције [Co-op Translator](https://github.com/Azure/co-op-translator). Иако се трудимо да превод буде тачан, молимо вас да имате у виду да аутоматизовани преводи могу садржати грешке или нетачности. Оригинални документ на његовом изворном језику треба сматрати меродавним извором. За критичне информације препоручује се професионални превод од стране људи. Не преузимамо одговорност за било каква погрешна тумачења или неспоразуме који могу настати услед коришћења овог превода.\n"
   ]
  }
 ],
 "metadata": {
  "kernelspec": {
   "display_name": "3.12.1",
   "language": "python",
   "name": "python3"
  },
  "language_info": {
   "codemirror_mode": {
    "name": "ipython",
    "version": 3
   },
   "file_extension": ".py",
   "mimetype": "text/x-python",
   "name": "python",
   "nbconvert_exporter": "python",
   "pygments_lexer": "ipython3",
   "version": "3.12.1"
  },
  "polyglot_notebook": {
   "kernelInfo": {
    "defaultKernelName": "csharp",
    "items": [
     {
      "aliases": [],
      "name": "csharp"
     }
    ]
   }
  },
  "coopTranslator": {
   "original_hash": "1baa60020a95eda27b7e9ecfda99965b",
   "translation_date": "2025-08-30T00:45:36+00:00",
   "source_file": "08-multi-agent/code_samples/08-python_multi_aiagent_bookinghotel.ipynb",
   "language_code": "sr"
  }
 },
 "nbformat": 4,
 "nbformat_minor": 2
}