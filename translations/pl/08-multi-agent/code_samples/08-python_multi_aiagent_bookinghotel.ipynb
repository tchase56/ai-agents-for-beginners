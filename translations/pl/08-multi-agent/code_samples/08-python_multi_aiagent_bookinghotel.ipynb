{
 "cells": [
  {
   "cell_type": "markdown",
   "metadata": {},
   "source": [
    "## **Przykłady: Multi-AI Agenci do rezerwacji hotelu**\n",
    "\n",
    "W dzisiejszym szybkim tempie życia planowanie podróży służbowej to coś więcej niż tylko rezerwacja lotu i pokoju hotelowego. Wymaga to poziomu koordynacji i efektywności, który może być trudny do osiągnięcia. Właśnie tutaj wkraczają Multi-AI Agenci, rewolucjonizując sposób, w jaki zarządzamy naszymi potrzebami podróżnymi.\n",
    "\n",
    "Wyobraź sobie zespół inteligentnych agentów do Twojej dyspozycji, współpracujących, aby zająć się każdym aspektem Twojej podróży z precyzją i łatwością. Dzięki naszej zaawansowanej technologii AI stworzyliśmy wyspecjalizowanych agentów do rezerwacji usług i organizacji planu podróży, zapewniając płynne i bezstresowe doświadczenie podróżne.\n",
    "\n",
    "To jest podstawowy scenariusz. Planując podróż służbową, musimy skonsultować się z agentem podróży służbowych, aby uzyskać informacje o biletach lotniczych, hotelach itp. Dzięki AI Agentom możemy stworzyć agentów do rezerwacji usług oraz agentów do organizacji planu podróży, którzy będą współpracować i podnosić poziom inteligencji.\n"
   ]
  },
  {
   "cell_type": "markdown",
   "metadata": {},
   "source": [
    "# Inicjalizacja usługi Azure AI Agent i pobranie informacji konfiguracyjnych z **.env**\n",
    "\n",
    "### **.env** \n",
    "\n",
    "Utwórz plik .env \n",
    "\n",
    "Plik **.env** zawiera ciąg połączenia do usługi Azure AI Agent, model używany przez AOAI oraz odpowiednie API wyszukiwania Google, ENDPOINT itp.\n",
    "\n",
    "- **AZURE_AI_AGENT_MODEL_DEPLOYMENT_NAME** = \"Nazwa wdrożenia modelu usługi Azure AI Agent\"\n",
    "\n",
    "[**NOTE**] Będziesz potrzebować modelu z limitem 100 000 tokenów na minutę oraz limitem 600 żądań na minutę.\n",
    "\n",
    "  Model można uzyskać w Azure AI Foundry - Model and Endpoint. \n",
    "\n",
    "- **AZURE_AI_AGENT_PROJECT_CONNECTION_STRING** = \"Ciąg połączenia projektu usługi Azure AI Agent\"\n",
    "\n",
    "  Ciąg połączenia projektu można znaleźć w przeglądzie projektu na ekranie AI Foundry Portal.\n",
    "\n",
    "- **SERPAPI_SEARCH_API_KEY** = \"Twój klucz API wyszukiwania SERPAPI\"\n",
    "- **SERPAPI_SEARCH_ENDPOINT** = \"Twój endpoint wyszukiwania SERPAPI\"\n",
    "\n",
    "Aby uzyskać nazwę wdrożenia modelu i ciąg połączenia projektu usługi Azure AI Agent, musisz utworzyć usługę Azure AI Agent. Zaleca się użycie [tego szablonu](https://portal.azure.com/#create/Microsoft.Template/uri/https%3A%2F%2Fraw.githubusercontent.com%2Ffosteramanda%2Fazure-agent-quickstart-templates%2Frefs%2Fheads%2Fmaster%2Fquickstarts%2Fmicrosoft.azure-ai-agent-service%2Fstandard-agent%2Fazuredeploy.json) do bezpośredniego utworzenia usługi (***Uwaga:*** Usługa Azure AI Agent jest obecnie dostępna w ograniczonych regionach. Zaleca się zapoznanie z [tym linkiem](https://learn.microsoft.com/en-us/azure/ai-services/agents/concepts/model-region-support) w celu ustawienia regionu).\n",
    "\n",
    "Agent musi mieć dostęp do SERPAPI. Zaleca się rejestrację za pomocą [tego linku](https://serpapi.com/searches). Po rejestracji możesz uzyskać unikalny klucz API i ENDPOINT.\n"
   ]
  },
  {
   "cell_type": "markdown",
   "metadata": {},
   "source": [
    "# Logowanie do Azure\n",
    "\n",
    "Teraz musisz zalogować się do Azure. Otwórz terminal w VScode i uruchom polecenie `az login`.\n"
   ]
  },
  {
   "cell_type": "markdown",
   "metadata": {},
   "source": [
    "# Konfiguracja\n",
    "\n",
    "Aby uruchomić ten notebook, musisz zainstalować następujące biblioteki. Oto lista wymaganych bibliotek oraz odpowiadające im polecenia instalacji za pomocą pip:\n",
    "\n",
    "azure-identity: Do uwierzytelniania w Azure.  \n",
    "requests: Do wykonywania żądań HTTP.  \n",
    "semantic-kernel: Do frameworka semantic kernel (zakładając, że jest to niestandardowa lub specyficzna biblioteka, może być konieczne zainstalowanie jej z określonego źródła lub repozytorium).  \n"
   ]
  },
  {
   "cell_type": "code",
   "execution_count": null,
   "metadata": {},
   "outputs": [],
   "source": [
    "!pip install azure-identity\n",
    "!pip install requests\n",
    "!pip install semantic-kernel\n",
    "!pip install --upgrade semantic_kernel\n",
    "!pip install azure-cli"
   ]
  },
  {
   "cell_type": "markdown",
   "metadata": {},
   "source": [
    "# Wyjaśnienie: \n",
    "import asyncio: Importuje moduł asyncio, który wspiera programowanie asynchroniczne w Pythonie. Umożliwia pisanie kodu współbieżnego przy użyciu składni async i await.\n",
    "from typing: Annotated: Importuje typ Annotated z modułu typing. Annotated służy do dodawania metadanych do wskazówek typów, co może być przydatne w różnych celach, takich jak walidacja, dokumentacja czy narzędzia.\n"
   ]
  },
  {
   "cell_type": "code",
   "execution_count": null,
   "metadata": {
    "dotnet_interactive": {
     "language": "csharp"
    },
    "polyglot_notebook": {
     "kernelName": "csharp"
    }
   },
   "outputs": [],
   "source": [
    "import asyncio,os\n",
    "from typing import Annotated"
   ]
  },
  {
   "cell_type": "markdown",
   "metadata": {},
   "source": [
    "# Wyjaśnienie:\n",
    "Korzystając z `from dotenv import load_dotenv` oraz `load_dotenv()`, możesz w prosty sposób zarządzać ustawieniami konfiguracyjnymi i poufnymi informacjami (takimi jak klucze API czy adresy URL baz danych) w pliku `.env`, oddzielając je od kodu źródłowego. Dzięki temu Twoja aplikacja staje się bardziej bezpieczna i łatwiejsza w konfiguracji.\n"
   ]
  },
  {
   "cell_type": "code",
   "execution_count": null,
   "metadata": {},
   "outputs": [],
   "source": [
    "import os\n",
    "from dotenv import load_dotenv\n",
    "\n",
    "# Load environment variables from .env file\n",
    "load_dotenv()"
   ]
  },
  {
   "cell_type": "markdown",
   "metadata": {},
   "source": [
    "# Wyjaśnienie:\n",
    "\n",
    "Importowanie: from azure.identity.aio import DefaultAzureCredential: Ten import wprowadza klasę DefaultAzureCredential z modułu azure.identity.aio. Część \"aio\" w nazwie modułu wskazuje, że jest on przeznaczony do operacji asynchronicznych.\n",
    "\n",
    "Cel DefaultAzureCredential: Klasa DefaultAzureCredential jest częścią Azure SDK dla Pythona. Zapewnia domyślny sposób uwierzytelniania w usługach Azure. Próbuje uwierzytelnić się za pomocą wielu metod w określonej kolejności, takich jak zmienne środowiskowe, zarządzana tożsamość i poświadczenia Azure CLI.\n",
    "\n",
    "Operacje asynchroniczne: Moduł \"aio\" wskazuje, że klasa DefaultAzureCredential obsługuje operacje asynchroniczne. Oznacza to, że można ją używać z asyncio do wykonywania nieblokujących żądań uwierzytelniania.\n"
   ]
  },
  {
   "cell_type": "code",
   "execution_count": null,
   "metadata": {
    "dotnet_interactive": {
     "language": "csharp"
    },
    "polyglot_notebook": {
     "kernelName": "csharp"
    }
   },
   "outputs": [],
   "source": [
    "from azure.identity.aio import DefaultAzureCredential"
   ]
  },
  {
   "cell_type": "markdown",
   "metadata": {},
   "source": [
    "# Wyjaśnienie:\n",
    "Importuje różne moduły i klasy z pakietu semantic_kernel. Oto szczegółowy opis każdego importu:\n",
    "\n",
    "AgentGroupChat z semantic_kernel.agents: Ta klasa obsługuje funkcje związane z czatem grupowym dla agentów AI. AzureAIAgent i AzureAIAgentSettings z semantic_kernel.agents.azure_ai\n",
    "\n",
    "AzureAIAgent: Ta klasa służy do tworzenia i zarządzania agentami AI korzystającymi z usług Azure AI.\n",
    "\n",
    "AzureAIAgentSettings: Ta klasa służy do konfigurowania ustawień dla AzureAIAgent. TerminationStrategy z semantic_kernel.agents.strategies.termination.termination_strategy:\n",
    "\n",
    "Ta klasa definiuje strategie zakończenia działania agentów AI w określonych warunkach. ChatMessageContent z semantic_kernel.contents.chat_message_content:\n",
    "\n",
    "Ta klasa służy do obsługi treści wiadomości czatu.\n",
    "AuthorRole z semantic_kernel.contents.utils.author_role:\n",
    "\n",
    "Ta klasa definiuje różne role autorów w kontekście wiadomości czatu. \n",
    "\n",
    "kernel_function z semantic_kernel.functions.kernel_function_decorator: Ten dekorator służy do definiowania funkcji jądra, czyli funkcji, które mogą być wykonywane w ramach frameworka semantic kernel.\n",
    "Te importy przygotowują niezbędne komponenty do tworzenia i zarządzania agentami AI, którzy mogą wchodzić w interakcje w środowisku czatu grupowego, na przykład w celu realizacji zadań takich jak rezerwacja hoteli lub podobne działania.\n"
   ]
  },
  {
   "cell_type": "code",
   "execution_count": null,
   "metadata": {
    "dotnet_interactive": {
     "language": "csharp"
    },
    "polyglot_notebook": {
     "kernelName": "csharp"
    }
   },
   "outputs": [],
   "source": [
    "from semantic_kernel.agents import AgentGroupChat\n",
    "from semantic_kernel.agents import AzureAIAgent, AzureAIAgentSettings\n",
    "from semantic_kernel.agents.strategies.termination.termination_strategy import TerminationStrategy\n",
    "from semantic_kernel.contents import ChatMessageContent\n",
    "from semantic_kernel.contents import AuthorRole\n",
    "from semantic_kernel.functions.kernel_function_decorator import kernel_function"
   ]
  },
  {
   "cell_type": "markdown",
   "metadata": {},
   "source": [
    "# Wyjaśnienie:\n",
    "Następnie importujemy klasę CodeInterpreterTool z modułu azure.ai.projects.models.\n",
    "\n",
    "CodeInterpreterTool: Ta klasa jest częścią Azure AI SDK i służy do interpretacji oraz wykonywania kodu w kontekście projektów AI. Udostępnia funkcje umożliwiające uruchamianie fragmentów kodu, analizowanie kodu lub integrowanie wykonywania kodu w ramach przepływów pracy związanych ze sztuczną inteligencją.  \n",
    "Ten import przygotowuje niezbędny komponent do korzystania z CodeInterpreterTool w Twoim projekcie, co może być przydatne w zadaniach wymagających dynamicznej interpretacji i wykonywania kodu.\n"
   ]
  },
  {
   "cell_type": "code",
   "execution_count": null,
   "metadata": {
    "dotnet_interactive": {
     "language": "csharp"
    },
    "polyglot_notebook": {
     "kernelName": "csharp"
    }
   },
   "outputs": [],
   "source": [
    "from azure.ai.projects.models import CodeInterpreterTool"
   ]
  },
  {
   "cell_type": "markdown",
   "metadata": {},
   "source": [
    "# Wyjaśnienie: \n",
    "Klasa ApprovalTerminationStrategy dostarcza konkretną strategię zakończenia działania agenta AI. Agent zakończy swoje działanie, jeśli ostatnia wiadomość w jego historii interakcji zawiera słowo „zapisano”. Może to być przydatne w sytuacjach, gdy zadanie agenta uznaje się za zakończone po otrzymaniu potwierdzenia, że coś zostało „zapisane”. Zdefiniuj metodę interakcji. Po zapisaniu planu rezerwacji można zatrzymać działanie agenta po otrzymaniu sygnału „zapisano”.\n"
   ]
  },
  {
   "cell_type": "code",
   "execution_count": null,
   "metadata": {
    "dotnet_interactive": {
     "language": "csharp"
    },
    "polyglot_notebook": {
     "kernelName": "csharp"
    }
   },
   "outputs": [],
   "source": [
    "class ApprovalTerminationStrategy(TerminationStrategy):\n",
    "    \"\"\"A strategy for determining when an agent should terminate.\"\"\"\n",
    "\n",
    "    async def should_agent_terminate(self, agent, history):\n",
    "        \"\"\"Check if the agent should terminate.\"\"\"\n",
    "        return \"saved\" in history[-1].content.lower()"
   ]
  },
  {
   "cell_type": "markdown",
   "metadata": {},
   "source": [
    "# Wyjaśnienie:\n",
    "\n",
    "Linia kodu inicjalizuje obiekt AzureAIAgentSettings z domyślnymi lub predefiniowanymi ustawieniami, wywołując metodę create(). Ten obiekt ustawień (ai_agent_settings) może być następnie użyty do konfiguracji i zarządzania instancją AzureAIAgent.\n"
   ]
  },
  {
   "cell_type": "code",
   "execution_count": null,
   "metadata": {
    "dotnet_interactive": {
     "language": "csharp"
    },
    "polyglot_notebook": {
     "kernelName": "csharp"
    }
   },
   "outputs": [],
   "source": [
    "ai_agent_settings = AzureAIAgentSettings.create()"
   ]
  },
  {
   "cell_type": "markdown",
   "metadata": {},
   "source": [
    "# Wyjaśnienie:\n",
    "Dzięki zaimportowaniu biblioteki requests możesz łatwo wykonywać żądania HTTP i korzystać z usług internetowych w swoim kodzie Python.\n"
   ]
  },
  {
   "cell_type": "code",
   "execution_count": null,
   "metadata": {
    "dotnet_interactive": {
     "language": "csharp"
    },
    "polyglot_notebook": {
     "kernelName": "csharp"
    }
   },
   "outputs": [],
   "source": [
    "import requests"
   ]
  },
  {
   "cell_type": "markdown",
   "metadata": {},
   "source": [
    "# Wyjaśnienie:\n",
    "To zmienna, która przechowuje klucz API umożliwiający dostęp do usługi API SERP (Search Engine Results Page). Klucz API to unikalny identyfikator używany do uwierzytelniania żądań powiązanych z Twoim kontem.\n",
    "\n",
    "'GOOGLE_SEARCH_API_KEY': To jest ciąg zastępczy. Musisz zastąpić 'GOOGLE_SEARCH_API_KEY' swoim rzeczywistym kluczem API SERP.\n",
    "\n",
    "Cel: Celem tej linii jest przechowywanie klucza API w zmiennej, aby można go było używać do uwierzytelniania żądań do usługi API SERP. Klucz API jest wymagany, aby uzyskać dostęp do usługi i wykonywać wyszukiwania.\n",
    "\n",
    "Jak uzyskać klucz API SERP: Aby uzyskać klucz API SERP, wykonaj następujące ogólne kroki na stronie https://serpapi.com (dokładne kroki mogą się różnić w zależności od konkretnej usługi API SERP, z której korzystasz):\n",
    "\n",
    "Wybierz usługę API SERP: Istnieje kilka dostępnych usług API SERP, takich jak SerpAPI, Google Custom Search JSON API i inne. Wybierz tę, która najlepiej odpowiada Twoim potrzebom.\n",
    "\n",
    "Zarejestruj konto:\n",
    "\n",
    "Przejdź na stronę wybranej usługi API SERP https://www.serpapi.com i zarejestruj konto. Może być konieczne podanie podstawowych informacji i zweryfikowanie adresu e-mail.\n",
    "\n",
    "Utwórz klucz API:\n",
    "\n",
    "Po rejestracji zaloguj się na swoje konto i przejdź do sekcji API lub pulpitu nawigacyjnego. Poszukaj opcji utworzenia lub wygenerowania nowego klucza API.\n",
    "Skopiuj klucz API:\n",
    "\n",
    "Gdy klucz API zostanie wygenerowany, skopiuj go. Ten klucz będzie używany do uwierzytelniania Twoich żądań do usługi API SERP.\n",
    "Zastąp ciąg zastępczy:\n",
    "\n",
    "Zastąp ciąg zastępczy w swoim pliku .env\n"
   ]
  },
  {
   "cell_type": "code",
   "execution_count": null,
   "metadata": {
    "dotnet_interactive": {
     "language": "csharp"
    },
    "polyglot_notebook": {
     "kernelName": "csharp"
    }
   },
   "outputs": [],
   "source": [
    "SERPAPI_SEARCH_API_KEY=os.getenv('SERPAPI_SEARCH_API_KEY')"
   ]
  },
  {
   "cell_type": "code",
   "execution_count": null,
   "metadata": {
    "dotnet_interactive": {
     "language": "csharp"
    },
    "polyglot_notebook": {
     "kernelName": "csharp"
    }
   },
   "outputs": [],
   "source": [
    "SERPAPI_SEARCH_ENDPOINT = os.getenv('SERPAPI_SEARCH_ENDPOINT')"
   ]
  },
  {
   "cell_type": "markdown",
   "metadata": {},
   "source": [
    "# Wyjaśnienie:\n",
    "Klasa BookingPlugin udostępnia metody do rezerwacji hoteli i lotów za pomocą Google Search API od Serpapi.com. Tworzy niezbędne parametry, wysyła żądania do API i przetwarza odpowiedzi, aby zwrócić odpowiednie informacje o rezerwacjach. Klucz API (SERPAPI_SEARCH_API_KEY) oraz punkt końcowy (SERPAPI_SEARCH_ENDPOINT) są wykorzystywane do uwierzytelniania i wysyłania żądań do Google Search API.\n"
   ]
  },
  {
   "cell_type": "code",
   "execution_count": null,
   "metadata": {
    "dotnet_interactive": {
     "language": "csharp"
    },
    "polyglot_notebook": {
     "kernelName": "csharp"
    }
   },
   "outputs": [],
   "source": [
    "# Define Booking Plugin\n",
    "class BookingPlugin:\n",
    "    \"\"\"Booking Plugin for customers\"\"\"\n",
    "    @kernel_function(description=\"booking hotel\")\n",
    "    def booking_hotel(self,query: Annotated[str, \"The name of the city\"], check_in_date: Annotated[str, \"Hotel Check-in Time\"], check_out_date: Annotated[str, \"Hotel Check-in Time\"])-> Annotated[str, \"Return the result of booking hotel infomation\"]:\n",
    "\n",
    "        params = {\n",
    "            \"engine\": \"google_hotels\",\n",
    "            \"q\": query,\n",
    "            \"check_in_date\": check_in_date,\n",
    "            \"check_out_date\": check_out_date,\n",
    "            \"adults\": \"2\",\n",
    "            \"currency\": \"USD\",\n",
    "            \"gl\": \"us\",\n",
    "            \"hl\": \"en\",\n",
    "            \"api_key\": SERPAPI_SEARCH_API_KEY\n",
    "        }\n",
    "\n",
    "        response = requests.get(SERPAPI_SEARCH_ENDPOINT, params=params)\n",
    "        if response.status_code == 200:\n",
    "            response = response.json()\n",
    "            return response[\"properties\"]\n",
    "        else:\n",
    "            return None\n",
    "\n",
    "    \n",
    "    @kernel_function(description=\"booking fight\")\n",
    "    def  booking_fight(self,origin: Annotated[str, \"The name of Departure\"], destination: Annotated[str, \"The name of Destination\"], outbound_date: Annotated[str, \"The date of outbound\"], return_date: Annotated[str, \"The date of Return_date\"])-> Annotated[str, \"Return the result of booking fight infomation\"]:\n",
    "        \n",
    "        go_params = {\n",
    "            \"engine\": \"google_flights\",   \n",
    "            \"departure_id\": origin,\n",
    "            \"arrival_id\": destination,\n",
    "            \"outbound_date\": outbound_date,\n",
    "            \"return_date\": return_date,  \n",
    "            \"currency\": \"USD\",\n",
    "            \"hl\": \"en\",\n",
    "            \"api_key\": SERPAPI_SEARCH_API_KEY  \n",
    "        }\n",
    "\n",
    "        print(go_params)\n",
    "\n",
    "        go_response = requests.get(SERPAPI_SEARCH_ENDPOINT, params=go_params)\n",
    "\n",
    "\n",
    "        result = ''\n",
    "\n",
    "        if go_response.status_code == 200:\n",
    "            response = go_response.json()\n",
    "\n",
    "            result += \"# outbound \\n \" + str(response)\n",
    "        else:\n",
    "            print('error!!!')\n",
    "            # return None\n",
    "\n",
    "        \n",
    "        back_params = {\n",
    "            \"engine\": \"google_flights\",   \n",
    "            \"departure_id\": destination,\n",
    "            \"arrival_id\": origin,\n",
    "            \"outbound_date\": return_date,\n",
    "            \"return_date\": return_date,  \n",
    "            \"currency\": \"USD\",\n",
    "            \"hl\": \"en\",\n",
    "            \"api_key\": SERPAPI_SEARCH_API_KEY  \n",
    "        }\n",
    "\n",
    "\n",
    "        print(back_params)\n",
    "\n",
    "\n",
    "        back_response = requests.get(SERPAPI_SEARCH_ENDPOINT, params=back_params)\n",
    "\n",
    "\n",
    "\n",
    "        if back_response.status_code == 200:\n",
    "            response = back_response.json()\n",
    "\n",
    "            result += \"\\n # return \\n\"  + str(response)\n",
    "\n",
    "        else:\n",
    "            print('error!!!')\n",
    "            # return None\n",
    "        \n",
    "        print(result)\n",
    "\n",
    "        return result\n",
    "\n",
    "        \n"
   ]
  },
  {
   "cell_type": "markdown",
   "metadata": {},
   "source": [
    "# Wyjaśnienie:\n",
    "Klasa SavePlugin udostępnia metodę saving_plan do zapisywania planów podróży za pomocą usług Azure AI. Ustawia dane uwierzytelniające Azure, tworzy agenta AI, przetwarza dane wejściowe użytkownika w celu wygenerowania i zapisania treści planu podróży, a także obsługuje operacje zapisywania plików i czyszczenia. Metoda zwraca \"Saved\" po pomyślnym zakończeniu.\n"
   ]
  },
  {
   "cell_type": "code",
   "execution_count": null,
   "metadata": {
    "dotnet_interactive": {
     "language": "csharp"
    },
    "polyglot_notebook": {
     "kernelName": "csharp"
    }
   },
   "outputs": [],
   "source": [
    "class SavePlugin:\n",
    "    \"\"\"Save Plugin for customers\"\"\"\n",
    "    @kernel_function(description=\"saving plan\")\n",
    "    async def saving_plan(self,tripplan: Annotated[str, \"The content of trip plan\"])-> Annotated[str, \"Return status of save content\"]:\n",
    "\n",
    "        async with (\n",
    "            DefaultAzureCredential() as creds,\n",
    "            AzureAIAgent.create_client(\n",
    "                credential=creds,\n",
    "                conn_str=ai_agent_settings.project_connection_string.get_secret_value(),\n",
    "            ) as client,\n",
    "        ):\n",
    "\n",
    "            code_interpreter = CodeInterpreterTool()\n",
    "            \n",
    "            agent_definition = await client.agents.create_agent(\n",
    "                model=ai_agent_settings.model_deployment_name,\n",
    "                tools=code_interpreter.definitions,\n",
    "                tool_resources=code_interpreter.resources,\n",
    "            )\n",
    "\n",
    "\n",
    "            agent = AzureAIAgent(\n",
    "                client=client,\n",
    "                definition=agent_definition,\n",
    "            )\n",
    "\n",
    "            thread = await client.agents.create_thread()\n",
    "\n",
    "\n",
    "            user_inputs = [\n",
    "                \"\"\"\n",
    "            \n",
    "                        You are my Python programming assistant. Generate code,save \"\"\"+ tripplan +\n",
    "                        \n",
    "                    \"\"\"    \n",
    "                        and execute it according to the following requirements\n",
    "\n",
    "                        1. Save blog content to trip-{YYMMDDHHMMSS}.md\n",
    "\n",
    "                        2. give me the download this file link\n",
    "                    \"\"\"\n",
    "            ]\n",
    "\n",
    "\n",
    "\n",
    "            try:\n",
    "                for user_input in user_inputs:\n",
    "                    # Add the user input as a chat message\n",
    "                    await agent.add_chat_message(\n",
    "                        thread_id=thread.id, message=ChatMessageContent(role=AuthorRole.USER, content=user_input)\n",
    "                    )\n",
    "                    print(f\"# User: '{user_input}'\")\n",
    "                    # Invoke the agent for the specified thread\n",
    "                    async for content in agent.invoke(thread_id=thread.id):\n",
    "                        if content.role != AuthorRole.TOOL:\n",
    "                            print(f\"# Agent: {content.content}\")\n",
    "\n",
    "                    \n",
    "                    messages = await client.agents.list_messages(thread_id=thread.id)\n",
    "\n",
    "                    # OpenAIPageableListOfThreadMessage\n",
    "                    # OpenAIPageableListOfThreadMessage\n",
    "\n",
    "\n",
    "                    for file_path_annotation in messages.file_path_annotations:\n",
    "\n",
    "                            file_name = os.path.basename(file_path_annotation.text)\n",
    "\n",
    "                            await client.agents.save_file(file_id=file_path_annotation.file_path.file_id, file_name=file_name,target_dir=\"./trip\")\n",
    "\n",
    "                    \n",
    "            finally:\n",
    "                await client.agents.delete_thread(thread.id)\n",
    "                await client.agents.delete_agent(agent.id)\n",
    "\n",
    "\n",
    "        return \"Saved\""
   ]
  },
  {
   "cell_type": "markdown",
   "metadata": {},
   "source": [
    "# Wyjaśnienie:\n",
    "Ten kod konfiguruje agentów Azure AI do obsługi rezerwacji lotów i hoteli oraz zapisywania planów podróży na podstawie danych wprowadzonych przez użytkownika. Wykorzystuje poświadczenia Azure do tworzenia i konfiguracji agentów, przetwarza dane użytkownika za pomocą czatu grupowego i zapewnia odpowiednie czyszczenie po zakończeniu zadań. Agenci korzystają z określonych wtyczek (BookingPlugin i SavePlugin) do wykonywania swoich zadań.\n"
   ]
  },
  {
   "cell_type": "code",
   "execution_count": null,
   "metadata": {
    "dotnet_interactive": {
     "language": "csharp"
    },
    "polyglot_notebook": {
     "kernelName": "csharp"
    }
   },
   "outputs": [],
   "source": [
    "async with (\n",
    "    DefaultAzureCredential() as creds,\n",
    "    AzureAIAgent.create_client(\n",
    "        credential=creds,\n",
    "        conn_str=ai_agent_settings.project_connection_string.get_secret_value(),\n",
    "    ) as client,\n",
    "):\n",
    "    BOOKING_AGENT_NAME = \"BookingAgent\"\n",
    "    BOOKING_AGENT_INSTRUCTIONS = \"\"\"\n",
    "    You are a booking agent. Help me book flights or hotels.\n",
    "\n",
    "    Thought: Please understand the user's intention and confirm whether to use the reservation system to complete the task.\n",
    "\n",
    "    Actions:\n",
    "    - For flight bookings, convert the departure and destination names into airport codes.\n",
    "    - Use the appropriate API for hotel or flight bookings. Verify that all necessary parameters are available. If any parameters are missing, ask the user to provide them. If all parameters are complete, call the corresponding function.\n",
    "    - If the task is not related to hotel or flight booking, respond with the final answer only.\n",
    "    - Output the results using a markdown table:\n",
    "      - For flight bookings, output separate outbound and return contents in the order of:\n",
    "        Departure Airport | Airline | Flight Number | Departure Time | Arrival Airport | Arrival Time | Duration | Airplane | Travel Class | Price (USD) | Legroom | Extensions | Carbon Emissions (kg).\n",
    "      - For hotel bookings, output in the order of:\n",
    "        Property Name | Property Description | Check-in Time | Check-out Time | Prices | Nearby Places | Hotel Class | GPS Coordinates.\n",
    "    \"\"\"\n",
    "\n",
    "    SAVE_AGENT_NAME = \"SaveAgent\"\n",
    "    SAVE_AGENT_INSTRUCTIONS = \"\"\"\n",
    "    You are a save tool agent. Help me to save the trip plan.\n",
    "    \"\"\"\n",
    "\n",
    "    # Create agent definition\n",
    "    booking_agent_definition = await client.agents.create_agent(\n",
    "        model=ai_agent_settings.model_deployment_name,\n",
    "        name=BOOKING_AGENT_NAME,\n",
    "        instructions=BOOKING_AGENT_INSTRUCTIONS,\n",
    "    )\n",
    "\n",
    "    # Create the AzureAI Agent\n",
    "    booking_agent = AzureAIAgent(\n",
    "        client=client,\n",
    "        definition=booking_agent_definition,\n",
    "        # Optionally configure polling options\n",
    "        # polling_options=RunPollingOptions(run_polling_interval=timedelta(seconds=1)),\n",
    "    )\n",
    "\n",
    "    # Add the sample plugin to the kernel\n",
    "    booking_agent.kernel.add_plugin(BookingPlugin(), plugin_name=\"booking\")\n",
    "\n",
    "    # Create agent definition\n",
    "    save_agent_definition = await client.agents.create_agent(\n",
    "        model=ai_agent_settings.model_deployment_name,\n",
    "        name=SAVE_AGENT_NAME,\n",
    "        instructions=SAVE_AGENT_INSTRUCTIONS\n",
    "    )\n",
    "\n",
    "    # Create the AzureAI Agent\n",
    "    save_agent = AzureAIAgent(\n",
    "        client=client,\n",
    "        definition=save_agent_definition,\n",
    "    )\n",
    "\n",
    "    save_agent.kernel.add_plugin(SavePlugin(), plugin_name=\"saving\")\n",
    "\n",
    "    user_inputs = [\n",
    "        \"I have a business trip from London to New York in Feb 20 2025 to Feb 27 2025 ,help me to book a hotel and fight tickets and save it\"\n",
    "    ]\n",
    "\n",
    "    chat = AgentGroupChat(\n",
    "        agents=[booking_agent, save_agent],\n",
    "        termination_strategy=ApprovalTerminationStrategy(agents=[save_agent], maximum_iterations=10),\n",
    "    )\n",
    "\n",
    "    try:\n",
    "        for user_input in user_inputs:\n",
    "            # Add the user input as a chat message\n",
    "            await chat.add_chat_message(\n",
    "                ChatMessageContent(role=AuthorRole.USER, content=user_input)\n",
    "            )\n",
    "            print(f\"# User: '{user_input}'\")\n",
    "\n",
    "            async for content in chat.invoke():\n",
    "                print(f\"# {content.role} - {content.name or '*'}: '{content.content}'\")\n",
    "\n",
    "            print(f\"# IS COMPLETE: {chat.is_complete}\")\n",
    "\n",
    "            print(\"*\" * 60)\n",
    "            print(\"Chat History (In Descending Order):\\n\")\n",
    "            async for message in chat.get_chat_messages(agent=save_agent):\n",
    "                print(f\"# {message.role} - {message.name or '*'}: '{message.content}'\")\n",
    "    finally:\n",
    "        await chat.reset()\n",
    "        await client.agents.delete_agent(save_agent.id)\n",
    "        await client.agents.delete_agent(booking_agent.id)\n"
   ]
  },
  {
   "cell_type": "markdown",
   "metadata": {},
   "source": [
    "\n---\n\n**Zastrzeżenie**:  \nTen dokument został przetłumaczony za pomocą usługi tłumaczenia AI [Co-op Translator](https://github.com/Azure/co-op-translator). Chociaż dokładamy wszelkich starań, aby tłumaczenie było precyzyjne, prosimy pamiętać, że automatyczne tłumaczenia mogą zawierać błędy lub nieścisłości. Oryginalny dokument w jego rodzimym języku powinien być uznawany za wiarygodne źródło. W przypadku informacji o kluczowym znaczeniu zaleca się skorzystanie z profesjonalnego tłumaczenia przez człowieka. Nie ponosimy odpowiedzialności za jakiekolwiek nieporozumienia lub błędne interpretacje wynikające z użycia tego tłumaczenia.\n"
   ]
  }
 ],
 "metadata": {
  "kernelspec": {
   "display_name": "3.12.1",
   "language": "python",
   "name": "python3"
  },
  "language_info": {
   "codemirror_mode": {
    "name": "ipython",
    "version": 3
   },
   "file_extension": ".py",
   "mimetype": "text/x-python",
   "name": "python",
   "nbconvert_exporter": "python",
   "pygments_lexer": "ipython3",
   "version": "3.12.1"
  },
  "polyglot_notebook": {
   "kernelInfo": {
    "defaultKernelName": "csharp",
    "items": [
     {
      "aliases": [],
      "name": "csharp"
     }
    ]
   }
  },
  "coopTranslator": {
   "original_hash": "1baa60020a95eda27b7e9ecfda99965b",
   "translation_date": "2025-08-30T15:41:25+00:00",
   "source_file": "08-multi-agent/code_samples/08-python_multi_aiagent_bookinghotel.ipynb",
   "language_code": "pl"
  }
 },
 "nbformat": 4,
 "nbformat_minor": 2
}