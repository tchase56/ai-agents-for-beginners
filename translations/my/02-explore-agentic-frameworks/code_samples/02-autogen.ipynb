{
 "cells": [
  {
   "cell_type": "markdown",
   "metadata": {},
   "source": [
    "# AutoGen အခြေခံ နမူနာ\n",
    "\n",
    "ဒီကုဒ်နမူနာမှာ [AutoGen](https://aka.ms/ai-agents/autogen) AI Framework ကို အသုံးပြုပြီး အခြေခံ Agent တစ်ခုကို ဖန်တီးမှာ ဖြစ်ပါတယ်။\n",
    "\n",
    "ဒီနမူနာရဲ့ ရည်ရွယ်ချက်က နောက်ပိုင်းမှာ အခြား Agentic ပုံစံတွေကို အကောင်အထည်ဖော်တဲ့အခါ အသုံးပြုမယ့် လုပ်ဆောင်မှုအဆင့်တွေကို ပြသဖို့ ဖြစ်ပါတယ်။\n"
   ]
  },
  {
   "cell_type": "markdown",
   "metadata": {},
   "source": []
  },
  {
   "cell_type": "code",
   "execution_count": null,
   "metadata": {},
   "outputs": [],
   "source": [
    "import os\n",
    "from dotenv import load_dotenv\n",
    "\n",
    "from autogen_agentchat.agents import AssistantAgent\n",
    "from autogen_core.models import UserMessage\n",
    "from autogen_ext.models.azure import AzureAIChatCompletionClient\n",
    "from azure.core.credentials import AzureKeyCredential\n",
    "from autogen_core import CancellationToken\n",
    "\n",
    "from autogen_agentchat.messages import TextMessage\n",
    "from autogen_agentchat.ui import Console\n"
   ]
  },
  {
   "cell_type": "markdown",
   "metadata": {},
   "source": [
    "## Client ကို ဖန်တီးပါ\n",
    "\n",
    "ဤနမူနာတွင် [GitHub Models](https://aka.ms/ai-agents-beginners/github-models) ကို အသုံးပြု၍ LLM ကို ဝင်ရောက်အသုံးပြုမည်ဖြစ်သည်။\n",
    "\n",
    "`model` ကို `gpt-4o-mini` အဖြစ် သတ်မှတ်ထားသည်။ GitHub Models marketplace တွင် ရရှိနိုင်သော အခြား model တစ်ခုကို ပြောင်းလဲကြည့်ပြီး ရလဒ်များကို ကွဲပြားမှုကို ကြည့်ရှုပါ။\n",
    "\n",
    "အမြန်စမ်းသပ်မှုအနေနှင့် `What is the capital of France` ဆိုသော ရိုးရှင်းသော prompt ကို run လုပ်ကြည့်မည်။\n"
   ]
  },
  {
   "cell_type": "code",
   "execution_count": null,
   "metadata": {},
   "outputs": [],
   "source": [
    "load_dotenv()\n",
    "client = AzureAIChatCompletionClient(\n",
    "    model=\"gpt-4o-mini\",\n",
    "    endpoint=\"https://models.inference.ai.azure.com\",\n",
    "    # To authenticate with the model you will need to generate a personal access token (PAT) in your GitHub settings.\n",
    "    # Create your PAT token by following instructions here: https://docs.github.com/en/authentication/keeping-your-account-and-data-secure/managing-your-personal-access-tokens\n",
    "    credential=AzureKeyCredential(os.getenv(\"GITHUB_TOKEN\")),\n",
    "    model_info={\n",
    "        \"json_output\": True,\n",
    "        \"function_calling\": True,\n",
    "        \"vision\": True,\n",
    "        \"family\": \"unknown\",\n",
    "    },\n",
    ")\n",
    "\n",
    "result = await client.create([UserMessage(content=\"What is the capital of France?\", source=\"user\")])\n",
    "print(result)"
   ]
  },
  {
   "cell_type": "markdown",
   "metadata": {},
   "source": [
    "## အေးဂျင့်ကို သတ်မှတ်ခြင်း\n",
    "\n",
    "`client` ကို စနစ်တကျ ပြင်ဆင်ပြီး အလုပ်လုပ်နေသည်ကို အတည်ပြုပြီးနောက် `AssistantAgent` တစ်ခုကို ဖန်တီးပါမည်။ အေးဂျင့်တစ်ခုစီကို အောက်ပါအတိုင်း သတ်မှတ်နိုင်ပါသည် -  \n",
    "**name** - အေးဂျင့်ကို ရည်ညွှန်းရန် အကျဉ်းချုပ်အမည်တစ်ခု။  \n",
    "**model_client** - ယခင်အဆင့်တွင် ဖန်တီးထားသော client။  \n",
    "**tools** - အေးဂျင့်အနေဖြင့် တာဝန်ကို ပြည့်စုံစွာ ဆောင်ရွက်ရန် အသုံးပြုနိုင်သော tools များ။  \n",
    "**system_message** - LLM ၏ တာဝန်၊ အပြုအမူနှင့် စကားသံကို သတ်မှတ်သော metaprompt။\n",
    "\n",
    "သင်၏ system message ကို ပြောင်းလဲပြီး LLM ၏ တုံ့ပြန်မှုကို ကြည့်ရှုနိုင်ပါသည်။ `tools` ကို Lesson #4 တွင် ဆွေးနွေးမည်။\n"
   ]
  },
  {
   "cell_type": "code",
   "execution_count": null,
   "metadata": {},
   "outputs": [],
   "source": [
    "agent = AssistantAgent(\n",
    "    name=\"assistant\",\n",
    "    model_client=client,\n",
    "    tools=[],\n",
    "    system_message=\"You are a travel agent that plans great vacations\",\n",
    ")"
   ]
  },
  {
   "cell_type": "markdown",
   "metadata": {},
   "source": [
    "## အေးဂျင့်ကို အလုပ်လုပ်စေပါ \n",
    "\n",
    "အောက်ပါ function သည် အေးဂျင့်ကို အလုပ်လုပ်စေမည်ဖြစ်သည်။ `on_message` method ကို အသုံးပြု၍ အသစ်ရရှိသော စာသားနှင့်အတူ အေးဂျင့်၏ အခြေအနေကို အပ်ဒိတ်လုပ်ပါသည်။\n",
    "\n",
    "ဤအခါတွင်၊ အသုံးပြုသူထံမှ `\"Plan me a great sunny vacation\"` ဟုဆိုသော အသစ်သော စာသားဖြင့် အခြေအနေကို အပ်ဒိတ်လုပ်ပါသည်။\n",
    "\n",
    "သင်သည် စာသားအကြောင်းအရာကို ပြောင်းလဲပြီး LLM က ဘယ်လို ကွဲပြားစွာ တုံ့ပြန်မည်ကို ကြည့်ရှုနိုင်ပါသည်။\n"
   ]
  },
  {
   "cell_type": "code",
   "execution_count": null,
   "metadata": {},
   "outputs": [],
   "source": [
    "from IPython.display import display, HTML\n",
    "\n",
    "\n",
    "async def assistant_run():\n",
    "    # Define the query\n",
    "    user_query = \"Plan me a great sunny vacation\"\n",
    "\n",
    "    # Start building HTML output\n",
    "    html_output = \"<div style='margin-bottom:10px'>\"\n",
    "    html_output += \"<div style='font-weight:bold'>User:</div>\"\n",
    "    html_output += f\"<div style='margin-left:20px'>{user_query}</div>\"\n",
    "    html_output += \"</div>\"\n",
    "\n",
    "    # Execute the agent response\n",
    "    response = await agent.on_messages(\n",
    "        [TextMessage(content=user_query, source=\"user\")],\n",
    "        cancellation_token=CancellationToken(),\n",
    "    )\n",
    "\n",
    "    # Add agent response to HTML\n",
    "    html_output += \"<div style='margin-bottom:20px'>\"\n",
    "    html_output += \"<div style='font-weight:bold'>Assistant:</div>\"\n",
    "    html_output += f\"<div style='margin-left:20px; white-space:pre-wrap'>{response.chat_message.content}</div>\"\n",
    "    html_output += \"</div>\"\n",
    "\n",
    "    # Display formatted HTML\n",
    "    display(HTML(html_output))\n",
    "\n",
    "# Run the function\n",
    "await assistant_run()"
   ]
  },
  {
   "cell_type": "markdown",
   "metadata": {},
   "source": [
    "\n---\n\n**အကြောင်းကြားချက်**:  \nဤစာရွက်စာတမ်းကို AI ဘာသာပြန်ဝန်ဆောင်မှု [Co-op Translator](https://github.com/Azure/co-op-translator) ကို အသုံးပြု၍ ဘာသာပြန်ထားပါသည်။ ကျွန်ုပ်တို့သည် တိကျမှုအတွက် ကြိုးစားနေသော်လည်း၊ အလိုအလျောက် ဘာသာပြန်ခြင်းတွင် အမှားများ သို့မဟုတ် မတိကျမှုများ ပါရှိနိုင်သည်ကို သတိပြုပါ။ မူရင်းစာရွက်စာတမ်းကို ၎င်း၏ မူရင်းဘာသာစကားဖြင့် အာဏာတရားရှိသော အရင်းအမြစ်အဖြစ် ရှုလေ့လာသင့်ပါသည်။ အရေးကြီးသော အချက်အလက်များအတွက် လူက ဘာသာပြန်ခြင်းကို အကြံပြုပါသည်။ ဤဘာသာပြန်ကို အသုံးပြုခြင်းမှ ဖြစ်ပေါ်လာသော အလွဲအလွဲအချော်များ သို့မဟုတ် အနားလွဲမှုများအတွက် ကျွန်ုပ်တို့သည် တာဝန်မယူပါ။\n"
   ]
  }
 ],
 "metadata": {
  "kernelspec": {
   "display_name": ".venv (3.12.11)",
   "language": "python",
   "name": "python3"
  },
  "language_info": {
   "codemirror_mode": {
    "name": "ipython",
    "version": 3
   },
   "file_extension": ".py",
   "mimetype": "text/x-python",
   "name": "python",
   "nbconvert_exporter": "python",
   "pygments_lexer": "ipython3",
   "version": "3.12.11"
  },
  "coopTranslator": {
   "original_hash": "aef8b2779015ef9099d6ee3cdacbb35d",
   "translation_date": "2025-08-30T01:11:47+00:00",
   "source_file": "02-explore-agentic-frameworks/code_samples/02-autogen.ipynb",
   "language_code": "my"
  }
 },
 "nbformat": 4,
 "nbformat_minor": 2
}