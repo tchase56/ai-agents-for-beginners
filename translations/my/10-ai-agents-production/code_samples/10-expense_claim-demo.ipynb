{
 "cells": [
  {
   "cell_type": "markdown",
   "metadata": {},
   "source": [
    "# ခရီးသွားစရိတ်တောင်းခံမှု ခွဲခြမ်းစိတ်ဖြာခြင်း\n",
    "\n",
    "ဒီ notebook က ခရီးသွားစရိတ်များကို ဒေသခံလက်ခံလက်မှတ်ပုံများမှ အချက်အလက်များကို အသုံးပြုပြီး စစ်ဆေးခြင်း၊ စရိတ်တောင်းခံအီးမေးလ်ရေးသားခြင်း၊ စရိတ်အချက်အလက်များကို ပိုင်းခြားကွက်တိပုံစံဖြင့် မြင်ကွင်းဖန်တီးခြင်းတို့ကို ပြုလုပ်နိုင်သော plugin အသုံးပြုသော agent များကို ဖန်တီးပုံကို ပြသထားသည်။ Agent များသည် တာဝန်၏ အခြေအနေအရ လိုအပ်သော function များကို အလိုအလျောက် ရွေးချယ်သည်။\n",
    "\n",
    "အဆင့်များ:\n",
    "1. OCR Agent သည် ဒေသခံလက်ခံလက်မှတ်ပုံကို စစ်ဆေးပြီး ခရီးသွားစရိတ်အချက်အလက်များကို ထုတ်ယူသည်။\n",
    "2. Email Agent သည် စရိတ်တောင်းခံအီးမေးလ်ကို ဖန်တီးသည်။\n",
    "\n",
    "### ခရီးသွားစရိတ်အခြေအနေတစ်ခု၏ ဥပမာ:\n",
    "သင်သည် အခြားမြို့တွင် စီးပွားရေးအစည်းအဝေးတစ်ခုအတွက် ခရီးသွားနေသော ဝန်ထမ်းတစ်ဦးဖြစ်သည်ဟု စဉ်းစားပါ။ သင့်ကုမ္ပဏီတွင် ခရီးသွားစရိတ်များကို ပြန်လည်ပေးဆောင်ရန် မူဝါဒရှိသည်။ ခရီးသွားစရိတ်များ၏ အလေးအနက်ကို အောက်ပါအတိုင်း ဖော်ပြထားသည်-\n",
    "\n",
    "- သယ်ယူပို့ဆောင်မှု:\n",
    "သင့်နေအိမ်မြို့မှ သွားရောက်မည့်မြို့သို့ အပြန်အလှန် လေယာဉ်လက်မှတ်။\n",
    "လေဆိပ်သို့ သွားရောက်ရန်နှင့် ပြန်လာရန် Taxi သို့မဟုတ် ride-hailing ဝန်ဆောင်မှုများ။\n",
    "သွားရောက်မည့်မြို့တွင် ဒေသခံသယ်ယူပို့ဆောင်မှု (အများပြည်သူသယ်ယူပို့ဆောင်မှု၊ ကားငှားခြင်း၊ သို့မဟုတ် Taxi များကဲ့သို့သော).\n",
    "\n",
    "- နေရာထိုင်ခင်း:\n",
    "အစည်းအဝေးကျင်းပရာနေရာအနီးရှိ အလယ်အလတ်စီးပွားရေးဟိုတယ်တွင် သုံးညအိပ်စက်ခြင်း။\n",
    "\n",
    "- အစားအသောက်:\n",
    "ကုမ္ပဏီ၏ per diem မူဝါဒအရ နေ့စဉ် မနက်စာ၊ နေ့လယ်စာ၊ ညစာအတွက် အစားအသောက်လက်ခံငွေ။\n",
    "\n",
    "- အခြားစရိတ်များ:\n",
    "လေဆိပ်တွင် ကားရပ်နားခ။\n",
    "ဟိုတယ်တွင် အင်တာနက်အသုံးပြုခ။\n",
    "Tips သို့မဟုတ် ဝန်ဆောင်မှုအခကြေးငွေသေးငယ်များ။\n",
    "\n",
    "- အထောက်အထား:\n",
    "သင်သည် လေယာဉ်လက်မှတ်များ၊ Taxi များ၊ ဟိုတယ်၊ အစားအသောက်စသည်တို့၏ လက်ခံလက်မှတ်များနှင့် ပြန်လည်ပေးဆောင်မှုအတွက် ပြည့်စုံသော စရိတ်တောင်းခံအစီရင်ခံစာကို တင်ပြသည်။\n"
   ]
  },
  {
   "cell_type": "markdown",
   "metadata": {},
   "source": [
    "## လိုအပ်သော လိုက်ဘရရီများကို သွင်းယူပါ\n",
    "\n",
    "Notebook အတွက် လိုအပ်သော လိုက်ဘရရီများနှင့် မော်ဂျူးများကို သွင်းယူပါ။\n"
   ]
  },
  {
   "cell_type": "code",
   "execution_count": 1,
   "metadata": {},
   "outputs": [
    {
     "data": {
      "text/plain": [
       "True"
      ]
     },
     "execution_count": 1,
     "metadata": {},
     "output_type": "execute_result"
    }
   ],
   "source": [
    "import os\n",
    "from dotenv import load_dotenv\n",
    "from azure.ai.inference import ChatCompletionsClient\n",
    "from azure.core.credentials import AzureKeyCredential\n",
    "from semantic_kernel.kernel import Kernel\n",
    "from semantic_kernel.agents import AgentGroupChat\n",
    "from openai import AsyncOpenAI\n",
    "from semantic_kernel.agents import ChatCompletionAgent, AgentGroupChat\n",
    "\n",
    "\n",
    "from semantic_kernel.contents.utils.author_role import AuthorRole\n",
    "from semantic_kernel.agents.strategies import SequentialSelectionStrategy, DefaultTerminationStrategy\n",
    "from semantic_kernel.contents.chat_message_content import ChatMessageContent\n",
    "from semantic_kernel.contents import ImageContent, TextContent\n",
    "from semantic_kernel.connectors.ai.open_ai import OpenAIChatCompletion, OpenAIChatPromptExecutionSettings\n",
    "\n",
    "from semantic_kernel.functions import kernel_function, KernelArguments\n",
    "from pydantic import BaseModel, Field\n",
    "from typing import List\n",
    "from azure.ai.inference.models import SystemMessage, UserMessage, TextContentItem, ImageContentItem, ImageUrl, ImageDetailLevel\n",
    "\n",
    "load_dotenv()"
   ]
  },
  {
   "cell_type": "code",
   "execution_count": 2,
   "metadata": {},
   "outputs": [],
   "source": [
    "def _create_kernel_with_chat_completion(service_id: str) -> Kernel:\n",
    "    kernel = Kernel()\n",
    "   \n",
    "    client = AsyncOpenAI(\n",
    "    api_key=os.environ[\"GITHUB_TOKEN\"], base_url=\"https://models.inference.ai.azure.com/\")\n",
    "    kernel.add_service(\n",
    "        OpenAIChatCompletion(\n",
    "            ai_model_id=\"gpt-4o-mini\",\n",
    "            async_client=client,\n",
    "            service_id=\"open_ai\"\n",
    "        )\n",
    "    )\n",
    "\n",
    "    kernel.add_service(\n",
    "        OpenAIChatCompletion(\n",
    "            ai_model_id=\"gpt-4o\",\n",
    "            async_client=client,\n",
    "            service_id=\"gpt-4o\"\n",
    "        )\n",
    "    )\n",
    "\n",
    "    return kernel"
   ]
  },
  {
   "cell_type": "markdown",
   "metadata": {},
   "source": [
    "## ကုန်ကျစရိတ် မော်ဒယ်များ သတ်မှတ်ခြင်း\n",
    "\n",
    "တစ်ခုချင်းစီ၏ ကုန်ကျစရိတ်များအတွက် Pydantic မော်ဒယ်တစ်ခု ဖန်တီးပြီး အသုံးပြုသူ၏ မေးခွန်းကို ဖွဲ့စည်းထားသော ကုန်ကျစရိတ်ဒေတာအဖြစ် ပြောင်းလဲပေးရန် ExpenseFormatter class တစ်ခု ဖန်တီးပါ။\n",
    "\n",
    "တစ်ခုချင်းစီ၏ ကုန်ကျစရိတ်ကို အောက်ပါပုံစံဖြင့် ကိုယ်စားပြုမည်ဖြစ်သည်။\n",
    "`{'date': '07-Mar-2025', 'description': 'flight to destination', 'amount': 675.99, 'category': 'Transportation'}`\n"
   ]
  },
  {
   "cell_type": "code",
   "execution_count": 3,
   "metadata": {},
   "outputs": [],
   "source": [
    "class Expense(BaseModel):\n",
    "    date: str = Field(..., description=\"Date of expense in dd-MMM-yyyy format\")\n",
    "    description: str = Field(..., description=\"Expense description\")\n",
    "    amount: float = Field(..., description=\"Expense amount\")\n",
    "    category: str = Field(..., description=\"Expense category (e.g., Transportation, Meals, Accommodation, Miscellaneous)\")\n",
    "\n",
    "class ExpenseFormatter(BaseModel):\n",
    "    raw_query: str = Field(..., description=\"Raw query input containing expense details\")\n",
    "    \n",
    "    def parse_expenses(self) -> List[Expense]:\n",
    "        \"\"\"\n",
    "        Parses the raw query into a list of Expense objects.\n",
    "        Expected format: \"date|description|amount|category\" separated by semicolons.\n",
    "        \"\"\"\n",
    "        expense_list = []\n",
    "        for expense_str in self.raw_query.split(\";\"):\n",
    "            if expense_str.strip():\n",
    "                parts = expense_str.strip().split(\"|\")\n",
    "                if len(parts) == 4:\n",
    "                    date, description, amount, category = parts\n",
    "                    try:\n",
    "                        expense = Expense(\n",
    "                            date=date.strip(),\n",
    "                            description=description.strip(),\n",
    "                            amount=float(amount.strip()),\n",
    "                            category=category.strip()\n",
    "                        )\n",
    "                        expense_list.append(expense)\n",
    "                    except ValueError as e:\n",
    "                        print(f\"[LOG] Parse Error: Invalid data in '{expense_str}': {e}\")\n",
    "        return expense_list"
   ]
  },
  {
   "cell_type": "markdown",
   "metadata": {},
   "source": [
    "## အေးဂျင့်များကို သတ်မှတ်ခြင်း - အီးမေးလ်ကို ဖန်တီးခြင်း\n",
    "\n",
    "ကုန်ကျစရိတ်တောင်းခံမှုတင်သွင်းရန်အတွက် အီးမေးလ်ကို ဖန်တီးပေးမည့် အေးဂျင့်ကလပ်စ်ကို ဖန်တီးပါ။\n",
    "- ဒီအေးဂျင့်သည် `kernel_function` အလှဆင်ကို အသုံးပြုပြီး ကုန်ကျစရိတ်တောင်းခံမှုတင်သွင်းရန်အီးမေးလ်ကို ဖန်တီးပေးမည့် function ကို သတ်မှတ်ပါသည်။\n",
    "- ကုန်ကျစရိတ်များ၏ စုစုပေါင်းငွေပမာဏကိုတွက်ချက်ပြီး အီးမေးလ်အကြောင်းအရာအဖြစ် အသေးစိတ်ကို ဖော်ပြပေးပါသည်။\n"
   ]
  },
  {
   "cell_type": "code",
   "execution_count": 4,
   "metadata": {},
   "outputs": [],
   "source": [
    "class ExpenseEmailAgent:\n",
    "\n",
    "    @kernel_function(description=\"Generate an email to submit an expense claim to the Finance Team\")\n",
    "    async def generate_expense_email(expenses):\n",
    "        total_amount = sum(expense['amount'] for expense in expenses)\n",
    "        email_body = \"Dear Finance Team,\\n\\n\"\n",
    "        email_body += \"Please find below the details of my expense claim:\\n\\n\"\n",
    "        for expense in expenses:\n",
    "            email_body += f\"- {expense['description']}: ${expense['amount']}\\n\"\n",
    "        email_body += f\"\\nTotal Amount: ${total_amount}\\n\\n\"\n",
    "        email_body += \"Receipts for all expenses are attached for your reference.\\n\\n\"\n",
    "        email_body += \"Thank you,\\n[Your Name]\"\n",
    "        return email_body"
   ]
  },
  {
   "cell_type": "markdown",
   "metadata": {},
   "source": [
    "# ခရီးသွားစရိတ်များကို ဘောင်ချာပုံများမှ ထုတ်ယူရန် Agent\n",
    "\n",
    "ခရီးသွားစရိတ်များကို ဘောင်ချာပုံများမှ ထုတ်ယူရန် agent class တစ်ခု ဖန်တီးပါ။\n",
    "- ဒီ agent သည် `kernel_function` အလှဆင်ကို အသုံးပြုပြီး ခရီးသွားစရိတ်များကို ဘောင်ချာပုံများမှ ထုတ်ယူရန် function တစ်ခုကို သတ်မှတ်ပါသည်။\n",
    "- OCR (Optical Character Recognition) ကို အသုံးပြု၍ ဘောင်ချာပုံကို စာသားအဖြစ် ပြောင်းပြီး ရက်စွဲ၊ ဖော်ပြချက်၊ ငွေပမာဏနှင့် အမျိုးအစားကဲ့သို့သော သက်ဆိုင်ရာ အချက်အလက်များကို ထုတ်ယူပါ။\n"
   ]
  },
  {
   "cell_type": "code",
   "execution_count": 5,
   "metadata": {},
   "outputs": [],
   "source": [
    "class OCRAgentPlugin:\n",
    "    def __init__(self):\n",
    "        self.client = ChatCompletionsClient(\n",
    "            endpoint=\"https://models.inference.ai.azure.com/\",\n",
    "            credential=AzureKeyCredential(os.environ.get(\"GITHUB_TOKEN\")),\n",
    "        )\n",
    "        self.model_name = \"gpt-4o\"\n",
    "\n",
    "    @kernel_function(description=\"Extract structured travel expense data from receipt.jpg using gpt-4o-model\")\n",
    "    def extract_text(self, image_path: str = \"receipt.jpg\") -> str:\n",
    "        try:\n",
    "            image_url_str = str(ImageUrl.load(image_file=image_path, image_format=\"jpg\", detail=ImageDetailLevel.HIGH))\n",
    "\n",
    "            prompt = (\n",
    "                \"You are an expert OCR assistant specialized in extracting structured data from receipt images. \"\n",
    "                \"Analyze the provided receipt image and extract travel-related expense details in the format: \"\n",
    "                \"'date|description|amount|category' separated by semicolons. \"\n",
    "                \"Follow these rules: \"\n",
    "                \"- Date: Convert dates (e.g., '4/4/22') to 'dd-MMM-yyyy' (e.g., '04-Apr-2022'). \"\n",
    "                \"- Description: Extract item names (e.g., 'Carlson's Drylawn', 'Peigs transaction Probiotics'). \"\n",
    "                \"- Amount: Use numeric values (e.g., '4.50' from '$4.50' or '4.50 dollars'). \"\n",
    "                \"- Category: Infer from context (e.g., 'Meals' for food, 'Transportation' for travel, 'Accommodation' for lodging, 'Miscellaneous' otherwise). \"\n",
    "                \"Ignore totals, subtotals, or service charges unless they are itemized expenses. \"\n",
    "                \"If no expenses are found, return 'No expenses detected'. \"\n",
    "                \"Return only the structured data, no additional text.\"\n",
    "            )\n",
    "            response = self.client.complete(\n",
    "                messages=[\n",
    "                    SystemMessage(content=prompt),\n",
    "                    UserMessage(content=[\n",
    "                        TextContentItem(text=\"Extract travel expenses from this receipt image.\"),\n",
    "                        ImageContentItem(image_url=ImageUrl(url=image_url_str))\n",
    "                    ])\n",
    "                ],\n",
    "                model=self.model_name,\n",
    "                temperature=0.1,\n",
    "                max_tokens=2048\n",
    "            )\n",
    "            extracted_text = response.choices[0].message.content\n",
    "            return extracted_text\n",
    "        except Exception as e:\n",
    "            error_msg = f\"[LOG] OCR Plugin: Error processing image: {str(e)}\"\n",
    "            print(error_msg)\n",
    "            return error_msg"
   ]
  },
  {
   "cell_type": "markdown",
   "metadata": {},
   "source": [
    "## အကုန်အကျဆောင်ရွက်ခြင်း\n",
    "\n",
    "အကုန်အကျများကို ဆောင်ရွက်ရန် လိုအပ်သော Agent များကို ဖန်တီးပြီး မှတ်ပုံတင်ကာ အလုပ်လုပ်စေသော asynchronous function ကို သတ်မှတ်ပါ။\n",
    "- ဒီ function သည် အလုပ်လုပ်စေခြင်းအတွက် ပတ်ဝန်းကျင် variable များကို load လုပ်ပြီး လိုအပ်သော Agent များကို ဖန်တီးကာ plugin အဖြစ် မှတ်ပုံတင်သည်။\n",
    "- Agent နှစ်ခုနှင့်အတူ Group Chat တစ်ခုကို ဖန်တီးပြီး အကုန်အကျ data အပေါ်မူတည်၍ အီးမေးလ်နှင့် Pie Chart ကို ဖန်တီးရန် prompt message ကို ပို့သည်။\n",
    "- Chat ကို အလုပ်လုပ်စေရာတွင် ဖြစ်ပေါ်လာသော error များကို ကိုင်တွယ်ပြီး Agent များကို သေချာစွာ ရှင်းလင်းပေးသည်။\n"
   ]
  },
  {
   "cell_type": "code",
   "execution_count": 6,
   "metadata": {},
   "outputs": [],
   "source": [
    "async def process_expenses():\n",
    "    load_dotenv()\n",
    "    settings_slm = OpenAIChatPromptExecutionSettings(service_id=\"gpt-4o\")\n",
    "    settings_llm = OpenAIChatPromptExecutionSettings(service_id=\"open_ai\")  # Fixed typo in service_id\n",
    "    \n",
    "    ocr_agent = ChatCompletionAgent(\n",
    "        kernel=_create_kernel_with_chat_completion(\"ocrAgent\"),\n",
    "        name=\"ocr_agent\",\n",
    "        instructions=\"Extract travel expense data from the receipt image in the prompt using the 'extract_text' function from the 'ocrAgent' plugin. Return the data in the format 'date|description|amount|category' separated by semicolons.\",\n",
    "        arguments=KernelArguments(settings=settings_slm)\n",
    "    )\n",
    "    \n",
    "       \n",
    "    email_agent = ChatCompletionAgent(\n",
    "            kernel=_create_kernel_with_chat_completion(\"expenseEmailAgent\"),\n",
    "            name=\"email_agent\",\n",
    "            instructions=\"Take the travel expense data from the previous agent and generate a professional expense claim email using the 'generate_expense_email' function from the 'expenseEmailAgent' plugin, then pass the data forward.\",\n",
    "            arguments=KernelArguments(\n",
    "                settings=settings_llm)\n",
    "        )\n",
    "\n",
    "\n",
    "    kernel = Kernel()\n",
    "\n",
    "    # Use fixed path to receipt.jpg in the same folder\n",
    "    image_path = \"./receipt.jpg\"\n",
    "    \n",
    "    # Create a structured message with text and image content for OCR processing\n",
    "    image_url_str = f\"file://{image_path}\"\n",
    "    \n",
    "    # Using the correct format for multi-modal content\n",
    "    user_message = ChatMessageContent(\n",
    "        role=AuthorRole.USER,\n",
    "        items=[\n",
    "            TextContent(text=\"\"\"\n",
    "            Please extract the raw text from this receipt image, focusing on travel expenses like dates, descriptions, amounts, and categories (e.g., Transportation, Accommodation, Meals, Miscellaneous).\n",
    "            Then generate a professional expense claim email.\n",
    "                        \"\"\"),\n",
    "            ImageContent.from_image_file(path=image_path)\n",
    "        ]\n",
    "    )\n",
    "\n",
    "    # Register plugins with the kernel\n",
    "    kernel.add_plugin(OCRAgentPlugin(), plugin_name=\"ocrAgent\")\n",
    "    kernel.add_plugin(ExpenseEmailAgent(), plugin_name=\"expenseEmailAgent\")\n",
    "\n",
    "    # Create group chat\n",
    "    chat = AgentGroupChat(\n",
    "        agents=[ocr_agent, email_agent],\n",
    "        selection_strategy=SequentialSelectionStrategy(initial_agent=ocr_agent),\n",
    "        termination_strategy=DefaultTerminationStrategy(maximum_iterations=1)\n",
    "    )\n",
    "\n",
    "    # Add user message with prompt\n",
    "    await chat.add_chat_message(user_message)\n",
    "    print(f\"# User message added to chat with receipt image\")\n",
    "\n",
    "    async for content in chat.invoke():\n",
    "        print(f\"# Agent - {content.name or '*'}: '{content.content}'\")\n"
   ]
  },
  {
   "cell_type": "markdown",
   "metadata": {},
   "source": [
    "## အဓိက Function\n",
    "\n",
    "အဓိက function ကို သတ်မှတ်ပြီး console ကို ရှင်းလင်းရန်နှင့် `process_expenses` function ကို asynchronous အနေဖြင့် အလုပ်လုပ်စေပါ။\n"
   ]
  },
  {
   "cell_type": "code",
   "execution_count": 9,
   "metadata": {},
   "outputs": [
    {
     "name": "stdout",
     "output_type": "stream",
     "text": [
      "# User message added to chat with receipt image\n",
      "# Agent - ocr_agent: 'The receipt primarily seems to capture costs for meals and beverages. Below is the extracted travel expense data:\n",
      "\n",
      "**Travel Expense Data:**  \n",
      "`2 May '22|Meals at restaurant|75.15|Meals`\n",
      "\n",
      "---\n",
      "\n",
      "**Professional Expense Claim Email Draft:**  \n",
      "\n",
      "**Subject:** Expense Claim for Meals – 2 May 2022  \n",
      "\n",
      "Dear [Recipient's Name],  \n",
      "\n",
      "I am submitting an expense claim for a meal incurred during a business-related trip. Below are the details:  \n",
      "\n",
      "- **Date:** 2 May 2022  \n",
      "- **Expense Description:** Meals at a restaurant  \n",
      "- **Amount:** $75.15  \n",
      "- **Category:** Meals  \n",
      "\n",
      "Please find the attached receipt for your reference. Kindly process the reimbursement at your earliest convenience. Let me know if you require additional information.  \n",
      "\n",
      "Thank you for your assistance.  \n",
      "\n",
      "Best regards,  \n",
      "[Your Name]  \n",
      "[Your Contact Information]  \n",
      "\n",
      "Let me know if you need further revisions or additional details!'\n"
     ]
    }
   ],
   "source": [
    "async def main():\n",
    "    # Clear the console\n",
    "    os.system('cls' if os.name=='nt' else 'clear')\n",
    "\n",
    "    # Run the async agent code\n",
    "    await process_expenses()\n",
    "\n",
    "await main()"
   ]
  },
  {
   "cell_type": "code",
   "execution_count": null,
   "metadata": {},
   "outputs": [],
   "source": []
  },
  {
   "cell_type": "markdown",
   "metadata": {},
   "source": [
    "\n---\n\n**အကြောင်းကြားချက်**:  \nဤစာရွက်စာတမ်းကို AI ဘာသာပြန်ဝန်ဆောင်မှု [Co-op Translator](https://github.com/Azure/co-op-translator) ကို အသုံးပြု၍ ဘာသာပြန်ထားပါသည်။ ကျွန်ုပ်တို့သည် တိကျမှုအတွက် ကြိုးစားနေသော်လည်း၊ အလိုအလျောက် ဘာသာပြန်ခြင်းတွင် အမှားများ သို့မဟုတ် မတိကျမှုများ ပါဝင်နိုင်သည်ကို သတိပြုပါ။ မူရင်းဘာသာစကားဖြင့် ရေးသားထားသော စာရွက်စာတမ်းကို အာဏာတရ အရင်းအမြစ်အဖြစ် ရှုယူသင့်ပါသည်။ အရေးကြီးသော အချက်အလက်များအတွက် လူ့ဘာသာပြန်ပညာရှင်များမှ ပရော်ဖက်ရှင်နယ် ဘာသာပြန်ခြင်းကို အကြံပြုပါသည်။ ဤဘာသာပြန်ကို အသုံးပြုခြင်းမှ ဖြစ်ပေါ်လာသော အလွဲအမှားများ သို့မဟုတ် အနားလွဲမှုများအတွက် ကျွန်ုပ်တို့သည် တာဝန်မယူပါ။\n"
   ]
  }
 ],
 "metadata": {
  "kernelspec": {
   "display_name": "venv",
   "language": "python",
   "name": "python3"
  },
  "language_info": {
   "codemirror_mode": {
    "name": "ipython",
    "version": 3
   },
   "file_extension": ".py",
   "mimetype": "text/x-python",
   "name": "python",
   "nbconvert_exporter": "python",
   "pygments_lexer": "ipython3",
   "version": "3.12.4"
  },
  "coopTranslator": {
   "original_hash": "6ffd20126d1786605b28cf9ca22ed62b",
   "translation_date": "2025-08-30T00:30:17+00:00",
   "source_file": "10-ai-agents-production/code_samples/10-expense_claim-demo.ipynb",
   "language_code": "my"
  }
 },
 "nbformat": 4,
 "nbformat_minor": 2
}