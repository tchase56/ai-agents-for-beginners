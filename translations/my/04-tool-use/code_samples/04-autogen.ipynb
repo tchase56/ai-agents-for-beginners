{
 "cells": [
  {
   "cell_type": "markdown",
   "metadata": {},
   "source": []
  },
  {
   "cell_type": "markdown",
   "metadata": {},
   "source": []
  },
  {
   "cell_type": "code",
   "execution_count": null,
   "metadata": {},
   "outputs": [],
   "source": [
    "import os\n",
    "import json\n",
    "\n",
    "import requests\n",
    "from autogen_agentchat.agents import AssistantAgent\n",
    "from autogen_core.models import UserMessage\n",
    "from autogen_ext.models.azure import AzureAIChatCompletionClient\n",
    "from azure.core.credentials import AzureKeyCredential\n",
    "from autogen_core import CancellationToken\n",
    "from autogen_core.tools import FunctionTool\n",
    "from autogen_agentchat.messages import TextMessage\n",
    "from autogen_agentchat.ui import Console\n",
    "from typing import Any, Callable, Set, Dict, List, Optional"
   ]
  },
  {
   "cell_type": "markdown",
   "metadata": {},
   "source": [
    "## Client ကို ဖန်တီးခြင်း\n",
    "\n",
    "ဤနမူနာတွင် [GitHub Models](https://aka.ms/ai-agents-beginners/github-models) ကို အသုံးပြု၍ LLM ကို အသုံးပြုမည်ဖြစ်သည်။\n",
    "\n",
    "`model` ကို `gpt-4o-mini` ဟု သတ်မှတ်ထားသည်။ GitHub Models စျေးကွက်တွင် ရရှိနိုင်သော အခြားမော်ဒယ်တစ်ခုကို ပြောင်းလဲကြည့်ပြီး မတူညီသောရလဒ်များကို ကြည့်ရှုနိုင်ပါသည်။\n",
    "\n",
    "အမြန်စမ်းသပ်မှုအနေနှင့် `What is the capital of France` ဟု ရိုးရိုးရှင်းရှင်း prompt တစ်ခုကို လုပ်ဆောင်ကြည့်မည်။\n"
   ]
  },
  {
   "cell_type": "code",
   "execution_count": null,
   "metadata": {},
   "outputs": [],
   "source": [
    "client = AzureAIChatCompletionClient(\n",
    "    model=\"gpt-4o-mini\",\n",
    "    endpoint=\"https://models.inference.ai.azure.com\",\n",
    "    # To authenticate with the model you will need to generate a personal access token (PAT) in your GitHub settings.\n",
    "    # Create your PAT token by following instructions here: https://docs.github.com/en/authentication/keeping-your-account-and-data-secure/managing-your-personal-access-tokens\n",
    "    credential=AzureKeyCredential(os.environ[\"GITHUB_TOKEN\"]),\n",
    "    model_info={\n",
    "        \"json_output\": True,\n",
    "        \"function_calling\": True,\n",
    "        \"vision\": True,\n",
    "        \"family\": \"unknown\",\n",
    "    },\n",
    ")\n",
    "\n",
    "result = await client.create([UserMessage(content=\"What is the capital of France?\", source=\"user\")])\n",
    "print(result)"
   ]
  },
  {
   "cell_type": "markdown",
   "metadata": {},
   "source": [
    "## အလုပ်ဆောင်ပုံများကို သတ်မှတ်ခြင်း\n",
    "\n",
    "ဤဥပမာတွင်၊ အေးဂျင့်တစ်ဦးအား ရရှိနိုင်သော အပန်းဖြေခရီးစဉ်နေရာများနှင့် ၎င်းတို့ရရှိနိုင်မှုစာရင်းပါဝင်သည့် အလုပ်ဆောင်ပုံတစ်ခုကို အသုံးပြုနိုင်ရန် ခွင့်ပြုမည်ဖြစ်သည်။\n",
    "\n",
    "ဤအခြေအနေကို ခရီးသွားအေးဂျင့်တစ်ဦးက ခရီးသွားဒေတာဘေ့စ်တစ်ခုကို အသုံးပြုခွင့်ရရှိထားသော အခြေအနေတစ်ခုအဖြစ် စဉ်းစားနိုင်သည်။\n",
    "\n",
    "ဤနမူနာကို လေ့လာသည့်အခါ၊ အေးဂျင့်က ခေါ်ယူနိုင်မည့် အလုပ်ဆောင်ပုံအသစ်များနှင့် ကိရိယာအသစ်များကို သတ်မှတ်ကြည့်ရန် လွတ်လပ်စွာ ကြိုးစားနိုင်ပါသည်။\n"
   ]
  },
  {
   "cell_type": "code",
   "execution_count": null,
   "metadata": {},
   "outputs": [],
   "source": [
    "from typing import Dict, List, Optional\n",
    "\n",
    "\n",
    "def vacation_destinations(city: str) -> tuple[str, str]:\n",
    "    \"\"\"\n",
    "    Checks if a specific vacation destination is available\n",
    "    \n",
    "    Args:\n",
    "        city (str): Name of the city to check\n",
    "        \n",
    "    Returns:\n",
    "        tuple: Contains city name and availability status ('Available' or 'Unavailable')\n",
    "    \"\"\"\n",
    "    destinations = {\n",
    "        \"Barcelona\": \"Available\",\n",
    "        \"Tokyo\": \"Unavailable\",\n",
    "        \"Cape Town\": \"Available\",\n",
    "        \"Vancouver\": \"Available\",\n",
    "        \"Dubai\": \"Unavailable\",\n",
    "    }\n",
    "\n",
    "    if city in destinations:\n",
    "        return city, destinations[city]\n",
    "    else:\n",
    "        return city, \"City not found\"\n",
    "\n",
    "# Example usage:\n",
    "# city, status = vacation_destinations(\"Barcelona\")\n",
    "# print(f\"How about visiting {city}? It's currently {status} there!\")"
   ]
  },
  {
   "cell_type": "markdown",
   "metadata": {},
   "source": [
    "## Function Tool ကိုသတ်မှတ်ခြင်း  \n",
    "`vacation_destinations` ကို `FunctionTool` အဖြစ် အသုံးပြုစေလိုပါက၊ ၎င်းကို Function Tool အဖြစ် သတ်မှတ်ရန် လိုအပ်ပါသည်။\n",
    "\n",
    "ထို့အပြင်၊ အသုံးပြုသူ၏ တောင်းဆိုမှုနှင့် ပတ်သက်ပြီး အဆိုပါ tool ကို ဘာအတွက် အသုံးပြုရမည်ကို အေးဂျင့်အနေနှင့် သဘောပေါက်စေရန် အထောက်အကူဖြစ်စေမည့် ဖော်ပြချက်တစ်ရပ်ကိုလည်း ပံ့ပိုးပေးပါမည်။\n"
   ]
  },
  {
   "cell_type": "code",
   "execution_count": null,
   "metadata": {},
   "outputs": [],
   "source": [
    "get_vacations = FunctionTool(\n",
    "    vacation_destinations, description=\"Search for vacation destinations and if they are available or not.\"\n",
    ")"
   ]
  },
  {
   "cell_type": "markdown",
   "metadata": {},
   "source": [
    "## အေးဂျင့်ကို သတ်မှတ်ခြင်း\n",
    "\n",
    "အောက်ပါကုဒ်တွင် အေးဂျင့်ကို ဖန်တီးနိုင်ပါပြီ။ `system_message` ကို သတ်မှတ်ပြီး အသုံးပြုသူများအား အပန်းဖြေခရီးစဉ်နေရာများ ရှာဖွေရာတွင် အကူအညီပေးရန် ညွှန်ကြားချက်များ ပေးလိုက်ပါသည်။\n",
    "\n",
    "ထို့အပြင် `reflect_on_tool_use` parameter ကို true အဖြစ် သတ်မှတ်ထားပါသည်။ ဒါကတော့ Tool ကို ခေါ်ယူပြီးရရှိသော အဖြေကို သဘာဝဘာသာစကားဖြင့် ပြန်လည်ပေးပို့ရန် LLM ကို အသုံးပြုခွင့်ပေးသည်။\n",
    "\n",
    "အဆိုပါ parameter ကို false အဖြစ် သတ်မှတ်ပြီး ကွာခြားချက်ကို ကြည့်ရှုနိုင်ပါသည်။\n"
   ]
  },
  {
   "cell_type": "code",
   "execution_count": null,
   "metadata": {},
   "outputs": [],
   "source": [
    "agent = AssistantAgent(\n",
    "    name=\"assistant\",\n",
    "    model_client=client,\n",
    "    tools=[get_vacations],\n",
    "    system_message=\"You are a travel agent that helps users find vacation destinations.\",\n",
    "    reflect_on_tool_use=True,\n",
    ")"
   ]
  },
  {
   "cell_type": "markdown",
   "metadata": {},
   "source": [
    "## အေးဂျင့်ကို အလုပ်လုပ်စေခြင်း\n",
    "\n",
    "အခုတော့ တိုကျိုကို ခရီးသွားဖို့ မေးမြန်းတဲ့ မူလအသုံးပြုသူ၏ မက်ဆေ့ချ်နှင့်အတူ အေးဂျင့်ကို အလုပ်လုပ်စေနိုင်ပါပြီ။\n",
    "\n",
    "ဒီမြို့ကို ခရီးသွားရန်နေရာကို ပြောင်းလဲပြီး အေးဂျင့်က မြို့ရရှိနိုင်မှုကို ဘယ်လိုတုံ့ပြန်မယ်ဆိုတာ ကြည့်ရှုနိုင်ပါတယ်။\n"
   ]
  },
  {
   "cell_type": "code",
   "execution_count": null,
   "metadata": {},
   "outputs": [],
   "source": [
    "async def assistant_run() -> None:\n",
    "    response = await agent.on_messages(\n",
    "        [TextMessage(content=\"I would like to take a trip to Tokyo\", source=\"user\")],\n",
    "        cancellation_token=CancellationToken(),\n",
    "    )\n",
    "    print(response.inner_messages)\n",
    "    print(response.chat_message)\n",
    "\n",
    "\n",
    "# Use asyncio.run(assistant_run()) when running in a script.\n",
    "await assistant_run()"
   ]
  },
  {
   "cell_type": "markdown",
   "metadata": {},
   "source": [
    "\n---\n\n**အကြောင်းကြားချက်**:  \nဤစာရွက်စာတမ်းကို AI ဘာသာပြန်ဝန်ဆောင်မှု [Co-op Translator](https://github.com/Azure/co-op-translator) ကို အသုံးပြု၍ ဘာသာပြန်ထားပါသည်။ ကျွန်ုပ်တို့သည် တိကျမှုအတွက် ကြိုးစားနေသော်လည်း၊ အလိုအလျောက် ဘာသာပြန်မှုများတွင် အမှားများ သို့မဟုတ် မတိကျမှုများ ပါဝင်နိုင်သည်ကို သတိပြုပါ။ မူရင်းစာရွက်စာတမ်းကို ၎င်း၏ မူလဘာသာစကားဖြင့် အာဏာတရားရှိသော အရင်းအမြစ်အဖြစ် ရှုလေ့လာသင့်ပါသည်။ အရေးကြီးသော အချက်အလက်များအတွက် လူက ဘာသာပြန်မှု ဝန်ဆောင်မှုကို အသုံးပြုရန် အကြံပြုပါသည်။ ဤဘာသာပြန်မှုကို အသုံးပြုခြင်းမှ ဖြစ်ပေါ်လာသော အလွဲအလွတ်များ သို့မဟုတ် အနားလွဲမှုများအတွက် ကျွန်ုပ်တို့သည် တာဝန်မယူပါ။\n"
   ]
  }
 ],
 "metadata": {
  "kernelspec": {
   "display_name": ".venv",
   "language": "python",
   "name": "python3"
  },
  "language_info": {
   "codemirror_mode": {
    "name": "ipython",
    "version": 3
   },
   "file_extension": ".py",
   "mimetype": "text/x-python",
   "name": "python",
   "nbconvert_exporter": "python",
   "pygments_lexer": "ipython3",
   "version": "3.13.1"
  },
  "coopTranslator": {
   "original_hash": "3ab7ffbff609b601fcdfeb749af44e43",
   "translation_date": "2025-08-30T00:57:12+00:00",
   "source_file": "04-tool-use/code_samples/04-autogen.ipynb",
   "language_code": "my"
  }
 },
 "nbformat": 4,
 "nbformat_minor": 2
}