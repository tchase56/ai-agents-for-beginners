{
 "cells": [
  {
   "cell_type": "markdown",
   "metadata": {},
   "source": [
    "# RAG Gamit ang Azure AI Agent Service at Semantic Kernel\n",
    "\n",
    "Ang code snippet na ito ay nagpapakita kung paano lumikha at mag-manage ng isang Azure AI agent para sa retrieval-augmented generation (RAG) gamit ang `Azure AI Agent Service` at `Semantic Kernel`. Pinoproseso ng agent ang mga tanong ng user batay sa narekober na konteksto at nagbibigay ng tamang sagot ayon dito.\n"
   ]
  },
  {
   "cell_type": "markdown",
   "metadata": {},
   "source": []
  },
  {
   "cell_type": "markdown",
   "metadata": {},
   "source": [
    "SQLite Bersyon na Ayusin  \n",
    "Kung makaranas ka ng error:  \n",
    "```\n",
    "RuntimeError: Your system has an unsupported version of sqlite3. Chroma requires sqlite3 >= 3.35.0\n",
    "```  \n",
    "\n",
    "Tanggalin ang pagkaka-comment ng code block na ito sa simula ng iyong notebook:  \n"
   ]
  },
  {
   "cell_type": "code",
   "execution_count": null,
   "metadata": {},
   "outputs": [],
   "source": [
    "# %pip install pysqlite3-binary\n",
    "# __import__('pysqlite3')\n",
    "# import sys\n",
    "# sys.modules['sqlite3'] = sys.modules.pop('pysqlite3')"
   ]
  },
  {
   "cell_type": "markdown",
   "metadata": {},
   "source": [
    "### Pag-import ng mga Package\n",
    "Ang sumusunod na code ay nag-i-import ng mga kinakailangang package:\n"
   ]
  },
  {
   "cell_type": "code",
   "execution_count": null,
   "metadata": {},
   "outputs": [],
   "source": [
    "# Azure imports for project client and credentials\n",
    "from azure.ai.projects.models import FileSearchTool, OpenAIFile, VectorStore\n",
    "from azure.identity.aio import DefaultAzureCredential\n",
    "\n",
    "# Semantic Kernel imports\n",
    "from semantic_kernel.agents import AzureAIAgent, AzureAIAgentThread"
   ]
  },
  {
   "cell_type": "markdown",
   "metadata": {},
   "source": [
    "# Retrieval-Augmented Generation gamit ang Semantic Kernel at Azure AI Agent Service\n",
    "\n",
    "Ipinapakita ng halimbawang ito kung paano gamitin ang **Azure AI Agent Service** upang magsagawa ng **Retrieval-Augmented Generation (RAG)** sa pamamagitan ng pagsasama ng isang language model sa domain-specific na konteksto mula sa isang na-upload na dokumento.\n",
    "\n",
    "### Paano Ito Gumagana\n",
    "\n",
    "1. **Pag-upload ng Dokumento**: Isang markdown file (document.md) na naglalaman ng impormasyon (patakaran sa travel insurance ng Contoso) ang ina-upload sa agent service.\n",
    "\n",
    "2. **Paglikha ng Vector Store**: Ang dokumento ay ini-index sa isang vector store upang paganahin ang semantic search sa nilalaman nito.\n",
    "\n",
    "3. **Pag-configure ng Agent**: Ang isang agent ay ini-instantiate gamit ang modelong `gpt-4o` na may sumusunod na mahigpit na mga tagubilin:\n",
    "   - Sumagot lamang ng mga tanong batay sa narekober na nilalaman mula sa dokumento.\n",
    "   - Tumangging sumagot kung ang tanong ay wala sa saklaw.\n",
    "\n",
    "4. **Pagsasama ng File Search Tool**: Ang `FileSearchTool` ay nirehistro sa agent, na nagbibigay-daan sa modelong maghanap at kumuha ng mga kaugnay na bahagi mula sa na-index na dokumento habang nasa proseso ng inference.\n",
    "\n",
    "5. **Interaksyon ng Gumagamit**: Maaaring magtanong ang mga gumagamit. Kung may makukuhang kaugnay na impormasyon mula sa dokumento, ang agent ay bumubuo ng sagot na may basehan.  \n",
    "   Kung wala, malinaw na sasabihin ng agent na walang sapat na impormasyon sa dokumento.\n"
   ]
  },
  {
   "cell_type": "markdown",
   "metadata": {},
   "source": [
    "### Pangunahing Function\n",
    "\n",
    "Ang pangunahing function ay ang entry point ng iyong programa. Dito nagsisimula ang lahat ng lohika at operasyon.\n",
    "\n",
    "```python\n",
    "def main():\n",
    "    # Simulan ang pangunahing lohika dito\n",
    "    print(\"Maligayang pagdating sa programa!\")\n",
    "```\n",
    "\n",
    "[!NOTE] Siguraduhing tawagin ang `main()` function upang masimulan ang programa.\n",
    "\n",
    "### Paano Tawagin ang Main Function\n",
    "\n",
    "Upang masiguro na ang `main()` function ay tatakbo lamang kapag ang script ay direktang pinatakbo, gamitin ang sumusunod na pattern:\n",
    "\n",
    "```python\n",
    "if __name__ == \"__main__\":\n",
    "    main()\n",
    "```\n",
    "\n",
    "[!IMPORTANT] Ang pattern na ito ay mahalaga upang maiwasan ang hindi sinasadyang pagpapatakbo ng code kapag ang script ay na-import bilang isang module.\n",
    "\n",
    "### Mga Halimbawa ng Output\n",
    "\n",
    "Kapag pinatakbo mo ang script, makikita mo ang sumusunod na output sa terminal:\n",
    "\n",
    "```\n",
    "Maligayang pagdating sa programa!\n",
    "```\n",
    "\n",
    "[!TIP] Maaari mong i-customize ang mensahe sa loob ng `print()` function upang umangkop sa iyong mga pangangailangan.\n"
   ]
  },
  {
   "cell_type": "markdown",
   "metadata": {},
   "source": [
    "Siguraduhing patakbuhin muna ang `az login` gamit ang Azure CLI upang maibigay ang tamang authentication context habang ginagamit ang `DefaultAzureCredential`. Ang Azure AI Agent Service ay hindi gumagamit ng mga API key.\n"
   ]
  },
  {
   "cell_type": "code",
   "execution_count": null,
   "metadata": {},
   "outputs": [],
   "source": [
    "async def main():\n",
    "    async with (\n",
    "        DefaultAzureCredential() as creds,\n",
    "        AzureAIAgent.create_client(credential=creds) as client,\n",
    "    ):\n",
    "        file: OpenAIFile = await client.agents.upload_file_and_poll(file_path=\"document.md\", purpose=\"assistants\")\n",
    "        vector_store: VectorStore = await client.agents.create_vector_store_and_poll(\n",
    "            file_ids=[file.id], name=\"my_vectorstore\"\n",
    "        )\n",
    "\n",
    "        # Define agent name and instructions tailored for RAG.\n",
    "        AGENT_NAME = \"RAGAgent\"\n",
    "        AGENT_INSTRUCTIONS = \"\"\"\n",
    "        You are an AI assistant designed to answer user questions using only the information retrieved from the provided document(s).\n",
    "\n",
    "        - If a user's question cannot be answered using the retrieved context, **you must clearly respond**: \n",
    "        \"I'm sorry, but the uploaded document does not contain the necessary information to answer that question.\"\n",
    "        - Do not answer from general knowledge or reasoning. Do not make assumptions or generate hypothetical explanations.\n",
    "        - Do not provide definitions, tutorials, or commentary that is not explicitly grounded in the content of the uploaded file(s).\n",
    "        - If a user asks a question like \"What is a Neural Network?\", and this is not discussed in the uploaded document, respond as instructed above.\n",
    "        - For questions that do have relevant content in the document (e.g., Contoso's travel insurance coverage), respond accurately, and cite the document explicitly.\n",
    "\n",
    "        You must behave as if you have no external knowledge beyond what is retrieved from the uploaded document.\n",
    "        \"\"\"\n",
    "\n",
    "        \n",
    "        # Create file search tool with uploaded resources\n",
    "        file_search = FileSearchTool(vector_store_ids=[vector_store.id])\n",
    "\n",
    "        # 3. Create an agent on the Azure AI agent service with the file search tool\n",
    "        agent_definition = await client.agents.create_agent(\n",
    "            model=\"gpt-4o\",  # This model should match your Azure OpenAI deployment.\n",
    "            name=AGENT_NAME,\n",
    "            instructions=AGENT_INSTRUCTIONS,\n",
    "            tools=file_search.definitions,\n",
    "            tool_resources=file_search.resources,\n",
    "        )\n",
    "        \n",
    "        # Create the Azure AI Agent using the client and definition.\n",
    "        agent = AzureAIAgent(\n",
    "            client=client,\n",
    "            definition=agent_definition,\n",
    "        )\n",
    "        \n",
    "        # Create a thread to hold the conversation\n",
    "        # If no thread is provided, a new thread will be\n",
    "        # created and returned with the initial response\n",
    "        thread: AzureAIAgentThread | None = None\n",
    "        \n",
    "        # Example user queries.\n",
    "        user_inputs = [\n",
    "            \"Can you explain Contoso's travel insurance coverage?\",  # Relevant context.\n",
    "            \"What is a Neural Network?\"  # No relevant context from the document. Will not contain a source annotation.\n",
    "        ]\n",
    "        \n",
    "        try:\n",
    "            for user_input in user_inputs:\n",
    "                print(f\"# User: '{user_input}'\")\n",
    "                # Invoke the agent for the specified thread for response\n",
    "                async for response in agent.invoke(messages=user_input, thread=thread):\n",
    "                    print(f\"# {response.name}: {response}\")\n",
    "                    thread = response.thread\n",
    "        finally:\n",
    "            # Clean up resources.\n",
    "            await thread.delete() if thread else None\n",
    "            await client.agents.delete_vector_store(vector_store.id)\n",
    "            await client.agents.delete_file(file.id)\n",
    "            await client.agents.delete_agent(agent.id)\n",
    "            print(\"\\nCleaned up agent, thread, file, and vector store.\")\n",
    "\n",
    "await main()"
   ]
  },
  {
   "cell_type": "markdown",
   "metadata": {},
   "source": [
    "Naiintindihan ko. Mangyaring ibigay ang Markdown file na nais mong isalin sa Tagalog.\n"
   ]
  },
  {
   "cell_type": "markdown",
   "metadata": {},
   "source": [
    "\n---\n\n**Paunawa**:  \nAng dokumentong ito ay isinalin gamit ang AI translation service na [Co-op Translator](https://github.com/Azure/co-op-translator). Bagama't sinisikap naming maging tumpak, pakitandaan na ang mga awtomatikong pagsasalin ay maaaring maglaman ng mga pagkakamali o hindi pagkakatugma. Ang orihinal na dokumento sa orihinal nitong wika ang dapat ituring na opisyal na sanggunian. Para sa mahalagang impormasyon, inirerekomenda ang propesyonal na pagsasalin ng tao. Hindi kami mananagot sa anumang hindi pagkakaunawaan o maling interpretasyon na maaaring magmula sa paggamit ng pagsasaling ito.\n"
   ]
  }
 ],
 "metadata": {
  "kernelspec": {
   "display_name": ".venv",
   "language": "python",
   "name": "python3"
  },
  "language_info": {
   "codemirror_mode": {
    "name": "ipython",
    "version": 3
   },
   "file_extension": ".py",
   "mimetype": "text/x-python",
   "name": "python",
   "nbconvert_exporter": "python",
   "pygments_lexer": "ipython3",
   "version": "3.11.11"
  },
  "coopTranslator": {
   "original_hash": "a86c3ddfbe35024993bbf563588aad48",
   "translation_date": "2025-08-29T11:50:08+00:00",
   "source_file": "05-agentic-rag/code_samples/05-semantic-kernel-azure-ai-agent.ipynb",
   "language_code": "tl"
  }
 },
 "nbformat": 4,
 "nbformat_minor": 2
}