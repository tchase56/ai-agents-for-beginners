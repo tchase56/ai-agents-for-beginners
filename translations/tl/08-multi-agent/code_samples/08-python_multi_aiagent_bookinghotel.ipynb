{
 "cells": [
  {
   "cell_type": "markdown",
   "metadata": {},
   "source": [
    "## **Mga Halimbawa: Multi-AI Agents para sa Pag-book ng Hotel**\n",
    "\n",
    "Sa mabilis na takbo ng mundo ngayon, ang pagpaplano ng isang business trip ay hindi lamang tungkol sa pag-book ng flight at hotel room. Nangangailangan ito ng antas ng koordinasyon at kahusayan na maaaring mahirap makamit. Dito pumapasok ang Multi-AI Agents, na binabago ang paraan ng pamamahala natin sa ating mga pangangailangan sa paglalakbay.\n",
    "\n",
    "Isipin na mayroon kang isang pangkat ng matatalinong ahente na handang tumulong sa bawat aspeto ng iyong biyahe nang may katumpakan at kadalian. Sa pamamagitan ng aming advanced na teknolohiya ng AI, lumikha kami ng mga espesyal na ahente para sa mga serbisyo sa pag-book at pag-aayos ng itinerary, na nagbibigay ng tuluy-tuloy at walang stress na karanasan sa paglalakbay.\n",
    "\n",
    "Ito ay isang pangunahing senaryo. Kapag nagpaplano ng isang business trip, kailangan nating kumonsulta sa isang business travel agent upang makakuha ng impormasyon tungkol sa mga tiket sa eroplano, impormasyon sa hotel, at iba pa. Sa pamamagitan ng AI Agents, maaari tayong bumuo ng mga ahente para sa mga serbisyo sa pag-book at mga ahente para sa pag-aayos ng itinerary upang magtulungan at mapataas ang antas ng katalinuhan.\n"
   ]
  },
  {
   "cell_type": "markdown",
   "metadata": {},
   "source": [
    "# I-initialize ang Azure AI Agent Service at kunin ang impormasyon ng configuration mula sa **.env**\n",
    "\n",
    "### **.env**\n",
    "\n",
    "Gumawa ng .env file\n",
    "\n",
    "Ang **.env** ay naglalaman ng connection string ng Azure AI Agent Service, ang modelong ginagamit ng AOAI, at ang kaukulang Google API Search service API, ENDPOINT, at iba pa.\n",
    "\n",
    "- **AZURE_AI_AGENT_MODEL_DEPLOYMENT_NAME** = \"Pangalan ng Deployment ng Modelo ng Iyong Azure AI Agent Service\"\n",
    "\n",
    "[**NOTE**] Kailangan mo ng modelong may 100,000 Rate Limit (Tokens kada minuto) at Rate Limit na 600 (Request kada minuto).\n",
    "\n",
    "  Maaari kang makakuha ng modelo sa Azure AI Foundry - Model at Endpoint.\n",
    "\n",
    "- **AZURE_AI_AGENT_PROJECT_CONNECTION_STRING** = \"Connection String ng Iyong Azure AI Agent Service Project\"\n",
    "\n",
    "  Maaari mong makuha ang connection string ng proyekto sa iyong project overview sa AI Foundry Portal Screen.\n",
    "\n",
    "- **SERPAPI_SEARCH_API_KEY** = \"Ang Iyong SERPAPI Search API KEY\"\n",
    "- **SERPAPI_SEARCH_ENDPOINT** = \"Ang Iyong SERPAPI Search Endpoint\"\n",
    "\n",
    "Upang makuha ang Model Deployment Name at Project Connection String ng Azure AI Agent Service, kailangan mong gumawa ng Azure AI Agent Service. Inirerekomenda na gamitin ang [template na ito](https://portal.azure.com/#create/Microsoft.Template/uri/https%3A%2F%2Fraw.githubusercontent.com%2Ffosteramanda%2Fazure-agent-quickstart-templates%2Frefs%2Fheads%2Fmaster%2Fquickstarts%2Fmicrosoft.azure-ai-agent-service%2Fstandard-agent%2Fazuredeploy.json) upang direktang gawin ito. （***Tandaan:*** Ang Azure AI Agent Service ay kasalukuyang nakatakda sa limitadong rehiyon. Inirerekomenda na sumangguni ka sa [link na ito](https://learn.microsoft.com/en-us/azure/ai-services/agents/concepts/model-region-support) upang itakda ang rehiyon.)\n",
    "\n",
    "Kailangang ma-access ng Agent ang SERPAPI. Inirerekomenda na magparehistro gamit ang [link na ito](https://serpapi.com/searches). Pagkatapos ng pagpaparehistro, maaari kang makakuha ng natatanging API KEY at ENDPOINT.\n"
   ]
  },
  {
   "cell_type": "markdown",
   "metadata": {},
   "source": [
    "# Mag-login sa Azure\n",
    "\n",
    "Kailangan mo nang mag-login sa Azure. Magbukas ng terminal sa VScode at patakbuhin ang utos na `az login`.\n"
   ]
  },
  {
   "cell_type": "markdown",
   "metadata": {},
   "source": [
    "# Setup \n",
    "\n",
    "Upang patakbuhin ang notebook na ito, kakailanganin mong i-install ang mga sumusunod na library. Narito ang listahan ng mga kinakailangang library at ang mga kaukulang pip install na command:\n",
    "\n",
    "azure-identity: Para sa Azure authentication.  \n",
    "requests: Para sa paggawa ng mga HTTP request.  \n",
    "semantic-kernel: Para sa semantic kernel framework (kung ito ay isang custom o partikular na library, maaaring kailanganin mong i-install ito mula sa isang tiyak na source o repository).  \n"
   ]
  },
  {
   "cell_type": "code",
   "execution_count": null,
   "metadata": {},
   "outputs": [],
   "source": [
    "!pip install azure-identity\n",
    "!pip install requests\n",
    "!pip install semantic-kernel\n",
    "!pip install --upgrade semantic_kernel\n",
    "!pip install azure-cli"
   ]
  },
  {
   "cell_type": "markdown",
   "metadata": {},
   "source": [
    "# Paliwanag:  \n",
    "import asyncio: Ina-import nito ang asyncio module, na nagbibigay ng suporta para sa asynchronous na programming sa Python. Pinapahintulutan ka nitong magsulat ng sabay-sabay na code gamit ang async at await na syntax.  \n",
    "from typing import Annotated: Ina-import nito ang Annotated na uri mula sa typing module. Ang Annotated ay ginagamit upang magdagdag ng metadata sa type hints, na maaaring maging kapaki-pakinabang para sa iba't ibang layunin tulad ng validation, dokumentasyon, o tooling.  \n"
   ]
  },
  {
   "cell_type": "code",
   "execution_count": null,
   "metadata": {
    "dotnet_interactive": {
     "language": "csharp"
    },
    "polyglot_notebook": {
     "kernelName": "csharp"
    }
   },
   "outputs": [],
   "source": [
    "import asyncio,os\n",
    "from typing import Annotated"
   ]
  },
  {
   "cell_type": "markdown",
   "metadata": {},
   "source": [
    "# Paliwanag:\n",
    "Sa pamamagitan ng paggamit ng `from dotenv import load_dotenv` at `load_dotenv()`, madali mong maipapamahala ang mga setting ng configuration at sensitibong impormasyon (tulad ng mga API key at mga URL ng database) sa isang `.env` file. Sa ganitong paraan, maihihiwalay ang mga ito mula sa iyong source code, na nagiging mas ligtas at mas madaling i-configure ang iyong application.\n"
   ]
  },
  {
   "cell_type": "code",
   "execution_count": null,
   "metadata": {},
   "outputs": [],
   "source": [
    "import os\n",
    "from dotenv import load_dotenv\n",
    "\n",
    "# Load environment variables from .env file\n",
    "load_dotenv()"
   ]
  },
  {
   "cell_type": "markdown",
   "metadata": {},
   "source": [
    "# Paliwanag:\n",
    "\n",
    "Import Statement: from azure.identity.aio import DefaultAzureCredential: Ina-import nito ang DefaultAzureCredential class mula sa azure.identity.aio module. Ang bahagi ng pangalan ng module na aio ay nagpapahiwatig na ito ay idinisenyo para sa asynchronous na mga operasyon.\n",
    "\n",
    "Layunin ng DefaultAzureCredential: Ang DefaultAzureCredential class ay bahagi ng Azure SDK para sa Python. Nagbibigay ito ng default na paraan para mag-authenticate sa mga serbisyo ng Azure. Sinusubukan nitong mag-authenticate gamit ang iba't ibang paraan sa isang partikular na pagkakasunod-sunod, tulad ng environment variables, managed identity, at Azure CLI credentials.\n",
    "\n",
    "Asynchronous Operations: Ang aio module ay nagpapahiwatig na ang DefaultAzureCredential class ay sumusuporta sa asynchronous na mga operasyon. Nangangahulugan ito na maaari mo itong gamitin kasama ang asyncio upang magsagawa ng non-blocking na authentication requests.\n"
   ]
  },
  {
   "cell_type": "code",
   "execution_count": null,
   "metadata": {
    "dotnet_interactive": {
     "language": "csharp"
    },
    "polyglot_notebook": {
     "kernelName": "csharp"
    }
   },
   "outputs": [],
   "source": [
    "from azure.identity.aio import DefaultAzureCredential"
   ]
  },
  {
   "cell_type": "markdown",
   "metadata": {},
   "source": [
    "# Paliwanag:\n",
    "Nag-iimport ng iba't ibang mga module at klase mula sa semantic_kernel package. Narito ang detalyadong paliwanag ng bawat import:\n",
    "\n",
    "**AgentGroupChat mula sa semantic_kernel.agents**: Ang klase na ito ay humahawak ng mga functionality na may kaugnayan sa group chat para sa mga AI agent.\n",
    "\n",
    "**AzureAIAgent at AzureAIAgentSettings mula sa semantic_kernel.agents.azure_ai**:\n",
    "\n",
    "- **AzureAIAgent**: Ang klase na ito ay ginagamit upang lumikha at pamahalaan ang mga AI agent na gumagamit ng Azure AI services.\n",
    "- **AzureAIAgentSettings**: Ang klase na ito ay ginagamit upang i-configure ang mga setting para sa AzureAIAgent.\n",
    "\n",
    "**TerminationStrategy mula sa semantic_kernel.agents.strategies.termination.termination_strategy**:\n",
    "\n",
    "- Ang klase na ito ay nagtatakda ng mga estratehiya para sa pagtigil ng pagpapatupad ng mga AI agent sa ilalim ng ilang partikular na kondisyon.\n",
    "\n",
    "**ChatMessageContent mula sa semantic_kernel.contents.chat_message_content**:\n",
    "\n",
    "- Ang klase na ito ay ginagamit upang pamahalaan ang nilalaman ng mga chat message.\n",
    "\n",
    "**AuthorRole mula sa semantic_kernel.contents.utils.author_role**:\n",
    "\n",
    "- Ang klase na ito ay nagtatakda ng iba't ibang mga papel para sa mga may-akda sa konteksto ng mga chat message.\n",
    "\n",
    "**kernel_function mula sa semantic_kernel.functions.kernel_function_decorator**:\n",
    "\n",
    "- Ang decorator na ito ay ginagamit upang tukuyin ang mga kernel function, na mga function na maaaring ipatupad sa loob ng semantic kernel framework.\n",
    "\n",
    "Ang mga import na ito ay nagse-set up ng mga kinakailangang bahagi para sa paglikha at pamamahala ng mga AI agent na maaaring makipag-ugnayan sa isang group chat environment, posibleng para sa mga gawain tulad ng pag-book ng mga hotel o katulad na aktibidad.\n"
   ]
  },
  {
   "cell_type": "code",
   "execution_count": null,
   "metadata": {
    "dotnet_interactive": {
     "language": "csharp"
    },
    "polyglot_notebook": {
     "kernelName": "csharp"
    }
   },
   "outputs": [],
   "source": [
    "from semantic_kernel.agents import AgentGroupChat\n",
    "from semantic_kernel.agents import AzureAIAgent, AzureAIAgentSettings\n",
    "from semantic_kernel.agents.strategies.termination.termination_strategy import TerminationStrategy\n",
    "from semantic_kernel.contents import ChatMessageContent\n",
    "from semantic_kernel.contents import AuthorRole\n",
    "from semantic_kernel.functions.kernel_function_decorator import kernel_function"
   ]
  },
  {
   "cell_type": "markdown",
   "metadata": {},
   "source": [
    "# Paliwanag:\n",
    "Susunod, ini-import natin ang klase na CodeInterpreterTool mula sa module na azure.ai.projects.models.\n",
    "\n",
    "CodeInterpreterTool: Ang klase na ito ay bahagi ng Azure AI SDK at ginagamit para sa pag-interpret at pagpatakbo ng code sa konteksto ng mga AI na proyekto. Nagbibigay ito ng mga kakayahan para sa pagpapatakbo ng mga code snippet, pagsusuri ng code, o pagsasama ng pagpapatakbo ng code sa loob ng mga AI workflow.  \n",
    "Ang import na ito ay nagse-set up ng kinakailangang bahagi para magamit ang CodeInterpreterTool sa iyong proyekto, na maaaring maging kapaki-pakinabang para sa mga gawain na may kinalaman sa pag-interpret at pagpapatakbo ng code nang dynamic.\n"
   ]
  },
  {
   "cell_type": "code",
   "execution_count": null,
   "metadata": {
    "dotnet_interactive": {
     "language": "csharp"
    },
    "polyglot_notebook": {
     "kernelName": "csharp"
    }
   },
   "outputs": [],
   "source": [
    "from azure.ai.projects.models import CodeInterpreterTool"
   ]
  },
  {
   "cell_type": "markdown",
   "metadata": {},
   "source": [
    "# Paliwanag: \n",
    "Ang klase na ApprovalTerminationStrategy ay nagbibigay ng isang partikular na estratehiya para sa pagtigil ng operasyon ng isang AI agent. Titigil ang agent kung ang huling mensahe sa kasaysayan ng interaksyon nito ay naglalaman ng salitang \"saved\". Maaari itong maging kapaki-pakinabang sa mga sitwasyon kung saan itinuturing na tapos na ang gawain ng agent kapag nakatanggap ito ng kumpirmasyon na may isang bagay na \"nasave\". Tukuyin ang paraan ng interaksyon. Kapag nasave na ang plano ng reserbasyon, maaari itong tumigil kapag natanggap ang signal na \"saved\".\n"
   ]
  },
  {
   "cell_type": "code",
   "execution_count": null,
   "metadata": {
    "dotnet_interactive": {
     "language": "csharp"
    },
    "polyglot_notebook": {
     "kernelName": "csharp"
    }
   },
   "outputs": [],
   "source": [
    "class ApprovalTerminationStrategy(TerminationStrategy):\n",
    "    \"\"\"A strategy for determining when an agent should terminate.\"\"\"\n",
    "\n",
    "    async def should_agent_terminate(self, agent, history):\n",
    "        \"\"\"Check if the agent should terminate.\"\"\"\n",
    "        return \"saved\" in history[-1].content.lower()"
   ]
  },
  {
   "cell_type": "markdown",
   "metadata": {},
   "source": [
    "# Paliwanag:\n",
    "\n",
    "Ang linya ng code ay nag-i-initialize ng isang AzureAIAgentSettings object gamit ang default o paunang itinakdang mga setting sa pamamagitan ng pagtawag sa create() method. Ang settings object na ito (ai_agent_settings) ay maaaring gamitin upang i-configure at pamahalaan ang isang AzureAIAgent instance.\n"
   ]
  },
  {
   "cell_type": "code",
   "execution_count": null,
   "metadata": {
    "dotnet_interactive": {
     "language": "csharp"
    },
    "polyglot_notebook": {
     "kernelName": "csharp"
    }
   },
   "outputs": [],
   "source": [
    "ai_agent_settings = AzureAIAgentSettings.create()"
   ]
  },
  {
   "cell_type": "markdown",
   "metadata": {},
   "source": [
    "# Paliwanag:\n",
    "Sa pamamagitan ng pag-import ng requests library, madali kang makakagawa ng mga HTTP request at makakipag-ugnayan sa mga web service gamit ang iyong Python code.\n"
   ]
  },
  {
   "cell_type": "code",
   "execution_count": null,
   "metadata": {
    "dotnet_interactive": {
     "language": "csharp"
    },
    "polyglot_notebook": {
     "kernelName": "csharp"
    }
   },
   "outputs": [],
   "source": [
    "import requests"
   ]
  },
  {
   "cell_type": "markdown",
   "metadata": {},
   "source": [
    "# Paliwanag:\n",
    "Ito ay isang variable na nag-iimbak ng API key para sa pag-access sa isang SERP (Search Engine Results Page) API service. Ang API key ay isang natatanging identifier na ginagamit upang i-authenticate ang mga kahilingan na konektado sa iyong account.\n",
    "\n",
    "'GOOGLE_SEARCH_API_KEY': Ito ay isang placeholder string. Kailangan mong palitan ang ''GOOGLE_SEARCH_API_KEY' ng aktwal mong SERP API key.\n",
    "\n",
    "Layunin: Ang layunin ng linyang ito ay iimbak ang API key sa isang variable upang magamit ito sa pag-authenticate ng mga kahilingan sa SERP API service. Kinakailangan ang API key upang ma-access ang serbisyo at makapagsagawa ng mga paghahanap.\n",
    "\n",
    "Paano Kumuha ng SERP API Key: Upang makakuha ng SERP API key, sundin ang mga pangkalahatang hakbang na ito sa https://serpapi.com (ang eksaktong mga hakbang ay maaaring magkaiba depende sa partikular na SERP API service na ginagamit mo):\n",
    "\n",
    "Pumili ng SERP API Service: Mayroong iba't ibang SERP API services na magagamit, tulad ng SerpAPI, Google Custom Search JSON API, at iba pa. Piliin ang pinakaangkop sa iyong pangangailangan.\n",
    "\n",
    "Magrehistro para sa isang Account:\n",
    "\n",
    "Pumunta sa website ng napiling SERP API service https://www.serpapi.com at magrehistro para sa isang account. Maaaring kailanganin mong magbigay ng ilang pangunahing impormasyon at i-verify ang iyong email address.\n",
    "\n",
    "Gumawa ng API Key:\n",
    "\n",
    "Pagkatapos magrehistro, mag-log in sa iyong account at pumunta sa API section o dashboard. Hanapin ang opsyon para gumawa o bumuo ng bagong API key.\n",
    "Kopyahin ang API Key:\n",
    "\n",
    "Kapag nabuo na ang API key, kopyahin ito. Ang key na ito ang gagamitin upang i-authenticate ang iyong mga kahilingan sa SERP API service.\n",
    "Palitan ang Placeholder:\n",
    "\n",
    "Palitan ang placeholder sa iyong .env file\n"
   ]
  },
  {
   "cell_type": "code",
   "execution_count": null,
   "metadata": {
    "dotnet_interactive": {
     "language": "csharp"
    },
    "polyglot_notebook": {
     "kernelName": "csharp"
    }
   },
   "outputs": [],
   "source": [
    "SERPAPI_SEARCH_API_KEY=os.getenv('SERPAPI_SEARCH_API_KEY')"
   ]
  },
  {
   "cell_type": "code",
   "execution_count": null,
   "metadata": {
    "dotnet_interactive": {
     "language": "csharp"
    },
    "polyglot_notebook": {
     "kernelName": "csharp"
    }
   },
   "outputs": [],
   "source": [
    "SERPAPI_SEARCH_ENDPOINT = os.getenv('SERPAPI_SEARCH_ENDPOINT')"
   ]
  },
  {
   "cell_type": "markdown",
   "metadata": {},
   "source": [
    "# Paliwanag:\n",
    "Ang klase na BookingPlugin ay nagbibigay ng mga pamamaraan para sa pag-book ng mga hotel at flight gamit ang Serpapi.com Google Search API. Binubuo nito ang mga kinakailangang parameter, nagpapadala ng mga kahilingan sa API, at pinoproseso ang mga tugon upang maibalik ang kaukulang impormasyon sa pag-book. Ang API key (SERPAPI_SEARCH_API_KEY) at endpoint (SERPAPI_SEARCH_ENDPOINT) ay ginagamit upang mag-authenticate at magpadala ng mga kahilingan sa Google Search API.\n"
   ]
  },
  {
   "cell_type": "code",
   "execution_count": null,
   "metadata": {
    "dotnet_interactive": {
     "language": "csharp"
    },
    "polyglot_notebook": {
     "kernelName": "csharp"
    }
   },
   "outputs": [],
   "source": [
    "# Define Booking Plugin\n",
    "class BookingPlugin:\n",
    "    \"\"\"Booking Plugin for customers\"\"\"\n",
    "    @kernel_function(description=\"booking hotel\")\n",
    "    def booking_hotel(self,query: Annotated[str, \"The name of the city\"], check_in_date: Annotated[str, \"Hotel Check-in Time\"], check_out_date: Annotated[str, \"Hotel Check-in Time\"])-> Annotated[str, \"Return the result of booking hotel infomation\"]:\n",
    "\n",
    "        params = {\n",
    "            \"engine\": \"google_hotels\",\n",
    "            \"q\": query,\n",
    "            \"check_in_date\": check_in_date,\n",
    "            \"check_out_date\": check_out_date,\n",
    "            \"adults\": \"2\",\n",
    "            \"currency\": \"USD\",\n",
    "            \"gl\": \"us\",\n",
    "            \"hl\": \"en\",\n",
    "            \"api_key\": SERPAPI_SEARCH_API_KEY\n",
    "        }\n",
    "\n",
    "        response = requests.get(SERPAPI_SEARCH_ENDPOINT, params=params)\n",
    "        if response.status_code == 200:\n",
    "            response = response.json()\n",
    "            return response[\"properties\"]\n",
    "        else:\n",
    "            return None\n",
    "\n",
    "    \n",
    "    @kernel_function(description=\"booking fight\")\n",
    "    def  booking_fight(self,origin: Annotated[str, \"The name of Departure\"], destination: Annotated[str, \"The name of Destination\"], outbound_date: Annotated[str, \"The date of outbound\"], return_date: Annotated[str, \"The date of Return_date\"])-> Annotated[str, \"Return the result of booking fight infomation\"]:\n",
    "        \n",
    "        go_params = {\n",
    "            \"engine\": \"google_flights\",   \n",
    "            \"departure_id\": origin,\n",
    "            \"arrival_id\": destination,\n",
    "            \"outbound_date\": outbound_date,\n",
    "            \"return_date\": return_date,  \n",
    "            \"currency\": \"USD\",\n",
    "            \"hl\": \"en\",\n",
    "            \"api_key\": SERPAPI_SEARCH_API_KEY  \n",
    "        }\n",
    "\n",
    "        print(go_params)\n",
    "\n",
    "        go_response = requests.get(SERPAPI_SEARCH_ENDPOINT, params=go_params)\n",
    "\n",
    "\n",
    "        result = ''\n",
    "\n",
    "        if go_response.status_code == 200:\n",
    "            response = go_response.json()\n",
    "\n",
    "            result += \"# outbound \\n \" + str(response)\n",
    "        else:\n",
    "            print('error!!!')\n",
    "            # return None\n",
    "\n",
    "        \n",
    "        back_params = {\n",
    "            \"engine\": \"google_flights\",   \n",
    "            \"departure_id\": destination,\n",
    "            \"arrival_id\": origin,\n",
    "            \"outbound_date\": return_date,\n",
    "            \"return_date\": return_date,  \n",
    "            \"currency\": \"USD\",\n",
    "            \"hl\": \"en\",\n",
    "            \"api_key\": SERPAPI_SEARCH_API_KEY  \n",
    "        }\n",
    "\n",
    "\n",
    "        print(back_params)\n",
    "\n",
    "\n",
    "        back_response = requests.get(SERPAPI_SEARCH_ENDPOINT, params=back_params)\n",
    "\n",
    "\n",
    "\n",
    "        if back_response.status_code == 200:\n",
    "            response = back_response.json()\n",
    "\n",
    "            result += \"\\n # return \\n\"  + str(response)\n",
    "\n",
    "        else:\n",
    "            print('error!!!')\n",
    "            # return None\n",
    "        \n",
    "        print(result)\n",
    "\n",
    "        return result\n",
    "\n",
    "        \n"
   ]
  },
  {
   "cell_type": "markdown",
   "metadata": {},
   "source": [
    "# Paliwanag:\n",
    "Ang klase na SavePlugin ay nagbibigay ng paraan na saving_plan para mag-save ng mga plano sa biyahe gamit ang mga serbisyo ng Azure AI. Inaayos nito ang mga kredensyal ng Azure, lumilikha ng AI agent, pinoproseso ang mga input ng user para makabuo at mag-save ng nilalaman ng plano sa biyahe, at inaasikaso ang pag-save ng file at mga operasyon ng paglilinis. Ang paraan ay nagbabalik ng \"Saved\" kapag matagumpay na natapos.\n"
   ]
  },
  {
   "cell_type": "code",
   "execution_count": null,
   "metadata": {
    "dotnet_interactive": {
     "language": "csharp"
    },
    "polyglot_notebook": {
     "kernelName": "csharp"
    }
   },
   "outputs": [],
   "source": [
    "class SavePlugin:\n",
    "    \"\"\"Save Plugin for customers\"\"\"\n",
    "    @kernel_function(description=\"saving plan\")\n",
    "    async def saving_plan(self,tripplan: Annotated[str, \"The content of trip plan\"])-> Annotated[str, \"Return status of save content\"]:\n",
    "\n",
    "        async with (\n",
    "            DefaultAzureCredential() as creds,\n",
    "            AzureAIAgent.create_client(\n",
    "                credential=creds,\n",
    "                conn_str=ai_agent_settings.project_connection_string.get_secret_value(),\n",
    "            ) as client,\n",
    "        ):\n",
    "\n",
    "            code_interpreter = CodeInterpreterTool()\n",
    "            \n",
    "            agent_definition = await client.agents.create_agent(\n",
    "                model=ai_agent_settings.model_deployment_name,\n",
    "                tools=code_interpreter.definitions,\n",
    "                tool_resources=code_interpreter.resources,\n",
    "            )\n",
    "\n",
    "\n",
    "            agent = AzureAIAgent(\n",
    "                client=client,\n",
    "                definition=agent_definition,\n",
    "            )\n",
    "\n",
    "            thread = await client.agents.create_thread()\n",
    "\n",
    "\n",
    "            user_inputs = [\n",
    "                \"\"\"\n",
    "            \n",
    "                        You are my Python programming assistant. Generate code,save \"\"\"+ tripplan +\n",
    "                        \n",
    "                    \"\"\"    \n",
    "                        and execute it according to the following requirements\n",
    "\n",
    "                        1. Save blog content to trip-{YYMMDDHHMMSS}.md\n",
    "\n",
    "                        2. give me the download this file link\n",
    "                    \"\"\"\n",
    "            ]\n",
    "\n",
    "\n",
    "\n",
    "            try:\n",
    "                for user_input in user_inputs:\n",
    "                    # Add the user input as a chat message\n",
    "                    await agent.add_chat_message(\n",
    "                        thread_id=thread.id, message=ChatMessageContent(role=AuthorRole.USER, content=user_input)\n",
    "                    )\n",
    "                    print(f\"# User: '{user_input}'\")\n",
    "                    # Invoke the agent for the specified thread\n",
    "                    async for content in agent.invoke(thread_id=thread.id):\n",
    "                        if content.role != AuthorRole.TOOL:\n",
    "                            print(f\"# Agent: {content.content}\")\n",
    "\n",
    "                    \n",
    "                    messages = await client.agents.list_messages(thread_id=thread.id)\n",
    "\n",
    "                    # OpenAIPageableListOfThreadMessage\n",
    "                    # OpenAIPageableListOfThreadMessage\n",
    "\n",
    "\n",
    "                    for file_path_annotation in messages.file_path_annotations:\n",
    "\n",
    "                            file_name = os.path.basename(file_path_annotation.text)\n",
    "\n",
    "                            await client.agents.save_file(file_id=file_path_annotation.file_path.file_id, file_name=file_name,target_dir=\"./trip\")\n",
    "\n",
    "                    \n",
    "            finally:\n",
    "                await client.agents.delete_thread(thread.id)\n",
    "                await client.agents.delete_agent(agent.id)\n",
    "\n",
    "\n",
    "        return \"Saved\""
   ]
  },
  {
   "cell_type": "markdown",
   "metadata": {},
   "source": [
    "# Paliwanag:\n",
    "Ang code na ito ay nagse-set up ng mga Azure AI agents para mag-asikaso ng pag-book ng mga flight at hotel, at pag-save ng mga plano sa biyahe batay sa mga input ng user. Ginagamit nito ang mga Azure credentials para gumawa at mag-configure ng mga agents, pinoproseso ang mga input ng user sa pamamagitan ng group chat, at tinitiyak ang tamang paglilinis pagkatapos makumpleto ang mga gawain. Ang mga agents ay gumagamit ng partikular na mga plugin (BookingPlugin at SavePlugin) para maisagawa ang kani-kanilang mga tungkulin.\n"
   ]
  },
  {
   "cell_type": "code",
   "execution_count": null,
   "metadata": {
    "dotnet_interactive": {
     "language": "csharp"
    },
    "polyglot_notebook": {
     "kernelName": "csharp"
    }
   },
   "outputs": [],
   "source": [
    "async with (\n",
    "    DefaultAzureCredential() as creds,\n",
    "    AzureAIAgent.create_client(\n",
    "        credential=creds,\n",
    "        conn_str=ai_agent_settings.project_connection_string.get_secret_value(),\n",
    "    ) as client,\n",
    "):\n",
    "    BOOKING_AGENT_NAME = \"BookingAgent\"\n",
    "    BOOKING_AGENT_INSTRUCTIONS = \"\"\"\n",
    "    You are a booking agent. Help me book flights or hotels.\n",
    "\n",
    "    Thought: Please understand the user's intention and confirm whether to use the reservation system to complete the task.\n",
    "\n",
    "    Actions:\n",
    "    - For flight bookings, convert the departure and destination names into airport codes.\n",
    "    - Use the appropriate API for hotel or flight bookings. Verify that all necessary parameters are available. If any parameters are missing, ask the user to provide them. If all parameters are complete, call the corresponding function.\n",
    "    - If the task is not related to hotel or flight booking, respond with the final answer only.\n",
    "    - Output the results using a markdown table:\n",
    "      - For flight bookings, output separate outbound and return contents in the order of:\n",
    "        Departure Airport | Airline | Flight Number | Departure Time | Arrival Airport | Arrival Time | Duration | Airplane | Travel Class | Price (USD) | Legroom | Extensions | Carbon Emissions (kg).\n",
    "      - For hotel bookings, output in the order of:\n",
    "        Property Name | Property Description | Check-in Time | Check-out Time | Prices | Nearby Places | Hotel Class | GPS Coordinates.\n",
    "    \"\"\"\n",
    "\n",
    "    SAVE_AGENT_NAME = \"SaveAgent\"\n",
    "    SAVE_AGENT_INSTRUCTIONS = \"\"\"\n",
    "    You are a save tool agent. Help me to save the trip plan.\n",
    "    \"\"\"\n",
    "\n",
    "    # Create agent definition\n",
    "    booking_agent_definition = await client.agents.create_agent(\n",
    "        model=ai_agent_settings.model_deployment_name,\n",
    "        name=BOOKING_AGENT_NAME,\n",
    "        instructions=BOOKING_AGENT_INSTRUCTIONS,\n",
    "    )\n",
    "\n",
    "    # Create the AzureAI Agent\n",
    "    booking_agent = AzureAIAgent(\n",
    "        client=client,\n",
    "        definition=booking_agent_definition,\n",
    "        # Optionally configure polling options\n",
    "        # polling_options=RunPollingOptions(run_polling_interval=timedelta(seconds=1)),\n",
    "    )\n",
    "\n",
    "    # Add the sample plugin to the kernel\n",
    "    booking_agent.kernel.add_plugin(BookingPlugin(), plugin_name=\"booking\")\n",
    "\n",
    "    # Create agent definition\n",
    "    save_agent_definition = await client.agents.create_agent(\n",
    "        model=ai_agent_settings.model_deployment_name,\n",
    "        name=SAVE_AGENT_NAME,\n",
    "        instructions=SAVE_AGENT_INSTRUCTIONS\n",
    "    )\n",
    "\n",
    "    # Create the AzureAI Agent\n",
    "    save_agent = AzureAIAgent(\n",
    "        client=client,\n",
    "        definition=save_agent_definition,\n",
    "    )\n",
    "\n",
    "    save_agent.kernel.add_plugin(SavePlugin(), plugin_name=\"saving\")\n",
    "\n",
    "    user_inputs = [\n",
    "        \"I have a business trip from London to New York in Feb 20 2025 to Feb 27 2025 ,help me to book a hotel and fight tickets and save it\"\n",
    "    ]\n",
    "\n",
    "    chat = AgentGroupChat(\n",
    "        agents=[booking_agent, save_agent],\n",
    "        termination_strategy=ApprovalTerminationStrategy(agents=[save_agent], maximum_iterations=10),\n",
    "    )\n",
    "\n",
    "    try:\n",
    "        for user_input in user_inputs:\n",
    "            # Add the user input as a chat message\n",
    "            await chat.add_chat_message(\n",
    "                ChatMessageContent(role=AuthorRole.USER, content=user_input)\n",
    "            )\n",
    "            print(f\"# User: '{user_input}'\")\n",
    "\n",
    "            async for content in chat.invoke():\n",
    "                print(f\"# {content.role} - {content.name or '*'}: '{content.content}'\")\n",
    "\n",
    "            print(f\"# IS COMPLETE: {chat.is_complete}\")\n",
    "\n",
    "            print(\"*\" * 60)\n",
    "            print(\"Chat History (In Descending Order):\\n\")\n",
    "            async for message in chat.get_chat_messages(agent=save_agent):\n",
    "                print(f\"# {message.role} - {message.name or '*'}: '{message.content}'\")\n",
    "    finally:\n",
    "        await chat.reset()\n",
    "        await client.agents.delete_agent(save_agent.id)\n",
    "        await client.agents.delete_agent(booking_agent.id)\n"
   ]
  },
  {
   "cell_type": "markdown",
   "metadata": {},
   "source": [
    "\n---\n\n**Paunawa**:  \nAng dokumentong ito ay isinalin gamit ang AI translation service na [Co-op Translator](https://github.com/Azure/co-op-translator). Bagama't sinisikap naming maging tumpak, pakitandaan na ang mga awtomatikong pagsasalin ay maaaring maglaman ng mga pagkakamali o hindi pagkakatugma. Ang orihinal na dokumento sa orihinal nitong wika ang dapat ituring na opisyal na sanggunian. Para sa mahalagang impormasyon, inirerekomenda ang propesyonal na pagsasalin ng tao. Hindi kami mananagot sa anumang hindi pagkakaunawaan o maling interpretasyon na maaaring magmula sa paggamit ng pagsasaling ito.\n"
   ]
  }
 ],
 "metadata": {
  "kernelspec": {
   "display_name": "3.12.1",
   "language": "python",
   "name": "python3"
  },
  "language_info": {
   "codemirror_mode": {
    "name": "ipython",
    "version": 3
   },
   "file_extension": ".py",
   "mimetype": "text/x-python",
   "name": "python",
   "nbconvert_exporter": "python",
   "pygments_lexer": "ipython3",
   "version": "3.12.1"
  },
  "polyglot_notebook": {
   "kernelInfo": {
    "defaultKernelName": "csharp",
    "items": [
     {
      "aliases": [],
      "name": "csharp"
     }
    ]
   }
  },
  "coopTranslator": {
   "original_hash": "1baa60020a95eda27b7e9ecfda99965b",
   "translation_date": "2025-08-29T11:30:41+00:00",
   "source_file": "08-multi-agent/code_samples/08-python_multi_aiagent_bookinghotel.ipynb",
   "language_code": "tl"
  }
 },
 "nbformat": 4,
 "nbformat_minor": 2
}