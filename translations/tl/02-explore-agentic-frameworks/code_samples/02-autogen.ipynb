{
 "cells": [
  {
   "cell_type": "markdown",
   "metadata": {},
   "source": [
    "# AutoGen Pangunahing Halimbawa\n",
    "\n",
    "Sa halimbawang code na ito, gagamitin mo ang [AutoGen](https://aka.ms/ai-agents/autogen) AI Framework upang lumikha ng isang simpleng ahente.\n",
    "\n",
    "Ang layunin ng halimbawang ito ay ipakita sa iyo ang mga hakbang na gagamitin natin sa mga susunod na halimbawang code kapag ipinatutupad ang iba't ibang mga pattern ng ahente.\n"
   ]
  },
  {
   "cell_type": "markdown",
   "metadata": {},
   "source": [
    "## I-import ang Mga Kailangan na Python Package\n"
   ]
  },
  {
   "cell_type": "code",
   "execution_count": null,
   "metadata": {},
   "outputs": [],
   "source": [
    "import os\n",
    "from dotenv import load_dotenv\n",
    "\n",
    "from autogen_agentchat.agents import AssistantAgent\n",
    "from autogen_core.models import UserMessage\n",
    "from autogen_ext.models.azure import AzureAIChatCompletionClient\n",
    "from azure.core.credentials import AzureKeyCredential\n",
    "from autogen_core import CancellationToken\n",
    "\n",
    "from autogen_agentchat.messages import TextMessage\n",
    "from autogen_agentchat.ui import Console\n"
   ]
  },
  {
   "cell_type": "markdown",
   "metadata": {},
   "source": [
    "## Gumawa ng Kliyente\n",
    "\n",
    "Sa halimbawang ito, gagamitin natin ang [GitHub Models](https://aka.ms/ai-agents-beginners/github-models) para sa pag-access sa LLM.\n",
    "\n",
    "Ang `model` ay tinukoy bilang `gpt-4o-mini`. Subukang palitan ang model sa ibang model na makikita sa GitHub Models marketplace upang makita ang iba't ibang resulta.\n",
    "\n",
    "Bilang mabilisang pagsubok, magpapatakbo lang tayo ng simpleng prompt - `Ano ang kabisera ng France`.\n"
   ]
  },
  {
   "cell_type": "code",
   "execution_count": null,
   "metadata": {},
   "outputs": [],
   "source": [
    "load_dotenv()\n",
    "client = AzureAIChatCompletionClient(\n",
    "    model=\"gpt-4o-mini\",\n",
    "    endpoint=\"https://models.inference.ai.azure.com\",\n",
    "    # To authenticate with the model you will need to generate a personal access token (PAT) in your GitHub settings.\n",
    "    # Create your PAT token by following instructions here: https://docs.github.com/en/authentication/keeping-your-account-and-data-secure/managing-your-personal-access-tokens\n",
    "    credential=AzureKeyCredential(os.getenv(\"GITHUB_TOKEN\")),\n",
    "    model_info={\n",
    "        \"json_output\": True,\n",
    "        \"function_calling\": True,\n",
    "        \"vision\": True,\n",
    "        \"family\": \"unknown\",\n",
    "    },\n",
    ")\n",
    "\n",
    "result = await client.create([UserMessage(content=\"What is the capital of France?\", source=\"user\")])\n",
    "print(result)"
   ]
  },
  {
   "cell_type": "markdown",
   "metadata": {},
   "source": [
    "## Pagpapakilala sa Agent\n",
    "\n",
    "Ngayon na na-set up na natin ang `client` at nakumpirma na gumagana ito, gumawa tayo ng `AssistantAgent`. Ang bawat agent ay maaaring magkaroon ng:  \n",
    "**name** - Isang maikling pangalan na magagamit para madaling ma-refer ito sa mga multi-agent na daloy.  \n",
    "**model_client** - Ang client na ginawa mo sa naunang hakbang.  \n",
    "**tools** - Mga tool na maaaring gamitin ng Agent upang makumpleto ang isang gawain.  \n",
    "**system_message** - Ang metaprompt na naglalarawan sa gawain, kilos, at tono ng LLM.  \n",
    "\n",
    "Maaari mong baguhin ang system message upang makita kung paano tumutugon ang LLM. Tatalakayin natin ang `tools` sa Lesson #4.\n"
   ]
  },
  {
   "cell_type": "code",
   "execution_count": null,
   "metadata": {},
   "outputs": [],
   "source": [
    "agent = AssistantAgent(\n",
    "    name=\"assistant\",\n",
    "    model_client=client,\n",
    "    tools=[],\n",
    "    system_message=\"You are a travel agent that plans great vacations\",\n",
    ")"
   ]
  },
  {
   "cell_type": "markdown",
   "metadata": {},
   "source": [
    "## Patakbuhin ang Agent\n",
    "\n",
    "Ang sumusunod na function ay magpapatakbo ng agent. Ginagamit natin ang `on_message` na method upang i-update ang estado ng Agent gamit ang bagong mensahe.\n",
    "\n",
    "Sa kasong ito, ina-update natin ang estado gamit ang bagong mensahe mula sa user na `\"Plan me a great sunny vacation\"`.\n",
    "\n",
    "Maaari mong baguhin ang nilalaman ng mensahe upang makita kung paano naiiba ang tugon ng LLM.\n"
   ]
  },
  {
   "cell_type": "code",
   "execution_count": null,
   "metadata": {},
   "outputs": [],
   "source": [
    "from IPython.display import display, HTML\n",
    "\n",
    "\n",
    "async def assistant_run():\n",
    "    # Define the query\n",
    "    user_query = \"Plan me a great sunny vacation\"\n",
    "\n",
    "    # Start building HTML output\n",
    "    html_output = \"<div style='margin-bottom:10px'>\"\n",
    "    html_output += \"<div style='font-weight:bold'>User:</div>\"\n",
    "    html_output += f\"<div style='margin-left:20px'>{user_query}</div>\"\n",
    "    html_output += \"</div>\"\n",
    "\n",
    "    # Execute the agent response\n",
    "    response = await agent.on_messages(\n",
    "        [TextMessage(content=user_query, source=\"user\")],\n",
    "        cancellation_token=CancellationToken(),\n",
    "    )\n",
    "\n",
    "    # Add agent response to HTML\n",
    "    html_output += \"<div style='margin-bottom:20px'>\"\n",
    "    html_output += \"<div style='font-weight:bold'>Assistant:</div>\"\n",
    "    html_output += f\"<div style='margin-left:20px; white-space:pre-wrap'>{response.chat_message.content}</div>\"\n",
    "    html_output += \"</div>\"\n",
    "\n",
    "    # Display formatted HTML\n",
    "    display(HTML(html_output))\n",
    "\n",
    "# Run the function\n",
    "await assistant_run()"
   ]
  },
  {
   "cell_type": "markdown",
   "metadata": {},
   "source": [
    "\n---\n\n**Paunawa**:  \nAng dokumentong ito ay isinalin gamit ang AI translation service na [Co-op Translator](https://github.com/Azure/co-op-translator). Bagama't sinisikap naming maging tumpak, pakitandaan na ang mga awtomatikong pagsasalin ay maaaring maglaman ng mga pagkakamali o hindi pagkakatugma. Ang orihinal na dokumento sa kanyang katutubong wika ang dapat ituring na opisyal na sanggunian. Para sa mahalagang impormasyon, inirerekomenda ang propesyonal na pagsasalin ng tao. Hindi kami mananagot sa anumang hindi pagkakaunawaan o maling interpretasyon na maaaring magmula sa paggamit ng pagsasaling ito.\n"
   ]
  }
 ],
 "metadata": {
  "kernelspec": {
   "display_name": ".venv (3.12.11)",
   "language": "python",
   "name": "python3"
  },
  "language_info": {
   "codemirror_mode": {
    "name": "ipython",
    "version": 3
   },
   "file_extension": ".py",
   "mimetype": "text/x-python",
   "name": "python",
   "nbconvert_exporter": "python",
   "pygments_lexer": "ipython3",
   "version": "3.12.11"
  },
  "coopTranslator": {
   "original_hash": "aef8b2779015ef9099d6ee3cdacbb35d",
   "translation_date": "2025-08-29T11:57:40+00:00",
   "source_file": "02-explore-agentic-frameworks/code_samples/02-autogen.ipynb",
   "language_code": "tl"
  }
 },
 "nbformat": 4,
 "nbformat_minor": 2
}