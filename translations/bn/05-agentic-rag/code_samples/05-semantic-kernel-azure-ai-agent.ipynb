{
 "cells": [
  {
   "cell_type": "markdown",
   "metadata": {},
   "source": [
    "# Azure AI Agent Service এবং Semantic Kernel ব্যবহার করে RAG\n",
    "\n",
    "এই কোড স্নিপেটটি দেখায় কীভাবে `Azure AI Agent Service` এবং `Semantic Kernel` ব্যবহার করে রিট্রিভাল-অগমেন্টেড জেনারেশন (RAG) এর জন্য একটি Azure AI এজেন্ট তৈরি এবং পরিচালনা করা যায়। এজেন্টটি পুনরুদ্ধার করা প্রসঙ্গের ভিত্তিতে ব্যবহারকারীর প্রশ্ন প্রক্রিয়াকরণ করে এবং সেই অনুযায়ী সঠিক উত্তর প্রদান করে।\n"
   ]
  },
  {
   "cell_type": "markdown",
   "metadata": {},
   "source": []
  },
  {
   "cell_type": "markdown",
   "metadata": {},
   "source": [
    "SQLite সংস্করণ সংশোধন  \n",
    "যদি আপনি এই ত্রুটির সম্মুখীন হন:  \n",
    "```\n",
    "RuntimeError: Your system has an unsupported version of sqlite3. Chroma requires sqlite3 >= 3.35.0\n",
    "```  \n",
    "\n",
    "আপনার নোটবুকের শুরুতে এই কোড ব্লকটি আনকমেন্ট করুন:  \n"
   ]
  },
  {
   "cell_type": "code",
   "execution_count": null,
   "metadata": {},
   "outputs": [],
   "source": [
    "# %pip install pysqlite3-binary\n",
    "# __import__('pysqlite3')\n",
    "# import sys\n",
    "# sys.modules['sqlite3'] = sys.modules.pop('pysqlite3')"
   ]
  },
  {
   "cell_type": "markdown",
   "metadata": {},
   "source": [
    "### প্যাকেজ আমদানি করা  \n",
    "নিচের কোডটি প্রয়োজনীয় প্যাকেজগুলো আমদানি করে:  \n"
   ]
  },
  {
   "cell_type": "code",
   "execution_count": null,
   "metadata": {},
   "outputs": [],
   "source": [
    "# Azure imports for project client and credentials\n",
    "from azure.ai.projects.models import FileSearchTool, OpenAIFile, VectorStore\n",
    "from azure.identity.aio import DefaultAzureCredential\n",
    "\n",
    "# Semantic Kernel imports\n",
    "from semantic_kernel.agents import AzureAIAgent, AzureAIAgentThread"
   ]
  },
  {
   "cell_type": "markdown",
   "metadata": {},
   "source": [
    "# সেমান্টিক কোর ও অ্যাজুর এআই এজেন্ট সার্ভিসের সাথে রিট্রিভাল-অগমেন্টেড জেনারেশন\n",
    "\n",
    "এই উদাহরণটি দেখায় কীভাবে **অ্যাজুর এআই এজেন্ট সার্ভিস** ব্যবহার করে একটি ভাষা মডেলকে আপলোড করা ডকুমেন্ট থেকে প্রাসঙ্গিক তথ্যের সাথে সংযুক্ত করে **রিট্রিভাল-অগমেন্টেড জেনারেশন (RAG)** সম্পাদন করা যায়।\n",
    "\n",
    "### এটি কীভাবে কাজ করে\n",
    "\n",
    "1. **ডকুমেন্ট আপলোড**: একটি মার্কডাউন ফাইল (document.md) যার মধ্যে তথ্য (কন্টোসোর ভ্রমণ বিমা নীতি) রয়েছে, এজেন্ট সার্ভিসে আপলোড করা হয়।\n",
    "\n",
    "2. **ভেক্টর স্টোর তৈরি**: ডকুমেন্টটি একটি ভেক্টর স্টোরে সূচীকৃত করা হয়, যাতে এর বিষয়বস্তুর উপর সেমান্টিক সার্চ করা যায়।\n",
    "\n",
    "3. **এজেন্ট কনফিগারেশন**: `gpt-4o` মডেল ব্যবহার করে একটি এজেন্ট নিম্নলিখিত কঠোর নির্দেশাবলী সহ কনফিগার করা হয়:\n",
    "   - শুধুমাত্র ডকুমেন্ট থেকে প্রাপ্ত বিষয়বস্তুর উপর ভিত্তি করে প্রশ্নের উত্তর দিতে হবে।\n",
    "   - যদি প্রশ্নটি প্রাসঙ্গিক না হয়, তবে উত্তর দিতে অস্বীকার করতে হবে।\n",
    "\n",
    "4. **ফাইল সার্চ টুল ইন্টিগ্রেশন**: এজেন্টের সাথে `FileSearchTool` নিবন্ধিত করা হয়, যা মডেলকে ইনফারেন্সের সময় সূচীকৃত ডকুমেন্ট থেকে প্রাসঙ্গিক অংশ খুঁজে বের করতে সক্ষম করে।\n",
    "\n",
    "5. **ব্যবহারকারীর সাথে যোগাযোগ**: ব্যবহারকারীরা প্রশ্ন করতে পারেন। যদি ডকুমেন্টে প্রাসঙ্গিক তথ্য পাওয়া যায়, এজেন্ট একটি ভিত্তিপ্রাপ্ত উত্তর তৈরি করে।  \n",
    "   যদি না পাওয়া যায়, এজেন্ট স্পষ্টভাবে জানায় যে ডকুমেন্টে পর্যাপ্ত তথ্য নেই।\n"
   ]
  },
  {
   "cell_type": "markdown",
   "metadata": {},
   "source": [
    "### প্রধান ফাংশন\n"
   ]
  },
  {
   "cell_type": "markdown",
   "metadata": {},
   "source": [
    "সঠিক প্রমাণীকরণ প্রসঙ্গ নিশ্চিত করার জন্য Azure CLI ব্যবহার করে প্রথমে `az login` চালান, যখন `DefaultAzureCredential` ব্যবহার করবেন। Azure AI Agent Service API কী ব্যবহার করে না।\n"
   ]
  },
  {
   "cell_type": "code",
   "execution_count": null,
   "metadata": {},
   "outputs": [],
   "source": [
    "async def main():\n",
    "    async with (\n",
    "        DefaultAzureCredential() as creds,\n",
    "        AzureAIAgent.create_client(credential=creds) as client,\n",
    "    ):\n",
    "        file: OpenAIFile = await client.agents.upload_file_and_poll(file_path=\"document.md\", purpose=\"assistants\")\n",
    "        vector_store: VectorStore = await client.agents.create_vector_store_and_poll(\n",
    "            file_ids=[file.id], name=\"my_vectorstore\"\n",
    "        )\n",
    "\n",
    "        # Define agent name and instructions tailored for RAG.\n",
    "        AGENT_NAME = \"RAGAgent\"\n",
    "        AGENT_INSTRUCTIONS = \"\"\"\n",
    "        You are an AI assistant designed to answer user questions using only the information retrieved from the provided document(s).\n",
    "\n",
    "        - If a user's question cannot be answered using the retrieved context, **you must clearly respond**: \n",
    "        \"I'm sorry, but the uploaded document does not contain the necessary information to answer that question.\"\n",
    "        - Do not answer from general knowledge or reasoning. Do not make assumptions or generate hypothetical explanations.\n",
    "        - Do not provide definitions, tutorials, or commentary that is not explicitly grounded in the content of the uploaded file(s).\n",
    "        - If a user asks a question like \"What is a Neural Network?\", and this is not discussed in the uploaded document, respond as instructed above.\n",
    "        - For questions that do have relevant content in the document (e.g., Contoso's travel insurance coverage), respond accurately, and cite the document explicitly.\n",
    "\n",
    "        You must behave as if you have no external knowledge beyond what is retrieved from the uploaded document.\n",
    "        \"\"\"\n",
    "\n",
    "        \n",
    "        # Create file search tool with uploaded resources\n",
    "        file_search = FileSearchTool(vector_store_ids=[vector_store.id])\n",
    "\n",
    "        # 3. Create an agent on the Azure AI agent service with the file search tool\n",
    "        agent_definition = await client.agents.create_agent(\n",
    "            model=\"gpt-4o\",  # This model should match your Azure OpenAI deployment.\n",
    "            name=AGENT_NAME,\n",
    "            instructions=AGENT_INSTRUCTIONS,\n",
    "            tools=file_search.definitions,\n",
    "            tool_resources=file_search.resources,\n",
    "        )\n",
    "        \n",
    "        # Create the Azure AI Agent using the client and definition.\n",
    "        agent = AzureAIAgent(\n",
    "            client=client,\n",
    "            definition=agent_definition,\n",
    "        )\n",
    "        \n",
    "        # Create a thread to hold the conversation\n",
    "        # If no thread is provided, a new thread will be\n",
    "        # created and returned with the initial response\n",
    "        thread: AzureAIAgentThread | None = None\n",
    "        \n",
    "        # Example user queries.\n",
    "        user_inputs = [\n",
    "            \"Can you explain Contoso's travel insurance coverage?\",  # Relevant context.\n",
    "            \"What is a Neural Network?\"  # No relevant context from the document. Will not contain a source annotation.\n",
    "        ]\n",
    "        \n",
    "        try:\n",
    "            for user_input in user_inputs:\n",
    "                print(f\"# User: '{user_input}'\")\n",
    "                # Invoke the agent for the specified thread for response\n",
    "                async for response in agent.invoke(messages=user_input, thread=thread):\n",
    "                    print(f\"# {response.name}: {response}\")\n",
    "                    thread = response.thread\n",
    "        finally:\n",
    "            # Clean up resources.\n",
    "            await thread.delete() if thread else None\n",
    "            await client.agents.delete_vector_store(vector_store.id)\n",
    "            await client.agents.delete_file(file.id)\n",
    "            await client.agents.delete_agent(agent.id)\n",
    "            print(\"\\nCleaned up agent, thread, file, and vector store.\")\n",
    "\n",
    "await main()"
   ]
  },
  {
   "cell_type": "markdown",
   "metadata": {},
   "source": [
    "আপনার অনুরোধটি অনুধাবন করেছি। অনুগ্রহ করে আমাকে সেই Markdown ফাইলটি প্রদান করুন, যাতে আমি এটি বাংলায় অনুবাদ করতে পারি।\n"
   ]
  },
  {
   "cell_type": "markdown",
   "metadata": {},
   "source": [
    "\n---\n\n**অস্বীকৃতি**:  \nএই নথিটি AI অনুবাদ পরিষেবা [Co-op Translator](https://github.com/Azure/co-op-translator) ব্যবহার করে অনুবাদ করা হয়েছে। আমরা যথাসম্ভব সঠিক অনুবাদের চেষ্টা করি, তবে অনুগ্রহ করে মনে রাখবেন যে স্বয়ংক্রিয় অনুবাদে ত্রুটি বা অসঙ্গতি থাকতে পারে। নথিটির মূল ভাষায় রচিত সংস্করণটিকেই প্রামাণিক উৎস হিসেবে বিবেচনা করা উচিত। গুরুত্বপূর্ণ তথ্যের জন্য পেশাদার মানব অনুবাদ ব্যবহার করার পরামর্শ দেওয়া হচ্ছে। এই অনুবাদ ব্যবহারের ফলে সৃষ্ট কোনো ভুল বোঝাবুঝি বা ভুল ব্যাখ্যার জন্য আমরা দায়ী নই।\n"
   ]
  }
 ],
 "metadata": {
  "kernelspec": {
   "display_name": ".venv",
   "language": "python",
   "name": "python3"
  },
  "language_info": {
   "codemirror_mode": {
    "name": "ipython",
    "version": 3
   },
   "file_extension": ".py",
   "mimetype": "text/x-python",
   "name": "python",
   "nbconvert_exporter": "python",
   "pygments_lexer": "ipython3",
   "version": "3.11.11"
  },
  "coopTranslator": {
   "original_hash": "a86c3ddfbe35024993bbf563588aad48",
   "translation_date": "2025-08-29T14:17:13+00:00",
   "source_file": "05-agentic-rag/code_samples/05-semantic-kernel-azure-ai-agent.ipynb",
   "language_code": "bn"
  }
 },
 "nbformat": 4,
 "nbformat_minor": 2
}