{
 "cells": [
  {
   "cell_type": "markdown",
   "metadata": {},
   "source": [
    "# অটোজেন টুল ব্যবহারের উদাহরণ\n"
   ]
  },
  {
   "cell_type": "markdown",
   "metadata": {},
   "source": [
    "## প্রয়োজনীয় প্যাকেজগুলো আমদানি করুন\n"
   ]
  },
  {
   "cell_type": "code",
   "execution_count": null,
   "metadata": {},
   "outputs": [],
   "source": [
    "import os\n",
    "import json\n",
    "\n",
    "import requests\n",
    "from autogen_agentchat.agents import AssistantAgent\n",
    "from autogen_core.models import UserMessage\n",
    "from autogen_ext.models.azure import AzureAIChatCompletionClient\n",
    "from azure.core.credentials import AzureKeyCredential\n",
    "from autogen_core import CancellationToken\n",
    "from autogen_core.tools import FunctionTool\n",
    "from autogen_agentchat.messages import TextMessage\n",
    "from autogen_agentchat.ui import Console\n",
    "from typing import Any, Callable, Set, Dict, List, Optional"
   ]
  },
  {
   "cell_type": "markdown",
   "metadata": {},
   "source": [
    "## ক্লায়েন্ট তৈরি করা\n",
    "\n",
    "এই উদাহরণে, আমরা [GitHub Models](https://aka.ms/ai-agents-beginners/github-models) ব্যবহার করব LLM-এ অ্যাক্সেস পাওয়ার জন্য।\n",
    "\n",
    "`model` হিসেবে `gpt-4o-mini` নির্ধারণ করা হয়েছে। GitHub Models মার্কেটপ্লেসে উপলব্ধ অন্য কোনো মডেলে পরিবর্তন করে দেখুন বিভিন্ন ফলাফল কেমন হয়।\n",
    "\n",
    "একটি দ্রুত পরীক্ষা হিসেবে, আমরা একটি সহজ প্রম্পট চালাব - `What is the capital of France`।\n"
   ]
  },
  {
   "cell_type": "code",
   "execution_count": null,
   "metadata": {},
   "outputs": [],
   "source": [
    "client = AzureAIChatCompletionClient(\n",
    "    model=\"gpt-4o-mini\",\n",
    "    endpoint=\"https://models.inference.ai.azure.com\",\n",
    "    # To authenticate with the model you will need to generate a personal access token (PAT) in your GitHub settings.\n",
    "    # Create your PAT token by following instructions here: https://docs.github.com/en/authentication/keeping-your-account-and-data-secure/managing-your-personal-access-tokens\n",
    "    credential=AzureKeyCredential(os.environ[\"GITHUB_TOKEN\"]),\n",
    "    model_info={\n",
    "        \"json_output\": True,\n",
    "        \"function_calling\": True,\n",
    "        \"vision\": True,\n",
    "        \"family\": \"unknown\",\n",
    "    },\n",
    ")\n",
    "\n",
    "result = await client.create([UserMessage(content=\"What is the capital of France?\", source=\"user\")])\n",
    "print(result)"
   ]
  },
  {
   "cell_type": "markdown",
   "metadata": {},
   "source": [
    "## ফাংশন সংজ্ঞায়িত করা\n",
    "\n",
    "এই উদাহরণে, আমরা এজেন্টকে একটি টুলের অ্যাক্সেস দেব যা একটি ফাংশন, যেখানে উপলব্ধ ছুটির গন্তব্যগুলোর তালিকা এবং তাদের প্রাপ্যতা থাকবে।\n",
    "\n",
    "আপনি ভাবতে পারেন যে এটি এমন একটি পরিস্থিতি হতে পারে যেখানে একটি ট্রাভেল এজেন্টের কাছে উদাহরণস্বরূপ একটি ট্রাভেল ডাটাবেসের অ্যাক্সেস থাকতে পারে।\n",
    "\n",
    "এই নমুনাটি অনুসরণ করার সময়, নতুন ফাংশন এবং টুল সংজ্ঞায়িত করার চেষ্টা করতে পারেন যা এজেন্ট কল করতে পারে।\n"
   ]
  },
  {
   "cell_type": "code",
   "execution_count": null,
   "metadata": {},
   "outputs": [],
   "source": [
    "from typing import Dict, List, Optional\n",
    "\n",
    "\n",
    "def vacation_destinations(city: str) -> tuple[str, str]:\n",
    "    \"\"\"\n",
    "    Checks if a specific vacation destination is available\n",
    "    \n",
    "    Args:\n",
    "        city (str): Name of the city to check\n",
    "        \n",
    "    Returns:\n",
    "        tuple: Contains city name and availability status ('Available' or 'Unavailable')\n",
    "    \"\"\"\n",
    "    destinations = {\n",
    "        \"Barcelona\": \"Available\",\n",
    "        \"Tokyo\": \"Unavailable\",\n",
    "        \"Cape Town\": \"Available\",\n",
    "        \"Vancouver\": \"Available\",\n",
    "        \"Dubai\": \"Unavailable\",\n",
    "    }\n",
    "\n",
    "    if city in destinations:\n",
    "        return city, destinations[city]\n",
    "    else:\n",
    "        return city, \"City not found\"\n",
    "\n",
    "# Example usage:\n",
    "# city, status = vacation_destinations(\"Barcelona\")\n",
    "# print(f\"How about visiting {city}? It's currently {status} there!\")"
   ]
  },
  {
   "cell_type": "markdown",
   "metadata": {},
   "source": [
    "## ফাংশন টুল সংজ্ঞায়িত করা  \n",
    "`vacation_destinations`-কে একটি `FunctionTool` হিসেবে ব্যবহার করার জন্য, আমাদের এটি একটি টুল হিসেবে সংজ্ঞায়িত করতে হবে।  \n",
    "\n",
    "আমরা টুলটির একটি বিবরণও প্রদান করব, যা এজেন্টকে সাহায্য করবে ব্যবহারকারীর অনুরোধকৃত কাজের সাথে সম্পর্কিতভাবে টুলটি কী উদ্দেশ্যে ব্যবহৃত হয় তা সনাক্ত করতে।  \n"
   ]
  },
  {
   "cell_type": "code",
   "execution_count": null,
   "metadata": {},
   "outputs": [],
   "source": [
    "get_vacations = FunctionTool(\n",
    "    vacation_destinations, description=\"Search for vacation destinations and if they are available or not.\"\n",
    ")"
   ]
  },
  {
   "cell_type": "markdown",
   "metadata": {},
   "source": [
    "## এজেন্ট সংজ্ঞায়িত করা\n",
    "\n",
    "এখন আমরা নিচের কোডে এজেন্ট তৈরি করতে পারি। আমরা `system_message` সংজ্ঞায়িত করি যাতে এজেন্ট ব্যবহারকারীদের ছুটির গন্তব্য খুঁজে পেতে সাহায্য করার নির্দেশনা পায়।\n",
    "\n",
    "আমরা `reflect_on_tool_use` প্যারামিটারটিও true হিসেবে সেট করি। এটি LLM-কে টুল কলের প্রতিক্রিয়া গ্রহণ করে তা প্রাকৃতিক ভাষায় পাঠানোর সুযোগ দেয়।\n",
    "\n",
    "আপনি পার্থক্য দেখতে চাইলে প্যারামিটারটি false হিসেবে সেট করতে পারেন।\n"
   ]
  },
  {
   "cell_type": "code",
   "execution_count": null,
   "metadata": {},
   "outputs": [],
   "source": [
    "agent = AssistantAgent(\n",
    "    name=\"assistant\",\n",
    "    model_client=client,\n",
    "    tools=[get_vacations],\n",
    "    system_message=\"You are a travel agent that helps users find vacation destinations.\",\n",
    "    reflect_on_tool_use=True,\n",
    ")"
   ]
  },
  {
   "cell_type": "markdown",
   "metadata": {},
   "source": [
    "## এজেন্ট চালানো\n",
    "\n",
    "এখন আমরা এজেন্ট চালাতে পারি, যেখানে প্রাথমিক ব্যবহারকারীর বার্তাটি টোকিওতে ভ্রমণের অনুরোধ জানাচ্ছে।\n",
    "\n",
    "আপনি এই শহরের গন্তব্য পরিবর্তন করতে পারেন, যাতে এজেন্ট শহরের প্রাপ্যতা সম্পর্কে কীভাবে প্রতিক্রিয়া জানায় তা দেখতে পারেন।\n"
   ]
  },
  {
   "cell_type": "code",
   "execution_count": null,
   "metadata": {},
   "outputs": [],
   "source": [
    "async def assistant_run() -> None:\n",
    "    response = await agent.on_messages(\n",
    "        [TextMessage(content=\"I would like to take a trip to Tokyo\", source=\"user\")],\n",
    "        cancellation_token=CancellationToken(),\n",
    "    )\n",
    "    print(response.inner_messages)\n",
    "    print(response.chat_message)\n",
    "\n",
    "\n",
    "# Use asyncio.run(assistant_run()) when running in a script.\n",
    "await assistant_run()"
   ]
  },
  {
   "cell_type": "markdown",
   "metadata": {},
   "source": [
    "\n---\n\n**অস্বীকৃতি**:  \nএই নথিটি AI অনুবাদ পরিষেবা [Co-op Translator](https://github.com/Azure/co-op-translator) ব্যবহার করে অনুবাদ করা হয়েছে। আমরা যথাসম্ভব সঠিক অনুবাদের চেষ্টা করি, তবে অনুগ্রহ করে মনে রাখবেন যে স্বয়ংক্রিয় অনুবাদে ত্রুটি বা অসঙ্গতি থাকতে পারে। নথিটির মূল ভাষায় লেখা সংস্করণটিকেই প্রামাণিক উৎস হিসেবে বিবেচনা করা উচিত। গুরুত্বপূর্ণ তথ্যের জন্য, পেশাদার মানব অনুবাদ ব্যবহার করার পরামর্শ দেওয়া হয়। এই অনুবাদ ব্যবহারের ফলে সৃষ্ট কোনো ভুল বোঝাবুঝি বা ভুল ব্যাখ্যার জন্য আমরা দায়ী নই।\n"
   ]
  }
 ],
 "metadata": {
  "kernelspec": {
   "display_name": ".venv",
   "language": "python",
   "name": "python3"
  },
  "language_info": {
   "codemirror_mode": {
    "name": "ipython",
    "version": 3
   },
   "file_extension": ".py",
   "mimetype": "text/x-python",
   "name": "python",
   "nbconvert_exporter": "python",
   "pygments_lexer": "ipython3",
   "version": "3.13.1"
  },
  "coopTranslator": {
   "original_hash": "3ab7ffbff609b601fcdfeb749af44e43",
   "translation_date": "2025-08-29T14:09:03+00:00",
   "source_file": "04-tool-use/code_samples/04-autogen.ipynb",
   "language_code": "bn"
  }
 },
 "nbformat": 4,
 "nbformat_minor": 2
}