{
 "cells": [
  {
   "cell_type": "markdown",
   "metadata": {},
   "source": [
    "## **নমুনা: হোটেল বুকিংয়ের জন্য মাল্টি-এআই এজেন্ট**\n",
    "\n",
    "আজকের দ্রুতগতির বিশ্বে, একটি ব্যবসায়িক সফর পরিকল্পনা করা শুধুমাত্র একটি ফ্লাইট এবং হোটেল রুম বুকিংয়ের মধ্যে সীমাবদ্ধ নয়। এটি এমন একটি সমন্বয় এবং দক্ষতার প্রয়োজন যা অর্জন করা অনেক সময় চ্যালেঞ্জিং হতে পারে। এখানেই মাল্টি-এআই এজেন্ট আমাদের ভ্রমণ ব্যবস্থাপনার পদ্ধতিকে বদলে দেয়।\n",
    "\n",
    "ভাবুন, আপনার কাছে একটি বুদ্ধিমান এজেন্টের দল রয়েছে, যারা একসঙ্গে কাজ করে আপনার সফরের প্রতিটি দিককে নিখুঁতভাবে এবং সহজে পরিচালনা করছে। আমাদের উন্নত এআই প্রযুক্তির মাধ্যমে, আমরা বুকিং পরিষেবা এবং ভ্রমণ পরিকল্পনার জন্য বিশেষায়িত এজেন্ট তৈরি করেছি, যা একটি নিরবচ্ছিন্ন এবং চাপমুক্ত ভ্রমণের অভিজ্ঞতা নিশ্চিত করে।\n",
    "\n",
    "এটি একটি সাধারণ পরিস্থিতি। যখন একটি ব্যবসায়িক সফর পরিকল্পনা করা হয়, তখন আমাদের একটি ব্যবসায়িক ভ্রমণ এজেন্টের সাথে পরামর্শ করতে হয় যাতে বিমান টিকিটের তথ্য, হোটেলের তথ্য ইত্যাদি সংগ্রহ করা যায়। এআই এজেন্টের মাধ্যমে, আমরা বুকিং পরিষেবার জন্য এজেন্ট এবং ভ্রমণ পরিকল্পনার জন্য এজেন্ট তৈরি করতে পারি, যারা একসঙ্গে কাজ করে বুদ্ধিমত্তার স্তর উন্নত করতে পারে।\n"
   ]
  },
  {
   "cell_type": "markdown",
   "metadata": {},
   "source": [
    "# Azure AI Agent Service এবং **.env** থেকে কনফিগারেশন তথ্য সংগ্রহ করুন\n",
    "\n",
    "### **.env**\n",
    "\n",
    "একটি .env ফাইল তৈরি করুন\n",
    "\n",
    "**.env** ফাইলটি Azure AI Agent Service-এর সংযোগ স্ট্রিং, AOAI দ্বারা ব্যবহৃত মডেল, এবং সংশ্লিষ্ট Google API Search সার্ভিস API, ENDPOINT ইত্যাদি ধারণ করে।\n",
    "\n",
    "- **AZURE_AI_AGENT_MODEL_DEPLOYMENT_NAME** = \"আপনার Azure AI Agent Service Model Deployment Name\"\n",
    "\n",
    "[**NOTE**] আপনার এমন একটি মডেল প্রয়োজন যা 100,000 Rate Limit (Tokens প্রতি মিনিটে) এবং 600 Rate Limit (Request প্রতি মিনিটে) সমর্থন করে।\n",
    "\n",
    "  আপনি Azure AI Foundry - Model এবং Endpoint থেকে মডেল পেতে পারেন।\n",
    "\n",
    "- **AZURE_AI_AGENT_PROJECT_CONNECTION_STRING** = \"আপনার Azure AI Agent Service Project Connection String\"\n",
    "\n",
    "  আপনি AI Foundry Portal Screen-এর প্রজেক্ট ওভারভিউ থেকে প্রজেক্ট সংযোগ স্ট্রিং পেতে পারেন।\n",
    "\n",
    "- **SERPAPI_SEARCH_API_KEY** = \"আপনার SERPAPI Search API KEY\"\n",
    "- **SERPAPI_SEARCH_ENDPOINT** = \"আপনার SERPAPI Search Endpoint\"\n",
    "\n",
    "Azure AI Agent Service-এর Model Deployment Name এবং Project Connection String পেতে, আপনাকে Azure AI Agent Service তৈরি করতে হবে। সরাসরি তৈরি করার জন্য [এই টেমপ্লেটটি](https://portal.azure.com/#create/Microsoft.Template/uri/https%3A%2F%2Fraw.githubusercontent.com%2Ffosteramanda%2Fazure-agent-quickstart-templates%2Frefs%2Fheads%2Fmaster%2Fquickstarts%2Fmicrosoft.azure-ai-agent-service%2Fstandard-agent%2Fazuredeploy.json) ব্যবহার করার পরামর্শ দেওয়া হয়। （***Note:*** Azure AI Agent Service বর্তমানে সীমিত অঞ্চলে সেট করা আছে। অঞ্চল সেট করার জন্য [এই লিঙ্কটি](https://learn.microsoft.com/en-us/azure/ai-services/agents/concepts/model-region-support) দেখার পরামর্শ দেওয়া হয়।)\n",
    "\n",
    "Agent-কে SERPAPI-তে অ্যাক্সেস করতে হবে। [এই লিঙ্কটি](https://serpapi.com/searches) ব্যবহার করে রেজিস্ট্রেশন করার পরামর্শ দেওয়া হয়। রেজিস্ট্রেশনের পর, আপনি একটি ইউনিক API KEY এবং ENDPOINT পেতে পারেন।\n"
   ]
  },
  {
   "cell_type": "markdown",
   "metadata": {},
   "source": [
    "# আজুরে লগইন করুন\n",
    "\n",
    "আপনাকে এখন আজুরে লগইন করতে হবে। VScode-এ একটি টার্মিনাল খুলুন এবং `az login` কমান্ডটি চালান।\n"
   ]
  },
  {
   "cell_type": "markdown",
   "metadata": {},
   "source": [
    "# সেটআপ\n",
    "\n",
    "এই নোটবুকটি চালানোর জন্য আপনাকে নিম্নলিখিত লাইব্রেরিগুলি ইনস্টল করতে হবে। এখানে প্রয়োজনীয় লাইব্রেরিগুলির তালিকা এবং সংশ্লিষ্ট পিপ ইনস্টল কমান্ডগুলি দেওয়া হয়েছে:\n",
    "\n",
    "azure-identity: Azure প্রমাণীকরণের জন্য।  \n",
    "requests: HTTP অনুরোধ করার জন্য।  \n",
    "semantic-kernel: সেমান্টিক কোর ফ্রেমওয়ার্কের জন্য (ধরা যাক এটি একটি কাস্টম বা নির্দিষ্ট লাইব্রেরি, আপনাকে এটি একটি নির্দিষ্ট উৎস বা রিপোজিটরি থেকে ইনস্টল করতে হতে পারে)।  \n"
   ]
  },
  {
   "cell_type": "code",
   "execution_count": null,
   "metadata": {},
   "outputs": [],
   "source": [
    "!pip install azure-identity\n",
    "!pip install requests\n",
    "!pip install semantic-kernel\n",
    "!pip install --upgrade semantic_kernel\n",
    "!pip install azure-cli"
   ]
  },
  {
   "cell_type": "markdown",
   "metadata": {},
   "source": [
    "# ব্যাখ্যা:  \n",
    "import asyncio: এটি asyncio মডিউল আমদানি করে, যা পাইথনে অ্যাসিঙ্ক্রোনাস প্রোগ্রামিংয়ের জন্য সমর্থন প্রদান করে। এটি আপনাকে async এবং await সিনট্যাক্স ব্যবহার করে সমান্তরাল কোড লিখতে সাহায্য করে।  \n",
    "from typing import Annotated: এটি typing মডিউল থেকে Annotated টাইপ আমদানি করে। Annotated টাইপ হিন্টে মেটাডেটা যোগ করতে ব্যবহৃত হয়, যা যাচাইকরণ, ডকুমেন্টেশন বা টুলিংয়ের মতো বিভিন্ন উদ্দেশ্যে উপকারী হতে পারে।  \n"
   ]
  },
  {
   "cell_type": "code",
   "execution_count": null,
   "metadata": {
    "dotnet_interactive": {
     "language": "csharp"
    },
    "polyglot_notebook": {
     "kernelName": "csharp"
    }
   },
   "outputs": [],
   "source": [
    "import asyncio,os\n",
    "from typing import Annotated"
   ]
  },
  {
   "cell_type": "markdown",
   "metadata": {},
   "source": [
    "# ব্যাখ্যা:\n",
    "`from dotenv import load_dotenv` এবং `load_dotenv()` ব্যবহার করে আপনি সহজেই .env ফাইলের মাধ্যমে কনফিগারেশন সেটিংস এবং সংবেদনশীল তথ্য (যেমন API কী এবং ডাটাবেস URL) পরিচালনা করতে পারেন। এটি আপনার সোর্স কোড থেকে আলাদা রাখে এবং আপনার অ্যাপ্লিকেশনকে আরও নিরাপদ ও সহজে কনফিগার করার সুযোগ দেয়।\n"
   ]
  },
  {
   "cell_type": "code",
   "execution_count": null,
   "metadata": {},
   "outputs": [],
   "source": [
    "import os\n",
    "from dotenv import load_dotenv\n",
    "\n",
    "# Load environment variables from .env file\n",
    "load_dotenv()"
   ]
  },
  {
   "cell_type": "markdown",
   "metadata": {},
   "source": [
    "# ব্যাখ্যা:\n",
    "\n",
    "ইমপোর্ট স্টেটমেন্ট: from azure.identity.aio import DefaultAzureCredential: এটি azure.identity.aio মডিউল থেকে DefaultAzureCredential ক্লাসটি ইমপোর্ট করে। মডিউলের নামের aio অংশটি নির্দেশ করে যে এটি অ্যাসিঙ্ক্রোনাস অপারেশনের জন্য ডিজাইন করা হয়েছে।\n",
    "\n",
    "DefaultAzureCredential-এর উদ্দেশ্য: DefaultAzureCredential ক্লাসটি Azure SDK for Python-এর অংশ। এটি Azure পরিষেবাগুলোর সাথে প্রমাণীকরণের একটি ডিফল্ট পদ্ধতি প্রদান করে। এটি নির্দিষ্ট একটি ক্রমে একাধিক পদ্ধতি ব্যবহার করে প্রমাণীকরণের চেষ্টা করে, যেমন পরিবেশ ভেরিয়েবল, ম্যানেজড আইডেন্টিটি, এবং Azure CLI ক্রেডেনশিয়াল।\n",
    "\n",
    "অ্যাসিঙ্ক্রোনাস অপারেশন: aio মডিউলটি নির্দেশ করে যে DefaultAzureCredential ক্লাসটি অ্যাসিঙ্ক্রোনাস অপারেশন সমর্থন করে। এর মানে আপনি এটি asyncio-এর সাথে ব্যবহার করে নন-ব্লকিং প্রমাণীকরণ অনুরোধ সম্পাদন করতে পারেন।\n"
   ]
  },
  {
   "cell_type": "code",
   "execution_count": null,
   "metadata": {
    "dotnet_interactive": {
     "language": "csharp"
    },
    "polyglot_notebook": {
     "kernelName": "csharp"
    }
   },
   "outputs": [],
   "source": [
    "from azure.identity.aio import DefaultAzureCredential"
   ]
  },
  {
   "cell_type": "markdown",
   "metadata": {},
   "source": [
    "# ব্যাখ্যা:\n",
    "`semantic_kernel` প্যাকেজ থেকে বিভিন্ন মডিউল এবং ক্লাস আমদানি করা হয়েছে। এখানে প্রতিটি আমদানির একটি বিশ্লেষণ দেওয়া হলো:\n",
    "\n",
    "`AgentGroupChat` `semantic_kernel.agents` থেকে: এই ক্লাসটি AI এজেন্টদের জন্য গ্রুপ চ্যাট সম্পর্কিত কার্যকারিতা পরিচালনা করে।  \n",
    "`AzureAIAgent` এবং `AzureAIAgentSettings` `semantic_kernel.agents.azure_ai` থেকে:\n",
    "\n",
    "- `AzureAIAgent`: এই ক্লাসটি Azure AI পরিষেবাগুলি ব্যবহার করে AI এজেন্ট তৈরি এবং পরিচালনার জন্য ব্যবহৃত হয়।  \n",
    "- `AzureAIAgentSettings`: এই ক্লাসটি `AzureAIAgent`-এর জন্য সেটিংস কনফিগার করতে ব্যবহৃত হয়।  \n",
    "\n",
    "`TerminationStrategy` `semantic_kernel.agents.strategies.termination.termination_strategy` থেকে:  \n",
    "এই ক্লাসটি নির্দিষ্ট শর্তে AI এজেন্টদের কার্যক্রম বন্ধ করার কৌশল সংজ্ঞায়িত করে।  \n",
    "\n",
    "`ChatMessageContent` `semantic_kernel.contents.chat_message_content` থেকে:  \n",
    "এই ক্লাসটি চ্যাট বার্তার বিষয়বস্তু পরিচালনার জন্য ব্যবহৃত হয়।  \n",
    "\n",
    "`AuthorRole` `semantic_kernel.contents.utils.author_role` থেকে:  \n",
    "এই ক্লাসটি চ্যাট বার্তার প্রসঙ্গে লেখকদের বিভিন্ন ভূমিকা সংজ্ঞায়িত করে।  \n",
    "\n",
    "`kernel_function` `semantic_kernel.functions.kernel_function_decorator` থেকে:  \n",
    "এই ডেকোরেটরটি কোর ফাংশন সংজ্ঞায়িত করতে ব্যবহৃত হয়, যা `semantic kernel` ফ্রেমওয়ার্কের মধ্যে কার্যকর করা যায়।  \n",
    "\n",
    "এই আমদানিগুলি AI এজেন্ট তৈরি এবং পরিচালনার জন্য প্রয়োজনীয় উপাদানগুলি সেটআপ করে, যা গ্রুপ চ্যাট পরিবেশে ইন্টারঅ্যাক্ট করতে পারে। এটি সম্ভবত হোটেল বুকিং বা অনুরূপ কার্যক্রমের জন্য ব্যবহৃত হতে পারে।\n"
   ]
  },
  {
   "cell_type": "code",
   "execution_count": null,
   "metadata": {
    "dotnet_interactive": {
     "language": "csharp"
    },
    "polyglot_notebook": {
     "kernelName": "csharp"
    }
   },
   "outputs": [],
   "source": [
    "from semantic_kernel.agents import AgentGroupChat\n",
    "from semantic_kernel.agents import AzureAIAgent, AzureAIAgentSettings\n",
    "from semantic_kernel.agents.strategies.termination.termination_strategy import TerminationStrategy\n",
    "from semantic_kernel.contents import ChatMessageContent\n",
    "from semantic_kernel.contents import AuthorRole\n",
    "from semantic_kernel.functions.kernel_function_decorator import kernel_function"
   ]
  },
  {
   "cell_type": "markdown",
   "metadata": {},
   "source": [
    "# ব্যাখ্যা:\n",
    "এরপর আমরা azure.ai.projects.models মডিউল থেকে CodeInterpreterTool ক্লাসটি ইমপোর্ট করি।\n",
    "\n",
    "CodeInterpreterTool: এই ক্লাসটি Azure AI SDK-এর অংশ এবং এটি AI প্রকল্পের প্রেক্ষাপটে কোড ব্যাখ্যা ও কার্যকর করার জন্য ব্যবহৃত হয়। এটি কোড স্নিপেট চালানো, কোড বিশ্লেষণ করা, বা AI ওয়ার্কফ্লোতে কোড কার্যকর করার ইন্টিগ্রেশন করার জন্য বিভিন্ন কার্যকারিতা প্রদান করে।\n",
    "এই ইমপোর্টটি আপনার প্রকল্পে CodeInterpreterTool ব্যবহার করার জন্য প্রয়োজনীয় উপাদান সেটআপ করে, যা কোড ব্যাখ্যা ও গতিশীলভাবে কার্যকর করার সাথে সম্পর্কিত কাজের জন্য উপযোগী হতে পারে।\n"
   ]
  },
  {
   "cell_type": "code",
   "execution_count": null,
   "metadata": {
    "dotnet_interactive": {
     "language": "csharp"
    },
    "polyglot_notebook": {
     "kernelName": "csharp"
    }
   },
   "outputs": [],
   "source": [
    "from azure.ai.projects.models import CodeInterpreterTool"
   ]
  },
  {
   "cell_type": "markdown",
   "metadata": {},
   "source": [
    "# ব্যাখ্যা:\n",
    "ApprovalTerminationStrategy ক্লাস একটি নির্দিষ্ট কৌশল প্রদান করে যা একটি AI এজেন্টের কার্যক্রম বন্ধ করার জন্য ব্যবহৃত হয়। এজেন্টটি তার ইন্টারঅ্যাকশন ইতিহাসের শেষ বার্তায় \"saved\" শব্দটি থাকলে বন্ধ হয়ে যাবে। এটি এমন পরিস্থিতিতে কার্যকর হতে পারে যেখানে এজেন্টের কাজ সম্পন্ন হয়েছে বলে ধরা হয়, যখন এটি নিশ্চিতকরণ পায় যে কিছু \"saved\" হয়েছে। ইন্টারঅ্যাকশন পদ্ধতি সংজ্ঞায়িত করুন। সংরক্ষণ পরিকল্পনা সংরক্ষিত হওয়ার পরে, \"saved\" সংকেত পাওয়ার সময় এটি বন্ধ করা যেতে পারে।\n"
   ]
  },
  {
   "cell_type": "code",
   "execution_count": null,
   "metadata": {
    "dotnet_interactive": {
     "language": "csharp"
    },
    "polyglot_notebook": {
     "kernelName": "csharp"
    }
   },
   "outputs": [],
   "source": [
    "class ApprovalTerminationStrategy(TerminationStrategy):\n",
    "    \"\"\"A strategy for determining when an agent should terminate.\"\"\"\n",
    "\n",
    "    async def should_agent_terminate(self, agent, history):\n",
    "        \"\"\"Check if the agent should terminate.\"\"\"\n",
    "        return \"saved\" in history[-1].content.lower()"
   ]
  },
  {
   "cell_type": "markdown",
   "metadata": {},
   "source": [
    "# ব্যাখ্যা:\n",
    "\n",
    "এই কোড লাইনটি create() মেথড কল করে একটি AzureAIAgentSettings অবজেক্ট ডিফল্ট বা পূর্বনির্ধারিত সেটিংস সহ ইনিশিয়ালাইজ করে। এই সেটিংস অবজেক্টটি (ai_agent_settings) এরপর একটি AzureAIAgent ইনস্ট্যান্স কনফিগার এবং পরিচালনা করার জন্য ব্যবহার করা যেতে পারে।\n"
   ]
  },
  {
   "cell_type": "code",
   "execution_count": null,
   "metadata": {
    "dotnet_interactive": {
     "language": "csharp"
    },
    "polyglot_notebook": {
     "kernelName": "csharp"
    }
   },
   "outputs": [],
   "source": [
    "ai_agent_settings = AzureAIAgentSettings.create()"
   ]
  },
  {
   "cell_type": "markdown",
   "metadata": {},
   "source": [
    "# ব্যাখ্যা:\n",
    "requests লাইব্রেরি ইমপোর্ট করে, আপনি সহজেই HTTP অনুরোধ করতে পারেন এবং আপনার Python কোডে ওয়েব সার্ভিসের সাথে ইন্টারঅ্যাক্ট করতে পারেন।\n"
   ]
  },
  {
   "cell_type": "code",
   "execution_count": null,
   "metadata": {
    "dotnet_interactive": {
     "language": "csharp"
    },
    "polyglot_notebook": {
     "kernelName": "csharp"
    }
   },
   "outputs": [],
   "source": [
    "import requests"
   ]
  },
  {
   "cell_type": "markdown",
   "metadata": {},
   "source": [
    "# ব্যাখ্যা:\n",
    "এটি একটি ভেরিয়েবল যা SERP (Search Engine Results Page) API পরিষেবায় অ্যাক্সেস করার জন্য API কী সংরক্ষণ করে। API কী একটি অনন্য শনাক্তকারী যা আপনার অ্যাকাউন্টের সাথে সম্পর্কিত অনুরোধগুলি প্রমাণীকরণের জন্য ব্যবহৃত হয়।\n",
    "\n",
    "'GOOGLE_SEARCH_API_KEY': এটি একটি প্লেসহোল্ডার স্ট্রিং। আপনাকে ''GOOGLE_SEARCH_API_KEY' আপনার প্রকৃত SERP API কী দিয়ে প্রতিস্থাপন করতে হবে।\n",
    "\n",
    "উদ্দেশ্য: এই লাইনের উদ্দেশ্য হল API কী একটি ভেরিয়েবলে সংরক্ষণ করা যাতে এটি SERP API পরিষেবায় অনুরোধ প্রমাণীকরণের জন্য ব্যবহার করা যায়। পরিষেবায় অ্যাক্সেস এবং অনুসন্ধান সম্পাদনের জন্য API কী প্রয়োজন।\n",
    "\n",
    "কীভাবে SERP API কী পাবেন: SERP API কী পেতে, https://serpapi.com-এ নিম্নলিখিত সাধারণ ধাপগুলি অনুসরণ করুন (আপনার ব্যবহৃত নির্দিষ্ট SERP API পরিষেবার উপর নির্ভর করে সঠিক ধাপগুলি ভিন্ন হতে পারে):\n",
    "\n",
    "SERP API পরিষেবা নির্বাচন করুন: বেশ কয়েকটি SERP API পরিষেবা উপলব্ধ রয়েছে, যেমন SerpAPI, Google Custom Search JSON API এবং অন্যান্য। আপনার প্রয়োজন অনুযায়ী সেরা পরিষেবাটি নির্বাচন করুন।\n",
    "\n",
    "একটি অ্যাকাউন্ট তৈরি করুন:\n",
    "\n",
    "নির্বাচিত SERP API পরিষেবার ওয়েবসাইটে যান https://www.serpapi.com এবং একটি অ্যাকাউন্ট তৈরি করুন। আপনাকে কিছু মৌলিক তথ্য প্রদান করতে হতে পারে এবং আপনার ইমেল ঠিকানা যাচাই করতে হতে পারে।\n",
    "\n",
    "একটি API কী তৈরি করুন:\n",
    "\n",
    "সাইন আপ করার পরে, আপনার অ্যাকাউন্টে লগ ইন করুন এবং API বিভাগ বা ড্যাশবোর্ডে যান। একটি নতুন API কী তৈরি বা জেনারেট করার বিকল্প খুঁজুন।\n",
    "API কী কপি করুন:\n",
    "\n",
    "API কী তৈরি হওয়ার পরে, এটি কপি করুন। এই কীটি SERP API পরিষেবায় আপনার অনুরোধগুলি প্রমাণীকরণের জন্য ব্যবহৃত হবে।\n",
    "প্লেসহোল্ডার প্রতিস্থাপন করুন:\n",
    "\n",
    "আপনার .env ফাইলে প্লেসহোল্ডারটি প্রতিস্থাপন করুন।\n"
   ]
  },
  {
   "cell_type": "code",
   "execution_count": null,
   "metadata": {
    "dotnet_interactive": {
     "language": "csharp"
    },
    "polyglot_notebook": {
     "kernelName": "csharp"
    }
   },
   "outputs": [],
   "source": [
    "SERPAPI_SEARCH_API_KEY=os.getenv('SERPAPI_SEARCH_API_KEY')"
   ]
  },
  {
   "cell_type": "code",
   "execution_count": null,
   "metadata": {
    "dotnet_interactive": {
     "language": "csharp"
    },
    "polyglot_notebook": {
     "kernelName": "csharp"
    }
   },
   "outputs": [],
   "source": [
    "SERPAPI_SEARCH_ENDPOINT = os.getenv('SERPAPI_SEARCH_ENDPOINT')"
   ]
  },
  {
   "cell_type": "markdown",
   "metadata": {},
   "source": [
    "# ব্যাখ্যা:\n",
    "BookingPlugin ক্লাসটি Serpapi.com Google Search API ব্যবহার করে হোটেল এবং ফ্লাইট বুকিংয়ের জন্য পদ্ধতি প্রদান করে। এটি প্রয়োজনীয় প্যারামিটার তৈরি করে, API অনুরোধ পাঠায় এবং প্রতিক্রিয়াগুলি প্রক্রিয়া করে প্রাসঙ্গিক বুকিং তথ্য প্রদান করে। API কী (SERPAPI_SEARCH_API_KEY) এবং এন্ডপয়েন্ট (SERPAPI_SEARCH_ENDPOINT) ব্যবহার করে Google Search API-তে অনুরোধ প্রেরণ এবং প্রমাণীকরণ করা হয়।\n"
   ]
  },
  {
   "cell_type": "code",
   "execution_count": null,
   "metadata": {
    "dotnet_interactive": {
     "language": "csharp"
    },
    "polyglot_notebook": {
     "kernelName": "csharp"
    }
   },
   "outputs": [],
   "source": [
    "# Define Booking Plugin\n",
    "class BookingPlugin:\n",
    "    \"\"\"Booking Plugin for customers\"\"\"\n",
    "    @kernel_function(description=\"booking hotel\")\n",
    "    def booking_hotel(self,query: Annotated[str, \"The name of the city\"], check_in_date: Annotated[str, \"Hotel Check-in Time\"], check_out_date: Annotated[str, \"Hotel Check-in Time\"])-> Annotated[str, \"Return the result of booking hotel infomation\"]:\n",
    "\n",
    "        params = {\n",
    "            \"engine\": \"google_hotels\",\n",
    "            \"q\": query,\n",
    "            \"check_in_date\": check_in_date,\n",
    "            \"check_out_date\": check_out_date,\n",
    "            \"adults\": \"2\",\n",
    "            \"currency\": \"USD\",\n",
    "            \"gl\": \"us\",\n",
    "            \"hl\": \"en\",\n",
    "            \"api_key\": SERPAPI_SEARCH_API_KEY\n",
    "        }\n",
    "\n",
    "        response = requests.get(SERPAPI_SEARCH_ENDPOINT, params=params)\n",
    "        if response.status_code == 200:\n",
    "            response = response.json()\n",
    "            return response[\"properties\"]\n",
    "        else:\n",
    "            return None\n",
    "\n",
    "    \n",
    "    @kernel_function(description=\"booking fight\")\n",
    "    def  booking_fight(self,origin: Annotated[str, \"The name of Departure\"], destination: Annotated[str, \"The name of Destination\"], outbound_date: Annotated[str, \"The date of outbound\"], return_date: Annotated[str, \"The date of Return_date\"])-> Annotated[str, \"Return the result of booking fight infomation\"]:\n",
    "        \n",
    "        go_params = {\n",
    "            \"engine\": \"google_flights\",   \n",
    "            \"departure_id\": origin,\n",
    "            \"arrival_id\": destination,\n",
    "            \"outbound_date\": outbound_date,\n",
    "            \"return_date\": return_date,  \n",
    "            \"currency\": \"USD\",\n",
    "            \"hl\": \"en\",\n",
    "            \"api_key\": SERPAPI_SEARCH_API_KEY  \n",
    "        }\n",
    "\n",
    "        print(go_params)\n",
    "\n",
    "        go_response = requests.get(SERPAPI_SEARCH_ENDPOINT, params=go_params)\n",
    "\n",
    "\n",
    "        result = ''\n",
    "\n",
    "        if go_response.status_code == 200:\n",
    "            response = go_response.json()\n",
    "\n",
    "            result += \"# outbound \\n \" + str(response)\n",
    "        else:\n",
    "            print('error!!!')\n",
    "            # return None\n",
    "\n",
    "        \n",
    "        back_params = {\n",
    "            \"engine\": \"google_flights\",   \n",
    "            \"departure_id\": destination,\n",
    "            \"arrival_id\": origin,\n",
    "            \"outbound_date\": return_date,\n",
    "            \"return_date\": return_date,  \n",
    "            \"currency\": \"USD\",\n",
    "            \"hl\": \"en\",\n",
    "            \"api_key\": SERPAPI_SEARCH_API_KEY  \n",
    "        }\n",
    "\n",
    "\n",
    "        print(back_params)\n",
    "\n",
    "\n",
    "        back_response = requests.get(SERPAPI_SEARCH_ENDPOINT, params=back_params)\n",
    "\n",
    "\n",
    "\n",
    "        if back_response.status_code == 200:\n",
    "            response = back_response.json()\n",
    "\n",
    "            result += \"\\n # return \\n\"  + str(response)\n",
    "\n",
    "        else:\n",
    "            print('error!!!')\n",
    "            # return None\n",
    "        \n",
    "        print(result)\n",
    "\n",
    "        return result\n",
    "\n",
    "        \n"
   ]
  },
  {
   "cell_type": "markdown",
   "metadata": {},
   "source": [
    "# ব্যাখ্যা:\n",
    "SavePlugin ক্লাসটি একটি পদ্ধতি saving_plan প্রদান করে, যা Azure AI পরিষেবাগুলি ব্যবহার করে ভ্রমণ পরিকল্পনা সংরক্ষণ করে। এটি Azure শংসাপত্র সেটআপ করে, একটি AI এজেন্ট তৈরি করে, ব্যবহারকারীর ইনপুট প্রক্রিয়া করে ভ্রমণ পরিকল্পনার বিষয়বস্তু তৈরি ও সংরক্ষণ করে এবং ফাইল সংরক্ষণ ও পরিস্কার কার্যক্রম পরিচালনা করে। পদ্ধতিটি সফলভাবে সম্পন্ন হলে \"Saved\" ফেরত দেয়।\n"
   ]
  },
  {
   "cell_type": "code",
   "execution_count": null,
   "metadata": {
    "dotnet_interactive": {
     "language": "csharp"
    },
    "polyglot_notebook": {
     "kernelName": "csharp"
    }
   },
   "outputs": [],
   "source": [
    "class SavePlugin:\n",
    "    \"\"\"Save Plugin for customers\"\"\"\n",
    "    @kernel_function(description=\"saving plan\")\n",
    "    async def saving_plan(self,tripplan: Annotated[str, \"The content of trip plan\"])-> Annotated[str, \"Return status of save content\"]:\n",
    "\n",
    "        async with (\n",
    "            DefaultAzureCredential() as creds,\n",
    "            AzureAIAgent.create_client(\n",
    "                credential=creds,\n",
    "                conn_str=ai_agent_settings.project_connection_string.get_secret_value(),\n",
    "            ) as client,\n",
    "        ):\n",
    "\n",
    "            code_interpreter = CodeInterpreterTool()\n",
    "            \n",
    "            agent_definition = await client.agents.create_agent(\n",
    "                model=ai_agent_settings.model_deployment_name,\n",
    "                tools=code_interpreter.definitions,\n",
    "                tool_resources=code_interpreter.resources,\n",
    "            )\n",
    "\n",
    "\n",
    "            agent = AzureAIAgent(\n",
    "                client=client,\n",
    "                definition=agent_definition,\n",
    "            )\n",
    "\n",
    "            thread = await client.agents.create_thread()\n",
    "\n",
    "\n",
    "            user_inputs = [\n",
    "                \"\"\"\n",
    "            \n",
    "                        You are my Python programming assistant. Generate code,save \"\"\"+ tripplan +\n",
    "                        \n",
    "                    \"\"\"    \n",
    "                        and execute it according to the following requirements\n",
    "\n",
    "                        1. Save blog content to trip-{YYMMDDHHMMSS}.md\n",
    "\n",
    "                        2. give me the download this file link\n",
    "                    \"\"\"\n",
    "            ]\n",
    "\n",
    "\n",
    "\n",
    "            try:\n",
    "                for user_input in user_inputs:\n",
    "                    # Add the user input as a chat message\n",
    "                    await agent.add_chat_message(\n",
    "                        thread_id=thread.id, message=ChatMessageContent(role=AuthorRole.USER, content=user_input)\n",
    "                    )\n",
    "                    print(f\"# User: '{user_input}'\")\n",
    "                    # Invoke the agent for the specified thread\n",
    "                    async for content in agent.invoke(thread_id=thread.id):\n",
    "                        if content.role != AuthorRole.TOOL:\n",
    "                            print(f\"# Agent: {content.content}\")\n",
    "\n",
    "                    \n",
    "                    messages = await client.agents.list_messages(thread_id=thread.id)\n",
    "\n",
    "                    # OpenAIPageableListOfThreadMessage\n",
    "                    # OpenAIPageableListOfThreadMessage\n",
    "\n",
    "\n",
    "                    for file_path_annotation in messages.file_path_annotations:\n",
    "\n",
    "                            file_name = os.path.basename(file_path_annotation.text)\n",
    "\n",
    "                            await client.agents.save_file(file_id=file_path_annotation.file_path.file_id, file_name=file_name,target_dir=\"./trip\")\n",
    "\n",
    "                    \n",
    "            finally:\n",
    "                await client.agents.delete_thread(thread.id)\n",
    "                await client.agents.delete_agent(agent.id)\n",
    "\n",
    "\n",
    "        return \"Saved\""
   ]
  },
  {
   "cell_type": "markdown",
   "metadata": {},
   "source": [
    "# ব্যাখ্যা:\n",
    "এই কোডটি Azure AI এজেন্ট সেটআপ করে যাতে তারা ফ্লাইট এবং হোটেল বুকিং এবং ব্যবহারকারীর ইনপুটের ভিত্তিতে ট্রিপ পরিকল্পনা সংরক্ষণ করতে পারে। এটি Azure ক্রেডেনশিয়াল ব্যবহার করে এজেন্ট তৈরি এবং কনফিগার করে, ব্যবহারকারীর ইনপুট একটি গ্রুপ চ্যাটের মাধ্যমে প্রক্রিয়া করে এবং কাজ সম্পন্ন হওয়ার পরে সঠিকভাবে পরিষ্কার নিশ্চিত করে। এজেন্টগুলি নির্দিষ্ট প্লাগইন (BookingPlugin এবং SavePlugin) ব্যবহার করে তাদের নিজ নিজ কাজ সম্পাদন করে।\n"
   ]
  },
  {
   "cell_type": "code",
   "execution_count": null,
   "metadata": {
    "dotnet_interactive": {
     "language": "csharp"
    },
    "polyglot_notebook": {
     "kernelName": "csharp"
    }
   },
   "outputs": [],
   "source": [
    "async with (\n",
    "    DefaultAzureCredential() as creds,\n",
    "    AzureAIAgent.create_client(\n",
    "        credential=creds,\n",
    "        conn_str=ai_agent_settings.project_connection_string.get_secret_value(),\n",
    "    ) as client,\n",
    "):\n",
    "    BOOKING_AGENT_NAME = \"BookingAgent\"\n",
    "    BOOKING_AGENT_INSTRUCTIONS = \"\"\"\n",
    "    You are a booking agent. Help me book flights or hotels.\n",
    "\n",
    "    Thought: Please understand the user's intention and confirm whether to use the reservation system to complete the task.\n",
    "\n",
    "    Actions:\n",
    "    - For flight bookings, convert the departure and destination names into airport codes.\n",
    "    - Use the appropriate API for hotel or flight bookings. Verify that all necessary parameters are available. If any parameters are missing, ask the user to provide them. If all parameters are complete, call the corresponding function.\n",
    "    - If the task is not related to hotel or flight booking, respond with the final answer only.\n",
    "    - Output the results using a markdown table:\n",
    "      - For flight bookings, output separate outbound and return contents in the order of:\n",
    "        Departure Airport | Airline | Flight Number | Departure Time | Arrival Airport | Arrival Time | Duration | Airplane | Travel Class | Price (USD) | Legroom | Extensions | Carbon Emissions (kg).\n",
    "      - For hotel bookings, output in the order of:\n",
    "        Property Name | Property Description | Check-in Time | Check-out Time | Prices | Nearby Places | Hotel Class | GPS Coordinates.\n",
    "    \"\"\"\n",
    "\n",
    "    SAVE_AGENT_NAME = \"SaveAgent\"\n",
    "    SAVE_AGENT_INSTRUCTIONS = \"\"\"\n",
    "    You are a save tool agent. Help me to save the trip plan.\n",
    "    \"\"\"\n",
    "\n",
    "    # Create agent definition\n",
    "    booking_agent_definition = await client.agents.create_agent(\n",
    "        model=ai_agent_settings.model_deployment_name,\n",
    "        name=BOOKING_AGENT_NAME,\n",
    "        instructions=BOOKING_AGENT_INSTRUCTIONS,\n",
    "    )\n",
    "\n",
    "    # Create the AzureAI Agent\n",
    "    booking_agent = AzureAIAgent(\n",
    "        client=client,\n",
    "        definition=booking_agent_definition,\n",
    "        # Optionally configure polling options\n",
    "        # polling_options=RunPollingOptions(run_polling_interval=timedelta(seconds=1)),\n",
    "    )\n",
    "\n",
    "    # Add the sample plugin to the kernel\n",
    "    booking_agent.kernel.add_plugin(BookingPlugin(), plugin_name=\"booking\")\n",
    "\n",
    "    # Create agent definition\n",
    "    save_agent_definition = await client.agents.create_agent(\n",
    "        model=ai_agent_settings.model_deployment_name,\n",
    "        name=SAVE_AGENT_NAME,\n",
    "        instructions=SAVE_AGENT_INSTRUCTIONS\n",
    "    )\n",
    "\n",
    "    # Create the AzureAI Agent\n",
    "    save_agent = AzureAIAgent(\n",
    "        client=client,\n",
    "        definition=save_agent_definition,\n",
    "    )\n",
    "\n",
    "    save_agent.kernel.add_plugin(SavePlugin(), plugin_name=\"saving\")\n",
    "\n",
    "    user_inputs = [\n",
    "        \"I have a business trip from London to New York in Feb 20 2025 to Feb 27 2025 ,help me to book a hotel and fight tickets and save it\"\n",
    "    ]\n",
    "\n",
    "    chat = AgentGroupChat(\n",
    "        agents=[booking_agent, save_agent],\n",
    "        termination_strategy=ApprovalTerminationStrategy(agents=[save_agent], maximum_iterations=10),\n",
    "    )\n",
    "\n",
    "    try:\n",
    "        for user_input in user_inputs:\n",
    "            # Add the user input as a chat message\n",
    "            await chat.add_chat_message(\n",
    "                ChatMessageContent(role=AuthorRole.USER, content=user_input)\n",
    "            )\n",
    "            print(f\"# User: '{user_input}'\")\n",
    "\n",
    "            async for content in chat.invoke():\n",
    "                print(f\"# {content.role} - {content.name or '*'}: '{content.content}'\")\n",
    "\n",
    "            print(f\"# IS COMPLETE: {chat.is_complete}\")\n",
    "\n",
    "            print(\"*\" * 60)\n",
    "            print(\"Chat History (In Descending Order):\\n\")\n",
    "            async for message in chat.get_chat_messages(agent=save_agent):\n",
    "                print(f\"# {message.role} - {message.name or '*'}: '{message.content}'\")\n",
    "    finally:\n",
    "        await chat.reset()\n",
    "        await client.agents.delete_agent(save_agent.id)\n",
    "        await client.agents.delete_agent(booking_agent.id)\n"
   ]
  },
  {
   "cell_type": "markdown",
   "metadata": {},
   "source": [
    "\n---\n\n**অস্বীকৃতি**:  \nএই নথিটি AI অনুবাদ পরিষেবা [Co-op Translator](https://github.com/Azure/co-op-translator) ব্যবহার করে অনুবাদ করা হয়েছে। আমরা যথাসম্ভব সঠিক অনুবাদের চেষ্টা করি, তবে অনুগ্রহ করে মনে রাখবেন যে স্বয়ংক্রিয় অনুবাদে ত্রুটি বা অসঙ্গতি থাকতে পারে। নথিটির মূল ভাষায় রচিত সংস্করণটিকেই প্রামাণিক উৎস হিসেবে বিবেচনা করা উচিত। গুরুত্বপূর্ণ তথ্যের জন্য, পেশাদার মানব অনুবাদ ব্যবহার করার পরামর্শ দেওয়া হয়। এই অনুবাদ ব্যবহারের ফলে সৃষ্ট কোনো ভুল বোঝাবুঝি বা ভুল ব্যাখ্যার জন্য আমরা দায়ী নই।\n"
   ]
  }
 ],
 "metadata": {
  "kernelspec": {
   "display_name": "3.12.1",
   "language": "python",
   "name": "python3"
  },
  "language_info": {
   "codemirror_mode": {
    "name": "ipython",
    "version": 3
   },
   "file_extension": ".py",
   "mimetype": "text/x-python",
   "name": "python",
   "nbconvert_exporter": "python",
   "pygments_lexer": "ipython3",
   "version": "3.12.1"
  },
  "polyglot_notebook": {
   "kernelInfo": {
    "defaultKernelName": "csharp",
    "items": [
     {
      "aliases": [],
      "name": "csharp"
     }
    ]
   }
  },
  "coopTranslator": {
   "original_hash": "1baa60020a95eda27b7e9ecfda99965b",
   "translation_date": "2025-08-29T13:58:24+00:00",
   "source_file": "08-multi-agent/code_samples/08-python_multi_aiagent_bookinghotel.ipynb",
   "language_code": "bn"
  }
 },
 "nbformat": 4,
 "nbformat_minor": 2
}