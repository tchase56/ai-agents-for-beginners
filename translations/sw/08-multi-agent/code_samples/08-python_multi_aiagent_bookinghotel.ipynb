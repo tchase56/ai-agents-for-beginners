{
 "cells": [
  {
   "cell_type": "markdown",
   "metadata": {},
   "source": [
    "## **Mifano: Mawakala wa AI Wengi kwa Kuhifadhi Hoteli**\n",
    "\n",
    "Katika dunia ya leo yenye kasi, kupanga safari ya kibiashara kunahusisha zaidi ya kuhifadhi tiketi ya ndege na chumba cha hoteli. Inahitaji kiwango cha uratibu na ufanisi ambacho kinaweza kuwa changamoto kufanikisha. Hapa ndipo Mawakala wa AI Wengi wanapochukua nafasi, wakibadilisha jinsi tunavyosimamia mahitaji yetu ya safari.\n",
    "\n",
    "Fikiria kuwa na timu ya mawakala wenye akili bandia kwa ajili yako, wakifanya kazi pamoja kushughulikia kila kipengele cha safari yako kwa usahihi na urahisi. Kwa teknolojia yetu ya hali ya juu ya AI, tumeunda mawakala maalum kwa huduma za kuhifadhi na kupanga ratiba, kuhakikisha uzoefu wa safari usio na matatizo na wenye utulivu.\n",
    "\n",
    "Hii ni hali ya msingi. Wakati wa kupanga safari ya kibiashara, tunahitaji kushauriana na wakala wa safari za kibiashara ili kupata taarifa za tiketi za ndege, taarifa za hoteli, na mengineyo. Kupitia Mawakala wa AI, tunaweza kujenga mawakala kwa huduma za kuhifadhi na mawakala wa kupanga ratiba ili kushirikiana na kuboresha kiwango cha akili.\n"
   ]
  },
  {
   "cell_type": "markdown",
   "metadata": {},
   "source": [
    "# Anzisha Huduma ya Azure AI Agent na pata taarifa za usanidi kutoka **.env**\n",
    "\n",
    "### **.env**\n",
    "\n",
    "Tengeneza faili ya .env\n",
    "\n",
    "**.env** inajumuisha connection string ya Huduma ya Azure AI Agent, mfano unaotumiwa na AOAI, na huduma ya Google API Search inayolingana, ENDPOINT, n.k.\n",
    "\n",
    "- **AZURE_AI_AGENT_MODEL_DEPLOYMENT_NAME** = \"Jina la Model Deployment ya Huduma yako ya Azure AI Agent\"\n",
    "\n",
    "[**NOTE**] Utahitaji mfano wenye kiwango cha juu cha 100,000 (Tokens kwa dakika) na kiwango cha 600 (Maombi kwa dakika).\n",
    "\n",
    "  Unaweza kupata mfano katika Azure AI Foundry - Model na Endpoint.\n",
    "\n",
    "- **AZURE_AI_AGENT_PROJECT_CONNECTION_STRING** = \"Connection String ya Mradi wa Huduma yako ya Azure AI Agent\"\n",
    "\n",
    "  Unaweza kupata connection string ya mradi katika muhtasari wa mradi wako kwenye Skrini ya AI Foundry Portal.\n",
    "\n",
    "- **SERPAPI_SEARCH_API_KEY** = \"API KEY yako ya SERPAPI Search\"\n",
    "- **SERPAPI_SEARCH_ENDPOINT** = \"Endpoint yako ya SERPAPI Search\"\n",
    "\n",
    "Ili kupata Jina la Model Deployment na Connection String ya Mradi wa Huduma ya Azure AI Agent, unahitaji kuunda Huduma ya Azure AI Agent. Inapendekezwa kutumia [template hii](https://portal.azure.com/#create/Microsoft.Template/uri/https%3A%2F%2Fraw.githubusercontent.com%2Ffosteramanda%2Fazure-agent-quickstart-templates%2Frefs%2Fheads%2Fmaster%2Fquickstarts%2Fmicrosoft.azure-ai-agent-service%2Fstandard-agent%2Fazuredeploy.json) kuunda moja kwa moja. （***Kumbuka:*** Huduma ya Azure AI Agent kwa sasa imewekwa katika maeneo machache. Inapendekezwa uangalie [kiungo hiki](https://learn.microsoft.com/en-us/azure/ai-services/agents/concepts/model-region-support) ili kuweka eneo sahihi.)\n",
    "\n",
    "Agent inahitaji kufikia SERPAPI. Inapendekezwa kujisajili kupitia [kiungo hiki](https://serpapi.com/searches). Baada ya kujisajili, unaweza kupata API KEY na ENDPOINT ya kipekee.\n"
   ]
  },
  {
   "cell_type": "markdown",
   "metadata": {},
   "source": [
    "# Kuingia kwenye Azure\n",
    "\n",
    "Sasa unahitaji kuingia kwenye Azure. Fungua terminali katika VScode na endesha amri `az login`.\n"
   ]
  },
  {
   "cell_type": "markdown",
   "metadata": {},
   "source": [
    "# Usanidi\n",
    "\n",
    "Ili kuendesha daftari hili, utahitaji kusakinisha maktaba zifuatazo. Hapa kuna orodha ya maktaba zinazohitajika na amri za pip za kusakinisha:\n",
    "\n",
    "azure-identity: Kwa uthibitishaji wa Azure.  \n",
    "requests: Kwa kutuma maombi ya HTTP.  \n",
    "semantic-kernel: Kwa mfumo wa semantic kernel (ikizingatiwa kuwa hii ni maktaba maalum au ya kipekee, huenda ukahitaji kuisakinisha kutoka chanzo au hifadhi maalum).  \n"
   ]
  },
  {
   "cell_type": "code",
   "execution_count": null,
   "metadata": {},
   "outputs": [],
   "source": [
    "!pip install azure-identity\n",
    "!pip install requests\n",
    "!pip install semantic-kernel\n",
    "!pip install --upgrade semantic_kernel\n",
    "!pip install azure-cli"
   ]
  },
  {
   "cell_type": "markdown",
   "metadata": {},
   "source": [
    "# Maelezo: \n",
    "import asyncio: Hii inaingiza moduli ya asyncio, ambayo inatoa msaada kwa programu za asynchronous katika Python. Inakuruhusu kuandika msimbo unaofanya kazi kwa wakati mmoja kwa kutumia sintaksia ya async na await.  \n",
    "from typing: Annotated: Hii inaingiza aina ya Annotated kutoka kwenye moduli ya typing. Annotated hutumika kuongeza metadata kwenye vidokezo vya aina, ambavyo vinaweza kuwa muhimu kwa madhumuni mbalimbali kama uthibitishaji, nyaraka, au zana.\n"
   ]
  },
  {
   "cell_type": "code",
   "execution_count": null,
   "metadata": {
    "dotnet_interactive": {
     "language": "csharp"
    },
    "polyglot_notebook": {
     "kernelName": "csharp"
    }
   },
   "outputs": [],
   "source": [
    "import asyncio,os\n",
    "from typing import Annotated"
   ]
  },
  {
   "cell_type": "markdown",
   "metadata": {},
   "source": [
    "# Maelezo:\n",
    "Kwa kutumia kutoka dotenv import load_dotenv na load_dotenv(), unaweza kusimamia kwa urahisi mipangilio ya usanidi na taarifa nyeti (kama funguo za API na URL za hifadhidata) katika faili ya .env, ukiweka mbali na msimbo wako wa chanzo na kufanya programu yako kuwa salama zaidi na rahisi kusanidi.\n"
   ]
  },
  {
   "cell_type": "code",
   "execution_count": null,
   "metadata": {},
   "outputs": [],
   "source": [
    "import os\n",
    "from dotenv import load_dotenv\n",
    "\n",
    "# Load environment variables from .env file\n",
    "load_dotenv()"
   ]
  },
  {
   "cell_type": "markdown",
   "metadata": {},
   "source": [
    "# Maelezo:\n",
    "\n",
    "Tamko la Uingizaji: from azure.identity.aio import DefaultAzureCredential: Hili linaingiza darasa la DefaultAzureCredential kutoka kwenye moduli ya azure.identity.aio. Sehemu ya aio kwenye jina la moduli inaonyesha kuwa imeundwa kwa ajili ya operesheni za asinkroni.\n",
    "\n",
    "Madhumuni ya DefaultAzureCredential: Darasa la DefaultAzureCredential ni sehemu ya Azure SDK kwa Python. Linatoa njia ya kawaida ya kuthibitisha na huduma za Azure. Linajaribu kuthibitisha kwa kutumia mbinu mbalimbali kwa mpangilio maalum, kama vile vigezo vya mazingira, utambulisho uliosimamiwa, na hati za Azure CLI.\n",
    "\n",
    "Operesheni za Asinkroni: Moduli ya aio inaonyesha kuwa darasa la DefaultAzureCredential linaunga mkono operesheni za asinkroni. Hii inamaanisha unaweza kulitumia na asyncio kufanya maombi ya uthibitisho yasiyozuia.\n"
   ]
  },
  {
   "cell_type": "code",
   "execution_count": null,
   "metadata": {
    "dotnet_interactive": {
     "language": "csharp"
    },
    "polyglot_notebook": {
     "kernelName": "csharp"
    }
   },
   "outputs": [],
   "source": [
    "from azure.identity.aio import DefaultAzureCredential"
   ]
  },
  {
   "cell_type": "markdown",
   "metadata": {},
   "source": [
    "# Maelezo:\n",
    "Inaleta moduli na madarasa mbalimbali kutoka kwenye kifurushi cha semantic_kernel. Hapa kuna ufafanuzi wa kila uingizaji:\n",
    "\n",
    "AgentGroupChat kutoka semantic_kernel.agents: Darasa hili linashughulikia kazi zinazohusiana na mazungumzo ya kikundi kwa mawakala wa AI. AzureAIAgent na AzureAIAgentSettings kutoka semantic_kernel.agents.azure_ai\n",
    "\n",
    "AzureAIAgent: Darasa hili linatumika kuunda na kusimamia mawakala wa AI wanaotumia huduma za Azure AI.\n",
    "\n",
    "AzureAIAgentSettings: Darasa hili linatumika kusanidi mipangilio ya AzureAIAgent. TerminationStrategy kutoka semantic_kernel.agents.strategies.termination.termination_strategy:\n",
    "\n",
    "Darasa hili linafafanua mikakati ya kusitisha utekelezaji wa mawakala wa AI chini ya hali fulani. ChatMessageContent kutoka semantic_kernel.contents.chat_message_content:\n",
    "\n",
    "Darasa hili linatumika kushughulikia maudhui ya ujumbe wa mazungumzo.\n",
    "AuthorRole kutoka semantic_kernel.contents.utils.author_role:\n",
    "\n",
    "Darasa hili linafafanua majukumu tofauti ya waandishi katika muktadha wa ujumbe wa mazungumzo.\n",
    "\n",
    "kernel_function kutoka semantic_kernel.functions.kernel_function_decorator: Kidekoreta hiki kinatumika kufafanua kazi za kernel, ambazo ni kazi zinazoweza kutekelezwa ndani ya mfumo wa semantic kernel.\n",
    "Uingizaji huu unaweka vipengele muhimu kwa ajili ya kuunda na kusimamia mawakala wa AI ambao wanaweza kuingiliana katika mazingira ya mazungumzo ya kikundi, labda kwa kazi kama vile kuhifadhi hoteli au shughuli zinazofanana.\n"
   ]
  },
  {
   "cell_type": "code",
   "execution_count": null,
   "metadata": {
    "dotnet_interactive": {
     "language": "csharp"
    },
    "polyglot_notebook": {
     "kernelName": "csharp"
    }
   },
   "outputs": [],
   "source": [
    "from semantic_kernel.agents import AgentGroupChat\n",
    "from semantic_kernel.agents import AzureAIAgent, AzureAIAgentSettings\n",
    "from semantic_kernel.agents.strategies.termination.termination_strategy import TerminationStrategy\n",
    "from semantic_kernel.contents import ChatMessageContent\n",
    "from semantic_kernel.contents import AuthorRole\n",
    "from semantic_kernel.functions.kernel_function_decorator import kernel_function"
   ]
  },
  {
   "cell_type": "markdown",
   "metadata": {},
   "source": [
    "# Maelezo:\n",
    "Sasa tunaleta darasa la CodeInterpreterTool kutoka kwenye moduli ya azure.ai.projects.models.\n",
    "\n",
    "CodeInterpreterTool: Darasa hili ni sehemu ya Azure AI SDK na linatumika kutafsiri na kutekeleza msimbo ndani ya muktadha wa miradi ya AI. Linatoa uwezo wa kuendesha vipande vya msimbo, kuchanganua msimbo, au kuunganisha utekelezaji wa msimbo ndani ya mtiririko wa kazi za AI. \n",
    "Uingizaji huu unaandaa sehemu muhimu ya kutumia CodeInterpreterTool katika mradi wako, ambayo inaweza kuwa muhimu kwa kazi zinazohusisha kutafsiri na kutekeleza msimbo kwa njia ya nguvu.\n"
   ]
  },
  {
   "cell_type": "code",
   "execution_count": null,
   "metadata": {
    "dotnet_interactive": {
     "language": "csharp"
    },
    "polyglot_notebook": {
     "kernelName": "csharp"
    }
   },
   "outputs": [],
   "source": [
    "from azure.ai.projects.models import CodeInterpreterTool"
   ]
  },
  {
   "cell_type": "markdown",
   "metadata": {},
   "source": [
    "# Maelezo:  \n",
    "Darasa la ApprovalTerminationStrategy linatoa mkakati maalum wa kusitisha uendeshaji wa wakala wa AI. Wakala atasitisha kazi yake ikiwa ujumbe wa mwisho katika historia ya mawasiliano yake utakuwa na neno \"saved\". Hii inaweza kuwa muhimu katika hali ambapo kazi ya wakala inachukuliwa kuwa imekamilika mara tu inapopokea uthibitisho kwamba kitu kimehifadhiwa. Eleza mbinu ya mawasiliano. Baada ya mpango wa kuhifadhi kuhifadhiwa, inaweza kusimamishwa wakati inapokea ishara ya \"saved\".\n"
   ]
  },
  {
   "cell_type": "code",
   "execution_count": null,
   "metadata": {
    "dotnet_interactive": {
     "language": "csharp"
    },
    "polyglot_notebook": {
     "kernelName": "csharp"
    }
   },
   "outputs": [],
   "source": [
    "class ApprovalTerminationStrategy(TerminationStrategy):\n",
    "    \"\"\"A strategy for determining when an agent should terminate.\"\"\"\n",
    "\n",
    "    async def should_agent_terminate(self, agent, history):\n",
    "        \"\"\"Check if the agent should terminate.\"\"\"\n",
    "        return \"saved\" in history[-1].content.lower()"
   ]
  },
  {
   "cell_type": "markdown",
   "metadata": {},
   "source": [
    "# Maelezo:\n",
    "\n",
    "Mstari wa msimbo huanzisha kitu cha AzureAIAgentSettings na mipangilio ya msingi au iliyotangulia kwa kutumia njia ya create(). Kitu hiki cha mipangilio (ai_agent_settings) kinaweza kisha kutumika kusanidi na kusimamia instance ya AzureAIAgent.\n"
   ]
  },
  {
   "cell_type": "code",
   "execution_count": null,
   "metadata": {
    "dotnet_interactive": {
     "language": "csharp"
    },
    "polyglot_notebook": {
     "kernelName": "csharp"
    }
   },
   "outputs": [],
   "source": [
    "ai_agent_settings = AzureAIAgentSettings.create()"
   ]
  },
  {
   "cell_type": "markdown",
   "metadata": {},
   "source": [
    "# Maelezo:\n",
    "Kwa kuingiza maktaba ya requests, unaweza kufanya maombi ya HTTP kwa urahisi na kuingiliana na huduma za wavuti katika msimbo wako wa Python.\n"
   ]
  },
  {
   "cell_type": "code",
   "execution_count": null,
   "metadata": {
    "dotnet_interactive": {
     "language": "csharp"
    },
    "polyglot_notebook": {
     "kernelName": "csharp"
    }
   },
   "outputs": [],
   "source": [
    "import requests"
   ]
  },
  {
   "cell_type": "markdown",
   "metadata": {},
   "source": [
    "# Maelezo:\n",
    "Hii ni variable inayohifadhi API key kwa ajili ya kufikia huduma ya SERP (Search Engine Results Page). API key ni kitambulisho cha kipekee kinachotumika kuthibitisha maombi yanayohusiana na akaunti yako.\n",
    "\n",
    "'GOOGLE_SEARCH_API_KEY': Hii ni string ya mfano. Unahitaji kubadilisha 'GOOGLE_SEARCH_API_KEY' na API key yako halisi ya SERP.\n",
    "\n",
    "Madhumuni: Madhumuni ya mstari huu ni kuhifadhi API key katika variable ili iweze kutumika kuthibitisha maombi kwa huduma ya SERP API. API key inahitajika ili kufikia huduma na kufanya utafutaji.\n",
    "\n",
    "Jinsi ya Kupata API Key ya SERP: Ili kupata API key ya SERP, fuata hatua hizi za jumla kwenye https://serpapi.com (hatua halisi zinaweza kutofautiana kulingana na huduma maalum ya SERP API unayotumia):\n",
    "\n",
    "Chagua Huduma ya SERP API: Kuna huduma kadhaa za SERP API zinazopatikana, kama vile SerpAPI, Google Custom Search JSON API, na nyinginezo. Chagua ile inayokidhi mahitaji yako.\n",
    "\n",
    "Jisajili kwa Akaunti:\n",
    "\n",
    "Nenda kwenye tovuti ya huduma ya SERP API uliyopendelea https://www.serpapi.com na jisajili kwa akaunti. Huenda ukahitajika kutoa taarifa za msingi na kuthibitisha barua pepe yako.\n",
    "\n",
    "Unda API Key:\n",
    "\n",
    "Baada ya kujisajili, ingia kwenye akaunti yako na nenda kwenye sehemu ya API au dashibodi. Tafuta chaguo la kuunda au kuzalisha API key mpya.\n",
    "Nakili API Key:\n",
    "\n",
    "Mara API key inapozalishwa, nakili. Key hii itatumika kuthibitisha maombi yako kwa huduma ya SERP API.\n",
    "Badilisha Mfano:\n",
    "\n",
    "Badilisha string ya mfano katika faili yako ya .env\n"
   ]
  },
  {
   "cell_type": "code",
   "execution_count": null,
   "metadata": {
    "dotnet_interactive": {
     "language": "csharp"
    },
    "polyglot_notebook": {
     "kernelName": "csharp"
    }
   },
   "outputs": [],
   "source": [
    "SERPAPI_SEARCH_API_KEY=os.getenv('SERPAPI_SEARCH_API_KEY')"
   ]
  },
  {
   "cell_type": "code",
   "execution_count": null,
   "metadata": {
    "dotnet_interactive": {
     "language": "csharp"
    },
    "polyglot_notebook": {
     "kernelName": "csharp"
    }
   },
   "outputs": [],
   "source": [
    "SERPAPI_SEARCH_ENDPOINT = os.getenv('SERPAPI_SEARCH_ENDPOINT')"
   ]
  },
  {
   "cell_type": "markdown",
   "metadata": {},
   "source": [
    "# Maelezo:\n",
    "Darasa la BookingPlugin linatoa mbinu za kuhifadhi hoteli na safari za ndege kwa kutumia Serpapi.com Google Search API. Linatengeneza vigezo vinavyohitajika, kutuma maombi ya API, na kuchakata majibu ili kurudisha taarifa muhimu za uhifadhi. Kitufe cha API (SERPAPI_SEARCH_API_KEY) na mwisho wa API (SERPAPI_SEARCH_ENDPOINT) vinatumika kuthibitisha na kutuma maombi kwa Google Search API.\n"
   ]
  },
  {
   "cell_type": "code",
   "execution_count": null,
   "metadata": {
    "dotnet_interactive": {
     "language": "csharp"
    },
    "polyglot_notebook": {
     "kernelName": "csharp"
    }
   },
   "outputs": [],
   "source": [
    "# Define Booking Plugin\n",
    "class BookingPlugin:\n",
    "    \"\"\"Booking Plugin for customers\"\"\"\n",
    "    @kernel_function(description=\"booking hotel\")\n",
    "    def booking_hotel(self,query: Annotated[str, \"The name of the city\"], check_in_date: Annotated[str, \"Hotel Check-in Time\"], check_out_date: Annotated[str, \"Hotel Check-in Time\"])-> Annotated[str, \"Return the result of booking hotel infomation\"]:\n",
    "\n",
    "        params = {\n",
    "            \"engine\": \"google_hotels\",\n",
    "            \"q\": query,\n",
    "            \"check_in_date\": check_in_date,\n",
    "            \"check_out_date\": check_out_date,\n",
    "            \"adults\": \"2\",\n",
    "            \"currency\": \"USD\",\n",
    "            \"gl\": \"us\",\n",
    "            \"hl\": \"en\",\n",
    "            \"api_key\": SERPAPI_SEARCH_API_KEY\n",
    "        }\n",
    "\n",
    "        response = requests.get(SERPAPI_SEARCH_ENDPOINT, params=params)\n",
    "        if response.status_code == 200:\n",
    "            response = response.json()\n",
    "            return response[\"properties\"]\n",
    "        else:\n",
    "            return None\n",
    "\n",
    "    \n",
    "    @kernel_function(description=\"booking fight\")\n",
    "    def  booking_fight(self,origin: Annotated[str, \"The name of Departure\"], destination: Annotated[str, \"The name of Destination\"], outbound_date: Annotated[str, \"The date of outbound\"], return_date: Annotated[str, \"The date of Return_date\"])-> Annotated[str, \"Return the result of booking fight infomation\"]:\n",
    "        \n",
    "        go_params = {\n",
    "            \"engine\": \"google_flights\",   \n",
    "            \"departure_id\": origin,\n",
    "            \"arrival_id\": destination,\n",
    "            \"outbound_date\": outbound_date,\n",
    "            \"return_date\": return_date,  \n",
    "            \"currency\": \"USD\",\n",
    "            \"hl\": \"en\",\n",
    "            \"api_key\": SERPAPI_SEARCH_API_KEY  \n",
    "        }\n",
    "\n",
    "        print(go_params)\n",
    "\n",
    "        go_response = requests.get(SERPAPI_SEARCH_ENDPOINT, params=go_params)\n",
    "\n",
    "\n",
    "        result = ''\n",
    "\n",
    "        if go_response.status_code == 200:\n",
    "            response = go_response.json()\n",
    "\n",
    "            result += \"# outbound \\n \" + str(response)\n",
    "        else:\n",
    "            print('error!!!')\n",
    "            # return None\n",
    "\n",
    "        \n",
    "        back_params = {\n",
    "            \"engine\": \"google_flights\",   \n",
    "            \"departure_id\": destination,\n",
    "            \"arrival_id\": origin,\n",
    "            \"outbound_date\": return_date,\n",
    "            \"return_date\": return_date,  \n",
    "            \"currency\": \"USD\",\n",
    "            \"hl\": \"en\",\n",
    "            \"api_key\": SERPAPI_SEARCH_API_KEY  \n",
    "        }\n",
    "\n",
    "\n",
    "        print(back_params)\n",
    "\n",
    "\n",
    "        back_response = requests.get(SERPAPI_SEARCH_ENDPOINT, params=back_params)\n",
    "\n",
    "\n",
    "\n",
    "        if back_response.status_code == 200:\n",
    "            response = back_response.json()\n",
    "\n",
    "            result += \"\\n # return \\n\"  + str(response)\n",
    "\n",
    "        else:\n",
    "            print('error!!!')\n",
    "            # return None\n",
    "        \n",
    "        print(result)\n",
    "\n",
    "        return result\n",
    "\n",
    "        \n"
   ]
  },
  {
   "cell_type": "markdown",
   "metadata": {},
   "source": [
    "# Maelezo:\n",
    "Darasa la SavePlugin linatoa mbinu ya saving_plan kuhifadhi mipango ya safari kwa kutumia huduma za Azure AI. Linaweka sifa za Azure, linaunda wakala wa AI, linachakata maingizo ya mtumiaji ili kuzalisha na kuhifadhi maudhui ya mpango wa safari, na linashughulikia operesheni za kuhifadhi faili na kusafisha. Mbinu hii inarudisha \"Saved\" baada ya kukamilika kwa mafanikio.\n"
   ]
  },
  {
   "cell_type": "code",
   "execution_count": null,
   "metadata": {
    "dotnet_interactive": {
     "language": "csharp"
    },
    "polyglot_notebook": {
     "kernelName": "csharp"
    }
   },
   "outputs": [],
   "source": [
    "class SavePlugin:\n",
    "    \"\"\"Save Plugin for customers\"\"\"\n",
    "    @kernel_function(description=\"saving plan\")\n",
    "    async def saving_plan(self,tripplan: Annotated[str, \"The content of trip plan\"])-> Annotated[str, \"Return status of save content\"]:\n",
    "\n",
    "        async with (\n",
    "            DefaultAzureCredential() as creds,\n",
    "            AzureAIAgent.create_client(\n",
    "                credential=creds,\n",
    "                conn_str=ai_agent_settings.project_connection_string.get_secret_value(),\n",
    "            ) as client,\n",
    "        ):\n",
    "\n",
    "            code_interpreter = CodeInterpreterTool()\n",
    "            \n",
    "            agent_definition = await client.agents.create_agent(\n",
    "                model=ai_agent_settings.model_deployment_name,\n",
    "                tools=code_interpreter.definitions,\n",
    "                tool_resources=code_interpreter.resources,\n",
    "            )\n",
    "\n",
    "\n",
    "            agent = AzureAIAgent(\n",
    "                client=client,\n",
    "                definition=agent_definition,\n",
    "            )\n",
    "\n",
    "            thread = await client.agents.create_thread()\n",
    "\n",
    "\n",
    "            user_inputs = [\n",
    "                \"\"\"\n",
    "            \n",
    "                        You are my Python programming assistant. Generate code,save \"\"\"+ tripplan +\n",
    "                        \n",
    "                    \"\"\"    \n",
    "                        and execute it according to the following requirements\n",
    "\n",
    "                        1. Save blog content to trip-{YYMMDDHHMMSS}.md\n",
    "\n",
    "                        2. give me the download this file link\n",
    "                    \"\"\"\n",
    "            ]\n",
    "\n",
    "\n",
    "\n",
    "            try:\n",
    "                for user_input in user_inputs:\n",
    "                    # Add the user input as a chat message\n",
    "                    await agent.add_chat_message(\n",
    "                        thread_id=thread.id, message=ChatMessageContent(role=AuthorRole.USER, content=user_input)\n",
    "                    )\n",
    "                    print(f\"# User: '{user_input}'\")\n",
    "                    # Invoke the agent for the specified thread\n",
    "                    async for content in agent.invoke(thread_id=thread.id):\n",
    "                        if content.role != AuthorRole.TOOL:\n",
    "                            print(f\"# Agent: {content.content}\")\n",
    "\n",
    "                    \n",
    "                    messages = await client.agents.list_messages(thread_id=thread.id)\n",
    "\n",
    "                    # OpenAIPageableListOfThreadMessage\n",
    "                    # OpenAIPageableListOfThreadMessage\n",
    "\n",
    "\n",
    "                    for file_path_annotation in messages.file_path_annotations:\n",
    "\n",
    "                            file_name = os.path.basename(file_path_annotation.text)\n",
    "\n",
    "                            await client.agents.save_file(file_id=file_path_annotation.file_path.file_id, file_name=file_name,target_dir=\"./trip\")\n",
    "\n",
    "                    \n",
    "            finally:\n",
    "                await client.agents.delete_thread(thread.id)\n",
    "                await client.agents.delete_agent(agent.id)\n",
    "\n",
    "\n",
    "        return \"Saved\""
   ]
  },
  {
   "cell_type": "markdown",
   "metadata": {},
   "source": [
    "# Maelezo:\n",
    "Msimbo huu unaandaa mawakala wa Azure AI kushughulikia uhifadhi wa ndege na hoteli, na kuhifadhi mipango ya safari kulingana na maingizo ya mtumiaji. Unatumia hati za Azure kuunda na kusanidi mawakala, kushughulikia maingizo ya mtumiaji kupitia mazungumzo ya kikundi, na kuhakikisha usafi wa kazi baada ya kukamilika. Mawakala hutumia programu-jalizi maalum (BookingPlugin na SavePlugin) kutekeleza kazi zao husika.\n"
   ]
  },
  {
   "cell_type": "code",
   "execution_count": null,
   "metadata": {
    "dotnet_interactive": {
     "language": "csharp"
    },
    "polyglot_notebook": {
     "kernelName": "csharp"
    }
   },
   "outputs": [],
   "source": [
    "async with (\n",
    "    DefaultAzureCredential() as creds,\n",
    "    AzureAIAgent.create_client(\n",
    "        credential=creds,\n",
    "        conn_str=ai_agent_settings.project_connection_string.get_secret_value(),\n",
    "    ) as client,\n",
    "):\n",
    "    BOOKING_AGENT_NAME = \"BookingAgent\"\n",
    "    BOOKING_AGENT_INSTRUCTIONS = \"\"\"\n",
    "    You are a booking agent. Help me book flights or hotels.\n",
    "\n",
    "    Thought: Please understand the user's intention and confirm whether to use the reservation system to complete the task.\n",
    "\n",
    "    Actions:\n",
    "    - For flight bookings, convert the departure and destination names into airport codes.\n",
    "    - Use the appropriate API for hotel or flight bookings. Verify that all necessary parameters are available. If any parameters are missing, ask the user to provide them. If all parameters are complete, call the corresponding function.\n",
    "    - If the task is not related to hotel or flight booking, respond with the final answer only.\n",
    "    - Output the results using a markdown table:\n",
    "      - For flight bookings, output separate outbound and return contents in the order of:\n",
    "        Departure Airport | Airline | Flight Number | Departure Time | Arrival Airport | Arrival Time | Duration | Airplane | Travel Class | Price (USD) | Legroom | Extensions | Carbon Emissions (kg).\n",
    "      - For hotel bookings, output in the order of:\n",
    "        Property Name | Property Description | Check-in Time | Check-out Time | Prices | Nearby Places | Hotel Class | GPS Coordinates.\n",
    "    \"\"\"\n",
    "\n",
    "    SAVE_AGENT_NAME = \"SaveAgent\"\n",
    "    SAVE_AGENT_INSTRUCTIONS = \"\"\"\n",
    "    You are a save tool agent. Help me to save the trip plan.\n",
    "    \"\"\"\n",
    "\n",
    "    # Create agent definition\n",
    "    booking_agent_definition = await client.agents.create_agent(\n",
    "        model=ai_agent_settings.model_deployment_name,\n",
    "        name=BOOKING_AGENT_NAME,\n",
    "        instructions=BOOKING_AGENT_INSTRUCTIONS,\n",
    "    )\n",
    "\n",
    "    # Create the AzureAI Agent\n",
    "    booking_agent = AzureAIAgent(\n",
    "        client=client,\n",
    "        definition=booking_agent_definition,\n",
    "        # Optionally configure polling options\n",
    "        # polling_options=RunPollingOptions(run_polling_interval=timedelta(seconds=1)),\n",
    "    )\n",
    "\n",
    "    # Add the sample plugin to the kernel\n",
    "    booking_agent.kernel.add_plugin(BookingPlugin(), plugin_name=\"booking\")\n",
    "\n",
    "    # Create agent definition\n",
    "    save_agent_definition = await client.agents.create_agent(\n",
    "        model=ai_agent_settings.model_deployment_name,\n",
    "        name=SAVE_AGENT_NAME,\n",
    "        instructions=SAVE_AGENT_INSTRUCTIONS\n",
    "    )\n",
    "\n",
    "    # Create the AzureAI Agent\n",
    "    save_agent = AzureAIAgent(\n",
    "        client=client,\n",
    "        definition=save_agent_definition,\n",
    "    )\n",
    "\n",
    "    save_agent.kernel.add_plugin(SavePlugin(), plugin_name=\"saving\")\n",
    "\n",
    "    user_inputs = [\n",
    "        \"I have a business trip from London to New York in Feb 20 2025 to Feb 27 2025 ,help me to book a hotel and fight tickets and save it\"\n",
    "    ]\n",
    "\n",
    "    chat = AgentGroupChat(\n",
    "        agents=[booking_agent, save_agent],\n",
    "        termination_strategy=ApprovalTerminationStrategy(agents=[save_agent], maximum_iterations=10),\n",
    "    )\n",
    "\n",
    "    try:\n",
    "        for user_input in user_inputs:\n",
    "            # Add the user input as a chat message\n",
    "            await chat.add_chat_message(\n",
    "                ChatMessageContent(role=AuthorRole.USER, content=user_input)\n",
    "            )\n",
    "            print(f\"# User: '{user_input}'\")\n",
    "\n",
    "            async for content in chat.invoke():\n",
    "                print(f\"# {content.role} - {content.name or '*'}: '{content.content}'\")\n",
    "\n",
    "            print(f\"# IS COMPLETE: {chat.is_complete}\")\n",
    "\n",
    "            print(\"*\" * 60)\n",
    "            print(\"Chat History (In Descending Order):\\n\")\n",
    "            async for message in chat.get_chat_messages(agent=save_agent):\n",
    "                print(f\"# {message.role} - {message.name or '*'}: '{message.content}'\")\n",
    "    finally:\n",
    "        await chat.reset()\n",
    "        await client.agents.delete_agent(save_agent.id)\n",
    "        await client.agents.delete_agent(booking_agent.id)\n"
   ]
  },
  {
   "cell_type": "markdown",
   "metadata": {},
   "source": [
    "\n---\n\n**Kanusho**:  \nHati hii imetafsiriwa kwa kutumia huduma ya kutafsiri ya AI [Co-op Translator](https://github.com/Azure/co-op-translator). Ingawa tunajitahidi kuhakikisha usahihi, tafadhali fahamu kuwa tafsiri za kiotomatiki zinaweza kuwa na makosa au kutokuwa sahihi. Hati ya asili katika lugha yake ya awali inapaswa kuzingatiwa kama chanzo cha mamlaka. Kwa taarifa muhimu, tafsiri ya kitaalamu ya binadamu inapendekezwa. Hatutawajibika kwa kutoelewana au tafsiri zisizo sahihi zinazotokana na matumizi ya tafsiri hii.\n"
   ]
  }
 ],
 "metadata": {
  "kernelspec": {
   "display_name": "3.12.1",
   "language": "python",
   "name": "python3"
  },
  "language_info": {
   "codemirror_mode": {
    "name": "ipython",
    "version": 3
   },
   "file_extension": ".py",
   "mimetype": "text/x-python",
   "name": "python",
   "nbconvert_exporter": "python",
   "pygments_lexer": "ipython3",
   "version": "3.12.1"
  },
  "polyglot_notebook": {
   "kernelInfo": {
    "defaultKernelName": "csharp",
    "items": [
     {
      "aliases": [],
      "name": "csharp"
     }
    ]
   }
  },
  "coopTranslator": {
   "original_hash": "1baa60020a95eda27b7e9ecfda99965b",
   "translation_date": "2025-08-29T21:47:34+00:00",
   "source_file": "08-multi-agent/code_samples/08-python_multi_aiagent_bookinghotel.ipynb",
   "language_code": "sw"
  }
 },
 "nbformat": 4,
 "nbformat_minor": 2
}