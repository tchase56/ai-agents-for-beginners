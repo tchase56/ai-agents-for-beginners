{
 "cells": [
  {
   "cell_type": "markdown",
   "metadata": {},
   "source": [
    "# RAG Kutumia Huduma ya Wakala wa Azure AI & Semantic Kernel\n",
    "\n",
    "Kipande hiki cha msimbo kinaonyesha jinsi ya kuunda na kusimamia wakala wa Azure AI kwa kizazi kilichoboreshwa na urejeshaji (RAG) kwa kutumia `Huduma ya Wakala wa Azure AI` na `Semantic Kernel`. Wakala hushughulikia maswali ya mtumiaji kulingana na muktadha uliorejeshwa na hutoa majibu sahihi ipasavyo.\n"
   ]
  },
  {
   "cell_type": "markdown",
   "metadata": {},
   "source": []
  },
  {
   "cell_type": "markdown",
   "metadata": {},
   "source": [
    "Matoleo ya SQLite Fix  \n",
    "Ikiwa unakutana na hitilafu:  \n",
    "```\n",
    "RuntimeError: Your system has an unsupported version of sqlite3. Chroma requires sqlite3 >= 3.35.0\n",
    "```  \n",
    "\n",
    "Ondoa maoni kwenye sehemu hii ya msimbo mwanzoni mwa daftari lako:  \n"
   ]
  },
  {
   "cell_type": "code",
   "execution_count": null,
   "metadata": {},
   "outputs": [],
   "source": [
    "# %pip install pysqlite3-binary\n",
    "# __import__('pysqlite3')\n",
    "# import sys\n",
    "# sys.modules['sqlite3'] = sys.modules.pop('pysqlite3')"
   ]
  },
  {
   "cell_type": "markdown",
   "metadata": {},
   "source": [
    "### Kuleta Pakiti  \n",
    "Msimbo ufuatao huleta pakiti zinazohitajika:  \n"
   ]
  },
  {
   "cell_type": "code",
   "execution_count": null,
   "metadata": {},
   "outputs": [],
   "source": [
    "# Azure imports for project client and credentials\n",
    "from azure.ai.projects.models import FileSearchTool, OpenAIFile, VectorStore\n",
    "from azure.identity.aio import DefaultAzureCredential\n",
    "\n",
    "# Semantic Kernel imports\n",
    "from semantic_kernel.agents import AzureAIAgent, AzureAIAgentThread"
   ]
  },
  {
   "cell_type": "markdown",
   "metadata": {},
   "source": [
    "# Utoaji wa Majibu Ulioimarishwa kwa Urejeshaji kwa Kutumia Semantic Kernel na Huduma ya Azure AI Agent\n",
    "\n",
    "Mfano huu unaonyesha jinsi ya kutumia **Huduma ya Azure AI Agent** kutekeleza **Utoaji wa Majibu Ulioimarishwa kwa Urejeshaji (RAG)** kwa kuchanganya mfano wa lugha na muktadha maalum wa mada kutoka kwa hati iliyopakiwa.\n",
    "\n",
    "### Jinsi Inavyofanya Kazi\n",
    "\n",
    "1. **Upakiaji wa Hati**: Faili ya markdown (document.md) yenye taarifa (sera ya bima ya safari ya Contoso) inapakiwa kwenye huduma ya wakala.\n",
    "\n",
    "2. **Uundaji wa Hifadhi ya Vekta**: Hati hiyo inaorodheshwa kwenye hifadhi ya vekta ili kuwezesha utafutaji wa kimaana juu ya yaliyomo.\n",
    "\n",
    "3. **Usanidi wa Wakala**: Wakala anasanidiwa kwa kutumia mfano wa `gpt-4o` na maagizo madhubuti yafuatayo:\n",
    "   - Kujibu maswali tu kwa msingi wa yaliyomo yaliyopatikana kutoka kwenye hati.\n",
    "   - Kukataa kujibu ikiwa swali liko nje ya mada.\n",
    "\n",
    "4. **Ujumuishaji wa Zana ya Utafutaji wa Faili**: `FileSearchTool` inasajiliwa na wakala, ikiruhusu mfano kutafuta na kurejesha vipande husika kutoka kwenye hati iliyoainishwa wakati wa kutoa majibu.\n",
    "\n",
    "5. **Mawasiliano na Mtumiaji**: Watumiaji wanaweza kuuliza maswali. Ikiwa taarifa husika inapatikana kwenye hati, wakala hutoa jibu lililoimarishwa.  \n",
    "   Ikiwa hakuna, wakala anajibu waziwazi kwamba hati haina taarifa za kutosha.\n"
   ]
  },
  {
   "cell_type": "markdown",
   "metadata": {},
   "source": [
    "### Kazi Kuu\n",
    "\n"
   ]
  },
  {
   "cell_type": "markdown",
   "metadata": {},
   "source": [
    "Hakikisha kwanza unaendesha `az login` ukitumia Azure CLI ili muktadha sahihi wa uthibitisho utolewe wakati wa kutumia `DefaultAzureCredential`. Huduma ya Azure AI Agent haitumii funguo za API.\n"
   ]
  },
  {
   "cell_type": "code",
   "execution_count": null,
   "metadata": {},
   "outputs": [],
   "source": [
    "async def main():\n",
    "    async with (\n",
    "        DefaultAzureCredential() as creds,\n",
    "        AzureAIAgent.create_client(credential=creds) as client,\n",
    "    ):\n",
    "        file: OpenAIFile = await client.agents.upload_file_and_poll(file_path=\"document.md\", purpose=\"assistants\")\n",
    "        vector_store: VectorStore = await client.agents.create_vector_store_and_poll(\n",
    "            file_ids=[file.id], name=\"my_vectorstore\"\n",
    "        )\n",
    "\n",
    "        # Define agent name and instructions tailored for RAG.\n",
    "        AGENT_NAME = \"RAGAgent\"\n",
    "        AGENT_INSTRUCTIONS = \"\"\"\n",
    "        You are an AI assistant designed to answer user questions using only the information retrieved from the provided document(s).\n",
    "\n",
    "        - If a user's question cannot be answered using the retrieved context, **you must clearly respond**: \n",
    "        \"I'm sorry, but the uploaded document does not contain the necessary information to answer that question.\"\n",
    "        - Do not answer from general knowledge or reasoning. Do not make assumptions or generate hypothetical explanations.\n",
    "        - Do not provide definitions, tutorials, or commentary that is not explicitly grounded in the content of the uploaded file(s).\n",
    "        - If a user asks a question like \"What is a Neural Network?\", and this is not discussed in the uploaded document, respond as instructed above.\n",
    "        - For questions that do have relevant content in the document (e.g., Contoso's travel insurance coverage), respond accurately, and cite the document explicitly.\n",
    "\n",
    "        You must behave as if you have no external knowledge beyond what is retrieved from the uploaded document.\n",
    "        \"\"\"\n",
    "\n",
    "        \n",
    "        # Create file search tool with uploaded resources\n",
    "        file_search = FileSearchTool(vector_store_ids=[vector_store.id])\n",
    "\n",
    "        # 3. Create an agent on the Azure AI agent service with the file search tool\n",
    "        agent_definition = await client.agents.create_agent(\n",
    "            model=\"gpt-4o\",  # This model should match your Azure OpenAI deployment.\n",
    "            name=AGENT_NAME,\n",
    "            instructions=AGENT_INSTRUCTIONS,\n",
    "            tools=file_search.definitions,\n",
    "            tool_resources=file_search.resources,\n",
    "        )\n",
    "        \n",
    "        # Create the Azure AI Agent using the client and definition.\n",
    "        agent = AzureAIAgent(\n",
    "            client=client,\n",
    "            definition=agent_definition,\n",
    "        )\n",
    "        \n",
    "        # Create a thread to hold the conversation\n",
    "        # If no thread is provided, a new thread will be\n",
    "        # created and returned with the initial response\n",
    "        thread: AzureAIAgentThread | None = None\n",
    "        \n",
    "        # Example user queries.\n",
    "        user_inputs = [\n",
    "            \"Can you explain Contoso's travel insurance coverage?\",  # Relevant context.\n",
    "            \"What is a Neural Network?\"  # No relevant context from the document. Will not contain a source annotation.\n",
    "        ]\n",
    "        \n",
    "        try:\n",
    "            for user_input in user_inputs:\n",
    "                print(f\"# User: '{user_input}'\")\n",
    "                # Invoke the agent for the specified thread for response\n",
    "                async for response in agent.invoke(messages=user_input, thread=thread):\n",
    "                    print(f\"# {response.name}: {response}\")\n",
    "                    thread = response.thread\n",
    "        finally:\n",
    "            # Clean up resources.\n",
    "            await thread.delete() if thread else None\n",
    "            await client.agents.delete_vector_store(vector_store.id)\n",
    "            await client.agents.delete_file(file.id)\n",
    "            await client.agents.delete_agent(agent.id)\n",
    "            print(\"\\nCleaned up agent, thread, file, and vector store.\")\n",
    "\n",
    "await main()"
   ]
  },
  {
   "cell_type": "markdown",
   "metadata": {},
   "source": [
    "# Jinsi ya Kuanza\n",
    "\n",
    "Mwongozo huu utakusaidia kuanza kutumia zana yetu kwa haraka.\n",
    "\n",
    "## Mahitaji ya Mfumo\n",
    "\n",
    "Kabla ya kuendelea, hakikisha mfumo wako unakidhi mahitaji yafuatayo:\n",
    "\n",
    "- Mfumo wa uendeshaji: Windows 10 au zaidi, macOS 11 au zaidi, au Linux (toleo lolote la kisasa).\n",
    "- Angalau 4GB ya RAM.\n",
    "- Angalau 500MB ya nafasi ya diski.\n",
    "\n",
    "[!NOTE] Ikiwa unatumia Linux, hakikisha umeweka zana zote zinazohitajika kama ilivyoelezwa katika nyaraka zetu.\n",
    "\n",
    "## Hatua za Kuweka\n",
    "\n",
    "1. Pakua toleo la hivi karibuni la programu kutoka @@INLINE_CODE_0@@.\n",
    "2. Fungua faili ya usakinishaji na ufuate maagizo kwenye skrini.\n",
    "3. Baada ya usakinishaji kukamilika, fungua programu na uingie kwa kutumia akaunti yako.\n",
    "\n",
    "[!TIP] Ikiwa huna akaunti, unaweza kujiandikisha moja kwa moja kutoka kwenye programu.\n",
    "\n",
    "## Matatizo ya Kawaida\n",
    "\n",
    "### Programu haifunguki\n",
    "\n",
    "- Hakikisha mfumo wako unakidhi mahitaji ya chini.\n",
    "- Angalia ikiwa umeweka toleo sahihi la programu kwa mfumo wako wa uendeshaji.\n",
    "\n",
    "[!WARNING] Usijaribu kubadilisha faili za mfumo wa programu, kwani hii inaweza kusababisha matatizo zaidi.\n",
    "\n",
    "### Uunganisho wa Mtandao\n",
    "\n",
    "- Hakikisha umeunganishwa kwenye mtandao thabiti.\n",
    "- Jaribu kuzima na kuwasha tena mtandao wako.\n",
    "\n",
    "[!IMPORTANT] Ikiwa tatizo linaendelea, tafadhali wasiliana na timu yetu ya msaada kupitia @@INLINE_CODE_1@@.\n",
    "\n",
    "## Rasilimali za Ziada\n",
    "\n",
    "- Mwongozo wa mtumiaji: @@INLINE_CODE_2@@\n",
    "- Maswali yanayoulizwa mara kwa mara: @@INLINE_CODE_3@@\n",
    "- Msaada wa kiufundi: @@INLINE_CODE_4@@\n",
    "\n",
    "Asante kwa kuchagua kutumia zana yetu! Tunathamini maoni yako, kwa hivyo usisite kushiriki mawazo yako.\n"
   ]
  },
  {
   "cell_type": "markdown",
   "metadata": {},
   "source": [
    "\n---\n\n**Kanusho**:  \nHati hii imetafsiriwa kwa kutumia huduma ya kutafsiri ya AI [Co-op Translator](https://github.com/Azure/co-op-translator). Ingawa tunajitahidi kuhakikisha usahihi, tafadhali fahamu kuwa tafsiri za kiotomatiki zinaweza kuwa na makosa au kutokuwa sahihi. Hati ya asili katika lugha yake ya awali inapaswa kuzingatiwa kama chanzo cha mamlaka. Kwa taarifa muhimu, tafsiri ya kitaalamu ya binadamu inapendekezwa. Hatutawajibika kwa kutoelewana au tafsiri zisizo sahihi zinazotokana na matumizi ya tafsiri hii.\n"
   ]
  }
 ],
 "metadata": {
  "kernelspec": {
   "display_name": ".venv",
   "language": "python",
   "name": "python3"
  },
  "language_info": {
   "codemirror_mode": {
    "name": "ipython",
    "version": 3
   },
   "file_extension": ".py",
   "mimetype": "text/x-python",
   "name": "python",
   "nbconvert_exporter": "python",
   "pygments_lexer": "ipython3",
   "version": "3.11.11"
  },
  "coopTranslator": {
   "original_hash": "a86c3ddfbe35024993bbf563588aad48",
   "translation_date": "2025-08-29T22:05:00+00:00",
   "source_file": "05-agentic-rag/code_samples/05-semantic-kernel-azure-ai-agent.ipynb",
   "language_code": "sw"
  }
 },
 "nbformat": 4,
 "nbformat_minor": 2
}