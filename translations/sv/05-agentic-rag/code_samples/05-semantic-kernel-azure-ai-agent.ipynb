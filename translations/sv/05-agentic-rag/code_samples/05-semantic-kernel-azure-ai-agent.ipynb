{
 "cells": [
  {
   "cell_type": "markdown",
   "metadata": {},
   "source": [
    "# RAG med Azure AI Agent Service och Semantic Kernel\n",
    "\n",
    "Den här kodsnutten visar hur man skapar och hanterar en Azure AI-agent för retrieval-augmented generation (RAG) med hjälp av `Azure AI Agent Service` och `Semantic Kernel`. Agenten bearbetar användarfrågor baserat på den hämtade kontexten och ger korrekta svar därefter.\n"
   ]
  },
  {
   "cell_type": "markdown",
   "metadata": {},
   "source": []
  },
  {
   "cell_type": "markdown",
   "metadata": {},
   "source": [
    "SQLite-versionfix  \n",
    "Om du stöter på felet:  \n",
    "```\n",
    "RuntimeError: Your system has an unsupported version of sqlite3. Chroma requires sqlite3 >= 3.35.0\n",
    "```  \n",
    "\n",
    "Avkommentera denna kodblock i början av din notebook:  \n"
   ]
  },
  {
   "cell_type": "code",
   "execution_count": null,
   "metadata": {},
   "outputs": [],
   "source": [
    "# %pip install pysqlite3-binary\n",
    "# __import__('pysqlite3')\n",
    "# import sys\n",
    "# sys.modules['sqlite3'] = sys.modules.pop('pysqlite3')"
   ]
  },
  {
   "cell_type": "markdown",
   "metadata": {},
   "source": [
    "### Importera paket\n",
    "Följande kod importerar de nödvändiga paketen:\n"
   ]
  },
  {
   "cell_type": "code",
   "execution_count": null,
   "metadata": {},
   "outputs": [],
   "source": [
    "# Azure imports for project client and credentials\n",
    "from azure.ai.projects.models import FileSearchTool, OpenAIFile, VectorStore\n",
    "from azure.identity.aio import DefaultAzureCredential\n",
    "\n",
    "# Semantic Kernel imports\n",
    "from semantic_kernel.agents import AzureAIAgent, AzureAIAgentThread"
   ]
  },
  {
   "cell_type": "markdown",
   "metadata": {},
   "source": [
    "# Retrieval-Augmented Generation med Semantic Kernel & Azure AI Agent Service\n",
    "\n",
    "Det här exemplet visar hur man använder **Azure AI Agent Service** för att utföra **Retrieval-Augmented Generation (RAG)** genom att kombinera en språkmodell med domänspecifik kontext från ett uppladdat dokument.\n",
    "\n",
    "### Så här fungerar det\n",
    "\n",
    "1. **Dokumentuppladdning**: En markdown-fil (document.md) som innehåller information (Contosos reseförsäkringspolicy) laddas upp till agenttjänsten.\n",
    "\n",
    "2. **Skapande av vektorlagring**: Dokumentet indexeras i en vektorlagring för att möjliggöra semantisk sökning över dess innehåll.\n",
    "\n",
    "3. **Agentkonfiguration**: En agent skapas med modellen `gpt-4o` och följande strikta instruktioner:\n",
    "   - Svara endast på frågor baserat på hämtat innehåll från dokumentet.\n",
    "   - Avstå från att svara om frågan ligger utanför dokumentets omfattning.\n",
    "\n",
    "4. **Integration av File Search Tool**: `FileSearchTool` registreras med agenten, vilket gör det möjligt för modellen att söka och hämta relevanta utdrag från det indexerade dokumentet under inferens.\n",
    "\n",
    "5. **Användarinteraktion**: Användare kan ställa frågor. Om relevant information hittas i dokumentet genererar agenten ett välgrundat svar.  \n",
    "   Om inte, svarar agenten uttryckligen att dokumentet inte innehåller tillräcklig information.\n"
   ]
  },
  {
   "cell_type": "markdown",
   "metadata": {},
   "source": [
    "### Huvudfunktion\n",
    "\n"
   ]
  },
  {
   "cell_type": "markdown",
   "metadata": {},
   "source": [
    "Se till att först köra `az login` med Azure CLI så att rätt autentiseringskontext tillhandahålls när du använder `DefaultAzureCredential`. Azure AI Agent Service använder inte API-nycklar.\n"
   ]
  },
  {
   "cell_type": "code",
   "execution_count": null,
   "metadata": {},
   "outputs": [],
   "source": [
    "async def main():\n",
    "    async with (\n",
    "        DefaultAzureCredential() as creds,\n",
    "        AzureAIAgent.create_client(credential=creds) as client,\n",
    "    ):\n",
    "        file: OpenAIFile = await client.agents.upload_file_and_poll(file_path=\"document.md\", purpose=\"assistants\")\n",
    "        vector_store: VectorStore = await client.agents.create_vector_store_and_poll(\n",
    "            file_ids=[file.id], name=\"my_vectorstore\"\n",
    "        )\n",
    "\n",
    "        # Define agent name and instructions tailored for RAG.\n",
    "        AGENT_NAME = \"RAGAgent\"\n",
    "        AGENT_INSTRUCTIONS = \"\"\"\n",
    "        You are an AI assistant designed to answer user questions using only the information retrieved from the provided document(s).\n",
    "\n",
    "        - If a user's question cannot be answered using the retrieved context, **you must clearly respond**: \n",
    "        \"I'm sorry, but the uploaded document does not contain the necessary information to answer that question.\"\n",
    "        - Do not answer from general knowledge or reasoning. Do not make assumptions or generate hypothetical explanations.\n",
    "        - Do not provide definitions, tutorials, or commentary that is not explicitly grounded in the content of the uploaded file(s).\n",
    "        - If a user asks a question like \"What is a Neural Network?\", and this is not discussed in the uploaded document, respond as instructed above.\n",
    "        - For questions that do have relevant content in the document (e.g., Contoso's travel insurance coverage), respond accurately, and cite the document explicitly.\n",
    "\n",
    "        You must behave as if you have no external knowledge beyond what is retrieved from the uploaded document.\n",
    "        \"\"\"\n",
    "\n",
    "        \n",
    "        # Create file search tool with uploaded resources\n",
    "        file_search = FileSearchTool(vector_store_ids=[vector_store.id])\n",
    "\n",
    "        # 3. Create an agent on the Azure AI agent service with the file search tool\n",
    "        agent_definition = await client.agents.create_agent(\n",
    "            model=\"gpt-4o\",  # This model should match your Azure OpenAI deployment.\n",
    "            name=AGENT_NAME,\n",
    "            instructions=AGENT_INSTRUCTIONS,\n",
    "            tools=file_search.definitions,\n",
    "            tool_resources=file_search.resources,\n",
    "        )\n",
    "        \n",
    "        # Create the Azure AI Agent using the client and definition.\n",
    "        agent = AzureAIAgent(\n",
    "            client=client,\n",
    "            definition=agent_definition,\n",
    "        )\n",
    "        \n",
    "        # Create a thread to hold the conversation\n",
    "        # If no thread is provided, a new thread will be\n",
    "        # created and returned with the initial response\n",
    "        thread: AzureAIAgentThread | None = None\n",
    "        \n",
    "        # Example user queries.\n",
    "        user_inputs = [\n",
    "            \"Can you explain Contoso's travel insurance coverage?\",  # Relevant context.\n",
    "            \"What is a Neural Network?\"  # No relevant context from the document. Will not contain a source annotation.\n",
    "        ]\n",
    "        \n",
    "        try:\n",
    "            for user_input in user_inputs:\n",
    "                print(f\"# User: '{user_input}'\")\n",
    "                # Invoke the agent for the specified thread for response\n",
    "                async for response in agent.invoke(messages=user_input, thread=thread):\n",
    "                    print(f\"# {response.name}: {response}\")\n",
    "                    thread = response.thread\n",
    "        finally:\n",
    "            # Clean up resources.\n",
    "            await thread.delete() if thread else None\n",
    "            await client.agents.delete_vector_store(vector_store.id)\n",
    "            await client.agents.delete_file(file.id)\n",
    "            await client.agents.delete_agent(agent.id)\n",
    "            print(\"\\nCleaned up agent, thread, file, and vector store.\")\n",
    "\n",
    "await main()"
   ]
  },
  {
   "cell_type": "markdown",
   "metadata": {},
   "source": [
    "Understood! Please provide the markdown file you'd like me to translate.\n"
   ]
  },
  {
   "cell_type": "markdown",
   "metadata": {},
   "source": [
    "\n---\n\n**Ansvarsfriskrivning**:  \nDetta dokument har översatts med hjälp av AI-översättningstjänsten [Co-op Translator](https://github.com/Azure/co-op-translator). Även om vi strävar efter noggrannhet, bör du vara medveten om att automatiserade översättningar kan innehålla fel eller felaktigheter. Det ursprungliga dokumentet på dess originalspråk bör betraktas som den auktoritativa källan. För kritisk information rekommenderas professionell mänsklig översättning. Vi ansvarar inte för eventuella missförstånd eller feltolkningar som uppstår vid användning av denna översättning.\n"
   ]
  }
 ],
 "metadata": {
  "kernelspec": {
   "display_name": ".venv",
   "language": "python",
   "name": "python3"
  },
  "language_info": {
   "codemirror_mode": {
    "name": "ipython",
    "version": 3
   },
   "file_extension": ".py",
   "mimetype": "text/x-python",
   "name": "python",
   "nbconvert_exporter": "python",
   "pygments_lexer": "ipython3",
   "version": "3.11.11"
  },
  "coopTranslator": {
   "original_hash": "a86c3ddfbe35024993bbf563588aad48",
   "translation_date": "2025-08-29T16:50:12+00:00",
   "source_file": "05-agentic-rag/code_samples/05-semantic-kernel-azure-ai-agent.ipynb",
   "language_code": "sv"
  }
 },
 "nbformat": 4,
 "nbformat_minor": 2
}