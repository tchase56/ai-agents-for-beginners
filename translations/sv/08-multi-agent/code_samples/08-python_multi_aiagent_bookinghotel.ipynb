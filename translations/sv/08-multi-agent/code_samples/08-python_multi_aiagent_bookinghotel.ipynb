{
 "cells": [
  {
   "cell_type": "markdown",
   "metadata": {},
   "source": [
    "## **Exempel: Multi-AI-agenter för hotellbokning**\n",
    "\n",
    "I dagens snabba värld innebär planering av en affärsresa mer än bara att boka ett flyg och ett hotellrum. Det kräver en nivå av samordning och effektivitet som kan vara svår att uppnå. Här kommer Multi-AI-agenter in i bilden och revolutionerar sättet vi hanterar våra resebehov.\n",
    "\n",
    "Föreställ dig att ha ett team av intelligenta agenter till ditt förfogande, som samarbetar för att hantera varje aspekt av din resa med precision och enkelhet. Med vår avancerade AI-teknologi har vi skapat specialiserade agenter för bokningstjänster och resplanering, vilket säkerställer en smidig och stressfri reseupplevelse.\n",
    "\n",
    "Detta är ett grundläggande scenario. När vi planerar en affärsresa behöver vi konsultera en affärsreseagent för att få information om flygbiljetter, hotell och liknande. Genom AI-agenter kan vi skapa agenter för bokningstjänster och agenter för resplanering som samarbetar och höjer intelligensnivån.\n"
   ]
  },
  {
   "cell_type": "markdown",
   "metadata": {},
   "source": [
    "# Initiera Azure AI Agent Service och hämta konfigurationsinformation från **.env**\n",
    "\n",
    "### **.env** \n",
    "\n",
    "Skapa en .env-fil \n",
    "\n",
    "**.env** innehåller anslutningssträngen för Azure AI Agent Service, modellen som används av AOAI, samt motsvarande Google API Search-tjänst API, ENDPOINT, etc.\n",
    "\n",
    "- **AZURE_AI_AGENT_MODEL_DEPLOYMENT_NAME** = \"Ditt Azure AI Agent Service Model Deployment Name\"\n",
    "\n",
    "[**NOTE**] Du behöver en modell med 100,000 Rate Limit (Tokens per minut) och en Rate Limit på 600 (Requests per minut).\n",
    "\n",
    "  Du kan få modellen i Azure AI Foundry - Model och Endpoint. \n",
    "\n",
    "- **AZURE_AI_AGENT_PROJECT_CONNECTION_STRING** = \"Din Azure AI Agent Service Project Connection String\"\n",
    "\n",
    "  Du kan få projektets anslutningssträng i projektöversikten på AI ​​Foundry Portal Screen.\n",
    "\n",
    "- **SERPAPI_SEARCH_API_KEY** = \"Din SERPAPI Search API KEY\"\n",
    "- **SERPAPI_SEARCH_ENDPOINT** = \"Din SERPAPI Search Endpoint\"\n",
    "\n",
    "För att få Model Deployment Name och Project Connection String för Azure AI Agent Service behöver du skapa Azure AI Agent Service. Det rekommenderas att använda [denna mall](https://portal.azure.com/#create/Microsoft.Template/uri/https%3A%2F%2Fraw.githubusercontent.com%2Ffosteramanda%2Fazure-agent-quickstart-templates%2Frefs%2Fheads%2Fmaster%2Fquickstarts%2Fmicrosoft.azure-ai-agent-service%2Fstandard-agent%2Fazuredeploy.json) för att skapa den direkt (***Obs:*** Azure AI Agent Service är för närvarande begränsad till vissa regioner. Det rekommenderas att du hänvisar till [denna länk](https://learn.microsoft.com/en-us/azure/ai-services/agents/concepts/model-region-support) för att ställa in regionen).\n",
    "\n",
    "Agenten behöver åtkomst till SERPAPI. Det rekommenderas att registrera sig via [denna länk](https://serpapi.com/searches). Efter registrering kan du få en unik API KEY och ENDPOINT.\n"
   ]
  },
  {
   "cell_type": "markdown",
   "metadata": {},
   "source": [
    "# Logga in på Azure\n",
    "\n",
    "Du behöver nu logga in på Azure. Öppna en terminal i VScode och kör kommandot `az login`.\n"
   ]
  },
  {
   "cell_type": "markdown",
   "metadata": {},
   "source": [
    "# Installation\n",
    "\n",
    "För att köra denna notebook behöver du installera följande bibliotek. Här är en lista över de nödvändiga biblioteken och motsvarande pip-installationskommandon:\n",
    "\n",
    "azure-identity: För autentisering med Azure.  \n",
    "requests: För att göra HTTP-förfrågningar.  \n",
    "semantic-kernel: För ramverket semantic kernel (om detta är ett anpassat eller specifikt bibliotek kan det behövas installeras från en särskild källa eller repository).  \n"
   ]
  },
  {
   "cell_type": "code",
   "execution_count": null,
   "metadata": {},
   "outputs": [],
   "source": [
    "!pip install azure-identity\n",
    "!pip install requests\n",
    "!pip install semantic-kernel\n",
    "!pip install --upgrade semantic_kernel\n",
    "!pip install azure-cli"
   ]
  },
  {
   "cell_type": "markdown",
   "metadata": {},
   "source": [
    "# Förklaring:  \n",
    "import asyncio: Detta importerar asyncio-modulen, som ger stöd för asynkron programmering i Python. Den låter dig skriva samtidiga program med hjälp av async- och await-syntaxen.  \n",
    "from typing import Annotated: Detta importerar typen Annotated från typing-modulen. Annotated används för att lägga till metadata till typanvisningar, vilket kan vara användbart för olika ändamål som validering, dokumentation eller verktyg.  \n"
   ]
  },
  {
   "cell_type": "code",
   "execution_count": null,
   "metadata": {
    "dotnet_interactive": {
     "language": "csharp"
    },
    "polyglot_notebook": {
     "kernelName": "csharp"
    }
   },
   "outputs": [],
   "source": [
    "import asyncio,os\n",
    "from typing import Annotated"
   ]
  },
  {
   "cell_type": "markdown",
   "metadata": {},
   "source": [
    "# Förklaring:\n",
    "Genom att använda from dotenv import load_dotenv och load_dotenv() kan du enkelt hantera konfigurationsinställningar och känslig information (som API-nycklar och databas-URL:er) i en .env-fil. Detta håller dem separerade från din källkod och gör din applikation säkrare och enklare att konfigurera.\n"
   ]
  },
  {
   "cell_type": "code",
   "execution_count": null,
   "metadata": {},
   "outputs": [],
   "source": [
    "import os\n",
    "from dotenv import load_dotenv\n",
    "\n",
    "# Load environment variables from .env file\n",
    "load_dotenv()"
   ]
  },
  {
   "cell_type": "markdown",
   "metadata": {},
   "source": [
    "# Förklaring:\n",
    "\n",
    "Importera uttalande: from azure.identity.aio import DefaultAzureCredential: Detta importerar klassen DefaultAzureCredential från modulen azure.identity.aio. Den aio-delen av modulnamnet indikerar att den är utformad för asynkrona operationer.\n",
    "\n",
    "Syftet med DefaultAzureCredential: Klassen DefaultAzureCredential är en del av Azure SDK för Python. Den tillhandahåller ett standardiserat sätt att autentisera med Azure-tjänster. Den försöker autentisera med flera metoder i en specifik ordning, såsom miljövariabler, hanterad identitet och Azure CLI-referenser.\n",
    "\n",
    "Asynkrona operationer: Modulen aio indikerar att klassen DefaultAzureCredential stöder asynkrona operationer. Detta innebär att du kan använda den med asyncio för att utföra icke-blockerande autentiseringsförfrågningar.\n"
   ]
  },
  {
   "cell_type": "code",
   "execution_count": null,
   "metadata": {
    "dotnet_interactive": {
     "language": "csharp"
    },
    "polyglot_notebook": {
     "kernelName": "csharp"
    }
   },
   "outputs": [],
   "source": [
    "from azure.identity.aio import DefaultAzureCredential"
   ]
  },
  {
   "cell_type": "markdown",
   "metadata": {},
   "source": [
    "# Förklaring:\n",
    "Importerar olika moduler och klasser från paketet semantic_kernel. Här är en genomgång av varje import:\n",
    "\n",
    "AgentGroupChat från semantic_kernel.agents: Denna klass hanterar funktioner relaterade till gruppchatt för AI-agenter. AzureAIAgent och AzureAIAgentSettings från semantic_kernel.agents.azure_ai\n",
    "\n",
    "AzureAIAgent: Denna klass används för att skapa och hantera AI-agenter som använder Azure AI-tjänster.\n",
    "\n",
    "AzureAIAgentSettings: Denna klass används för att konfigurera inställningar för AzureAIAgent. TerminationStrategy från semantic_kernel.agents.strategies.termination.termination_strategy:\n",
    "\n",
    "Denna klass definierar strategier för att avsluta körningen av AI-agenter under vissa förhållanden. ChatMessageContent från semantic_kernel.contents.chat_message_content:\n",
    "\n",
    "Denna klass används för att hantera innehållet i chattmeddelanden.\n",
    "AuthorRole från semantic_kernel.contents.utils.author_role:\n",
    "\n",
    "Denna klass definierar olika roller för författare i kontexten av chattmeddelanden.\n",
    "\n",
    "kernel_function från semantic_kernel.functions.kernel_function_decorator: Denna dekoratör används för att definiera kernel-funktioner, som är funktioner som kan köras inom semantic kernel-ramverket.\n",
    "Dessa importer ställer in de nödvändiga komponenterna för att skapa och hantera AI-agenter som kan interagera i en gruppchattmiljö, möjligen för uppgifter som att boka hotell eller liknande aktiviteter.\n"
   ]
  },
  {
   "cell_type": "code",
   "execution_count": null,
   "metadata": {
    "dotnet_interactive": {
     "language": "csharp"
    },
    "polyglot_notebook": {
     "kernelName": "csharp"
    }
   },
   "outputs": [],
   "source": [
    "from semantic_kernel.agents import AgentGroupChat\n",
    "from semantic_kernel.agents import AzureAIAgent, AzureAIAgentSettings\n",
    "from semantic_kernel.agents.strategies.termination.termination_strategy import TerminationStrategy\n",
    "from semantic_kernel.contents import ChatMessageContent\n",
    "from semantic_kernel.contents import AuthorRole\n",
    "from semantic_kernel.functions.kernel_function_decorator import kernel_function"
   ]
  },
  {
   "cell_type": "markdown",
   "metadata": {},
   "source": [
    "# Förklaring:\n",
    "Nästa steg är att importera klassen CodeInterpreterTool från modulen azure.ai.projects.models.\n",
    "\n",
    "CodeInterpreterTool: Denna klass är en del av Azure AI SDK och används för att tolka och köra kod inom ramen för AI-projekt. Den erbjuder funktioner för att köra kodsnuttar, analysera kod eller integrera kodkörning i AI-arbetsflöden.  \n",
    "Denna import förbereder den nödvändiga komponenten för att använda CodeInterpreterTool i ditt projekt, vilket kan vara användbart för uppgifter som innebär dynamisk tolkning och körning av kod.\n"
   ]
  },
  {
   "cell_type": "code",
   "execution_count": null,
   "metadata": {
    "dotnet_interactive": {
     "language": "csharp"
    },
    "polyglot_notebook": {
     "kernelName": "csharp"
    }
   },
   "outputs": [],
   "source": [
    "from azure.ai.projects.models import CodeInterpreterTool"
   ]
  },
  {
   "cell_type": "markdown",
   "metadata": {},
   "source": [
    "# Förklaring: \n",
    "ApprovalTerminationStrategy-klassen erbjuder en specifik strategi för att avsluta en AI-agents verksamhet. Agenten kommer att avslutas om det sista meddelandet i dess interaktionshistorik innehåller ordet \"sparat\". Detta kan vara användbart i situationer där agentens uppgift anses vara slutförd när den får en bekräftelse på att något har blivit \"sparat\". Definiera interaktionsmetoden. Efter att reservationsplanen har sparats kan den stoppas när den mottar signalen \"sparat\".\n"
   ]
  },
  {
   "cell_type": "code",
   "execution_count": null,
   "metadata": {
    "dotnet_interactive": {
     "language": "csharp"
    },
    "polyglot_notebook": {
     "kernelName": "csharp"
    }
   },
   "outputs": [],
   "source": [
    "class ApprovalTerminationStrategy(TerminationStrategy):\n",
    "    \"\"\"A strategy for determining when an agent should terminate.\"\"\"\n",
    "\n",
    "    async def should_agent_terminate(self, agent, history):\n",
    "        \"\"\"Check if the agent should terminate.\"\"\"\n",
    "        return \"saved\" in history[-1].content.lower()"
   ]
  },
  {
   "cell_type": "markdown",
   "metadata": {},
   "source": [
    "# Förklaring:\n",
    "\n",
    "Raden med kod initierar ett AzureAIAgentSettings-objekt med standard- eller fördefinierade inställningar genom att anropa metoden create(). Detta inställningsobjekt (ai_agent_settings) kan sedan användas för att konfigurera och hantera en AzureAIAgent-instans.\n"
   ]
  },
  {
   "cell_type": "code",
   "execution_count": null,
   "metadata": {
    "dotnet_interactive": {
     "language": "csharp"
    },
    "polyglot_notebook": {
     "kernelName": "csharp"
    }
   },
   "outputs": [],
   "source": [
    "ai_agent_settings = AzureAIAgentSettings.create()"
   ]
  },
  {
   "cell_type": "markdown",
   "metadata": {},
   "source": [
    "# Förklaring:\n",
    "Genom att importera biblioteket requests kan du enkelt göra HTTP-förfrågningar och interagera med webbtjänster i din Python-kod.\n"
   ]
  },
  {
   "cell_type": "code",
   "execution_count": null,
   "metadata": {
    "dotnet_interactive": {
     "language": "csharp"
    },
    "polyglot_notebook": {
     "kernelName": "csharp"
    }
   },
   "outputs": [],
   "source": [
    "import requests"
   ]
  },
  {
   "cell_type": "markdown",
   "metadata": {},
   "source": [
    "# Förklaring:\n",
    "Det här är en variabel som lagrar API-nyckeln för att få åtkomst till en SERP (Search Engine Results Page) API-tjänst. En API-nyckel är en unik identifierare som används för att autentisera förfrågningar kopplade till ditt konto.\n",
    "\n",
    "'GOOGLE_SEARCH_API_KEY': Detta är en platshållarsträng. Du behöver ersätta 'GOOGLE_SEARCH_API_KEY' med din faktiska SERP API-nyckel.\n",
    "\n",
    "Syfte: Syftet med denna rad är att lagra API-nyckeln i en variabel så att den kan användas för att autentisera förfrågningar till SERP API-tjänsten. API-nyckeln krävs för att få åtkomst till tjänsten och utföra sökningar.\n",
    "\n",
    "Hur man får en SERP API-nyckel: För att få en SERP API-nyckel, följ dessa generella steg på https://serpapi.com (de exakta stegen kan variera beroende på vilken specifik SERP API-tjänst du använder):\n",
    "\n",
    "Välj en SERP API-tjänst: Det finns flera SERP API-tjänster tillgängliga, såsom SerpAPI, Google Custom Search JSON API och andra. Välj den som bäst passar dina behov.\n",
    "\n",
    "Registrera ett konto:\n",
    "\n",
    "Gå till webbplatsen för den valda SERP API-tjänsten https://www.serpapi.com och registrera ett konto. Du kan behöva ange viss grundläggande information och verifiera din e-postadress.\n",
    "\n",
    "Skapa en API-nyckel:\n",
    "\n",
    "Efter att du har registrerat dig, logga in på ditt konto och navigera till API-sektionen eller instrumentpanelen. Leta efter ett alternativ för att skapa eller generera en ny API-nyckel.\n",
    "Kopiera API-nyckeln:\n",
    "\n",
    "När API-nyckeln har genererats, kopiera den. Denna nyckel kommer att användas för att autentisera dina förfrågningar till SERP API-tjänsten.\n",
    "Ersätt platshållaren:\n",
    "\n",
    "Ersätt platshållaren i din .env-fil\n"
   ]
  },
  {
   "cell_type": "code",
   "execution_count": null,
   "metadata": {
    "dotnet_interactive": {
     "language": "csharp"
    },
    "polyglot_notebook": {
     "kernelName": "csharp"
    }
   },
   "outputs": [],
   "source": [
    "SERPAPI_SEARCH_API_KEY=os.getenv('SERPAPI_SEARCH_API_KEY')"
   ]
  },
  {
   "cell_type": "code",
   "execution_count": null,
   "metadata": {
    "dotnet_interactive": {
     "language": "csharp"
    },
    "polyglot_notebook": {
     "kernelName": "csharp"
    }
   },
   "outputs": [],
   "source": [
    "SERPAPI_SEARCH_ENDPOINT = os.getenv('SERPAPI_SEARCH_ENDPOINT')"
   ]
  },
  {
   "cell_type": "markdown",
   "metadata": {},
   "source": [
    "# Förklaring:\n",
    "Klassen BookingPlugin erbjuder metoder för att boka hotell och flyg med hjälp av Serpapi.com Google Search API. Den skapar de nödvändiga parametrarna, skickar API-förfrågningar och bearbetar svaren för att returnera relevant bokningsinformation. API-nyckeln (SERPAPI_SEARCH_API_KEY) och slutpunkten (SERPAPI_SEARCH_ENDPOINT) används för att autentisera och skicka förfrågningar till Google Search API.\n"
   ]
  },
  {
   "cell_type": "code",
   "execution_count": null,
   "metadata": {
    "dotnet_interactive": {
     "language": "csharp"
    },
    "polyglot_notebook": {
     "kernelName": "csharp"
    }
   },
   "outputs": [],
   "source": [
    "# Define Booking Plugin\n",
    "class BookingPlugin:\n",
    "    \"\"\"Booking Plugin for customers\"\"\"\n",
    "    @kernel_function(description=\"booking hotel\")\n",
    "    def booking_hotel(self,query: Annotated[str, \"The name of the city\"], check_in_date: Annotated[str, \"Hotel Check-in Time\"], check_out_date: Annotated[str, \"Hotel Check-in Time\"])-> Annotated[str, \"Return the result of booking hotel infomation\"]:\n",
    "\n",
    "        params = {\n",
    "            \"engine\": \"google_hotels\",\n",
    "            \"q\": query,\n",
    "            \"check_in_date\": check_in_date,\n",
    "            \"check_out_date\": check_out_date,\n",
    "            \"adults\": \"2\",\n",
    "            \"currency\": \"USD\",\n",
    "            \"gl\": \"us\",\n",
    "            \"hl\": \"en\",\n",
    "            \"api_key\": SERPAPI_SEARCH_API_KEY\n",
    "        }\n",
    "\n",
    "        response = requests.get(SERPAPI_SEARCH_ENDPOINT, params=params)\n",
    "        if response.status_code == 200:\n",
    "            response = response.json()\n",
    "            return response[\"properties\"]\n",
    "        else:\n",
    "            return None\n",
    "\n",
    "    \n",
    "    @kernel_function(description=\"booking fight\")\n",
    "    def  booking_fight(self,origin: Annotated[str, \"The name of Departure\"], destination: Annotated[str, \"The name of Destination\"], outbound_date: Annotated[str, \"The date of outbound\"], return_date: Annotated[str, \"The date of Return_date\"])-> Annotated[str, \"Return the result of booking fight infomation\"]:\n",
    "        \n",
    "        go_params = {\n",
    "            \"engine\": \"google_flights\",   \n",
    "            \"departure_id\": origin,\n",
    "            \"arrival_id\": destination,\n",
    "            \"outbound_date\": outbound_date,\n",
    "            \"return_date\": return_date,  \n",
    "            \"currency\": \"USD\",\n",
    "            \"hl\": \"en\",\n",
    "            \"api_key\": SERPAPI_SEARCH_API_KEY  \n",
    "        }\n",
    "\n",
    "        print(go_params)\n",
    "\n",
    "        go_response = requests.get(SERPAPI_SEARCH_ENDPOINT, params=go_params)\n",
    "\n",
    "\n",
    "        result = ''\n",
    "\n",
    "        if go_response.status_code == 200:\n",
    "            response = go_response.json()\n",
    "\n",
    "            result += \"# outbound \\n \" + str(response)\n",
    "        else:\n",
    "            print('error!!!')\n",
    "            # return None\n",
    "\n",
    "        \n",
    "        back_params = {\n",
    "            \"engine\": \"google_flights\",   \n",
    "            \"departure_id\": destination,\n",
    "            \"arrival_id\": origin,\n",
    "            \"outbound_date\": return_date,\n",
    "            \"return_date\": return_date,  \n",
    "            \"currency\": \"USD\",\n",
    "            \"hl\": \"en\",\n",
    "            \"api_key\": SERPAPI_SEARCH_API_KEY  \n",
    "        }\n",
    "\n",
    "\n",
    "        print(back_params)\n",
    "\n",
    "\n",
    "        back_response = requests.get(SERPAPI_SEARCH_ENDPOINT, params=back_params)\n",
    "\n",
    "\n",
    "\n",
    "        if back_response.status_code == 200:\n",
    "            response = back_response.json()\n",
    "\n",
    "            result += \"\\n # return \\n\"  + str(response)\n",
    "\n",
    "        else:\n",
    "            print('error!!!')\n",
    "            # return None\n",
    "        \n",
    "        print(result)\n",
    "\n",
    "        return result\n",
    "\n",
    "        \n"
   ]
  },
  {
   "cell_type": "markdown",
   "metadata": {},
   "source": [
    "# Förklaring:\n",
    "SavePlugin-klassen tillhandahåller en metod saving_plan för att spara reseplaner med hjälp av Azure AI-tjänster. Den konfigurerar Azure-referenser, skapar en AI-agent, bearbetar användarinmatningar för att generera och spara innehållet i reseplanen, samt hanterar filsparning och städuppgifter. Metoden returnerar \"Sparad\" vid framgångsrikt slutförande.\n"
   ]
  },
  {
   "cell_type": "code",
   "execution_count": null,
   "metadata": {
    "dotnet_interactive": {
     "language": "csharp"
    },
    "polyglot_notebook": {
     "kernelName": "csharp"
    }
   },
   "outputs": [],
   "source": [
    "class SavePlugin:\n",
    "    \"\"\"Save Plugin for customers\"\"\"\n",
    "    @kernel_function(description=\"saving plan\")\n",
    "    async def saving_plan(self,tripplan: Annotated[str, \"The content of trip plan\"])-> Annotated[str, \"Return status of save content\"]:\n",
    "\n",
    "        async with (\n",
    "            DefaultAzureCredential() as creds,\n",
    "            AzureAIAgent.create_client(\n",
    "                credential=creds,\n",
    "                conn_str=ai_agent_settings.project_connection_string.get_secret_value(),\n",
    "            ) as client,\n",
    "        ):\n",
    "\n",
    "            code_interpreter = CodeInterpreterTool()\n",
    "            \n",
    "            agent_definition = await client.agents.create_agent(\n",
    "                model=ai_agent_settings.model_deployment_name,\n",
    "                tools=code_interpreter.definitions,\n",
    "                tool_resources=code_interpreter.resources,\n",
    "            )\n",
    "\n",
    "\n",
    "            agent = AzureAIAgent(\n",
    "                client=client,\n",
    "                definition=agent_definition,\n",
    "            )\n",
    "\n",
    "            thread = await client.agents.create_thread()\n",
    "\n",
    "\n",
    "            user_inputs = [\n",
    "                \"\"\"\n",
    "            \n",
    "                        You are my Python programming assistant. Generate code,save \"\"\"+ tripplan +\n",
    "                        \n",
    "                    \"\"\"    \n",
    "                        and execute it according to the following requirements\n",
    "\n",
    "                        1. Save blog content to trip-{YYMMDDHHMMSS}.md\n",
    "\n",
    "                        2. give me the download this file link\n",
    "                    \"\"\"\n",
    "            ]\n",
    "\n",
    "\n",
    "\n",
    "            try:\n",
    "                for user_input in user_inputs:\n",
    "                    # Add the user input as a chat message\n",
    "                    await agent.add_chat_message(\n",
    "                        thread_id=thread.id, message=ChatMessageContent(role=AuthorRole.USER, content=user_input)\n",
    "                    )\n",
    "                    print(f\"# User: '{user_input}'\")\n",
    "                    # Invoke the agent for the specified thread\n",
    "                    async for content in agent.invoke(thread_id=thread.id):\n",
    "                        if content.role != AuthorRole.TOOL:\n",
    "                            print(f\"# Agent: {content.content}\")\n",
    "\n",
    "                    \n",
    "                    messages = await client.agents.list_messages(thread_id=thread.id)\n",
    "\n",
    "                    # OpenAIPageableListOfThreadMessage\n",
    "                    # OpenAIPageableListOfThreadMessage\n",
    "\n",
    "\n",
    "                    for file_path_annotation in messages.file_path_annotations:\n",
    "\n",
    "                            file_name = os.path.basename(file_path_annotation.text)\n",
    "\n",
    "                            await client.agents.save_file(file_id=file_path_annotation.file_path.file_id, file_name=file_name,target_dir=\"./trip\")\n",
    "\n",
    "                    \n",
    "            finally:\n",
    "                await client.agents.delete_thread(thread.id)\n",
    "                await client.agents.delete_agent(agent.id)\n",
    "\n",
    "\n",
    "        return \"Saved\""
   ]
  },
  {
   "cell_type": "markdown",
   "metadata": {},
   "source": [
    "# Förklaring:\n",
    "Den här koden konfigurerar Azure AI-agenter för att hantera bokning av flyg och hotell samt att spara reseplaner baserat på användarens inmatningar. Den använder Azure-uppgifter för att skapa och konfigurera agenterna, bearbetar användarinmatningar via en gruppchatt och säkerställer korrekt städning efter att uppgifterna är slutförda. Agenterna använder specifika plugins (BookingPlugin och SavePlugin) för att utföra sina respektive uppgifter.\n"
   ]
  },
  {
   "cell_type": "code",
   "execution_count": null,
   "metadata": {
    "dotnet_interactive": {
     "language": "csharp"
    },
    "polyglot_notebook": {
     "kernelName": "csharp"
    }
   },
   "outputs": [],
   "source": [
    "async with (\n",
    "    DefaultAzureCredential() as creds,\n",
    "    AzureAIAgent.create_client(\n",
    "        credential=creds,\n",
    "        conn_str=ai_agent_settings.project_connection_string.get_secret_value(),\n",
    "    ) as client,\n",
    "):\n",
    "    BOOKING_AGENT_NAME = \"BookingAgent\"\n",
    "    BOOKING_AGENT_INSTRUCTIONS = \"\"\"\n",
    "    You are a booking agent. Help me book flights or hotels.\n",
    "\n",
    "    Thought: Please understand the user's intention and confirm whether to use the reservation system to complete the task.\n",
    "\n",
    "    Actions:\n",
    "    - For flight bookings, convert the departure and destination names into airport codes.\n",
    "    - Use the appropriate API for hotel or flight bookings. Verify that all necessary parameters are available. If any parameters are missing, ask the user to provide them. If all parameters are complete, call the corresponding function.\n",
    "    - If the task is not related to hotel or flight booking, respond with the final answer only.\n",
    "    - Output the results using a markdown table:\n",
    "      - For flight bookings, output separate outbound and return contents in the order of:\n",
    "        Departure Airport | Airline | Flight Number | Departure Time | Arrival Airport | Arrival Time | Duration | Airplane | Travel Class | Price (USD) | Legroom | Extensions | Carbon Emissions (kg).\n",
    "      - For hotel bookings, output in the order of:\n",
    "        Property Name | Property Description | Check-in Time | Check-out Time | Prices | Nearby Places | Hotel Class | GPS Coordinates.\n",
    "    \"\"\"\n",
    "\n",
    "    SAVE_AGENT_NAME = \"SaveAgent\"\n",
    "    SAVE_AGENT_INSTRUCTIONS = \"\"\"\n",
    "    You are a save tool agent. Help me to save the trip plan.\n",
    "    \"\"\"\n",
    "\n",
    "    # Create agent definition\n",
    "    booking_agent_definition = await client.agents.create_agent(\n",
    "        model=ai_agent_settings.model_deployment_name,\n",
    "        name=BOOKING_AGENT_NAME,\n",
    "        instructions=BOOKING_AGENT_INSTRUCTIONS,\n",
    "    )\n",
    "\n",
    "    # Create the AzureAI Agent\n",
    "    booking_agent = AzureAIAgent(\n",
    "        client=client,\n",
    "        definition=booking_agent_definition,\n",
    "        # Optionally configure polling options\n",
    "        # polling_options=RunPollingOptions(run_polling_interval=timedelta(seconds=1)),\n",
    "    )\n",
    "\n",
    "    # Add the sample plugin to the kernel\n",
    "    booking_agent.kernel.add_plugin(BookingPlugin(), plugin_name=\"booking\")\n",
    "\n",
    "    # Create agent definition\n",
    "    save_agent_definition = await client.agents.create_agent(\n",
    "        model=ai_agent_settings.model_deployment_name,\n",
    "        name=SAVE_AGENT_NAME,\n",
    "        instructions=SAVE_AGENT_INSTRUCTIONS\n",
    "    )\n",
    "\n",
    "    # Create the AzureAI Agent\n",
    "    save_agent = AzureAIAgent(\n",
    "        client=client,\n",
    "        definition=save_agent_definition,\n",
    "    )\n",
    "\n",
    "    save_agent.kernel.add_plugin(SavePlugin(), plugin_name=\"saving\")\n",
    "\n",
    "    user_inputs = [\n",
    "        \"I have a business trip from London to New York in Feb 20 2025 to Feb 27 2025 ,help me to book a hotel and fight tickets and save it\"\n",
    "    ]\n",
    "\n",
    "    chat = AgentGroupChat(\n",
    "        agents=[booking_agent, save_agent],\n",
    "        termination_strategy=ApprovalTerminationStrategy(agents=[save_agent], maximum_iterations=10),\n",
    "    )\n",
    "\n",
    "    try:\n",
    "        for user_input in user_inputs:\n",
    "            # Add the user input as a chat message\n",
    "            await chat.add_chat_message(\n",
    "                ChatMessageContent(role=AuthorRole.USER, content=user_input)\n",
    "            )\n",
    "            print(f\"# User: '{user_input}'\")\n",
    "\n",
    "            async for content in chat.invoke():\n",
    "                print(f\"# {content.role} - {content.name or '*'}: '{content.content}'\")\n",
    "\n",
    "            print(f\"# IS COMPLETE: {chat.is_complete}\")\n",
    "\n",
    "            print(\"*\" * 60)\n",
    "            print(\"Chat History (In Descending Order):\\n\")\n",
    "            async for message in chat.get_chat_messages(agent=save_agent):\n",
    "                print(f\"# {message.role} - {message.name or '*'}: '{message.content}'\")\n",
    "    finally:\n",
    "        await chat.reset()\n",
    "        await client.agents.delete_agent(save_agent.id)\n",
    "        await client.agents.delete_agent(booking_agent.id)\n"
   ]
  },
  {
   "cell_type": "markdown",
   "metadata": {},
   "source": [
    "\n---\n\n**Ansvarsfriskrivning**:  \nDetta dokument har översatts med hjälp av AI-översättningstjänsten [Co-op Translator](https://github.com/Azure/co-op-translator). Även om vi strävar efter noggrannhet, bör du vara medveten om att automatiserade översättningar kan innehålla fel eller brister. Det ursprungliga dokumentet på dess originalspråk bör betraktas som den auktoritativa källan. För kritisk information rekommenderas professionell mänsklig översättning. Vi ansvarar inte för eventuella missförstånd eller feltolkningar som uppstår vid användning av denna översättning.\n"
   ]
  }
 ],
 "metadata": {
  "kernelspec": {
   "display_name": "3.12.1",
   "language": "python",
   "name": "python3"
  },
  "language_info": {
   "codemirror_mode": {
    "name": "ipython",
    "version": 3
   },
   "file_extension": ".py",
   "mimetype": "text/x-python",
   "name": "python",
   "nbconvert_exporter": "python",
   "pygments_lexer": "ipython3",
   "version": "3.12.1"
  },
  "polyglot_notebook": {
   "kernelInfo": {
    "defaultKernelName": "csharp",
    "items": [
     {
      "aliases": [],
      "name": "csharp"
     }
    ]
   }
  },
  "coopTranslator": {
   "original_hash": "1baa60020a95eda27b7e9ecfda99965b",
   "translation_date": "2025-08-29T16:35:42+00:00",
   "source_file": "08-multi-agent/code_samples/08-python_multi_aiagent_bookinghotel.ipynb",
   "language_code": "sv"
  }
 },
 "nbformat": 4,
 "nbformat_minor": 2
}