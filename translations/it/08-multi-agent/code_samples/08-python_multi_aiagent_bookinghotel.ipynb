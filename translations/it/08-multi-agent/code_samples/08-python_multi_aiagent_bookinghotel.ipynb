{
 "cells": [
  {
   "cell_type": "markdown",
   "metadata": {},
   "source": [
    "## **Esempi: Multi-AI Agents per prenotare hotel**\n",
    "\n",
    "Nel mondo frenetico di oggi, organizzare un viaggio di lavoro non significa solo prenotare un volo e una camera d'albergo. Richiede un livello di coordinamento ed efficienza che può essere difficile da raggiungere. È qui che entrano in gioco i Multi-AI Agents, rivoluzionando il modo in cui gestiamo le nostre esigenze di viaggio.\n",
    "\n",
    "Immagina di avere a disposizione un team di agenti intelligenti, che lavorano insieme per gestire ogni aspetto del tuo viaggio con precisione e facilità. Con la nostra tecnologia avanzata di intelligenza artificiale, abbiamo creato agenti specializzati per i servizi di prenotazione e l'organizzazione dell'itinerario, garantendo un'esperienza di viaggio fluida e senza stress.\n",
    "\n",
    "Questo è uno scenario di base. Quando si pianifica un viaggio di lavoro, è necessario consultare un agente di viaggi aziendali per ottenere informazioni sui biglietti aerei, sugli hotel, ecc. Attraverso gli AI Agents, possiamo creare agenti per i servizi di prenotazione e agenti per l'organizzazione dell'itinerario che collaborano tra loro per migliorare il livello di intelligenza.\n"
   ]
  },
  {
   "cell_type": "markdown",
   "metadata": {},
   "source": [
    "# Inizializzare il Servizio Azure AI Agent e ottenere informazioni di configurazione da **.env**\n",
    "\n",
    "### **.env** \n",
    "\n",
    "Crea un file .env \n",
    "\n",
    "**.env** contiene la stringa di connessione del Servizio Azure AI Agent, il modello utilizzato da AOAI e il corrispondente servizio API di ricerca di Google, ENDPOINT, ecc.\n",
    "\n",
    "- **AZURE_AI_AGENT_MODEL_DEPLOYMENT_NAME** = \"Nome del Deployment del Modello del Servizio Azure AI Agent\"\n",
    "\n",
    "[**NOTE**] Avrai bisogno di un modello con un limite di 100.000 Token al minuto e un limite di 600 richieste al minuto.\n",
    "\n",
    "  Puoi ottenere il modello in Azure AI Foundry - Modello ed Endpoint. \n",
    "\n",
    "- **AZURE_AI_AGENT_PROJECT_CONNECTION_STRING** = \"Stringa di Connessione del Progetto del Servizio Azure AI Agent\"\n",
    "\n",
    "  Puoi ottenere la stringa di connessione del progetto nella panoramica del progetto nella schermata del portale AI Foundry.\n",
    "\n",
    "- **SERPAPI_SEARCH_API_KEY** = \"La tua chiave API di ricerca SERPAPI\"\n",
    "- **SERPAPI_SEARCH_ENDPOINT** = \"Il tuo endpoint di ricerca SERPAPI\"\n",
    "\n",
    "Per ottenere il Nome del Deployment del Modello e la Stringa di Connessione del Progetto del Servizio Azure AI Agent, è necessario creare il Servizio Azure AI Agent. Si consiglia di utilizzare [questo template](https://portal.azure.com/#create/Microsoft.Template/uri/https%3A%2F%2Fraw.githubusercontent.com%2Ffosteramanda%2Fazure-agent-quickstart-templates%2Frefs%2Fheads%2Fmaster%2Fquickstarts%2Fmicrosoft.azure-ai-agent-service%2Fstandard-agent%2Fazuredeploy.json) per crearlo direttamente （***Nota:*** Il Servizio Azure AI Agent è attualmente disponibile in regioni limitate. Si consiglia di fare riferimento a [questo link](https://learn.microsoft.com/en-us/azure/ai-services/agents/concepts/model-region-support) per impostare la regione)\n",
    "\n",
    "L'Agent deve accedere a SERPAPI. Si consiglia di registrarsi utilizzando [questo link](https://serpapi.com/searches). Dopo la registrazione, puoi ottenere una chiave API e un endpoint unici.\n"
   ]
  },
  {
   "cell_type": "markdown",
   "metadata": {},
   "source": [
    "# Accedi ad Azure\n",
    "\n",
    "Ora devi accedere ad Azure. Apri un terminale in VScode ed esegui il comando `az login`.\n"
   ]
  },
  {
   "cell_type": "markdown",
   "metadata": {},
   "source": [
    "# Configurazione\n",
    "\n",
    "Per eseguire questo notebook, sarà necessario installare le seguenti librerie. Ecco un elenco delle librerie richieste e i relativi comandi pip install:\n",
    "\n",
    "azure-identity: Per l'autenticazione su Azure.  \n",
    "requests: Per effettuare richieste HTTP.  \n",
    "semantic-kernel: Per il framework del kernel semantico (supponendo che sia una libreria personalizzata o specifica, potrebbe essere necessario installarla da una fonte o repository specifico).  \n"
   ]
  },
  {
   "cell_type": "code",
   "execution_count": null,
   "metadata": {},
   "outputs": [],
   "source": [
    "!pip install azure-identity\n",
    "!pip install requests\n",
    "!pip install semantic-kernel\n",
    "!pip install --upgrade semantic_kernel\n",
    "!pip install azure-cli"
   ]
  },
  {
   "cell_type": "markdown",
   "metadata": {},
   "source": [
    "# Spiegazione: \n",
    "import asyncio: Questo importa il modulo asyncio, che fornisce supporto per la programmazione asincrona in Python. Ti consente di scrivere codice concorrente utilizzando la sintassi async e await.  \n",
    "from typing: Annotated: Questo importa il tipo Annotated dal modulo typing. Annotated viene utilizzato per aggiungere metadati agli hint di tipo, che possono essere utili per vari scopi come la validazione, la documentazione o gli strumenti.\n"
   ]
  },
  {
   "cell_type": "code",
   "execution_count": null,
   "metadata": {
    "dotnet_interactive": {
     "language": "csharp"
    },
    "polyglot_notebook": {
     "kernelName": "csharp"
    }
   },
   "outputs": [],
   "source": [
    "import asyncio,os\n",
    "from typing import Annotated"
   ]
  },
  {
   "cell_type": "markdown",
   "metadata": {},
   "source": [
    "# Spiegazione:\n",
    "Utilizzando from dotenv import load_dotenv e load_dotenv(), puoi gestire facilmente le impostazioni di configurazione e le informazioni sensibili (come chiavi API e URL di database) in un file .env, mantenendole separate dal tuo codice sorgente e rendendo la tua applicazione più sicura e facile da configurare.\n"
   ]
  },
  {
   "cell_type": "code",
   "execution_count": null,
   "metadata": {},
   "outputs": [],
   "source": [
    "import os\n",
    "from dotenv import load_dotenv\n",
    "\n",
    "# Load environment variables from .env file\n",
    "load_dotenv()"
   ]
  },
  {
   "cell_type": "markdown",
   "metadata": {},
   "source": [
    "# Spiegazione:\n",
    "\n",
    "Importazione: from azure.identity.aio import DefaultAzureCredential: Questo importa la classe DefaultAzureCredential dal modulo azure.identity.aio. La parte \"aio\" nel nome del modulo indica che è progettato per operazioni asincrone.\n",
    "\n",
    "Scopo di DefaultAzureCredential: La classe DefaultAzureCredential fa parte dell'SDK di Azure per Python. Fornisce un metodo predefinito per autenticarsi con i servizi Azure. Tenta di autenticarsi utilizzando diversi metodi in un ordine specifico, come variabili d'ambiente, identità gestite e credenziali di Azure CLI.\n",
    "\n",
    "Operazioni Asincrone: Il modulo \"aio\" indica che la classe DefaultAzureCredential supporta operazioni asincrone. Questo significa che puoi usarla con asyncio per eseguire richieste di autenticazione non bloccanti.\n"
   ]
  },
  {
   "cell_type": "code",
   "execution_count": null,
   "metadata": {
    "dotnet_interactive": {
     "language": "csharp"
    },
    "polyglot_notebook": {
     "kernelName": "csharp"
    }
   },
   "outputs": [],
   "source": [
    "from azure.identity.aio import DefaultAzureCredential"
   ]
  },
  {
   "cell_type": "markdown",
   "metadata": {},
   "source": [
    "# Spiegazione:\n",
    "Importa vari moduli e classi dal pacchetto semantic_kernel. Ecco una panoramica di ciascun import:\n",
    "\n",
    "AgentGroupChat da semantic_kernel.agents: Questa classe gestisce le funzionalità relative alla chat di gruppo per agenti AI. AzureAIAgent e AzureAIAgentSettings da semantic_kernel.agents.azure_ai\n",
    "\n",
    "AzureAIAgent: Questa classe viene utilizzata per creare e gestire agenti AI che utilizzano i servizi Azure AI.\n",
    "\n",
    "AzureAIAgentSettings: Questa classe viene utilizzata per configurare le impostazioni dell'AzureAIAgent. TerminationStrategy da semantic_kernel.agents.strategies.termination.termination_strategy:\n",
    "\n",
    "Questa classe definisce strategie per terminare l'esecuzione degli agenti AI in determinate condizioni. ChatMessageContent da semantic_kernel.contents.chat_message_content:\n",
    "\n",
    "Questa classe viene utilizzata per gestire il contenuto dei messaggi in chat.\n",
    "AuthorRole da semantic_kernel.contents.utils.author_role:\n",
    "\n",
    "Questa classe definisce diversi ruoli per gli autori nel contesto dei messaggi in chat.\n",
    "\n",
    "kernel_function da semantic_kernel.functions.kernel_function_decorator: Questo decoratore viene utilizzato per definire funzioni kernel, ovvero funzioni che possono essere eseguite all'interno del framework semantic kernel.\n",
    "Questi import configurano i componenti necessari per creare e gestire agenti AI che possono interagire in un ambiente di chat di gruppo, possibilmente per attività come la prenotazione di hotel o attività simili.\n"
   ]
  },
  {
   "cell_type": "code",
   "execution_count": null,
   "metadata": {
    "dotnet_interactive": {
     "language": "csharp"
    },
    "polyglot_notebook": {
     "kernelName": "csharp"
    }
   },
   "outputs": [],
   "source": [
    "from semantic_kernel.agents import AgentGroupChat\n",
    "from semantic_kernel.agents import AzureAIAgent, AzureAIAgentSettings\n",
    "from semantic_kernel.agents.strategies.termination.termination_strategy import TerminationStrategy\n",
    "from semantic_kernel.contents import ChatMessageContent\n",
    "from semantic_kernel.contents import AuthorRole\n",
    "from semantic_kernel.functions.kernel_function_decorator import kernel_function"
   ]
  },
  {
   "cell_type": "markdown",
   "metadata": {},
   "source": [
    "# Spiegazione:\n",
    "Successivamente importiamo la classe CodeInterpreterTool dal modulo azure.ai.projects.models.\n",
    "\n",
    "CodeInterpreterTool: Questa classe fa parte dell'SDK di Azure AI ed è utilizzata per interpretare ed eseguire codice nel contesto dei progetti di intelligenza artificiale. Fornisce funzionalità per eseguire frammenti di codice, analizzare il codice o integrare l'esecuzione del codice nei flussi di lavoro di AI.  \n",
    "Questo import configura il componente necessario per utilizzare CodeInterpreterTool nel tuo progetto, che potrebbe essere utile per attività che coinvolgono l'interpretazione e l'esecuzione dinamica del codice.\n"
   ]
  },
  {
   "cell_type": "code",
   "execution_count": null,
   "metadata": {
    "dotnet_interactive": {
     "language": "csharp"
    },
    "polyglot_notebook": {
     "kernelName": "csharp"
    }
   },
   "outputs": [],
   "source": [
    "from azure.ai.projects.models import CodeInterpreterTool"
   ]
  },
  {
   "cell_type": "markdown",
   "metadata": {},
   "source": [
    "# Spiegazione:  \n",
    "La classe ApprovalTerminationStrategy fornisce una strategia specifica per terminare l'operazione di un agente AI. L'agente si fermerà se l'ultimo messaggio nella sua cronologia di interazione contiene la parola \"salvato\". Questo potrebbe essere utile in scenari in cui il compito dell'agente è considerato completato una volta ricevuta la conferma che qualcosa è stato \"salvato\". Definire il metodo di interazione. Dopo che il piano di prenotazione è stato salvato, può essere interrotto al ricevimento del segnale \"salvato\".\n"
   ]
  },
  {
   "cell_type": "code",
   "execution_count": null,
   "metadata": {
    "dotnet_interactive": {
     "language": "csharp"
    },
    "polyglot_notebook": {
     "kernelName": "csharp"
    }
   },
   "outputs": [],
   "source": [
    "class ApprovalTerminationStrategy(TerminationStrategy):\n",
    "    \"\"\"A strategy for determining when an agent should terminate.\"\"\"\n",
    "\n",
    "    async def should_agent_terminate(self, agent, history):\n",
    "        \"\"\"Check if the agent should terminate.\"\"\"\n",
    "        return \"saved\" in history[-1].content.lower()"
   ]
  },
  {
   "cell_type": "markdown",
   "metadata": {},
   "source": [
    "# Spiegazione:\n",
    "\n",
    "La riga di codice inizializza un oggetto AzureAIAgentSettings con impostazioni predefinite o standard, chiamando il metodo create(). Questo oggetto di impostazioni (ai_agent_settings) può essere utilizzato per configurare e gestire un'istanza di AzureAIAgent.\n"
   ]
  },
  {
   "cell_type": "code",
   "execution_count": null,
   "metadata": {
    "dotnet_interactive": {
     "language": "csharp"
    },
    "polyglot_notebook": {
     "kernelName": "csharp"
    }
   },
   "outputs": [],
   "source": [
    "ai_agent_settings = AzureAIAgentSettings.create()"
   ]
  },
  {
   "cell_type": "markdown",
   "metadata": {},
   "source": [
    "# Spiegazione:\n",
    "Importando la libreria requests, puoi facilmente effettuare richieste HTTP e interagire con i servizi web nel tuo codice Python.\n"
   ]
  },
  {
   "cell_type": "code",
   "execution_count": null,
   "metadata": {
    "dotnet_interactive": {
     "language": "csharp"
    },
    "polyglot_notebook": {
     "kernelName": "csharp"
    }
   },
   "outputs": [],
   "source": [
    "import requests"
   ]
  },
  {
   "cell_type": "markdown",
   "metadata": {},
   "source": [
    "# Spiegazione:\n",
    "Questa è una variabile che memorizza la chiave API per accedere a un servizio API SERP (Search Engine Results Page). Una chiave API è un identificatore unico utilizzato per autenticare le richieste associate al tuo account.\n",
    "\n",
    "'GOOGLE_SEARCH_API_KEY': Questa è una stringa segnaposto. Devi sostituire 'GOOGLE_SEARCH_API_KEY' con la tua chiave API SERP effettiva.\n",
    "\n",
    "Scopo: Lo scopo di questa riga è memorizzare la chiave API in una variabile, in modo che possa essere utilizzata per autenticare le richieste al servizio API SERP. La chiave API è necessaria per accedere al servizio e effettuare ricerche.\n",
    "\n",
    "Come ottenere una chiave API SERP: Per ottenere una chiave API SERP, segui questi passaggi generali su https://serpapi.com (i passaggi esatti possono variare a seconda del servizio API SERP specifico che stai utilizzando):\n",
    "\n",
    "Scegli un servizio API SERP: Esistono diversi servizi API SERP disponibili, come SerpAPI, Google Custom Search JSON API e altri. Scegli quello che meglio soddisfa le tue esigenze.\n",
    "\n",
    "Registrati per un account:\n",
    "\n",
    "Vai al sito web del servizio API SERP scelto https://www.serpapi.com e registrati per un account. Potrebbe essere necessario fornire alcune informazioni di base e verificare il tuo indirizzo email.\n",
    "\n",
    "Crea una chiave API:\n",
    "\n",
    "Dopo esserti registrato, accedi al tuo account e vai alla sezione API o al dashboard. Cerca un'opzione per creare o generare una nuova chiave API.\n",
    "Copia la chiave API:\n",
    "\n",
    "Una volta generata la chiave API, copiala. Questa chiave sarà utilizzata per autenticare le tue richieste al servizio API SERP.\n",
    "Sostituisci il segnaposto:\n",
    "\n",
    "Sostituisci il segnaposto nel tuo file .env\n"
   ]
  },
  {
   "cell_type": "code",
   "execution_count": null,
   "metadata": {
    "dotnet_interactive": {
     "language": "csharp"
    },
    "polyglot_notebook": {
     "kernelName": "csharp"
    }
   },
   "outputs": [],
   "source": [
    "SERPAPI_SEARCH_API_KEY=os.getenv('SERPAPI_SEARCH_API_KEY')"
   ]
  },
  {
   "cell_type": "code",
   "execution_count": null,
   "metadata": {
    "dotnet_interactive": {
     "language": "csharp"
    },
    "polyglot_notebook": {
     "kernelName": "csharp"
    }
   },
   "outputs": [],
   "source": [
    "SERPAPI_SEARCH_ENDPOINT = os.getenv('SERPAPI_SEARCH_ENDPOINT')"
   ]
  },
  {
   "cell_type": "markdown",
   "metadata": {},
   "source": [
    "# Spiegazione:\n",
    "La classe BookingPlugin fornisce metodi per prenotare hotel e voli utilizzando l'API di ricerca Google di Serpapi.com. Costruisce i parametri necessari, invia richieste API e processa le risposte per restituire informazioni pertinenti sulle prenotazioni. La chiave API (SERPAPI_SEARCH_API_KEY) e l'endpoint (SERPAPI_SEARCH_ENDPOINT) vengono utilizzati per autenticare e inviare richieste all'API di ricerca Google.\n"
   ]
  },
  {
   "cell_type": "code",
   "execution_count": null,
   "metadata": {
    "dotnet_interactive": {
     "language": "csharp"
    },
    "polyglot_notebook": {
     "kernelName": "csharp"
    }
   },
   "outputs": [],
   "source": [
    "# Define Booking Plugin\n",
    "class BookingPlugin:\n",
    "    \"\"\"Booking Plugin for customers\"\"\"\n",
    "    @kernel_function(description=\"booking hotel\")\n",
    "    def booking_hotel(self,query: Annotated[str, \"The name of the city\"], check_in_date: Annotated[str, \"Hotel Check-in Time\"], check_out_date: Annotated[str, \"Hotel Check-in Time\"])-> Annotated[str, \"Return the result of booking hotel infomation\"]:\n",
    "\n",
    "        params = {\n",
    "            \"engine\": \"google_hotels\",\n",
    "            \"q\": query,\n",
    "            \"check_in_date\": check_in_date,\n",
    "            \"check_out_date\": check_out_date,\n",
    "            \"adults\": \"2\",\n",
    "            \"currency\": \"USD\",\n",
    "            \"gl\": \"us\",\n",
    "            \"hl\": \"en\",\n",
    "            \"api_key\": SERPAPI_SEARCH_API_KEY\n",
    "        }\n",
    "\n",
    "        response = requests.get(SERPAPI_SEARCH_ENDPOINT, params=params)\n",
    "        if response.status_code == 200:\n",
    "            response = response.json()\n",
    "            return response[\"properties\"]\n",
    "        else:\n",
    "            return None\n",
    "\n",
    "    \n",
    "    @kernel_function(description=\"booking fight\")\n",
    "    def  booking_fight(self,origin: Annotated[str, \"The name of Departure\"], destination: Annotated[str, \"The name of Destination\"], outbound_date: Annotated[str, \"The date of outbound\"], return_date: Annotated[str, \"The date of Return_date\"])-> Annotated[str, \"Return the result of booking fight infomation\"]:\n",
    "        \n",
    "        go_params = {\n",
    "            \"engine\": \"google_flights\",   \n",
    "            \"departure_id\": origin,\n",
    "            \"arrival_id\": destination,\n",
    "            \"outbound_date\": outbound_date,\n",
    "            \"return_date\": return_date,  \n",
    "            \"currency\": \"USD\",\n",
    "            \"hl\": \"en\",\n",
    "            \"api_key\": SERPAPI_SEARCH_API_KEY  \n",
    "        }\n",
    "\n",
    "        print(go_params)\n",
    "\n",
    "        go_response = requests.get(SERPAPI_SEARCH_ENDPOINT, params=go_params)\n",
    "\n",
    "\n",
    "        result = ''\n",
    "\n",
    "        if go_response.status_code == 200:\n",
    "            response = go_response.json()\n",
    "\n",
    "            result += \"# outbound \\n \" + str(response)\n",
    "        else:\n",
    "            print('error!!!')\n",
    "            # return None\n",
    "\n",
    "        \n",
    "        back_params = {\n",
    "            \"engine\": \"google_flights\",   \n",
    "            \"departure_id\": destination,\n",
    "            \"arrival_id\": origin,\n",
    "            \"outbound_date\": return_date,\n",
    "            \"return_date\": return_date,  \n",
    "            \"currency\": \"USD\",\n",
    "            \"hl\": \"en\",\n",
    "            \"api_key\": SERPAPI_SEARCH_API_KEY  \n",
    "        }\n",
    "\n",
    "\n",
    "        print(back_params)\n",
    "\n",
    "\n",
    "        back_response = requests.get(SERPAPI_SEARCH_ENDPOINT, params=back_params)\n",
    "\n",
    "\n",
    "\n",
    "        if back_response.status_code == 200:\n",
    "            response = back_response.json()\n",
    "\n",
    "            result += \"\\n # return \\n\"  + str(response)\n",
    "\n",
    "        else:\n",
    "            print('error!!!')\n",
    "            # return None\n",
    "        \n",
    "        print(result)\n",
    "\n",
    "        return result\n",
    "\n",
    "        \n"
   ]
  },
  {
   "cell_type": "markdown",
   "metadata": {},
   "source": [
    "# Spiegazione:\n",
    "La classe SavePlugin fornisce un metodo saving_plan per salvare i piani di viaggio utilizzando i servizi Azure AI. Configura le credenziali Azure, crea un agente AI, elabora gli input dell'utente per generare e salvare il contenuto del piano di viaggio, e gestisce le operazioni di salvataggio dei file e di pulizia. Il metodo restituisce \"Salvato\" al completamento con successo.\n"
   ]
  },
  {
   "cell_type": "code",
   "execution_count": null,
   "metadata": {
    "dotnet_interactive": {
     "language": "csharp"
    },
    "polyglot_notebook": {
     "kernelName": "csharp"
    }
   },
   "outputs": [],
   "source": [
    "class SavePlugin:\n",
    "    \"\"\"Save Plugin for customers\"\"\"\n",
    "    @kernel_function(description=\"saving plan\")\n",
    "    async def saving_plan(self,tripplan: Annotated[str, \"The content of trip plan\"])-> Annotated[str, \"Return status of save content\"]:\n",
    "\n",
    "        async with (\n",
    "            DefaultAzureCredential() as creds,\n",
    "            AzureAIAgent.create_client(\n",
    "                credential=creds,\n",
    "                conn_str=ai_agent_settings.project_connection_string.get_secret_value(),\n",
    "            ) as client,\n",
    "        ):\n",
    "\n",
    "            code_interpreter = CodeInterpreterTool()\n",
    "            \n",
    "            agent_definition = await client.agents.create_agent(\n",
    "                model=ai_agent_settings.model_deployment_name,\n",
    "                tools=code_interpreter.definitions,\n",
    "                tool_resources=code_interpreter.resources,\n",
    "            )\n",
    "\n",
    "\n",
    "            agent = AzureAIAgent(\n",
    "                client=client,\n",
    "                definition=agent_definition,\n",
    "            )\n",
    "\n",
    "            thread = await client.agents.create_thread()\n",
    "\n",
    "\n",
    "            user_inputs = [\n",
    "                \"\"\"\n",
    "            \n",
    "                        You are my Python programming assistant. Generate code,save \"\"\"+ tripplan +\n",
    "                        \n",
    "                    \"\"\"    \n",
    "                        and execute it according to the following requirements\n",
    "\n",
    "                        1. Save blog content to trip-{YYMMDDHHMMSS}.md\n",
    "\n",
    "                        2. give me the download this file link\n",
    "                    \"\"\"\n",
    "            ]\n",
    "\n",
    "\n",
    "\n",
    "            try:\n",
    "                for user_input in user_inputs:\n",
    "                    # Add the user input as a chat message\n",
    "                    await agent.add_chat_message(\n",
    "                        thread_id=thread.id, message=ChatMessageContent(role=AuthorRole.USER, content=user_input)\n",
    "                    )\n",
    "                    print(f\"# User: '{user_input}'\")\n",
    "                    # Invoke the agent for the specified thread\n",
    "                    async for content in agent.invoke(thread_id=thread.id):\n",
    "                        if content.role != AuthorRole.TOOL:\n",
    "                            print(f\"# Agent: {content.content}\")\n",
    "\n",
    "                    \n",
    "                    messages = await client.agents.list_messages(thread_id=thread.id)\n",
    "\n",
    "                    # OpenAIPageableListOfThreadMessage\n",
    "                    # OpenAIPageableListOfThreadMessage\n",
    "\n",
    "\n",
    "                    for file_path_annotation in messages.file_path_annotations:\n",
    "\n",
    "                            file_name = os.path.basename(file_path_annotation.text)\n",
    "\n",
    "                            await client.agents.save_file(file_id=file_path_annotation.file_path.file_id, file_name=file_name,target_dir=\"./trip\")\n",
    "\n",
    "                    \n",
    "            finally:\n",
    "                await client.agents.delete_thread(thread.id)\n",
    "                await client.agents.delete_agent(agent.id)\n",
    "\n",
    "\n",
    "        return \"Saved\""
   ]
  },
  {
   "cell_type": "markdown",
   "metadata": {},
   "source": [
    "# Spiegazione:\n",
    "Questo codice configura agenti Azure AI per gestire la prenotazione di voli e hotel, e salvare piani di viaggio basati sugli input degli utenti. Utilizza credenziali Azure per creare e configurare gli agenti, elabora gli input degli utenti tramite una chat di gruppo, e garantisce una corretta pulizia dopo il completamento dei compiti. Gli agenti utilizzano plugin specifici (BookingPlugin e SavePlugin) per svolgere i rispettivi compiti.\n"
   ]
  },
  {
   "cell_type": "code",
   "execution_count": null,
   "metadata": {
    "dotnet_interactive": {
     "language": "csharp"
    },
    "polyglot_notebook": {
     "kernelName": "csharp"
    }
   },
   "outputs": [],
   "source": [
    "async with (\n",
    "    DefaultAzureCredential() as creds,\n",
    "    AzureAIAgent.create_client(\n",
    "        credential=creds,\n",
    "        conn_str=ai_agent_settings.project_connection_string.get_secret_value(),\n",
    "    ) as client,\n",
    "):\n",
    "    BOOKING_AGENT_NAME = \"BookingAgent\"\n",
    "    BOOKING_AGENT_INSTRUCTIONS = \"\"\"\n",
    "    You are a booking agent. Help me book flights or hotels.\n",
    "\n",
    "    Thought: Please understand the user's intention and confirm whether to use the reservation system to complete the task.\n",
    "\n",
    "    Actions:\n",
    "    - For flight bookings, convert the departure and destination names into airport codes.\n",
    "    - Use the appropriate API for hotel or flight bookings. Verify that all necessary parameters are available. If any parameters are missing, ask the user to provide them. If all parameters are complete, call the corresponding function.\n",
    "    - If the task is not related to hotel or flight booking, respond with the final answer only.\n",
    "    - Output the results using a markdown table:\n",
    "      - For flight bookings, output separate outbound and return contents in the order of:\n",
    "        Departure Airport | Airline | Flight Number | Departure Time | Arrival Airport | Arrival Time | Duration | Airplane | Travel Class | Price (USD) | Legroom | Extensions | Carbon Emissions (kg).\n",
    "      - For hotel bookings, output in the order of:\n",
    "        Property Name | Property Description | Check-in Time | Check-out Time | Prices | Nearby Places | Hotel Class | GPS Coordinates.\n",
    "    \"\"\"\n",
    "\n",
    "    SAVE_AGENT_NAME = \"SaveAgent\"\n",
    "    SAVE_AGENT_INSTRUCTIONS = \"\"\"\n",
    "    You are a save tool agent. Help me to save the trip plan.\n",
    "    \"\"\"\n",
    "\n",
    "    # Create agent definition\n",
    "    booking_agent_definition = await client.agents.create_agent(\n",
    "        model=ai_agent_settings.model_deployment_name,\n",
    "        name=BOOKING_AGENT_NAME,\n",
    "        instructions=BOOKING_AGENT_INSTRUCTIONS,\n",
    "    )\n",
    "\n",
    "    # Create the AzureAI Agent\n",
    "    booking_agent = AzureAIAgent(\n",
    "        client=client,\n",
    "        definition=booking_agent_definition,\n",
    "        # Optionally configure polling options\n",
    "        # polling_options=RunPollingOptions(run_polling_interval=timedelta(seconds=1)),\n",
    "    )\n",
    "\n",
    "    # Add the sample plugin to the kernel\n",
    "    booking_agent.kernel.add_plugin(BookingPlugin(), plugin_name=\"booking\")\n",
    "\n",
    "    # Create agent definition\n",
    "    save_agent_definition = await client.agents.create_agent(\n",
    "        model=ai_agent_settings.model_deployment_name,\n",
    "        name=SAVE_AGENT_NAME,\n",
    "        instructions=SAVE_AGENT_INSTRUCTIONS\n",
    "    )\n",
    "\n",
    "    # Create the AzureAI Agent\n",
    "    save_agent = AzureAIAgent(\n",
    "        client=client,\n",
    "        definition=save_agent_definition,\n",
    "    )\n",
    "\n",
    "    save_agent.kernel.add_plugin(SavePlugin(), plugin_name=\"saving\")\n",
    "\n",
    "    user_inputs = [\n",
    "        \"I have a business trip from London to New York in Feb 20 2025 to Feb 27 2025 ,help me to book a hotel and fight tickets and save it\"\n",
    "    ]\n",
    "\n",
    "    chat = AgentGroupChat(\n",
    "        agents=[booking_agent, save_agent],\n",
    "        termination_strategy=ApprovalTerminationStrategy(agents=[save_agent], maximum_iterations=10),\n",
    "    )\n",
    "\n",
    "    try:\n",
    "        for user_input in user_inputs:\n",
    "            # Add the user input as a chat message\n",
    "            await chat.add_chat_message(\n",
    "                ChatMessageContent(role=AuthorRole.USER, content=user_input)\n",
    "            )\n",
    "            print(f\"# User: '{user_input}'\")\n",
    "\n",
    "            async for content in chat.invoke():\n",
    "                print(f\"# {content.role} - {content.name or '*'}: '{content.content}'\")\n",
    "\n",
    "            print(f\"# IS COMPLETE: {chat.is_complete}\")\n",
    "\n",
    "            print(\"*\" * 60)\n",
    "            print(\"Chat History (In Descending Order):\\n\")\n",
    "            async for message in chat.get_chat_messages(agent=save_agent):\n",
    "                print(f\"# {message.role} - {message.name or '*'}: '{message.content}'\")\n",
    "    finally:\n",
    "        await chat.reset()\n",
    "        await client.agents.delete_agent(save_agent.id)\n",
    "        await client.agents.delete_agent(booking_agent.id)\n"
   ]
  },
  {
   "cell_type": "markdown",
   "metadata": {},
   "source": [
    "\n---\n\n**Disclaimer**:  \nQuesto documento è stato tradotto utilizzando il servizio di traduzione automatica [Co-op Translator](https://github.com/Azure/co-op-translator). Sebbene ci impegniamo per garantire l'accuratezza, si prega di notare che le traduzioni automatiche potrebbero contenere errori o imprecisioni. Il documento originale nella sua lingua nativa dovrebbe essere considerato la fonte autorevole. Per informazioni critiche, si raccomanda una traduzione professionale eseguita da un traduttore umano. Non siamo responsabili per eventuali fraintendimenti o interpretazioni errate derivanti dall'uso di questa traduzione.\n"
   ]
  }
 ],
 "metadata": {
  "kernelspec": {
   "display_name": "3.12.1",
   "language": "python",
   "name": "python3"
  },
  "language_info": {
   "codemirror_mode": {
    "name": "ipython",
    "version": 3
   },
   "file_extension": ".py",
   "mimetype": "text/x-python",
   "name": "python",
   "nbconvert_exporter": "python",
   "pygments_lexer": "ipython3",
   "version": "3.12.1"
  },
  "polyglot_notebook": {
   "kernelInfo": {
    "defaultKernelName": "csharp",
    "items": [
     {
      "aliases": [],
      "name": "csharp"
     }
    ]
   }
  },
  "coopTranslator": {
   "original_hash": "1baa60020a95eda27b7e9ecfda99965b",
   "translation_date": "2025-08-29T14:02:13+00:00",
   "source_file": "08-multi-agent/code_samples/08-python_multi_aiagent_bookinghotel.ipynb",
   "language_code": "it"
  }
 },
 "nbformat": 4,
 "nbformat_minor": 2
}