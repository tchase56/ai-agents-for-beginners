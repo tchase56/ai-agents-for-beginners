{
 "cells": [
  {
   "cell_type": "markdown",
   "metadata": {},
   "source": [
    "# RAG Utilizzando il Servizio Azure AI Agent e Semantic Kernel\n",
    "\n",
    "Questo frammento di codice dimostra come creare e gestire un agente Azure AI per la generazione aumentata dal recupero (RAG) utilizzando il `Servizio Azure AI Agent` e `Semantic Kernel`. L'agente elabora le domande degli utenti basandosi sul contesto recuperato e fornisce risposte accurate di conseguenza.\n"
   ]
  },
  {
   "cell_type": "markdown",
   "metadata": {},
   "source": []
  },
  {
   "cell_type": "markdown",
   "metadata": {},
   "source": [
    "Correzione della versione di SQLite  \n",
    "Se riscontri l'errore:  \n",
    "```\n",
    "RuntimeError: Your system has an unsupported version of sqlite3. Chroma requires sqlite3 >= 3.35.0\n",
    "```  \n",
    "\n",
    "Rimuovi il commento da questo blocco di codice all'inizio del tuo notebook:  \n"
   ]
  },
  {
   "cell_type": "code",
   "execution_count": null,
   "metadata": {},
   "outputs": [],
   "source": [
    "# %pip install pysqlite3-binary\n",
    "# __import__('pysqlite3')\n",
    "# import sys\n",
    "# sys.modules['sqlite3'] = sys.modules.pop('pysqlite3')"
   ]
  },
  {
   "cell_type": "markdown",
   "metadata": {},
   "source": [
    "### Importazione dei pacchetti\n",
    "Il seguente codice importa i pacchetti necessari:\n"
   ]
  },
  {
   "cell_type": "code",
   "execution_count": null,
   "metadata": {},
   "outputs": [],
   "source": [
    "# Azure imports for project client and credentials\n",
    "from azure.ai.projects.models import FileSearchTool, OpenAIFile, VectorStore\n",
    "from azure.identity.aio import DefaultAzureCredential\n",
    "\n",
    "# Semantic Kernel imports\n",
    "from semantic_kernel.agents import AzureAIAgent, AzureAIAgentThread"
   ]
  },
  {
   "cell_type": "markdown",
   "metadata": {},
   "source": [
    "# Generazione con Recupero Aumentato con Semantic Kernel e Azure AI Agent Service\n",
    "\n",
    "Questo esempio dimostra come utilizzare il **Azure AI Agent Service** per eseguire la **Generazione con Recupero Aumentato (RAG)** combinando un modello linguistico con un contesto specifico del dominio proveniente da un documento caricato.\n",
    "\n",
    "### Come Funziona\n",
    "\n",
    "1. **Caricamento del Documento**: Un file markdown (document.md) contenente informazioni (la polizza di assicurazione viaggio di Contoso) viene caricato nel servizio agent.\n",
    "\n",
    "2. **Creazione dello Store di Vettori**: Il documento viene indicizzato in uno store di vettori per abilitare la ricerca semantica sui suoi contenuti.\n",
    "\n",
    "3. **Configurazione dell'Agente**: Un agente viene istanziato utilizzando il modello `gpt-4o` con le seguenti istruzioni rigide:\n",
    "   - Rispondere alle domande solo basandosi sui contenuti recuperati dal documento.\n",
    "   - Rifiutarsi di rispondere se la domanda è fuori ambito.\n",
    "\n",
    "4. **Integrazione dello Strumento di Ricerca File**: Il `FileSearchTool` viene registrato con l'agente, permettendo al modello di cercare e recuperare frammenti rilevanti dal documento indicizzato durante l'inferenza.\n",
    "\n",
    "5. **Interazione con l'Utente**: Gli utenti possono porre domande. Se vengono trovate informazioni pertinenti nel documento, l'agente genera una risposta basata sui dati.  \n",
    "   In caso contrario, l'agente risponde esplicitamente che il documento non contiene informazioni sufficienti.\n"
   ]
  },
  {
   "cell_type": "markdown",
   "metadata": {},
   "source": [
    "### Funzione Principale\n",
    "\n",
    "La funzione principale è il punto di ingresso del programma. È qui che il codice inizia a essere eseguito.\n",
    "\n",
    "#### Parametri\n",
    "- `args`: Un array di stringhe che rappresenta gli argomenti della riga di comando.\n",
    "\n",
    "#### Esempio\n",
    "Ecco un esempio di come chiamare la funzione principale:\n",
    "\n",
    "```python\n",
    "if __name__ == \"__main__\":\n",
    "    main()\n",
    "```\n",
    "\n",
    "#### Note\n",
    "- Assicurati che la funzione principale sia ben strutturata e facile da leggere.\n",
    "- Evita di inserire troppa logica direttamente nella funzione principale; utilizza funzioni ausiliarie quando possibile.\n",
    "\n",
    "#### Errori Comuni\n",
    "- Non gestire correttamente gli argomenti della riga di comando.\n",
    "- Non includere un controllo `if __name__ == \"__main__\"`.\n",
    "\n",
    "#### Suggerimenti\n",
    "- Utilizza librerie come `argparse` per gestire gli argomenti della riga di comando.\n",
    "- Scrivi test per verificare che la funzione principale si comporti come previsto.\n"
   ]
  },
  {
   "cell_type": "markdown",
   "metadata": {},
   "source": [
    "Assicurati di eseguire prima `az login` utilizzando l'Azure CLI in modo che venga fornito il contesto di autenticazione corretto durante l'utilizzo di `DefaultAzureCredential`. Il servizio Azure AI Agent non utilizza chiavi API.\n"
   ]
  },
  {
   "cell_type": "code",
   "execution_count": null,
   "metadata": {},
   "outputs": [],
   "source": [
    "async def main():\n",
    "    async with (\n",
    "        DefaultAzureCredential() as creds,\n",
    "        AzureAIAgent.create_client(credential=creds) as client,\n",
    "    ):\n",
    "        file: OpenAIFile = await client.agents.upload_file_and_poll(file_path=\"document.md\", purpose=\"assistants\")\n",
    "        vector_store: VectorStore = await client.agents.create_vector_store_and_poll(\n",
    "            file_ids=[file.id], name=\"my_vectorstore\"\n",
    "        )\n",
    "\n",
    "        # Define agent name and instructions tailored for RAG.\n",
    "        AGENT_NAME = \"RAGAgent\"\n",
    "        AGENT_INSTRUCTIONS = \"\"\"\n",
    "        You are an AI assistant designed to answer user questions using only the information retrieved from the provided document(s).\n",
    "\n",
    "        - If a user's question cannot be answered using the retrieved context, **you must clearly respond**: \n",
    "        \"I'm sorry, but the uploaded document does not contain the necessary information to answer that question.\"\n",
    "        - Do not answer from general knowledge or reasoning. Do not make assumptions or generate hypothetical explanations.\n",
    "        - Do not provide definitions, tutorials, or commentary that is not explicitly grounded in the content of the uploaded file(s).\n",
    "        - If a user asks a question like \"What is a Neural Network?\", and this is not discussed in the uploaded document, respond as instructed above.\n",
    "        - For questions that do have relevant content in the document (e.g., Contoso's travel insurance coverage), respond accurately, and cite the document explicitly.\n",
    "\n",
    "        You must behave as if you have no external knowledge beyond what is retrieved from the uploaded document.\n",
    "        \"\"\"\n",
    "\n",
    "        \n",
    "        # Create file search tool with uploaded resources\n",
    "        file_search = FileSearchTool(vector_store_ids=[vector_store.id])\n",
    "\n",
    "        # 3. Create an agent on the Azure AI agent service with the file search tool\n",
    "        agent_definition = await client.agents.create_agent(\n",
    "            model=\"gpt-4o\",  # This model should match your Azure OpenAI deployment.\n",
    "            name=AGENT_NAME,\n",
    "            instructions=AGENT_INSTRUCTIONS,\n",
    "            tools=file_search.definitions,\n",
    "            tool_resources=file_search.resources,\n",
    "        )\n",
    "        \n",
    "        # Create the Azure AI Agent using the client and definition.\n",
    "        agent = AzureAIAgent(\n",
    "            client=client,\n",
    "            definition=agent_definition,\n",
    "        )\n",
    "        \n",
    "        # Create a thread to hold the conversation\n",
    "        # If no thread is provided, a new thread will be\n",
    "        # created and returned with the initial response\n",
    "        thread: AzureAIAgentThread | None = None\n",
    "        \n",
    "        # Example user queries.\n",
    "        user_inputs = [\n",
    "            \"Can you explain Contoso's travel insurance coverage?\",  # Relevant context.\n",
    "            \"What is a Neural Network?\"  # No relevant context from the document. Will not contain a source annotation.\n",
    "        ]\n",
    "        \n",
    "        try:\n",
    "            for user_input in user_inputs:\n",
    "                print(f\"# User: '{user_input}'\")\n",
    "                # Invoke the agent for the specified thread for response\n",
    "                async for response in agent.invoke(messages=user_input, thread=thread):\n",
    "                    print(f\"# {response.name}: {response}\")\n",
    "                    thread = response.thread\n",
    "        finally:\n",
    "            # Clean up resources.\n",
    "            await thread.delete() if thread else None\n",
    "            await client.agents.delete_vector_store(vector_store.id)\n",
    "            await client.agents.delete_file(file.id)\n",
    "            await client.agents.delete_agent(agent.id)\n",
    "            print(\"\\nCleaned up agent, thread, file, and vector store.\")\n",
    "\n",
    "await main()"
   ]
  },
  {
   "cell_type": "markdown",
   "metadata": {},
   "source": [
    "Sure! Please provide the markdown file you'd like me to translate.\n"
   ]
  },
  {
   "cell_type": "markdown",
   "metadata": {},
   "source": [
    "\n---\n\n**Disclaimer**:  \nQuesto documento è stato tradotto utilizzando il servizio di traduzione automatica [Co-op Translator](https://github.com/Azure/co-op-translator). Sebbene ci impegniamo per garantire l'accuratezza, si prega di notare che le traduzioni automatiche possono contenere errori o imprecisioni. Il documento originale nella sua lingua nativa dovrebbe essere considerato la fonte autorevole. Per informazioni critiche, si raccomanda una traduzione professionale effettuata da un traduttore umano. Non siamo responsabili per eventuali incomprensioni o interpretazioni errate derivanti dall'uso di questa traduzione.\n"
   ]
  }
 ],
 "metadata": {
  "kernelspec": {
   "display_name": ".venv",
   "language": "python",
   "name": "python3"
  },
  "language_info": {
   "codemirror_mode": {
    "name": "ipython",
    "version": 3
   },
   "file_extension": ".py",
   "mimetype": "text/x-python",
   "name": "python",
   "nbconvert_exporter": "python",
   "pygments_lexer": "ipython3",
   "version": "3.11.11"
  },
  "coopTranslator": {
   "original_hash": "a86c3ddfbe35024993bbf563588aad48",
   "translation_date": "2025-08-29T14:18:48+00:00",
   "source_file": "05-agentic-rag/code_samples/05-semantic-kernel-azure-ai-agent.ipynb",
   "language_code": "it"
  }
 },
 "nbformat": 4,
 "nbformat_minor": 2
}