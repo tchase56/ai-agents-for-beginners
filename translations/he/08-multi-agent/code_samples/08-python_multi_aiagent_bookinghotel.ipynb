{
 "cells": [
  {
   "cell_type": "markdown",
   "metadata": {},
   "source": [
    "## **דוגמאות: סוכני AI מרובים להזמנת מלון**\n",
    "\n",
    "בעולם המהיר של היום, תכנון נסיעת עסקים כולל הרבה יותר מהזמנת טיסה וחדר במלון. הוא דורש רמה של תיאום ויעילות שיכולה להיות מאתגרת להשגה. כאן נכנסים לתמונה סוכני AI מרובים, שמשנים את הדרך שבה אנו מנהלים את צרכי הנסיעות שלנו.\n",
    "\n",
    "דמיינו צוות של סוכנים חכמים שעומדים לרשותכם, עובדים יחד כדי לטפל בכל היבט של הנסיעה שלכם בדיוק ובקלות. עם טכנולוגיית ה-AI המתקדמת שלנו, יצרנו סוכנים ייעודיים להזמנת שירותים ולתכנון מסלול, כדי להבטיח חוויית נסיעה חלקה וללא מתחים.\n",
    "\n",
    "זהו תרחיש בסיסי. כאשר מתכננים נסיעת עסקים, עלינו להתייעץ עם סוכן נסיעות עסקי כדי לקבל מידע על כרטיסי טיסה, מידע על מלונות וכדומה. באמצעות סוכני AI, אנו יכולים לבנות סוכנים להזמנת שירותים וסוכנים לתכנון מסלול שיעבדו יחד וישפרו את רמת האינטליגנציה.\n"
   ]
  },
  {
   "cell_type": "markdown",
   "metadata": {},
   "source": [
    "# אתחול שירות Azure AI Agent וקבלת מידע על תצורה מתוך **.env**\n",
    "\n",
    "### **.env**\n",
    "\n",
    "צרו קובץ .env\n",
    "\n",
    "**.env** מכיל את מחרוזת החיבור של שירות Azure AI Agent, המודל שבו משתמש AOAI, ואת שירות ה-API של Google API Search, ENDPOINT, ועוד.\n",
    "\n",
    "- **AZURE_AI_AGENT_MODEL_DEPLOYMENT_NAME** = \"שם פריסת המודל של שירות Azure AI Agent שלכם\"\n",
    "\n",
    "[**NOTE**] תצטרכו מודל עם מגבלת קצב של 100,000 (אסימונים לדקה) ומגבלת קצב של 600 (בקשות לדקה).\n",
    "\n",
    "  ניתן להשיג מודל ב-Azure AI Foundry - Model and Endpoint.\n",
    "\n",
    "- **AZURE_AI_AGENT_PROJECT_CONNECTION_STRING** = \"מחרוזת החיבור של פרויקט שירות Azure AI Agent שלכם\"\n",
    "\n",
    "  ניתן להשיג את מחרוזת החיבור של הפרויקט במסך סקירת הפרויקט בפורטל AI Foundry.\n",
    "\n",
    "- **SERPAPI_SEARCH_API_KEY** = \"מפתח ה-API של SERPAPI שלכם\"\n",
    "- **SERPAPI_SEARCH_ENDPOINT** = \"נקודת הקצה של SERPAPI שלכם\"\n",
    "\n",
    "כדי להשיג את שם פריסת המודל ומחרוזת החיבור של פרויקט שירות Azure AI Agent, עליכם ליצור את שירות Azure AI Agent. מומלץ להשתמש [בתבנית הזו](https://portal.azure.com/#create/Microsoft.Template/uri/https%3A%2F%2Fraw.githubusercontent.com%2Ffosteramanda%2Fazure-agent-quickstart-templates%2Frefs%2Fheads%2Fmaster%2Fquickstarts%2Fmicrosoft.azure-ai-agent-service%2Fstandard-agent%2Fazuredeploy.json) כדי ליצור אותו ישירות. (***הערה:*** שירות Azure AI Agent מוגבל כרגע לאזורים מסוימים. מומלץ לעיין [בקישור הזה](https://learn.microsoft.com/en-us/azure/ai-services/agents/concepts/model-region-support) כדי להגדיר את האזור).\n",
    "\n",
    "הסוכן צריך גישה ל-SERPAPI. מומלץ להירשם באמצעות [הקישור הזה](https://serpapi.com/searches). לאחר ההרשמה, תוכלו לקבל מפתח API ייחודי ונקודת קצה.\n"
   ]
  },
  {
   "cell_type": "markdown",
   "metadata": {},
   "source": [
    "# התחברות ל-Azure\n",
    "\n",
    "כעת עליך להתחבר ל-Azure. פתח מסוף ב-VScode והרץ את הפקודה `az login`.\n"
   ]
  },
  {
   "cell_type": "markdown",
   "metadata": {},
   "source": [
    "# התקנה\n",
    "\n",
    "כדי להפעיל את המחברת הזו, תצטרכו להתקין את הספריות הבאות. להלן רשימת הספריות הנדרשות והפקודות המתאימות להתקנה באמצעות pip:\n",
    "\n",
    "azure-identity: לאימות מול Azure.  \n",
    "requests: לביצוע בקשות HTTP.  \n",
    "semantic-kernel: עבור מסגרת העבודה של ה-Semantic Kernel (בהנחה שמדובר בספרייה מותאמת אישית או ספציפית, ייתכן שתצטרכו להתקין אותה ממקור או מאגר מסוים).  \n"
   ]
  },
  {
   "cell_type": "code",
   "execution_count": null,
   "metadata": {},
   "outputs": [],
   "source": [
    "!pip install azure-identity\n",
    "!pip install requests\n",
    "!pip install semantic-kernel\n",
    "!pip install --upgrade semantic_kernel\n",
    "!pip install azure-cli"
   ]
  },
  {
   "cell_type": "markdown",
   "metadata": {},
   "source": [
    "# הסבר:\n",
    "import asyncio: זה מייבא את המודול asyncio, שמספק תמיכה בתכנות אסינכרוני בפייתון. הוא מאפשר לך לכתוב קוד מקבילי באמצעות התחביר async ו-await.  \n",
    "from typing: Annotated: זה מייבא את הסוג Annotated ממודול typing. Annotated משמש להוספת מטא-נתונים לרמזי סוגים, מה שיכול להיות שימושי למטרות שונות כמו ולידציה, תיעוד או כלי עבודה.  \n"
   ]
  },
  {
   "cell_type": "code",
   "execution_count": null,
   "metadata": {
    "dotnet_interactive": {
     "language": "csharp"
    },
    "polyglot_notebook": {
     "kernelName": "csharp"
    }
   },
   "outputs": [],
   "source": [
    "import asyncio,os\n",
    "from typing import Annotated"
   ]
  },
  {
   "cell_type": "markdown",
   "metadata": {},
   "source": [
    "# הסבר:\n",
    "על ידי שימוש ב-`from dotenv import load_dotenv` וב-`load_dotenv()`, ניתן לנהל בקלות הגדרות תצורה ומידע רגיש (כמו מפתחות API וכתובות URL של בסיסי נתונים) בקובץ `.env`, לשמור אותם בנפרד מקוד המקור ולהפוך את האפליקציה שלך לבטוחה יותר וקלה יותר להגדרה.\n"
   ]
  },
  {
   "cell_type": "code",
   "execution_count": null,
   "metadata": {},
   "outputs": [],
   "source": [
    "import os\n",
    "from dotenv import load_dotenv\n",
    "\n",
    "# Load environment variables from .env file\n",
    "load_dotenv()"
   ]
  },
  {
   "cell_type": "markdown",
   "metadata": {},
   "source": [
    "# הסבר:\n",
    "\n",
    "הצהרת ייבוא: from azure.identity.aio import DefaultAzureCredential: ייבוא זה כולל את המחלקה DefaultAzureCredential מתוך המודול azure.identity.aio. החלק aio בשם המודול מציין שהוא מיועד לפעולות אסינכרוניות.\n",
    "\n",
    "מטרת DefaultAzureCredential: המחלקה DefaultAzureCredential היא חלק מ-SDK של Azure עבור Python. היא מספקת דרך ברירת מחדל לאימות מול שירותי Azure. המחלקה מנסה לבצע אימות באמצעות מספר שיטות בסדר מסוים, כמו משתני סביבה, זהות מנוהלת, ואישורי Azure CLI.\n",
    "\n",
    "פעולות אסינכרוניות: המודול aio מציין שהמחלקה DefaultAzureCredential תומכת בפעולות אסינכרוניות. המשמעות היא שניתן להשתמש בה יחד עם asyncio כדי לבצע בקשות אימות שאינן חוסמות את התהליך.\n"
   ]
  },
  {
   "cell_type": "code",
   "execution_count": null,
   "metadata": {
    "dotnet_interactive": {
     "language": "csharp"
    },
    "polyglot_notebook": {
     "kernelName": "csharp"
    }
   },
   "outputs": [],
   "source": [
    "from azure.identity.aio import DefaultAzureCredential"
   ]
  },
  {
   "cell_type": "markdown",
   "metadata": {},
   "source": [
    "# הסבר:\n",
    "ייבוא של מודולים ומחלקות שונים מתוך חבילת semantic_kernel. הנה פירוט של כל ייבוא:\n",
    "\n",
    "AgentGroupChat מתוך semantic_kernel.agents: מחלקה זו מטפלת בפונקציונליות הקשורה לצ'אט קבוצתי עבור סוכני AI. AzureAIAgent ו-AzureAIAgentSettings מתוך semantic_kernel.agents.azure_ai\n",
    "\n",
    "AzureAIAgent: מחלקה זו משמשת ליצירה וניהול של סוכני AI המשתמשים בשירותי Azure AI.\n",
    "\n",
    "AzureAIAgentSettings: מחלקה זו משמשת להגדרת ההגדרות עבור AzureAIAgent. TerminationStrategy מתוך semantic_kernel.agents.strategies.termination.termination_strategy:\n",
    "\n",
    "מחלקה זו מגדירה אסטרטגיות לסיום הביצוע של סוכני AI בתנאים מסוימים. ChatMessageContent מתוך semantic_kernel.contents.chat_message_content:\n",
    "\n",
    "מחלקה זו משמשת לניהול התוכן של הודעות צ'אט.\n",
    "AuthorRole מתוך semantic_kernel.contents.utils.author_role:\n",
    "\n",
    "מחלקה זו מגדירה תפקידים שונים עבור מחברים בהקשר של הודעות צ'אט.\n",
    "\n",
    "kernel_function מתוך semantic_kernel.functions.kernel_function_decorator: דקורטור זה משמש להגדרת פונקציות ליבה, שהן פונקציות שניתן לבצע במסגרת semantic kernel.\n",
    "ייבוא אלה מכינים את הרכיבים הנדרשים ליצירה וניהול של סוכני AI שיכולים לתקשר בסביבת צ'אט קבוצתי, אולי עבור משימות כמו הזמנת מלונות או פעילויות דומות.\n"
   ]
  },
  {
   "cell_type": "code",
   "execution_count": null,
   "metadata": {
    "dotnet_interactive": {
     "language": "csharp"
    },
    "polyglot_notebook": {
     "kernelName": "csharp"
    }
   },
   "outputs": [],
   "source": [
    "from semantic_kernel.agents import AgentGroupChat\n",
    "from semantic_kernel.agents import AzureAIAgent, AzureAIAgentSettings\n",
    "from semantic_kernel.agents.strategies.termination.termination_strategy import TerminationStrategy\n",
    "from semantic_kernel.contents import ChatMessageContent\n",
    "from semantic_kernel.contents import AuthorRole\n",
    "from semantic_kernel.functions.kernel_function_decorator import kernel_function"
   ]
  },
  {
   "cell_type": "markdown",
   "metadata": {},
   "source": [
    "# הסבר:\n",
    "כעת אנו מייבאים את המחלקה CodeInterpreterTool מתוך המודול azure.ai.projects.models.\n",
    "\n",
    "CodeInterpreterTool: מחלקה זו היא חלק מ-SDK של Azure AI ומשמשת לפרש ולהריץ קוד בהקשר של פרויקטים מבוססי AI. היא מספקת יכולות להרצת קטעי קוד, ניתוח קוד או שילוב ביצוע קוד בתוך זרימות עבודה של AI.  \n",
    "ייבוא זה מכין את הרכיב הדרוש לשימוש ב-CodeInterpreterTool בפרויקט שלך, מה שיכול להיות שימושי למשימות הכוללות פרשנות והרצה דינמית של קוד.\n"
   ]
  },
  {
   "cell_type": "code",
   "execution_count": null,
   "metadata": {
    "dotnet_interactive": {
     "language": "csharp"
    },
    "polyglot_notebook": {
     "kernelName": "csharp"
    }
   },
   "outputs": [],
   "source": [
    "from azure.ai.projects.models import CodeInterpreterTool"
   ]
  },
  {
   "cell_type": "markdown",
   "metadata": {},
   "source": [
    "# הסבר:  \n",
    "מחלקת ApprovalTerminationStrategy מספקת אסטרטגיה ספציפית להפסקת פעולתו של סוכן AI. הסוכן יפסיק לפעול אם ההודעה האחרונה בהיסטוריית האינטראקציות שלו מכילה את המילה \"נשמר\". זה יכול להיות שימושי בתרחישים שבהם המשימה של הסוכן נחשבת להושלמה ברגע שהוא מקבל אישור שמשהו \"נשמר\".  \n",
    "הגדר את שיטת האינטראקציה. לאחר שתוכנית ההזמנה נשמרת, ניתן להפסיק את הפעולה כאשר מתקבל האות \"נשמר\".  \n"
   ]
  },
  {
   "cell_type": "code",
   "execution_count": null,
   "metadata": {
    "dotnet_interactive": {
     "language": "csharp"
    },
    "polyglot_notebook": {
     "kernelName": "csharp"
    }
   },
   "outputs": [],
   "source": [
    "class ApprovalTerminationStrategy(TerminationStrategy):\n",
    "    \"\"\"A strategy for determining when an agent should terminate.\"\"\"\n",
    "\n",
    "    async def should_agent_terminate(self, agent, history):\n",
    "        \"\"\"Check if the agent should terminate.\"\"\"\n",
    "        return \"saved\" in history[-1].content.lower()"
   ]
  },
  {
   "cell_type": "markdown",
   "metadata": {},
   "source": [
    "# הסבר:\n",
    "\n",
    "שורת הקוד מאתחלת אובייקט מסוג AzureAIAgentSettings עם הגדרות ברירת מחדל או הגדרות מוגדרות מראש על ידי קריאה למתודה create(). אובייקט ההגדרות הזה (ai_agent_settings) יכול לשמש לאחר מכן כדי להגדיר ולנהל מופע של AzureAIAgent.\n"
   ]
  },
  {
   "cell_type": "code",
   "execution_count": null,
   "metadata": {
    "dotnet_interactive": {
     "language": "csharp"
    },
    "polyglot_notebook": {
     "kernelName": "csharp"
    }
   },
   "outputs": [],
   "source": [
    "ai_agent_settings = AzureAIAgentSettings.create()"
   ]
  },
  {
   "cell_type": "markdown",
   "metadata": {},
   "source": [
    "# הסבר:\n",
    "על ידי ייבוא ספריית requests, ניתן לבצע בקשות HTTP בקלות ולתקשר עם שירותי אינטרנט בקוד Python שלך.\n"
   ]
  },
  {
   "cell_type": "code",
   "execution_count": null,
   "metadata": {
    "dotnet_interactive": {
     "language": "csharp"
    },
    "polyglot_notebook": {
     "kernelName": "csharp"
    }
   },
   "outputs": [],
   "source": [
    "import requests"
   ]
  },
  {
   "cell_type": "markdown",
   "metadata": {},
   "source": [
    "# הסבר:\n",
    "זוהי משתנה שמאחסן את מפתח ה-API לצורך גישה לשירות SERP (דף תוצאות מנוע חיפוש). מפתח API הוא מזהה ייחודי המשמש לאימות בקשות הקשורות לחשבון שלך.\n",
    "\n",
    "'GOOGLE_SEARCH_API_KEY': זהו מחרוזת מציינת מקום. עליך להחליף את ''GOOGLE_SEARCH_API_KEY' במפתח ה-SERP API האמיתי שלך.\n",
    "\n",
    "מטרה: המטרה של שורה זו היא לאחסן את מפתח ה-API במשתנה כך שניתן יהיה להשתמש בו לאימות בקשות לשירות ה-SERP API. מפתח ה-API נדרש כדי לגשת לשירות ולבצע חיפושים.\n",
    "\n",
    "כיצד להשיג מפתח SERP API: כדי להשיג מפתח SERP API, בצע את השלבים הכלליים הבאים באתר https://serpapi.com (ייתכן שהשלבים המדויקים ישתנו בהתאם לשירות ה-SERP API הספציפי שבו אתה משתמש):\n",
    "\n",
    "בחר שירות SERP API: קיימים מספר שירותי SERP API זמינים, כמו SerpAPI, Google Custom Search JSON API ואחרים. בחר את השירות שמתאים ביותר לצרכים שלך.\n",
    "\n",
    "הירשם לחשבון:\n",
    "\n",
    "גש לאתר של שירות ה-SERP API שבחרת https://www.serpapi.com והירשם לחשבון. ייתכן שתצטרך לספק מידע בסיסי ולאמת את כתובת הדוא\"ל שלך.\n",
    "\n",
    "צור מפתח API:\n",
    "\n",
    "לאחר ההרשמה, היכנס לחשבונך ונווט לחלק ה-API או ללוח הבקרה. חפש אפשרות ליצור או להפיק מפתח API חדש.\n",
    "העתק את מפתח ה-API:\n",
    "\n",
    "לאחר שמפתח ה-API נוצר, העתק אותו. מפתח זה ישמש לאימות הבקשות שלך לשירות ה-SERP API.\n",
    "החלף את מציין המקום:\n",
    "\n",
    "החלף את מציין המקום בקובץ ה-.env שלך.\n"
   ]
  },
  {
   "cell_type": "code",
   "execution_count": null,
   "metadata": {
    "dotnet_interactive": {
     "language": "csharp"
    },
    "polyglot_notebook": {
     "kernelName": "csharp"
    }
   },
   "outputs": [],
   "source": [
    "SERPAPI_SEARCH_API_KEY=os.getenv('SERPAPI_SEARCH_API_KEY')"
   ]
  },
  {
   "cell_type": "code",
   "execution_count": null,
   "metadata": {
    "dotnet_interactive": {
     "language": "csharp"
    },
    "polyglot_notebook": {
     "kernelName": "csharp"
    }
   },
   "outputs": [],
   "source": [
    "SERPAPI_SEARCH_ENDPOINT = os.getenv('SERPAPI_SEARCH_ENDPOINT')"
   ]
  },
  {
   "cell_type": "markdown",
   "metadata": {},
   "source": [
    "# הסבר:\n",
    "המחלקה BookingPlugin מספקת שיטות להזמנת מלונות וטיסות באמצעות ה-API של Serpapi.com לחיפוש בגוגל. היא בונה את הפרמטרים הנדרשים, שולחת בקשות API, ומעבדת את התגובות כדי להחזיר מידע רלוונטי להזמנות. מפתח ה-API (SERPAPI_SEARCH_API_KEY) ונקודת הקצה (SERPAPI_SEARCH_ENDPOINT) משמשים לאימות ושליחת בקשות ל-API של חיפוש בגוגל.\n"
   ]
  },
  {
   "cell_type": "code",
   "execution_count": null,
   "metadata": {
    "dotnet_interactive": {
     "language": "csharp"
    },
    "polyglot_notebook": {
     "kernelName": "csharp"
    }
   },
   "outputs": [],
   "source": [
    "# Define Booking Plugin\n",
    "class BookingPlugin:\n",
    "    \"\"\"Booking Plugin for customers\"\"\"\n",
    "    @kernel_function(description=\"booking hotel\")\n",
    "    def booking_hotel(self,query: Annotated[str, \"The name of the city\"], check_in_date: Annotated[str, \"Hotel Check-in Time\"], check_out_date: Annotated[str, \"Hotel Check-in Time\"])-> Annotated[str, \"Return the result of booking hotel infomation\"]:\n",
    "\n",
    "        params = {\n",
    "            \"engine\": \"google_hotels\",\n",
    "            \"q\": query,\n",
    "            \"check_in_date\": check_in_date,\n",
    "            \"check_out_date\": check_out_date,\n",
    "            \"adults\": \"2\",\n",
    "            \"currency\": \"USD\",\n",
    "            \"gl\": \"us\",\n",
    "            \"hl\": \"en\",\n",
    "            \"api_key\": SERPAPI_SEARCH_API_KEY\n",
    "        }\n",
    "\n",
    "        response = requests.get(SERPAPI_SEARCH_ENDPOINT, params=params)\n",
    "        if response.status_code == 200:\n",
    "            response = response.json()\n",
    "            return response[\"properties\"]\n",
    "        else:\n",
    "            return None\n",
    "\n",
    "    \n",
    "    @kernel_function(description=\"booking fight\")\n",
    "    def  booking_fight(self,origin: Annotated[str, \"The name of Departure\"], destination: Annotated[str, \"The name of Destination\"], outbound_date: Annotated[str, \"The date of outbound\"], return_date: Annotated[str, \"The date of Return_date\"])-> Annotated[str, \"Return the result of booking fight infomation\"]:\n",
    "        \n",
    "        go_params = {\n",
    "            \"engine\": \"google_flights\",   \n",
    "            \"departure_id\": origin,\n",
    "            \"arrival_id\": destination,\n",
    "            \"outbound_date\": outbound_date,\n",
    "            \"return_date\": return_date,  \n",
    "            \"currency\": \"USD\",\n",
    "            \"hl\": \"en\",\n",
    "            \"api_key\": SERPAPI_SEARCH_API_KEY  \n",
    "        }\n",
    "\n",
    "        print(go_params)\n",
    "\n",
    "        go_response = requests.get(SERPAPI_SEARCH_ENDPOINT, params=go_params)\n",
    "\n",
    "\n",
    "        result = ''\n",
    "\n",
    "        if go_response.status_code == 200:\n",
    "            response = go_response.json()\n",
    "\n",
    "            result += \"# outbound \\n \" + str(response)\n",
    "        else:\n",
    "            print('error!!!')\n",
    "            # return None\n",
    "\n",
    "        \n",
    "        back_params = {\n",
    "            \"engine\": \"google_flights\",   \n",
    "            \"departure_id\": destination,\n",
    "            \"arrival_id\": origin,\n",
    "            \"outbound_date\": return_date,\n",
    "            \"return_date\": return_date,  \n",
    "            \"currency\": \"USD\",\n",
    "            \"hl\": \"en\",\n",
    "            \"api_key\": SERPAPI_SEARCH_API_KEY  \n",
    "        }\n",
    "\n",
    "\n",
    "        print(back_params)\n",
    "\n",
    "\n",
    "        back_response = requests.get(SERPAPI_SEARCH_ENDPOINT, params=back_params)\n",
    "\n",
    "\n",
    "\n",
    "        if back_response.status_code == 200:\n",
    "            response = back_response.json()\n",
    "\n",
    "            result += \"\\n # return \\n\"  + str(response)\n",
    "\n",
    "        else:\n",
    "            print('error!!!')\n",
    "            # return None\n",
    "        \n",
    "        print(result)\n",
    "\n",
    "        return result\n",
    "\n",
    "        \n"
   ]
  },
  {
   "cell_type": "markdown",
   "metadata": {},
   "source": [
    "# הסבר:\n",
    "מחלקת SavePlugin מספקת את השיטה saving_plan לשמירת תוכניות טיול באמצעות שירותי Azure AI. היא מגדירה אישורי Azure, יוצרת סוכן AI, מעבדת קלטים מהמשתמש ליצירת תוכן תוכנית הטיול ושומרת אותו, ומטפלת בפעולות שמירה וניקוי קבצים. השיטה מחזירה \"Saved\" עם השלמתה בהצלחה.\n"
   ]
  },
  {
   "cell_type": "code",
   "execution_count": null,
   "metadata": {
    "dotnet_interactive": {
     "language": "csharp"
    },
    "polyglot_notebook": {
     "kernelName": "csharp"
    }
   },
   "outputs": [],
   "source": [
    "class SavePlugin:\n",
    "    \"\"\"Save Plugin for customers\"\"\"\n",
    "    @kernel_function(description=\"saving plan\")\n",
    "    async def saving_plan(self,tripplan: Annotated[str, \"The content of trip plan\"])-> Annotated[str, \"Return status of save content\"]:\n",
    "\n",
    "        async with (\n",
    "            DefaultAzureCredential() as creds,\n",
    "            AzureAIAgent.create_client(\n",
    "                credential=creds,\n",
    "                conn_str=ai_agent_settings.project_connection_string.get_secret_value(),\n",
    "            ) as client,\n",
    "        ):\n",
    "\n",
    "            code_interpreter = CodeInterpreterTool()\n",
    "            \n",
    "            agent_definition = await client.agents.create_agent(\n",
    "                model=ai_agent_settings.model_deployment_name,\n",
    "                tools=code_interpreter.definitions,\n",
    "                tool_resources=code_interpreter.resources,\n",
    "            )\n",
    "\n",
    "\n",
    "            agent = AzureAIAgent(\n",
    "                client=client,\n",
    "                definition=agent_definition,\n",
    "            )\n",
    "\n",
    "            thread = await client.agents.create_thread()\n",
    "\n",
    "\n",
    "            user_inputs = [\n",
    "                \"\"\"\n",
    "            \n",
    "                        You are my Python programming assistant. Generate code,save \"\"\"+ tripplan +\n",
    "                        \n",
    "                    \"\"\"    \n",
    "                        and execute it according to the following requirements\n",
    "\n",
    "                        1. Save blog content to trip-{YYMMDDHHMMSS}.md\n",
    "\n",
    "                        2. give me the download this file link\n",
    "                    \"\"\"\n",
    "            ]\n",
    "\n",
    "\n",
    "\n",
    "            try:\n",
    "                for user_input in user_inputs:\n",
    "                    # Add the user input as a chat message\n",
    "                    await agent.add_chat_message(\n",
    "                        thread_id=thread.id, message=ChatMessageContent(role=AuthorRole.USER, content=user_input)\n",
    "                    )\n",
    "                    print(f\"# User: '{user_input}'\")\n",
    "                    # Invoke the agent for the specified thread\n",
    "                    async for content in agent.invoke(thread_id=thread.id):\n",
    "                        if content.role != AuthorRole.TOOL:\n",
    "                            print(f\"# Agent: {content.content}\")\n",
    "\n",
    "                    \n",
    "                    messages = await client.agents.list_messages(thread_id=thread.id)\n",
    "\n",
    "                    # OpenAIPageableListOfThreadMessage\n",
    "                    # OpenAIPageableListOfThreadMessage\n",
    "\n",
    "\n",
    "                    for file_path_annotation in messages.file_path_annotations:\n",
    "\n",
    "                            file_name = os.path.basename(file_path_annotation.text)\n",
    "\n",
    "                            await client.agents.save_file(file_id=file_path_annotation.file_path.file_id, file_name=file_name,target_dir=\"./trip\")\n",
    "\n",
    "                    \n",
    "            finally:\n",
    "                await client.agents.delete_thread(thread.id)\n",
    "                await client.agents.delete_agent(agent.id)\n",
    "\n",
    "\n",
    "        return \"Saved\""
   ]
  },
  {
   "cell_type": "markdown",
   "metadata": {},
   "source": [
    "# הסבר:\n",
    "הקוד הזה מגדיר סוכנים של Azure AI לטיפול בהזמנת טיסות ומלונות, ושמירת תוכניות נסיעה בהתבסס על קלטי משתמש. הוא משתמש באישורי Azure כדי ליצור ולהגדיר את הסוכנים, מעבד קלטי משתמש דרך צ'אט קבוצתי, ומבטיח ניקוי נכון לאחר השלמת המשימות. הסוכנים משתמשים בתוספים ספציפיים (BookingPlugin ו-SavePlugin) לביצוע המשימות שלהם.\n"
   ]
  },
  {
   "cell_type": "code",
   "execution_count": null,
   "metadata": {
    "dotnet_interactive": {
     "language": "csharp"
    },
    "polyglot_notebook": {
     "kernelName": "csharp"
    }
   },
   "outputs": [],
   "source": [
    "async with (\n",
    "    DefaultAzureCredential() as creds,\n",
    "    AzureAIAgent.create_client(\n",
    "        credential=creds,\n",
    "        conn_str=ai_agent_settings.project_connection_string.get_secret_value(),\n",
    "    ) as client,\n",
    "):\n",
    "    BOOKING_AGENT_NAME = \"BookingAgent\"\n",
    "    BOOKING_AGENT_INSTRUCTIONS = \"\"\"\n",
    "    You are a booking agent. Help me book flights or hotels.\n",
    "\n",
    "    Thought: Please understand the user's intention and confirm whether to use the reservation system to complete the task.\n",
    "\n",
    "    Actions:\n",
    "    - For flight bookings, convert the departure and destination names into airport codes.\n",
    "    - Use the appropriate API for hotel or flight bookings. Verify that all necessary parameters are available. If any parameters are missing, ask the user to provide them. If all parameters are complete, call the corresponding function.\n",
    "    - If the task is not related to hotel or flight booking, respond with the final answer only.\n",
    "    - Output the results using a markdown table:\n",
    "      - For flight bookings, output separate outbound and return contents in the order of:\n",
    "        Departure Airport | Airline | Flight Number | Departure Time | Arrival Airport | Arrival Time | Duration | Airplane | Travel Class | Price (USD) | Legroom | Extensions | Carbon Emissions (kg).\n",
    "      - For hotel bookings, output in the order of:\n",
    "        Property Name | Property Description | Check-in Time | Check-out Time | Prices | Nearby Places | Hotel Class | GPS Coordinates.\n",
    "    \"\"\"\n",
    "\n",
    "    SAVE_AGENT_NAME = \"SaveAgent\"\n",
    "    SAVE_AGENT_INSTRUCTIONS = \"\"\"\n",
    "    You are a save tool agent. Help me to save the trip plan.\n",
    "    \"\"\"\n",
    "\n",
    "    # Create agent definition\n",
    "    booking_agent_definition = await client.agents.create_agent(\n",
    "        model=ai_agent_settings.model_deployment_name,\n",
    "        name=BOOKING_AGENT_NAME,\n",
    "        instructions=BOOKING_AGENT_INSTRUCTIONS,\n",
    "    )\n",
    "\n",
    "    # Create the AzureAI Agent\n",
    "    booking_agent = AzureAIAgent(\n",
    "        client=client,\n",
    "        definition=booking_agent_definition,\n",
    "        # Optionally configure polling options\n",
    "        # polling_options=RunPollingOptions(run_polling_interval=timedelta(seconds=1)),\n",
    "    )\n",
    "\n",
    "    # Add the sample plugin to the kernel\n",
    "    booking_agent.kernel.add_plugin(BookingPlugin(), plugin_name=\"booking\")\n",
    "\n",
    "    # Create agent definition\n",
    "    save_agent_definition = await client.agents.create_agent(\n",
    "        model=ai_agent_settings.model_deployment_name,\n",
    "        name=SAVE_AGENT_NAME,\n",
    "        instructions=SAVE_AGENT_INSTRUCTIONS\n",
    "    )\n",
    "\n",
    "    # Create the AzureAI Agent\n",
    "    save_agent = AzureAIAgent(\n",
    "        client=client,\n",
    "        definition=save_agent_definition,\n",
    "    )\n",
    "\n",
    "    save_agent.kernel.add_plugin(SavePlugin(), plugin_name=\"saving\")\n",
    "\n",
    "    user_inputs = [\n",
    "        \"I have a business trip from London to New York in Feb 20 2025 to Feb 27 2025 ,help me to book a hotel and fight tickets and save it\"\n",
    "    ]\n",
    "\n",
    "    chat = AgentGroupChat(\n",
    "        agents=[booking_agent, save_agent],\n",
    "        termination_strategy=ApprovalTerminationStrategy(agents=[save_agent], maximum_iterations=10),\n",
    "    )\n",
    "\n",
    "    try:\n",
    "        for user_input in user_inputs:\n",
    "            # Add the user input as a chat message\n",
    "            await chat.add_chat_message(\n",
    "                ChatMessageContent(role=AuthorRole.USER, content=user_input)\n",
    "            )\n",
    "            print(f\"# User: '{user_input}'\")\n",
    "\n",
    "            async for content in chat.invoke():\n",
    "                print(f\"# {content.role} - {content.name or '*'}: '{content.content}'\")\n",
    "\n",
    "            print(f\"# IS COMPLETE: {chat.is_complete}\")\n",
    "\n",
    "            print(\"*\" * 60)\n",
    "            print(\"Chat History (In Descending Order):\\n\")\n",
    "            async for message in chat.get_chat_messages(agent=save_agent):\n",
    "                print(f\"# {message.role} - {message.name or '*'}: '{message.content}'\")\n",
    "    finally:\n",
    "        await chat.reset()\n",
    "        await client.agents.delete_agent(save_agent.id)\n",
    "        await client.agents.delete_agent(booking_agent.id)\n"
   ]
  },
  {
   "cell_type": "markdown",
   "metadata": {},
   "source": [
    "\n---\n\n**כתב ויתור**:  \nמסמך זה תורגם באמצעות שירות תרגום מבוסס בינה מלאכותית [Co-op Translator](https://github.com/Azure/co-op-translator). למרות שאנו שואפים לדיוק, יש לקחת בחשבון שתרגומים אוטומטיים עשויים להכיל שגיאות או אי-דיוקים. המסמך המקורי בשפתו המקורית נחשב למקור הסמכותי. למידע קריטי, מומלץ להשתמש בתרגום מקצועי על ידי מתרגם אנושי. איננו נושאים באחריות לכל אי-הבנה או פרשנות שגויה הנובעת משימוש בתרגום זה.\n"
   ]
  }
 ],
 "metadata": {
  "kernelspec": {
   "display_name": "3.12.1",
   "language": "python",
   "name": "python3"
  },
  "language_info": {
   "codemirror_mode": {
    "name": "ipython",
    "version": 3
   },
   "file_extension": ".py",
   "mimetype": "text/x-python",
   "name": "python",
   "nbconvert_exporter": "python",
   "pygments_lexer": "ipython3",
   "version": "3.12.1"
  },
  "polyglot_notebook": {
   "kernelInfo": {
    "defaultKernelName": "csharp",
    "items": [
     {
      "aliases": [],
      "name": "csharp"
     }
    ]
   }
  },
  "coopTranslator": {
   "original_hash": "1baa60020a95eda27b7e9ecfda99965b",
   "translation_date": "2025-08-29T19:02:48+00:00",
   "source_file": "08-multi-agent/code_samples/08-python_multi_aiagent_bookinghotel.ipynb",
   "language_code": "he"
  }
 },
 "nbformat": 4,
 "nbformat_minor": 2
}