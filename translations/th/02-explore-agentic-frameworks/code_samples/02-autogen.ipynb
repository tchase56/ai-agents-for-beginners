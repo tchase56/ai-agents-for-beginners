{
 "cells": [
  {
   "cell_type": "markdown",
   "metadata": {},
   "source": [
    "# ตัวอย่างพื้นฐานของ AutoGen\n",
    "\n",
    "ในตัวอย่างโค้ดนี้ คุณจะใช้ [AutoGen](https://aka.ms/ai-agents/autogen) AI Framework เพื่อสร้างตัวแทนพื้นฐาน\n",
    "\n",
    "เป้าหมายของตัวอย่างนี้คือการแสดงขั้นตอนที่เราจะใช้ในตัวอย่างโค้ดเพิ่มเติมในภายหลังเมื่อดำเนินการรูปแบบตัวแทนต่างๆ\n"
   ]
  },
  {
   "cell_type": "markdown",
   "metadata": {},
   "source": [
    "## นำเข้าแพ็คเกจ Python ที่จำเป็น\n"
   ]
  },
  {
   "cell_type": "code",
   "execution_count": null,
   "metadata": {},
   "outputs": [],
   "source": [
    "import os\n",
    "from dotenv import load_dotenv\n",
    "\n",
    "from autogen_agentchat.agents import AssistantAgent\n",
    "from autogen_core.models import UserMessage\n",
    "from autogen_ext.models.azure import AzureAIChatCompletionClient\n",
    "from azure.core.credentials import AzureKeyCredential\n",
    "from autogen_core import CancellationToken\n",
    "\n",
    "from autogen_agentchat.messages import TextMessage\n",
    "from autogen_agentchat.ui import Console\n"
   ]
  },
  {
   "cell_type": "markdown",
   "metadata": {},
   "source": [
    "## สร้าง Client\n",
    "\n",
    "ในตัวอย่างนี้ เราจะใช้ [GitHub Models](https://aka.ms/ai-agents-beginners/github-models) เพื่อเข้าถึง LLM\n",
    "\n",
    "`model` ถูกกำหนดเป็น `gpt-4o-mini` ลองเปลี่ยนไปใช้โมเดลอื่นที่มีอยู่ใน GitHub Models marketplace เพื่อดูผลลัพธ์ที่แตกต่างกัน\n",
    "\n",
    "เพื่อทดสอบอย่างรวดเร็ว เราจะลองรันคำสั่งง่ายๆ - `What is the capital of France`\n"
   ]
  },
  {
   "cell_type": "code",
   "execution_count": null,
   "metadata": {},
   "outputs": [],
   "source": [
    "load_dotenv()\n",
    "client = AzureAIChatCompletionClient(\n",
    "    model=\"gpt-4o-mini\",\n",
    "    endpoint=\"https://models.inference.ai.azure.com\",\n",
    "    # To authenticate with the model you will need to generate a personal access token (PAT) in your GitHub settings.\n",
    "    # Create your PAT token by following instructions here: https://docs.github.com/en/authentication/keeping-your-account-and-data-secure/managing-your-personal-access-tokens\n",
    "    credential=AzureKeyCredential(os.getenv(\"GITHUB_TOKEN\")),\n",
    "    model_info={\n",
    "        \"json_output\": True,\n",
    "        \"function_calling\": True,\n",
    "        \"vision\": True,\n",
    "        \"family\": \"unknown\",\n",
    "    },\n",
    ")\n",
    "\n",
    "result = await client.create([UserMessage(content=\"What is the capital of France?\", source=\"user\")])\n",
    "print(result)"
   ]
  },
  {
   "cell_type": "markdown",
   "metadata": {},
   "source": [
    "## การกำหนด Agent\n",
    "\n",
    "ตอนนี้ที่เราได้ตั้งค่า `client` และยืนยันแล้วว่ามันทำงานได้ เรามาสร้าง `AssistantAgent` กัน แต่ละ agent สามารถกำหนดได้ดังนี้:\n",
    "**name** - ชื่อย่อที่ใช้สำหรับอ้างอิงในกรณีที่มีการทำงานร่วมกันของหลาย agent\n",
    "**model_client** - client ที่คุณสร้างไว้ในขั้นตอนก่อนหน้า\n",
    "**tools** - เครื่องมือที่ Agent สามารถใช้เพื่อทำงานให้สำเร็จ\n",
    "**system_message** - ข้อความระบบที่กำหนดงาน พฤติกรรม และโทนของ LLM\n",
    "\n",
    "คุณสามารถเปลี่ยนข้อความระบบเพื่อดูว่า LLM ตอบสนองอย่างไร เราจะพูดถึง `tools` ในบทเรียนที่ 4\n"
   ]
  },
  {
   "cell_type": "code",
   "execution_count": null,
   "metadata": {},
   "outputs": [],
   "source": [
    "agent = AssistantAgent(\n",
    "    name=\"assistant\",\n",
    "    model_client=client,\n",
    "    tools=[],\n",
    "    system_message=\"You are a travel agent that plans great vacations\",\n",
    ")"
   ]
  },
  {
   "cell_type": "markdown",
   "metadata": {},
   "source": [
    "## การรัน Agent\n",
    "\n",
    "ฟังก์ชันด้านล่างนี้จะใช้สำหรับการรัน Agent โดยเราจะใช้เมธอด `on_message` เพื่ออัปเดตสถานะของ Agent ด้วยข้อความใหม่\n",
    "\n",
    "ในกรณีนี้ เราอัปเดตสถานะด้วยข้อความใหม่จากผู้ใช้ ซึ่งก็คือ `\"Plan me a great sunny vacation\"`\n",
    "\n",
    "คุณสามารถเปลี่ยนเนื้อหาของข้อความเพื่อดูว่า LLM ตอบสนองแตกต่างกันอย่างไร\n"
   ]
  },
  {
   "cell_type": "code",
   "execution_count": null,
   "metadata": {},
   "outputs": [],
   "source": [
    "from IPython.display import display, HTML\n",
    "\n",
    "\n",
    "async def assistant_run():\n",
    "    # Define the query\n",
    "    user_query = \"Plan me a great sunny vacation\"\n",
    "\n",
    "    # Start building HTML output\n",
    "    html_output = \"<div style='margin-bottom:10px'>\"\n",
    "    html_output += \"<div style='font-weight:bold'>User:</div>\"\n",
    "    html_output += f\"<div style='margin-left:20px'>{user_query}</div>\"\n",
    "    html_output += \"</div>\"\n",
    "\n",
    "    # Execute the agent response\n",
    "    response = await agent.on_messages(\n",
    "        [TextMessage(content=user_query, source=\"user\")],\n",
    "        cancellation_token=CancellationToken(),\n",
    "    )\n",
    "\n",
    "    # Add agent response to HTML\n",
    "    html_output += \"<div style='margin-bottom:20px'>\"\n",
    "    html_output += \"<div style='font-weight:bold'>Assistant:</div>\"\n",
    "    html_output += f\"<div style='margin-left:20px; white-space:pre-wrap'>{response.chat_message.content}</div>\"\n",
    "    html_output += \"</div>\"\n",
    "\n",
    "    # Display formatted HTML\n",
    "    display(HTML(html_output))\n",
    "\n",
    "# Run the function\n",
    "await assistant_run()"
   ]
  },
  {
   "cell_type": "markdown",
   "metadata": {},
   "source": [
    "\n---\n\n**ข้อจำกัดความรับผิดชอบ**:  \nเอกสารนี้ได้รับการแปลโดยใช้บริการแปลภาษา AI [Co-op Translator](https://github.com/Azure/co-op-translator) แม้ว่าเราจะพยายามให้การแปลมีความถูกต้อง แต่โปรดทราบว่าการแปลอัตโนมัติอาจมีข้อผิดพลาดหรือความไม่แม่นยำ เอกสารต้นฉบับในภาษาต้นทางควรถือเป็นแหล่งข้อมูลที่เชื่อถือได้ สำหรับข้อมูลที่สำคัญ ขอแนะนำให้ใช้บริการแปลภาษามนุษย์มืออาชีพ เราจะไม่รับผิดชอบต่อความเข้าใจผิดหรือการตีความที่ผิดพลาดซึ่งเกิดจากการใช้การแปลนี้\n"
   ]
  }
 ],
 "metadata": {
  "kernelspec": {
   "display_name": ".venv (3.12.11)",
   "language": "python",
   "name": "python3"
  },
  "language_info": {
   "codemirror_mode": {
    "name": "ipython",
    "version": 3
   },
   "file_extension": ".py",
   "mimetype": "text/x-python",
   "name": "python",
   "nbconvert_exporter": "python",
   "pygments_lexer": "ipython3",
   "version": "3.12.11"
  },
  "coopTranslator": {
   "original_hash": "aef8b2779015ef9099d6ee3cdacbb35d",
   "translation_date": "2025-08-29T16:55:17+00:00",
   "source_file": "02-explore-agentic-frameworks/code_samples/02-autogen.ipynb",
   "language_code": "th"
  }
 },
 "nbformat": 4,
 "nbformat_minor": 2
}