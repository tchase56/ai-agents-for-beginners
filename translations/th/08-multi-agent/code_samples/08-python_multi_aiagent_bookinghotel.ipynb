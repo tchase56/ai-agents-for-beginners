{
 "cells": [
  {
   "cell_type": "markdown",
   "metadata": {},
   "source": [
    "## **ตัวอย่าง: Multi-AI Agents สำหรับการจองโรงแรม**\n",
    "\n",
    "ในโลกที่เร่งรีบในปัจจุบัน การวางแผนการเดินทางเพื่อธุรกิจไม่ได้หมายถึงแค่การจองตั๋วเครื่องบินและห้องพักในโรงแรมเท่านั้น แต่ยังต้องการการประสานงานและความมีประสิทธิภาพในระดับที่อาจเป็นเรื่องท้าทาย และนี่คือจุดที่ Multi-AI Agents เข้ามามีบทบาทในการเปลี่ยนแปลงวิธีที่เราจัดการความต้องการในการเดินทางของเรา\n",
    "\n",
    "ลองจินตนาการว่าคุณมีทีมตัวแทนอัจฉริยะที่พร้อมให้บริการ ทำงานร่วมกันเพื่อจัดการทุกแง่มุมของการเดินทางของคุณอย่างแม่นยำและง่ายดาย ด้วยเทคโนโลยี AI ขั้นสูงของเรา เราได้สร้างตัวแทนเฉพาะทางสำหรับบริการจองและการจัดการแผนการเดินทาง เพื่อให้มั่นใจว่าคุณจะได้รับประสบการณ์การเดินทางที่ราบรื่นและไร้ความกังวล\n",
    "\n",
    "นี่คือตัวอย่างพื้นฐาน เมื่อวางแผนการเดินทางเพื่อธุรกิจ เราจำเป็นต้องปรึกษากับตัวแทนการเดินทางเพื่อธุรกิจเพื่อขอข้อมูลตั๋วเครื่องบิน ข้อมูลโรงแรม ฯลฯ ผ่าน AI Agents เราสามารถสร้างตัวแทนสำหรับบริการจองและตัวแทนสำหรับการจัดการแผนการเดินทางเพื่อทำงานร่วมกันและยกระดับความฉลาดของระบบให้ดียิ่งขึ้น\n"
   ]
  },
  {
   "cell_type": "markdown",
   "metadata": {},
   "source": [
    "# เริ่มต้นใช้งาน Azure AI Agent Service และรับข้อมูลการตั้งค่าจาก **.env**\n",
    "\n",
    "### **.env**\n",
    "\n",
    "สร้างไฟล์ .env\n",
    "\n",
    "**.env** ประกอบด้วย connection string ของ Azure AI Agent Service, โมเดลที่ AOAI ใช้งาน, และ API ของ Google API Search service, ENDPOINT เป็นต้น\n",
    "\n",
    "- **AZURE_AI_AGENT_MODEL_DEPLOYMENT_NAME** = \"ชื่อการปรับใช้โมเดลของ Azure AI Agent Service ของคุณ\"\n",
    "\n",
    "[**NOTE**] คุณจะต้องมีโมเดลที่มี Rate Limit 100,000 (Tokens ต่อหนึ่งนาที) และ Rate Limit 600 (Request ต่อหนึ่งนาที)\n",
    "\n",
    "  คุณสามารถหาโมเดลได้ใน Azure AI Foundry - Model และ Endpoint\n",
    "\n",
    "- **AZURE_AI_AGENT_PROJECT_CONNECTION_STRING** = \"Connection String ของโปรเจกต์ Azure AI Agent Service ของคุณ\"\n",
    "\n",
    "  คุณสามารถหา connection string ของโปรเจกต์ได้ในหน้าภาพรวมโปรเจกต์ใน AI Foundry Portal Screen\n",
    "\n",
    "- **SERPAPI_SEARCH_API_KEY** = \"SERPAPI Search API KEY ของคุณ\"\n",
    "- **SERPAPI_SEARCH_ENDPOINT** = \"SERPAPI Search Endpoint ของคุณ\"\n",
    "\n",
    "ในการรับชื่อการปรับใช้โมเดลและ connection string ของโปรเจกต์ Azure AI Agent Service คุณจำเป็นต้องสร้าง Azure AI Agent Service โดยแนะนำให้ใช้ [เทมเพลตนี้](https://portal.azure.com/#create/Microsoft.Template/uri/https%3A%2F%2Fraw.githubusercontent.com%2Ffosteramanda%2Fazure-agent-quickstart-templates%2Frefs%2Fheads%2Fmaster%2Fquickstarts%2Fmicrosoft.azure-ai-agent-service%2Fstandard-agent%2Fazuredeploy.json) เพื่อสร้างโดยตรง (**หมายเหตุ:** Azure AI Agent Service ปัจจุบันถูกตั้งค่าในบางภูมิภาคเท่านั้น แนะนำให้คุณดู [ลิงก์นี้](https://learn.microsoft.com/en-us/azure/ai-services/agents/concepts/model-region-support) เพื่อกำหนดภูมิภาค)\n",
    "\n",
    "Agent จำเป็นต้องเข้าถึง SERPAPI โดยแนะนำให้ลงทะเบียนผ่าน [ลิงก์นี้](https://serpapi.com/searches) หลังจากลงทะเบียน คุณจะได้รับ API KEY และ ENDPOINT ที่ไม่ซ้ำกัน\n"
   ]
  },
  {
   "cell_type": "markdown",
   "metadata": {},
   "source": [
    "# เข้าสู่ระบบ Azure\n",
    "\n",
    "ตอนนี้คุณต้องเข้าสู่ระบบ Azure เปิดเทอร์มินัลใน VScode และรันคำสั่ง `az login`\n"
   ]
  },
  {
   "cell_type": "markdown",
   "metadata": {},
   "source": [
    "# การตั้งค่า\n",
    "\n",
    "ในการใช้งานโน้ตบุ๊กนี้ คุณจำเป็นต้องติดตั้งไลบรารีต่อไปนี้ นี่คือรายการไลบรารีที่จำเป็นและคำสั่ง pip install ที่เกี่ยวข้อง:\n",
    "\n",
    "azure-identity: สำหรับการยืนยันตัวตนกับ Azure  \n",
    "requests: สำหรับการส่งคำขอ HTTP  \n",
    "semantic-kernel: สำหรับเฟรมเวิร์ก semantic kernel (สมมติว่าเป็นไลบรารีเฉพาะหรือแบบกำหนดเอง คุณอาจต้องติดตั้งจากแหล่งหรือที่เก็บเฉพาะ)  \n"
   ]
  },
  {
   "cell_type": "code",
   "execution_count": null,
   "metadata": {},
   "outputs": [],
   "source": [
    "!pip install azure-identity\n",
    "!pip install requests\n",
    "!pip install semantic-kernel\n",
    "!pip install --upgrade semantic_kernel\n",
    "!pip install azure-cli"
   ]
  },
  {
   "cell_type": "markdown",
   "metadata": {},
   "source": [
    "# คำอธิบาย:  \n",
    "import asyncio: คำสั่งนี้ใช้ในการนำเข้าโมดูล asyncio ซึ่งช่วยสนับสนุนการเขียนโปรแกรมแบบอะซิงโครนัสใน Python โดยช่วยให้คุณสามารถเขียนโค้ดที่ทำงานพร้อมกันได้ด้วยการใช้ไวยากรณ์ async และ await  \n",
    "from typing import Annotated: คำสั่งนี้ใช้ในการนำเข้า Annotated จากโมดูล typing โดย Annotated ใช้สำหรับเพิ่มเมตาดาต้าให้กับ type hints ซึ่งมีประโยชน์ในหลายกรณี เช่น การตรวจสอบความถูกต้อง การสร้างเอกสาร หรือการใช้งานเครื่องมือ\n"
   ]
  },
  {
   "cell_type": "code",
   "execution_count": null,
   "metadata": {
    "dotnet_interactive": {
     "language": "csharp"
    },
    "polyglot_notebook": {
     "kernelName": "csharp"
    }
   },
   "outputs": [],
   "source": [
    "import asyncio,os\n",
    "from typing import Annotated"
   ]
  },
  {
   "cell_type": "markdown",
   "metadata": {},
   "source": [
    "# คำอธิบาย:\n",
    "โดยการใช้ from dotenv import load_dotenv และ load_dotenv() คุณสามารถจัดการการตั้งค่าคอนฟิกและข้อมูลที่สำคัญ (เช่น คีย์ API และ URL ของฐานข้อมูล) ได้อย่างง่ายดายในไฟล์ .env ซึ่งช่วยแยกข้อมูลเหล่านี้ออกจากซอร์สโค้ดของคุณ ทำให้แอปพลิเคชันของคุณปลอดภัยยิ่งขึ้นและง่ายต่อการตั้งค่า\n"
   ]
  },
  {
   "cell_type": "code",
   "execution_count": null,
   "metadata": {},
   "outputs": [],
   "source": [
    "import os\n",
    "from dotenv import load_dotenv\n",
    "\n",
    "# Load environment variables from .env file\n",
    "load_dotenv()"
   ]
  },
  {
   "cell_type": "markdown",
   "metadata": {},
   "source": [
    "# คำอธิบาย:\n",
    "\n",
    "คำสั่งนำเข้า: from azure.identity.aio import DefaultAzureCredential: คำสั่งนี้นำเข้า DefaultAzureCredential จากโมดูล azure.identity.aio โดยส่วนที่เป็น aio ในชื่อโมดูลบ่งบอกว่าถูกออกแบบมาสำหรับการทำงานแบบอะซิงโครนัส\n",
    "\n",
    "วัตถุประสงค์ของ DefaultAzureCredential: DefaultAzureCredential เป็นส่วนหนึ่งของ Azure SDK สำหรับ Python โดยมีหน้าที่ในการจัดการการยืนยันตัวตนกับบริการของ Azure ในรูปแบบเริ่มต้น โดยจะพยายามยืนยันตัวตนด้วยวิธีต่าง ๆ ตามลำดับ เช่น ตัวแปรสภาพแวดล้อม (environment variables), managed identity และ Azure CLI credentials\n",
    "\n",
    "การทำงานแบบอะซิงโครนัส: โมดูล aio บ่งบอกว่า DefaultAzureCredential รองรับการทำงานแบบอะซิงโครนัส ซึ่งหมายความว่าคุณสามารถใช้งานร่วมกับ asyncio เพื่อทำคำขอยืนยันตัวตนแบบไม่บล็อกการทำงาน\n"
   ]
  },
  {
   "cell_type": "code",
   "execution_count": null,
   "metadata": {
    "dotnet_interactive": {
     "language": "csharp"
    },
    "polyglot_notebook": {
     "kernelName": "csharp"
    }
   },
   "outputs": [],
   "source": [
    "from azure.identity.aio import DefaultAzureCredential"
   ]
  },
  {
   "cell_type": "markdown",
   "metadata": {},
   "source": [
    "# คำอธิบาย:\n",
    "นำเข้าโมดูลและคลาสต่าง ๆ จากแพ็กเกจ semantic_kernel ต่อไปนี้คือรายละเอียดของแต่ละการนำเข้า:\n",
    "\n",
    "AgentGroupChat จาก semantic_kernel.agents: คลาสนี้จัดการฟังก์ชันที่เกี่ยวข้องกับการแชทกลุ่มสำหรับ AI agents  \n",
    "AzureAIAgent และ AzureAIAgentSettings จาก semantic_kernel.agents.azure_ai  \n",
    "\n",
    "AzureAIAgent: คลาสนี้ใช้สำหรับสร้างและจัดการ AI agents ที่ใช้บริการ Azure AI  \n",
    "\n",
    "AzureAIAgentSettings: คลาสนี้ใช้สำหรับกำหนดค่าการตั้งค่าสำหรับ AzureAIAgent  \n",
    "TerminationStrategy จาก semantic_kernel.agents.strategies.termination.termination_strategy:  \n",
    "\n",
    "คลาสนี้กำหนดกลยุทธ์สำหรับการยุติการทำงานของ AI agents ภายใต้เงื่อนไขบางประการ  \n",
    "ChatMessageContent จาก semantic_kernel.contents.chat_message_content:  \n",
    "\n",
    "คลาสนี้ใช้สำหรับจัดการเนื้อหาของข้อความแชท  \n",
    "AuthorRole จาก semantic_kernel.contents.utils.author_role:  \n",
    "\n",
    "คลาสนี้กำหนดบทบาทต่าง ๆ ของผู้เขียนในบริบทของข้อความแชท  \n",
    "\n",
    "kernel_function จาก semantic_kernel.functions.kernel_function_decorator: ตัวตกแต่งนี้ใช้สำหรับกำหนด kernel functions ซึ่งเป็นฟังก์ชันที่สามารถดำเนินการภายในกรอบงานของ semantic kernel  \n",
    "\n",
    "การนำเข้าเหล่านี้ช่วยตั้งค่าคอมโพเนนต์ที่จำเป็นสำหรับการสร้างและจัดการ AI agents ที่สามารถโต้ตอบในสภาพแวดล้อมการแชทกลุ่ม อาจใช้สำหรับงานต่าง ๆ เช่น การจองโรงแรมหรือกิจกรรมที่คล้ายกัน\n"
   ]
  },
  {
   "cell_type": "code",
   "execution_count": null,
   "metadata": {
    "dotnet_interactive": {
     "language": "csharp"
    },
    "polyglot_notebook": {
     "kernelName": "csharp"
    }
   },
   "outputs": [],
   "source": [
    "from semantic_kernel.agents import AgentGroupChat\n",
    "from semantic_kernel.agents import AzureAIAgent, AzureAIAgentSettings\n",
    "from semantic_kernel.agents.strategies.termination.termination_strategy import TerminationStrategy\n",
    "from semantic_kernel.contents import ChatMessageContent\n",
    "from semantic_kernel.contents import AuthorRole\n",
    "from semantic_kernel.functions.kernel_function_decorator import kernel_function"
   ]
  },
  {
   "cell_type": "markdown",
   "metadata": {},
   "source": [
    "# คำอธิบาย:\n",
    "ต่อไปเราจะนำเข้า CodeInterpreterTool class จากโมดูล azure.ai.projects.models\n",
    "\n",
    "CodeInterpreterTool: คลาสนี้เป็นส่วนหนึ่งของ Azure AI SDK และถูกใช้เพื่อแปลและรันโค้ดในบริบทของโปรเจกต์ AI โดยมีฟังก์ชันสำหรับการรันโค้ดสั้น ๆ วิเคราะห์โค้ด หรือผสานการรันโค้ดเข้ากับเวิร์กโฟลว์ AI  \n",
    "การนำเข้านี้จะตั้งค่าคอมโพเนนต์ที่จำเป็นสำหรับการใช้งาน CodeInterpreterTool ในโปรเจกต์ของคุณ ซึ่งอาจมีประโยชน์สำหรับงานที่เกี่ยวข้องกับการแปลและรันโค้ดแบบไดนามิก\n"
   ]
  },
  {
   "cell_type": "code",
   "execution_count": null,
   "metadata": {
    "dotnet_interactive": {
     "language": "csharp"
    },
    "polyglot_notebook": {
     "kernelName": "csharp"
    }
   },
   "outputs": [],
   "source": [
    "from azure.ai.projects.models import CodeInterpreterTool"
   ]
  },
  {
   "cell_type": "markdown",
   "metadata": {},
   "source": [
    "# คำอธิบาย:\n",
    "คลาส ApprovalTerminationStrategy ให้กลยุทธ์เฉพาะสำหรับการหยุดการทำงานของ AI agent โดย agent จะหยุดทำงานหากข้อความสุดท้ายในประวัติการโต้ตอบของมันมีคำว่า \"saved\" ซึ่งอาจมีประโยชน์ในสถานการณ์ที่งานของ agent ถือว่าเสร็จสมบูรณ์เมื่อได้รับการยืนยันว่ามีบางสิ่งถูก \"saved\" กำหนดวิธีการโต้ตอบ หลังจากแผนการจองถูกบันทึก สามารถหยุดได้เมื่อได้รับสัญญาณ saved\n"
   ]
  },
  {
   "cell_type": "code",
   "execution_count": null,
   "metadata": {
    "dotnet_interactive": {
     "language": "csharp"
    },
    "polyglot_notebook": {
     "kernelName": "csharp"
    }
   },
   "outputs": [],
   "source": [
    "class ApprovalTerminationStrategy(TerminationStrategy):\n",
    "    \"\"\"A strategy for determining when an agent should terminate.\"\"\"\n",
    "\n",
    "    async def should_agent_terminate(self, agent, history):\n",
    "        \"\"\"Check if the agent should terminate.\"\"\"\n",
    "        return \"saved\" in history[-1].content.lower()"
   ]
  },
  {
   "cell_type": "markdown",
   "metadata": {},
   "source": [
    "# คำอธิบาย:\n",
    "\n",
    "โค้ดบรรทัดนี้ทำการเริ่มต้นวัตถุ AzureAIAgentSettings ด้วยการตั้งค่ามาตรฐานหรือค่าที่กำหนดไว้ล่วงหน้าโดยการเรียกใช้เมธอด create() วัตถุการตั้งค่านี้ (ai_agent_settings) สามารถนำไปใช้เพื่อกำหนดค่าและจัดการ AzureAIAgent instance ได้\n"
   ]
  },
  {
   "cell_type": "code",
   "execution_count": null,
   "metadata": {
    "dotnet_interactive": {
     "language": "csharp"
    },
    "polyglot_notebook": {
     "kernelName": "csharp"
    }
   },
   "outputs": [],
   "source": [
    "ai_agent_settings = AzureAIAgentSettings.create()"
   ]
  },
  {
   "cell_type": "markdown",
   "metadata": {},
   "source": [
    "# คำอธิบาย:\n",
    "โดยการนำเข้าไลบรารี requests คุณสามารถทำ HTTP requests และโต้ตอบกับบริการเว็บในโค้ด Python ของคุณได้อย่างง่ายดาย\n"
   ]
  },
  {
   "cell_type": "code",
   "execution_count": null,
   "metadata": {
    "dotnet_interactive": {
     "language": "csharp"
    },
    "polyglot_notebook": {
     "kernelName": "csharp"
    }
   },
   "outputs": [],
   "source": [
    "import requests"
   ]
  },
  {
   "cell_type": "markdown",
   "metadata": {},
   "source": [
    "# คำอธิบาย:\n",
    "นี่คือค่าตัวแปรที่ใช้เก็บ API key สำหรับการเข้าถึงบริการ SERP (Search Engine Results Page) API โดย API key เป็นตัวระบุเฉพาะที่ใช้ในการยืนยันคำขอที่เกี่ยวข้องกับบัญชีของคุณ\n",
    "\n",
    "'GOOGLE_SEARCH_API_KEY': นี่คือข้อความตัวแทน คุณต้องแทนที่ 'GOOGLE_SEARCH_API_KEY' ด้วย API key จริงของคุณสำหรับ SERP API\n",
    "\n",
    "วัตถุประสงค์: วัตถุประสงค์ของบรรทัดนี้คือการเก็บ API key ไว้ในตัวแปรเพื่อใช้ในการยืนยันคำขอไปยังบริการ SERP API โดย API key เป็นสิ่งจำเป็นสำหรับการเข้าถึงบริการและการค้นหา\n",
    "\n",
    "วิธีการรับ SERP API Key: เพื่อรับ SERP API key ให้ทำตามขั้นตอนทั่วไปที่ https://serpapi.com (ขั้นตอนที่แน่นอนอาจแตกต่างกันไปขึ้นอยู่กับบริการ SERP API ที่คุณใช้งาน):\n",
    "\n",
    "เลือกบริการ SERP API: มีบริการ SERP API หลายตัว เช่น SerpAPI, Google Custom Search JSON API และอื่น ๆ เลือกบริการที่เหมาะสมกับความต้องการของคุณ\n",
    "\n",
    "สมัครบัญชี:\n",
    "\n",
    "ไปที่เว็บไซต์ของบริการ SERP API ที่คุณเลือก https://www.serpapi.com และสมัครบัญชี คุณอาจต้องให้ข้อมูลพื้นฐานและยืนยันที่อยู่อีเมลของคุณ\n",
    "\n",
    "สร้าง API Key:\n",
    "\n",
    "หลังจากสมัครบัญชีแล้ว ให้เข้าสู่ระบบและไปที่ส่วน API หรือแดชบอร์ด มองหาตัวเลือกในการสร้างหรือสร้าง API key ใหม่\n",
    "คัดลอก API Key:\n",
    "\n",
    "เมื่อ API key ถูกสร้างขึ้นแล้ว ให้คัดลอก API key นี้ API key นี้จะถูกใช้ในการยืนยันคำขอไปยังบริการ SERP API\n",
    "แทนที่ข้อความตัวแทน:\n",
    "\n",
    "แทนที่ข้อความตัวแทนในไฟล์ .env ของคุณ\n"
   ]
  },
  {
   "cell_type": "code",
   "execution_count": null,
   "metadata": {
    "dotnet_interactive": {
     "language": "csharp"
    },
    "polyglot_notebook": {
     "kernelName": "csharp"
    }
   },
   "outputs": [],
   "source": [
    "SERPAPI_SEARCH_API_KEY=os.getenv('SERPAPI_SEARCH_API_KEY')"
   ]
  },
  {
   "cell_type": "code",
   "execution_count": null,
   "metadata": {
    "dotnet_interactive": {
     "language": "csharp"
    },
    "polyglot_notebook": {
     "kernelName": "csharp"
    }
   },
   "outputs": [],
   "source": [
    "SERPAPI_SEARCH_ENDPOINT = os.getenv('SERPAPI_SEARCH_ENDPOINT')"
   ]
  },
  {
   "cell_type": "markdown",
   "metadata": {},
   "source": [
    "# คำอธิบาย:\n",
    "คลาส BookingPlugin มีเมธอดสำหรับการจองโรงแรมและเที่ยวบินโดยใช้ Serpapi.com Google Search API คลาสนี้จะสร้างพารามิเตอร์ที่จำเป็น ส่งคำขอ API และประมวลผลการตอบกลับเพื่อส่งคืนข้อมูลการจองที่เกี่ยวข้อง คีย์ API (SERPAPI_SEARCH_API_KEY) และจุดเชื่อมต่อ (SERPAPI_SEARCH_ENDPOINT) ถูกใช้เพื่อยืนยันตัวตนและส่งคำขอไปยัง Google Search API\n"
   ]
  },
  {
   "cell_type": "code",
   "execution_count": null,
   "metadata": {
    "dotnet_interactive": {
     "language": "csharp"
    },
    "polyglot_notebook": {
     "kernelName": "csharp"
    }
   },
   "outputs": [],
   "source": [
    "# Define Booking Plugin\n",
    "class BookingPlugin:\n",
    "    \"\"\"Booking Plugin for customers\"\"\"\n",
    "    @kernel_function(description=\"booking hotel\")\n",
    "    def booking_hotel(self,query: Annotated[str, \"The name of the city\"], check_in_date: Annotated[str, \"Hotel Check-in Time\"], check_out_date: Annotated[str, \"Hotel Check-in Time\"])-> Annotated[str, \"Return the result of booking hotel infomation\"]:\n",
    "\n",
    "        params = {\n",
    "            \"engine\": \"google_hotels\",\n",
    "            \"q\": query,\n",
    "            \"check_in_date\": check_in_date,\n",
    "            \"check_out_date\": check_out_date,\n",
    "            \"adults\": \"2\",\n",
    "            \"currency\": \"USD\",\n",
    "            \"gl\": \"us\",\n",
    "            \"hl\": \"en\",\n",
    "            \"api_key\": SERPAPI_SEARCH_API_KEY\n",
    "        }\n",
    "\n",
    "        response = requests.get(SERPAPI_SEARCH_ENDPOINT, params=params)\n",
    "        if response.status_code == 200:\n",
    "            response = response.json()\n",
    "            return response[\"properties\"]\n",
    "        else:\n",
    "            return None\n",
    "\n",
    "    \n",
    "    @kernel_function(description=\"booking fight\")\n",
    "    def  booking_fight(self,origin: Annotated[str, \"The name of Departure\"], destination: Annotated[str, \"The name of Destination\"], outbound_date: Annotated[str, \"The date of outbound\"], return_date: Annotated[str, \"The date of Return_date\"])-> Annotated[str, \"Return the result of booking fight infomation\"]:\n",
    "        \n",
    "        go_params = {\n",
    "            \"engine\": \"google_flights\",   \n",
    "            \"departure_id\": origin,\n",
    "            \"arrival_id\": destination,\n",
    "            \"outbound_date\": outbound_date,\n",
    "            \"return_date\": return_date,  \n",
    "            \"currency\": \"USD\",\n",
    "            \"hl\": \"en\",\n",
    "            \"api_key\": SERPAPI_SEARCH_API_KEY  \n",
    "        }\n",
    "\n",
    "        print(go_params)\n",
    "\n",
    "        go_response = requests.get(SERPAPI_SEARCH_ENDPOINT, params=go_params)\n",
    "\n",
    "\n",
    "        result = ''\n",
    "\n",
    "        if go_response.status_code == 200:\n",
    "            response = go_response.json()\n",
    "\n",
    "            result += \"# outbound \\n \" + str(response)\n",
    "        else:\n",
    "            print('error!!!')\n",
    "            # return None\n",
    "\n",
    "        \n",
    "        back_params = {\n",
    "            \"engine\": \"google_flights\",   \n",
    "            \"departure_id\": destination,\n",
    "            \"arrival_id\": origin,\n",
    "            \"outbound_date\": return_date,\n",
    "            \"return_date\": return_date,  \n",
    "            \"currency\": \"USD\",\n",
    "            \"hl\": \"en\",\n",
    "            \"api_key\": SERPAPI_SEARCH_API_KEY  \n",
    "        }\n",
    "\n",
    "\n",
    "        print(back_params)\n",
    "\n",
    "\n",
    "        back_response = requests.get(SERPAPI_SEARCH_ENDPOINT, params=back_params)\n",
    "\n",
    "\n",
    "\n",
    "        if back_response.status_code == 200:\n",
    "            response = back_response.json()\n",
    "\n",
    "            result += \"\\n # return \\n\"  + str(response)\n",
    "\n",
    "        else:\n",
    "            print('error!!!')\n",
    "            # return None\n",
    "        \n",
    "        print(result)\n",
    "\n",
    "        return result\n",
    "\n",
    "        \n"
   ]
  },
  {
   "cell_type": "markdown",
   "metadata": {},
   "source": [
    "# คำอธิบาย:\n",
    "คลาส SavePlugin มีเมธอด saving_plan สำหรับบันทึกแผนการเดินทางโดยใช้บริการ Azure AI คลาสนี้ตั้งค่าข้อมูลรับรองของ Azure สร้าง AI agent ประมวลผลข้อมูลที่ผู้ใช้ป้อนเพื่อสร้างและบันทึกเนื้อหาแผนการเดินทาง รวมถึงจัดการการบันทึกไฟล์และการลบไฟล์ที่ไม่จำเป็น เมธอดนี้จะคืนค่า \"Saved\" เมื่อดำเนินการเสร็จสมบูรณ์\n"
   ]
  },
  {
   "cell_type": "code",
   "execution_count": null,
   "metadata": {
    "dotnet_interactive": {
     "language": "csharp"
    },
    "polyglot_notebook": {
     "kernelName": "csharp"
    }
   },
   "outputs": [],
   "source": [
    "class SavePlugin:\n",
    "    \"\"\"Save Plugin for customers\"\"\"\n",
    "    @kernel_function(description=\"saving plan\")\n",
    "    async def saving_plan(self,tripplan: Annotated[str, \"The content of trip plan\"])-> Annotated[str, \"Return status of save content\"]:\n",
    "\n",
    "        async with (\n",
    "            DefaultAzureCredential() as creds,\n",
    "            AzureAIAgent.create_client(\n",
    "                credential=creds,\n",
    "                conn_str=ai_agent_settings.project_connection_string.get_secret_value(),\n",
    "            ) as client,\n",
    "        ):\n",
    "\n",
    "            code_interpreter = CodeInterpreterTool()\n",
    "            \n",
    "            agent_definition = await client.agents.create_agent(\n",
    "                model=ai_agent_settings.model_deployment_name,\n",
    "                tools=code_interpreter.definitions,\n",
    "                tool_resources=code_interpreter.resources,\n",
    "            )\n",
    "\n",
    "\n",
    "            agent = AzureAIAgent(\n",
    "                client=client,\n",
    "                definition=agent_definition,\n",
    "            )\n",
    "\n",
    "            thread = await client.agents.create_thread()\n",
    "\n",
    "\n",
    "            user_inputs = [\n",
    "                \"\"\"\n",
    "            \n",
    "                        You are my Python programming assistant. Generate code,save \"\"\"+ tripplan +\n",
    "                        \n",
    "                    \"\"\"    \n",
    "                        and execute it according to the following requirements\n",
    "\n",
    "                        1. Save blog content to trip-{YYMMDDHHMMSS}.md\n",
    "\n",
    "                        2. give me the download this file link\n",
    "                    \"\"\"\n",
    "            ]\n",
    "\n",
    "\n",
    "\n",
    "            try:\n",
    "                for user_input in user_inputs:\n",
    "                    # Add the user input as a chat message\n",
    "                    await agent.add_chat_message(\n",
    "                        thread_id=thread.id, message=ChatMessageContent(role=AuthorRole.USER, content=user_input)\n",
    "                    )\n",
    "                    print(f\"# User: '{user_input}'\")\n",
    "                    # Invoke the agent for the specified thread\n",
    "                    async for content in agent.invoke(thread_id=thread.id):\n",
    "                        if content.role != AuthorRole.TOOL:\n",
    "                            print(f\"# Agent: {content.content}\")\n",
    "\n",
    "                    \n",
    "                    messages = await client.agents.list_messages(thread_id=thread.id)\n",
    "\n",
    "                    # OpenAIPageableListOfThreadMessage\n",
    "                    # OpenAIPageableListOfThreadMessage\n",
    "\n",
    "\n",
    "                    for file_path_annotation in messages.file_path_annotations:\n",
    "\n",
    "                            file_name = os.path.basename(file_path_annotation.text)\n",
    "\n",
    "                            await client.agents.save_file(file_id=file_path_annotation.file_path.file_id, file_name=file_name,target_dir=\"./trip\")\n",
    "\n",
    "                    \n",
    "            finally:\n",
    "                await client.agents.delete_thread(thread.id)\n",
    "                await client.agents.delete_agent(agent.id)\n",
    "\n",
    "\n",
    "        return \"Saved\""
   ]
  },
  {
   "cell_type": "markdown",
   "metadata": {},
   "source": [
    "# คำอธิบาย:\n",
    "โค้ดนี้ตั้งค่า Azure AI agents เพื่อจัดการการจองเที่ยวบินและโรงแรม รวมถึงบันทึกแผนการเดินทางตามข้อมูลที่ผู้ใช้ป้อนเข้ามา โดยใช้ Azure credentials เพื่อสร้างและกำหนดค่า agents ประมวลผลข้อมูลที่ผู้ใช้ป้อนผ่านการแชทกลุ่ม และทำความสะอาดระบบอย่างเหมาะสมหลังจากงานเสร็จสิ้นแล้ว Agents เหล่านี้ใช้ปลั๊กอินเฉพาะ (BookingPlugin และ SavePlugin) เพื่อดำเนินงานตามหน้าที่ของตน\n"
   ]
  },
  {
   "cell_type": "code",
   "execution_count": null,
   "metadata": {
    "dotnet_interactive": {
     "language": "csharp"
    },
    "polyglot_notebook": {
     "kernelName": "csharp"
    }
   },
   "outputs": [],
   "source": [
    "async with (\n",
    "    DefaultAzureCredential() as creds,\n",
    "    AzureAIAgent.create_client(\n",
    "        credential=creds,\n",
    "        conn_str=ai_agent_settings.project_connection_string.get_secret_value(),\n",
    "    ) as client,\n",
    "):\n",
    "    BOOKING_AGENT_NAME = \"BookingAgent\"\n",
    "    BOOKING_AGENT_INSTRUCTIONS = \"\"\"\n",
    "    You are a booking agent. Help me book flights or hotels.\n",
    "\n",
    "    Thought: Please understand the user's intention and confirm whether to use the reservation system to complete the task.\n",
    "\n",
    "    Actions:\n",
    "    - For flight bookings, convert the departure and destination names into airport codes.\n",
    "    - Use the appropriate API for hotel or flight bookings. Verify that all necessary parameters are available. If any parameters are missing, ask the user to provide them. If all parameters are complete, call the corresponding function.\n",
    "    - If the task is not related to hotel or flight booking, respond with the final answer only.\n",
    "    - Output the results using a markdown table:\n",
    "      - For flight bookings, output separate outbound and return contents in the order of:\n",
    "        Departure Airport | Airline | Flight Number | Departure Time | Arrival Airport | Arrival Time | Duration | Airplane | Travel Class | Price (USD) | Legroom | Extensions | Carbon Emissions (kg).\n",
    "      - For hotel bookings, output in the order of:\n",
    "        Property Name | Property Description | Check-in Time | Check-out Time | Prices | Nearby Places | Hotel Class | GPS Coordinates.\n",
    "    \"\"\"\n",
    "\n",
    "    SAVE_AGENT_NAME = \"SaveAgent\"\n",
    "    SAVE_AGENT_INSTRUCTIONS = \"\"\"\n",
    "    You are a save tool agent. Help me to save the trip plan.\n",
    "    \"\"\"\n",
    "\n",
    "    # Create agent definition\n",
    "    booking_agent_definition = await client.agents.create_agent(\n",
    "        model=ai_agent_settings.model_deployment_name,\n",
    "        name=BOOKING_AGENT_NAME,\n",
    "        instructions=BOOKING_AGENT_INSTRUCTIONS,\n",
    "    )\n",
    "\n",
    "    # Create the AzureAI Agent\n",
    "    booking_agent = AzureAIAgent(\n",
    "        client=client,\n",
    "        definition=booking_agent_definition,\n",
    "        # Optionally configure polling options\n",
    "        # polling_options=RunPollingOptions(run_polling_interval=timedelta(seconds=1)),\n",
    "    )\n",
    "\n",
    "    # Add the sample plugin to the kernel\n",
    "    booking_agent.kernel.add_plugin(BookingPlugin(), plugin_name=\"booking\")\n",
    "\n",
    "    # Create agent definition\n",
    "    save_agent_definition = await client.agents.create_agent(\n",
    "        model=ai_agent_settings.model_deployment_name,\n",
    "        name=SAVE_AGENT_NAME,\n",
    "        instructions=SAVE_AGENT_INSTRUCTIONS\n",
    "    )\n",
    "\n",
    "    # Create the AzureAI Agent\n",
    "    save_agent = AzureAIAgent(\n",
    "        client=client,\n",
    "        definition=save_agent_definition,\n",
    "    )\n",
    "\n",
    "    save_agent.kernel.add_plugin(SavePlugin(), plugin_name=\"saving\")\n",
    "\n",
    "    user_inputs = [\n",
    "        \"I have a business trip from London to New York in Feb 20 2025 to Feb 27 2025 ,help me to book a hotel and fight tickets and save it\"\n",
    "    ]\n",
    "\n",
    "    chat = AgentGroupChat(\n",
    "        agents=[booking_agent, save_agent],\n",
    "        termination_strategy=ApprovalTerminationStrategy(agents=[save_agent], maximum_iterations=10),\n",
    "    )\n",
    "\n",
    "    try:\n",
    "        for user_input in user_inputs:\n",
    "            # Add the user input as a chat message\n",
    "            await chat.add_chat_message(\n",
    "                ChatMessageContent(role=AuthorRole.USER, content=user_input)\n",
    "            )\n",
    "            print(f\"# User: '{user_input}'\")\n",
    "\n",
    "            async for content in chat.invoke():\n",
    "                print(f\"# {content.role} - {content.name or '*'}: '{content.content}'\")\n",
    "\n",
    "            print(f\"# IS COMPLETE: {chat.is_complete}\")\n",
    "\n",
    "            print(\"*\" * 60)\n",
    "            print(\"Chat History (In Descending Order):\\n\")\n",
    "            async for message in chat.get_chat_messages(agent=save_agent):\n",
    "                print(f\"# {message.role} - {message.name or '*'}: '{message.content}'\")\n",
    "    finally:\n",
    "        await chat.reset()\n",
    "        await client.agents.delete_agent(save_agent.id)\n",
    "        await client.agents.delete_agent(booking_agent.id)\n"
   ]
  },
  {
   "cell_type": "markdown",
   "metadata": {},
   "source": [
    "\n---\n\n**ข้อจำกัดความรับผิดชอบ**:  \nเอกสารนี้ได้รับการแปลโดยใช้บริการแปลภาษา AI [Co-op Translator](https://github.com/Azure/co-op-translator) แม้ว่าเราจะพยายามให้การแปลมีความถูกต้องมากที่สุด แต่โปรดทราบว่าการแปลโดยอัตโนมัติอาจมีข้อผิดพลาดหรือความไม่ถูกต้อง เอกสารต้นฉบับในภาษาดั้งเดิมควรถือเป็นแหล่งข้อมูลที่เชื่อถือได้ สำหรับข้อมูลที่สำคัญ ขอแนะนำให้ใช้บริการแปลภาษามืออาชีพ เราไม่รับผิดชอบต่อความเข้าใจผิดหรือการตีความผิดที่เกิดจากการใช้การแปลนี้\n"
   ]
  }
 ],
 "metadata": {
  "kernelspec": {
   "display_name": "3.12.1",
   "language": "python",
   "name": "python3"
  },
  "language_info": {
   "codemirror_mode": {
    "name": "ipython",
    "version": 3
   },
   "file_extension": ".py",
   "mimetype": "text/x-python",
   "name": "python",
   "nbconvert_exporter": "python",
   "pygments_lexer": "ipython3",
   "version": "3.12.1"
  },
  "polyglot_notebook": {
   "kernelInfo": {
    "defaultKernelName": "csharp",
    "items": [
     {
      "aliases": [],
      "name": "csharp"
     }
    ]
   }
  },
  "coopTranslator": {
   "original_hash": "1baa60020a95eda27b7e9ecfda99965b",
   "translation_date": "2025-08-29T16:34:46+00:00",
   "source_file": "08-multi-agent/code_samples/08-python_multi_aiagent_bookinghotel.ipynb",
   "language_code": "th"
  }
 },
 "nbformat": 4,
 "nbformat_minor": 2
}