{
 "cells": [
  {
   "cell_type": "markdown",
   "metadata": {},
   "source": []
  },
  {
   "cell_type": "markdown",
   "metadata": {},
   "source": []
  },
  {
   "cell_type": "code",
   "execution_count": null,
   "metadata": {},
   "outputs": [],
   "source": [
    "import os\n",
    "import json\n",
    "\n",
    "import requests\n",
    "from autogen_agentchat.agents import AssistantAgent\n",
    "from autogen_core.models import UserMessage\n",
    "from autogen_ext.models.azure import AzureAIChatCompletionClient\n",
    "from azure.core.credentials import AzureKeyCredential\n",
    "from autogen_core import CancellationToken\n",
    "from autogen_core.tools import FunctionTool\n",
    "from autogen_agentchat.messages import TextMessage\n",
    "from autogen_agentchat.ui import Console\n",
    "from typing import Any, Callable, Set, Dict, List, Optional"
   ]
  },
  {
   "cell_type": "markdown",
   "metadata": {},
   "source": [
    "## การสร้าง Client\n",
    "\n",
    "ในตัวอย่างนี้ เราจะใช้ [GitHub Models](https://aka.ms/ai-agents-beginners/github-models) เพื่อเข้าถึง LLM\n",
    "\n",
    "`model` ถูกกำหนดเป็น `gpt-4o-mini` ลองเปลี่ยน model ไปเป็น model อื่นที่มีอยู่ในตลาด GitHub Models เพื่อดูผลลัพธ์ที่แตกต่างกัน\n",
    "\n",
    "เพื่อการทดสอบอย่างรวดเร็ว เราจะลองรัน prompt ง่ายๆ - `What is the capital of France`\n"
   ]
  },
  {
   "cell_type": "code",
   "execution_count": null,
   "metadata": {},
   "outputs": [],
   "source": [
    "client = AzureAIChatCompletionClient(\n",
    "    model=\"gpt-4o-mini\",\n",
    "    endpoint=\"https://models.inference.ai.azure.com\",\n",
    "    # To authenticate with the model you will need to generate a personal access token (PAT) in your GitHub settings.\n",
    "    # Create your PAT token by following instructions here: https://docs.github.com/en/authentication/keeping-your-account-and-data-secure/managing-your-personal-access-tokens\n",
    "    credential=AzureKeyCredential(os.environ[\"GITHUB_TOKEN\"]),\n",
    "    model_info={\n",
    "        \"json_output\": True,\n",
    "        \"function_calling\": True,\n",
    "        \"vision\": True,\n",
    "        \"family\": \"unknown\",\n",
    "    },\n",
    ")\n",
    "\n",
    "result = await client.create([UserMessage(content=\"What is the capital of France?\", source=\"user\")])\n",
    "print(result)"
   ]
  },
  {
   "cell_type": "markdown",
   "metadata": {},
   "source": [
    "## การกำหนดฟังก์ชัน\n",
    "\n",
    "ในตัวอย่างนี้ เราจะให้ตัวแทนเข้าถึงเครื่องมือที่เป็นฟังก์ชันซึ่งมีรายการจุดหมายปลายทางสำหรับการพักผ่อนและข้อมูลความพร้อมใช้งานของแต่ละที่\n",
    "\n",
    "คุณสามารถนึกภาพว่านี่เป็นสถานการณ์ที่ตัวแทนท่องเที่ยวอาจมีการเข้าถึงฐานข้อมูลการเดินทางเป็นต้น\n",
    "\n",
    "ขณะที่คุณศึกษาตัวอย่างนี้ ลองกำหนดฟังก์ชันและเครื่องมือใหม่ๆ ที่ตัวแทนสามารถเรียกใช้งานได้ตามต้องการ\n"
   ]
  },
  {
   "cell_type": "code",
   "execution_count": null,
   "metadata": {},
   "outputs": [],
   "source": [
    "from typing import Dict, List, Optional\n",
    "\n",
    "\n",
    "def vacation_destinations(city: str) -> tuple[str, str]:\n",
    "    \"\"\"\n",
    "    Checks if a specific vacation destination is available\n",
    "    \n",
    "    Args:\n",
    "        city (str): Name of the city to check\n",
    "        \n",
    "    Returns:\n",
    "        tuple: Contains city name and availability status ('Available' or 'Unavailable')\n",
    "    \"\"\"\n",
    "    destinations = {\n",
    "        \"Barcelona\": \"Available\",\n",
    "        \"Tokyo\": \"Unavailable\",\n",
    "        \"Cape Town\": \"Available\",\n",
    "        \"Vancouver\": \"Available\",\n",
    "        \"Dubai\": \"Unavailable\",\n",
    "    }\n",
    "\n",
    "    if city in destinations:\n",
    "        return city, destinations[city]\n",
    "    else:\n",
    "        return city, \"City not found\"\n",
    "\n",
    "# Example usage:\n",
    "# city, status = vacation_destinations(\"Barcelona\")\n",
    "# print(f\"How about visiting {city}? It's currently {status} there!\")"
   ]
  },
  {
   "cell_type": "markdown",
   "metadata": {},
   "source": [
    "## การกำหนด Function Tool  \n",
    "เพื่อให้ตัวแทนสามารถใช้ `vacation_destinations` เป็น `FunctionTool` ได้ เราจำเป็นต้องกำหนดให้มันเป็นหนึ่งในนั้น  \n",
    "\n",
    "เรายังต้องให้คำอธิบายเกี่ยวกับเครื่องมือนี้ด้วย ซึ่งจะช่วยให้ตัวแทนเข้าใจว่าเครื่องมือนี้ใช้ทำอะไรในบริบทของงานที่ผู้ใช้ร้องขอ\n"
   ]
  },
  {
   "cell_type": "code",
   "execution_count": null,
   "metadata": {},
   "outputs": [],
   "source": [
    "get_vacations = FunctionTool(\n",
    "    vacation_destinations, description=\"Search for vacation destinations and if they are available or not.\"\n",
    ")"
   ]
  },
  {
   "cell_type": "markdown",
   "metadata": {},
   "source": [
    "## การกำหนดตัวแทน\n",
    "\n",
    "ตอนนี้เราสามารถสร้างตัวแทนได้ในโค้ดด้านล่าง เรากำหนด `system_message` เพื่อให้คำแนะนำแก่ตัวแทนเกี่ยวกับวิธีช่วยผู้ใช้ค้นหาสถานที่ท่องเที่ยวสำหรับวันหยุดพักผ่อน\n",
    "\n",
    "เรายังตั้งค่าพารามิเตอร์ `reflect_on_tool_use` เป็น true ซึ่งช่วยให้ LLM ใช้ผลลัพธ์จากการเรียกใช้เครื่องมือและส่งคำตอบในรูปแบบภาษาธรรมชาติ\n",
    "\n",
    "คุณสามารถตั้งค่าพารามิเตอร์นี้เป็น false เพื่อดูความแตกต่าง\n"
   ]
  },
  {
   "cell_type": "code",
   "execution_count": null,
   "metadata": {},
   "outputs": [],
   "source": [
    "agent = AssistantAgent(\n",
    "    name=\"assistant\",\n",
    "    model_client=client,\n",
    "    tools=[get_vacations],\n",
    "    system_message=\"You are a travel agent that helps users find vacation destinations.\",\n",
    "    reflect_on_tool_use=True,\n",
    ")"
   ]
  },
  {
   "cell_type": "markdown",
   "metadata": {},
   "source": [
    "## การใช้งาน Agent\n",
    "\n",
    "ตอนนี้เราสามารถใช้งาน Agent ได้แล้ว โดยเริ่มจากข้อความแรกของผู้ใช้ที่ถามเกี่ยวกับการเดินทางไปโตเกียว\n",
    "\n",
    "คุณสามารถเปลี่ยนจุดหมายปลายทางของเมืองนี้เพื่อดูว่า Agent ตอบสนองต่อความพร้อมของเมืองนั้นอย่างไร\n"
   ]
  },
  {
   "cell_type": "code",
   "execution_count": null,
   "metadata": {},
   "outputs": [],
   "source": [
    "async def assistant_run() -> None:\n",
    "    response = await agent.on_messages(\n",
    "        [TextMessage(content=\"I would like to take a trip to Tokyo\", source=\"user\")],\n",
    "        cancellation_token=CancellationToken(),\n",
    "    )\n",
    "    print(response.inner_messages)\n",
    "    print(response.chat_message)\n",
    "\n",
    "\n",
    "# Use asyncio.run(assistant_run()) when running in a script.\n",
    "await assistant_run()"
   ]
  },
  {
   "cell_type": "markdown",
   "metadata": {},
   "source": [
    "\n---\n\n**ข้อจำกัดความรับผิดชอบ**:  \nเอกสารนี้ได้รับการแปลโดยใช้บริการแปลภาษา AI [Co-op Translator](https://github.com/Azure/co-op-translator) แม้ว่าเราจะพยายามให้การแปลมีความถูกต้องมากที่สุด แต่โปรดทราบว่าการแปลอัตโนมัติอาจมีข้อผิดพลาดหรือความไม่ถูกต้อง เอกสารต้นฉบับในภาษาดั้งเดิมควรถือเป็นแหล่งข้อมูลที่เชื่อถือได้ สำหรับข้อมูลที่สำคัญ ขอแนะนำให้ใช้บริการแปลภาษามืออาชีพ เราไม่รับผิดชอบต่อความเข้าใจผิดหรือการตีความผิดที่เกิดจากการใช้การแปลนี้\n"
   ]
  }
 ],
 "metadata": {
  "kernelspec": {
   "display_name": ".venv",
   "language": "python",
   "name": "python3"
  },
  "language_info": {
   "codemirror_mode": {
    "name": "ipython",
    "version": 3
   },
   "file_extension": ".py",
   "mimetype": "text/x-python",
   "name": "python",
   "nbconvert_exporter": "python",
   "pygments_lexer": "ipython3",
   "version": "3.13.1"
  },
  "coopTranslator": {
   "original_hash": "3ab7ffbff609b601fcdfeb749af44e43",
   "translation_date": "2025-08-29T16:43:00+00:00",
   "source_file": "04-tool-use/code_samples/04-autogen.ipynb",
   "language_code": "th"
  }
 },
 "nbformat": 4,
 "nbformat_minor": 2
}