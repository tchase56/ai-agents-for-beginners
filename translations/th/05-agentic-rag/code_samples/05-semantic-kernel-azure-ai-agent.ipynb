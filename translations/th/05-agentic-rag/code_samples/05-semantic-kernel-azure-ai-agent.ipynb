{
 "cells": [
  {
   "cell_type": "markdown",
   "metadata": {},
   "source": [
    "# การใช้ RAG ด้วยบริการ Azure AI Agent และ Semantic Kernel\n",
    "\n",
    "ตัวอย่างโค้ดนี้แสดงวิธีการสร้างและจัดการ Azure AI agent สำหรับการสร้างข้อมูลแบบเสริมการดึงข้อมูล (RAG) โดยใช้ `Azure AI Agent Service` และ `Semantic Kernel` เอเจนต์จะประมวลผลคำถามของผู้ใช้โดยอ้างอิงจากบริบทที่ดึงมา และให้คำตอบที่ถูกต้องตามนั้น\n"
   ]
  },
  {
   "cell_type": "markdown",
   "metadata": {},
   "source": []
  },
  {
   "cell_type": "markdown",
   "metadata": {},
   "source": [
    "การแก้ไขเวอร์ชัน SQLite  \n",
    "หากคุณพบข้อผิดพลาด:  \n",
    "```\n",
    "RuntimeError: Your system has an unsupported version of sqlite3. Chroma requires sqlite3 >= 3.35.0\n",
    "```  \n",
    "\n",
    "ให้ยกเลิกการคอมเมนต์โค้ดบล็อกนี้ที่จุดเริ่มต้นของโน้ตบุ๊กของคุณ:  \n"
   ]
  },
  {
   "cell_type": "code",
   "execution_count": null,
   "metadata": {},
   "outputs": [],
   "source": [
    "# %pip install pysqlite3-binary\n",
    "# __import__('pysqlite3')\n",
    "# import sys\n",
    "# sys.modules['sqlite3'] = sys.modules.pop('pysqlite3')"
   ]
  },
  {
   "cell_type": "markdown",
   "metadata": {},
   "source": [
    "### การนำเข้าแพ็กเกจ  \n",
    "โค้ดต่อไปนี้นำเข้าแพ็กเกจที่จำเป็น:  \n"
   ]
  },
  {
   "cell_type": "code",
   "execution_count": null,
   "metadata": {},
   "outputs": [],
   "source": [
    "# Azure imports for project client and credentials\n",
    "from azure.ai.projects.models import FileSearchTool, OpenAIFile, VectorStore\n",
    "from azure.identity.aio import DefaultAzureCredential\n",
    "\n",
    "# Semantic Kernel imports\n",
    "from semantic_kernel.agents import AzureAIAgent, AzureAIAgentThread"
   ]
  },
  {
   "cell_type": "markdown",
   "metadata": {},
   "source": [
    "# การสร้างผลลัพธ์ด้วยการดึงข้อมูลเสริมด้วย Semantic Kernel และ Azure AI Agent Service\n",
    "\n",
    "ตัวอย่างนี้แสดงวิธีการใช้ **Azure AI Agent Service** เพื่อดำเนินการ **การสร้างผลลัพธ์ด้วยการดึงข้อมูลเสริม (RAG)** โดยการผสมผสานโมเดลภาษากับบริบทเฉพาะทางจากเอกสารที่อัปโหลด\n",
    "\n",
    "### วิธีการทำงาน\n",
    "\n",
    "1. **การอัปโหลดเอกสาร**: ไฟล์ markdown (document.md) ที่มีข้อมูล (นโยบายประกันการเดินทางของ Contoso) ถูกอัปโหลดไปยังบริการตัวแทน\n",
    "\n",
    "2. **การสร้าง Vector Store**: เอกสารถูกจัดทำดัชนีลงใน Vector Store เพื่อให้สามารถค้นหาเชิงความหมายในเนื้อหาได้\n",
    "\n",
    "3. **การตั้งค่าตัวแทน**: ตัวแทนถูกสร้างขึ้นโดยใช้โมเดล `gpt-4o` พร้อมคำสั่งที่เข้มงวดดังนี้:\n",
    "   - ตอบคำถามเฉพาะข้อมูลที่ดึงมาจากเอกสารเท่านั้น\n",
    "   - ปฏิเสธการตอบคำถามหากคำถามอยู่นอกขอบเขต\n",
    "\n",
    "4. **การรวม File Search Tool**: `FileSearchTool` ถูกลงทะเบียนกับตัวแทน เพื่อให้โมเดลสามารถค้นหาและดึงข้อมูลที่เกี่ยวข้องจากเอกสารที่จัดทำดัชนีในระหว่างการประมวลผล\n",
    "\n",
    "5. **การโต้ตอบกับผู้ใช้**: ผู้ใช้สามารถถามคำถามได้ หากพบข้อมูลที่เกี่ยวข้องในเอกสาร ตัวแทนจะสร้างคำตอบที่มีพื้นฐานจากข้อมูลนั้น  \n",
    "   หากไม่พบ ตัวแทนจะตอบอย่างชัดเจนว่าเอกสารไม่มีข้อมูลเพียงพอ\n"
   ]
  },
  {
   "cell_type": "markdown",
   "metadata": {},
   "source": [
    "### ฟังก์ชันหลัก\n",
    "\n"
   ]
  },
  {
   "cell_type": "markdown",
   "metadata": {},
   "source": [
    "ตรวจสอบให้แน่ใจว่าได้รัน `az login` โดยใช้ Azure CLI ก่อน เพื่อให้มีบริบทการตรวจสอบสิทธิ์ที่เหมาะสมในขณะที่ใช้ `DefaultAzureCredential` บริการ Azure AI Agent Service ไม่ใช้ API keys\n"
   ]
  },
  {
   "cell_type": "code",
   "execution_count": null,
   "metadata": {},
   "outputs": [],
   "source": [
    "async def main():\n",
    "    async with (\n",
    "        DefaultAzureCredential() as creds,\n",
    "        AzureAIAgent.create_client(credential=creds) as client,\n",
    "    ):\n",
    "        file: OpenAIFile = await client.agents.upload_file_and_poll(file_path=\"document.md\", purpose=\"assistants\")\n",
    "        vector_store: VectorStore = await client.agents.create_vector_store_and_poll(\n",
    "            file_ids=[file.id], name=\"my_vectorstore\"\n",
    "        )\n",
    "\n",
    "        # Define agent name and instructions tailored for RAG.\n",
    "        AGENT_NAME = \"RAGAgent\"\n",
    "        AGENT_INSTRUCTIONS = \"\"\"\n",
    "        You are an AI assistant designed to answer user questions using only the information retrieved from the provided document(s).\n",
    "\n",
    "        - If a user's question cannot be answered using the retrieved context, **you must clearly respond**: \n",
    "        \"I'm sorry, but the uploaded document does not contain the necessary information to answer that question.\"\n",
    "        - Do not answer from general knowledge or reasoning. Do not make assumptions or generate hypothetical explanations.\n",
    "        - Do not provide definitions, tutorials, or commentary that is not explicitly grounded in the content of the uploaded file(s).\n",
    "        - If a user asks a question like \"What is a Neural Network?\", and this is not discussed in the uploaded document, respond as instructed above.\n",
    "        - For questions that do have relevant content in the document (e.g., Contoso's travel insurance coverage), respond accurately, and cite the document explicitly.\n",
    "\n",
    "        You must behave as if you have no external knowledge beyond what is retrieved from the uploaded document.\n",
    "        \"\"\"\n",
    "\n",
    "        \n",
    "        # Create file search tool with uploaded resources\n",
    "        file_search = FileSearchTool(vector_store_ids=[vector_store.id])\n",
    "\n",
    "        # 3. Create an agent on the Azure AI agent service with the file search tool\n",
    "        agent_definition = await client.agents.create_agent(\n",
    "            model=\"gpt-4o\",  # This model should match your Azure OpenAI deployment.\n",
    "            name=AGENT_NAME,\n",
    "            instructions=AGENT_INSTRUCTIONS,\n",
    "            tools=file_search.definitions,\n",
    "            tool_resources=file_search.resources,\n",
    "        )\n",
    "        \n",
    "        # Create the Azure AI Agent using the client and definition.\n",
    "        agent = AzureAIAgent(\n",
    "            client=client,\n",
    "            definition=agent_definition,\n",
    "        )\n",
    "        \n",
    "        # Create a thread to hold the conversation\n",
    "        # If no thread is provided, a new thread will be\n",
    "        # created and returned with the initial response\n",
    "        thread: AzureAIAgentThread | None = None\n",
    "        \n",
    "        # Example user queries.\n",
    "        user_inputs = [\n",
    "            \"Can you explain Contoso's travel insurance coverage?\",  # Relevant context.\n",
    "            \"What is a Neural Network?\"  # No relevant context from the document. Will not contain a source annotation.\n",
    "        ]\n",
    "        \n",
    "        try:\n",
    "            for user_input in user_inputs:\n",
    "                print(f\"# User: '{user_input}'\")\n",
    "                # Invoke the agent for the specified thread for response\n",
    "                async for response in agent.invoke(messages=user_input, thread=thread):\n",
    "                    print(f\"# {response.name}: {response}\")\n",
    "                    thread = response.thread\n",
    "        finally:\n",
    "            # Clean up resources.\n",
    "            await thread.delete() if thread else None\n",
    "            await client.agents.delete_vector_store(vector_store.id)\n",
    "            await client.agents.delete_file(file.id)\n",
    "            await client.agents.delete_agent(agent.id)\n",
    "            print(\"\\nCleaned up agent, thread, file, and vector store.\")\n",
    "\n",
    "await main()"
   ]
  },
  {
   "cell_type": "markdown",
   "metadata": {},
   "source": [
    "แน่นอน! กรุณาให้ไฟล์ Markdown ที่ต้องการแปลมาเพื่อดำเนินการแปลให้ครับ\n"
   ]
  },
  {
   "cell_type": "markdown",
   "metadata": {},
   "source": [
    "\n---\n\n**ข้อจำกัดความรับผิดชอบ**:  \nเอกสารนี้ได้รับการแปลโดยใช้บริการแปลภาษา AI [Co-op Translator](https://github.com/Azure/co-op-translator) แม้ว่าเราจะพยายามให้การแปลมีความถูกต้อง แต่โปรดทราบว่าการแปลโดยอัตโนมัติอาจมีข้อผิดพลาดหรือความไม่ถูกต้อง เอกสารต้นฉบับในภาษาดั้งเดิมควรถือเป็นแหล่งข้อมูลที่เชื่อถือได้ สำหรับข้อมูลที่สำคัญ ขอแนะนำให้ใช้บริการแปลภาษาจากผู้เชี่ยวชาญ เราไม่รับผิดชอบต่อความเข้าใจผิดหรือการตีความผิดที่เกิดจากการใช้การแปลนี้\n"
   ]
  }
 ],
 "metadata": {
  "kernelspec": {
   "display_name": ".venv",
   "language": "python",
   "name": "python3"
  },
  "language_info": {
   "codemirror_mode": {
    "name": "ipython",
    "version": 3
   },
   "file_extension": ".py",
   "mimetype": "text/x-python",
   "name": "python",
   "nbconvert_exporter": "python",
   "pygments_lexer": "ipython3",
   "version": "3.11.11"
  },
  "coopTranslator": {
   "original_hash": "a86c3ddfbe35024993bbf563588aad48",
   "translation_date": "2025-08-29T16:49:49+00:00",
   "source_file": "05-agentic-rag/code_samples/05-semantic-kernel-azure-ai-agent.ipynb",
   "language_code": "th"
  }
 },
 "nbformat": 4,
 "nbformat_minor": 2
}