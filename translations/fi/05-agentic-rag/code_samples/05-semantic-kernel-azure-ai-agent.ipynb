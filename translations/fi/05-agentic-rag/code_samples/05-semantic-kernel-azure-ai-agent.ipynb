{
 "cells": [
  {
   "cell_type": "markdown",
   "metadata": {},
   "source": [
    "# RAG Azure AI Agent -palvelun ja Semantic Kernelin avulla\n",
    "\n",
    "Tämä koodiesimerkki näyttää, kuinka luoda ja hallita Azure AI -agenttia hakupohjaisen generoinnin (RAG) toteuttamiseksi käyttämällä `Azure AI Agent Service` -palvelua ja `Semantic Kernel` -kirjastoa. Agentti käsittelee käyttäjän kyselyitä haetun kontekstin perusteella ja tarjoaa tarkkoja vastauksia sen mukaisesti.\n"
   ]
  },
  {
   "cell_type": "markdown",
   "metadata": {},
   "source": []
  },
  {
   "cell_type": "markdown",
   "metadata": {},
   "source": [
    "SQLite-version korjaus  \n",
    "Jos kohtaat virheen:  \n",
    "```\n",
    "RuntimeError: Your system has an unsupported version of sqlite3. Chroma requires sqlite3 >= 3.35.0\n",
    "```  \n",
    "\n",
    "Poista tämän koodilohkon kommentointi muistikirjasi alussa:  \n"
   ]
  },
  {
   "cell_type": "code",
   "execution_count": null,
   "metadata": {},
   "outputs": [],
   "source": [
    "# %pip install pysqlite3-binary\n",
    "# __import__('pysqlite3')\n",
    "# import sys\n",
    "# sys.modules['sqlite3'] = sys.modules.pop('pysqlite3')"
   ]
  },
  {
   "cell_type": "markdown",
   "metadata": {},
   "source": [
    "### Pakettien tuonti\n",
    "Seuraava koodi tuo tarvittavat paketit:\n"
   ]
  },
  {
   "cell_type": "code",
   "execution_count": null,
   "metadata": {},
   "outputs": [],
   "source": [
    "# Azure imports for project client and credentials\n",
    "from azure.ai.projects.models import FileSearchTool, OpenAIFile, VectorStore\n",
    "from azure.identity.aio import DefaultAzureCredential\n",
    "\n",
    "# Semantic Kernel imports\n",
    "from semantic_kernel.agents import AzureAIAgent, AzureAIAgentThread"
   ]
  },
  {
   "cell_type": "markdown",
   "metadata": {},
   "source": [
    "# Hakemukseen perustuva generointi Semantic Kernelin ja Azure AI Agent Servicen avulla\n",
    "\n",
    "Tämä esimerkki näyttää, kuinka käyttää **Azure AI Agent Service** -palvelua suorittamaan **hakemukseen perustuvaa generointia (RAG)** yhdistämällä kielimalli ja ladatun dokumentin tarjoama alakohtainen konteksti.\n",
    "\n",
    "### Miten se toimii\n",
    "\n",
    "1. **Dokumentin lataus**: Markdown-tiedosto (document.md), joka sisältää tietoa (Contoson matkavakuutuskäytäntö), ladataan agenttipalveluun.\n",
    "\n",
    "2. **Vektorivaraston luominen**: Dokumentti indeksoidaan vektorivarastoon, jotta sen sisältöä voidaan hakea semanttisesti.\n",
    "\n",
    "3. **Agentin konfigurointi**: Agentti luodaan käyttämällä `gpt-4o`-mallia seuraavilla tiukoilla ohjeilla:\n",
    "   - Vastaa kysymyksiin vain dokumentista haetun sisällön perusteella.\n",
    "   - Kieltäydy vastaamasta, jos kysymys ei kuulu dokumentin aihepiiriin.\n",
    "\n",
    "4. **Tiedostonhakutyökalun integrointi**: `FileSearchTool` rekisteröidään agentille, jolloin malli voi haun aikana etsiä ja noutaa asiaankuuluvia katkelmia indeksoidusta dokumentista.\n",
    "\n",
    "5. **Käyttäjän vuorovaikutus**: Käyttäjät voivat esittää kysymyksiä. Jos dokumentista löytyy asiaankuuluvaa tietoa, agentti tuottaa perustellun vastauksen.  \n",
    "   Jos ei, agentti vastaa selkeästi, että dokumentti ei sisällä riittävästi tietoa.\n"
   ]
  },
  {
   "cell_type": "markdown",
   "metadata": {},
   "source": [
    "### Päätoiminto\n",
    "\n"
   ]
  },
  {
   "cell_type": "markdown",
   "metadata": {},
   "source": [
    "Varmista ensin, että suoritat `az login` Azure CLI:llä, jotta oikea autentikointikonteksti on käytettävissä `DefaultAzureCredential`-tunnistautumisen aikana. Azure AI Agent Service ei käytä API-avaimia.\n"
   ]
  },
  {
   "cell_type": "code",
   "execution_count": null,
   "metadata": {},
   "outputs": [],
   "source": [
    "async def main():\n",
    "    async with (\n",
    "        DefaultAzureCredential() as creds,\n",
    "        AzureAIAgent.create_client(credential=creds) as client,\n",
    "    ):\n",
    "        file: OpenAIFile = await client.agents.upload_file_and_poll(file_path=\"document.md\", purpose=\"assistants\")\n",
    "        vector_store: VectorStore = await client.agents.create_vector_store_and_poll(\n",
    "            file_ids=[file.id], name=\"my_vectorstore\"\n",
    "        )\n",
    "\n",
    "        # Define agent name and instructions tailored for RAG.\n",
    "        AGENT_NAME = \"RAGAgent\"\n",
    "        AGENT_INSTRUCTIONS = \"\"\"\n",
    "        You are an AI assistant designed to answer user questions using only the information retrieved from the provided document(s).\n",
    "\n",
    "        - If a user's question cannot be answered using the retrieved context, **you must clearly respond**: \n",
    "        \"I'm sorry, but the uploaded document does not contain the necessary information to answer that question.\"\n",
    "        - Do not answer from general knowledge or reasoning. Do not make assumptions or generate hypothetical explanations.\n",
    "        - Do not provide definitions, tutorials, or commentary that is not explicitly grounded in the content of the uploaded file(s).\n",
    "        - If a user asks a question like \"What is a Neural Network?\", and this is not discussed in the uploaded document, respond as instructed above.\n",
    "        - For questions that do have relevant content in the document (e.g., Contoso's travel insurance coverage), respond accurately, and cite the document explicitly.\n",
    "\n",
    "        You must behave as if you have no external knowledge beyond what is retrieved from the uploaded document.\n",
    "        \"\"\"\n",
    "\n",
    "        \n",
    "        # Create file search tool with uploaded resources\n",
    "        file_search = FileSearchTool(vector_store_ids=[vector_store.id])\n",
    "\n",
    "        # 3. Create an agent on the Azure AI agent service with the file search tool\n",
    "        agent_definition = await client.agents.create_agent(\n",
    "            model=\"gpt-4o\",  # This model should match your Azure OpenAI deployment.\n",
    "            name=AGENT_NAME,\n",
    "            instructions=AGENT_INSTRUCTIONS,\n",
    "            tools=file_search.definitions,\n",
    "            tool_resources=file_search.resources,\n",
    "        )\n",
    "        \n",
    "        # Create the Azure AI Agent using the client and definition.\n",
    "        agent = AzureAIAgent(\n",
    "            client=client,\n",
    "            definition=agent_definition,\n",
    "        )\n",
    "        \n",
    "        # Create a thread to hold the conversation\n",
    "        # If no thread is provided, a new thread will be\n",
    "        # created and returned with the initial response\n",
    "        thread: AzureAIAgentThread | None = None\n",
    "        \n",
    "        # Example user queries.\n",
    "        user_inputs = [\n",
    "            \"Can you explain Contoso's travel insurance coverage?\",  # Relevant context.\n",
    "            \"What is a Neural Network?\"  # No relevant context from the document. Will not contain a source annotation.\n",
    "        ]\n",
    "        \n",
    "        try:\n",
    "            for user_input in user_inputs:\n",
    "                print(f\"# User: '{user_input}'\")\n",
    "                # Invoke the agent for the specified thread for response\n",
    "                async for response in agent.invoke(messages=user_input, thread=thread):\n",
    "                    print(f\"# {response.name}: {response}\")\n",
    "                    thread = response.thread\n",
    "        finally:\n",
    "            # Clean up resources.\n",
    "            await thread.delete() if thread else None\n",
    "            await client.agents.delete_vector_store(vector_store.id)\n",
    "            await client.agents.delete_file(file.id)\n",
    "            await client.agents.delete_agent(agent.id)\n",
    "            print(\"\\nCleaned up agent, thread, file, and vector store.\")\n",
    "\n",
    "await main()"
   ]
  },
  {
   "cell_type": "markdown",
   "metadata": {},
   "source": [
    "## Johdanto\n",
    "\n",
    "Tervetuloa tähän oppaaseen! Tässä asiakirjassa käsitellään, kuinka voit käyttää @@INLINE_CODE_0@@ tehokkaasti. Seuraavat osiot tarjoavat yksityiskohtaisia ohjeita ja esimerkkejä.\n",
    "\n",
    "[!NOTE] Tämä opas olettaa, että sinulla on perustiedot @@INLINE_CODE_1@@:sta.\n",
    "\n",
    "---\n",
    "\n",
    "## Asennus\n",
    "\n",
    "Ennen kuin aloitat, varmista, että järjestelmäsi täyttää seuraavat vaatimukset:\n",
    "\n",
    "1. @@INLINE_CODE_2@@ on asennettu.\n",
    "2. Sinulla on pääsy @@INLINE_CODE_3@@:aan.\n",
    "\n",
    "Asennusohjeet:\n",
    "\n",
    "1. Lataa tarvittavat tiedostot osoitteesta @@INLINE_CODE_4@@.\n",
    "2. Suorita seuraava komento:\n",
    "\n",
    "   ```\n",
    "# User: 'Can you explain Contoso's travel insurance coverage?'\n",
    "# Agent: Contoso's travel insurance coverage includes protection for medical emergencies, trip cancellations, and lost baggage【4:0†document.md】.\n",
    "# User: 'What is a Neural Network?'\n",
    "# Agent: I'm sorry, but the uploaded document does not contain the necessary information to answer that question.\n",
    "\n",
    "Cleaned up agent, thread, file, and vector store.\n",
    "```\n",
    "\n",
    "3. Tarkista, että asennus onnistui suorittamalla:\n",
    "\n",
    "   @@CODE_BLOCK_1@@\n",
    "\n",
    "[!TIP] Jos kohtaat ongelmia, tarkista @@INLINE_CODE_5@@-dokumentaatio.\n",
    "\n",
    "---\n",
    "\n",
    "## Käyttö\n",
    "\n",
    "Kun asennus on valmis, voit aloittaa @@INLINE_CODE_6@@:n käytön. Alla on esimerkki peruskäytöstä:\n",
    "\n",
    "@@CODE_BLOCK_2@@\n",
    "\n",
    "[!IMPORTANT] Muista korvata @@INLINE_CODE_7@@ omilla arvoillasi.\n",
    "\n",
    "---\n",
    "\n",
    "## Vianmääritys\n",
    "\n",
    "Jos kohtaat ongelmia, kokeile seuraavia ratkaisuja:\n",
    "\n",
    "- Tarkista @@INLINE_CODE_8@@-asetukset.\n",
    "- Suorita seuraava komento saadaksesi lisätietoja:\n",
    "\n",
    "  @@CODE_BLOCK_3@@\n",
    "\n",
    "[!WARNING] Älä muuta @@INLINE_CODE_9@@-tiedostoa suoraan, ellei se ole ehdottoman välttämätöntä.\n",
    "\n",
    "---\n",
    "\n",
    "## Yhteenveto\n",
    "\n",
    "Tässä oppaassa käsiteltiin @@INLINE_CODE_10@@:n asennus, käyttö ja vianmääritys. Jos tarvitset lisätietoja, tutustu viralliseen dokumentaatioon osoitteessa @@INLINE_CODE_11@@.\n",
    "\n",
    "Kiitos, että käytit tätä opasta!\n"
   ]
  },
  {
   "cell_type": "markdown",
   "metadata": {},
   "source": [
    "\n---\n\n**Vastuuvapauslauseke**:  \nTämä asiakirja on käännetty käyttämällä tekoälypohjaista käännöspalvelua [Co-op Translator](https://github.com/Azure/co-op-translator). Vaikka pyrimme tarkkuuteen, huomioithan, että automaattiset käännökset voivat sisältää virheitä tai epätarkkuuksia. Alkuperäinen asiakirja sen alkuperäisellä kielellä tulisi pitää ensisijaisena lähteenä. Kriittisen tiedon osalta suositellaan ammattimaista ihmiskäännöstä. Emme ole vastuussa väärinkäsityksistä tai virhetulkinnoista, jotka johtuvat tämän käännöksen käytöstä.\n"
   ]
  }
 ],
 "metadata": {
  "kernelspec": {
   "display_name": ".venv",
   "language": "python",
   "name": "python3"
  },
  "language_info": {
   "codemirror_mode": {
    "name": "ipython",
    "version": 3
   },
   "file_extension": ".py",
   "mimetype": "text/x-python",
   "name": "python",
   "nbconvert_exporter": "python",
   "pygments_lexer": "ipython3",
   "version": "3.11.11"
  },
  "coopTranslator": {
   "original_hash": "a86c3ddfbe35024993bbf563588aad48",
   "translation_date": "2025-08-29T19:18:20+00:00",
   "source_file": "05-agentic-rag/code_samples/05-semantic-kernel-azure-ai-agent.ipynb",
   "language_code": "fi"
  }
 },
 "nbformat": 4,
 "nbformat_minor": 2
}