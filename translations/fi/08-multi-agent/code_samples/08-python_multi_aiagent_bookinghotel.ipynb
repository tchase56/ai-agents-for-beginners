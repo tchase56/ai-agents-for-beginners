{
 "cells": [
  {
   "cell_type": "markdown",
   "metadata": {},
   "source": [
    "## **Esimerkkejä: Multi-AI-agentit hotellin varaamiseen**\n",
    "\n",
    "Nykymaailman kiireisessä tahdissa liikematkan suunnittelu on paljon muutakin kuin vain lennon ja hotellihuoneen varaamista. Se vaatii koordinointia ja tehokkuutta, jotka voivat olla haastavia saavuttaa. Tässä Multi-AI-agentit astuvat kuvaan, mullistaen tavan, jolla hallitsemme matkatarpeitamme.\n",
    "\n",
    "Kuvittele, että sinulla on käytössäsi joukko älykkäitä agentteja, jotka työskentelevät yhdessä hoitaakseen kaikki matkasi osa-alueet tarkasti ja vaivattomasti. Kehittyneen tekoälyteknologiamme avulla olemme luoneet erikoistuneita agentteja varausten tekemiseen ja matkasuunnitelmien järjestämiseen, mikä takaa saumattoman ja stressittömän matkakokemuksen.\n",
    "\n",
    "Tämä on perusskenaario. Kun suunnittelemme liikematkaa, meidän on neuvoteltava liikematka-agentin kanssa saadaksemme tietoa lentolipuista, hotelleista jne. Tekoälyagenttien avulla voimme luoda agentteja varausten tekemiseen ja matkasuunnitelmien järjestämiseen, jotta ne voivat tehdä yhteistyötä ja parantaa älykkyyden tasoa.\n"
   ]
  },
  {
   "cell_type": "markdown",
   "metadata": {},
   "source": [
    "# Alusta Azure AI Agent Service ja hanki konfiguraatiotiedot **.env**-tiedostosta\n",
    "\n",
    "### **.env**\n",
    "\n",
    "Luo .env-tiedosto\n",
    "\n",
    "**.env** sisältää Azure AI Agent Servicen yhteysmerkkijonon, AOAI:n käyttämän mallin sekä vastaavan Google API Search -palvelun API:n, ENDPOINT:in jne.\n",
    "\n",
    "- **AZURE_AI_AGENT_MODEL_DEPLOYMENT_NAME** = \"Azure AI Agent Servicen mallin käyttöönoton nimi\"\n",
    "\n",
    "[**NOTE**] Tarvitset mallin, jonka rajoitus on 100,000 (tokenit per minuutti) ja 600 (pyynnöt per minuutti).\n",
    "\n",
    "  Mallin voi hankkia Azure AI Foundry -sivustolta kohdasta Model and Endpoint.\n",
    "\n",
    "- **AZURE_AI_AGENT_PROJECT_CONNECTION_STRING** = \"Azure AI Agent Servicen projektin yhteysmerkkijono\"\n",
    "\n",
    "  Projektin yhteysmerkkijonon löydät projektin yleiskatsauksesta AI Foundry -portaalin näytöltä.\n",
    "\n",
    "- **SERPAPI_SEARCH_API_KEY** = \"SERPAPI-hakupalvelun API-AVAIMESI\"\n",
    "- **SERPAPI_SEARCH_ENDPOINT** = \"SERPAPI-hakupalvelun ENDPOINT\"\n",
    "\n",
    "Azure AI Agent Servicen mallin käyttöönoton nimen ja projektin yhteysmerkkijonon hankkimiseksi sinun täytyy luoda Azure AI Agent Service. Suositellaan käyttämään [tätä mallia](https://portal.azure.com/#create/Microsoft.Template/uri/https%3A%2F%2Fraw.githubusercontent.com%2Ffosteramanda%2Fazure-agent-quickstart-templates%2Frefs%2Fheads%2Fmaster%2Fquickstarts%2Fmicrosoft.azure-ai-agent-service%2Fstandard-agent%2Fazuredeploy.json) sen luomiseen suoraan (***Huom:*** Azure AI Agent Service on tällä hetkellä saatavilla vain rajoitetuilla alueilla. Suositellaan viittaamaan [tähän linkkiin](https://learn.microsoft.com/en-us/azure/ai-services/agents/concepts/model-region-support) alueen asettamiseksi).\n",
    "\n",
    "Agentin täytyy päästä käsiksi SERPAPI:in. Suositellaan rekisteröitymistä [tämän linkin](https://serpapi.com/searches) kautta. Rekisteröitymisen jälkeen voit saada yksilöllisen API-AVAIMEN ja ENDPOINT:in.\n"
   ]
  },
  {
   "cell_type": "markdown",
   "metadata": {},
   "source": [
    "# Kirjaudu Azureen\n",
    "\n",
    "Sinun täytyy nyt kirjautua Azureen. Avaa terminaali VScodessa ja suorita `az login` -komento.\n"
   ]
  },
  {
   "cell_type": "markdown",
   "metadata": {},
   "source": [
    "# Asennus\n",
    "\n",
    "Tämän muistikirjan suorittamiseksi sinun tulee asentaa seuraavat kirjastot. Tässä on luettelo vaadituista kirjastoista ja vastaavat pip-asennuskomennot:\n",
    "\n",
    "azure-identity: Azure-todennusta varten.  \n",
    "requests: HTTP-pyyntöjen tekemiseen.  \n",
    "semantic-kernel: Semanttisen ytimen kehystä varten (olettaen, että tämä on mukautettu tai erityinen kirjasto, saatat joutua asentamaan sen tietystä lähteestä tai arkistosta).  \n"
   ]
  },
  {
   "cell_type": "code",
   "execution_count": null,
   "metadata": {},
   "outputs": [],
   "source": [
    "!pip install azure-identity\n",
    "!pip install requests\n",
    "!pip install semantic-kernel\n",
    "!pip install --upgrade semantic_kernel\n",
    "!pip install azure-cli"
   ]
  },
  {
   "cell_type": "markdown",
   "metadata": {},
   "source": [
    "# Selitys:  \n",
    "import asyncio: Tämä tuo asyncio-moduulin, joka tarjoaa tuen asynkroniselle ohjelmoinnille Pythonissa. Sen avulla voit kirjoittaa rinnakkaista koodia käyttämällä async- ja await-syntaksia.  \n",
    "from typing import Annotated: Tämä tuo Annotated-tyypin typing-moduulista. Annotatedia käytetään lisäämään metatietoja tyyppivihjeisiin, mikä voi olla hyödyllistä esimerkiksi validointiin, dokumentointiin tai työkalujen käyttöön.  \n"
   ]
  },
  {
   "cell_type": "code",
   "execution_count": null,
   "metadata": {
    "dotnet_interactive": {
     "language": "csharp"
    },
    "polyglot_notebook": {
     "kernelName": "csharp"
    }
   },
   "outputs": [],
   "source": [
    "import asyncio,os\n",
    "from typing import Annotated"
   ]
  },
  {
   "cell_type": "markdown",
   "metadata": {},
   "source": [
    "# Selitys:\n",
    "Käyttämällä from dotenv import load_dotenv ja load_dotenv() voit helposti hallita konfiguraatioasetuksia ja arkaluontoista tietoa (kuten API-avaimia ja tietokannan URL-osoitteita) .env-tiedostossa. Tämä pitää ne erillään lähdekoodistasi ja tekee sovelluksestasi turvallisemman ja helpommin konfiguroitavan.\n"
   ]
  },
  {
   "cell_type": "code",
   "execution_count": null,
   "metadata": {},
   "outputs": [],
   "source": [
    "import os\n",
    "from dotenv import load_dotenv\n",
    "\n",
    "# Load environment variables from .env file\n",
    "load_dotenv()"
   ]
  },
  {
   "cell_type": "markdown",
   "metadata": {},
   "source": [
    "# Selitys:\n",
    "\n",
    "Tuontilause: from azure.identity.aio import DefaultAzureCredential: Tämä tuo DefaultAzureCredential-luokan azure.identity.aio-moduulista. Moduulin nimen aio-osa osoittaa, että se on suunniteltu asynkronisiin operaatioihin.\n",
    "\n",
    "DefaultAzureCredential-luokan tarkoitus: DefaultAzureCredential-luokka on osa Azure SDK:ta Pythonille. Se tarjoaa oletustavan todentaa Azure-palveluiden kanssa. Se yrittää todentaa useilla menetelmillä tietyssä järjestyksessä, kuten ympäristömuuttujilla, hallitulla identiteetillä ja Azure CLI -tunnuksilla.\n",
    "\n",
    "Asynkroniset operaatiot: Aio-moduuli osoittaa, että DefaultAzureCredential-luokka tukee asynkronisia operaatioita. Tämä tarkoittaa, että sitä voi käyttää asyncio:n kanssa suorittamaan ei-estäviä todentamispyyntöjä.\n"
   ]
  },
  {
   "cell_type": "code",
   "execution_count": null,
   "metadata": {
    "dotnet_interactive": {
     "language": "csharp"
    },
    "polyglot_notebook": {
     "kernelName": "csharp"
    }
   },
   "outputs": [],
   "source": [
    "from azure.identity.aio import DefaultAzureCredential"
   ]
  },
  {
   "cell_type": "markdown",
   "metadata": {},
   "source": [
    "# Selitys:\n",
    "Tuo erilaisia moduuleja ja luokkia semantic_kernel-paketista. Tässä on jokaisen tuonnin erittely:\n",
    "\n",
    "AgentGroupChat semantic_kernel.agents: Tämä luokka käsittelee ryhmäkeskusteluun liittyviä toimintoja AI-agenttien kanssa. AzureAIAgent ja AzureAIAgentSettings semantic_kernel.agents.azure_ai\n",
    "\n",
    "AzureAIAgent: Tätä luokkaa käytetään luomaan ja hallitsemaan AI-agentteja, jotka hyödyntävät Azure AI -palveluita.\n",
    "\n",
    "AzureAIAgentSettings: Tätä luokkaa käytetään AzureAIAgentin asetusten määrittämiseen. TerminationStrategy semantic_kernel.agents.strategies.termination.termination_strategy:\n",
    "\n",
    "Tämä luokka määrittää strategiat AI-agenttien suorittamisen lopettamiseksi tietyissä olosuhteissa. ChatMessageContent semantic_kernel.contents.chat_message_content:\n",
    "\n",
    "Tätä luokkaa käytetään käsittelemään keskusteluviestien sisältöä.\n",
    "AuthorRole semantic_kernel.contents.utils.author_role:\n",
    "\n",
    "Tämä luokka määrittää eri roolit kirjoittajille keskusteluviestien yhteydessä.\n",
    "\n",
    "kernel_function semantic_kernel.functions.kernel_function_decorator: Tätä dekoratoria käytetään määrittämään ytimen funktioita, jotka voidaan suorittaa semantic kernel -kehyksen sisällä.\n",
    "Nämä tuonnit asettavat tarvittavat komponentit AI-agenttien luomiseen ja hallintaan, jotka voivat olla vuorovaikutuksessa ryhmäkeskusteluympäristössä, mahdollisesti tehtäviin kuten hotellien varaaminen tai vastaavat aktiviteetit.\n"
   ]
  },
  {
   "cell_type": "code",
   "execution_count": null,
   "metadata": {
    "dotnet_interactive": {
     "language": "csharp"
    },
    "polyglot_notebook": {
     "kernelName": "csharp"
    }
   },
   "outputs": [],
   "source": [
    "from semantic_kernel.agents import AgentGroupChat\n",
    "from semantic_kernel.agents import AzureAIAgent, AzureAIAgentSettings\n",
    "from semantic_kernel.agents.strategies.termination.termination_strategy import TerminationStrategy\n",
    "from semantic_kernel.contents import ChatMessageContent\n",
    "from semantic_kernel.contents import AuthorRole\n",
    "from semantic_kernel.functions.kernel_function_decorator import kernel_function"
   ]
  },
  {
   "cell_type": "markdown",
   "metadata": {},
   "source": [
    "# Selitys:\n",
    "Seuraavaksi tuodaan CodeInterpreterTool-luokka azure.ai.projects.models-moduulista.\n",
    "\n",
    "CodeInterpreterTool: Tämä luokka on osa Azure AI SDK:ta ja sitä käytetään koodin tulkitsemiseen ja suorittamiseen AI-projektien yhteydessä. Se tarjoaa toimintoja, kuten koodinpätkien suorittaminen, koodin analysointi tai koodin suorittamisen integrointi AI-työnkulkuihin.  \n",
    "Tämä tuonti asettaa tarvittavan komponentin käyttöön CodeInterpreterToolin hyödyntämiseksi projektissasi, mikä voi olla hyödyllistä tehtävissä, jotka liittyvät koodin dynaamiseen tulkitsemiseen ja suorittamiseen.\n"
   ]
  },
  {
   "cell_type": "code",
   "execution_count": null,
   "metadata": {
    "dotnet_interactive": {
     "language": "csharp"
    },
    "polyglot_notebook": {
     "kernelName": "csharp"
    }
   },
   "outputs": [],
   "source": [
    "from azure.ai.projects.models import CodeInterpreterTool"
   ]
  },
  {
   "cell_type": "markdown",
   "metadata": {},
   "source": [
    "# Selitys:  \n",
    "ApprovalTerminationStrategy-luokka tarjoaa erityisen strategian tekoälyagentin toiminnan lopettamiseksi. Agentti lopettaa toimintansa, jos sen vuorovaikutushistorian viimeinen viesti sisältää sanan \"tallennettu\". Tämä voi olla hyödyllistä tilanteissa, joissa agentin tehtävä katsotaan päättyneeksi, kun se saa vahvistuksen siitä, että jokin on \"tallennettu\". Määritä vuorovaikutusmenetelmä. Kun varaussuunnitelma on tallennettu, se voidaan lopettaa vastaanottamalla tallennettu-signaali.\n"
   ]
  },
  {
   "cell_type": "code",
   "execution_count": null,
   "metadata": {
    "dotnet_interactive": {
     "language": "csharp"
    },
    "polyglot_notebook": {
     "kernelName": "csharp"
    }
   },
   "outputs": [],
   "source": [
    "class ApprovalTerminationStrategy(TerminationStrategy):\n",
    "    \"\"\"A strategy for determining when an agent should terminate.\"\"\"\n",
    "\n",
    "    async def should_agent_terminate(self, agent, history):\n",
    "        \"\"\"Check if the agent should terminate.\"\"\"\n",
    "        return \"saved\" in history[-1].content.lower()"
   ]
  },
  {
   "cell_type": "markdown",
   "metadata": {},
   "source": [
    "# Selitys:\n",
    "\n",
    "Rivikoodi alustaa AzureAIAgentSettings-olion oletus- tai ennalta määritetyillä asetuksilla kutsumalla create()-metodia. Tämä asetusten olio (ai_agent_settings) voidaan sen jälkeen käyttää AzureAIAgent-instanssin konfigurointiin ja hallintaan.\n"
   ]
  },
  {
   "cell_type": "code",
   "execution_count": null,
   "metadata": {
    "dotnet_interactive": {
     "language": "csharp"
    },
    "polyglot_notebook": {
     "kernelName": "csharp"
    }
   },
   "outputs": [],
   "source": [
    "ai_agent_settings = AzureAIAgentSettings.create()"
   ]
  },
  {
   "cell_type": "markdown",
   "metadata": {},
   "source": [
    "# Selitys:\n",
    "Kun otat käyttöön requests-kirjaston, voit helposti tehdä HTTP-pyyntöjä ja käyttää verkkopalveluita Python-koodissasi.\n"
   ]
  },
  {
   "cell_type": "code",
   "execution_count": null,
   "metadata": {
    "dotnet_interactive": {
     "language": "csharp"
    },
    "polyglot_notebook": {
     "kernelName": "csharp"
    }
   },
   "outputs": [],
   "source": [
    "import requests"
   ]
  },
  {
   "cell_type": "markdown",
   "metadata": {},
   "source": [
    "# Selitys:\n",
    "Tämä on muuttuja, joka tallentaa API-avaimen SERP (Search Engine Results Page) API-palvelun käyttöä varten. API-avain on yksilöllinen tunniste, jota käytetään tilisi kanssa yhdistettyjen pyyntöjen todentamiseen.\n",
    "\n",
    "'GOOGLE_SEARCH_API_KEY': Tämä on paikkamerkkijono. Sinun täytyy korvata ''GOOGLE_SEARCH_API_KEY' todellisella SERP API-avaimellasi.\n",
    "\n",
    "Tarkoitus: Tämän rivin tarkoitus on tallentaa API-avain muuttujaan, jotta sitä voidaan käyttää SERP API -palvelun pyyntöjen todentamiseen. API-avain on välttämätön palvelun käyttöön ja hakujen suorittamiseen.\n",
    "\n",
    "Kuinka hankkia SERP API-avain: Hankkiaksesi SERP API-avaimen, noudata näitä yleisiä ohjeita osoitteessa https://serpapi.com (tarkat vaiheet voivat vaihdella käyttämäsi SERP API -palvelun mukaan):\n",
    "\n",
    "Valitse SERP API -palvelu: Saatavilla on useita SERP API -palveluita, kuten SerpAPI, Google Custom Search JSON API ja muita. Valitse tarpeisiisi parhaiten sopiva palvelu.\n",
    "\n",
    "Rekisteröidy tilille:\n",
    "\n",
    "Siirry valitsemasi SERP API -palvelun verkkosivustolle https://www.serpapi.com ja rekisteröidy tilille. Sinun täytyy mahdollisesti antaa perustietoja ja vahvistaa sähköpostiosoitteesi.\n",
    "\n",
    "Luo API-avain:\n",
    "\n",
    "Rekisteröitymisen jälkeen kirjaudu tilillesi ja siirry API-osioon tai hallintapaneeliin. Etsi vaihtoehto uuden API-avaimen luomiseen tai generointiin.\n",
    "Kopioi API-avain:\n",
    "\n",
    "Kun API-avain on luotu, kopioi se. Tätä avainta käytetään pyyntöjen todentamiseen SERP API -palvelussa.\n",
    "Korvaa paikkamerkki:\n",
    "\n",
    "Korvaa paikkamerkki .env-tiedostossasi.\n"
   ]
  },
  {
   "cell_type": "code",
   "execution_count": null,
   "metadata": {
    "dotnet_interactive": {
     "language": "csharp"
    },
    "polyglot_notebook": {
     "kernelName": "csharp"
    }
   },
   "outputs": [],
   "source": [
    "SERPAPI_SEARCH_API_KEY=os.getenv('SERPAPI_SEARCH_API_KEY')"
   ]
  },
  {
   "cell_type": "code",
   "execution_count": null,
   "metadata": {
    "dotnet_interactive": {
     "language": "csharp"
    },
    "polyglot_notebook": {
     "kernelName": "csharp"
    }
   },
   "outputs": [],
   "source": [
    "SERPAPI_SEARCH_ENDPOINT = os.getenv('SERPAPI_SEARCH_ENDPOINT')"
   ]
  },
  {
   "cell_type": "markdown",
   "metadata": {},
   "source": [
    "# Selitys:\n",
    "BookingPlugin-luokka tarjoaa menetelmiä hotellien ja lentojen varaamiseen Serpapi.comin Google Search API:n avulla. Se muodostaa tarvittavat parametrit, lähettää API-pyynnöt ja käsittelee vastaukset palauttaakseen olennaiset varausinformaatio. API-avain (SERPAPI_SEARCH_API_KEY) ja päätepiste (SERPAPI_SEARCH_ENDPOINT) käytetään Google Search API:n todennukseen ja pyyntöjen lähettämiseen.\n"
   ]
  },
  {
   "cell_type": "code",
   "execution_count": null,
   "metadata": {
    "dotnet_interactive": {
     "language": "csharp"
    },
    "polyglot_notebook": {
     "kernelName": "csharp"
    }
   },
   "outputs": [],
   "source": [
    "# Define Booking Plugin\n",
    "class BookingPlugin:\n",
    "    \"\"\"Booking Plugin for customers\"\"\"\n",
    "    @kernel_function(description=\"booking hotel\")\n",
    "    def booking_hotel(self,query: Annotated[str, \"The name of the city\"], check_in_date: Annotated[str, \"Hotel Check-in Time\"], check_out_date: Annotated[str, \"Hotel Check-in Time\"])-> Annotated[str, \"Return the result of booking hotel infomation\"]:\n",
    "\n",
    "        params = {\n",
    "            \"engine\": \"google_hotels\",\n",
    "            \"q\": query,\n",
    "            \"check_in_date\": check_in_date,\n",
    "            \"check_out_date\": check_out_date,\n",
    "            \"adults\": \"2\",\n",
    "            \"currency\": \"USD\",\n",
    "            \"gl\": \"us\",\n",
    "            \"hl\": \"en\",\n",
    "            \"api_key\": SERPAPI_SEARCH_API_KEY\n",
    "        }\n",
    "\n",
    "        response = requests.get(SERPAPI_SEARCH_ENDPOINT, params=params)\n",
    "        if response.status_code == 200:\n",
    "            response = response.json()\n",
    "            return response[\"properties\"]\n",
    "        else:\n",
    "            return None\n",
    "\n",
    "    \n",
    "    @kernel_function(description=\"booking fight\")\n",
    "    def  booking_fight(self,origin: Annotated[str, \"The name of Departure\"], destination: Annotated[str, \"The name of Destination\"], outbound_date: Annotated[str, \"The date of outbound\"], return_date: Annotated[str, \"The date of Return_date\"])-> Annotated[str, \"Return the result of booking fight infomation\"]:\n",
    "        \n",
    "        go_params = {\n",
    "            \"engine\": \"google_flights\",   \n",
    "            \"departure_id\": origin,\n",
    "            \"arrival_id\": destination,\n",
    "            \"outbound_date\": outbound_date,\n",
    "            \"return_date\": return_date,  \n",
    "            \"currency\": \"USD\",\n",
    "            \"hl\": \"en\",\n",
    "            \"api_key\": SERPAPI_SEARCH_API_KEY  \n",
    "        }\n",
    "\n",
    "        print(go_params)\n",
    "\n",
    "        go_response = requests.get(SERPAPI_SEARCH_ENDPOINT, params=go_params)\n",
    "\n",
    "\n",
    "        result = ''\n",
    "\n",
    "        if go_response.status_code == 200:\n",
    "            response = go_response.json()\n",
    "\n",
    "            result += \"# outbound \\n \" + str(response)\n",
    "        else:\n",
    "            print('error!!!')\n",
    "            # return None\n",
    "\n",
    "        \n",
    "        back_params = {\n",
    "            \"engine\": \"google_flights\",   \n",
    "            \"departure_id\": destination,\n",
    "            \"arrival_id\": origin,\n",
    "            \"outbound_date\": return_date,\n",
    "            \"return_date\": return_date,  \n",
    "            \"currency\": \"USD\",\n",
    "            \"hl\": \"en\",\n",
    "            \"api_key\": SERPAPI_SEARCH_API_KEY  \n",
    "        }\n",
    "\n",
    "\n",
    "        print(back_params)\n",
    "\n",
    "\n",
    "        back_response = requests.get(SERPAPI_SEARCH_ENDPOINT, params=back_params)\n",
    "\n",
    "\n",
    "\n",
    "        if back_response.status_code == 200:\n",
    "            response = back_response.json()\n",
    "\n",
    "            result += \"\\n # return \\n\"  + str(response)\n",
    "\n",
    "        else:\n",
    "            print('error!!!')\n",
    "            # return None\n",
    "        \n",
    "        print(result)\n",
    "\n",
    "        return result\n",
    "\n",
    "        \n"
   ]
  },
  {
   "cell_type": "markdown",
   "metadata": {},
   "source": [
    "# Selitys:\n",
    "SavePlugin-luokka tarjoaa saving_plan-metodin, jonka avulla voi tallentaa matkasuunnitelmia Azure AI -palveluiden avulla. Se määrittää Azuren tunnistetiedot, luo AI-agentin, käsittelee käyttäjän syötteet matkasuunnitelman sisällön luomiseksi ja tallentamiseksi sekä hoitaa tiedostojen tallennuksen ja siivoustoiminnot. Metodi palauttaa \"Tallennettu\" onnistuneen suorituksen jälkeen.\n"
   ]
  },
  {
   "cell_type": "code",
   "execution_count": null,
   "metadata": {
    "dotnet_interactive": {
     "language": "csharp"
    },
    "polyglot_notebook": {
     "kernelName": "csharp"
    }
   },
   "outputs": [],
   "source": [
    "class SavePlugin:\n",
    "    \"\"\"Save Plugin for customers\"\"\"\n",
    "    @kernel_function(description=\"saving plan\")\n",
    "    async def saving_plan(self,tripplan: Annotated[str, \"The content of trip plan\"])-> Annotated[str, \"Return status of save content\"]:\n",
    "\n",
    "        async with (\n",
    "            DefaultAzureCredential() as creds,\n",
    "            AzureAIAgent.create_client(\n",
    "                credential=creds,\n",
    "                conn_str=ai_agent_settings.project_connection_string.get_secret_value(),\n",
    "            ) as client,\n",
    "        ):\n",
    "\n",
    "            code_interpreter = CodeInterpreterTool()\n",
    "            \n",
    "            agent_definition = await client.agents.create_agent(\n",
    "                model=ai_agent_settings.model_deployment_name,\n",
    "                tools=code_interpreter.definitions,\n",
    "                tool_resources=code_interpreter.resources,\n",
    "            )\n",
    "\n",
    "\n",
    "            agent = AzureAIAgent(\n",
    "                client=client,\n",
    "                definition=agent_definition,\n",
    "            )\n",
    "\n",
    "            thread = await client.agents.create_thread()\n",
    "\n",
    "\n",
    "            user_inputs = [\n",
    "                \"\"\"\n",
    "            \n",
    "                        You are my Python programming assistant. Generate code,save \"\"\"+ tripplan +\n",
    "                        \n",
    "                    \"\"\"    \n",
    "                        and execute it according to the following requirements\n",
    "\n",
    "                        1. Save blog content to trip-{YYMMDDHHMMSS}.md\n",
    "\n",
    "                        2. give me the download this file link\n",
    "                    \"\"\"\n",
    "            ]\n",
    "\n",
    "\n",
    "\n",
    "            try:\n",
    "                for user_input in user_inputs:\n",
    "                    # Add the user input as a chat message\n",
    "                    await agent.add_chat_message(\n",
    "                        thread_id=thread.id, message=ChatMessageContent(role=AuthorRole.USER, content=user_input)\n",
    "                    )\n",
    "                    print(f\"# User: '{user_input}'\")\n",
    "                    # Invoke the agent for the specified thread\n",
    "                    async for content in agent.invoke(thread_id=thread.id):\n",
    "                        if content.role != AuthorRole.TOOL:\n",
    "                            print(f\"# Agent: {content.content}\")\n",
    "\n",
    "                    \n",
    "                    messages = await client.agents.list_messages(thread_id=thread.id)\n",
    "\n",
    "                    # OpenAIPageableListOfThreadMessage\n",
    "                    # OpenAIPageableListOfThreadMessage\n",
    "\n",
    "\n",
    "                    for file_path_annotation in messages.file_path_annotations:\n",
    "\n",
    "                            file_name = os.path.basename(file_path_annotation.text)\n",
    "\n",
    "                            await client.agents.save_file(file_id=file_path_annotation.file_path.file_id, file_name=file_name,target_dir=\"./trip\")\n",
    "\n",
    "                    \n",
    "            finally:\n",
    "                await client.agents.delete_thread(thread.id)\n",
    "                await client.agents.delete_agent(agent.id)\n",
    "\n",
    "\n",
    "        return \"Saved\""
   ]
  },
  {
   "cell_type": "markdown",
   "metadata": {},
   "source": [
    "# Selitys:\n",
    "Tämä koodi määrittää Azure AI -agentit hoitamaan lentojen ja hotellien varaamisen sekä matkasuunnitelmien tallentamisen käyttäjän syötteiden perusteella. Se käyttää Azure-tunnistetietoja agenttien luomiseen ja konfigurointiin, käsittelee käyttäjän syötteitä ryhmäkeskustelun kautta ja varmistaa asianmukaisen siivouksen tehtävien suorittamisen jälkeen. Agentit käyttävät tiettyjä liitännäisiä (BookingPlugin ja SavePlugin) suorittaakseen omat tehtävänsä.\n"
   ]
  },
  {
   "cell_type": "code",
   "execution_count": null,
   "metadata": {
    "dotnet_interactive": {
     "language": "csharp"
    },
    "polyglot_notebook": {
     "kernelName": "csharp"
    }
   },
   "outputs": [],
   "source": [
    "async with (\n",
    "    DefaultAzureCredential() as creds,\n",
    "    AzureAIAgent.create_client(\n",
    "        credential=creds,\n",
    "        conn_str=ai_agent_settings.project_connection_string.get_secret_value(),\n",
    "    ) as client,\n",
    "):\n",
    "    BOOKING_AGENT_NAME = \"BookingAgent\"\n",
    "    BOOKING_AGENT_INSTRUCTIONS = \"\"\"\n",
    "    You are a booking agent. Help me book flights or hotels.\n",
    "\n",
    "    Thought: Please understand the user's intention and confirm whether to use the reservation system to complete the task.\n",
    "\n",
    "    Actions:\n",
    "    - For flight bookings, convert the departure and destination names into airport codes.\n",
    "    - Use the appropriate API for hotel or flight bookings. Verify that all necessary parameters are available. If any parameters are missing, ask the user to provide them. If all parameters are complete, call the corresponding function.\n",
    "    - If the task is not related to hotel or flight booking, respond with the final answer only.\n",
    "    - Output the results using a markdown table:\n",
    "      - For flight bookings, output separate outbound and return contents in the order of:\n",
    "        Departure Airport | Airline | Flight Number | Departure Time | Arrival Airport | Arrival Time | Duration | Airplane | Travel Class | Price (USD) | Legroom | Extensions | Carbon Emissions (kg).\n",
    "      - For hotel bookings, output in the order of:\n",
    "        Property Name | Property Description | Check-in Time | Check-out Time | Prices | Nearby Places | Hotel Class | GPS Coordinates.\n",
    "    \"\"\"\n",
    "\n",
    "    SAVE_AGENT_NAME = \"SaveAgent\"\n",
    "    SAVE_AGENT_INSTRUCTIONS = \"\"\"\n",
    "    You are a save tool agent. Help me to save the trip plan.\n",
    "    \"\"\"\n",
    "\n",
    "    # Create agent definition\n",
    "    booking_agent_definition = await client.agents.create_agent(\n",
    "        model=ai_agent_settings.model_deployment_name,\n",
    "        name=BOOKING_AGENT_NAME,\n",
    "        instructions=BOOKING_AGENT_INSTRUCTIONS,\n",
    "    )\n",
    "\n",
    "    # Create the AzureAI Agent\n",
    "    booking_agent = AzureAIAgent(\n",
    "        client=client,\n",
    "        definition=booking_agent_definition,\n",
    "        # Optionally configure polling options\n",
    "        # polling_options=RunPollingOptions(run_polling_interval=timedelta(seconds=1)),\n",
    "    )\n",
    "\n",
    "    # Add the sample plugin to the kernel\n",
    "    booking_agent.kernel.add_plugin(BookingPlugin(), plugin_name=\"booking\")\n",
    "\n",
    "    # Create agent definition\n",
    "    save_agent_definition = await client.agents.create_agent(\n",
    "        model=ai_agent_settings.model_deployment_name,\n",
    "        name=SAVE_AGENT_NAME,\n",
    "        instructions=SAVE_AGENT_INSTRUCTIONS\n",
    "    )\n",
    "\n",
    "    # Create the AzureAI Agent\n",
    "    save_agent = AzureAIAgent(\n",
    "        client=client,\n",
    "        definition=save_agent_definition,\n",
    "    )\n",
    "\n",
    "    save_agent.kernel.add_plugin(SavePlugin(), plugin_name=\"saving\")\n",
    "\n",
    "    user_inputs = [\n",
    "        \"I have a business trip from London to New York in Feb 20 2025 to Feb 27 2025 ,help me to book a hotel and fight tickets and save it\"\n",
    "    ]\n",
    "\n",
    "    chat = AgentGroupChat(\n",
    "        agents=[booking_agent, save_agent],\n",
    "        termination_strategy=ApprovalTerminationStrategy(agents=[save_agent], maximum_iterations=10),\n",
    "    )\n",
    "\n",
    "    try:\n",
    "        for user_input in user_inputs:\n",
    "            # Add the user input as a chat message\n",
    "            await chat.add_chat_message(\n",
    "                ChatMessageContent(role=AuthorRole.USER, content=user_input)\n",
    "            )\n",
    "            print(f\"# User: '{user_input}'\")\n",
    "\n",
    "            async for content in chat.invoke():\n",
    "                print(f\"# {content.role} - {content.name or '*'}: '{content.content}'\")\n",
    "\n",
    "            print(f\"# IS COMPLETE: {chat.is_complete}\")\n",
    "\n",
    "            print(\"*\" * 60)\n",
    "            print(\"Chat History (In Descending Order):\\n\")\n",
    "            async for message in chat.get_chat_messages(agent=save_agent):\n",
    "                print(f\"# {message.role} - {message.name or '*'}: '{message.content}'\")\n",
    "    finally:\n",
    "        await chat.reset()\n",
    "        await client.agents.delete_agent(save_agent.id)\n",
    "        await client.agents.delete_agent(booking_agent.id)\n"
   ]
  },
  {
   "cell_type": "markdown",
   "metadata": {},
   "source": [
    "\n---\n\n**Vastuuvapauslauseke**:  \nTämä asiakirja on käännetty käyttämällä tekoälypohjaista käännöspalvelua [Co-op Translator](https://github.com/Azure/co-op-translator). Vaikka pyrimme tarkkuuteen, huomioithan, että automaattiset käännökset voivat sisältää virheitä tai epätarkkuuksia. Alkuperäinen asiakirja sen alkuperäisellä kielellä tulisi pitää ensisijaisena lähteenä. Kriittisen tiedon osalta suositellaan ammattimaista ihmiskäännöstä. Emme ole vastuussa väärinkäsityksistä tai virhetulkinnoista, jotka johtuvat tämän käännöksen käytöstä.\n"
   ]
  }
 ],
 "metadata": {
  "kernelspec": {
   "display_name": "3.12.1",
   "language": "python",
   "name": "python3"
  },
  "language_info": {
   "codemirror_mode": {
    "name": "ipython",
    "version": 3
   },
   "file_extension": ".py",
   "mimetype": "text/x-python",
   "name": "python",
   "nbconvert_exporter": "python",
   "pygments_lexer": "ipython3",
   "version": "3.12.1"
  },
  "polyglot_notebook": {
   "kernelInfo": {
    "defaultKernelName": "csharp",
    "items": [
     {
      "aliases": [],
      "name": "csharp"
     }
    ]
   }
  },
  "coopTranslator": {
   "original_hash": "1baa60020a95eda27b7e9ecfda99965b",
   "translation_date": "2025-08-29T19:00:52+00:00",
   "source_file": "08-multi-agent/code_samples/08-python_multi_aiagent_bookinghotel.ipynb",
   "language_code": "fi"
  }
 },
 "nbformat": 4,
 "nbformat_minor": 2
}