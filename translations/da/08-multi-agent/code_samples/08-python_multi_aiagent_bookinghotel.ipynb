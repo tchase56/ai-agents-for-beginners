{
 "cells": [
  {
   "cell_type": "markdown",
   "metadata": {},
   "source": [
    "## **Eksempler: Multi-AI-agenter til hotelbooking**\n",
    "\n",
    "I dagens hektiske verden indebærer planlægning af en forretningsrejse mere end blot at booke en flybillet og et hotelværelse. Det kræver en grad af koordinering og effektivitet, som kan være udfordrende at opnå. Her kommer Multi-AI-agenter ind i billedet og revolutionerer måden, vi håndterer vores rejsebehov på.\n",
    "\n",
    "Forestil dig at have et team af intelligente agenter til rådighed, der arbejder sammen for at håndtere alle aspekter af din rejse med præcision og lethed. Med vores avancerede AI-teknologi har vi skabt specialiserede agenter til bookingtjenester og planlægning af rejseplaner, hvilket sikrer en problemfri og stressfri rejseoplevelse.\n",
    "\n",
    "Dette er et grundlæggende scenarie. Når vi planlægger en forretningsrejse, skal vi konsultere en forretningsrejseagent for at få information om flybilletter, hotelinformation osv. Gennem AI-agenter kan vi opbygge agenter til bookingtjenester og agenter til planlægning af rejseplaner, som kan samarbejde og forbedre intelligensniveauet.\n"
   ]
  },
  {
   "cell_type": "markdown",
   "metadata": {},
   "source": [
    "# Initialiser Azure AI Agent Service og få konfigurationsoplysninger fra **.env**\n",
    "\n",
    "### **.env** \n",
    "\n",
    "Opret en .env-fil \n",
    "\n",
    "**.env** indeholder forbindelsesstrengen til Azure AI Agent Service, modellen brugt af AOAI, samt den tilsvarende Google API Search service API, ENDPOINT osv.\n",
    "\n",
    "- **AZURE_AI_AGENT_MODEL_DEPLOYMENT_NAME** = \"Navnet på din Azure AI Agent Service Model Deployment\"\n",
    "\n",
    "[**NOTE**] Du skal bruge en model med 100.000 Rate Limit (Tokens per minut) og en Rate Limit på 600 (Forespørgsler per minut)\n",
    "\n",
    "  Du kan få modellen i Azure AI Foundry - Model og Endpoint. \n",
    "\n",
    "- **AZURE_AI_AGENT_PROJECT_CONNECTION_STRING** = \"Forbindelsesstrengen til dit Azure AI Agent Service-projekt\"\n",
    "\n",
    "  Du kan finde projektets forbindelsesstreng i projektoversigten på AI ​​Foundry Portal-skærmen.\n",
    "\n",
    "- **SERPAPI_SEARCH_API_KEY** = \"Din SERPAPI Search API KEY\"\n",
    "- **SERPAPI_SEARCH_ENDPOINT** = \"Din SERPAPI Search Endpoint\"\n",
    "\n",
    "For at få Model Deployment Name og Project Connection String til Azure AI Agent Service skal du oprette Azure AI Agent Service. Det anbefales at bruge [denne skabelon](https://portal.azure.com/#create/Microsoft.Template/uri/https%3A%2F%2Fraw.githubusercontent.com%2Ffosteramanda%2Fazure-agent-quickstart-templates%2Frefs%2Fheads%2Fmaster%2Fquickstarts%2Fmicrosoft.azure-ai-agent-service%2Fstandard-agent%2Fazuredeploy.json) til at oprette den direkte （***Bemærk:*** Azure AI Agent Service er i øjeblikket begrænset til visse regioner. Det anbefales, at du henviser til [dette link](https://learn.microsoft.com/en-us/azure/ai-services/agents/concepts/model-region-support) for at indstille regionen)\n",
    "\n",
    "Agenten skal have adgang til SERPAPI. Det anbefales at registrere dig via [dette link](https://serpapi.com/searches). Efter registrering kan du få en unik API KEY og ENDPOINT\n"
   ]
  },
  {
   "cell_type": "markdown",
   "metadata": {},
   "source": [
    "# Log ind på Azure\n",
    "\n",
    "Du skal nu logge ind på Azure. Åbn en terminal i VScode og kør kommandoen `az login`.\n"
   ]
  },
  {
   "cell_type": "markdown",
   "metadata": {},
   "source": [
    "# Opsætning\n",
    "\n",
    "For at køre denne notebook skal du installere følgende biblioteker. Her er en liste over de nødvendige biblioteker og de tilsvarende pip-installationskommandoer:\n",
    "\n",
    "azure-identity: Til Azure-autentificering.  \n",
    "requests: Til at lave HTTP-anmodninger.  \n",
    "semantic-kernel: Til det semantiske kerneframework (hvis dette er et brugerdefineret eller specifikt bibliotek, skal du muligvis installere det fra en bestemt kilde eller repository).  \n"
   ]
  },
  {
   "cell_type": "code",
   "execution_count": null,
   "metadata": {},
   "outputs": [],
   "source": [
    "!pip install azure-identity\n",
    "!pip install requests\n",
    "!pip install semantic-kernel\n",
    "!pip install --upgrade semantic_kernel\n",
    "!pip install azure-cli"
   ]
  },
  {
   "cell_type": "markdown",
   "metadata": {},
   "source": [
    "# Forklaring:  \n",
    "import asyncio: Dette importerer asyncio-modulet, som understøtter asynkron programmering i Python. Det giver dig mulighed for at skrive samtidig kode ved hjælp af async- og await-syntaksen.  \n",
    "from typing import Annotated: Dette importerer Annotated-typen fra typing-modulet. Annotated bruges til at tilføje metadata til type hints, hvilket kan være nyttigt til forskellige formål som validering, dokumentation eller værktøjer.  \n"
   ]
  },
  {
   "cell_type": "code",
   "execution_count": null,
   "metadata": {
    "dotnet_interactive": {
     "language": "csharp"
    },
    "polyglot_notebook": {
     "kernelName": "csharp"
    }
   },
   "outputs": [],
   "source": [
    "import asyncio,os\n",
    "from typing import Annotated"
   ]
  },
  {
   "cell_type": "markdown",
   "metadata": {},
   "source": [
    "# Forklaring:\n",
    "Ved at bruge from dotenv import load_dotenv og load_dotenv() kan du nemt håndtere konfigurationsindstillinger og følsomme oplysninger (som API-nøgler og database-URL'er) i en .env-fil. Dette holder dem adskilt fra din kildekode og gør din applikation mere sikker og lettere at konfigurere.\n"
   ]
  },
  {
   "cell_type": "code",
   "execution_count": null,
   "metadata": {},
   "outputs": [],
   "source": [
    "import os\n",
    "from dotenv import load_dotenv\n",
    "\n",
    "# Load environment variables from .env file\n",
    "load_dotenv()"
   ]
  },
  {
   "cell_type": "markdown",
   "metadata": {},
   "source": [
    "# Forklaring:\n",
    "\n",
    "Import-sætning: from azure.identity.aio import DefaultAzureCredential: Dette importerer klassen DefaultAzureCredential fra modulet azure.identity.aio. Den aio del af modulnavnet angiver, at det er designet til asynkrone operationer.\n",
    "\n",
    "Formål med DefaultAzureCredential: Klassen DefaultAzureCredential er en del af Azure SDK for Python. Den giver en standardmetode til autentificering med Azure-tjenester. Den forsøger at autentificere ved hjælp af flere metoder i en specifik rækkefølge, såsom miljøvariabler, administreret identitet og Azure CLI-legitimationsoplysninger.\n",
    "\n",
    "Asynkrone operationer: Aio-modulet angiver, at klassen DefaultAzureCredential understøtter asynkrone operationer. Det betyder, at du kan bruge den med asyncio til at udføre ikke-blokerende autentificeringsanmodninger.\n"
   ]
  },
  {
   "cell_type": "code",
   "execution_count": null,
   "metadata": {
    "dotnet_interactive": {
     "language": "csharp"
    },
    "polyglot_notebook": {
     "kernelName": "csharp"
    }
   },
   "outputs": [],
   "source": [
    "from azure.identity.aio import DefaultAzureCredential"
   ]
  },
  {
   "cell_type": "markdown",
   "metadata": {},
   "source": [
    "# Forklaring:\n",
    "Importer forskellige moduler og klasser fra pakken semantic_kernel. Her er en oversigt over hver import:\n",
    "\n",
    "AgentGroupChat fra semantic_kernel.agents: Denne klasse håndterer funktionaliteter relateret til gruppechat for AI-agenter. AzureAIAgent og AzureAIAgentSettings fra semantic_kernel.agents.azure_ai\n",
    "\n",
    "AzureAIAgent: Denne klasse bruges til at oprette og administrere AI-agenter, der anvender Azure AI-tjenester.\n",
    "\n",
    "AzureAIAgentSettings: Denne klasse bruges til at konfigurere indstillinger for AzureAIAgent. TerminationStrategy fra semantic_kernel.agents.strategies.termination.termination_strategy:\n",
    "\n",
    "Denne klasse definerer strategier for at afslutte udførelsen af AI-agenter under visse betingelser. ChatMessageContent fra semantic_kernel.contents.chat_message_content:\n",
    "\n",
    "Denne klasse bruges til at håndtere indholdet af chatbeskeder.\n",
    "AuthorRole fra semantic_kernel.contents.utils.author_role:\n",
    "\n",
    "Denne klasse definerer forskellige roller for forfattere i konteksten af chatbeskeder.\n",
    "\n",
    "kernel_function fra semantic_kernel.functions.kernel_function_decorator: Denne dekorator bruges til at definere kernel-funktioner, som er funktioner, der kan udføres inden for semantic kernel-rammen.\n",
    "Disse imports opsætter de nødvendige komponenter til at oprette og administrere AI-agenter, der kan interagere i et gruppechatmiljø, muligvis til opgaver som at booke hoteller eller lignende aktiviteter.\n"
   ]
  },
  {
   "cell_type": "code",
   "execution_count": null,
   "metadata": {
    "dotnet_interactive": {
     "language": "csharp"
    },
    "polyglot_notebook": {
     "kernelName": "csharp"
    }
   },
   "outputs": [],
   "source": [
    "from semantic_kernel.agents import AgentGroupChat\n",
    "from semantic_kernel.agents import AzureAIAgent, AzureAIAgentSettings\n",
    "from semantic_kernel.agents.strategies.termination.termination_strategy import TerminationStrategy\n",
    "from semantic_kernel.contents import ChatMessageContent\n",
    "from semantic_kernel.contents import AuthorRole\n",
    "from semantic_kernel.functions.kernel_function_decorator import kernel_function"
   ]
  },
  {
   "cell_type": "markdown",
   "metadata": {},
   "source": [
    "# Forklaring:\n",
    "Dernæst importerer vi klassen CodeInterpreterTool fra modulet azure.ai.projects.models.\n",
    "\n",
    "CodeInterpreterTool: Denne klasse er en del af Azure AI SDK og bruges til at fortolke og udføre kode inden for rammerne af AI-projekter. Den tilbyder funktioner til at køre kodeuddrag, analysere kode eller integrere kodeudførelse i AI-arbejdsgange.  \n",
    "Denne import opsætter den nødvendige komponent til at bruge CodeInterpreterTool i dit projekt, hvilket kan være nyttigt til opgaver, der involverer dynamisk fortolkning og udførelse af kode.\n"
   ]
  },
  {
   "cell_type": "code",
   "execution_count": null,
   "metadata": {
    "dotnet_interactive": {
     "language": "csharp"
    },
    "polyglot_notebook": {
     "kernelName": "csharp"
    }
   },
   "outputs": [],
   "source": [
    "from azure.ai.projects.models import CodeInterpreterTool"
   ]
  },
  {
   "cell_type": "markdown",
   "metadata": {},
   "source": [
    "# Forklaring: \n",
    "ApprovalTerminationStrategy-klassen tilbyder en specifik strategi for at afslutte en AI-agents operation. Agenten vil afslutte, hvis den sidste besked i dens interaktionshistorik indeholder ordet \"gemt\". Dette kan være nyttigt i scenarier, hvor agentens opgave anses for at være fuldført, når den modtager en bekræftelse på, at noget er blevet \"gemt\". Definer interaktionsmetoden. Efter reservationsplanen er gemt, kan den stoppes, når den modtager signalet \"gemt\".\n"
   ]
  },
  {
   "cell_type": "code",
   "execution_count": null,
   "metadata": {
    "dotnet_interactive": {
     "language": "csharp"
    },
    "polyglot_notebook": {
     "kernelName": "csharp"
    }
   },
   "outputs": [],
   "source": [
    "class ApprovalTerminationStrategy(TerminationStrategy):\n",
    "    \"\"\"A strategy for determining when an agent should terminate.\"\"\"\n",
    "\n",
    "    async def should_agent_terminate(self, agent, history):\n",
    "        \"\"\"Check if the agent should terminate.\"\"\"\n",
    "        return \"saved\" in history[-1].content.lower()"
   ]
  },
  {
   "cell_type": "markdown",
   "metadata": {},
   "source": [
    "# Forklaring:\n",
    "\n",
    "Linjen med kode initialiserer et AzureAIAgentSettings-objekt med standard- eller foruddefinerede indstillinger ved at kalde create()-metoden. Dette indstillingsobjekt (ai_agent_settings) kan derefter bruges til at konfigurere og administrere en AzureAIAgent-instans.\n"
   ]
  },
  {
   "cell_type": "code",
   "execution_count": null,
   "metadata": {
    "dotnet_interactive": {
     "language": "csharp"
    },
    "polyglot_notebook": {
     "kernelName": "csharp"
    }
   },
   "outputs": [],
   "source": [
    "ai_agent_settings = AzureAIAgentSettings.create()"
   ]
  },
  {
   "cell_type": "markdown",
   "metadata": {},
   "source": [
    "# Forklaring:\n",
    "Ved at importere biblioteket requests kan du nemt lave HTTP-anmodninger og interagere med webtjenester i din Python-kode.\n"
   ]
  },
  {
   "cell_type": "code",
   "execution_count": null,
   "metadata": {
    "dotnet_interactive": {
     "language": "csharp"
    },
    "polyglot_notebook": {
     "kernelName": "csharp"
    }
   },
   "outputs": [],
   "source": [
    "import requests"
   ]
  },
  {
   "cell_type": "markdown",
   "metadata": {},
   "source": [
    "# Forklaring:\n",
    "Dette er en variabel, der gemmer API-nøglen til adgang til en SERP (Search Engine Results Page) API-tjeneste. En API-nøgle er en unik identifikator, der bruges til at autentificere anmodninger, der er knyttet til din konto.\n",
    "\n",
    "'GOOGLE_SEARCH_API_KEY': Dette er en pladsholder-streng. Du skal erstatte 'GOOGLE_SEARCH_API_KEY' med din faktiske SERP API-nøgle.\n",
    "\n",
    "Formål: Formålet med denne linje er at gemme API-nøglen i en variabel, så den kan bruges til at autentificere anmodninger til SERP API-tjenesten. API-nøglen er nødvendig for at få adgang til tjenesten og udføre søgninger.\n",
    "\n",
    "Sådan får du en SERP API-nøgle: Følg disse generelle trin på https://serpapi.com for at få en SERP API-nøgle (de præcise trin kan variere afhængigt af den specifikke SERP API-tjeneste, du bruger):\n",
    "\n",
    "Vælg en SERP API-tjeneste: Der findes flere SERP API-tjenester, såsom SerpAPI, Google Custom Search JSON API og andre. Vælg den, der bedst opfylder dine behov.\n",
    "\n",
    "Opret en konto:\n",
    "\n",
    "Gå til hjemmesiden for den valgte SERP API-tjeneste https://www.serpapi.com og opret en konto. Du skal muligvis angive nogle grundlæggende oplysninger og bekræfte din e-mailadresse.\n",
    "\n",
    "Opret en API-nøgle:\n",
    "\n",
    "Efter tilmelding skal du logge ind på din konto og navigere til API-sektionen eller dashboardet. Kig efter en mulighed for at oprette eller generere en ny API-nøgle.\n",
    "Kopiér API-nøglen:\n",
    "\n",
    "Når API-nøglen er genereret, skal du kopiere den. Denne nøgle vil blive brugt til at autentificere dine anmodninger til SERP API-tjenesten.\n",
    "Erstat pladsholderen:\n",
    "\n",
    "Erstat pladsholderen i din .env-fil\n"
   ]
  },
  {
   "cell_type": "code",
   "execution_count": null,
   "metadata": {
    "dotnet_interactive": {
     "language": "csharp"
    },
    "polyglot_notebook": {
     "kernelName": "csharp"
    }
   },
   "outputs": [],
   "source": [
    "SERPAPI_SEARCH_API_KEY=os.getenv('SERPAPI_SEARCH_API_KEY')"
   ]
  },
  {
   "cell_type": "code",
   "execution_count": null,
   "metadata": {
    "dotnet_interactive": {
     "language": "csharp"
    },
    "polyglot_notebook": {
     "kernelName": "csharp"
    }
   },
   "outputs": [],
   "source": [
    "SERPAPI_SEARCH_ENDPOINT = os.getenv('SERPAPI_SEARCH_ENDPOINT')"
   ]
  },
  {
   "cell_type": "markdown",
   "metadata": {},
   "source": [
    "# Forklaring:\n",
    "BookingPlugin-klassen tilbyder metoder til at booke hoteller og fly ved hjælp af Serpapi.com Google Search API. Den opretter de nødvendige parametre, sender API-forespørgsler og behandler svarene for at returnere relevant bookinginformation. API-nøglen (SERPAPI_SEARCH_API_KEY) og endpointet (SERPAPI_SEARCH_ENDPOINT) bruges til at autentificere og sende forespørgsler til Google Search API.\n"
   ]
  },
  {
   "cell_type": "code",
   "execution_count": null,
   "metadata": {
    "dotnet_interactive": {
     "language": "csharp"
    },
    "polyglot_notebook": {
     "kernelName": "csharp"
    }
   },
   "outputs": [],
   "source": [
    "# Define Booking Plugin\n",
    "class BookingPlugin:\n",
    "    \"\"\"Booking Plugin for customers\"\"\"\n",
    "    @kernel_function(description=\"booking hotel\")\n",
    "    def booking_hotel(self,query: Annotated[str, \"The name of the city\"], check_in_date: Annotated[str, \"Hotel Check-in Time\"], check_out_date: Annotated[str, \"Hotel Check-in Time\"])-> Annotated[str, \"Return the result of booking hotel infomation\"]:\n",
    "\n",
    "        params = {\n",
    "            \"engine\": \"google_hotels\",\n",
    "            \"q\": query,\n",
    "            \"check_in_date\": check_in_date,\n",
    "            \"check_out_date\": check_out_date,\n",
    "            \"adults\": \"2\",\n",
    "            \"currency\": \"USD\",\n",
    "            \"gl\": \"us\",\n",
    "            \"hl\": \"en\",\n",
    "            \"api_key\": SERPAPI_SEARCH_API_KEY\n",
    "        }\n",
    "\n",
    "        response = requests.get(SERPAPI_SEARCH_ENDPOINT, params=params)\n",
    "        if response.status_code == 200:\n",
    "            response = response.json()\n",
    "            return response[\"properties\"]\n",
    "        else:\n",
    "            return None\n",
    "\n",
    "    \n",
    "    @kernel_function(description=\"booking fight\")\n",
    "    def  booking_fight(self,origin: Annotated[str, \"The name of Departure\"], destination: Annotated[str, \"The name of Destination\"], outbound_date: Annotated[str, \"The date of outbound\"], return_date: Annotated[str, \"The date of Return_date\"])-> Annotated[str, \"Return the result of booking fight infomation\"]:\n",
    "        \n",
    "        go_params = {\n",
    "            \"engine\": \"google_flights\",   \n",
    "            \"departure_id\": origin,\n",
    "            \"arrival_id\": destination,\n",
    "            \"outbound_date\": outbound_date,\n",
    "            \"return_date\": return_date,  \n",
    "            \"currency\": \"USD\",\n",
    "            \"hl\": \"en\",\n",
    "            \"api_key\": SERPAPI_SEARCH_API_KEY  \n",
    "        }\n",
    "\n",
    "        print(go_params)\n",
    "\n",
    "        go_response = requests.get(SERPAPI_SEARCH_ENDPOINT, params=go_params)\n",
    "\n",
    "\n",
    "        result = ''\n",
    "\n",
    "        if go_response.status_code == 200:\n",
    "            response = go_response.json()\n",
    "\n",
    "            result += \"# outbound \\n \" + str(response)\n",
    "        else:\n",
    "            print('error!!!')\n",
    "            # return None\n",
    "\n",
    "        \n",
    "        back_params = {\n",
    "            \"engine\": \"google_flights\",   \n",
    "            \"departure_id\": destination,\n",
    "            \"arrival_id\": origin,\n",
    "            \"outbound_date\": return_date,\n",
    "            \"return_date\": return_date,  \n",
    "            \"currency\": \"USD\",\n",
    "            \"hl\": \"en\",\n",
    "            \"api_key\": SERPAPI_SEARCH_API_KEY  \n",
    "        }\n",
    "\n",
    "\n",
    "        print(back_params)\n",
    "\n",
    "\n",
    "        back_response = requests.get(SERPAPI_SEARCH_ENDPOINT, params=back_params)\n",
    "\n",
    "\n",
    "\n",
    "        if back_response.status_code == 200:\n",
    "            response = back_response.json()\n",
    "\n",
    "            result += \"\\n # return \\n\"  + str(response)\n",
    "\n",
    "        else:\n",
    "            print('error!!!')\n",
    "            # return None\n",
    "        \n",
    "        print(result)\n",
    "\n",
    "        return result\n",
    "\n",
    "        \n"
   ]
  },
  {
   "cell_type": "markdown",
   "metadata": {},
   "source": [
    "# Forklaring:\n",
    "SavePlugin-klassen tilbyder en metode, saving_plan, til at gemme rejseplaner ved hjælp af Azure AI-tjenester. Den opsætter Azure-legitimationsoplysninger, opretter en AI-agent, behandler brugerinput for at generere og gemme indholdet af rejseplanen og håndterer filgemning og oprydningsoperationer. Metoden returnerer \"Saved\" ved vellykket gennemførelse.\n"
   ]
  },
  {
   "cell_type": "code",
   "execution_count": null,
   "metadata": {
    "dotnet_interactive": {
     "language": "csharp"
    },
    "polyglot_notebook": {
     "kernelName": "csharp"
    }
   },
   "outputs": [],
   "source": [
    "class SavePlugin:\n",
    "    \"\"\"Save Plugin for customers\"\"\"\n",
    "    @kernel_function(description=\"saving plan\")\n",
    "    async def saving_plan(self,tripplan: Annotated[str, \"The content of trip plan\"])-> Annotated[str, \"Return status of save content\"]:\n",
    "\n",
    "        async with (\n",
    "            DefaultAzureCredential() as creds,\n",
    "            AzureAIAgent.create_client(\n",
    "                credential=creds,\n",
    "                conn_str=ai_agent_settings.project_connection_string.get_secret_value(),\n",
    "            ) as client,\n",
    "        ):\n",
    "\n",
    "            code_interpreter = CodeInterpreterTool()\n",
    "            \n",
    "            agent_definition = await client.agents.create_agent(\n",
    "                model=ai_agent_settings.model_deployment_name,\n",
    "                tools=code_interpreter.definitions,\n",
    "                tool_resources=code_interpreter.resources,\n",
    "            )\n",
    "\n",
    "\n",
    "            agent = AzureAIAgent(\n",
    "                client=client,\n",
    "                definition=agent_definition,\n",
    "            )\n",
    "\n",
    "            thread = await client.agents.create_thread()\n",
    "\n",
    "\n",
    "            user_inputs = [\n",
    "                \"\"\"\n",
    "            \n",
    "                        You are my Python programming assistant. Generate code,save \"\"\"+ tripplan +\n",
    "                        \n",
    "                    \"\"\"    \n",
    "                        and execute it according to the following requirements\n",
    "\n",
    "                        1. Save blog content to trip-{YYMMDDHHMMSS}.md\n",
    "\n",
    "                        2. give me the download this file link\n",
    "                    \"\"\"\n",
    "            ]\n",
    "\n",
    "\n",
    "\n",
    "            try:\n",
    "                for user_input in user_inputs:\n",
    "                    # Add the user input as a chat message\n",
    "                    await agent.add_chat_message(\n",
    "                        thread_id=thread.id, message=ChatMessageContent(role=AuthorRole.USER, content=user_input)\n",
    "                    )\n",
    "                    print(f\"# User: '{user_input}'\")\n",
    "                    # Invoke the agent for the specified thread\n",
    "                    async for content in agent.invoke(thread_id=thread.id):\n",
    "                        if content.role != AuthorRole.TOOL:\n",
    "                            print(f\"# Agent: {content.content}\")\n",
    "\n",
    "                    \n",
    "                    messages = await client.agents.list_messages(thread_id=thread.id)\n",
    "\n",
    "                    # OpenAIPageableListOfThreadMessage\n",
    "                    # OpenAIPageableListOfThreadMessage\n",
    "\n",
    "\n",
    "                    for file_path_annotation in messages.file_path_annotations:\n",
    "\n",
    "                            file_name = os.path.basename(file_path_annotation.text)\n",
    "\n",
    "                            await client.agents.save_file(file_id=file_path_annotation.file_path.file_id, file_name=file_name,target_dir=\"./trip\")\n",
    "\n",
    "                    \n",
    "            finally:\n",
    "                await client.agents.delete_thread(thread.id)\n",
    "                await client.agents.delete_agent(agent.id)\n",
    "\n",
    "\n",
    "        return \"Saved\""
   ]
  },
  {
   "cell_type": "markdown",
   "metadata": {},
   "source": [
    "# Forklaring:\n",
    "Denne kode opsætter Azure AI-agenter til at håndtere booking af fly og hoteller samt gemme rejseplaner baseret på brugerinput. Den bruger Azure-legitimationsoplysninger til at oprette og konfigurere agenterne, behandler brugerinput gennem en gruppechat og sikrer korrekt oprydning efter opgaverne er afsluttet. Agenterne bruger specifikke plugins (BookingPlugin og SavePlugin) til at udføre deres respektive opgaver.\n"
   ]
  },
  {
   "cell_type": "code",
   "execution_count": null,
   "metadata": {
    "dotnet_interactive": {
     "language": "csharp"
    },
    "polyglot_notebook": {
     "kernelName": "csharp"
    }
   },
   "outputs": [],
   "source": [
    "async with (\n",
    "    DefaultAzureCredential() as creds,\n",
    "    AzureAIAgent.create_client(\n",
    "        credential=creds,\n",
    "        conn_str=ai_agent_settings.project_connection_string.get_secret_value(),\n",
    "    ) as client,\n",
    "):\n",
    "    BOOKING_AGENT_NAME = \"BookingAgent\"\n",
    "    BOOKING_AGENT_INSTRUCTIONS = \"\"\"\n",
    "    You are a booking agent. Help me book flights or hotels.\n",
    "\n",
    "    Thought: Please understand the user's intention and confirm whether to use the reservation system to complete the task.\n",
    "\n",
    "    Actions:\n",
    "    - For flight bookings, convert the departure and destination names into airport codes.\n",
    "    - Use the appropriate API for hotel or flight bookings. Verify that all necessary parameters are available. If any parameters are missing, ask the user to provide them. If all parameters are complete, call the corresponding function.\n",
    "    - If the task is not related to hotel or flight booking, respond with the final answer only.\n",
    "    - Output the results using a markdown table:\n",
    "      - For flight bookings, output separate outbound and return contents in the order of:\n",
    "        Departure Airport | Airline | Flight Number | Departure Time | Arrival Airport | Arrival Time | Duration | Airplane | Travel Class | Price (USD) | Legroom | Extensions | Carbon Emissions (kg).\n",
    "      - For hotel bookings, output in the order of:\n",
    "        Property Name | Property Description | Check-in Time | Check-out Time | Prices | Nearby Places | Hotel Class | GPS Coordinates.\n",
    "    \"\"\"\n",
    "\n",
    "    SAVE_AGENT_NAME = \"SaveAgent\"\n",
    "    SAVE_AGENT_INSTRUCTIONS = \"\"\"\n",
    "    You are a save tool agent. Help me to save the trip plan.\n",
    "    \"\"\"\n",
    "\n",
    "    # Create agent definition\n",
    "    booking_agent_definition = await client.agents.create_agent(\n",
    "        model=ai_agent_settings.model_deployment_name,\n",
    "        name=BOOKING_AGENT_NAME,\n",
    "        instructions=BOOKING_AGENT_INSTRUCTIONS,\n",
    "    )\n",
    "\n",
    "    # Create the AzureAI Agent\n",
    "    booking_agent = AzureAIAgent(\n",
    "        client=client,\n",
    "        definition=booking_agent_definition,\n",
    "        # Optionally configure polling options\n",
    "        # polling_options=RunPollingOptions(run_polling_interval=timedelta(seconds=1)),\n",
    "    )\n",
    "\n",
    "    # Add the sample plugin to the kernel\n",
    "    booking_agent.kernel.add_plugin(BookingPlugin(), plugin_name=\"booking\")\n",
    "\n",
    "    # Create agent definition\n",
    "    save_agent_definition = await client.agents.create_agent(\n",
    "        model=ai_agent_settings.model_deployment_name,\n",
    "        name=SAVE_AGENT_NAME,\n",
    "        instructions=SAVE_AGENT_INSTRUCTIONS\n",
    "    )\n",
    "\n",
    "    # Create the AzureAI Agent\n",
    "    save_agent = AzureAIAgent(\n",
    "        client=client,\n",
    "        definition=save_agent_definition,\n",
    "    )\n",
    "\n",
    "    save_agent.kernel.add_plugin(SavePlugin(), plugin_name=\"saving\")\n",
    "\n",
    "    user_inputs = [\n",
    "        \"I have a business trip from London to New York in Feb 20 2025 to Feb 27 2025 ,help me to book a hotel and fight tickets and save it\"\n",
    "    ]\n",
    "\n",
    "    chat = AgentGroupChat(\n",
    "        agents=[booking_agent, save_agent],\n",
    "        termination_strategy=ApprovalTerminationStrategy(agents=[save_agent], maximum_iterations=10),\n",
    "    )\n",
    "\n",
    "    try:\n",
    "        for user_input in user_inputs:\n",
    "            # Add the user input as a chat message\n",
    "            await chat.add_chat_message(\n",
    "                ChatMessageContent(role=AuthorRole.USER, content=user_input)\n",
    "            )\n",
    "            print(f\"# User: '{user_input}'\")\n",
    "\n",
    "            async for content in chat.invoke():\n",
    "                print(f\"# {content.role} - {content.name or '*'}: '{content.content}'\")\n",
    "\n",
    "            print(f\"# IS COMPLETE: {chat.is_complete}\")\n",
    "\n",
    "            print(\"*\" * 60)\n",
    "            print(\"Chat History (In Descending Order):\\n\")\n",
    "            async for message in chat.get_chat_messages(agent=save_agent):\n",
    "                print(f\"# {message.role} - {message.name or '*'}: '{message.content}'\")\n",
    "    finally:\n",
    "        await chat.reset()\n",
    "        await client.agents.delete_agent(save_agent.id)\n",
    "        await client.agents.delete_agent(booking_agent.id)\n"
   ]
  },
  {
   "cell_type": "markdown",
   "metadata": {},
   "source": [
    "\n---\n\n**Ansvarsfraskrivelse**:  \nDette dokument er blevet oversat ved hjælp af AI-oversættelsestjenesten [Co-op Translator](https://github.com/Azure/co-op-translator). Selvom vi bestræber os på nøjagtighed, skal du være opmærksom på, at automatiserede oversættelser kan indeholde fejl eller unøjagtigheder. Det originale dokument på dets oprindelige sprog bør betragtes som den autoritative kilde. For kritisk information anbefales professionel menneskelig oversættelse. Vi er ikke ansvarlige for eventuelle misforståelser eller fejltolkninger, der opstår som følge af brugen af denne oversættelse.\n"
   ]
  }
 ],
 "metadata": {
  "kernelspec": {
   "display_name": "3.12.1",
   "language": "python",
   "name": "python3"
  },
  "language_info": {
   "codemirror_mode": {
    "name": "ipython",
    "version": 3
   },
   "file_extension": ".py",
   "mimetype": "text/x-python",
   "name": "python",
   "nbconvert_exporter": "python",
   "pygments_lexer": "ipython3",
   "version": "3.12.1"
  },
  "polyglot_notebook": {
   "kernelInfo": {
    "defaultKernelName": "csharp",
    "items": [
     {
      "aliases": [],
      "name": "csharp"
     }
    ]
   }
  },
  "coopTranslator": {
   "original_hash": "1baa60020a95eda27b7e9ecfda99965b",
   "translation_date": "2025-08-29T16:36:44+00:00",
   "source_file": "08-multi-agent/code_samples/08-python_multi_aiagent_bookinghotel.ipynb",
   "language_code": "da"
  }
 },
 "nbformat": 4,
 "nbformat_minor": 2
}