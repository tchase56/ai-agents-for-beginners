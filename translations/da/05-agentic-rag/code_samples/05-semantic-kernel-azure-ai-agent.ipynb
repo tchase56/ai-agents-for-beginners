{
 "cells": [
  {
   "cell_type": "markdown",
   "metadata": {},
   "source": [
    "# RAG Brug af Azure AI Agent Service & Semantic Kernel\n",
    "\n",
    "Denne kodeeksempel viser, hvordan man opretter og administrerer en Azure AI-agent til retrieval-augmented generation (RAG) ved hjælp af `Azure AI Agent Service` og `Semantic Kernel`. Agenten behandler brugerforespørgsler baseret på den hentede kontekst og giver præcise svar derefter.\n"
   ]
  },
  {
   "cell_type": "markdown",
   "metadata": {},
   "source": []
  },
  {
   "cell_type": "markdown",
   "metadata": {},
   "source": [
    "SQLite Version Fix  \n",
    "Hvis du støder på fejlen:  \n",
    "```\n",
    "RuntimeError: Your system has an unsupported version of sqlite3. Chroma requires sqlite3 >= 3.35.0\n",
    "```  \n",
    "\n",
    "Fjern kommenteringen af denne kodeblok i starten af din notebook:  \n"
   ]
  },
  {
   "cell_type": "code",
   "execution_count": null,
   "metadata": {},
   "outputs": [],
   "source": [
    "# %pip install pysqlite3-binary\n",
    "# __import__('pysqlite3')\n",
    "# import sys\n",
    "# sys.modules['sqlite3'] = sys.modules.pop('pysqlite3')"
   ]
  },
  {
   "cell_type": "markdown",
   "metadata": {},
   "source": [
    "### Importering af pakker\n",
    "Den følgende kode importerer de nødvendige pakker:\n"
   ]
  },
  {
   "cell_type": "code",
   "execution_count": null,
   "metadata": {},
   "outputs": [],
   "source": [
    "# Azure imports for project client and credentials\n",
    "from azure.ai.projects.models import FileSearchTool, OpenAIFile, VectorStore\n",
    "from azure.identity.aio import DefaultAzureCredential\n",
    "\n",
    "# Semantic Kernel imports\n",
    "from semantic_kernel.agents import AzureAIAgent, AzureAIAgentThread"
   ]
  },
  {
   "cell_type": "markdown",
   "metadata": {},
   "source": [
    "# Retrieval-Augmented Generation med Semantic Kernel & Azure AI Agent Service\n",
    "\n",
    "Dette eksempel demonstrerer, hvordan man bruger **Azure AI Agent Service** til at udføre **Retrieval-Augmented Generation (RAG)** ved at kombinere en sprogmodel med domænespecifik kontekst fra et uploadet dokument.\n",
    "\n",
    "### Sådan fungerer det\n",
    "\n",
    "1. **Dokumentupload**: En markdown-fil (document.md), der indeholder information (Contosos rejseforsikringspolitik), uploades til agenttjenesten.\n",
    "\n",
    "2. **Oprettelse af vektorlager**: Dokumentet indekseres i et vektorlager for at muliggøre semantisk søgning i dets indhold.\n",
    "\n",
    "3. **Agentkonfiguration**: En agent oprettes ved hjælp af `gpt-4o`-modellen med følgende strenge instruktioner:\n",
    "   - Besvar kun spørgsmål baseret på hentet indhold fra dokumentet.\n",
    "   - Afvis at besvare, hvis spørgsmålet ligger uden for dokumentets rammer.\n",
    "\n",
    "4. **Integration af File Search Tool**: `FileSearchTool` registreres hos agenten, hvilket gør det muligt for modellen at søge og hente relevante uddrag fra det indekserede dokument under inferens.\n",
    "\n",
    "5. **Brugerinteraktion**: Brugere kan stille spørgsmål. Hvis relevant information findes i dokumentet, genererer agenten et velunderbygget svar.  \n",
    "   Hvis ikke, svarer agenten eksplicit, at dokumentet ikke indeholder tilstrækkelig information.\n"
   ]
  },
  {
   "cell_type": "markdown",
   "metadata": {},
   "source": [
    "### Hovedfunktion\n",
    "\n",
    "```python\n",
    "def main():\n",
    "    # Initialiserer programmet\n",
    "    print(\"Velkommen til programmet!\")\n",
    "\n",
    "    # Kalder hjælpefunktionen\n",
    "    helper_function()\n",
    "```\n",
    "\n",
    "### Hjælpefunktion\n",
    "\n",
    "```python\n",
    "def helper_function():\n",
    "    # Udfører en simpel opgave\n",
    "    print(\"Hjælpefunktionen er blevet kaldt.\")\n",
    "```\n",
    "\n",
    "### Fejlhåndtering\n",
    "\n",
    "```python\n",
    "try:\n",
    "    # Forsøger at udføre en opgave\n",
    "    result = perform_task()\n",
    "except Exception as e:\n",
    "    # Håndterer fejl\n",
    "    print(f\"En fejl opstod: {e}\")\n",
    "```\n",
    "\n",
    "### Konklusion\n",
    "\n",
    "```python\n",
    "if __name__ == \"__main__\":\n",
    "    # Starter hovedfunktionen\n",
    "    main()\n",
    "```\n"
   ]
  },
  {
   "cell_type": "markdown",
   "metadata": {},
   "source": [
    "Sørg for først at køre `az login` ved hjælp af Azure CLI, så den korrekte autentificeringskontekst leveres, når du bruger `DefaultAzureCredential`. Azure AI Agent Service bruger ikke API-nøgler.\n"
   ]
  },
  {
   "cell_type": "code",
   "execution_count": null,
   "metadata": {},
   "outputs": [],
   "source": [
    "async def main():\n",
    "    async with (\n",
    "        DefaultAzureCredential() as creds,\n",
    "        AzureAIAgent.create_client(credential=creds) as client,\n",
    "    ):\n",
    "        file: OpenAIFile = await client.agents.upload_file_and_poll(file_path=\"document.md\", purpose=\"assistants\")\n",
    "        vector_store: VectorStore = await client.agents.create_vector_store_and_poll(\n",
    "            file_ids=[file.id], name=\"my_vectorstore\"\n",
    "        )\n",
    "\n",
    "        # Define agent name and instructions tailored for RAG.\n",
    "        AGENT_NAME = \"RAGAgent\"\n",
    "        AGENT_INSTRUCTIONS = \"\"\"\n",
    "        You are an AI assistant designed to answer user questions using only the information retrieved from the provided document(s).\n",
    "\n",
    "        - If a user's question cannot be answered using the retrieved context, **you must clearly respond**: \n",
    "        \"I'm sorry, but the uploaded document does not contain the necessary information to answer that question.\"\n",
    "        - Do not answer from general knowledge or reasoning. Do not make assumptions or generate hypothetical explanations.\n",
    "        - Do not provide definitions, tutorials, or commentary that is not explicitly grounded in the content of the uploaded file(s).\n",
    "        - If a user asks a question like \"What is a Neural Network?\", and this is not discussed in the uploaded document, respond as instructed above.\n",
    "        - For questions that do have relevant content in the document (e.g., Contoso's travel insurance coverage), respond accurately, and cite the document explicitly.\n",
    "\n",
    "        You must behave as if you have no external knowledge beyond what is retrieved from the uploaded document.\n",
    "        \"\"\"\n",
    "\n",
    "        \n",
    "        # Create file search tool with uploaded resources\n",
    "        file_search = FileSearchTool(vector_store_ids=[vector_store.id])\n",
    "\n",
    "        # 3. Create an agent on the Azure AI agent service with the file search tool\n",
    "        agent_definition = await client.agents.create_agent(\n",
    "            model=\"gpt-4o\",  # This model should match your Azure OpenAI deployment.\n",
    "            name=AGENT_NAME,\n",
    "            instructions=AGENT_INSTRUCTIONS,\n",
    "            tools=file_search.definitions,\n",
    "            tool_resources=file_search.resources,\n",
    "        )\n",
    "        \n",
    "        # Create the Azure AI Agent using the client and definition.\n",
    "        agent = AzureAIAgent(\n",
    "            client=client,\n",
    "            definition=agent_definition,\n",
    "        )\n",
    "        \n",
    "        # Create a thread to hold the conversation\n",
    "        # If no thread is provided, a new thread will be\n",
    "        # created and returned with the initial response\n",
    "        thread: AzureAIAgentThread | None = None\n",
    "        \n",
    "        # Example user queries.\n",
    "        user_inputs = [\n",
    "            \"Can you explain Contoso's travel insurance coverage?\",  # Relevant context.\n",
    "            \"What is a Neural Network?\"  # No relevant context from the document. Will not contain a source annotation.\n",
    "        ]\n",
    "        \n",
    "        try:\n",
    "            for user_input in user_inputs:\n",
    "                print(f\"# User: '{user_input}'\")\n",
    "                # Invoke the agent for the specified thread for response\n",
    "                async for response in agent.invoke(messages=user_input, thread=thread):\n",
    "                    print(f\"# {response.name}: {response}\")\n",
    "                    thread = response.thread\n",
    "        finally:\n",
    "            # Clean up resources.\n",
    "            await thread.delete() if thread else None\n",
    "            await client.agents.delete_vector_store(vector_store.id)\n",
    "            await client.agents.delete_file(file.id)\n",
    "            await client.agents.delete_agent(agent.id)\n",
    "            print(\"\\nCleaned up agent, thread, file, and vector store.\")\n",
    "\n",
    "await main()"
   ]
  },
  {
   "cell_type": "markdown",
   "metadata": {},
   "source": [
    "Understood! Please provide the markdown file you'd like me to translate.\n"
   ]
  },
  {
   "cell_type": "markdown",
   "metadata": {},
   "source": [
    "\n---\n\n**Ansvarsfraskrivelse**:  \nDette dokument er blevet oversat ved hjælp af AI-oversættelsestjenesten [Co-op Translator](https://github.com/Azure/co-op-translator). Selvom vi bestræber os på at opnå nøjagtighed, skal du være opmærksom på, at automatiserede oversættelser kan indeholde fejl eller unøjagtigheder. Det originale dokument på dets oprindelige sprog bør betragtes som den autoritative kilde. For kritisk information anbefales professionel menneskelig oversættelse. Vi påtager os ikke ansvar for eventuelle misforståelser eller fejltolkninger, der opstår som følge af brugen af denne oversættelse.\n"
   ]
  }
 ],
 "metadata": {
  "kernelspec": {
   "display_name": ".venv",
   "language": "python",
   "name": "python3"
  },
  "language_info": {
   "codemirror_mode": {
    "name": "ipython",
    "version": 3
   },
   "file_extension": ".py",
   "mimetype": "text/x-python",
   "name": "python",
   "nbconvert_exporter": "python",
   "pygments_lexer": "ipython3",
   "version": "3.11.11"
  },
  "coopTranslator": {
   "original_hash": "a86c3ddfbe35024993bbf563588aad48",
   "translation_date": "2025-08-29T16:50:31+00:00",
   "source_file": "05-agentic-rag/code_samples/05-semantic-kernel-azure-ai-agent.ipynb",
   "language_code": "da"
  }
 },
 "nbformat": 4,
 "nbformat_minor": 2
}